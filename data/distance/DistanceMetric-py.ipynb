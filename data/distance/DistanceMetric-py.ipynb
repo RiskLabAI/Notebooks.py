{
  "cells": [
    {
      "cell_type": "markdown",
      "metadata": {},
      "source": [
        "# Import"
      ]
    },
    {
      "cell_type": "code",
      "execution_count": 1,
      "metadata": {},
      "outputs": [],
      "source": [
        "import numpy as np,scipy.stats as ss\n",
        "import yfinance as yf\n",
        "import math\n",
        "from sklearn.metrics import mutual_info_score\n",
        "import matplotlib.pyplot as plt"
      ]
    },
    {
      "cell_type": "markdown",
      "metadata": {},
      "source": [
        "# Import py file"
      ]
    },
    {
      "cell_type": "code",
      "execution_count": 2,
      "metadata": {},
      "outputs": [],
      "source": [
        "from DistanceMetric import*"
      ]
    },
    {
      "cell_type": "markdown",
      "metadata": {},
      "source": [
        "# Data"
      ]
    },
    {
      "cell_type": "code",
      "execution_count": 3,
      "metadata": {},
      "outputs": [],
      "source": [
        "x = yf.Ticker(\"AAPL\").history(start = \"2020-01-01\")['Close']\n",
        "y = yf.Ticker(\"TSLA\").history(start = \"2020-01-01\")['Close']"
      ]
    },
    {
      "cell_type": "markdown",
      "metadata": {},
      "source": [
        "# Snippet 3-1"
      ]
    },
    {
      "cell_type": "code",
      "execution_count": 4,
      "metadata": {},
      "outputs": [],
      "source": [
        "cXY = np.histogram2d(x, y)[0]\n",
        "hX = ss.entropy(np.histogram(x)[0]) # marginal\n",
        "hY = ss.entropy(np.histogram(y)[0]) # marginal\n",
        "iXY = mutual_info_score(None, None, contingency = cXY)\n",
        "iXYn = iXY/min(hX, hY) # normalized mutual information\n",
        "hXY = hX + hY - iXY # joint\n",
        "hX_Y = hXY - hY # conditional\n",
        "hY_X = hXY - hX # conditional"
      ]
    },
    {
      "cell_type": "markdown",
      "metadata": {},
      "source": [
        "# Snippet 3-2"
      ]
    },
    {
      "cell_type": "code",
      "execution_count": 5,
      "metadata": {},
      "outputs": [
        {
          "data": {
            "text/plain": [
              "0.6184557986910878"
            ]
          },
          "execution_count": 5,
          "metadata": {},
          "output_type": "execute_result"
        }
      ],
      "source": [
        "variationsInformation(x, y, bins = 10, norm = True)"
      ]
    },
    {
      "cell_type": "markdown",
      "metadata": {},
      "source": [
        "# Snippet 3-3"
      ]
    },
    {
      "cell_type": "code",
      "execution_count": 6,
      "metadata": {},
      "outputs": [
        {
          "data": {
            "text/plain": [
              "0.6438693397531509"
            ]
          },
          "execution_count": 6,
          "metadata": {},
          "output_type": "execute_result"
        }
      ],
      "source": [
        "variationsInformationExtended(x, y, norm = True)"
      ]
    },
    {
      "cell_type": "markdown",
      "metadata": {},
      "source": [
        "# Snippet 3-4"
      ]
    },
    {
      "cell_type": "code",
      "execution_count": 7,
      "metadata": {},
      "outputs": [
        {
          "data": {
            "text/plain": [
              "(0.001496837406727637, 0.006764619108279091)"
            ]
          },
          "execution_count": 7,
          "metadata": {},
          "output_type": "execute_result"
        }
      ],
      "source": [
        "size, seed = 5000, 0\n",
        "np.random.seed(seed)\n",
        "x = np.random.normal(size = size)\n",
        "e = np.random.normal(size = size)\n",
        "y = 0*x + e\n",
        "nmi = mutualInformation(x,y,True)\n",
        "corr = np.corrcoef(x,y)[0,1]\n",
        "(corr, nmi)"
      ]
    },
    {
      "cell_type": "code",
      "execution_count": 42,
      "metadata": {},
      "outputs": [
        {
          "data": {
            "image/png": "[encoded data removed]",
            "text/plain": [
              "<Figure size 432x288 with 1 Axes>"
            ]
          },
          "metadata": {
            "needs_background": "light"
          },
          "output_type": "display_data"
        }
      ],
      "source": [
        "plt.scatter(x, y)\n",
        "plt.show()"
      ]
    },
    {
      "cell_type": "code",
      "execution_count": 9,
      "metadata": {},
      "outputs": [
        {
          "data": {
            "text/plain": [
              "(0.9999999949550481, 0.9949768013924747)"
            ]
          },
          "execution_count": 9,
          "metadata": {},
          "output_type": "execute_result"
        }
      ],
      "source": [
        "size, seed = 5000, 0\n",
        "np.random.seed(seed)\n",
        "x = np.random.normal(size = size)\n",
        "e = np.random.normal(size = size)\n",
        "y = 10000*x + e\n",
        "nmi = mutualInformation(x, y, True)\n",
        "corr = np.corrcoef(x, y)[0, 1]\n",
        "(corr, nmi)"
      ]
    },
    {
      "cell_type": "code",
      "execution_count": 44,
      "metadata": {},
      "outputs": [
        {
          "data": {
            "image/png": "[encoded data removed]",
            "text/plain": [
              "<Figure size 432x288 with 1 Axes>"
            ]
          },
          "metadata": {
            "needs_background": "light"
          },
          "output_type": "display_data"
        }
      ],
      "source": [
        "plt.scatter(x, y)\n",
        "plt.show()"
      ]
    },
    {
      "cell_type": "code",
      "execution_count": 10,
      "metadata": {},
      "outputs": [
        {
          "data": {
            "text/plain": [
              "(-0.007989423072464788, 0.6456262346759295)"
            ]
          },
          "execution_count": 10,
          "metadata": {},
          "output_type": "execute_result"
        }
      ],
      "source": [
        "size, seed=5000, 0\n",
        "np.random.seed(seed)\n",
        "x = np.random.normal(size = size)\n",
        "e = np.random.normal(size = size)\n",
        "y = 10000*abs(x) + e\n",
        "nmi = mutualInformation(x, y, True)\n",
        "corr = np.corrcoef(x, y)[0, 1]\n",
        "(corr, nmi)"
      ]
    },
    {
      "cell_type": "code",
      "execution_count": 46,
      "metadata": {},
      "outputs": [
        {
          "data": {
            "image/png": "[encoded data removed]",
            "text/plain": [
              "<Figure size 432x288 with 1 Axes>"
            ]
          },
          "metadata": {
            "needs_background": "light"
          },
          "output_type": "display_data"
        }
      ],
      "source": [
        "plt.scatter(x, y)\n",
        "plt.show()"
      ]
    }
  ],
  "metadata": {
    "colab": {
      "collapsed_sections": [],
      "name": "HRP.ipynb",
      "provenance": []
    },
    "kernelspec": {
      "display_name": "Python 3.9.7 ('base')",
      "language": "python",
      "name": "python3"
    },
    "language_info": {
      "codemirror_mode": {
        "name": "ipython",
        "version": 3
      },
      "file_extension": ".py",
      "mimetype": "text/x-python",
      "name": "python",
      "nbconvert_exporter": "python",
      "pygments_lexer": "ipython3",
      "version": "3.9.7"
    },
    "vscode": {
      "interpreter": {
        "hash": "c21a52766aa10df27869f3b88192d900d8e6970e79b7c5a99ed61723a79be36c"
      }
    }
  },
  "nbformat": 4,
  "nbformat_minor": 0
}
