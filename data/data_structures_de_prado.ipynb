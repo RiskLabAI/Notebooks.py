{
 "cells": [
  {
   "cell_type": "markdown",
   "metadata": {},
   "source": [
    "# Import libraries"
   ]
  },
  {
   "cell_type": "code",
   "execution_count": 67,
   "metadata": {},
   "outputs": [],
   "source": [
    "import pandas as pd\n",
    "import numpy as np \n",
    "import datetime\n",
    "import time\n",
    "import sys\n",
    "from scipy import stats\n",
    "from statsmodels.stats import stattools"
   ]
  },
  {
   "cell_type": "markdown",
   "metadata": {},
   "source": [
    "# Include py file"
   ]
  },
  {
   "cell_type": "code",
   "execution_count": 81,
   "metadata": {},
   "outputs": [
    {
     "name": "stderr",
     "output_type": "stream",
     "text": [
      "Cloning into 'RiskLabAI.py'...\n"
     ]
    }
   ],
   "source": [
    "# !rmdir /s /q RiskLabAI.py\n",
    "!git clone https://github.com/RiskLabAI/RiskLabAI.py.git"
   ]
  },
  {
   "cell_type": "code",
   "execution_count": 82,
   "metadata": {},
   "outputs": [],
   "source": [
    "import sys\n",
    "sys.path.append('./RiskLabAI')\n",
    "from RiskLabAI.data.structures import *"
   ]
  },
  {
   "cell_type": "code",
   "execution_count": 83,
   "metadata": {},
   "outputs": [],
   "source": [
    "import RiskLabAI as risklab\n",
    "# from RiskLabAI import *"
   ]
  },
  {
   "cell_type": "markdown",
   "metadata": {},
   "source": [
    "# Import Tick data"
   ]
  },
  {
   "cell_type": "code",
   "execution_count": 58,
   "metadata": {},
   "outputs": [
    {
     "data": {
      "text/html": [
       "<div>\n",
       "<style scoped>\n",
       "    .dataframe tbody tr th:only-of-type {\n",
       "        vertical-align: middle;\n",
       "    }\n",
       "\n",
       "    .dataframe tbody tr th {\n",
       "        vertical-align: top;\n",
       "    }\n",
       "\n",
       "    .dataframe thead th {\n",
       "        text-align: right;\n",
       "    }\n",
       "</style>\n",
       "<table border=\"1\" class=\"dataframe\">\n",
       "  <thead>\n",
       "    <tr style=\"text-align: right;\">\n",
       "      <th></th>\n",
       "      <th>price</th>\n",
       "      <th>bid</th>\n",
       "      <th>ask</th>\n",
       "      <th>size</th>\n",
       "    </tr>\n",
       "    <tr>\n",
       "      <th>dates</th>\n",
       "      <th></th>\n",
       "      <th></th>\n",
       "      <th></th>\n",
       "      <th></th>\n",
       "    </tr>\n",
       "  </thead>\n",
       "  <tbody>\n",
       "    <tr>\n",
       "      <th>2020-01-02 09:30:00</th>\n",
       "      <td>130.68</td>\n",
       "      <td>130.59</td>\n",
       "      <td>130.60</td>\n",
       "      <td>20625</td>\n",
       "    </tr>\n",
       "    <tr>\n",
       "      <th>2020-01-02 09:30:01</th>\n",
       "      <td>130.50</td>\n",
       "      <td>130.50</td>\n",
       "      <td>130.77</td>\n",
       "      <td>200</td>\n",
       "    </tr>\n",
       "    <tr>\n",
       "      <th>2020-01-02 09:30:04</th>\n",
       "      <td>130.53</td>\n",
       "      <td>130.52</td>\n",
       "      <td>130.78</td>\n",
       "      <td>100</td>\n",
       "    </tr>\n",
       "    <tr>\n",
       "      <th>2020-01-02 09:30:04</th>\n",
       "      <td>130.55</td>\n",
       "      <td>130.52</td>\n",
       "      <td>130.78</td>\n",
       "      <td>100</td>\n",
       "    </tr>\n",
       "    <tr>\n",
       "      <th>2020-01-02 09:30:04</th>\n",
       "      <td>130.53</td>\n",
       "      <td>130.52</td>\n",
       "      <td>130.78</td>\n",
       "      <td>200</td>\n",
       "    </tr>\n",
       "  </tbody>\n",
       "</table>\n",
       "</div>"
      ],
      "text/plain": [
       "                      price     bid     ask   size\n",
       "dates                                             \n",
       "2020-01-02 09:30:00  130.68  130.59  130.60  20625\n",
       "2020-01-02 09:30:01  130.50  130.50  130.77    200\n",
       "2020-01-02 09:30:04  130.53  130.52  130.78    100\n",
       "2020-01-02 09:30:04  130.55  130.52  130.78    100\n",
       "2020-01-02 09:30:04  130.53  130.52  130.78    200"
      ]
     },
     "execution_count": 58,
     "metadata": {},
     "output_type": "execute_result"
    }
   ],
   "source": [
    "dir = \"https://raw.githubusercontent.com/risk-labratory/data/main/\"\n",
    "url = dir + \"IVE_2020.csv\"\n",
    "dataframe = pd.read_csv(url, header = 0)\n",
    "dataframe['dates'] = pd.to_datetime(dataframe['dates'])\n",
    "dataframe.set_index('dates', inplace = True, drop = True)\n",
    "dataframe.drop_duplicates(inplace = True)\n",
    "dataframe = dataframe[(dataframe.index.hour >= 9) & (dataframe.index.hour<16)]\n",
    "dataframe.head()"
   ]
  },
  {
   "cell_type": "code",
   "execution_count": 84,
   "metadata": {},
   "outputs": [
    {
     "ename": "TypeError",
     "evalue": "'module' object is not callable",
     "output_type": "error",
     "traceback": [
      "\u001b[1;31m---------------------------------------------------------------------------\u001b[0m",
      "\u001b[1;31mTypeError\u001b[0m                                 Traceback (most recent call last)",
      "\u001b[1;32mc:\\Users\\hamid\\OneDrive\\GitHub\\Notebooks.py\\data\\data_structures_de_prado.ipynb Cell 9\u001b[0m in \u001b[0;36m1\n\u001b[1;32m----> <a href='vscode-notebook-cell:/c%3A/Users/hamid/OneDrive/GitHub/Notebooks.py/data/data_structures_de_prado.ipynb#W6sZmlsZQ%3D%3D?line=0'>1</a>\u001b[0m ohlcvTime \u001b[39m=\u001b[39m generate_time_bar_dataframe(dataframe, frequency \u001b[39m=\u001b[39;49m \u001b[39m\"\u001b[39;49m\u001b[39m30Min\u001b[39;49m\u001b[39m\"\u001b[39;49m)\n\u001b[0;32m      <a href='vscode-notebook-cell:/c%3A/Users/hamid/OneDrive/GitHub/Notebooks.py/data/data_structures_de_prado.ipynb#W6sZmlsZQ%3D%3D?line=1'>2</a>\u001b[0m ohlcvTime\u001b[39m.\u001b[39mhead(\u001b[39m10\u001b[39m)\n",
      "\u001b[1;31mTypeError\u001b[0m: 'module' object is not callable"
     ]
    }
   ],
   "source": [
    "ohlcvTime = generate_time_bar_dataframe(dataframe, frequency = \"30Min\")\n",
    "ohlcvTime.head(10)"
   ]
  },
  {
   "cell_type": "code",
   "execution_count": 50,
   "metadata": {},
   "outputs": [
    {
     "ename": "NameError",
     "evalue": "name 'ohlcvTime' is not defined",
     "output_type": "error",
     "traceback": [
      "\u001b[1;31m---------------------------------------------------------------------------\u001b[0m",
      "\u001b[1;31mNameError\u001b[0m                                 Traceback (most recent call last)",
      "\u001b[1;32mc:\\Users\\hamid\\OneDrive\\GitHub\\Notebooks.py\\data\\data_structures_de_prado.ipynb Cell 10\u001b[0m in \u001b[0;36m1\n\u001b[1;32m----> <a href='vscode-notebook-cell:/c%3A/Users/hamid/OneDrive/GitHub/Notebooks.py/data/data_structures_de_prado.ipynb#X10sZmlsZQ%3D%3D?line=0'>1</a>\u001b[0m timeBarLen \u001b[39m=\u001b[39m ohlcvTime\u001b[39m.\u001b[39mshape[\u001b[39m0\u001b[39m]\n\u001b[0;32m      <a href='vscode-notebook-cell:/c%3A/Users/hamid/OneDrive/GitHub/Notebooks.py/data/data_structures_de_prado.ipynb#X10sZmlsZQ%3D%3D?line=1'>2</a>\u001b[0m ohlcvTick \u001b[39m=\u001b[39m generate_tick_bar_dataframe(dataframe, tickPerBar \u001b[39m=\u001b[39m \u001b[39mNone\u001b[39;00m, numberBars \u001b[39m=\u001b[39m timeBarLen)\n\u001b[0;32m      <a href='vscode-notebook-cell:/c%3A/Users/hamid/OneDrive/GitHub/Notebooks.py/data/data_structures_de_prado.ipynb#X10sZmlsZQ%3D%3D?line=2'>3</a>\u001b[0m ohlcvTick\u001b[39m.\u001b[39mhead(\u001b[39m10\u001b[39m)\n",
      "\u001b[1;31mNameError\u001b[0m: name 'ohlcvTime' is not defined"
     ]
    }
   ],
   "source": [
    "timeBarLen = ohlcvTime.shape[0]\n",
    "ohlcvTick = generate_tick_bar_dataframe(dataframe, tickPerBar = None, numberBars = timeBarLen)\n",
    "ohlcvTick.head(10)"
   ]
  },
  {
   "cell_type": "code",
   "execution_count": 51,
   "metadata": {},
   "outputs": [
    {
     "ename": "NameError",
     "evalue": "name 'generate_volume_bar_dataframe' is not defined",
     "output_type": "error",
     "traceback": [
      "\u001b[1;31m---------------------------------------------------------------------------\u001b[0m",
      "\u001b[1;31mNameError\u001b[0m                                 Traceback (most recent call last)",
      "\u001b[1;32mc:\\Users\\hamid\\OneDrive\\GitHub\\Notebooks.py\\data\\data_structures_de_prado.ipynb Cell 11\u001b[0m in \u001b[0;36m1\n\u001b[1;32m----> <a href='vscode-notebook-cell:/c%3A/Users/hamid/OneDrive/GitHub/Notebooks.py/data/data_structures_de_prado.ipynb#X11sZmlsZQ%3D%3D?line=0'>1</a>\u001b[0m ohlcvVolume \u001b[39m=\u001b[39m generate_volume_bar_dataframe(dataframe, volumePerBar \u001b[39m=\u001b[39m \u001b[39mNone\u001b[39;00m, numberBars \u001b[39m=\u001b[39m timeBarLen)\n\u001b[0;32m      <a href='vscode-notebook-cell:/c%3A/Users/hamid/OneDrive/GitHub/Notebooks.py/data/data_structures_de_prado.ipynb#X11sZmlsZQ%3D%3D?line=1'>2</a>\u001b[0m ohlcvVolume\u001b[39m.\u001b[39mhead(\u001b[39m10\u001b[39m)\n",
      "\u001b[1;31mNameError\u001b[0m: name 'generate_volume_bar_dataframe' is not defined"
     ]
    }
   ],
   "source": [
    "ohlcvVolume = generate_volume_bar_dataframe(dataframe, volumePerBar = None, numberBars = timeBarLen)\n",
    "ohlcvVolume.head(10)"
   ]
  },
  {
   "cell_type": "code",
   "execution_count": 7,
   "metadata": {},
   "outputs": [
    {
     "data": {
      "text/html": [
       "<div>\n",
       "<style scoped>\n",
       "    .dataframe tbody tr th:only-of-type {\n",
       "        vertical-align: middle;\n",
       "    }\n",
       "\n",
       "    .dataframe tbody tr th {\n",
       "        vertical-align: top;\n",
       "    }\n",
       "\n",
       "    .dataframe thead th {\n",
       "        text-align: right;\n",
       "    }\n",
       "</style>\n",
       "<table border=\"1\" class=\"dataframe\">\n",
       "  <thead>\n",
       "    <tr style=\"text-align: right;\">\n",
       "      <th></th>\n",
       "      <th>open</th>\n",
       "      <th>high</th>\n",
       "      <th>low</th>\n",
       "      <th>close</th>\n",
       "      <th>volume</th>\n",
       "      <th>ValueOfTrades</th>\n",
       "      <th>PriceMean</th>\n",
       "      <th>TickCount</th>\n",
       "      <th>PriceMeanLogReturn</th>\n",
       "    </tr>\n",
       "    <tr>\n",
       "      <th>dates</th>\n",
       "      <th></th>\n",
       "      <th></th>\n",
       "      <th></th>\n",
       "      <th></th>\n",
       "      <th></th>\n",
       "      <th></th>\n",
       "      <th></th>\n",
       "      <th></th>\n",
       "      <th></th>\n",
       "    </tr>\n",
       "  </thead>\n",
       "  <tbody>\n",
       "    <tr>\n",
       "      <th>2020-01-02 09:30:00</th>\n",
       "      <td>130.6800</td>\n",
       "      <td>130.78</td>\n",
       "      <td>130.5000</td>\n",
       "      <td>130.67</td>\n",
       "      <td>24225</td>\n",
       "      <td>130.674262</td>\n",
       "      <td>130.631500</td>\n",
       "      <td>20</td>\n",
       "      <td>NaN</td>\n",
       "    </tr>\n",
       "    <tr>\n",
       "      <th>2020-01-02 09:30:05</th>\n",
       "      <td>130.6700</td>\n",
       "      <td>130.78</td>\n",
       "      <td>130.5200</td>\n",
       "      <td>130.52</td>\n",
       "      <td>4846</td>\n",
       "      <td>130.669480</td>\n",
       "      <td>130.660000</td>\n",
       "      <td>4</td>\n",
       "      <td>0.000218</td>\n",
       "    </tr>\n",
       "    <tr>\n",
       "      <th>2020-01-02 09:30:12</th>\n",
       "      <td>130.5200</td>\n",
       "      <td>130.74</td>\n",
       "      <td>130.5200</td>\n",
       "      <td>130.59</td>\n",
       "      <td>7182</td>\n",
       "      <td>130.604879</td>\n",
       "      <td>130.629840</td>\n",
       "      <td>35</td>\n",
       "      <td>-0.000231</td>\n",
       "    </tr>\n",
       "    <tr>\n",
       "      <th>2020-01-02 09:32:50</th>\n",
       "      <td>130.5700</td>\n",
       "      <td>130.59</td>\n",
       "      <td>130.5567</td>\n",
       "      <td>130.59</td>\n",
       "      <td>6121</td>\n",
       "      <td>130.575292</td>\n",
       "      <td>130.575780</td>\n",
       "      <td>15</td>\n",
       "      <td>-0.000414</td>\n",
       "    </tr>\n",
       "    <tr>\n",
       "      <th>2020-01-02 09:33:04</th>\n",
       "      <td>130.6100</td>\n",
       "      <td>130.61</td>\n",
       "      <td>130.5900</td>\n",
       "      <td>130.61</td>\n",
       "      <td>6100</td>\n",
       "      <td>130.599180</td>\n",
       "      <td>130.600769</td>\n",
       "      <td>13</td>\n",
       "      <td>0.000191</td>\n",
       "    </tr>\n",
       "    <tr>\n",
       "      <th>2020-01-02 09:33:19</th>\n",
       "      <td>130.6100</td>\n",
       "      <td>130.62</td>\n",
       "      <td>130.6100</td>\n",
       "      <td>130.62</td>\n",
       "      <td>300</td>\n",
       "      <td>130.613333</td>\n",
       "      <td>130.615000</td>\n",
       "      <td>2</td>\n",
       "      <td>0.000109</td>\n",
       "    </tr>\n",
       "    <tr>\n",
       "      <th>2020-01-02 09:33:22</th>\n",
       "      <td>130.6100</td>\n",
       "      <td>130.63</td>\n",
       "      <td>130.6100</td>\n",
       "      <td>130.63</td>\n",
       "      <td>48100</td>\n",
       "      <td>130.610042</td>\n",
       "      <td>130.620000</td>\n",
       "      <td>2</td>\n",
       "      <td>0.000038</td>\n",
       "    </tr>\n",
       "    <tr>\n",
       "      <th>2020-01-02 09:33:23</th>\n",
       "      <td>130.6300</td>\n",
       "      <td>130.67</td>\n",
       "      <td>130.5350</td>\n",
       "      <td>130.55</td>\n",
       "      <td>5832</td>\n",
       "      <td>130.602522</td>\n",
       "      <td>130.611625</td>\n",
       "      <td>20</td>\n",
       "      <td>-0.000064</td>\n",
       "    </tr>\n",
       "    <tr>\n",
       "      <th>2020-01-02 09:35:05</th>\n",
       "      <td>130.5500</td>\n",
       "      <td>130.62</td>\n",
       "      <td>130.4800</td>\n",
       "      <td>130.55</td>\n",
       "      <td>5465</td>\n",
       "      <td>130.545136</td>\n",
       "      <td>130.553600</td>\n",
       "      <td>23</td>\n",
       "      <td>-0.000444</td>\n",
       "    </tr>\n",
       "    <tr>\n",
       "      <th>2020-01-02 09:36:42</th>\n",
       "      <td>130.5592</td>\n",
       "      <td>130.57</td>\n",
       "      <td>130.4500</td>\n",
       "      <td>130.52</td>\n",
       "      <td>7010</td>\n",
       "      <td>130.530631</td>\n",
       "      <td>130.520740</td>\n",
       "      <td>30</td>\n",
       "      <td>-0.000252</td>\n",
       "    </tr>\n",
       "  </tbody>\n",
       "</table>\n",
       "</div>"
      ],
      "text/plain": [
       "                         open    high       low   close  volume  \\\n",
       "dates                                                             \n",
       "2020-01-02 09:30:00  130.6800  130.78  130.5000  130.67   24225   \n",
       "2020-01-02 09:30:05  130.6700  130.78  130.5200  130.52    4846   \n",
       "2020-01-02 09:30:12  130.5200  130.74  130.5200  130.59    7182   \n",
       "2020-01-02 09:32:50  130.5700  130.59  130.5567  130.59    6121   \n",
       "2020-01-02 09:33:04  130.6100  130.61  130.5900  130.61    6100   \n",
       "2020-01-02 09:33:19  130.6100  130.62  130.6100  130.62     300   \n",
       "2020-01-02 09:33:22  130.6100  130.63  130.6100  130.63   48100   \n",
       "2020-01-02 09:33:23  130.6300  130.67  130.5350  130.55    5832   \n",
       "2020-01-02 09:35:05  130.5500  130.62  130.4800  130.55    5465   \n",
       "2020-01-02 09:36:42  130.5592  130.57  130.4500  130.52    7010   \n",
       "\n",
       "                     ValueOfTrades   PriceMean  TickCount  PriceMeanLogReturn  \n",
       "dates                                                                          \n",
       "2020-01-02 09:30:00     130.674262  130.631500         20                 NaN  \n",
       "2020-01-02 09:30:05     130.669480  130.660000          4            0.000218  \n",
       "2020-01-02 09:30:12     130.604879  130.629840         35           -0.000231  \n",
       "2020-01-02 09:32:50     130.575292  130.575780         15           -0.000414  \n",
       "2020-01-02 09:33:04     130.599180  130.600769         13            0.000191  \n",
       "2020-01-02 09:33:19     130.613333  130.615000          2            0.000109  \n",
       "2020-01-02 09:33:22     130.610042  130.620000          2            0.000038  \n",
       "2020-01-02 09:33:23     130.602522  130.611625         20           -0.000064  \n",
       "2020-01-02 09:35:05     130.545136  130.553600         23           -0.000444  \n",
       "2020-01-02 09:36:42     130.530631  130.520740         30           -0.000252  "
      ]
     },
     "execution_count": 7,
     "metadata": {},
     "output_type": "execute_result"
    }
   ],
   "source": [
    "ohlcvDollar = dollarBar(dataframe, dollarPerBar = None, numberBars = timeBarLen)\n",
    "ohlcvDollar.head(10)"
   ]
  },
  {
   "cell_type": "code",
   "execution_count": 8,
   "metadata": {},
   "outputs": [
    {
     "data": {
      "text/plain": [
       "<AxesSubplot:xlabel='dates'>"
      ]
     },
     "execution_count": 8,
     "metadata": {},
     "output_type": "execute_result"
    },
    {
     "data": {
      "image/png": "[encoded data removed]",
      "text/plain": [
       "<Figure size 640x480 with 1 Axes>"
      ]
     },
     "metadata": {},
     "output_type": "display_data"
    }
   ],
   "source": [
    "countAverage = pd.DataFrame()\n",
    "countAverage['Time'] = ohlcvTime.resample(\"1W\")['TickCount'].mean()\n",
    "countAverage['Tick'] = ohlcvTick.resample(\"1W\")['TickCount'].mean()\n",
    "countAverage['Volume'] = ohlcvVolume.resample(\"1W\")['TickCount'].mean()\n",
    "countAverage['Dollar'] = ohlcvDollar.resample(\"1W\")['TickCount'].mean()\n",
    "countAverage"
   ]
  },
  {
   "cell_type": "code",
   "execution_count": 13,
   "metadata": {},
   "outputs": [
    {
     "data": {
      "text/html": [
       "<div>\n",
       "<style scoped>\n",
       "    .dataframe tbody tr th:only-of-type {\n",
       "        vertical-align: middle;\n",
       "    }\n",
       "\n",
       "    .dataframe tbody tr th {\n",
       "        vertical-align: top;\n",
       "    }\n",
       "\n",
       "    .dataframe thead th {\n",
       "        text-align: right;\n",
       "    }\n",
       "</style>\n",
       "<table border=\"1\" class=\"dataframe\">\n",
       "  <thead>\n",
       "    <tr style=\"text-align: right;\">\n",
       "      <th></th>\n",
       "      <th>Time</th>\n",
       "      <th>Tick</th>\n",
       "      <th>Volume</th>\n",
       "      <th>Dollar</th>\n",
       "    </tr>\n",
       "    <tr>\n",
       "      <th>dates</th>\n",
       "      <th></th>\n",
       "      <th></th>\n",
       "      <th></th>\n",
       "      <th></th>\n",
       "    </tr>\n",
       "  </thead>\n",
       "  <tbody>\n",
       "    <tr>\n",
       "      <th>2020-01-05</th>\n",
       "      <td>13.676301</td>\n",
       "      <td>16.000000</td>\n",
       "      <td>13.917647</td>\n",
       "      <td>11.889447</td>\n",
       "    </tr>\n",
       "    <tr>\n",
       "      <th>2020-01-12</th>\n",
       "      <td>11.848214</td>\n",
       "      <td>16.000000</td>\n",
       "      <td>16.518672</td>\n",
       "      <td>14.067138</td>\n",
       "    </tr>\n",
       "    <tr>\n",
       "      <th>2020-01-19</th>\n",
       "      <td>12.035714</td>\n",
       "      <td>16.000000</td>\n",
       "      <td>19.536232</td>\n",
       "      <td>16.850000</td>\n",
       "    </tr>\n",
       "    <tr>\n",
       "      <th>2020-01-26</th>\n",
       "      <td>9.526786</td>\n",
       "      <td>16.000000</td>\n",
       "      <td>17.788889</td>\n",
       "      <td>15.247619</td>\n",
       "    </tr>\n",
       "    <tr>\n",
       "      <th>2020-02-02</th>\n",
       "      <td>15.601190</td>\n",
       "      <td>16.000000</td>\n",
       "      <td>20.552941</td>\n",
       "      <td>17.826531</td>\n",
       "    </tr>\n",
       "    <tr>\n",
       "      <th>2020-02-09</th>\n",
       "      <td>11.348214</td>\n",
       "      <td>16.000000</td>\n",
       "      <td>17.652778</td>\n",
       "      <td>15.627049</td>\n",
       "    </tr>\n",
       "    <tr>\n",
       "      <th>2020-02-16</th>\n",
       "      <td>7.669643</td>\n",
       "      <td>16.000000</td>\n",
       "      <td>18.539568</td>\n",
       "      <td>15.907407</td>\n",
       "    </tr>\n",
       "    <tr>\n",
       "      <th>2020-02-23</th>\n",
       "      <td>7.125000</td>\n",
       "      <td>16.000000</td>\n",
       "      <td>17.873134</td>\n",
       "      <td>15.653595</td>\n",
       "    </tr>\n",
       "    <tr>\n",
       "      <th>2020-03-01</th>\n",
       "      <td>45.872024</td>\n",
       "      <td>16.000000</td>\n",
       "      <td>23.860681</td>\n",
       "      <td>22.469388</td>\n",
       "    </tr>\n",
       "    <tr>\n",
       "      <th>2020-03-08</th>\n",
       "      <td>38.657738</td>\n",
       "      <td>16.000000</td>\n",
       "      <td>26.185484</td>\n",
       "      <td>25.025048</td>\n",
       "    </tr>\n",
       "    <tr>\n",
       "      <th>2020-03-15</th>\n",
       "      <td>56.428571</td>\n",
       "      <td>16.000000</td>\n",
       "      <td>22.624105</td>\n",
       "      <td>24.686198</td>\n",
       "    </tr>\n",
       "    <tr>\n",
       "      <th>2020-03-22</th>\n",
       "      <td>73.857143</td>\n",
       "      <td>16.000000</td>\n",
       "      <td>26.094637</td>\n",
       "      <td>31.693487</td>\n",
       "    </tr>\n",
       "    <tr>\n",
       "      <th>2020-03-29</th>\n",
       "      <td>74.318452</td>\n",
       "      <td>16.000000</td>\n",
       "      <td>24.797418</td>\n",
       "      <td>29.833931</td>\n",
       "    </tr>\n",
       "    <tr>\n",
       "      <th>2020-04-05</th>\n",
       "      <td>37.773810</td>\n",
       "      <td>16.000000</td>\n",
       "      <td>18.261871</td>\n",
       "      <td>21.331092</td>\n",
       "    </tr>\n",
       "    <tr>\n",
       "      <th>2020-04-12</th>\n",
       "      <td>28.270833</td>\n",
       "      <td>16.000000</td>\n",
       "      <td>19.707469</td>\n",
       "      <td>21.637813</td>\n",
       "    </tr>\n",
       "    <tr>\n",
       "      <th>2020-04-19</th>\n",
       "      <td>19.479167</td>\n",
       "      <td>16.000000</td>\n",
       "      <td>17.088773</td>\n",
       "      <td>18.080110</td>\n",
       "    </tr>\n",
       "    <tr>\n",
       "      <th>2020-04-26</th>\n",
       "      <td>12.062500</td>\n",
       "      <td>16.000000</td>\n",
       "      <td>16.408907</td>\n",
       "      <td>17.424893</td>\n",
       "    </tr>\n",
       "    <tr>\n",
       "      <th>2020-05-03</th>\n",
       "      <td>12.607143</td>\n",
       "      <td>16.000000</td>\n",
       "      <td>16.952000</td>\n",
       "      <td>17.694561</td>\n",
       "    </tr>\n",
       "    <tr>\n",
       "      <th>2020-05-10</th>\n",
       "      <td>11.699405</td>\n",
       "      <td>16.000000</td>\n",
       "      <td>14.826415</td>\n",
       "      <td>15.787149</td>\n",
       "    </tr>\n",
       "    <tr>\n",
       "      <th>2020-05-17</th>\n",
       "      <td>14.086310</td>\n",
       "      <td>16.000000</td>\n",
       "      <td>17.537037</td>\n",
       "      <td>18.940000</td>\n",
       "    </tr>\n",
       "    <tr>\n",
       "      <th>2020-05-24</th>\n",
       "      <td>11.154762</td>\n",
       "      <td>16.000000</td>\n",
       "      <td>16.648889</td>\n",
       "      <td>17.504673</td>\n",
       "    </tr>\n",
       "    <tr>\n",
       "      <th>2020-05-31</th>\n",
       "      <td>12.690476</td>\n",
       "      <td>16.000000</td>\n",
       "      <td>17.995781</td>\n",
       "      <td>18.383621</td>\n",
       "    </tr>\n",
       "    <tr>\n",
       "      <th>2020-06-07</th>\n",
       "      <td>10.077381</td>\n",
       "      <td>16.000000</td>\n",
       "      <td>14.222689</td>\n",
       "      <td>14.222689</td>\n",
       "    </tr>\n",
       "    <tr>\n",
       "      <th>2020-06-14</th>\n",
       "      <td>20.485119</td>\n",
       "      <td>16.000000</td>\n",
       "      <td>19.337079</td>\n",
       "      <td>18.964187</td>\n",
       "    </tr>\n",
       "    <tr>\n",
       "      <th>2020-06-21</th>\n",
       "      <td>15.806548</td>\n",
       "      <td>16.000000</td>\n",
       "      <td>20.423077</td>\n",
       "      <td>20.581395</td>\n",
       "    </tr>\n",
       "    <tr>\n",
       "      <th>2020-06-28</th>\n",
       "      <td>11.842262</td>\n",
       "      <td>16.000000</td>\n",
       "      <td>20.723958</td>\n",
       "      <td>21.743169</td>\n",
       "    </tr>\n",
       "    <tr>\n",
       "      <th>2020-07-05</th>\n",
       "      <td>7.907738</td>\n",
       "      <td>16.000000</td>\n",
       "      <td>17.959459</td>\n",
       "      <td>18.587413</td>\n",
       "    </tr>\n",
       "    <tr>\n",
       "      <th>2020-07-12</th>\n",
       "      <td>9.934524</td>\n",
       "      <td>16.000000</td>\n",
       "      <td>14.769912</td>\n",
       "      <td>15.242009</td>\n",
       "    </tr>\n",
       "    <tr>\n",
       "      <th>2020-07-19</th>\n",
       "      <td>10.860119</td>\n",
       "      <td>16.000000</td>\n",
       "      <td>18.331658</td>\n",
       "      <td>18.517766</td>\n",
       "    </tr>\n",
       "    <tr>\n",
       "      <th>2020-07-26</th>\n",
       "      <td>6.672619</td>\n",
       "      <td>16.000000</td>\n",
       "      <td>16.014286</td>\n",
       "      <td>16.014286</td>\n",
       "    </tr>\n",
       "    <tr>\n",
       "      <th>2020-08-02</th>\n",
       "      <td>6.196429</td>\n",
       "      <td>16.000000</td>\n",
       "      <td>16.790323</td>\n",
       "      <td>16.523810</td>\n",
       "    </tr>\n",
       "    <tr>\n",
       "      <th>2020-08-09</th>\n",
       "      <td>6.404762</td>\n",
       "      <td>16.000000</td>\n",
       "      <td>17.354839</td>\n",
       "      <td>17.079365</td>\n",
       "    </tr>\n",
       "    <tr>\n",
       "      <th>2020-08-16</th>\n",
       "      <td>8.428571</td>\n",
       "      <td>16.000000</td>\n",
       "      <td>16.958084</td>\n",
       "      <td>16.275862</td>\n",
       "    </tr>\n",
       "    <tr>\n",
       "      <th>2020-08-23</th>\n",
       "      <td>6.889881</td>\n",
       "      <td>16.000000</td>\n",
       "      <td>17.406015</td>\n",
       "      <td>16.654676</td>\n",
       "    </tr>\n",
       "    <tr>\n",
       "      <th>2020-08-30</th>\n",
       "      <td>6.562500</td>\n",
       "      <td>16.000000</td>\n",
       "      <td>17.093023</td>\n",
       "      <td>16.832061</td>\n",
       "    </tr>\n",
       "    <tr>\n",
       "      <th>2020-09-06</th>\n",
       "      <td>10.934524</td>\n",
       "      <td>16.000000</td>\n",
       "      <td>20.076503</td>\n",
       "      <td>19.235602</td>\n",
       "    </tr>\n",
       "    <tr>\n",
       "      <th>2020-09-13</th>\n",
       "      <td>7.750000</td>\n",
       "      <td>16.000000</td>\n",
       "      <td>19.432836</td>\n",
       "      <td>18.869565</td>\n",
       "    </tr>\n",
       "    <tr>\n",
       "      <th>2020-09-20</th>\n",
       "      <td>7.455357</td>\n",
       "      <td>16.000000</td>\n",
       "      <td>17.892857</td>\n",
       "      <td>17.594406</td>\n",
       "    </tr>\n",
       "    <tr>\n",
       "      <th>2020-09-27</th>\n",
       "      <td>9.577381</td>\n",
       "      <td>16.000000</td>\n",
       "      <td>17.877778</td>\n",
       "      <td>18.118644</td>\n",
       "    </tr>\n",
       "    <tr>\n",
       "      <th>2020-10-04</th>\n",
       "      <td>8.750000</td>\n",
       "      <td>16.000000</td>\n",
       "      <td>17.300000</td>\n",
       "      <td>17.192982</td>\n",
       "    </tr>\n",
       "    <tr>\n",
       "      <th>2020-10-11</th>\n",
       "      <td>7.708333</td>\n",
       "      <td>16.000000</td>\n",
       "      <td>16.490446</td>\n",
       "      <td>15.792683</td>\n",
       "    </tr>\n",
       "    <tr>\n",
       "      <th>2020-10-18</th>\n",
       "      <td>6.327381</td>\n",
       "      <td>16.000000</td>\n",
       "      <td>18.649123</td>\n",
       "      <td>17.426230</td>\n",
       "    </tr>\n",
       "    <tr>\n",
       "      <th>2020-10-25</th>\n",
       "      <td>7.526786</td>\n",
       "      <td>16.000000</td>\n",
       "      <td>17.321918</td>\n",
       "      <td>16.638158</td>\n",
       "    </tr>\n",
       "    <tr>\n",
       "      <th>2020-11-01</th>\n",
       "      <td>10.300595</td>\n",
       "      <td>16.000000</td>\n",
       "      <td>16.402844</td>\n",
       "      <td>16.172897</td>\n",
       "    </tr>\n",
       "    <tr>\n",
       "      <th>2020-11-08</th>\n",
       "      <td>13.360119</td>\n",
       "      <td>16.000000</td>\n",
       "      <td>16.323636</td>\n",
       "      <td>15.862191</td>\n",
       "    </tr>\n",
       "    <tr>\n",
       "      <th>2020-11-15</th>\n",
       "      <td>26.502976</td>\n",
       "      <td>16.000000</td>\n",
       "      <td>19.235421</td>\n",
       "      <td>17.847695</td>\n",
       "    </tr>\n",
       "    <tr>\n",
       "      <th>2020-11-22</th>\n",
       "      <td>15.145833</td>\n",
       "      <td>16.000000</td>\n",
       "      <td>19.123596</td>\n",
       "      <td>17.462329</td>\n",
       "    </tr>\n",
       "    <tr>\n",
       "      <th>2020-11-29</th>\n",
       "      <td>9.571429</td>\n",
       "      <td>16.000000</td>\n",
       "      <td>14.805556</td>\n",
       "      <td>13.466387</td>\n",
       "    </tr>\n",
       "    <tr>\n",
       "      <th>2020-12-06</th>\n",
       "      <td>11.553571</td>\n",
       "      <td>16.000000</td>\n",
       "      <td>19.123153</td>\n",
       "      <td>17.176991</td>\n",
       "    </tr>\n",
       "    <tr>\n",
       "      <th>2020-12-13</th>\n",
       "      <td>10.011905</td>\n",
       "      <td>16.000000</td>\n",
       "      <td>18.585635</td>\n",
       "      <td>16.490196</td>\n",
       "    </tr>\n",
       "    <tr>\n",
       "      <th>2020-12-20</th>\n",
       "      <td>9.086310</td>\n",
       "      <td>16.000000</td>\n",
       "      <td>17.357955</td>\n",
       "      <td>15.586735</td>\n",
       "    </tr>\n",
       "    <tr>\n",
       "      <th>2020-12-27</th>\n",
       "      <td>6.657738</td>\n",
       "      <td>16.000000</td>\n",
       "      <td>16.313869</td>\n",
       "      <td>14.607843</td>\n",
       "    </tr>\n",
       "    <tr>\n",
       "      <th>2021-01-03</th>\n",
       "      <td>11.301136</td>\n",
       "      <td>15.951613</td>\n",
       "      <td>16.303279</td>\n",
       "      <td>14.309353</td>\n",
       "    </tr>\n",
       "  </tbody>\n",
       "</table>\n",
       "</div>"
      ],
      "text/plain": [
       "                 Time       Tick     Volume     Dollar\n",
       "dates                                                 \n",
       "2020-01-05  13.676301  16.000000  13.917647  11.889447\n",
       "2020-01-12  11.848214  16.000000  16.518672  14.067138\n",
       "2020-01-19  12.035714  16.000000  19.536232  16.850000\n",
       "2020-01-26   9.526786  16.000000  17.788889  15.247619\n",
       "2020-02-02  15.601190  16.000000  20.552941  17.826531\n",
       "2020-02-09  11.348214  16.000000  17.652778  15.627049\n",
       "2020-02-16   7.669643  16.000000  18.539568  15.907407\n",
       "2020-02-23   7.125000  16.000000  17.873134  15.653595\n",
       "2020-03-01  45.872024  16.000000  23.860681  22.469388\n",
       "2020-03-08  38.657738  16.000000  26.185484  25.025048\n",
       "2020-03-15  56.428571  16.000000  22.624105  24.686198\n",
       "2020-03-22  73.857143  16.000000  26.094637  31.693487\n",
       "2020-03-29  74.318452  16.000000  24.797418  29.833931\n",
       "2020-04-05  37.773810  16.000000  18.261871  21.331092\n",
       "2020-04-12  28.270833  16.000000  19.707469  21.637813\n",
       "2020-04-19  19.479167  16.000000  17.088773  18.080110\n",
       "2020-04-26  12.062500  16.000000  16.408907  17.424893\n",
       "2020-05-03  12.607143  16.000000  16.952000  17.694561\n",
       "2020-05-10  11.699405  16.000000  14.826415  15.787149\n",
       "2020-05-17  14.086310  16.000000  17.537037  18.940000\n",
       "2020-05-24  11.154762  16.000000  16.648889  17.504673\n",
       "2020-05-31  12.690476  16.000000  17.995781  18.383621\n",
       "2020-06-07  10.077381  16.000000  14.222689  14.222689\n",
       "2020-06-14  20.485119  16.000000  19.337079  18.964187\n",
       "2020-06-21  15.806548  16.000000  20.423077  20.581395\n",
       "2020-06-28  11.842262  16.000000  20.723958  21.743169\n",
       "2020-07-05   7.907738  16.000000  17.959459  18.587413\n",
       "2020-07-12   9.934524  16.000000  14.769912  15.242009\n",
       "2020-07-19  10.860119  16.000000  18.331658  18.517766\n",
       "2020-07-26   6.672619  16.000000  16.014286  16.014286\n",
       "2020-08-02   6.196429  16.000000  16.790323  16.523810\n",
       "2020-08-09   6.404762  16.000000  17.354839  17.079365\n",
       "2020-08-16   8.428571  16.000000  16.958084  16.275862\n",
       "2020-08-23   6.889881  16.000000  17.406015  16.654676\n",
       "2020-08-30   6.562500  16.000000  17.093023  16.832061\n",
       "2020-09-06  10.934524  16.000000  20.076503  19.235602\n",
       "2020-09-13   7.750000  16.000000  19.432836  18.869565\n",
       "2020-09-20   7.455357  16.000000  17.892857  17.594406\n",
       "2020-09-27   9.577381  16.000000  17.877778  18.118644\n",
       "2020-10-04   8.750000  16.000000  17.300000  17.192982\n",
       "2020-10-11   7.708333  16.000000  16.490446  15.792683\n",
       "2020-10-18   6.327381  16.000000  18.649123  17.426230\n",
       "2020-10-25   7.526786  16.000000  17.321918  16.638158\n",
       "2020-11-01  10.300595  16.000000  16.402844  16.172897\n",
       "2020-11-08  13.360119  16.000000  16.323636  15.862191\n",
       "2020-11-15  26.502976  16.000000  19.235421  17.847695\n",
       "2020-11-22  15.145833  16.000000  19.123596  17.462329\n",
       "2020-11-29   9.571429  16.000000  14.805556  13.466387\n",
       "2020-12-06  11.553571  16.000000  19.123153  17.176991\n",
       "2020-12-13  10.011905  16.000000  18.585635  16.490196\n",
       "2020-12-20   9.086310  16.000000  17.357955  15.586735\n",
       "2020-12-27   6.657738  16.000000  16.313869  14.607843\n",
       "2021-01-03  11.301136  15.951613  16.303279  14.309353"
      ]
     },
     "execution_count": 13,
     "metadata": {},
     "output_type": "execute_result"
    }
   ],
   "source": [
    "countAverage"
   ]
  },
  {
   "cell_type": "code",
   "execution_count": 15,
   "metadata": {},
   "outputs": [
    {
     "data": {
      "application/vnd.plotly.v1+json": {
       "config": {
        "plotlyServerURL": "https://plot.ly"
       },
       "data": [
        {
         "name": "Time",
         "type": "scatter",
         "x": [
          "2020-01-05T00:00:00",
          "2020-01-12T00:00:00",
          "2020-01-19T00:00:00",
          "2020-01-26T00:00:00",
          "2020-02-02T00:00:00",
          "2020-02-09T00:00:00",
          "2020-02-16T00:00:00",
          "2020-02-23T00:00:00",
          "2020-03-01T00:00:00",
          "2020-03-08T00:00:00",
          "2020-03-15T00:00:00",
          "2020-03-22T00:00:00",
          "2020-03-29T00:00:00",
          "2020-04-05T00:00:00",
          "2020-04-12T00:00:00",
          "2020-04-19T00:00:00",
          "2020-04-26T00:00:00",
          "2020-05-03T00:00:00",
          "2020-05-10T00:00:00",
          "2020-05-17T00:00:00",
          "2020-05-24T00:00:00",
          "2020-05-31T00:00:00",
          "2020-06-07T00:00:00",
          "2020-06-14T00:00:00",
          "2020-06-21T00:00:00",
          "2020-06-28T00:00:00",
          "2020-07-05T00:00:00",
          "2020-07-12T00:00:00",
          "2020-07-19T00:00:00",
          "2020-07-26T00:00:00",
          "2020-08-02T00:00:00",
          "2020-08-09T00:00:00",
          "2020-08-16T00:00:00",
          "2020-08-23T00:00:00",
          "2020-08-30T00:00:00",
          "2020-09-06T00:00:00",
          "2020-09-13T00:00:00",
          "2020-09-20T00:00:00",
          "2020-09-27T00:00:00",
          "2020-10-04T00:00:00",
          "2020-10-11T00:00:00",
          "2020-10-18T00:00:00",
          "2020-10-25T00:00:00",
          "2020-11-01T00:00:00",
          "2020-11-08T00:00:00",
          "2020-11-15T00:00:00",
          "2020-11-22T00:00:00",
          "2020-11-29T00:00:00",
          "2020-12-06T00:00:00",
          "2020-12-13T00:00:00",
          "2020-12-20T00:00:00",
          "2020-12-27T00:00:00",
          "2021-01-03T00:00:00"
         ],
         "y": [
          13.676300578034683,
          11.848214285714286,
          12.035714285714286,
          9.526785714285714,
          15.601190476190476,
          11.348214285714286,
          7.669642857142857,
          7.125,
          45.87202380952381,
          38.657738095238095,
          56.42857142857143,
          73.85714285714286,
          74.31845238095238,
          37.773809523809526,
          28.270833333333332,
          19.479166666666668,
          12.0625,
          12.607142857142858,
          11.699404761904763,
          14.086309523809524,
          11.154761904761905,
          12.69047619047619,
          10.077380952380953,
          20.485119047619047,
          15.806547619047619,
          11.842261904761905,
          7.907738095238095,
          9.93452380952381,
          10.860119047619047,
          6.6726190476190474,
          6.196428571428571,
          6.404761904761905,
          8.428571428571429,
          6.8898809523809526,
          6.5625,
          10.93452380952381,
          7.75,
          7.455357142857143,
          9.577380952380953,
          8.75,
          7.708333333333333,
          6.3273809523809526,
          7.526785714285714,
          10.300595238095237,
          13.360119047619047,
          26.50297619047619,
          15.145833333333334,
          9.571428571428571,
          11.553571428571429,
          10.011904761904763,
          9.086309523809524,
          6.657738095238095,
          11.301136363636363
         ]
        },
        {
         "name": "Tick",
         "type": "scatter",
         "x": [
          "2020-01-05T00:00:00",
          "2020-01-12T00:00:00",
          "2020-01-19T00:00:00",
          "2020-01-26T00:00:00",
          "2020-02-02T00:00:00",
          "2020-02-09T00:00:00",
          "2020-02-16T00:00:00",
          "2020-02-23T00:00:00",
          "2020-03-01T00:00:00",
          "2020-03-08T00:00:00",
          "2020-03-15T00:00:00",
          "2020-03-22T00:00:00",
          "2020-03-29T00:00:00",
          "2020-04-05T00:00:00",
          "2020-04-12T00:00:00",
          "2020-04-19T00:00:00",
          "2020-04-26T00:00:00",
          "2020-05-03T00:00:00",
          "2020-05-10T00:00:00",
          "2020-05-17T00:00:00",
          "2020-05-24T00:00:00",
          "2020-05-31T00:00:00",
          "2020-06-07T00:00:00",
          "2020-06-14T00:00:00",
          "2020-06-21T00:00:00",
          "2020-06-28T00:00:00",
          "2020-07-05T00:00:00",
          "2020-07-12T00:00:00",
          "2020-07-19T00:00:00",
          "2020-07-26T00:00:00",
          "2020-08-02T00:00:00",
          "2020-08-09T00:00:00",
          "2020-08-16T00:00:00",
          "2020-08-23T00:00:00",
          "2020-08-30T00:00:00",
          "2020-09-06T00:00:00",
          "2020-09-13T00:00:00",
          "2020-09-20T00:00:00",
          "2020-09-27T00:00:00",
          "2020-10-04T00:00:00",
          "2020-10-11T00:00:00",
          "2020-10-18T00:00:00",
          "2020-10-25T00:00:00",
          "2020-11-01T00:00:00",
          "2020-11-08T00:00:00",
          "2020-11-15T00:00:00",
          "2020-11-22T00:00:00",
          "2020-11-29T00:00:00",
          "2020-12-06T00:00:00",
          "2020-12-13T00:00:00",
          "2020-12-20T00:00:00",
          "2020-12-27T00:00:00",
          "2021-01-03T00:00:00"
         ],
         "y": [
          16,
          16,
          16,
          16,
          16,
          16,
          16,
          16,
          16,
          16,
          16,
          16,
          16,
          16,
          16,
          16,
          16,
          16,
          16,
          16,
          16,
          16,
          16,
          16,
          16,
          16,
          16,
          16,
          16,
          16,
          16,
          16,
          16,
          16,
          16,
          16,
          16,
          16,
          16,
          16,
          16,
          16,
          16,
          16,
          16,
          16,
          16,
          16,
          16,
          16,
          16,
          16,
          15.951612903225806
         ]
        },
        {
         "name": "Volume",
         "type": "scatter",
         "x": [
          "2020-01-05T00:00:00",
          "2020-01-12T00:00:00",
          "2020-01-19T00:00:00",
          "2020-01-26T00:00:00",
          "2020-02-02T00:00:00",
          "2020-02-09T00:00:00",
          "2020-02-16T00:00:00",
          "2020-02-23T00:00:00",
          "2020-03-01T00:00:00",
          "2020-03-08T00:00:00",
          "2020-03-15T00:00:00",
          "2020-03-22T00:00:00",
          "2020-03-29T00:00:00",
          "2020-04-05T00:00:00",
          "2020-04-12T00:00:00",
          "2020-04-19T00:00:00",
          "2020-04-26T00:00:00",
          "2020-05-03T00:00:00",
          "2020-05-10T00:00:00",
          "2020-05-17T00:00:00",
          "2020-05-24T00:00:00",
          "2020-05-31T00:00:00",
          "2020-06-07T00:00:00",
          "2020-06-14T00:00:00",
          "2020-06-21T00:00:00",
          "2020-06-28T00:00:00",
          "2020-07-05T00:00:00",
          "2020-07-12T00:00:00",
          "2020-07-19T00:00:00",
          "2020-07-26T00:00:00",
          "2020-08-02T00:00:00",
          "2020-08-09T00:00:00",
          "2020-08-16T00:00:00",
          "2020-08-23T00:00:00",
          "2020-08-30T00:00:00",
          "2020-09-06T00:00:00",
          "2020-09-13T00:00:00",
          "2020-09-20T00:00:00",
          "2020-09-27T00:00:00",
          "2020-10-04T00:00:00",
          "2020-10-11T00:00:00",
          "2020-10-18T00:00:00",
          "2020-10-25T00:00:00",
          "2020-11-01T00:00:00",
          "2020-11-08T00:00:00",
          "2020-11-15T00:00:00",
          "2020-11-22T00:00:00",
          "2020-11-29T00:00:00",
          "2020-12-06T00:00:00",
          "2020-12-13T00:00:00",
          "2020-12-20T00:00:00",
          "2020-12-27T00:00:00",
          "2021-01-03T00:00:00"
         ],
         "y": [
          13.91764705882353,
          16.518672199170126,
          19.536231884057973,
          17.788888888888888,
          20.55294117647059,
          17.65277777777778,
          18.53956834532374,
          17.87313432835821,
          23.860681114551085,
          26.18548387096774,
          22.624105011933175,
          26.094637223974765,
          24.797418073485602,
          18.261870503597123,
          19.70746887966805,
          17.088772845953002,
          16.408906882591094,
          16.952,
          14.826415094339623,
          17.537037037037038,
          16.648888888888887,
          17.9957805907173,
          14.222689075630251,
          19.337078651685392,
          20.423076923076923,
          20.723958333333332,
          17.95945945945946,
          14.769911504424778,
          18.331658291457288,
          16.014285714285716,
          16.79032258064516,
          17.35483870967742,
          16.95808383233533,
          17.406015037593985,
          17.093023255813954,
          20.07650273224044,
          19.432835820895523,
          17.892857142857142,
          17.877777777777776,
          17.3,
          16.49044585987261,
          18.649122807017545,
          17.32191780821918,
          16.402843601895736,
          16.323636363636364,
          19.235421166306697,
          19.123595505617978,
          14.805555555555555,
          19.123152709359605,
          18.585635359116022,
          17.357954545454547,
          16.313868613138688,
          16.30327868852459
         ]
        },
        {
         "name": "Dollar",
         "type": "scatter",
         "x": [
          "2020-01-05T00:00:00",
          "2020-01-12T00:00:00",
          "2020-01-19T00:00:00",
          "2020-01-26T00:00:00",
          "2020-02-02T00:00:00",
          "2020-02-09T00:00:00",
          "2020-02-16T00:00:00",
          "2020-02-23T00:00:00",
          "2020-03-01T00:00:00",
          "2020-03-08T00:00:00",
          "2020-03-15T00:00:00",
          "2020-03-22T00:00:00",
          "2020-03-29T00:00:00",
          "2020-04-05T00:00:00",
          "2020-04-12T00:00:00",
          "2020-04-19T00:00:00",
          "2020-04-26T00:00:00",
          "2020-05-03T00:00:00",
          "2020-05-10T00:00:00",
          "2020-05-17T00:00:00",
          "2020-05-24T00:00:00",
          "2020-05-31T00:00:00",
          "2020-06-07T00:00:00",
          "2020-06-14T00:00:00",
          "2020-06-21T00:00:00",
          "2020-06-28T00:00:00",
          "2020-07-05T00:00:00",
          "2020-07-12T00:00:00",
          "2020-07-19T00:00:00",
          "2020-07-26T00:00:00",
          "2020-08-02T00:00:00",
          "2020-08-09T00:00:00",
          "2020-08-16T00:00:00",
          "2020-08-23T00:00:00",
          "2020-08-30T00:00:00",
          "2020-09-06T00:00:00",
          "2020-09-13T00:00:00",
          "2020-09-20T00:00:00",
          "2020-09-27T00:00:00",
          "2020-10-04T00:00:00",
          "2020-10-11T00:00:00",
          "2020-10-18T00:00:00",
          "2020-10-25T00:00:00",
          "2020-11-01T00:00:00",
          "2020-11-08T00:00:00",
          "2020-11-15T00:00:00",
          "2020-11-22T00:00:00",
          "2020-11-29T00:00:00",
          "2020-12-06T00:00:00",
          "2020-12-13T00:00:00",
          "2020-12-20T00:00:00",
          "2020-12-27T00:00:00",
          "2021-01-03T00:00:00"
         ],
         "y": [
          11.889447236180905,
          14.06713780918728,
          16.85,
          15.247619047619047,
          17.8265306122449,
          15.62704918032787,
          15.907407407407407,
          15.65359477124183,
          22.46938775510204,
          25.02504816955684,
          24.686197916666668,
          31.693486590038315,
          29.833930704898446,
          21.33109243697479,
          21.637813211845103,
          18.08011049723757,
          17.42489270386266,
          17.694560669456067,
          15.78714859437751,
          18.94,
          17.50467289719626,
          18.38362068965517,
          14.222689075630251,
          18.96418732782369,
          20.58139534883721,
          21.743169398907103,
          18.587412587412587,
          15.242009132420092,
          18.517766497461928,
          16.014285714285716,
          16.523809523809526,
          17.07936507936508,
          16.275862068965516,
          16.654676258992804,
          16.83206106870229,
          19.23560209424084,
          18.869565217391305,
          17.594405594405593,
          18.11864406779661,
          17.19298245614035,
          15.792682926829269,
          17.42622950819672,
          16.638157894736842,
          16.172897196261683,
          15.862190812720849,
          17.847695390781563,
          17.46232876712329,
          13.466386554621849,
          17.17699115044248,
          16.49019607843137,
          15.58673469387755,
          14.607843137254902,
          14.309352517985612
         ]
        }
       ],
       "layout": {
        "template": {
         "data": {
          "bar": [
           {
            "error_x": {
             "color": "#f2f5fa"
            },
            "error_y": {
             "color": "#f2f5fa"
            },
            "marker": {
             "line": {
              "color": "rgb(17,17,17)",
              "width": 0.5
             },
             "pattern": {
              "fillmode": "overlay",
              "size": 10,
              "solidity": 0.2
             }
            },
            "type": "bar"
           }
          ],
          "barpolar": [
           {
            "marker": {
             "line": {
              "color": "rgb(17,17,17)",
              "width": 0.5
             },
             "pattern": {
              "fillmode": "overlay",
              "size": 10,
              "solidity": 0.2
             }
            },
            "type": "barpolar"
           }
          ],
          "carpet": [
           {
            "aaxis": {
             "endlinecolor": "#A2B1C6",
             "gridcolor": "#506784",
             "linecolor": "#506784",
             "minorgridcolor": "#506784",
             "startlinecolor": "#A2B1C6"
            },
            "baxis": {
             "endlinecolor": "#A2B1C6",
             "gridcolor": "#506784",
             "linecolor": "#506784",
             "minorgridcolor": "#506784",
             "startlinecolor": "#A2B1C6"
            },
            "type": "carpet"
           }
          ],
          "choropleth": [
           {
            "colorbar": {
             "outlinewidth": 0,
             "ticks": ""
            },
            "type": "choropleth"
           }
          ],
          "contour": [
           {
            "colorbar": {
             "outlinewidth": 0,
             "ticks": ""
            },
            "colorscale": [
             [
              0,
              "#0d0887"
             ],
             [
              0.1111111111111111,
              "#46039f"
             ],
             [
              0.2222222222222222,
              "#7201a8"
             ],
             [
              0.3333333333333333,
              "#9c179e"
             ],
             [
              0.4444444444444444,
              "#bd3786"
             ],
             [
              0.5555555555555556,
              "#d8576b"
             ],
             [
              0.6666666666666666,
              "#ed7953"
             ],
             [
              0.7777777777777778,
              "#fb9f3a"
             ],
             [
              0.8888888888888888,
              "#fdca26"
             ],
             [
              1,
              "#f0f921"
             ]
            ],
            "type": "contour"
           }
          ],
          "contourcarpet": [
           {
            "colorbar": {
             "outlinewidth": 0,
             "ticks": ""
            },
            "type": "contourcarpet"
           }
          ],
          "heatmap": [
           {
            "colorbar": {
             "outlinewidth": 0,
             "ticks": ""
            },
            "colorscale": [
             [
              0,
              "#0d0887"
             ],
             [
              0.1111111111111111,
              "#46039f"
             ],
             [
              0.2222222222222222,
              "#7201a8"
             ],
             [
              0.3333333333333333,
              "#9c179e"
             ],
             [
              0.4444444444444444,
              "#bd3786"
             ],
             [
              0.5555555555555556,
              "#d8576b"
             ],
             [
              0.6666666666666666,
              "#ed7953"
             ],
             [
              0.7777777777777778,
              "#fb9f3a"
             ],
             [
              0.8888888888888888,
              "#fdca26"
             ],
             [
              1,
              "#f0f921"
             ]
            ],
            "type": "heatmap"
           }
          ],
          "heatmapgl": [
           {
            "colorbar": {
             "outlinewidth": 0,
             "ticks": ""
            },
            "colorscale": [
             [
              0,
              "#0d0887"
             ],
             [
              0.1111111111111111,
              "#46039f"
             ],
             [
              0.2222222222222222,
              "#7201a8"
             ],
             [
              0.3333333333333333,
              "#9c179e"
             ],
             [
              0.4444444444444444,
              "#bd3786"
             ],
             [
              0.5555555555555556,
              "#d8576b"
             ],
             [
              0.6666666666666666,
              "#ed7953"
             ],
             [
              0.7777777777777778,
              "#fb9f3a"
             ],
             [
              0.8888888888888888,
              "#fdca26"
             ],
             [
              1,
              "#f0f921"
             ]
            ],
            "type": "heatmapgl"
           }
          ],
          "histogram": [
           {
            "marker": {
             "pattern": {
              "fillmode": "overlay",
              "size": 10,
              "solidity": 0.2
             }
            },
            "type": "histogram"
           }
          ],
          "histogram2d": [
           {
            "colorbar": {
             "outlinewidth": 0,
             "ticks": ""
            },
            "colorscale": [
             [
              0,
              "#0d0887"
             ],
             [
              0.1111111111111111,
              "#46039f"
             ],
             [
              0.2222222222222222,
              "#7201a8"
             ],
             [
              0.3333333333333333,
              "#9c179e"
             ],
             [
              0.4444444444444444,
              "#bd3786"
             ],
             [
              0.5555555555555556,
              "#d8576b"
             ],
             [
              0.6666666666666666,
              "#ed7953"
             ],
             [
              0.7777777777777778,
              "#fb9f3a"
             ],
             [
              0.8888888888888888,
              "#fdca26"
             ],
             [
              1,
              "#f0f921"
             ]
            ],
            "type": "histogram2d"
           }
          ],
          "histogram2dcontour": [
           {
            "colorbar": {
             "outlinewidth": 0,
             "ticks": ""
            },
            "colorscale": [
             [
              0,
              "#0d0887"
             ],
             [
              0.1111111111111111,
              "#46039f"
             ],
             [
              0.2222222222222222,
              "#7201a8"
             ],
             [
              0.3333333333333333,
              "#9c179e"
             ],
             [
              0.4444444444444444,
              "#bd3786"
             ],
             [
              0.5555555555555556,
              "#d8576b"
             ],
             [
              0.6666666666666666,
              "#ed7953"
             ],
             [
              0.7777777777777778,
              "#fb9f3a"
             ],
             [
              0.8888888888888888,
              "#fdca26"
             ],
             [
              1,
              "#f0f921"
             ]
            ],
            "type": "histogram2dcontour"
           }
          ],
          "mesh3d": [
           {
            "colorbar": {
             "outlinewidth": 0,
             "ticks": ""
            },
            "type": "mesh3d"
           }
          ],
          "parcoords": [
           {
            "line": {
             "colorbar": {
              "outlinewidth": 0,
              "ticks": ""
             }
            },
            "type": "parcoords"
           }
          ],
          "pie": [
           {
            "automargin": true,
            "type": "pie"
           }
          ],
          "scatter": [
           {
            "marker": {
             "line": {
              "color": "#283442"
             }
            },
            "type": "scatter"
           }
          ],
          "scatter3d": [
           {
            "line": {
             "colorbar": {
              "outlinewidth": 0,
              "ticks": ""
             }
            },
            "marker": {
             "colorbar": {
              "outlinewidth": 0,
              "ticks": ""
             }
            },
            "type": "scatter3d"
           }
          ],
          "scattercarpet": [
           {
            "marker": {
             "colorbar": {
              "outlinewidth": 0,
              "ticks": ""
             }
            },
            "type": "scattercarpet"
           }
          ],
          "scattergeo": [
           {
            "marker": {
             "colorbar": {
              "outlinewidth": 0,
              "ticks": ""
             }
            },
            "type": "scattergeo"
           }
          ],
          "scattergl": [
           {
            "marker": {
             "line": {
              "color": "#283442"
             }
            },
            "type": "scattergl"
           }
          ],
          "scattermapbox": [
           {
            "marker": {
             "colorbar": {
              "outlinewidth": 0,
              "ticks": ""
             }
            },
            "type": "scattermapbox"
           }
          ],
          "scatterpolar": [
           {
            "marker": {
             "colorbar": {
              "outlinewidth": 0,
              "ticks": ""
             }
            },
            "type": "scatterpolar"
           }
          ],
          "scatterpolargl": [
           {
            "marker": {
             "colorbar": {
              "outlinewidth": 0,
              "ticks": ""
             }
            },
            "type": "scatterpolargl"
           }
          ],
          "scatterternary": [
           {
            "marker": {
             "colorbar": {
              "outlinewidth": 0,
              "ticks": ""
             }
            },
            "type": "scatterternary"
           }
          ],
          "surface": [
           {
            "colorbar": {
             "outlinewidth": 0,
             "ticks": ""
            },
            "colorscale": [
             [
              0,
              "#0d0887"
             ],
             [
              0.1111111111111111,
              "#46039f"
             ],
             [
              0.2222222222222222,
              "#7201a8"
             ],
             [
              0.3333333333333333,
              "#9c179e"
             ],
             [
              0.4444444444444444,
              "#bd3786"
             ],
             [
              0.5555555555555556,
              "#d8576b"
             ],
             [
              0.6666666666666666,
              "#ed7953"
             ],
             [
              0.7777777777777778,
              "#fb9f3a"
             ],
             [
              0.8888888888888888,
              "#fdca26"
             ],
             [
              1,
              "#f0f921"
             ]
            ],
            "type": "surface"
           }
          ],
          "table": [
           {
            "cells": {
             "fill": {
              "color": "#506784"
             },
             "line": {
              "color": "rgb(17,17,17)"
             }
            },
            "header": {
             "fill": {
              "color": "#2a3f5f"
             },
             "line": {
              "color": "rgb(17,17,17)"
             }
            },
            "type": "table"
           }
          ]
         },
         "layout": {
          "annotationdefaults": {
           "arrowcolor": "#f2f5fa",
           "arrowhead": 0,
           "arrowwidth": 1
          },
          "autotypenumbers": "strict",
          "coloraxis": {
           "colorbar": {
            "outlinewidth": 0,
            "ticks": ""
           }
          },
          "colorscale": {
           "diverging": [
            [
             0,
             "#8e0152"
            ],
            [
             0.1,
             "#c51b7d"
            ],
            [
             0.2,
             "#de77ae"
            ],
            [
             0.3,
             "#f1b6da"
            ],
            [
             0.4,
             "#fde0ef"
            ],
            [
             0.5,
             "#f7f7f7"
            ],
            [
             0.6,
             "#e6f5d0"
            ],
            [
             0.7,
             "#b8e186"
            ],
            [
             0.8,
             "#7fbc41"
            ],
            [
             0.9,
             "#4d9221"
            ],
            [
             1,
             "#276419"
            ]
           ],
           "sequential": [
            [
             0,
             "#0d0887"
            ],
            [
             0.1111111111111111,
             "#46039f"
            ],
            [
             0.2222222222222222,
             "#7201a8"
            ],
            [
             0.3333333333333333,
             "#9c179e"
            ],
            [
             0.4444444444444444,
             "#bd3786"
            ],
            [
             0.5555555555555556,
             "#d8576b"
            ],
            [
             0.6666666666666666,
             "#ed7953"
            ],
            [
             0.7777777777777778,
             "#fb9f3a"
            ],
            [
             0.8888888888888888,
             "#fdca26"
            ],
            [
             1,
             "#f0f921"
            ]
           ],
           "sequentialminus": [
            [
             0,
             "#0d0887"
            ],
            [
             0.1111111111111111,
             "#46039f"
            ],
            [
             0.2222222222222222,
             "#7201a8"
            ],
            [
             0.3333333333333333,
             "#9c179e"
            ],
            [
             0.4444444444444444,
             "#bd3786"
            ],
            [
             0.5555555555555556,
             "#d8576b"
            ],
            [
             0.6666666666666666,
             "#ed7953"
            ],
            [
             0.7777777777777778,
             "#fb9f3a"
            ],
            [
             0.8888888888888888,
             "#fdca26"
            ],
            [
             1,
             "#f0f921"
            ]
           ]
          },
          "colorway": [
           "#636efa",
           "#EF553B",
           "#00cc96",
           "#ab63fa",
           "#FFA15A",
           "#19d3f3",
           "#FF6692",
           "#B6E880",
           "#FF97FF",
           "#FECB52"
          ],
          "font": {
           "color": "#f2f5fa"
          },
          "geo": {
           "bgcolor": "rgb(17,17,17)",
           "lakecolor": "rgb(17,17,17)",
           "landcolor": "rgb(17,17,17)",
           "showlakes": true,
           "showland": true,
           "subunitcolor": "#506784"
          },
          "hoverlabel": {
           "align": "left"
          },
          "hovermode": "closest",
          "mapbox": {
           "style": "dark"
          },
          "paper_bgcolor": "rgb(17,17,17)",
          "plot_bgcolor": "rgb(17,17,17)",
          "polar": {
           "angularaxis": {
            "gridcolor": "#506784",
            "linecolor": "#506784",
            "ticks": ""
           },
           "bgcolor": "rgb(17,17,17)",
           "radialaxis": {
            "gridcolor": "#506784",
            "linecolor": "#506784",
            "ticks": ""
           }
          },
          "scene": {
           "xaxis": {
            "backgroundcolor": "rgb(17,17,17)",
            "gridcolor": "#506784",
            "gridwidth": 2,
            "linecolor": "#506784",
            "showbackground": true,
            "ticks": "",
            "zerolinecolor": "#C8D4E3"
           },
           "yaxis": {
            "backgroundcolor": "rgb(17,17,17)",
            "gridcolor": "#506784",
            "gridwidth": 2,
            "linecolor": "#506784",
            "showbackground": true,
            "ticks": "",
            "zerolinecolor": "#C8D4E3"
           },
           "zaxis": {
            "backgroundcolor": "rgb(17,17,17)",
            "gridcolor": "#506784",
            "gridwidth": 2,
            "linecolor": "#506784",
            "showbackground": true,
            "ticks": "",
            "zerolinecolor": "#C8D4E3"
           }
          },
          "shapedefaults": {
           "line": {
            "color": "#f2f5fa"
           }
          },
          "sliderdefaults": {
           "bgcolor": "#C8D4E3",
           "bordercolor": "rgb(17,17,17)",
           "borderwidth": 1,
           "tickwidth": 0
          },
          "ternary": {
           "aaxis": {
            "gridcolor": "#506784",
            "linecolor": "#506784",
            "ticks": ""
           },
           "baxis": {
            "gridcolor": "#506784",
            "linecolor": "#506784",
            "ticks": ""
           },
           "bgcolor": "rgb(17,17,17)",
           "caxis": {
            "gridcolor": "#506784",
            "linecolor": "#506784",
            "ticks": ""
           }
          },
          "title": {
           "x": 0.05
          },
          "updatemenudefaults": {
           "bgcolor": "#506784",
           "borderwidth": 0
          },
          "xaxis": {
           "automargin": true,
           "gridcolor": "#283442",
           "linecolor": "#506784",
           "ticks": "",
           "title": {
            "standoff": 15
           },
           "zerolinecolor": "#283442",
           "zerolinewidth": 2
          },
          "yaxis": {
           "automargin": true,
           "gridcolor": "#283442",
           "linecolor": "#506784",
           "ticks": "",
           "title": {
            "standoff": 15
           },
           "zerolinecolor": "#283442",
           "zerolinewidth": 2
          }
         }
        },
        "title": {
         "text": "Standard Bars Frequency"
        },
        "xaxis": {
         "title": {
          "text": "Date"
         }
        },
        "yaxis": {
         "title": {
          "text": "Frequency"
         }
        }
       }
      }
     },
     "metadata": {},
     "output_type": "display_data"
    }
   ],
   "source": [
    "import plotly.express as px\n",
    "import plotly.graph_objects as go\n",
    "\n",
    "fig = go.Figure()\n",
    "# Create and style traces\n",
    "fig.add_trace(go.Scatter(x=countAverage.index, y=countAverage.Time, name='Time',))\n",
    "fig.add_trace(go.Scatter(x=countAverage.index, y=countAverage.Tick, name='Tick',))\n",
    "fig.add_trace(go.Scatter(x=countAverage.index, y=countAverage.Volume, name='Volume',))\n",
    "fig.add_trace(go.Scatter(x=countAverage.index, y=countAverage.Dollar, name='Dollar',))\n",
    "\n",
    "\n",
    "fig.update_layout(\n",
    "    title=\"Bagging Classifier Accuracy (function of p and N)\",\n",
    "    xaxis_title=\"p (The accuracy of a classifier is the probability p of labeling a prediction as 1)\",\n",
    "    yaxis_title=\"N (The number of independent classifers)\",\n",
    "    template=\"plotly_dark\",\n",
    ")\n",
    "# Edit the layout\n",
    "fig.update_layout(title='Standard Bars Frequency',\n",
    "                   xaxis_title='Date',\n",
    "                   yaxis_title='Frequency')\n",
    "\n",
    "\n",
    "fig.write_json('Standard Bars Frequency.json')\n",
    "\n",
    "fig.show()"
   ]
  },
  {
   "cell_type": "code",
   "execution_count": 9,
   "metadata": {},
   "outputs": [
    {
     "data": {
      "text/html": [
       "<div>\n",
       "<style scoped>\n",
       "    .dataframe tbody tr th:only-of-type {\n",
       "        vertical-align: middle;\n",
       "    }\n",
       "\n",
       "    .dataframe tbody tr th {\n",
       "        vertical-align: top;\n",
       "    }\n",
       "\n",
       "    .dataframe thead th {\n",
       "        text-align: right;\n",
       "    }\n",
       "</style>\n",
       "<table border=\"1\" class=\"dataframe\">\n",
       "  <thead>\n",
       "    <tr style=\"text-align: right;\">\n",
       "      <th></th>\n",
       "      <th>price</th>\n",
       "      <th>size</th>\n",
       "      <th>ret</th>\n",
       "      <th>label</th>\n",
       "      <th>volumelabeled</th>\n",
       "      <th>dollarslabeled</th>\n",
       "    </tr>\n",
       "    <tr>\n",
       "      <th>dates</th>\n",
       "      <th></th>\n",
       "      <th></th>\n",
       "      <th></th>\n",
       "      <th></th>\n",
       "      <th></th>\n",
       "      <th></th>\n",
       "    </tr>\n",
       "  </thead>\n",
       "  <tbody>\n",
       "    <tr>\n",
       "      <th>2020-03-02 09:00:12</th>\n",
       "      <td>114.7000</td>\n",
       "      <td>123</td>\n",
       "      <td>0.000087</td>\n",
       "      <td>1.0</td>\n",
       "      <td>123.0</td>\n",
       "      <td>1.410810e+04</td>\n",
       "    </tr>\n",
       "    <tr>\n",
       "      <th>2020-03-02 09:30:00</th>\n",
       "      <td>115.2800</td>\n",
       "      <td>26670</td>\n",
       "      <td>0.005044</td>\n",
       "      <td>1.0</td>\n",
       "      <td>26670.0</td>\n",
       "      <td>3.074518e+06</td>\n",
       "    </tr>\n",
       "    <tr>\n",
       "      <th>2020-03-02 09:30:07</th>\n",
       "      <td>115.3400</td>\n",
       "      <td>100</td>\n",
       "      <td>0.000520</td>\n",
       "      <td>1.0</td>\n",
       "      <td>100.0</td>\n",
       "      <td>1.153400e+04</td>\n",
       "    </tr>\n",
       "    <tr>\n",
       "      <th>2020-03-02 09:30:16</th>\n",
       "      <td>115.2200</td>\n",
       "      <td>100</td>\n",
       "      <td>-0.001041</td>\n",
       "      <td>-1.0</td>\n",
       "      <td>-100.0</td>\n",
       "      <td>-1.152200e+04</td>\n",
       "    </tr>\n",
       "    <tr>\n",
       "      <th>2020-03-02 09:30:26</th>\n",
       "      <td>115.2637</td>\n",
       "      <td>172</td>\n",
       "      <td>0.000379</td>\n",
       "      <td>1.0</td>\n",
       "      <td>172.0</td>\n",
       "      <td>1.982536e+04</td>\n",
       "    </tr>\n",
       "  </tbody>\n",
       "</table>\n",
       "</div>"
      ],
      "text/plain": [
       "                        price   size       ret  label  volumelabeled  \\\n",
       "dates                                                                  \n",
       "2020-03-02 09:00:12  114.7000    123  0.000087    1.0          123.0   \n",
       "2020-03-02 09:30:00  115.2800  26670  0.005044    1.0        26670.0   \n",
       "2020-03-02 09:30:07  115.3400    100  0.000520    1.0          100.0   \n",
       "2020-03-02 09:30:16  115.2200    100 -0.001041   -1.0         -100.0   \n",
       "2020-03-02 09:30:26  115.2637    172  0.000379    1.0          172.0   \n",
       "\n",
       "                     dollarslabeled  \n",
       "dates                                \n",
       "2020-03-02 09:00:12    1.410810e+04  \n",
       "2020-03-02 09:30:00    3.074518e+06  \n",
       "2020-03-02 09:30:07    1.153400e+04  \n",
       "2020-03-02 09:30:16   -1.152200e+04  \n",
       "2020-03-02 09:30:26    1.982536e+04  "
      ]
     },
     "execution_count": 9,
     "metadata": {},
     "output_type": "execute_result"
    }
   ],
   "source": [
    "# Select a smaller range\n",
    "startDate = datetime.datetime(2020, 3, 1)\n",
    "endDate = datetime.datetime(2020, 3, 5)\n",
    "dataframe2 = dataframe[((dataframe.index >= startDate) & (dataframe.index <= endDate))][['price', 'size']]\n",
    "dataframe2.drop_duplicates()\n",
    "dataframe2['ret'] = np.log(dataframe2['price']) - np.log(dataframe2['price'].shift(1))\n",
    "dataframe2['label'] = np.sign(dataframe2['ret'])\n",
    "dataframe2['volumelabeled'] = dataframe2['label']*dataframe2['size']\n",
    "dataframe2['dollarslabeled'] = dataframe2['volumelabeled']*dataframe2['price']\n",
    "dataframe2.dropna(inplace = True)\n",
    "dataframe2.head()"
   ]
  },
  {
   "cell_type": "code",
   "execution_count": 10,
   "metadata": {},
   "outputs": [
    {
     "name": "stderr",
     "output_type": "stream",
     "text": [
      "c:\\Users\\HP\\OneDrive\\RiskLab Code\\2018-02 financial data structures\\PY\\DataStructures.py:116: RuntimeWarning: invalid value encountered in double_scalars\n",
      "  ohlc['ValueOfTrades'] = tickDataGrouped.apply(lambda x:(x['price']*x['size']).sum()/x['size'].sum()) # find value of trades\n"
     ]
    }
   ],
   "source": [
    "ohlcv_time = timeBar(dataframe2, frequency = \"30Min\")\n",
    "ohlcv_tick = tickBar(dataframe2, tickPerBar = 1000, numberBars = None)\n",
    "ohlcv_volume = volumeBar(dataframe2, volumePerBar = 10000, numberBars = None)\n",
    "ohlcv_dollar = dollarBar(dataframe2, dollarPerBar = 500000, numberBars = None)"
   ]
  },
  {
   "cell_type": "code",
   "execution_count": 11,
   "metadata": {},
   "outputs": [
    {
     "name": "stdout",
     "output_type": "stream",
     "text": [
      "Completed: [------------------->] 100% - 0 minutes remaining."
     ]
    }
   ],
   "source": [
    "ohlcvinfo, thetasabsolute, thresholds = infoBar(dataframe2, type = \"dollar\", tickExpectedInit = 500)"
   ]
  }
 ],
 "metadata": {
  "kernelspec": {
   "display_name": "Python 3.10.6 ('ml')",
   "language": "python",
   "name": "python3"
  },
  "language_info": {
   "codemirror_mode": {
    "name": "ipython",
    "version": 3
   },
   "file_extension": ".py",
   "mimetype": "text/x-python",
   "name": "python",
   "nbconvert_exporter": "python",
   "pygments_lexer": "ipython3",
   "version": "3.9.13"
  },
  "orig_nbformat": 4,
  "vscode": {
   "interpreter": {
    "hash": "2ff50100434cc479892626f133397731c49cdeb5620cb5b4c3a938fe7a88ca82"
   }
  }
 },
 "nbformat": 4,
 "nbformat_minor": 2
}
