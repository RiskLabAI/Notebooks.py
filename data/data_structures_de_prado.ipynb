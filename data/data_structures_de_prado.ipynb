{
 "cells": [
  {
   "attachments": {},
   "cell_type": "markdown",
   "metadata": {},
   "source": [
    "# Import libraries"
   ]
  },
  {
   "cell_type": "code",
   "execution_count": 1,
   "metadata": {},
   "outputs": [],
   "source": [
    "import pandas as pd\n",
    "import numpy as np \n",
    "import datetime\n",
    "# import time\n",
    "# import sys\n",
    "# from scipy import stats\n",
    "from statsmodels.stats import stattools"
   ]
  },
  {
   "attachments": {},
   "cell_type": "markdown",
   "metadata": {},
   "source": [
    "# Include py file"
   ]
  },
  {
   "cell_type": "code",
<<<<<<< HEAD
   "execution_count": 1,
   "metadata": {},
   "outputs": [],
   "source": [
    "## to remove the directory and its contents\n",
    "# !rmdir /s /q RiskLabAI.py\n",
    "\n",
    "## to clone the RiskLabAI directory\n",
    "!git clone https://github.com/RiskLabAI/RiskLabAI.py.git"
=======
   "execution_count": 2,
   "metadata": {},
   "outputs": [
    {
     "name": "stdout",
     "output_type": "stream",
     "text": [
      "Collecting RiskLabAI\n",
      "  Downloading RiskLabAI-0.0.8-py3-none-any.whl (13 kB)\n",
      "Installing collected packages: RiskLabAI\n",
      "Successfully installed RiskLabAI-0.0.8\n"
     ]
    },
    {
     "name": "stderr",
     "output_type": "stream",
     "text": [
      "  WARNING: Retrying (Retry(total=4, connect=None, read=None, redirect=None, status=None)) after connection broken by 'NewConnectionError('<pip._vendor.urllib3.connection.HTTPSConnection object at 0x0000016CADFFD5A0>: Failed to establish a new connection: [Errno 11002] getaddrinfo failed')': /packages/01/d1/061e1d33fe4a95314275d5486e6db297ce93f7a163d576ad8398263ff4fb/RiskLabAI-0.0.8-py3-none-any.whl\n",
      "  WARNING: Retrying (Retry(total=3, connect=None, read=None, redirect=None, status=None)) after connection broken by 'NewConnectionError('<pip._vendor.urllib3.connection.HTTPSConnection object at 0x0000016CADFFD870>: Failed to establish a new connection: [Errno 11002] getaddrinfo failed')': /packages/01/d1/061e1d33fe4a95314275d5486e6db297ce93f7a163d576ad8398263ff4fb/RiskLabAI-0.0.8-py3-none-any.whl\n",
      "  WARNING: Retrying (Retry(total=2, connect=None, read=None, redirect=None, status=None)) after connection broken by 'NewConnectionError('<pip._vendor.urllib3.connection.HTTPSConnection object at 0x0000016CADFFDA20>: Failed to establish a new connection: [Errno 11002] getaddrinfo failed')': /packages/01/d1/061e1d33fe4a95314275d5486e6db297ce93f7a163d576ad8398263ff4fb/RiskLabAI-0.0.8-py3-none-any.whl\n",
      "  WARNING: Retrying (Retry(total=1, connect=None, read=None, redirect=None, status=None)) after connection broken by 'NewConnectionError('<pip._vendor.urllib3.connection.HTTPSConnection object at 0x0000016CADFFDBD0>: Failed to establish a new connection: [Errno 11002] getaddrinfo failed')': /packages/01/d1/061e1d33fe4a95314275d5486e6db297ce93f7a163d576ad8398263ff4fb/RiskLabAI-0.0.8-py3-none-any.whl\n",
      "  WARNING: Retrying (Retry(total=0, connect=None, read=None, redirect=None, status=None)) after connection broken by 'NewConnectionError('<pip._vendor.urllib3.connection.HTTPSConnection object at 0x0000016CADFFDD80>: Failed to establish a new connection: [Errno 11002] getaddrinfo failed')': /packages/01/d1/061e1d33fe4a95314275d5486e6db297ce93f7a163d576ad8398263ff4fb/RiskLabAI-0.0.8-py3-none-any.whl\n",
      "\n",
      "[notice] A new release of pip available: 22.2.2 -> 23.1.2\n",
      "[notice] To update, run: python.exe -m pip install --upgrade pip\n"
     ]
    }
   ],
   "source": [
    "# first run following comment if you already install previouce version of RiskLabAI\n",
    "# ! pip uninstall RiskLabAI\n",
    "!pip install RiskLabAI"
>>>>>>> 50463ce96943d0f3b3774d1c82fd0700f02862cf
   ]
  },
  {
   "cell_type": "code",
<<<<<<< HEAD
   "execution_count": 4,
   "metadata": {},
   "outputs": [],
   "source": [
    "import sys\n",
    "sys.path.append('./RiskLabAI.py/')\n",
    "# from RiskLabAI import *"
   ]
  },
  {
   "cell_type": "code",
   "execution_count": 43,
   "metadata": {},
   "outputs": [],
   "source": [
    "\n",
    "# from RiskLabAI import *"
=======
   "execution_count": 3,
   "metadata": {},
   "outputs": [],
   "source": [
    "import RiskLabAI"
>>>>>>> 50463ce96943d0f3b3774d1c82fd0700f02862cf
   ]
  },
  {
   "attachments": {},
   "cell_type": "markdown",
   "metadata": {},
   "source": [
    "# Import Tick data"
   ]
  },
  {
   "cell_type": "code",
<<<<<<< HEAD
   "execution_count": 5,
=======
   "execution_count": 4,
>>>>>>> 50463ce96943d0f3b3774d1c82fd0700f02862cf
   "metadata": {},
   "outputs": [
    {
     "data": {
      "text/html": [
       "<div>\n",
       "<style scoped>\n",
       "    .dataframe tbody tr th:only-of-type {\n",
       "        vertical-align: middle;\n",
       "    }\n",
       "\n",
       "    .dataframe tbody tr th {\n",
       "        vertical-align: top;\n",
       "    }\n",
       "\n",
       "    .dataframe thead th {\n",
       "        text-align: right;\n",
       "    }\n",
       "</style>\n",
       "<table border=\"1\" class=\"dataframe\">\n",
       "  <thead>\n",
       "    <tr style=\"text-align: right;\">\n",
       "      <th></th>\n",
       "      <th>price</th>\n",
       "      <th>bid</th>\n",
       "      <th>ask</th>\n",
       "      <th>size</th>\n",
       "    </tr>\n",
       "    <tr>\n",
       "      <th>dates</th>\n",
       "      <th></th>\n",
       "      <th></th>\n",
       "      <th></th>\n",
       "      <th></th>\n",
       "    </tr>\n",
       "  </thead>\n",
       "  <tbody>\n",
       "    <tr>\n",
       "      <th>2020-01-02 09:30:00</th>\n",
       "      <td>130.68</td>\n",
       "      <td>130.59</td>\n",
       "      <td>130.60</td>\n",
       "      <td>20625</td>\n",
       "    </tr>\n",
       "    <tr>\n",
       "      <th>2020-01-02 09:30:01</th>\n",
       "      <td>130.50</td>\n",
       "      <td>130.50</td>\n",
       "      <td>130.77</td>\n",
       "      <td>200</td>\n",
       "    </tr>\n",
       "    <tr>\n",
       "      <th>2020-01-02 09:30:04</th>\n",
       "      <td>130.53</td>\n",
       "      <td>130.52</td>\n",
       "      <td>130.78</td>\n",
       "      <td>100</td>\n",
       "    </tr>\n",
       "    <tr>\n",
       "      <th>2020-01-02 09:30:04</th>\n",
       "      <td>130.55</td>\n",
       "      <td>130.52</td>\n",
       "      <td>130.78</td>\n",
       "      <td>100</td>\n",
       "    </tr>\n",
       "    <tr>\n",
       "      <th>2020-01-02 09:30:04</th>\n",
       "      <td>130.53</td>\n",
       "      <td>130.52</td>\n",
       "      <td>130.78</td>\n",
       "      <td>200</td>\n",
       "    </tr>\n",
       "  </tbody>\n",
       "</table>\n",
       "</div>"
      ],
      "text/plain": [
       "                      price     bid     ask   size\n",
       "dates                                             \n",
       "2020-01-02 09:30:00  130.68  130.59  130.60  20625\n",
       "2020-01-02 09:30:01  130.50  130.50  130.77    200\n",
       "2020-01-02 09:30:04  130.53  130.52  130.78    100\n",
       "2020-01-02 09:30:04  130.55  130.52  130.78    100\n",
       "2020-01-02 09:30:04  130.53  130.52  130.78    200"
      ]
     },
<<<<<<< HEAD
     "execution_count": 5,
=======
     "execution_count": 4,
>>>>>>> 50463ce96943d0f3b3774d1c82fd0700f02862cf
     "metadata": {},
     "output_type": "execute_result"
    }
   ],
   "source": [
    "dir = \"https://raw.githubusercontent.com/risk-labratory/data/main/\"\n",
    "url = dir + \"IVE_2020.csv\"\n",
    "dataframe = pd.read_csv(url, header = 0)\n",
    "dataframe['dates'] = pd.to_datetime(dataframe['dates'])\n",
    "dataframe.set_index('dates', inplace = True, drop = True)\n",
    "dataframe.drop_duplicates(inplace = True)\n",
    "dataframe = dataframe[(dataframe.index.hour >= 9) & (dataframe.index.hour<16)]\n",
    "dataframe.head()"
   ]
  },
  {
   "cell_type": "code",
<<<<<<< HEAD
   "execution_count": 6,
=======
   "execution_count": 5,
>>>>>>> 50463ce96943d0f3b3774d1c82fd0700f02862cf
   "metadata": {},
   "outputs": [],
   "source": [
    "from RiskLabAI.data.structures import generate_time_bar_dataframe"
   ]
  },
  {
   "cell_type": "code",
<<<<<<< HEAD
   "execution_count": 7,
=======
   "execution_count": 6,
>>>>>>> 50463ce96943d0f3b3774d1c82fd0700f02862cf
   "metadata": {},
   "outputs": [
    {
     "name": "stderr",
     "output_type": "stream",
     "text": [
<<<<<<< HEAD
      "c:\\Users\\hamid\\OneDrive\\GitHub\\Notebooks.py\\data\\./RiskLabAI.py\\RiskLabAI\\data\\structures\\utilities.py:99: RuntimeWarning: invalid value encountered in double_scalars\n",
=======
      "c:\\Users\\Ahmad\\AppData\\Local\\Programs\\Python\\Python310\\lib\\site-packages\\RiskLabAI\\data\\structures\\utilities.py:99: RuntimeWarning: invalid value encountered in double_scalars\n",
>>>>>>> 50463ce96943d0f3b3774d1c82fd0700f02862cf
      "  lambda x: (x['price'] * x['size']).sum() / x['size'].sum()\n"
     ]
    },
    {
     "data": {
      "text/html": [
       "<div>\n",
       "<style scoped>\n",
       "    .dataframe tbody tr th:only-of-type {\n",
       "        vertical-align: middle;\n",
       "    }\n",
       "\n",
       "    .dataframe tbody tr th {\n",
       "        vertical-align: top;\n",
       "    }\n",
       "\n",
       "    .dataframe thead th {\n",
       "        text-align: right;\n",
       "    }\n",
       "</style>\n",
       "<table border=\"1\" class=\"dataframe\">\n",
       "  <thead>\n",
       "    <tr style=\"text-align: right;\">\n",
       "      <th></th>\n",
       "      <th>open</th>\n",
       "      <th>high</th>\n",
       "      <th>low</th>\n",
       "      <th>close</th>\n",
       "      <th>volume</th>\n",
       "      <th>value_of_trades</th>\n",
       "      <th>price_mean</th>\n",
       "      <th>tick_count</th>\n",
       "      <th>price_mean_log_return</th>\n",
       "    </tr>\n",
       "    <tr>\n",
       "      <th>dates</th>\n",
       "      <th></th>\n",
       "      <th></th>\n",
       "      <th></th>\n",
       "      <th></th>\n",
       "      <th></th>\n",
       "      <th></th>\n",
       "      <th></th>\n",
       "      <th></th>\n",
       "      <th></th>\n",
       "    </tr>\n",
       "  </thead>\n",
       "  <tbody>\n",
       "    <tr>\n",
       "      <th>2020-01-02 09:30:00</th>\n",
       "      <td>130.6800</td>\n",
       "      <td>130.7800</td>\n",
       "      <td>130.3700</td>\n",
       "      <td>130.4299</td>\n",
       "      <td>164048</td>\n",
       "      <td>130.585010</td>\n",
       "      <td>130.558158</td>\n",
       "      <td>262</td>\n",
       "      <td>NaN</td>\n",
       "    </tr>\n",
       "    <tr>\n",
       "      <th>2020-01-02 10:00:00</th>\n",
       "      <td>130.4000</td>\n",
       "      <td>130.4000</td>\n",
       "      <td>130.0218</td>\n",
       "      <td>130.0564</td>\n",
       "      <td>75227</td>\n",
       "      <td>130.141558</td>\n",
       "      <td>130.178844</td>\n",
       "      <td>132</td>\n",
       "      <td>-0.002910</td>\n",
       "    </tr>\n",
       "    <tr>\n",
       "      <th>2020-01-02 10:30:00</th>\n",
       "      <td>130.0800</td>\n",
       "      <td>130.2000</td>\n",
       "      <td>129.9713</td>\n",
       "      <td>130.2000</td>\n",
       "      <td>91006</td>\n",
       "      <td>130.079069</td>\n",
       "      <td>130.056870</td>\n",
       "      <td>124</td>\n",
       "      <td>-0.000937</td>\n",
       "    </tr>\n",
       "    <tr>\n",
       "      <th>2020-01-02 11:00:00</th>\n",
       "      <td>130.2050</td>\n",
       "      <td>130.2089</td>\n",
       "      <td>130.0800</td>\n",
       "      <td>130.1300</td>\n",
       "      <td>65182</td>\n",
       "      <td>130.141968</td>\n",
       "      <td>130.138222</td>\n",
       "      <td>64</td>\n",
       "      <td>0.000625</td>\n",
       "    </tr>\n",
       "    <tr>\n",
       "      <th>2020-01-02 11:30:00</th>\n",
       "      <td>130.0833</td>\n",
       "      <td>130.0833</td>\n",
       "      <td>129.9380</td>\n",
       "      <td>130.0300</td>\n",
       "      <td>84253</td>\n",
       "      <td>130.013381</td>\n",
       "      <td>130.016007</td>\n",
       "      <td>59</td>\n",
       "      <td>-0.000940</td>\n",
       "    </tr>\n",
       "    <tr>\n",
       "      <th>2020-01-02 12:00:00</th>\n",
       "      <td>130.0215</td>\n",
       "      <td>130.1179</td>\n",
       "      <td>129.9800</td>\n",
       "      <td>130.0732</td>\n",
       "      <td>59420</td>\n",
       "      <td>130.063977</td>\n",
       "      <td>130.075780</td>\n",
       "      <td>60</td>\n",
       "      <td>0.000460</td>\n",
       "    </tr>\n",
       "    <tr>\n",
       "      <th>2020-01-02 12:30:00</th>\n",
       "      <td>130.0945</td>\n",
       "      <td>130.1348</td>\n",
       "      <td>130.0420</td>\n",
       "      <td>130.0773</td>\n",
       "      <td>152349</td>\n",
       "      <td>130.084798</td>\n",
       "      <td>130.073998</td>\n",
       "      <td>125</td>\n",
       "      <td>-0.000014</td>\n",
       "    </tr>\n",
       "    <tr>\n",
       "      <th>2020-01-02 13:00:00</th>\n",
       "      <td>130.0700</td>\n",
       "      <td>130.0700</td>\n",
       "      <td>129.9566</td>\n",
       "      <td>129.9566</td>\n",
       "      <td>16861</td>\n",
       "      <td>129.995596</td>\n",
       "      <td>129.990660</td>\n",
       "      <td>45</td>\n",
       "      <td>-0.000641</td>\n",
       "    </tr>\n",
       "    <tr>\n",
       "      <th>2020-01-02 13:30:00</th>\n",
       "      <td>129.9799</td>\n",
       "      <td>130.0200</td>\n",
       "      <td>129.9400</td>\n",
       "      <td>129.9779</td>\n",
       "      <td>64199</td>\n",
       "      <td>129.969085</td>\n",
       "      <td>129.969793</td>\n",
       "      <td>81</td>\n",
       "      <td>-0.000161</td>\n",
       "    </tr>\n",
       "    <tr>\n",
       "      <th>2020-01-02 14:00:00</th>\n",
       "      <td>129.9700</td>\n",
       "      <td>130.1163</td>\n",
       "      <td>129.9700</td>\n",
       "      <td>130.0850</td>\n",
       "      <td>294131</td>\n",
       "      <td>130.083151</td>\n",
       "      <td>130.034996</td>\n",
       "      <td>126</td>\n",
       "      <td>0.000502</td>\n",
       "    </tr>\n",
       "  </tbody>\n",
       "</table>\n",
       "</div>"
      ],
      "text/plain": [
       "                         open      high       low     close  volume  \\\n",
       "dates                                                                 \n",
       "2020-01-02 09:30:00  130.6800  130.7800  130.3700  130.4299  164048   \n",
       "2020-01-02 10:00:00  130.4000  130.4000  130.0218  130.0564   75227   \n",
       "2020-01-02 10:30:00  130.0800  130.2000  129.9713  130.2000   91006   \n",
       "2020-01-02 11:00:00  130.2050  130.2089  130.0800  130.1300   65182   \n",
       "2020-01-02 11:30:00  130.0833  130.0833  129.9380  130.0300   84253   \n",
       "2020-01-02 12:00:00  130.0215  130.1179  129.9800  130.0732   59420   \n",
       "2020-01-02 12:30:00  130.0945  130.1348  130.0420  130.0773  152349   \n",
       "2020-01-02 13:00:00  130.0700  130.0700  129.9566  129.9566   16861   \n",
       "2020-01-02 13:30:00  129.9799  130.0200  129.9400  129.9779   64199   \n",
       "2020-01-02 14:00:00  129.9700  130.1163  129.9700  130.0850  294131   \n",
       "\n",
       "                     value_of_trades  price_mean  tick_count  \\\n",
       "dates                                                          \n",
       "2020-01-02 09:30:00       130.585010  130.558158         262   \n",
       "2020-01-02 10:00:00       130.141558  130.178844         132   \n",
       "2020-01-02 10:30:00       130.079069  130.056870         124   \n",
       "2020-01-02 11:00:00       130.141968  130.138222          64   \n",
       "2020-01-02 11:30:00       130.013381  130.016007          59   \n",
       "2020-01-02 12:00:00       130.063977  130.075780          60   \n",
       "2020-01-02 12:30:00       130.084798  130.073998         125   \n",
       "2020-01-02 13:00:00       129.995596  129.990660          45   \n",
       "2020-01-02 13:30:00       129.969085  129.969793          81   \n",
       "2020-01-02 14:00:00       130.083151  130.034996         126   \n",
       "\n",
       "                     price_mean_log_return  \n",
       "dates                                       \n",
       "2020-01-02 09:30:00                    NaN  \n",
       "2020-01-02 10:00:00              -0.002910  \n",
       "2020-01-02 10:30:00              -0.000937  \n",
       "2020-01-02 11:00:00               0.000625  \n",
       "2020-01-02 11:30:00              -0.000940  \n",
       "2020-01-02 12:00:00               0.000460  \n",
       "2020-01-02 12:30:00              -0.000014  \n",
       "2020-01-02 13:00:00              -0.000641  \n",
       "2020-01-02 13:30:00              -0.000161  \n",
       "2020-01-02 14:00:00               0.000502  "
      ]
     },
     "execution_count": 7,
     "metadata": {},
     "output_type": "execute_result"
    }
   ],
   "source": [
    "\n",
    "ohlcvTime = generate_time_bar_dataframe(dataframe, frequency = \"30Min\")\n",
    "ohlcvTime.head(10)"
   ]
  },
  {
   "cell_type": "code",
   "execution_count": 7,
   "metadata": {},
   "outputs": [
    {
     "ename": "TypeError",
     "evalue": "generate_tick_bar_dataframe() got an unexpected keyword argument 'tickPerBar'",
     "output_type": "error",
     "traceback": [
      "\u001b[1;31m---------------------------------------------------------------------------\u001b[0m",
      "\u001b[1;31mTypeError\u001b[0m                                 Traceback (most recent call last)",
      "\u001b[1;32me:\\Risklab\\risklabpynotebook\\Notebooks.py\\data\\data_structures_de_prado.ipynb Cell 11\u001b[0m in \u001b[0;36m<module>\u001b[1;34m\u001b[0m\n\u001b[0;32m      <a href='vscode-notebook-cell:/e%3A/Risklab/risklabpynotebook/Notebooks.py/data/data_structures_de_prado.ipynb#X15sZmlsZQ%3D%3D?line=0'>1</a>\u001b[0m \u001b[39mfrom\u001b[39;00m \u001b[39mRiskLabAI\u001b[39;00m\u001b[39m.\u001b[39;00m\u001b[39mdata\u001b[39;00m\u001b[39m.\u001b[39;00m\u001b[39mstructures\u001b[39;00m \u001b[39mimport\u001b[39;00m generate_tick_bar_dataframe\n\u001b[0;32m      <a href='vscode-notebook-cell:/e%3A/Risklab/risklabpynotebook/Notebooks.py/data/data_structures_de_prado.ipynb#X15sZmlsZQ%3D%3D?line=1'>2</a>\u001b[0m timeBarLen \u001b[39m=\u001b[39m ohlcvTime\u001b[39m.\u001b[39mshape[\u001b[39m0\u001b[39m]\n\u001b[1;32m----> <a href='vscode-notebook-cell:/e%3A/Risklab/risklabpynotebook/Notebooks.py/data/data_structures_de_prado.ipynb#X15sZmlsZQ%3D%3D?line=2'>3</a>\u001b[0m ohlcvTick \u001b[39m=\u001b[39m generate_tick_bar_dataframe(dataframe, tickPerBar \u001b[39m=\u001b[39;49m \u001b[39mNone\u001b[39;49;00m, numberBars \u001b[39m=\u001b[39;49m timeBarLen)\n\u001b[0;32m      <a href='vscode-notebook-cell:/e%3A/Risklab/risklabpynotebook/Notebooks.py/data/data_structures_de_prado.ipynb#X15sZmlsZQ%3D%3D?line=3'>4</a>\u001b[0m ohlcvTick\u001b[39m.\u001b[39mhead(\u001b[39m10\u001b[39m)\n",
      "\u001b[1;31mTypeError\u001b[0m: generate_tick_bar_dataframe() got an unexpected keyword argument 'tickPerBar'"
     ]
    }
   ],
   "source": [
    "from RiskLabAI.data.structures import generate_tick_bar_dataframe\n",
    "timeBarLen = ohlcvTime.shape[0]\n",
    "ohlcvTick = generate_tick_bar_dataframe(dataframe, tickPerBar = None, numberBars = timeBarLen)\n",
    "ohlcvTick.head(10)"
   ]
  },
  {
   "cell_type": "code",
   "execution_count": null,
   "metadata": {},
   "outputs": [],
   "source": [
    "\n",
    "from RiskLabAI.data.structures import generate_volume_bar_dataframe\n",
    "ohlcvVolume = generate_volume_bar_dataframe(dataframe, volumePerBar = None, numberBars = timeBarLen)\n",
    "ohlcvVolume.head(10)"
   ]
  },
  {
   "cell_type": "code",
   "execution_count": null,
   "metadata": {},
   "outputs": [],
   "source": [
    "ohlcvDollar = dollarBar(dataframe, dollarPerBar = None, numberBars = timeBarLen)\n",
    "ohlcvDollar.head(10)"
   ]
  },
  {
   "cell_type": "code",
   "execution_count": null,
   "metadata": {},
   "outputs": [],
   "source": [
    "countAverage = pd.DataFrame()\n",
    "countAverage['Time'] = ohlcvTime.resample(\"1W\")['TickCount'].mean()\n",
    "countAverage['Tick'] = ohlcvTick.resample(\"1W\")['TickCount'].mean()\n",
    "countAverage['Volume'] = ohlcvVolume.resample(\"1W\")['TickCount'].mean()\n",
    "countAverage['Dollar'] = ohlcvDollar.resample(\"1W\")['TickCount'].mean()\n",
    "countAverage"
   ]
  },
  {
   "cell_type": "code",
   "execution_count": null,
   "metadata": {},
   "outputs": [],
   "source": [
    "countAverage"
   ]
  },
  {
   "cell_type": "code",
   "execution_count": null,
   "metadata": {},
   "outputs": [],
   "source": [
    "import plotly.express as px\n",
    "import plotly.graph_objects as go\n",
    "\n",
    "fig = go.Figure()\n",
    "# Create and style traces\n",
    "fig.add_trace(go.Scatter(x=countAverage.index, y=countAverage.Time, name='Time',))\n",
    "fig.add_trace(go.Scatter(x=countAverage.index, y=countAverage.Tick, name='Tick',))\n",
    "fig.add_trace(go.Scatter(x=countAverage.index, y=countAverage.Volume, name='Volume',))\n",
    "fig.add_trace(go.Scatter(x=countAverage.index, y=countAverage.Dollar, name='Dollar',))\n",
    "\n",
    "\n",
    "fig.update_layout(\n",
    "    title=\"Bagging Classifier Accuracy (function of p and N)\",\n",
    "    xaxis_title=\"p (The accuracy of a classifier is the probability p of labeling a prediction as 1)\",\n",
    "    yaxis_title=\"N (The number of independent classifers)\",\n",
    "    template=\"plotly_dark\",\n",
    ")\n",
    "# Edit the layout\n",
    "fig.update_layout(title='Standard Bars Frequency',\n",
    "                   xaxis_title='Date',\n",
    "                   yaxis_title='Frequency')\n",
    "\n",
    "\n",
    "fig.write_json('Standard Bars Frequency.json')\n",
    "\n",
    "fig.show()"
   ]
  },
  {
   "cell_type": "code",
   "execution_count": null,
   "metadata": {},
   "outputs": [],
   "source": [
    "# Select a smaller range\n",
    "startDate = datetime.datetime(2020, 3, 1)\n",
    "endDate = datetime.datetime(2020, 3, 5)\n",
    "dataframe2 = dataframe[((dataframe.index >= startDate) & (dataframe.index <= endDate))][['price', 'size']]\n",
    "dataframe2.drop_duplicates()\n",
    "dataframe2['ret'] = np.log(dataframe2['price']) - np.log(dataframe2['price'].shift(1))\n",
    "dataframe2['label'] = np.sign(dataframe2['ret'])\n",
    "dataframe2['volumelabeled'] = dataframe2['label']*dataframe2['size']\n",
    "dataframe2['dollarslabeled'] = dataframe2['volumelabeled']*dataframe2['price']\n",
    "dataframe2.dropna(inplace = True)\n",
    "dataframe2.head()"
   ]
  },
  {
   "cell_type": "code",
   "execution_count": null,
   "metadata": {},
   "outputs": [],
   "source": [
    "ohlcv_time = timeBar(dataframe2, frequency = \"30Min\")\n",
    "ohlcv_tick = tickBar(dataframe2, tickPerBar = 1000, numberBars = None)\n",
    "ohlcv_volume = volumeBar(dataframe2, volumePerBar = 10000, numberBars = None)\n",
    "ohlcv_dollar = dollarBar(dataframe2, dollarPerBar = 500000, numberBars = None)"
   ]
  },
  {
   "cell_type": "code",
   "execution_count": null,
   "metadata": {},
   "outputs": [],
   "source": [
    "ohlcvinfo, thetasabsolute, thresholds = infoBar(dataframe2, type = \"dollar\", tickExpectedInit = 500)"
   ]
  }
 ],
 "metadata": {
  "kernelspec": {
   "display_name": "Python 3.10.6 ('ml')",
   "language": "python",
   "name": "python3"
  },
  "language_info": {
   "codemirror_mode": {
    "name": "ipython",
    "version": 3
   },
   "file_extension": ".py",
   "mimetype": "text/x-python",
   "name": "python",
   "nbconvert_exporter": "python",
   "pygments_lexer": "ipython3",
   "version": "3.9.13"
  },
  "orig_nbformat": 4,
  "vscode": {
   "interpreter": {
    "hash": "2ff50100434cc479892626f133397731c49cdeb5620cb5b4c3a938fe7a88ca82"
   }
  }
 },
 "nbformat": 4,
 "nbformat_minor": 2
}
