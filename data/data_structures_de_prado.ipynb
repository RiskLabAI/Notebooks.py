{
 "cells": [
  {
   "cell_type": "markdown",
   "metadata": {},
   "source": [
    "# Import libraries"
   ]
  },
  {
   "cell_type": "code",
   "execution_count": 1,
   "metadata": {},
   "outputs": [],
   "source": [
    "import pandas as pd\n",
    "import numpy as np \n",
    "import datetime\n",
    "from statsmodels.stats import stattools"
   ]
  },
  {
   "cell_type": "markdown",
   "metadata": {},
   "source": [
    "# Include py file"
   ]
  },
  {
   "cell_type": "code",
   "execution_count": 4,
   "metadata": {},
   "outputs": [
    {
     "name": "stderr",
     "output_type": "stream",
     "text": [
      "Cloning into 'RiskLabAI.py'...\n"
     ]
    }
   ],
   "source": [
    "## to remove the directory and its contents\n",
    "# !rmdir /s /q RiskLabAI.py\n",
    "\n",
    "## to clone the RiskLabAI directory\n",
    "!git clone https://github.com/RiskLabAI/RiskLabAI.py.git"
   ]
  },
  {
   "cell_type": "code",
   "execution_count": 14,
   "metadata": {},
   "outputs": [],
   "source": [
    "import sys\n",
    "sys.path.append('./RiskLabAI.py/')"
   ]
  },
  {
   "cell_type": "code",
   "execution_count": 6,
   "metadata": {},
   "outputs": [],
   "source": [
    "import RiskLabAI as risklab"
   ]
  },
  {
   "cell_type": "markdown",
   "metadata": {},
   "source": [
    "# Import Tick data"
   ]
  },
  {
   "cell_type": "code",
   "execution_count": 7,
   "metadata": {},
   "outputs": [
    {
     "data": {
      "text/html": [
       "<div>\n",
       "<style scoped>\n",
       "    .dataframe tbody tr th:only-of-type {\n",
       "        vertical-align: middle;\n",
       "    }\n",
       "\n",
       "    .dataframe tbody tr th {\n",
       "        vertical-align: top;\n",
       "    }\n",
       "\n",
       "    .dataframe thead th {\n",
       "        text-align: right;\n",
       "    }\n",
       "</style>\n",
       "<table border=\"1\" class=\"dataframe\">\n",
       "  <thead>\n",
       "    <tr style=\"text-align: right;\">\n",
       "      <th></th>\n",
       "      <th>price</th>\n",
       "      <th>bid</th>\n",
       "      <th>ask</th>\n",
       "      <th>size</th>\n",
       "    </tr>\n",
       "    <tr>\n",
       "      <th>dates</th>\n",
       "      <th></th>\n",
       "      <th></th>\n",
       "      <th></th>\n",
       "      <th></th>\n",
       "    </tr>\n",
       "  </thead>\n",
       "  <tbody>\n",
       "    <tr>\n",
       "      <th>2020-01-02 09:30:00</th>\n",
       "      <td>130.68</td>\n",
       "      <td>130.59</td>\n",
       "      <td>130.60</td>\n",
       "      <td>20625</td>\n",
       "    </tr>\n",
       "    <tr>\n",
       "      <th>2020-01-02 09:30:01</th>\n",
       "      <td>130.50</td>\n",
       "      <td>130.50</td>\n",
       "      <td>130.77</td>\n",
       "      <td>200</td>\n",
       "    </tr>\n",
       "    <tr>\n",
       "      <th>2020-01-02 09:30:04</th>\n",
       "      <td>130.53</td>\n",
       "      <td>130.52</td>\n",
       "      <td>130.78</td>\n",
       "      <td>100</td>\n",
       "    </tr>\n",
       "    <tr>\n",
       "      <th>2020-01-02 09:30:04</th>\n",
       "      <td>130.55</td>\n",
       "      <td>130.52</td>\n",
       "      <td>130.78</td>\n",
       "      <td>100</td>\n",
       "    </tr>\n",
       "    <tr>\n",
       "      <th>2020-01-02 09:30:04</th>\n",
       "      <td>130.53</td>\n",
       "      <td>130.52</td>\n",
       "      <td>130.78</td>\n",
       "      <td>200</td>\n",
       "    </tr>\n",
       "  </tbody>\n",
       "</table>\n",
       "</div>"
      ],
      "text/plain": [
       "                      price     bid     ask   size\n",
       "dates                                             \n",
       "2020-01-02 09:30:00  130.68  130.59  130.60  20625\n",
       "2020-01-02 09:30:01  130.50  130.50  130.77    200\n",
       "2020-01-02 09:30:04  130.53  130.52  130.78    100\n",
       "2020-01-02 09:30:04  130.55  130.52  130.78    100\n",
       "2020-01-02 09:30:04  130.53  130.52  130.78    200"
      ]
     },
     "execution_count": 7,
     "metadata": {},
     "output_type": "execute_result"
    }
   ],
   "source": [
    "dir = \"https://raw.githubusercontent.com/risk-labratory/data/main/\"\n",
    "url = dir + \"IVE_2020.csv\"\n",
    "dataframe = pd.read_csv(url, header = 0)\n",
    "dataframe['dates'] = pd.to_datetime(dataframe['dates'])\n",
    "dataframe.set_index('dates', inplace = True, drop = True)\n",
    "dataframe.drop_duplicates(inplace = True)\n",
    "dataframe = dataframe[(dataframe.index.hour >= 9) & (dataframe.index.hour<16)]\n",
    "dataframe.head()"
   ]
  },
  {
   "cell_type": "code",
   "execution_count": 13,
   "metadata": {},
   "outputs": [
    {
     "ename": "AttributeError",
     "evalue": "module 'RiskLabAI' has no attribute 'generate_time_bar_dataframe'",
     "output_type": "error",
     "traceback": [
      "\u001b[1;31m---------------------------------------------------------------------------\u001b[0m",
      "\u001b[1;31mAttributeError\u001b[0m                            Traceback (most recent call last)",
      "\u001b[1;32mc:\\Users\\hamid\\OneDrive\\GitHub\\Notebooks.py\\data\\data_structures_de_prado.ipynb Cell 9\u001b[0m in \u001b[0;36m1\n\u001b[1;32m----> <a href='vscode-notebook-cell:/c%3A/Users/hamid/OneDrive/GitHub/Notebooks.py/data/data_structures_de_prado.ipynb#X14sZmlsZQ%3D%3D?line=0'>1</a>\u001b[0m ohlcvTime \u001b[39m=\u001b[39m risklab\u001b[39m.\u001b[39;49mgenerate_time_bar_dataframe(dataframe, frequency \u001b[39m=\u001b[39m \u001b[39m\"\u001b[39m\u001b[39m30Min\u001b[39m\u001b[39m\"\u001b[39m)\n\u001b[0;32m      <a href='vscode-notebook-cell:/c%3A/Users/hamid/OneDrive/GitHub/Notebooks.py/data/data_structures_de_prado.ipynb#X14sZmlsZQ%3D%3D?line=1'>2</a>\u001b[0m ohlcvTime\u001b[39m.\u001b[39mhead(\u001b[39m10\u001b[39m)\n",
      "\u001b[1;31mAttributeError\u001b[0m: module 'RiskLabAI' has no attribute 'generate_time_bar_dataframe'"
     ]
    }
   ],
   "source": [
    "ohlcvTime = risklab.generate_time_bar_dataframe(dataframe, frequency = \"30Min\")\n",
    "ohlcvTime.head(10)"
   ]
  },
  {
   "cell_type": "code",
   "execution_count": 11,
   "metadata": {},
   "outputs": [
    {
     "ename": "AttributeError",
     "evalue": "module 'RiskLabAI' has no attribute 'generate_tick_bar_dataframe'",
     "output_type": "error",
     "traceback": [
      "\u001b[1;31m---------------------------------------------------------------------------\u001b[0m",
      "\u001b[1;31mAttributeError\u001b[0m                            Traceback (most recent call last)",
      "\u001b[1;32mc:\\Users\\hamid\\OneDrive\\GitHub\\Notebooks.py\\data\\data_structures_de_prado.ipynb Cell 10\u001b[0m in \u001b[0;36m1\n\u001b[1;32m----> <a href='vscode-notebook-cell:/c%3A/Users/hamid/OneDrive/GitHub/Notebooks.py/data/data_structures_de_prado.ipynb#X15sZmlsZQ%3D%3D?line=0'>1</a>\u001b[0m ohlcvTick \u001b[39m=\u001b[39m risklab\u001b[39m.\u001b[39;49mgenerate_tick_bar_dataframe(dataframe, tickPerBar \u001b[39m=\u001b[39m \u001b[39mNone\u001b[39;00m, numberBars \u001b[39m=\u001b[39m timeBarLen)\n\u001b[0;32m      <a href='vscode-notebook-cell:/c%3A/Users/hamid/OneDrive/GitHub/Notebooks.py/data/data_structures_de_prado.ipynb#X15sZmlsZQ%3D%3D?line=1'>2</a>\u001b[0m ohlcvTick\u001b[39m.\u001b[39mhead(\u001b[39m10\u001b[39m)\n",
      "\u001b[1;31mAttributeError\u001b[0m: module 'RiskLabAI' has no attribute 'generate_tick_bar_dataframe'"
     ]
    }
   ],
   "source": [
    "timeBarLen = ohlcvTime.shape[0]\n",
    "ohlcvTick = generate_tick_bar_dataframe(dataframe, tickPerBar = None, numberBars = timeBarLen)\n",
    "ohlcvTick.head(10)"
   ]
  },
  {
   "cell_type": "code",
   "execution_count": null,
   "metadata": {},
   "outputs": [],
   "source": [
    "ohlcvVolume = generate_volume_bar_dataframe(dataframe, volumePerBar = None, numberBars = timeBarLen)\n",
    "ohlcvVolume.head(10)"
   ]
  },
  {
   "cell_type": "code",
   "execution_count": null,
   "metadata": {},
   "outputs": [],
   "source": [
    "ohlcvDollar = dollarBar(dataframe, dollarPerBar = None, numberBars = timeBarLen)\n",
    "ohlcvDollar.head(10)"
   ]
  },
  {
   "cell_type": "code",
   "execution_count": null,
   "metadata": {},
   "outputs": [],
   "source": [
    "countAverage = pd.DataFrame()\n",
    "countAverage['Time'] = ohlcvTime.resample(\"1W\")['TickCount'].mean()\n",
    "countAverage['Tick'] = ohlcvTick.resample(\"1W\")['TickCount'].mean()\n",
    "countAverage['Volume'] = ohlcvVolume.resample(\"1W\")['TickCount'].mean()\n",
    "countAverage['Dollar'] = ohlcvDollar.resample(\"1W\")['TickCount'].mean()\n",
    "countAverage"
   ]
  },
  {
   "cell_type": "code",
   "execution_count": null,
   "metadata": {},
   "outputs": [],
   "source": [
    "countAverage"
   ]
  },
  {
   "cell_type": "code",
   "execution_count": null,
   "metadata": {},
   "outputs": [],
   "source": [
    "import plotly.express as px\n",
    "import plotly.graph_objects as go\n",
    "\n",
    "fig = go.Figure()\n",
    "# Create and style traces\n",
    "fig.add_trace(go.Scatter(x=countAverage.index, y=countAverage.Time, name='Time',))\n",
    "fig.add_trace(go.Scatter(x=countAverage.index, y=countAverage.Tick, name='Tick',))\n",
    "fig.add_trace(go.Scatter(x=countAverage.index, y=countAverage.Volume, name='Volume',))\n",
    "fig.add_trace(go.Scatter(x=countAverage.index, y=countAverage.Dollar, name='Dollar',))\n",
    "\n",
    "\n",
    "fig.update_layout(\n",
    "    title=\"Bagging Classifier Accuracy (function of p and N)\",\n",
    "    xaxis_title=\"p (The accuracy of a classifier is the probability p of labeling a prediction as 1)\",\n",
    "    yaxis_title=\"N (The number of independent classifers)\",\n",
    "    template=\"plotly_dark\",\n",
    ")\n",
    "# Edit the layout\n",
    "fig.update_layout(title='Standard Bars Frequency',\n",
    "                   xaxis_title='Date',\n",
    "                   yaxis_title='Frequency')\n",
    "\n",
    "\n",
    "fig.write_json('Standard Bars Frequency.json')\n",
    "\n",
    "fig.show()"
   ]
  },
  {
   "cell_type": "code",
   "execution_count": null,
   "metadata": {},
   "outputs": [],
   "source": [
    "# Select a smaller range\n",
    "startDate = datetime.datetime(2020, 3, 1)\n",
    "endDate = datetime.datetime(2020, 3, 5)\n",
    "dataframe2 = dataframe[((dataframe.index >= startDate) & (dataframe.index <= endDate))][['price', 'size']]\n",
    "dataframe2.drop_duplicates()\n",
    "dataframe2['ret'] = np.log(dataframe2['price']) - np.log(dataframe2['price'].shift(1))\n",
    "dataframe2['label'] = np.sign(dataframe2['ret'])\n",
    "dataframe2['volumelabeled'] = dataframe2['label']*dataframe2['size']\n",
    "dataframe2['dollarslabeled'] = dataframe2['volumelabeled']*dataframe2['price']\n",
    "dataframe2.dropna(inplace = True)\n",
    "dataframe2.head()"
   ]
  },
  {
   "cell_type": "code",
   "execution_count": null,
   "metadata": {},
   "outputs": [],
   "source": [
    "ohlcv_time = timeBar(dataframe2, frequency = \"30Min\")\n",
    "ohlcv_tick = tickBar(dataframe2, tickPerBar = 1000, numberBars = None)\n",
    "ohlcv_volume = volumeBar(dataframe2, volumePerBar = 10000, numberBars = None)\n",
    "ohlcv_dollar = dollarBar(dataframe2, dollarPerBar = 500000, numberBars = None)"
   ]
  },
  {
   "cell_type": "code",
   "execution_count": null,
   "metadata": {},
   "outputs": [],
   "source": [
    "ohlcvinfo, thetasabsolute, thresholds = infoBar(dataframe2, type = \"dollar\", tickExpectedInit = 500)"
   ]
  }
 ],
 "metadata": {
  "kernelspec": {
   "display_name": "Python 3.10.6 ('ml')",
   "language": "python",
   "name": "python3"
  },
  "language_info": {
   "codemirror_mode": {
    "name": "ipython",
    "version": 3
   },
   "file_extension": ".py",
   "mimetype": "text/x-python",
   "name": "python",
   "nbconvert_exporter": "python",
   "pygments_lexer": "ipython3",
   "version": "3.9.13"
  },
  "orig_nbformat": 4,
  "vscode": {
   "interpreter": {
    "hash": "2ff50100434cc479892626f133397731c49cdeb5620cb5b4c3a938fe7a88ca82"
   }
  }
 },
 "nbformat": 4,
 "nbformat_minor": 2
}
