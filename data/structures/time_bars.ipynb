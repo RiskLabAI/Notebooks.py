{
 "cells": [
  {
   "cell_type": "markdown",
   "metadata": {},
   "source": [
    "# Time Bars\n",
    "Each time bar is created by aggregating tick data within a specified time period. For example, a 1-minute time bar is created by aggregating all tick data that occurs within a 1-minute period.\n",
    "## Imports and Reading the data"
   ]
  },
  {
   "cell_type": "code",
   "metadata": {},
   "source": [
    "import pandas as pd\n",
    "\n",
    "data = pd.read_csv('./data/ahrom_edited.csv')\n",
    "\n",
    "data.date = pd.to_datetime(data.date)"
   ],
   "outputs": [],
   "execution_count": null
  },
  {
   "cell_type": "markdown",
   "metadata": {
    "jupyter": {
     "outputs_hidden": false
    },
    "pycharm": {
     "name": "#%% md\n"
    }
   },
   "source": [
    "## Create Time bars using Controller"
   ]
  },
  {
   "cell_type": "code",
   "metadata": {
    "pycharm": {
     "name": "#%%\n"
    }
   },
   "source": [
    "from RiskLabAI.controller import Controller\n",
    "controller = Controller()\n",
    "\n",
    "time = controller.handle_input_command(\n",
    "    method_name=\"time_bars\",\n",
    "    method_arguments={\n",
    "        \"resolution_type\":'MIN',\n",
    "        \"resolution_units\":10,\n",
    "    },\n",
    "    input_data=data,\n",
    "    batch_size=1_000_000,\n",
    ")\n",
    "\n",
    "time"
   ],
   "outputs": [],
   "execution_count": null
  },
  {
   "cell_type": "markdown",
   "metadata": {},
   "source": "## Create Time Bars Using TimeBar Class"
  },
  {
   "cell_type": "code",
   "metadata": {},
   "source": [
    "from RiskLabAI.data.structures.time_bar import TimeBar\n",
    "\n",
    "time_bars_api = TimeBar(\n",
    "    resolution_type=\"MIN\",\n",
    "    resolution_units=10\n",
    ")\n",
    "\n",
    "time_bars = time_bars_api.construct_bars_from_data(data.values)\n",
    "len(time_bars), len(time_bars[0]), time_bars[0]"
   ],
   "outputs": [],
   "execution_count": null
  },
  {
   "cell_type": "code",
   "metadata": {},
   "source": [
    "time_bars_pd = time_bars_api.to_df(time_bars)\n",
    "time_bars_pd.head(100)"
   ],
   "outputs": [],
   "execution_count": null
  },
  {
   "cell_type": "code",
   "metadata": {},
   "source": [],
   "outputs": [],
   "execution_count": null
  }
 ],
 "metadata": {
  "kernelspec": {
   "display_name": "Python 3 (ipykernel)",
   "language": "python",
   "name": "python3"
  },
  "language_info": {
   "codemirror_mode": {
    "name": "ipython",
    "version": 3
   },
   "file_extension": ".py",
   "mimetype": "text/x-python",
   "name": "python",
   "nbconvert_exporter": "python",
   "pygments_lexer": "ipython3",
   "version": "3.7.12"
  }
 },
 "nbformat": 4,
 "nbformat_minor": 4
}
