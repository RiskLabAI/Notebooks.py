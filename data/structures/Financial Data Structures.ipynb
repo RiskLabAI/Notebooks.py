{
 "cells": [
  {
   "attachments": {},
   "cell_type": "markdown",
   "metadata": {},
   "source": [
    "---\n",
    "# **Financial Data Structures**\n",
    "\n",
    "---"
   ]
  },
  {
   "attachments": {},
   "cell_type": "markdown",
   "metadata": {},
   "source": [
    "# Preliminaries"
   ]
  },
  {
   "attachments": {},
   "cell_type": "markdown",
   "metadata": {},
   "source": [
    "## Libraries"
   ]
  },
  {
   "cell_type": "code",
   "execution_count": 3,
   "metadata": {
    "ExecuteTime": {
     "end_time": "2024-03-14T13:55:24.677702400Z",
     "start_time": "2024-03-14T13:55:13.660700200Z"
    }
   },
   "outputs": [
    {
     "name": "stderr",
     "output_type": "stream",
     "text": [
      "/Users/amirshokat/anaconda3/lib/python3.11/site-packages/RiskLabAI/utils/ewma.py:6: NumbaDeprecationWarning: \u001b[1mThe keyword argument 'nopython=False' was supplied. From Numba 0.59.0 the default is being changed to True and use of 'nopython=False' will raise a warning as the argument will have no effect. See https://numba.readthedocs.io/en/stable/reference/deprecation.html#deprecation-of-object-mode-fall-back-behaviour-when-using-jit for details.\u001b[0m\n",
      "  @jit((float64[:], int64), nopython=False, nogil=True)\n"
     ]
    }
   ],
   "source": [
    "# Imports libraries\n",
    "\n",
    "# Import functions from RiskLabAI\n",
    "from RiskLabAI.controller import Controller\n",
    "from RiskLabAI.data.structures.data_structures_lopez import *\n",
    "from RiskLabAI.utils import *\n",
    "\n",
    "from RiskLabAI.data.structures.imbalance_bars import ExpectedImbalanceBars, FixedImbalanceBars\n",
    "from RiskLabAI.data.structures.run_bars import ExpectedRunBars, FixedRunBars\n",
    "from RiskLabAI.data.structures.standard_bars import StandardBars\n",
    "from RiskLabAI.data.structures.time_bars import TimeBars\n",
    "\n",
    "from RiskLabAI.utils.constants import CUMULATIVE_DOLLAR, CUMULATIVE_VOLUME, CUMULATIVE_TICKS\n",
    "\n",
    "from RiskLabAI.controller import Controller\n",
    "\n",
    "\n",
    "\n",
    "import plotly.graph_objects as go\n",
    "from openpyxl import load_workbook\n",
    "import plotly.express as px\n",
    "import warnings\n",
    "warnings.filterwarnings(\"ignore\")\n",
    "\n",
    "\n",
    "# Set plotting backend and handle numpy errors\n",
    "pd.options.plotting.backend = \"plotly\"\n",
    "np.seterr(divide='ignore', invalid='ignore')\n",
    "\n",
    "\n",
    "import datetime\n",
    "import time\n",
    "import sys\n",
    "from statsmodels.stats import stattools\n",
    "import os\n",
    "\n",
    "import numpy as np\n",
    "import pandas as pd\n",
    "import matplotlib.pyplot as plt\n",
    "from scipy import stats\n",
    "import seaborn as sns\n",
    "\n",
    "# !pip3 install dtale\n",
    "import dtale\n",
    "\n",
    "# Path to save the Excel file\n",
    "excel_file_path = \"structure.xlsx\"\n",
    "\n",
    "# Initialize the Excel file\n",
    "wb = load_workbook(excel_file_path) if os.path.exists(excel_file_path) else None"
   ]
  },
  {
   "cell_type": "markdown",
   "metadata": {},
   "source": [
    "# Financial Data Structures Using RiskLabAI\n"
   ]
  },
  {
   "cell_type": "markdown",
   "metadata": {},
   "source": [
    "## Data Import and Initial Processing"
   ]
  },
  {
   "cell_type": "code",
   "execution_count": 4,
   "metadata": {},
   "outputs": [
    {
     "data": {
      "text/html": [
       "<div>\n",
       "<style scoped>\n",
       "    .dataframe tbody tr th:only-of-type {\n",
       "        vertical-align: middle;\n",
       "    }\n",
       "\n",
       "    .dataframe tbody tr th {\n",
       "        vertical-align: top;\n",
       "    }\n",
       "\n",
       "    .dataframe thead th {\n",
       "        text-align: right;\n",
       "    }\n",
       "</style>\n",
       "<table border=\"1\" class=\"dataframe\">\n",
       "  <thead>\n",
       "    <tr style=\"text-align: right;\">\n",
       "      <th></th>\n",
       "      <th>date</th>\n",
       "      <th>price</th>\n",
       "      <th>volume</th>\n",
       "    </tr>\n",
       "  </thead>\n",
       "  <tbody>\n",
       "    <tr>\n",
       "      <th>0</th>\n",
       "      <td>2022-06-01 09:05:25</td>\n",
       "      <td>13170.0</td>\n",
       "      <td>5000.0</td>\n",
       "    </tr>\n",
       "    <tr>\n",
       "      <th>1</th>\n",
       "      <td>2022-06-01 09:06:38</td>\n",
       "      <td>13170.0</td>\n",
       "      <td>500.0</td>\n",
       "    </tr>\n",
       "    <tr>\n",
       "      <th>2</th>\n",
       "      <td>2022-06-01 09:06:38</td>\n",
       "      <td>13180.0</td>\n",
       "      <td>5000.0</td>\n",
       "    </tr>\n",
       "    <tr>\n",
       "      <th>3</th>\n",
       "      <td>2022-06-01 09:06:38</td>\n",
       "      <td>13190.0</td>\n",
       "      <td>4500.0</td>\n",
       "    </tr>\n",
       "    <tr>\n",
       "      <th>4</th>\n",
       "      <td>2022-06-01 09:08:09</td>\n",
       "      <td>13180.0</td>\n",
       "      <td>440.0</td>\n",
       "    </tr>\n",
       "    <tr>\n",
       "      <th>...</th>\n",
       "      <td>...</td>\n",
       "      <td>...</td>\n",
       "      <td>...</td>\n",
       "    </tr>\n",
       "    <tr>\n",
       "      <th>729721</th>\n",
       "      <td>2023-03-29 12:29:58</td>\n",
       "      <td>22720.0</td>\n",
       "      <td>24.0</td>\n",
       "    </tr>\n",
       "    <tr>\n",
       "      <th>729722</th>\n",
       "      <td>2023-03-29 12:29:58</td>\n",
       "      <td>22720.0</td>\n",
       "      <td>21981.0</td>\n",
       "    </tr>\n",
       "    <tr>\n",
       "      <th>729723</th>\n",
       "      <td>2023-03-29 12:29:58</td>\n",
       "      <td>22720.0</td>\n",
       "      <td>1000.0</td>\n",
       "    </tr>\n",
       "    <tr>\n",
       "      <th>729724</th>\n",
       "      <td>2023-03-29 12:29:58</td>\n",
       "      <td>22720.0</td>\n",
       "      <td>100.0</td>\n",
       "    </tr>\n",
       "    <tr>\n",
       "      <th>729725</th>\n",
       "      <td>2023-03-29 12:29:58</td>\n",
       "      <td>22720.0</td>\n",
       "      <td>1000.0</td>\n",
       "    </tr>\n",
       "  </tbody>\n",
       "</table>\n",
       "<p>729726 rows × 3 columns</p>\n",
       "</div>"
      ],
      "text/plain": [
       "                      date    price   volume\n",
       "0      2022-06-01 09:05:25  13170.0   5000.0\n",
       "1      2022-06-01 09:06:38  13170.0    500.0\n",
       "2      2022-06-01 09:06:38  13180.0   5000.0\n",
       "3      2022-06-01 09:06:38  13190.0   4500.0\n",
       "4      2022-06-01 09:08:09  13180.0    440.0\n",
       "...                    ...      ...      ...\n",
       "729721 2023-03-29 12:29:58  22720.0     24.0\n",
       "729722 2023-03-29 12:29:58  22720.0  21981.0\n",
       "729723 2023-03-29 12:29:58  22720.0   1000.0\n",
       "729724 2023-03-29 12:29:58  22720.0    100.0\n",
       "729725 2023-03-29 12:29:58  22720.0   1000.0\n",
       "\n",
       "[729726 rows x 3 columns]"
      ]
     },
     "execution_count": 4,
     "metadata": {},
     "output_type": "execute_result"
    }
   ],
   "source": [
    "controller = Controller()\n",
    "data = pd.read_csv('ahrom_edited.csv')\n",
    "data[\"date\"] = pd.to_datetime(data[\"date\"])\n",
    "data"
   ]
  },
  {
   "cell_type": "markdown",
   "metadata": {},
   "source": [
    "## Bars"
   ]
  },
  {
   "cell_type": "markdown",
   "metadata": {},
   "source": [
    "### Standard Bars"
   ]
  },
  {
   "cell_type": "markdown",
   "metadata": {},
   "source": [
    "#### Time Bars"
   ]
  },
  {
   "cell_type": "code",
   "execution_count": 5,
   "metadata": {},
   "outputs": [
    {
     "name": "stdout",
     "output_type": "stream",
     "text": [
      "Processing batch 0 with size 729726\n"
     ]
    },
    {
     "data": {
      "text/html": [
       "<div>\n",
       "<style scoped>\n",
       "    .dataframe tbody tr th:only-of-type {\n",
       "        vertical-align: middle;\n",
       "    }\n",
       "\n",
       "    .dataframe tbody tr th {\n",
       "        vertical-align: top;\n",
       "    }\n",
       "\n",
       "    .dataframe thead th {\n",
       "        text-align: right;\n",
       "    }\n",
       "</style>\n",
       "<table border=\"1\" class=\"dataframe\">\n",
       "  <thead>\n",
       "    <tr style=\"text-align: right;\">\n",
       "      <th></th>\n",
       "      <th>Date Time</th>\n",
       "      <th>Tick Number</th>\n",
       "      <th>Open</th>\n",
       "      <th>High</th>\n",
       "      <th>Low</th>\n",
       "      <th>Close</th>\n",
       "      <th>Cumulative Volume</th>\n",
       "      <th>Cumulative Buy Volume</th>\n",
       "      <th>Cumulative Sell Volume</th>\n",
       "      <th>Cumulative Ticks</th>\n",
       "      <th>Cumulative Dollar Value</th>\n",
       "      <th>Threshold</th>\n",
       "    </tr>\n",
       "  </thead>\n",
       "  <tbody>\n",
       "    <tr>\n",
       "      <th>0</th>\n",
       "      <td>2022-06-01 09:13:00</td>\n",
       "      <td>8</td>\n",
       "      <td>13170.0</td>\n",
       "      <td>13190.0</td>\n",
       "      <td>13060.0</td>\n",
       "      <td>13180.0</td>\n",
       "      <td>27744.0</td>\n",
       "      <td>9500.0</td>\n",
       "      <td>18244.0</td>\n",
       "      <td>8</td>\n",
       "      <td>3.651488e+08</td>\n",
       "      <td>1654075200</td>\n",
       "    </tr>\n",
       "    <tr>\n",
       "      <th>1</th>\n",
       "      <td>2022-06-01 09:22:31</td>\n",
       "      <td>41</td>\n",
       "      <td>13060.0</td>\n",
       "      <td>13100.0</td>\n",
       "      <td>12980.0</td>\n",
       "      <td>12980.0</td>\n",
       "      <td>259989.0</td>\n",
       "      <td>46144.0</td>\n",
       "      <td>213845.0</td>\n",
       "      <td>33</td>\n",
       "      <td>3.382478e+09</td>\n",
       "      <td>1654075800</td>\n",
       "    </tr>\n",
       "    <tr>\n",
       "      <th>2</th>\n",
       "      <td>2022-06-01 09:33:09</td>\n",
       "      <td>56</td>\n",
       "      <td>12960.0</td>\n",
       "      <td>12970.0</td>\n",
       "      <td>12900.0</td>\n",
       "      <td>12900.0</td>\n",
       "      <td>51512.0</td>\n",
       "      <td>774.0</td>\n",
       "      <td>50738.0</td>\n",
       "      <td>15</td>\n",
       "      <td>6.669495e+08</td>\n",
       "      <td>1654076400</td>\n",
       "    </tr>\n",
       "    <tr>\n",
       "      <th>3</th>\n",
       "      <td>2022-06-01 09:41:25</td>\n",
       "      <td>94</td>\n",
       "      <td>12910.0</td>\n",
       "      <td>12980.0</td>\n",
       "      <td>12850.0</td>\n",
       "      <td>12860.0</td>\n",
       "      <td>186055.0</td>\n",
       "      <td>67155.0</td>\n",
       "      <td>118900.0</td>\n",
       "      <td>38</td>\n",
       "      <td>2.395223e+09</td>\n",
       "      <td>1654077000</td>\n",
       "    </tr>\n",
       "    <tr>\n",
       "      <th>4</th>\n",
       "      <td>2022-06-01 09:50:45</td>\n",
       "      <td>102</td>\n",
       "      <td>12900.0</td>\n",
       "      <td>12950.0</td>\n",
       "      <td>12890.0</td>\n",
       "      <td>12890.0</td>\n",
       "      <td>59899.0</td>\n",
       "      <td>3400.0</td>\n",
       "      <td>56499.0</td>\n",
       "      <td>8</td>\n",
       "      <td>7.723361e+08</td>\n",
       "      <td>1654077600</td>\n",
       "    </tr>\n",
       "  </tbody>\n",
       "</table>\n",
       "</div>"
      ],
      "text/plain": [
       "            Date Time  Tick Number     Open     High      Low    Close  \\\n",
       "0 2022-06-01 09:13:00            8  13170.0  13190.0  13060.0  13180.0   \n",
       "1 2022-06-01 09:22:31           41  13060.0  13100.0  12980.0  12980.0   \n",
       "2 2022-06-01 09:33:09           56  12960.0  12970.0  12900.0  12900.0   \n",
       "3 2022-06-01 09:41:25           94  12910.0  12980.0  12850.0  12860.0   \n",
       "4 2022-06-01 09:50:45          102  12900.0  12950.0  12890.0  12890.0   \n",
       "\n",
       "   Cumulative Volume  Cumulative Buy Volume  Cumulative Sell Volume  \\\n",
       "0            27744.0                 9500.0                 18244.0   \n",
       "1           259989.0                46144.0                213845.0   \n",
       "2            51512.0                  774.0                 50738.0   \n",
       "3           186055.0                67155.0                118900.0   \n",
       "4            59899.0                 3400.0                 56499.0   \n",
       "\n",
       "   Cumulative Ticks  Cumulative Dollar Value   Threshold  \n",
       "0                 8             3.651488e+08  1654075200  \n",
       "1                33             3.382478e+09  1654075800  \n",
       "2                15             6.669495e+08  1654076400  \n",
       "3                38             2.395223e+09  1654077000  \n",
       "4                 8             7.723361e+08  1654077600  "
      ]
     },
     "execution_count": 5,
     "metadata": {},
     "output_type": "execute_result"
    }
   ],
   "source": [
    "time = controller.handle_input_command(\n",
    "    method_name=\"time_bars\",\n",
    "    method_arguments={\n",
    "        \"resolution_type\":'MIN',\n",
    "        \"resolution_units\":10,\n",
    "    },\n",
    "    input_data=data,\n",
    "    batch_size=1_000_000,\n",
    ")\n",
    "\n",
    "time.head()"
   ]
  },
  {
   "cell_type": "markdown",
   "metadata": {},
   "source": [
    "#### Tick Bars"
   ]
  },
  {
   "cell_type": "code",
   "execution_count": 6,
   "metadata": {},
   "outputs": [
    {
     "name": "stdout",
     "output_type": "stream",
     "text": [
      "Processing batch 0 with size 729726\n"
     ]
    },
    {
     "data": {
      "text/html": [
       "<div>\n",
       "<style scoped>\n",
       "    .dataframe tbody tr th:only-of-type {\n",
       "        vertical-align: middle;\n",
       "    }\n",
       "\n",
       "    .dataframe tbody tr th {\n",
       "        vertical-align: top;\n",
       "    }\n",
       "\n",
       "    .dataframe thead th {\n",
       "        text-align: right;\n",
       "    }\n",
       "</style>\n",
       "<table border=\"1\" class=\"dataframe\">\n",
       "  <thead>\n",
       "    <tr style=\"text-align: right;\">\n",
       "      <th></th>\n",
       "      <th>Date Time</th>\n",
       "      <th>Tick Number</th>\n",
       "      <th>Open</th>\n",
       "      <th>High</th>\n",
       "      <th>Low</th>\n",
       "      <th>Close</th>\n",
       "      <th>Cumulative Volume</th>\n",
       "      <th>Cumulative Buy Volume</th>\n",
       "      <th>Cumulative Sell Volume</th>\n",
       "      <th>Cumulative Ticks</th>\n",
       "      <th>Cumulative Dollar Value</th>\n",
       "      <th>Threshold</th>\n",
       "    </tr>\n",
       "  </thead>\n",
       "  <tbody>\n",
       "    <tr>\n",
       "      <th>0</th>\n",
       "      <td>2022-06-01 11:01:24</td>\n",
       "      <td>250</td>\n",
       "      <td>13170.0</td>\n",
       "      <td>13390.0</td>\n",
       "      <td>12850.0</td>\n",
       "      <td>13080.0</td>\n",
       "      <td>3095015.0</td>\n",
       "      <td>1484884.0</td>\n",
       "      <td>1610131.0</td>\n",
       "      <td>250</td>\n",
       "      <td>4.046628e+10</td>\n",
       "      <td>250</td>\n",
       "    </tr>\n",
       "    <tr>\n",
       "      <th>1</th>\n",
       "      <td>2022-06-06 09:09:27</td>\n",
       "      <td>500</td>\n",
       "      <td>13080.0</td>\n",
       "      <td>13200.0</td>\n",
       "      <td>12870.0</td>\n",
       "      <td>12880.0</td>\n",
       "      <td>3278822.0</td>\n",
       "      <td>1642446.0</td>\n",
       "      <td>1636376.0</td>\n",
       "      <td>250</td>\n",
       "      <td>4.286670e+10</td>\n",
       "      <td>250</td>\n",
       "    </tr>\n",
       "    <tr>\n",
       "      <th>2</th>\n",
       "      <td>2022-06-06 10:04:43</td>\n",
       "      <td>750</td>\n",
       "      <td>12880.0</td>\n",
       "      <td>12890.0</td>\n",
       "      <td>12220.0</td>\n",
       "      <td>12470.0</td>\n",
       "      <td>3120580.0</td>\n",
       "      <td>637175.0</td>\n",
       "      <td>2483405.0</td>\n",
       "      <td>250</td>\n",
       "      <td>3.957106e+10</td>\n",
       "      <td>250</td>\n",
       "    </tr>\n",
       "    <tr>\n",
       "      <th>3</th>\n",
       "      <td>2022-06-06 11:43:39</td>\n",
       "      <td>1000</td>\n",
       "      <td>12490.0</td>\n",
       "      <td>12580.0</td>\n",
       "      <td>12260.0</td>\n",
       "      <td>12380.0</td>\n",
       "      <td>2325754.0</td>\n",
       "      <td>1072127.0</td>\n",
       "      <td>1253627.0</td>\n",
       "      <td>250</td>\n",
       "      <td>2.881367e+10</td>\n",
       "      <td>250</td>\n",
       "    </tr>\n",
       "    <tr>\n",
       "      <th>4</th>\n",
       "      <td>2022-06-07 09:32:17</td>\n",
       "      <td>1250</td>\n",
       "      <td>12380.0</td>\n",
       "      <td>12770.0</td>\n",
       "      <td>12300.0</td>\n",
       "      <td>12530.0</td>\n",
       "      <td>2358989.0</td>\n",
       "      <td>1341340.0</td>\n",
       "      <td>1017649.0</td>\n",
       "      <td>250</td>\n",
       "      <td>2.933229e+10</td>\n",
       "      <td>250</td>\n",
       "    </tr>\n",
       "  </tbody>\n",
       "</table>\n",
       "</div>"
      ],
      "text/plain": [
       "            Date Time  Tick Number     Open     High      Low    Close  \\\n",
       "0 2022-06-01 11:01:24          250  13170.0  13390.0  12850.0  13080.0   \n",
       "1 2022-06-06 09:09:27          500  13080.0  13200.0  12870.0  12880.0   \n",
       "2 2022-06-06 10:04:43          750  12880.0  12890.0  12220.0  12470.0   \n",
       "3 2022-06-06 11:43:39         1000  12490.0  12580.0  12260.0  12380.0   \n",
       "4 2022-06-07 09:32:17         1250  12380.0  12770.0  12300.0  12530.0   \n",
       "\n",
       "   Cumulative Volume  Cumulative Buy Volume  Cumulative Sell Volume  \\\n",
       "0          3095015.0              1484884.0               1610131.0   \n",
       "1          3278822.0              1642446.0               1636376.0   \n",
       "2          3120580.0               637175.0               2483405.0   \n",
       "3          2325754.0              1072127.0               1253627.0   \n",
       "4          2358989.0              1341340.0               1017649.0   \n",
       "\n",
       "   Cumulative Ticks  Cumulative Dollar Value  Threshold  \n",
       "0               250             4.046628e+10        250  \n",
       "1               250             4.286670e+10        250  \n",
       "2               250             3.957106e+10        250  \n",
       "3               250             2.881367e+10        250  \n",
       "4               250             2.933229e+10        250  "
      ]
     },
     "execution_count": 6,
     "metadata": {},
     "output_type": "execute_result"
    }
   ],
   "source": [
    "tick = controller.handle_input_command(\n",
    "    method_name=\"tick_standard_bars\",\n",
    "    method_arguments={\n",
    "        \"threshold\": 250,\n",
    "    },\n",
    "    input_data=data,\n",
    "    batch_size=1_000_000,\n",
    ")\n",
    "\n",
    "tick.head()"
   ]
  },
  {
   "cell_type": "markdown",
   "metadata": {},
   "source": [
    "#### Volume Bars"
   ]
  },
  {
   "cell_type": "code",
   "execution_count": 7,
   "metadata": {},
   "outputs": [
    {
     "name": "stdout",
     "output_type": "stream",
     "text": [
      "Processing batch 0 with size 729726\n"
     ]
    },
    {
     "data": {
      "text/html": [
       "<div>\n",
       "<style scoped>\n",
       "    .dataframe tbody tr th:only-of-type {\n",
       "        vertical-align: middle;\n",
       "    }\n",
       "\n",
       "    .dataframe tbody tr th {\n",
       "        vertical-align: top;\n",
       "    }\n",
       "\n",
       "    .dataframe thead th {\n",
       "        text-align: right;\n",
       "    }\n",
       "</style>\n",
       "<table border=\"1\" class=\"dataframe\">\n",
       "  <thead>\n",
       "    <tr style=\"text-align: right;\">\n",
       "      <th></th>\n",
       "      <th>Date Time</th>\n",
       "      <th>Tick Number</th>\n",
       "      <th>Open</th>\n",
       "      <th>High</th>\n",
       "      <th>Low</th>\n",
       "      <th>Close</th>\n",
       "      <th>Cumulative Volume</th>\n",
       "      <th>Cumulative Buy Volume</th>\n",
       "      <th>Cumulative Sell Volume</th>\n",
       "      <th>Cumulative Ticks</th>\n",
       "      <th>Cumulative Dollar Value</th>\n",
       "      <th>Threshold</th>\n",
       "    </tr>\n",
       "  </thead>\n",
       "  <tbody>\n",
       "    <tr>\n",
       "      <th>0</th>\n",
       "      <td>2022-06-01 11:29:18</td>\n",
       "      <td>290</td>\n",
       "      <td>13170.0</td>\n",
       "      <td>13390.0</td>\n",
       "      <td>12850.0</td>\n",
       "      <td>13100.0</td>\n",
       "      <td>3521932.0</td>\n",
       "      <td>1795147.0</td>\n",
       "      <td>1726785.0</td>\n",
       "      <td>290</td>\n",
       "      <td>4.605738e+10</td>\n",
       "      <td>3500000</td>\n",
       "    </tr>\n",
       "    <tr>\n",
       "      <th>1</th>\n",
       "      <td>2022-06-06 09:15:54</td>\n",
       "      <td>538</td>\n",
       "      <td>13130.0</td>\n",
       "      <td>13200.0</td>\n",
       "      <td>12800.0</td>\n",
       "      <td>12800.0</td>\n",
       "      <td>3556348.0</td>\n",
       "      <td>1459490.0</td>\n",
       "      <td>2096858.0</td>\n",
       "      <td>248</td>\n",
       "      <td>4.630839e+10</td>\n",
       "      <td>3500000</td>\n",
       "    </tr>\n",
       "    <tr>\n",
       "      <th>2</th>\n",
       "      <td>2022-06-06 10:57:27</td>\n",
       "      <td>902</td>\n",
       "      <td>12800.0</td>\n",
       "      <td>12890.0</td>\n",
       "      <td>12220.0</td>\n",
       "      <td>12270.0</td>\n",
       "      <td>3516317.0</td>\n",
       "      <td>813844.0</td>\n",
       "      <td>2702473.0</td>\n",
       "      <td>364</td>\n",
       "      <td>4.412750e+10</td>\n",
       "      <td>3500000</td>\n",
       "    </tr>\n",
       "    <tr>\n",
       "      <th>3</th>\n",
       "      <td>2022-06-07 09:29:28</td>\n",
       "      <td>1241</td>\n",
       "      <td>12260.0</td>\n",
       "      <td>12770.0</td>\n",
       "      <td>12260.0</td>\n",
       "      <td>12510.0</td>\n",
       "      <td>3512073.0</td>\n",
       "      <td>2037001.0</td>\n",
       "      <td>1475072.0</td>\n",
       "      <td>339</td>\n",
       "      <td>4.364896e+10</td>\n",
       "      <td>3500000</td>\n",
       "    </tr>\n",
       "    <tr>\n",
       "      <th>4</th>\n",
       "      <td>2022-06-07 10:41:14</td>\n",
       "      <td>1441</td>\n",
       "      <td>12520.0</td>\n",
       "      <td>12700.0</td>\n",
       "      <td>12480.0</td>\n",
       "      <td>12500.0</td>\n",
       "      <td>3556973.0</td>\n",
       "      <td>1627044.0</td>\n",
       "      <td>1929929.0</td>\n",
       "      <td>200</td>\n",
       "      <td>4.493069e+10</td>\n",
       "      <td>3500000</td>\n",
       "    </tr>\n",
       "  </tbody>\n",
       "</table>\n",
       "</div>"
      ],
      "text/plain": [
       "            Date Time  Tick Number     Open     High      Low    Close  \\\n",
       "0 2022-06-01 11:29:18          290  13170.0  13390.0  12850.0  13100.0   \n",
       "1 2022-06-06 09:15:54          538  13130.0  13200.0  12800.0  12800.0   \n",
       "2 2022-06-06 10:57:27          902  12800.0  12890.0  12220.0  12270.0   \n",
       "3 2022-06-07 09:29:28         1241  12260.0  12770.0  12260.0  12510.0   \n",
       "4 2022-06-07 10:41:14         1441  12520.0  12700.0  12480.0  12500.0   \n",
       "\n",
       "   Cumulative Volume  Cumulative Buy Volume  Cumulative Sell Volume  \\\n",
       "0          3521932.0              1795147.0               1726785.0   \n",
       "1          3556348.0              1459490.0               2096858.0   \n",
       "2          3516317.0               813844.0               2702473.0   \n",
       "3          3512073.0              2037001.0               1475072.0   \n",
       "4          3556973.0              1627044.0               1929929.0   \n",
       "\n",
       "   Cumulative Ticks  Cumulative Dollar Value  Threshold  \n",
       "0               290             4.605738e+10    3500000  \n",
       "1               248             4.630839e+10    3500000  \n",
       "2               364             4.412750e+10    3500000  \n",
       "3               339             4.364896e+10    3500000  \n",
       "4               200             4.493069e+10    3500000  "
      ]
     },
     "execution_count": 7,
     "metadata": {},
     "output_type": "execute_result"
    }
   ],
   "source": [
    "volume = controller.handle_input_command(\n",
    "    method_name=\"volume_standard_bars\",\n",
    "    method_arguments={\n",
    "        \"threshold\": 3_500_000,\n",
    "    },\n",
    "    input_data=data,\n",
    "    batch_size=1_000_000\n",
    ")\n",
    "\n",
    "volume.head()"
   ]
  },
  {
   "cell_type": "markdown",
   "metadata": {},
   "source": [
    "#### Dollar Bars"
   ]
  },
  {
   "cell_type": "code",
   "execution_count": 8,
   "metadata": {},
   "outputs": [
    {
     "name": "stdout",
     "output_type": "stream",
     "text": [
      "Processing batch 0 with size 729726\n"
     ]
    },
    {
     "data": {
      "text/html": [
       "<div>\n",
       "<style scoped>\n",
       "    .dataframe tbody tr th:only-of-type {\n",
       "        vertical-align: middle;\n",
       "    }\n",
       "\n",
       "    .dataframe tbody tr th {\n",
       "        vertical-align: top;\n",
       "    }\n",
       "\n",
       "    .dataframe thead th {\n",
       "        text-align: right;\n",
       "    }\n",
       "</style>\n",
       "<table border=\"1\" class=\"dataframe\">\n",
       "  <thead>\n",
       "    <tr style=\"text-align: right;\">\n",
       "      <th></th>\n",
       "      <th>Date Time</th>\n",
       "      <th>Tick Number</th>\n",
       "      <th>Open</th>\n",
       "      <th>High</th>\n",
       "      <th>Low</th>\n",
       "      <th>Close</th>\n",
       "      <th>Cumulative Volume</th>\n",
       "      <th>Cumulative Buy Volume</th>\n",
       "      <th>Cumulative Sell Volume</th>\n",
       "      <th>Cumulative Ticks</th>\n",
       "      <th>Cumulative Dollar Value</th>\n",
       "      <th>Threshold</th>\n",
       "    </tr>\n",
       "  </thead>\n",
       "  <tbody>\n",
       "    <tr>\n",
       "      <th>0</th>\n",
       "      <td>2022-06-01 11:53:13</td>\n",
       "      <td>361</td>\n",
       "      <td>13170.0</td>\n",
       "      <td>13390.0</td>\n",
       "      <td>12850.0</td>\n",
       "      <td>13100.0</td>\n",
       "      <td>4602162.0</td>\n",
       "      <td>2129547.0</td>\n",
       "      <td>2472615.0</td>\n",
       "      <td>361</td>\n",
       "      <td>6.018782e+10</td>\n",
       "      <td>60000000000</td>\n",
       "    </tr>\n",
       "    <tr>\n",
       "      <th>1</th>\n",
       "      <td>2022-06-06 09:54:16</td>\n",
       "      <td>724</td>\n",
       "      <td>13100.0</td>\n",
       "      <td>13200.0</td>\n",
       "      <td>12220.0</td>\n",
       "      <td>12460.0</td>\n",
       "      <td>4678312.0</td>\n",
       "      <td>1589824.0</td>\n",
       "      <td>3088488.0</td>\n",
       "      <td>363</td>\n",
       "      <td>6.004993e+10</td>\n",
       "      <td>60000000000</td>\n",
       "    </tr>\n",
       "    <tr>\n",
       "      <th>2</th>\n",
       "      <td>2022-06-07 09:29:29</td>\n",
       "      <td>1242</td>\n",
       "      <td>12460.0</td>\n",
       "      <td>12770.0</td>\n",
       "      <td>12260.0</td>\n",
       "      <td>12520.0</td>\n",
       "      <td>4836196.0</td>\n",
       "      <td>2396111.0</td>\n",
       "      <td>2440085.0</td>\n",
       "      <td>518</td>\n",
       "      <td>6.002969e+10</td>\n",
       "      <td>60000000000</td>\n",
       "    </tr>\n",
       "    <tr>\n",
       "      <th>3</th>\n",
       "      <td>2022-06-07 12:00:43</td>\n",
       "      <td>1599</td>\n",
       "      <td>12520.0</td>\n",
       "      <td>12700.0</td>\n",
       "      <td>12300.0</td>\n",
       "      <td>12350.0</td>\n",
       "      <td>4784633.0</td>\n",
       "      <td>1983871.0</td>\n",
       "      <td>2800762.0</td>\n",
       "      <td>357</td>\n",
       "      <td>6.015340e+10</td>\n",
       "      <td>60000000000</td>\n",
       "    </tr>\n",
       "    <tr>\n",
       "      <th>4</th>\n",
       "      <td>2022-06-08 10:15:23</td>\n",
       "      <td>1911</td>\n",
       "      <td>12330.0</td>\n",
       "      <td>12750.0</td>\n",
       "      <td>12300.0</td>\n",
       "      <td>12600.0</td>\n",
       "      <td>4785471.0</td>\n",
       "      <td>1512559.0</td>\n",
       "      <td>3272912.0</td>\n",
       "      <td>312</td>\n",
       "      <td>6.014171e+10</td>\n",
       "      <td>60000000000</td>\n",
       "    </tr>\n",
       "  </tbody>\n",
       "</table>\n",
       "</div>"
      ],
      "text/plain": [
       "            Date Time  Tick Number     Open     High      Low    Close  \\\n",
       "0 2022-06-01 11:53:13          361  13170.0  13390.0  12850.0  13100.0   \n",
       "1 2022-06-06 09:54:16          724  13100.0  13200.0  12220.0  12460.0   \n",
       "2 2022-06-07 09:29:29         1242  12460.0  12770.0  12260.0  12520.0   \n",
       "3 2022-06-07 12:00:43         1599  12520.0  12700.0  12300.0  12350.0   \n",
       "4 2022-06-08 10:15:23         1911  12330.0  12750.0  12300.0  12600.0   \n",
       "\n",
       "   Cumulative Volume  Cumulative Buy Volume  Cumulative Sell Volume  \\\n",
       "0          4602162.0              2129547.0               2472615.0   \n",
       "1          4678312.0              1589824.0               3088488.0   \n",
       "2          4836196.0              2396111.0               2440085.0   \n",
       "3          4784633.0              1983871.0               2800762.0   \n",
       "4          4785471.0              1512559.0               3272912.0   \n",
       "\n",
       "   Cumulative Ticks  Cumulative Dollar Value    Threshold  \n",
       "0               361             6.018782e+10  60000000000  \n",
       "1               363             6.004993e+10  60000000000  \n",
       "2               518             6.002969e+10  60000000000  \n",
       "3               357             6.015340e+10  60000000000  \n",
       "4               312             6.014171e+10  60000000000  "
      ]
     },
     "execution_count": 8,
     "metadata": {},
     "output_type": "execute_result"
    }
   ],
   "source": [
    "dollar = controller.handle_input_command(\n",
    "    method_name=\"dollar_standard_bars\",\n",
    "    method_arguments={\n",
    "        \"threshold\": 60_000_000_000,\n",
    "    },\n",
    "    input_data=data,\n",
    "    batch_size=1_000_000,\n",
    ")\n",
    "\n",
    "dollar.head()"
   ]
  },
  {
   "cell_type": "markdown",
   "metadata": {},
   "source": [
    "#### Stability"
   ]
  },
  {
   "cell_type": "code",
   "execution_count": 9,
   "metadata": {},
   "outputs": [],
   "source": [
    "time = time.set_index(['Date Time'])\n",
    "dollar = dollar.set_index(['Date Time'])\n",
    "volume = volume.set_index(['Date Time'])\n",
    "tick = tick.set_index(['Date Time'])"
   ]
  },
  {
   "cell_type": "code",
   "execution_count": 10,
   "metadata": {},
   "outputs": [
    {
     "data": {
      "text/html": [
       "<div>\n",
       "<style scoped>\n",
       "    .dataframe tbody tr th:only-of-type {\n",
       "        vertical-align: middle;\n",
       "    }\n",
       "\n",
       "    .dataframe tbody tr th {\n",
       "        vertical-align: top;\n",
       "    }\n",
       "\n",
       "    .dataframe thead th {\n",
       "        text-align: right;\n",
       "    }\n",
       "</style>\n",
       "<table border=\"1\" class=\"dataframe\">\n",
       "  <thead>\n",
       "    <tr style=\"text-align: right;\">\n",
       "      <th></th>\n",
       "      <th>time</th>\n",
       "      <th>tick</th>\n",
       "      <th>volume</th>\n",
       "      <th>dollar</th>\n",
       "    </tr>\n",
       "    <tr>\n",
       "      <th>Date Time</th>\n",
       "      <th></th>\n",
       "      <th></th>\n",
       "      <th></th>\n",
       "      <th></th>\n",
       "    </tr>\n",
       "  </thead>\n",
       "  <tbody>\n",
       "    <tr>\n",
       "      <th>2022-06-30</th>\n",
       "      <td>397</td>\n",
       "      <td>59</td>\n",
       "      <td>62</td>\n",
       "      <td>46</td>\n",
       "    </tr>\n",
       "    <tr>\n",
       "      <th>2022-07-31</th>\n",
       "      <td>409</td>\n",
       "      <td>48</td>\n",
       "      <td>34</td>\n",
       "      <td>22</td>\n",
       "    </tr>\n",
       "    <tr>\n",
       "      <th>2022-08-31</th>\n",
       "      <td>443</td>\n",
       "      <td>72</td>\n",
       "      <td>74</td>\n",
       "      <td>47</td>\n",
       "    </tr>\n",
       "    <tr>\n",
       "      <th>2022-09-30</th>\n",
       "      <td>351</td>\n",
       "      <td>47</td>\n",
       "      <td>36</td>\n",
       "      <td>21</td>\n",
       "    </tr>\n",
       "    <tr>\n",
       "      <th>2022-10-31</th>\n",
       "      <td>460</td>\n",
       "      <td>60</td>\n",
       "      <td>51</td>\n",
       "      <td>27</td>\n",
       "    </tr>\n",
       "    <tr>\n",
       "      <th>2022-11-30</th>\n",
       "      <td>462</td>\n",
       "      <td>230</td>\n",
       "      <td>259</td>\n",
       "      <td>155</td>\n",
       "    </tr>\n",
       "    <tr>\n",
       "      <th>2022-12-31</th>\n",
       "      <td>422</td>\n",
       "      <td>399</td>\n",
       "      <td>503</td>\n",
       "      <td>348</td>\n",
       "    </tr>\n",
       "    <tr>\n",
       "      <th>2023-01-31</th>\n",
       "      <td>465</td>\n",
       "      <td>726</td>\n",
       "      <td>787</td>\n",
       "      <td>625</td>\n",
       "    </tr>\n",
       "    <tr>\n",
       "      <th>2023-02-28</th>\n",
       "      <td>356</td>\n",
       "      <td>431</td>\n",
       "      <td>526</td>\n",
       "      <td>483</td>\n",
       "    </tr>\n",
       "    <tr>\n",
       "      <th>2023-03-31</th>\n",
       "      <td>358</td>\n",
       "      <td>846</td>\n",
       "      <td>807</td>\n",
       "      <td>939</td>\n",
       "    </tr>\n",
       "  </tbody>\n",
       "</table>\n",
       "</div>"
      ],
      "text/plain": [
       "            time  tick  volume  dollar\n",
       "Date Time                             \n",
       "2022-06-30   397    59      62      46\n",
       "2022-07-31   409    48      34      22\n",
       "2022-08-31   443    72      74      47\n",
       "2022-09-30   351    47      36      21\n",
       "2022-10-31   460    60      51      27\n",
       "2022-11-30   462   230     259     155\n",
       "2022-12-31   422   399     503     348\n",
       "2023-01-31   465   726     787     625\n",
       "2023-02-28   356   431     526     483\n",
       "2023-03-31   358   846     807     939"
      ]
     },
     "execution_count": 10,
     "metadata": {},
     "output_type": "execute_result"
    }
   ],
   "source": [
    "dollar_count = dollar['Close'].resample('M').count()\n",
    "volume_count = volume['Close'].resample('M').count()\n",
    "tick_count = tick['Close'].resample('M').count()\n",
    "time_count = time['Open'].resample('M').count()\n",
    "\n",
    "count_df = pd.concat([time_count, tick_count, volume_count, dollar_count], axis=1)\n",
    "count_df.columns = ['time', 'tick', 'volume', 'dollar']\n",
    "count_df"
   ]
  },
  {
   "cell_type": "code",
   "execution_count": 11,
   "metadata": {},
   "outputs": [
    {
     "data": {
      "application/vnd.plotly.v1+json": {
       "config": {
        "plotlyServerURL": "https://plot.ly"
       },
       "data": [
        {
         "name": "Time",
         "type": "scatter",
         "x": [
          "2022-06-30T00:00:00",
          "2022-07-31T00:00:00",
          "2022-08-31T00:00:00",
          "2022-09-30T00:00:00",
          "2022-10-31T00:00:00",
          "2022-11-30T00:00:00",
          "2022-12-31T00:00:00",
          "2023-01-31T00:00:00",
          "2023-02-28T00:00:00",
          "2023-03-31T00:00:00"
         ],
         "y": [
          397,
          409,
          443,
          351,
          460,
          462,
          422,
          465,
          356,
          358
         ]
        },
        {
         "name": "Tick",
         "type": "scatter",
         "x": [
          "2022-06-30T00:00:00",
          "2022-07-31T00:00:00",
          "2022-08-31T00:00:00",
          "2022-09-30T00:00:00",
          "2022-10-31T00:00:00",
          "2022-11-30T00:00:00",
          "2022-12-31T00:00:00",
          "2023-01-31T00:00:00",
          "2023-02-28T00:00:00",
          "2023-03-31T00:00:00"
         ],
         "y": [
          59,
          48,
          72,
          47,
          60,
          230,
          399,
          726,
          431,
          846
         ]
        },
        {
         "name": "Volume",
         "type": "scatter",
         "x": [
          "2022-06-30T00:00:00",
          "2022-07-31T00:00:00",
          "2022-08-31T00:00:00",
          "2022-09-30T00:00:00",
          "2022-10-31T00:00:00",
          "2022-11-30T00:00:00",
          "2022-12-31T00:00:00",
          "2023-01-31T00:00:00",
          "2023-02-28T00:00:00",
          "2023-03-31T00:00:00"
         ],
         "y": [
          62,
          34,
          74,
          36,
          51,
          259,
          503,
          787,
          526,
          807
         ]
        },
        {
         "name": "Dollar",
         "type": "scatter",
         "x": [
          "2022-06-30T00:00:00",
          "2022-07-31T00:00:00",
          "2022-08-31T00:00:00",
          "2022-09-30T00:00:00",
          "2022-10-31T00:00:00",
          "2022-11-30T00:00:00",
          "2022-12-31T00:00:00",
          "2023-01-31T00:00:00",
          "2023-02-28T00:00:00",
          "2023-03-31T00:00:00"
         ],
         "y": [
          46,
          22,
          47,
          21,
          27,
          155,
          348,
          625,
          483,
          939
         ]
        }
       ],
       "layout": {
        "legend": {
         "x": 1,
         "xanchor": "auto",
         "y": 1,
         "yanchor": "auto"
        },
        "paper_bgcolor": "rgba(0,0,0,0)",
        "plot_bgcolor": "rgba(0,0,0,0)",
        "template": {
         "data": {
          "bar": [
           {
            "error_x": {
             "color": "#f2f5fa"
            },
            "error_y": {
             "color": "#f2f5fa"
            },
            "marker": {
             "line": {
              "color": "rgb(17,17,17)",
              "width": 0.5
             },
             "pattern": {
              "fillmode": "overlay",
              "size": 10,
              "solidity": 0.2
             }
            },
            "type": "bar"
           }
          ],
          "barpolar": [
           {
            "marker": {
             "line": {
              "color": "rgb(17,17,17)",
              "width": 0.5
             },
             "pattern": {
              "fillmode": "overlay",
              "size": 10,
              "solidity": 0.2
             }
            },
            "type": "barpolar"
           }
          ],
          "carpet": [
           {
            "aaxis": {
             "endlinecolor": "#A2B1C6",
             "gridcolor": "#506784",
             "linecolor": "#506784",
             "minorgridcolor": "#506784",
             "startlinecolor": "#A2B1C6"
            },
            "baxis": {
             "endlinecolor": "#A2B1C6",
             "gridcolor": "#506784",
             "linecolor": "#506784",
             "minorgridcolor": "#506784",
             "startlinecolor": "#A2B1C6"
            },
            "type": "carpet"
           }
          ],
          "choropleth": [
           {
            "colorbar": {
             "outlinewidth": 0,
             "ticks": ""
            },
            "type": "choropleth"
           }
          ],
          "contour": [
           {
            "colorbar": {
             "outlinewidth": 0,
             "ticks": ""
            },
            "colorscale": [
             [
              0,
              "#0d0887"
             ],
             [
              0.1111111111111111,
              "#46039f"
             ],
             [
              0.2222222222222222,
              "#7201a8"
             ],
             [
              0.3333333333333333,
              "#9c179e"
             ],
             [
              0.4444444444444444,
              "#bd3786"
             ],
             [
              0.5555555555555556,
              "#d8576b"
             ],
             [
              0.6666666666666666,
              "#ed7953"
             ],
             [
              0.7777777777777778,
              "#fb9f3a"
             ],
             [
              0.8888888888888888,
              "#fdca26"
             ],
             [
              1,
              "#f0f921"
             ]
            ],
            "type": "contour"
           }
          ],
          "contourcarpet": [
           {
            "colorbar": {
             "outlinewidth": 0,
             "ticks": ""
            },
            "type": "contourcarpet"
           }
          ],
          "heatmap": [
           {
            "colorbar": {
             "outlinewidth": 0,
             "ticks": ""
            },
            "colorscale": [
             [
              0,
              "#0d0887"
             ],
             [
              0.1111111111111111,
              "#46039f"
             ],
             [
              0.2222222222222222,
              "#7201a8"
             ],
             [
              0.3333333333333333,
              "#9c179e"
             ],
             [
              0.4444444444444444,
              "#bd3786"
             ],
             [
              0.5555555555555556,
              "#d8576b"
             ],
             [
              0.6666666666666666,
              "#ed7953"
             ],
             [
              0.7777777777777778,
              "#fb9f3a"
             ],
             [
              0.8888888888888888,
              "#fdca26"
             ],
             [
              1,
              "#f0f921"
             ]
            ],
            "type": "heatmap"
           }
          ],
          "heatmapgl": [
           {
            "colorbar": {
             "outlinewidth": 0,
             "ticks": ""
            },
            "colorscale": [
             [
              0,
              "#0d0887"
             ],
             [
              0.1111111111111111,
              "#46039f"
             ],
             [
              0.2222222222222222,
              "#7201a8"
             ],
             [
              0.3333333333333333,
              "#9c179e"
             ],
             [
              0.4444444444444444,
              "#bd3786"
             ],
             [
              0.5555555555555556,
              "#d8576b"
             ],
             [
              0.6666666666666666,
              "#ed7953"
             ],
             [
              0.7777777777777778,
              "#fb9f3a"
             ],
             [
              0.8888888888888888,
              "#fdca26"
             ],
             [
              1,
              "#f0f921"
             ]
            ],
            "type": "heatmapgl"
           }
          ],
          "histogram": [
           {
            "marker": {
             "pattern": {
              "fillmode": "overlay",
              "size": 10,
              "solidity": 0.2
             }
            },
            "type": "histogram"
           }
          ],
          "histogram2d": [
           {
            "colorbar": {
             "outlinewidth": 0,
             "ticks": ""
            },
            "colorscale": [
             [
              0,
              "#0d0887"
             ],
             [
              0.1111111111111111,
              "#46039f"
             ],
             [
              0.2222222222222222,
              "#7201a8"
             ],
             [
              0.3333333333333333,
              "#9c179e"
             ],
             [
              0.4444444444444444,
              "#bd3786"
             ],
             [
              0.5555555555555556,
              "#d8576b"
             ],
             [
              0.6666666666666666,
              "#ed7953"
             ],
             [
              0.7777777777777778,
              "#fb9f3a"
             ],
             [
              0.8888888888888888,
              "#fdca26"
             ],
             [
              1,
              "#f0f921"
             ]
            ],
            "type": "histogram2d"
           }
          ],
          "histogram2dcontour": [
           {
            "colorbar": {
             "outlinewidth": 0,
             "ticks": ""
            },
            "colorscale": [
             [
              0,
              "#0d0887"
             ],
             [
              0.1111111111111111,
              "#46039f"
             ],
             [
              0.2222222222222222,
              "#7201a8"
             ],
             [
              0.3333333333333333,
              "#9c179e"
             ],
             [
              0.4444444444444444,
              "#bd3786"
             ],
             [
              0.5555555555555556,
              "#d8576b"
             ],
             [
              0.6666666666666666,
              "#ed7953"
             ],
             [
              0.7777777777777778,
              "#fb9f3a"
             ],
             [
              0.8888888888888888,
              "#fdca26"
             ],
             [
              1,
              "#f0f921"
             ]
            ],
            "type": "histogram2dcontour"
           }
          ],
          "mesh3d": [
           {
            "colorbar": {
             "outlinewidth": 0,
             "ticks": ""
            },
            "type": "mesh3d"
           }
          ],
          "parcoords": [
           {
            "line": {
             "colorbar": {
              "outlinewidth": 0,
              "ticks": ""
             }
            },
            "type": "parcoords"
           }
          ],
          "pie": [
           {
            "automargin": true,
            "type": "pie"
           }
          ],
          "scatter": [
           {
            "marker": {
             "line": {
              "color": "#283442"
             }
            },
            "type": "scatter"
           }
          ],
          "scatter3d": [
           {
            "line": {
             "colorbar": {
              "outlinewidth": 0,
              "ticks": ""
             }
            },
            "marker": {
             "colorbar": {
              "outlinewidth": 0,
              "ticks": ""
             }
            },
            "type": "scatter3d"
           }
          ],
          "scattercarpet": [
           {
            "marker": {
             "colorbar": {
              "outlinewidth": 0,
              "ticks": ""
             }
            },
            "type": "scattercarpet"
           }
          ],
          "scattergeo": [
           {
            "marker": {
             "colorbar": {
              "outlinewidth": 0,
              "ticks": ""
             }
            },
            "type": "scattergeo"
           }
          ],
          "scattergl": [
           {
            "marker": {
             "line": {
              "color": "#283442"
             }
            },
            "type": "scattergl"
           }
          ],
          "scattermapbox": [
           {
            "marker": {
             "colorbar": {
              "outlinewidth": 0,
              "ticks": ""
             }
            },
            "type": "scattermapbox"
           }
          ],
          "scatterpolar": [
           {
            "marker": {
             "colorbar": {
              "outlinewidth": 0,
              "ticks": ""
             }
            },
            "type": "scatterpolar"
           }
          ],
          "scatterpolargl": [
           {
            "marker": {
             "colorbar": {
              "outlinewidth": 0,
              "ticks": ""
             }
            },
            "type": "scatterpolargl"
           }
          ],
          "scatterternary": [
           {
            "marker": {
             "colorbar": {
              "outlinewidth": 0,
              "ticks": ""
             }
            },
            "type": "scatterternary"
           }
          ],
          "surface": [
           {
            "colorbar": {
             "outlinewidth": 0,
             "ticks": ""
            },
            "colorscale": [
             [
              0,
              "#0d0887"
             ],
             [
              0.1111111111111111,
              "#46039f"
             ],
             [
              0.2222222222222222,
              "#7201a8"
             ],
             [
              0.3333333333333333,
              "#9c179e"
             ],
             [
              0.4444444444444444,
              "#bd3786"
             ],
             [
              0.5555555555555556,
              "#d8576b"
             ],
             [
              0.6666666666666666,
              "#ed7953"
             ],
             [
              0.7777777777777778,
              "#fb9f3a"
             ],
             [
              0.8888888888888888,
              "#fdca26"
             ],
             [
              1,
              "#f0f921"
             ]
            ],
            "type": "surface"
           }
          ],
          "table": [
           {
            "cells": {
             "fill": {
              "color": "#506784"
             },
             "line": {
              "color": "rgb(17,17,17)"
             }
            },
            "header": {
             "fill": {
              "color": "#2a3f5f"
             },
             "line": {
              "color": "rgb(17,17,17)"
             }
            },
            "type": "table"
           }
          ]
         },
         "layout": {
          "annotationdefaults": {
           "arrowcolor": "#f2f5fa",
           "arrowhead": 0,
           "arrowwidth": 1
          },
          "autotypenumbers": "strict",
          "coloraxis": {
           "colorbar": {
            "outlinewidth": 0,
            "ticks": ""
           }
          },
          "colorscale": {
           "diverging": [
            [
             0,
             "#8e0152"
            ],
            [
             0.1,
             "#c51b7d"
            ],
            [
             0.2,
             "#de77ae"
            ],
            [
             0.3,
             "#f1b6da"
            ],
            [
             0.4,
             "#fde0ef"
            ],
            [
             0.5,
             "#f7f7f7"
            ],
            [
             0.6,
             "#e6f5d0"
            ],
            [
             0.7,
             "#b8e186"
            ],
            [
             0.8,
             "#7fbc41"
            ],
            [
             0.9,
             "#4d9221"
            ],
            [
             1,
             "#276419"
            ]
           ],
           "sequential": [
            [
             0,
             "#0d0887"
            ],
            [
             0.1111111111111111,
             "#46039f"
            ],
            [
             0.2222222222222222,
             "#7201a8"
            ],
            [
             0.3333333333333333,
             "#9c179e"
            ],
            [
             0.4444444444444444,
             "#bd3786"
            ],
            [
             0.5555555555555556,
             "#d8576b"
            ],
            [
             0.6666666666666666,
             "#ed7953"
            ],
            [
             0.7777777777777778,
             "#fb9f3a"
            ],
            [
             0.8888888888888888,
             "#fdca26"
            ],
            [
             1,
             "#f0f921"
            ]
           ],
           "sequentialminus": [
            [
             0,
             "#0d0887"
            ],
            [
             0.1111111111111111,
             "#46039f"
            ],
            [
             0.2222222222222222,
             "#7201a8"
            ],
            [
             0.3333333333333333,
             "#9c179e"
            ],
            [
             0.4444444444444444,
             "#bd3786"
            ],
            [
             0.5555555555555556,
             "#d8576b"
            ],
            [
             0.6666666666666666,
             "#ed7953"
            ],
            [
             0.7777777777777778,
             "#fb9f3a"
            ],
            [
             0.8888888888888888,
             "#fdca26"
            ],
            [
             1,
             "#f0f921"
            ]
           ]
          },
          "colorway": [
           "#636efa",
           "#EF553B",
           "#00cc96",
           "#ab63fa",
           "#FFA15A",
           "#19d3f3",
           "#FF6692",
           "#B6E880",
           "#FF97FF",
           "#FECB52"
          ],
          "font": {
           "color": "#f2f5fa"
          },
          "geo": {
           "bgcolor": "rgb(17,17,17)",
           "lakecolor": "rgb(17,17,17)",
           "landcolor": "rgb(17,17,17)",
           "showlakes": true,
           "showland": true,
           "subunitcolor": "#506784"
          },
          "hoverlabel": {
           "align": "left"
          },
          "hovermode": "closest",
          "mapbox": {
           "style": "dark"
          },
          "paper_bgcolor": "rgb(17,17,17)",
          "plot_bgcolor": "rgb(17,17,17)",
          "polar": {
           "angularaxis": {
            "gridcolor": "#506784",
            "linecolor": "#506784",
            "ticks": ""
           },
           "bgcolor": "rgb(17,17,17)",
           "radialaxis": {
            "gridcolor": "#506784",
            "linecolor": "#506784",
            "ticks": ""
           }
          },
          "scene": {
           "xaxis": {
            "backgroundcolor": "rgb(17,17,17)",
            "gridcolor": "#506784",
            "gridwidth": 2,
            "linecolor": "#506784",
            "showbackground": true,
            "ticks": "",
            "zerolinecolor": "#C8D4E3"
           },
           "yaxis": {
            "backgroundcolor": "rgb(17,17,17)",
            "gridcolor": "#506784",
            "gridwidth": 2,
            "linecolor": "#506784",
            "showbackground": true,
            "ticks": "",
            "zerolinecolor": "#C8D4E3"
           },
           "zaxis": {
            "backgroundcolor": "rgb(17,17,17)",
            "gridcolor": "#506784",
            "gridwidth": 2,
            "linecolor": "#506784",
            "showbackground": true,
            "ticks": "",
            "zerolinecolor": "#C8D4E3"
           }
          },
          "shapedefaults": {
           "line": {
            "color": "#f2f5fa"
           }
          },
          "sliderdefaults": {
           "bgcolor": "#C8D4E3",
           "bordercolor": "rgb(17,17,17)",
           "borderwidth": 1,
           "tickwidth": 0
          },
          "ternary": {
           "aaxis": {
            "gridcolor": "#506784",
            "linecolor": "#506784",
            "ticks": ""
           },
           "baxis": {
            "gridcolor": "#506784",
            "linecolor": "#506784",
            "ticks": ""
           },
           "bgcolor": "rgb(17,17,17)",
           "caxis": {
            "gridcolor": "#506784",
            "linecolor": "#506784",
            "ticks": ""
           }
          },
          "title": {
           "x": 0.05
          },
          "updatemenudefaults": {
           "bgcolor": "#506784",
           "borderwidth": 0
          },
          "xaxis": {
           "automargin": true,
           "gridcolor": "#283442",
           "linecolor": "#506784",
           "ticks": "",
           "title": {
            "standoff": 15
           },
           "zerolinecolor": "#283442",
           "zerolinewidth": 2
          },
          "yaxis": {
           "automargin": true,
           "gridcolor": "#283442",
           "linecolor": "#506784",
           "ticks": "",
           "title": {
            "standoff": 15
           },
           "zerolinecolor": "#283442",
           "zerolinewidth": 2
          }
         }
        },
        "title": {
         "text": "Standard Bars Frequency"
        },
        "xaxis": {
         "title": {
          "text": "Date"
         }
        },
        "yaxis": {
         "title": {
          "text": "Frequency"
         }
        }
       }
      }
     },
     "metadata": {},
     "output_type": "display_data"
    }
   ],
   "source": [
    "# Create and style traces\n",
    "fig = go.Figure()\n",
    "fig.add_trace(go.Scatter(x=count_df.index, y=count_df['time'], name='Time'))\n",
    "fig.add_trace(go.Scatter(x=count_df.index, y=count_df['tick'], name='Tick'))\n",
    "fig.add_trace(go.Scatter(x=count_df.index, y=count_df['volume'], name='Volume'))\n",
    "fig.add_trace(go.Scatter(x=count_df.index, y=count_df['dollar'], name='Dollar'))\n",
    "\n",
    "# Use the function to update layout\n",
    "update_figure_layout(\n",
    "    fig,\n",
    "    title=\"Standard Bars Frequency\",\n",
    "    xaxis_title=\"Date\",\n",
    "    yaxis_title=\"Frequency\"\n",
    ")\n",
    "\n",
    "# Save count_df data to Excel without overwriting previous sheets\n",
    "with pd.ExcelWriter(excel_file_path, engine='openpyxl', mode='a', if_sheet_exists='overlay') as writer:\n",
    "    count_df.to_excel(writer, sheet_name='Standard Bars Frequency RiskLabAI')\n",
    "\n",
    "# Show the plot\n",
    "fig.show()"
   ]
  },
  {
   "cell_type": "markdown",
   "metadata": {},
   "source": [
    "#### Normality"
   ]
  },
  {
   "cell_type": "markdown",
   "metadata": {},
   "source": [
    "##### Jarque-Bera Test"
   ]
  },
  {
   "cell_type": "code",
   "execution_count": 12,
   "metadata": {},
   "outputs": [],
   "source": [
    "dollar_returns = np.log(dollar['Close']).diff().dropna()\n",
    "volume_returns = np.log(volume['Close']).diff().dropna()\n",
    "tick_returns = np.log(tick['Close']).diff().dropna()\n",
    "time_returns = np.log(time['Open']).diff().dropna()"
   ]
  },
  {
   "cell_type": "code",
   "execution_count": 13,
   "metadata": {},
   "outputs": [
    {
     "name": "stdout",
     "output_type": "stream",
     "text": [
      "Jarque-Bera test statistic for time returns: 102937\n",
      "Jarque-Bera test statistic for dollar returns: 22870\n",
      "Jarque-Bera test statistic for volume returns: 32583\n",
      "Jarque-Bera test statistic for tick returns: 25589\n"
     ]
    }
   ],
   "source": [
    "print(\"Jarque-Bera test statistic for time returns:\", int(stats.jarque_bera(time_returns)[0]))\n",
    "print(\"Jarque-Bera test statistic for dollar returns:\", int(stats.jarque_bera(dollar_returns)[0]))\n",
    "print(\"Jarque-Bera test statistic for volume returns:\", int(stats.jarque_bera(volume_returns)[0]))\n",
    "print(\"Jarque-Bera test statistic for tick returns:\", int(stats.jarque_bera(tick_returns)[0]))"
   ]
  },
  {
   "cell_type": "markdown",
   "metadata": {},
   "source": [
    "##### Shapiro-Wilk Test"
   ]
  },
  {
   "cell_type": "code",
   "execution_count": 14,
   "metadata": {},
   "outputs": [
    {
     "name": "stdout",
     "output_type": "stream",
     "text": [
      "Shapiro-Wilk test statistic for time returns: ShapiroResult(statistic=0.8194491267204285, pvalue=0.0)\n",
      "Shapiro-Wilk test statistic for dollar returns: ShapiroResult(statistic=0.8644465804100037, pvalue=1.821688003622262e-43)\n",
      "Shapiro-Wilk test statistic for volume returns: ShapiroResult(statistic=0.8705788850784302, pvalue=2.802596928649634e-45)\n",
      "Shapiro-Wilk test statistic for tick returns: ShapiroResult(statistic=0.8880372047424316, pvalue=9.45736333572819e-42)\n"
     ]
    }
   ],
   "source": [
    "print(\"Shapiro-Wilk test statistic for time returns:\", stats.shapiro(time_returns))\n",
    "print(\"Shapiro-Wilk test statistic for dollar returns:\", stats.shapiro(dollar_returns))\n",
    "print(\"Shapiro-Wilk test statistic for volume returns:\", stats.shapiro(volume_returns))\n",
    "print(\"Shapiro-Wilk test statistic for tick returns:\", stats.shapiro(tick_returns))"
   ]
  },
  {
   "cell_type": "markdown",
   "metadata": {},
   "source": [
    "##### Results KDE plot "
   ]
  },
  {
   "cell_type": "markdown",
   "metadata": {},
   "source": [
    "###### Standardize Data"
   ]
  },
  {
   "cell_type": "code",
   "execution_count": 23,
   "metadata": {},
   "outputs": [],
   "source": [
    "time_standard = (time_returns - time_returns.mean()) / time_returns.std()\n",
    "tick_standard = (tick_returns - tick_returns.mean()) / tick_returns.std()\n",
    "volume_standard = (volume_returns - volume_returns.mean()) / volume_returns.std()\n",
    "dollar_standard = (dollar_returns - dollar_returns.mean()) / dollar_returns.std()"
   ]
  },
  {
   "cell_type": "markdown",
   "metadata": {},
   "source": [
    "###### Distribution Plot"
   ]
  },
  {
   "cell_type": "code",
   "execution_count": 24,
   "metadata": {},
   "outputs": [
    {
     "data": {
      "image/png": "[encoded data removed]",
      "text/plain": [
       "<Figure size 1600x1200 with 1 Axes>"
      ]
     },
     "metadata": {},
     "output_type": "display_data"
    }
   ],
   "source": [
    "plt.figure(figsize=(16, 12))\n",
    "sns.kdeplot(time_standard, label=\"Time\")\n",
    "sns.kdeplot(tick_standard, label=\"Tick\")\n",
    "sns.kdeplot(volume_standard, label=\"Volume\")\n",
    "sns.kdeplot(dollar_standard, label=\"Dollar\")\n",
    "sns.kdeplot(np.random.normal(size=1000000), label=\"Normal\", linestyle=\"dotted\")\n",
    "plt.xticks(range(-4, +4))\n",
    "plt.title(\n",
    "    'Partial recovery of normality',\n",
    "    loc='center', \n",
    ")\n",
    "plt.xlim(-5, 5)\n",
    "plt.show()\n",
    "\n",
    "# Save the standardized returns data to Excel without overwriting previous sheets\n",
    "with pd.ExcelWriter(excel_file_path, engine='openpyxl', mode='a', if_sheet_exists='overlay') as writer:\n",
    "    time_standard.to_excel(writer, sheet_name='Standardized Returns', startcol=0, index=True)\n",
    "    tick_standard.to_excel(writer, sheet_name='Standardized Returns', startcol=2, index=True)\n",
    "    volume_standard.to_excel(writer, sheet_name='Standardized Returns', startcol=4, index=True)\n",
    "    dollar_standard.to_excel(writer, sheet_name='Standardized Returns', startcol=6, index=True)"
   ]
  },
  {
   "cell_type": "markdown",
   "metadata": {},
   "source": [
    "### Information Driven Bars"
   ]
  },
  {
   "cell_type": "markdown",
   "metadata": {},
   "source": [
    "#### Expected Imbalance Bars"
   ]
  },
  {
   "cell_type": "markdown",
   "metadata": {},
   "source": [
    "##### Imbalance Tick Bars"
   ]
  },
  {
   "cell_type": "code",
   "execution_count": 25,
   "metadata": {},
   "outputs": [
    {
     "name": "stdout",
     "output_type": "stream",
     "text": [
      "Processing batch 0 with size 729726\n"
     ]
    },
    {
     "data": {
      "text/html": [
       "<div>\n",
       "<style scoped>\n",
       "    .dataframe tbody tr th:only-of-type {\n",
       "        vertical-align: middle;\n",
       "    }\n",
       "\n",
       "    .dataframe tbody tr th {\n",
       "        vertical-align: top;\n",
       "    }\n",
       "\n",
       "    .dataframe thead th {\n",
       "        text-align: right;\n",
       "    }\n",
       "</style>\n",
       "<table border=\"1\" class=\"dataframe\">\n",
       "  <thead>\n",
       "    <tr style=\"text-align: right;\">\n",
       "      <th></th>\n",
       "      <th>Date Time</th>\n",
       "      <th>Tick Number</th>\n",
       "      <th>Open</th>\n",
       "      <th>High</th>\n",
       "      <th>Low</th>\n",
       "      <th>Close</th>\n",
       "      <th>Cumulative Volume</th>\n",
       "      <th>Cumulative Buy Volume</th>\n",
       "      <th>Cumulative Sell Volume</th>\n",
       "      <th>Cumulative Ticks</th>\n",
       "      <th>Cumulative Dollar Value</th>\n",
       "      <th>Threshold</th>\n",
       "    </tr>\n",
       "  </thead>\n",
       "  <tbody>\n",
       "    <tr>\n",
       "      <th>0</th>\n",
       "      <td>2022-06-08 11:23:43</td>\n",
       "      <td>2044</td>\n",
       "      <td>13170.0</td>\n",
       "      <td>13390.0</td>\n",
       "      <td>12220.0</td>\n",
       "      <td>12470.0</td>\n",
       "      <td>26548415.0</td>\n",
       "      <td>10605427.0</td>\n",
       "      <td>15942988.0</td>\n",
       "      <td>2044</td>\n",
       "      <td>3.364905e+11</td>\n",
       "      <td>447.406074</td>\n",
       "    </tr>\n",
       "    <tr>\n",
       "      <th>1</th>\n",
       "      <td>2022-06-12 10:17:10</td>\n",
       "      <td>3624</td>\n",
       "      <td>12470.0</td>\n",
       "      <td>12630.0</td>\n",
       "      <td>12020.0</td>\n",
       "      <td>12350.0</td>\n",
       "      <td>30067863.0</td>\n",
       "      <td>8270822.0</td>\n",
       "      <td>21797041.0</td>\n",
       "      <td>1580</td>\n",
       "      <td>3.680601e+11</td>\n",
       "      <td>471.338397</td>\n",
       "    </tr>\n",
       "    <tr>\n",
       "      <th>2</th>\n",
       "      <td>2022-06-13 09:59:35</td>\n",
       "      <td>5847</td>\n",
       "      <td>12350.0</td>\n",
       "      <td>13450.0</td>\n",
       "      <td>12350.0</td>\n",
       "      <td>13350.0</td>\n",
       "      <td>52167269.0</td>\n",
       "      <td>13644158.0</td>\n",
       "      <td>38523111.0</td>\n",
       "      <td>2223</td>\n",
       "      <td>6.794439e+11</td>\n",
       "      <td>480.912771</td>\n",
       "    </tr>\n",
       "    <tr>\n",
       "      <th>3</th>\n",
       "      <td>2022-06-15 09:40:51</td>\n",
       "      <td>8100</td>\n",
       "      <td>13350.0</td>\n",
       "      <td>13440.0</td>\n",
       "      <td>12910.0</td>\n",
       "      <td>12940.0</td>\n",
       "      <td>38768187.0</td>\n",
       "      <td>13183109.0</td>\n",
       "      <td>25585078.0</td>\n",
       "      <td>2253</td>\n",
       "      <td>5.130917e+11</td>\n",
       "      <td>490.143140</td>\n",
       "    </tr>\n",
       "    <tr>\n",
       "      <th>4</th>\n",
       "      <td>2022-06-20 11:33:17</td>\n",
       "      <td>10160</td>\n",
       "      <td>12940.0</td>\n",
       "      <td>13100.0</td>\n",
       "      <td>12620.0</td>\n",
       "      <td>12860.0</td>\n",
       "      <td>28605620.0</td>\n",
       "      <td>7721757.0</td>\n",
       "      <td>20883863.0</td>\n",
       "      <td>2060</td>\n",
       "      <td>3.690207e+11</td>\n",
       "      <td>509.870699</td>\n",
       "    </tr>\n",
       "  </tbody>\n",
       "</table>\n",
       "</div>"
      ],
      "text/plain": [
       "            Date Time  Tick Number     Open     High      Low    Close  \\\n",
       "0 2022-06-08 11:23:43         2044  13170.0  13390.0  12220.0  12470.0   \n",
       "1 2022-06-12 10:17:10         3624  12470.0  12630.0  12020.0  12350.0   \n",
       "2 2022-06-13 09:59:35         5847  12350.0  13450.0  12350.0  13350.0   \n",
       "3 2022-06-15 09:40:51         8100  13350.0  13440.0  12910.0  12940.0   \n",
       "4 2022-06-20 11:33:17        10160  12940.0  13100.0  12620.0  12860.0   \n",
       "\n",
       "   Cumulative Volume  Cumulative Buy Volume  Cumulative Sell Volume  \\\n",
       "0         26548415.0             10605427.0              15942988.0   \n",
       "1         30067863.0              8270822.0              21797041.0   \n",
       "2         52167269.0             13644158.0              38523111.0   \n",
       "3         38768187.0             13183109.0              25585078.0   \n",
       "4         28605620.0              7721757.0              20883863.0   \n",
       "\n",
       "   Cumulative Ticks  Cumulative Dollar Value   Threshold  \n",
       "0              2044             3.364905e+11  447.406074  \n",
       "1              1580             3.680601e+11  471.338397  \n",
       "2              2223             6.794439e+11  480.912771  \n",
       "3              2253             5.130917e+11  490.143140  \n",
       "4              2060             3.690207e+11  509.870699  "
      ]
     },
     "execution_count": 25,
     "metadata": {},
     "output_type": "execute_result"
    }
   ],
   "source": [
    "expected_tick_imbalance_bars = controller.handle_input_command(\n",
    "    method_name=\"expected_tick_imbalance_bars\",\n",
    "    method_arguments={\n",
    "        \"window_size_for_expected_n_ticks_estimation\": 5,\n",
    "        \"window_size_for_expected_imbalance_estimation\": 10000,\n",
    "        \"initial_estimate_of_expected_n_ticks_in_bar\": 2000,\n",
    "    },\n",
    "    input_data=data,\n",
    "    batch_size=1_000_000,\n",
    ")\n",
    "\n",
    "expected_tick_imbalance_bars.head()"
   ]
  },
  {
   "cell_type": "markdown",
   "metadata": {},
   "source": [
    "##### Imbalance Volume Bars"
   ]
  },
  {
   "cell_type": "code",
   "execution_count": 26,
   "metadata": {},
   "outputs": [
    {
     "name": "stdout",
     "output_type": "stream",
     "text": [
      "Processing batch 0 with size 729726\n"
     ]
    },
    {
     "data": {
      "text/html": [
       "<div>\n",
       "<style scoped>\n",
       "    .dataframe tbody tr th:only-of-type {\n",
       "        vertical-align: middle;\n",
       "    }\n",
       "\n",
       "    .dataframe tbody tr th {\n",
       "        vertical-align: top;\n",
       "    }\n",
       "\n",
       "    .dataframe thead th {\n",
       "        text-align: right;\n",
       "    }\n",
       "</style>\n",
       "<table border=\"1\" class=\"dataframe\">\n",
       "  <thead>\n",
       "    <tr style=\"text-align: right;\">\n",
       "      <th></th>\n",
       "      <th>Date Time</th>\n",
       "      <th>Tick Number</th>\n",
       "      <th>Open</th>\n",
       "      <th>High</th>\n",
       "      <th>Low</th>\n",
       "      <th>Close</th>\n",
       "      <th>Cumulative Volume</th>\n",
       "      <th>Cumulative Buy Volume</th>\n",
       "      <th>Cumulative Sell Volume</th>\n",
       "      <th>Cumulative Ticks</th>\n",
       "      <th>Cumulative Dollar Value</th>\n",
       "      <th>Threshold</th>\n",
       "    </tr>\n",
       "  </thead>\n",
       "  <tbody>\n",
       "    <tr>\n",
       "      <th>0</th>\n",
       "      <td>2022-06-11 10:12:56</td>\n",
       "      <td>2439</td>\n",
       "      <td>13170.0</td>\n",
       "      <td>13390.0</td>\n",
       "      <td>12210.0</td>\n",
       "      <td>12210.0</td>\n",
       "      <td>31594381.0</td>\n",
       "      <td>12250162.0</td>\n",
       "      <td>19344219.0</td>\n",
       "      <td>2439</td>\n",
       "      <td>3.988526e+11</td>\n",
       "      <td>7.081032e+06</td>\n",
       "    </tr>\n",
       "    <tr>\n",
       "      <th>1</th>\n",
       "      <td>2022-06-12 09:18:20</td>\n",
       "      <td>3235</td>\n",
       "      <td>12210.0</td>\n",
       "      <td>12400.0</td>\n",
       "      <td>12020.0</td>\n",
       "      <td>12100.0</td>\n",
       "      <td>17413605.0</td>\n",
       "      <td>3892529.0</td>\n",
       "      <td>13521076.0</td>\n",
       "      <td>796</td>\n",
       "      <td>2.124028e+11</td>\n",
       "      <td>9.590217e+06</td>\n",
       "    </tr>\n",
       "    <tr>\n",
       "      <th>2</th>\n",
       "      <td>2022-06-12 11:30:20</td>\n",
       "      <td>4210</td>\n",
       "      <td>12100.0</td>\n",
       "      <td>12770.0</td>\n",
       "      <td>12100.0</td>\n",
       "      <td>12600.0</td>\n",
       "      <td>22498753.0</td>\n",
       "      <td>5969868.0</td>\n",
       "      <td>16528885.0</td>\n",
       "      <td>975</td>\n",
       "      <td>2.801150e+11</td>\n",
       "      <td>1.051831e+07</td>\n",
       "    </tr>\n",
       "    <tr>\n",
       "      <th>3</th>\n",
       "      <td>2022-06-13 09:51:48</td>\n",
       "      <td>5625</td>\n",
       "      <td>12600.0</td>\n",
       "      <td>13450.0</td>\n",
       "      <td>12600.0</td>\n",
       "      <td>13350.0</td>\n",
       "      <td>28913342.0</td>\n",
       "      <td>9013779.0</td>\n",
       "      <td>19899563.0</td>\n",
       "      <td>1415</td>\n",
       "      <td>3.808178e+11</td>\n",
       "      <td>1.084702e+07</td>\n",
       "    </tr>\n",
       "    <tr>\n",
       "      <th>4</th>\n",
       "      <td>2022-06-14 10:43:20</td>\n",
       "      <td>7343</td>\n",
       "      <td>13350.0</td>\n",
       "      <td>13450.0</td>\n",
       "      <td>13190.0</td>\n",
       "      <td>13330.0</td>\n",
       "      <td>31253189.0</td>\n",
       "      <td>10276538.0</td>\n",
       "      <td>20976651.0</td>\n",
       "      <td>1718</td>\n",
       "      <td>4.167335e+11</td>\n",
       "      <td>1.069120e+07</td>\n",
       "    </tr>\n",
       "  </tbody>\n",
       "</table>\n",
       "</div>"
      ],
      "text/plain": [
       "            Date Time  Tick Number     Open     High      Low    Close  \\\n",
       "0 2022-06-11 10:12:56         2439  13170.0  13390.0  12210.0  12210.0   \n",
       "1 2022-06-12 09:18:20         3235  12210.0  12400.0  12020.0  12100.0   \n",
       "2 2022-06-12 11:30:20         4210  12100.0  12770.0  12100.0  12600.0   \n",
       "3 2022-06-13 09:51:48         5625  12600.0  13450.0  12600.0  13350.0   \n",
       "4 2022-06-14 10:43:20         7343  13350.0  13450.0  13190.0  13330.0   \n",
       "\n",
       "   Cumulative Volume  Cumulative Buy Volume  Cumulative Sell Volume  \\\n",
       "0         31594381.0             12250162.0              19344219.0   \n",
       "1         17413605.0              3892529.0              13521076.0   \n",
       "2         22498753.0              5969868.0              16528885.0   \n",
       "3         28913342.0              9013779.0              19899563.0   \n",
       "4         31253189.0             10276538.0              20976651.0   \n",
       "\n",
       "   Cumulative Ticks  Cumulative Dollar Value     Threshold  \n",
       "0              2439             3.988526e+11  7.081032e+06  \n",
       "1               796             2.124028e+11  9.590217e+06  \n",
       "2               975             2.801150e+11  1.051831e+07  \n",
       "3              1415             3.808178e+11  1.084702e+07  \n",
       "4              1718             4.167335e+11  1.069120e+07  "
      ]
     },
     "execution_count": 26,
     "metadata": {},
     "output_type": "execute_result"
    }
   ],
   "source": [
    "expected_volume_imbalance_bars = controller.handle_input_command(\n",
    "    method_name=\"expected_volume_imbalance_bars\",\n",
    "    method_arguments={\n",
    "        \"window_size_for_expected_n_ticks_estimation\": 5,\n",
    "        \"window_size_for_expected_imbalance_estimation\": 10000,\n",
    "        \"initial_estimate_of_expected_n_ticks_in_bar\": 2000,\n",
    "    },\n",
    "    input_data=data,\n",
    "    batch_size=1_000_000,\n",
    ")\n",
    "\n",
    "expected_volume_imbalance_bars.head()"
   ]
  },
  {
   "cell_type": "markdown",
   "metadata": {},
   "source": [
    "##### Imbalance Dollar Bars"
   ]
  },
  {
   "cell_type": "code",
   "execution_count": 27,
   "metadata": {},
   "outputs": [
    {
     "name": "stdout",
     "output_type": "stream",
     "text": [
      "Processing batch 0 with size 729726\n"
     ]
    },
    {
     "data": {
      "text/html": [
       "<div>\n",
       "<style scoped>\n",
       "    .dataframe tbody tr th:only-of-type {\n",
       "        vertical-align: middle;\n",
       "    }\n",
       "\n",
       "    .dataframe tbody tr th {\n",
       "        vertical-align: top;\n",
       "    }\n",
       "\n",
       "    .dataframe thead th {\n",
       "        text-align: right;\n",
       "    }\n",
       "</style>\n",
       "<table border=\"1\" class=\"dataframe\">\n",
       "  <thead>\n",
       "    <tr style=\"text-align: right;\">\n",
       "      <th></th>\n",
       "      <th>Date Time</th>\n",
       "      <th>Tick Number</th>\n",
       "      <th>Open</th>\n",
       "      <th>High</th>\n",
       "      <th>Low</th>\n",
       "      <th>Close</th>\n",
       "      <th>Cumulative Volume</th>\n",
       "      <th>Cumulative Buy Volume</th>\n",
       "      <th>Cumulative Sell Volume</th>\n",
       "      <th>Cumulative Ticks</th>\n",
       "      <th>Cumulative Dollar Value</th>\n",
       "      <th>Threshold</th>\n",
       "    </tr>\n",
       "  </thead>\n",
       "  <tbody>\n",
       "    <tr>\n",
       "      <th>0</th>\n",
       "      <td>2022-06-11 10:12:57</td>\n",
       "      <td>2441</td>\n",
       "      <td>13170.0</td>\n",
       "      <td>13390.0</td>\n",
       "      <td>12210.0</td>\n",
       "      <td>12210.0</td>\n",
       "      <td>31694381.0</td>\n",
       "      <td>12250162.0</td>\n",
       "      <td>19444219.0</td>\n",
       "      <td>2441</td>\n",
       "      <td>4.000736e+11</td>\n",
       "      <td>8.854034e+10</td>\n",
       "    </tr>\n",
       "    <tr>\n",
       "      <th>1</th>\n",
       "      <td>2022-06-12 09:18:21</td>\n",
       "      <td>3245</td>\n",
       "      <td>12210.0</td>\n",
       "      <td>12400.0</td>\n",
       "      <td>12020.0</td>\n",
       "      <td>12100.0</td>\n",
       "      <td>17813605.0</td>\n",
       "      <td>3892529.0</td>\n",
       "      <td>13921076.0</td>\n",
       "      <td>804</td>\n",
       "      <td>2.172318e+11</td>\n",
       "      <td>1.214232e+11</td>\n",
       "    </tr>\n",
       "    <tr>\n",
       "      <th>2</th>\n",
       "      <td>2022-06-12 11:41:46</td>\n",
       "      <td>4257</td>\n",
       "      <td>12100.0</td>\n",
       "      <td>12770.0</td>\n",
       "      <td>12100.0</td>\n",
       "      <td>12650.0</td>\n",
       "      <td>22847356.0</td>\n",
       "      <td>6031553.0</td>\n",
       "      <td>16815803.0</td>\n",
       "      <td>1012</td>\n",
       "      <td>2.847886e+11</td>\n",
       "      <td>1.342316e+11</td>\n",
       "    </tr>\n",
       "    <tr>\n",
       "      <th>3</th>\n",
       "      <td>2022-06-13 09:51:49</td>\n",
       "      <td>5635</td>\n",
       "      <td>12650.0</td>\n",
       "      <td>13450.0</td>\n",
       "      <td>12640.0</td>\n",
       "      <td>13350.0</td>\n",
       "      <td>28564739.0</td>\n",
       "      <td>8952094.0</td>\n",
       "      <td>19612645.0</td>\n",
       "      <td>1378</td>\n",
       "      <td>3.767692e+11</td>\n",
       "      <td>1.387601e+11</td>\n",
       "    </tr>\n",
       "    <tr>\n",
       "      <th>4</th>\n",
       "      <td>2022-06-14 10:49:06</td>\n",
       "      <td>7383</td>\n",
       "      <td>13350.0</td>\n",
       "      <td>13450.0</td>\n",
       "      <td>13190.0</td>\n",
       "      <td>13270.0</td>\n",
       "      <td>31107988.0</td>\n",
       "      <td>10359935.0</td>\n",
       "      <td>20748053.0</td>\n",
       "      <td>1748</td>\n",
       "      <td>4.147733e+11</td>\n",
       "      <td>1.382359e+11</td>\n",
       "    </tr>\n",
       "  </tbody>\n",
       "</table>\n",
       "</div>"
      ],
      "text/plain": [
       "            Date Time  Tick Number     Open     High      Low    Close  \\\n",
       "0 2022-06-11 10:12:57         2441  13170.0  13390.0  12210.0  12210.0   \n",
       "1 2022-06-12 09:18:21         3245  12210.0  12400.0  12020.0  12100.0   \n",
       "2 2022-06-12 11:41:46         4257  12100.0  12770.0  12100.0  12650.0   \n",
       "3 2022-06-13 09:51:49         5635  12650.0  13450.0  12640.0  13350.0   \n",
       "4 2022-06-14 10:49:06         7383  13350.0  13450.0  13190.0  13270.0   \n",
       "\n",
       "   Cumulative Volume  Cumulative Buy Volume  Cumulative Sell Volume  \\\n",
       "0         31694381.0             12250162.0              19444219.0   \n",
       "1         17813605.0              3892529.0              13921076.0   \n",
       "2         22847356.0              6031553.0              16815803.0   \n",
       "3         28564739.0              8952094.0              19612645.0   \n",
       "4         31107988.0             10359935.0              20748053.0   \n",
       "\n",
       "   Cumulative Ticks  Cumulative Dollar Value     Threshold  \n",
       "0              2441             4.000736e+11  8.854034e+10  \n",
       "1               804             2.172318e+11  1.214232e+11  \n",
       "2              1012             2.847886e+11  1.342316e+11  \n",
       "3              1378             3.767692e+11  1.387601e+11  \n",
       "4              1748             4.147733e+11  1.382359e+11  "
      ]
     },
     "execution_count": 27,
     "metadata": {},
     "output_type": "execute_result"
    }
   ],
   "source": [
    "expected_dollar_imbalance_bars = controller.handle_input_command(\n",
    "    method_name=\"expected_dollar_imbalance_bars\",\n",
    "    method_arguments={\n",
    "        \"window_size_for_expected_n_ticks_estimation\": 5,\n",
    "        \"window_size_for_expected_imbalance_estimation\": 10000,\n",
    "        \"initial_estimate_of_expected_n_ticks_in_bar\": 2000,\n",
    "    },\n",
    "    input_data=data,\n",
    "    batch_size=1_000_000,\n",
    ")\n",
    "\n",
    "expected_dollar_imbalance_bars.head()"
   ]
  },
  {
   "cell_type": "markdown",
   "metadata": {},
   "source": [
    "#### Fixed Imbalance Bars"
   ]
  },
  {
   "cell_type": "markdown",
   "metadata": {},
   "source": [
    "##### Fixed Imbalance Tick Bars"
   ]
  },
  {
   "cell_type": "code",
   "execution_count": 28,
   "metadata": {},
   "outputs": [
    {
     "name": "stdout",
     "output_type": "stream",
     "text": [
      "Processing batch 0 with size 729726\n"
     ]
    },
    {
     "data": {
      "text/html": [
       "<div>\n",
       "<style scoped>\n",
       "    .dataframe tbody tr th:only-of-type {\n",
       "        vertical-align: middle;\n",
       "    }\n",
       "\n",
       "    .dataframe tbody tr th {\n",
       "        vertical-align: top;\n",
       "    }\n",
       "\n",
       "    .dataframe thead th {\n",
       "        text-align: right;\n",
       "    }\n",
       "</style>\n",
       "<table border=\"1\" class=\"dataframe\">\n",
       "  <thead>\n",
       "    <tr style=\"text-align: right;\">\n",
       "      <th></th>\n",
       "      <th>Date Time</th>\n",
       "      <th>Tick Number</th>\n",
       "      <th>Open</th>\n",
       "      <th>High</th>\n",
       "      <th>Low</th>\n",
       "      <th>Close</th>\n",
       "      <th>Cumulative Volume</th>\n",
       "      <th>Cumulative Buy Volume</th>\n",
       "      <th>Cumulative Sell Volume</th>\n",
       "      <th>Cumulative Ticks</th>\n",
       "      <th>Cumulative Dollar Value</th>\n",
       "      <th>Threshold</th>\n",
       "    </tr>\n",
       "  </thead>\n",
       "  <tbody>\n",
       "    <tr>\n",
       "      <th>0</th>\n",
       "      <td>2022-07-16 12:29:50</td>\n",
       "      <td>20000</td>\n",
       "      <td>13170.0</td>\n",
       "      <td>13450.0</td>\n",
       "      <td>10880.0</td>\n",
       "      <td>11150.0</td>\n",
       "      <td>262457548.0</td>\n",
       "      <td>87058535.0</td>\n",
       "      <td>175399013.0</td>\n",
       "      <td>20000</td>\n",
       "      <td>3.295302e+12</td>\n",
       "      <td>2889.509958</td>\n",
       "    </tr>\n",
       "    <tr>\n",
       "      <th>1</th>\n",
       "      <td>2022-08-21 10:44:22</td>\n",
       "      <td>38008</td>\n",
       "      <td>11150.0</td>\n",
       "      <td>11900.0</td>\n",
       "      <td>10150.0</td>\n",
       "      <td>10540.0</td>\n",
       "      <td>242083579.0</td>\n",
       "      <td>102948097.0</td>\n",
       "      <td>139135482.0</td>\n",
       "      <td>18008</td>\n",
       "      <td>2.640342e+12</td>\n",
       "      <td>2889.509958</td>\n",
       "    </tr>\n",
       "    <tr>\n",
       "      <th>2</th>\n",
       "      <td>2022-09-24 10:51:00</td>\n",
       "      <td>54118</td>\n",
       "      <td>10530.0</td>\n",
       "      <td>11320.0</td>\n",
       "      <td>9310.0</td>\n",
       "      <td>9390.0</td>\n",
       "      <td>184497156.0</td>\n",
       "      <td>68433080.0</td>\n",
       "      <td>116064076.0</td>\n",
       "      <td>16110</td>\n",
       "      <td>1.948941e+12</td>\n",
       "      <td>3459.754142</td>\n",
       "    </tr>\n",
       "    <tr>\n",
       "      <th>3</th>\n",
       "      <td>2022-11-15 12:00:44</td>\n",
       "      <td>107793</td>\n",
       "      <td>9390.0</td>\n",
       "      <td>11100.0</td>\n",
       "      <td>7710.0</td>\n",
       "      <td>10400.0</td>\n",
       "      <td>843263959.0</td>\n",
       "      <td>367021932.0</td>\n",
       "      <td>476242027.0</td>\n",
       "      <td>53675</td>\n",
       "      <td>8.288547e+12</td>\n",
       "      <td>6580.895134</td>\n",
       "    </tr>\n",
       "    <tr>\n",
       "      <th>4</th>\n",
       "      <td>2022-11-29 11:04:49</td>\n",
       "      <td>127177</td>\n",
       "      <td>10400.0</td>\n",
       "      <td>10920.0</td>\n",
       "      <td>10040.0</td>\n",
       "      <td>10500.0</td>\n",
       "      <td>259926884.0</td>\n",
       "      <td>110795452.0</td>\n",
       "      <td>149131432.0</td>\n",
       "      <td>19384</td>\n",
       "      <td>2.737274e+12</td>\n",
       "      <td>2915.692524</td>\n",
       "    </tr>\n",
       "  </tbody>\n",
       "</table>\n",
       "</div>"
      ],
      "text/plain": [
       "            Date Time  Tick Number     Open     High      Low    Close  \\\n",
       "0 2022-07-16 12:29:50        20000  13170.0  13450.0  10880.0  11150.0   \n",
       "1 2022-08-21 10:44:22        38008  11150.0  11900.0  10150.0  10540.0   \n",
       "2 2022-09-24 10:51:00        54118  10530.0  11320.0   9310.0   9390.0   \n",
       "3 2022-11-15 12:00:44       107793   9390.0  11100.0   7710.0  10400.0   \n",
       "4 2022-11-29 11:04:49       127177  10400.0  10920.0  10040.0  10500.0   \n",
       "\n",
       "   Cumulative Volume  Cumulative Buy Volume  Cumulative Sell Volume  \\\n",
       "0        262457548.0             87058535.0             175399013.0   \n",
       "1        242083579.0            102948097.0             139135482.0   \n",
       "2        184497156.0             68433080.0             116064076.0   \n",
       "3        843263959.0            367021932.0             476242027.0   \n",
       "4        259926884.0            110795452.0             149131432.0   \n",
       "\n",
       "   Cumulative Ticks  Cumulative Dollar Value    Threshold  \n",
       "0             20000             3.295302e+12  2889.509958  \n",
       "1             18008             2.640342e+12  2889.509958  \n",
       "2             16110             1.948941e+12  3459.754142  \n",
       "3             53675             8.288547e+12  6580.895134  \n",
       "4             19384             2.737274e+12  2915.692524  "
      ]
     },
     "execution_count": 28,
     "metadata": {},
     "output_type": "execute_result"
    }
   ],
   "source": [
    "fixed_tick_imbalance_bars = controller.handle_input_command(\n",
    "    method_name=\"fixed_tick_imbalance_bars\",\n",
    "    method_arguments={\n",
    "        \"window_size_for_expected_imbalance_estimation\": 10000,\n",
    "        \"initial_estimate_of_expected_n_ticks_in_bar\": 20000,\n",
    "    },\n",
    "    input_data=data,\n",
    "    batch_size=1_000_000,\n",
    ")\n",
    "\n",
    "fixed_tick_imbalance_bars.head()"
   ]
  },
  {
   "cell_type": "markdown",
   "metadata": {},
   "source": [
    "##### Fixed Imabalance Volume Bars"
   ]
  },
  {
   "cell_type": "code",
   "execution_count": 29,
   "metadata": {},
   "outputs": [
    {
     "name": "stdout",
     "output_type": "stream",
     "text": [
      "Processing batch 0 with size 729726\n"
     ]
    },
    {
     "data": {
      "text/html": [
       "<div>\n",
       "<style scoped>\n",
       "    .dataframe tbody tr th:only-of-type {\n",
       "        vertical-align: middle;\n",
       "    }\n",
       "\n",
       "    .dataframe tbody tr th {\n",
       "        vertical-align: top;\n",
       "    }\n",
       "\n",
       "    .dataframe thead th {\n",
       "        text-align: right;\n",
       "    }\n",
       "</style>\n",
       "<table border=\"1\" class=\"dataframe\">\n",
       "  <thead>\n",
       "    <tr style=\"text-align: right;\">\n",
       "      <th></th>\n",
       "      <th>Date Time</th>\n",
       "      <th>Tick Number</th>\n",
       "      <th>Open</th>\n",
       "      <th>High</th>\n",
       "      <th>Low</th>\n",
       "      <th>Close</th>\n",
       "      <th>Cumulative Volume</th>\n",
       "      <th>Cumulative Buy Volume</th>\n",
       "      <th>Cumulative Sell Volume</th>\n",
       "      <th>Cumulative Ticks</th>\n",
       "      <th>Cumulative Dollar Value</th>\n",
       "      <th>Threshold</th>\n",
       "    </tr>\n",
       "  </thead>\n",
       "  <tbody>\n",
       "    <tr>\n",
       "      <th>0</th>\n",
       "      <td>2022-07-16 12:29:50</td>\n",
       "      <td>20000</td>\n",
       "      <td>13170.0</td>\n",
       "      <td>13450.0</td>\n",
       "      <td>10880.0</td>\n",
       "      <td>11150.0</td>\n",
       "      <td>262457548.0</td>\n",
       "      <td>87058535.0</td>\n",
       "      <td>175399013.0</td>\n",
       "      <td>20000</td>\n",
       "      <td>3.295302e+12</td>\n",
       "      <td>2.813519e+07</td>\n",
       "    </tr>\n",
       "    <tr>\n",
       "      <th>1</th>\n",
       "      <td>2022-08-13 09:08:14</td>\n",
       "      <td>31156</td>\n",
       "      <td>11150.0</td>\n",
       "      <td>11900.0</td>\n",
       "      <td>10150.0</td>\n",
       "      <td>10830.0</td>\n",
       "      <td>146885309.0</td>\n",
       "      <td>59348469.0</td>\n",
       "      <td>87536840.0</td>\n",
       "      <td>11156</td>\n",
       "      <td>1.584831e+12</td>\n",
       "      <td>2.813519e+07</td>\n",
       "    </tr>\n",
       "    <tr>\n",
       "      <th>2</th>\n",
       "      <td>2022-09-13 11:41:39</td>\n",
       "      <td>50600</td>\n",
       "      <td>10830.0</td>\n",
       "      <td>11500.0</td>\n",
       "      <td>10020.0</td>\n",
       "      <td>10220.0</td>\n",
       "      <td>252170978.0</td>\n",
       "      <td>102250645.0</td>\n",
       "      <td>149920333.0</td>\n",
       "      <td>19444</td>\n",
       "      <td>2.733024e+12</td>\n",
       "      <td>4.766920e+07</td>\n",
       "    </tr>\n",
       "    <tr>\n",
       "      <th>3</th>\n",
       "      <td>2022-10-25 11:24:15</td>\n",
       "      <td>67203</td>\n",
       "      <td>10210.0</td>\n",
       "      <td>10290.0</td>\n",
       "      <td>8330.0</td>\n",
       "      <td>8340.0</td>\n",
       "      <td>194349808.0</td>\n",
       "      <td>67817013.0</td>\n",
       "      <td>126532795.0</td>\n",
       "      <td>16603</td>\n",
       "      <td>1.789494e+12</td>\n",
       "      <td>5.870817e+07</td>\n",
       "    </tr>\n",
       "    <tr>\n",
       "      <th>4</th>\n",
       "      <td>2022-11-29 10:30:50</td>\n",
       "      <td>126819</td>\n",
       "      <td>8370.0</td>\n",
       "      <td>11100.0</td>\n",
       "      <td>7710.0</td>\n",
       "      <td>10500.0</td>\n",
       "      <td>926187442.0</td>\n",
       "      <td>417572114.0</td>\n",
       "      <td>508615328.0</td>\n",
       "      <td>59616</td>\n",
       "      <td>9.400803e+12</td>\n",
       "      <td>9.104169e+07</td>\n",
       "    </tr>\n",
       "  </tbody>\n",
       "</table>\n",
       "</div>"
      ],
      "text/plain": [
       "            Date Time  Tick Number     Open     High      Low    Close  \\\n",
       "0 2022-07-16 12:29:50        20000  13170.0  13450.0  10880.0  11150.0   \n",
       "1 2022-08-13 09:08:14        31156  11150.0  11900.0  10150.0  10830.0   \n",
       "2 2022-09-13 11:41:39        50600  10830.0  11500.0  10020.0  10220.0   \n",
       "3 2022-10-25 11:24:15        67203  10210.0  10290.0   8330.0   8340.0   \n",
       "4 2022-11-29 10:30:50       126819   8370.0  11100.0   7710.0  10500.0   \n",
       "\n",
       "   Cumulative Volume  Cumulative Buy Volume  Cumulative Sell Volume  \\\n",
       "0        262457548.0             87058535.0             175399013.0   \n",
       "1        146885309.0             59348469.0              87536840.0   \n",
       "2        252170978.0            102250645.0             149920333.0   \n",
       "3        194349808.0             67817013.0             126532795.0   \n",
       "4        926187442.0            417572114.0             508615328.0   \n",
       "\n",
       "   Cumulative Ticks  Cumulative Dollar Value     Threshold  \n",
       "0             20000             3.295302e+12  2.813519e+07  \n",
       "1             11156             1.584831e+12  2.813519e+07  \n",
       "2             19444             2.733024e+12  4.766920e+07  \n",
       "3             16603             1.789494e+12  5.870817e+07  \n",
       "4             59616             9.400803e+12  9.104169e+07  "
      ]
     },
     "execution_count": 29,
     "metadata": {},
     "output_type": "execute_result"
    }
   ],
   "source": [
    "fixed_volume_imbalance_bars = controller.handle_input_command(\n",
    "    method_name=\"fixed_volume_imbalance_bars\",\n",
    "    method_arguments={\n",
    "        \"window_size_for_expected_imbalance_estimation\": 10000,\n",
    "        \"initial_estimate_of_expected_n_ticks_in_bar\": 20000,\n",
    "    },\n",
    "    input_data=data,\n",
    "    batch_size=1_000_000,\n",
    ")\n",
    "\n",
    "fixed_volume_imbalance_bars.head()"
   ]
  },
  {
   "cell_type": "markdown",
   "metadata": {},
   "source": [
    "##### Fixed Imbalance Dollar Bars"
   ]
  },
  {
   "cell_type": "code",
   "execution_count": 30,
   "metadata": {},
   "outputs": [
    {
     "name": "stdout",
     "output_type": "stream",
     "text": [
      "Processing batch 0 with size 729726\n"
     ]
    },
    {
     "data": {
      "text/html": [
       "<div>\n",
       "<style scoped>\n",
       "    .dataframe tbody tr th:only-of-type {\n",
       "        vertical-align: middle;\n",
       "    }\n",
       "\n",
       "    .dataframe tbody tr th {\n",
       "        vertical-align: top;\n",
       "    }\n",
       "\n",
       "    .dataframe thead th {\n",
       "        text-align: right;\n",
       "    }\n",
       "</style>\n",
       "<table border=\"1\" class=\"dataframe\">\n",
       "  <thead>\n",
       "    <tr style=\"text-align: right;\">\n",
       "      <th></th>\n",
       "      <th>Date Time</th>\n",
       "      <th>Tick Number</th>\n",
       "      <th>Open</th>\n",
       "      <th>High</th>\n",
       "      <th>Low</th>\n",
       "      <th>Close</th>\n",
       "      <th>Cumulative Volume</th>\n",
       "      <th>Cumulative Buy Volume</th>\n",
       "      <th>Cumulative Sell Volume</th>\n",
       "      <th>Cumulative Ticks</th>\n",
       "      <th>Cumulative Dollar Value</th>\n",
       "      <th>Threshold</th>\n",
       "    </tr>\n",
       "  </thead>\n",
       "  <tbody>\n",
       "    <tr>\n",
       "      <th>0</th>\n",
       "      <td>2022-07-16 12:29:50</td>\n",
       "      <td>20000</td>\n",
       "      <td>13170.0</td>\n",
       "      <td>13450.0</td>\n",
       "      <td>10880.0</td>\n",
       "      <td>11150.0</td>\n",
       "      <td>262457548.0</td>\n",
       "      <td>87058535.0</td>\n",
       "      <td>175399013.0</td>\n",
       "      <td>20000</td>\n",
       "      <td>3.295302e+12</td>\n",
       "      <td>3.297244e+11</td>\n",
       "    </tr>\n",
       "    <tr>\n",
       "      <th>1</th>\n",
       "      <td>2022-08-15 12:17:44</td>\n",
       "      <td>34509</td>\n",
       "      <td>11150.0</td>\n",
       "      <td>11900.0</td>\n",
       "      <td>10150.0</td>\n",
       "      <td>11200.0</td>\n",
       "      <td>199402779.0</td>\n",
       "      <td>84534368.0</td>\n",
       "      <td>114868411.0</td>\n",
       "      <td>14509</td>\n",
       "      <td>2.168207e+12</td>\n",
       "      <td>3.297244e+11</td>\n",
       "    </tr>\n",
       "    <tr>\n",
       "      <th>2</th>\n",
       "      <td>2022-09-05 09:45:14</td>\n",
       "      <td>46369</td>\n",
       "      <td>11200.0</td>\n",
       "      <td>11500.0</td>\n",
       "      <td>10410.0</td>\n",
       "      <td>10640.0</td>\n",
       "      <td>157551583.0</td>\n",
       "      <td>62214860.0</td>\n",
       "      <td>95336723.0</td>\n",
       "      <td>11860</td>\n",
       "      <td>1.716740e+12</td>\n",
       "      <td>3.524270e+11</td>\n",
       "    </tr>\n",
       "    <tr>\n",
       "      <th>3</th>\n",
       "      <td>2022-10-26 11:27:35</td>\n",
       "      <td>68318</td>\n",
       "      <td>10640.0</td>\n",
       "      <td>10710.0</td>\n",
       "      <td>7800.0</td>\n",
       "      <td>7800.0</td>\n",
       "      <td>245467171.0</td>\n",
       "      <td>84929202.0</td>\n",
       "      <td>160537969.0</td>\n",
       "      <td>21949</td>\n",
       "      <td>2.295750e+12</td>\n",
       "      <td>6.975571e+11</td>\n",
       "    </tr>\n",
       "    <tr>\n",
       "      <th>4</th>\n",
       "      <td>2022-11-28 09:46:09</td>\n",
       "      <td>124976</td>\n",
       "      <td>7800.0</td>\n",
       "      <td>11100.0</td>\n",
       "      <td>7710.0</td>\n",
       "      <td>10480.0</td>\n",
       "      <td>889837968.0</td>\n",
       "      <td>405582848.0</td>\n",
       "      <td>484255120.0</td>\n",
       "      <td>56658</td>\n",
       "      <td>9.040856e+12</td>\n",
       "      <td>7.940272e+11</td>\n",
       "    </tr>\n",
       "  </tbody>\n",
       "</table>\n",
       "</div>"
      ],
      "text/plain": [
       "            Date Time  Tick Number     Open     High      Low    Close  \\\n",
       "0 2022-07-16 12:29:50        20000  13170.0  13450.0  10880.0  11150.0   \n",
       "1 2022-08-15 12:17:44        34509  11150.0  11900.0  10150.0  11200.0   \n",
       "2 2022-09-05 09:45:14        46369  11200.0  11500.0  10410.0  10640.0   \n",
       "3 2022-10-26 11:27:35        68318  10640.0  10710.0   7800.0   7800.0   \n",
       "4 2022-11-28 09:46:09       124976   7800.0  11100.0   7710.0  10480.0   \n",
       "\n",
       "   Cumulative Volume  Cumulative Buy Volume  Cumulative Sell Volume  \\\n",
       "0        262457548.0             87058535.0             175399013.0   \n",
       "1        199402779.0             84534368.0             114868411.0   \n",
       "2        157551583.0             62214860.0              95336723.0   \n",
       "3        245467171.0             84929202.0             160537969.0   \n",
       "4        889837968.0            405582848.0             484255120.0   \n",
       "\n",
       "   Cumulative Ticks  Cumulative Dollar Value     Threshold  \n",
       "0             20000             3.295302e+12  3.297244e+11  \n",
       "1             14509             2.168207e+12  3.297244e+11  \n",
       "2             11860             1.716740e+12  3.524270e+11  \n",
       "3             21949             2.295750e+12  6.975571e+11  \n",
       "4             56658             9.040856e+12  7.940272e+11  "
      ]
     },
     "execution_count": 30,
     "metadata": {},
     "output_type": "execute_result"
    }
   ],
   "source": [
    "fixed_dollar_imbalance_bars = controller.handle_input_command(\n",
    "    method_name=\"fixed_dollar_imbalance_bars\",\n",
    "    method_arguments={\n",
    "        \"window_size_for_expected_imbalance_estimation\": 10000,\n",
    "        \"initial_estimate_of_expected_n_ticks_in_bar\": 20000,\n",
    "    },\n",
    "    input_data=data,\n",
    "    batch_size=1_000_000,\n",
    ")\n",
    "\n",
    "fixed_dollar_imbalance_bars.head()"
   ]
  },
  {
   "cell_type": "markdown",
   "metadata": {},
   "source": [
    "#### Run Bars"
   ]
  },
  {
   "cell_type": "markdown",
   "metadata": {},
   "source": [
    "##### Expected Run bars"
   ]
  },
  {
   "cell_type": "markdown",
   "metadata": {},
   "source": [
    "###### Expected Tick Run Bars"
   ]
  },
  {
   "cell_type": "code",
   "execution_count": 31,
   "metadata": {},
   "outputs": [
    {
     "name": "stdout",
     "output_type": "stream",
     "text": [
      "Processing batch 0 with size 729726\n"
     ]
    },
    {
     "data": {
      "text/html": [
       "<div>\n",
       "<style scoped>\n",
       "    .dataframe tbody tr th:only-of-type {\n",
       "        vertical-align: middle;\n",
       "    }\n",
       "\n",
       "    .dataframe tbody tr th {\n",
       "        vertical-align: top;\n",
       "    }\n",
       "\n",
       "    .dataframe thead th {\n",
       "        text-align: right;\n",
       "    }\n",
       "</style>\n",
       "<table border=\"1\" class=\"dataframe\">\n",
       "  <thead>\n",
       "    <tr style=\"text-align: right;\">\n",
       "      <th></th>\n",
       "      <th>Date Time</th>\n",
       "      <th>Tick Number</th>\n",
       "      <th>Open</th>\n",
       "      <th>High</th>\n",
       "      <th>Low</th>\n",
       "      <th>Close</th>\n",
       "      <th>Cumulative Volume</th>\n",
       "      <th>Cumulative Buy Volume</th>\n",
       "      <th>Cumulative Sell Volume</th>\n",
       "      <th>Cumulative Ticks</th>\n",
       "      <th>Cumulative Dollar Value</th>\n",
       "      <th>Threshold</th>\n",
       "    </tr>\n",
       "  </thead>\n",
       "  <tbody>\n",
       "  </tbody>\n",
       "</table>\n",
       "</div>"
      ],
      "text/plain": [
       "Empty DataFrame\n",
       "Columns: [Date Time, Tick Number, Open, High, Low, Close, Cumulative Volume, Cumulative Buy Volume, Cumulative Sell Volume, Cumulative Ticks, Cumulative Dollar Value, Threshold]\n",
       "Index: []"
      ]
     },
     "execution_count": 31,
     "metadata": {},
     "output_type": "execute_result"
    }
   ],
   "source": [
    "expected_tick_run_bars = controller.handle_input_command(\n",
    "    method_name=\"expected_tick_run_bars\",\n",
    "    method_arguments={\n",
    "        \"window_size_for_expected_n_ticks_estimation\": 5,\n",
    "        \"window_size_for_expected_imbalance_estimation\": 10000,\n",
    "        \"initial_estimate_of_expected_n_ticks_in_bar\": 20000,\n",
    "    },\n",
    "    input_data=data,\n",
    "    batch_size=1_000_000,\n",
    ")\n",
    "\n",
    "expected_tick_run_bars.head()"
   ]
  },
  {
   "cell_type": "markdown",
   "metadata": {},
   "source": [
    "###### Expected volume Run Bars"
   ]
  },
  {
   "cell_type": "code",
   "execution_count": 32,
   "metadata": {},
   "outputs": [
    {
     "name": "stdout",
     "output_type": "stream",
     "text": [
      "Processing batch 0 with size 729726\n"
     ]
    },
    {
     "data": {
      "text/html": [
       "<div>\n",
       "<style scoped>\n",
       "    .dataframe tbody tr th:only-of-type {\n",
       "        vertical-align: middle;\n",
       "    }\n",
       "\n",
       "    .dataframe tbody tr th {\n",
       "        vertical-align: top;\n",
       "    }\n",
       "\n",
       "    .dataframe thead th {\n",
       "        text-align: right;\n",
       "    }\n",
       "</style>\n",
       "<table border=\"1\" class=\"dataframe\">\n",
       "  <thead>\n",
       "    <tr style=\"text-align: right;\">\n",
       "      <th></th>\n",
       "      <th>Date Time</th>\n",
       "      <th>Tick Number</th>\n",
       "      <th>Open</th>\n",
       "      <th>High</th>\n",
       "      <th>Low</th>\n",
       "      <th>Close</th>\n",
       "      <th>Cumulative Volume</th>\n",
       "      <th>Cumulative Buy Volume</th>\n",
       "      <th>Cumulative Sell Volume</th>\n",
       "      <th>Cumulative Ticks</th>\n",
       "      <th>Cumulative Dollar Value</th>\n",
       "      <th>Threshold</th>\n",
       "    </tr>\n",
       "  </thead>\n",
       "  <tbody>\n",
       "    <tr>\n",
       "      <th>0</th>\n",
       "      <td>2022-09-10 11:59:27</td>\n",
       "      <td>48456</td>\n",
       "      <td>13170.0</td>\n",
       "      <td>13450.0</td>\n",
       "      <td>10080.0</td>\n",
       "      <td>10240.0</td>\n",
       "      <td>637624315.0</td>\n",
       "      <td>239201038.0</td>\n",
       "      <td>398423277.0</td>\n",
       "      <td>48456</td>\n",
       "      <td>7.369559e+12</td>\n",
       "      <td>1.507193e+08</td>\n",
       "    </tr>\n",
       "    <tr>\n",
       "      <th>1</th>\n",
       "      <td>2022-11-08 11:53:25</td>\n",
       "      <td>90578</td>\n",
       "      <td>10240.0</td>\n",
       "      <td>10960.0</td>\n",
       "      <td>7710.0</td>\n",
       "      <td>10140.0</td>\n",
       "      <td>640475639.0</td>\n",
       "      <td>275301976.0</td>\n",
       "      <td>365173663.0</td>\n",
       "      <td>42122</td>\n",
       "      <td>6.096771e+12</td>\n",
       "      <td>3.651627e+08</td>\n",
       "    </tr>\n",
       "    <tr>\n",
       "      <th>2</th>\n",
       "      <td>2022-12-11 10:36:18</td>\n",
       "      <td>145243</td>\n",
       "      <td>10140.0</td>\n",
       "      <td>11100.0</td>\n",
       "      <td>9480.0</td>\n",
       "      <td>9860.0</td>\n",
       "      <td>787824864.0</td>\n",
       "      <td>311614147.0</td>\n",
       "      <td>476210717.0</td>\n",
       "      <td>54665</td>\n",
       "      <td>8.224527e+12</td>\n",
       "      <td>4.761921e+08</td>\n",
       "    </tr>\n",
       "    <tr>\n",
       "      <th>3</th>\n",
       "      <td>2022-12-19 12:29:00</td>\n",
       "      <td>183392</td>\n",
       "      <td>9870.0</td>\n",
       "      <td>11990.0</td>\n",
       "      <td>9850.0</td>\n",
       "      <td>11470.0</td>\n",
       "      <td>750882931.0</td>\n",
       "      <td>333818190.0</td>\n",
       "      <td>417064741.0</td>\n",
       "      <td>38149</td>\n",
       "      <td>8.529380e+12</td>\n",
       "      <td>4.170644e+08</td>\n",
       "    </tr>\n",
       "    <tr>\n",
       "      <th>4</th>\n",
       "      <td>2023-01-01 09:32:24</td>\n",
       "      <td>233186</td>\n",
       "      <td>11470.0</td>\n",
       "      <td>14220.0</td>\n",
       "      <td>11340.0</td>\n",
       "      <td>12820.0</td>\n",
       "      <td>852217528.0</td>\n",
       "      <td>396089169.0</td>\n",
       "      <td>456128359.0</td>\n",
       "      <td>49794</td>\n",
       "      <td>1.094231e+13</td>\n",
       "      <td>4.561099e+08</td>\n",
       "    </tr>\n",
       "  </tbody>\n",
       "</table>\n",
       "</div>"
      ],
      "text/plain": [
       "            Date Time  Tick Number     Open     High      Low    Close  \\\n",
       "0 2022-09-10 11:59:27        48456  13170.0  13450.0  10080.0  10240.0   \n",
       "1 2022-11-08 11:53:25        90578  10240.0  10960.0   7710.0  10140.0   \n",
       "2 2022-12-11 10:36:18       145243  10140.0  11100.0   9480.0   9860.0   \n",
       "3 2022-12-19 12:29:00       183392   9870.0  11990.0   9850.0  11470.0   \n",
       "4 2023-01-01 09:32:24       233186  11470.0  14220.0  11340.0  12820.0   \n",
       "\n",
       "   Cumulative Volume  Cumulative Buy Volume  Cumulative Sell Volume  \\\n",
       "0        637624315.0            239201038.0             398423277.0   \n",
       "1        640475639.0            275301976.0             365173663.0   \n",
       "2        787824864.0            311614147.0             476210717.0   \n",
       "3        750882931.0            333818190.0             417064741.0   \n",
       "4        852217528.0            396089169.0             456128359.0   \n",
       "\n",
       "   Cumulative Ticks  Cumulative Dollar Value     Threshold  \n",
       "0             48456             7.369559e+12  1.507193e+08  \n",
       "1             42122             6.096771e+12  3.651627e+08  \n",
       "2             54665             8.224527e+12  4.761921e+08  \n",
       "3             38149             8.529380e+12  4.170644e+08  \n",
       "4             49794             1.094231e+13  4.561099e+08  "
      ]
     },
     "execution_count": 32,
     "metadata": {},
     "output_type": "execute_result"
    }
   ],
   "source": [
    "expected_volume_run_bars = controller.handle_input_command(\n",
    "    method_name=\"expected_volume_run_bars\",\n",
    "    method_arguments={\n",
    "        \"window_size_for_expected_n_ticks_estimation\": 5,\n",
    "        \"window_size_for_expected_imbalance_estimation\": 10000,\n",
    "        \"initial_estimate_of_expected_n_ticks_in_bar\": 20000,\n",
    "    },\n",
    "    input_data=data,\n",
    "    batch_size=1_000_000,\n",
    ")\n",
    "\n",
    "expected_volume_run_bars.head()"
   ]
  },
  {
   "cell_type": "markdown",
   "metadata": {},
   "source": [
    "###### Expected Dollar Run Bars"
   ]
  },
  {
   "cell_type": "code",
   "execution_count": 33,
   "metadata": {},
   "outputs": [
    {
     "name": "stdout",
     "output_type": "stream",
     "text": [
      "Processing batch 0 with size 729726\n"
     ]
    },
    {
     "data": {
      "text/html": [
       "<div>\n",
       "<style scoped>\n",
       "    .dataframe tbody tr th:only-of-type {\n",
       "        vertical-align: middle;\n",
       "    }\n",
       "\n",
       "    .dataframe tbody tr th {\n",
       "        vertical-align: top;\n",
       "    }\n",
       "\n",
       "    .dataframe thead th {\n",
       "        text-align: right;\n",
       "    }\n",
       "</style>\n",
       "<table border=\"1\" class=\"dataframe\">\n",
       "  <thead>\n",
       "    <tr style=\"text-align: right;\">\n",
       "      <th></th>\n",
       "      <th>Date Time</th>\n",
       "      <th>Tick Number</th>\n",
       "      <th>Open</th>\n",
       "      <th>High</th>\n",
       "      <th>Low</th>\n",
       "      <th>Close</th>\n",
       "      <th>Cumulative Volume</th>\n",
       "      <th>Cumulative Buy Volume</th>\n",
       "      <th>Cumulative Sell Volume</th>\n",
       "      <th>Cumulative Ticks</th>\n",
       "      <th>Cumulative Dollar Value</th>\n",
       "      <th>Threshold</th>\n",
       "    </tr>\n",
       "  </thead>\n",
       "  <tbody>\n",
       "    <tr>\n",
       "      <th>0</th>\n",
       "      <td>2022-09-10 11:59:27</td>\n",
       "      <td>48456</td>\n",
       "      <td>13170.0</td>\n",
       "      <td>13450.0</td>\n",
       "      <td>10080.0</td>\n",
       "      <td>10240.0</td>\n",
       "      <td>637624315.0</td>\n",
       "      <td>239201038.0</td>\n",
       "      <td>398423277.0</td>\n",
       "      <td>48456</td>\n",
       "      <td>7.369559e+12</td>\n",
       "      <td>1.620267e+12</td>\n",
       "    </tr>\n",
       "    <tr>\n",
       "      <th>1</th>\n",
       "      <td>2022-11-12 09:07:14</td>\n",
       "      <td>96268</td>\n",
       "      <td>10240.0</td>\n",
       "      <td>11050.0</td>\n",
       "      <td>7710.0</td>\n",
       "      <td>10860.0</td>\n",
       "      <td>728163409.0</td>\n",
       "      <td>318814063.0</td>\n",
       "      <td>409349346.0</td>\n",
       "      <td>47812</td>\n",
       "      <td>7.027529e+12</td>\n",
       "      <td>3.925583e+12</td>\n",
       "    </tr>\n",
       "    <tr>\n",
       "      <th>2</th>\n",
       "      <td>2022-12-13 09:04:00</td>\n",
       "      <td>150161</td>\n",
       "      <td>10870.0</td>\n",
       "      <td>11100.0</td>\n",
       "      <td>9480.0</td>\n",
       "      <td>10820.0</td>\n",
       "      <td>781801251.0</td>\n",
       "      <td>312851038.0</td>\n",
       "      <td>468950213.0</td>\n",
       "      <td>53893</td>\n",
       "      <td>8.128427e+12</td>\n",
       "      <td>4.869173e+12</td>\n",
       "    </tr>\n",
       "    <tr>\n",
       "      <th>3</th>\n",
       "      <td>2022-12-19 12:13:47</td>\n",
       "      <td>182750</td>\n",
       "      <td>10850.0</td>\n",
       "      <td>11990.0</td>\n",
       "      <td>10770.0</td>\n",
       "      <td>11440.0</td>\n",
       "      <td>655628915.0</td>\n",
       "      <td>282266465.0</td>\n",
       "      <td>373362450.0</td>\n",
       "      <td>32589</td>\n",
       "      <td>7.538427e+12</td>\n",
       "      <td>4.288413e+12</td>\n",
       "    </tr>\n",
       "    <tr>\n",
       "      <th>4</th>\n",
       "      <td>2022-12-31 12:25:46</td>\n",
       "      <td>227769</td>\n",
       "      <td>11450.0</td>\n",
       "      <td>14220.0</td>\n",
       "      <td>11340.0</td>\n",
       "      <td>12690.0</td>\n",
       "      <td>773171201.0</td>\n",
       "      <td>366166405.0</td>\n",
       "      <td>407004796.0</td>\n",
       "      <td>45019</td>\n",
       "      <td>9.891696e+12</td>\n",
       "      <td>5.157369e+12</td>\n",
       "    </tr>\n",
       "  </tbody>\n",
       "</table>\n",
       "</div>"
      ],
      "text/plain": [
       "            Date Time  Tick Number     Open     High      Low    Close  \\\n",
       "0 2022-09-10 11:59:27        48456  13170.0  13450.0  10080.0  10240.0   \n",
       "1 2022-11-12 09:07:14        96268  10240.0  11050.0   7710.0  10860.0   \n",
       "2 2022-12-13 09:04:00       150161  10870.0  11100.0   9480.0  10820.0   \n",
       "3 2022-12-19 12:13:47       182750  10850.0  11990.0  10770.0  11440.0   \n",
       "4 2022-12-31 12:25:46       227769  11450.0  14220.0  11340.0  12690.0   \n",
       "\n",
       "   Cumulative Volume  Cumulative Buy Volume  Cumulative Sell Volume  \\\n",
       "0        637624315.0            239201038.0             398423277.0   \n",
       "1        728163409.0            318814063.0             409349346.0   \n",
       "2        781801251.0            312851038.0             468950213.0   \n",
       "3        655628915.0            282266465.0             373362450.0   \n",
       "4        773171201.0            366166405.0             407004796.0   \n",
       "\n",
       "   Cumulative Ticks  Cumulative Dollar Value     Threshold  \n",
       "0             48456             7.369559e+12  1.620267e+12  \n",
       "1             47812             7.027529e+12  3.925583e+12  \n",
       "2             53893             8.128427e+12  4.869173e+12  \n",
       "3             32589             7.538427e+12  4.288413e+12  \n",
       "4             45019             9.891696e+12  5.157369e+12  "
      ]
     },
     "execution_count": 33,
     "metadata": {},
     "output_type": "execute_result"
    }
   ],
   "source": [
    "expected_dollar_run_bars = controller.handle_input_command(\n",
    "    method_name=\"expected_dollar_run_bars\",\n",
    "    method_arguments={\n",
    "        \"window_size_for_expected_n_ticks_estimation\": 5,\n",
    "        \"window_size_for_expected_imbalance_estimation\": 10000,\n",
    "        \"initial_estimate_of_expected_n_ticks_in_bar\": 20000,\n",
    "    },\n",
    "    input_data=data,\n",
    "    batch_size=1_000_000,\n",
    ")\n",
    "\n",
    "expected_dollar_run_bars.head()"
   ]
  },
  {
   "cell_type": "markdown",
   "metadata": {},
   "source": [
    "##### Fixed Run Bars"
   ]
  },
  {
   "cell_type": "markdown",
   "metadata": {},
   "source": [
    "###### Fixed Tick Run Bars"
   ]
  },
  {
   "cell_type": "code",
   "execution_count": 34,
   "metadata": {},
   "outputs": [
    {
     "name": "stdout",
     "output_type": "stream",
     "text": [
      "Processing batch 0 with size 729726\n"
     ]
    },
    {
     "data": {
      "text/html": [
       "<div>\n",
       "<style scoped>\n",
       "    .dataframe tbody tr th:only-of-type {\n",
       "        vertical-align: middle;\n",
       "    }\n",
       "\n",
       "    .dataframe tbody tr th {\n",
       "        vertical-align: top;\n",
       "    }\n",
       "\n",
       "    .dataframe thead th {\n",
       "        text-align: right;\n",
       "    }\n",
       "</style>\n",
       "<table border=\"1\" class=\"dataframe\">\n",
       "  <thead>\n",
       "    <tr style=\"text-align: right;\">\n",
       "      <th></th>\n",
       "      <th>Date Time</th>\n",
       "      <th>Tick Number</th>\n",
       "      <th>Open</th>\n",
       "      <th>High</th>\n",
       "      <th>Low</th>\n",
       "      <th>Close</th>\n",
       "      <th>Cumulative Volume</th>\n",
       "      <th>Cumulative Buy Volume</th>\n",
       "      <th>Cumulative Sell Volume</th>\n",
       "      <th>Cumulative Ticks</th>\n",
       "      <th>Cumulative Dollar Value</th>\n",
       "      <th>Threshold</th>\n",
       "    </tr>\n",
       "  </thead>\n",
       "  <tbody>\n",
       "  </tbody>\n",
       "</table>\n",
       "</div>"
      ],
      "text/plain": [
       "Empty DataFrame\n",
       "Columns: [Date Time, Tick Number, Open, High, Low, Close, Cumulative Volume, Cumulative Buy Volume, Cumulative Sell Volume, Cumulative Ticks, Cumulative Dollar Value, Threshold]\n",
       "Index: []"
      ]
     },
     "execution_count": 34,
     "metadata": {},
     "output_type": "execute_result"
    }
   ],
   "source": [
    "fixed_tick_run_bars = controller.handle_input_command(\n",
    "    method_name=\"fixed_tick_run_bars\",\n",
    "    method_arguments={\n",
    "        \"window_size_for_expected_imbalance_estimation\": 10000,\n",
    "        \"initial_estimate_of_expected_n_ticks_in_bar\": 20000,\n",
    "    },\n",
    "    input_data=data,\n",
    "    batch_size=1_000_000,\n",
    ")\n",
    "\n",
    "fixed_tick_run_bars.head()"
   ]
  },
  {
   "cell_type": "markdown",
   "metadata": {},
   "source": [
    "###### Fixed Volume Run Bars"
   ]
  },
  {
   "cell_type": "code",
   "execution_count": 35,
   "metadata": {},
   "outputs": [
    {
     "name": "stdout",
     "output_type": "stream",
     "text": [
      "Processing batch 0 with size 729726\n"
     ]
    },
    {
     "data": {
      "text/html": [
       "<div>\n",
       "<style scoped>\n",
       "    .dataframe tbody tr th:only-of-type {\n",
       "        vertical-align: middle;\n",
       "    }\n",
       "\n",
       "    .dataframe tbody tr th {\n",
       "        vertical-align: top;\n",
       "    }\n",
       "\n",
       "    .dataframe thead th {\n",
       "        text-align: right;\n",
       "    }\n",
       "</style>\n",
       "<table border=\"1\" class=\"dataframe\">\n",
       "  <thead>\n",
       "    <tr style=\"text-align: right;\">\n",
       "      <th></th>\n",
       "      <th>Date Time</th>\n",
       "      <th>Tick Number</th>\n",
       "      <th>Open</th>\n",
       "      <th>High</th>\n",
       "      <th>Low</th>\n",
       "      <th>Close</th>\n",
       "      <th>Cumulative Volume</th>\n",
       "      <th>Cumulative Buy Volume</th>\n",
       "      <th>Cumulative Sell Volume</th>\n",
       "      <th>Cumulative Ticks</th>\n",
       "      <th>Cumulative Dollar Value</th>\n",
       "      <th>Threshold</th>\n",
       "    </tr>\n",
       "  </thead>\n",
       "  <tbody>\n",
       "    <tr>\n",
       "      <th>0</th>\n",
       "      <td>2022-09-10 11:59:27</td>\n",
       "      <td>48456</td>\n",
       "      <td>13170.0</td>\n",
       "      <td>13450.0</td>\n",
       "      <td>10080.0</td>\n",
       "      <td>10240.0</td>\n",
       "      <td>637624315.0</td>\n",
       "      <td>239201038.0</td>\n",
       "      <td>398423277.0</td>\n",
       "      <td>48456</td>\n",
       "      <td>7.369559e+12</td>\n",
       "      <td>1.507193e+08</td>\n",
       "    </tr>\n",
       "    <tr>\n",
       "      <th>1</th>\n",
       "      <td>2022-10-26 11:54:47</td>\n",
       "      <td>68548</td>\n",
       "      <td>10240.0</td>\n",
       "      <td>10360.0</td>\n",
       "      <td>7710.0</td>\n",
       "      <td>7800.0</td>\n",
       "      <td>230738256.0</td>\n",
       "      <td>80017395.0</td>\n",
       "      <td>150720861.0</td>\n",
       "      <td>20092</td>\n",
       "      <td>2.133568e+12</td>\n",
       "      <td>1.507193e+08</td>\n",
       "    </tr>\n",
       "    <tr>\n",
       "      <th>2</th>\n",
       "      <td>2022-11-07 10:22:54</td>\n",
       "      <td>82853</td>\n",
       "      <td>7820.0</td>\n",
       "      <td>10470.0</td>\n",
       "      <td>7740.0</td>\n",
       "      <td>10380.0</td>\n",
       "      <td>294942240.0</td>\n",
       "      <td>144155467.0</td>\n",
       "      <td>150786773.0</td>\n",
       "      <td>14305</td>\n",
       "      <td>2.752901e+12</td>\n",
       "      <td>1.507839e+08</td>\n",
       "    </tr>\n",
       "    <tr>\n",
       "      <th>3</th>\n",
       "      <td>2022-11-19 12:02:59</td>\n",
       "      <td>112348</td>\n",
       "      <td>10380.0</td>\n",
       "      <td>11100.0</td>\n",
       "      <td>10040.0</td>\n",
       "      <td>10120.0</td>\n",
       "      <td>423341888.0</td>\n",
       "      <td>186307127.0</td>\n",
       "      <td>237034761.0</td>\n",
       "      <td>29495</td>\n",
       "      <td>4.487508e+12</td>\n",
       "      <td>2.370094e+08</td>\n",
       "    </tr>\n",
       "    <tr>\n",
       "      <th>4</th>\n",
       "      <td>2022-12-03 11:12:55</td>\n",
       "      <td>130073</td>\n",
       "      <td>10160.0</td>\n",
       "      <td>10860.0</td>\n",
       "      <td>10110.0</td>\n",
       "      <td>10500.0</td>\n",
       "      <td>249576484.0</td>\n",
       "      <td>103740832.0</td>\n",
       "      <td>145835652.0</td>\n",
       "      <td>17725</td>\n",
       "      <td>2.630787e+12</td>\n",
       "      <td>1.458287e+08</td>\n",
       "    </tr>\n",
       "  </tbody>\n",
       "</table>\n",
       "</div>"
      ],
      "text/plain": [
       "            Date Time  Tick Number     Open     High      Low    Close  \\\n",
       "0 2022-09-10 11:59:27        48456  13170.0  13450.0  10080.0  10240.0   \n",
       "1 2022-10-26 11:54:47        68548  10240.0  10360.0   7710.0   7800.0   \n",
       "2 2022-11-07 10:22:54        82853   7820.0  10470.0   7740.0  10380.0   \n",
       "3 2022-11-19 12:02:59       112348  10380.0  11100.0  10040.0  10120.0   \n",
       "4 2022-12-03 11:12:55       130073  10160.0  10860.0  10110.0  10500.0   \n",
       "\n",
       "   Cumulative Volume  Cumulative Buy Volume  Cumulative Sell Volume  \\\n",
       "0        637624315.0            239201038.0             398423277.0   \n",
       "1        230738256.0             80017395.0             150720861.0   \n",
       "2        294942240.0            144155467.0             150786773.0   \n",
       "3        423341888.0            186307127.0             237034761.0   \n",
       "4        249576484.0            103740832.0             145835652.0   \n",
       "\n",
       "   Cumulative Ticks  Cumulative Dollar Value     Threshold  \n",
       "0             48456             7.369559e+12  1.507193e+08  \n",
       "1             20092             2.133568e+12  1.507193e+08  \n",
       "2             14305             2.752901e+12  1.507839e+08  \n",
       "3             29495             4.487508e+12  2.370094e+08  \n",
       "4             17725             2.630787e+12  1.458287e+08  "
      ]
     },
     "execution_count": 35,
     "metadata": {},
     "output_type": "execute_result"
    }
   ],
   "source": [
    "fixed_volume_run_bars = controller.handle_input_command(\n",
    "    method_name=\"fixed_volume_run_bars\",\n",
    "    method_arguments={\n",
    "        \"window_size_for_expected_imbalance_estimation\": 10000,\n",
    "        \"initial_estimate_of_expected_n_ticks_in_bar\": 20000,\n",
    "    },\n",
    "    input_data=data,\n",
    "    batch_size=1_000_000,\n",
    ")\n",
    "\n",
    "fixed_volume_run_bars.head()"
   ]
  },
  {
   "cell_type": "markdown",
   "metadata": {},
   "source": [
    "###### Fixed Dollar Run Bars"
   ]
  },
  {
   "cell_type": "code",
   "execution_count": 36,
   "metadata": {},
   "outputs": [
    {
     "name": "stdout",
     "output_type": "stream",
     "text": [
      "Processing batch 0 with size 729726\n"
     ]
    },
    {
     "data": {
      "text/html": [
       "<div>\n",
       "<style scoped>\n",
       "    .dataframe tbody tr th:only-of-type {\n",
       "        vertical-align: middle;\n",
       "    }\n",
       "\n",
       "    .dataframe tbody tr th {\n",
       "        vertical-align: top;\n",
       "    }\n",
       "\n",
       "    .dataframe thead th {\n",
       "        text-align: right;\n",
       "    }\n",
       "</style>\n",
       "<table border=\"1\" class=\"dataframe\">\n",
       "  <thead>\n",
       "    <tr style=\"text-align: right;\">\n",
       "      <th></th>\n",
       "      <th>Date Time</th>\n",
       "      <th>Tick Number</th>\n",
       "      <th>Open</th>\n",
       "      <th>High</th>\n",
       "      <th>Low</th>\n",
       "      <th>Close</th>\n",
       "      <th>Cumulative Volume</th>\n",
       "      <th>Cumulative Buy Volume</th>\n",
       "      <th>Cumulative Sell Volume</th>\n",
       "      <th>Cumulative Ticks</th>\n",
       "      <th>Cumulative Dollar Value</th>\n",
       "      <th>Threshold</th>\n",
       "    </tr>\n",
       "  </thead>\n",
       "  <tbody>\n",
       "    <tr>\n",
       "      <th>0</th>\n",
       "      <td>2022-09-10 11:59:27</td>\n",
       "      <td>48456</td>\n",
       "      <td>13170.0</td>\n",
       "      <td>13450.0</td>\n",
       "      <td>10080.0</td>\n",
       "      <td>10240.0</td>\n",
       "      <td>637624315.0</td>\n",
       "      <td>239201038.0</td>\n",
       "      <td>398423277.0</td>\n",
       "      <td>48456</td>\n",
       "      <td>7.369559e+12</td>\n",
       "      <td>1.620267e+12</td>\n",
       "    </tr>\n",
       "    <tr>\n",
       "      <th>1</th>\n",
       "      <td>2022-11-01 09:06:34</td>\n",
       "      <td>71748</td>\n",
       "      <td>10240.0</td>\n",
       "      <td>10360.0</td>\n",
       "      <td>7710.0</td>\n",
       "      <td>8640.0</td>\n",
       "      <td>279558678.0</td>\n",
       "      <td>100492848.0</td>\n",
       "      <td>179065830.0</td>\n",
       "      <td>23292</td>\n",
       "      <td>2.536795e+12</td>\n",
       "      <td>1.620267e+12</td>\n",
       "    </tr>\n",
       "    <tr>\n",
       "      <th>2</th>\n",
       "      <td>2022-11-08 09:04:08</td>\n",
       "      <td>86052</td>\n",
       "      <td>8640.0</td>\n",
       "      <td>10900.0</td>\n",
       "      <td>8460.0</td>\n",
       "      <td>10800.0</td>\n",
       "      <td>284262931.0</td>\n",
       "      <td>148607559.0</td>\n",
       "      <td>135655372.0</td>\n",
       "      <td>14304</td>\n",
       "      <td>2.750523e+12</td>\n",
       "      <td>1.445148e+12</td>\n",
       "    </tr>\n",
       "    <tr>\n",
       "      <th>3</th>\n",
       "      <td>2022-11-15 09:31:03</td>\n",
       "      <td>106286</td>\n",
       "      <td>10800.0</td>\n",
       "      <td>11100.0</td>\n",
       "      <td>10040.0</td>\n",
       "      <td>10750.0</td>\n",
       "      <td>314690227.0</td>\n",
       "      <td>131470147.0</td>\n",
       "      <td>183220080.0</td>\n",
       "      <td>20234</td>\n",
       "      <td>3.344599e+12</td>\n",
       "      <td>1.945589e+12</td>\n",
       "    </tr>\n",
       "    <tr>\n",
       "      <th>4</th>\n",
       "      <td>2022-11-30 09:09:03</td>\n",
       "      <td>127832</td>\n",
       "      <td>10730.0</td>\n",
       "      <td>10920.0</td>\n",
       "      <td>10040.0</td>\n",
       "      <td>10570.0</td>\n",
       "      <td>287315167.0</td>\n",
       "      <td>121567302.0</td>\n",
       "      <td>165747865.0</td>\n",
       "      <td>21546</td>\n",
       "      <td>3.027045e+12</td>\n",
       "      <td>1.742793e+12</td>\n",
       "    </tr>\n",
       "  </tbody>\n",
       "</table>\n",
       "</div>"
      ],
      "text/plain": [
       "            Date Time  Tick Number     Open     High      Low    Close  \\\n",
       "0 2022-09-10 11:59:27        48456  13170.0  13450.0  10080.0  10240.0   \n",
       "1 2022-11-01 09:06:34        71748  10240.0  10360.0   7710.0   8640.0   \n",
       "2 2022-11-08 09:04:08        86052   8640.0  10900.0   8460.0  10800.0   \n",
       "3 2022-11-15 09:31:03       106286  10800.0  11100.0  10040.0  10750.0   \n",
       "4 2022-11-30 09:09:03       127832  10730.0  10920.0  10040.0  10570.0   \n",
       "\n",
       "   Cumulative Volume  Cumulative Buy Volume  Cumulative Sell Volume  \\\n",
       "0        637624315.0            239201038.0             398423277.0   \n",
       "1        279558678.0            100492848.0             179065830.0   \n",
       "2        284262931.0            148607559.0             135655372.0   \n",
       "3        314690227.0            131470147.0             183220080.0   \n",
       "4        287315167.0            121567302.0             165747865.0   \n",
       "\n",
       "   Cumulative Ticks  Cumulative Dollar Value     Threshold  \n",
       "0             48456             7.369559e+12  1.620267e+12  \n",
       "1             23292             2.536795e+12  1.620267e+12  \n",
       "2             14304             2.750523e+12  1.445148e+12  \n",
       "3             20234             3.344599e+12  1.945589e+12  \n",
       "4             21546             3.027045e+12  1.742793e+12  "
      ]
     },
     "execution_count": 36,
     "metadata": {},
     "output_type": "execute_result"
    }
   ],
   "source": [
    "fixed_dollar_run_bars = controller.handle_input_command(\n",
    "    method_name=\"fixed_dollar_run_bars\",\n",
    "    method_arguments={\n",
    "        \"window_size_for_expected_imbalance_estimation\": 10000,\n",
    "        \"initial_estimate_of_expected_n_ticks_in_bar\": 20000,\n",
    "    },\n",
    "    input_data=data,\n",
    "    batch_size=1_000_000,\n",
    ")\n",
    "\n",
    "fixed_dollar_run_bars.head()"
   ]
  },
  {
   "cell_type": "markdown",
   "metadata": {},
   "source": [
    "# Financial Data Structures Using Lopez book"
   ]
  },
  {
   "cell_type": "markdown",
   "metadata": {},
   "source": [
    "## Data Import and Initial Processing"
   ]
  },
  {
   "cell_type": "code",
   "execution_count": 12,
   "metadata": {
    "ExecuteTime": {
     "end_time": "2024-03-14T13:55:41.741952500Z",
     "start_time": "2024-03-14T13:55:40.402047600Z"
    }
   },
   "outputs": [
    {
     "data": {
      "text/html": [
       "<div>\n",
       "<style scoped>\n",
       "    .dataframe tbody tr th:only-of-type {\n",
       "        vertical-align: middle;\n",
       "    }\n",
       "\n",
       "    .dataframe tbody tr th {\n",
       "        vertical-align: top;\n",
       "    }\n",
       "\n",
       "    .dataframe thead th {\n",
       "        text-align: right;\n",
       "    }\n",
       "</style>\n",
       "<table border=\"1\" class=\"dataframe\">\n",
       "  <thead>\n",
       "    <tr style=\"text-align: right;\">\n",
       "      <th></th>\n",
       "      <th>price</th>\n",
       "      <th>bid</th>\n",
       "      <th>ask</th>\n",
       "      <th>size</th>\n",
       "    </tr>\n",
       "    <tr>\n",
       "      <th>dates</th>\n",
       "      <th></th>\n",
       "      <th></th>\n",
       "      <th></th>\n",
       "      <th></th>\n",
       "    </tr>\n",
       "  </thead>\n",
       "  <tbody>\n",
       "    <tr>\n",
       "      <th>2020-01-02 09:30:00</th>\n",
       "      <td>130.68</td>\n",
       "      <td>130.59</td>\n",
       "      <td>130.60</td>\n",
       "      <td>20625</td>\n",
       "    </tr>\n",
       "    <tr>\n",
       "      <th>2020-01-02 09:30:01</th>\n",
       "      <td>130.50</td>\n",
       "      <td>130.50</td>\n",
       "      <td>130.77</td>\n",
       "      <td>200</td>\n",
       "    </tr>\n",
       "    <tr>\n",
       "      <th>2020-01-02 09:30:04</th>\n",
       "      <td>130.53</td>\n",
       "      <td>130.52</td>\n",
       "      <td>130.78</td>\n",
       "      <td>100</td>\n",
       "    </tr>\n",
       "    <tr>\n",
       "      <th>2020-01-02 09:30:04</th>\n",
       "      <td>130.55</td>\n",
       "      <td>130.52</td>\n",
       "      <td>130.78</td>\n",
       "      <td>100</td>\n",
       "    </tr>\n",
       "    <tr>\n",
       "      <th>2020-01-02 09:30:04</th>\n",
       "      <td>130.53</td>\n",
       "      <td>130.52</td>\n",
       "      <td>130.78</td>\n",
       "      <td>200</td>\n",
       "    </tr>\n",
       "  </tbody>\n",
       "</table>\n",
       "</div>"
      ],
      "text/plain": [
       "                      price     bid     ask   size\n",
       "dates                                             \n",
       "2020-01-02 09:30:00  130.68  130.59  130.60  20625\n",
       "2020-01-02 09:30:01  130.50  130.50  130.77    200\n",
       "2020-01-02 09:30:04  130.53  130.52  130.78    100\n",
       "2020-01-02 09:30:04  130.55  130.52  130.78    100\n",
       "2020-01-02 09:30:04  130.53  130.52  130.78    200"
      ]
     },
     "execution_count": 12,
     "metadata": {},
     "output_type": "execute_result"
    }
   ],
   "source": [
    "dir = \"https://raw.githubusercontent.com/risk-labratory/data/main/\"\n",
    "url = dir + \"IVE_2020.csv\"\n",
    "\n",
    "dataframe = pd.read_csv(url, header=0)\n",
    "dataframe['dates'] = pd.to_datetime(dataframe['dates'])\n",
    "dataframe.set_index('dates', inplace=True, drop=True)\n",
    "dataframe.drop_duplicates(inplace=True)\n",
    "dataframe = dataframe[(dataframe.index.hour >= 9) & (dataframe.index.hour < 16)]\n",
    "dataframe.head()\n"
   ]
  },
  {
   "cell_type": "markdown",
   "metadata": {},
   "source": [
    "## Bars"
   ]
  },
  {
   "cell_type": "markdown",
   "metadata": {},
   "source": [
    "### Standard Bars"
   ]
  },
  {
   "cell_type": "markdown",
   "metadata": {},
   "source": [
    "#### Time Bars"
   ]
  },
  {
   "cell_type": "code",
   "execution_count": 111,
   "metadata": {},
   "outputs": [
    {
     "data": {
      "text/html": [
       "<div>\n",
       "<style scoped>\n",
       "    .dataframe tbody tr th:only-of-type {\n",
       "        vertical-align: middle;\n",
       "    }\n",
       "\n",
       "    .dataframe tbody tr th {\n",
       "        vertical-align: top;\n",
       "    }\n",
       "\n",
       "    .dataframe thead th {\n",
       "        text-align: right;\n",
       "    }\n",
       "</style>\n",
       "<table border=\"1\" class=\"dataframe\">\n",
       "  <thead>\n",
       "    <tr style=\"text-align: right;\">\n",
       "      <th></th>\n",
       "      <th>open</th>\n",
       "      <th>high</th>\n",
       "      <th>low</th>\n",
       "      <th>close</th>\n",
       "      <th>volume</th>\n",
       "      <th>value_of_trades</th>\n",
       "      <th>price_mean</th>\n",
       "      <th>tick_count</th>\n",
       "      <th>price_mean_log_return</th>\n",
       "    </tr>\n",
       "    <tr>\n",
       "      <th>dates</th>\n",
       "      <th></th>\n",
       "      <th></th>\n",
       "      <th></th>\n",
       "      <th></th>\n",
       "      <th></th>\n",
       "      <th></th>\n",
       "      <th></th>\n",
       "      <th></th>\n",
       "      <th></th>\n",
       "    </tr>\n",
       "  </thead>\n",
       "  <tbody>\n",
       "    <tr>\n",
       "      <th>2020-01-02 09:30:00</th>\n",
       "      <td>130.6800</td>\n",
       "      <td>130.7800</td>\n",
       "      <td>130.3700</td>\n",
       "      <td>130.4299</td>\n",
       "      <td>164048</td>\n",
       "      <td>130.585010</td>\n",
       "      <td>130.558158</td>\n",
       "      <td>262</td>\n",
       "      <td>NaN</td>\n",
       "    </tr>\n",
       "    <tr>\n",
       "      <th>2020-01-02 10:00:00</th>\n",
       "      <td>130.4000</td>\n",
       "      <td>130.4000</td>\n",
       "      <td>130.0218</td>\n",
       "      <td>130.0564</td>\n",
       "      <td>75227</td>\n",
       "      <td>130.141558</td>\n",
       "      <td>130.178844</td>\n",
       "      <td>132</td>\n",
       "      <td>-0.002910</td>\n",
       "    </tr>\n",
       "    <tr>\n",
       "      <th>2020-01-02 10:30:00</th>\n",
       "      <td>130.0800</td>\n",
       "      <td>130.2000</td>\n",
       "      <td>129.9713</td>\n",
       "      <td>130.2000</td>\n",
       "      <td>91006</td>\n",
       "      <td>130.079069</td>\n",
       "      <td>130.056870</td>\n",
       "      <td>124</td>\n",
       "      <td>-0.000937</td>\n",
       "    </tr>\n",
       "    <tr>\n",
       "      <th>2020-01-02 11:00:00</th>\n",
       "      <td>130.2050</td>\n",
       "      <td>130.2089</td>\n",
       "      <td>130.0800</td>\n",
       "      <td>130.1300</td>\n",
       "      <td>65182</td>\n",
       "      <td>130.141968</td>\n",
       "      <td>130.138222</td>\n",
       "      <td>64</td>\n",
       "      <td>0.000625</td>\n",
       "    </tr>\n",
       "    <tr>\n",
       "      <th>2020-01-02 11:30:00</th>\n",
       "      <td>130.0833</td>\n",
       "      <td>130.0833</td>\n",
       "      <td>129.9380</td>\n",
       "      <td>130.0300</td>\n",
       "      <td>84253</td>\n",
       "      <td>130.013381</td>\n",
       "      <td>130.016007</td>\n",
       "      <td>59</td>\n",
       "      <td>-0.000940</td>\n",
       "    </tr>\n",
       "    <tr>\n",
       "      <th>2020-01-02 12:00:00</th>\n",
       "      <td>130.0215</td>\n",
       "      <td>130.1179</td>\n",
       "      <td>129.9800</td>\n",
       "      <td>130.0732</td>\n",
       "      <td>59420</td>\n",
       "      <td>130.063977</td>\n",
       "      <td>130.075780</td>\n",
       "      <td>60</td>\n",
       "      <td>0.000460</td>\n",
       "    </tr>\n",
       "    <tr>\n",
       "      <th>2020-01-02 12:30:00</th>\n",
       "      <td>130.0945</td>\n",
       "      <td>130.1348</td>\n",
       "      <td>130.0420</td>\n",
       "      <td>130.0773</td>\n",
       "      <td>152349</td>\n",
       "      <td>130.084798</td>\n",
       "      <td>130.073998</td>\n",
       "      <td>125</td>\n",
       "      <td>-0.000014</td>\n",
       "    </tr>\n",
       "    <tr>\n",
       "      <th>2020-01-02 13:00:00</th>\n",
       "      <td>130.0700</td>\n",
       "      <td>130.0700</td>\n",
       "      <td>129.9566</td>\n",
       "      <td>129.9566</td>\n",
       "      <td>16861</td>\n",
       "      <td>129.995596</td>\n",
       "      <td>129.990660</td>\n",
       "      <td>45</td>\n",
       "      <td>-0.000641</td>\n",
       "    </tr>\n",
       "    <tr>\n",
       "      <th>2020-01-02 13:30:00</th>\n",
       "      <td>129.9799</td>\n",
       "      <td>130.0200</td>\n",
       "      <td>129.9400</td>\n",
       "      <td>129.9779</td>\n",
       "      <td>64199</td>\n",
       "      <td>129.969085</td>\n",
       "      <td>129.969793</td>\n",
       "      <td>81</td>\n",
       "      <td>-0.000161</td>\n",
       "    </tr>\n",
       "    <tr>\n",
       "      <th>2020-01-02 14:00:00</th>\n",
       "      <td>129.9700</td>\n",
       "      <td>130.1163</td>\n",
       "      <td>129.9700</td>\n",
       "      <td>130.0850</td>\n",
       "      <td>294131</td>\n",
       "      <td>130.083151</td>\n",
       "      <td>130.034996</td>\n",
       "      <td>126</td>\n",
       "      <td>0.000502</td>\n",
       "    </tr>\n",
       "  </tbody>\n",
       "</table>\n",
       "</div>"
      ],
      "text/plain": [
       "                         open      high       low     close  volume  \\\n",
       "dates                                                                 \n",
       "2020-01-02 09:30:00  130.6800  130.7800  130.3700  130.4299  164048   \n",
       "2020-01-02 10:00:00  130.4000  130.4000  130.0218  130.0564   75227   \n",
       "2020-01-02 10:30:00  130.0800  130.2000  129.9713  130.2000   91006   \n",
       "2020-01-02 11:00:00  130.2050  130.2089  130.0800  130.1300   65182   \n",
       "2020-01-02 11:30:00  130.0833  130.0833  129.9380  130.0300   84253   \n",
       "2020-01-02 12:00:00  130.0215  130.1179  129.9800  130.0732   59420   \n",
       "2020-01-02 12:30:00  130.0945  130.1348  130.0420  130.0773  152349   \n",
       "2020-01-02 13:00:00  130.0700  130.0700  129.9566  129.9566   16861   \n",
       "2020-01-02 13:30:00  129.9799  130.0200  129.9400  129.9779   64199   \n",
       "2020-01-02 14:00:00  129.9700  130.1163  129.9700  130.0850  294131   \n",
       "\n",
       "                     value_of_trades  price_mean  tick_count  \\\n",
       "dates                                                          \n",
       "2020-01-02 09:30:00       130.585010  130.558158         262   \n",
       "2020-01-02 10:00:00       130.141558  130.178844         132   \n",
       "2020-01-02 10:30:00       130.079069  130.056870         124   \n",
       "2020-01-02 11:00:00       130.141968  130.138222          64   \n",
       "2020-01-02 11:30:00       130.013381  130.016007          59   \n",
       "2020-01-02 12:00:00       130.063977  130.075780          60   \n",
       "2020-01-02 12:30:00       130.084798  130.073998         125   \n",
       "2020-01-02 13:00:00       129.995596  129.990660          45   \n",
       "2020-01-02 13:30:00       129.969085  129.969793          81   \n",
       "2020-01-02 14:00:00       130.083151  130.034996         126   \n",
       "\n",
       "                     price_mean_log_return  \n",
       "dates                                       \n",
       "2020-01-02 09:30:00                    NaN  \n",
       "2020-01-02 10:00:00              -0.002910  \n",
       "2020-01-02 10:30:00              -0.000937  \n",
       "2020-01-02 11:00:00               0.000625  \n",
       "2020-01-02 11:30:00              -0.000940  \n",
       "2020-01-02 12:00:00               0.000460  \n",
       "2020-01-02 12:30:00              -0.000014  \n",
       "2020-01-02 13:00:00              -0.000641  \n",
       "2020-01-02 13:30:00              -0.000161  \n",
       "2020-01-02 14:00:00               0.000502  "
      ]
     },
     "execution_count": 111,
     "metadata": {},
     "output_type": "execute_result"
    }
   ],
   "source": [
    "ohlcvTime = generate_time_bar(dataframe, frequency = \"30Min\")\n",
    "ohlcvTime.head(10)"
   ]
  },
  {
   "cell_type": "markdown",
   "metadata": {},
   "source": [
    "#### Tick Bars"
   ]
  },
  {
   "cell_type": "code",
   "execution_count": 112,
   "metadata": {},
   "outputs": [
    {
     "data": {
      "text/html": [
       "<div>\n",
       "<style scoped>\n",
       "    .dataframe tbody tr th:only-of-type {\n",
       "        vertical-align: middle;\n",
       "    }\n",
       "\n",
       "    .dataframe tbody tr th {\n",
       "        vertical-align: top;\n",
       "    }\n",
       "\n",
       "    .dataframe thead th {\n",
       "        text-align: right;\n",
       "    }\n",
       "</style>\n",
       "<table border=\"1\" class=\"dataframe\">\n",
       "  <thead>\n",
       "    <tr style=\"text-align: right;\">\n",
       "      <th></th>\n",
       "      <th>open</th>\n",
       "      <th>high</th>\n",
       "      <th>low</th>\n",
       "      <th>close</th>\n",
       "      <th>volume</th>\n",
       "      <th>value_of_trades</th>\n",
       "      <th>price_mean</th>\n",
       "      <th>tick_count</th>\n",
       "      <th>price_mean_log_return</th>\n",
       "    </tr>\n",
       "    <tr>\n",
       "      <th>dates</th>\n",
       "      <th></th>\n",
       "      <th></th>\n",
       "      <th></th>\n",
       "      <th></th>\n",
       "      <th></th>\n",
       "      <th></th>\n",
       "      <th></th>\n",
       "      <th></th>\n",
       "      <th></th>\n",
       "    </tr>\n",
       "  </thead>\n",
       "  <tbody>\n",
       "    <tr>\n",
       "      <th>2020-01-02 09:30:00</th>\n",
       "      <td>130.680</td>\n",
       "      <td>130.7800</td>\n",
       "      <td>130.5000</td>\n",
       "      <td>130.7800</td>\n",
       "      <td>23625</td>\n",
       "      <td>130.672466</td>\n",
       "      <td>130.607500</td>\n",
       "      <td>16</td>\n",
       "      <td>NaN</td>\n",
       "    </tr>\n",
       "    <tr>\n",
       "      <th>2020-01-02 09:30:05</th>\n",
       "      <td>130.780</td>\n",
       "      <td>130.7800</td>\n",
       "      <td>130.5200</td>\n",
       "      <td>130.6650</td>\n",
       "      <td>8446</td>\n",
       "      <td>130.647502</td>\n",
       "      <td>130.676562</td>\n",
       "      <td>16</td>\n",
       "      <td>0.000529</td>\n",
       "    </tr>\n",
       "    <tr>\n",
       "      <th>2020-01-02 09:30:29</th>\n",
       "      <td>130.660</td>\n",
       "      <td>130.7049</td>\n",
       "      <td>130.6000</td>\n",
       "      <td>130.6200</td>\n",
       "      <td>1982</td>\n",
       "      <td>130.649491</td>\n",
       "      <td>130.647181</td>\n",
       "      <td>16</td>\n",
       "      <td>-0.000225</td>\n",
       "    </tr>\n",
       "    <tr>\n",
       "      <th>2020-01-02 09:32:12</th>\n",
       "      <td>130.620</td>\n",
       "      <td>130.6200</td>\n",
       "      <td>130.5600</td>\n",
       "      <td>130.5700</td>\n",
       "      <td>5200</td>\n",
       "      <td>130.574894</td>\n",
       "      <td>130.579031</td>\n",
       "      <td>16</td>\n",
       "      <td>-0.000522</td>\n",
       "    </tr>\n",
       "    <tr>\n",
       "      <th>2020-01-02 09:32:51</th>\n",
       "      <td>130.570</td>\n",
       "      <td>130.6100</td>\n",
       "      <td>130.5567</td>\n",
       "      <td>130.5900</td>\n",
       "      <td>5721</td>\n",
       "      <td>130.589296</td>\n",
       "      <td>130.586669</td>\n",
       "      <td>16</td>\n",
       "      <td>0.000058</td>\n",
       "    </tr>\n",
       "    <tr>\n",
       "      <th>2020-01-02 09:33:04</th>\n",
       "      <td>130.590</td>\n",
       "      <td>130.6300</td>\n",
       "      <td>130.5900</td>\n",
       "      <td>130.6242</td>\n",
       "      <td>52946</td>\n",
       "      <td>130.609491</td>\n",
       "      <td>130.611506</td>\n",
       "      <td>16</td>\n",
       "      <td>0.000190</td>\n",
       "    </tr>\n",
       "    <tr>\n",
       "      <th>2020-01-02 09:33:32</th>\n",
       "      <td>130.640</td>\n",
       "      <td>130.6700</td>\n",
       "      <td>130.5350</td>\n",
       "      <td>130.5500</td>\n",
       "      <td>5886</td>\n",
       "      <td>130.589667</td>\n",
       "      <td>130.604900</td>\n",
       "      <td>16</td>\n",
       "      <td>-0.000051</td>\n",
       "    </tr>\n",
       "    <tr>\n",
       "      <th>2020-01-02 09:35:05</th>\n",
       "      <td>130.550</td>\n",
       "      <td>130.5900</td>\n",
       "      <td>130.4800</td>\n",
       "      <td>130.5600</td>\n",
       "      <td>3614</td>\n",
       "      <td>130.536972</td>\n",
       "      <td>130.544238</td>\n",
       "      <td>16</td>\n",
       "      <td>-0.000465</td>\n",
       "    </tr>\n",
       "    <tr>\n",
       "      <th>2020-01-02 09:35:54</th>\n",
       "      <td>130.570</td>\n",
       "      <td>130.6200</td>\n",
       "      <td>130.5000</td>\n",
       "      <td>130.5000</td>\n",
       "      <td>5021</td>\n",
       "      <td>130.549199</td>\n",
       "      <td>130.551112</td>\n",
       "      <td>16</td>\n",
       "      <td>0.000053</td>\n",
       "    </tr>\n",
       "    <tr>\n",
       "      <th>2020-01-02 09:38:32</th>\n",
       "      <td>130.465</td>\n",
       "      <td>130.5600</td>\n",
       "      <td>130.4500</td>\n",
       "      <td>130.5346</td>\n",
       "      <td>2140</td>\n",
       "      <td>130.503384</td>\n",
       "      <td>130.509025</td>\n",
       "      <td>16</td>\n",
       "      <td>-0.000322</td>\n",
       "    </tr>\n",
       "  </tbody>\n",
       "</table>\n",
       "</div>"
      ],
      "text/plain": [
       "                        open      high       low     close  volume  \\\n",
       "dates                                                                \n",
       "2020-01-02 09:30:00  130.680  130.7800  130.5000  130.7800   23625   \n",
       "2020-01-02 09:30:05  130.780  130.7800  130.5200  130.6650    8446   \n",
       "2020-01-02 09:30:29  130.660  130.7049  130.6000  130.6200    1982   \n",
       "2020-01-02 09:32:12  130.620  130.6200  130.5600  130.5700    5200   \n",
       "2020-01-02 09:32:51  130.570  130.6100  130.5567  130.5900    5721   \n",
       "2020-01-02 09:33:04  130.590  130.6300  130.5900  130.6242   52946   \n",
       "2020-01-02 09:33:32  130.640  130.6700  130.5350  130.5500    5886   \n",
       "2020-01-02 09:35:05  130.550  130.5900  130.4800  130.5600    3614   \n",
       "2020-01-02 09:35:54  130.570  130.6200  130.5000  130.5000    5021   \n",
       "2020-01-02 09:38:32  130.465  130.5600  130.4500  130.5346    2140   \n",
       "\n",
       "                     value_of_trades  price_mean  tick_count  \\\n",
       "dates                                                          \n",
       "2020-01-02 09:30:00       130.672466  130.607500          16   \n",
       "2020-01-02 09:30:05       130.647502  130.676562          16   \n",
       "2020-01-02 09:30:29       130.649491  130.647181          16   \n",
       "2020-01-02 09:32:12       130.574894  130.579031          16   \n",
       "2020-01-02 09:32:51       130.589296  130.586669          16   \n",
       "2020-01-02 09:33:04       130.609491  130.611506          16   \n",
       "2020-01-02 09:33:32       130.589667  130.604900          16   \n",
       "2020-01-02 09:35:05       130.536972  130.544238          16   \n",
       "2020-01-02 09:35:54       130.549199  130.551112          16   \n",
       "2020-01-02 09:38:32       130.503384  130.509025          16   \n",
       "\n",
       "                     price_mean_log_return  \n",
       "dates                                       \n",
       "2020-01-02 09:30:00                    NaN  \n",
       "2020-01-02 09:30:05               0.000529  \n",
       "2020-01-02 09:30:29              -0.000225  \n",
       "2020-01-02 09:32:12              -0.000522  \n",
       "2020-01-02 09:32:51               0.000058  \n",
       "2020-01-02 09:33:04               0.000190  \n",
       "2020-01-02 09:33:32              -0.000051  \n",
       "2020-01-02 09:35:05              -0.000465  \n",
       "2020-01-02 09:35:54               0.000053  \n",
       "2020-01-02 09:38:32              -0.000322  "
      ]
     },
     "execution_count": 112,
     "metadata": {},
     "output_type": "execute_result"
    }
   ],
   "source": [
    "timeBarLen = ohlcvTime.shape[0]\n",
    "ohlcvTick = generate_tick_bar(dataframe, ticks_per_bar = 0, number_bars = timeBarLen)\n",
    "ohlcvTick.head(10)"
   ]
  },
  {
   "cell_type": "markdown",
   "metadata": {},
   "source": [
    "#### Volume Bars"
   ]
  },
  {
   "cell_type": "code",
   "execution_count": 6,
   "metadata": {},
   "outputs": [
    {
     "data": {
      "text/html": [
       "<div>\n",
       "<style scoped>\n",
       "    .dataframe tbody tr th:only-of-type {\n",
       "        vertical-align: middle;\n",
       "    }\n",
       "\n",
       "    .dataframe tbody tr th {\n",
       "        vertical-align: top;\n",
       "    }\n",
       "\n",
       "    .dataframe thead th {\n",
       "        text-align: right;\n",
       "    }\n",
       "</style>\n",
       "<table border=\"1\" class=\"dataframe\">\n",
       "  <thead>\n",
       "    <tr style=\"text-align: right;\">\n",
       "      <th></th>\n",
       "      <th>open</th>\n",
       "      <th>high</th>\n",
       "      <th>low</th>\n",
       "      <th>close</th>\n",
       "      <th>volume</th>\n",
       "      <th>value_of_trades</th>\n",
       "      <th>price_mean</th>\n",
       "      <th>tick_count</th>\n",
       "      <th>price_mean_log_return</th>\n",
       "    </tr>\n",
       "    <tr>\n",
       "      <th>dates</th>\n",
       "      <th></th>\n",
       "      <th></th>\n",
       "      <th></th>\n",
       "      <th></th>\n",
       "      <th></th>\n",
       "      <th></th>\n",
       "      <th></th>\n",
       "      <th></th>\n",
       "      <th></th>\n",
       "    </tr>\n",
       "  </thead>\n",
       "  <tbody>\n",
       "    <tr>\n",
       "      <th>2020-01-02 09:30:00</th>\n",
       "      <td>130.6800</td>\n",
       "      <td>130.6800</td>\n",
       "      <td>130.5000</td>\n",
       "      <td>130.5300</td>\n",
       "      <td>21225</td>\n",
       "      <td>130.675571</td>\n",
       "      <td>130.558000</td>\n",
       "      <td>5</td>\n",
       "      <td>NaN</td>\n",
       "    </tr>\n",
       "    <tr>\n",
       "      <th>2020-01-02 09:30:04</th>\n",
       "      <td>130.5400</td>\n",
       "      <td>130.7800</td>\n",
       "      <td>130.5200</td>\n",
       "      <td>130.7800</td>\n",
       "      <td>5913</td>\n",
       "      <td>130.716073</td>\n",
       "      <td>130.664444</td>\n",
       "      <td>18</td>\n",
       "      <td>0.000815</td>\n",
       "    </tr>\n",
       "    <tr>\n",
       "      <th>2020-01-02 09:30:12</th>\n",
       "      <td>130.5200</td>\n",
       "      <td>130.7400</td>\n",
       "      <td>130.5200</td>\n",
       "      <td>130.5700</td>\n",
       "      <td>8315</td>\n",
       "      <td>130.587541</td>\n",
       "      <td>130.632637</td>\n",
       "      <td>32</td>\n",
       "      <td>-0.000243</td>\n",
       "    </tr>\n",
       "    <tr>\n",
       "      <th>2020-01-02 09:32:50</th>\n",
       "      <td>130.5700</td>\n",
       "      <td>130.5900</td>\n",
       "      <td>130.5567</td>\n",
       "      <td>130.5900</td>\n",
       "      <td>6921</td>\n",
       "      <td>130.575836</td>\n",
       "      <td>130.576668</td>\n",
       "      <td>19</td>\n",
       "      <td>-0.000429</td>\n",
       "    </tr>\n",
       "    <tr>\n",
       "      <th>2020-01-02 09:33:04</th>\n",
       "      <td>130.6100</td>\n",
       "      <td>130.6200</td>\n",
       "      <td>130.5900</td>\n",
       "      <td>130.6200</td>\n",
       "      <td>6400</td>\n",
       "      <td>130.599844</td>\n",
       "      <td>130.602667</td>\n",
       "      <td>15</td>\n",
       "      <td>0.000199</td>\n",
       "    </tr>\n",
       "    <tr>\n",
       "      <th>2020-01-02 09:33:22</th>\n",
       "      <td>130.6100</td>\n",
       "      <td>130.6700</td>\n",
       "      <td>130.5980</td>\n",
       "      <td>130.6700</td>\n",
       "      <td>50546</td>\n",
       "      <td>130.611426</td>\n",
       "      <td>130.637436</td>\n",
       "      <td>14</td>\n",
       "      <td>0.000266</td>\n",
       "    </tr>\n",
       "    <tr>\n",
       "      <th>2020-01-02 09:34:09</th>\n",
       "      <td>130.6295</td>\n",
       "      <td>130.6295</td>\n",
       "      <td>130.5350</td>\n",
       "      <td>130.5400</td>\n",
       "      <td>6286</td>\n",
       "      <td>130.566144</td>\n",
       "      <td>130.564275</td>\n",
       "      <td>16</td>\n",
       "      <td>-0.000560</td>\n",
       "    </tr>\n",
       "    <tr>\n",
       "      <th>2020-01-02 09:35:17</th>\n",
       "      <td>130.4978</td>\n",
       "      <td>130.6200</td>\n",
       "      <td>130.4500</td>\n",
       "      <td>130.4900</td>\n",
       "      <td>7975</td>\n",
       "      <td>130.531469</td>\n",
       "      <td>130.528919</td>\n",
       "      <td>32</td>\n",
       "      <td>-0.000271</td>\n",
       "    </tr>\n",
       "    <tr>\n",
       "      <th>2020-01-02 09:39:53</th>\n",
       "      <td>130.5100</td>\n",
       "      <td>130.5600</td>\n",
       "      <td>130.5100</td>\n",
       "      <td>130.5300</td>\n",
       "      <td>7089</td>\n",
       "      <td>130.530707</td>\n",
       "      <td>130.530645</td>\n",
       "      <td>31</td>\n",
       "      <td>0.000013</td>\n",
       "    </tr>\n",
       "    <tr>\n",
       "      <th>2020-01-02 09:44:21</th>\n",
       "      <td>130.5400</td>\n",
       "      <td>130.5450</td>\n",
       "      <td>130.5250</td>\n",
       "      <td>130.5365</td>\n",
       "      <td>1848</td>\n",
       "      <td>130.538665</td>\n",
       "      <td>130.537300</td>\n",
       "      <td>5</td>\n",
       "      <td>0.000051</td>\n",
       "    </tr>\n",
       "  </tbody>\n",
       "</table>\n",
       "</div>"
      ],
      "text/plain": [
       "                         open      high       low     close  volume  \\\n",
       "dates                                                                 \n",
       "2020-01-02 09:30:00  130.6800  130.6800  130.5000  130.5300   21225   \n",
       "2020-01-02 09:30:04  130.5400  130.7800  130.5200  130.7800    5913   \n",
       "2020-01-02 09:30:12  130.5200  130.7400  130.5200  130.5700    8315   \n",
       "2020-01-02 09:32:50  130.5700  130.5900  130.5567  130.5900    6921   \n",
       "2020-01-02 09:33:04  130.6100  130.6200  130.5900  130.6200    6400   \n",
       "2020-01-02 09:33:22  130.6100  130.6700  130.5980  130.6700   50546   \n",
       "2020-01-02 09:34:09  130.6295  130.6295  130.5350  130.5400    6286   \n",
       "2020-01-02 09:35:17  130.4978  130.6200  130.4500  130.4900    7975   \n",
       "2020-01-02 09:39:53  130.5100  130.5600  130.5100  130.5300    7089   \n",
       "2020-01-02 09:44:21  130.5400  130.5450  130.5250  130.5365    1848   \n",
       "\n",
       "                     value_of_trades  price_mean  tick_count  \\\n",
       "dates                                                          \n",
       "2020-01-02 09:30:00       130.675571  130.558000           5   \n",
       "2020-01-02 09:30:04       130.716073  130.664444          18   \n",
       "2020-01-02 09:30:12       130.587541  130.632637          32   \n",
       "2020-01-02 09:32:50       130.575836  130.576668          19   \n",
       "2020-01-02 09:33:04       130.599844  130.602667          15   \n",
       "2020-01-02 09:33:22       130.611426  130.637436          14   \n",
       "2020-01-02 09:34:09       130.566144  130.564275          16   \n",
       "2020-01-02 09:35:17       130.531469  130.528919          32   \n",
       "2020-01-02 09:39:53       130.530707  130.530645          31   \n",
       "2020-01-02 09:44:21       130.538665  130.537300           5   \n",
       "\n",
       "                     price_mean_log_return  \n",
       "dates                                       \n",
       "2020-01-02 09:30:00                    NaN  \n",
       "2020-01-02 09:30:04               0.000815  \n",
       "2020-01-02 09:30:12              -0.000243  \n",
       "2020-01-02 09:32:50              -0.000429  \n",
       "2020-01-02 09:33:04               0.000199  \n",
       "2020-01-02 09:33:22               0.000266  \n",
       "2020-01-02 09:34:09              -0.000560  \n",
       "2020-01-02 09:35:17              -0.000271  \n",
       "2020-01-02 09:39:53               0.000013  \n",
       "2020-01-02 09:44:21               0.000051  "
      ]
     },
     "execution_count": 6,
     "metadata": {},
     "output_type": "execute_result"
    }
   ],
   "source": [
    "ohlcvVolume = generate_volume_bar(dataframe, volume_per_bar = 0, number_bars = timeBarLen)\n",
    "ohlcvVolume.head(10)"
   ]
  },
  {
   "cell_type": "markdown",
   "metadata": {},
   "source": [
    "#### Dollar Bars"
   ]
  },
  {
   "cell_type": "code",
   "execution_count": 8,
   "metadata": {
    "ExecuteTime": {
     "end_time": "2024-03-14T13:55:51.098267900Z",
     "start_time": "2024-03-14T13:55:45.214378100Z"
    }
   },
   "outputs": [
    {
     "data": {
      "text/html": [
       "<div>\n",
       "<style scoped>\n",
       "    .dataframe tbody tr th:only-of-type {\n",
       "        vertical-align: middle;\n",
       "    }\n",
       "\n",
       "    .dataframe tbody tr th {\n",
       "        vertical-align: top;\n",
       "    }\n",
       "\n",
       "    .dataframe thead th {\n",
       "        text-align: right;\n",
       "    }\n",
       "</style>\n",
       "<table border=\"1\" class=\"dataframe\">\n",
       "  <thead>\n",
       "    <tr style=\"text-align: right;\">\n",
       "      <th></th>\n",
       "      <th>open</th>\n",
       "      <th>high</th>\n",
       "      <th>low</th>\n",
       "      <th>close</th>\n",
       "      <th>volume</th>\n",
       "      <th>value_of_trades</th>\n",
       "      <th>price_mean</th>\n",
       "      <th>tick_count</th>\n",
       "      <th>price_mean_log_return</th>\n",
       "    </tr>\n",
       "    <tr>\n",
       "      <th>dates</th>\n",
       "      <th></th>\n",
       "      <th></th>\n",
       "      <th></th>\n",
       "      <th></th>\n",
       "      <th></th>\n",
       "      <th></th>\n",
       "      <th></th>\n",
       "      <th></th>\n",
       "      <th></th>\n",
       "    </tr>\n",
       "  </thead>\n",
       "  <tbody>\n",
       "    <tr>\n",
       "      <th>2020-01-02 09:30:00</th>\n",
       "      <td>130.6800</td>\n",
       "      <td>130.78</td>\n",
       "      <td>130.5000</td>\n",
       "      <td>130.67</td>\n",
       "      <td>24225</td>\n",
       "      <td>130.674262</td>\n",
       "      <td>130.631500</td>\n",
       "      <td>20</td>\n",
       "      <td>NaN</td>\n",
       "    </tr>\n",
       "    <tr>\n",
       "      <th>2020-01-02 09:30:05</th>\n",
       "      <td>130.6700</td>\n",
       "      <td>130.78</td>\n",
       "      <td>130.5200</td>\n",
       "      <td>130.52</td>\n",
       "      <td>4846</td>\n",
       "      <td>130.669480</td>\n",
       "      <td>130.660000</td>\n",
       "      <td>4</td>\n",
       "      <td>0.000218</td>\n",
       "    </tr>\n",
       "    <tr>\n",
       "      <th>2020-01-02 09:30:12</th>\n",
       "      <td>130.5200</td>\n",
       "      <td>130.74</td>\n",
       "      <td>130.5200</td>\n",
       "      <td>130.59</td>\n",
       "      <td>7182</td>\n",
       "      <td>130.604879</td>\n",
       "      <td>130.629840</td>\n",
       "      <td>35</td>\n",
       "      <td>-0.000231</td>\n",
       "    </tr>\n",
       "    <tr>\n",
       "      <th>2020-01-02 09:32:50</th>\n",
       "      <td>130.5700</td>\n",
       "      <td>130.59</td>\n",
       "      <td>130.5567</td>\n",
       "      <td>130.59</td>\n",
       "      <td>6121</td>\n",
       "      <td>130.575292</td>\n",
       "      <td>130.575780</td>\n",
       "      <td>15</td>\n",
       "      <td>-0.000414</td>\n",
       "    </tr>\n",
       "    <tr>\n",
       "      <th>2020-01-02 09:33:04</th>\n",
       "      <td>130.6100</td>\n",
       "      <td>130.61</td>\n",
       "      <td>130.5900</td>\n",
       "      <td>130.61</td>\n",
       "      <td>6100</td>\n",
       "      <td>130.599180</td>\n",
       "      <td>130.600769</td>\n",
       "      <td>13</td>\n",
       "      <td>0.000191</td>\n",
       "    </tr>\n",
       "    <tr>\n",
       "      <th>2020-01-02 09:33:19</th>\n",
       "      <td>130.6100</td>\n",
       "      <td>130.62</td>\n",
       "      <td>130.6100</td>\n",
       "      <td>130.62</td>\n",
       "      <td>300</td>\n",
       "      <td>130.613333</td>\n",
       "      <td>130.615000</td>\n",
       "      <td>2</td>\n",
       "      <td>0.000109</td>\n",
       "    </tr>\n",
       "    <tr>\n",
       "      <th>2020-01-02 09:33:22</th>\n",
       "      <td>130.6100</td>\n",
       "      <td>130.63</td>\n",
       "      <td>130.6100</td>\n",
       "      <td>130.63</td>\n",
       "      <td>48100</td>\n",
       "      <td>130.610042</td>\n",
       "      <td>130.620000</td>\n",
       "      <td>2</td>\n",
       "      <td>0.000038</td>\n",
       "    </tr>\n",
       "    <tr>\n",
       "      <th>2020-01-02 09:33:23</th>\n",
       "      <td>130.6300</td>\n",
       "      <td>130.67</td>\n",
       "      <td>130.5350</td>\n",
       "      <td>130.55</td>\n",
       "      <td>5832</td>\n",
       "      <td>130.602522</td>\n",
       "      <td>130.611625</td>\n",
       "      <td>20</td>\n",
       "      <td>-0.000064</td>\n",
       "    </tr>\n",
       "    <tr>\n",
       "      <th>2020-01-02 09:35:05</th>\n",
       "      <td>130.5500</td>\n",
       "      <td>130.62</td>\n",
       "      <td>130.4800</td>\n",
       "      <td>130.55</td>\n",
       "      <td>5465</td>\n",
       "      <td>130.545136</td>\n",
       "      <td>130.553600</td>\n",
       "      <td>23</td>\n",
       "      <td>-0.000444</td>\n",
       "    </tr>\n",
       "    <tr>\n",
       "      <th>2020-01-02 09:36:42</th>\n",
       "      <td>130.5592</td>\n",
       "      <td>130.57</td>\n",
       "      <td>130.4500</td>\n",
       "      <td>130.52</td>\n",
       "      <td>7010</td>\n",
       "      <td>130.530631</td>\n",
       "      <td>130.520740</td>\n",
       "      <td>30</td>\n",
       "      <td>-0.000252</td>\n",
       "    </tr>\n",
       "  </tbody>\n",
       "</table>\n",
       "</div>"
      ],
      "text/plain": [
       "                         open    high       low   close  volume  \\\n",
       "dates                                                             \n",
       "2020-01-02 09:30:00  130.6800  130.78  130.5000  130.67   24225   \n",
       "2020-01-02 09:30:05  130.6700  130.78  130.5200  130.52    4846   \n",
       "2020-01-02 09:30:12  130.5200  130.74  130.5200  130.59    7182   \n",
       "2020-01-02 09:32:50  130.5700  130.59  130.5567  130.59    6121   \n",
       "2020-01-02 09:33:04  130.6100  130.61  130.5900  130.61    6100   \n",
       "2020-01-02 09:33:19  130.6100  130.62  130.6100  130.62     300   \n",
       "2020-01-02 09:33:22  130.6100  130.63  130.6100  130.63   48100   \n",
       "2020-01-02 09:33:23  130.6300  130.67  130.5350  130.55    5832   \n",
       "2020-01-02 09:35:05  130.5500  130.62  130.4800  130.55    5465   \n",
       "2020-01-02 09:36:42  130.5592  130.57  130.4500  130.52    7010   \n",
       "\n",
       "                     value_of_trades  price_mean  tick_count  \\\n",
       "dates                                                          \n",
       "2020-01-02 09:30:00       130.674262  130.631500          20   \n",
       "2020-01-02 09:30:05       130.669480  130.660000           4   \n",
       "2020-01-02 09:30:12       130.604879  130.629840          35   \n",
       "2020-01-02 09:32:50       130.575292  130.575780          15   \n",
       "2020-01-02 09:33:04       130.599180  130.600769          13   \n",
       "2020-01-02 09:33:19       130.613333  130.615000           2   \n",
       "2020-01-02 09:33:22       130.610042  130.620000           2   \n",
       "2020-01-02 09:33:23       130.602522  130.611625          20   \n",
       "2020-01-02 09:35:05       130.545136  130.553600          23   \n",
       "2020-01-02 09:36:42       130.530631  130.520740          30   \n",
       "\n",
       "                     price_mean_log_return  \n",
       "dates                                       \n",
       "2020-01-02 09:30:00                    NaN  \n",
       "2020-01-02 09:30:05               0.000218  \n",
       "2020-01-02 09:30:12              -0.000231  \n",
       "2020-01-02 09:32:50              -0.000414  \n",
       "2020-01-02 09:33:04               0.000191  \n",
       "2020-01-02 09:33:19               0.000109  \n",
       "2020-01-02 09:33:22               0.000038  \n",
       "2020-01-02 09:33:23              -0.000064  \n",
       "2020-01-02 09:35:05              -0.000444  \n",
       "2020-01-02 09:36:42              -0.000252  "
      ]
     },
     "execution_count": 8,
     "metadata": {},
     "output_type": "execute_result"
    }
   ],
   "source": [
    "ohlcvDollar = generate_dollar_bar(dataframe, dollar_per_bar = 0, number_bars = timeBarLen)\n",
    "ohlcvDollar.head(10)"
   ]
  },
  {
   "attachments": {},
   "cell_type": "markdown",
   "metadata": {},
   "source": [
    "#### Stability"
   ]
  },
  {
   "cell_type": "code",
   "execution_count": 189,
   "metadata": {
    "ExecuteTime": {
     "end_time": "2024-03-14T13:56:28.844082400Z",
     "start_time": "2024-03-14T13:56:28.809826800Z"
    }
   },
   "outputs": [
    {
     "data": {
      "text/html": [
       "<div>\n",
       "<style scoped>\n",
       "    .dataframe tbody tr th:only-of-type {\n",
       "        vertical-align: middle;\n",
       "    }\n",
       "\n",
       "    .dataframe tbody tr th {\n",
       "        vertical-align: top;\n",
       "    }\n",
       "\n",
       "    .dataframe thead th {\n",
       "        text-align: right;\n",
       "    }\n",
       "</style>\n",
       "<table border=\"1\" class=\"dataframe\">\n",
       "  <thead>\n",
       "    <tr style=\"text-align: right;\">\n",
       "      <th></th>\n",
       "      <th>time</th>\n",
       "      <th>tick</th>\n",
       "      <th>volume</th>\n",
       "      <th>dollar</th>\n",
       "    </tr>\n",
       "    <tr>\n",
       "      <th>dates</th>\n",
       "      <th></th>\n",
       "      <th></th>\n",
       "      <th></th>\n",
       "      <th></th>\n",
       "    </tr>\n",
       "  </thead>\n",
       "  <tbody>\n",
       "    <tr>\n",
       "      <th>2020-01-05</th>\n",
       "      <td>13.676301</td>\n",
       "      <td>16.0</td>\n",
       "      <td>13.917647</td>\n",
       "      <td>11.889447</td>\n",
       "    </tr>\n",
       "    <tr>\n",
       "      <th>2020-01-12</th>\n",
       "      <td>11.848214</td>\n",
       "      <td>16.0</td>\n",
       "      <td>16.518672</td>\n",
       "      <td>14.067138</td>\n",
       "    </tr>\n",
       "    <tr>\n",
       "      <th>2020-01-19</th>\n",
       "      <td>12.035714</td>\n",
       "      <td>16.0</td>\n",
       "      <td>19.536232</td>\n",
       "      <td>16.850000</td>\n",
       "    </tr>\n",
       "    <tr>\n",
       "      <th>2020-01-26</th>\n",
       "      <td>9.526786</td>\n",
       "      <td>16.0</td>\n",
       "      <td>17.788889</td>\n",
       "      <td>15.247619</td>\n",
       "    </tr>\n",
       "    <tr>\n",
       "      <th>2020-02-02</th>\n",
       "      <td>15.601190</td>\n",
       "      <td>16.0</td>\n",
       "      <td>20.552941</td>\n",
       "      <td>17.826531</td>\n",
       "    </tr>\n",
       "    <tr>\n",
       "      <th>2020-02-09</th>\n",
       "      <td>11.348214</td>\n",
       "      <td>16.0</td>\n",
       "      <td>17.652778</td>\n",
       "      <td>15.627049</td>\n",
       "    </tr>\n",
       "    <tr>\n",
       "      <th>2020-02-16</th>\n",
       "      <td>7.669643</td>\n",
       "      <td>16.0</td>\n",
       "      <td>18.539568</td>\n",
       "      <td>15.907407</td>\n",
       "    </tr>\n",
       "    <tr>\n",
       "      <th>2020-02-23</th>\n",
       "      <td>7.125000</td>\n",
       "      <td>16.0</td>\n",
       "      <td>17.873134</td>\n",
       "      <td>15.653595</td>\n",
       "    </tr>\n",
       "    <tr>\n",
       "      <th>2020-03-01</th>\n",
       "      <td>45.872024</td>\n",
       "      <td>16.0</td>\n",
       "      <td>23.860681</td>\n",
       "      <td>22.469388</td>\n",
       "    </tr>\n",
       "    <tr>\n",
       "      <th>2020-03-08</th>\n",
       "      <td>38.657738</td>\n",
       "      <td>16.0</td>\n",
       "      <td>26.185484</td>\n",
       "      <td>25.025048</td>\n",
       "    </tr>\n",
       "  </tbody>\n",
       "</table>\n",
       "</div>"
      ],
      "text/plain": [
       "                 time  tick     volume     dollar\n",
       "dates                                            \n",
       "2020-01-05  13.676301  16.0  13.917647  11.889447\n",
       "2020-01-12  11.848214  16.0  16.518672  14.067138\n",
       "2020-01-19  12.035714  16.0  19.536232  16.850000\n",
       "2020-01-26   9.526786  16.0  17.788889  15.247619\n",
       "2020-02-02  15.601190  16.0  20.552941  17.826531\n",
       "2020-02-09  11.348214  16.0  17.652778  15.627049\n",
       "2020-02-16   7.669643  16.0  18.539568  15.907407\n",
       "2020-02-23   7.125000  16.0  17.873134  15.653595\n",
       "2020-03-01  45.872024  16.0  23.860681  22.469388\n",
       "2020-03-08  38.657738  16.0  26.185484  25.025048"
      ]
     },
     "execution_count": 189,
     "metadata": {},
     "output_type": "execute_result"
    }
   ],
   "source": [
    "countAverage = pd.DataFrame()\n",
    "countAverage['time'] = ohlcvTime.resample(\"1W\")['tick_count'].mean()\n",
    "countAverage['tick'] = ohlcvTick.resample(\"1W\")['tick_count'].mean()\n",
    "countAverage['volume'] = ohlcvVolume.resample(\"1W\")['tick_count'].mean()\n",
    "countAverage['dollar'] = ohlcvDollar.resample(\"1W\")['tick_count'].mean()\n",
    "countAverage.head(10)"
   ]
  },
  {
   "cell_type": "code",
   "execution_count": 192,
   "metadata": {
    "ExecuteTime": {
     "end_time": "2024-03-14T13:56:59.834015100Z",
     "start_time": "2024-03-14T13:56:59.793427500Z"
    }
   },
   "outputs": [
    {
     "data": {
      "application/vnd.plotly.v1+json": {
       "config": {
        "plotlyServerURL": "https://plot.ly"
       },
       "data": [
        {
         "name": "Time",
         "type": "scatter",
         "x": [
          "2020-01-05T00:00:00",
          "2020-01-12T00:00:00",
          "2020-01-19T00:00:00",
          "2020-01-26T00:00:00",
          "2020-02-02T00:00:00",
          "2020-02-09T00:00:00",
          "2020-02-16T00:00:00",
          "2020-02-23T00:00:00",
          "2020-03-01T00:00:00",
          "2020-03-08T00:00:00",
          "2020-03-15T00:00:00",
          "2020-03-22T00:00:00",
          "2020-03-29T00:00:00",
          "2020-04-05T00:00:00",
          "2020-04-12T00:00:00",
          "2020-04-19T00:00:00",
          "2020-04-26T00:00:00",
          "2020-05-03T00:00:00",
          "2020-05-10T00:00:00",
          "2020-05-17T00:00:00",
          "2020-05-24T00:00:00",
          "2020-05-31T00:00:00",
          "2020-06-07T00:00:00",
          "2020-06-14T00:00:00",
          "2020-06-21T00:00:00",
          "2020-06-28T00:00:00",
          "2020-07-05T00:00:00",
          "2020-07-12T00:00:00",
          "2020-07-19T00:00:00",
          "2020-07-26T00:00:00",
          "2020-08-02T00:00:00",
          "2020-08-09T00:00:00",
          "2020-08-16T00:00:00",
          "2020-08-23T00:00:00",
          "2020-08-30T00:00:00",
          "2020-09-06T00:00:00",
          "2020-09-13T00:00:00",
          "2020-09-20T00:00:00",
          "2020-09-27T00:00:00",
          "2020-10-04T00:00:00",
          "2020-10-11T00:00:00",
          "2020-10-18T00:00:00",
          "2020-10-25T00:00:00",
          "2020-11-01T00:00:00",
          "2020-11-08T00:00:00",
          "2020-11-15T00:00:00",
          "2020-11-22T00:00:00",
          "2020-11-29T00:00:00",
          "2020-12-06T00:00:00",
          "2020-12-13T00:00:00",
          "2020-12-20T00:00:00",
          "2020-12-27T00:00:00",
          "2021-01-03T00:00:00"
         ],
         "y": [
          13.676300578034683,
          11.848214285714286,
          12.035714285714286,
          9.526785714285714,
          15.601190476190476,
          11.348214285714286,
          7.669642857142857,
          7.125,
          45.87202380952381,
          38.657738095238095,
          56.42857142857143,
          73.85714285714286,
          74.31845238095238,
          37.773809523809526,
          28.270833333333332,
          19.479166666666668,
          12.0625,
          12.607142857142858,
          11.699404761904763,
          14.086309523809524,
          11.154761904761905,
          12.69047619047619,
          10.077380952380953,
          20.485119047619047,
          15.806547619047619,
          11.842261904761905,
          7.907738095238095,
          9.93452380952381,
          10.860119047619047,
          6.6726190476190474,
          6.196428571428571,
          6.404761904761905,
          8.428571428571429,
          6.8898809523809526,
          6.5625,
          10.93452380952381,
          7.75,
          7.455357142857143,
          9.577380952380953,
          8.75,
          7.708333333333333,
          6.3273809523809526,
          7.526785714285714,
          10.300595238095237,
          13.360119047619047,
          26.50297619047619,
          15.145833333333334,
          9.571428571428571,
          11.553571428571429,
          10.011904761904763,
          9.086309523809524,
          6.657738095238095,
          11.301136363636363
         ]
        },
        {
         "name": "Tick",
         "type": "scatter",
         "x": [
          "2020-01-05T00:00:00",
          "2020-01-12T00:00:00",
          "2020-01-19T00:00:00",
          "2020-01-26T00:00:00",
          "2020-02-02T00:00:00",
          "2020-02-09T00:00:00",
          "2020-02-16T00:00:00",
          "2020-02-23T00:00:00",
          "2020-03-01T00:00:00",
          "2020-03-08T00:00:00",
          "2020-03-15T00:00:00",
          "2020-03-22T00:00:00",
          "2020-03-29T00:00:00",
          "2020-04-05T00:00:00",
          "2020-04-12T00:00:00",
          "2020-04-19T00:00:00",
          "2020-04-26T00:00:00",
          "2020-05-03T00:00:00",
          "2020-05-10T00:00:00",
          "2020-05-17T00:00:00",
          "2020-05-24T00:00:00",
          "2020-05-31T00:00:00",
          "2020-06-07T00:00:00",
          "2020-06-14T00:00:00",
          "2020-06-21T00:00:00",
          "2020-06-28T00:00:00",
          "2020-07-05T00:00:00",
          "2020-07-12T00:00:00",
          "2020-07-19T00:00:00",
          "2020-07-26T00:00:00",
          "2020-08-02T00:00:00",
          "2020-08-09T00:00:00",
          "2020-08-16T00:00:00",
          "2020-08-23T00:00:00",
          "2020-08-30T00:00:00",
          "2020-09-06T00:00:00",
          "2020-09-13T00:00:00",
          "2020-09-20T00:00:00",
          "2020-09-27T00:00:00",
          "2020-10-04T00:00:00",
          "2020-10-11T00:00:00",
          "2020-10-18T00:00:00",
          "2020-10-25T00:00:00",
          "2020-11-01T00:00:00",
          "2020-11-08T00:00:00",
          "2020-11-15T00:00:00",
          "2020-11-22T00:00:00",
          "2020-11-29T00:00:00",
          "2020-12-06T00:00:00",
          "2020-12-13T00:00:00",
          "2020-12-20T00:00:00",
          "2020-12-27T00:00:00",
          "2021-01-03T00:00:00"
         ],
         "y": [
          16,
          16,
          16,
          16,
          16,
          16,
          16,
          16,
          16,
          16,
          16,
          16,
          16,
          16,
          16,
          16,
          16,
          16,
          16,
          16,
          16,
          16,
          16,
          16,
          16,
          16,
          16,
          16,
          16,
          16,
          16,
          16,
          16,
          16,
          16,
          16,
          16,
          16,
          16,
          16,
          16,
          16,
          16,
          16,
          16,
          16,
          16,
          16,
          16,
          16,
          16,
          16,
          15.951612903225806
         ]
        },
        {
         "name": "Volume",
         "type": "scatter",
         "x": [
          "2020-01-05T00:00:00",
          "2020-01-12T00:00:00",
          "2020-01-19T00:00:00",
          "2020-01-26T00:00:00",
          "2020-02-02T00:00:00",
          "2020-02-09T00:00:00",
          "2020-02-16T00:00:00",
          "2020-02-23T00:00:00",
          "2020-03-01T00:00:00",
          "2020-03-08T00:00:00",
          "2020-03-15T00:00:00",
          "2020-03-22T00:00:00",
          "2020-03-29T00:00:00",
          "2020-04-05T00:00:00",
          "2020-04-12T00:00:00",
          "2020-04-19T00:00:00",
          "2020-04-26T00:00:00",
          "2020-05-03T00:00:00",
          "2020-05-10T00:00:00",
          "2020-05-17T00:00:00",
          "2020-05-24T00:00:00",
          "2020-05-31T00:00:00",
          "2020-06-07T00:00:00",
          "2020-06-14T00:00:00",
          "2020-06-21T00:00:00",
          "2020-06-28T00:00:00",
          "2020-07-05T00:00:00",
          "2020-07-12T00:00:00",
          "2020-07-19T00:00:00",
          "2020-07-26T00:00:00",
          "2020-08-02T00:00:00",
          "2020-08-09T00:00:00",
          "2020-08-16T00:00:00",
          "2020-08-23T00:00:00",
          "2020-08-30T00:00:00",
          "2020-09-06T00:00:00",
          "2020-09-13T00:00:00",
          "2020-09-20T00:00:00",
          "2020-09-27T00:00:00",
          "2020-10-04T00:00:00",
          "2020-10-11T00:00:00",
          "2020-10-18T00:00:00",
          "2020-10-25T00:00:00",
          "2020-11-01T00:00:00",
          "2020-11-08T00:00:00",
          "2020-11-15T00:00:00",
          "2020-11-22T00:00:00",
          "2020-11-29T00:00:00",
          "2020-12-06T00:00:00",
          "2020-12-13T00:00:00",
          "2020-12-20T00:00:00",
          "2020-12-27T00:00:00",
          "2021-01-03T00:00:00"
         ],
         "y": [
          13.91764705882353,
          16.518672199170126,
          19.536231884057973,
          17.788888888888888,
          20.55294117647059,
          17.65277777777778,
          18.53956834532374,
          17.87313432835821,
          23.860681114551085,
          26.18548387096774,
          22.624105011933175,
          26.094637223974765,
          24.797418073485602,
          18.261870503597123,
          19.70746887966805,
          17.088772845953002,
          16.408906882591094,
          16.952,
          14.826415094339623,
          17.537037037037038,
          16.648888888888887,
          17.9957805907173,
          14.222689075630251,
          19.337078651685392,
          20.423076923076923,
          20.723958333333332,
          17.95945945945946,
          14.769911504424778,
          18.331658291457288,
          16.014285714285716,
          16.79032258064516,
          17.35483870967742,
          16.95808383233533,
          17.406015037593985,
          17.093023255813954,
          20.07650273224044,
          19.432835820895523,
          17.892857142857142,
          17.877777777777776,
          17.3,
          16.49044585987261,
          18.649122807017545,
          17.32191780821918,
          16.402843601895736,
          16.323636363636364,
          19.235421166306697,
          19.123595505617978,
          14.805555555555555,
          19.123152709359605,
          18.585635359116022,
          17.357954545454547,
          16.313868613138688,
          16.30327868852459
         ]
        },
        {
         "name": "Dollar",
         "type": "scatter",
         "x": [
          "2020-01-05T00:00:00",
          "2020-01-12T00:00:00",
          "2020-01-19T00:00:00",
          "2020-01-26T00:00:00",
          "2020-02-02T00:00:00",
          "2020-02-09T00:00:00",
          "2020-02-16T00:00:00",
          "2020-02-23T00:00:00",
          "2020-03-01T00:00:00",
          "2020-03-08T00:00:00",
          "2020-03-15T00:00:00",
          "2020-03-22T00:00:00",
          "2020-03-29T00:00:00",
          "2020-04-05T00:00:00",
          "2020-04-12T00:00:00",
          "2020-04-19T00:00:00",
          "2020-04-26T00:00:00",
          "2020-05-03T00:00:00",
          "2020-05-10T00:00:00",
          "2020-05-17T00:00:00",
          "2020-05-24T00:00:00",
          "2020-05-31T00:00:00",
          "2020-06-07T00:00:00",
          "2020-06-14T00:00:00",
          "2020-06-21T00:00:00",
          "2020-06-28T00:00:00",
          "2020-07-05T00:00:00",
          "2020-07-12T00:00:00",
          "2020-07-19T00:00:00",
          "2020-07-26T00:00:00",
          "2020-08-02T00:00:00",
          "2020-08-09T00:00:00",
          "2020-08-16T00:00:00",
          "2020-08-23T00:00:00",
          "2020-08-30T00:00:00",
          "2020-09-06T00:00:00",
          "2020-09-13T00:00:00",
          "2020-09-20T00:00:00",
          "2020-09-27T00:00:00",
          "2020-10-04T00:00:00",
          "2020-10-11T00:00:00",
          "2020-10-18T00:00:00",
          "2020-10-25T00:00:00",
          "2020-11-01T00:00:00",
          "2020-11-08T00:00:00",
          "2020-11-15T00:00:00",
          "2020-11-22T00:00:00",
          "2020-11-29T00:00:00",
          "2020-12-06T00:00:00",
          "2020-12-13T00:00:00",
          "2020-12-20T00:00:00",
          "2020-12-27T00:00:00",
          "2021-01-03T00:00:00"
         ],
         "y": [
          11.889447236180905,
          14.06713780918728,
          16.85,
          15.247619047619047,
          17.8265306122449,
          15.62704918032787,
          15.907407407407407,
          15.65359477124183,
          22.46938775510204,
          25.02504816955684,
          24.686197916666668,
          31.693486590038315,
          29.833930704898446,
          21.33109243697479,
          21.637813211845103,
          18.08011049723757,
          17.42489270386266,
          17.694560669456067,
          15.78714859437751,
          18.94,
          17.50467289719626,
          18.38362068965517,
          14.222689075630251,
          18.96418732782369,
          20.58139534883721,
          21.743169398907103,
          18.587412587412587,
          15.242009132420092,
          18.517766497461928,
          16.014285714285716,
          16.523809523809526,
          17.07936507936508,
          16.275862068965516,
          16.654676258992804,
          16.83206106870229,
          19.23560209424084,
          18.869565217391305,
          17.594405594405593,
          18.11864406779661,
          17.19298245614035,
          15.792682926829269,
          17.42622950819672,
          16.638157894736842,
          16.172897196261683,
          15.862190812720849,
          17.847695390781563,
          17.46232876712329,
          13.466386554621849,
          17.17699115044248,
          16.49019607843137,
          15.58673469387755,
          14.607843137254902,
          14.309352517985612
         ]
        }
       ],
       "layout": {
        "legend": {
         "x": 1,
         "xanchor": "auto",
         "y": 1,
         "yanchor": "auto"
        },
        "paper_bgcolor": "rgba(0,0,0,0)",
        "plot_bgcolor": "rgba(0,0,0,0)",
        "template": {
         "data": {
          "bar": [
           {
            "error_x": {
             "color": "#f2f5fa"
            },
            "error_y": {
             "color": "#f2f5fa"
            },
            "marker": {
             "line": {
              "color": "rgb(17,17,17)",
              "width": 0.5
             },
             "pattern": {
              "fillmode": "overlay",
              "size": 10,
              "solidity": 0.2
             }
            },
            "type": "bar"
           }
          ],
          "barpolar": [
           {
            "marker": {
             "line": {
              "color": "rgb(17,17,17)",
              "width": 0.5
             },
             "pattern": {
              "fillmode": "overlay",
              "size": 10,
              "solidity": 0.2
             }
            },
            "type": "barpolar"
           }
          ],
          "carpet": [
           {
            "aaxis": {
             "endlinecolor": "#A2B1C6",
             "gridcolor": "#506784",
             "linecolor": "#506784",
             "minorgridcolor": "#506784",
             "startlinecolor": "#A2B1C6"
            },
            "baxis": {
             "endlinecolor": "#A2B1C6",
             "gridcolor": "#506784",
             "linecolor": "#506784",
             "minorgridcolor": "#506784",
             "startlinecolor": "#A2B1C6"
            },
            "type": "carpet"
           }
          ],
          "choropleth": [
           {
            "colorbar": {
             "outlinewidth": 0,
             "ticks": ""
            },
            "type": "choropleth"
           }
          ],
          "contour": [
           {
            "colorbar": {
             "outlinewidth": 0,
             "ticks": ""
            },
            "colorscale": [
             [
              0,
              "#0d0887"
             ],
             [
              0.1111111111111111,
              "#46039f"
             ],
             [
              0.2222222222222222,
              "#7201a8"
             ],
             [
              0.3333333333333333,
              "#9c179e"
             ],
             [
              0.4444444444444444,
              "#bd3786"
             ],
             [
              0.5555555555555556,
              "#d8576b"
             ],
             [
              0.6666666666666666,
              "#ed7953"
             ],
             [
              0.7777777777777778,
              "#fb9f3a"
             ],
             [
              0.8888888888888888,
              "#fdca26"
             ],
             [
              1,
              "#f0f921"
             ]
            ],
            "type": "contour"
           }
          ],
          "contourcarpet": [
           {
            "colorbar": {
             "outlinewidth": 0,
             "ticks": ""
            },
            "type": "contourcarpet"
           }
          ],
          "heatmap": [
           {
            "colorbar": {
             "outlinewidth": 0,
             "ticks": ""
            },
            "colorscale": [
             [
              0,
              "#0d0887"
             ],
             [
              0.1111111111111111,
              "#46039f"
             ],
             [
              0.2222222222222222,
              "#7201a8"
             ],
             [
              0.3333333333333333,
              "#9c179e"
             ],
             [
              0.4444444444444444,
              "#bd3786"
             ],
             [
              0.5555555555555556,
              "#d8576b"
             ],
             [
              0.6666666666666666,
              "#ed7953"
             ],
             [
              0.7777777777777778,
              "#fb9f3a"
             ],
             [
              0.8888888888888888,
              "#fdca26"
             ],
             [
              1,
              "#f0f921"
             ]
            ],
            "type": "heatmap"
           }
          ],
          "heatmapgl": [
           {
            "colorbar": {
             "outlinewidth": 0,
             "ticks": ""
            },
            "colorscale": [
             [
              0,
              "#0d0887"
             ],
             [
              0.1111111111111111,
              "#46039f"
             ],
             [
              0.2222222222222222,
              "#7201a8"
             ],
             [
              0.3333333333333333,
              "#9c179e"
             ],
             [
              0.4444444444444444,
              "#bd3786"
             ],
             [
              0.5555555555555556,
              "#d8576b"
             ],
             [
              0.6666666666666666,
              "#ed7953"
             ],
             [
              0.7777777777777778,
              "#fb9f3a"
             ],
             [
              0.8888888888888888,
              "#fdca26"
             ],
             [
              1,
              "#f0f921"
             ]
            ],
            "type": "heatmapgl"
           }
          ],
          "histogram": [
           {
            "marker": {
             "pattern": {
              "fillmode": "overlay",
              "size": 10,
              "solidity": 0.2
             }
            },
            "type": "histogram"
           }
          ],
          "histogram2d": [
           {
            "colorbar": {
             "outlinewidth": 0,
             "ticks": ""
            },
            "colorscale": [
             [
              0,
              "#0d0887"
             ],
             [
              0.1111111111111111,
              "#46039f"
             ],
             [
              0.2222222222222222,
              "#7201a8"
             ],
             [
              0.3333333333333333,
              "#9c179e"
             ],
             [
              0.4444444444444444,
              "#bd3786"
             ],
             [
              0.5555555555555556,
              "#d8576b"
             ],
             [
              0.6666666666666666,
              "#ed7953"
             ],
             [
              0.7777777777777778,
              "#fb9f3a"
             ],
             [
              0.8888888888888888,
              "#fdca26"
             ],
             [
              1,
              "#f0f921"
             ]
            ],
            "type": "histogram2d"
           }
          ],
          "histogram2dcontour": [
           {
            "colorbar": {
             "outlinewidth": 0,
             "ticks": ""
            },
            "colorscale": [
             [
              0,
              "#0d0887"
             ],
             [
              0.1111111111111111,
              "#46039f"
             ],
             [
              0.2222222222222222,
              "#7201a8"
             ],
             [
              0.3333333333333333,
              "#9c179e"
             ],
             [
              0.4444444444444444,
              "#bd3786"
             ],
             [
              0.5555555555555556,
              "#d8576b"
             ],
             [
              0.6666666666666666,
              "#ed7953"
             ],
             [
              0.7777777777777778,
              "#fb9f3a"
             ],
             [
              0.8888888888888888,
              "#fdca26"
             ],
             [
              1,
              "#f0f921"
             ]
            ],
            "type": "histogram2dcontour"
           }
          ],
          "mesh3d": [
           {
            "colorbar": {
             "outlinewidth": 0,
             "ticks": ""
            },
            "type": "mesh3d"
           }
          ],
          "parcoords": [
           {
            "line": {
             "colorbar": {
              "outlinewidth": 0,
              "ticks": ""
             }
            },
            "type": "parcoords"
           }
          ],
          "pie": [
           {
            "automargin": true,
            "type": "pie"
           }
          ],
          "scatter": [
           {
            "marker": {
             "line": {
              "color": "#283442"
             }
            },
            "type": "scatter"
           }
          ],
          "scatter3d": [
           {
            "line": {
             "colorbar": {
              "outlinewidth": 0,
              "ticks": ""
             }
            },
            "marker": {
             "colorbar": {
              "outlinewidth": 0,
              "ticks": ""
             }
            },
            "type": "scatter3d"
           }
          ],
          "scattercarpet": [
           {
            "marker": {
             "colorbar": {
              "outlinewidth": 0,
              "ticks": ""
             }
            },
            "type": "scattercarpet"
           }
          ],
          "scattergeo": [
           {
            "marker": {
             "colorbar": {
              "outlinewidth": 0,
              "ticks": ""
             }
            },
            "type": "scattergeo"
           }
          ],
          "scattergl": [
           {
            "marker": {
             "line": {
              "color": "#283442"
             }
            },
            "type": "scattergl"
           }
          ],
          "scattermapbox": [
           {
            "marker": {
             "colorbar": {
              "outlinewidth": 0,
              "ticks": ""
             }
            },
            "type": "scattermapbox"
           }
          ],
          "scatterpolar": [
           {
            "marker": {
             "colorbar": {
              "outlinewidth": 0,
              "ticks": ""
             }
            },
            "type": "scatterpolar"
           }
          ],
          "scatterpolargl": [
           {
            "marker": {
             "colorbar": {
              "outlinewidth": 0,
              "ticks": ""
             }
            },
            "type": "scatterpolargl"
           }
          ],
          "scatterternary": [
           {
            "marker": {
             "colorbar": {
              "outlinewidth": 0,
              "ticks": ""
             }
            },
            "type": "scatterternary"
           }
          ],
          "surface": [
           {
            "colorbar": {
             "outlinewidth": 0,
             "ticks": ""
            },
            "colorscale": [
             [
              0,
              "#0d0887"
             ],
             [
              0.1111111111111111,
              "#46039f"
             ],
             [
              0.2222222222222222,
              "#7201a8"
             ],
             [
              0.3333333333333333,
              "#9c179e"
             ],
             [
              0.4444444444444444,
              "#bd3786"
             ],
             [
              0.5555555555555556,
              "#d8576b"
             ],
             [
              0.6666666666666666,
              "#ed7953"
             ],
             [
              0.7777777777777778,
              "#fb9f3a"
             ],
             [
              0.8888888888888888,
              "#fdca26"
             ],
             [
              1,
              "#f0f921"
             ]
            ],
            "type": "surface"
           }
          ],
          "table": [
           {
            "cells": {
             "fill": {
              "color": "#506784"
             },
             "line": {
              "color": "rgb(17,17,17)"
             }
            },
            "header": {
             "fill": {
              "color": "#2a3f5f"
             },
             "line": {
              "color": "rgb(17,17,17)"
             }
            },
            "type": "table"
           }
          ]
         },
         "layout": {
          "annotationdefaults": {
           "arrowcolor": "#f2f5fa",
           "arrowhead": 0,
           "arrowwidth": 1
          },
          "autotypenumbers": "strict",
          "coloraxis": {
           "colorbar": {
            "outlinewidth": 0,
            "ticks": ""
           }
          },
          "colorscale": {
           "diverging": [
            [
             0,
             "#8e0152"
            ],
            [
             0.1,
             "#c51b7d"
            ],
            [
             0.2,
             "#de77ae"
            ],
            [
             0.3,
             "#f1b6da"
            ],
            [
             0.4,
             "#fde0ef"
            ],
            [
             0.5,
             "#f7f7f7"
            ],
            [
             0.6,
             "#e6f5d0"
            ],
            [
             0.7,
             "#b8e186"
            ],
            [
             0.8,
             "#7fbc41"
            ],
            [
             0.9,
             "#4d9221"
            ],
            [
             1,
             "#276419"
            ]
           ],
           "sequential": [
            [
             0,
             "#0d0887"
            ],
            [
             0.1111111111111111,
             "#46039f"
            ],
            [
             0.2222222222222222,
             "#7201a8"
            ],
            [
             0.3333333333333333,
             "#9c179e"
            ],
            [
             0.4444444444444444,
             "#bd3786"
            ],
            [
             0.5555555555555556,
             "#d8576b"
            ],
            [
             0.6666666666666666,
             "#ed7953"
            ],
            [
             0.7777777777777778,
             "#fb9f3a"
            ],
            [
             0.8888888888888888,
             "#fdca26"
            ],
            [
             1,
             "#f0f921"
            ]
           ],
           "sequentialminus": [
            [
             0,
             "#0d0887"
            ],
            [
             0.1111111111111111,
             "#46039f"
            ],
            [
             0.2222222222222222,
             "#7201a8"
            ],
            [
             0.3333333333333333,
             "#9c179e"
            ],
            [
             0.4444444444444444,
             "#bd3786"
            ],
            [
             0.5555555555555556,
             "#d8576b"
            ],
            [
             0.6666666666666666,
             "#ed7953"
            ],
            [
             0.7777777777777778,
             "#fb9f3a"
            ],
            [
             0.8888888888888888,
             "#fdca26"
            ],
            [
             1,
             "#f0f921"
            ]
           ]
          },
          "colorway": [
           "#636efa",
           "#EF553B",
           "#00cc96",
           "#ab63fa",
           "#FFA15A",
           "#19d3f3",
           "#FF6692",
           "#B6E880",
           "#FF97FF",
           "#FECB52"
          ],
          "font": {
           "color": "#f2f5fa"
          },
          "geo": {
           "bgcolor": "rgb(17,17,17)",
           "lakecolor": "rgb(17,17,17)",
           "landcolor": "rgb(17,17,17)",
           "showlakes": true,
           "showland": true,
           "subunitcolor": "#506784"
          },
          "hoverlabel": {
           "align": "left"
          },
          "hovermode": "closest",
          "mapbox": {
           "style": "dark"
          },
          "paper_bgcolor": "rgb(17,17,17)",
          "plot_bgcolor": "rgb(17,17,17)",
          "polar": {
           "angularaxis": {
            "gridcolor": "#506784",
            "linecolor": "#506784",
            "ticks": ""
           },
           "bgcolor": "rgb(17,17,17)",
           "radialaxis": {
            "gridcolor": "#506784",
            "linecolor": "#506784",
            "ticks": ""
           }
          },
          "scene": {
           "xaxis": {
            "backgroundcolor": "rgb(17,17,17)",
            "gridcolor": "#506784",
            "gridwidth": 2,
            "linecolor": "#506784",
            "showbackground": true,
            "ticks": "",
            "zerolinecolor": "#C8D4E3"
           },
           "yaxis": {
            "backgroundcolor": "rgb(17,17,17)",
            "gridcolor": "#506784",
            "gridwidth": 2,
            "linecolor": "#506784",
            "showbackground": true,
            "ticks": "",
            "zerolinecolor": "#C8D4E3"
           },
           "zaxis": {
            "backgroundcolor": "rgb(17,17,17)",
            "gridcolor": "#506784",
            "gridwidth": 2,
            "linecolor": "#506784",
            "showbackground": true,
            "ticks": "",
            "zerolinecolor": "#C8D4E3"
           }
          },
          "shapedefaults": {
           "line": {
            "color": "#f2f5fa"
           }
          },
          "sliderdefaults": {
           "bgcolor": "#C8D4E3",
           "bordercolor": "rgb(17,17,17)",
           "borderwidth": 1,
           "tickwidth": 0
          },
          "ternary": {
           "aaxis": {
            "gridcolor": "#506784",
            "linecolor": "#506784",
            "ticks": ""
           },
           "baxis": {
            "gridcolor": "#506784",
            "linecolor": "#506784",
            "ticks": ""
           },
           "bgcolor": "rgb(17,17,17)",
           "caxis": {
            "gridcolor": "#506784",
            "linecolor": "#506784",
            "ticks": ""
           }
          },
          "title": {
           "x": 0.05
          },
          "updatemenudefaults": {
           "bgcolor": "#506784",
           "borderwidth": 0
          },
          "xaxis": {
           "automargin": true,
           "gridcolor": "#283442",
           "linecolor": "#506784",
           "ticks": "",
           "title": {
            "standoff": 15
           },
           "zerolinecolor": "#283442",
           "zerolinewidth": 2
          },
          "yaxis": {
           "automargin": true,
           "gridcolor": "#283442",
           "linecolor": "#506784",
           "ticks": "",
           "title": {
            "standoff": 15
           },
           "zerolinecolor": "#283442",
           "zerolinewidth": 2
          }
         }
        },
        "title": {
         "text": "Standard Bars Frequency"
        },
        "xaxis": {
         "title": {
          "text": "Date"
         }
        },
        "yaxis": {
         "title": {
          "text": "Frequency"
         }
        }
       }
      }
     },
     "metadata": {},
     "output_type": "display_data"
    }
   ],
   "source": [
    "fig = go.Figure()\n",
    "# Create and style traces\n",
    "fig.add_trace(go.Scatter(x=countAverage.index, y=countAverage.time, name='Time'))\n",
    "fig.add_trace(go.Scatter(x=countAverage.index, y=countAverage.tick, name='Tick'))\n",
    "fig.add_trace(go.Scatter(x=countAverage.index, y=countAverage.volume, name='Volume'))\n",
    "fig.add_trace(go.Scatter(x=countAverage.index, y=countAverage.dollar, name='Dollar'))\n",
    "\n",
    "# Use the function to update layout\n",
    "update_figure_layout(\n",
    "    fig,\n",
    "    title=\"Standard Bars Frequency\",\n",
    "    xaxis_title=\"Date\",\n",
    "    yaxis_title=\"Frequency\"\n",
    ")\n",
    "# Save countAverage data to Excel without overwriting previous sheets\n",
    "with pd.ExcelWriter(excel_file_path, engine='openpyxl', mode='a', if_sheet_exists='overlay') as writer:\n",
    "    countAverage.to_excel(writer, sheet_name='Standard Bars Frequency')\n",
    "\n",
    "# Show the plot\n",
    "fig.show()"
   ]
  },
  {
   "cell_type": "markdown",
   "metadata": {},
   "source": [
    "### Information-Driven Bars"
   ]
  },
  {
   "cell_type": "markdown",
   "metadata": {},
   "source": [
    "#### Data Initial Processsing"
   ]
  },
  {
   "cell_type": "code",
   "execution_count": 19,
   "metadata": {},
   "outputs": [
    {
     "data": {
      "text/html": [
       "<div>\n",
       "<style scoped>\n",
       "    .dataframe tbody tr th:only-of-type {\n",
       "        vertical-align: middle;\n",
       "    }\n",
       "\n",
       "    .dataframe tbody tr th {\n",
       "        vertical-align: top;\n",
       "    }\n",
       "\n",
       "    .dataframe thead th {\n",
       "        text-align: right;\n",
       "    }\n",
       "</style>\n",
       "<table border=\"1\" class=\"dataframe\">\n",
       "  <thead>\n",
       "    <tr style=\"text-align: right;\">\n",
       "      <th></th>\n",
       "      <th>price</th>\n",
       "      <th>size</th>\n",
       "      <th>ret</th>\n",
       "      <th>label</th>\n",
       "      <th>volume_labeled</th>\n",
       "      <th>dollarslabeled</th>\n",
       "    </tr>\n",
       "    <tr>\n",
       "      <th>dates</th>\n",
       "      <th></th>\n",
       "      <th></th>\n",
       "      <th></th>\n",
       "      <th></th>\n",
       "      <th></th>\n",
       "      <th></th>\n",
       "    </tr>\n",
       "  </thead>\n",
       "  <tbody>\n",
       "    <tr>\n",
       "      <th>2020-03-02 09:00:12</th>\n",
       "      <td>114.7000</td>\n",
       "      <td>123</td>\n",
       "      <td>0.000087</td>\n",
       "      <td>1.0</td>\n",
       "      <td>123.0</td>\n",
       "      <td>1.410810e+04</td>\n",
       "    </tr>\n",
       "    <tr>\n",
       "      <th>2020-03-02 09:30:00</th>\n",
       "      <td>115.2800</td>\n",
       "      <td>26670</td>\n",
       "      <td>0.005044</td>\n",
       "      <td>1.0</td>\n",
       "      <td>26670.0</td>\n",
       "      <td>3.074518e+06</td>\n",
       "    </tr>\n",
       "    <tr>\n",
       "      <th>2020-03-02 09:30:07</th>\n",
       "      <td>115.3400</td>\n",
       "      <td>100</td>\n",
       "      <td>0.000520</td>\n",
       "      <td>1.0</td>\n",
       "      <td>100.0</td>\n",
       "      <td>1.153400e+04</td>\n",
       "    </tr>\n",
       "    <tr>\n",
       "      <th>2020-03-02 09:30:16</th>\n",
       "      <td>115.2200</td>\n",
       "      <td>100</td>\n",
       "      <td>-0.001041</td>\n",
       "      <td>-1.0</td>\n",
       "      <td>-100.0</td>\n",
       "      <td>-1.152200e+04</td>\n",
       "    </tr>\n",
       "    <tr>\n",
       "      <th>2020-03-02 09:30:26</th>\n",
       "      <td>115.2637</td>\n",
       "      <td>172</td>\n",
       "      <td>0.000379</td>\n",
       "      <td>1.0</td>\n",
       "      <td>172.0</td>\n",
       "      <td>1.982536e+04</td>\n",
       "    </tr>\n",
       "  </tbody>\n",
       "</table>\n",
       "</div>"
      ],
      "text/plain": [
       "                        price   size       ret  label  volume_labeled  \\\n",
       "dates                                                                   \n",
       "2020-03-02 09:00:12  114.7000    123  0.000087    1.0           123.0   \n",
       "2020-03-02 09:30:00  115.2800  26670  0.005044    1.0         26670.0   \n",
       "2020-03-02 09:30:07  115.3400    100  0.000520    1.0           100.0   \n",
       "2020-03-02 09:30:16  115.2200    100 -0.001041   -1.0          -100.0   \n",
       "2020-03-02 09:30:26  115.2637    172  0.000379    1.0           172.0   \n",
       "\n",
       "                     dollarslabeled  \n",
       "dates                                \n",
       "2020-03-02 09:00:12    1.410810e+04  \n",
       "2020-03-02 09:30:00    3.074518e+06  \n",
       "2020-03-02 09:30:07    1.153400e+04  \n",
       "2020-03-02 09:30:16   -1.152200e+04  \n",
       "2020-03-02 09:30:26    1.982536e+04  "
      ]
     },
     "execution_count": 19,
     "metadata": {},
     "output_type": "execute_result"
    }
   ],
   "source": [
    "# Select a smaller range\n",
    "startDate = datetime.datetime(2020, 3, 1)\n",
    "endDate = datetime.datetime(2020, 3, 5)\n",
    "new_dataframe = dataframe[((dataframe.index >= startDate) & (dataframe.index <= endDate))][['price', 'size']]\n",
    "new_dataframe.drop_duplicates()\n",
    "new_dataframe['ret'] = np.log(new_dataframe['price']) - np.log(new_dataframe['price'].shift(1))\n",
    "new_dataframe['label'] = np.sign(new_dataframe['ret'])\n",
    "new_dataframe['volume_labeled'] = new_dataframe['label']*new_dataframe['size']\n",
    "new_dataframe['dollarslabeled'] = new_dataframe['volume_labeled']*new_dataframe['price']\n",
    "new_dataframe.dropna(inplace = True)\n",
    "new_dataframe.head()"
   ]
  },
  {
   "cell_type": "markdown",
   "metadata": {},
   "source": [
    "#### Imbalance Tick Bar"
   ]
  },
  {
   "cell_type": "code",
   "execution_count": 21,
   "metadata": {},
   "outputs": [
    {
     "name": "stdout",
     "output_type": "stream",
     "text": [
      "Completed: [------------------->] 100% - 0 minutes remaining."
     ]
    },
    {
     "data": {
      "text/html": [
       "<div>\n",
       "<style scoped>\n",
       "    .dataframe tbody tr th:only-of-type {\n",
       "        vertical-align: middle;\n",
       "    }\n",
       "\n",
       "    .dataframe tbody tr th {\n",
       "        vertical-align: top;\n",
       "    }\n",
       "\n",
       "    .dataframe thead th {\n",
       "        text-align: right;\n",
       "    }\n",
       "</style>\n",
       "<table border=\"1\" class=\"dataframe\">\n",
       "  <thead>\n",
       "    <tr style=\"text-align: right;\">\n",
       "      <th></th>\n",
       "      <th>open</th>\n",
       "      <th>high</th>\n",
       "      <th>low</th>\n",
       "      <th>close</th>\n",
       "      <th>volume</th>\n",
       "      <th>value_of_trades</th>\n",
       "      <th>price_mean</th>\n",
       "      <th>tick_count</th>\n",
       "      <th>price_mean_log_return</th>\n",
       "    </tr>\n",
       "    <tr>\n",
       "      <th>dates</th>\n",
       "      <th></th>\n",
       "      <th></th>\n",
       "      <th></th>\n",
       "      <th></th>\n",
       "      <th></th>\n",
       "      <th></th>\n",
       "      <th></th>\n",
       "      <th></th>\n",
       "      <th></th>\n",
       "    </tr>\n",
       "  </thead>\n",
       "  <tbody>\n",
       "    <tr>\n",
       "      <th>2020-03-02 09:00:12</th>\n",
       "      <td>114.7000</td>\n",
       "      <td>115.2800</td>\n",
       "      <td>114.7000</td>\n",
       "      <td>115.2800</td>\n",
       "      <td>26793</td>\n",
       "      <td>115.277337</td>\n",
       "      <td>114.9900</td>\n",
       "      <td>2</td>\n",
       "      <td>NaN</td>\n",
       "    </tr>\n",
       "    <tr>\n",
       "      <th>2020-03-02 09:30:07</th>\n",
       "      <td>115.3400</td>\n",
       "      <td>115.3400</td>\n",
       "      <td>115.3400</td>\n",
       "      <td>115.3400</td>\n",
       "      <td>100</td>\n",
       "      <td>115.340000</td>\n",
       "      <td>115.3400</td>\n",
       "      <td>1</td>\n",
       "      <td>0.003039</td>\n",
       "    </tr>\n",
       "    <tr>\n",
       "      <th>2020-03-02 09:30:16</th>\n",
       "      <td>115.2200</td>\n",
       "      <td>115.2200</td>\n",
       "      <td>115.2200</td>\n",
       "      <td>115.2200</td>\n",
       "      <td>100</td>\n",
       "      <td>115.220000</td>\n",
       "      <td>115.2200</td>\n",
       "      <td>1</td>\n",
       "      <td>-0.001041</td>\n",
       "    </tr>\n",
       "    <tr>\n",
       "      <th>2020-03-02 09:30:26</th>\n",
       "      <td>115.2637</td>\n",
       "      <td>115.2637</td>\n",
       "      <td>115.2637</td>\n",
       "      <td>115.2637</td>\n",
       "      <td>172</td>\n",
       "      <td>115.263700</td>\n",
       "      <td>115.2637</td>\n",
       "      <td>1</td>\n",
       "      <td>0.000379</td>\n",
       "    </tr>\n",
       "    <tr>\n",
       "      <th>2020-03-02 09:30:27</th>\n",
       "      <td>115.2530</td>\n",
       "      <td>115.2530</td>\n",
       "      <td>115.2530</td>\n",
       "      <td>115.2530</td>\n",
       "      <td>557</td>\n",
       "      <td>115.253000</td>\n",
       "      <td>115.2530</td>\n",
       "      <td>1</td>\n",
       "      <td>-0.000093</td>\n",
       "    </tr>\n",
       "  </tbody>\n",
       "</table>\n",
       "</div>"
      ],
      "text/plain": [
       "                         open      high       low     close  volume  \\\n",
       "dates                                                                 \n",
       "2020-03-02 09:00:12  114.7000  115.2800  114.7000  115.2800   26793   \n",
       "2020-03-02 09:30:07  115.3400  115.3400  115.3400  115.3400     100   \n",
       "2020-03-02 09:30:16  115.2200  115.2200  115.2200  115.2200     100   \n",
       "2020-03-02 09:30:26  115.2637  115.2637  115.2637  115.2637     172   \n",
       "2020-03-02 09:30:27  115.2530  115.2530  115.2530  115.2530     557   \n",
       "\n",
       "                     value_of_trades  price_mean  tick_count  \\\n",
       "dates                                                          \n",
       "2020-03-02 09:00:12       115.277337    114.9900           2   \n",
       "2020-03-02 09:30:07       115.340000    115.3400           1   \n",
       "2020-03-02 09:30:16       115.220000    115.2200           1   \n",
       "2020-03-02 09:30:26       115.263700    115.2637           1   \n",
       "2020-03-02 09:30:27       115.253000    115.2530           1   \n",
       "\n",
       "                     price_mean_log_return  \n",
       "dates                                       \n",
       "2020-03-02 09:00:12                    NaN  \n",
       "2020-03-02 09:30:07               0.003039  \n",
       "2020-03-02 09:30:16              -0.001041  \n",
       "2020-03-02 09:30:26               0.000379  \n",
       "2020-03-02 09:30:27              -0.000093  "
      ]
     },
     "execution_count": 21,
     "metadata": {},
     "output_type": "execute_result"
    }
   ],
   "source": [
    "imbalance_tick_bar, thetas_absolute_tick, thresholds_tick = generate_information_driven_bars(new_dataframe, bar_type=\"tick\", tick_expected_initial=0)\n",
    "\n",
    "# Save countAverage data to Excel without overwriting previous sheets\n",
    "with pd.ExcelWriter(excel_file_path, engine='openpyxl', mode='a', if_sheet_exists='overlay') as writer:\n",
    "    imbalance_tick_bar.to_excel(writer, sheet_name='imbalance tick bar')\n",
    "\n",
    "imbalance_tick_bar.head()"
   ]
  },
  {
   "cell_type": "markdown",
   "metadata": {},
   "source": [
    "#### Imbalance Volume Bar"
   ]
  },
  {
   "cell_type": "code",
   "execution_count": 22,
   "metadata": {},
   "outputs": [
    {
     "name": "stdout",
     "output_type": "stream",
     "text": [
      "Completed: [------------------->] 100% - 0 minutes remaining."
     ]
    },
    {
     "data": {
      "text/html": [
       "<div>\n",
       "<style scoped>\n",
       "    .dataframe tbody tr th:only-of-type {\n",
       "        vertical-align: middle;\n",
       "    }\n",
       "\n",
       "    .dataframe tbody tr th {\n",
       "        vertical-align: top;\n",
       "    }\n",
       "\n",
       "    .dataframe thead th {\n",
       "        text-align: right;\n",
       "    }\n",
       "</style>\n",
       "<table border=\"1\" class=\"dataframe\">\n",
       "  <thead>\n",
       "    <tr style=\"text-align: right;\">\n",
       "      <th></th>\n",
       "      <th>open</th>\n",
       "      <th>high</th>\n",
       "      <th>low</th>\n",
       "      <th>close</th>\n",
       "      <th>volume</th>\n",
       "      <th>value_of_trades</th>\n",
       "      <th>price_mean</th>\n",
       "      <th>tick_count</th>\n",
       "      <th>price_mean_log_return</th>\n",
       "    </tr>\n",
       "    <tr>\n",
       "      <th>dates</th>\n",
       "      <th></th>\n",
       "      <th></th>\n",
       "      <th></th>\n",
       "      <th></th>\n",
       "      <th></th>\n",
       "      <th></th>\n",
       "      <th></th>\n",
       "      <th></th>\n",
       "      <th></th>\n",
       "    </tr>\n",
       "  </thead>\n",
       "  <tbody>\n",
       "    <tr>\n",
       "      <th>2020-03-02 09:00:12</th>\n",
       "      <td>114.7000</td>\n",
       "      <td>115.2800</td>\n",
       "      <td>114.7000</td>\n",
       "      <td>115.2800</td>\n",
       "      <td>26793</td>\n",
       "      <td>115.277337</td>\n",
       "      <td>114.990000</td>\n",
       "      <td>2</td>\n",
       "      <td>NaN</td>\n",
       "    </tr>\n",
       "    <tr>\n",
       "      <th>2020-03-02 09:30:07</th>\n",
       "      <td>115.3400</td>\n",
       "      <td>115.3400</td>\n",
       "      <td>115.2200</td>\n",
       "      <td>115.2637</td>\n",
       "      <td>372</td>\n",
       "      <td>115.272463</td>\n",
       "      <td>115.274567</td>\n",
       "      <td>3</td>\n",
       "      <td>0.002472</td>\n",
       "    </tr>\n",
       "    <tr>\n",
       "      <th>2020-03-02 09:30:27</th>\n",
       "      <td>115.2530</td>\n",
       "      <td>115.2530</td>\n",
       "      <td>115.2530</td>\n",
       "      <td>115.2530</td>\n",
       "      <td>557</td>\n",
       "      <td>115.253000</td>\n",
       "      <td>115.253000</td>\n",
       "      <td>1</td>\n",
       "      <td>-0.000187</td>\n",
       "    </tr>\n",
       "    <tr>\n",
       "      <th>2020-03-02 09:31:00</th>\n",
       "      <td>115.5148</td>\n",
       "      <td>115.5148</td>\n",
       "      <td>115.5148</td>\n",
       "      <td>115.5148</td>\n",
       "      <td>238</td>\n",
       "      <td>115.514800</td>\n",
       "      <td>115.514800</td>\n",
       "      <td>1</td>\n",
       "      <td>0.002269</td>\n",
       "    </tr>\n",
       "    <tr>\n",
       "      <th>2020-03-02 09:31:02</th>\n",
       "      <td>115.5148</td>\n",
       "      <td>115.5148</td>\n",
       "      <td>115.4200</td>\n",
       "      <td>115.4541</td>\n",
       "      <td>588</td>\n",
       "      <td>115.463579</td>\n",
       "      <td>115.462967</td>\n",
       "      <td>3</td>\n",
       "      <td>-0.000449</td>\n",
       "    </tr>\n",
       "  </tbody>\n",
       "</table>\n",
       "</div>"
      ],
      "text/plain": [
       "                         open      high       low     close  volume  \\\n",
       "dates                                                                 \n",
       "2020-03-02 09:00:12  114.7000  115.2800  114.7000  115.2800   26793   \n",
       "2020-03-02 09:30:07  115.3400  115.3400  115.2200  115.2637     372   \n",
       "2020-03-02 09:30:27  115.2530  115.2530  115.2530  115.2530     557   \n",
       "2020-03-02 09:31:00  115.5148  115.5148  115.5148  115.5148     238   \n",
       "2020-03-02 09:31:02  115.5148  115.5148  115.4200  115.4541     588   \n",
       "\n",
       "                     value_of_trades  price_mean  tick_count  \\\n",
       "dates                                                          \n",
       "2020-03-02 09:00:12       115.277337  114.990000           2   \n",
       "2020-03-02 09:30:07       115.272463  115.274567           3   \n",
       "2020-03-02 09:30:27       115.253000  115.253000           1   \n",
       "2020-03-02 09:31:00       115.514800  115.514800           1   \n",
       "2020-03-02 09:31:02       115.463579  115.462967           3   \n",
       "\n",
       "                     price_mean_log_return  \n",
       "dates                                       \n",
       "2020-03-02 09:00:12                    NaN  \n",
       "2020-03-02 09:30:07               0.002472  \n",
       "2020-03-02 09:30:27              -0.000187  \n",
       "2020-03-02 09:31:00               0.002269  \n",
       "2020-03-02 09:31:02              -0.000449  "
      ]
     },
     "execution_count": 22,
     "metadata": {},
     "output_type": "execute_result"
    }
   ],
   "source": [
    "imbalance_volume_bar, thetas_absolute_volume, thresholds_volume = generate_information_driven_bars(new_dataframe, bar_type=\"volume\", tick_expected_initial=0)\n",
    "\n",
    "# Save countAverage data to Excel without overwriting previous sheets\n",
    "with pd.ExcelWriter(excel_file_path, engine='openpyxl', mode='a', if_sheet_exists='overlay') as writer:\n",
    "    imbalance_volume_bar.to_excel(writer, sheet_name='imbalance volume bar')\n",
    "\n",
    "imbalance_volume_bar.head()"
   ]
  },
  {
   "cell_type": "markdown",
   "metadata": {},
   "source": [
    "#### Imbalance Dollar Bar"
   ]
  },
  {
   "cell_type": "code",
   "execution_count": 18,
   "metadata": {},
   "outputs": [
    {
     "name": "stdout",
     "output_type": "stream",
     "text": [
      "Completed: [------------------->] 100% - 0 minutes remaining."
     ]
    },
    {
     "data": {
      "text/html": [
       "<div>\n",
       "<style scoped>\n",
       "    .dataframe tbody tr th:only-of-type {\n",
       "        vertical-align: middle;\n",
       "    }\n",
       "\n",
       "    .dataframe tbody tr th {\n",
       "        vertical-align: top;\n",
       "    }\n",
       "\n",
       "    .dataframe thead th {\n",
       "        text-align: right;\n",
       "    }\n",
       "</style>\n",
       "<table border=\"1\" class=\"dataframe\">\n",
       "  <thead>\n",
       "    <tr style=\"text-align: right;\">\n",
       "      <th></th>\n",
       "      <th>open</th>\n",
       "      <th>high</th>\n",
       "      <th>low</th>\n",
       "      <th>close</th>\n",
       "      <th>volume</th>\n",
       "      <th>value_of_trades</th>\n",
       "      <th>price_mean</th>\n",
       "      <th>tick_count</th>\n",
       "      <th>price_mean_log_return</th>\n",
       "    </tr>\n",
       "    <tr>\n",
       "      <th>dates</th>\n",
       "      <th></th>\n",
       "      <th></th>\n",
       "      <th></th>\n",
       "      <th></th>\n",
       "      <th></th>\n",
       "      <th></th>\n",
       "      <th></th>\n",
       "      <th></th>\n",
       "      <th></th>\n",
       "    </tr>\n",
       "  </thead>\n",
       "  <tbody>\n",
       "    <tr>\n",
       "      <th>2020-03-02 09:00:12</th>\n",
       "      <td>114.7000</td>\n",
       "      <td>115.2800</td>\n",
       "      <td>114.7000</td>\n",
       "      <td>115.2800</td>\n",
       "      <td>26793</td>\n",
       "      <td>115.277337</td>\n",
       "      <td>114.990000</td>\n",
       "      <td>2</td>\n",
       "      <td>NaN</td>\n",
       "    </tr>\n",
       "    <tr>\n",
       "      <th>2020-03-02 09:30:07</th>\n",
       "      <td>115.3400</td>\n",
       "      <td>115.3400</td>\n",
       "      <td>115.2200</td>\n",
       "      <td>115.2637</td>\n",
       "      <td>372</td>\n",
       "      <td>115.272463</td>\n",
       "      <td>115.274567</td>\n",
       "      <td>3</td>\n",
       "      <td>0.002472</td>\n",
       "    </tr>\n",
       "    <tr>\n",
       "      <th>2020-03-02 09:30:27</th>\n",
       "      <td>115.2530</td>\n",
       "      <td>115.2530</td>\n",
       "      <td>115.2530</td>\n",
       "      <td>115.2530</td>\n",
       "      <td>557</td>\n",
       "      <td>115.253000</td>\n",
       "      <td>115.253000</td>\n",
       "      <td>1</td>\n",
       "      <td>-0.000187</td>\n",
       "    </tr>\n",
       "    <tr>\n",
       "      <th>2020-03-02 09:31:00</th>\n",
       "      <td>115.5148</td>\n",
       "      <td>115.5148</td>\n",
       "      <td>115.5148</td>\n",
       "      <td>115.5148</td>\n",
       "      <td>238</td>\n",
       "      <td>115.514800</td>\n",
       "      <td>115.514800</td>\n",
       "      <td>1</td>\n",
       "      <td>0.002269</td>\n",
       "    </tr>\n",
       "    <tr>\n",
       "      <th>2020-03-02 09:31:02</th>\n",
       "      <td>115.5148</td>\n",
       "      <td>115.5148</td>\n",
       "      <td>115.4200</td>\n",
       "      <td>115.4541</td>\n",
       "      <td>588</td>\n",
       "      <td>115.463579</td>\n",
       "      <td>115.462967</td>\n",
       "      <td>3</td>\n",
       "      <td>-0.000449</td>\n",
       "    </tr>\n",
       "  </tbody>\n",
       "</table>\n",
       "</div>"
      ],
      "text/plain": [
       "                         open      high       low     close  volume  \\\n",
       "dates                                                                 \n",
       "2020-03-02 09:00:12  114.7000  115.2800  114.7000  115.2800   26793   \n",
       "2020-03-02 09:30:07  115.3400  115.3400  115.2200  115.2637     372   \n",
       "2020-03-02 09:30:27  115.2530  115.2530  115.2530  115.2530     557   \n",
       "2020-03-02 09:31:00  115.5148  115.5148  115.5148  115.5148     238   \n",
       "2020-03-02 09:31:02  115.5148  115.5148  115.4200  115.4541     588   \n",
       "\n",
       "                     value_of_trades  price_mean  tick_count  \\\n",
       "dates                                                          \n",
       "2020-03-02 09:00:12       115.277337  114.990000           2   \n",
       "2020-03-02 09:30:07       115.272463  115.274567           3   \n",
       "2020-03-02 09:30:27       115.253000  115.253000           1   \n",
       "2020-03-02 09:31:00       115.514800  115.514800           1   \n",
       "2020-03-02 09:31:02       115.463579  115.462967           3   \n",
       "\n",
       "                     price_mean_log_return  \n",
       "dates                                       \n",
       "2020-03-02 09:00:12                    NaN  \n",
       "2020-03-02 09:30:07               0.002472  \n",
       "2020-03-02 09:30:27              -0.000187  \n",
       "2020-03-02 09:31:00               0.002269  \n",
       "2020-03-02 09:31:02              -0.000449  "
      ]
     },
     "execution_count": 18,
     "metadata": {},
     "output_type": "execute_result"
    }
   ],
   "source": [
    "imbalance_dollar_bar, thetas_absolute_dollar, thresholds_dollar = generate_information_driven_bars(new_dataframe, bar_type=\"dollar\", tick_expected_initial=0)\n",
    "\n",
    " # Save countAverage data to Excel without overwriting previous sheets\n",
    "with pd.ExcelWriter(excel_file_path, engine='openpyxl', mode='a', if_sheet_exists='overlay') as writer:\n",
    "    imbalance_dollar_bar.to_excel(writer, sheet_name='imbalance dollar bar')\n",
    "\n",
    "imbalance_dollar_bar.head()"
   ]
  }
 ],
 "metadata": {
  "kernelspec": {
   "display_name": "base",
   "language": "python",
   "name": "python3"
  },
  "language_info": {
   "codemirror_mode": {
    "name": "ipython",
    "version": 3
   },
   "file_extension": ".py",
   "mimetype": "text/x-python",
   "name": "python",
   "nbconvert_exporter": "python",
   "pygments_lexer": "ipython3",
   "version": "3.11.4"
  },
  "orig_nbformat": 4
 },
 "nbformat": 4,
 "nbformat_minor": 2
}
