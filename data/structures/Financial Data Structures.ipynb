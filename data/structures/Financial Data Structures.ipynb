{
 "cells": [
  {
   "cell_type": "markdown",
   "metadata": {},
   "source": [
    "---\n",
    "# **Financial Data Structures**\n",
    "\n",
    "---"
   ]
  },
  {
   "attachments": {},
   "cell_type": "markdown",
   "metadata": {},
   "source": [
    "# Preliminaries"
   ]
  },
  {
   "attachments": {},
   "cell_type": "markdown",
   "metadata": {},
   "source": [
    "## Libraries"
   ]
  },
  {
   "cell_type": "code",
   "execution_count": null,
   "metadata": {
    "ExecuteTime": {
     "end_time": "2024-03-14T13:55:24.677702400Z",
     "start_time": "2024-03-14T13:55:13.660700200Z"
    }
   },
   "outputs": [],
   "source": [
    "# Imports libraries\n",
    "\n",
    "# Import functions from RiskLabAI\n",
    "from RiskLabAI.controller import Controller\n",
    "from RiskLabAI.data.structures.data_structures_lopez import *\n",
    "from RiskLabAI.utils import *\n",
    "\n",
    "from RiskLabAI.data.structures.imbalance_bars import ExpectedImbalanceBars, FixedImbalanceBars\n",
    "from RiskLabAI.data.structures.run_bars import ExpectedRunBars, FixedRunBars\n",
    "from RiskLabAI.data.structures.standard_bars import StandardBars\n",
    "from RiskLabAI.data.structures.time_bars import TimeBars\n",
    "\n",
    "from RiskLabAI.utils.constants import CUMULATIVE_DOLLAR, CUMULATIVE_VOLUME, CUMULATIVE_TICKS\n",
    "\n",
    "from RiskLabAI.controller import Controller\n",
    "\n",
    "\n",
    "\n",
    "import plotly.graph_objects as go\n",
    "from openpyxl import load_workbook\n",
    "import plotly.express as px\n",
    "import plotly.graph_objs as go\n",
    "from plotly.subplots import make_subplots\n",
    "import warnings\n",
    "warnings.filterwarnings(\"ignore\")\n",
    "\n",
    "\n",
    "# Set plotting backend and handle numpy errors\n",
    "pd.options.plotting.backend = \"plotly\"\n",
    "np.seterr(divide='ignore', invalid='ignore')\n",
    "\n",
    "\n",
    "import datetime\n",
    "import time\n",
    "import sys\n",
    "from statsmodels.stats import stattools\n",
    "import os\n",
    "\n",
    "import numpy as np\n",
    "import pandas as pd\n",
    "import matplotlib.pyplot as plt\n",
    "from scipy import stats\n",
    "import seaborn as sns\n",
    "\n",
    "# !pip3 install dtale\n",
    "import dtale\n",
    "\n",
    "# Path to save the Excel file\n",
    "excel_file_path = \"structure.xlsx\"\n",
    "\n",
    "# Initialize the Excel file\n",
    "wb = load_workbook(excel_file_path) if os.path.exists(excel_file_path) else None"
   ]
  },
  {
   "cell_type": "markdown",
   "metadata": {},
   "source": [
    "# Financial Data Structures Using RiskLabAI\n"
   ]
  },
  {
   "cell_type": "markdown",
   "metadata": {},
   "source": [
    "## Data Import and Initial Processing"
   ]
  },
  {
   "cell_type": "code",
   "execution_count": null,
   "metadata": {},
   "outputs": [],
   "source": [
    "controller = Controller()\n",
    "data = pd.read_csv('stock_data.csv')\n",
    "data[\"date\"] = pd.to_datetime(data[\"date\"])\n",
    "data.head()"
   ]
  },
  {
   "cell_type": "markdown",
   "metadata": {},
   "source": [
    "## Bars"
   ]
  },
  {
   "cell_type": "markdown",
   "metadata": {},
   "source": [
    "### Standard Bars"
   ]
  },
  {
   "cell_type": "markdown",
   "metadata": {},
   "source": [
    "#### Time Bars"
   ]
  },
  {
   "cell_type": "code",
   "execution_count": null,
   "metadata": {},
   "outputs": [],
   "source": [
    "time = controller.handle_input_command(\n",
    "    method_name=\"time_bars\",\n",
    "    method_arguments={\n",
    "        \"resolution_type\":'MIN',\n",
    "        \"resolution_units\":10,\n",
    "    },\n",
    "    input_data= data,\n",
    "    batch_size= 1_000_000,\n",
    ")\n",
    "\n",
    "time.head()"
   ]
  },
  {
   "cell_type": "markdown",
   "metadata": {},
   "source": [
    "#### Tick Bars"
   ]
  },
  {
   "cell_type": "code",
   "execution_count": null,
   "metadata": {},
   "outputs": [],
   "source": [
    "tick = controller.handle_input_command(\n",
    "    method_name=\"tick_standard_bars\",\n",
    "    method_arguments={\n",
    "        \"threshold\": 250,\n",
    "    },\n",
    "    input_data=data,\n",
    "    batch_size=1_000_000,\n",
    ")\n",
    "\n",
    "tick.head()"
   ]
  },
  {
   "cell_type": "markdown",
   "metadata": {},
   "source": [
    "#### Volume Bars"
   ]
  },
  {
   "cell_type": "code",
   "execution_count": null,
   "metadata": {},
   "outputs": [],
   "source": [
    "volume = controller.handle_input_command(\n",
    "    method_name=\"volume_standard_bars\",\n",
    "    method_arguments={\n",
    "        \"threshold\": 3_500_000,\n",
    "    },\n",
    "    input_data=data,\n",
    "    batch_size=1_000_000\n",
    ")\n",
    "\n",
    "volume.head()"
   ]
  },
  {
   "cell_type": "markdown",
   "metadata": {},
   "source": [
    "#### VPIN (Volume-Synchronized Probability of Informed Trading)"
   ]
  },
  {
   "cell_type": "code",
   "execution_count": null,
   "metadata": {},
   "outputs": [],
   "source": [
    "volume_imbalance = (volume[\"Cumulative Buy Volume\"] - volume[\"Cumulative Sell Volume\"]).abs()\n",
    "vpin = volume_imbalance.rolling(window=1).mean() / volume[\"Cumulative Volume\"]\n",
    "volume[\"VPIN\"] = vpin\n",
    "volume.to_csv('stock_vpin.csv')\n",
    "\n",
    "# Save countAverage data to Excel without overwriting previous sheets\n",
    "with pd.ExcelWriter(excel_file_path, engine='xlsxwriter') as writer:\n",
    "    volume.to_excel(writer, sheet_name='VPIN')\n",
    "\n",
    "volume.head()"
   ]
  },
  {
   "cell_type": "code",
   "execution_count": null,
   "metadata": {},
   "outputs": [],
   "source": [
    "# Create a subplot with 2 rows and 1 column\n",
    "fig = make_subplots(rows=2, cols=1, shared_xaxes=True, vertical_spacing=0.1)\n",
    "\n",
    "# Add the price plot to the first row\n",
    "fig.add_trace(\n",
    "    go.Scatter(\n",
    "        x=volume.index,\n",
    "        y=volume['Close'],\n",
    "        name=\"Prices\",\n",
    "    ),\n",
    "    row=1, col=1,\n",
    ")\n",
    "\n",
    "# Add the VPIN plot to the second row as a line chart\n",
    "fig.add_trace(\n",
    "    go.Scatter(\n",
    "        x=volume.index,\n",
    "        y=volume['VPIN'],\n",
    "        name=\"VPIN\",\n",
    "        mode='lines'\n",
    "    ),\n",
    "    row=2, col=1,\n",
    ")\n",
    "\n",
    "# Update layout\n",
    "fig.update_layout(\n",
    "    title=\"Price and VPIN\",\n",
    "    xaxis_title=\"Date\",\n",
    "    hovermode=\"x unified\",\n",
    "    template=\"plotly_dark\",\n",
    ")\n",
    "\n",
    "# Update x-axis title for the second subplot\n",
    "fig.update_xaxes(title_text=\"Date\", row=2, col=1)\n",
    "\n",
    "# Show the figure\n",
    "fig.show()"
   ]
  },
  {
   "cell_type": "markdown",
   "metadata": {},
   "source": [
    "#### Dollar Bars"
   ]
  },
  {
   "cell_type": "code",
   "execution_count": null,
   "metadata": {},
   "outputs": [],
   "source": [
    "dollar = controller.handle_input_command(\n",
    "    method_name=\"dollar_standard_bars\",\n",
    "    method_arguments={\n",
    "        \"threshold\": 60_000_000_000,\n",
    "    },\n",
    "    input_data=data,\n",
    "    batch_size=1_000_000,\n",
    ")\n",
    "\n",
    "dollar.head()"
   ]
  },
  {
   "cell_type": "markdown",
   "metadata": {},
   "source": [
    "#### Stability"
   ]
  },
  {
   "cell_type": "code",
   "execution_count": 73,
   "metadata": {},
   "outputs": [],
   "source": [
    "time = time.set_index(['Date Time'])\n",
    "dollar = dollar.set_index(['Date Time'])\n",
    "volume = volume.set_index(['Date Time'])\n",
    "tick = tick.set_index(['Date Time'])"
   ]
  },
  {
   "cell_type": "code",
   "execution_count": null,
   "metadata": {},
   "outputs": [],
   "source": [
    "dollar_count = dollar['Close'].resample('1W').count()\n",
    "volume_count = volume['Close'].resample('1W').count()\n",
    "tick_count = tick['Close'].resample('1W').count()\n",
    "time_count = time['Open'].resample('1W').count()\n",
    "\n",
    "count_df = pd.concat([time_count, tick_count, volume_count, dollar_count], axis=1)\n",
    "count_df.columns = ['time', 'tick', 'volume', 'dollar']\n",
    "count_df.head()"
   ]
  },
  {
   "cell_type": "code",
   "execution_count": null,
   "metadata": {},
   "outputs": [],
   "source": [
    "# Create and style traces\n",
    "fig = go.Figure()\n",
    "fig.add_trace(go.Scatter(x=count_df.index, y=count_df['time'], name='Time'))\n",
    "fig.add_trace(go.Scatter(x=count_df.index, y=count_df['tick'], name='Tick'))\n",
    "fig.add_trace(go.Scatter(x=count_df.index, y=count_df['volume'], name='Volume'))\n",
    "fig.add_trace(go.Scatter(x=count_df.index, y=count_df['dollar'], name='Dollar'))\n",
    "\n",
    "# Use the function to update layout\n",
    "update_figure_layout(\n",
    "    fig,\n",
    "    title=\"Standard Bars Frequency\",\n",
    "    xaxis_title=\"Date\",\n",
    "    yaxis_title=\"Frequency\"\n",
    ")\n",
    "\n",
    "# Save count_df data to Excel without overwriting previous sheets\n",
    "with pd.ExcelWriter(excel_file_path, engine='openpyxl', mode='a', if_sheet_exists='overlay') as writer:\n",
    "    count_df.to_excel(writer, sheet_name='Standard Frequency - RiskLabAI')\n",
    "    \n",
    "# Show the plot\n",
    "fig.show()"
   ]
  },
  {
   "cell_type": "markdown",
   "metadata": {},
   "source": [
    "#### Normality"
   ]
  },
  {
   "cell_type": "markdown",
   "metadata": {},
   "source": [
    "##### Jarque-Bera Test"
   ]
  },
  {
   "cell_type": "code",
   "execution_count": 76,
   "metadata": {},
   "outputs": [],
   "source": [
    "dollar_returns = np.log(dollar['Close']).diff().dropna()\n",
    "volume_returns = np.log(volume['Close']).diff().dropna()\n",
    "tick_returns = np.log(tick['Close']).diff().dropna()\n",
    "time_returns = np.log(time['Open']).diff().dropna()"
   ]
  },
  {
   "cell_type": "code",
   "execution_count": null,
   "metadata": {},
   "outputs": [],
   "source": [
    "print(\"Jarque-Bera test statistic for time returns:\", int(stats.jarque_bera(time_returns)[0]))\n",
    "print(\"Jarque-Bera test statistic for dollar returns:\", int(stats.jarque_bera(dollar_returns)[0]))\n",
    "print(\"Jarque-Bera test statistic for volume returns:\", int(stats.jarque_bera(volume_returns)[0]))\n",
    "print(\"Jarque-Bera test statistic for tick returns:\", int(stats.jarque_bera(tick_returns)[0]))"
   ]
  },
  {
   "cell_type": "markdown",
   "metadata": {},
   "source": [
    "##### Shapiro-Wilk Test"
   ]
  },
  {
   "cell_type": "code",
   "execution_count": null,
   "metadata": {},
   "outputs": [],
   "source": [
    "print(\"Shapiro-Wilk test statistic for time returns:\", stats.shapiro(time_returns))\n",
    "print(\"Shapiro-Wilk test statistic for dollar returns:\", stats.shapiro(dollar_returns))\n",
    "print(\"Shapiro-Wilk test statistic for volume returns:\", stats.shapiro(volume_returns))\n",
    "print(\"Shapiro-Wilk test statistic for tick returns:\", stats.shapiro(tick_returns))"
   ]
  },
  {
   "cell_type": "markdown",
   "metadata": {},
   "source": [
    "##### Results KDE plot "
   ]
  },
  {
   "cell_type": "markdown",
   "metadata": {},
   "source": [
    "###### Standardize Data"
   ]
  },
  {
   "cell_type": "code",
   "execution_count": 79,
   "metadata": {},
   "outputs": [],
   "source": [
    "time_standard = (time_returns - time_returns.mean()) / time_returns.std()\n",
    "tick_standard = (tick_returns - tick_returns.mean()) / tick_returns.std()\n",
    "volume_standard = (volume_returns - volume_returns.mean()) / volume_returns.std()\n",
    "dollar_standard = (dollar_returns - dollar_returns.mean()) / dollar_returns.std()"
   ]
  },
  {
   "cell_type": "markdown",
   "metadata": {},
   "source": [
    "###### Distribution Plot"
   ]
  },
  {
   "cell_type": "code",
   "execution_count": null,
   "metadata": {},
   "outputs": [],
   "source": [
    "plt.figure(figsize=(16, 12))\n",
    "sns.kdeplot(time_standard, label=\"Time\")\n",
    "sns.kdeplot(tick_standard, label=\"Tick\")\n",
    "sns.kdeplot(volume_standard, label=\"Volume\")\n",
    "sns.kdeplot(dollar_standard, label=\"Dollar\")\n",
    "sns.kdeplot(np.random.normal(size=1000000), label=\"Normal\", linestyle=\"dotted\")\n",
    "plt.xticks(range(-4, +4))\n",
    "plt.title(\n",
    "    'Partial recovery of normality',\n",
    "    loc='center', \n",
    ")\n",
    "plt.xlim(-5, 5)\n",
    "plt.show()\n",
    "\n",
    "# Save the standardized returns data to Excel without overwriting previous sheets\n",
    "with pd.ExcelWriter(excel_file_path, engine='openpyxl', mode='a', if_sheet_exists='overlay') as writer:\n",
    "    time_standard.to_excel(writer, sheet_name='Standardized Returns', startcol=0, index=True)\n",
    "    tick_standard.to_excel(writer, sheet_name='Standardized Returns', startcol=2, index=True)\n",
    "    volume_standard.to_excel(writer, sheet_name='Standardized Returns', startcol=4, index=True)\n",
    "    dollar_standard.to_excel(writer, sheet_name='Standardized Returns', startcol=6, index=True)"
   ]
  },
  {
   "cell_type": "markdown",
   "metadata": {},
   "source": [
    "### Information Driven Bars"
   ]
  },
  {
   "cell_type": "markdown",
   "metadata": {},
   "source": [
    "#### Expected Imbalance Bars"
   ]
  },
  {
   "cell_type": "markdown",
   "metadata": {},
   "source": [
    "##### Imbalance Tick Bars"
   ]
  },
  {
   "cell_type": "code",
   "execution_count": null,
   "metadata": {},
   "outputs": [],
   "source": [
    "expected_tick_imbalance_bars = controller.handle_input_command(\n",
    "    method_name=\"expected_tick_imbalance_bars\",\n",
    "    method_arguments={\n",
    "        \"window_size_for_expected_n_ticks_estimation\": 5,\n",
    "        \"window_size_for_expected_imbalance_estimation\": 10000,\n",
    "        \"initial_estimate_of_expected_n_ticks_in_bar\": 2000,\n",
    "    },\n",
    "    input_data=data,\n",
    "    batch_size=1_000_000,\n",
    ")\n",
    "\n",
    "expected_tick_imbalance_bars.head()"
   ]
  },
  {
   "cell_type": "markdown",
   "metadata": {},
   "source": [
    "##### Imbalance Volume Bars"
   ]
  },
  {
   "cell_type": "code",
   "execution_count": null,
   "metadata": {},
   "outputs": [],
   "source": [
    "expected_volume_imbalance_bars = controller.handle_input_command(\n",
    "    method_name=\"expected_volume_imbalance_bars\",\n",
    "    method_arguments={\n",
    "        \"window_size_for_expected_n_ticks_estimation\": 5,\n",
    "        \"window_size_for_expected_imbalance_estimation\": 10000,\n",
    "        \"initial_estimate_of_expected_n_ticks_in_bar\": 2000,\n",
    "    },\n",
    "    input_data=data,\n",
    "    batch_size=1_000_000,\n",
    ")\n",
    "\n",
    "expected_volume_imbalance_bars.head()"
   ]
  },
  {
   "cell_type": "markdown",
   "metadata": {},
   "source": [
    "##### Imbalance Dollar Bars"
   ]
  },
  {
   "cell_type": "code",
   "execution_count": null,
   "metadata": {},
   "outputs": [],
   "source": [
    "expected_dollar_imbalance_bars = controller.handle_input_command(\n",
    "    method_name=\"expected_dollar_imbalance_bars\",\n",
    "    method_arguments={\n",
    "        \"window_size_for_expected_n_ticks_estimation\": 5,\n",
    "        \"window_size_for_expected_imbalance_estimation\": 10000,\n",
    "        \"initial_estimate_of_expected_n_ticks_in_bar\": 2000,\n",
    "    },\n",
    "    input_data=data,\n",
    "    batch_size=1_000_000,\n",
    ")\n",
    "\n",
    "expected_dollar_imbalance_bars.head()"
   ]
  },
  {
   "cell_type": "markdown",
   "metadata": {},
   "source": [
    "#### Fixed Imbalance Bars"
   ]
  },
  {
   "cell_type": "markdown",
   "metadata": {},
   "source": [
    "##### Fixed Imbalance Tick Bars"
   ]
  },
  {
   "cell_type": "code",
   "execution_count": null,
   "metadata": {},
   "outputs": [],
   "source": [
    "fixed_tick_imbalance_bars = controller.handle_input_command(\n",
    "    method_name=\"fixed_tick_imbalance_bars\",\n",
    "    method_arguments={\n",
    "        \"window_size_for_expected_imbalance_estimation\": 10000,\n",
    "        \"initial_estimate_of_expected_n_ticks_in_bar\": 20000,\n",
    "    },\n",
    "    input_data=data,\n",
    "    batch_size=1_000_000,\n",
    ")\n",
    "\n",
    "fixed_tick_imbalance_bars.head()"
   ]
  },
  {
   "cell_type": "markdown",
   "metadata": {},
   "source": [
    "##### Fixed Imabalance Volume Bars"
   ]
  },
  {
   "cell_type": "code",
   "execution_count": null,
   "metadata": {},
   "outputs": [],
   "source": [
    "fixed_volume_imbalance_bars = controller.handle_input_command(\n",
    "    method_name=\"fixed_volume_imbalance_bars\",\n",
    "    method_arguments={\n",
    "        \"window_size_for_expected_imbalance_estimation\": 10000,\n",
    "        \"initial_estimate_of_expected_n_ticks_in_bar\": 20000,\n",
    "    },\n",
    "    input_data=data,\n",
    "    batch_size=1_000_000,\n",
    ")\n",
    "\n",
    "fixed_volume_imbalance_bars.head()"
   ]
  },
  {
   "cell_type": "markdown",
   "metadata": {},
   "source": [
    "##### Fixed Imbalance Dollar Bars"
   ]
  },
  {
   "cell_type": "code",
   "execution_count": null,
   "metadata": {},
   "outputs": [],
   "source": [
    "fixed_dollar_imbalance_bars = controller.handle_input_command(\n",
    "    method_name=\"fixed_dollar_imbalance_bars\",\n",
    "    method_arguments={\n",
    "        \"window_size_for_expected_imbalance_estimation\": 10000,\n",
    "        \"initial_estimate_of_expected_n_ticks_in_bar\": 20000,\n",
    "    },\n",
    "    input_data=data,\n",
    "    batch_size=1_000_000,\n",
    ")\n",
    "\n",
    "fixed_dollar_imbalance_bars.head()"
   ]
  },
  {
   "cell_type": "markdown",
   "metadata": {},
   "source": [
    "#### Run Bars"
   ]
  },
  {
   "cell_type": "markdown",
   "metadata": {},
   "source": [
    "##### Expected Run bars"
   ]
  },
  {
   "cell_type": "markdown",
   "metadata": {},
   "source": [
    "###### Expected Tick Run Bars"
   ]
  },
  {
   "cell_type": "code",
   "execution_count": null,
   "metadata": {},
   "outputs": [],
   "source": [
    "expected_tick_run_bars = controller.handle_input_command(\n",
    "    method_name=\"expected_tick_run_bars\",\n",
    "    method_arguments={\n",
    "        \"window_size_for_expected_n_ticks_estimation\": 5,\n",
    "        \"window_size_for_expected_imbalance_estimation\": 10000,\n",
    "        \"initial_estimate_of_expected_n_ticks_in_bar\": 20000,\n",
    "    },\n",
    "    input_data=data,\n",
    "    batch_size=1_000_000,\n",
    ")\n",
    "\n",
    "expected_tick_run_bars.head()"
   ]
  },
  {
   "cell_type": "markdown",
   "metadata": {},
   "source": [
    "###### Expected volume Run Bars"
   ]
  },
  {
   "cell_type": "code",
   "execution_count": null,
   "metadata": {},
   "outputs": [],
   "source": [
    "expected_volume_run_bars = controller.handle_input_command(\n",
    "    method_name=\"expected_volume_run_bars\",\n",
    "    method_arguments={\n",
    "        \"window_size_for_expected_n_ticks_estimation\": 5,\n",
    "        \"window_size_for_expected_imbalance_estimation\": 10000,\n",
    "        \"initial_estimate_of_expected_n_ticks_in_bar\": 20000,\n",
    "    },\n",
    "    input_data=data,\n",
    "    batch_size=1_000_000,\n",
    ")\n",
    "\n",
    "expected_volume_run_bars.head()"
   ]
  },
  {
   "cell_type": "markdown",
   "metadata": {},
   "source": [
    "###### Expected Dollar Run Bars"
   ]
  },
  {
   "cell_type": "code",
   "execution_count": null,
   "metadata": {},
   "outputs": [],
   "source": [
    "expected_dollar_run_bars = controller.handle_input_command(\n",
    "    method_name=\"expected_dollar_run_bars\",\n",
    "    method_arguments={\n",
    "        \"window_size_for_expected_n_ticks_estimation\": 5,\n",
    "        \"window_size_for_expected_imbalance_estimation\": 10000,\n",
    "        \"initial_estimate_of_expected_n_ticks_in_bar\": 20000,\n",
    "    },\n",
    "    input_data=data,\n",
    "    batch_size=1_000_000,\n",
    ")\n",
    "\n",
    "expected_dollar_run_bars.head()"
   ]
  },
  {
   "cell_type": "markdown",
   "metadata": {},
   "source": [
    "##### Fixed Run Bars"
   ]
  },
  {
   "cell_type": "markdown",
   "metadata": {},
   "source": [
    "###### Fixed Tick Run Bars"
   ]
  },
  {
   "cell_type": "code",
   "execution_count": null,
   "metadata": {},
   "outputs": [],
   "source": [
    "fixed_tick_run_bars = controller.handle_input_command(\n",
    "    method_name=\"fixed_tick_run_bars\",\n",
    "    method_arguments={\n",
    "        \"window_size_for_expected_imbalance_estimation\": 10000,\n",
    "        \"initial_estimate_of_expected_n_ticks_in_bar\": 20000,\n",
    "    },\n",
    "    input_data=data,\n",
    "    batch_size=1_000_000,\n",
    ")\n",
    "\n",
    "fixed_tick_run_bars.head()"
   ]
  },
  {
   "cell_type": "markdown",
   "metadata": {},
   "source": [
    "###### Fixed Volume Run Bars"
   ]
  },
  {
   "cell_type": "code",
   "execution_count": null,
   "metadata": {},
   "outputs": [],
   "source": [
    "fixed_volume_run_bars = controller.handle_input_command(\n",
    "    method_name=\"fixed_volume_run_bars\",\n",
    "    method_arguments={\n",
    "        \"window_size_for_expected_imbalance_estimation\": 10000,\n",
    "        \"initial_estimate_of_expected_n_ticks_in_bar\": 20000,\n",
    "    },\n",
    "    input_data=data,\n",
    "    batch_size=1_000_000,\n",
    ")\n",
    "\n",
    "fixed_volume_run_bars.head()"
   ]
  },
  {
   "cell_type": "markdown",
   "metadata": {},
   "source": [
    "###### Fixed Dollar Run Bars"
   ]
  },
  {
   "cell_type": "code",
   "execution_count": null,
   "metadata": {},
   "outputs": [],
   "source": [
    "fixed_dollar_run_bars = controller.handle_input_command(\n",
    "    method_name=\"fixed_dollar_run_bars\",\n",
    "    method_arguments={\n",
    "        \"window_size_for_expected_imbalance_estimation\": 10000,\n",
    "        \"initial_estimate_of_expected_n_ticks_in_bar\": 20000,\n",
    "    },\n",
    "    input_data=data,\n",
    "    batch_size=1_000_000,\n",
    ")\n",
    "\n",
    "fixed_dollar_run_bars.head()"
   ]
  },
  {
   "cell_type": "markdown",
   "metadata": {},
   "source": [
    "# Financial Data Structures Using Lopez book"
   ]
  },
  {
   "cell_type": "markdown",
   "metadata": {},
   "source": [
    "## Data Import and Initial Processing"
   ]
  },
  {
   "cell_type": "code",
   "execution_count": null,
   "metadata": {
    "ExecuteTime": {
     "end_time": "2024-03-14T13:55:41.741952500Z",
     "start_time": "2024-03-14T13:55:40.402047600Z"
    }
   },
   "outputs": [],
   "source": [
    "dir = \"https://raw.githubusercontent.com/risk-labratory/data/main/\"\n",
    "url = dir + \"IVE_2020.csv\"\n",
    "\n",
    "dataframe = pd.read_csv(url, header=0)\n",
    "dataframe['dates'] = pd.to_datetime(dataframe['dates'])\n",
    "dataframe.set_index('dates', inplace=True, drop=True)\n",
    "dataframe.drop_duplicates(inplace=True)\n",
    "dataframe = dataframe[(dataframe.index.hour >= 9) & (dataframe.index.hour < 16)]\n",
    "dataframe.head()\n"
   ]
  },
  {
   "cell_type": "markdown",
   "metadata": {},
   "source": [
    "## Bars"
   ]
  },
  {
   "cell_type": "markdown",
   "metadata": {},
   "source": [
    "### Standard Bars"
   ]
  },
  {
   "cell_type": "markdown",
   "metadata": {},
   "source": [
    "#### Time Bars"
   ]
  },
  {
   "cell_type": "code",
   "execution_count": null,
   "metadata": {},
   "outputs": [],
   "source": [
    "ohlcvTime = generate_time_bar(dataframe, frequency = \"30Min\")\n",
    "ohlcvTime.head(10)"
   ]
  },
  {
   "cell_type": "markdown",
   "metadata": {},
   "source": [
    "#### Tick Bars"
   ]
  },
  {
   "cell_type": "code",
   "execution_count": null,
   "metadata": {},
   "outputs": [],
   "source": [
    "timeBarLen = ohlcvTime.shape[0]\n",
    "ohlcvTick = generate_tick_bar(dataframe, ticks_per_bar = 0, number_bars = timeBarLen)\n",
    "ohlcvTick.head(10)"
   ]
  },
  {
   "cell_type": "markdown",
   "metadata": {},
   "source": [
    "#### Volume Bars"
   ]
  },
  {
   "cell_type": "code",
   "execution_count": null,
   "metadata": {},
   "outputs": [],
   "source": [
    "ohlcvVolume = generate_volume_bar(dataframe, volume_per_bar = 0, number_bars = timeBarLen)\n",
    "ohlcvVolume.head(10)"
   ]
  },
  {
   "cell_type": "markdown",
   "metadata": {},
   "source": [
    "#### Dollar Bars"
   ]
  },
  {
   "cell_type": "code",
   "execution_count": null,
   "metadata": {
    "ExecuteTime": {
     "end_time": "2024-03-14T13:55:51.098267900Z",
     "start_time": "2024-03-14T13:55:45.214378100Z"
    }
   },
   "outputs": [],
   "source": [
    "ohlcvDollar = generate_dollar_bar(dataframe, dollar_per_bar = 0, number_bars = timeBarLen)\n",
    "ohlcvDollar.head(10)"
   ]
  },
  {
   "attachments": {},
   "cell_type": "markdown",
   "metadata": {},
   "source": [
    "#### Stability"
   ]
  },
  {
   "cell_type": "code",
   "execution_count": null,
   "metadata": {
    "ExecuteTime": {
     "end_time": "2024-03-14T13:56:28.844082400Z",
     "start_time": "2024-03-14T13:56:28.809826800Z"
    }
   },
   "outputs": [],
   "source": [
    "countAverage = pd.DataFrame()\n",
    "countAverage['time'] = ohlcvTime.resample(\"1W\")['tick_count'].mean()\n",
    "countAverage['tick'] = ohlcvTick.resample(\"1W\")['tick_count'].mean()\n",
    "countAverage['volume'] = ohlcvVolume.resample(\"1W\")['tick_count'].mean()\n",
    "countAverage['dollar'] = ohlcvDollar.resample(\"1W\")['tick_count'].mean()\n",
    "countAverage.head(10)"
   ]
  },
  {
   "cell_type": "code",
   "execution_count": null,
   "metadata": {
    "ExecuteTime": {
     "end_time": "2024-03-14T13:56:59.834015100Z",
     "start_time": "2024-03-14T13:56:59.793427500Z"
    }
   },
   "outputs": [],
   "source": [
    "fig = go.Figure()\n",
    "# Create and style traces\n",
    "fig.add_trace(go.Scatter(x=countAverage.index, y=countAverage.time, name='Time'))\n",
    "fig.add_trace(go.Scatter(x=countAverage.index, y=countAverage.tick, name='Tick'))\n",
    "fig.add_trace(go.Scatter(x=countAverage.index, y=countAverage.volume, name='Volume'))\n",
    "fig.add_trace(go.Scatter(x=countAverage.index, y=countAverage.dollar, name='Dollar'))\n",
    "\n",
    "# Use the function to update layout\n",
    "update_figure_layout(\n",
    "    fig,\n",
    "    title=\"Standard Bars Frequency\",\n",
    "    xaxis_title=\"Date\",\n",
    "    yaxis_title=\"Frequency\"\n",
    ")\n",
    "# Save countAverage data to Excel without overwriting previous sheets\n",
    "with pd.ExcelWriter(excel_file_path, engine='openpyxl', mode='a', if_sheet_exists='overlay') as writer:\n",
    "    countAverage.to_excel(writer, sheet_name='Standard Bars Frequency')\n",
    "\n",
    "# Show the plot\n",
    "fig.show()"
   ]
  },
  {
   "cell_type": "markdown",
   "metadata": {},
   "source": [
    "### Information-Driven Bars"
   ]
  },
  {
   "cell_type": "markdown",
   "metadata": {},
   "source": [
    "#### Data Initial Processsing"
   ]
  },
  {
   "cell_type": "code",
   "execution_count": null,
   "metadata": {},
   "outputs": [],
   "source": [
    "# Select a smaller range\n",
    "startDate = datetime.datetime(2020, 3, 1)\n",
    "endDate = datetime.datetime(2020, 3, 5)\n",
    "new_dataframe = dataframe[((dataframe.index >= startDate) & (dataframe.index <= endDate))][['price', 'size']]\n",
    "new_dataframe.drop_duplicates()\n",
    "new_dataframe['ret'] = np.log(new_dataframe['price']) - np.log(new_dataframe['price'].shift(1))\n",
    "new_dataframe['label'] = np.sign(new_dataframe['ret'])\n",
    "new_dataframe['volume_labeled'] = new_dataframe['label']*new_dataframe['size']\n",
    "new_dataframe['dollarslabeled'] = new_dataframe['volume_labeled']*new_dataframe['price']\n",
    "new_dataframe.dropna(inplace = True)\n",
    "new_dataframe.head()"
   ]
  },
  {
   "cell_type": "markdown",
   "metadata": {},
   "source": [
    "#### Imbalance Tick Bar"
   ]
  },
  {
   "cell_type": "code",
   "execution_count": null,
   "metadata": {},
   "outputs": [],
   "source": [
    "imbalance_tick_bar, thetas_absolute_tick, thresholds_tick = generate_information_driven_bars(new_dataframe, bar_type=\"tick\", tick_expected_initial=0)\n",
    "imbalance_tick_bar.head()"
   ]
  },
  {
   "cell_type": "markdown",
   "metadata": {},
   "source": [
    "#### Imbalance Volume Bar"
   ]
  },
  {
   "cell_type": "code",
   "execution_count": null,
   "metadata": {},
   "outputs": [],
   "source": [
    "imbalance_volume_bar, thetas_absolute_volume, thresholds_volume = generate_information_driven_bars(new_dataframe, bar_type=\"volume\", tick_expected_initial=0)\n",
    "imbalance_volume_bar.head()"
   ]
  },
  {
   "cell_type": "markdown",
   "metadata": {},
   "source": [
    "#### Imbalance Dollar Bar"
   ]
  },
  {
   "cell_type": "code",
   "execution_count": null,
   "metadata": {},
   "outputs": [],
   "source": [
    "imbalance_dollar_bar, thetas_absolute_dollar, thresholds_dollar = generate_information_driven_bars(new_dataframe, bar_type=\"dollar\", tick_expected_initial=0)\n",
    "imbalance_dollar_bar.head()"
   ]
  }
 ],
 "metadata": {
  "kernelspec": {
   "display_name": "base",
   "language": "python",
   "name": "python3"
  },
  "language_info": {
   "codemirror_mode": {
    "name": "ipython",
    "version": 3
   },
   "file_extension": ".py",
   "mimetype": "text/x-python",
   "name": "python",
   "nbconvert_exporter": "python",
   "pygments_lexer": "ipython3",
   "version": "3.12.4"
  },
  "orig_nbformat": 4
 },
 "nbformat": 4,
 "nbformat_minor": 2
}
