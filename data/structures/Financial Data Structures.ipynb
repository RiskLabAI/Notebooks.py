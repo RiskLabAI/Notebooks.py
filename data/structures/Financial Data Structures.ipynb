{
 "cells": [
  {
   "attachments": {},
   "cell_type": "markdown",
   "metadata": {},
   "source": [
    "---\n",
    "# **Financial Data Structures**\n",
    "\n",
    "---"
   ]
  },
  {
   "attachments": {},
   "cell_type": "markdown",
   "metadata": {},
   "source": [
    "# Preliminaries"
   ]
  },
  {
   "attachments": {},
   "cell_type": "markdown",
   "metadata": {},
   "source": [
    "## Libraries"
   ]
  },
  {
   "cell_type": "code",
   "execution_count": 140,
   "metadata": {
    "ExecuteTime": {
     "end_time": "2024-03-14T13:55:24.677702400Z",
     "start_time": "2024-03-14T13:55:13.660700200Z"
    }
   },
   "outputs": [],
   "source": [
    "# Imports libraries\n",
    "\n",
    "# Import functions from RiskLabAI\n",
    "from RiskLabAI.controller import Controller\n",
    "from RiskLabAI.data.structures.data_structures_lopez import *\n",
    "from RiskLabAI.utils import *\n",
    "\n",
    "from RiskLabAI.data.structures.imbalance_bars import ExpectedImbalanceBars, FixedImbalanceBars\n",
    "from RiskLabAI.data.structures.run_bars import ExpectedRunBars, FixedRunBars\n",
    "from RiskLabAI.data.structures.standard_bars import StandardBars\n",
    "from RiskLabAI.data.structures.time_bars import TimeBars\n",
    "\n",
    "from RiskLabAI.utils.constants import CUMULATIVE_DOLLAR, CUMULATIVE_VOLUME, CUMULATIVE_TICKS\n",
    "\n",
    "\n",
    "\n",
    "import plotly.graph_objects as go\n",
    "from openpyxl import load_workbook\n",
    "import plotly.express as px\n",
    "import warnings\n",
    "warnings.filterwarnings(\"ignore\")\n",
    "\n",
    "\n",
    "# Set plotting backend and handle numpy errors\n",
    "pd.options.plotting.backend = \"plotly\"\n",
    "np.seterr(divide='ignore', invalid='ignore')\n",
    "\n",
    "\n",
    "import datetime\n",
    "import time\n",
    "import sys\n",
    "from statsmodels.stats import stattools\n",
    "import os\n",
    "\n",
    "import numpy as np\n",
    "import pandas as pd\n",
    "import matplotlib.pyplot as plt\n",
    "from scipy import stats\n",
    "import seaborn as sns\n",
    "import requests\n",
    "\n",
    "# !pip3 install dtale\n",
    "import dtale\n",
    "\n",
    "# Path to save the Excel file\n",
    "excel_file_path = \"structure.xlsx\"\n",
    "\n",
    "# Initialize the Excel file\n",
    "wb = load_workbook(excel_file_path) if os.path.exists(excel_file_path) else None"
   ]
  },
  {
   "cell_type": "markdown",
   "metadata": {},
   "source": [
    "## Data Import and Initial Processing"
   ]
  },
  {
   "cell_type": "code",
   "execution_count": 199,
   "metadata": {
    "ExecuteTime": {
     "end_time": "2024-03-14T13:55:41.741952500Z",
     "start_time": "2024-03-14T13:55:40.402047600Z"
    }
   },
   "outputs": [
    {
     "data": {
      "text/html": [
       "<div>\n",
       "<style scoped>\n",
       "    .dataframe tbody tr th:only-of-type {\n",
       "        vertical-align: middle;\n",
       "    }\n",
       "\n",
       "    .dataframe tbody tr th {\n",
       "        vertical-align: top;\n",
       "    }\n",
       "\n",
       "    .dataframe thead th {\n",
       "        text-align: right;\n",
       "    }\n",
       "</style>\n",
       "<table border=\"1\" class=\"dataframe\">\n",
       "  <thead>\n",
       "    <tr style=\"text-align: right;\">\n",
       "      <th></th>\n",
       "      <th>price</th>\n",
       "      <th>bid</th>\n",
       "      <th>ask</th>\n",
       "      <th>size</th>\n",
       "    </tr>\n",
       "    <tr>\n",
       "      <th>dates</th>\n",
       "      <th></th>\n",
       "      <th></th>\n",
       "      <th></th>\n",
       "      <th></th>\n",
       "    </tr>\n",
       "  </thead>\n",
       "  <tbody>\n",
       "    <tr>\n",
       "      <th>2020-01-02 09:30:00</th>\n",
       "      <td>130.68</td>\n",
       "      <td>130.59</td>\n",
       "      <td>130.60</td>\n",
       "      <td>20625</td>\n",
       "    </tr>\n",
       "    <tr>\n",
       "      <th>2020-01-02 09:30:01</th>\n",
       "      <td>130.50</td>\n",
       "      <td>130.50</td>\n",
       "      <td>130.77</td>\n",
       "      <td>200</td>\n",
       "    </tr>\n",
       "    <tr>\n",
       "      <th>2020-01-02 09:30:04</th>\n",
       "      <td>130.53</td>\n",
       "      <td>130.52</td>\n",
       "      <td>130.78</td>\n",
       "      <td>100</td>\n",
       "    </tr>\n",
       "    <tr>\n",
       "      <th>2020-01-02 09:30:04</th>\n",
       "      <td>130.55</td>\n",
       "      <td>130.52</td>\n",
       "      <td>130.78</td>\n",
       "      <td>100</td>\n",
       "    </tr>\n",
       "    <tr>\n",
       "      <th>2020-01-02 09:30:04</th>\n",
       "      <td>130.53</td>\n",
       "      <td>130.52</td>\n",
       "      <td>130.78</td>\n",
       "      <td>200</td>\n",
       "    </tr>\n",
       "  </tbody>\n",
       "</table>\n",
       "</div>"
      ],
      "text/plain": [
       "                      price     bid     ask   size\n",
       "dates                                             \n",
       "2020-01-02 09:30:00  130.68  130.59  130.60  20625\n",
       "2020-01-02 09:30:01  130.50  130.50  130.77    200\n",
       "2020-01-02 09:30:04  130.53  130.52  130.78    100\n",
       "2020-01-02 09:30:04  130.55  130.52  130.78    100\n",
       "2020-01-02 09:30:04  130.53  130.52  130.78    200"
      ]
     },
     "execution_count": 199,
     "metadata": {},
     "output_type": "execute_result"
    }
   ],
   "source": [
    "dir = \"https://raw.githubusercontent.com/risk-labratory/data/main/\"\n",
    "url = dir + \"IVE_2020.csv\"\n",
    "\n",
    "dataframe = pd.read_csv(url, header=0)\n",
    "dataframe['dates'] = pd.to_datetime(dataframe['dates'])\n",
    "dataframe.set_index('dates', inplace=True, drop=True)\n",
    "dataframe.drop_duplicates(inplace=True)\n",
    "dataframe = dataframe[(dataframe.index.hour >= 9) & (dataframe.index.hour < 16)]\n",
    "dataframe.head()\n"
   ]
  },
  {
   "attachments": {},
   "cell_type": "markdown",
   "metadata": {},
   "source": [
    "# Analytics"
   ]
  },
  {
   "cell_type": "markdown",
   "metadata": {},
   "source": [
    "## Bars"
   ]
  },
  {
   "cell_type": "markdown",
   "metadata": {},
   "source": [
    "### Standard Bars"
   ]
  },
  {
   "cell_type": "markdown",
   "metadata": {},
   "source": [
    "##### Time Bars"
   ]
  },
  {
   "cell_type": "code",
   "execution_count": 111,
   "metadata": {},
   "outputs": [
    {
     "data": {
      "text/html": [
       "<div>\n",
       "<style scoped>\n",
       "    .dataframe tbody tr th:only-of-type {\n",
       "        vertical-align: middle;\n",
       "    }\n",
       "\n",
       "    .dataframe tbody tr th {\n",
       "        vertical-align: top;\n",
       "    }\n",
       "\n",
       "    .dataframe thead th {\n",
       "        text-align: right;\n",
       "    }\n",
       "</style>\n",
       "<table border=\"1\" class=\"dataframe\">\n",
       "  <thead>\n",
       "    <tr style=\"text-align: right;\">\n",
       "      <th></th>\n",
       "      <th>open</th>\n",
       "      <th>high</th>\n",
       "      <th>low</th>\n",
       "      <th>close</th>\n",
       "      <th>volume</th>\n",
       "      <th>value_of_trades</th>\n",
       "      <th>price_mean</th>\n",
       "      <th>tick_count</th>\n",
       "      <th>price_mean_log_return</th>\n",
       "    </tr>\n",
       "    <tr>\n",
       "      <th>dates</th>\n",
       "      <th></th>\n",
       "      <th></th>\n",
       "      <th></th>\n",
       "      <th></th>\n",
       "      <th></th>\n",
       "      <th></th>\n",
       "      <th></th>\n",
       "      <th></th>\n",
       "      <th></th>\n",
       "    </tr>\n",
       "  </thead>\n",
       "  <tbody>\n",
       "    <tr>\n",
       "      <th>2020-01-02 09:30:00</th>\n",
       "      <td>130.6800</td>\n",
       "      <td>130.7800</td>\n",
       "      <td>130.3700</td>\n",
       "      <td>130.4299</td>\n",
       "      <td>164048</td>\n",
       "      <td>130.585010</td>\n",
       "      <td>130.558158</td>\n",
       "      <td>262</td>\n",
       "      <td>NaN</td>\n",
       "    </tr>\n",
       "    <tr>\n",
       "      <th>2020-01-02 10:00:00</th>\n",
       "      <td>130.4000</td>\n",
       "      <td>130.4000</td>\n",
       "      <td>130.0218</td>\n",
       "      <td>130.0564</td>\n",
       "      <td>75227</td>\n",
       "      <td>130.141558</td>\n",
       "      <td>130.178844</td>\n",
       "      <td>132</td>\n",
       "      <td>-0.002910</td>\n",
       "    </tr>\n",
       "    <tr>\n",
       "      <th>2020-01-02 10:30:00</th>\n",
       "      <td>130.0800</td>\n",
       "      <td>130.2000</td>\n",
       "      <td>129.9713</td>\n",
       "      <td>130.2000</td>\n",
       "      <td>91006</td>\n",
       "      <td>130.079069</td>\n",
       "      <td>130.056870</td>\n",
       "      <td>124</td>\n",
       "      <td>-0.000937</td>\n",
       "    </tr>\n",
       "    <tr>\n",
       "      <th>2020-01-02 11:00:00</th>\n",
       "      <td>130.2050</td>\n",
       "      <td>130.2089</td>\n",
       "      <td>130.0800</td>\n",
       "      <td>130.1300</td>\n",
       "      <td>65182</td>\n",
       "      <td>130.141968</td>\n",
       "      <td>130.138222</td>\n",
       "      <td>64</td>\n",
       "      <td>0.000625</td>\n",
       "    </tr>\n",
       "    <tr>\n",
       "      <th>2020-01-02 11:30:00</th>\n",
       "      <td>130.0833</td>\n",
       "      <td>130.0833</td>\n",
       "      <td>129.9380</td>\n",
       "      <td>130.0300</td>\n",
       "      <td>84253</td>\n",
       "      <td>130.013381</td>\n",
       "      <td>130.016007</td>\n",
       "      <td>59</td>\n",
       "      <td>-0.000940</td>\n",
       "    </tr>\n",
       "    <tr>\n",
       "      <th>2020-01-02 12:00:00</th>\n",
       "      <td>130.0215</td>\n",
       "      <td>130.1179</td>\n",
       "      <td>129.9800</td>\n",
       "      <td>130.0732</td>\n",
       "      <td>59420</td>\n",
       "      <td>130.063977</td>\n",
       "      <td>130.075780</td>\n",
       "      <td>60</td>\n",
       "      <td>0.000460</td>\n",
       "    </tr>\n",
       "    <tr>\n",
       "      <th>2020-01-02 12:30:00</th>\n",
       "      <td>130.0945</td>\n",
       "      <td>130.1348</td>\n",
       "      <td>130.0420</td>\n",
       "      <td>130.0773</td>\n",
       "      <td>152349</td>\n",
       "      <td>130.084798</td>\n",
       "      <td>130.073998</td>\n",
       "      <td>125</td>\n",
       "      <td>-0.000014</td>\n",
       "    </tr>\n",
       "    <tr>\n",
       "      <th>2020-01-02 13:00:00</th>\n",
       "      <td>130.0700</td>\n",
       "      <td>130.0700</td>\n",
       "      <td>129.9566</td>\n",
       "      <td>129.9566</td>\n",
       "      <td>16861</td>\n",
       "      <td>129.995596</td>\n",
       "      <td>129.990660</td>\n",
       "      <td>45</td>\n",
       "      <td>-0.000641</td>\n",
       "    </tr>\n",
       "    <tr>\n",
       "      <th>2020-01-02 13:30:00</th>\n",
       "      <td>129.9799</td>\n",
       "      <td>130.0200</td>\n",
       "      <td>129.9400</td>\n",
       "      <td>129.9779</td>\n",
       "      <td>64199</td>\n",
       "      <td>129.969085</td>\n",
       "      <td>129.969793</td>\n",
       "      <td>81</td>\n",
       "      <td>-0.000161</td>\n",
       "    </tr>\n",
       "    <tr>\n",
       "      <th>2020-01-02 14:00:00</th>\n",
       "      <td>129.9700</td>\n",
       "      <td>130.1163</td>\n",
       "      <td>129.9700</td>\n",
       "      <td>130.0850</td>\n",
       "      <td>294131</td>\n",
       "      <td>130.083151</td>\n",
       "      <td>130.034996</td>\n",
       "      <td>126</td>\n",
       "      <td>0.000502</td>\n",
       "    </tr>\n",
       "  </tbody>\n",
       "</table>\n",
       "</div>"
      ],
      "text/plain": [
       "                         open      high       low     close  volume  \\\n",
       "dates                                                                 \n",
       "2020-01-02 09:30:00  130.6800  130.7800  130.3700  130.4299  164048   \n",
       "2020-01-02 10:00:00  130.4000  130.4000  130.0218  130.0564   75227   \n",
       "2020-01-02 10:30:00  130.0800  130.2000  129.9713  130.2000   91006   \n",
       "2020-01-02 11:00:00  130.2050  130.2089  130.0800  130.1300   65182   \n",
       "2020-01-02 11:30:00  130.0833  130.0833  129.9380  130.0300   84253   \n",
       "2020-01-02 12:00:00  130.0215  130.1179  129.9800  130.0732   59420   \n",
       "2020-01-02 12:30:00  130.0945  130.1348  130.0420  130.0773  152349   \n",
       "2020-01-02 13:00:00  130.0700  130.0700  129.9566  129.9566   16861   \n",
       "2020-01-02 13:30:00  129.9799  130.0200  129.9400  129.9779   64199   \n",
       "2020-01-02 14:00:00  129.9700  130.1163  129.9700  130.0850  294131   \n",
       "\n",
       "                     value_of_trades  price_mean  tick_count  \\\n",
       "dates                                                          \n",
       "2020-01-02 09:30:00       130.585010  130.558158         262   \n",
       "2020-01-02 10:00:00       130.141558  130.178844         132   \n",
       "2020-01-02 10:30:00       130.079069  130.056870         124   \n",
       "2020-01-02 11:00:00       130.141968  130.138222          64   \n",
       "2020-01-02 11:30:00       130.013381  130.016007          59   \n",
       "2020-01-02 12:00:00       130.063977  130.075780          60   \n",
       "2020-01-02 12:30:00       130.084798  130.073998         125   \n",
       "2020-01-02 13:00:00       129.995596  129.990660          45   \n",
       "2020-01-02 13:30:00       129.969085  129.969793          81   \n",
       "2020-01-02 14:00:00       130.083151  130.034996         126   \n",
       "\n",
       "                     price_mean_log_return  \n",
       "dates                                       \n",
       "2020-01-02 09:30:00                    NaN  \n",
       "2020-01-02 10:00:00              -0.002910  \n",
       "2020-01-02 10:30:00              -0.000937  \n",
       "2020-01-02 11:00:00               0.000625  \n",
       "2020-01-02 11:30:00              -0.000940  \n",
       "2020-01-02 12:00:00               0.000460  \n",
       "2020-01-02 12:30:00              -0.000014  \n",
       "2020-01-02 13:00:00              -0.000641  \n",
       "2020-01-02 13:30:00              -0.000161  \n",
       "2020-01-02 14:00:00               0.000502  "
      ]
     },
     "execution_count": 111,
     "metadata": {},
     "output_type": "execute_result"
    }
   ],
   "source": [
    "ohlcvTime = generate_time_bar(dataframe, frequency = \"30Min\")\n",
    "ohlcvTime.head(10)"
   ]
  },
  {
   "cell_type": "markdown",
   "metadata": {},
   "source": [
    "##### Tick Bars"
   ]
  },
  {
   "cell_type": "code",
   "execution_count": 112,
   "metadata": {},
   "outputs": [
    {
     "data": {
      "text/html": [
       "<div>\n",
       "<style scoped>\n",
       "    .dataframe tbody tr th:only-of-type {\n",
       "        vertical-align: middle;\n",
       "    }\n",
       "\n",
       "    .dataframe tbody tr th {\n",
       "        vertical-align: top;\n",
       "    }\n",
       "\n",
       "    .dataframe thead th {\n",
       "        text-align: right;\n",
       "    }\n",
       "</style>\n",
       "<table border=\"1\" class=\"dataframe\">\n",
       "  <thead>\n",
       "    <tr style=\"text-align: right;\">\n",
       "      <th></th>\n",
       "      <th>open</th>\n",
       "      <th>high</th>\n",
       "      <th>low</th>\n",
       "      <th>close</th>\n",
       "      <th>volume</th>\n",
       "      <th>value_of_trades</th>\n",
       "      <th>price_mean</th>\n",
       "      <th>tick_count</th>\n",
       "      <th>price_mean_log_return</th>\n",
       "    </tr>\n",
       "    <tr>\n",
       "      <th>dates</th>\n",
       "      <th></th>\n",
       "      <th></th>\n",
       "      <th></th>\n",
       "      <th></th>\n",
       "      <th></th>\n",
       "      <th></th>\n",
       "      <th></th>\n",
       "      <th></th>\n",
       "      <th></th>\n",
       "    </tr>\n",
       "  </thead>\n",
       "  <tbody>\n",
       "    <tr>\n",
       "      <th>2020-01-02 09:30:00</th>\n",
       "      <td>130.680</td>\n",
       "      <td>130.7800</td>\n",
       "      <td>130.5000</td>\n",
       "      <td>130.7800</td>\n",
       "      <td>23625</td>\n",
       "      <td>130.672466</td>\n",
       "      <td>130.607500</td>\n",
       "      <td>16</td>\n",
       "      <td>NaN</td>\n",
       "    </tr>\n",
       "    <tr>\n",
       "      <th>2020-01-02 09:30:05</th>\n",
       "      <td>130.780</td>\n",
       "      <td>130.7800</td>\n",
       "      <td>130.5200</td>\n",
       "      <td>130.6650</td>\n",
       "      <td>8446</td>\n",
       "      <td>130.647502</td>\n",
       "      <td>130.676562</td>\n",
       "      <td>16</td>\n",
       "      <td>0.000529</td>\n",
       "    </tr>\n",
       "    <tr>\n",
       "      <th>2020-01-02 09:30:29</th>\n",
       "      <td>130.660</td>\n",
       "      <td>130.7049</td>\n",
       "      <td>130.6000</td>\n",
       "      <td>130.6200</td>\n",
       "      <td>1982</td>\n",
       "      <td>130.649491</td>\n",
       "      <td>130.647181</td>\n",
       "      <td>16</td>\n",
       "      <td>-0.000225</td>\n",
       "    </tr>\n",
       "    <tr>\n",
       "      <th>2020-01-02 09:32:12</th>\n",
       "      <td>130.620</td>\n",
       "      <td>130.6200</td>\n",
       "      <td>130.5600</td>\n",
       "      <td>130.5700</td>\n",
       "      <td>5200</td>\n",
       "      <td>130.574894</td>\n",
       "      <td>130.579031</td>\n",
       "      <td>16</td>\n",
       "      <td>-0.000522</td>\n",
       "    </tr>\n",
       "    <tr>\n",
       "      <th>2020-01-02 09:32:51</th>\n",
       "      <td>130.570</td>\n",
       "      <td>130.6100</td>\n",
       "      <td>130.5567</td>\n",
       "      <td>130.5900</td>\n",
       "      <td>5721</td>\n",
       "      <td>130.589296</td>\n",
       "      <td>130.586669</td>\n",
       "      <td>16</td>\n",
       "      <td>0.000058</td>\n",
       "    </tr>\n",
       "    <tr>\n",
       "      <th>2020-01-02 09:33:04</th>\n",
       "      <td>130.590</td>\n",
       "      <td>130.6300</td>\n",
       "      <td>130.5900</td>\n",
       "      <td>130.6242</td>\n",
       "      <td>52946</td>\n",
       "      <td>130.609491</td>\n",
       "      <td>130.611506</td>\n",
       "      <td>16</td>\n",
       "      <td>0.000190</td>\n",
       "    </tr>\n",
       "    <tr>\n",
       "      <th>2020-01-02 09:33:32</th>\n",
       "      <td>130.640</td>\n",
       "      <td>130.6700</td>\n",
       "      <td>130.5350</td>\n",
       "      <td>130.5500</td>\n",
       "      <td>5886</td>\n",
       "      <td>130.589667</td>\n",
       "      <td>130.604900</td>\n",
       "      <td>16</td>\n",
       "      <td>-0.000051</td>\n",
       "    </tr>\n",
       "    <tr>\n",
       "      <th>2020-01-02 09:35:05</th>\n",
       "      <td>130.550</td>\n",
       "      <td>130.5900</td>\n",
       "      <td>130.4800</td>\n",
       "      <td>130.5600</td>\n",
       "      <td>3614</td>\n",
       "      <td>130.536972</td>\n",
       "      <td>130.544238</td>\n",
       "      <td>16</td>\n",
       "      <td>-0.000465</td>\n",
       "    </tr>\n",
       "    <tr>\n",
       "      <th>2020-01-02 09:35:54</th>\n",
       "      <td>130.570</td>\n",
       "      <td>130.6200</td>\n",
       "      <td>130.5000</td>\n",
       "      <td>130.5000</td>\n",
       "      <td>5021</td>\n",
       "      <td>130.549199</td>\n",
       "      <td>130.551112</td>\n",
       "      <td>16</td>\n",
       "      <td>0.000053</td>\n",
       "    </tr>\n",
       "    <tr>\n",
       "      <th>2020-01-02 09:38:32</th>\n",
       "      <td>130.465</td>\n",
       "      <td>130.5600</td>\n",
       "      <td>130.4500</td>\n",
       "      <td>130.5346</td>\n",
       "      <td>2140</td>\n",
       "      <td>130.503384</td>\n",
       "      <td>130.509025</td>\n",
       "      <td>16</td>\n",
       "      <td>-0.000322</td>\n",
       "    </tr>\n",
       "  </tbody>\n",
       "</table>\n",
       "</div>"
      ],
      "text/plain": [
       "                        open      high       low     close  volume  \\\n",
       "dates                                                                \n",
       "2020-01-02 09:30:00  130.680  130.7800  130.5000  130.7800   23625   \n",
       "2020-01-02 09:30:05  130.780  130.7800  130.5200  130.6650    8446   \n",
       "2020-01-02 09:30:29  130.660  130.7049  130.6000  130.6200    1982   \n",
       "2020-01-02 09:32:12  130.620  130.6200  130.5600  130.5700    5200   \n",
       "2020-01-02 09:32:51  130.570  130.6100  130.5567  130.5900    5721   \n",
       "2020-01-02 09:33:04  130.590  130.6300  130.5900  130.6242   52946   \n",
       "2020-01-02 09:33:32  130.640  130.6700  130.5350  130.5500    5886   \n",
       "2020-01-02 09:35:05  130.550  130.5900  130.4800  130.5600    3614   \n",
       "2020-01-02 09:35:54  130.570  130.6200  130.5000  130.5000    5021   \n",
       "2020-01-02 09:38:32  130.465  130.5600  130.4500  130.5346    2140   \n",
       "\n",
       "                     value_of_trades  price_mean  tick_count  \\\n",
       "dates                                                          \n",
       "2020-01-02 09:30:00       130.672466  130.607500          16   \n",
       "2020-01-02 09:30:05       130.647502  130.676562          16   \n",
       "2020-01-02 09:30:29       130.649491  130.647181          16   \n",
       "2020-01-02 09:32:12       130.574894  130.579031          16   \n",
       "2020-01-02 09:32:51       130.589296  130.586669          16   \n",
       "2020-01-02 09:33:04       130.609491  130.611506          16   \n",
       "2020-01-02 09:33:32       130.589667  130.604900          16   \n",
       "2020-01-02 09:35:05       130.536972  130.544238          16   \n",
       "2020-01-02 09:35:54       130.549199  130.551112          16   \n",
       "2020-01-02 09:38:32       130.503384  130.509025          16   \n",
       "\n",
       "                     price_mean_log_return  \n",
       "dates                                       \n",
       "2020-01-02 09:30:00                    NaN  \n",
       "2020-01-02 09:30:05               0.000529  \n",
       "2020-01-02 09:30:29              -0.000225  \n",
       "2020-01-02 09:32:12              -0.000522  \n",
       "2020-01-02 09:32:51               0.000058  \n",
       "2020-01-02 09:33:04               0.000190  \n",
       "2020-01-02 09:33:32              -0.000051  \n",
       "2020-01-02 09:35:05              -0.000465  \n",
       "2020-01-02 09:35:54               0.000053  \n",
       "2020-01-02 09:38:32              -0.000322  "
      ]
     },
     "execution_count": 112,
     "metadata": {},
     "output_type": "execute_result"
    }
   ],
   "source": [
    "timeBarLen = ohlcvTime.shape[0]\n",
    "ohlcvTick = generate_tick_bar(dataframe, ticks_per_bar = 0, number_bars = timeBarLen)\n",
    "ohlcvTick.head(10)"
   ]
  },
  {
   "cell_type": "markdown",
   "metadata": {},
   "source": [
    "##### Volume Bars"
   ]
  },
  {
   "cell_type": "code",
   "execution_count": 6,
   "metadata": {},
   "outputs": [
    {
     "data": {
      "text/html": [
       "<div>\n",
       "<style scoped>\n",
       "    .dataframe tbody tr th:only-of-type {\n",
       "        vertical-align: middle;\n",
       "    }\n",
       "\n",
       "    .dataframe tbody tr th {\n",
       "        vertical-align: top;\n",
       "    }\n",
       "\n",
       "    .dataframe thead th {\n",
       "        text-align: right;\n",
       "    }\n",
       "</style>\n",
       "<table border=\"1\" class=\"dataframe\">\n",
       "  <thead>\n",
       "    <tr style=\"text-align: right;\">\n",
       "      <th></th>\n",
       "      <th>open</th>\n",
       "      <th>high</th>\n",
       "      <th>low</th>\n",
       "      <th>close</th>\n",
       "      <th>volume</th>\n",
       "      <th>value_of_trades</th>\n",
       "      <th>price_mean</th>\n",
       "      <th>tick_count</th>\n",
       "      <th>price_mean_log_return</th>\n",
       "    </tr>\n",
       "    <tr>\n",
       "      <th>dates</th>\n",
       "      <th></th>\n",
       "      <th></th>\n",
       "      <th></th>\n",
       "      <th></th>\n",
       "      <th></th>\n",
       "      <th></th>\n",
       "      <th></th>\n",
       "      <th></th>\n",
       "      <th></th>\n",
       "    </tr>\n",
       "  </thead>\n",
       "  <tbody>\n",
       "    <tr>\n",
       "      <th>2020-01-02 09:30:00</th>\n",
       "      <td>130.6800</td>\n",
       "      <td>130.6800</td>\n",
       "      <td>130.5000</td>\n",
       "      <td>130.5300</td>\n",
       "      <td>21225</td>\n",
       "      <td>130.675571</td>\n",
       "      <td>130.558000</td>\n",
       "      <td>5</td>\n",
       "      <td>NaN</td>\n",
       "    </tr>\n",
       "    <tr>\n",
       "      <th>2020-01-02 09:30:04</th>\n",
       "      <td>130.5400</td>\n",
       "      <td>130.7800</td>\n",
       "      <td>130.5200</td>\n",
       "      <td>130.7800</td>\n",
       "      <td>5913</td>\n",
       "      <td>130.716073</td>\n",
       "      <td>130.664444</td>\n",
       "      <td>18</td>\n",
       "      <td>0.000815</td>\n",
       "    </tr>\n",
       "    <tr>\n",
       "      <th>2020-01-02 09:30:12</th>\n",
       "      <td>130.5200</td>\n",
       "      <td>130.7400</td>\n",
       "      <td>130.5200</td>\n",
       "      <td>130.5700</td>\n",
       "      <td>8315</td>\n",
       "      <td>130.587541</td>\n",
       "      <td>130.632637</td>\n",
       "      <td>32</td>\n",
       "      <td>-0.000243</td>\n",
       "    </tr>\n",
       "    <tr>\n",
       "      <th>2020-01-02 09:32:50</th>\n",
       "      <td>130.5700</td>\n",
       "      <td>130.5900</td>\n",
       "      <td>130.5567</td>\n",
       "      <td>130.5900</td>\n",
       "      <td>6921</td>\n",
       "      <td>130.575836</td>\n",
       "      <td>130.576668</td>\n",
       "      <td>19</td>\n",
       "      <td>-0.000429</td>\n",
       "    </tr>\n",
       "    <tr>\n",
       "      <th>2020-01-02 09:33:04</th>\n",
       "      <td>130.6100</td>\n",
       "      <td>130.6200</td>\n",
       "      <td>130.5900</td>\n",
       "      <td>130.6200</td>\n",
       "      <td>6400</td>\n",
       "      <td>130.599844</td>\n",
       "      <td>130.602667</td>\n",
       "      <td>15</td>\n",
       "      <td>0.000199</td>\n",
       "    </tr>\n",
       "    <tr>\n",
       "      <th>2020-01-02 09:33:22</th>\n",
       "      <td>130.6100</td>\n",
       "      <td>130.6700</td>\n",
       "      <td>130.5980</td>\n",
       "      <td>130.6700</td>\n",
       "      <td>50546</td>\n",
       "      <td>130.611426</td>\n",
       "      <td>130.637436</td>\n",
       "      <td>14</td>\n",
       "      <td>0.000266</td>\n",
       "    </tr>\n",
       "    <tr>\n",
       "      <th>2020-01-02 09:34:09</th>\n",
       "      <td>130.6295</td>\n",
       "      <td>130.6295</td>\n",
       "      <td>130.5350</td>\n",
       "      <td>130.5400</td>\n",
       "      <td>6286</td>\n",
       "      <td>130.566144</td>\n",
       "      <td>130.564275</td>\n",
       "      <td>16</td>\n",
       "      <td>-0.000560</td>\n",
       "    </tr>\n",
       "    <tr>\n",
       "      <th>2020-01-02 09:35:17</th>\n",
       "      <td>130.4978</td>\n",
       "      <td>130.6200</td>\n",
       "      <td>130.4500</td>\n",
       "      <td>130.4900</td>\n",
       "      <td>7975</td>\n",
       "      <td>130.531469</td>\n",
       "      <td>130.528919</td>\n",
       "      <td>32</td>\n",
       "      <td>-0.000271</td>\n",
       "    </tr>\n",
       "    <tr>\n",
       "      <th>2020-01-02 09:39:53</th>\n",
       "      <td>130.5100</td>\n",
       "      <td>130.5600</td>\n",
       "      <td>130.5100</td>\n",
       "      <td>130.5300</td>\n",
       "      <td>7089</td>\n",
       "      <td>130.530707</td>\n",
       "      <td>130.530645</td>\n",
       "      <td>31</td>\n",
       "      <td>0.000013</td>\n",
       "    </tr>\n",
       "    <tr>\n",
       "      <th>2020-01-02 09:44:21</th>\n",
       "      <td>130.5400</td>\n",
       "      <td>130.5450</td>\n",
       "      <td>130.5250</td>\n",
       "      <td>130.5365</td>\n",
       "      <td>1848</td>\n",
       "      <td>130.538665</td>\n",
       "      <td>130.537300</td>\n",
       "      <td>5</td>\n",
       "      <td>0.000051</td>\n",
       "    </tr>\n",
       "  </tbody>\n",
       "</table>\n",
       "</div>"
      ],
      "text/plain": [
       "                         open      high       low     close  volume  \\\n",
       "dates                                                                 \n",
       "2020-01-02 09:30:00  130.6800  130.6800  130.5000  130.5300   21225   \n",
       "2020-01-02 09:30:04  130.5400  130.7800  130.5200  130.7800    5913   \n",
       "2020-01-02 09:30:12  130.5200  130.7400  130.5200  130.5700    8315   \n",
       "2020-01-02 09:32:50  130.5700  130.5900  130.5567  130.5900    6921   \n",
       "2020-01-02 09:33:04  130.6100  130.6200  130.5900  130.6200    6400   \n",
       "2020-01-02 09:33:22  130.6100  130.6700  130.5980  130.6700   50546   \n",
       "2020-01-02 09:34:09  130.6295  130.6295  130.5350  130.5400    6286   \n",
       "2020-01-02 09:35:17  130.4978  130.6200  130.4500  130.4900    7975   \n",
       "2020-01-02 09:39:53  130.5100  130.5600  130.5100  130.5300    7089   \n",
       "2020-01-02 09:44:21  130.5400  130.5450  130.5250  130.5365    1848   \n",
       "\n",
       "                     value_of_trades  price_mean  tick_count  \\\n",
       "dates                                                          \n",
       "2020-01-02 09:30:00       130.675571  130.558000           5   \n",
       "2020-01-02 09:30:04       130.716073  130.664444          18   \n",
       "2020-01-02 09:30:12       130.587541  130.632637          32   \n",
       "2020-01-02 09:32:50       130.575836  130.576668          19   \n",
       "2020-01-02 09:33:04       130.599844  130.602667          15   \n",
       "2020-01-02 09:33:22       130.611426  130.637436          14   \n",
       "2020-01-02 09:34:09       130.566144  130.564275          16   \n",
       "2020-01-02 09:35:17       130.531469  130.528919          32   \n",
       "2020-01-02 09:39:53       130.530707  130.530645          31   \n",
       "2020-01-02 09:44:21       130.538665  130.537300           5   \n",
       "\n",
       "                     price_mean_log_return  \n",
       "dates                                       \n",
       "2020-01-02 09:30:00                    NaN  \n",
       "2020-01-02 09:30:04               0.000815  \n",
       "2020-01-02 09:30:12              -0.000243  \n",
       "2020-01-02 09:32:50              -0.000429  \n",
       "2020-01-02 09:33:04               0.000199  \n",
       "2020-01-02 09:33:22               0.000266  \n",
       "2020-01-02 09:34:09              -0.000560  \n",
       "2020-01-02 09:35:17              -0.000271  \n",
       "2020-01-02 09:39:53               0.000013  \n",
       "2020-01-02 09:44:21               0.000051  "
      ]
     },
     "execution_count": 6,
     "metadata": {},
     "output_type": "execute_result"
    }
   ],
   "source": [
    "ohlcvVolume = generate_volume_bar(dataframe, volume_per_bar = 0, number_bars = timeBarLen)\n",
    "ohlcvVolume.head(10)"
   ]
  },
  {
   "cell_type": "markdown",
   "metadata": {},
   "source": [
    "##### Dollar Bars"
   ]
  },
  {
   "cell_type": "code",
   "execution_count": 8,
   "metadata": {
    "ExecuteTime": {
     "end_time": "2024-03-14T13:55:51.098267900Z",
     "start_time": "2024-03-14T13:55:45.214378100Z"
    }
   },
   "outputs": [
    {
     "data": {
      "text/html": [
       "<div>\n",
       "<style scoped>\n",
       "    .dataframe tbody tr th:only-of-type {\n",
       "        vertical-align: middle;\n",
       "    }\n",
       "\n",
       "    .dataframe tbody tr th {\n",
       "        vertical-align: top;\n",
       "    }\n",
       "\n",
       "    .dataframe thead th {\n",
       "        text-align: right;\n",
       "    }\n",
       "</style>\n",
       "<table border=\"1\" class=\"dataframe\">\n",
       "  <thead>\n",
       "    <tr style=\"text-align: right;\">\n",
       "      <th></th>\n",
       "      <th>open</th>\n",
       "      <th>high</th>\n",
       "      <th>low</th>\n",
       "      <th>close</th>\n",
       "      <th>volume</th>\n",
       "      <th>value_of_trades</th>\n",
       "      <th>price_mean</th>\n",
       "      <th>tick_count</th>\n",
       "      <th>price_mean_log_return</th>\n",
       "    </tr>\n",
       "    <tr>\n",
       "      <th>dates</th>\n",
       "      <th></th>\n",
       "      <th></th>\n",
       "      <th></th>\n",
       "      <th></th>\n",
       "      <th></th>\n",
       "      <th></th>\n",
       "      <th></th>\n",
       "      <th></th>\n",
       "      <th></th>\n",
       "    </tr>\n",
       "  </thead>\n",
       "  <tbody>\n",
       "    <tr>\n",
       "      <th>2020-01-02 09:30:00</th>\n",
       "      <td>130.6800</td>\n",
       "      <td>130.78</td>\n",
       "      <td>130.5000</td>\n",
       "      <td>130.67</td>\n",
       "      <td>24225</td>\n",
       "      <td>130.674262</td>\n",
       "      <td>130.631500</td>\n",
       "      <td>20</td>\n",
       "      <td>NaN</td>\n",
       "    </tr>\n",
       "    <tr>\n",
       "      <th>2020-01-02 09:30:05</th>\n",
       "      <td>130.6700</td>\n",
       "      <td>130.78</td>\n",
       "      <td>130.5200</td>\n",
       "      <td>130.52</td>\n",
       "      <td>4846</td>\n",
       "      <td>130.669480</td>\n",
       "      <td>130.660000</td>\n",
       "      <td>4</td>\n",
       "      <td>0.000218</td>\n",
       "    </tr>\n",
       "    <tr>\n",
       "      <th>2020-01-02 09:30:12</th>\n",
       "      <td>130.5200</td>\n",
       "      <td>130.74</td>\n",
       "      <td>130.5200</td>\n",
       "      <td>130.59</td>\n",
       "      <td>7182</td>\n",
       "      <td>130.604879</td>\n",
       "      <td>130.629840</td>\n",
       "      <td>35</td>\n",
       "      <td>-0.000231</td>\n",
       "    </tr>\n",
       "    <tr>\n",
       "      <th>2020-01-02 09:32:50</th>\n",
       "      <td>130.5700</td>\n",
       "      <td>130.59</td>\n",
       "      <td>130.5567</td>\n",
       "      <td>130.59</td>\n",
       "      <td>6121</td>\n",
       "      <td>130.575292</td>\n",
       "      <td>130.575780</td>\n",
       "      <td>15</td>\n",
       "      <td>-0.000414</td>\n",
       "    </tr>\n",
       "    <tr>\n",
       "      <th>2020-01-02 09:33:04</th>\n",
       "      <td>130.6100</td>\n",
       "      <td>130.61</td>\n",
       "      <td>130.5900</td>\n",
       "      <td>130.61</td>\n",
       "      <td>6100</td>\n",
       "      <td>130.599180</td>\n",
       "      <td>130.600769</td>\n",
       "      <td>13</td>\n",
       "      <td>0.000191</td>\n",
       "    </tr>\n",
       "    <tr>\n",
       "      <th>2020-01-02 09:33:19</th>\n",
       "      <td>130.6100</td>\n",
       "      <td>130.62</td>\n",
       "      <td>130.6100</td>\n",
       "      <td>130.62</td>\n",
       "      <td>300</td>\n",
       "      <td>130.613333</td>\n",
       "      <td>130.615000</td>\n",
       "      <td>2</td>\n",
       "      <td>0.000109</td>\n",
       "    </tr>\n",
       "    <tr>\n",
       "      <th>2020-01-02 09:33:22</th>\n",
       "      <td>130.6100</td>\n",
       "      <td>130.63</td>\n",
       "      <td>130.6100</td>\n",
       "      <td>130.63</td>\n",
       "      <td>48100</td>\n",
       "      <td>130.610042</td>\n",
       "      <td>130.620000</td>\n",
       "      <td>2</td>\n",
       "      <td>0.000038</td>\n",
       "    </tr>\n",
       "    <tr>\n",
       "      <th>2020-01-02 09:33:23</th>\n",
       "      <td>130.6300</td>\n",
       "      <td>130.67</td>\n",
       "      <td>130.5350</td>\n",
       "      <td>130.55</td>\n",
       "      <td>5832</td>\n",
       "      <td>130.602522</td>\n",
       "      <td>130.611625</td>\n",
       "      <td>20</td>\n",
       "      <td>-0.000064</td>\n",
       "    </tr>\n",
       "    <tr>\n",
       "      <th>2020-01-02 09:35:05</th>\n",
       "      <td>130.5500</td>\n",
       "      <td>130.62</td>\n",
       "      <td>130.4800</td>\n",
       "      <td>130.55</td>\n",
       "      <td>5465</td>\n",
       "      <td>130.545136</td>\n",
       "      <td>130.553600</td>\n",
       "      <td>23</td>\n",
       "      <td>-0.000444</td>\n",
       "    </tr>\n",
       "    <tr>\n",
       "      <th>2020-01-02 09:36:42</th>\n",
       "      <td>130.5592</td>\n",
       "      <td>130.57</td>\n",
       "      <td>130.4500</td>\n",
       "      <td>130.52</td>\n",
       "      <td>7010</td>\n",
       "      <td>130.530631</td>\n",
       "      <td>130.520740</td>\n",
       "      <td>30</td>\n",
       "      <td>-0.000252</td>\n",
       "    </tr>\n",
       "  </tbody>\n",
       "</table>\n",
       "</div>"
      ],
      "text/plain": [
       "                         open    high       low   close  volume  \\\n",
       "dates                                                             \n",
       "2020-01-02 09:30:00  130.6800  130.78  130.5000  130.67   24225   \n",
       "2020-01-02 09:30:05  130.6700  130.78  130.5200  130.52    4846   \n",
       "2020-01-02 09:30:12  130.5200  130.74  130.5200  130.59    7182   \n",
       "2020-01-02 09:32:50  130.5700  130.59  130.5567  130.59    6121   \n",
       "2020-01-02 09:33:04  130.6100  130.61  130.5900  130.61    6100   \n",
       "2020-01-02 09:33:19  130.6100  130.62  130.6100  130.62     300   \n",
       "2020-01-02 09:33:22  130.6100  130.63  130.6100  130.63   48100   \n",
       "2020-01-02 09:33:23  130.6300  130.67  130.5350  130.55    5832   \n",
       "2020-01-02 09:35:05  130.5500  130.62  130.4800  130.55    5465   \n",
       "2020-01-02 09:36:42  130.5592  130.57  130.4500  130.52    7010   \n",
       "\n",
       "                     value_of_trades  price_mean  tick_count  \\\n",
       "dates                                                          \n",
       "2020-01-02 09:30:00       130.674262  130.631500          20   \n",
       "2020-01-02 09:30:05       130.669480  130.660000           4   \n",
       "2020-01-02 09:30:12       130.604879  130.629840          35   \n",
       "2020-01-02 09:32:50       130.575292  130.575780          15   \n",
       "2020-01-02 09:33:04       130.599180  130.600769          13   \n",
       "2020-01-02 09:33:19       130.613333  130.615000           2   \n",
       "2020-01-02 09:33:22       130.610042  130.620000           2   \n",
       "2020-01-02 09:33:23       130.602522  130.611625          20   \n",
       "2020-01-02 09:35:05       130.545136  130.553600          23   \n",
       "2020-01-02 09:36:42       130.530631  130.520740          30   \n",
       "\n",
       "                     price_mean_log_return  \n",
       "dates                                       \n",
       "2020-01-02 09:30:00                    NaN  \n",
       "2020-01-02 09:30:05               0.000218  \n",
       "2020-01-02 09:30:12              -0.000231  \n",
       "2020-01-02 09:32:50              -0.000414  \n",
       "2020-01-02 09:33:04               0.000191  \n",
       "2020-01-02 09:33:19               0.000109  \n",
       "2020-01-02 09:33:22               0.000038  \n",
       "2020-01-02 09:33:23              -0.000064  \n",
       "2020-01-02 09:35:05              -0.000444  \n",
       "2020-01-02 09:36:42              -0.000252  "
      ]
     },
     "execution_count": 8,
     "metadata": {},
     "output_type": "execute_result"
    }
   ],
   "source": [
    "ohlcvDollar = generate_dollar_bar(dataframe, dollar_per_bar = 0, number_bars = timeBarLen)\n",
    "ohlcvDollar.head(10)"
   ]
  },
  {
   "attachments": {},
   "cell_type": "markdown",
   "metadata": {},
   "source": [
    "#### Stability"
   ]
  },
  {
   "cell_type": "code",
   "execution_count": 189,
   "metadata": {
    "ExecuteTime": {
     "end_time": "2024-03-14T13:56:28.844082400Z",
     "start_time": "2024-03-14T13:56:28.809826800Z"
    }
   },
   "outputs": [
    {
     "data": {
      "text/html": [
       "<div>\n",
       "<style scoped>\n",
       "    .dataframe tbody tr th:only-of-type {\n",
       "        vertical-align: middle;\n",
       "    }\n",
       "\n",
       "    .dataframe tbody tr th {\n",
       "        vertical-align: top;\n",
       "    }\n",
       "\n",
       "    .dataframe thead th {\n",
       "        text-align: right;\n",
       "    }\n",
       "</style>\n",
       "<table border=\"1\" class=\"dataframe\">\n",
       "  <thead>\n",
       "    <tr style=\"text-align: right;\">\n",
       "      <th></th>\n",
       "      <th>time</th>\n",
       "      <th>tick</th>\n",
       "      <th>volume</th>\n",
       "      <th>dollar</th>\n",
       "    </tr>\n",
       "    <tr>\n",
       "      <th>dates</th>\n",
       "      <th></th>\n",
       "      <th></th>\n",
       "      <th></th>\n",
       "      <th></th>\n",
       "    </tr>\n",
       "  </thead>\n",
       "  <tbody>\n",
       "    <tr>\n",
       "      <th>2020-01-05</th>\n",
       "      <td>13.676301</td>\n",
       "      <td>16.0</td>\n",
       "      <td>13.917647</td>\n",
       "      <td>11.889447</td>\n",
       "    </tr>\n",
       "    <tr>\n",
       "      <th>2020-01-12</th>\n",
       "      <td>11.848214</td>\n",
       "      <td>16.0</td>\n",
       "      <td>16.518672</td>\n",
       "      <td>14.067138</td>\n",
       "    </tr>\n",
       "    <tr>\n",
       "      <th>2020-01-19</th>\n",
       "      <td>12.035714</td>\n",
       "      <td>16.0</td>\n",
       "      <td>19.536232</td>\n",
       "      <td>16.850000</td>\n",
       "    </tr>\n",
       "    <tr>\n",
       "      <th>2020-01-26</th>\n",
       "      <td>9.526786</td>\n",
       "      <td>16.0</td>\n",
       "      <td>17.788889</td>\n",
       "      <td>15.247619</td>\n",
       "    </tr>\n",
       "    <tr>\n",
       "      <th>2020-02-02</th>\n",
       "      <td>15.601190</td>\n",
       "      <td>16.0</td>\n",
       "      <td>20.552941</td>\n",
       "      <td>17.826531</td>\n",
       "    </tr>\n",
       "    <tr>\n",
       "      <th>2020-02-09</th>\n",
       "      <td>11.348214</td>\n",
       "      <td>16.0</td>\n",
       "      <td>17.652778</td>\n",
       "      <td>15.627049</td>\n",
       "    </tr>\n",
       "    <tr>\n",
       "      <th>2020-02-16</th>\n",
       "      <td>7.669643</td>\n",
       "      <td>16.0</td>\n",
       "      <td>18.539568</td>\n",
       "      <td>15.907407</td>\n",
       "    </tr>\n",
       "    <tr>\n",
       "      <th>2020-02-23</th>\n",
       "      <td>7.125000</td>\n",
       "      <td>16.0</td>\n",
       "      <td>17.873134</td>\n",
       "      <td>15.653595</td>\n",
       "    </tr>\n",
       "    <tr>\n",
       "      <th>2020-03-01</th>\n",
       "      <td>45.872024</td>\n",
       "      <td>16.0</td>\n",
       "      <td>23.860681</td>\n",
       "      <td>22.469388</td>\n",
       "    </tr>\n",
       "    <tr>\n",
       "      <th>2020-03-08</th>\n",
       "      <td>38.657738</td>\n",
       "      <td>16.0</td>\n",
       "      <td>26.185484</td>\n",
       "      <td>25.025048</td>\n",
       "    </tr>\n",
       "  </tbody>\n",
       "</table>\n",
       "</div>"
      ],
      "text/plain": [
       "                 time  tick     volume     dollar\n",
       "dates                                            \n",
       "2020-01-05  13.676301  16.0  13.917647  11.889447\n",
       "2020-01-12  11.848214  16.0  16.518672  14.067138\n",
       "2020-01-19  12.035714  16.0  19.536232  16.850000\n",
       "2020-01-26   9.526786  16.0  17.788889  15.247619\n",
       "2020-02-02  15.601190  16.0  20.552941  17.826531\n",
       "2020-02-09  11.348214  16.0  17.652778  15.627049\n",
       "2020-02-16   7.669643  16.0  18.539568  15.907407\n",
       "2020-02-23   7.125000  16.0  17.873134  15.653595\n",
       "2020-03-01  45.872024  16.0  23.860681  22.469388\n",
       "2020-03-08  38.657738  16.0  26.185484  25.025048"
      ]
     },
     "execution_count": 189,
     "metadata": {},
     "output_type": "execute_result"
    }
   ],
   "source": [
    "countAverage = pd.DataFrame()\n",
    "countAverage['time'] = ohlcvTime.resample(\"1W\")['tick_count'].mean()\n",
    "countAverage['tick'] = ohlcvTick.resample(\"1W\")['tick_count'].mean()\n",
    "countAverage['volume'] = ohlcvVolume.resample(\"1W\")['tick_count'].mean()\n",
    "countAverage['dollar'] = ohlcvDollar.resample(\"1W\")['tick_count'].mean()\n",
    "countAverage.head(10)"
   ]
  },
  {
   "cell_type": "code",
   "execution_count": 192,
   "metadata": {
    "ExecuteTime": {
     "end_time": "2024-03-14T13:56:59.834015100Z",
     "start_time": "2024-03-14T13:56:59.793427500Z"
    }
   },
   "outputs": [
    {
     "data": {
      "application/vnd.plotly.v1+json": {
       "config": {
        "plotlyServerURL": "https://plot.ly"
       },
       "data": [
        {
         "name": "Time",
         "type": "scatter",
         "x": [
          "2020-01-05T00:00:00",
          "2020-01-12T00:00:00",
          "2020-01-19T00:00:00",
          "2020-01-26T00:00:00",
          "2020-02-02T00:00:00",
          "2020-02-09T00:00:00",
          "2020-02-16T00:00:00",
          "2020-02-23T00:00:00",
          "2020-03-01T00:00:00",
          "2020-03-08T00:00:00",
          "2020-03-15T00:00:00",
          "2020-03-22T00:00:00",
          "2020-03-29T00:00:00",
          "2020-04-05T00:00:00",
          "2020-04-12T00:00:00",
          "2020-04-19T00:00:00",
          "2020-04-26T00:00:00",
          "2020-05-03T00:00:00",
          "2020-05-10T00:00:00",
          "2020-05-17T00:00:00",
          "2020-05-24T00:00:00",
          "2020-05-31T00:00:00",
          "2020-06-07T00:00:00",
          "2020-06-14T00:00:00",
          "2020-06-21T00:00:00",
          "2020-06-28T00:00:00",
          "2020-07-05T00:00:00",
          "2020-07-12T00:00:00",
          "2020-07-19T00:00:00",
          "2020-07-26T00:00:00",
          "2020-08-02T00:00:00",
          "2020-08-09T00:00:00",
          "2020-08-16T00:00:00",
          "2020-08-23T00:00:00",
          "2020-08-30T00:00:00",
          "2020-09-06T00:00:00",
          "2020-09-13T00:00:00",
          "2020-09-20T00:00:00",
          "2020-09-27T00:00:00",
          "2020-10-04T00:00:00",
          "2020-10-11T00:00:00",
          "2020-10-18T00:00:00",
          "2020-10-25T00:00:00",
          "2020-11-01T00:00:00",
          "2020-11-08T00:00:00",
          "2020-11-15T00:00:00",
          "2020-11-22T00:00:00",
          "2020-11-29T00:00:00",
          "2020-12-06T00:00:00",
          "2020-12-13T00:00:00",
          "2020-12-20T00:00:00",
          "2020-12-27T00:00:00",
          "2021-01-03T00:00:00"
         ],
         "y": [
          13.676300578034683,
          11.848214285714286,
          12.035714285714286,
          9.526785714285714,
          15.601190476190476,
          11.348214285714286,
          7.669642857142857,
          7.125,
          45.87202380952381,
          38.657738095238095,
          56.42857142857143,
          73.85714285714286,
          74.31845238095238,
          37.773809523809526,
          28.270833333333332,
          19.479166666666668,
          12.0625,
          12.607142857142858,
          11.699404761904763,
          14.086309523809524,
          11.154761904761905,
          12.69047619047619,
          10.077380952380953,
          20.485119047619047,
          15.806547619047619,
          11.842261904761905,
          7.907738095238095,
          9.93452380952381,
          10.860119047619047,
          6.6726190476190474,
          6.196428571428571,
          6.404761904761905,
          8.428571428571429,
          6.8898809523809526,
          6.5625,
          10.93452380952381,
          7.75,
          7.455357142857143,
          9.577380952380953,
          8.75,
          7.708333333333333,
          6.3273809523809526,
          7.526785714285714,
          10.300595238095237,
          13.360119047619047,
          26.50297619047619,
          15.145833333333334,
          9.571428571428571,
          11.553571428571429,
          10.011904761904763,
          9.086309523809524,
          6.657738095238095,
          11.301136363636363
         ]
        },
        {
         "name": "Tick",
         "type": "scatter",
         "x": [
          "2020-01-05T00:00:00",
          "2020-01-12T00:00:00",
          "2020-01-19T00:00:00",
          "2020-01-26T00:00:00",
          "2020-02-02T00:00:00",
          "2020-02-09T00:00:00",
          "2020-02-16T00:00:00",
          "2020-02-23T00:00:00",
          "2020-03-01T00:00:00",
          "2020-03-08T00:00:00",
          "2020-03-15T00:00:00",
          "2020-03-22T00:00:00",
          "2020-03-29T00:00:00",
          "2020-04-05T00:00:00",
          "2020-04-12T00:00:00",
          "2020-04-19T00:00:00",
          "2020-04-26T00:00:00",
          "2020-05-03T00:00:00",
          "2020-05-10T00:00:00",
          "2020-05-17T00:00:00",
          "2020-05-24T00:00:00",
          "2020-05-31T00:00:00",
          "2020-06-07T00:00:00",
          "2020-06-14T00:00:00",
          "2020-06-21T00:00:00",
          "2020-06-28T00:00:00",
          "2020-07-05T00:00:00",
          "2020-07-12T00:00:00",
          "2020-07-19T00:00:00",
          "2020-07-26T00:00:00",
          "2020-08-02T00:00:00",
          "2020-08-09T00:00:00",
          "2020-08-16T00:00:00",
          "2020-08-23T00:00:00",
          "2020-08-30T00:00:00",
          "2020-09-06T00:00:00",
          "2020-09-13T00:00:00",
          "2020-09-20T00:00:00",
          "2020-09-27T00:00:00",
          "2020-10-04T00:00:00",
          "2020-10-11T00:00:00",
          "2020-10-18T00:00:00",
          "2020-10-25T00:00:00",
          "2020-11-01T00:00:00",
          "2020-11-08T00:00:00",
          "2020-11-15T00:00:00",
          "2020-11-22T00:00:00",
          "2020-11-29T00:00:00",
          "2020-12-06T00:00:00",
          "2020-12-13T00:00:00",
          "2020-12-20T00:00:00",
          "2020-12-27T00:00:00",
          "2021-01-03T00:00:00"
         ],
         "y": [
          16,
          16,
          16,
          16,
          16,
          16,
          16,
          16,
          16,
          16,
          16,
          16,
          16,
          16,
          16,
          16,
          16,
          16,
          16,
          16,
          16,
          16,
          16,
          16,
          16,
          16,
          16,
          16,
          16,
          16,
          16,
          16,
          16,
          16,
          16,
          16,
          16,
          16,
          16,
          16,
          16,
          16,
          16,
          16,
          16,
          16,
          16,
          16,
          16,
          16,
          16,
          16,
          15.951612903225806
         ]
        },
        {
         "name": "Volume",
         "type": "scatter",
         "x": [
          "2020-01-05T00:00:00",
          "2020-01-12T00:00:00",
          "2020-01-19T00:00:00",
          "2020-01-26T00:00:00",
          "2020-02-02T00:00:00",
          "2020-02-09T00:00:00",
          "2020-02-16T00:00:00",
          "2020-02-23T00:00:00",
          "2020-03-01T00:00:00",
          "2020-03-08T00:00:00",
          "2020-03-15T00:00:00",
          "2020-03-22T00:00:00",
          "2020-03-29T00:00:00",
          "2020-04-05T00:00:00",
          "2020-04-12T00:00:00",
          "2020-04-19T00:00:00",
          "2020-04-26T00:00:00",
          "2020-05-03T00:00:00",
          "2020-05-10T00:00:00",
          "2020-05-17T00:00:00",
          "2020-05-24T00:00:00",
          "2020-05-31T00:00:00",
          "2020-06-07T00:00:00",
          "2020-06-14T00:00:00",
          "2020-06-21T00:00:00",
          "2020-06-28T00:00:00",
          "2020-07-05T00:00:00",
          "2020-07-12T00:00:00",
          "2020-07-19T00:00:00",
          "2020-07-26T00:00:00",
          "2020-08-02T00:00:00",
          "2020-08-09T00:00:00",
          "2020-08-16T00:00:00",
          "2020-08-23T00:00:00",
          "2020-08-30T00:00:00",
          "2020-09-06T00:00:00",
          "2020-09-13T00:00:00",
          "2020-09-20T00:00:00",
          "2020-09-27T00:00:00",
          "2020-10-04T00:00:00",
          "2020-10-11T00:00:00",
          "2020-10-18T00:00:00",
          "2020-10-25T00:00:00",
          "2020-11-01T00:00:00",
          "2020-11-08T00:00:00",
          "2020-11-15T00:00:00",
          "2020-11-22T00:00:00",
          "2020-11-29T00:00:00",
          "2020-12-06T00:00:00",
          "2020-12-13T00:00:00",
          "2020-12-20T00:00:00",
          "2020-12-27T00:00:00",
          "2021-01-03T00:00:00"
         ],
         "y": [
          13.91764705882353,
          16.518672199170126,
          19.536231884057973,
          17.788888888888888,
          20.55294117647059,
          17.65277777777778,
          18.53956834532374,
          17.87313432835821,
          23.860681114551085,
          26.18548387096774,
          22.624105011933175,
          26.094637223974765,
          24.797418073485602,
          18.261870503597123,
          19.70746887966805,
          17.088772845953002,
          16.408906882591094,
          16.952,
          14.826415094339623,
          17.537037037037038,
          16.648888888888887,
          17.9957805907173,
          14.222689075630251,
          19.337078651685392,
          20.423076923076923,
          20.723958333333332,
          17.95945945945946,
          14.769911504424778,
          18.331658291457288,
          16.014285714285716,
          16.79032258064516,
          17.35483870967742,
          16.95808383233533,
          17.406015037593985,
          17.093023255813954,
          20.07650273224044,
          19.432835820895523,
          17.892857142857142,
          17.877777777777776,
          17.3,
          16.49044585987261,
          18.649122807017545,
          17.32191780821918,
          16.402843601895736,
          16.323636363636364,
          19.235421166306697,
          19.123595505617978,
          14.805555555555555,
          19.123152709359605,
          18.585635359116022,
          17.357954545454547,
          16.313868613138688,
          16.30327868852459
         ]
        },
        {
         "name": "Dollar",
         "type": "scatter",
         "x": [
          "2020-01-05T00:00:00",
          "2020-01-12T00:00:00",
          "2020-01-19T00:00:00",
          "2020-01-26T00:00:00",
          "2020-02-02T00:00:00",
          "2020-02-09T00:00:00",
          "2020-02-16T00:00:00",
          "2020-02-23T00:00:00",
          "2020-03-01T00:00:00",
          "2020-03-08T00:00:00",
          "2020-03-15T00:00:00",
          "2020-03-22T00:00:00",
          "2020-03-29T00:00:00",
          "2020-04-05T00:00:00",
          "2020-04-12T00:00:00",
          "2020-04-19T00:00:00",
          "2020-04-26T00:00:00",
          "2020-05-03T00:00:00",
          "2020-05-10T00:00:00",
          "2020-05-17T00:00:00",
          "2020-05-24T00:00:00",
          "2020-05-31T00:00:00",
          "2020-06-07T00:00:00",
          "2020-06-14T00:00:00",
          "2020-06-21T00:00:00",
          "2020-06-28T00:00:00",
          "2020-07-05T00:00:00",
          "2020-07-12T00:00:00",
          "2020-07-19T00:00:00",
          "2020-07-26T00:00:00",
          "2020-08-02T00:00:00",
          "2020-08-09T00:00:00",
          "2020-08-16T00:00:00",
          "2020-08-23T00:00:00",
          "2020-08-30T00:00:00",
          "2020-09-06T00:00:00",
          "2020-09-13T00:00:00",
          "2020-09-20T00:00:00",
          "2020-09-27T00:00:00",
          "2020-10-04T00:00:00",
          "2020-10-11T00:00:00",
          "2020-10-18T00:00:00",
          "2020-10-25T00:00:00",
          "2020-11-01T00:00:00",
          "2020-11-08T00:00:00",
          "2020-11-15T00:00:00",
          "2020-11-22T00:00:00",
          "2020-11-29T00:00:00",
          "2020-12-06T00:00:00",
          "2020-12-13T00:00:00",
          "2020-12-20T00:00:00",
          "2020-12-27T00:00:00",
          "2021-01-03T00:00:00"
         ],
         "y": [
          11.889447236180905,
          14.06713780918728,
          16.85,
          15.247619047619047,
          17.8265306122449,
          15.62704918032787,
          15.907407407407407,
          15.65359477124183,
          22.46938775510204,
          25.02504816955684,
          24.686197916666668,
          31.693486590038315,
          29.833930704898446,
          21.33109243697479,
          21.637813211845103,
          18.08011049723757,
          17.42489270386266,
          17.694560669456067,
          15.78714859437751,
          18.94,
          17.50467289719626,
          18.38362068965517,
          14.222689075630251,
          18.96418732782369,
          20.58139534883721,
          21.743169398907103,
          18.587412587412587,
          15.242009132420092,
          18.517766497461928,
          16.014285714285716,
          16.523809523809526,
          17.07936507936508,
          16.275862068965516,
          16.654676258992804,
          16.83206106870229,
          19.23560209424084,
          18.869565217391305,
          17.594405594405593,
          18.11864406779661,
          17.19298245614035,
          15.792682926829269,
          17.42622950819672,
          16.638157894736842,
          16.172897196261683,
          15.862190812720849,
          17.847695390781563,
          17.46232876712329,
          13.466386554621849,
          17.17699115044248,
          16.49019607843137,
          15.58673469387755,
          14.607843137254902,
          14.309352517985612
         ]
        }
       ],
       "layout": {
        "legend": {
         "x": 1,
         "xanchor": "auto",
         "y": 1,
         "yanchor": "auto"
        },
        "paper_bgcolor": "rgba(0,0,0,0)",
        "plot_bgcolor": "rgba(0,0,0,0)",
        "template": {
         "data": {
          "bar": [
           {
            "error_x": {
             "color": "#f2f5fa"
            },
            "error_y": {
             "color": "#f2f5fa"
            },
            "marker": {
             "line": {
              "color": "rgb(17,17,17)",
              "width": 0.5
             },
             "pattern": {
              "fillmode": "overlay",
              "size": 10,
              "solidity": 0.2
             }
            },
            "type": "bar"
           }
          ],
          "barpolar": [
           {
            "marker": {
             "line": {
              "color": "rgb(17,17,17)",
              "width": 0.5
             },
             "pattern": {
              "fillmode": "overlay",
              "size": 10,
              "solidity": 0.2
             }
            },
            "type": "barpolar"
           }
          ],
          "carpet": [
           {
            "aaxis": {
             "endlinecolor": "#A2B1C6",
             "gridcolor": "#506784",
             "linecolor": "#506784",
             "minorgridcolor": "#506784",
             "startlinecolor": "#A2B1C6"
            },
            "baxis": {
             "endlinecolor": "#A2B1C6",
             "gridcolor": "#506784",
             "linecolor": "#506784",
             "minorgridcolor": "#506784",
             "startlinecolor": "#A2B1C6"
            },
            "type": "carpet"
           }
          ],
          "choropleth": [
           {
            "colorbar": {
             "outlinewidth": 0,
             "ticks": ""
            },
            "type": "choropleth"
           }
          ],
          "contour": [
           {
            "colorbar": {
             "outlinewidth": 0,
             "ticks": ""
            },
            "colorscale": [
             [
              0,
              "#0d0887"
             ],
             [
              0.1111111111111111,
              "#46039f"
             ],
             [
              0.2222222222222222,
              "#7201a8"
             ],
             [
              0.3333333333333333,
              "#9c179e"
             ],
             [
              0.4444444444444444,
              "#bd3786"
             ],
             [
              0.5555555555555556,
              "#d8576b"
             ],
             [
              0.6666666666666666,
              "#ed7953"
             ],
             [
              0.7777777777777778,
              "#fb9f3a"
             ],
             [
              0.8888888888888888,
              "#fdca26"
             ],
             [
              1,
              "#f0f921"
             ]
            ],
            "type": "contour"
           }
          ],
          "contourcarpet": [
           {
            "colorbar": {
             "outlinewidth": 0,
             "ticks": ""
            },
            "type": "contourcarpet"
           }
          ],
          "heatmap": [
           {
            "colorbar": {
             "outlinewidth": 0,
             "ticks": ""
            },
            "colorscale": [
             [
              0,
              "#0d0887"
             ],
             [
              0.1111111111111111,
              "#46039f"
             ],
             [
              0.2222222222222222,
              "#7201a8"
             ],
             [
              0.3333333333333333,
              "#9c179e"
             ],
             [
              0.4444444444444444,
              "#bd3786"
             ],
             [
              0.5555555555555556,
              "#d8576b"
             ],
             [
              0.6666666666666666,
              "#ed7953"
             ],
             [
              0.7777777777777778,
              "#fb9f3a"
             ],
             [
              0.8888888888888888,
              "#fdca26"
             ],
             [
              1,
              "#f0f921"
             ]
            ],
            "type": "heatmap"
           }
          ],
          "heatmapgl": [
           {
            "colorbar": {
             "outlinewidth": 0,
             "ticks": ""
            },
            "colorscale": [
             [
              0,
              "#0d0887"
             ],
             [
              0.1111111111111111,
              "#46039f"
             ],
             [
              0.2222222222222222,
              "#7201a8"
             ],
             [
              0.3333333333333333,
              "#9c179e"
             ],
             [
              0.4444444444444444,
              "#bd3786"
             ],
             [
              0.5555555555555556,
              "#d8576b"
             ],
             [
              0.6666666666666666,
              "#ed7953"
             ],
             [
              0.7777777777777778,
              "#fb9f3a"
             ],
             [
              0.8888888888888888,
              "#fdca26"
             ],
             [
              1,
              "#f0f921"
             ]
            ],
            "type": "heatmapgl"
           }
          ],
          "histogram": [
           {
            "marker": {
             "pattern": {
              "fillmode": "overlay",
              "size": 10,
              "solidity": 0.2
             }
            },
            "type": "histogram"
           }
          ],
          "histogram2d": [
           {
            "colorbar": {
             "outlinewidth": 0,
             "ticks": ""
            },
            "colorscale": [
             [
              0,
              "#0d0887"
             ],
             [
              0.1111111111111111,
              "#46039f"
             ],
             [
              0.2222222222222222,
              "#7201a8"
             ],
             [
              0.3333333333333333,
              "#9c179e"
             ],
             [
              0.4444444444444444,
              "#bd3786"
             ],
             [
              0.5555555555555556,
              "#d8576b"
             ],
             [
              0.6666666666666666,
              "#ed7953"
             ],
             [
              0.7777777777777778,
              "#fb9f3a"
             ],
             [
              0.8888888888888888,
              "#fdca26"
             ],
             [
              1,
              "#f0f921"
             ]
            ],
            "type": "histogram2d"
           }
          ],
          "histogram2dcontour": [
           {
            "colorbar": {
             "outlinewidth": 0,
             "ticks": ""
            },
            "colorscale": [
             [
              0,
              "#0d0887"
             ],
             [
              0.1111111111111111,
              "#46039f"
             ],
             [
              0.2222222222222222,
              "#7201a8"
             ],
             [
              0.3333333333333333,
              "#9c179e"
             ],
             [
              0.4444444444444444,
              "#bd3786"
             ],
             [
              0.5555555555555556,
              "#d8576b"
             ],
             [
              0.6666666666666666,
              "#ed7953"
             ],
             [
              0.7777777777777778,
              "#fb9f3a"
             ],
             [
              0.8888888888888888,
              "#fdca26"
             ],
             [
              1,
              "#f0f921"
             ]
            ],
            "type": "histogram2dcontour"
           }
          ],
          "mesh3d": [
           {
            "colorbar": {
             "outlinewidth": 0,
             "ticks": ""
            },
            "type": "mesh3d"
           }
          ],
          "parcoords": [
           {
            "line": {
             "colorbar": {
              "outlinewidth": 0,
              "ticks": ""
             }
            },
            "type": "parcoords"
           }
          ],
          "pie": [
           {
            "automargin": true,
            "type": "pie"
           }
          ],
          "scatter": [
           {
            "marker": {
             "line": {
              "color": "#283442"
             }
            },
            "type": "scatter"
           }
          ],
          "scatter3d": [
           {
            "line": {
             "colorbar": {
              "outlinewidth": 0,
              "ticks": ""
             }
            },
            "marker": {
             "colorbar": {
              "outlinewidth": 0,
              "ticks": ""
             }
            },
            "type": "scatter3d"
           }
          ],
          "scattercarpet": [
           {
            "marker": {
             "colorbar": {
              "outlinewidth": 0,
              "ticks": ""
             }
            },
            "type": "scattercarpet"
           }
          ],
          "scattergeo": [
           {
            "marker": {
             "colorbar": {
              "outlinewidth": 0,
              "ticks": ""
             }
            },
            "type": "scattergeo"
           }
          ],
          "scattergl": [
           {
            "marker": {
             "line": {
              "color": "#283442"
             }
            },
            "type": "scattergl"
           }
          ],
          "scattermapbox": [
           {
            "marker": {
             "colorbar": {
              "outlinewidth": 0,
              "ticks": ""
             }
            },
            "type": "scattermapbox"
           }
          ],
          "scatterpolar": [
           {
            "marker": {
             "colorbar": {
              "outlinewidth": 0,
              "ticks": ""
             }
            },
            "type": "scatterpolar"
           }
          ],
          "scatterpolargl": [
           {
            "marker": {
             "colorbar": {
              "outlinewidth": 0,
              "ticks": ""
             }
            },
            "type": "scatterpolargl"
           }
          ],
          "scatterternary": [
           {
            "marker": {
             "colorbar": {
              "outlinewidth": 0,
              "ticks": ""
             }
            },
            "type": "scatterternary"
           }
          ],
          "surface": [
           {
            "colorbar": {
             "outlinewidth": 0,
             "ticks": ""
            },
            "colorscale": [
             [
              0,
              "#0d0887"
             ],
             [
              0.1111111111111111,
              "#46039f"
             ],
             [
              0.2222222222222222,
              "#7201a8"
             ],
             [
              0.3333333333333333,
              "#9c179e"
             ],
             [
              0.4444444444444444,
              "#bd3786"
             ],
             [
              0.5555555555555556,
              "#d8576b"
             ],
             [
              0.6666666666666666,
              "#ed7953"
             ],
             [
              0.7777777777777778,
              "#fb9f3a"
             ],
             [
              0.8888888888888888,
              "#fdca26"
             ],
             [
              1,
              "#f0f921"
             ]
            ],
            "type": "surface"
           }
          ],
          "table": [
           {
            "cells": {
             "fill": {
              "color": "#506784"
             },
             "line": {
              "color": "rgb(17,17,17)"
             }
            },
            "header": {
             "fill": {
              "color": "#2a3f5f"
             },
             "line": {
              "color": "rgb(17,17,17)"
             }
            },
            "type": "table"
           }
          ]
         },
         "layout": {
          "annotationdefaults": {
           "arrowcolor": "#f2f5fa",
           "arrowhead": 0,
           "arrowwidth": 1
          },
          "autotypenumbers": "strict",
          "coloraxis": {
           "colorbar": {
            "outlinewidth": 0,
            "ticks": ""
           }
          },
          "colorscale": {
           "diverging": [
            [
             0,
             "#8e0152"
            ],
            [
             0.1,
             "#c51b7d"
            ],
            [
             0.2,
             "#de77ae"
            ],
            [
             0.3,
             "#f1b6da"
            ],
            [
             0.4,
             "#fde0ef"
            ],
            [
             0.5,
             "#f7f7f7"
            ],
            [
             0.6,
             "#e6f5d0"
            ],
            [
             0.7,
             "#b8e186"
            ],
            [
             0.8,
             "#7fbc41"
            ],
            [
             0.9,
             "#4d9221"
            ],
            [
             1,
             "#276419"
            ]
           ],
           "sequential": [
            [
             0,
             "#0d0887"
            ],
            [
             0.1111111111111111,
             "#46039f"
            ],
            [
             0.2222222222222222,
             "#7201a8"
            ],
            [
             0.3333333333333333,
             "#9c179e"
            ],
            [
             0.4444444444444444,
             "#bd3786"
            ],
            [
             0.5555555555555556,
             "#d8576b"
            ],
            [
             0.6666666666666666,
             "#ed7953"
            ],
            [
             0.7777777777777778,
             "#fb9f3a"
            ],
            [
             0.8888888888888888,
             "#fdca26"
            ],
            [
             1,
             "#f0f921"
            ]
           ],
           "sequentialminus": [
            [
             0,
             "#0d0887"
            ],
            [
             0.1111111111111111,
             "#46039f"
            ],
            [
             0.2222222222222222,
             "#7201a8"
            ],
            [
             0.3333333333333333,
             "#9c179e"
            ],
            [
             0.4444444444444444,
             "#bd3786"
            ],
            [
             0.5555555555555556,
             "#d8576b"
            ],
            [
             0.6666666666666666,
             "#ed7953"
            ],
            [
             0.7777777777777778,
             "#fb9f3a"
            ],
            [
             0.8888888888888888,
             "#fdca26"
            ],
            [
             1,
             "#f0f921"
            ]
           ]
          },
          "colorway": [
           "#636efa",
           "#EF553B",
           "#00cc96",
           "#ab63fa",
           "#FFA15A",
           "#19d3f3",
           "#FF6692",
           "#B6E880",
           "#FF97FF",
           "#FECB52"
          ],
          "font": {
           "color": "#f2f5fa"
          },
          "geo": {
           "bgcolor": "rgb(17,17,17)",
           "lakecolor": "rgb(17,17,17)",
           "landcolor": "rgb(17,17,17)",
           "showlakes": true,
           "showland": true,
           "subunitcolor": "#506784"
          },
          "hoverlabel": {
           "align": "left"
          },
          "hovermode": "closest",
          "mapbox": {
           "style": "dark"
          },
          "paper_bgcolor": "rgb(17,17,17)",
          "plot_bgcolor": "rgb(17,17,17)",
          "polar": {
           "angularaxis": {
            "gridcolor": "#506784",
            "linecolor": "#506784",
            "ticks": ""
           },
           "bgcolor": "rgb(17,17,17)",
           "radialaxis": {
            "gridcolor": "#506784",
            "linecolor": "#506784",
            "ticks": ""
           }
          },
          "scene": {
           "xaxis": {
            "backgroundcolor": "rgb(17,17,17)",
            "gridcolor": "#506784",
            "gridwidth": 2,
            "linecolor": "#506784",
            "showbackground": true,
            "ticks": "",
            "zerolinecolor": "#C8D4E3"
           },
           "yaxis": {
            "backgroundcolor": "rgb(17,17,17)",
            "gridcolor": "#506784",
            "gridwidth": 2,
            "linecolor": "#506784",
            "showbackground": true,
            "ticks": "",
            "zerolinecolor": "#C8D4E3"
           },
           "zaxis": {
            "backgroundcolor": "rgb(17,17,17)",
            "gridcolor": "#506784",
            "gridwidth": 2,
            "linecolor": "#506784",
            "showbackground": true,
            "ticks": "",
            "zerolinecolor": "#C8D4E3"
           }
          },
          "shapedefaults": {
           "line": {
            "color": "#f2f5fa"
           }
          },
          "sliderdefaults": {
           "bgcolor": "#C8D4E3",
           "bordercolor": "rgb(17,17,17)",
           "borderwidth": 1,
           "tickwidth": 0
          },
          "ternary": {
           "aaxis": {
            "gridcolor": "#506784",
            "linecolor": "#506784",
            "ticks": ""
           },
           "baxis": {
            "gridcolor": "#506784",
            "linecolor": "#506784",
            "ticks": ""
           },
           "bgcolor": "rgb(17,17,17)",
           "caxis": {
            "gridcolor": "#506784",
            "linecolor": "#506784",
            "ticks": ""
           }
          },
          "title": {
           "x": 0.05
          },
          "updatemenudefaults": {
           "bgcolor": "#506784",
           "borderwidth": 0
          },
          "xaxis": {
           "automargin": true,
           "gridcolor": "#283442",
           "linecolor": "#506784",
           "ticks": "",
           "title": {
            "standoff": 15
           },
           "zerolinecolor": "#283442",
           "zerolinewidth": 2
          },
          "yaxis": {
           "automargin": true,
           "gridcolor": "#283442",
           "linecolor": "#506784",
           "ticks": "",
           "title": {
            "standoff": 15
           },
           "zerolinecolor": "#283442",
           "zerolinewidth": 2
          }
         }
        },
        "title": {
         "text": "Standard Bars Frequency"
        },
        "xaxis": {
         "title": {
          "text": "Date"
         }
        },
        "yaxis": {
         "title": {
          "text": "Frequency"
         }
        }
       }
      }
     },
     "metadata": {},
     "output_type": "display_data"
    }
   ],
   "source": [
    "fig = go.Figure()\n",
    "# Create and style traces\n",
    "fig.add_trace(go.Scatter(x=countAverage.index, y=countAverage.time, name='Time'))\n",
    "fig.add_trace(go.Scatter(x=countAverage.index, y=countAverage.tick, name='Tick'))\n",
    "fig.add_trace(go.Scatter(x=countAverage.index, y=countAverage.volume, name='Volume'))\n",
    "fig.add_trace(go.Scatter(x=countAverage.index, y=countAverage.dollar, name='Dollar'))\n",
    "\n",
    "# Use the function to update layout\n",
    "update_figure_layout(\n",
    "    fig,\n",
    "    title=\"Standard Bars Frequency\",\n",
    "    xaxis_title=\"Date\",\n",
    "    yaxis_title=\"Frequency\"\n",
    ")\n",
    "# Save countAverage data to Excel without overwriting previous sheets\n",
    "with pd.ExcelWriter(excel_file_path, engine='openpyxl', mode='a', if_sheet_exists='overlay') as writer:\n",
    "    countAverage.to_excel(writer, sheet_name='Standard Bars Frequency')\n",
    "\n",
    "# Show the plot\n",
    "fig.show()"
   ]
  },
  {
   "attachments": {},
   "cell_type": "markdown",
   "metadata": {},
   "source": [
    "#### Normality"
   ]
  },
  {
   "attachments": {},
   "cell_type": "markdown",
   "metadata": {},
   "source": [
    "##### Jarque-Bera Test"
   ]
  },
  {
   "cell_type": "code",
   "execution_count": 17,
   "metadata": {
    "ExecuteTime": {
     "end_time": "2024-03-14T13:57:10.827133600Z",
     "start_time": "2024-03-14T13:57:10.791806800Z"
    }
   },
   "outputs": [
    {
     "data": {
      "text/html": [
       "<div>\n",
       "<style scoped>\n",
       "    .dataframe tbody tr th:only-of-type {\n",
       "        vertical-align: middle;\n",
       "    }\n",
       "\n",
       "    .dataframe tbody tr th {\n",
       "        vertical-align: top;\n",
       "    }\n",
       "\n",
       "    .dataframe thead th {\n",
       "        text-align: right;\n",
       "    }\n",
       "</style>\n",
       "<table border=\"1\" class=\"dataframe\">\n",
       "  <thead>\n",
       "    <tr style=\"text-align: right;\">\n",
       "      <th></th>\n",
       "      <th>open</th>\n",
       "      <th>high</th>\n",
       "      <th>low</th>\n",
       "      <th>close</th>\n",
       "      <th>volume</th>\n",
       "      <th>value_of_trades</th>\n",
       "      <th>price_mean</th>\n",
       "      <th>tick_count</th>\n",
       "      <th>price_mean_log_return</th>\n",
       "    </tr>\n",
       "    <tr>\n",
       "      <th>dates</th>\n",
       "      <th></th>\n",
       "      <th></th>\n",
       "      <th></th>\n",
       "      <th></th>\n",
       "      <th></th>\n",
       "      <th></th>\n",
       "      <th></th>\n",
       "      <th></th>\n",
       "      <th></th>\n",
       "    </tr>\n",
       "  </thead>\n",
       "  <tbody>\n",
       "    <tr>\n",
       "      <th>2020-01-02 09:30:00</th>\n",
       "      <td>130.6800</td>\n",
       "      <td>130.7800</td>\n",
       "      <td>130.3700</td>\n",
       "      <td>130.4299</td>\n",
       "      <td>164048</td>\n",
       "      <td>130.585010</td>\n",
       "      <td>130.558158</td>\n",
       "      <td>262</td>\n",
       "      <td>NaN</td>\n",
       "    </tr>\n",
       "    <tr>\n",
       "      <th>2020-01-02 10:00:00</th>\n",
       "      <td>130.4000</td>\n",
       "      <td>130.4000</td>\n",
       "      <td>130.0218</td>\n",
       "      <td>130.0564</td>\n",
       "      <td>75227</td>\n",
       "      <td>130.141558</td>\n",
       "      <td>130.178844</td>\n",
       "      <td>132</td>\n",
       "      <td>-0.002910</td>\n",
       "    </tr>\n",
       "    <tr>\n",
       "      <th>2020-01-02 10:30:00</th>\n",
       "      <td>130.0800</td>\n",
       "      <td>130.2000</td>\n",
       "      <td>129.9713</td>\n",
       "      <td>130.2000</td>\n",
       "      <td>91006</td>\n",
       "      <td>130.079069</td>\n",
       "      <td>130.056870</td>\n",
       "      <td>124</td>\n",
       "      <td>-0.000937</td>\n",
       "    </tr>\n",
       "    <tr>\n",
       "      <th>2020-01-02 11:00:00</th>\n",
       "      <td>130.2050</td>\n",
       "      <td>130.2089</td>\n",
       "      <td>130.0800</td>\n",
       "      <td>130.1300</td>\n",
       "      <td>65182</td>\n",
       "      <td>130.141968</td>\n",
       "      <td>130.138222</td>\n",
       "      <td>64</td>\n",
       "      <td>0.000625</td>\n",
       "    </tr>\n",
       "    <tr>\n",
       "      <th>2020-01-02 11:30:00</th>\n",
       "      <td>130.0833</td>\n",
       "      <td>130.0833</td>\n",
       "      <td>129.9380</td>\n",
       "      <td>130.0300</td>\n",
       "      <td>84253</td>\n",
       "      <td>130.013381</td>\n",
       "      <td>130.016007</td>\n",
       "      <td>59</td>\n",
       "      <td>-0.000940</td>\n",
       "    </tr>\n",
       "    <tr>\n",
       "      <th>...</th>\n",
       "      <td>...</td>\n",
       "      <td>...</td>\n",
       "      <td>...</td>\n",
       "      <td>...</td>\n",
       "      <td>...</td>\n",
       "      <td>...</td>\n",
       "      <td>...</td>\n",
       "      <td>...</td>\n",
       "      <td>...</td>\n",
       "    </tr>\n",
       "    <tr>\n",
       "      <th>2020-12-31 13:30:00</th>\n",
       "      <td>127.1800</td>\n",
       "      <td>127.1800</td>\n",
       "      <td>127.0800</td>\n",
       "      <td>127.1600</td>\n",
       "      <td>12019</td>\n",
       "      <td>127.118935</td>\n",
       "      <td>127.115886</td>\n",
       "      <td>22</td>\n",
       "      <td>-0.000493</td>\n",
       "    </tr>\n",
       "    <tr>\n",
       "      <th>2020-12-31 14:00:00</th>\n",
       "      <td>127.1800</td>\n",
       "      <td>127.5097</td>\n",
       "      <td>127.1020</td>\n",
       "      <td>127.4760</td>\n",
       "      <td>7142</td>\n",
       "      <td>127.272049</td>\n",
       "      <td>127.280221</td>\n",
       "      <td>28</td>\n",
       "      <td>0.001292</td>\n",
       "    </tr>\n",
       "    <tr>\n",
       "      <th>2020-12-31 14:30:00</th>\n",
       "      <td>127.4800</td>\n",
       "      <td>127.6673</td>\n",
       "      <td>127.4706</td>\n",
       "      <td>127.5799</td>\n",
       "      <td>7409</td>\n",
       "      <td>127.580403</td>\n",
       "      <td>127.572910</td>\n",
       "      <td>21</td>\n",
       "      <td>0.002297</td>\n",
       "    </tr>\n",
       "    <tr>\n",
       "      <th>2020-12-31 15:00:00</th>\n",
       "      <td>127.5699</td>\n",
       "      <td>127.9400</td>\n",
       "      <td>127.5699</td>\n",
       "      <td>127.9100</td>\n",
       "      <td>9707</td>\n",
       "      <td>127.819763</td>\n",
       "      <td>127.815373</td>\n",
       "      <td>33</td>\n",
       "      <td>0.001899</td>\n",
       "    </tr>\n",
       "    <tr>\n",
       "      <th>2020-12-31 15:30:00</th>\n",
       "      <td>127.8600</td>\n",
       "      <td>128.2000</td>\n",
       "      <td>127.7799</td>\n",
       "      <td>128.0200</td>\n",
       "      <td>23053</td>\n",
       "      <td>128.042113</td>\n",
       "      <td>128.049142</td>\n",
       "      <td>96</td>\n",
       "      <td>0.001827</td>\n",
       "    </tr>\n",
       "  </tbody>\n",
       "</table>\n",
       "<p>17485 rows × 9 columns</p>\n",
       "</div>"
      ],
      "text/plain": [
       "                         open      high       low     close  volume  \\\n",
       "dates                                                                 \n",
       "2020-01-02 09:30:00  130.6800  130.7800  130.3700  130.4299  164048   \n",
       "2020-01-02 10:00:00  130.4000  130.4000  130.0218  130.0564   75227   \n",
       "2020-01-02 10:30:00  130.0800  130.2000  129.9713  130.2000   91006   \n",
       "2020-01-02 11:00:00  130.2050  130.2089  130.0800  130.1300   65182   \n",
       "2020-01-02 11:30:00  130.0833  130.0833  129.9380  130.0300   84253   \n",
       "...                       ...       ...       ...       ...     ...   \n",
       "2020-12-31 13:30:00  127.1800  127.1800  127.0800  127.1600   12019   \n",
       "2020-12-31 14:00:00  127.1800  127.5097  127.1020  127.4760    7142   \n",
       "2020-12-31 14:30:00  127.4800  127.6673  127.4706  127.5799    7409   \n",
       "2020-12-31 15:00:00  127.5699  127.9400  127.5699  127.9100    9707   \n",
       "2020-12-31 15:30:00  127.8600  128.2000  127.7799  128.0200   23053   \n",
       "\n",
       "                     value_of_trades  price_mean  tick_count  \\\n",
       "dates                                                          \n",
       "2020-01-02 09:30:00       130.585010  130.558158         262   \n",
       "2020-01-02 10:00:00       130.141558  130.178844         132   \n",
       "2020-01-02 10:30:00       130.079069  130.056870         124   \n",
       "2020-01-02 11:00:00       130.141968  130.138222          64   \n",
       "2020-01-02 11:30:00       130.013381  130.016007          59   \n",
       "...                              ...         ...         ...   \n",
       "2020-12-31 13:30:00       127.118935  127.115886          22   \n",
       "2020-12-31 14:00:00       127.272049  127.280221          28   \n",
       "2020-12-31 14:30:00       127.580403  127.572910          21   \n",
       "2020-12-31 15:00:00       127.819763  127.815373          33   \n",
       "2020-12-31 15:30:00       128.042113  128.049142          96   \n",
       "\n",
       "                     price_mean_log_return  \n",
       "dates                                       \n",
       "2020-01-02 09:30:00                    NaN  \n",
       "2020-01-02 10:00:00              -0.002910  \n",
       "2020-01-02 10:30:00              -0.000937  \n",
       "2020-01-02 11:00:00               0.000625  \n",
       "2020-01-02 11:30:00              -0.000940  \n",
       "...                                    ...  \n",
       "2020-12-31 13:30:00              -0.000493  \n",
       "2020-12-31 14:00:00               0.001292  \n",
       "2020-12-31 14:30:00               0.002297  \n",
       "2020-12-31 15:00:00               0.001899  \n",
       "2020-12-31 15:30:00               0.001827  \n",
       "\n",
       "[17485 rows x 9 columns]"
      ]
     },
     "execution_count": 17,
     "metadata": {},
     "output_type": "execute_result"
    }
   ],
   "source": [
    "time = ohlcvTime\n",
    "time"
   ]
  },
  {
   "cell_type": "code",
   "execution_count": 19,
   "metadata": {
    "ExecuteTime": {
     "end_time": "2024-03-14T13:57:14.874481500Z",
     "start_time": "2024-03-14T13:57:14.853409100Z"
    }
   },
   "outputs": [],
   "source": [
    "dollar_returns = np.log(ohlcvDollar['close']).diff().dropna()\n",
    "volume_returns = np.log(ohlcvVolume['close']).diff().dropna()\n",
    "tick_returns = np.log(ohlcvTick['close']).diff().dropna()\n",
    "time_returns = np.log(ohlcvTime['open']).diff().dropna()"
   ]
  },
  {
   "cell_type": "code",
   "execution_count": 20,
   "metadata": {
    "ExecuteTime": {
     "end_time": "2024-03-14T13:57:16.463135700Z",
     "start_time": "2024-03-14T13:57:16.429233600Z"
    }
   },
   "outputs": [
    {
     "data": {
      "text/plain": [
       "20012"
      ]
     },
     "execution_count": 20,
     "metadata": {},
     "output_type": "execute_result"
    }
   ],
   "source": [
    "int(stats.jarque_bera(time_returns)[0])"
   ]
  },
  {
   "cell_type": "code",
   "execution_count": 21,
   "metadata": {
    "ExecuteTime": {
     "end_time": "2024-03-14T13:57:18.524075900Z",
     "start_time": "2024-03-14T13:57:18.494115300Z"
    }
   },
   "outputs": [
    {
     "data": {
      "text/plain": [
       "39830433"
      ]
     },
     "execution_count": 21,
     "metadata": {},
     "output_type": "execute_result"
    }
   ],
   "source": [
    "int(stats.jarque_bera(dollar_returns)[0])"
   ]
  },
  {
   "cell_type": "code",
   "execution_count": 22,
   "metadata": {
    "ExecuteTime": {
     "end_time": "2024-03-14T13:57:20.941904700Z",
     "start_time": "2024-03-14T13:57:20.934220700Z"
    }
   },
   "outputs": [
    {
     "data": {
      "text/plain": [
       "41658693"
      ]
     },
     "execution_count": 22,
     "metadata": {},
     "output_type": "execute_result"
    }
   ],
   "source": [
    "int(stats.jarque_bera(volume_returns)[0])"
   ]
  },
  {
   "cell_type": "code",
   "execution_count": 23,
   "metadata": {
    "ExecuteTime": {
     "end_time": "2024-03-14T13:57:23.908776800Z",
     "start_time": "2024-03-14T13:57:23.897743200Z"
    }
   },
   "outputs": [
    {
     "data": {
      "text/plain": [
       "109535886"
      ]
     },
     "execution_count": 23,
     "metadata": {},
     "output_type": "execute_result"
    }
   ],
   "source": [
    "int(stats.jarque_bera(tick_returns)[0])"
   ]
  },
  {
   "attachments": {},
   "cell_type": "markdown",
   "metadata": {},
   "source": [
    "##### Shapiro-Wilk Test"
   ]
  },
  {
   "cell_type": "code",
   "execution_count": 19,
   "metadata": {
    "ExecuteTime": {
     "end_time": "2024-03-14T13:57:28.551164200Z",
     "start_time": "2024-03-14T13:57:28.529978800Z"
    }
   },
   "outputs": [
    {
     "data": {
      "text/plain": [
       "ShapiroResult(statistic=0.8194435066632015, pvalue=7.536603441603108e-56)"
      ]
     },
     "execution_count": 19,
     "metadata": {},
     "output_type": "execute_result"
    }
   ],
   "source": [
    "stats.shapiro(time_returns)"
   ]
  },
  {
   "cell_type": "code",
   "execution_count": 20,
   "metadata": {
    "ExecuteTime": {
     "end_time": "2024-03-14T13:57:30.933097200Z",
     "start_time": "2024-03-14T13:57:30.900053800Z"
    }
   },
   "outputs": [
    {
     "data": {
      "text/plain": [
       "ShapiroResult(statistic=0.8644461473683926, pvalue=1.8213710646849913e-43)"
      ]
     },
     "execution_count": 20,
     "metadata": {},
     "output_type": "execute_result"
    }
   ],
   "source": [
    "stats.shapiro(dollar_returns)"
   ]
  },
  {
   "cell_type": "code",
   "execution_count": 21,
   "metadata": {
    "ExecuteTime": {
     "end_time": "2024-03-14T13:57:33.815868700Z",
     "start_time": "2024-03-14T13:57:33.787175200Z"
    }
   },
   "outputs": [
    {
     "data": {
      "text/plain": [
       "ShapiroResult(statistic=0.8705724699754638, pvalue=3.1273579417782573e-45)"
      ]
     },
     "execution_count": 21,
     "metadata": {},
     "output_type": "execute_result"
    }
   ],
   "source": [
    "stats.shapiro(volume_returns)"
   ]
  },
  {
   "cell_type": "code",
   "execution_count": 22,
   "metadata": {
    "ExecuteTime": {
     "end_time": "2024-03-14T13:57:36.355164600Z",
     "start_time": "2024-03-14T13:57:36.342523800Z"
    }
   },
   "outputs": [
    {
     "data": {
      "text/plain": [
       "ShapiroResult(statistic=0.8880392136294855, pvalue=9.462879247108947e-42)"
      ]
     },
     "execution_count": 22,
     "metadata": {},
     "output_type": "execute_result"
    }
   ],
   "source": [
    "stats.shapiro(tick_returns)"
   ]
  },
  {
   "attachments": {},
   "cell_type": "markdown",
   "metadata": {},
   "source": [
    "#### Results KDE plot "
   ]
  },
  {
   "attachments": {},
   "cell_type": "markdown",
   "metadata": {},
   "source": [
    "##### Standardize Data"
   ]
  },
  {
   "cell_type": "code",
   "execution_count": 194,
   "metadata": {
    "ExecuteTime": {
     "end_time": "2024-03-14T13:57:39.705333100Z",
     "start_time": "2024-03-14T13:57:39.682521800Z"
    }
   },
   "outputs": [],
   "source": [
    "time_standard = (time_returns - time_returns.mean()) / time_returns.std()\n",
    "tick_standard = (tick_returns - tick_returns.mean()) / tick_returns.std()\n",
    "volume_standard = (volume_returns - volume_returns.mean()) / volume_returns.std()\n",
    "dollar_standard = (dollar_returns - dollar_returns.mean()) / dollar_returns.std()\n"
   ]
  },
  {
   "attachments": {},
   "cell_type": "markdown",
   "metadata": {},
   "source": [
    "##### Distribution Plot"
   ]
  },
  {
   "cell_type": "code",
   "execution_count": 195,
   "metadata": {
    "ExecuteTime": {
     "end_time": "2024-03-14T13:57:48.670643100Z",
     "start_time": "2024-03-14T13:57:41.720526300Z"
    }
   },
   "outputs": [
    {
     "data": {
      "image/png": "[encoded data removed]",
      "text/plain": [
       "<Figure size 1600x1200 with 1 Axes>"
      ]
     },
     "metadata": {},
     "output_type": "display_data"
    }
   ],
   "source": [
    "plt.figure(figsize=(16, 12))\n",
    "sns.kdeplot(time_standard, label=\"Time\",)\n",
    "sns.kdeplot(tick_standard, label=\"Tick\",)\n",
    "sns.kdeplot(volume_standard, label=\"Volume\",)\n",
    "sns.kdeplot(dollar_standard, label=\"Dollar\",)\n",
    "sns.kdeplot(np.random.normal(size=1000000), label=\"Normal\", linestyle=\"dotted\")\n",
    "plt.xticks(range(-4, +4))\n",
    "plt.title(\n",
    "    'Partial recovery of normality',\n",
    "    loc='center', \n",
    ")\n",
    "plt.xlim(-5, 5)\n",
    "\n",
    "# Show the plot\n",
    "plt.show()"
   ]
  },
  {
   "cell_type": "markdown",
   "metadata": {},
   "source": [
    "### Information-Driven Bars"
   ]
  },
  {
   "cell_type": "code",
   "execution_count": 175,
   "metadata": {},
   "outputs": [],
   "source": [
    "dataframe['label'] = dataframe['price']\n",
    "dataframe['volume_labeled'] = dataframe['size']\n",
    "dataframe['dollarslabeled'] = dataframe['price'] * dataframe['size']\n"
   ]
  },
  {
   "cell_type": "markdown",
   "metadata": {},
   "source": [
    "#### Imbalance Tick Bar"
   ]
  },
  {
   "cell_type": "code",
   "execution_count": 170,
   "metadata": {},
   "outputs": [
    {
     "name": "stdout",
     "output_type": "stream",
     "text": [
      "Completed: [------------------->] 100% - 0 minutes remaining."
     ]
    },
    {
     "data": {
      "text/html": [
       "<div>\n",
       "<style scoped>\n",
       "    .dataframe tbody tr th:only-of-type {\n",
       "        vertical-align: middle;\n",
       "    }\n",
       "\n",
       "    .dataframe tbody tr th {\n",
       "        vertical-align: top;\n",
       "    }\n",
       "\n",
       "    .dataframe thead th {\n",
       "        text-align: right;\n",
       "    }\n",
       "</style>\n",
       "<table border=\"1\" class=\"dataframe\">\n",
       "  <thead>\n",
       "    <tr style=\"text-align: right;\">\n",
       "      <th></th>\n",
       "      <th>open</th>\n",
       "      <th>high</th>\n",
       "      <th>low</th>\n",
       "      <th>close</th>\n",
       "      <th>volume</th>\n",
       "      <th>value_of_trades</th>\n",
       "      <th>price_mean</th>\n",
       "      <th>tick_count</th>\n",
       "      <th>price_mean_log_return</th>\n",
       "    </tr>\n",
       "    <tr>\n",
       "      <th>dates</th>\n",
       "      <th></th>\n",
       "      <th></th>\n",
       "      <th></th>\n",
       "      <th></th>\n",
       "      <th></th>\n",
       "      <th></th>\n",
       "      <th></th>\n",
       "      <th></th>\n",
       "      <th></th>\n",
       "    </tr>\n",
       "  </thead>\n",
       "  <tbody>\n",
       "    <tr>\n",
       "      <th>2020-01-02 09:30:00</th>\n",
       "      <td>130.68</td>\n",
       "      <td>130.68</td>\n",
       "      <td>130.50</td>\n",
       "      <td>130.50</td>\n",
       "      <td>20825</td>\n",
       "      <td>130.678271</td>\n",
       "      <td>130.590000</td>\n",
       "      <td>2</td>\n",
       "      <td>NaN</td>\n",
       "    </tr>\n",
       "    <tr>\n",
       "      <th>2020-01-02 09:30:04</th>\n",
       "      <td>130.53</td>\n",
       "      <td>130.55</td>\n",
       "      <td>130.53</td>\n",
       "      <td>130.55</td>\n",
       "      <td>200</td>\n",
       "      <td>130.540000</td>\n",
       "      <td>130.540000</td>\n",
       "      <td>2</td>\n",
       "      <td>-0.000383</td>\n",
       "    </tr>\n",
       "    <tr>\n",
       "      <th>2020-01-02 09:30:04</th>\n",
       "      <td>130.53</td>\n",
       "      <td>130.54</td>\n",
       "      <td>130.53</td>\n",
       "      <td>130.54</td>\n",
       "      <td>300</td>\n",
       "      <td>130.533333</td>\n",
       "      <td>130.535000</td>\n",
       "      <td>2</td>\n",
       "      <td>-0.000038</td>\n",
       "    </tr>\n",
       "    <tr>\n",
       "      <th>2020-01-02 09:30:04</th>\n",
       "      <td>130.53</td>\n",
       "      <td>130.53</td>\n",
       "      <td>130.52</td>\n",
       "      <td>130.52</td>\n",
       "      <td>400</td>\n",
       "      <td>130.527500</td>\n",
       "      <td>130.525000</td>\n",
       "      <td>2</td>\n",
       "      <td>-0.000077</td>\n",
       "    </tr>\n",
       "    <tr>\n",
       "      <th>2020-01-02 09:30:04</th>\n",
       "      <td>130.52</td>\n",
       "      <td>130.53</td>\n",
       "      <td>130.52</td>\n",
       "      <td>130.53</td>\n",
       "      <td>600</td>\n",
       "      <td>130.526667</td>\n",
       "      <td>130.525000</td>\n",
       "      <td>2</td>\n",
       "      <td>0.000000</td>\n",
       "    </tr>\n",
       "    <tr>\n",
       "      <th>...</th>\n",
       "      <td>...</td>\n",
       "      <td>...</td>\n",
       "      <td>...</td>\n",
       "      <td>...</td>\n",
       "      <td>...</td>\n",
       "      <td>...</td>\n",
       "      <td>...</td>\n",
       "      <td>...</td>\n",
       "      <td>...</td>\n",
       "    </tr>\n",
       "    <tr>\n",
       "      <th>2020-12-31 15:58:04</th>\n",
       "      <td>128.10</td>\n",
       "      <td>128.13</td>\n",
       "      <td>128.08</td>\n",
       "      <td>128.12</td>\n",
       "      <td>3165</td>\n",
       "      <td>128.095406</td>\n",
       "      <td>128.106364</td>\n",
       "      <td>11</td>\n",
       "      <td>0.000387</td>\n",
       "    </tr>\n",
       "    <tr>\n",
       "      <th>2020-12-31 15:59:06</th>\n",
       "      <td>128.13</td>\n",
       "      <td>128.17</td>\n",
       "      <td>128.09</td>\n",
       "      <td>128.11</td>\n",
       "      <td>1636</td>\n",
       "      <td>128.127775</td>\n",
       "      <td>128.132727</td>\n",
       "      <td>11</td>\n",
       "      <td>0.000206</td>\n",
       "    </tr>\n",
       "    <tr>\n",
       "      <th>2020-12-31 15:59:37</th>\n",
       "      <td>128.10</td>\n",
       "      <td>128.20</td>\n",
       "      <td>128.10</td>\n",
       "      <td>128.13</td>\n",
       "      <td>1367</td>\n",
       "      <td>128.163702</td>\n",
       "      <td>128.167273</td>\n",
       "      <td>11</td>\n",
       "      <td>0.000270</td>\n",
       "    </tr>\n",
       "    <tr>\n",
       "      <th>2020-12-31 15:59:56</th>\n",
       "      <td>128.13</td>\n",
       "      <td>128.13</td>\n",
       "      <td>128.06</td>\n",
       "      <td>128.06</td>\n",
       "      <td>5600</td>\n",
       "      <td>128.068571</td>\n",
       "      <td>128.088182</td>\n",
       "      <td>11</td>\n",
       "      <td>-0.000617</td>\n",
       "    </tr>\n",
       "    <tr>\n",
       "      <th>2020-12-31 15:59:59</th>\n",
       "      <td>128.06</td>\n",
       "      <td>128.06</td>\n",
       "      <td>128.02</td>\n",
       "      <td>128.02</td>\n",
       "      <td>3010</td>\n",
       "      <td>128.037608</td>\n",
       "      <td>128.038571</td>\n",
       "      <td>7</td>\n",
       "      <td>-0.000387</td>\n",
       "    </tr>\n",
       "  </tbody>\n",
       "</table>\n",
       "<p>32473 rows × 9 columns</p>\n",
       "</div>"
      ],
      "text/plain": [
       "                       open    high     low   close  volume  value_of_trades  \\\n",
       "dates                                                                          \n",
       "2020-01-02 09:30:00  130.68  130.68  130.50  130.50   20825       130.678271   \n",
       "2020-01-02 09:30:04  130.53  130.55  130.53  130.55     200       130.540000   \n",
       "2020-01-02 09:30:04  130.53  130.54  130.53  130.54     300       130.533333   \n",
       "2020-01-02 09:30:04  130.53  130.53  130.52  130.52     400       130.527500   \n",
       "2020-01-02 09:30:04  130.52  130.53  130.52  130.53     600       130.526667   \n",
       "...                     ...     ...     ...     ...     ...              ...   \n",
       "2020-12-31 15:58:04  128.10  128.13  128.08  128.12    3165       128.095406   \n",
       "2020-12-31 15:59:06  128.13  128.17  128.09  128.11    1636       128.127775   \n",
       "2020-12-31 15:59:37  128.10  128.20  128.10  128.13    1367       128.163702   \n",
       "2020-12-31 15:59:56  128.13  128.13  128.06  128.06    5600       128.068571   \n",
       "2020-12-31 15:59:59  128.06  128.06  128.02  128.02    3010       128.037608   \n",
       "\n",
       "                     price_mean  tick_count  price_mean_log_return  \n",
       "dates                                                               \n",
       "2020-01-02 09:30:00  130.590000           2                    NaN  \n",
       "2020-01-02 09:30:04  130.540000           2              -0.000383  \n",
       "2020-01-02 09:30:04  130.535000           2              -0.000038  \n",
       "2020-01-02 09:30:04  130.525000           2              -0.000077  \n",
       "2020-01-02 09:30:04  130.525000           2               0.000000  \n",
       "...                         ...         ...                    ...  \n",
       "2020-12-31 15:58:04  128.106364          11               0.000387  \n",
       "2020-12-31 15:59:06  128.132727          11               0.000206  \n",
       "2020-12-31 15:59:37  128.167273          11               0.000270  \n",
       "2020-12-31 15:59:56  128.088182          11              -0.000617  \n",
       "2020-12-31 15:59:59  128.038571           7              -0.000387  \n",
       "\n",
       "[32473 rows x 9 columns]"
      ]
     },
     "execution_count": 170,
     "metadata": {},
     "output_type": "execute_result"
    }
   ],
   "source": [
    "imbalance_tick_bar, thetas_absolute_tick, thresholds_tick = generate_information_driven_bars(dataframe, bar_type=\"tick\", tick_expected_initial=0)\n",
    "\n",
    "# Save countAverage data to Excel without overwriting previous sheets\n",
    "with pd.ExcelWriter(excel_file_path, engine='openpyxl', mode='a', if_sheet_exists='overlay') as writer:\n",
    "    imbalance_tick_bar.to_excel(writer, sheet_name='imbalance tick bar')\n",
    "\n",
    "imbalance_tick_bar"
   ]
  },
  {
   "cell_type": "markdown",
   "metadata": {},
   "source": [
    "#### Imbalance Volume Bar"
   ]
  },
  {
   "cell_type": "code",
   "execution_count": 179,
   "metadata": {},
   "outputs": [
    {
     "name": "stdout",
     "output_type": "stream",
     "text": [
      "Completed: [------------------->] 100% - 0 minutes remaining."
     ]
    },
    {
     "data": {
      "text/html": [
       "<div>\n",
       "<style scoped>\n",
       "    .dataframe tbody tr th:only-of-type {\n",
       "        vertical-align: middle;\n",
       "    }\n",
       "\n",
       "    .dataframe tbody tr th {\n",
       "        vertical-align: top;\n",
       "    }\n",
       "\n",
       "    .dataframe thead th {\n",
       "        text-align: right;\n",
       "    }\n",
       "</style>\n",
       "<table border=\"1\" class=\"dataframe\">\n",
       "  <thead>\n",
       "    <tr style=\"text-align: right;\">\n",
       "      <th></th>\n",
       "      <th>open</th>\n",
       "      <th>high</th>\n",
       "      <th>low</th>\n",
       "      <th>close</th>\n",
       "      <th>volume</th>\n",
       "      <th>value_of_trades</th>\n",
       "      <th>price_mean</th>\n",
       "      <th>tick_count</th>\n",
       "      <th>price_mean_log_return</th>\n",
       "    </tr>\n",
       "    <tr>\n",
       "      <th>dates</th>\n",
       "      <th></th>\n",
       "      <th></th>\n",
       "      <th></th>\n",
       "      <th></th>\n",
       "      <th></th>\n",
       "      <th></th>\n",
       "      <th></th>\n",
       "      <th></th>\n",
       "      <th></th>\n",
       "    </tr>\n",
       "  </thead>\n",
       "  <tbody>\n",
       "    <tr>\n",
       "      <th>2020-01-02 09:30:00</th>\n",
       "      <td>130.680</td>\n",
       "      <td>130.68</td>\n",
       "      <td>130.500</td>\n",
       "      <td>130.5000</td>\n",
       "      <td>20825</td>\n",
       "      <td>130.678271</td>\n",
       "      <td>130.590000</td>\n",
       "      <td>2</td>\n",
       "      <td>NaN</td>\n",
       "    </tr>\n",
       "    <tr>\n",
       "      <th>2020-01-02 09:30:04</th>\n",
       "      <td>130.530</td>\n",
       "      <td>130.78</td>\n",
       "      <td>130.520</td>\n",
       "      <td>130.5900</td>\n",
       "      <td>20949</td>\n",
       "      <td>130.618879</td>\n",
       "      <td>130.622269</td>\n",
       "      <td>71</td>\n",
       "      <td>0.000247</td>\n",
       "    </tr>\n",
       "    <tr>\n",
       "      <th>2020-01-02 09:33:00</th>\n",
       "      <td>130.590</td>\n",
       "      <td>130.67</td>\n",
       "      <td>129.938</td>\n",
       "      <td>130.2400</td>\n",
       "      <td>1131256</td>\n",
       "      <td>130.137731</td>\n",
       "      <td>130.156657</td>\n",
       "      <td>1127</td>\n",
       "      <td>-0.003571</td>\n",
       "    </tr>\n",
       "    <tr>\n",
       "      <th>2020-01-02 15:13:31</th>\n",
       "      <td>130.225</td>\n",
       "      <td>132.10</td>\n",
       "      <td>122.250</td>\n",
       "      <td>122.8995</td>\n",
       "      <td>13704373</td>\n",
       "      <td>129.324374</td>\n",
       "      <td>129.029767</td>\n",
       "      <td>32108</td>\n",
       "      <td>-0.008696</td>\n",
       "    </tr>\n",
       "    <tr>\n",
       "      <th>2020-02-26 12:04:47</th>\n",
       "      <td>122.835</td>\n",
       "      <td>128.65</td>\n",
       "      <td>81.700</td>\n",
       "      <td>128.0200</td>\n",
       "      <td>110035846</td>\n",
       "      <td>108.395944</td>\n",
       "      <td>107.180331</td>\n",
       "      <td>250062</td>\n",
       "      <td>-0.185530</td>\n",
       "    </tr>\n",
       "  </tbody>\n",
       "</table>\n",
       "</div>"
      ],
      "text/plain": [
       "                        open    high      low     close     volume  \\\n",
       "dates                                                                \n",
       "2020-01-02 09:30:00  130.680  130.68  130.500  130.5000      20825   \n",
       "2020-01-02 09:30:04  130.530  130.78  130.520  130.5900      20949   \n",
       "2020-01-02 09:33:00  130.590  130.67  129.938  130.2400    1131256   \n",
       "2020-01-02 15:13:31  130.225  132.10  122.250  122.8995   13704373   \n",
       "2020-02-26 12:04:47  122.835  128.65   81.700  128.0200  110035846   \n",
       "\n",
       "                     value_of_trades  price_mean  tick_count  \\\n",
       "dates                                                          \n",
       "2020-01-02 09:30:00       130.678271  130.590000           2   \n",
       "2020-01-02 09:30:04       130.618879  130.622269          71   \n",
       "2020-01-02 09:33:00       130.137731  130.156657        1127   \n",
       "2020-01-02 15:13:31       129.324374  129.029767       32108   \n",
       "2020-02-26 12:04:47       108.395944  107.180331      250062   \n",
       "\n",
       "                     price_mean_log_return  \n",
       "dates                                       \n",
       "2020-01-02 09:30:00                    NaN  \n",
       "2020-01-02 09:30:04               0.000247  \n",
       "2020-01-02 09:33:00              -0.003571  \n",
       "2020-01-02 15:13:31              -0.008696  \n",
       "2020-02-26 12:04:47              -0.185530  "
      ]
     },
     "execution_count": 179,
     "metadata": {},
     "output_type": "execute_result"
    }
   ],
   "source": [
    "imbalance_volume_bar, thetas_absolute_volume, thresholds_volume = generate_information_driven_bars(dataframe, bar_type=\"volume\", tick_expected_initial=0)\n",
    "\n",
    "# Save countAverage data to Excel without overwriting previous sheets\n",
    "with pd.ExcelWriter(excel_file_path, engine='openpyxl', mode='a', if_sheet_exists='overlay') as writer:\n",
    "    imbalance_volume_bar.to_excel(writer, sheet_name='imbalance volume bar')\n",
    "\n",
    "imbalance_volume_bar"
   ]
  },
  {
   "cell_type": "markdown",
   "metadata": {},
   "source": [
    "#### Imbalance Dollar Bar"
   ]
  },
  {
   "cell_type": "code",
   "execution_count": 176,
   "metadata": {},
   "outputs": [
    {
     "name": "stdout",
     "output_type": "stream",
     "text": [
      "Completed: [------------------->] 100% - 0 minutes remaining."
     ]
    },
    {
     "data": {
      "text/html": [
       "<div>\n",
       "<style scoped>\n",
       "    .dataframe tbody tr th:only-of-type {\n",
       "        vertical-align: middle;\n",
       "    }\n",
       "\n",
       "    .dataframe tbody tr th {\n",
       "        vertical-align: top;\n",
       "    }\n",
       "\n",
       "    .dataframe thead th {\n",
       "        text-align: right;\n",
       "    }\n",
       "</style>\n",
       "<table border=\"1\" class=\"dataframe\">\n",
       "  <thead>\n",
       "    <tr style=\"text-align: right;\">\n",
       "      <th></th>\n",
       "      <th>open</th>\n",
       "      <th>high</th>\n",
       "      <th>low</th>\n",
       "      <th>close</th>\n",
       "      <th>volume</th>\n",
       "      <th>value_of_trades</th>\n",
       "      <th>price_mean</th>\n",
       "      <th>tick_count</th>\n",
       "      <th>price_mean_log_return</th>\n",
       "    </tr>\n",
       "    <tr>\n",
       "      <th>dates</th>\n",
       "      <th></th>\n",
       "      <th></th>\n",
       "      <th></th>\n",
       "      <th></th>\n",
       "      <th></th>\n",
       "      <th></th>\n",
       "      <th></th>\n",
       "      <th></th>\n",
       "      <th></th>\n",
       "    </tr>\n",
       "  </thead>\n",
       "  <tbody>\n",
       "    <tr>\n",
       "      <th>2020-01-02 09:30:00</th>\n",
       "      <td>130.680</td>\n",
       "      <td>130.68</td>\n",
       "      <td>130.500</td>\n",
       "      <td>130.50</td>\n",
       "      <td>20825</td>\n",
       "      <td>130.678271</td>\n",
       "      <td>130.590000</td>\n",
       "      <td>2</td>\n",
       "      <td>NaN</td>\n",
       "    </tr>\n",
       "    <tr>\n",
       "      <th>2020-01-02 09:30:04</th>\n",
       "      <td>130.530</td>\n",
       "      <td>130.78</td>\n",
       "      <td>130.520</td>\n",
       "      <td>130.59</td>\n",
       "      <td>20949</td>\n",
       "      <td>130.618879</td>\n",
       "      <td>130.622269</td>\n",
       "      <td>71</td>\n",
       "      <td>0.000247</td>\n",
       "    </tr>\n",
       "    <tr>\n",
       "      <th>2020-01-02 09:33:00</th>\n",
       "      <td>130.590</td>\n",
       "      <td>130.67</td>\n",
       "      <td>129.938</td>\n",
       "      <td>130.24</td>\n",
       "      <td>1131256</td>\n",
       "      <td>130.137731</td>\n",
       "      <td>130.156657</td>\n",
       "      <td>1127</td>\n",
       "      <td>-0.003571</td>\n",
       "    </tr>\n",
       "    <tr>\n",
       "      <th>2020-01-02 15:13:31</th>\n",
       "      <td>130.225</td>\n",
       "      <td>132.10</td>\n",
       "      <td>121.510</td>\n",
       "      <td>121.79</td>\n",
       "      <td>13855665</td>\n",
       "      <td>129.248911</td>\n",
       "      <td>128.906634</td>\n",
       "      <td>32711</td>\n",
       "      <td>-0.009650</td>\n",
       "    </tr>\n",
       "    <tr>\n",
       "      <th>2020-02-26 13:46:22</th>\n",
       "      <td>121.760</td>\n",
       "      <td>128.65</td>\n",
       "      <td>81.700</td>\n",
       "      <td>128.02</td>\n",
       "      <td>109884554</td>\n",
       "      <td>108.376645</td>\n",
       "      <td>107.143662</td>\n",
       "      <td>249459</td>\n",
       "      <td>-0.184918</td>\n",
       "    </tr>\n",
       "  </tbody>\n",
       "</table>\n",
       "</div>"
      ],
      "text/plain": [
       "                        open    high      low   close     volume  \\\n",
       "dates                                                              \n",
       "2020-01-02 09:30:00  130.680  130.68  130.500  130.50      20825   \n",
       "2020-01-02 09:30:04  130.530  130.78  130.520  130.59      20949   \n",
       "2020-01-02 09:33:00  130.590  130.67  129.938  130.24    1131256   \n",
       "2020-01-02 15:13:31  130.225  132.10  121.510  121.79   13855665   \n",
       "2020-02-26 13:46:22  121.760  128.65   81.700  128.02  109884554   \n",
       "\n",
       "                     value_of_trades  price_mean  tick_count  \\\n",
       "dates                                                          \n",
       "2020-01-02 09:30:00       130.678271  130.590000           2   \n",
       "2020-01-02 09:30:04       130.618879  130.622269          71   \n",
       "2020-01-02 09:33:00       130.137731  130.156657        1127   \n",
       "2020-01-02 15:13:31       129.248911  128.906634       32711   \n",
       "2020-02-26 13:46:22       108.376645  107.143662      249459   \n",
       "\n",
       "                     price_mean_log_return  \n",
       "dates                                       \n",
       "2020-01-02 09:30:00                    NaN  \n",
       "2020-01-02 09:30:04               0.000247  \n",
       "2020-01-02 09:33:00              -0.003571  \n",
       "2020-01-02 15:13:31              -0.009650  \n",
       "2020-02-26 13:46:22              -0.184918  "
      ]
     },
     "execution_count": 176,
     "metadata": {},
     "output_type": "execute_result"
    }
   ],
   "source": [
    "imbalance_dollar_bar, thetas_absolute_dollar, thresholds_dollar = generate_information_driven_bars(dataframe, bar_type=\"dollar\", tick_expected_initial=0)\n",
    "\n",
    " # Save countAverage data to Excel without overwriting previous sheets\n",
    "with pd.ExcelWriter(excel_file_path, engine='openpyxl', mode='a', if_sheet_exists='overlay') as writer:\n",
    "    imbalance_dollar_bar.to_excel(writer, sheet_name='imbalance dollar bar')\n",
    "\n",
    "imbalance_dollar_bar"
   ]
  }
 ],
 "metadata": {
  "kernelspec": {
   "display_name": "base",
   "language": "python",
   "name": "python3"
  },
  "language_info": {
   "codemirror_mode": {
    "name": "ipython",
    "version": 3
   },
   "file_extension": ".py",
   "mimetype": "text/x-python",
   "name": "python",
   "nbconvert_exporter": "python",
   "pygments_lexer": "ipython3",
   "version": "3.11.4"
  },
  "orig_nbformat": 4
 },
 "nbformat": 4,
 "nbformat_minor": 2
}
