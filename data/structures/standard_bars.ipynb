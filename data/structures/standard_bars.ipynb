{
 "cells": [
  {
   "metadata": {},
   "cell_type": "markdown",
   "source": [
    "# Standard Bars\n",
    "In RisklabAI library, Standard Bar refers to Volume, Dollar and Tick bars\n",
    "## Imports and Reading the data"
   ]
  },
  {
   "metadata": {},
   "cell_type": "code",
   "source": [
    "from RiskLabAI.controller import Controller\n",
    "from RiskLabAI.data.structures.standard_bar import *\n",
    "import pandas as pd\n",
    "\n",
    "data = pd.read_csv('./data/ahrom_edited.csv')\n",
    "\n",
    "data"
   ],
   "outputs": [],
   "execution_count": null
  },
  {
   "attachments": {},
   "cell_type": "markdown",
   "metadata": {
    "collapsed": false,
    "pycharm": {
     "name": "#%% md\n"
    }
   },
   "source": [
    "## Dollar Bars\n",
    "Each dollar bar is a bar that is formed when a certain dollar value of shares is traded. The threshold is the dollar value of shares that must be traded for a new bar to be formed. The term dollar refers to the quantity of shares traded (volume) multiplied by the price of the shares. The threshold is the dollar value of shares that must be traded for a new bar to be formed.\n",
    "### Create using the Controller api"
   ]
  },
  {
   "cell_type": "code",
   "metadata": {
    "collapsed": false,
    "pycharm": {
     "name": "#%%\n"
    }
   },
   "source": [
    "controller = Controller()\n",
    "\n",
    "dollar = controller.handle_input_command(\n",
    "    method_name=\"dollar_standard_bars\",\n",
    "    method_arguments={\n",
    "        \"dollar_per_bar\": 10_000_000_000,\n",
    "    },\n",
    "    input_data=data,\n",
    "    batch_size=1_000_000,\n",
    ")\n",
    "\n",
    "dollar"
   ],
   "outputs": [],
   "execution_count": null
  },
  {
   "metadata": {},
   "cell_type": "markdown",
   "source": "### Create using the StandardBar class"
  },
  {
   "metadata": {},
   "cell_type": "code",
   "source": [
    "dollar_bar_api = StandardBar(bar_type=\"dollar\", \n",
    "                             unit_per_bar=10_000_000_000)\n",
    "dollar_bars = dollar_bar_api.construct_bars_from_data(data.values) # The method accepts  np, list and set\n",
    "\n",
    "len(dollar_bars), len(dollar_bars[0]), type(dollar_bars), dollar_bars[0]"
   ],
   "outputs": [],
   "execution_count": null
  },
  {
   "metadata": {},
   "cell_type": "code",
   "source": [
    "dollar_bar_pd = dollar_bar_api.to_df(dollar_bars)\n",
    "dollar_bar_pd.head()"
   ],
   "outputs": [],
   "execution_count": null
  },
  {
   "attachments": {},
   "cell_type": "markdown",
   "metadata": {
    "collapsed": false,
    "pycharm": {
     "name": "#%% md\n"
    }
   },
   "source": [
    "## Volume Bars\n",
    "Each volume bar is a bar that is formed when a certain number of shares are traded. The threshold is the number of shares that must be traded for a new bar to be formed.\n",
    "### Create using the Controller api"
   ]
  },
  {
   "cell_type": "code",
   "metadata": {
    "collapsed": false,
    "pycharm": {
     "name": "#%%\n"
    }
   },
   "source": [
    "from RiskLabAI.controller import Controller\n",
    "\n",
    "controller = Controller()\n",
    "\n",
    "volume = controller.handle_input_command(\n",
    "    method_name=\"volume_standard_bars\",\n",
    "    method_arguments={\n",
    "        \"volume_per_bar\": 1_000_000,\n",
    "    },\n",
    "    input_data=data,\n",
    "    batch_size=1_000_000\n",
    ")\n",
    "\n",
    "volume"
   ],
   "outputs": [],
   "execution_count": null
  },
  {
   "metadata": {},
   "cell_type": "markdown",
   "source": "#### Creating Volume Imbalance Column"
  },
  {
   "metadata": {},
   "cell_type": "code",
   "source": [
    "volume_imbalance = (volume[\"Cumulative Buy Volume\"] - volume[\"Cumulative Sell Volume\"]).abs()\n",
    "vpin = volume_imbalance.rolling(window=1).mean() / volume[\"Cumulative Volume\"]\n",
    "volume[\"VPIN\"] = vpin\n",
    "volume"
   ],
   "outputs": [],
   "execution_count": null
  },
  {
   "metadata": {},
   "cell_type": "markdown",
   "source": "#### Plotting the Volume Bars and volume imbalance column"
  },
  {
   "metadata": {},
   "cell_type": "code",
   "source": [
    "import plotly.graph_objs as go\n",
    "from plotly.subplots import make_subplots\n",
    "\n",
    "fig = make_subplots(rows=1, cols=1)\n",
    "fig.add_trace(\n",
    "    go.Scatter(\n",
    "        x=volume.index,\n",
    "        y=volume['Close'],\n",
    "        name=\"Prices\",\n",
    "    ),\n",
    "    row=1, col=1,\n",
    ")\n",
    "fig.add_trace(\n",
    "    go.Scatter(\n",
    "        x=volume.index,\n",
    "        y=volume['VPIN'],\n",
    "        name=\"VPIN\",\n",
    "    ),\n",
    "    row=1, col=1,\n",
    ")\n",
    "fig.update_layout(\n",
    "    title=\"Price Prediction\",\n",
    "    xaxis_title=\"Date\",\n",
    "    hovermode=\"x unified\",\n",
    "    template=\"plotly_dark\",\n",
    ")\n",
    "\n",
    "fig.show()"
   ],
   "outputs": [],
   "execution_count": null
  },
  {
   "cell_type": "code",
   "metadata": {},
   "source": "volume.to_csv('./data/ahrom_vpin.csv')",
   "outputs": [],
   "execution_count": null
  },
  {
   "metadata": {},
   "cell_type": "markdown",
   "source": "### Create using the StandardBar class\n"
  },
  {
   "metadata": {},
   "cell_type": "code",
   "source": [
    "volume_bar_api = StandardBar(bar_type=\"volume\",\n",
    "                             unit_per_bar=1_000_000)\n",
    "volume_bars = volume_bar_api.construct_bars_from_data(data.values) # The method accepts np, list and set\n",
    "len(volume_bars), len(volume_bars[0]), type(volume_bars), volume_bars[0]"
   ],
   "outputs": [],
   "execution_count": null
  },
  {
   "metadata": {},
   "cell_type": "code",
   "source": [
    "volume_bar_pd = volume_bar_api.to_df(volume_bars)\n",
    "volume_bar_pd.head()"
   ],
   "outputs": [],
   "execution_count": null
  },
  {
   "metadata": {},
   "cell_type": "markdown",
   "source": "#### Creating Volume Imbalance Column"
  },
  {
   "metadata": {},
   "cell_type": "code",
   "source": [
    "volume_bar_pd[\"VPIN\"] = (volume_bar_pd[\"Cumulative Buy Volume\"] - volume_bar_pd[\"Cumulative Sell Volume\"]).abs().rolling(window=1).mean() / volume_bar_pd[\"Cumulative Volume\"]\n",
    "volume_bar_pd"
   ],
   "outputs": [],
   "execution_count": null
  },
  {
   "metadata": {},
   "cell_type": "markdown",
   "source": "#### Plotting the Volume Bars and volume imbalance column"
  },
  {
   "metadata": {},
   "cell_type": "code",
   "source": [
    "import plotly.graph_objs as go\n",
    "\n",
    "fig = make_subplots(rows=1, cols=1)\n",
    "fig.add_trace(\n",
    "    go.Scatter(\n",
    "        x=volume_bar_pd.index,\n",
    "        y=volume_bar_pd['Close'],\n",
    "        name=\"Prices\",\n",
    "    ),\n",
    "    row=1, col=1,\n",
    ")\n",
    "\n",
    "fig.add_trace(\n",
    "    go.Scatter(\n",
    "        x=volume_bar_pd.index,\n",
    "        y=volume_bar_pd['VPIN'],\n",
    "        name=\"VPIN\",\n",
    "    ),\n",
    "    row=1, col=1,\n",
    ")\n",
    "fig.update_layout(\n",
    "    title=\"Price Prediction\",\n",
    "    xaxis_title=\"Date\",\n",
    "    hovermode=\"x unified\",\n",
    "    template=\"plotly_dark\",\n",
    ")\n",
    "\n",
    "fig.show()"
   ],
   "outputs": [],
   "execution_count": null
  },
  {
   "metadata": {},
   "cell_type": "code",
   "source": "volume_bar_pd.to_csv('./data/ahrom_vpin_class.csv')",
   "outputs": [],
   "execution_count": null
  },
  {
   "attachments": {},
   "cell_type": "markdown",
   "metadata": {
    "collapsed": false,
    "pycharm": {
     "name": "#%% md\n"
    }
   },
   "source": [
    "## Tick Bars\n",
    "Each tick bar is a bar that is formed when a certain number of ticks pass. The threshold is the number of ticks that must pass for a new bar to be formed.\n",
    "### Create using Controller api"
   ]
  },
  {
   "cell_type": "code",
   "metadata": {
    "collapsed": false,
    "pycharm": {
     "name": "#%%\n"
    }
   },
   "source": [
    "tick = controller.handle_input_command(\n",
    "    method_name=\"tick_standard_bars\",\n",
    "    method_arguments={\n",
    "        \"tick_per_bar\": 100,\n",
    "    },\n",
    "    input_data=data,\n",
    "    batch_size=1_000_000,\n",
    ")\n",
    "\n",
    "tick"
   ],
   "outputs": [],
   "execution_count": null
  },
  {
   "metadata": {},
   "cell_type": "markdown",
   "source": "### Create using the StandardBar class"
  },
  {
   "metadata": {},
   "cell_type": "code",
   "source": [
    "tick_bar_api = StandardBar(bar_type=\"tick\",\n",
    "                           unit_per_bar=100)\n",
    "\n",
    "tick_bars = tick_bar_api.construct_bars_from_data(data.values) # The method accepts np, list and set\n",
    "len(tick_bars), len(tick_bars[0]), type(tick_bars), tick_bars[0]"
   ],
   "outputs": [],
   "execution_count": null
  },
  {
   "metadata": {},
   "cell_type": "code",
   "source": [
    "tick_bar_pd = tick_bar_api.to_df(tick_bars)\n",
    "tick_bar_pd.head()"
   ],
   "outputs": [],
   "execution_count": null
  },
  {
   "metadata": {},
   "cell_type": "code",
   "source": "",
   "outputs": [],
   "execution_count": null
  }
 ],
 "metadata": {
  "kernelspec": {
   "display_name": "Python 3",
   "language": "python",
   "name": "python3"
  },
  "language_info": {
   "codemirror_mode": {
    "name": "ipython",
    "version": 3
   },
   "file_extension": ".py",
   "mimetype": "text/x-python",
   "name": "python",
   "nbconvert_exporter": "python",
   "pygments_lexer": "ipython3",
   "version": "3.9.13"
  }
 },
 "nbformat": 4,
 "nbformat_minor": 0
}
