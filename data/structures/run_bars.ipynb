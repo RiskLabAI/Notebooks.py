{
 "cells": [
  {
   "metadata": {},
   "cell_type": "markdown",
   "source": [
    "# Run Bars\n",
    "## Imports and Reading the data"
   ]
  },
  {
   "metadata": {},
   "cell_type": "code",
   "source": [
    "from RiskLabAI.controller import Controller\n",
    "import pandas as pd\n",
    "\n",
    "data = pd.read_csv('./data/ahrom_edited.csv')\n",
    "data"
   ],
   "outputs": [],
   "execution_count": null
  },
  {
   "cell_type": "markdown",
   "metadata": {
    "collapsed": false,
    "pycharm": {
     "name": "#%% md\n"
    }
   },
   "source": [
    "## Creating Expected Run Bars Using Controller api\n",
    "### Expected Dollar Run Bars"
   ]
  },
  {
   "cell_type": "code",
   "metadata": {
    "collapsed": false,
    "pycharm": {
     "name": "#%%\n"
    }
   },
   "source": [
    "controller = Controller()\n",
    "\n",
    "print(\"Total data length is \", len(data))\n",
    "expected_dollar_run_bars = controller.handle_input_command(\n",
    "    method_name=\"expected_dollar_run_bars\",\n",
    "    method_arguments={\n",
    "        \"window_size_for_expected_n_ticks_estimation\": 5,\n",
    "        \"window_size_for_expected_imbalance_estimation\": 1000,\n",
    "        \"initial_estimate_of_expected_n_ticks_in_bar\": 1000,\n",
    "    },\n",
    "    input_data=data,\n",
    "    batch_size=1_000_000,\n",
    ")\n",
    "\n",
    "expected_dollar_run_bars"
   ],
   "outputs": [],
   "execution_count": null
  },
  {
   "metadata": {},
   "cell_type": "markdown",
   "source": "### Expected Volume Run Bars"
  },
  {
   "cell_type": "code",
   "metadata": {
    "collapsed": false,
    "pycharm": {
     "name": "#%%\n"
    }
   },
   "source": [
    "controller = Controller()\n",
    "\n",
    "expected_volume_run_bars = controller.handle_input_command(\n",
    "    method_name=\"expected_volume_run_bars\",\n",
    "    method_arguments={\n",
    "        \"window_size_for_expected_n_ticks_estimation\": 5,\n",
    "        \"window_size_for_expected_imbalance_estimation\": 10000,\n",
    "        \"initial_estimate_of_expected_n_ticks_in_bar\": 20000,\n",
    "    },\n",
    "    input_data=data,\n",
    "    batch_size=1_000_000,\n",
    ")\n",
    "\n",
    "expected_volume_run_bars"
   ],
   "outputs": [],
   "execution_count": null
  },
  {
   "metadata": {},
   "cell_type": "markdown",
   "source": "### Expected Tick Run Bars"
  },
  {
   "metadata": {},
   "cell_type": "code",
   "source": [
    "controller = Controller()\n",
    "\n",
    "expected_tick_run_bars = controller.handle_input_command(\n",
    "    method_name=\"expected_tick_run_bars\",\n",
    "    method_arguments={\n",
    "        \"window_size_for_expected_n_ticks_estimation\": 5,\n",
    "        \"window_size_for_expected_imbalance_estimation\": 100,\n",
    "        \"initial_estimate_of_expected_n_ticks_in_bar\": 10,\n",
    "    },\n",
    "    input_data=data,\n",
    "    batch_size=1_000_000,\n",
    ")\n",
    "\n",
    "expected_tick_run_bars"
   ],
   "outputs": [],
   "execution_count": null
  },
  {
   "cell_type": "markdown",
   "metadata": {
    "collapsed": false,
    "pycharm": {
     "name": "#%% md\n"
    }
   },
   "source": [
    "## Creating Fixed Run Bars Using Controller api\n",
    "### Fixed Dollar Run Bars"
   ]
  },
  {
   "cell_type": "code",
   "metadata": {
    "collapsed": false,
    "pycharm": {
     "name": "#%%\n"
    }
   },
   "source": [
    "controller = Controller()\n",
    "\n",
    "fixed_dollar_run_bars = controller.handle_input_command(\n",
    "    method_name=\"fixed_dollar_run_bars\",\n",
    "    method_arguments={\n",
    "        \"window_size_for_expected_imbalance_estimation\": 10000,\n",
    "        \"initial_estimate_of_expected_n_ticks_in_bar\": 20000,\n",
    "    },\n",
    "    input_data=data,\n",
    "    batch_size=1_000_000,\n",
    ")\n",
    "\n",
    "fixed_dollar_run_bars"
   ],
   "outputs": [],
   "execution_count": null
  },
  {
   "metadata": {},
   "cell_type": "markdown",
   "source": "### Fixed Volume Run Bars"
  },
  {
   "cell_type": "code",
   "metadata": {
    "collapsed": false,
    "pycharm": {
     "name": "#%%\n"
    }
   },
   "source": [
    "controller = Controller()\n",
    "\n",
    "fixed_volume_run_bars = controller.handle_input_command(\n",
    "    method_name=\"fixed_volume_run_bars\",\n",
    "    method_arguments={\n",
    "        \"window_size_for_expected_imbalance_estimation\": 10000,\n",
    "        \"initial_estimate_of_expected_n_ticks_in_bar\": 20000,\n",
    "    },\n",
    "    input_data=data,\n",
    "    batch_size=1_000_000,\n",
    ")\n",
    "\n",
    "fixed_volume_run_bars"
   ],
   "outputs": [],
   "execution_count": null
  },
  {
   "metadata": {},
   "cell_type": "markdown",
   "source": "### Fixed Tick Run Bars"
  },
  {
   "cell_type": "code",
   "metadata": {
    "collapsed": false,
    "pycharm": {
     "name": "#%%\n"
    }
   },
   "source": [
    "controller = Controller()\n",
    "\n",
    "fixed_tick_run_bars = controller.handle_input_command(\n",
    "    method_name=\"fixed_tick_run_bars\",\n",
    "    method_arguments={\n",
    "        \"window_size_for_expected_imbalance_estimation\": 1000,\n",
    "        \"initial_estimate_of_expected_n_ticks_in_bar\": 100,\n",
    "    },\n",
    "    input_data=data,\n",
    "    batch_size=1_000_000,\n",
    ")\n",
    "\n",
    "fixed_tick_run_bars"
   ],
   "outputs": [],
   "execution_count": null
  },
  {
   "metadata": {},
   "cell_type": "markdown",
   "source": [
    "## Creating Run Bars Using RunBar class\n",
    "### Expected Volume Run Bars"
   ]
  },
  {
   "metadata": {},
   "cell_type": "code",
   "source": [
    "from RiskLabAI.data.structures.run_bar import RunBar\n",
    "\n",
    "run_bar_initializer = RunBar(\n",
    "    bar_type=\"volume_run\",\n",
    "    num_ticks_type=\"expected\",\n",
    "    window_size_for_expected_n_ticks_estimation=5,\n",
    "    window_size_for_expected_imbalance_estimation=10000,\n",
    "    initial_estimate_of_expected_n_ticks_in_bar=20000,\n",
    "    analyse_thresholds=False,\n",
    ")\n",
    "\n",
    "run_bars = run_bar_initializer.construct_bars_from_data(data.values)\n",
    "len(run_bars), len(run_bars[0]), type(run_bars), run_bars[0]"
   ],
   "outputs": [],
   "execution_count": null
  },
  {
   "metadata": {},
   "cell_type": "code",
   "source": [
    "run_bars_pd = run_bar_initializer.to_df(run_bars)\n",
    "run_bars_pd.head()"
   ],
   "outputs": [],
   "execution_count": null
  },
  {
   "metadata": {},
   "cell_type": "markdown",
   "source": "### Fixed Tick Run Bars"
  },
  {
   "metadata": {},
   "cell_type": "code",
   "source": [
    "run_bar_initializer = RunBar(\n",
    "    bar_type=\"tick_run\",\n",
    "    num_ticks_type=\"fixed\",\n",
    "    window_size_for_expected_n_ticks_estimation=1,\n",
    "    window_size_for_expected_imbalance_estimation=1000,\n",
    "    initial_estimate_of_expected_n_ticks_in_bar=100,\n",
    "    analyse_thresholds=False,\n",
    ")\n",
    "\n",
    "run_bars = run_bar_initializer.construct_bars_from_data(data.values)\n",
    "len(run_bars), len(run_bars[0]), type(run_bars), run_bars[0]"
   ],
   "outputs": [],
   "execution_count": null
  },
  {
   "metadata": {},
   "cell_type": "code",
   "source": [
    "run_bars_pd = run_bar_initializer.to_df(run_bars)\n",
    "run_bars_pd.head()"
   ],
   "outputs": [],
   "execution_count": null
  },
  {
   "metadata": {},
   "cell_type": "code",
   "source": "",
   "outputs": [],
   "execution_count": null
  }
 ],
 "metadata": {
  "kernelspec": {
   "display_name": "Python 3",
   "language": "python",
   "name": "python3"
  },
  "language_info": {
   "codemirror_mode": {
    "name": "ipython",
    "version": 3
   },
   "file_extension": ".py",
   "mimetype": "text/x-python",
   "name": "python",
   "nbconvert_exporter": "python",
   "pygments_lexer": "ipython3",
   "version": "3.9.13"
  }
 },
 "nbformat": 4,
 "nbformat_minor": 0
}
