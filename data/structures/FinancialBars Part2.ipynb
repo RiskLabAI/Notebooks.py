{
 "cells": [
  {
   "attachments": {},
   "cell_type": "markdown",
   "metadata": {},
   "source": [
    "# Introduction"
   ]
  },
  {
   "attachments": {},
   "cell_type": "markdown",
   "metadata": {},
   "source": [
    "We will adhere to a series of essential procedures that can enhance our analysis in order to produce a reliable trading strategy through machine learning. Our first move will be to delve into the **Financial Bars** concepts.\n",
    "\n",
    "Instead of relying on traditional time bars, we will investigate dollar/tick/volume bars to structure our financial data. By grouping transactions together based on a fixed dollar/tick/volume amount, we can reduce noise in the data and enhance our ability to identify meaningful patterns.\n",
    "\n",
    "\n"
   ]
  },
  {
   "attachments": {},
   "cell_type": "markdown",
   "metadata": {},
   "source": [
    "# Financial Data Structures\n",
    "\n",
    "Before determining the most suitable structure to use, we will look into the various data structures available and the statistical properties they possess.\n",
    "\n",
    "Financial data structures consist of **time bars, tick bars, volume bars, and dollar bars**. Time bars are based on predetermined time intervals, such as a minute or an hour, and reveal trading activities during that time. Tick bars, on the other hand, display a specific number of trades that have occurred in each bar, for example, 100 trades. Volume bars are structured based on the total number of shares traded, such as a bar that represents 10,000 shares traded. Dollar bars are based on the total dollar value of shares traded and showcase the opening, closing, high, and low prices for trades executed in each bar. \n",
    "\n",
    "Tick bars are more frequently sampled as the number of trades increase, while volume bars are more frequently sampled as the traded volume increases. However, tick bars may not accurately reflect fluctuating asset values due to repetitive or manipulative trades. Therefore, volume bars may be more suitable as they only consider total volume traded. However, dollar bars can alternatively be used as they measure the fiat value of shares exchanged, avoiding the problem of misleading repetitive trades.\n",
    "\n",
    "Dollar bars are often viewed as more informative than other bar types because they offer a more comprehensive view of market activity and can more efficiently document times of high volatility. One advantage of dollar bars is their ability to diminish the influence of extraneous factors on financial data; in contrast, time-based bars may be subject to faulty signals due to low trading activity or market closures. As dollar bars are established utilizing tangible trading activity, they are more resilient to this type of interference."
   ]
  },
  {
   "attachments": {},
   "cell_type": "markdown",
   "metadata": {},
   "source": [
    "# Financial Data Structures with RiskLabAI\n",
    "\n",
    "The aim of this notebook is to serve as a guide to help users connect ideas to their actual implementation. It will specifically focus on creating different financial data structures and formatting data for utilization with the MlFinLab package.\n",
    "\n",
    "To demonstrate the process, we used sample tick data in `ahrom_edited.csv` file."
   ]
  },
  {
   "attachments": {},
   "cell_type": "markdown",
   "metadata": {},
   "source": [
    "## Import packages"
   ]
  },
  {
   "cell_type": "code",
   "execution_count": 4,
   "metadata": {},
   "outputs": [],
   "source": [
    "from controller.data_structure_controller import Controller\n",
    "\n",
    "import numpy as np\n",
    "import pandas as pd\n",
    "import matplotlib.pyplot as plt\n",
    "from scipy import stats\n",
    "import seaborn as sns\n",
    "\n",
    "# !pip3 install dtale\n",
    "import dtale"
   ]
  },
  {
   "cell_type": "code",
   "execution_count": 5,
   "metadata": {},
   "outputs": [
    {
     "data": {
      "text/html": [
       "<div>\n",
       "<style scoped>\n",
       "    .dataframe tbody tr th:only-of-type {\n",
       "        vertical-align: middle;\n",
       "    }\n",
       "\n",
       "    .dataframe tbody tr th {\n",
       "        vertical-align: top;\n",
       "    }\n",
       "\n",
       "    .dataframe thead th {\n",
       "        text-align: right;\n",
       "    }\n",
       "</style>\n",
       "<table border=\"1\" class=\"dataframe\">\n",
       "  <thead>\n",
       "    <tr style=\"text-align: right;\">\n",
       "      <th></th>\n",
       "      <th>date</th>\n",
       "      <th>price</th>\n",
       "      <th>volume</th>\n",
       "    </tr>\n",
       "  </thead>\n",
       "  <tbody>\n",
       "    <tr>\n",
       "      <th>0</th>\n",
       "      <td>2022-06-01 09:05:25</td>\n",
       "      <td>13170.0</td>\n",
       "      <td>5000.0</td>\n",
       "    </tr>\n",
       "    <tr>\n",
       "      <th>1</th>\n",
       "      <td>2022-06-01 09:06:38</td>\n",
       "      <td>13170.0</td>\n",
       "      <td>500.0</td>\n",
       "    </tr>\n",
       "    <tr>\n",
       "      <th>2</th>\n",
       "      <td>2022-06-01 09:06:38</td>\n",
       "      <td>13180.0</td>\n",
       "      <td>5000.0</td>\n",
       "    </tr>\n",
       "    <tr>\n",
       "      <th>3</th>\n",
       "      <td>2022-06-01 09:06:38</td>\n",
       "      <td>13190.0</td>\n",
       "      <td>4500.0</td>\n",
       "    </tr>\n",
       "    <tr>\n",
       "      <th>4</th>\n",
       "      <td>2022-06-01 09:08:09</td>\n",
       "      <td>13180.0</td>\n",
       "      <td>440.0</td>\n",
       "    </tr>\n",
       "    <tr>\n",
       "      <th>...</th>\n",
       "      <td>...</td>\n",
       "      <td>...</td>\n",
       "      <td>...</td>\n",
       "    </tr>\n",
       "    <tr>\n",
       "      <th>729721</th>\n",
       "      <td>2023-03-29 12:29:58</td>\n",
       "      <td>22720.0</td>\n",
       "      <td>24.0</td>\n",
       "    </tr>\n",
       "    <tr>\n",
       "      <th>729722</th>\n",
       "      <td>2023-03-29 12:29:58</td>\n",
       "      <td>22720.0</td>\n",
       "      <td>21981.0</td>\n",
       "    </tr>\n",
       "    <tr>\n",
       "      <th>729723</th>\n",
       "      <td>2023-03-29 12:29:58</td>\n",
       "      <td>22720.0</td>\n",
       "      <td>1000.0</td>\n",
       "    </tr>\n",
       "    <tr>\n",
       "      <th>729724</th>\n",
       "      <td>2023-03-29 12:29:58</td>\n",
       "      <td>22720.0</td>\n",
       "      <td>100.0</td>\n",
       "    </tr>\n",
       "    <tr>\n",
       "      <th>729725</th>\n",
       "      <td>2023-03-29 12:29:58</td>\n",
       "      <td>22720.0</td>\n",
       "      <td>1000.0</td>\n",
       "    </tr>\n",
       "  </tbody>\n",
       "</table>\n",
       "<p>729726 rows × 3 columns</p>\n",
       "</div>"
      ],
      "text/plain": [
       "                      date    price   volume\n",
       "0      2022-06-01 09:05:25  13170.0   5000.0\n",
       "1      2022-06-01 09:06:38  13170.0    500.0\n",
       "2      2022-06-01 09:06:38  13180.0   5000.0\n",
       "3      2022-06-01 09:06:38  13190.0   4500.0\n",
       "4      2022-06-01 09:08:09  13180.0    440.0\n",
       "...                    ...      ...      ...\n",
       "729721 2023-03-29 12:29:58  22720.0     24.0\n",
       "729722 2023-03-29 12:29:58  22720.0  21981.0\n",
       "729723 2023-03-29 12:29:58  22720.0   1000.0\n",
       "729724 2023-03-29 12:29:58  22720.0    100.0\n",
       "729725 2023-03-29 12:29:58  22720.0   1000.0\n",
       "\n",
       "[729726 rows x 3 columns]"
      ]
     },
     "execution_count": 5,
     "metadata": {},
     "output_type": "execute_result"
    }
   ],
   "source": [
    "controller = Controller()\n",
    "data = pd.read_csv('../ahrom_edited.csv')\n",
    "data[\"date\"] = pd.to_datetime(data[\"date\"])\n",
    "data"
   ]
  },
  {
   "attachments": {},
   "cell_type": "markdown",
   "metadata": {},
   "source": [
    "# Financial Data Structures Using RiskLabAI\n",
    "\n",
    "In the second step, we construct different data structures. While our emphasis is on the standard bars in this notebook, the information-driven bars are also at our disposal."
   ]
  },
  {
   "attachments": {},
   "cell_type": "markdown",
   "metadata": {},
   "source": [
    "## Dollar Standard Bars"
   ]
  },
  {
   "cell_type": "code",
   "execution_count": 6,
   "metadata": {},
   "outputs": [
    {
     "name": "stdout",
     "output_type": "stream",
     "text": [
      "batch 0 with size 729726\n"
     ]
    },
    {
     "data": {
      "text/html": [
       "<div>\n",
       "<style scoped>\n",
       "    .dataframe tbody tr th:only-of-type {\n",
       "        vertical-align: middle;\n",
       "    }\n",
       "\n",
       "    .dataframe tbody tr th {\n",
       "        vertical-align: top;\n",
       "    }\n",
       "\n",
       "    .dataframe thead th {\n",
       "        text-align: right;\n",
       "    }\n",
       "</style>\n",
       "<table border=\"1\" class=\"dataframe\">\n",
       "  <thead>\n",
       "    <tr style=\"text-align: right;\">\n",
       "      <th></th>\n",
       "      <th>Date Time</th>\n",
       "      <th>Tick Number</th>\n",
       "      <th>Open</th>\n",
       "      <th>High</th>\n",
       "      <th>Low</th>\n",
       "      <th>Close</th>\n",
       "      <th>Cumulative Volume</th>\n",
       "      <th>Cumulative Buy Volume</th>\n",
       "      <th>Cumulative Sell Volume</th>\n",
       "      <th>Cumulative Ticks</th>\n",
       "      <th>Cumulative Dollar Value</th>\n",
       "      <th>Threshold</th>\n",
       "    </tr>\n",
       "  </thead>\n",
       "  <tbody>\n",
       "    <tr>\n",
       "      <th>0</th>\n",
       "      <td>2022-06-01 11:53:13</td>\n",
       "      <td>361</td>\n",
       "      <td>13170.0</td>\n",
       "      <td>13390.0</td>\n",
       "      <td>12850.0</td>\n",
       "      <td>13100.0</td>\n",
       "      <td>4602162.0</td>\n",
       "      <td>2129547.0</td>\n",
       "      <td>2472615.0</td>\n",
       "      <td>361</td>\n",
       "      <td>6.018782e+10</td>\n",
       "      <td>60000000000</td>\n",
       "    </tr>\n",
       "    <tr>\n",
       "      <th>1</th>\n",
       "      <td>2022-06-06 09:54:16</td>\n",
       "      <td>724</td>\n",
       "      <td>13100.0</td>\n",
       "      <td>13200.0</td>\n",
       "      <td>12220.0</td>\n",
       "      <td>12460.0</td>\n",
       "      <td>4678312.0</td>\n",
       "      <td>1589824.0</td>\n",
       "      <td>3088488.0</td>\n",
       "      <td>363</td>\n",
       "      <td>6.004993e+10</td>\n",
       "      <td>60000000000</td>\n",
       "    </tr>\n",
       "    <tr>\n",
       "      <th>2</th>\n",
       "      <td>2022-06-07 09:29:29</td>\n",
       "      <td>1242</td>\n",
       "      <td>12460.0</td>\n",
       "      <td>12770.0</td>\n",
       "      <td>12260.0</td>\n",
       "      <td>12520.0</td>\n",
       "      <td>4836196.0</td>\n",
       "      <td>2396111.0</td>\n",
       "      <td>2440085.0</td>\n",
       "      <td>518</td>\n",
       "      <td>6.002969e+10</td>\n",
       "      <td>60000000000</td>\n",
       "    </tr>\n",
       "    <tr>\n",
       "      <th>3</th>\n",
       "      <td>2022-06-07 12:00:43</td>\n",
       "      <td>1599</td>\n",
       "      <td>12520.0</td>\n",
       "      <td>12700.0</td>\n",
       "      <td>12300.0</td>\n",
       "      <td>12350.0</td>\n",
       "      <td>4784633.0</td>\n",
       "      <td>1983871.0</td>\n",
       "      <td>2800762.0</td>\n",
       "      <td>357</td>\n",
       "      <td>6.015340e+10</td>\n",
       "      <td>60000000000</td>\n",
       "    </tr>\n",
       "    <tr>\n",
       "      <th>4</th>\n",
       "      <td>2022-06-08 10:15:23</td>\n",
       "      <td>1911</td>\n",
       "      <td>12330.0</td>\n",
       "      <td>12750.0</td>\n",
       "      <td>12300.0</td>\n",
       "      <td>12600.0</td>\n",
       "      <td>4785471.0</td>\n",
       "      <td>1512559.0</td>\n",
       "      <td>3272912.0</td>\n",
       "      <td>312</td>\n",
       "      <td>6.014171e+10</td>\n",
       "      <td>60000000000</td>\n",
       "    </tr>\n",
       "    <tr>\n",
       "      <th>...</th>\n",
       "      <td>...</td>\n",
       "      <td>...</td>\n",
       "      <td>...</td>\n",
       "      <td>...</td>\n",
       "      <td>...</td>\n",
       "      <td>...</td>\n",
       "      <td>...</td>\n",
       "      <td>...</td>\n",
       "      <td>...</td>\n",
       "      <td>...</td>\n",
       "      <td>...</td>\n",
       "      <td>...</td>\n",
       "    </tr>\n",
       "    <tr>\n",
       "      <th>2708</th>\n",
       "      <td>2023-03-29 12:22:19</td>\n",
       "      <td>728865</td>\n",
       "      <td>22600.0</td>\n",
       "      <td>22630.0</td>\n",
       "      <td>22550.0</td>\n",
       "      <td>22630.0</td>\n",
       "      <td>2660201.0</td>\n",
       "      <td>1745068.0</td>\n",
       "      <td>915133.0</td>\n",
       "      <td>222</td>\n",
       "      <td>6.005972e+10</td>\n",
       "      <td>60000000000</td>\n",
       "    </tr>\n",
       "    <tr>\n",
       "      <th>2709</th>\n",
       "      <td>2023-03-29 12:24:03</td>\n",
       "      <td>729057</td>\n",
       "      <td>22630.0</td>\n",
       "      <td>22700.0</td>\n",
       "      <td>22630.0</td>\n",
       "      <td>22700.0</td>\n",
       "      <td>2655995.0</td>\n",
       "      <td>1979292.0</td>\n",
       "      <td>676703.0</td>\n",
       "      <td>192</td>\n",
       "      <td>6.021466e+10</td>\n",
       "      <td>60000000000</td>\n",
       "    </tr>\n",
       "    <tr>\n",
       "      <th>2710</th>\n",
       "      <td>2023-03-29 12:25:39</td>\n",
       "      <td>729207</td>\n",
       "      <td>22700.0</td>\n",
       "      <td>22730.0</td>\n",
       "      <td>22670.0</td>\n",
       "      <td>22730.0</td>\n",
       "      <td>2825859.0</td>\n",
       "      <td>2023088.0</td>\n",
       "      <td>802771.0</td>\n",
       "      <td>150</td>\n",
       "      <td>6.415170e+10</td>\n",
       "      <td>60000000000</td>\n",
       "    </tr>\n",
       "    <tr>\n",
       "      <th>2711</th>\n",
       "      <td>2023-03-29 12:27:20</td>\n",
       "      <td>729413</td>\n",
       "      <td>22730.0</td>\n",
       "      <td>22810.0</td>\n",
       "      <td>22730.0</td>\n",
       "      <td>22810.0</td>\n",
       "      <td>2653304.0</td>\n",
       "      <td>1977808.0</td>\n",
       "      <td>675496.0</td>\n",
       "      <td>206</td>\n",
       "      <td>6.042023e+10</td>\n",
       "      <td>60000000000</td>\n",
       "    </tr>\n",
       "    <tr>\n",
       "      <th>2712</th>\n",
       "      <td>2023-03-29 12:29:14</td>\n",
       "      <td>729610</td>\n",
       "      <td>22810.0</td>\n",
       "      <td>22820.0</td>\n",
       "      <td>22750.0</td>\n",
       "      <td>22750.0</td>\n",
       "      <td>2641722.0</td>\n",
       "      <td>1284530.0</td>\n",
       "      <td>1357192.0</td>\n",
       "      <td>197</td>\n",
       "      <td>6.017371e+10</td>\n",
       "      <td>60000000000</td>\n",
       "    </tr>\n",
       "  </tbody>\n",
       "</table>\n",
       "<p>2713 rows × 12 columns</p>\n",
       "</div>"
      ],
      "text/plain": [
       "               Date Time  Tick Number     Open     High      Low    Close  \\\n",
       "0    2022-06-01 11:53:13          361  13170.0  13390.0  12850.0  13100.0   \n",
       "1    2022-06-06 09:54:16          724  13100.0  13200.0  12220.0  12460.0   \n",
       "2    2022-06-07 09:29:29         1242  12460.0  12770.0  12260.0  12520.0   \n",
       "3    2022-06-07 12:00:43         1599  12520.0  12700.0  12300.0  12350.0   \n",
       "4    2022-06-08 10:15:23         1911  12330.0  12750.0  12300.0  12600.0   \n",
       "...                  ...          ...      ...      ...      ...      ...   \n",
       "2708 2023-03-29 12:22:19       728865  22600.0  22630.0  22550.0  22630.0   \n",
       "2709 2023-03-29 12:24:03       729057  22630.0  22700.0  22630.0  22700.0   \n",
       "2710 2023-03-29 12:25:39       729207  22700.0  22730.0  22670.0  22730.0   \n",
       "2711 2023-03-29 12:27:20       729413  22730.0  22810.0  22730.0  22810.0   \n",
       "2712 2023-03-29 12:29:14       729610  22810.0  22820.0  22750.0  22750.0   \n",
       "\n",
       "      Cumulative Volume  Cumulative Buy Volume  Cumulative Sell Volume  \\\n",
       "0             4602162.0              2129547.0               2472615.0   \n",
       "1             4678312.0              1589824.0               3088488.0   \n",
       "2             4836196.0              2396111.0               2440085.0   \n",
       "3             4784633.0              1983871.0               2800762.0   \n",
       "4             4785471.0              1512559.0               3272912.0   \n",
       "...                 ...                    ...                     ...   \n",
       "2708          2660201.0              1745068.0                915133.0   \n",
       "2709          2655995.0              1979292.0                676703.0   \n",
       "2710          2825859.0              2023088.0                802771.0   \n",
       "2711          2653304.0              1977808.0                675496.0   \n",
       "2712          2641722.0              1284530.0               1357192.0   \n",
       "\n",
       "      Cumulative Ticks  Cumulative Dollar Value    Threshold  \n",
       "0                  361             6.018782e+10  60000000000  \n",
       "1                  363             6.004993e+10  60000000000  \n",
       "2                  518             6.002969e+10  60000000000  \n",
       "3                  357             6.015340e+10  60000000000  \n",
       "4                  312             6.014171e+10  60000000000  \n",
       "...                ...                      ...          ...  \n",
       "2708               222             6.005972e+10  60000000000  \n",
       "2709               192             6.021466e+10  60000000000  \n",
       "2710               150             6.415170e+10  60000000000  \n",
       "2711               206             6.042023e+10  60000000000  \n",
       "2712               197             6.017371e+10  60000000000  \n",
       "\n",
       "[2713 rows x 12 columns]"
      ]
     },
     "execution_count": 6,
     "metadata": {},
     "output_type": "execute_result"
    }
   ],
   "source": [
    "dollar_standard = controller.handle_input_command(\n",
    "    method_name=\"dollar_standard_bars\",\n",
    "    method_arguments={\n",
    "        \"threshold\": 60_000_000_000,\n",
    "    },\n",
    "    input_data=data,\n",
    "    batch_size=1_000_000,\n",
    ")\n",
    "\n",
    "dollar_standard"
   ]
  },
  {
   "attachments": {},
   "cell_type": "markdown",
   "metadata": {},
   "source": [
    "## Fixed Dollar Imbalance Bars"
   ]
  },
  {
   "cell_type": "code",
   "execution_count": 15,
   "metadata": {},
   "outputs": [
    {
     "name": "stdout",
     "output_type": "stream",
     "text": [
      "batch 0 with size 729726\n"
     ]
    },
    {
     "data": {
      "text/html": [
       "<div>\n",
       "<style scoped>\n",
       "    .dataframe tbody tr th:only-of-type {\n",
       "        vertical-align: middle;\n",
       "    }\n",
       "\n",
       "    .dataframe tbody tr th {\n",
       "        vertical-align: top;\n",
       "    }\n",
       "\n",
       "    .dataframe thead th {\n",
       "        text-align: right;\n",
       "    }\n",
       "</style>\n",
       "<table border=\"1\" class=\"dataframe\">\n",
       "  <thead>\n",
       "    <tr style=\"text-align: right;\">\n",
       "      <th></th>\n",
       "      <th>Date Time</th>\n",
       "      <th>Tick Number</th>\n",
       "      <th>Open</th>\n",
       "      <th>High</th>\n",
       "      <th>Low</th>\n",
       "      <th>Close</th>\n",
       "      <th>Cumulative Volume</th>\n",
       "      <th>Cumulative Buy Volume</th>\n",
       "      <th>Cumulative Sell Volume</th>\n",
       "      <th>Cumulative Ticks</th>\n",
       "      <th>Cumulative Dollar Value</th>\n",
       "      <th>Threshold</th>\n",
       "    </tr>\n",
       "  </thead>\n",
       "  <tbody>\n",
       "    <tr>\n",
       "      <th>0</th>\n",
       "      <td>2022-06-25 09:31:16</td>\n",
       "      <td>11286</td>\n",
       "      <td>13170.0</td>\n",
       "      <td>13450.0</td>\n",
       "      <td>12020.0</td>\n",
       "      <td>12480.0</td>\n",
       "      <td>187670854.0</td>\n",
       "      <td>56915504.0</td>\n",
       "      <td>130755350.0</td>\n",
       "      <td>11286</td>\n",
       "      <td>2.411222e+12</td>\n",
       "      <td>9.416787e+11</td>\n",
       "    </tr>\n",
       "    <tr>\n",
       "      <th>1</th>\n",
       "      <td>2022-09-04 12:07:11</td>\n",
       "      <td>46094</td>\n",
       "      <td>12500.0</td>\n",
       "      <td>12530.0</td>\n",
       "      <td>10150.0</td>\n",
       "      <td>10520.0</td>\n",
       "      <td>428949926.0</td>\n",
       "      <td>175870754.0</td>\n",
       "      <td>253079172.0</td>\n",
       "      <td>34808</td>\n",
       "      <td>4.739481e+12</td>\n",
       "      <td>8.456605e+11</td>\n",
       "    </tr>\n",
       "    <tr>\n",
       "      <th>2</th>\n",
       "      <td>2022-10-01 10:18:34</td>\n",
       "      <td>57050</td>\n",
       "      <td>10520.0</td>\n",
       "      <td>10710.0</td>\n",
       "      <td>9280.0</td>\n",
       "      <td>9300.0</td>\n",
       "      <td>114458723.0</td>\n",
       "      <td>41269342.0</td>\n",
       "      <td>73189381.0</td>\n",
       "      <td>10956</td>\n",
       "      <td>1.135483e+12</td>\n",
       "      <td>3.152873e+11</td>\n",
       "    </tr>\n",
       "    <tr>\n",
       "      <th>3</th>\n",
       "      <td>2022-10-24 10:37:57</td>\n",
       "      <td>66143</td>\n",
       "      <td>9290.0</td>\n",
       "      <td>9370.0</td>\n",
       "      <td>8500.0</td>\n",
       "      <td>8510.0</td>\n",
       "      <td>114795380.0</td>\n",
       "      <td>39881236.0</td>\n",
       "      <td>74914144.0</td>\n",
       "      <td>9093</td>\n",
       "      <td>1.031735e+12</td>\n",
       "      <td>3.120788e+11</td>\n",
       "    </tr>\n",
       "    <tr>\n",
       "      <th>4</th>\n",
       "      <td>2022-11-12 09:20:06</td>\n",
       "      <td>96770</td>\n",
       "      <td>8510.0</td>\n",
       "      <td>11050.0</td>\n",
       "      <td>7710.0</td>\n",
       "      <td>10820.0</td>\n",
       "      <td>530003244.0</td>\n",
       "      <td>247079540.0</td>\n",
       "      <td>282923704.0</td>\n",
       "      <td>30627</td>\n",
       "      <td>5.188985e+12</td>\n",
       "      <td>3.270107e+11</td>\n",
       "    </tr>\n",
       "    <tr>\n",
       "      <th>...</th>\n",
       "      <td>...</td>\n",
       "      <td>...</td>\n",
       "      <td>...</td>\n",
       "      <td>...</td>\n",
       "      <td>...</td>\n",
       "      <td>...</td>\n",
       "      <td>...</td>\n",
       "      <td>...</td>\n",
       "      <td>...</td>\n",
       "      <td>...</td>\n",
       "      <td>...</td>\n",
       "      <td>...</td>\n",
       "    </tr>\n",
       "    <tr>\n",
       "      <th>845</th>\n",
       "      <td>2023-03-26 10:54:59</td>\n",
       "      <td>686625</td>\n",
       "      <td>21220.0</td>\n",
       "      <td>21230.0</td>\n",
       "      <td>20970.0</td>\n",
       "      <td>21000.0</td>\n",
       "      <td>11528413.0</td>\n",
       "      <td>2718063.0</td>\n",
       "      <td>8810350.0</td>\n",
       "      <td>1001</td>\n",
       "      <td>2.430722e+11</td>\n",
       "      <td>1.280299e+11</td>\n",
       "    </tr>\n",
       "    <tr>\n",
       "      <th>846</th>\n",
       "      <td>2023-03-26 11:12:42</td>\n",
       "      <td>688822</td>\n",
       "      <td>21000.0</td>\n",
       "      <td>21090.0</td>\n",
       "      <td>20750.0</td>\n",
       "      <td>20750.0</td>\n",
       "      <td>29318192.0</td>\n",
       "      <td>10718726.0</td>\n",
       "      <td>18599466.0</td>\n",
       "      <td>2197</td>\n",
       "      <td>6.131364e+11</td>\n",
       "      <td>1.550012e+11</td>\n",
       "    </tr>\n",
       "    <tr>\n",
       "      <th>847</th>\n",
       "      <td>2023-03-26 12:28:43</td>\n",
       "      <td>693203</td>\n",
       "      <td>20750.0</td>\n",
       "      <td>20910.0</td>\n",
       "      <td>20600.0</td>\n",
       "      <td>20660.0</td>\n",
       "      <td>36848589.0</td>\n",
       "      <td>13944008.0</td>\n",
       "      <td>22904581.0</td>\n",
       "      <td>4381</td>\n",
       "      <td>7.641143e+11</td>\n",
       "      <td>1.845565e+11</td>\n",
       "    </tr>\n",
       "    <tr>\n",
       "      <th>848</th>\n",
       "      <td>2023-03-28 10:31:58</td>\n",
       "      <td>712239</td>\n",
       "      <td>20660.0</td>\n",
       "      <td>22370.0</td>\n",
       "      <td>20550.0</td>\n",
       "      <td>21410.0</td>\n",
       "      <td>219722429.0</td>\n",
       "      <td>104579916.0</td>\n",
       "      <td>115142513.0</td>\n",
       "      <td>19036</td>\n",
       "      <td>4.722263e+12</td>\n",
       "      <td>2.206656e+11</td>\n",
       "    </tr>\n",
       "    <tr>\n",
       "      <th>849</th>\n",
       "      <td>2023-03-29 09:03:04</td>\n",
       "      <td>716262</td>\n",
       "      <td>21410.0</td>\n",
       "      <td>22340.0</td>\n",
       "      <td>21370.0</td>\n",
       "      <td>22340.0</td>\n",
       "      <td>52353739.0</td>\n",
       "      <td>30630598.0</td>\n",
       "      <td>21723141.0</td>\n",
       "      <td>4023</td>\n",
       "      <td>1.139435e+12</td>\n",
       "      <td>1.972583e+11</td>\n",
       "    </tr>\n",
       "  </tbody>\n",
       "</table>\n",
       "<p>850 rows × 12 columns</p>\n",
       "</div>"
      ],
      "text/plain": [
       "              Date Time  Tick Number     Open     High      Low    Close  \\\n",
       "0   2022-06-25 09:31:16        11286  13170.0  13450.0  12020.0  12480.0   \n",
       "1   2022-09-04 12:07:11        46094  12500.0  12530.0  10150.0  10520.0   \n",
       "2   2022-10-01 10:18:34        57050  10520.0  10710.0   9280.0   9300.0   \n",
       "3   2022-10-24 10:37:57        66143   9290.0   9370.0   8500.0   8510.0   \n",
       "4   2022-11-12 09:20:06        96770   8510.0  11050.0   7710.0  10820.0   \n",
       "..                  ...          ...      ...      ...      ...      ...   \n",
       "845 2023-03-26 10:54:59       686625  21220.0  21230.0  20970.0  21000.0   \n",
       "846 2023-03-26 11:12:42       688822  21000.0  21090.0  20750.0  20750.0   \n",
       "847 2023-03-26 12:28:43       693203  20750.0  20910.0  20600.0  20660.0   \n",
       "848 2023-03-28 10:31:58       712239  20660.0  22370.0  20550.0  21410.0   \n",
       "849 2023-03-29 09:03:04       716262  21410.0  22340.0  21370.0  22340.0   \n",
       "\n",
       "     Cumulative Volume  Cumulative Buy Volume  Cumulative Sell Volume  \\\n",
       "0          187670854.0             56915504.0             130755350.0   \n",
       "1          428949926.0            175870754.0             253079172.0   \n",
       "2          114458723.0             41269342.0              73189381.0   \n",
       "3          114795380.0             39881236.0              74914144.0   \n",
       "4          530003244.0            247079540.0             282923704.0   \n",
       "..                 ...                    ...                     ...   \n",
       "845         11528413.0              2718063.0               8810350.0   \n",
       "846         29318192.0             10718726.0              18599466.0   \n",
       "847         36848589.0             13944008.0              22904581.0   \n",
       "848        219722429.0            104579916.0             115142513.0   \n",
       "849         52353739.0             30630598.0              21723141.0   \n",
       "\n",
       "     Cumulative Ticks  Cumulative Dollar Value     Threshold  \n",
       "0               11286             2.411222e+12  9.416787e+11  \n",
       "1               34808             4.739481e+12  8.456605e+11  \n",
       "2               10956             1.135483e+12  3.152873e+11  \n",
       "3                9093             1.031735e+12  3.120788e+11  \n",
       "4               30627             5.188985e+12  3.270107e+11  \n",
       "..                ...                      ...           ...  \n",
       "845              1001             2.430722e+11  1.280299e+11  \n",
       "846              2197             6.131364e+11  1.550012e+11  \n",
       "847              4381             7.641143e+11  1.845565e+11  \n",
       "848             19036             4.722263e+12  2.206656e+11  \n",
       "849              4023             1.139435e+12  1.972583e+11  \n",
       "\n",
       "[850 rows x 12 columns]"
      ]
     },
     "execution_count": 15,
     "metadata": {},
     "output_type": "execute_result"
    }
   ],
   "source": [
    "fixed_dollar_imbalance = controller.handle_input_command(\n",
    "    method_name=\"fixed_dollar_imbalance_bars\",\n",
    "    method_arguments={\n",
    "        \"window_size_for_expected_imbalance_estimation\": 100000,\n",
    "        \"initial_estimate_of_expected_n_ticks_in_bar\": 10000,\n",
    "    },\n",
    "    input_data=data,\n",
    "    batch_size=1_000_000,\n",
    ")\n",
    "\n",
    "fixed_dollar_imbalance"
   ]
  },
  {
   "attachments": {},
   "cell_type": "markdown",
   "metadata": {},
   "source": [
    "## Stability"
   ]
  },
  {
   "cell_type": "code",
   "execution_count": 16,
   "metadata": {},
   "outputs": [],
   "source": [
    "dollar_standard_bars = dollar_standard.set_index(['Date Time'])\n",
    "fixed_dollar_imbalance_bars = fixed_dollar_imbalance.set_index(['Date Time'])"
   ]
  },
  {
   "attachments": {},
   "cell_type": "markdown",
   "metadata": {},
   "source": [
    "# Testing for partial return to normality\n",
    "\n",
    "The Jarque-Bera test is an assessment of how well a dataset's skewness and kurtosis match a normal distribution. Its main use is to test the assumption of normality in residuals during regression analysis, and its test statistic is determined by multiplying the sample size by the skewness and kurtosis of the sample.\n",
    "\n",
    "Another common test used for normality is the Shapiro-Wilk test. It checks if a dataset is normally distributed by comparing the observed distribution to the expected distribution under the assumption of normality. The test statistic is derived from the differences between observed and expected values squared.\n",
    "\n",
    "Both tests are employed to determine if a dataset could have been drawn from a normal distribution, but the Shapiro-Wilk test is usually regarded as more accurate, particularly for smaller datasets. Furthermore, while the Jarque-Bera test only accounts for skewness and kurtosis, the Shapiro-Wilk test considers the entire distribution.\n",
    "\n",
    "It is best practice to combine these two tests with other diagnostic tools to fully evaluate whether a dataset can be reasonably assumed to be drawn from a normal distribution."
   ]
  },
  {
   "attachments": {},
   "cell_type": "markdown",
   "metadata": {},
   "source": [
    "## Jarque-Bera Test"
   ]
  },
  {
   "cell_type": "code",
   "execution_count": 9,
   "metadata": {},
   "outputs": [],
   "source": [
    "dollar_standard_bars_returns = np.log(dollar_standard_bars['Close']).diff().dropna()\n",
    "fixed_dollar_imbalance_bars_returns = np.log(fixed_dollar_imbalance_bars['Close']).diff().dropna()"
   ]
  },
  {
   "cell_type": "code",
   "execution_count": 17,
   "metadata": {},
   "outputs": [
    {
     "data": {
      "text/plain": [
       "14227"
      ]
     },
     "execution_count": 17,
     "metadata": {},
     "output_type": "execute_result"
    }
   ],
   "source": [
    "int(stats.jarque_bera(dollar_standard_bars)[0])"
   ]
  },
  {
   "cell_type": "code",
   "execution_count": 18,
   "metadata": {},
   "outputs": [
    {
     "data": {
      "text/plain": [
       "543815545"
      ]
     },
     "execution_count": 18,
     "metadata": {},
     "output_type": "execute_result"
    }
   ],
   "source": [
    "int(stats.jarque_bera(fixed_dollar_imbalance_bars)[0])"
   ]
  },
  {
   "attachments": {},
   "cell_type": "markdown",
   "metadata": {},
   "source": [
    "## Shapiro-Wilk Test"
   ]
  },
  {
   "cell_type": "code",
   "execution_count": 19,
   "metadata": {},
   "outputs": [
    {
     "data": {
      "text/plain": [
       "ShapiroResult(statistic=0.864446759223938, pvalue=1.821688003622262e-43)"
      ]
     },
     "execution_count": 19,
     "metadata": {},
     "output_type": "execute_result"
    }
   ],
   "source": [
    "stats.shapiro(dollar_standard_bars_returns)"
   ]
  },
  {
   "cell_type": "code",
   "execution_count": 20,
   "metadata": {},
   "outputs": [
    {
     "data": {
      "text/plain": [
       "ShapiroResult(statistic=0.41210997104644775, pvalue=0.0)"
      ]
     },
     "execution_count": 20,
     "metadata": {},
     "output_type": "execute_result"
    }
   ],
   "source": [
    "stats.shapiro(fixed_dollar_imbalance_bars_returns)"
   ]
  },
  {
   "attachments": {},
   "cell_type": "markdown",
   "metadata": {},
   "source": [
    "If the Jarque-Bera test statistic is lower, it indicates that the returns are more normally distributed. In this instance, the time bars had the highest test statistic, whereas volume bars had the lowest, and dollar bars were in the middle. Surprisingly, the volume bars had a skewness and kurtosis closest to that of a normal distribution, despite the Jarque-Bera test only accounting for these factors.\n",
    "\n",
    "With regards to the Shapiro-Wilk test, the closer the test statistic is to 1, the more it approximates a normal distribution. Once more, we can see that both volume and dollar bars show an improvement from time bars."
   ]
  },
  {
   "attachments": {},
   "cell_type": "markdown",
   "metadata": {},
   "source": [
    "## Results KDE plot "
   ]
  },
  {
   "attachments": {},
   "cell_type": "markdown",
   "metadata": {},
   "source": [
    "#### Standardize Data"
   ]
  },
  {
   "cell_type": "code",
   "execution_count": 21,
   "metadata": {},
   "outputs": [],
   "source": [
    "dollar_standard_bars_returns_standard = (dollar_standard_bars_returns - dollar_standard_bars_returns.mean()) / dollar_standard_bars_returns.std()\n",
    "fixed_dollar_imbalance_bars_standard = (fixed_dollar_imbalance_bars_returns - fixed_dollar_imbalance_bars_returns.mean()) / fixed_dollar_imbalance_bars_returns.std()"
   ]
  },
  {
   "attachments": {},
   "cell_type": "markdown",
   "metadata": {},
   "source": [
    "### Distribution Plot"
   ]
  },
  {
   "cell_type": "code",
   "execution_count": 24,
   "metadata": {},
   "outputs": [
    {
     "data": {
      "text/plain": [
       "<matplotlib.legend.Legend at 0x2569dcfdeb0>"
      ]
     },
     "execution_count": 24,
     "metadata": {},
     "output_type": "execute_result"
    },
    {
     "data": {
      "image/png": "[encoded data removed]",
      "text/plain": [
       "<Figure size 2000x1000 with 1 Axes>"
      ]
     },
     "metadata": {},
     "output_type": "display_data"
    }
   ],
   "source": [
    "# Plot results\n",
    "plt.figure(figsize=(20,10))\n",
    "sns.kdeplot(dollar_standard_bars_returns_standard, label=\"Imbalance bars\")\n",
    "sns.kdeplot(fixed_dollar_imbalance_bars_standard, label=\"Dollar bars\")\n",
    "sns.kdeplot(np.random.normal(size=1000), label=\"Normal\", color='black', linestyle=\"--\")\n",
    "plt.legend()"
   ]
  }
 ],
 "metadata": {
  "kernelspec": {
   "display_name": "base",
   "language": "python",
   "name": "python3"
  },
  "language_info": {
   "codemirror_mode": {
    "name": "ipython",
    "version": 3
   },
   "file_extension": ".py",
   "mimetype": "text/x-python",
   "name": "python",
   "nbconvert_exporter": "python",
   "pygments_lexer": "ipython3",
   "version": "3.9.13"
  },
  "orig_nbformat": 4
 },
 "nbformat": 4,
 "nbformat_minor": 2
}
