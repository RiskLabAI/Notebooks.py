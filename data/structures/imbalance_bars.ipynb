{
 "cells": [
  {
   "metadata": {},
   "cell_type": "markdown",
   "source": [
    "# Imbalance Bars\n",
    "## Imports and Reading the data"
   ]
  },
  {
   "metadata": {},
   "cell_type": "code",
   "source": [
    "from RiskLabAI.controller import Controller\n",
    "import pandas as pd\n",
    "\n",
    "controller = Controller()\n",
    "data = pd.read_csv('./data/ahrom_edited.csv')\n",
    "\n",
    "data"
   ],
   "outputs": [],
   "execution_count": null
  },
  {
   "attachments": {},
   "cell_type": "markdown",
   "metadata": {
    "collapsed": false,
    "pycharm": {
     "name": "#%% md\n"
    }
   },
   "source": [
    "## Creating Expected Imbalance Bars Using Controller api\n",
    "### Expected Dollar Imbalance Bars"
   ]
  },
  {
   "cell_type": "code",
   "metadata": {
    "collapsed": false,
    "pycharm": {
     "name": "#%%\n"
    }
   },
   "source": [
    "expected_dollar_imbalance_bars = controller.handle_input_command(\n",
    "    method_name=\"expected_dollar_imbalance_bars\",\n",
    "    method_arguments={\n",
    "        \"window_size_for_expected_n_ticks_estimation\": 5,\n",
    "        \"window_size_for_expected_imbalance_estimation\": 10000,\n",
    "        \"initial_estimate_of_expected_n_ticks_in_bar\": 2000,\n",
    "    },\n",
    "    input_data=data,\n",
    "    batch_size=1_000_000,\n",
    ")\n",
    "\n",
    "expected_dollar_imbalance_bars"
   ],
   "outputs": [],
   "execution_count": null
  },
  {
   "metadata": {},
   "cell_type": "markdown",
   "source": "### Expected Volume Imbalance Bars"
  },
  {
   "cell_type": "code",
   "metadata": {
    "collapsed": false,
    "pycharm": {
     "name": "#%%\n"
    }
   },
   "source": [
    "expected_volume_imbalance_bars = controller.handle_input_command(\n",
    "    method_name=\"expected_volume_imbalance_bars\",\n",
    "    method_arguments={\n",
    "        \"window_size_for_expected_n_ticks_estimation\": 5,\n",
    "        \"window_size_for_expected_imbalance_estimation\": 10000,\n",
    "        \"initial_estimate_of_expected_n_ticks_in_bar\": 2000,\n",
    "    },\n",
    "    input_data=data,\n",
    "    batch_size=1_000_000,\n",
    ")\n",
    "\n",
    "expected_volume_imbalance_bars"
   ],
   "outputs": [],
   "execution_count": null
  },
  {
   "metadata": {},
   "cell_type": "markdown",
   "source": "### Expected Tick Imbalance Bars"
  },
  {
   "cell_type": "code",
   "metadata": {
    "collapsed": false,
    "pycharm": {
     "name": "#%%\n"
    }
   },
   "source": [
    "expected_tick_imbalance_bars = controller.handle_input_command(\n",
    "    method_name=\"expected_tick_imbalance_bars\",\n",
    "    method_arguments={\n",
    "        \"window_size_for_expected_n_ticks_estimation\": 5,\n",
    "        \"window_size_for_expected_imbalance_estimation\": 10000,\n",
    "        \"initial_estimate_of_expected_n_ticks_in_bar\": 2000,\n",
    "    },\n",
    "    input_data=data,\n",
    "    batch_size=1_000_000,\n",
    ")\n",
    "\n",
    "expected_tick_imbalance_bars"
   ],
   "outputs": [],
   "execution_count": null
  },
  {
   "attachments": {},
   "cell_type": "markdown",
   "metadata": {
    "collapsed": false,
    "pycharm": {
     "name": "#%% md\n"
    }
   },
   "source": [
    "## Creating Fixed Imbalance Bars using Controller api\n",
    "### Fixed Dollar Imbalance Bars"
   ]
  },
  {
   "cell_type": "code",
   "metadata": {
    "collapsed": false,
    "pycharm": {
     "name": "#%%\n"
    }
   },
   "source": [
    "fixed_dollar_imbalance_bars = controller.handle_input_command(\n",
    "    method_name=\"fixed_dollar_imbalance_bars\",\n",
    "    method_arguments={\n",
    "        \"window_size_for_expected_imbalance_estimation\": 10000,\n",
    "        \"initial_estimate_of_expected_n_ticks_in_bar\": 20000,\n",
    "    },\n",
    "    input_data=data,\n",
    "    batch_size=1_000_000,\n",
    ")\n",
    "\n",
    "fixed_dollar_imbalance_bars"
   ],
   "outputs": [],
   "execution_count": null
  },
  {
   "metadata": {},
   "cell_type": "markdown",
   "source": "### Fixed Volume Imbalance Bars"
  },
  {
   "cell_type": "code",
   "metadata": {
    "collapsed": false,
    "pycharm": {
     "name": "#%%\n"
    }
   },
   "source": [
    "fixed_volume_imbalance_bars = controller.handle_input_command(\n",
    "    method_name=\"fixed_volume_imbalance_bars\",\n",
    "    method_arguments={\n",
    "        \"window_size_for_expected_imbalance_estimation\": 10000,\n",
    "        \"initial_estimate_of_expected_n_ticks_in_bar\": 20000,\n",
    "    },\n",
    "    input_data=data,\n",
    "    batch_size=1_000_000,\n",
    ")\n",
    "\n",
    "fixed_volume_imbalance_bars"
   ],
   "outputs": [],
   "execution_count": null
  },
  {
   "metadata": {},
   "cell_type": "markdown",
   "source": "### Fixed Tick Imbalance Bars"
  },
  {
   "cell_type": "code",
   "metadata": {
    "collapsed": false,
    "pycharm": {
     "name": "#%%\n"
    }
   },
   "source": [
    "fixed_tick_imbalance_bars = controller.handle_input_command(\n",
    "    method_name=\"fixed_tick_imbalance_bars\",\n",
    "    method_arguments={\n",
    "        \"window_size_for_expected_imbalance_estimation\": 10000,\n",
    "        \"initial_estimate_of_expected_n_ticks_in_bar\": 20000,\n",
    "    },\n",
    "    input_data=data,\n",
    "    batch_size=1_000_000,\n",
    ")\n",
    "\n",
    "fixed_tick_imbalance_bars"
   ],
   "outputs": [],
   "execution_count": null
  },
  {
   "metadata": {},
   "cell_type": "markdown",
   "source": [
    "## Creating Imbalance Bars Using ImbalanceBar class\n",
    "### Expected Volume Imbalance Bars"
   ]
  },
  {
   "metadata": {},
   "cell_type": "code",
   "source": [
    "from RiskLabAI.data.structures.imbalance_bar import ImbalanceBar\n",
    "\n",
    "imbalance_bar_initializer = ImbalanceBar(\n",
    "    bar_type=\"volume_imbalance\",\n",
    "    num_ticks_type=\"expected\",\n",
    "    window_size_for_expected_n_ticks_estimation=5,\n",
    "    window_size_for_expected_imbalance_estimation=10000,\n",
    "    initial_estimate_of_expected_n_ticks_in_bar=20000,\n",
    "    analyse_thresholds=False,\n",
    ")\n",
    "\n",
    "imbalance_bars = imbalance_bar_initializer.construct_bars_from_data(data.values)\n",
    "len(imbalance_bars), len(imbalance_bars[0]), type(imbalance_bars), imbalance_bars[0]"
   ],
   "outputs": [],
   "execution_count": null
  },
  {
   "metadata": {},
   "cell_type": "code",
   "source": [
    "imbalance_bars_pd = imbalance_bar_initializer.to_df(imbalance_bars)\n",
    "imbalance_bars_pd"
   ],
   "outputs": [],
   "execution_count": null
  },
  {
   "metadata": {},
   "cell_type": "markdown",
   "source": "### Fixed Dollar Imbalance Bars"
  },
  {
   "metadata": {},
   "cell_type": "code",
   "source": [
    "from RiskLabAI.data.structures.imbalance_bar import ImbalanceBar\n",
    "\n",
    "imbalance_bar_initializer = ImbalanceBar(\n",
    "    bar_type=\"dollar_imbalance\",\n",
    "    num_ticks_type=\"fixed\",\n",
    "    window_size_for_expected_n_ticks_estimation=5,\n",
    "    window_size_for_expected_imbalance_estimation=10000,\n",
    "    initial_estimate_of_expected_n_ticks_in_bar=20000,\n",
    "    analyse_thresholds=False,\n",
    ")\n",
    "\n",
    "imbalance_bars = imbalance_bar_initializer.construct_bars_from_data(data.values)\n",
    "len(imbalance_bars), len(imbalance_bars[0]), type(imbalance_bars), imbalance_bars[0]"
   ],
   "outputs": [],
   "execution_count": null
  },
  {
   "metadata": {},
   "cell_type": "code",
   "source": [
    "imbalance_bars_pd = imbalance_bar_initializer.to_df(imbalance_bars)\n",
    "imbalance_bars_pd"
   ],
   "outputs": [],
   "execution_count": null
  },
  {
   "metadata": {},
   "cell_type": "code",
   "outputs": [],
   "execution_count": null,
   "source": ""
  }
 ],
 "metadata": {
  "kernelspec": {
   "display_name": "Python 3.10.6 ('ml')",
   "language": "python",
   "name": "python3"
  },
  "language_info": {
   "codemirror_mode": {
    "name": "ipython",
    "version": 3
   },
   "file_extension": ".py",
   "mimetype": "text/x-python",
   "name": "python",
   "nbconvert_exporter": "python",
   "pygments_lexer": "ipython3",
   "version": "3.9.13"
  },
  "vscode": {
   "interpreter": {
    "hash": "2ff50100434cc479892626f133397731c49cdeb5620cb5b4c3a938fe7a88ca82"
   }
  }
 },
 "nbformat": 4,
 "nbformat_minor": 0
}
