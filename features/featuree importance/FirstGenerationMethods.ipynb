{
 "cells": [
  {
   "cell_type": "markdown",
   "metadata": {},
   "source": [
    "# Import Libraries"
   ]
  },
  {
   "cell_type": "code",
   "execution_count": 1,
   "metadata": {
    "ExecuteTime": {
     "end_time": "2024-04-03T14:29:11.907173200Z",
     "start_time": "2024-04-03T14:28:59.398873Z"
    }
   },
   "outputs": [],
   "source": [
    "from RiskLabAI.features.microstructural_features.corwin_schultz import *\n",
    "from RiskLabAI.features.microstructural_features.bekker_parkinson_volatility_estimator import *\n",
    "import pandas as pd"
   ]
  },
  {
   "cell_type": "markdown",
   "metadata": {},
   "source": [
    "# Read Data"
   ]
  },
  {
   "cell_type": "code",
   "execution_count": 2,
   "metadata": {
    "ExecuteTime": {
     "end_time": "2024-04-03T14:29:11.970110400Z",
     "start_time": "2024-04-03T14:29:11.907693500Z"
    }
   },
   "outputs": [
    {
     "name": "stdout",
     "output_type": "stream",
     "text": [
      "(251, 6)\n"
     ]
    },
    {
     "data": {
      "text/plain": "                  Open        High         Low       Close   Adj Close  \\\nDate                                                                     \n2023-04-03  164.270004  166.289993  164.220001  166.169998  165.287750   \n2023-04-04  166.600006  166.839996  165.110001  165.630005  164.750626   \n2023-04-05  164.740005  165.050003  161.800003  163.759995  162.890549   \n2023-04-06  162.429993  164.960007  162.000000  164.660004  163.785767   \n2023-04-10  161.419998  162.029999  160.080002  162.029999  161.169724   \n2023-04-11  162.350006  162.360001  160.509995  160.800003  159.946243   \n2023-04-12  161.220001  162.059998  159.779999  160.100006  159.249985   \n2023-04-13  161.630005  165.800003  161.419998  165.559998  164.681000   \n2023-04-14  164.589996  166.320007  163.820007  165.210007  164.332855   \n2023-04-17  165.089996  165.389999  164.029999  165.229996  164.352737   \n\n              Volume  \nDate                  \n2023-04-03  56976200  \n2023-04-04  46278300  \n2023-04-05  51511700  \n2023-04-06  45390100  \n2023-04-10  47716900  \n2023-04-11  47644200  \n2023-04-12  50133100  \n2023-04-13  68445600  \n2023-04-14  49386500  \n2023-04-17  41516200  ",
      "text/html": "<div>\n<style scoped>\n    .dataframe tbody tr th:only-of-type {\n        vertical-align: middle;\n    }\n\n    .dataframe tbody tr th {\n        vertical-align: top;\n    }\n\n    .dataframe thead th {\n        text-align: right;\n    }\n</style>\n<table border=\"1\" class=\"dataframe\">\n  <thead>\n    <tr style=\"text-align: right;\">\n      <th></th>\n      <th>Open</th>\n      <th>High</th>\n      <th>Low</th>\n      <th>Close</th>\n      <th>Adj Close</th>\n      <th>Volume</th>\n    </tr>\n    <tr>\n      <th>Date</th>\n      <th></th>\n      <th></th>\n      <th></th>\n      <th></th>\n      <th></th>\n      <th></th>\n    </tr>\n  </thead>\n  <tbody>\n    <tr>\n      <th>2023-04-03</th>\n      <td>164.270004</td>\n      <td>166.289993</td>\n      <td>164.220001</td>\n      <td>166.169998</td>\n      <td>165.287750</td>\n      <td>56976200</td>\n    </tr>\n    <tr>\n      <th>2023-04-04</th>\n      <td>166.600006</td>\n      <td>166.839996</td>\n      <td>165.110001</td>\n      <td>165.630005</td>\n      <td>164.750626</td>\n      <td>46278300</td>\n    </tr>\n    <tr>\n      <th>2023-04-05</th>\n      <td>164.740005</td>\n      <td>165.050003</td>\n      <td>161.800003</td>\n      <td>163.759995</td>\n      <td>162.890549</td>\n      <td>51511700</td>\n    </tr>\n    <tr>\n      <th>2023-04-06</th>\n      <td>162.429993</td>\n      <td>164.960007</td>\n      <td>162.000000</td>\n      <td>164.660004</td>\n      <td>163.785767</td>\n      <td>45390100</td>\n    </tr>\n    <tr>\n      <th>2023-04-10</th>\n      <td>161.419998</td>\n      <td>162.029999</td>\n      <td>160.080002</td>\n      <td>162.029999</td>\n      <td>161.169724</td>\n      <td>47716900</td>\n    </tr>\n    <tr>\n      <th>2023-04-11</th>\n      <td>162.350006</td>\n      <td>162.360001</td>\n      <td>160.509995</td>\n      <td>160.800003</td>\n      <td>159.946243</td>\n      <td>47644200</td>\n    </tr>\n    <tr>\n      <th>2023-04-12</th>\n      <td>161.220001</td>\n      <td>162.059998</td>\n      <td>159.779999</td>\n      <td>160.100006</td>\n      <td>159.249985</td>\n      <td>50133100</td>\n    </tr>\n    <tr>\n      <th>2023-04-13</th>\n      <td>161.630005</td>\n      <td>165.800003</td>\n      <td>161.419998</td>\n      <td>165.559998</td>\n      <td>164.681000</td>\n      <td>68445600</td>\n    </tr>\n    <tr>\n      <th>2023-04-14</th>\n      <td>164.589996</td>\n      <td>166.320007</td>\n      <td>163.820007</td>\n      <td>165.210007</td>\n      <td>164.332855</td>\n      <td>49386500</td>\n    </tr>\n    <tr>\n      <th>2023-04-17</th>\n      <td>165.089996</td>\n      <td>165.389999</td>\n      <td>164.029999</td>\n      <td>165.229996</td>\n      <td>164.352737</td>\n      <td>41516200</td>\n    </tr>\n  </tbody>\n</table>\n</div>"
     },
     "execution_count": 2,
     "metadata": {},
     "output_type": "execute_result"
    }
   ],
   "source": [
    "ohlcv_data = pd.read_csv(\"./data/AAPL.csv\", header=0, index_col=\"Date\")\n",
    "print(ohlcv_data.shape)\n",
    "\n",
    "ohlcv_data.head(10)"
   ]
  },
  {
   "cell_type": "markdown",
   "metadata": {},
   "source": [
    "# Corwin-Schultz Estimator"
   ]
  },
  {
   "cell_type": "code",
   "execution_count": 3,
   "metadata": {
    "ExecuteTime": {
     "end_time": "2024-04-03T14:29:11.993020100Z",
     "start_time": "2024-04-03T14:29:11.970110400Z"
    }
   },
   "outputs": [],
   "source": [
    "beta = beta_estimates(ohlcv_data.High, ohlcv_data.Low, 20)\n",
    "gamma = gamma_estimates(ohlcv_data.High, ohlcv_data.Low)\n",
    "alpha = alpha_estimates(beta, gamma)"
   ]
  },
  {
   "cell_type": "code",
   "execution_count": 4,
   "metadata": {
    "ExecuteTime": {
     "end_time": "2024-04-03T14:29:12.069748100Z",
     "start_time": "2024-04-03T14:29:11.993020100Z"
    }
   },
   "outputs": [
    {
     "data": {
      "text/plain": "Date\n2023-04-03         NaN\n2023-04-04         NaN\n2023-04-05         NaN\n2023-04-06         NaN\n2023-04-10         NaN\n                ...   \n2024-03-26   -0.955352\n2024-03-27   -0.988018\n2024-03-28   -0.976940\n2024-04-01   -0.963179\n2024-04-02   -0.970848\nLength: 251, dtype: float64"
     },
     "execution_count": 4,
     "metadata": {},
     "output_type": "execute_result"
    }
   ],
   "source": [
    "corwin_schultz = corwin_schultz_estimator(ohlcv_data.High, ohlcv_data.Low, window_span=20)\n",
    "# Window span is 20, so firsts 20 values will be NaN\n",
    "corwin_schultz"
   ]
  },
  {
   "cell_type": "markdown",
   "metadata": {},
   "source": [
    "# Bekker-Parkinson Volatility Estimator"
   ]
  },
  {
   "cell_type": "code",
   "execution_count": 5,
   "metadata": {
    "ExecuteTime": {
     "end_time": "2024-04-03T14:29:12.116622Z",
     "start_time": "2024-04-03T14:29:12.014504200Z"
    }
   },
   "outputs": [
    {
     "data": {
      "text/plain": "Date\n2023-04-03         NaN\n2023-04-04         NaN\n2023-04-05         NaN\n2023-04-06         NaN\n2023-04-10         NaN\n                ...   \n2024-03-26    0.087355\n2024-03-27    0.100018\n2024-03-28    0.095207\n2024-04-01    0.087962\n2024-04-02    0.089435\nLength: 251, dtype: float64"
     },
     "execution_count": 5,
     "metadata": {},
     "output_type": "execute_result"
    }
   ],
   "source": [
    "sigma = sigma_estimates(beta, gamma)\n",
    "# Window span is 20, so firsts 20 values will be NaN\n",
    "sigma"
   ]
  },
  {
   "cell_type": "code",
   "execution_count": 6,
   "metadata": {
    "ExecuteTime": {
     "end_time": "2024-04-03T14:29:12.167877900Z",
     "start_time": "2024-04-03T14:29:12.030640600Z"
    }
   },
   "outputs": [
    {
     "data": {
      "text/plain": "Date\n2023-04-03         NaN\n2023-04-04         NaN\n2023-04-05         NaN\n2023-04-06         NaN\n2023-04-10         NaN\n                ...   \n2024-03-26    0.087355\n2024-03-27    0.100018\n2024-03-28    0.095207\n2024-04-01    0.087962\n2024-04-02    0.089435\nLength: 251, dtype: float64"
     },
     "execution_count": 6,
     "metadata": {},
     "output_type": "execute_result"
    }
   ],
   "source": [
    "bekker_parkinson_volatility = bekker_parkinson_volatility_estimates(ohlcv_data.High, ohlcv_data.Low, window_span=20)\n",
    "# Window span is 20, so firsts 20 values will be NaN\n",
    "bekker_parkinson_volatility"
   ]
  },
  {
   "cell_type": "code",
   "execution_count": null,
   "outputs": [],
   "source": [],
   "metadata": {
    "collapsed": false
   }
  }
 ],
 "metadata": {
  "kernelspec": {
   "display_name": "Python 3.10.7 ('data_env')",
   "language": "python",
   "name": "python3"
  },
  "language_info": {
   "codemirror_mode": {
    "name": "ipython",
    "version": 3
   },
   "file_extension": ".py",
   "mimetype": "text/x-python",
   "name": "python",
   "nbconvert_exporter": "python",
   "pygments_lexer": "ipython3",
   "version": "3.10.7"
  },
  "orig_nbformat": 4,
  "vscode": {
   "interpreter": {
    "hash": "b8fb9d1f403244eb1d8985de9eba125cdc054776ee3ac17bd9ecc183ad605f87"
   }
  }
 },
 "nbformat": 4,
 "nbformat_minor": 2
}
