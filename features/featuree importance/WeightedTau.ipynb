{
 "cells": [
  {
   "cell_type": "markdown",
   "metadata": {},
   "source": [
    "# Import Libraries"
   ]
  },
  {
   "cell_type": "code",
   "execution_count": 1,
   "metadata": {
    "ExecuteTime": {
     "end_time": "2024-04-03T14:44:49.202451600Z",
     "start_time": "2024-04-03T14:44:40.172882900Z"
    }
   },
   "outputs": [],
   "source": [
    "from RiskLabAI.features.feature_importance.weighted_tau import calculate_weighted_tau\n",
    "\n",
    "import numpy as np"
   ]
  },
  {
   "cell_type": "markdown",
   "metadata": {},
   "source": [
    "# Weighted Kernel's τ"
   ]
  },
  {
   "cell_type": "code",
   "execution_count": 2,
   "metadata": {
    "ExecuteTime": {
     "end_time": "2024-04-03T14:44:50.461735Z",
     "start_time": "2024-04-03T14:44:50.430445700Z"
    }
   },
   "outputs": [
    {
     "data": {
      "text/plain": "0.8133333333333331"
     },
     "execution_count": 2,
     "metadata": {},
     "output_type": "execute_result"
    }
   ],
   "source": [
    "feature_importances = np.array([0.55, 0.33, 0.07, 0.05]) # feature importance\n",
    "principal_component_ranks = np.array([1, 2, 4, 3]) # PCA Rank\n",
    "\n",
    "calculate_weighted_tau(feature_importances, principal_component_ranks)"
   ]
  }
 ],
 "metadata": {
  "kernelspec": {
   "display_name": "Python 3.10.4 ('ml')",
   "language": "python",
   "name": "python3"
  },
  "language_info": {
   "codemirror_mode": {
    "name": "ipython",
    "version": 3
   },
   "file_extension": ".py",
   "mimetype": "text/x-python",
   "name": "python",
   "nbconvert_exporter": "python",
   "pygments_lexer": "ipython3",
   "version": "3.10.6"
  },
  "orig_nbformat": 4,
  "vscode": {
   "interpreter": {
    "hash": "2ff50100434cc479892626f133397731c49cdeb5620cb5b4c3a938fe7a88ca82"
   }
  }
 },
 "nbformat": 4,
 "nbformat_minor": 2
}
