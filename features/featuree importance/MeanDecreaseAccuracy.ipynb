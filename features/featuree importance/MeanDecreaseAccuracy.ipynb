{
 "cells": [
  {
   "cell_type": "markdown",
   "metadata": {},
   "source": [
    "# Import Libraries"
   ]
  },
  {
   "cell_type": "code",
   "execution_count": 7,
   "metadata": {},
   "outputs": [],
   "source": [
    "from RiskLabAI.features.feature_importance.generate_synthetic_data import *\n",
    "from RiskLabAI.features.feature_importance.feature_importance_mda import *\n",
    "\n",
    "import sklearn.ensemble as Ensemble\n",
    "import sklearn.tree as Tree\n",
    "import pandas as pd\n",
    "import numpy as np"
   ]
  },
  {
   "cell_type": "markdown",
   "metadata": {},
   "source": [
    "# Generate Synthetic Test Data"
   ]
  },
  {
   "cell_type": "code",
   "execution_count": 8,
   "metadata": {},
   "outputs": [],
   "source": [
    "X, y = get_test_dataset(\n",
    "    n_features=40,\n",
    "    n_informative=5, \n",
    "    n_redundant=30,\n",
    "    n_samples=50000,\n",
    "    sigma_std=0.1\n",
    ")"
   ]
  },
  {
   "cell_type": "markdown",
   "metadata": {},
   "source": [
    "# Fit MDA"
   ]
  },
  {
   "cell_type": "code",
   "execution_count": 9,
   "metadata": {},
   "outputs": [
    {
     "name": "stdout",
     "output_type": "stream",
     "text": [
      "fold 0 start ...\n",
      "fold 1 start ...\n",
      "fold 2 start ...\n",
      "fold 3 start ...\n",
      "fold 4 start ...\n",
      "fold 5 start ...\n",
      "fold 6 start ...\n",
      "fold 7 start ...\n",
      "fold 8 start ...\n",
      "fold 9 start ...\n"
     ]
    }
   ],
   "source": [
    "import warnings\n",
    "warnings.filterwarnings('ignore')\n",
    "\n",
    "base_classifier = Tree.DecisionTreeClassifier(\n",
    "    criterion=\"entropy\",\n",
    "    max_features=1,\n",
    "    class_weight=\"balanced\",\n",
    "    min_weight_fraction_leaf=0)\n",
    "\n",
    "classifier = Ensemble.BaggingClassifier(\n",
    "    base_estimator=base_classifier,\n",
    "    # n_estimators=10000,\n",
    "    # max_features=1.0,\n",
    "    # max_samples=1.0,\n",
    "    # oob_score=False\n",
    ")\n",
    "\n",
    "n_splits = 10\n",
    "\n",
    "\n",
    "mda = FeatureImportanceMDA(\n",
    "    classifier, \n",
    "    X, y,\n",
    "    n_splits\n",
    ")"
   ]
  },
  {
   "cell_type": "code",
   "execution_count": 10,
   "metadata": {},
   "outputs": [
    {
     "data": {
      "text/html": [
       "<div>\n",
       "<style scoped>\n",
       "    .dataframe tbody tr th:only-of-type {\n",
       "        vertical-align: middle;\n",
       "    }\n",
       "\n",
       "    .dataframe tbody tr th {\n",
       "        vertical-align: top;\n",
       "    }\n",
       "\n",
       "    .dataframe thead th {\n",
       "        text-align: right;\n",
       "    }\n",
       "</style>\n",
       "<table border=\"1\" class=\"dataframe\">\n",
       "  <thead>\n",
       "    <tr style=\"text-align: right;\">\n",
       "      <th></th>\n",
       "      <th>Mean</th>\n",
       "      <th>StandardDeviation</th>\n",
       "    </tr>\n",
       "  </thead>\n",
       "  <tbody>\n",
       "    <tr>\n",
       "      <th>N_3</th>\n",
       "      <td>0.000615</td>\n",
       "      <td>0.011507</td>\n",
       "    </tr>\n",
       "    <tr>\n",
       "      <th>N_1</th>\n",
       "      <td>-0.007891</td>\n",
       "      <td>0.009362</td>\n",
       "    </tr>\n",
       "    <tr>\n",
       "      <th>N_2</th>\n",
       "      <td>-0.008825</td>\n",
       "      <td>0.011165</td>\n",
       "    </tr>\n",
       "    <tr>\n",
       "      <th>N_0</th>\n",
       "      <td>-0.014151</td>\n",
       "      <td>0.004039</td>\n",
       "    </tr>\n",
       "    <tr>\n",
       "      <th>N_4</th>\n",
       "      <td>-0.018029</td>\n",
       "      <td>0.012453</td>\n",
       "    </tr>\n",
       "    <tr>\n",
       "      <th>R_20</th>\n",
       "      <td>-0.033958</td>\n",
       "      <td>0.016813</td>\n",
       "    </tr>\n",
       "    <tr>\n",
       "      <th>I_2</th>\n",
       "      <td>-0.038534</td>\n",
       "      <td>0.025367</td>\n",
       "    </tr>\n",
       "    <tr>\n",
       "      <th>R_22</th>\n",
       "      <td>-0.039828</td>\n",
       "      <td>0.012261</td>\n",
       "    </tr>\n",
       "    <tr>\n",
       "      <th>R_7</th>\n",
       "      <td>-0.040938</td>\n",
       "      <td>0.021156</td>\n",
       "    </tr>\n",
       "    <tr>\n",
       "      <th>R_28</th>\n",
       "      <td>-0.044137</td>\n",
       "      <td>0.032453</td>\n",
       "    </tr>\n",
       "    <tr>\n",
       "      <th>R_12</th>\n",
       "      <td>-0.044748</td>\n",
       "      <td>0.027243</td>\n",
       "    </tr>\n",
       "    <tr>\n",
       "      <th>R_4</th>\n",
       "      <td>-0.046042</td>\n",
       "      <td>0.013072</td>\n",
       "    </tr>\n",
       "    <tr>\n",
       "      <th>R_6</th>\n",
       "      <td>-0.049796</td>\n",
       "      <td>0.021980</td>\n",
       "    </tr>\n",
       "    <tr>\n",
       "      <th>R_29</th>\n",
       "      <td>-0.056026</td>\n",
       "      <td>0.022299</td>\n",
       "    </tr>\n",
       "    <tr>\n",
       "      <th>R_2</th>\n",
       "      <td>-0.057135</td>\n",
       "      <td>0.025468</td>\n",
       "    </tr>\n",
       "    <tr>\n",
       "      <th>R_23</th>\n",
       "      <td>-0.059146</td>\n",
       "      <td>0.021141</td>\n",
       "    </tr>\n",
       "    <tr>\n",
       "      <th>I_3</th>\n",
       "      <td>-0.059181</td>\n",
       "      <td>0.018731</td>\n",
       "    </tr>\n",
       "    <tr>\n",
       "      <th>R_8</th>\n",
       "      <td>-0.061595</td>\n",
       "      <td>0.027083</td>\n",
       "    </tr>\n",
       "    <tr>\n",
       "      <th>R_24</th>\n",
       "      <td>-0.062500</td>\n",
       "      <td>0.025578</td>\n",
       "    </tr>\n",
       "    <tr>\n",
       "      <th>R_19</th>\n",
       "      <td>-0.062807</td>\n",
       "      <td>0.032532</td>\n",
       "    </tr>\n",
       "    <tr>\n",
       "      <th>R_25</th>\n",
       "      <td>-0.065427</td>\n",
       "      <td>0.032893</td>\n",
       "    </tr>\n",
       "    <tr>\n",
       "      <th>I_4</th>\n",
       "      <td>-0.067364</td>\n",
       "      <td>0.017221</td>\n",
       "    </tr>\n",
       "    <tr>\n",
       "      <th>R_0</th>\n",
       "      <td>-0.068379</td>\n",
       "      <td>0.023623</td>\n",
       "    </tr>\n",
       "    <tr>\n",
       "      <th>R_11</th>\n",
       "      <td>-0.074371</td>\n",
       "      <td>0.030808</td>\n",
       "    </tr>\n",
       "    <tr>\n",
       "      <th>R_1</th>\n",
       "      <td>-0.074659</td>\n",
       "      <td>0.024477</td>\n",
       "    </tr>\n",
       "    <tr>\n",
       "      <th>I_0</th>\n",
       "      <td>-0.076639</td>\n",
       "      <td>0.020873</td>\n",
       "    </tr>\n",
       "    <tr>\n",
       "      <th>R_21</th>\n",
       "      <td>-0.077866</td>\n",
       "      <td>0.023761</td>\n",
       "    </tr>\n",
       "    <tr>\n",
       "      <th>R_17</th>\n",
       "      <td>-0.080911</td>\n",
       "      <td>0.029086</td>\n",
       "    </tr>\n",
       "    <tr>\n",
       "      <th>R_10</th>\n",
       "      <td>-0.095525</td>\n",
       "      <td>0.029128</td>\n",
       "    </tr>\n",
       "    <tr>\n",
       "      <th>R_3</th>\n",
       "      <td>-0.102136</td>\n",
       "      <td>0.031172</td>\n",
       "    </tr>\n",
       "    <tr>\n",
       "      <th>R_26</th>\n",
       "      <td>-0.102269</td>\n",
       "      <td>0.030514</td>\n",
       "    </tr>\n",
       "    <tr>\n",
       "      <th>R_14</th>\n",
       "      <td>-0.107821</td>\n",
       "      <td>0.029448</td>\n",
       "    </tr>\n",
       "    <tr>\n",
       "      <th>R_9</th>\n",
       "      <td>-0.112446</td>\n",
       "      <td>0.041141</td>\n",
       "    </tr>\n",
       "    <tr>\n",
       "      <th>I_1</th>\n",
       "      <td>-0.158426</td>\n",
       "      <td>0.025505</td>\n",
       "    </tr>\n",
       "    <tr>\n",
       "      <th>R_27</th>\n",
       "      <td>-0.186972</td>\n",
       "      <td>0.056387</td>\n",
       "    </tr>\n",
       "    <tr>\n",
       "      <th>R_5</th>\n",
       "      <td>-0.192827</td>\n",
       "      <td>0.035679</td>\n",
       "    </tr>\n",
       "    <tr>\n",
       "      <th>R_13</th>\n",
       "      <td>-0.212237</td>\n",
       "      <td>0.065226</td>\n",
       "    </tr>\n",
       "    <tr>\n",
       "      <th>R_15</th>\n",
       "      <td>-0.223438</td>\n",
       "      <td>0.043629</td>\n",
       "    </tr>\n",
       "    <tr>\n",
       "      <th>R_16</th>\n",
       "      <td>-0.269811</td>\n",
       "      <td>0.079155</td>\n",
       "    </tr>\n",
       "    <tr>\n",
       "      <th>R_18</th>\n",
       "      <td>-0.275569</td>\n",
       "      <td>0.056230</td>\n",
       "    </tr>\n",
       "  </tbody>\n",
       "</table>\n",
       "</div>"
      ],
      "text/plain": [
       "          Mean  StandardDeviation\n",
       "N_3   0.000615           0.011507\n",
       "N_1  -0.007891           0.009362\n",
       "N_2  -0.008825           0.011165\n",
       "N_0  -0.014151           0.004039\n",
       "N_4  -0.018029           0.012453\n",
       "R_20 -0.033958           0.016813\n",
       "I_2  -0.038534           0.025367\n",
       "R_22 -0.039828           0.012261\n",
       "R_7  -0.040938           0.021156\n",
       "R_28 -0.044137           0.032453\n",
       "R_12 -0.044748           0.027243\n",
       "R_4  -0.046042           0.013072\n",
       "R_6  -0.049796           0.021980\n",
       "R_29 -0.056026           0.022299\n",
       "R_2  -0.057135           0.025468\n",
       "R_23 -0.059146           0.021141\n",
       "I_3  -0.059181           0.018731\n",
       "R_8  -0.061595           0.027083\n",
       "R_24 -0.062500           0.025578\n",
       "R_19 -0.062807           0.032532\n",
       "R_25 -0.065427           0.032893\n",
       "I_4  -0.067364           0.017221\n",
       "R_0  -0.068379           0.023623\n",
       "R_11 -0.074371           0.030808\n",
       "R_1  -0.074659           0.024477\n",
       "I_0  -0.076639           0.020873\n",
       "R_21 -0.077866           0.023761\n",
       "R_17 -0.080911           0.029086\n",
       "R_10 -0.095525           0.029128\n",
       "R_3  -0.102136           0.031172\n",
       "R_26 -0.102269           0.030514\n",
       "R_14 -0.107821           0.029448\n",
       "R_9  -0.112446           0.041141\n",
       "I_1  -0.158426           0.025505\n",
       "R_27 -0.186972           0.056387\n",
       "R_5  -0.192827           0.035679\n",
       "R_13 -0.212237           0.065226\n",
       "R_15 -0.223438           0.043629\n",
       "R_16 -0.269811           0.079155\n",
       "R_18 -0.275569           0.056230"
      ]
     },
     "execution_count": 10,
     "metadata": {},
     "output_type": "execute_result"
    }
   ],
   "source": [
    "result = mda.compute().sort_values(\"Mean\", ascending=False)\n",
    "result"
   ]
  },
  {
   "cell_type": "markdown",
   "metadata": {},
   "source": [
    "# Plot Results"
   ]
  },
  {
   "cell_type": "code",
   "execution_count": 11,
   "metadata": {},
   "outputs": [
    {
     "data": {
      "application/vnd.plotly.v1+json": {
       "config": {
        "plotlyServerURL": "https://plot.ly"
       },
       "data": [
        {
         "alignmentgroup": "True",
         "error_x": {
          "array": [
           0.01150657612364612,
           0.009362331071660209,
           0.011164921976334523,
           0.0040390079865748225,
           0.012453013381564725,
           0.016813410616639615,
           0.02536700750436841,
           0.012260525968058092,
           0.02115583096620217,
           0.03245297732002257,
           0.02724339183327314,
           0.0130716219832601,
           0.021980431566846786,
           0.022298916313595128,
           0.025468126143121037,
           0.021140941977149035,
           0.018731325114501346,
           0.027083321062183918,
           0.025577737231425778,
           0.032531937805588544,
           0.032892661638067484,
           0.01722100606979661,
           0.023622651312203913,
           0.030807558634726437,
           0.024477343792700064,
           0.02087327504786362,
           0.02376062837561397,
           0.02908579757210843,
           0.0291277664823309,
           0.031171507920355588,
           0.030513964416917446,
           0.029447677080051034,
           0.04114067869537105,
           0.025505398803104637,
           0.056386624057743695,
           0.035679059231791085,
           0.06522593761785657,
           0.04362879506475264,
           0.07915504783350905,
           0.056230205611110126
          ]
         },
         "hovertemplate": "Mean=%{x}<br>FeatureName=%{y}<extra></extra>",
         "legendgroup": "",
         "marker": {
          "color": "#636efa",
          "pattern": {
           "shape": ""
          }
         },
         "name": "",
         "offsetgroup": "",
         "orientation": "h",
         "showlegend": false,
         "textposition": "auto",
         "type": "bar",
         "x": [
          0.0006149798038216194,
          -0.007890671111461562,
          -0.008825254222711692,
          -0.01415111728580085,
          -0.018029043253765753,
          -0.03395808539678989,
          -0.038534499821209274,
          -0.039827854833378605,
          -0.040938066688358685,
          -0.044136850529703085,
          -0.04474787746815048,
          -0.04604174041698319,
          -0.04979556259715899,
          -0.056026199308292425,
          -0.05713488686464874,
          -0.05914562344131432,
          -0.05918149909124848,
          -0.06159488245403466,
          -0.06250021066278429,
          -0.06280691803370572,
          -0.06542687899672675,
          -0.06736385666694214,
          -0.06837932636587778,
          -0.07437106877284719,
          -0.0746594937411432,
          -0.07663892531387859,
          -0.07786648133867682,
          -0.08091098048426168,
          -0.09552450208193326,
          -0.10213625770391936,
          -0.10226930147554772,
          -0.1078214050121716,
          -0.11244599439366872,
          -0.1584264043015358,
          -0.18697231509967796,
          -0.19282701818123033,
          -0.21223658647139598,
          -0.2234378708630594,
          -0.26981125367099734,
          -0.27556891616928786
         ],
         "xaxis": "x",
         "y": [
          "N_3",
          "N_1",
          "N_2",
          "N_0",
          "N_4",
          "R_20",
          "I_2",
          "R_22",
          "R_7",
          "R_28",
          "R_12",
          "R_4",
          "R_6",
          "R_29",
          "R_2",
          "R_23",
          "I_3",
          "R_8",
          "R_24",
          "R_19",
          "R_25",
          "I_4",
          "R_0",
          "R_11",
          "R_1",
          "I_0",
          "R_21",
          "R_17",
          "R_10",
          "R_3",
          "R_26",
          "R_14",
          "R_9",
          "I_1",
          "R_27",
          "R_5",
          "R_13",
          "R_15",
          "R_16",
          "R_18"
         ],
         "yaxis": "y"
        }
       ],
       "layout": {
        "barmode": "relative",
        "height": 1200,
        "legend": {
         "tracegroupgap": 0
        },
        "margin": {
         "t": 60
        },
        "template": {
         "data": {
          "bar": [
           {
            "error_x": {
             "color": "#f2f5fa"
            },
            "error_y": {
             "color": "#f2f5fa"
            },
            "marker": {
             "line": {
              "color": "rgb(17,17,17)",
              "width": 0.5
             },
             "pattern": {
              "fillmode": "overlay",
              "size": 10,
              "solidity": 0.2
             }
            },
            "type": "bar"
           }
          ],
          "barpolar": [
           {
            "marker": {
             "line": {
              "color": "rgb(17,17,17)",
              "width": 0.5
             },
             "pattern": {
              "fillmode": "overlay",
              "size": 10,
              "solidity": 0.2
             }
            },
            "type": "barpolar"
           }
          ],
          "carpet": [
           {
            "aaxis": {
             "endlinecolor": "#A2B1C6",
             "gridcolor": "#506784",
             "linecolor": "#506784",
             "minorgridcolor": "#506784",
             "startlinecolor": "#A2B1C6"
            },
            "baxis": {
             "endlinecolor": "#A2B1C6",
             "gridcolor": "#506784",
             "linecolor": "#506784",
             "minorgridcolor": "#506784",
             "startlinecolor": "#A2B1C6"
            },
            "type": "carpet"
           }
          ],
          "choropleth": [
           {
            "colorbar": {
             "outlinewidth": 0,
             "ticks": ""
            },
            "type": "choropleth"
           }
          ],
          "contour": [
           {
            "colorbar": {
             "outlinewidth": 0,
             "ticks": ""
            },
            "colorscale": [
             [
              0,
              "#0d0887"
             ],
             [
              0.1111111111111111,
              "#46039f"
             ],
             [
              0.2222222222222222,
              "#7201a8"
             ],
             [
              0.3333333333333333,
              "#9c179e"
             ],
             [
              0.4444444444444444,
              "#bd3786"
             ],
             [
              0.5555555555555556,
              "#d8576b"
             ],
             [
              0.6666666666666666,
              "#ed7953"
             ],
             [
              0.7777777777777778,
              "#fb9f3a"
             ],
             [
              0.8888888888888888,
              "#fdca26"
             ],
             [
              1,
              "#f0f921"
             ]
            ],
            "type": "contour"
           }
          ],
          "contourcarpet": [
           {
            "colorbar": {
             "outlinewidth": 0,
             "ticks": ""
            },
            "type": "contourcarpet"
           }
          ],
          "heatmap": [
           {
            "colorbar": {
             "outlinewidth": 0,
             "ticks": ""
            },
            "colorscale": [
             [
              0,
              "#0d0887"
             ],
             [
              0.1111111111111111,
              "#46039f"
             ],
             [
              0.2222222222222222,
              "#7201a8"
             ],
             [
              0.3333333333333333,
              "#9c179e"
             ],
             [
              0.4444444444444444,
              "#bd3786"
             ],
             [
              0.5555555555555556,
              "#d8576b"
             ],
             [
              0.6666666666666666,
              "#ed7953"
             ],
             [
              0.7777777777777778,
              "#fb9f3a"
             ],
             [
              0.8888888888888888,
              "#fdca26"
             ],
             [
              1,
              "#f0f921"
             ]
            ],
            "type": "heatmap"
           }
          ],
          "heatmapgl": [
           {
            "colorbar": {
             "outlinewidth": 0,
             "ticks": ""
            },
            "colorscale": [
             [
              0,
              "#0d0887"
             ],
             [
              0.1111111111111111,
              "#46039f"
             ],
             [
              0.2222222222222222,
              "#7201a8"
             ],
             [
              0.3333333333333333,
              "#9c179e"
             ],
             [
              0.4444444444444444,
              "#bd3786"
             ],
             [
              0.5555555555555556,
              "#d8576b"
             ],
             [
              0.6666666666666666,
              "#ed7953"
             ],
             [
              0.7777777777777778,
              "#fb9f3a"
             ],
             [
              0.8888888888888888,
              "#fdca26"
             ],
             [
              1,
              "#f0f921"
             ]
            ],
            "type": "heatmapgl"
           }
          ],
          "histogram": [
           {
            "marker": {
             "pattern": {
              "fillmode": "overlay",
              "size": 10,
              "solidity": 0.2
             }
            },
            "type": "histogram"
           }
          ],
          "histogram2d": [
           {
            "colorbar": {
             "outlinewidth": 0,
             "ticks": ""
            },
            "colorscale": [
             [
              0,
              "#0d0887"
             ],
             [
              0.1111111111111111,
              "#46039f"
             ],
             [
              0.2222222222222222,
              "#7201a8"
             ],
             [
              0.3333333333333333,
              "#9c179e"
             ],
             [
              0.4444444444444444,
              "#bd3786"
             ],
             [
              0.5555555555555556,
              "#d8576b"
             ],
             [
              0.6666666666666666,
              "#ed7953"
             ],
             [
              0.7777777777777778,
              "#fb9f3a"
             ],
             [
              0.8888888888888888,
              "#fdca26"
             ],
             [
              1,
              "#f0f921"
             ]
            ],
            "type": "histogram2d"
           }
          ],
          "histogram2dcontour": [
           {
            "colorbar": {
             "outlinewidth": 0,
             "ticks": ""
            },
            "colorscale": [
             [
              0,
              "#0d0887"
             ],
             [
              0.1111111111111111,
              "#46039f"
             ],
             [
              0.2222222222222222,
              "#7201a8"
             ],
             [
              0.3333333333333333,
              "#9c179e"
             ],
             [
              0.4444444444444444,
              "#bd3786"
             ],
             [
              0.5555555555555556,
              "#d8576b"
             ],
             [
              0.6666666666666666,
              "#ed7953"
             ],
             [
              0.7777777777777778,
              "#fb9f3a"
             ],
             [
              0.8888888888888888,
              "#fdca26"
             ],
             [
              1,
              "#f0f921"
             ]
            ],
            "type": "histogram2dcontour"
           }
          ],
          "mesh3d": [
           {
            "colorbar": {
             "outlinewidth": 0,
             "ticks": ""
            },
            "type": "mesh3d"
           }
          ],
          "parcoords": [
           {
            "line": {
             "colorbar": {
              "outlinewidth": 0,
              "ticks": ""
             }
            },
            "type": "parcoords"
           }
          ],
          "pie": [
           {
            "automargin": true,
            "type": "pie"
           }
          ],
          "scatter": [
           {
            "marker": {
             "line": {
              "color": "#283442"
             }
            },
            "type": "scatter"
           }
          ],
          "scatter3d": [
           {
            "line": {
             "colorbar": {
              "outlinewidth": 0,
              "ticks": ""
             }
            },
            "marker": {
             "colorbar": {
              "outlinewidth": 0,
              "ticks": ""
             }
            },
            "type": "scatter3d"
           }
          ],
          "scattercarpet": [
           {
            "marker": {
             "colorbar": {
              "outlinewidth": 0,
              "ticks": ""
             }
            },
            "type": "scattercarpet"
           }
          ],
          "scattergeo": [
           {
            "marker": {
             "colorbar": {
              "outlinewidth": 0,
              "ticks": ""
             }
            },
            "type": "scattergeo"
           }
          ],
          "scattergl": [
           {
            "marker": {
             "line": {
              "color": "#283442"
             }
            },
            "type": "scattergl"
           }
          ],
          "scattermapbox": [
           {
            "marker": {
             "colorbar": {
              "outlinewidth": 0,
              "ticks": ""
             }
            },
            "type": "scattermapbox"
           }
          ],
          "scatterpolar": [
           {
            "marker": {
             "colorbar": {
              "outlinewidth": 0,
              "ticks": ""
             }
            },
            "type": "scatterpolar"
           }
          ],
          "scatterpolargl": [
           {
            "marker": {
             "colorbar": {
              "outlinewidth": 0,
              "ticks": ""
             }
            },
            "type": "scatterpolargl"
           }
          ],
          "scatterternary": [
           {
            "marker": {
             "colorbar": {
              "outlinewidth": 0,
              "ticks": ""
             }
            },
            "type": "scatterternary"
           }
          ],
          "surface": [
           {
            "colorbar": {
             "outlinewidth": 0,
             "ticks": ""
            },
            "colorscale": [
             [
              0,
              "#0d0887"
             ],
             [
              0.1111111111111111,
              "#46039f"
             ],
             [
              0.2222222222222222,
              "#7201a8"
             ],
             [
              0.3333333333333333,
              "#9c179e"
             ],
             [
              0.4444444444444444,
              "#bd3786"
             ],
             [
              0.5555555555555556,
              "#d8576b"
             ],
             [
              0.6666666666666666,
              "#ed7953"
             ],
             [
              0.7777777777777778,
              "#fb9f3a"
             ],
             [
              0.8888888888888888,
              "#fdca26"
             ],
             [
              1,
              "#f0f921"
             ]
            ],
            "type": "surface"
           }
          ],
          "table": [
           {
            "cells": {
             "fill": {
              "color": "#506784"
             },
             "line": {
              "color": "rgb(17,17,17)"
             }
            },
            "header": {
             "fill": {
              "color": "#2a3f5f"
             },
             "line": {
              "color": "rgb(17,17,17)"
             }
            },
            "type": "table"
           }
          ]
         },
         "layout": {
          "annotationdefaults": {
           "arrowcolor": "#f2f5fa",
           "arrowhead": 0,
           "arrowwidth": 1
          },
          "autotypenumbers": "strict",
          "coloraxis": {
           "colorbar": {
            "outlinewidth": 0,
            "ticks": ""
           }
          },
          "colorscale": {
           "diverging": [
            [
             0,
             "#8e0152"
            ],
            [
             0.1,
             "#c51b7d"
            ],
            [
             0.2,
             "#de77ae"
            ],
            [
             0.3,
             "#f1b6da"
            ],
            [
             0.4,
             "#fde0ef"
            ],
            [
             0.5,
             "#f7f7f7"
            ],
            [
             0.6,
             "#e6f5d0"
            ],
            [
             0.7,
             "#b8e186"
            ],
            [
             0.8,
             "#7fbc41"
            ],
            [
             0.9,
             "#4d9221"
            ],
            [
             1,
             "#276419"
            ]
           ],
           "sequential": [
            [
             0,
             "#0d0887"
            ],
            [
             0.1111111111111111,
             "#46039f"
            ],
            [
             0.2222222222222222,
             "#7201a8"
            ],
            [
             0.3333333333333333,
             "#9c179e"
            ],
            [
             0.4444444444444444,
             "#bd3786"
            ],
            [
             0.5555555555555556,
             "#d8576b"
            ],
            [
             0.6666666666666666,
             "#ed7953"
            ],
            [
             0.7777777777777778,
             "#fb9f3a"
            ],
            [
             0.8888888888888888,
             "#fdca26"
            ],
            [
             1,
             "#f0f921"
            ]
           ],
           "sequentialminus": [
            [
             0,
             "#0d0887"
            ],
            [
             0.1111111111111111,
             "#46039f"
            ],
            [
             0.2222222222222222,
             "#7201a8"
            ],
            [
             0.3333333333333333,
             "#9c179e"
            ],
            [
             0.4444444444444444,
             "#bd3786"
            ],
            [
             0.5555555555555556,
             "#d8576b"
            ],
            [
             0.6666666666666666,
             "#ed7953"
            ],
            [
             0.7777777777777778,
             "#fb9f3a"
            ],
            [
             0.8888888888888888,
             "#fdca26"
            ],
            [
             1,
             "#f0f921"
            ]
           ]
          },
          "colorway": [
           "#636efa",
           "#EF553B",
           "#00cc96",
           "#ab63fa",
           "#FFA15A",
           "#19d3f3",
           "#FF6692",
           "#B6E880",
           "#FF97FF",
           "#FECB52"
          ],
          "font": {
           "color": "#f2f5fa"
          },
          "geo": {
           "bgcolor": "rgb(17,17,17)",
           "lakecolor": "rgb(17,17,17)",
           "landcolor": "rgb(17,17,17)",
           "showlakes": true,
           "showland": true,
           "subunitcolor": "#506784"
          },
          "hoverlabel": {
           "align": "left"
          },
          "hovermode": "closest",
          "mapbox": {
           "style": "dark"
          },
          "paper_bgcolor": "rgb(17,17,17)",
          "plot_bgcolor": "rgb(17,17,17)",
          "polar": {
           "angularaxis": {
            "gridcolor": "#506784",
            "linecolor": "#506784",
            "ticks": ""
           },
           "bgcolor": "rgb(17,17,17)",
           "radialaxis": {
            "gridcolor": "#506784",
            "linecolor": "#506784",
            "ticks": ""
           }
          },
          "scene": {
           "xaxis": {
            "backgroundcolor": "rgb(17,17,17)",
            "gridcolor": "#506784",
            "gridwidth": 2,
            "linecolor": "#506784",
            "showbackground": true,
            "ticks": "",
            "zerolinecolor": "#C8D4E3"
           },
           "yaxis": {
            "backgroundcolor": "rgb(17,17,17)",
            "gridcolor": "#506784",
            "gridwidth": 2,
            "linecolor": "#506784",
            "showbackground": true,
            "ticks": "",
            "zerolinecolor": "#C8D4E3"
           },
           "zaxis": {
            "backgroundcolor": "rgb(17,17,17)",
            "gridcolor": "#506784",
            "gridwidth": 2,
            "linecolor": "#506784",
            "showbackground": true,
            "ticks": "",
            "zerolinecolor": "#C8D4E3"
           }
          },
          "shapedefaults": {
           "line": {
            "color": "#f2f5fa"
           }
          },
          "sliderdefaults": {
           "bgcolor": "#C8D4E3",
           "bordercolor": "rgb(17,17,17)",
           "borderwidth": 1,
           "tickwidth": 0
          },
          "ternary": {
           "aaxis": {
            "gridcolor": "#506784",
            "linecolor": "#506784",
            "ticks": ""
           },
           "baxis": {
            "gridcolor": "#506784",
            "linecolor": "#506784",
            "ticks": ""
           },
           "bgcolor": "rgb(17,17,17)",
           "caxis": {
            "gridcolor": "#506784",
            "linecolor": "#506784",
            "ticks": ""
           }
          },
          "title": {
           "x": 0.05
          },
          "updatemenudefaults": {
           "bgcolor": "#506784",
           "borderwidth": 0
          },
          "xaxis": {
           "automargin": true,
           "gridcolor": "#283442",
           "linecolor": "#506784",
           "ticks": "",
           "title": {
            "standoff": 15
           },
           "zerolinecolor": "#283442",
           "zerolinewidth": 2
          },
          "yaxis": {
           "automargin": true,
           "gridcolor": "#283442",
           "linecolor": "#506784",
           "ticks": "",
           "title": {
            "standoff": 15
           },
           "zerolinecolor": "#283442",
           "zerolinewidth": 2
          }
         }
        },
        "title": {
         "text": "MDA Results"
        },
        "width": 800,
        "xaxis": {
         "anchor": "y",
         "domain": [
          0,
          1
         ],
         "title": {
          "text": "Feature Name"
         }
        },
        "yaxis": {
         "anchor": "x",
         "domain": [
          0,
          1
         ],
         "title": {
          "text": "Feature Importance"
         }
        }
       }
      }
     },
     "metadata": {},
     "output_type": "display_data"
    }
   ],
   "source": [
    "import plotly.express as px\n",
    "\n",
    "result[\"FeatureName\"] = result.index\n",
    "fig = px.bar(\n",
    "    result,\n",
    "    x=\"Mean\", \n",
    "    y=\"FeatureName\",\n",
    "    error_x=\"StandardDeviation\"    \n",
    ")\n",
    "\n",
    "fig.update_layout(\n",
    "    title=\"MDA Results\",\n",
    "    xaxis_title=\"Feature Name\",\n",
    "    yaxis_title=\"Feature Importance\",\n",
    "    template=\"plotly_dark\",\n",
    "    width=800, height=1200,\n",
    "    # legend_title=\"Legend Title\",\n",
    "    # font=dict(\n",
    "    #     family=\"Courier New, monospace\",\n",
    "    #     size=18,\n",
    "    #     color=\"RebeccaPurple\"\n",
    "    # )\n",
    ")\n",
    "\n",
    "fig.show()"
   ]
  },
  {
   "cell_type": "code",
   "execution_count": null,
   "metadata": {},
   "outputs": [],
   "source": []
  }
 ],
 "metadata": {
  "kernelspec": {
   "display_name": "Python 3.10.4 ('ml')",
   "language": "python",
   "name": "python3"
  },
  "language_info": {
   "codemirror_mode": {
    "name": "ipython",
    "version": 3
   },
   "file_extension": ".py",
   "mimetype": "text/x-python",
   "name": "python",
   "nbconvert_exporter": "python",
   "pygments_lexer": "ipython3",
   "version": "3.9.13"
  },
  "orig_nbformat": 4,
  "vscode": {
   "interpreter": {
    "hash": "2ff50100434cc479892626f133397731c49cdeb5620cb5b4c3a938fe7a88ca82"
   }
  }
 },
 "nbformat": 4,
 "nbformat_minor": 2
}
