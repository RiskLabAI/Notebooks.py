{
 "cells": [
  {
   "cell_type": "markdown",
   "metadata": {},
   "source": [
    "# Import Libraries"
   ]
  },
  {
   "cell_type": "code",
   "execution_count": 1,
   "metadata": {
    "ExecuteTime": {
     "end_time": "2024-04-03T13:10:23.010717800Z",
     "start_time": "2024-04-03T13:10:14.820065600Z"
    }
   },
   "outputs": [],
   "source": [
    "import sklearn.ensemble as ensemble\n",
    "\n",
    "from RiskLabAI.features.feature_importance.generate_synthetic_data import *\n",
    "from RiskLabAI.features.feature_importance.clustering import *\n",
    "\n",
    "from RiskLabAI.features.feature_importance.feature_importance_factory import FeatureImportanceFactory\n",
    "\n",
    "from RiskLabAI.features.feature_importance.feature_importance_mdi import FeatureImportanceMDI\n",
    "from RiskLabAI.features.feature_importance.feature_importance_mda import FeatureImportanceMDA\n",
    "from RiskLabAI.features.feature_importance.feature_importance_sfi import FeatureImportanceSFI\n",
    "from RiskLabAI.features.feature_importance.orthogonal_features import orthogonal_features\n",
    "\n",
    "from RiskLabAI.features.feature_importance.clustered_feature_importance_mdi import ClusteredFeatureImportanceMDI"
   ]
  },
  {
   "cell_type": "markdown",
   "metadata": {},
   "source": [
    "# Generate Synthetic Test Data"
   ]
  },
  {
   "cell_type": "code",
   "execution_count": 2,
   "metadata": {
    "ExecuteTime": {
     "end_time": "2024-04-03T13:10:23.048297200Z",
     "start_time": "2024-04-03T13:10:23.010717800Z"
    }
   },
   "outputs": [],
   "source": [
    "X, y = get_test_dataset(\n",
    "    n_features=40,\n",
    "    n_informative=5, \n",
    "    n_redundant=30,\n",
    "    n_samples=10000,\n",
    "    sigma_std=0.1\n",
    ")"
   ]
  },
  {
   "cell_type": "code",
   "execution_count": 3,
   "metadata": {
    "ExecuteTime": {
     "end_time": "2024-04-03T13:10:23.059759700Z",
     "start_time": "2024-04-03T13:10:23.059254200Z"
    }
   },
   "outputs": [
    {
     "data": {
      "text/plain": "Index(['I_0', 'I_1', 'I_2', 'I_3', 'I_4', 'N_0', 'N_1', 'N_2', 'N_3', 'N_4',\n       'R_0', 'R_1', 'R_2', 'R_3', 'R_4', 'R_5', 'R_6', 'R_7', 'R_8', 'R_9',\n       'R_10', 'R_11', 'R_12', 'R_13', 'R_14', 'R_15', 'R_16', 'R_17', 'R_18',\n       'R_19', 'R_20', 'R_21', 'R_22', 'R_23', 'R_24', 'R_25', 'R_26', 'R_27',\n       'R_28', 'R_29'],\n      dtype='object')"
     },
     "execution_count": 3,
     "metadata": {},
     "output_type": "execute_result"
    }
   ],
   "source": [
    "X.columns"
   ]
  },
  {
   "cell_type": "markdown",
   "metadata": {},
   "source": [
    "# MDI"
   ]
  },
  {
   "cell_type": "code",
   "execution_count": 4,
   "metadata": {
    "ExecuteTime": {
     "end_time": "2024-04-03T13:10:27.832239800Z",
     "start_time": "2024-04-03T13:10:23.059759700Z"
    }
   },
   "outputs": [
    {
     "data": {
      "text/plain": "          Mean  StandardDeviation\nI_2   0.121092           0.013242\nR_5   0.091206           0.039162\nI_1   0.085116           0.039256\nR_18  0.064997           0.035767\nR_19  0.059288           0.016105\nR_16  0.049463           0.024808\nR_12  0.045055           0.013701\nR_13  0.042412           0.026281\nI_4   0.041678           0.014187\nR_11  0.027764           0.011287\nR_7   0.027264           0.006234\nR_24  0.026032           0.004553\nR_0   0.026004           0.009329\nR_8   0.025442           0.010388\nR_21  0.017425           0.003065\nR_14  0.016112           0.002805\nR_17  0.014989           0.004247\nR_27  0.014158           0.001962\nR_26  0.012898           0.002503\nR_3   0.011544           0.001499\nR_9   0.011382           0.002247\nR_28  0.010712           0.001360\nR_6   0.010616           0.001660\nR_10  0.010611           0.002217\nR_2   0.010333           0.001322\nN_1   0.010324           0.000789\nR_1   0.009844           0.001386\nR_23  0.009635           0.001875\nR_15  0.009618           0.001297\nN_2   0.009247           0.000749\nR_4   0.009226           0.001125\nN_3   0.009024           0.000767\nN_4   0.008622           0.000722\nR_25  0.008510           0.001201\nN_0   0.008484           0.000760\nR_29  0.008450           0.001406\nR_22  0.008282           0.000637\nR_20  0.006710           0.001169\nI_0   0.006018           0.001564\nI_3   0.004413           0.000905",
      "text/html": "<div>\n<style scoped>\n    .dataframe tbody tr th:only-of-type {\n        vertical-align: middle;\n    }\n\n    .dataframe tbody tr th {\n        vertical-align: top;\n    }\n\n    .dataframe thead th {\n        text-align: right;\n    }\n</style>\n<table border=\"1\" class=\"dataframe\">\n  <thead>\n    <tr style=\"text-align: right;\">\n      <th></th>\n      <th>Mean</th>\n      <th>StandardDeviation</th>\n    </tr>\n  </thead>\n  <tbody>\n    <tr>\n      <th>I_2</th>\n      <td>0.121092</td>\n      <td>0.013242</td>\n    </tr>\n    <tr>\n      <th>R_5</th>\n      <td>0.091206</td>\n      <td>0.039162</td>\n    </tr>\n    <tr>\n      <th>I_1</th>\n      <td>0.085116</td>\n      <td>0.039256</td>\n    </tr>\n    <tr>\n      <th>R_18</th>\n      <td>0.064997</td>\n      <td>0.035767</td>\n    </tr>\n    <tr>\n      <th>R_19</th>\n      <td>0.059288</td>\n      <td>0.016105</td>\n    </tr>\n    <tr>\n      <th>R_16</th>\n      <td>0.049463</td>\n      <td>0.024808</td>\n    </tr>\n    <tr>\n      <th>R_12</th>\n      <td>0.045055</td>\n      <td>0.013701</td>\n    </tr>\n    <tr>\n      <th>R_13</th>\n      <td>0.042412</td>\n      <td>0.026281</td>\n    </tr>\n    <tr>\n      <th>I_4</th>\n      <td>0.041678</td>\n      <td>0.014187</td>\n    </tr>\n    <tr>\n      <th>R_11</th>\n      <td>0.027764</td>\n      <td>0.011287</td>\n    </tr>\n    <tr>\n      <th>R_7</th>\n      <td>0.027264</td>\n      <td>0.006234</td>\n    </tr>\n    <tr>\n      <th>R_24</th>\n      <td>0.026032</td>\n      <td>0.004553</td>\n    </tr>\n    <tr>\n      <th>R_0</th>\n      <td>0.026004</td>\n      <td>0.009329</td>\n    </tr>\n    <tr>\n      <th>R_8</th>\n      <td>0.025442</td>\n      <td>0.010388</td>\n    </tr>\n    <tr>\n      <th>R_21</th>\n      <td>0.017425</td>\n      <td>0.003065</td>\n    </tr>\n    <tr>\n      <th>R_14</th>\n      <td>0.016112</td>\n      <td>0.002805</td>\n    </tr>\n    <tr>\n      <th>R_17</th>\n      <td>0.014989</td>\n      <td>0.004247</td>\n    </tr>\n    <tr>\n      <th>R_27</th>\n      <td>0.014158</td>\n      <td>0.001962</td>\n    </tr>\n    <tr>\n      <th>R_26</th>\n      <td>0.012898</td>\n      <td>0.002503</td>\n    </tr>\n    <tr>\n      <th>R_3</th>\n      <td>0.011544</td>\n      <td>0.001499</td>\n    </tr>\n    <tr>\n      <th>R_9</th>\n      <td>0.011382</td>\n      <td>0.002247</td>\n    </tr>\n    <tr>\n      <th>R_28</th>\n      <td>0.010712</td>\n      <td>0.001360</td>\n    </tr>\n    <tr>\n      <th>R_6</th>\n      <td>0.010616</td>\n      <td>0.001660</td>\n    </tr>\n    <tr>\n      <th>R_10</th>\n      <td>0.010611</td>\n      <td>0.002217</td>\n    </tr>\n    <tr>\n      <th>R_2</th>\n      <td>0.010333</td>\n      <td>0.001322</td>\n    </tr>\n    <tr>\n      <th>N_1</th>\n      <td>0.010324</td>\n      <td>0.000789</td>\n    </tr>\n    <tr>\n      <th>R_1</th>\n      <td>0.009844</td>\n      <td>0.001386</td>\n    </tr>\n    <tr>\n      <th>R_23</th>\n      <td>0.009635</td>\n      <td>0.001875</td>\n    </tr>\n    <tr>\n      <th>R_15</th>\n      <td>0.009618</td>\n      <td>0.001297</td>\n    </tr>\n    <tr>\n      <th>N_2</th>\n      <td>0.009247</td>\n      <td>0.000749</td>\n    </tr>\n    <tr>\n      <th>R_4</th>\n      <td>0.009226</td>\n      <td>0.001125</td>\n    </tr>\n    <tr>\n      <th>N_3</th>\n      <td>0.009024</td>\n      <td>0.000767</td>\n    </tr>\n    <tr>\n      <th>N_4</th>\n      <td>0.008622</td>\n      <td>0.000722</td>\n    </tr>\n    <tr>\n      <th>R_25</th>\n      <td>0.008510</td>\n      <td>0.001201</td>\n    </tr>\n    <tr>\n      <th>N_0</th>\n      <td>0.008484</td>\n      <td>0.000760</td>\n    </tr>\n    <tr>\n      <th>R_29</th>\n      <td>0.008450</td>\n      <td>0.001406</td>\n    </tr>\n    <tr>\n      <th>R_22</th>\n      <td>0.008282</td>\n      <td>0.000637</td>\n    </tr>\n    <tr>\n      <th>R_20</th>\n      <td>0.006710</td>\n      <td>0.001169</td>\n    </tr>\n    <tr>\n      <th>I_0</th>\n      <td>0.006018</td>\n      <td>0.001564</td>\n    </tr>\n    <tr>\n      <th>I_3</th>\n      <td>0.004413</td>\n      <td>0.000905</td>\n    </tr>\n  </tbody>\n</table>\n</div>"
     },
     "execution_count": 4,
     "metadata": {},
     "output_type": "execute_result"
    }
   ],
   "source": [
    "classifier = ensemble.RandomForestClassifier(\n",
    "    n_estimators=10,\n",
    "    max_features=1.0,\n",
    "    max_samples=1.0,\n",
    "    oob_score=False,\n",
    ")\n",
    "\n",
    "strategy = FeatureImportanceMDI(\n",
    "    classifier, x=X, y=y,\n",
    ")\n",
    "\n",
    "results = FeatureImportanceFactory().\\\n",
    "        build(strategy).\\\n",
    "        get_results()\n",
    "\n",
    "results = results.sort_values(by='Mean', ascending=False)\n",
    "results"
   ]
  },
  {
   "cell_type": "markdown",
   "metadata": {},
   "source": [
    "# MDA"
   ]
  },
  {
   "cell_type": "code",
   "execution_count": 5,
   "metadata": {
    "ExecuteTime": {
     "end_time": "2024-04-03T13:10:46.389326800Z",
     "start_time": "2024-04-03T13:10:27.832239800Z"
    }
   },
   "outputs": [
    {
     "name": "stdout",
     "output_type": "stream",
     "text": [
      "Fold 0 start ...\n",
      "Fold 1 start ...\n",
      "Fold 2 start ...\n",
      "Fold 3 start ...\n",
      "Fold 4 start ...\n"
     ]
    },
    {
     "data": {
      "text/plain": "          Mean StandardDeviation\nI_3  -0.010264          0.024802\nN_3  -0.013066          0.011061\nN_2   -0.01547          0.014726\nN_1  -0.015811          0.004653\nN_0  -0.021184          0.018419\nN_4  -0.022642          0.010627\nR_28 -0.062935          0.013944\nR_22 -0.069364          0.030597\nR_3  -0.069815          0.011269\nR_2  -0.070349          0.044298\nI_0  -0.071576          0.026545\nR_20 -0.074991          0.029617\nR_10 -0.079882          0.026185\nR_29 -0.083666          0.021203\nR_21 -0.085551          0.023239\nR_17 -0.087856          0.021627\nR_1  -0.088881          0.020933\nR_25 -0.093596          0.030525\nR_6  -0.095508          0.043596\nR_14 -0.099685          0.047278\nR_26 -0.105562          0.047323\nI_2  -0.130656          0.126695\nR_23 -0.144814           0.06042\nR_4  -0.151981          0.027535\nR_9  -0.161348          0.015578\nI_4  -0.174523           0.04283\nR_8  -0.234963          0.111806\nR_7  -0.243986          0.110853\nR_0  -0.251473          0.079166\nR_12 -0.265189          0.138215\nR_11 -0.315004          0.130947\nR_24 -0.365801          0.105851\nR_19  -0.38321          0.138217\nR_13 -0.390121          0.149867\nR_15 -0.424053          0.107243\nR_16 -0.483461          0.065103\nR_27 -0.489032          0.115788\nR_5  -0.514334          0.130128\nI_1  -0.524957          0.065625\nR_18 -0.533612          0.130523",
      "text/html": "<div>\n<style scoped>\n    .dataframe tbody tr th:only-of-type {\n        vertical-align: middle;\n    }\n\n    .dataframe tbody tr th {\n        vertical-align: top;\n    }\n\n    .dataframe thead th {\n        text-align: right;\n    }\n</style>\n<table border=\"1\" class=\"dataframe\">\n  <thead>\n    <tr style=\"text-align: right;\">\n      <th></th>\n      <th>Mean</th>\n      <th>StandardDeviation</th>\n    </tr>\n  </thead>\n  <tbody>\n    <tr>\n      <th>I_3</th>\n      <td>-0.010264</td>\n      <td>0.024802</td>\n    </tr>\n    <tr>\n      <th>N_3</th>\n      <td>-0.013066</td>\n      <td>0.011061</td>\n    </tr>\n    <tr>\n      <th>N_2</th>\n      <td>-0.01547</td>\n      <td>0.014726</td>\n    </tr>\n    <tr>\n      <th>N_1</th>\n      <td>-0.015811</td>\n      <td>0.004653</td>\n    </tr>\n    <tr>\n      <th>N_0</th>\n      <td>-0.021184</td>\n      <td>0.018419</td>\n    </tr>\n    <tr>\n      <th>N_4</th>\n      <td>-0.022642</td>\n      <td>0.010627</td>\n    </tr>\n    <tr>\n      <th>R_28</th>\n      <td>-0.062935</td>\n      <td>0.013944</td>\n    </tr>\n    <tr>\n      <th>R_22</th>\n      <td>-0.069364</td>\n      <td>0.030597</td>\n    </tr>\n    <tr>\n      <th>R_3</th>\n      <td>-0.069815</td>\n      <td>0.011269</td>\n    </tr>\n    <tr>\n      <th>R_2</th>\n      <td>-0.070349</td>\n      <td>0.044298</td>\n    </tr>\n    <tr>\n      <th>I_0</th>\n      <td>-0.071576</td>\n      <td>0.026545</td>\n    </tr>\n    <tr>\n      <th>R_20</th>\n      <td>-0.074991</td>\n      <td>0.029617</td>\n    </tr>\n    <tr>\n      <th>R_10</th>\n      <td>-0.079882</td>\n      <td>0.026185</td>\n    </tr>\n    <tr>\n      <th>R_29</th>\n      <td>-0.083666</td>\n      <td>0.021203</td>\n    </tr>\n    <tr>\n      <th>R_21</th>\n      <td>-0.085551</td>\n      <td>0.023239</td>\n    </tr>\n    <tr>\n      <th>R_17</th>\n      <td>-0.087856</td>\n      <td>0.021627</td>\n    </tr>\n    <tr>\n      <th>R_1</th>\n      <td>-0.088881</td>\n      <td>0.020933</td>\n    </tr>\n    <tr>\n      <th>R_25</th>\n      <td>-0.093596</td>\n      <td>0.030525</td>\n    </tr>\n    <tr>\n      <th>R_6</th>\n      <td>-0.095508</td>\n      <td>0.043596</td>\n    </tr>\n    <tr>\n      <th>R_14</th>\n      <td>-0.099685</td>\n      <td>0.047278</td>\n    </tr>\n    <tr>\n      <th>R_26</th>\n      <td>-0.105562</td>\n      <td>0.047323</td>\n    </tr>\n    <tr>\n      <th>I_2</th>\n      <td>-0.130656</td>\n      <td>0.126695</td>\n    </tr>\n    <tr>\n      <th>R_23</th>\n      <td>-0.144814</td>\n      <td>0.06042</td>\n    </tr>\n    <tr>\n      <th>R_4</th>\n      <td>-0.151981</td>\n      <td>0.027535</td>\n    </tr>\n    <tr>\n      <th>R_9</th>\n      <td>-0.161348</td>\n      <td>0.015578</td>\n    </tr>\n    <tr>\n      <th>I_4</th>\n      <td>-0.174523</td>\n      <td>0.04283</td>\n    </tr>\n    <tr>\n      <th>R_8</th>\n      <td>-0.234963</td>\n      <td>0.111806</td>\n    </tr>\n    <tr>\n      <th>R_7</th>\n      <td>-0.243986</td>\n      <td>0.110853</td>\n    </tr>\n    <tr>\n      <th>R_0</th>\n      <td>-0.251473</td>\n      <td>0.079166</td>\n    </tr>\n    <tr>\n      <th>R_12</th>\n      <td>-0.265189</td>\n      <td>0.138215</td>\n    </tr>\n    <tr>\n      <th>R_11</th>\n      <td>-0.315004</td>\n      <td>0.130947</td>\n    </tr>\n    <tr>\n      <th>R_24</th>\n      <td>-0.365801</td>\n      <td>0.105851</td>\n    </tr>\n    <tr>\n      <th>R_19</th>\n      <td>-0.38321</td>\n      <td>0.138217</td>\n    </tr>\n    <tr>\n      <th>R_13</th>\n      <td>-0.390121</td>\n      <td>0.149867</td>\n    </tr>\n    <tr>\n      <th>R_15</th>\n      <td>-0.424053</td>\n      <td>0.107243</td>\n    </tr>\n    <tr>\n      <th>R_16</th>\n      <td>-0.483461</td>\n      <td>0.065103</td>\n    </tr>\n    <tr>\n      <th>R_27</th>\n      <td>-0.489032</td>\n      <td>0.115788</td>\n    </tr>\n    <tr>\n      <th>R_5</th>\n      <td>-0.514334</td>\n      <td>0.130128</td>\n    </tr>\n    <tr>\n      <th>I_1</th>\n      <td>-0.524957</td>\n      <td>0.065625</td>\n    </tr>\n    <tr>\n      <th>R_18</th>\n      <td>-0.533612</td>\n      <td>0.130523</td>\n    </tr>\n  </tbody>\n</table>\n</div>"
     },
     "execution_count": 5,
     "metadata": {},
     "output_type": "execute_result"
    }
   ],
   "source": [
    "classifier = ensemble.RandomForestClassifier(\n",
    "    n_estimators=10,\n",
    "    max_features=1.0,\n",
    "    max_samples=1.0,\n",
    "    oob_score=False,\n",
    ")\n",
    "\n",
    "strategy = FeatureImportanceMDA(\n",
    "    classifier, x=X, y=y, n_splits=5, \n",
    ")\n",
    "\n",
    "results = FeatureImportanceFactory().\\\n",
    "        build(strategy).\\\n",
    "        get_results()\n",
    "\n",
    "results = results.sort_values(by='Mean', ascending=False)\n",
    "results"
   ]
  },
  {
   "cell_type": "markdown",
   "metadata": {},
   "source": [
    "# SFI"
   ]
  },
  {
   "cell_type": "code",
   "execution_count": 6,
   "metadata": {
    "ExecuteTime": {
     "end_time": "2024-04-03T13:11:31.585020500Z",
     "start_time": "2024-04-03T13:10:46.389326800Z"
    }
   },
   "outputs": [
    {
     "data": {
      "text/plain": "   FeatureName      Mean  StandardDeviation\n26        R_16 -5.386203           0.283883\n23        R_13 -5.444189           0.395572\n28        R_18 -5.528684           0.272121\n15         R_5 -5.590630           0.342327\n25        R_15 -5.605896           0.366522\n37        R_27 -5.684375           0.267969\n1          I_1 -5.727250           0.290894\n12         R_2 -7.723966           0.760229\n32        R_22 -7.816613           0.902991\n29        R_19 -7.860419           0.937492\n10         R_0 -7.863517           0.768942\n35        R_25 -7.956593           0.712721\n3          I_3 -7.968208           0.827692\n2          I_2 -7.989087           2.111712\n30        R_20 -7.996362           0.869945\n39        R_29 -8.000066           0.917809\n13         R_3 -8.001623           0.936982\n21        R_11 -8.001993           0.882202\n6          N_1 -8.011069           0.840469\n7          N_2 -8.083236           0.860715\n18         R_8 -8.098762           0.954424\n4          I_4 -8.111502           0.925640\n22        R_12 -8.120344           2.020746\n8          N_3 -8.163473           1.156772\n38        R_28 -8.184491           0.780826\n17         R_7 -8.189170           1.915203\n24        R_14 -8.198327           1.982408\n16         R_6 -8.213205           0.901081\n0          I_0 -8.234371           1.916671\n9          N_4 -8.245054           0.771218\n5          N_0 -8.257195           1.039456\n34        R_24 -8.276566           2.023427\n20        R_10 -8.285567           2.195061\n36        R_26 -8.350767           1.891333\n11         R_1 -8.357483           2.025900\n19         R_9 -8.375446           1.947501\n27        R_17 -8.380591           2.106810\n31        R_21 -8.384085           2.032638\n14         R_4 -8.392187           0.883324\n33        R_23 -8.573141           1.994041",
      "text/html": "<div>\n<style scoped>\n    .dataframe tbody tr th:only-of-type {\n        vertical-align: middle;\n    }\n\n    .dataframe tbody tr th {\n        vertical-align: top;\n    }\n\n    .dataframe thead th {\n        text-align: right;\n    }\n</style>\n<table border=\"1\" class=\"dataframe\">\n  <thead>\n    <tr style=\"text-align: right;\">\n      <th></th>\n      <th>FeatureName</th>\n      <th>Mean</th>\n      <th>StandardDeviation</th>\n    </tr>\n  </thead>\n  <tbody>\n    <tr>\n      <th>26</th>\n      <td>R_16</td>\n      <td>-5.386203</td>\n      <td>0.283883</td>\n    </tr>\n    <tr>\n      <th>23</th>\n      <td>R_13</td>\n      <td>-5.444189</td>\n      <td>0.395572</td>\n    </tr>\n    <tr>\n      <th>28</th>\n      <td>R_18</td>\n      <td>-5.528684</td>\n      <td>0.272121</td>\n    </tr>\n    <tr>\n      <th>15</th>\n      <td>R_5</td>\n      <td>-5.590630</td>\n      <td>0.342327</td>\n    </tr>\n    <tr>\n      <th>25</th>\n      <td>R_15</td>\n      <td>-5.605896</td>\n      <td>0.366522</td>\n    </tr>\n    <tr>\n      <th>37</th>\n      <td>R_27</td>\n      <td>-5.684375</td>\n      <td>0.267969</td>\n    </tr>\n    <tr>\n      <th>1</th>\n      <td>I_1</td>\n      <td>-5.727250</td>\n      <td>0.290894</td>\n    </tr>\n    <tr>\n      <th>12</th>\n      <td>R_2</td>\n      <td>-7.723966</td>\n      <td>0.760229</td>\n    </tr>\n    <tr>\n      <th>32</th>\n      <td>R_22</td>\n      <td>-7.816613</td>\n      <td>0.902991</td>\n    </tr>\n    <tr>\n      <th>29</th>\n      <td>R_19</td>\n      <td>-7.860419</td>\n      <td>0.937492</td>\n    </tr>\n    <tr>\n      <th>10</th>\n      <td>R_0</td>\n      <td>-7.863517</td>\n      <td>0.768942</td>\n    </tr>\n    <tr>\n      <th>35</th>\n      <td>R_25</td>\n      <td>-7.956593</td>\n      <td>0.712721</td>\n    </tr>\n    <tr>\n      <th>3</th>\n      <td>I_3</td>\n      <td>-7.968208</td>\n      <td>0.827692</td>\n    </tr>\n    <tr>\n      <th>2</th>\n      <td>I_2</td>\n      <td>-7.989087</td>\n      <td>2.111712</td>\n    </tr>\n    <tr>\n      <th>30</th>\n      <td>R_20</td>\n      <td>-7.996362</td>\n      <td>0.869945</td>\n    </tr>\n    <tr>\n      <th>39</th>\n      <td>R_29</td>\n      <td>-8.000066</td>\n      <td>0.917809</td>\n    </tr>\n    <tr>\n      <th>13</th>\n      <td>R_3</td>\n      <td>-8.001623</td>\n      <td>0.936982</td>\n    </tr>\n    <tr>\n      <th>21</th>\n      <td>R_11</td>\n      <td>-8.001993</td>\n      <td>0.882202</td>\n    </tr>\n    <tr>\n      <th>6</th>\n      <td>N_1</td>\n      <td>-8.011069</td>\n      <td>0.840469</td>\n    </tr>\n    <tr>\n      <th>7</th>\n      <td>N_2</td>\n      <td>-8.083236</td>\n      <td>0.860715</td>\n    </tr>\n    <tr>\n      <th>18</th>\n      <td>R_8</td>\n      <td>-8.098762</td>\n      <td>0.954424</td>\n    </tr>\n    <tr>\n      <th>4</th>\n      <td>I_4</td>\n      <td>-8.111502</td>\n      <td>0.925640</td>\n    </tr>\n    <tr>\n      <th>22</th>\n      <td>R_12</td>\n      <td>-8.120344</td>\n      <td>2.020746</td>\n    </tr>\n    <tr>\n      <th>8</th>\n      <td>N_3</td>\n      <td>-8.163473</td>\n      <td>1.156772</td>\n    </tr>\n    <tr>\n      <th>38</th>\n      <td>R_28</td>\n      <td>-8.184491</td>\n      <td>0.780826</td>\n    </tr>\n    <tr>\n      <th>17</th>\n      <td>R_7</td>\n      <td>-8.189170</td>\n      <td>1.915203</td>\n    </tr>\n    <tr>\n      <th>24</th>\n      <td>R_14</td>\n      <td>-8.198327</td>\n      <td>1.982408</td>\n    </tr>\n    <tr>\n      <th>16</th>\n      <td>R_6</td>\n      <td>-8.213205</td>\n      <td>0.901081</td>\n    </tr>\n    <tr>\n      <th>0</th>\n      <td>I_0</td>\n      <td>-8.234371</td>\n      <td>1.916671</td>\n    </tr>\n    <tr>\n      <th>9</th>\n      <td>N_4</td>\n      <td>-8.245054</td>\n      <td>0.771218</td>\n    </tr>\n    <tr>\n      <th>5</th>\n      <td>N_0</td>\n      <td>-8.257195</td>\n      <td>1.039456</td>\n    </tr>\n    <tr>\n      <th>34</th>\n      <td>R_24</td>\n      <td>-8.276566</td>\n      <td>2.023427</td>\n    </tr>\n    <tr>\n      <th>20</th>\n      <td>R_10</td>\n      <td>-8.285567</td>\n      <td>2.195061</td>\n    </tr>\n    <tr>\n      <th>36</th>\n      <td>R_26</td>\n      <td>-8.350767</td>\n      <td>1.891333</td>\n    </tr>\n    <tr>\n      <th>11</th>\n      <td>R_1</td>\n      <td>-8.357483</td>\n      <td>2.025900</td>\n    </tr>\n    <tr>\n      <th>19</th>\n      <td>R_9</td>\n      <td>-8.375446</td>\n      <td>1.947501</td>\n    </tr>\n    <tr>\n      <th>27</th>\n      <td>R_17</td>\n      <td>-8.380591</td>\n      <td>2.106810</td>\n    </tr>\n    <tr>\n      <th>31</th>\n      <td>R_21</td>\n      <td>-8.384085</td>\n      <td>2.032638</td>\n    </tr>\n    <tr>\n      <th>14</th>\n      <td>R_4</td>\n      <td>-8.392187</td>\n      <td>0.883324</td>\n    </tr>\n    <tr>\n      <th>33</th>\n      <td>R_23</td>\n      <td>-8.573141</td>\n      <td>1.994041</td>\n    </tr>\n  </tbody>\n</table>\n</div>"
     },
     "execution_count": 6,
     "metadata": {},
     "output_type": "execute_result"
    }
   ],
   "source": [
    "classifier = ensemble.RandomForestClassifier(\n",
    "    n_estimators=10,\n",
    "    max_features=1.0,\n",
    "    max_samples=1.0,\n",
    "    oob_score=False,\n",
    ")\n",
    "\n",
    "strategy = FeatureImportanceSFI(\n",
    "    classifier, x=X, y=y, n_splits=5, \n",
    ")\n",
    "\n",
    "results = FeatureImportanceFactory().\\\n",
    "        build(strategy).\\\n",
    "        get_results()\n",
    "\n",
    "results = results.sort_values(by='Mean', ascending=False)\n",
    "results"
   ]
  },
  {
   "cell_type": "markdown",
   "metadata": {},
   "source": [
    "# Clustered MDI"
   ]
  },
  {
   "cell_type": "code",
   "execution_count": 7,
   "metadata": {
    "ExecuteTime": {
     "end_time": "2024-04-03T13:11:36.787954400Z",
     "start_time": "2024-04-03T13:11:31.585020500Z"
    }
   },
   "outputs": [],
   "source": [
    "import warnings\n",
    "\n",
    "warnings.filterwarnings('ignore')\n",
    "\n",
    "corr0, clusters, silh = cluster_kmeans_base(\n",
    "    X.corr(),\n",
    "    number_clusters=25,\n",
    "    iterations=20\n",
    ")"
   ]
  },
  {
   "cell_type": "code",
   "execution_count": 8,
   "metadata": {
    "ExecuteTime": {
     "end_time": "2024-04-03T13:11:41.468801Z",
     "start_time": "2024-04-03T13:11:36.790020600Z"
    }
   },
   "outputs": [
    {
     "data": {
      "text/plain": "         Mean StandardDeviation\nC_3  0.358832          0.002727\nC_5  0.215858            0.0031\nC_4   0.17317           0.00245\nC_2  0.112733          0.003512\nC_0  0.091413          0.002911\nC_1  0.047993          0.001354",
      "text/html": "<div>\n<style scoped>\n    .dataframe tbody tr th:only-of-type {\n        vertical-align: middle;\n    }\n\n    .dataframe tbody tr th {\n        vertical-align: top;\n    }\n\n    .dataframe thead th {\n        text-align: right;\n    }\n</style>\n<table border=\"1\" class=\"dataframe\">\n  <thead>\n    <tr style=\"text-align: right;\">\n      <th></th>\n      <th>Mean</th>\n      <th>StandardDeviation</th>\n    </tr>\n  </thead>\n  <tbody>\n    <tr>\n      <th>C_3</th>\n      <td>0.358832</td>\n      <td>0.002727</td>\n    </tr>\n    <tr>\n      <th>C_5</th>\n      <td>0.215858</td>\n      <td>0.0031</td>\n    </tr>\n    <tr>\n      <th>C_4</th>\n      <td>0.17317</td>\n      <td>0.00245</td>\n    </tr>\n    <tr>\n      <th>C_2</th>\n      <td>0.112733</td>\n      <td>0.003512</td>\n    </tr>\n    <tr>\n      <th>C_0</th>\n      <td>0.091413</td>\n      <td>0.002911</td>\n    </tr>\n    <tr>\n      <th>C_1</th>\n      <td>0.047993</td>\n      <td>0.001354</td>\n    </tr>\n  </tbody>\n</table>\n</div>"
     },
     "execution_count": 8,
     "metadata": {},
     "output_type": "execute_result"
    }
   ],
   "source": [
    "classifier = ensemble.RandomForestClassifier(\n",
    "    n_estimators=10,\n",
    "    max_features=1.0,\n",
    "    max_samples=1.0,\n",
    "    oob_score=False,\n",
    ")\n",
    "\n",
    "strategy = ClusteredFeatureImportanceMDI(\n",
    "    classifier, clusters=clusters, x=X, y=y, \n",
    ")\n",
    "\n",
    "results = FeatureImportanceFactory().\\\n",
    "        build(strategy).\\\n",
    "        get_results()\n",
    "\n",
    "results = results.sort_values(by='Mean', ascending=False)\n",
    "results"
   ]
  },
  {
   "cell_type": "markdown",
   "metadata": {},
   "source": [
    "# Clustered MDA"
   ]
  },
  {
   "cell_type": "code",
   "execution_count": 9,
   "metadata": {
    "ExecuteTime": {
     "end_time": "2024-04-03T13:11:46.300282300Z",
     "start_time": "2024-04-03T13:11:41.468801Z"
    }
   },
   "outputs": [],
   "source": [
    "import warnings\n",
    "\n",
    "warnings.filterwarnings('ignore')\n",
    "\n",
    "_, clusters, __ = cluster_kmeans_base(\n",
    "    X.corr(),\n",
    "    number_clusters=25,\n",
    "    iterations=20\n",
    ")"
   ]
  },
  {
   "cell_type": "code",
   "execution_count": 10,
   "metadata": {
    "ExecuteTime": {
     "end_time": "2024-04-03T13:11:50.842667Z",
     "start_time": "2024-04-03T13:11:46.300282300Z"
    }
   },
   "outputs": [
    {
     "data": {
      "text/plain": "         Mean StandardDeviation\nC_2  0.356855          0.003315\nC_4  0.208143          0.004026\nC_3   0.18292          0.004439\nC_0  0.112756          0.002157\nC_1  0.090347          0.002545\nC_5  0.048979          0.001931",
      "text/html": "<div>\n<style scoped>\n    .dataframe tbody tr th:only-of-type {\n        vertical-align: middle;\n    }\n\n    .dataframe tbody tr th {\n        vertical-align: top;\n    }\n\n    .dataframe thead th {\n        text-align: right;\n    }\n</style>\n<table border=\"1\" class=\"dataframe\">\n  <thead>\n    <tr style=\"text-align: right;\">\n      <th></th>\n      <th>Mean</th>\n      <th>StandardDeviation</th>\n    </tr>\n  </thead>\n  <tbody>\n    <tr>\n      <th>C_2</th>\n      <td>0.356855</td>\n      <td>0.003315</td>\n    </tr>\n    <tr>\n      <th>C_4</th>\n      <td>0.208143</td>\n      <td>0.004026</td>\n    </tr>\n    <tr>\n      <th>C_3</th>\n      <td>0.18292</td>\n      <td>0.004439</td>\n    </tr>\n    <tr>\n      <th>C_0</th>\n      <td>0.112756</td>\n      <td>0.002157</td>\n    </tr>\n    <tr>\n      <th>C_1</th>\n      <td>0.090347</td>\n      <td>0.002545</td>\n    </tr>\n    <tr>\n      <th>C_5</th>\n      <td>0.048979</td>\n      <td>0.001931</td>\n    </tr>\n  </tbody>\n</table>\n</div>"
     },
     "execution_count": 10,
     "metadata": {},
     "output_type": "execute_result"
    }
   ],
   "source": [
    "classifier = ensemble.RandomForestClassifier(\n",
    "    n_estimators=10,\n",
    "    max_features=1.0,\n",
    "    max_samples=1.0,\n",
    "    oob_score=False,\n",
    ")\n",
    "\n",
    "strategy = ClusteredFeatureImportanceMDI(\n",
    "    classifier, clusters=clusters, x=X, y=y, \n",
    ")\n",
    "\n",
    "results = FeatureImportanceFactory().\\\n",
    "        build(strategy).\\\n",
    "        get_results()\n",
    "\n",
    "results = results.sort_values(by='Mean', ascending=False)\n",
    "results"
   ]
  },
  {
   "cell_type": "markdown",
   "metadata": {},
   "source": [
    "# Orthogonal"
   ]
  },
  {
   "cell_type": "code",
   "execution_count": 11,
   "metadata": {
    "ExecuteTime": {
     "end_time": "2024-04-03T13:11:50.951832700Z",
     "start_time": "2024-04-03T13:11:50.827036500Z"
    }
   },
   "outputs": [
    {
     "data": {
      "text/plain": "             0         1         2         3         4         5         6  \\\n0    -1.966873  0.036157  0.173458  1.077774 -1.503938  0.130776  0.668909   \n1    -0.942325  0.077657 -0.353651  0.501068 -0.202194  0.613058  0.346068   \n2    -0.716439 -0.100930  1.283325  0.848877 -0.707392 -0.737716  0.302418   \n3    -1.134535 -0.250868 -0.106080 -0.126013 -2.322576 -0.998544 -0.297545   \n4    -0.329927  1.214664 -0.432226 -0.428989 -0.210331 -0.518758 -0.687217   \n...        ...       ...       ...       ...       ...       ...       ...   \n9995  1.376160  1.152348  1.887187 -0.651099  2.773032  1.152963 -1.127660   \n9996  1.462891  0.338382  0.231409 -0.444821  0.675293 -1.244900 -0.090487   \n9997 -0.418783 -1.451355  0.065706  0.890295 -1.736130 -0.795710  1.396982   \n9998  0.314944 -0.312340  1.215733 -0.166766  0.009004  0.138418 -0.108078   \n9999  2.357845  1.173528  1.698533 -1.424688  1.689374 -1.184573 -0.309101   \n\n             7         8  \n0    -2.058400 -1.006863  \n1    -1.031550  0.131250  \n2    -0.792607  0.121775  \n3    -0.326369  0.363300  \n4    -0.505478 -0.652000  \n...        ...       ...  \n9995  0.659086  0.587282  \n9996  1.449306  0.378862  \n9997  0.312831  0.852758  \n9998  0.610226  1.498948  \n9999  2.130903 -0.111833  \n\n[10000 rows x 9 columns]",
      "text/html": "<div>\n<style scoped>\n    .dataframe tbody tr th:only-of-type {\n        vertical-align: middle;\n    }\n\n    .dataframe tbody tr th {\n        vertical-align: top;\n    }\n\n    .dataframe thead th {\n        text-align: right;\n    }\n</style>\n<table border=\"1\" class=\"dataframe\">\n  <thead>\n    <tr style=\"text-align: right;\">\n      <th></th>\n      <th>0</th>\n      <th>1</th>\n      <th>2</th>\n      <th>3</th>\n      <th>4</th>\n      <th>5</th>\n      <th>6</th>\n      <th>7</th>\n      <th>8</th>\n    </tr>\n  </thead>\n  <tbody>\n    <tr>\n      <th>0</th>\n      <td>-1.966873</td>\n      <td>0.036157</td>\n      <td>0.173458</td>\n      <td>1.077774</td>\n      <td>-1.503938</td>\n      <td>0.130776</td>\n      <td>0.668909</td>\n      <td>-2.058400</td>\n      <td>-1.006863</td>\n    </tr>\n    <tr>\n      <th>1</th>\n      <td>-0.942325</td>\n      <td>0.077657</td>\n      <td>-0.353651</td>\n      <td>0.501068</td>\n      <td>-0.202194</td>\n      <td>0.613058</td>\n      <td>0.346068</td>\n      <td>-1.031550</td>\n      <td>0.131250</td>\n    </tr>\n    <tr>\n      <th>2</th>\n      <td>-0.716439</td>\n      <td>-0.100930</td>\n      <td>1.283325</td>\n      <td>0.848877</td>\n      <td>-0.707392</td>\n      <td>-0.737716</td>\n      <td>0.302418</td>\n      <td>-0.792607</td>\n      <td>0.121775</td>\n    </tr>\n    <tr>\n      <th>3</th>\n      <td>-1.134535</td>\n      <td>-0.250868</td>\n      <td>-0.106080</td>\n      <td>-0.126013</td>\n      <td>-2.322576</td>\n      <td>-0.998544</td>\n      <td>-0.297545</td>\n      <td>-0.326369</td>\n      <td>0.363300</td>\n    </tr>\n    <tr>\n      <th>4</th>\n      <td>-0.329927</td>\n      <td>1.214664</td>\n      <td>-0.432226</td>\n      <td>-0.428989</td>\n      <td>-0.210331</td>\n      <td>-0.518758</td>\n      <td>-0.687217</td>\n      <td>-0.505478</td>\n      <td>-0.652000</td>\n    </tr>\n    <tr>\n      <th>...</th>\n      <td>...</td>\n      <td>...</td>\n      <td>...</td>\n      <td>...</td>\n      <td>...</td>\n      <td>...</td>\n      <td>...</td>\n      <td>...</td>\n      <td>...</td>\n    </tr>\n    <tr>\n      <th>9995</th>\n      <td>1.376160</td>\n      <td>1.152348</td>\n      <td>1.887187</td>\n      <td>-0.651099</td>\n      <td>2.773032</td>\n      <td>1.152963</td>\n      <td>-1.127660</td>\n      <td>0.659086</td>\n      <td>0.587282</td>\n    </tr>\n    <tr>\n      <th>9996</th>\n      <td>1.462891</td>\n      <td>0.338382</td>\n      <td>0.231409</td>\n      <td>-0.444821</td>\n      <td>0.675293</td>\n      <td>-1.244900</td>\n      <td>-0.090487</td>\n      <td>1.449306</td>\n      <td>0.378862</td>\n    </tr>\n    <tr>\n      <th>9997</th>\n      <td>-0.418783</td>\n      <td>-1.451355</td>\n      <td>0.065706</td>\n      <td>0.890295</td>\n      <td>-1.736130</td>\n      <td>-0.795710</td>\n      <td>1.396982</td>\n      <td>0.312831</td>\n      <td>0.852758</td>\n    </tr>\n    <tr>\n      <th>9998</th>\n      <td>0.314944</td>\n      <td>-0.312340</td>\n      <td>1.215733</td>\n      <td>-0.166766</td>\n      <td>0.009004</td>\n      <td>0.138418</td>\n      <td>-0.108078</td>\n      <td>0.610226</td>\n      <td>1.498948</td>\n    </tr>\n    <tr>\n      <th>9999</th>\n      <td>2.357845</td>\n      <td>1.173528</td>\n      <td>1.698533</td>\n      <td>-1.424688</td>\n      <td>1.689374</td>\n      <td>-1.184573</td>\n      <td>-0.309101</td>\n      <td>2.130903</td>\n      <td>-0.111833</td>\n    </tr>\n  </tbody>\n</table>\n<p>10000 rows × 9 columns</p>\n</div>"
     },
     "execution_count": 11,
     "metadata": {},
     "output_type": "execute_result"
    }
   ],
   "source": [
    "orthogonal_features, eigen_dataframe = orthogonal_features(\n",
    "    X,\n",
    "    variance_threshold=0.95\n",
    ")\n",
    "\n",
    "orthogonal_features"
   ]
  },
  {
   "cell_type": "code",
   "execution_count": 12,
   "metadata": {
    "ExecuteTime": {
     "end_time": "2024-04-03T13:11:50.951832700Z",
     "start_time": "2024-04-03T13:11:50.886850300Z"
    }
   },
   "outputs": [
    {
     "data": {
      "text/plain": "    Index     EigenValue                                        EigenVector  \\\n39  PC 40  109727.227777  [-0.0002533457614532855, -0.002371335154301076...   \n38  PC 39  100434.654131  [-0.004061988096088499, -0.0028192330267524826...   \n37  PC 38   67438.681324  [-0.012750920514659276, -0.1553819808291369, -...   \n36  PC 37   45755.859659  [-0.1181753265816836, 0.013753531931235574, -0...   \n35  PC 36   25059.321881  [-0.0007120315058587331, -0.000790528582097759...   \n34  PC 35   10281.068949  [0.0025267470908919842, -0.0012484949515612909...   \n33  PC 34   10158.207601  [-0.12141511085293638, 0.00793315264629496, -0...   \n32  PC 33    9969.954282  [-0.0008416811807057875, 0.003441308930441123,...   \n31  PC 32    9885.702847  [-0.11697775455102763, 0.006973184401138588, -...   \n\n    CumulativeVariance  \n39            0.274346  \n38            0.525457  \n37            0.694071  \n36            0.808472  \n35            0.871126  \n34            0.896832  \n33            0.922230  \n32            0.947157  \n31            0.971874  ",
      "text/html": "<div>\n<style scoped>\n    .dataframe tbody tr th:only-of-type {\n        vertical-align: middle;\n    }\n\n    .dataframe tbody tr th {\n        vertical-align: top;\n    }\n\n    .dataframe thead th {\n        text-align: right;\n    }\n</style>\n<table border=\"1\" class=\"dataframe\">\n  <thead>\n    <tr style=\"text-align: right;\">\n      <th></th>\n      <th>Index</th>\n      <th>EigenValue</th>\n      <th>EigenVector</th>\n      <th>CumulativeVariance</th>\n    </tr>\n  </thead>\n  <tbody>\n    <tr>\n      <th>39</th>\n      <td>PC 40</td>\n      <td>109727.227777</td>\n      <td>[-0.0002533457614532855, -0.002371335154301076...</td>\n      <td>0.274346</td>\n    </tr>\n    <tr>\n      <th>38</th>\n      <td>PC 39</td>\n      <td>100434.654131</td>\n      <td>[-0.004061988096088499, -0.0028192330267524826...</td>\n      <td>0.525457</td>\n    </tr>\n    <tr>\n      <th>37</th>\n      <td>PC 38</td>\n      <td>67438.681324</td>\n      <td>[-0.012750920514659276, -0.1553819808291369, -...</td>\n      <td>0.694071</td>\n    </tr>\n    <tr>\n      <th>36</th>\n      <td>PC 37</td>\n      <td>45755.859659</td>\n      <td>[-0.1181753265816836, 0.013753531931235574, -0...</td>\n      <td>0.808472</td>\n    </tr>\n    <tr>\n      <th>35</th>\n      <td>PC 36</td>\n      <td>25059.321881</td>\n      <td>[-0.0007120315058587331, -0.000790528582097759...</td>\n      <td>0.871126</td>\n    </tr>\n    <tr>\n      <th>34</th>\n      <td>PC 35</td>\n      <td>10281.068949</td>\n      <td>[0.0025267470908919842, -0.0012484949515612909...</td>\n      <td>0.896832</td>\n    </tr>\n    <tr>\n      <th>33</th>\n      <td>PC 34</td>\n      <td>10158.207601</td>\n      <td>[-0.12141511085293638, 0.00793315264629496, -0...</td>\n      <td>0.922230</td>\n    </tr>\n    <tr>\n      <th>32</th>\n      <td>PC 33</td>\n      <td>9969.954282</td>\n      <td>[-0.0008416811807057875, 0.003441308930441123,...</td>\n      <td>0.947157</td>\n    </tr>\n    <tr>\n      <th>31</th>\n      <td>PC 32</td>\n      <td>9885.702847</td>\n      <td>[-0.11697775455102763, 0.006973184401138588, -...</td>\n      <td>0.971874</td>\n    </tr>\n  </tbody>\n</table>\n</div>"
     },
     "execution_count": 12,
     "metadata": {},
     "output_type": "execute_result"
    }
   ],
   "source": [
    "eigen_dataframe"
   ]
  },
  {
   "cell_type": "code",
   "execution_count": null,
   "outputs": [],
   "source": [],
   "metadata": {
    "collapsed": false
   }
  }
 ],
 "metadata": {
  "kernelspec": {
   "display_name": "base",
   "language": "python",
   "name": "python3"
  },
  "language_info": {
   "codemirror_mode": {
    "name": "ipython",
    "version": 3
   },
   "file_extension": ".py",
   "mimetype": "text/x-python",
   "name": "python",
   "nbconvert_exporter": "python",
   "pygments_lexer": "ipython3",
   "version": "3.9.13"
  },
  "orig_nbformat": 4
 },
 "nbformat": 4,
 "nbformat_minor": 2
}
