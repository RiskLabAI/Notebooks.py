{
 "cells": [
  {
   "cell_type": "markdown",
   "metadata": {},
   "source": [
    "# Import Libraries"
   ]
  },
  {
   "cell_type": "code",
   "execution_count": 1,
   "metadata": {},
   "outputs": [],
   "source": [
    "from CorwinSchultz import *\n",
    "from BekkerParkinsonVolatilityEstimator import *\n",
    "import pandas as pd\n"
   ]
  },
  {
   "cell_type": "markdown",
   "metadata": {},
   "source": [
    "# Read Data"
   ]
  },
  {
   "cell_type": "code",
   "execution_count": 2,
   "metadata": {},
   "outputs": [
    {
     "name": "stdout",
     "output_type": "stream",
     "text": [
      "(1949, 5)\n"
     ]
    },
    {
     "data": {
      "text/html": [
       "<div>\n",
       "<style scoped>\n",
       "    .dataframe tbody tr th:only-of-type {\n",
       "        vertical-align: middle;\n",
       "    }\n",
       "\n",
       "    .dataframe tbody tr th {\n",
       "        vertical-align: top;\n",
       "    }\n",
       "\n",
       "    .dataframe thead th {\n",
       "        text-align: right;\n",
       "    }\n",
       "</style>\n",
       "<table border=\"1\" class=\"dataframe\">\n",
       "  <thead>\n",
       "    <tr style=\"text-align: right;\">\n",
       "      <th></th>\n",
       "      <th>Open</th>\n",
       "      <th>High</th>\n",
       "      <th>Low</th>\n",
       "      <th>Close</th>\n",
       "      <th>Volume</th>\n",
       "    </tr>\n",
       "    <tr>\n",
       "      <th>Datetime</th>\n",
       "      <th></th>\n",
       "      <th></th>\n",
       "      <th></th>\n",
       "      <th></th>\n",
       "      <th></th>\n",
       "    </tr>\n",
       "  </thead>\n",
       "  <tbody>\n",
       "    <tr>\n",
       "      <th>2022-08-26 15:51:00</th>\n",
       "      <td>164.065002</td>\n",
       "      <td>164.190002</td>\n",
       "      <td>163.919998</td>\n",
       "      <td>164.160004</td>\n",
       "      <td>396468</td>\n",
       "    </tr>\n",
       "    <tr>\n",
       "      <th>2022-08-26 15:52:00</th>\n",
       "      <td>164.149994</td>\n",
       "      <td>164.199997</td>\n",
       "      <td>164.080002</td>\n",
       "      <td>164.199997</td>\n",
       "      <td>330492</td>\n",
       "    </tr>\n",
       "    <tr>\n",
       "      <th>2022-08-26 15:53:00</th>\n",
       "      <td>164.190002</td>\n",
       "      <td>164.260101</td>\n",
       "      <td>164.059998</td>\n",
       "      <td>164.100494</td>\n",
       "      <td>313164</td>\n",
       "    </tr>\n",
       "    <tr>\n",
       "      <th>2022-08-26 15:54:00</th>\n",
       "      <td>164.100296</td>\n",
       "      <td>164.250000</td>\n",
       "      <td>163.759995</td>\n",
       "      <td>163.809998</td>\n",
       "      <td>865822</td>\n",
       "    </tr>\n",
       "    <tr>\n",
       "      <th>2022-08-26 15:55:00</th>\n",
       "      <td>163.809998</td>\n",
       "      <td>164.089996</td>\n",
       "      <td>163.770004</td>\n",
       "      <td>163.839996</td>\n",
       "      <td>624396</td>\n",
       "    </tr>\n",
       "    <tr>\n",
       "      <th>2022-08-26 15:56:00</th>\n",
       "      <td>163.850006</td>\n",
       "      <td>164.000000</td>\n",
       "      <td>163.639999</td>\n",
       "      <td>163.979996</td>\n",
       "      <td>490887</td>\n",
       "    </tr>\n",
       "    <tr>\n",
       "      <th>2022-08-26 15:57:00</th>\n",
       "      <td>163.979996</td>\n",
       "      <td>164.080002</td>\n",
       "      <td>163.740005</td>\n",
       "      <td>163.789993</td>\n",
       "      <td>682962</td>\n",
       "    </tr>\n",
       "    <tr>\n",
       "      <th>2022-08-26 15:58:00</th>\n",
       "      <td>163.789993</td>\n",
       "      <td>163.990005</td>\n",
       "      <td>163.770004</td>\n",
       "      <td>163.850006</td>\n",
       "      <td>543378</td>\n",
       "    </tr>\n",
       "    <tr>\n",
       "      <th>2022-08-26 15:59:00</th>\n",
       "      <td>163.839996</td>\n",
       "      <td>163.899994</td>\n",
       "      <td>163.559998</td>\n",
       "      <td>163.660004</td>\n",
       "      <td>1549186</td>\n",
       "    </tr>\n",
       "    <tr>\n",
       "      <th>2022-08-26 16:00:00</th>\n",
       "      <td>163.619995</td>\n",
       "      <td>163.619995</td>\n",
       "      <td>163.619995</td>\n",
       "      <td>163.619995</td>\n",
       "      <td>0</td>\n",
       "    </tr>\n",
       "  </tbody>\n",
       "</table>\n",
       "</div>"
      ],
      "text/plain": [
       "                           Open        High         Low       Close   Volume\n",
       "Datetime                                                                    \n",
       "2022-08-26 15:51:00  164.065002  164.190002  163.919998  164.160004   396468\n",
       "2022-08-26 15:52:00  164.149994  164.199997  164.080002  164.199997   330492\n",
       "2022-08-26 15:53:00  164.190002  164.260101  164.059998  164.100494   313164\n",
       "2022-08-26 15:54:00  164.100296  164.250000  163.759995  163.809998   865822\n",
       "2022-08-26 15:55:00  163.809998  164.089996  163.770004  163.839996   624396\n",
       "2022-08-26 15:56:00  163.850006  164.000000  163.639999  163.979996   490887\n",
       "2022-08-26 15:57:00  163.979996  164.080002  163.740005  163.789993   682962\n",
       "2022-08-26 15:58:00  163.789993  163.990005  163.770004  163.850006   543378\n",
       "2022-08-26 15:59:00  163.839996  163.899994  163.559998  163.660004  1549186\n",
       "2022-08-26 16:00:00  163.619995  163.619995  163.619995  163.619995        0"
      ]
     },
     "execution_count": 2,
     "metadata": {},
     "output_type": "execute_result"
    }
   ],
   "source": [
    "ohlcv_data = pd.read_csv(\"Data/AAPL_OHLCV_1m_Data.csv\", header=0, index_col=\"Datetime\")\n",
    "print(ohlcv_data.shape)\n",
    "\n",
    "ohlcv_data.head(10)"
   ]
  },
  {
   "cell_type": "markdown",
   "metadata": {},
   "source": [
    "# Corwin-Schultz Estimator"
   ]
  },
  {
   "cell_type": "code",
   "execution_count": 3,
   "metadata": {},
   "outputs": [],
   "source": [
    "beta = beta_estimates(ohlcv_data.High, ohlcv_data.Low, 20)\n",
    "gamma = gamma_estimates(ohlcv_data.High, ohlcv_data.Low)\n",
    "alpha = alpha_estimates(beta, gamma)"
   ]
  },
  {
   "cell_type": "code",
   "execution_count": 4,
   "metadata": {},
   "outputs": [
    {
     "data": {
      "text/plain": [
       "Datetime\n",
       "2022-08-22 09:30:00         NaN\n",
       "2022-08-22 09:31:00         NaN\n",
       "2022-08-22 09:32:00         NaN\n",
       "2022-08-22 09:33:00         NaN\n",
       "2022-08-22 09:34:00         NaN\n",
       "                         ...   \n",
       "2022-08-26 15:56:00   -1.000000\n",
       "2022-08-26 15:57:00   -1.000000\n",
       "2022-08-26 15:58:00   -1.000000\n",
       "2022-08-26 15:59:00   -1.000000\n",
       "2022-08-26 16:00:00   -0.999763\n",
       "Length: 1949, dtype: float64"
      ]
     },
     "execution_count": 4,
     "metadata": {},
     "output_type": "execute_result"
    }
   ],
   "source": [
    "corwin_schultz = corwin_schultz_estimator(ohlcv_data.High, ohlcv_data.Low, windowSpan=20)\n",
    "corwin_schultz"
   ]
  },
  {
   "cell_type": "markdown",
   "metadata": {},
   "source": [
    "# Bekker-Parkinson Volatility Estimator"
   ]
  },
  {
   "cell_type": "code",
   "execution_count": 5,
   "metadata": {},
   "outputs": [
    {
     "data": {
      "text/plain": [
       "Datetime\n",
       "2022-08-22 09:30:00         NaN\n",
       "2022-08-22 09:31:00         NaN\n",
       "2022-08-22 09:32:00         NaN\n",
       "2022-08-22 09:33:00         NaN\n",
       "2022-08-22 09:34:00         NaN\n",
       "                         ...   \n",
       "2022-08-26 15:56:00    0.008743\n",
       "2022-08-26 15:57:00    0.008908\n",
       "2022-08-26 15:58:00    0.008118\n",
       "2022-08-26 15:59:00    0.009085\n",
       "2022-08-26 16:00:00    0.008313\n",
       "Length: 1949, dtype: float64"
      ]
     },
     "execution_count": 5,
     "metadata": {},
     "output_type": "execute_result"
    }
   ],
   "source": [
    "sigma = sigma_estimates(beta, gamma)\n",
    "sigma"
   ]
  },
  {
   "cell_type": "code",
   "execution_count": 6,
   "metadata": {},
   "outputs": [
    {
     "data": {
      "text/plain": [
       "Datetime\n",
       "2022-08-22 09:30:00         NaN\n",
       "2022-08-22 09:31:00         NaN\n",
       "2022-08-22 09:32:00         NaN\n",
       "2022-08-22 09:33:00         NaN\n",
       "2022-08-22 09:34:00         NaN\n",
       "                         ...   \n",
       "2022-08-26 15:56:00    0.008743\n",
       "2022-08-26 15:57:00    0.008908\n",
       "2022-08-26 15:58:00    0.008118\n",
       "2022-08-26 15:59:00    0.009085\n",
       "2022-08-26 16:00:00    0.008313\n",
       "Length: 1949, dtype: float64"
      ]
     },
     "execution_count": 6,
     "metadata": {},
     "output_type": "execute_result"
    }
   ],
   "source": [
    "bekker_parkinson_volatility = bekker_parkinson_volatility_estimates(ohlcv_data.High, ohlcv_data.Low, windowSpan=20)\n",
    "bekker_parkinson_volatility"
   ]
  }
 ],
 "metadata": {
  "kernelspec": {
   "display_name": "Python 3.10.7 ('data_env')",
   "language": "python",
   "name": "python3"
  },
  "language_info": {
   "codemirror_mode": {
    "name": "ipython",
    "version": 3
   },
   "file_extension": ".py",
   "mimetype": "text/x-python",
   "name": "python",
   "nbconvert_exporter": "python",
   "pygments_lexer": "ipython3",
   "version": "3.10.7"
  },
  "orig_nbformat": 4,
  "vscode": {
   "interpreter": {
    "hash": "b8fb9d1f403244eb1d8985de9eba125cdc054776ee3ac17bd9ecc183ad605f87"
   }
  }
 },
 "nbformat": 4,
 "nbformat_minor": 2
}
