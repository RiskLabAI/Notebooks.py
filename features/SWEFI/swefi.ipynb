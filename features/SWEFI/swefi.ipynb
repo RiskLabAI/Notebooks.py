{
 "cells": [
  {
   "cell_type": "markdown",
   "metadata": {},
   "source": [
    "# Import Libraries"
   ]
  },
  {
   "cell_type": "code",
   "execution_count": 3,
   "metadata": {},
   "outputs": [
    {
     "ename": "ImportError",
     "evalue": "attempted relative import with no known parent package",
     "output_type": "error",
     "traceback": [
      "\u001b[0;31m---------------------------------------------------------------------------\u001b[0m",
      "\u001b[0;31mImportError\u001b[0m                               Traceback (most recent call last)",
      "Cell \u001b[0;32mIn[3], line 1\u001b[0m\n\u001b[0;32m----> 1\u001b[0m \u001b[38;5;28;01mfrom\u001b[39;00m \u001b[38;5;21;01m.\u001b[39;00m\u001b[38;5;21;01msynthetic_dataset_generation\u001b[39;00m \u001b[38;5;28;01mimport\u001b[39;00m generate_cross_sectional_dataset, generate_multivariate_time_series_dataset\n\u001b[1;32m      2\u001b[0m \u001b[38;5;28;01mfrom\u001b[39;00m \u001b[38;5;21;01m.\u001b[39;00m\u001b[38;5;21;01mstability_weighted_ensemble_feature_importance\u001b[39;00m \u001b[38;5;28;01mimport\u001b[39;00m SWEFI\n",
      "\u001b[0;31mImportError\u001b[0m: attempted relative import with no known parent package"
     ]
    }
   ],
   "source": [
    "from .synthetic_dataset_generation import generate_cross_sectional_dataset, generate_multivariate_time_series_dataset\n",
    "from .stability_weighted_ensemble_feature_importance import SWEFI"
   ]
  },
  {
   "cell_type": "markdown",
   "metadata": {},
   "source": [
    "# Synthetic Dataset Generation "
   ]
  },
  {
   "cell_type": "code",
   "execution_count": 13,
   "metadata": {},
   "outputs": [],
   "source": [
    "import numpy as np\n",
    "import pandas as pd\n",
    "import statsmodels.api as sm\n",
    "import matplotlib.pyplot as plt\n",
    "\n",
    "def generate_ar_time_series(n, ar_params, ma_params, sigma=1.0):\n",
    "    \"\"\"\n",
    "    Generate an autoregressive (AR) time series.\n",
    "\n",
    "    Parameters:\n",
    "    - n: Length of the time series\n",
    "    - ar_params: List of AR parameters [phi1, phi2, ..., phi_p]\n",
    "    - sigma: Standard deviation of the white noise\n",
    "\n",
    "    Returns:\n",
    "    - time_series: Generated AR time series\n",
    "    \"\"\"\n",
    "    # Create the AR coefficients for the model\n",
    "    ar = np.r_[1, -np.array(ar_params)]\n",
    "    ma = np.r_[1, np.array(ma_params)]\n",
    "\n",
    "    # Generate the ARMA process\n",
    "    arma_process = sm.tsa.ArmaProcess(ar, ma)\n",
    "    time_series = arma_process.generate_sample(nsample=n, scale=sigma)\n",
    "\n",
    "    return time_series\n",
    "\n",
    "\n",
    "def create_lagged_data(time_series, k):\n",
    "    \"\"\"\n",
    "    Create a DataFrame with the time series and its k lags.\n",
    "\n",
    "    Parameters:\n",
    "    - time_series: The generated time series\n",
    "    - k: Number of lags\n",
    "\n",
    "    Returns:\n",
    "    - df: DataFrame containing the time series and its lags\n",
    "    \"\"\"\n",
    "    data = {'y': time_series}\n",
    "    for i in range(1, k + 1):\n",
    "        data[f'lag_{i}'] = np.roll(time_series, i)\n",
    "\n",
    "    df = pd.DataFrame(data)\n",
    "    df = df.iloc[k:]  # Drop the initial rows with NaN values due to the roll\n",
    "\n",
    "    return df.to_numpy()\n",
    "\n",
    "def generate_cross_sectional_dataset(\n",
    "    n_informative: int = 5, \n",
    "    n_redundant: int = 25,  \n",
    "    n_noise: int = 5, \n",
    "    n_samples: int = 10000,  \n",
    "    random_state: int = 41,  \n",
    "    sigma_std: float = 0.1, \n",
    "    n_clusters_per_class: int = 2,\n",
    ") -> tuple:\n",
    "    n_features = n_informative + n_redundant + n_noise\n",
    "    np.random.seed(random_state)\n",
    "    X, y = Datasets.make_classification(\n",
    "        n_samples=n_samples,\n",
    "        n_features=n_features-n_redundant,\n",
    "        n_informative=n_informative,\n",
    "        n_redundant=0,\n",
    "        shuffle=False,\n",
    "        random_state=random_state,\n",
    "        n_clusters_per_class=n_clusters_per_class,\n",
    "    )\n",
    "\n",
    "    columns = [f\"I{i}\" for i in range(n_informative)]\n",
    "    columns += [f\"N{i}\" for i in range(n_noise)]\n",
    "    X, y = pd.DataFrame(X, columns=columns), pd.Series(y)\n",
    "    i = np.random.choice(range(n_informative), size=n_redundant)\n",
    "    for k, j in enumerate(i):\n",
    "        X[f\"R{k} (from I{j})\"] = X[f\"I{j}\"] + np.random.normal(size=X.shape[0]) * sigma_std\n",
    "\n",
    "    return X, y\n",
    "\n",
    "def generate_multivariate_time_series_dataset(\n",
    "    n_informative: int = 10,  # number of informative features\n",
    "    n_redundant: int = 10,  # number of redundant features\n",
    "    n_noise: int = 20,\n",
    "    n_samples: int = 10000,  # number of sample to generate\n",
    "    n_time_steps: int = 2, # Two business years\n",
    "    random_state: int = 41,  # random state\n",
    "    sigma_std: float = 0.1,  # standard deviation of generation\n",
    "    time_series_params = [[0.3], [0.3], 0.1], # AR parameter (phi1)\n",
    "):\n",
    "    n_lag = n_time_steps - 1\n",
    "\n",
    "    informative_features = np.zeros(shape=(n_samples, n_informative, n_time_steps))\n",
    "    for k in range(n_informative):\n",
    "        time_series = generate_ar_time_series(n_samples + n_lag, time_series_params[0], time_series_params[1], 1)\n",
    "        informative_features[:, k, :] = create_lagged_data(time_series, n_lag)\n",
    "\n",
    "    np.random.seed(random_state)\n",
    "    i = np.random.choice(range(n_informative), size=n_redundant)\n",
    "    np.random.seed()\n",
    "    \n",
    "    linear_redundant_features = np.zeros((n_samples, n_redundant, n_time_steps))\n",
    "    linear_redundant_features_from_ = []\n",
    "\n",
    "    for k, j in enumerate(i):\n",
    "        linear_redundant_features[:, k, :] = informative_features[:, j, :] + np.random.normal(size=(n_samples, n_time_steps)) * sigma_std\n",
    "        linear_redundant_features_from_.append(j)\n",
    "\n",
    "    # Generate noise features\n",
    "    noise_features = np.zeros(shape=(n_samples, n_noise, n_time_steps))\n",
    "    for k in range(n_noise):\n",
    "        time_series = generate_ar_time_series(n_samples + n_lag, 0.5, 0.5, 1)\n",
    "        noise_features[:, k, :] = create_lagged_data(time_series, n_lag)\n",
    "\n",
    "    # Concatenate all features\n",
    "    X = np.concatenate([\n",
    "        informative_features,\n",
    "        linear_redundant_features,\n",
    "        noise_features],\n",
    "        axis=1)\n",
    "\n",
    "    columns = [f\"I{i} lag{j}\" for i in range(n_informative) for j in range(n_time_steps)]\n",
    "    columns += [f\"R{i} from I{k} lag{j}\" for i, k in enumerate(linear_redundant_features_from_) for j in range(n_time_steps)]\n",
    "    columns += [f\"N{i} lag{j}\" for i in range(n_noise) for j in range(n_time_steps)]\n",
    "\n",
    "    X = X.reshape((n_samples, -1))\n",
    "    X = pd.DataFrame(X, columns=columns)\n",
    "\n",
    "    I = X.iloc[:, :n_informative * n_time_steps]\n",
    "    I = (I - I.mean()) / I.std()\n",
    "    weights = np.ones(shape=len(I.columns))\n",
    "\n",
    "    # Calculate linear combination of features plus some noise\n",
    "    linear_combination = I @ weights\n",
    "    # Generate binary target variable based on probabilities\n",
    "    y = (linear_combination > 0).astype(int)\n",
    "\n",
    "    y = pd.Series(y)\n",
    "\n",
    "    return X, y\n",
    "\n"
   ]
  },
  {
   "cell_type": "markdown",
   "metadata": {},
   "source": [
    "# Feature Importance Methods Implementation"
   ]
  },
  {
   "cell_type": "code",
   "execution_count": 14,
   "metadata": {},
   "outputs": [],
   "source": [
    "def feature_importance_linear_models(\n",
    "    classifier,\n",
    "    X, y,\n",
    ") -> pd.DataFrame:\n",
    "    classifier.fit(X, y)\n",
    "    coefficients_importances = np.abs(classifier.coef_).mean(axis=0)\n",
    "    coefficients_importances = pd.Series(coefficients_importances, classifier.feature_names_in_)\n",
    "\n",
    "    importances_scaled = minmax_scale(\n",
    "        coefficients_importances,\n",
    "        feature_range=(0, 1),\n",
    "        axis=0,\n",
    "    )\n",
    "\n",
    "    return pd.Series(importances_scaled, index=coefficients_importances.index)\n",
    "\n",
    "\n",
    "def feature_importance_sklearn(\n",
    "    classifier,\n",
    "    X, y,\n",
    ") -> pd.DataFrame:\n",
    "    classifier.fit(X, y)\n",
    "    importances = pd.Series(classifier.feature_importances_, index=classifier.feature_names_in_)\n",
    "    \n",
    "    importances = pd.concat({\n",
    "        \"Mean\": importances.mean(),\n",
    "    }, axis=1)\n",
    "\n",
    "    importances_scaled = minmax_scale(\n",
    "        importances[\"Mean\"],\n",
    "        feature_range=(0, 1),\n",
    "        axis=0,\n",
    "    )\n",
    "\n",
    "    return pd.Series(importances_scaled, index=importances.index)\n",
    "\n",
    "\n",
    "def feature_importance_RFE(\n",
    "    classifier,\n",
    "    X,\n",
    "    y,\n",
    ") -> pd.DataFrame:\n",
    "    rfe = RFE(\n",
    "        estimator=classifier,\n",
    "        verbose=0,\n",
    "        n_features_to_select=1,    \n",
    "    )\n",
    "\n",
    "    rfe.fit(X, y)\n",
    "\n",
    "    inverted_ranking = np.max(rfe.ranking_) - rfe.ranking_ + 1\n",
    "\n",
    "    normalized_importance = minmax_scale(inverted_ranking)\n",
    "\n",
    "    return pd.Series(normalized_importance, index=rfe.feature_names_in_)\n",
    "\n",
    "def feature_importance_SFI(\n",
    "    classifier,\n",
    "    X,\n",
    "    y,\n",
    "    n_splits: int = 5,\n",
    "    score_sample_weights: list = None,  \n",
    "    train_sample_weights: list = None, \n",
    ") -> pd.DataFrame:\n",
    "\n",
    "    if train_sample_weights is None:\n",
    "        train_sample_weights = np.ones(X.shape[0])\n",
    "    if score_sample_weights is None:\n",
    "        score_sample_weights = np.ones(X.shape[0])\n",
    "\n",
    "    cv_generator = StratifiedKFold(n_splits=n_splits)\n",
    "    feature_names = X.columns\n",
    "    importances = []\n",
    "    for feature_name in feature_names:\n",
    "        scores = []\n",
    "\n",
    "        for train, test in cv_generator.split(X, y):\n",
    "            x_train, y_train, weights_train = X.iloc[train, :][[feature_name]], y.iloc[train], train_sample_weights[train]\n",
    "            x_test, y_test, weights_test = X.iloc[test, :][[feature_name]], y.iloc[test], score_sample_weights[test]\n",
    "\n",
    "            feature_train, label_train, sample_weights_train = (\n",
    "                x_train, y_train, weights_train,\n",
    "            )\n",
    "\n",
    "            feature_test, label_test, sample_weights_test = (\n",
    "                x_test, y_test, weights_test,\n",
    "            )\n",
    "\n",
    "            try:\n",
    "                classifier.fit(feature_train, label_train, sample_weight=sample_weights_train)\n",
    "            except:\n",
    "                classifier.fit(feature_train, label_train)\n",
    "\n",
    "            prediction = classifier.predict(feature_test)\n",
    "            score = Metrics.accuracy_score(label_test, prediction, sample_weight=sample_weights_test)\n",
    "            scores.append(score)\n",
    "\n",
    "        importances.append({\n",
    "            \"FeatureName\": feature_name,\n",
    "            \"Mean\": np.mean(scores),\n",
    "        })\n",
    "\n",
    "    importances = pd.DataFrame(importances)\n",
    "    importances_scaled = minmax_scale(\n",
    "        importances[\"Mean\"],\n",
    "        feature_range=(0, 1),\n",
    "        axis=0,\n",
    "    )\n",
    "\n",
    "    return pd.Series(importances_scaled, index=importances.FeatureName)\n",
    "\n",
    "\n",
    "def feature_importance_MDI(classifier, X, y):\n",
    "    classifier.fit(X, y)\n",
    "    importances = pd.Series(classifier.feature_importances_, index=classifier.feature_names_in_)\n",
    "    \n",
    "    importances_scaled = minmax_scale(\n",
    "        importances,\n",
    "        feature_range=(0, 1),\n",
    "        axis=0,\n",
    "    )\n",
    "\n",
    "    return pd.Series(importances_scaled, index=importances.index)\n",
    "\n",
    "def feature_importance_MDA(\n",
    "    classifier,\n",
    "    X: pd.DataFrame,\n",
    "    y: pd.DataFrame,\n",
    "    n_repeats: int = 5,\n",
    ") -> pd.DataFrame:\n",
    "\n",
    "    classifier.fit(X, y)\n",
    "    importances = permutation_importance(classifier, X, y, n_repeats=n_repeats, random_state=43).importances_mean\n",
    "\n",
    "    importances = minmax_scale(\n",
    "        importances,\n",
    "        feature_range=(0, 1),\n",
    "        axis=0,\n",
    "    )\n",
    "\n",
    "    return pd.Series(importances, index=X.columns)\n",
    "\n",
    "class UAMeasure(Enum):\n",
    "    SPEARMAN = \"Spearman\"\n",
    "    PEARSON = \"Pearson\"\n",
    "    KENDAL_TAU = \"Kendal-Tau\"\n",
    "    MUTUAL_INFORMATION = \"Mutual Information\"\n",
    "    ANOVA_F = \"ANOVA F-Stat\"\n",
    "\n",
    "def feature_importance_univariate_analysis(measurements, X, y):\n",
    "    ua = pd.DataFrame(\n",
    "        data=None,\n",
    "        index=X.columns\n",
    "    )\n",
    "\n",
    "    if UAMeasure.SPEARMAN.value in measurements:\n",
    "        spearmans = minmax_scale(X.apply(lambda feature: (np.abs(np.corrcoef(feature, y)[0, 1])), axis=0))\n",
    "        ua[UAMeasure.SPEARMAN.value] = spearmans\n",
    "\n",
    "    if UAMeasure.PEARSON.value in measurements:\n",
    "        pearsons = minmax_scale(X.apply(lambda feature: np.abs(pearsonr(feature, y).statistic), axis=0))\n",
    "        ua[UAMeasure.PEARSON.value] = pearsons\n",
    "        \n",
    "    if UAMeasure.KENDAL_TAU.value in measurements:\n",
    "        kendalltaus = minmax_scale(X.apply(lambda feature: np.abs(kendalltau(feature, y).statistic), axis=0))\n",
    "        ua[UAMeasure.KENDAL_TAU.value] = kendalltaus\n",
    "\n",
    "    if UAMeasure.MUTUAL_INFORMATION.value in measurements:\n",
    "        mutual_informations = minmax_scale(mutual_info_classif(X, y, n_neighbors=51))\n",
    "        ua[UAMeasure.MUTUAL_INFORMATION.value] = mutual_informations\n",
    "\n",
    "    if UAMeasure.ANOVA_F.value in measurements:\n",
    "        f_values = minmax_scale(f_classif(X, y)[0])\n",
    "        ua[UAMeasure.ANOVA_F.value] = f_values\n",
    "    \n",
    "    return ua"
   ]
  },
  {
   "cell_type": "markdown",
   "metadata": {},
   "source": [
    "# SWEFI implementation"
   ]
  },
  {
   "cell_type": "code",
   "execution_count": 23,
   "metadata": {},
   "outputs": [],
   "source": [
    "def full_name(klass):\n",
    "    return \".\".join([klass.__module__, klass.__name__])\n",
    "\n",
    "class FIModel(Enum):\n",
    "    COEFFICIENT_BASED = \"Coefficient-Based + Shrinkage & Selection\"\n",
    "    TREE_BASED = \"Tree-Based\"\n",
    "    PERMUTATION_BASED = \"Permutation-Based\"\n",
    "    SINGLE_FEATURE_BASED = \"Signle Feature-Based\"\n",
    "    RFE_BASED = \"Recursive Feature Elimination-Based\"\n",
    "\n",
    "class SWEFI:\n",
    "    def __init__(self, X, y, n_fold=10):\n",
    "\n",
    "        self.percentage = None\n",
    "        self.clfx = ClassificationExperiment()\n",
    "        self.clfx.setup(data = X, target = y, fold=n_fold, train_size=0.99, session_id = 123, n_jobs = -1, normalize=True, normalize_method='zscore')\n",
    "        self.X = X\n",
    "        self.y = y\n",
    "\n",
    "    def select_models(self, select_n_model=None):\n",
    "        model_to_methods = self.clfx.models()\n",
    "\n",
    "        model_to_methods['FI Methods'] = pd.Series({\n",
    "            'lr': [FIModel.COEFFICIENT_BASED.value, FIModel.PERMUTATION_BASED.value, FIModel.SINGLE_FEATURE_BASED.value, FIModel.RFE_BASED.value],\n",
    "            'knn': [FIModel.PERMUTATION_BASED.value, ],\n",
    "            'nb': [FIModel.SINGLE_FEATURE_BASED.value],\n",
    "            'dt': [FIModel.SINGLE_FEATURE_BASED.value],\n",
    "            'svm': [FIModel.COEFFICIENT_BASED.value, FIModel.PERMUTATION_BASED.value,], \n",
    "            'rbfsvm': [FIModel.PERMUTATION_BASED.value,],\n",
    "            'gpc': [FIModel.PERMUTATION_BASED.value,],\n",
    "            'mlp': [FIModel.PERMUTATION_BASED.value,],\n",
    "            'ridge': [FIModel.COEFFICIENT_BASED.value, FIModel.PERMUTATION_BASED.value, FIModel.SINGLE_FEATURE_BASED.value, FIModel.RFE_BASED.value],\n",
    "            'rf': [FIModel.TREE_BASED.value, FIModel.RFE_BASED.value],\n",
    "            'qda': [FIModel.PERMUTATION_BASED.value, ],\n",
    "            'ada': [FIModel.PERMUTATION_BASED.value, ],\n",
    "            'gbc': [FIModel.PERMUTATION_BASED.value, ],\n",
    "            'lda': [FIModel.COEFFICIENT_BASED.value, FIModel.PERMUTATION_BASED.value, FIModel.SINGLE_FEATURE_BASED.value, FIModel.RFE_BASED.value],\n",
    "            'et': [FIModel.TREE_BASED.value, FIModel.RFE_BASED.value],\n",
    "            'xgboost': [FIModel.TREE_BASED.value, FIModel.RFE_BASED.value ],\n",
    "            'lightgbm': [FIModel.PERMUTATION_BASED.value,],\n",
    "            'dummy': [FIModel.PERMUTATION_BASED.value],\n",
    "        })\n",
    "\n",
    "        model_to_methods = model_to_methods[['Reference', 'FI Methods']].set_index('Reference').squeeze().to_dict()\n",
    "        \n",
    "        model_to_methods.update({\n",
    "            \"sklearn.svm._classes.SVC\": [FIModel.COEFFICIENT_BASED.value, FIModel.RFE_BASED.value],\n",
    "        })\n",
    "        \n",
    "        self.model_to_methods = model_to_methods\n",
    "\n",
    "        exclude = set(['dummy', 'svm', 'knn', 'nb', 'lightgbm', 'ada', 'gpc', 'rbfsvm'])\n",
    "        all_models = set(self.clfx.models().index.tolist()) \n",
    "        external_models = [SVC(probability=True, kernel='linear'), ]\n",
    "\n",
    "        include = list(all_models - exclude) + external_models\n",
    "        \n",
    "        if type(select_n_model) == float:\n",
    "            self.learning_models = self.clfx.compare_models(n_select=round(len(self.clfx.models()) * select_n_model),\n",
    "                                                             include=include,\n",
    "                                                             )\n",
    "        else:\n",
    "            self.learning_models = self.clfx.compare_models(n_select=select_n_model,\n",
    "                                                             include=include,\n",
    "                                                             )\n",
    "            \n",
    "        return self\n",
    "\n",
    "    def select_univariate_analysis_measurements(self, measurements=['Pearson', 'Spearman', 'Kendal']):\n",
    "        self.measurements = measurements\n",
    "\n",
    "        return self\n",
    "\n",
    "    def fine_tune_selected_models(self, hpo_n_fold=4, hpo_n_iter=25, hpo_metric = 'Accuracy', hpo_search_library = 'scikit-optimize', hpo_search_algorithm = 'bayesian'):\n",
    "        learning_models = self.learning_models\n",
    "        model_to_methods = self.model_to_methods\n",
    "\n",
    "\n",
    "        model_to_custom_config = {\n",
    "            \"sklearn.ensemble._forest.ExtraTreesClassifier\": None,\n",
    "            \"sklearn.neighbors._classification.KNeighborsClassifier\": None,\n",
    "            \"sklearn.ensemble._forest.RandomForestClassifier\": None,\n",
    "            \"xgboost.sklearn.XGBClassifier\": None,\n",
    "            \"lightgbm.sklearn.LGBMClassifier\": {},\n",
    "            \"sklearn.neural_network._multilayer_perceptron.MLPClassifier\": None,\n",
    "            \"sklearn.ensemble._gb.GradientBoostingClassifier\": {},\n",
    "            \"sklearn.naive_bayes.GaussianNB\": {},\n",
    "            \"sklearn.ensemble._weight_boosting.AdaBoostClassifier\": {},\n",
    "            \"sklearn.linear_model._ridge.RidgeClassifier\": {\n",
    "                \"alpha\": [1],\n",
    "                \"solver\": [\"lsqr\"],\n",
    "            },\n",
    "            \"sklearn.discriminant_analysis.LinearDiscriminantAnalysis\": {\n",
    "                \"shrinkage\": [0.0,],\n",
    "                \"solver\": [\"lsqr\"],\n",
    "            },\n",
    "            \"sklearn.linear_model._logistic.LogisticRegression\": {\n",
    "                \"C\": [1,],\n",
    "                \"solver\": ['liblinear'],\n",
    "            },\n",
    "            \"sklearn.discriminant_analysis.QuadraticDiscriminantAnalysis\": {},\n",
    "            \"sklearn.tree._classes.DecisionTreeClassifier\": None,\n",
    "            \"sklearn.svm._classes.SVC\": {\n",
    "                'probability': [True, ],\n",
    "                'C': [1.0],\n",
    "                'kernel': [\n",
    "                    \"linear\",\n",
    "                ],\n",
    "            },\n",
    "        }\n",
    "\n",
    "        tuned_learning_models = []\n",
    "        for model in learning_models:\n",
    "            print(\"-\" * 80)\n",
    "            print(model.__class__.__name__)\n",
    "\n",
    "            if model_to_custom_config[full_name(model.__class__)] is None:\n",
    "                tlm, tuner = self.clfx.tune_model(\n",
    "                    model,\n",
    "                    return_tuner=True,\n",
    "                    fold=hpo_n_fold, \n",
    "                    verbose=True, \n",
    "                    tuner_verbose=True, \n",
    "                    optimize=hpo_metric, \n",
    "                    search_library=hpo_search_library, search_algorithm=hpo_search_algorithm,\n",
    "                    n_iter=hpo_n_iter,\n",
    "                    choose_better=True\n",
    "                )\n",
    "\n",
    "            elif len(model_to_custom_config[full_name(model.__class__)]) == 0:\n",
    "                print(\"No hyper-tuning ...\")\n",
    "                tlm = model\n",
    "\n",
    "            else:\n",
    "                print(\"Custom config ...\")\n",
    "                tlm, tuner = self.clfx.tune_model(\n",
    "                    model,\n",
    "                    return_tuner=True,\n",
    "                    fold=hpo_n_fold, \n",
    "                    verbose=True, \n",
    "                    tuner_verbose=True, \n",
    "                    optimize=hpo_metric, \n",
    "                    search_library='scikit-learn', search_algorithm='grid',\n",
    "                    custom_grid=model_to_custom_config[full_name(model.__class__)], \n",
    "                    n_iter=hpo_n_iter,\n",
    "                    choose_better=True\n",
    "                )\n",
    "\n",
    "\n",
    "            tuned_learning_models.append(tlm)\n",
    "\n",
    "        self.finalized_tuned_learning_models = [self.clfx.finalize_model(estimator=tlm, model_only=True,) for tlm in tuned_learning_models]\n",
    "\n",
    "        model_method_pairs = []\n",
    "\n",
    "        for tlm in tuned_learning_models:\n",
    "            methods = model_to_methods[full_name(tlm.__class__)]\n",
    "            for method in methods:\n",
    "                model_method_pairs.append((tlm, method))\n",
    "\n",
    "        self.model_method_pairs = model_method_pairs\n",
    "        \n",
    "        return self\n",
    "\n",
    "    def _initialize_model_feature_importance_data(self, models, n_iteration=5):\n",
    "        feature_names = self.X.columns\n",
    "        index_columns = [\"Model Name\", \"Feature Importance Model\", \"Subset Index\"]\n",
    "        to_apply_product_list = [\n",
    "            models,\n",
    "            [i for i in range(n_iteration)],\n",
    "        ]\n",
    "        tuples = [(type(model).__name__, proper_fi_model, iteration) for (model, proper_fi_model), iteration in\n",
    "                  itertools.product(*to_apply_product_list)]\n",
    "        \n",
    "        index = pd.MultiIndex.from_tuples(\n",
    "            tuples,\n",
    "            names=index_columns\n",
    "        )\n",
    "\n",
    "        data = pd.DataFrame({}, columns=feature_names, index=index)\n",
    "        return data, index\n",
    "    \n",
    "    def _initialize_univariate_analysis_feature_importance_data(self, measurements, n_iteration=5):\n",
    "        feature_names = self.X.columns\n",
    "        index_columns = [\"Model Name\", \"Feature Importance Model\", \"Subset Index\"]\n",
    "        to_apply_product_list = [\n",
    "            measurements,\n",
    "            [i for i in range(n_iteration)],\n",
    "        ]\n",
    "        tuples = [(\"Univariate Analysis\", ua_measurement, iteration) for (ua_measurement), iteration in\n",
    "                  itertools.product(*to_apply_product_list)]\n",
    "        \n",
    "        index = pd.MultiIndex.from_tuples(\n",
    "            tuples,\n",
    "            names=index_columns\n",
    "        )\n",
    "\n",
    "        data = pd.DataFrame({}, columns=feature_names, index=index)\n",
    "        return data, index\n",
    "\n",
    "    @staticmethod\n",
    "    def stationary_bootstrap(X, y, n_iteration=5,):\n",
    "        optimal_block_size = round(optimal_block_length(X).mean(axis=0)[\"stationary\"])\n",
    "        random_state = RandomState(1234)\n",
    "        bootstraper = StationaryBootstrap(optimal_block_size, X=X, y=y, random_state=random_state)\n",
    "        for bootstraped_data in bootstraper.bootstrap(n_iteration):\n",
    "            yield bootstraped_data[1]['X'], bootstraped_data[1]['y']\n",
    "\n",
    "    @staticmethod\n",
    "    def iid_bootstrap(X, y, n_iteration=5,):\n",
    "        random_state = RandomState(1234)\n",
    "        bootstraper = IIDBootstrap(X=X, y=y, random_state=random_state)\n",
    "        for bootstraped_data in bootstraper.bootstrap(n_iteration):\n",
    "            yield bootstraped_data[1]['X'], bootstraped_data[1]['y']\n",
    "\n",
    "    def compute_feature_importance_data(self, bootstrap_method, n_iteration=10, n_repeats=10):\n",
    "        X = self.X\n",
    "        y = self.y\n",
    "\n",
    "        X = (X-X.mean()) / X.std()\n",
    "\n",
    "        model_method_pairs = self.model_method_pairs\n",
    "        models_fi, models_index = self._initialize_model_feature_importance_data(model_method_pairs, n_iteration=n_iteration)\n",
    "\n",
    "        measurements = self.measurements\n",
    "        measurements_fi, measurements_index = self._initialize_univariate_analysis_feature_importance_data(measurements, n_iteration=n_iteration)\n",
    "\n",
    "        for iteration, (X_train, y_train) in tqdm(enumerate(\n",
    "            bootstrap_method(X, y, n_iteration)\n",
    "        ), total=n_iteration):\n",
    "\n",
    "            for model, proper_fi_model in model_method_pairs:\n",
    "\n",
    "                if proper_fi_model == FIModel.TREE_BASED.value:\n",
    "                    try:\n",
    "                        result = feature_importance_MDI(model, X_train, y_train, ).values\n",
    "                    except:\n",
    "                        result = feature_importance_sklearn(model, X_train, y_train,).values\n",
    "\n",
    "                elif proper_fi_model == FIModel.PERMUTATION_BASED.value:\n",
    "                    result = feature_importance_MDA(model, X_train, y_train, n_repeats=n_repeats).values\n",
    "\n",
    "                elif proper_fi_model == FIModel.COEFFICIENT_BASED.value:\n",
    "                    result = feature_importance_linear_models(model, X_train, y_train,).values\n",
    "\n",
    "                elif proper_fi_model == FIModel.SINGLE_FEATURE_BASED.value:\n",
    "                    result = feature_importance_SFI(model, X_train, y_train, n_splits=n_repeats).values\n",
    "                \n",
    "                elif proper_fi_model == FIModel.RFE_BASED.value:\n",
    "                    result = feature_importance_RFE(model, X_train, y_train,).values\n",
    "\n",
    "                # Normalize\n",
    "                result = (result - result.min()) / (result.max() - result.min()) \n",
    "\n",
    "                models_fi.loc[type(model).__name__, proper_fi_model, iteration] = result\n",
    "\n",
    "            ua_result = feature_importance_univariate_analysis(measurements, X_train, y_train).T.values\n",
    "            measurements_fi.loc[pd.IndexSlice[\"Univariate Analysis\", :, iteration]] = ua_result\n",
    "            \n",
    "        self.models_fi = models_fi\n",
    "        self.models_index = models_index\n",
    "\n",
    "        self.measurements_fi = measurements_fi\n",
    "        self.measurements_index = measurements_index\n",
    "\n",
    "        self.n_iterationn = n_iteration\n",
    "\n",
    "        return self\n",
    "    \n",
    "    def compute_swefi_scores(self, percentage=0.5, weight='linear'):\n",
    "        features = self.X.columns\n",
    "\n",
    "        fi = pd.concat([self.models_fi, self.measurements_fi])\n",
    "        index = self.models_index.tolist() + self.measurements_index.tolist()\n",
    "        k = round(len(features) * percentage)\n",
    "        important_features_together = []\n",
    "\n",
    "        for idx in index:\n",
    "            important_features_in_current_step = fi.loc[idx].squeeze().sort_values(ascending=False)[:k].index.tolist()\n",
    "            important_features_together.extend(important_features_in_current_step)\n",
    "\n",
    "        feature_ranked_as_k_top_important = dict(zip(features, [0] * len(features)))\n",
    "        n_times_that_feature_ranked_as_important = Counter(important_features_together)\n",
    "        dict.update(feature_ranked_as_k_top_important, n_times_that_feature_ranked_as_important)\n",
    "        feature_ranked_as_k_top_important = pd.Series(feature_ranked_as_k_top_important)\n",
    "        stability_scores = feature_ranked_as_k_top_important / (self.n_iterationn * (len(self.model_method_pairs) + len(self.measurements)))\n",
    "\n",
    "        if weight == 'linear':\n",
    "            weights = stability_scores\n",
    "            weights = weights / weights.sum()\n",
    "            swefi = (fi * weights)\n",
    "\n",
    "        elif weight == 'logarithmic':\n",
    "            weights = np.log(stability_scores + 1)\n",
    "            weights = weights / weights.sum()\n",
    "            swefi = (fi * weights)\n",
    "\n",
    "        elif weight == 'exponential':\n",
    "            weights = np.exp(stability_scores)\n",
    "            weights = weights / weights.sum()\n",
    "            swefi = (fi * weights) \n",
    "\n",
    "        elif weight == 'harmonic':\n",
    "            swefi = (2 * fi * stability_scores) / (fi + stability_scores)\n",
    "\n",
    "        elif weight == 'power-2':\n",
    "            weights = stability_scores ** 2\n",
    "            weights = weights / weights.sum()\n",
    "            swefi = (fi * weights)\n",
    "\n",
    "        elif weight == 'power-0.5':\n",
    "            weights = (stability_scores ** 0.5)\n",
    "            weights = weights / weights.sum()\n",
    "            swefi = (fi * weights)\n",
    "\n",
    "        elif weight == 'entropy':\n",
    "            weights = (-stability_scores * np.log(stability_scores))\n",
    "            weights = weights / weights.sum()            \n",
    "            swefi = (fi * weights)\n",
    "\n",
    "        else:\n",
    "            raise NotImplementedError(f\"Weight {weight} not implemented.\")\n",
    "\n",
    "        swefi = pd.concat(\n",
    "            [swefi.mean() / swefi.mean().sum(), swefi.std() * (swefi.shape[0]) ** -0.5 / swefi.mean().sum()],\n",
    "            axis=1,\n",
    "        ).rename(columns={\n",
    "            0: 'mean(SWEFI)',\n",
    "            1: 'std(SWEFI)',\n",
    "        }).sort_values(by='mean(SWEFI)')\n",
    "\n",
    "        self.stability_scores = stability_scores\n",
    "        self.swefi = swefi\n",
    "        return self\n",
    "\n",
    "    def get_swefi_scores(self):\n",
    "        return self.swefi\n",
    "\n",
    "    def get_inner_models_feature_importances(self):\n",
    "        models_fi = self.models_fi.groupby(level=[0, 1]).sum()\n",
    "        models_fi = models_fi.div(models_fi.sum(axis=1).values, axis=0).transpose()\n",
    "        return models_fi"
   ]
  },
  {
   "cell_type": "markdown",
   "metadata": {},
   "source": [
    "# Run on Synthetic Dataset"
   ]
  },
  {
   "cell_type": "code",
   "execution_count": 16,
   "metadata": {},
   "outputs": [],
   "source": [
    "# n_informative=5\n",
    "# n_redundant=20\n",
    "# n_noise=5\n",
    "# n_samples = 1000\n",
    "# sigma_std = 0.1\n",
    "\n",
    "# X, y = generate_cross_sectional_dataset(\n",
    "#     n_informative=n_informative,\n",
    "#     n_redundant=n_redundant,\n",
    "#     n_noise=n_noise,\n",
    "#     n_samples=n_samples,\n",
    "#     sigma_std=sigma_std\n",
    "# )\n",
    "\n",
    "n_informative=5\n",
    "n_redundant=20\n",
    "n_noise=5\n",
    "n_samples = 1000\n",
    "sigma_std = 0.1\n",
    "n_time_steps = 2\n",
    "\n",
    "X, y = generate_multivariate_time_series_dataset(\n",
    "    n_informative=n_informative,\n",
    "    n_redundant=n_redundant,\n",
    "    n_noise=n_noise,\n",
    "    n_samples=n_samples,\n",
    "    n_time_steps=n_time_steps,\n",
    "    sigma_std=sigma_std,\n",
    "    time_series_params=[[0.5], [0.5], [1]]\n",
    ")"
   ]
  },
  {
   "cell_type": "code",
   "execution_count": 17,
   "metadata": {},
   "outputs": [],
   "source": [
    "select_n_model = 100\n",
    "\n",
    "bootstrap_method = SWEFI.stationary_bootstrap\n",
    "\n",
    "hpo_n_fold=4\n",
    "hpo_n_iter=25\n",
    "hpo_metric = 'AUC'\n",
    "hpo_search_library = 'scikit-optimize'\n",
    "hpo_search_algorithm = 'bayesian'\n",
    "\n",
    "n_iteration = 5\n",
    "\n",
    "percentage = 0.5"
   ]
  },
  {
   "cell_type": "code",
   "execution_count": 18,
   "metadata": {},
   "outputs": [
    {
     "data": {
      "text/html": [
       "<style type=\"text/css\">\n",
       "#T_3c7a8_row8_col1, #T_3c7a8_row12_col1 {\n",
       "  background-color: lightgreen;\n",
       "}\n",
       "</style>\n",
       "<table id=\"T_3c7a8\">\n",
       "  <thead>\n",
       "    <tr>\n",
       "      <th class=\"blank level0\" >&nbsp;</th>\n",
       "      <th id=\"T_3c7a8_level0_col0\" class=\"col_heading level0 col0\" >Description</th>\n",
       "      <th id=\"T_3c7a8_level0_col1\" class=\"col_heading level0 col1\" >Value</th>\n",
       "    </tr>\n",
       "  </thead>\n",
       "  <tbody>\n",
       "    <tr>\n",
       "      <th id=\"T_3c7a8_level0_row0\" class=\"row_heading level0 row0\" >0</th>\n",
       "      <td id=\"T_3c7a8_row0_col0\" class=\"data row0 col0\" >Session id</td>\n",
       "      <td id=\"T_3c7a8_row0_col1\" class=\"data row0 col1\" >123</td>\n",
       "    </tr>\n",
       "    <tr>\n",
       "      <th id=\"T_3c7a8_level0_row1\" class=\"row_heading level0 row1\" >1</th>\n",
       "      <td id=\"T_3c7a8_row1_col0\" class=\"data row1 col0\" >Target</td>\n",
       "      <td id=\"T_3c7a8_row1_col1\" class=\"data row1 col1\" >0</td>\n",
       "    </tr>\n",
       "    <tr>\n",
       "      <th id=\"T_3c7a8_level0_row2\" class=\"row_heading level0 row2\" >2</th>\n",
       "      <td id=\"T_3c7a8_row2_col0\" class=\"data row2 col0\" >Target type</td>\n",
       "      <td id=\"T_3c7a8_row2_col1\" class=\"data row2 col1\" >Binary</td>\n",
       "    </tr>\n",
       "    <tr>\n",
       "      <th id=\"T_3c7a8_level0_row3\" class=\"row_heading level0 row3\" >3</th>\n",
       "      <td id=\"T_3c7a8_row3_col0\" class=\"data row3 col0\" >Original data shape</td>\n",
       "      <td id=\"T_3c7a8_row3_col1\" class=\"data row3 col1\" >(1000, 61)</td>\n",
       "    </tr>\n",
       "    <tr>\n",
       "      <th id=\"T_3c7a8_level0_row4\" class=\"row_heading level0 row4\" >4</th>\n",
       "      <td id=\"T_3c7a8_row4_col0\" class=\"data row4 col0\" >Transformed data shape</td>\n",
       "      <td id=\"T_3c7a8_row4_col1\" class=\"data row4 col1\" >(1000, 61)</td>\n",
       "    </tr>\n",
       "    <tr>\n",
       "      <th id=\"T_3c7a8_level0_row5\" class=\"row_heading level0 row5\" >5</th>\n",
       "      <td id=\"T_3c7a8_row5_col0\" class=\"data row5 col0\" >Transformed train set shape</td>\n",
       "      <td id=\"T_3c7a8_row5_col1\" class=\"data row5 col1\" >(990, 61)</td>\n",
       "    </tr>\n",
       "    <tr>\n",
       "      <th id=\"T_3c7a8_level0_row6\" class=\"row_heading level0 row6\" >6</th>\n",
       "      <td id=\"T_3c7a8_row6_col0\" class=\"data row6 col0\" >Transformed test set shape</td>\n",
       "      <td id=\"T_3c7a8_row6_col1\" class=\"data row6 col1\" >(10, 61)</td>\n",
       "    </tr>\n",
       "    <tr>\n",
       "      <th id=\"T_3c7a8_level0_row7\" class=\"row_heading level0 row7\" >7</th>\n",
       "      <td id=\"T_3c7a8_row7_col0\" class=\"data row7 col0\" >Numeric features</td>\n",
       "      <td id=\"T_3c7a8_row7_col1\" class=\"data row7 col1\" >60</td>\n",
       "    </tr>\n",
       "    <tr>\n",
       "      <th id=\"T_3c7a8_level0_row8\" class=\"row_heading level0 row8\" >8</th>\n",
       "      <td id=\"T_3c7a8_row8_col0\" class=\"data row8 col0\" >Preprocess</td>\n",
       "      <td id=\"T_3c7a8_row8_col1\" class=\"data row8 col1\" >True</td>\n",
       "    </tr>\n",
       "    <tr>\n",
       "      <th id=\"T_3c7a8_level0_row9\" class=\"row_heading level0 row9\" >9</th>\n",
       "      <td id=\"T_3c7a8_row9_col0\" class=\"data row9 col0\" >Imputation type</td>\n",
       "      <td id=\"T_3c7a8_row9_col1\" class=\"data row9 col1\" >simple</td>\n",
       "    </tr>\n",
       "    <tr>\n",
       "      <th id=\"T_3c7a8_level0_row10\" class=\"row_heading level0 row10\" >10</th>\n",
       "      <td id=\"T_3c7a8_row10_col0\" class=\"data row10 col0\" >Numeric imputation</td>\n",
       "      <td id=\"T_3c7a8_row10_col1\" class=\"data row10 col1\" >mean</td>\n",
       "    </tr>\n",
       "    <tr>\n",
       "      <th id=\"T_3c7a8_level0_row11\" class=\"row_heading level0 row11\" >11</th>\n",
       "      <td id=\"T_3c7a8_row11_col0\" class=\"data row11 col0\" >Categorical imputation</td>\n",
       "      <td id=\"T_3c7a8_row11_col1\" class=\"data row11 col1\" >mode</td>\n",
       "    </tr>\n",
       "    <tr>\n",
       "      <th id=\"T_3c7a8_level0_row12\" class=\"row_heading level0 row12\" >12</th>\n",
       "      <td id=\"T_3c7a8_row12_col0\" class=\"data row12 col0\" >Normalize</td>\n",
       "      <td id=\"T_3c7a8_row12_col1\" class=\"data row12 col1\" >True</td>\n",
       "    </tr>\n",
       "    <tr>\n",
       "      <th id=\"T_3c7a8_level0_row13\" class=\"row_heading level0 row13\" >13</th>\n",
       "      <td id=\"T_3c7a8_row13_col0\" class=\"data row13 col0\" >Normalize method</td>\n",
       "      <td id=\"T_3c7a8_row13_col1\" class=\"data row13 col1\" >zscore</td>\n",
       "    </tr>\n",
       "    <tr>\n",
       "      <th id=\"T_3c7a8_level0_row14\" class=\"row_heading level0 row14\" >14</th>\n",
       "      <td id=\"T_3c7a8_row14_col0\" class=\"data row14 col0\" >Fold Generator</td>\n",
       "      <td id=\"T_3c7a8_row14_col1\" class=\"data row14 col1\" >StratifiedKFold</td>\n",
       "    </tr>\n",
       "    <tr>\n",
       "      <th id=\"T_3c7a8_level0_row15\" class=\"row_heading level0 row15\" >15</th>\n",
       "      <td id=\"T_3c7a8_row15_col0\" class=\"data row15 col0\" >Fold Number</td>\n",
       "      <td id=\"T_3c7a8_row15_col1\" class=\"data row15 col1\" >10</td>\n",
       "    </tr>\n",
       "    <tr>\n",
       "      <th id=\"T_3c7a8_level0_row16\" class=\"row_heading level0 row16\" >16</th>\n",
       "      <td id=\"T_3c7a8_row16_col0\" class=\"data row16 col0\" >CPU Jobs</td>\n",
       "      <td id=\"T_3c7a8_row16_col1\" class=\"data row16 col1\" >-1</td>\n",
       "    </tr>\n",
       "    <tr>\n",
       "      <th id=\"T_3c7a8_level0_row17\" class=\"row_heading level0 row17\" >17</th>\n",
       "      <td id=\"T_3c7a8_row17_col0\" class=\"data row17 col0\" >Use GPU</td>\n",
       "      <td id=\"T_3c7a8_row17_col1\" class=\"data row17 col1\" >False</td>\n",
       "    </tr>\n",
       "    <tr>\n",
       "      <th id=\"T_3c7a8_level0_row18\" class=\"row_heading level0 row18\" >18</th>\n",
       "      <td id=\"T_3c7a8_row18_col0\" class=\"data row18 col0\" >Log Experiment</td>\n",
       "      <td id=\"T_3c7a8_row18_col1\" class=\"data row18 col1\" >False</td>\n",
       "    </tr>\n",
       "    <tr>\n",
       "      <th id=\"T_3c7a8_level0_row19\" class=\"row_heading level0 row19\" >19</th>\n",
       "      <td id=\"T_3c7a8_row19_col0\" class=\"data row19 col0\" >Experiment Name</td>\n",
       "      <td id=\"T_3c7a8_row19_col1\" class=\"data row19 col1\" >clf-default-name</td>\n",
       "    </tr>\n",
       "    <tr>\n",
       "      <th id=\"T_3c7a8_level0_row20\" class=\"row_heading level0 row20\" >20</th>\n",
       "      <td id=\"T_3c7a8_row20_col0\" class=\"data row20 col0\" >USI</td>\n",
       "      <td id=\"T_3c7a8_row20_col1\" class=\"data row20 col1\" >8ad2</td>\n",
       "    </tr>\n",
       "  </tbody>\n",
       "</table>\n"
      ],
      "text/plain": [
       "<pandas.io.formats.style.Styler at 0x164e5cbd0>"
      ]
     },
     "metadata": {},
     "output_type": "display_data"
    }
   ],
   "source": [
    "swefi = SWEFI(X, y, n_fold=10)"
   ]
  },
  {
   "cell_type": "code",
   "execution_count": 19,
   "metadata": {},
   "outputs": [
    {
     "data": {
      "text/html": [],
      "text/plain": [
       "<IPython.core.display.HTML object>"
      ]
     },
     "metadata": {},
     "output_type": "display_data"
    },
    {
     "data": {
      "text/html": [
       "<style type=\"text/css\">\n",
       "#T_55786 th {\n",
       "  text-align: left;\n",
       "}\n",
       "#T_55786_row0_col0, #T_55786_row0_col2, #T_55786_row1_col0, #T_55786_row1_col1, #T_55786_row1_col4, #T_55786_row1_col5, #T_55786_row1_col6, #T_55786_row1_col7, #T_55786_row2_col0, #T_55786_row2_col1, #T_55786_row2_col2, #T_55786_row2_col3, #T_55786_row2_col4, #T_55786_row2_col5, #T_55786_row2_col6, #T_55786_row2_col7, #T_55786_row3_col0, #T_55786_row3_col1, #T_55786_row3_col2, #T_55786_row3_col3, #T_55786_row3_col4, #T_55786_row3_col5, #T_55786_row3_col6, #T_55786_row3_col7, #T_55786_row4_col0, #T_55786_row4_col1, #T_55786_row4_col2, #T_55786_row4_col3, #T_55786_row4_col4, #T_55786_row4_col5, #T_55786_row4_col6, #T_55786_row4_col7, #T_55786_row5_col0, #T_55786_row5_col1, #T_55786_row5_col2, #T_55786_row5_col3, #T_55786_row5_col4, #T_55786_row5_col5, #T_55786_row5_col6, #T_55786_row5_col7, #T_55786_row6_col0, #T_55786_row6_col1, #T_55786_row6_col2, #T_55786_row6_col3, #T_55786_row6_col4, #T_55786_row6_col5, #T_55786_row6_col6, #T_55786_row6_col7, #T_55786_row7_col0, #T_55786_row7_col1, #T_55786_row7_col2, #T_55786_row7_col3, #T_55786_row7_col4, #T_55786_row7_col5, #T_55786_row7_col6, #T_55786_row7_col7, #T_55786_row8_col0, #T_55786_row8_col1, #T_55786_row8_col2, #T_55786_row8_col3, #T_55786_row8_col4, #T_55786_row8_col5, #T_55786_row8_col6, #T_55786_row8_col7, #T_55786_row9_col0, #T_55786_row9_col1, #T_55786_row9_col2, #T_55786_row9_col3, #T_55786_row9_col4, #T_55786_row9_col5, #T_55786_row9_col6, #T_55786_row9_col7, #T_55786_row10_col0, #T_55786_row10_col1, #T_55786_row10_col2, #T_55786_row10_col3, #T_55786_row10_col4, #T_55786_row10_col5, #T_55786_row10_col6, #T_55786_row10_col7 {\n",
       "  text-align: left;\n",
       "}\n",
       "#T_55786_row0_col1, #T_55786_row0_col3, #T_55786_row0_col4, #T_55786_row0_col5, #T_55786_row0_col6, #T_55786_row0_col7, #T_55786_row1_col2, #T_55786_row1_col3 {\n",
       "  text-align: left;\n",
       "  background-color: yellow;\n",
       "}\n",
       "#T_55786_row0_col8, #T_55786_row1_col8, #T_55786_row2_col8, #T_55786_row3_col8, #T_55786_row5_col8, #T_55786_row6_col8, #T_55786_row7_col8, #T_55786_row8_col8, #T_55786_row10_col8 {\n",
       "  text-align: left;\n",
       "  background-color: lightgrey;\n",
       "}\n",
       "#T_55786_row4_col8, #T_55786_row9_col8 {\n",
       "  text-align: left;\n",
       "  background-color: yellow;\n",
       "  background-color: lightgrey;\n",
       "}\n",
       "</style>\n",
       "<table id=\"T_55786\">\n",
       "  <thead>\n",
       "    <tr>\n",
       "      <th class=\"blank level0\" >&nbsp;</th>\n",
       "      <th id=\"T_55786_level0_col0\" class=\"col_heading level0 col0\" >Model</th>\n",
       "      <th id=\"T_55786_level0_col1\" class=\"col_heading level0 col1\" >Accuracy</th>\n",
       "      <th id=\"T_55786_level0_col2\" class=\"col_heading level0 col2\" >AUC</th>\n",
       "      <th id=\"T_55786_level0_col3\" class=\"col_heading level0 col3\" >Recall</th>\n",
       "      <th id=\"T_55786_level0_col4\" class=\"col_heading level0 col4\" >Prec.</th>\n",
       "      <th id=\"T_55786_level0_col5\" class=\"col_heading level0 col5\" >F1</th>\n",
       "      <th id=\"T_55786_level0_col6\" class=\"col_heading level0 col6\" >Kappa</th>\n",
       "      <th id=\"T_55786_level0_col7\" class=\"col_heading level0 col7\" >MCC</th>\n",
       "      <th id=\"T_55786_level0_col8\" class=\"col_heading level0 col8\" >TT (Sec)</th>\n",
       "    </tr>\n",
       "  </thead>\n",
       "  <tbody>\n",
       "    <tr>\n",
       "      <th id=\"T_55786_level0_row0\" class=\"row_heading level0 row0\" >10</th>\n",
       "      <td id=\"T_55786_row0_col0\" class=\"data row0 col0\" >SVM - Radial Kernel</td>\n",
       "      <td id=\"T_55786_row0_col1\" class=\"data row0 col1\" >0.9828</td>\n",
       "      <td id=\"T_55786_row0_col2\" class=\"data row0 col2\" >0.9992</td>\n",
       "      <td id=\"T_55786_row0_col3\" class=\"data row0 col3\" >0.9840</td>\n",
       "      <td id=\"T_55786_row0_col4\" class=\"data row0 col4\" >0.9823</td>\n",
       "      <td id=\"T_55786_row0_col5\" class=\"data row0 col5\" >0.9830</td>\n",
       "      <td id=\"T_55786_row0_col6\" class=\"data row0 col6\" >0.9656</td>\n",
       "      <td id=\"T_55786_row0_col7\" class=\"data row0 col7\" >0.9659</td>\n",
       "      <td id=\"T_55786_row0_col8\" class=\"data row0 col8\" >0.0110</td>\n",
       "    </tr>\n",
       "    <tr>\n",
       "      <th id=\"T_55786_level0_row1\" class=\"row_heading level0 row1\" >9</th>\n",
       "      <td id=\"T_55786_row1_col0\" class=\"data row1 col0\" >Logistic Regression</td>\n",
       "      <td id=\"T_55786_row1_col1\" class=\"data row1 col1\" >0.9808</td>\n",
       "      <td id=\"T_55786_row1_col2\" class=\"data row1 col2\" >0.9993</td>\n",
       "      <td id=\"T_55786_row1_col3\" class=\"data row1 col3\" >0.9840</td>\n",
       "      <td id=\"T_55786_row1_col4\" class=\"data row1 col4\" >0.9786</td>\n",
       "      <td id=\"T_55786_row1_col5\" class=\"data row1 col5\" >0.9811</td>\n",
       "      <td id=\"T_55786_row1_col6\" class=\"data row1 col6\" >0.9616</td>\n",
       "      <td id=\"T_55786_row1_col7\" class=\"data row1 col7\" >0.9621</td>\n",
       "      <td id=\"T_55786_row1_col8\" class=\"data row1 col8\" >0.0060</td>\n",
       "    </tr>\n",
       "    <tr>\n",
       "      <th id=\"T_55786_level0_row2\" class=\"row_heading level0 row2\" >4</th>\n",
       "      <td id=\"T_55786_row2_col0\" class=\"data row2 col0\" >MLP Classifier</td>\n",
       "      <td id=\"T_55786_row2_col1\" class=\"data row2 col1\" >0.9657</td>\n",
       "      <td id=\"T_55786_row2_col2\" class=\"data row2 col2\" >0.9982</td>\n",
       "      <td id=\"T_55786_row2_col3\" class=\"data row2 col3\" >0.9741</td>\n",
       "      <td id=\"T_55786_row2_col4\" class=\"data row2 col4\" >0.9597</td>\n",
       "      <td id=\"T_55786_row2_col5\" class=\"data row2 col5\" >0.9664</td>\n",
       "      <td id=\"T_55786_row2_col6\" class=\"data row2 col6\" >0.9313</td>\n",
       "      <td id=\"T_55786_row2_col7\" class=\"data row2 col7\" >0.9324</td>\n",
       "      <td id=\"T_55786_row2_col8\" class=\"data row2 col8\" >0.0580</td>\n",
       "    </tr>\n",
       "    <tr>\n",
       "      <th id=\"T_55786_level0_row3\" class=\"row_heading level0 row3\" >0</th>\n",
       "      <td id=\"T_55786_row3_col0\" class=\"data row3 col0\" >Ridge Classifier</td>\n",
       "      <td id=\"T_55786_row3_col1\" class=\"data row3 col1\" >0.9424</td>\n",
       "      <td id=\"T_55786_row3_col2\" class=\"data row3 col2\" >0.9926</td>\n",
       "      <td id=\"T_55786_row3_col3\" class=\"data row3 col3\" >0.9523</td>\n",
       "      <td id=\"T_55786_row3_col4\" class=\"data row3 col4\" >0.9367</td>\n",
       "      <td id=\"T_55786_row3_col5\" class=\"data row3 col5\" >0.9439</td>\n",
       "      <td id=\"T_55786_row3_col6\" class=\"data row3 col6\" >0.8848</td>\n",
       "      <td id=\"T_55786_row3_col7\" class=\"data row3 col7\" >0.8861</td>\n",
       "      <td id=\"T_55786_row3_col8\" class=\"data row3 col8\" >0.5050</td>\n",
       "    </tr>\n",
       "    <tr>\n",
       "      <th id=\"T_55786_level0_row4\" class=\"row_heading level0 row4\" >7</th>\n",
       "      <td id=\"T_55786_row4_col0\" class=\"data row4 col0\" >Linear Discriminant Analysis</td>\n",
       "      <td id=\"T_55786_row4_col1\" class=\"data row4 col1\" >0.9323</td>\n",
       "      <td id=\"T_55786_row4_col2\" class=\"data row4 col2\" >0.9882</td>\n",
       "      <td id=\"T_55786_row4_col3\" class=\"data row4 col3\" >0.9443</td>\n",
       "      <td id=\"T_55786_row4_col4\" class=\"data row4 col4\" >0.9254</td>\n",
       "      <td id=\"T_55786_row4_col5\" class=\"data row4 col5\" >0.9340</td>\n",
       "      <td id=\"T_55786_row4_col6\" class=\"data row4 col6\" >0.8646</td>\n",
       "      <td id=\"T_55786_row4_col7\" class=\"data row4 col7\" >0.8663</td>\n",
       "      <td id=\"T_55786_row4_col8\" class=\"data row4 col8\" >0.0050</td>\n",
       "    </tr>\n",
       "    <tr>\n",
       "      <th id=\"T_55786_level0_row5\" class=\"row_heading level0 row5\" >1</th>\n",
       "      <td id=\"T_55786_row5_col0\" class=\"data row5 col0\" >Extra Trees Classifier</td>\n",
       "      <td id=\"T_55786_row5_col1\" class=\"data row5 col1\" >0.9061</td>\n",
       "      <td id=\"T_55786_row5_col2\" class=\"data row5 col2\" >0.9729</td>\n",
       "      <td id=\"T_55786_row5_col3\" class=\"data row5 col3\" >0.9105</td>\n",
       "      <td id=\"T_55786_row5_col4\" class=\"data row5 col4\" >0.9082</td>\n",
       "      <td id=\"T_55786_row5_col5\" class=\"data row5 col5\" >0.9081</td>\n",
       "      <td id=\"T_55786_row5_col6\" class=\"data row5 col6\" >0.8120</td>\n",
       "      <td id=\"T_55786_row5_col7\" class=\"data row5 col7\" >0.8146</td>\n",
       "      <td id=\"T_55786_row5_col8\" class=\"data row5 col8\" >0.0410</td>\n",
       "    </tr>\n",
       "    <tr>\n",
       "      <th id=\"T_55786_level0_row6\" class=\"row_heading level0 row6\" >5</th>\n",
       "      <td id=\"T_55786_row6_col0\" class=\"data row6 col0\" >Extreme Gradient Boosting</td>\n",
       "      <td id=\"T_55786_row6_col1\" class=\"data row6 col1\" >0.8990</td>\n",
       "      <td id=\"T_55786_row6_col2\" class=\"data row6 col2\" >0.9681</td>\n",
       "      <td id=\"T_55786_row6_col3\" class=\"data row6 col3\" >0.9006</td>\n",
       "      <td id=\"T_55786_row6_col4\" class=\"data row6 col4\" >0.9030</td>\n",
       "      <td id=\"T_55786_row6_col5\" class=\"data row6 col5\" >0.9007</td>\n",
       "      <td id=\"T_55786_row6_col6\" class=\"data row6 col6\" >0.7979</td>\n",
       "      <td id=\"T_55786_row6_col7\" class=\"data row6 col7\" >0.8000</td>\n",
       "      <td id=\"T_55786_row6_col8\" class=\"data row6 col8\" >0.0500</td>\n",
       "    </tr>\n",
       "    <tr>\n",
       "      <th id=\"T_55786_level0_row7\" class=\"row_heading level0 row7\" >2</th>\n",
       "      <td id=\"T_55786_row7_col0\" class=\"data row7 col0\" >Random Forest Classifier</td>\n",
       "      <td id=\"T_55786_row7_col1\" class=\"data row7 col1\" >0.8939</td>\n",
       "      <td id=\"T_55786_row7_col2\" class=\"data row7 col2\" >0.9678</td>\n",
       "      <td id=\"T_55786_row7_col3\" class=\"data row7 col3\" >0.9007</td>\n",
       "      <td id=\"T_55786_row7_col4\" class=\"data row7 col4\" >0.8940</td>\n",
       "      <td id=\"T_55786_row7_col5\" class=\"data row7 col5\" >0.8962</td>\n",
       "      <td id=\"T_55786_row7_col6\" class=\"data row7 col6\" >0.7878</td>\n",
       "      <td id=\"T_55786_row7_col7\" class=\"data row7 col7\" >0.7901</td>\n",
       "      <td id=\"T_55786_row7_col8\" class=\"data row7 col8\" >0.0530</td>\n",
       "    </tr>\n",
       "    <tr>\n",
       "      <th id=\"T_55786_level0_row8\" class=\"row_heading level0 row8\" >8</th>\n",
       "      <td id=\"T_55786_row8_col0\" class=\"data row8 col0\" >Gradient Boosting Classifier</td>\n",
       "      <td id=\"T_55786_row8_col1\" class=\"data row8 col1\" >0.8869</td>\n",
       "      <td id=\"T_55786_row8_col2\" class=\"data row8 col2\" >0.9673</td>\n",
       "      <td id=\"T_55786_row8_col3\" class=\"data row8 col3\" >0.8967</td>\n",
       "      <td id=\"T_55786_row8_col4\" class=\"data row8 col4\" >0.8867</td>\n",
       "      <td id=\"T_55786_row8_col5\" class=\"data row8 col5\" >0.8900</td>\n",
       "      <td id=\"T_55786_row8_col6\" class=\"data row8 col6\" >0.7736</td>\n",
       "      <td id=\"T_55786_row8_col7\" class=\"data row8 col7\" >0.7769</td>\n",
       "      <td id=\"T_55786_row8_col8\" class=\"data row8 col8\" >0.3180</td>\n",
       "    </tr>\n",
       "    <tr>\n",
       "      <th id=\"T_55786_level0_row9\" class=\"row_heading level0 row9\" >3</th>\n",
       "      <td id=\"T_55786_row9_col0\" class=\"data row9 col0\" >Quadratic Discriminant Analysis</td>\n",
       "      <td id=\"T_55786_row9_col1\" class=\"data row9 col1\" >0.7808</td>\n",
       "      <td id=\"T_55786_row9_col2\" class=\"data row9 col2\" >0.8703</td>\n",
       "      <td id=\"T_55786_row9_col3\" class=\"data row9 col3\" >0.7954</td>\n",
       "      <td id=\"T_55786_row9_col4\" class=\"data row9 col4\" >0.7804</td>\n",
       "      <td id=\"T_55786_row9_col5\" class=\"data row9 col5\" >0.7865</td>\n",
       "      <td id=\"T_55786_row9_col6\" class=\"data row9 col6\" >0.5615</td>\n",
       "      <td id=\"T_55786_row9_col7\" class=\"data row9 col7\" >0.5637</td>\n",
       "      <td id=\"T_55786_row9_col8\" class=\"data row9 col8\" >0.0050</td>\n",
       "    </tr>\n",
       "    <tr>\n",
       "      <th id=\"T_55786_level0_row10\" class=\"row_heading level0 row10\" >6</th>\n",
       "      <td id=\"T_55786_row10_col0\" class=\"data row10 col0\" >Decision Tree Classifier</td>\n",
       "      <td id=\"T_55786_row10_col1\" class=\"data row10 col1\" >0.7495</td>\n",
       "      <td id=\"T_55786_row10_col2\" class=\"data row10 col2\" >0.7492</td>\n",
       "      <td id=\"T_55786_row10_col3\" class=\"data row10 col3\" >0.7775</td>\n",
       "      <td id=\"T_55786_row10_col4\" class=\"data row10 col4\" >0.7425</td>\n",
       "      <td id=\"T_55786_row10_col5\" class=\"data row10 col5\" >0.7591</td>\n",
       "      <td id=\"T_55786_row10_col6\" class=\"data row10 col6\" >0.4986</td>\n",
       "      <td id=\"T_55786_row10_col7\" class=\"data row10 col7\" >0.4999</td>\n",
       "      <td id=\"T_55786_row10_col8\" class=\"data row10 col8\" >0.0090</td>\n",
       "    </tr>\n",
       "  </tbody>\n",
       "</table>\n"
      ],
      "text/plain": [
       "<pandas.io.formats.style.Styler at 0x15a419c90>"
      ]
     },
     "metadata": {},
     "output_type": "display_data"
    },
    {
     "data": {
      "text/html": [],
      "text/plain": [
       "<IPython.core.display.HTML object>"
      ]
     },
     "metadata": {},
     "output_type": "display_data"
    },
    {
     "data": {
      "text/plain": [
       "<__main__.SWEFI at 0x167ee2350>"
      ]
     },
     "execution_count": 19,
     "metadata": {},
     "output_type": "execute_result"
    }
   ],
   "source": [
    "swefi.select_models(select_n_model=select_n_model)"
   ]
  },
  {
   "cell_type": "code",
   "execution_count": 20,
   "metadata": {},
   "outputs": [
    {
     "name": "stdout",
     "output_type": "stream",
     "text": [
      "--------------------------------------------------------------------------------\n",
      "SVC\n",
      "Custom config ...\n"
     ]
    },
    {
     "data": {
      "text/html": [
       "<div>\n",
       "<style scoped>\n",
       "    .dataframe tbody tr th:only-of-type {\n",
       "        vertical-align: middle;\n",
       "    }\n",
       "\n",
       "    .dataframe tbody tr th {\n",
       "        vertical-align: top;\n",
       "    }\n",
       "\n",
       "    .dataframe thead th {\n",
       "        text-align: right;\n",
       "    }\n",
       "</style>\n",
       "<table border=\"1\" class=\"dataframe\">\n",
       "  <thead>\n",
       "    <tr style=\"text-align: right;\">\n",
       "      <th></th>\n",
       "      <th></th>\n",
       "      <th></th>\n",
       "    </tr>\n",
       "    <tr>\n",
       "      <th></th>\n",
       "      <th></th>\n",
       "      <th></th>\n",
       "    </tr>\n",
       "  </thead>\n",
       "  <tbody>\n",
       "    <tr>\n",
       "      <th>Initiated</th>\n",
       "      <td>. . . . . . . . . . . . . . . . . .</td>\n",
       "      <td>16:42:42</td>\n",
       "    </tr>\n",
       "    <tr>\n",
       "      <th>Status</th>\n",
       "      <td>. . . . . . . . . . . . . . . . . .</td>\n",
       "      <td>Loading Dependencies</td>\n",
       "    </tr>\n",
       "    <tr>\n",
       "      <th>Estimator</th>\n",
       "      <td>. . . . . . . . . . . . . . . . . .</td>\n",
       "      <td>Compiling Library</td>\n",
       "    </tr>\n",
       "  </tbody>\n",
       "</table>\n",
       "</div>"
      ],
      "text/plain": [
       "                                                                    \n",
       "                                                                    \n",
       "Initiated  . . . . . . . . . . . . . . . . . .              16:42:42\n",
       "Status     . . . . . . . . . . . . . . . . . .  Loading Dependencies\n",
       "Estimator  . . . . . . . . . . . . . . . . . .     Compiling Library"
      ]
     },
     "metadata": {},
     "output_type": "display_data"
    },
    {
     "data": {
      "text/html": [
       "<style type=\"text/css\">\n",
       "#T_11b52_row4_col0, #T_11b52_row4_col1, #T_11b52_row4_col2, #T_11b52_row4_col3, #T_11b52_row4_col4, #T_11b52_row4_col5, #T_11b52_row4_col6 {\n",
       "  background: yellow;\n",
       "}\n",
       "</style>\n",
       "<table id=\"T_11b52\">\n",
       "  <thead>\n",
       "    <tr>\n",
       "      <th class=\"blank level0\" >&nbsp;</th>\n",
       "      <th id=\"T_11b52_level0_col0\" class=\"col_heading level0 col0\" >Accuracy</th>\n",
       "      <th id=\"T_11b52_level0_col1\" class=\"col_heading level0 col1\" >AUC</th>\n",
       "      <th id=\"T_11b52_level0_col2\" class=\"col_heading level0 col2\" >Recall</th>\n",
       "      <th id=\"T_11b52_level0_col3\" class=\"col_heading level0 col3\" >Prec.</th>\n",
       "      <th id=\"T_11b52_level0_col4\" class=\"col_heading level0 col4\" >F1</th>\n",
       "      <th id=\"T_11b52_level0_col5\" class=\"col_heading level0 col5\" >Kappa</th>\n",
       "      <th id=\"T_11b52_level0_col6\" class=\"col_heading level0 col6\" >MCC</th>\n",
       "    </tr>\n",
       "    <tr>\n",
       "      <th class=\"index_name level0\" >Fold</th>\n",
       "      <th class=\"blank col0\" >&nbsp;</th>\n",
       "      <th class=\"blank col1\" >&nbsp;</th>\n",
       "      <th class=\"blank col2\" >&nbsp;</th>\n",
       "      <th class=\"blank col3\" >&nbsp;</th>\n",
       "      <th class=\"blank col4\" >&nbsp;</th>\n",
       "      <th class=\"blank col5\" >&nbsp;</th>\n",
       "      <th class=\"blank col6\" >&nbsp;</th>\n",
       "    </tr>\n",
       "  </thead>\n",
       "  <tbody>\n",
       "    <tr>\n",
       "      <th id=\"T_11b52_level0_row0\" class=\"row_heading level0 row0\" >0</th>\n",
       "      <td id=\"T_11b52_row0_col0\" class=\"data row0 col0\" >1.0000</td>\n",
       "      <td id=\"T_11b52_row0_col1\" class=\"data row0 col1\" >1.0000</td>\n",
       "      <td id=\"T_11b52_row0_col2\" class=\"data row0 col2\" >1.0000</td>\n",
       "      <td id=\"T_11b52_row0_col3\" class=\"data row0 col3\" >1.0000</td>\n",
       "      <td id=\"T_11b52_row0_col4\" class=\"data row0 col4\" >1.0000</td>\n",
       "      <td id=\"T_11b52_row0_col5\" class=\"data row0 col5\" >1.0000</td>\n",
       "      <td id=\"T_11b52_row0_col6\" class=\"data row0 col6\" >1.0000</td>\n",
       "    </tr>\n",
       "    <tr>\n",
       "      <th id=\"T_11b52_level0_row1\" class=\"row_heading level0 row1\" >1</th>\n",
       "      <td id=\"T_11b52_row1_col0\" class=\"data row1 col0\" >0.9798</td>\n",
       "      <td id=\"T_11b52_row1_col1\" class=\"data row1 col1\" >0.9993</td>\n",
       "      <td id=\"T_11b52_row1_col2\" class=\"data row1 col2\" >0.9762</td>\n",
       "      <td id=\"T_11b52_row1_col3\" class=\"data row1 col3\" >0.9840</td>\n",
       "      <td id=\"T_11b52_row1_col4\" class=\"data row1 col4\" >0.9801</td>\n",
       "      <td id=\"T_11b52_row1_col5\" class=\"data row1 col5\" >0.9597</td>\n",
       "      <td id=\"T_11b52_row1_col6\" class=\"data row1 col6\" >0.9597</td>\n",
       "    </tr>\n",
       "    <tr>\n",
       "      <th id=\"T_11b52_level0_row2\" class=\"row_heading level0 row2\" >2</th>\n",
       "      <td id=\"T_11b52_row2_col0\" class=\"data row2 col0\" >0.9838</td>\n",
       "      <td id=\"T_11b52_row2_col1\" class=\"data row2 col1\" >0.9995</td>\n",
       "      <td id=\"T_11b52_row2_col2\" class=\"data row2 col2\" >1.0000</td>\n",
       "      <td id=\"T_11b52_row2_col3\" class=\"data row2 col3\" >0.9692</td>\n",
       "      <td id=\"T_11b52_row2_col4\" class=\"data row2 col4\" >0.9844</td>\n",
       "      <td id=\"T_11b52_row2_col5\" class=\"data row2 col5\" >0.9676</td>\n",
       "      <td id=\"T_11b52_row2_col6\" class=\"data row2 col6\" >0.9681</td>\n",
       "    </tr>\n",
       "    <tr>\n",
       "      <th id=\"T_11b52_level0_row3\" class=\"row_heading level0 row3\" >3</th>\n",
       "      <td id=\"T_11b52_row3_col0\" class=\"data row3 col0\" >0.9838</td>\n",
       "      <td id=\"T_11b52_row3_col1\" class=\"data row3 col1\" >0.9988</td>\n",
       "      <td id=\"T_11b52_row3_col2\" class=\"data row3 col2\" >0.9840</td>\n",
       "      <td id=\"T_11b52_row3_col3\" class=\"data row3 col3\" >0.9840</td>\n",
       "      <td id=\"T_11b52_row3_col4\" class=\"data row3 col4\" >0.9840</td>\n",
       "      <td id=\"T_11b52_row3_col5\" class=\"data row3 col5\" >0.9676</td>\n",
       "      <td id=\"T_11b52_row3_col6\" class=\"data row3 col6\" >0.9676</td>\n",
       "    </tr>\n",
       "    <tr>\n",
       "      <th id=\"T_11b52_level0_row4\" class=\"row_heading level0 row4\" >Mean</th>\n",
       "      <td id=\"T_11b52_row4_col0\" class=\"data row4 col0\" >0.9869</td>\n",
       "      <td id=\"T_11b52_row4_col1\" class=\"data row4 col1\" >0.9994</td>\n",
       "      <td id=\"T_11b52_row4_col2\" class=\"data row4 col2\" >0.9900</td>\n",
       "      <td id=\"T_11b52_row4_col3\" class=\"data row4 col3\" >0.9843</td>\n",
       "      <td id=\"T_11b52_row4_col4\" class=\"data row4 col4\" >0.9871</td>\n",
       "      <td id=\"T_11b52_row4_col5\" class=\"data row4 col5\" >0.9737</td>\n",
       "      <td id=\"T_11b52_row4_col6\" class=\"data row4 col6\" >0.9738</td>\n",
       "    </tr>\n",
       "    <tr>\n",
       "      <th id=\"T_11b52_level0_row5\" class=\"row_heading level0 row5\" >Std</th>\n",
       "      <td id=\"T_11b52_row5_col0\" class=\"data row5 col0\" >0.0078</td>\n",
       "      <td id=\"T_11b52_row5_col1\" class=\"data row5 col1\" >0.0005</td>\n",
       "      <td id=\"T_11b52_row5_col2\" class=\"data row5 col2\" >0.0103</td>\n",
       "      <td id=\"T_11b52_row5_col3\" class=\"data row5 col3\" >0.0109</td>\n",
       "      <td id=\"T_11b52_row5_col4\" class=\"data row5 col4\" >0.0076</td>\n",
       "      <td id=\"T_11b52_row5_col5\" class=\"data row5 col5\" >0.0155</td>\n",
       "      <td id=\"T_11b52_row5_col6\" class=\"data row5 col6\" >0.0155</td>\n",
       "    </tr>\n",
       "  </tbody>\n",
       "</table>\n"
      ],
      "text/plain": [
       "<pandas.io.formats.style.Styler at 0x152f9bd90>"
      ]
     },
     "metadata": {},
     "output_type": "display_data"
    },
    {
     "data": {
      "text/html": [],
      "text/plain": [
       "<IPython.core.display.HTML object>"
      ]
     },
     "metadata": {},
     "output_type": "display_data"
    },
    {
     "name": "stdout",
     "output_type": "stream",
     "text": [
      "Fitting 4 folds for each of 1 candidates, totalling 4 fits\n",
      "Original model was better than the tuned model, hence it will be returned. NOTE: The display metrics are for the tuned model (not the original one).\n",
      "--------------------------------------------------------------------------------\n",
      "LogisticRegression\n",
      "Custom config ...\n"
     ]
    },
    {
     "data": {
      "text/html": [],
      "text/plain": [
       "<IPython.core.display.HTML object>"
      ]
     },
     "metadata": {},
     "output_type": "display_data"
    },
    {
     "data": {
      "text/html": [
       "<style type=\"text/css\">\n",
       "#T_74381_row4_col0, #T_74381_row4_col1, #T_74381_row4_col2, #T_74381_row4_col3, #T_74381_row4_col4, #T_74381_row4_col5, #T_74381_row4_col6 {\n",
       "  background: yellow;\n",
       "}\n",
       "</style>\n",
       "<table id=\"T_74381\">\n",
       "  <thead>\n",
       "    <tr>\n",
       "      <th class=\"blank level0\" >&nbsp;</th>\n",
       "      <th id=\"T_74381_level0_col0\" class=\"col_heading level0 col0\" >Accuracy</th>\n",
       "      <th id=\"T_74381_level0_col1\" class=\"col_heading level0 col1\" >AUC</th>\n",
       "      <th id=\"T_74381_level0_col2\" class=\"col_heading level0 col2\" >Recall</th>\n",
       "      <th id=\"T_74381_level0_col3\" class=\"col_heading level0 col3\" >Prec.</th>\n",
       "      <th id=\"T_74381_level0_col4\" class=\"col_heading level0 col4\" >F1</th>\n",
       "      <th id=\"T_74381_level0_col5\" class=\"col_heading level0 col5\" >Kappa</th>\n",
       "      <th id=\"T_74381_level0_col6\" class=\"col_heading level0 col6\" >MCC</th>\n",
       "    </tr>\n",
       "    <tr>\n",
       "      <th class=\"index_name level0\" >Fold</th>\n",
       "      <th class=\"blank col0\" >&nbsp;</th>\n",
       "      <th class=\"blank col1\" >&nbsp;</th>\n",
       "      <th class=\"blank col2\" >&nbsp;</th>\n",
       "      <th class=\"blank col3\" >&nbsp;</th>\n",
       "      <th class=\"blank col4\" >&nbsp;</th>\n",
       "      <th class=\"blank col5\" >&nbsp;</th>\n",
       "      <th class=\"blank col6\" >&nbsp;</th>\n",
       "    </tr>\n",
       "  </thead>\n",
       "  <tbody>\n",
       "    <tr>\n",
       "      <th id=\"T_74381_level0_row0\" class=\"row_heading level0 row0\" >0</th>\n",
       "      <td id=\"T_74381_row0_col0\" class=\"data row0 col0\" >0.9960</td>\n",
       "      <td id=\"T_74381_row0_col1\" class=\"data row0 col1\" >0.9999</td>\n",
       "      <td id=\"T_74381_row0_col2\" class=\"data row0 col2\" >1.0000</td>\n",
       "      <td id=\"T_74381_row0_col3\" class=\"data row0 col3\" >0.9921</td>\n",
       "      <td id=\"T_74381_row0_col4\" class=\"data row0 col4\" >0.9960</td>\n",
       "      <td id=\"T_74381_row0_col5\" class=\"data row0 col5\" >0.9919</td>\n",
       "      <td id=\"T_74381_row0_col6\" class=\"data row0 col6\" >0.9920</td>\n",
       "    </tr>\n",
       "    <tr>\n",
       "      <th id=\"T_74381_level0_row1\" class=\"row_heading level0 row1\" >1</th>\n",
       "      <td id=\"T_74381_row1_col0\" class=\"data row1 col0\" >0.9798</td>\n",
       "      <td id=\"T_74381_row1_col1\" class=\"data row1 col1\" >0.9995</td>\n",
       "      <td id=\"T_74381_row1_col2\" class=\"data row1 col2\" >0.9683</td>\n",
       "      <td id=\"T_74381_row1_col3\" class=\"data row1 col3\" >0.9919</td>\n",
       "      <td id=\"T_74381_row1_col4\" class=\"data row1 col4\" >0.9799</td>\n",
       "      <td id=\"T_74381_row1_col5\" class=\"data row1 col5\" >0.9597</td>\n",
       "      <td id=\"T_74381_row1_col6\" class=\"data row1 col6\" >0.9600</td>\n",
       "    </tr>\n",
       "    <tr>\n",
       "      <th id=\"T_74381_level0_row2\" class=\"row_heading level0 row2\" >2</th>\n",
       "      <td id=\"T_74381_row2_col0\" class=\"data row2 col0\" >0.9838</td>\n",
       "      <td id=\"T_74381_row2_col1\" class=\"data row2 col1\" >0.9999</td>\n",
       "      <td id=\"T_74381_row2_col2\" class=\"data row2 col2\" >1.0000</td>\n",
       "      <td id=\"T_74381_row2_col3\" class=\"data row2 col3\" >0.9692</td>\n",
       "      <td id=\"T_74381_row2_col4\" class=\"data row2 col4\" >0.9844</td>\n",
       "      <td id=\"T_74381_row2_col5\" class=\"data row2 col5\" >0.9676</td>\n",
       "      <td id=\"T_74381_row2_col6\" class=\"data row2 col6\" >0.9681</td>\n",
       "    </tr>\n",
       "    <tr>\n",
       "      <th id=\"T_74381_level0_row3\" class=\"row_heading level0 row3\" >3</th>\n",
       "      <td id=\"T_74381_row3_col0\" class=\"data row3 col0\" >0.9717</td>\n",
       "      <td id=\"T_74381_row3_col1\" class=\"data row3 col1\" >0.9981</td>\n",
       "      <td id=\"T_74381_row3_col2\" class=\"data row3 col2\" >0.9760</td>\n",
       "      <td id=\"T_74381_row3_col3\" class=\"data row3 col3\" >0.9683</td>\n",
       "      <td id=\"T_74381_row3_col4\" class=\"data row3 col4\" >0.9721</td>\n",
       "      <td id=\"T_74381_row3_col5\" class=\"data row3 col5\" >0.9433</td>\n",
       "      <td id=\"T_74381_row3_col6\" class=\"data row3 col6\" >0.9433</td>\n",
       "    </tr>\n",
       "    <tr>\n",
       "      <th id=\"T_74381_level0_row4\" class=\"row_heading level0 row4\" >Mean</th>\n",
       "      <td id=\"T_74381_row4_col0\" class=\"data row4 col0\" >0.9828</td>\n",
       "      <td id=\"T_74381_row4_col1\" class=\"data row4 col1\" >0.9993</td>\n",
       "      <td id=\"T_74381_row4_col2\" class=\"data row4 col2\" >0.9861</td>\n",
       "      <td id=\"T_74381_row4_col3\" class=\"data row4 col3\" >0.9804</td>\n",
       "      <td id=\"T_74381_row4_col4\" class=\"data row4 col4\" >0.9831</td>\n",
       "      <td id=\"T_74381_row4_col5\" class=\"data row4 col5\" >0.9656</td>\n",
       "      <td id=\"T_74381_row4_col6\" class=\"data row4 col6\" >0.9658</td>\n",
       "    </tr>\n",
       "    <tr>\n",
       "      <th id=\"T_74381_level0_row5\" class=\"row_heading level0 row5\" >Std</th>\n",
       "      <td id=\"T_74381_row5_col0\" class=\"data row5 col0\" >0.0088</td>\n",
       "      <td id=\"T_74381_row5_col1\" class=\"data row5 col1\" >0.0007</td>\n",
       "      <td id=\"T_74381_row5_col2\" class=\"data row5 col2\" >0.0142</td>\n",
       "      <td id=\"T_74381_row5_col3\" class=\"data row5 col3\" >0.0116</td>\n",
       "      <td id=\"T_74381_row5_col4\" class=\"data row5 col4\" >0.0087</td>\n",
       "      <td id=\"T_74381_row5_col5\" class=\"data row5 col5\" >0.0175</td>\n",
       "      <td id=\"T_74381_row5_col6\" class=\"data row5 col6\" >0.0175</td>\n",
       "    </tr>\n",
       "  </tbody>\n",
       "</table>\n"
      ],
      "text/plain": [
       "<pandas.io.formats.style.Styler at 0x16479c8d0>"
      ]
     },
     "metadata": {},
     "output_type": "display_data"
    },
    {
     "data": {
      "text/html": [],
      "text/plain": [
       "<IPython.core.display.HTML object>"
      ]
     },
     "metadata": {},
     "output_type": "display_data"
    },
    {
     "name": "stdout",
     "output_type": "stream",
     "text": [
      "Fitting 4 folds for each of 1 candidates, totalling 4 fits\n",
      "Original model was better than the tuned model, hence it will be returned. NOTE: The display metrics are for the tuned model (not the original one).\n",
      "--------------------------------------------------------------------------------\n",
      "MLPClassifier\n"
     ]
    },
    {
     "data": {
      "text/html": [],
      "text/plain": [
       "<IPython.core.display.HTML object>"
      ]
     },
     "metadata": {},
     "output_type": "display_data"
    },
    {
     "data": {
      "text/html": [
       "<style type=\"text/css\">\n",
       "#T_c30d5_row4_col0, #T_c30d5_row4_col1, #T_c30d5_row4_col2, #T_c30d5_row4_col3, #T_c30d5_row4_col4, #T_c30d5_row4_col5, #T_c30d5_row4_col6 {\n",
       "  background: yellow;\n",
       "}\n",
       "</style>\n",
       "<table id=\"T_c30d5\">\n",
       "  <thead>\n",
       "    <tr>\n",
       "      <th class=\"blank level0\" >&nbsp;</th>\n",
       "      <th id=\"T_c30d5_level0_col0\" class=\"col_heading level0 col0\" >Accuracy</th>\n",
       "      <th id=\"T_c30d5_level0_col1\" class=\"col_heading level0 col1\" >AUC</th>\n",
       "      <th id=\"T_c30d5_level0_col2\" class=\"col_heading level0 col2\" >Recall</th>\n",
       "      <th id=\"T_c30d5_level0_col3\" class=\"col_heading level0 col3\" >Prec.</th>\n",
       "      <th id=\"T_c30d5_level0_col4\" class=\"col_heading level0 col4\" >F1</th>\n",
       "      <th id=\"T_c30d5_level0_col5\" class=\"col_heading level0 col5\" >Kappa</th>\n",
       "      <th id=\"T_c30d5_level0_col6\" class=\"col_heading level0 col6\" >MCC</th>\n",
       "    </tr>\n",
       "    <tr>\n",
       "      <th class=\"index_name level0\" >Fold</th>\n",
       "      <th class=\"blank col0\" >&nbsp;</th>\n",
       "      <th class=\"blank col1\" >&nbsp;</th>\n",
       "      <th class=\"blank col2\" >&nbsp;</th>\n",
       "      <th class=\"blank col3\" >&nbsp;</th>\n",
       "      <th class=\"blank col4\" >&nbsp;</th>\n",
       "      <th class=\"blank col5\" >&nbsp;</th>\n",
       "      <th class=\"blank col6\" >&nbsp;</th>\n",
       "    </tr>\n",
       "  </thead>\n",
       "  <tbody>\n",
       "    <tr>\n",
       "      <th id=\"T_c30d5_level0_row0\" class=\"row_heading level0 row0\" >0</th>\n",
       "      <td id=\"T_c30d5_row0_col0\" class=\"data row0 col0\" >0.9960</td>\n",
       "      <td id=\"T_c30d5_row0_col1\" class=\"data row0 col1\" >1.0000</td>\n",
       "      <td id=\"T_c30d5_row0_col2\" class=\"data row0 col2\" >0.9921</td>\n",
       "      <td id=\"T_c30d5_row0_col3\" class=\"data row0 col3\" >1.0000</td>\n",
       "      <td id=\"T_c30d5_row0_col4\" class=\"data row0 col4\" >0.9960</td>\n",
       "      <td id=\"T_c30d5_row0_col5\" class=\"data row0 col5\" >0.9919</td>\n",
       "      <td id=\"T_c30d5_row0_col6\" class=\"data row0 col6\" >0.9920</td>\n",
       "    </tr>\n",
       "    <tr>\n",
       "      <th id=\"T_c30d5_level0_row1\" class=\"row_heading level0 row1\" >1</th>\n",
       "      <td id=\"T_c30d5_row1_col0\" class=\"data row1 col0\" >0.9677</td>\n",
       "      <td id=\"T_c30d5_row1_col1\" class=\"data row1 col1\" >0.9984</td>\n",
       "      <td id=\"T_c30d5_row1_col2\" class=\"data row1 col2\" >0.9603</td>\n",
       "      <td id=\"T_c30d5_row1_col3\" class=\"data row1 col3\" >0.9758</td>\n",
       "      <td id=\"T_c30d5_row1_col4\" class=\"data row1 col4\" >0.9680</td>\n",
       "      <td id=\"T_c30d5_row1_col5\" class=\"data row1 col5\" >0.9355</td>\n",
       "      <td id=\"T_c30d5_row1_col6\" class=\"data row1 col6\" >0.9356</td>\n",
       "    </tr>\n",
       "    <tr>\n",
       "      <th id=\"T_c30d5_level0_row2\" class=\"row_heading level0 row2\" >2</th>\n",
       "      <td id=\"T_c30d5_row2_col0\" class=\"data row2 col0\" >0.9879</td>\n",
       "      <td id=\"T_c30d5_row2_col1\" class=\"data row2 col1\" >0.9999</td>\n",
       "      <td id=\"T_c30d5_row2_col2\" class=\"data row2 col2\" >0.9921</td>\n",
       "      <td id=\"T_c30d5_row2_col3\" class=\"data row2 col3\" >0.9843</td>\n",
       "      <td id=\"T_c30d5_row2_col4\" class=\"data row2 col4\" >0.9881</td>\n",
       "      <td id=\"T_c30d5_row2_col5\" class=\"data row2 col5\" >0.9757</td>\n",
       "      <td id=\"T_c30d5_row2_col6\" class=\"data row2 col6\" >0.9757</td>\n",
       "    </tr>\n",
       "    <tr>\n",
       "      <th id=\"T_c30d5_level0_row3\" class=\"row_heading level0 row3\" >3</th>\n",
       "      <td id=\"T_c30d5_row3_col0\" class=\"data row3 col0\" >0.9838</td>\n",
       "      <td id=\"T_c30d5_row3_col1\" class=\"data row3 col1\" >0.9992</td>\n",
       "      <td id=\"T_c30d5_row3_col2\" class=\"data row3 col2\" >0.9760</td>\n",
       "      <td id=\"T_c30d5_row3_col3\" class=\"data row3 col3\" >0.9919</td>\n",
       "      <td id=\"T_c30d5_row3_col4\" class=\"data row3 col4\" >0.9839</td>\n",
       "      <td id=\"T_c30d5_row3_col5\" class=\"data row3 col5\" >0.9676</td>\n",
       "      <td id=\"T_c30d5_row3_col6\" class=\"data row3 col6\" >0.9677</td>\n",
       "    </tr>\n",
       "    <tr>\n",
       "      <th id=\"T_c30d5_level0_row4\" class=\"row_heading level0 row4\" >Mean</th>\n",
       "      <td id=\"T_c30d5_row4_col0\" class=\"data row4 col0\" >0.9838</td>\n",
       "      <td id=\"T_c30d5_row4_col1\" class=\"data row4 col1\" >0.9994</td>\n",
       "      <td id=\"T_c30d5_row4_col2\" class=\"data row4 col2\" >0.9801</td>\n",
       "      <td id=\"T_c30d5_row4_col3\" class=\"data row4 col3\" >0.9880</td>\n",
       "      <td id=\"T_c30d5_row4_col4\" class=\"data row4 col4\" >0.9840</td>\n",
       "      <td id=\"T_c30d5_row4_col5\" class=\"data row4 col5\" >0.9677</td>\n",
       "      <td id=\"T_c30d5_row4_col6\" class=\"data row4 col6\" >0.9678</td>\n",
       "    </tr>\n",
       "    <tr>\n",
       "      <th id=\"T_c30d5_level0_row5\" class=\"row_heading level0 row5\" >Std</th>\n",
       "      <td id=\"T_c30d5_row5_col0\" class=\"data row5 col0\" >0.0103</td>\n",
       "      <td id=\"T_c30d5_row5_col1\" class=\"data row5 col1\" >0.0006</td>\n",
       "      <td id=\"T_c30d5_row5_col2\" class=\"data row5 col2\" >0.0132</td>\n",
       "      <td id=\"T_c30d5_row5_col3\" class=\"data row5 col3\" >0.0090</td>\n",
       "      <td id=\"T_c30d5_row5_col4\" class=\"data row5 col4\" >0.0102</td>\n",
       "      <td id=\"T_c30d5_row5_col5\" class=\"data row5 col5\" >0.0205</td>\n",
       "      <td id=\"T_c30d5_row5_col6\" class=\"data row5 col6\" >0.0205</td>\n",
       "    </tr>\n",
       "  </tbody>\n",
       "</table>\n"
      ],
      "text/plain": [
       "<pandas.io.formats.style.Styler at 0x106b50850>"
      ]
     },
     "metadata": {},
     "output_type": "display_data"
    },
    {
     "data": {
      "text/html": [],
      "text/plain": [
       "<IPython.core.display.HTML object>"
      ]
     },
     "metadata": {},
     "output_type": "display_data"
    },
    {
     "name": "stdout",
     "output_type": "stream",
     "text": [
      "Fitting 4 folds for each of 1 candidates, totalling 4 fits\n",
      "Fitting 4 folds for each of 1 candidates, totalling 4 fits\n",
      "Fitting 4 folds for each of 1 candidates, totalling 4 fits\n",
      "Fitting 4 folds for each of 1 candidates, totalling 4 fits\n",
      "Fitting 4 folds for each of 1 candidates, totalling 4 fits\n",
      "Fitting 4 folds for each of 1 candidates, totalling 4 fits\n",
      "Fitting 4 folds for each of 1 candidates, totalling 4 fits\n",
      "Fitting 4 folds for each of 1 candidates, totalling 4 fits\n",
      "Fitting 4 folds for each of 1 candidates, totalling 4 fits\n",
      "Fitting 4 folds for each of 1 candidates, totalling 4 fits\n",
      "Fitting 4 folds for each of 1 candidates, totalling 4 fits\n",
      "Fitting 4 folds for each of 1 candidates, totalling 4 fits\n",
      "Fitting 4 folds for each of 1 candidates, totalling 4 fits\n",
      "Fitting 4 folds for each of 1 candidates, totalling 4 fits\n",
      "Fitting 4 folds for each of 1 candidates, totalling 4 fits\n",
      "Fitting 4 folds for each of 1 candidates, totalling 4 fits\n",
      "Fitting 4 folds for each of 1 candidates, totalling 4 fits\n",
      "Fitting 4 folds for each of 1 candidates, totalling 4 fits\n",
      "Fitting 4 folds for each of 1 candidates, totalling 4 fits\n",
      "Fitting 4 folds for each of 1 candidates, totalling 4 fits\n",
      "Fitting 4 folds for each of 1 candidates, totalling 4 fits\n",
      "Fitting 4 folds for each of 1 candidates, totalling 4 fits\n",
      "Fitting 4 folds for each of 1 candidates, totalling 4 fits\n",
      "Fitting 4 folds for each of 1 candidates, totalling 4 fits\n",
      "Fitting 4 folds for each of 1 candidates, totalling 4 fits\n",
      "--------------------------------------------------------------------------------\n",
      "RidgeClassifier\n",
      "Custom config ...\n"
     ]
    },
    {
     "data": {
      "text/html": [],
      "text/plain": [
       "<IPython.core.display.HTML object>"
      ]
     },
     "metadata": {},
     "output_type": "display_data"
    },
    {
     "data": {
      "text/html": [
       "<style type=\"text/css\">\n",
       "#T_0a201_row4_col0, #T_0a201_row4_col1, #T_0a201_row4_col2, #T_0a201_row4_col3, #T_0a201_row4_col4, #T_0a201_row4_col5, #T_0a201_row4_col6 {\n",
       "  background: yellow;\n",
       "}\n",
       "</style>\n",
       "<table id=\"T_0a201\">\n",
       "  <thead>\n",
       "    <tr>\n",
       "      <th class=\"blank level0\" >&nbsp;</th>\n",
       "      <th id=\"T_0a201_level0_col0\" class=\"col_heading level0 col0\" >Accuracy</th>\n",
       "      <th id=\"T_0a201_level0_col1\" class=\"col_heading level0 col1\" >AUC</th>\n",
       "      <th id=\"T_0a201_level0_col2\" class=\"col_heading level0 col2\" >Recall</th>\n",
       "      <th id=\"T_0a201_level0_col3\" class=\"col_heading level0 col3\" >Prec.</th>\n",
       "      <th id=\"T_0a201_level0_col4\" class=\"col_heading level0 col4\" >F1</th>\n",
       "      <th id=\"T_0a201_level0_col5\" class=\"col_heading level0 col5\" >Kappa</th>\n",
       "      <th id=\"T_0a201_level0_col6\" class=\"col_heading level0 col6\" >MCC</th>\n",
       "    </tr>\n",
       "    <tr>\n",
       "      <th class=\"index_name level0\" >Fold</th>\n",
       "      <th class=\"blank col0\" >&nbsp;</th>\n",
       "      <th class=\"blank col1\" >&nbsp;</th>\n",
       "      <th class=\"blank col2\" >&nbsp;</th>\n",
       "      <th class=\"blank col3\" >&nbsp;</th>\n",
       "      <th class=\"blank col4\" >&nbsp;</th>\n",
       "      <th class=\"blank col5\" >&nbsp;</th>\n",
       "      <th class=\"blank col6\" >&nbsp;</th>\n",
       "    </tr>\n",
       "  </thead>\n",
       "  <tbody>\n",
       "    <tr>\n",
       "      <th id=\"T_0a201_level0_row0\" class=\"row_heading level0 row0\" >0</th>\n",
       "      <td id=\"T_0a201_row0_col0\" class=\"data row0 col0\" >0.9476</td>\n",
       "      <td id=\"T_0a201_row0_col1\" class=\"data row0 col1\" >0.9914</td>\n",
       "      <td id=\"T_0a201_row0_col2\" class=\"data row0 col2\" >0.9603</td>\n",
       "      <td id=\"T_0a201_row0_col3\" class=\"data row0 col3\" >0.9380</td>\n",
       "      <td id=\"T_0a201_row0_col4\" class=\"data row0 col4\" >0.9490</td>\n",
       "      <td id=\"T_0a201_row0_col5\" class=\"data row0 col5\" >0.8951</td>\n",
       "      <td id=\"T_0a201_row0_col6\" class=\"data row0 col6\" >0.8954</td>\n",
       "    </tr>\n",
       "    <tr>\n",
       "      <th id=\"T_0a201_level0_row1\" class=\"row_heading level0 row1\" >1</th>\n",
       "      <td id=\"T_0a201_row1_col0\" class=\"data row1 col0\" >0.9113</td>\n",
       "      <td id=\"T_0a201_row1_col1\" class=\"data row1 col1\" >0.9807</td>\n",
       "      <td id=\"T_0a201_row1_col2\" class=\"data row1 col2\" >0.8968</td>\n",
       "      <td id=\"T_0a201_row1_col3\" class=\"data row1 col3\" >0.9262</td>\n",
       "      <td id=\"T_0a201_row1_col4\" class=\"data row1 col4\" >0.9113</td>\n",
       "      <td id=\"T_0a201_row1_col5\" class=\"data row1 col5\" >0.8226</td>\n",
       "      <td id=\"T_0a201_row1_col6\" class=\"data row1 col6\" >0.8231</td>\n",
       "    </tr>\n",
       "    <tr>\n",
       "      <th id=\"T_0a201_level0_row2\" class=\"row_heading level0 row2\" >2</th>\n",
       "      <td id=\"T_0a201_row2_col0\" class=\"data row2 col0\" >0.9433</td>\n",
       "      <td id=\"T_0a201_row2_col1\" class=\"data row2 col1\" >0.9927</td>\n",
       "      <td id=\"T_0a201_row2_col2\" class=\"data row2 col2\" >0.9762</td>\n",
       "      <td id=\"T_0a201_row2_col3\" class=\"data row2 col3\" >0.9179</td>\n",
       "      <td id=\"T_0a201_row2_col4\" class=\"data row2 col4\" >0.9462</td>\n",
       "      <td id=\"T_0a201_row2_col5\" class=\"data row2 col5\" >0.8864</td>\n",
       "      <td id=\"T_0a201_row2_col6\" class=\"data row2 col6\" >0.8883</td>\n",
       "    </tr>\n",
       "    <tr>\n",
       "      <th id=\"T_0a201_level0_row3\" class=\"row_heading level0 row3\" >3</th>\n",
       "      <td id=\"T_0a201_row3_col0\" class=\"data row3 col0\" >0.8988</td>\n",
       "      <td id=\"T_0a201_row3_col1\" class=\"data row3 col1\" >0.9793</td>\n",
       "      <td id=\"T_0a201_row3_col2\" class=\"data row3 col2\" >0.9280</td>\n",
       "      <td id=\"T_0a201_row3_col3\" class=\"data row3 col3\" >0.8788</td>\n",
       "      <td id=\"T_0a201_row3_col4\" class=\"data row3 col4\" >0.9027</td>\n",
       "      <td id=\"T_0a201_row3_col5\" class=\"data row3 col5\" >0.7974</td>\n",
       "      <td id=\"T_0a201_row3_col6\" class=\"data row3 col6\" >0.7987</td>\n",
       "    </tr>\n",
       "    <tr>\n",
       "      <th id=\"T_0a201_level0_row4\" class=\"row_heading level0 row4\" >Mean</th>\n",
       "      <td id=\"T_0a201_row4_col0\" class=\"data row4 col0\" >0.9252</td>\n",
       "      <td id=\"T_0a201_row4_col1\" class=\"data row4 col1\" >0.9860</td>\n",
       "      <td id=\"T_0a201_row4_col2\" class=\"data row4 col2\" >0.9403</td>\n",
       "      <td id=\"T_0a201_row4_col3\" class=\"data row4 col3\" >0.9152</td>\n",
       "      <td id=\"T_0a201_row4_col4\" class=\"data row4 col4\" >0.9273</td>\n",
       "      <td id=\"T_0a201_row4_col5\" class=\"data row4 col5\" >0.8504</td>\n",
       "      <td id=\"T_0a201_row4_col6\" class=\"data row4 col6\" >0.8514</td>\n",
       "    </tr>\n",
       "    <tr>\n",
       "      <th id=\"T_0a201_level0_row5\" class=\"row_heading level0 row5\" >Std</th>\n",
       "      <td id=\"T_0a201_row5_col0\" class=\"data row5 col0\" >0.0207</td>\n",
       "      <td id=\"T_0a201_row5_col1\" class=\"data row5 col1\" >0.0061</td>\n",
       "      <td id=\"T_0a201_row5_col2\" class=\"data row5 col2\" >0.0305</td>\n",
       "      <td id=\"T_0a201_row5_col3\" class=\"data row5 col3\" >0.0222</td>\n",
       "      <td id=\"T_0a201_row5_col4\" class=\"data row5 col4\" >0.0205</td>\n",
       "      <td id=\"T_0a201_row5_col5\" class=\"data row5 col5\" >0.0415</td>\n",
       "      <td id=\"T_0a201_row5_col6\" class=\"data row5 col6\" >0.0415</td>\n",
       "    </tr>\n",
       "  </tbody>\n",
       "</table>\n"
      ],
      "text/plain": [
       "<pandas.io.formats.style.Styler at 0x16461cd10>"
      ]
     },
     "metadata": {},
     "output_type": "display_data"
    },
    {
     "data": {
      "text/html": [],
      "text/plain": [
       "<IPython.core.display.HTML object>"
      ]
     },
     "metadata": {},
     "output_type": "display_data"
    },
    {
     "name": "stdout",
     "output_type": "stream",
     "text": [
      "Fitting 4 folds for each of 1 candidates, totalling 4 fits\n",
      "Original model was better than the tuned model, hence it will be returned. NOTE: The display metrics are for the tuned model (not the original one).\n",
      "--------------------------------------------------------------------------------\n",
      "LinearDiscriminantAnalysis\n",
      "Custom config ...\n"
     ]
    },
    {
     "data": {
      "text/html": [],
      "text/plain": [
       "<IPython.core.display.HTML object>"
      ]
     },
     "metadata": {},
     "output_type": "display_data"
    },
    {
     "data": {
      "text/html": [
       "<style type=\"text/css\">\n",
       "#T_8231c_row4_col0, #T_8231c_row4_col1, #T_8231c_row4_col2, #T_8231c_row4_col3, #T_8231c_row4_col4, #T_8231c_row4_col5, #T_8231c_row4_col6 {\n",
       "  background: yellow;\n",
       "}\n",
       "</style>\n",
       "<table id=\"T_8231c\">\n",
       "  <thead>\n",
       "    <tr>\n",
       "      <th class=\"blank level0\" >&nbsp;</th>\n",
       "      <th id=\"T_8231c_level0_col0\" class=\"col_heading level0 col0\" >Accuracy</th>\n",
       "      <th id=\"T_8231c_level0_col1\" class=\"col_heading level0 col1\" >AUC</th>\n",
       "      <th id=\"T_8231c_level0_col2\" class=\"col_heading level0 col2\" >Recall</th>\n",
       "      <th id=\"T_8231c_level0_col3\" class=\"col_heading level0 col3\" >Prec.</th>\n",
       "      <th id=\"T_8231c_level0_col4\" class=\"col_heading level0 col4\" >F1</th>\n",
       "      <th id=\"T_8231c_level0_col5\" class=\"col_heading level0 col5\" >Kappa</th>\n",
       "      <th id=\"T_8231c_level0_col6\" class=\"col_heading level0 col6\" >MCC</th>\n",
       "    </tr>\n",
       "    <tr>\n",
       "      <th class=\"index_name level0\" >Fold</th>\n",
       "      <th class=\"blank col0\" >&nbsp;</th>\n",
       "      <th class=\"blank col1\" >&nbsp;</th>\n",
       "      <th class=\"blank col2\" >&nbsp;</th>\n",
       "      <th class=\"blank col3\" >&nbsp;</th>\n",
       "      <th class=\"blank col4\" >&nbsp;</th>\n",
       "      <th class=\"blank col5\" >&nbsp;</th>\n",
       "      <th class=\"blank col6\" >&nbsp;</th>\n",
       "    </tr>\n",
       "  </thead>\n",
       "  <tbody>\n",
       "    <tr>\n",
       "      <th id=\"T_8231c_level0_row0\" class=\"row_heading level0 row0\" >0</th>\n",
       "      <td id=\"T_8231c_row0_col0\" class=\"data row0 col0\" >0.9516</td>\n",
       "      <td id=\"T_8231c_row0_col1\" class=\"data row0 col1\" >0.9871</td>\n",
       "      <td id=\"T_8231c_row0_col2\" class=\"data row0 col2\" >0.9683</td>\n",
       "      <td id=\"T_8231c_row0_col3\" class=\"data row0 col3\" >0.9385</td>\n",
       "      <td id=\"T_8231c_row0_col4\" class=\"data row0 col4\" >0.9531</td>\n",
       "      <td id=\"T_8231c_row0_col5\" class=\"data row0 col5\" >0.9032</td>\n",
       "      <td id=\"T_8231c_row0_col6\" class=\"data row0 col6\" >0.9036</td>\n",
       "    </tr>\n",
       "    <tr>\n",
       "      <th id=\"T_8231c_level0_row1\" class=\"row_heading level0 row1\" >1</th>\n",
       "      <td id=\"T_8231c_row1_col0\" class=\"data row1 col0\" >0.9113</td>\n",
       "      <td id=\"T_8231c_row1_col1\" class=\"data row1 col1\" >0.9733</td>\n",
       "      <td id=\"T_8231c_row1_col2\" class=\"data row1 col2\" >0.9127</td>\n",
       "      <td id=\"T_8231c_row1_col3\" class=\"data row1 col3\" >0.9127</td>\n",
       "      <td id=\"T_8231c_row1_col4\" class=\"data row1 col4\" >0.9127</td>\n",
       "      <td id=\"T_8231c_row1_col5\" class=\"data row1 col5\" >0.8225</td>\n",
       "      <td id=\"T_8231c_row1_col6\" class=\"data row1 col6\" >0.8225</td>\n",
       "    </tr>\n",
       "    <tr>\n",
       "      <th id=\"T_8231c_level0_row2\" class=\"row_heading level0 row2\" >2</th>\n",
       "      <td id=\"T_8231c_row2_col0\" class=\"data row2 col0\" >0.9393</td>\n",
       "      <td id=\"T_8231c_row2_col1\" class=\"data row2 col1\" >0.9887</td>\n",
       "      <td id=\"T_8231c_row2_col2\" class=\"data row2 col2\" >0.9683</td>\n",
       "      <td id=\"T_8231c_row2_col3\" class=\"data row2 col3\" >0.9173</td>\n",
       "      <td id=\"T_8231c_row2_col4\" class=\"data row2 col4\" >0.9421</td>\n",
       "      <td id=\"T_8231c_row2_col5\" class=\"data row2 col5\" >0.8784</td>\n",
       "      <td id=\"T_8231c_row2_col6\" class=\"data row2 col6\" >0.8798</td>\n",
       "    </tr>\n",
       "    <tr>\n",
       "      <th id=\"T_8231c_level0_row3\" class=\"row_heading level0 row3\" >3</th>\n",
       "      <td id=\"T_8231c_row3_col0\" class=\"data row3 col0\" >0.8907</td>\n",
       "      <td id=\"T_8231c_row3_col1\" class=\"data row3 col1\" >0.9689</td>\n",
       "      <td id=\"T_8231c_row3_col2\" class=\"data row3 col2\" >0.8960</td>\n",
       "      <td id=\"T_8231c_row3_col3\" class=\"data row3 col3\" >0.8889</td>\n",
       "      <td id=\"T_8231c_row3_col4\" class=\"data row3 col4\" >0.8924</td>\n",
       "      <td id=\"T_8231c_row3_col5\" class=\"data row3 col5\" >0.7813</td>\n",
       "      <td id=\"T_8231c_row3_col6\" class=\"data row3 col6\" >0.7813</td>\n",
       "    </tr>\n",
       "    <tr>\n",
       "      <th id=\"T_8231c_level0_row4\" class=\"row_heading level0 row4\" >Mean</th>\n",
       "      <td id=\"T_8231c_row4_col0\" class=\"data row4 col0\" >0.9232</td>\n",
       "      <td id=\"T_8231c_row4_col1\" class=\"data row4 col1\" >0.9795</td>\n",
       "      <td id=\"T_8231c_row4_col2\" class=\"data row4 col2\" >0.9363</td>\n",
       "      <td id=\"T_8231c_row4_col3\" class=\"data row4 col3\" >0.9143</td>\n",
       "      <td id=\"T_8231c_row4_col4\" class=\"data row4 col4\" >0.9251</td>\n",
       "      <td id=\"T_8231c_row4_col5\" class=\"data row4 col5\" >0.8463</td>\n",
       "      <td id=\"T_8231c_row4_col6\" class=\"data row4 col6\" >0.8468</td>\n",
       "    </tr>\n",
       "    <tr>\n",
       "      <th id=\"T_8231c_level0_row5\" class=\"row_heading level0 row5\" >Std</th>\n",
       "      <td id=\"T_8231c_row5_col0\" class=\"data row5 col0\" >0.0238</td>\n",
       "      <td id=\"T_8231c_row5_col1\" class=\"data row5 col1\" >0.0086</td>\n",
       "      <td id=\"T_8231c_row5_col2\" class=\"data row5 col2\" >0.0325</td>\n",
       "      <td id=\"T_8231c_row5_col3\" class=\"data row5 col3\" >0.0176</td>\n",
       "      <td id=\"T_8231c_row5_col4\" class=\"data row5 col4\" >0.0240</td>\n",
       "      <td id=\"T_8231c_row5_col5\" class=\"data row5 col5\" >0.0476</td>\n",
       "      <td id=\"T_8231c_row5_col6\" class=\"data row5 col6\" >0.0479</td>\n",
       "    </tr>\n",
       "  </tbody>\n",
       "</table>\n"
      ],
      "text/plain": [
       "<pandas.io.formats.style.Styler at 0x164692550>"
      ]
     },
     "metadata": {},
     "output_type": "display_data"
    },
    {
     "data": {
      "text/html": [],
      "text/plain": [
       "<IPython.core.display.HTML object>"
      ]
     },
     "metadata": {},
     "output_type": "display_data"
    },
    {
     "name": "stdout",
     "output_type": "stream",
     "text": [
      "Fitting 4 folds for each of 1 candidates, totalling 4 fits\n",
      "Original model was better than the tuned model, hence it will be returned. NOTE: The display metrics are for the tuned model (not the original one).\n",
      "--------------------------------------------------------------------------------\n",
      "ExtraTreesClassifier\n"
     ]
    },
    {
     "data": {
      "text/html": [],
      "text/plain": [
       "<IPython.core.display.HTML object>"
      ]
     },
     "metadata": {},
     "output_type": "display_data"
    },
    {
     "data": {
      "text/html": [
       "<style type=\"text/css\">\n",
       "#T_955e7_row4_col0, #T_955e7_row4_col1, #T_955e7_row4_col2, #T_955e7_row4_col3, #T_955e7_row4_col4, #T_955e7_row4_col5, #T_955e7_row4_col6 {\n",
       "  background: yellow;\n",
       "}\n",
       "</style>\n",
       "<table id=\"T_955e7\">\n",
       "  <thead>\n",
       "    <tr>\n",
       "      <th class=\"blank level0\" >&nbsp;</th>\n",
       "      <th id=\"T_955e7_level0_col0\" class=\"col_heading level0 col0\" >Accuracy</th>\n",
       "      <th id=\"T_955e7_level0_col1\" class=\"col_heading level0 col1\" >AUC</th>\n",
       "      <th id=\"T_955e7_level0_col2\" class=\"col_heading level0 col2\" >Recall</th>\n",
       "      <th id=\"T_955e7_level0_col3\" class=\"col_heading level0 col3\" >Prec.</th>\n",
       "      <th id=\"T_955e7_level0_col4\" class=\"col_heading level0 col4\" >F1</th>\n",
       "      <th id=\"T_955e7_level0_col5\" class=\"col_heading level0 col5\" >Kappa</th>\n",
       "      <th id=\"T_955e7_level0_col6\" class=\"col_heading level0 col6\" >MCC</th>\n",
       "    </tr>\n",
       "    <tr>\n",
       "      <th class=\"index_name level0\" >Fold</th>\n",
       "      <th class=\"blank col0\" >&nbsp;</th>\n",
       "      <th class=\"blank col1\" >&nbsp;</th>\n",
       "      <th class=\"blank col2\" >&nbsp;</th>\n",
       "      <th class=\"blank col3\" >&nbsp;</th>\n",
       "      <th class=\"blank col4\" >&nbsp;</th>\n",
       "      <th class=\"blank col5\" >&nbsp;</th>\n",
       "      <th class=\"blank col6\" >&nbsp;</th>\n",
       "    </tr>\n",
       "  </thead>\n",
       "  <tbody>\n",
       "    <tr>\n",
       "      <th id=\"T_955e7_level0_row0\" class=\"row_heading level0 row0\" >0</th>\n",
       "      <td id=\"T_955e7_row0_col0\" class=\"data row0 col0\" >0.9113</td>\n",
       "      <td id=\"T_955e7_row0_col1\" class=\"data row0 col1\" >0.9779</td>\n",
       "      <td id=\"T_955e7_row0_col2\" class=\"data row0 col2\" >0.9048</td>\n",
       "      <td id=\"T_955e7_row0_col3\" class=\"data row0 col3\" >0.9194</td>\n",
       "      <td id=\"T_955e7_row0_col4\" class=\"data row0 col4\" >0.9120</td>\n",
       "      <td id=\"T_955e7_row0_col5\" class=\"data row0 col5\" >0.8226</td>\n",
       "      <td id=\"T_955e7_row0_col6\" class=\"data row0 col6\" >0.8227</td>\n",
       "    </tr>\n",
       "    <tr>\n",
       "      <th id=\"T_955e7_level0_row1\" class=\"row_heading level0 row1\" >1</th>\n",
       "      <td id=\"T_955e7_row1_col0\" class=\"data row1 col0\" >0.9032</td>\n",
       "      <td id=\"T_955e7_row1_col1\" class=\"data row1 col1\" >0.9791</td>\n",
       "      <td id=\"T_955e7_row1_col2\" class=\"data row1 col2\" >0.9286</td>\n",
       "      <td id=\"T_955e7_row1_col3\" class=\"data row1 col3\" >0.8864</td>\n",
       "      <td id=\"T_955e7_row1_col4\" class=\"data row1 col4\" >0.9070</td>\n",
       "      <td id=\"T_955e7_row1_col5\" class=\"data row1 col5\" >0.8062</td>\n",
       "      <td id=\"T_955e7_row1_col6\" class=\"data row1 col6\" >0.8072</td>\n",
       "    </tr>\n",
       "    <tr>\n",
       "      <th id=\"T_955e7_level0_row2\" class=\"row_heading level0 row2\" >2</th>\n",
       "      <td id=\"T_955e7_row2_col0\" class=\"data row2 col0\" >0.8826</td>\n",
       "      <td id=\"T_955e7_row2_col1\" class=\"data row2 col1\" >0.9628</td>\n",
       "      <td id=\"T_955e7_row2_col2\" class=\"data row2 col2\" >0.9127</td>\n",
       "      <td id=\"T_955e7_row2_col3\" class=\"data row2 col3\" >0.8647</td>\n",
       "      <td id=\"T_955e7_row2_col4\" class=\"data row2 col4\" >0.8880</td>\n",
       "      <td id=\"T_955e7_row2_col5\" class=\"data row2 col5\" >0.7648</td>\n",
       "      <td id=\"T_955e7_row2_col6\" class=\"data row2 col6\" >0.7661</td>\n",
       "    </tr>\n",
       "    <tr>\n",
       "      <th id=\"T_955e7_level0_row3\" class=\"row_heading level0 row3\" >3</th>\n",
       "      <td id=\"T_955e7_row3_col0\" class=\"data row3 col0\" >0.8745</td>\n",
       "      <td id=\"T_955e7_row3_col1\" class=\"data row3 col1\" >0.9587</td>\n",
       "      <td id=\"T_955e7_row3_col2\" class=\"data row3 col2\" >0.8560</td>\n",
       "      <td id=\"T_955e7_row3_col3\" class=\"data row3 col3\" >0.8917</td>\n",
       "      <td id=\"T_955e7_row3_col4\" class=\"data row3 col4\" >0.8735</td>\n",
       "      <td id=\"T_955e7_row3_col5\" class=\"data row3 col5\" >0.7491</td>\n",
       "      <td id=\"T_955e7_row3_col6\" class=\"data row3 col6\" >0.7497</td>\n",
       "    </tr>\n",
       "    <tr>\n",
       "      <th id=\"T_955e7_level0_row4\" class=\"row_heading level0 row4\" >Mean</th>\n",
       "      <td id=\"T_955e7_row4_col0\" class=\"data row4 col0\" >0.8929</td>\n",
       "      <td id=\"T_955e7_row4_col1\" class=\"data row4 col1\" >0.9696</td>\n",
       "      <td id=\"T_955e7_row4_col2\" class=\"data row4 col2\" >0.9005</td>\n",
       "      <td id=\"T_955e7_row4_col3\" class=\"data row4 col3\" >0.8905</td>\n",
       "      <td id=\"T_955e7_row4_col4\" class=\"data row4 col4\" >0.8951</td>\n",
       "      <td id=\"T_955e7_row4_col5\" class=\"data row4 col5\" >0.7857</td>\n",
       "      <td id=\"T_955e7_row4_col6\" class=\"data row4 col6\" >0.7864</td>\n",
       "    </tr>\n",
       "    <tr>\n",
       "      <th id=\"T_955e7_level0_row5\" class=\"row_heading level0 row5\" >Std</th>\n",
       "      <td id=\"T_955e7_row5_col0\" class=\"data row5 col0\" >0.0149</td>\n",
       "      <td id=\"T_955e7_row5_col1\" class=\"data row5 col1\" >0.0090</td>\n",
       "      <td id=\"T_955e7_row5_col2\" class=\"data row5 col2\" >0.0271</td>\n",
       "      <td id=\"T_955e7_row5_col3\" class=\"data row5 col3\" >0.0195</td>\n",
       "      <td id=\"T_955e7_row5_col4\" class=\"data row5 col4\" >0.0154</td>\n",
       "      <td id=\"T_955e7_row5_col5\" class=\"data row5 col5\" >0.0298</td>\n",
       "      <td id=\"T_955e7_row5_col6\" class=\"data row5 col6\" >0.0296</td>\n",
       "    </tr>\n",
       "  </tbody>\n",
       "</table>\n"
      ],
      "text/plain": [
       "<pandas.io.formats.style.Styler at 0x167274190>"
      ]
     },
     "metadata": {},
     "output_type": "display_data"
    },
    {
     "data": {
      "text/html": [],
      "text/plain": [
       "<IPython.core.display.HTML object>"
      ]
     },
     "metadata": {},
     "output_type": "display_data"
    },
    {
     "name": "stdout",
     "output_type": "stream",
     "text": [
      "Fitting 4 folds for each of 1 candidates, totalling 4 fits\n",
      "Fitting 4 folds for each of 1 candidates, totalling 4 fits\n",
      "Fitting 4 folds for each of 1 candidates, totalling 4 fits\n",
      "Fitting 4 folds for each of 1 candidates, totalling 4 fits\n",
      "Fitting 4 folds for each of 1 candidates, totalling 4 fits\n",
      "Fitting 4 folds for each of 1 candidates, totalling 4 fits\n",
      "Fitting 4 folds for each of 1 candidates, totalling 4 fits\n",
      "Fitting 4 folds for each of 1 candidates, totalling 4 fits\n",
      "Fitting 4 folds for each of 1 candidates, totalling 4 fits\n",
      "Fitting 4 folds for each of 1 candidates, totalling 4 fits\n",
      "Fitting 4 folds for each of 1 candidates, totalling 4 fits\n",
      "Fitting 4 folds for each of 1 candidates, totalling 4 fits\n",
      "Fitting 4 folds for each of 1 candidates, totalling 4 fits\n",
      "Fitting 4 folds for each of 1 candidates, totalling 4 fits\n",
      "Fitting 4 folds for each of 1 candidates, totalling 4 fits\n",
      "Fitting 4 folds for each of 1 candidates, totalling 4 fits\n",
      "Fitting 4 folds for each of 1 candidates, totalling 4 fits\n",
      "Fitting 4 folds for each of 1 candidates, totalling 4 fits\n",
      "Fitting 4 folds for each of 1 candidates, totalling 4 fits\n",
      "Fitting 4 folds for each of 1 candidates, totalling 4 fits\n",
      "Fitting 4 folds for each of 1 candidates, totalling 4 fits\n",
      "Fitting 4 folds for each of 1 candidates, totalling 4 fits\n",
      "Fitting 4 folds for each of 1 candidates, totalling 4 fits\n",
      "Fitting 4 folds for each of 1 candidates, totalling 4 fits\n",
      "Fitting 4 folds for each of 1 candidates, totalling 4 fits\n",
      "Original model was better than the tuned model, hence it will be returned. NOTE: The display metrics are for the tuned model (not the original one).\n",
      "--------------------------------------------------------------------------------\n",
      "XGBClassifier\n"
     ]
    },
    {
     "data": {
      "text/html": [],
      "text/plain": [
       "<IPython.core.display.HTML object>"
      ]
     },
     "metadata": {},
     "output_type": "display_data"
    },
    {
     "data": {
      "text/html": [
       "<style type=\"text/css\">\n",
       "#T_841c6_row4_col0, #T_841c6_row4_col1, #T_841c6_row4_col2, #T_841c6_row4_col3, #T_841c6_row4_col4, #T_841c6_row4_col5, #T_841c6_row4_col6 {\n",
       "  background: yellow;\n",
       "}\n",
       "</style>\n",
       "<table id=\"T_841c6\">\n",
       "  <thead>\n",
       "    <tr>\n",
       "      <th class=\"blank level0\" >&nbsp;</th>\n",
       "      <th id=\"T_841c6_level0_col0\" class=\"col_heading level0 col0\" >Accuracy</th>\n",
       "      <th id=\"T_841c6_level0_col1\" class=\"col_heading level0 col1\" >AUC</th>\n",
       "      <th id=\"T_841c6_level0_col2\" class=\"col_heading level0 col2\" >Recall</th>\n",
       "      <th id=\"T_841c6_level0_col3\" class=\"col_heading level0 col3\" >Prec.</th>\n",
       "      <th id=\"T_841c6_level0_col4\" class=\"col_heading level0 col4\" >F1</th>\n",
       "      <th id=\"T_841c6_level0_col5\" class=\"col_heading level0 col5\" >Kappa</th>\n",
       "      <th id=\"T_841c6_level0_col6\" class=\"col_heading level0 col6\" >MCC</th>\n",
       "    </tr>\n",
       "    <tr>\n",
       "      <th class=\"index_name level0\" >Fold</th>\n",
       "      <th class=\"blank col0\" >&nbsp;</th>\n",
       "      <th class=\"blank col1\" >&nbsp;</th>\n",
       "      <th class=\"blank col2\" >&nbsp;</th>\n",
       "      <th class=\"blank col3\" >&nbsp;</th>\n",
       "      <th class=\"blank col4\" >&nbsp;</th>\n",
       "      <th class=\"blank col5\" >&nbsp;</th>\n",
       "      <th class=\"blank col6\" >&nbsp;</th>\n",
       "    </tr>\n",
       "  </thead>\n",
       "  <tbody>\n",
       "    <tr>\n",
       "      <th id=\"T_841c6_level0_row0\" class=\"row_heading level0 row0\" >0</th>\n",
       "      <td id=\"T_841c6_row0_col0\" class=\"data row0 col0\" >0.9315</td>\n",
       "      <td id=\"T_841c6_row0_col1\" class=\"data row0 col1\" >0.9903</td>\n",
       "      <td id=\"T_841c6_row0_col2\" class=\"data row0 col2\" >0.9841</td>\n",
       "      <td id=\"T_841c6_row0_col3\" class=\"data row0 col3\" >0.8921</td>\n",
       "      <td id=\"T_841c6_row0_col4\" class=\"data row0 col4\" >0.9358</td>\n",
       "      <td id=\"T_841c6_row0_col5\" class=\"data row0 col5\" >0.8626</td>\n",
       "      <td id=\"T_841c6_row0_col6\" class=\"data row0 col6\" >0.8674</td>\n",
       "    </tr>\n",
       "    <tr>\n",
       "      <th id=\"T_841c6_level0_row1\" class=\"row_heading level0 row1\" >1</th>\n",
       "      <td id=\"T_841c6_row1_col0\" class=\"data row1 col0\" >0.8790</td>\n",
       "      <td id=\"T_841c6_row1_col1\" class=\"data row1 col1\" >0.9841</td>\n",
       "      <td id=\"T_841c6_row1_col2\" class=\"data row1 col2\" >0.9841</td>\n",
       "      <td id=\"T_841c6_row1_col3\" class=\"data row1 col3\" >0.8158</td>\n",
       "      <td id=\"T_841c6_row1_col4\" class=\"data row1 col4\" >0.8921</td>\n",
       "      <td id=\"T_841c6_row1_col5\" class=\"data row1 col5\" >0.7572</td>\n",
       "      <td id=\"T_841c6_row1_col6\" class=\"data row1 col6\" >0.7745</td>\n",
       "    </tr>\n",
       "    <tr>\n",
       "      <th id=\"T_841c6_level0_row2\" class=\"row_heading level0 row2\" >2</th>\n",
       "      <td id=\"T_841c6_row2_col0\" class=\"data row2 col0\" >0.8543</td>\n",
       "      <td id=\"T_841c6_row2_col1\" class=\"data row2 col1\" >0.9663</td>\n",
       "      <td id=\"T_841c6_row2_col2\" class=\"data row2 col2\" >0.9841</td>\n",
       "      <td id=\"T_841c6_row2_col3\" class=\"data row2 col3\" >0.7848</td>\n",
       "      <td id=\"T_841c6_row2_col4\" class=\"data row2 col4\" >0.8732</td>\n",
       "      <td id=\"T_841c6_row2_col5\" class=\"data row2 col5\" >0.7068</td>\n",
       "      <td id=\"T_841c6_row2_col6\" class=\"data row2 col6\" >0.7321</td>\n",
       "    </tr>\n",
       "    <tr>\n",
       "      <th id=\"T_841c6_level0_row3\" class=\"row_heading level0 row3\" >3</th>\n",
       "      <td id=\"T_841c6_row3_col0\" class=\"data row3 col0\" >0.8785</td>\n",
       "      <td id=\"T_841c6_row3_col1\" class=\"data row3 col1\" >0.9723</td>\n",
       "      <td id=\"T_841c6_row3_col2\" class=\"data row3 col2\" >0.9920</td>\n",
       "      <td id=\"T_841c6_row3_col3\" class=\"data row3 col3\" >0.8105</td>\n",
       "      <td id=\"T_841c6_row3_col4\" class=\"data row3 col4\" >0.8921</td>\n",
       "      <td id=\"T_841c6_row3_col5\" class=\"data row3 col5\" >0.7564</td>\n",
       "      <td id=\"T_841c6_row3_col6\" class=\"data row3 col6\" >0.7767</td>\n",
       "    </tr>\n",
       "    <tr>\n",
       "      <th id=\"T_841c6_level0_row4\" class=\"row_heading level0 row4\" >Mean</th>\n",
       "      <td id=\"T_841c6_row4_col0\" class=\"data row4 col0\" >0.8858</td>\n",
       "      <td id=\"T_841c6_row4_col1\" class=\"data row4 col1\" >0.9782</td>\n",
       "      <td id=\"T_841c6_row4_col2\" class=\"data row4 col2\" >0.9861</td>\n",
       "      <td id=\"T_841c6_row4_col3\" class=\"data row4 col3\" >0.8258</td>\n",
       "      <td id=\"T_841c6_row4_col4\" class=\"data row4 col4\" >0.8983</td>\n",
       "      <td id=\"T_841c6_row4_col5\" class=\"data row4 col5\" >0.7708</td>\n",
       "      <td id=\"T_841c6_row4_col6\" class=\"data row4 col6\" >0.7877</td>\n",
       "    </tr>\n",
       "    <tr>\n",
       "      <th id=\"T_841c6_level0_row5\" class=\"row_heading level0 row5\" >Std</th>\n",
       "      <td id=\"T_841c6_row5_col0\" class=\"data row5 col0\" >0.0282</td>\n",
       "      <td id=\"T_841c6_row5_col1\" class=\"data row5 col1\" >0.0095</td>\n",
       "      <td id=\"T_841c6_row5_col2\" class=\"data row5 col2\" >0.0034</td>\n",
       "      <td id=\"T_841c6_row5_col3\" class=\"data row5 col3\" >0.0400</td>\n",
       "      <td id=\"T_841c6_row5_col4\" class=\"data row5 col4\" >0.0230</td>\n",
       "      <td id=\"T_841c6_row5_col5\" class=\"data row5 col5\" >0.0568</td>\n",
       "      <td id=\"T_841c6_row5_col6\" class=\"data row5 col6\" >0.0493</td>\n",
       "    </tr>\n",
       "  </tbody>\n",
       "</table>\n"
      ],
      "text/plain": [
       "<pandas.io.formats.style.Styler at 0x1646d31d0>"
      ]
     },
     "metadata": {},
     "output_type": "display_data"
    },
    {
     "data": {
      "text/html": [],
      "text/plain": [
       "<IPython.core.display.HTML object>"
      ]
     },
     "metadata": {},
     "output_type": "display_data"
    },
    {
     "name": "stdout",
     "output_type": "stream",
     "text": [
      "Fitting 4 folds for each of 1 candidates, totalling 4 fits\n",
      "Fitting 4 folds for each of 1 candidates, totalling 4 fits\n",
      "Fitting 4 folds for each of 1 candidates, totalling 4 fits\n",
      "Fitting 4 folds for each of 1 candidates, totalling 4 fits\n",
      "Fitting 4 folds for each of 1 candidates, totalling 4 fits\n",
      "Fitting 4 folds for each of 1 candidates, totalling 4 fits\n",
      "Fitting 4 folds for each of 1 candidates, totalling 4 fits\n",
      "Fitting 4 folds for each of 1 candidates, totalling 4 fits\n",
      "Fitting 4 folds for each of 1 candidates, totalling 4 fits\n",
      "Fitting 4 folds for each of 1 candidates, totalling 4 fits\n",
      "Fitting 4 folds for each of 1 candidates, totalling 4 fits\n",
      "Fitting 4 folds for each of 1 candidates, totalling 4 fits\n",
      "Fitting 4 folds for each of 1 candidates, totalling 4 fits\n",
      "Fitting 4 folds for each of 1 candidates, totalling 4 fits\n",
      "Fitting 4 folds for each of 1 candidates, totalling 4 fits\n",
      "Fitting 4 folds for each of 1 candidates, totalling 4 fits\n",
      "Fitting 4 folds for each of 1 candidates, totalling 4 fits\n",
      "Fitting 4 folds for each of 1 candidates, totalling 4 fits\n",
      "Fitting 4 folds for each of 1 candidates, totalling 4 fits\n",
      "Fitting 4 folds for each of 1 candidates, totalling 4 fits\n",
      "Fitting 4 folds for each of 1 candidates, totalling 4 fits\n",
      "Fitting 4 folds for each of 1 candidates, totalling 4 fits\n",
      "Fitting 4 folds for each of 1 candidates, totalling 4 fits\n",
      "Fitting 4 folds for each of 1 candidates, totalling 4 fits\n",
      "Fitting 4 folds for each of 1 candidates, totalling 4 fits\n",
      "--------------------------------------------------------------------------------\n",
      "RandomForestClassifier\n"
     ]
    },
    {
     "data": {
      "text/html": [],
      "text/plain": [
       "<IPython.core.display.HTML object>"
      ]
     },
     "metadata": {},
     "output_type": "display_data"
    },
    {
     "data": {
      "text/html": [
       "<style type=\"text/css\">\n",
       "#T_58d8a_row4_col0, #T_58d8a_row4_col1, #T_58d8a_row4_col2, #T_58d8a_row4_col3, #T_58d8a_row4_col4, #T_58d8a_row4_col5, #T_58d8a_row4_col6 {\n",
       "  background: yellow;\n",
       "}\n",
       "</style>\n",
       "<table id=\"T_58d8a\">\n",
       "  <thead>\n",
       "    <tr>\n",
       "      <th class=\"blank level0\" >&nbsp;</th>\n",
       "      <th id=\"T_58d8a_level0_col0\" class=\"col_heading level0 col0\" >Accuracy</th>\n",
       "      <th id=\"T_58d8a_level0_col1\" class=\"col_heading level0 col1\" >AUC</th>\n",
       "      <th id=\"T_58d8a_level0_col2\" class=\"col_heading level0 col2\" >Recall</th>\n",
       "      <th id=\"T_58d8a_level0_col3\" class=\"col_heading level0 col3\" >Prec.</th>\n",
       "      <th id=\"T_58d8a_level0_col4\" class=\"col_heading level0 col4\" >F1</th>\n",
       "      <th id=\"T_58d8a_level0_col5\" class=\"col_heading level0 col5\" >Kappa</th>\n",
       "      <th id=\"T_58d8a_level0_col6\" class=\"col_heading level0 col6\" >MCC</th>\n",
       "    </tr>\n",
       "    <tr>\n",
       "      <th class=\"index_name level0\" >Fold</th>\n",
       "      <th class=\"blank col0\" >&nbsp;</th>\n",
       "      <th class=\"blank col1\" >&nbsp;</th>\n",
       "      <th class=\"blank col2\" >&nbsp;</th>\n",
       "      <th class=\"blank col3\" >&nbsp;</th>\n",
       "      <th class=\"blank col4\" >&nbsp;</th>\n",
       "      <th class=\"blank col5\" >&nbsp;</th>\n",
       "      <th class=\"blank col6\" >&nbsp;</th>\n",
       "    </tr>\n",
       "  </thead>\n",
       "  <tbody>\n",
       "    <tr>\n",
       "      <th id=\"T_58d8a_level0_row0\" class=\"row_heading level0 row0\" >0</th>\n",
       "      <td id=\"T_58d8a_row0_col0\" class=\"data row0 col0\" >0.9032</td>\n",
       "      <td id=\"T_58d8a_row0_col1\" class=\"data row0 col1\" >0.9743</td>\n",
       "      <td id=\"T_58d8a_row0_col2\" class=\"data row0 col2\" >0.8889</td>\n",
       "      <td id=\"T_58d8a_row0_col3\" class=\"data row0 col3\" >0.9180</td>\n",
       "      <td id=\"T_58d8a_row0_col4\" class=\"data row0 col4\" >0.9032</td>\n",
       "      <td id=\"T_58d8a_row0_col5\" class=\"data row0 col5\" >0.8065</td>\n",
       "      <td id=\"T_58d8a_row0_col6\" class=\"data row0 col6\" >0.8069</td>\n",
       "    </tr>\n",
       "    <tr>\n",
       "      <th id=\"T_58d8a_level0_row1\" class=\"row_heading level0 row1\" >1</th>\n",
       "      <td id=\"T_58d8a_row1_col0\" class=\"data row1 col0\" >0.8952</td>\n",
       "      <td id=\"T_58d8a_row1_col1\" class=\"data row1 col1\" >0.9722</td>\n",
       "      <td id=\"T_58d8a_row1_col2\" class=\"data row1 col2\" >0.9286</td>\n",
       "      <td id=\"T_58d8a_row1_col3\" class=\"data row1 col3\" >0.8731</td>\n",
       "      <td id=\"T_58d8a_row1_col4\" class=\"data row1 col4\" >0.9000</td>\n",
       "      <td id=\"T_58d8a_row1_col5\" class=\"data row1 col5\" >0.7900</td>\n",
       "      <td id=\"T_58d8a_row1_col6\" class=\"data row1 col6\" >0.7917</td>\n",
       "    </tr>\n",
       "    <tr>\n",
       "      <th id=\"T_58d8a_level0_row2\" class=\"row_heading level0 row2\" >2</th>\n",
       "      <td id=\"T_58d8a_row2_col0\" class=\"data row2 col0\" >0.8462</td>\n",
       "      <td id=\"T_58d8a_row2_col1\" class=\"data row2 col1\" >0.9522</td>\n",
       "      <td id=\"T_58d8a_row2_col2\" class=\"data row2 col2\" >0.8651</td>\n",
       "      <td id=\"T_58d8a_row2_col3\" class=\"data row2 col3\" >0.8385</td>\n",
       "      <td id=\"T_58d8a_row2_col4\" class=\"data row2 col4\" >0.8516</td>\n",
       "      <td id=\"T_58d8a_row2_col5\" class=\"data row2 col5\" >0.6920</td>\n",
       "      <td id=\"T_58d8a_row2_col6\" class=\"data row2 col6\" >0.6923</td>\n",
       "    </tr>\n",
       "    <tr>\n",
       "      <th id=\"T_58d8a_level0_row3\" class=\"row_heading level0 row3\" >3</th>\n",
       "      <td id=\"T_58d8a_row3_col0\" class=\"data row3 col0\" >0.8259</td>\n",
       "      <td id=\"T_58d8a_row3_col1\" class=\"data row3 col1\" >0.9273</td>\n",
       "      <td id=\"T_58d8a_row3_col2\" class=\"data row3 col2\" >0.8320</td>\n",
       "      <td id=\"T_58d8a_row3_col3\" class=\"data row3 col3\" >0.8254</td>\n",
       "      <td id=\"T_58d8a_row3_col4\" class=\"data row3 col4\" >0.8287</td>\n",
       "      <td id=\"T_58d8a_row3_col5\" class=\"data row3 col5\" >0.6517</td>\n",
       "      <td id=\"T_58d8a_row3_col6\" class=\"data row3 col6\" >0.6518</td>\n",
       "    </tr>\n",
       "    <tr>\n",
       "      <th id=\"T_58d8a_level0_row4\" class=\"row_heading level0 row4\" >Mean</th>\n",
       "      <td id=\"T_58d8a_row4_col0\" class=\"data row4 col0\" >0.8676</td>\n",
       "      <td id=\"T_58d8a_row4_col1\" class=\"data row4 col1\" >0.9565</td>\n",
       "      <td id=\"T_58d8a_row4_col2\" class=\"data row4 col2\" >0.8786</td>\n",
       "      <td id=\"T_58d8a_row4_col3\" class=\"data row4 col3\" >0.8638</td>\n",
       "      <td id=\"T_58d8a_row4_col4\" class=\"data row4 col4\" >0.8709</td>\n",
       "      <td id=\"T_58d8a_row4_col5\" class=\"data row4 col5\" >0.7351</td>\n",
       "      <td id=\"T_58d8a_row4_col6\" class=\"data row4 col6\" >0.7357</td>\n",
       "    </tr>\n",
       "    <tr>\n",
       "      <th id=\"T_58d8a_level0_row5\" class=\"row_heading level0 row5\" >Std</th>\n",
       "      <td id=\"T_58d8a_row5_col0\" class=\"data row5 col0\" >0.0325</td>\n",
       "      <td id=\"T_58d8a_row5_col1\" class=\"data row5 col1\" >0.0190</td>\n",
       "      <td id=\"T_58d8a_row5_col2\" class=\"data row5 col2\" >0.0352</td>\n",
       "      <td id=\"T_58d8a_row5_col3\" class=\"data row5 col3\" >0.0359</td>\n",
       "      <td id=\"T_58d8a_row5_col4\" class=\"data row5 col4\" >0.0318</td>\n",
       "      <td id=\"T_58d8a_row5_col5\" class=\"data row5 col5\" >0.0651</td>\n",
       "      <td id=\"T_58d8a_row5_col6\" class=\"data row5 col6\" >0.0655</td>\n",
       "    </tr>\n",
       "  </tbody>\n",
       "</table>\n"
      ],
      "text/plain": [
       "<pandas.io.formats.style.Styler at 0x16463df10>"
      ]
     },
     "metadata": {},
     "output_type": "display_data"
    },
    {
     "data": {
      "text/html": [],
      "text/plain": [
       "<IPython.core.display.HTML object>"
      ]
     },
     "metadata": {},
     "output_type": "display_data"
    },
    {
     "name": "stdout",
     "output_type": "stream",
     "text": [
      "Fitting 4 folds for each of 1 candidates, totalling 4 fits\n",
      "Fitting 4 folds for each of 1 candidates, totalling 4 fits\n",
      "Fitting 4 folds for each of 1 candidates, totalling 4 fits\n",
      "Fitting 4 folds for each of 1 candidates, totalling 4 fits\n",
      "Fitting 4 folds for each of 1 candidates, totalling 4 fits\n",
      "Fitting 4 folds for each of 1 candidates, totalling 4 fits\n",
      "Fitting 4 folds for each of 1 candidates, totalling 4 fits\n",
      "Fitting 4 folds for each of 1 candidates, totalling 4 fits\n",
      "Fitting 4 folds for each of 1 candidates, totalling 4 fits\n",
      "Fitting 4 folds for each of 1 candidates, totalling 4 fits\n",
      "Fitting 4 folds for each of 1 candidates, totalling 4 fits\n",
      "Fitting 4 folds for each of 1 candidates, totalling 4 fits\n",
      "Fitting 4 folds for each of 1 candidates, totalling 4 fits\n",
      "Fitting 4 folds for each of 1 candidates, totalling 4 fits\n",
      "Fitting 4 folds for each of 1 candidates, totalling 4 fits\n",
      "Fitting 4 folds for each of 1 candidates, totalling 4 fits\n",
      "Fitting 4 folds for each of 1 candidates, totalling 4 fits\n",
      "Fitting 4 folds for each of 1 candidates, totalling 4 fits\n",
      "Fitting 4 folds for each of 1 candidates, totalling 4 fits\n",
      "Fitting 4 folds for each of 1 candidates, totalling 4 fits\n",
      "Fitting 4 folds for each of 1 candidates, totalling 4 fits\n",
      "Fitting 4 folds for each of 1 candidates, totalling 4 fits\n",
      "Fitting 4 folds for each of 1 candidates, totalling 4 fits\n",
      "Fitting 4 folds for each of 1 candidates, totalling 4 fits\n",
      "Fitting 4 folds for each of 1 candidates, totalling 4 fits\n",
      "Original model was better than the tuned model, hence it will be returned. NOTE: The display metrics are for the tuned model (not the original one).\n",
      "--------------------------------------------------------------------------------\n",
      "GradientBoostingClassifier\n",
      "No hyper-tuning ...\n",
      "--------------------------------------------------------------------------------\n",
      "QuadraticDiscriminantAnalysis\n",
      "No hyper-tuning ...\n",
      "--------------------------------------------------------------------------------\n",
      "DecisionTreeClassifier\n"
     ]
    },
    {
     "data": {
      "text/html": [],
      "text/plain": [
       "<IPython.core.display.HTML object>"
      ]
     },
     "metadata": {},
     "output_type": "display_data"
    },
    {
     "data": {
      "text/html": [
       "<style type=\"text/css\">\n",
       "#T_1ee77_row4_col0, #T_1ee77_row4_col1, #T_1ee77_row4_col2, #T_1ee77_row4_col3, #T_1ee77_row4_col4, #T_1ee77_row4_col5, #T_1ee77_row4_col6 {\n",
       "  background: yellow;\n",
       "}\n",
       "</style>\n",
       "<table id=\"T_1ee77\">\n",
       "  <thead>\n",
       "    <tr>\n",
       "      <th class=\"blank level0\" >&nbsp;</th>\n",
       "      <th id=\"T_1ee77_level0_col0\" class=\"col_heading level0 col0\" >Accuracy</th>\n",
       "      <th id=\"T_1ee77_level0_col1\" class=\"col_heading level0 col1\" >AUC</th>\n",
       "      <th id=\"T_1ee77_level0_col2\" class=\"col_heading level0 col2\" >Recall</th>\n",
       "      <th id=\"T_1ee77_level0_col3\" class=\"col_heading level0 col3\" >Prec.</th>\n",
       "      <th id=\"T_1ee77_level0_col4\" class=\"col_heading level0 col4\" >F1</th>\n",
       "      <th id=\"T_1ee77_level0_col5\" class=\"col_heading level0 col5\" >Kappa</th>\n",
       "      <th id=\"T_1ee77_level0_col6\" class=\"col_heading level0 col6\" >MCC</th>\n",
       "    </tr>\n",
       "    <tr>\n",
       "      <th class=\"index_name level0\" >Fold</th>\n",
       "      <th class=\"blank col0\" >&nbsp;</th>\n",
       "      <th class=\"blank col1\" >&nbsp;</th>\n",
       "      <th class=\"blank col2\" >&nbsp;</th>\n",
       "      <th class=\"blank col3\" >&nbsp;</th>\n",
       "      <th class=\"blank col4\" >&nbsp;</th>\n",
       "      <th class=\"blank col5\" >&nbsp;</th>\n",
       "      <th class=\"blank col6\" >&nbsp;</th>\n",
       "    </tr>\n",
       "  </thead>\n",
       "  <tbody>\n",
       "    <tr>\n",
       "      <th id=\"T_1ee77_level0_row0\" class=\"row_heading level0 row0\" >0</th>\n",
       "      <td id=\"T_1ee77_row0_col0\" class=\"data row0 col0\" >0.7863</td>\n",
       "      <td id=\"T_1ee77_row0_col1\" class=\"data row0 col1\" >0.8480</td>\n",
       "      <td id=\"T_1ee77_row0_col2\" class=\"data row0 col2\" >0.7698</td>\n",
       "      <td id=\"T_1ee77_row0_col3\" class=\"data row0 col3\" >0.8017</td>\n",
       "      <td id=\"T_1ee77_row0_col4\" class=\"data row0 col4\" >0.7854</td>\n",
       "      <td id=\"T_1ee77_row0_col5\" class=\"data row0 col5\" >0.5727</td>\n",
       "      <td id=\"T_1ee77_row0_col6\" class=\"data row0 col6\" >0.5732</td>\n",
       "    </tr>\n",
       "    <tr>\n",
       "      <th id=\"T_1ee77_level0_row1\" class=\"row_heading level0 row1\" >1</th>\n",
       "      <td id=\"T_1ee77_row1_col0\" class=\"data row1 col0\" >0.7782</td>\n",
       "      <td id=\"T_1ee77_row1_col1\" class=\"data row1 col1\" >0.8297</td>\n",
       "      <td id=\"T_1ee77_row1_col2\" class=\"data row1 col2\" >0.8016</td>\n",
       "      <td id=\"T_1ee77_row1_col3\" class=\"data row1 col3\" >0.7710</td>\n",
       "      <td id=\"T_1ee77_row1_col4\" class=\"data row1 col4\" >0.7860</td>\n",
       "      <td id=\"T_1ee77_row1_col5\" class=\"data row1 col5\" >0.5560</td>\n",
       "      <td id=\"T_1ee77_row1_col6\" class=\"data row1 col6\" >0.5565</td>\n",
       "    </tr>\n",
       "    <tr>\n",
       "      <th id=\"T_1ee77_level0_row2\" class=\"row_heading level0 row2\" >2</th>\n",
       "      <td id=\"T_1ee77_row2_col0\" class=\"data row2 col0\" >0.7206</td>\n",
       "      <td id=\"T_1ee77_row2_col1\" class=\"data row2 col1\" >0.8028</td>\n",
       "      <td id=\"T_1ee77_row2_col2\" class=\"data row2 col2\" >0.7381</td>\n",
       "      <td id=\"T_1ee77_row2_col3\" class=\"data row2 col3\" >0.7209</td>\n",
       "      <td id=\"T_1ee77_row2_col4\" class=\"data row2 col4\" >0.7294</td>\n",
       "      <td id=\"T_1ee77_row2_col5\" class=\"data row2 col5\" >0.4408</td>\n",
       "      <td id=\"T_1ee77_row2_col6\" class=\"data row2 col6\" >0.4409</td>\n",
       "    </tr>\n",
       "    <tr>\n",
       "      <th id=\"T_1ee77_level0_row3\" class=\"row_heading level0 row3\" >3</th>\n",
       "      <td id=\"T_1ee77_row3_col0\" class=\"data row3 col0\" >0.7449</td>\n",
       "      <td id=\"T_1ee77_row3_col1\" class=\"data row3 col1\" >0.8218</td>\n",
       "      <td id=\"T_1ee77_row3_col2\" class=\"data row3 col2\" >0.6960</td>\n",
       "      <td id=\"T_1ee77_row3_col3\" class=\"data row3 col3\" >0.7768</td>\n",
       "      <td id=\"T_1ee77_row3_col4\" class=\"data row3 col4\" >0.7342</td>\n",
       "      <td id=\"T_1ee77_row3_col5\" class=\"data row3 col5\" >0.4905</td>\n",
       "      <td id=\"T_1ee77_row3_col6\" class=\"data row3 col6\" >0.4932</td>\n",
       "    </tr>\n",
       "    <tr>\n",
       "      <th id=\"T_1ee77_level0_row4\" class=\"row_heading level0 row4\" >Mean</th>\n",
       "      <td id=\"T_1ee77_row4_col0\" class=\"data row4 col0\" >0.7575</td>\n",
       "      <td id=\"T_1ee77_row4_col1\" class=\"data row4 col1\" >0.8256</td>\n",
       "      <td id=\"T_1ee77_row4_col2\" class=\"data row4 col2\" >0.7514</td>\n",
       "      <td id=\"T_1ee77_row4_col3\" class=\"data row4 col3\" >0.7676</td>\n",
       "      <td id=\"T_1ee77_row4_col4\" class=\"data row4 col4\" >0.7588</td>\n",
       "      <td id=\"T_1ee77_row4_col5\" class=\"data row4 col5\" >0.5150</td>\n",
       "      <td id=\"T_1ee77_row4_col6\" class=\"data row4 col6\" >0.5160</td>\n",
       "    </tr>\n",
       "    <tr>\n",
       "      <th id=\"T_1ee77_level0_row5\" class=\"row_heading level0 row5\" >Std</th>\n",
       "      <td id=\"T_1ee77_row5_col0\" class=\"data row5 col0\" >0.0263</td>\n",
       "      <td id=\"T_1ee77_row5_col1\" class=\"data row5 col1\" >0.0162</td>\n",
       "      <td id=\"T_1ee77_row5_col2\" class=\"data row5 col2\" >0.0391</td>\n",
       "      <td id=\"T_1ee77_row5_col3\" class=\"data row5 col3\" >0.0293</td>\n",
       "      <td id=\"T_1ee77_row5_col4\" class=\"data row5 col4\" >0.0270</td>\n",
       "      <td id=\"T_1ee77_row5_col5\" class=\"data row5 col5\" >0.0527</td>\n",
       "      <td id=\"T_1ee77_row5_col6\" class=\"data row5 col6\" >0.0526</td>\n",
       "    </tr>\n",
       "  </tbody>\n",
       "</table>\n"
      ],
      "text/plain": [
       "<pandas.io.formats.style.Styler at 0x16484fc90>"
      ]
     },
     "metadata": {},
     "output_type": "display_data"
    },
    {
     "data": {
      "text/html": [],
      "text/plain": [
       "<IPython.core.display.HTML object>"
      ]
     },
     "metadata": {},
     "output_type": "display_data"
    },
    {
     "name": "stdout",
     "output_type": "stream",
     "text": [
      "Fitting 4 folds for each of 1 candidates, totalling 4 fits\n",
      "Fitting 4 folds for each of 1 candidates, totalling 4 fits\n",
      "Fitting 4 folds for each of 1 candidates, totalling 4 fits\n",
      "Fitting 4 folds for each of 1 candidates, totalling 4 fits\n",
      "Fitting 4 folds for each of 1 candidates, totalling 4 fits\n",
      "Fitting 4 folds for each of 1 candidates, totalling 4 fits\n",
      "Fitting 4 folds for each of 1 candidates, totalling 4 fits\n",
      "Fitting 4 folds for each of 1 candidates, totalling 4 fits\n",
      "Fitting 4 folds for each of 1 candidates, totalling 4 fits\n",
      "Fitting 4 folds for each of 1 candidates, totalling 4 fits\n",
      "Fitting 4 folds for each of 1 candidates, totalling 4 fits\n",
      "Fitting 4 folds for each of 1 candidates, totalling 4 fits\n",
      "Fitting 4 folds for each of 1 candidates, totalling 4 fits\n",
      "Fitting 4 folds for each of 1 candidates, totalling 4 fits\n",
      "Fitting 4 folds for each of 1 candidates, totalling 4 fits\n",
      "Fitting 4 folds for each of 1 candidates, totalling 4 fits\n",
      "Fitting 4 folds for each of 1 candidates, totalling 4 fits\n",
      "Fitting 4 folds for each of 1 candidates, totalling 4 fits\n",
      "Fitting 4 folds for each of 1 candidates, totalling 4 fits\n",
      "Fitting 4 folds for each of 1 candidates, totalling 4 fits\n",
      "Fitting 4 folds for each of 1 candidates, totalling 4 fits\n",
      "Fitting 4 folds for each of 1 candidates, totalling 4 fits\n",
      "Fitting 4 folds for each of 1 candidates, totalling 4 fits\n",
      "Fitting 4 folds for each of 1 candidates, totalling 4 fits\n",
      "Fitting 4 folds for each of 1 candidates, totalling 4 fits\n"
     ]
    }
   ],
   "source": [
    "swefi.fine_tune_selected_models(\n",
    "    hpo_n_fold=hpo_n_fold,\n",
    "    hpo_n_iter=hpo_n_iter,\n",
    "    hpo_metric=hpo_metric,\n",
    "    hpo_search_algorithm=hpo_search_algorithm,\n",
    "    hpo_search_library=hpo_search_library\n",
    ");"
   ]
  },
  {
   "cell_type": "code",
   "execution_count": 21,
   "metadata": {},
   "outputs": [
    {
     "data": {
      "text/plain": [
       "<__main__.SWEFI at 0x167ee2350>"
      ]
     },
     "execution_count": 21,
     "metadata": {},
     "output_type": "execute_result"
    }
   ],
   "source": [
    "swefi.select_univariate_analysis_measurements(measurements=[\n",
    "        # UAMeasure.SPEARMAN.value,\n",
    "        # UAMeasure.PEARSON.value,\n",
    "        # UAMeasure.KENDAL_TAU.value,\n",
    "        UAMeasure.MUTUAL_INFORMATION.value,\n",
    "        UAMeasure.ANOVA_F.value,\n",
    "    ]\n",
    ")"
   ]
  },
  {
   "cell_type": "code",
   "execution_count": 22,
   "metadata": {},
   "outputs": [
    {
     "data": {
      "application/vnd.jupyter.widget-view+json": {
       "model_id": "0cf8edc02dff4bb3b5816ee01cc0295d",
       "version_major": 2,
       "version_minor": 0
      },
      "text/plain": [
       "  0%|          | 0/5 [00:00<?, ?it/s]"
      ]
     },
     "metadata": {},
     "output_type": "display_data"
    },
    {
     "ename": "KeyboardInterrupt",
     "evalue": "",
     "output_type": "error",
     "traceback": [
      "\u001b[0;31m---------------------------------------------------------------------------\u001b[0m",
      "\u001b[0;31mKeyboardInterrupt\u001b[0m                         Traceback (most recent call last)",
      "Cell \u001b[0;32mIn[22], line 1\u001b[0m\n\u001b[0;32m----> 1\u001b[0m swefi\u001b[38;5;241m.\u001b[39mcompute_feature_importance_data(bootstrap_method\u001b[38;5;241m=\u001b[39mbootstrap_method, n_iteration\u001b[38;5;241m=\u001b[39mn_iteration, n_repeats\u001b[38;5;241m=\u001b[39m\u001b[38;5;241m10\u001b[39m)\n",
      "Cell \u001b[0;32mIn[15], line 246\u001b[0m, in \u001b[0;36mSWEFI.compute_feature_importance_data\u001b[0;34m(self, bootstrap_method, n_iteration, n_repeats)\u001b[0m\n\u001b[1;32m    243\u001b[0m     result \u001b[38;5;241m=\u001b[39m feature_importance_SFI(model, X_train, y_train, n_splits\u001b[38;5;241m=\u001b[39mn_repeats)\u001b[38;5;241m.\u001b[39mvalues\n\u001b[1;32m    245\u001b[0m \u001b[38;5;28;01melif\u001b[39;00m proper_fi_model \u001b[38;5;241m==\u001b[39m FIModel\u001b[38;5;241m.\u001b[39mRFE_BASED\u001b[38;5;241m.\u001b[39mvalue:\n\u001b[0;32m--> 246\u001b[0m     result \u001b[38;5;241m=\u001b[39m feature_importance_RFE(model, X_train, y_train,)\u001b[38;5;241m.\u001b[39mvalues\n\u001b[1;32m    248\u001b[0m \u001b[38;5;66;03m# Normalize\u001b[39;00m\n\u001b[1;32m    249\u001b[0m result \u001b[38;5;241m=\u001b[39m (result \u001b[38;5;241m-\u001b[39m result\u001b[38;5;241m.\u001b[39mmin()) \u001b[38;5;241m/\u001b[39m (result\u001b[38;5;241m.\u001b[39mmax() \u001b[38;5;241m-\u001b[39m result\u001b[38;5;241m.\u001b[39mmin()) \n",
      "Cell \u001b[0;32mIn[14], line 49\u001b[0m, in \u001b[0;36mfeature_importance_RFE\u001b[0;34m(classifier, X, y)\u001b[0m\n\u001b[1;32m     38\u001b[0m \u001b[38;5;28;01mdef\u001b[39;00m \u001b[38;5;21mfeature_importance_RFE\u001b[39m(\n\u001b[1;32m     39\u001b[0m     classifier,\n\u001b[1;32m     40\u001b[0m     X,\n\u001b[1;32m     41\u001b[0m     y,\n\u001b[1;32m     42\u001b[0m ) \u001b[38;5;241m-\u001b[39m\u001b[38;5;241m>\u001b[39m pd\u001b[38;5;241m.\u001b[39mDataFrame:\n\u001b[1;32m     43\u001b[0m     rfe \u001b[38;5;241m=\u001b[39m RFE(\n\u001b[1;32m     44\u001b[0m         estimator\u001b[38;5;241m=\u001b[39mclassifier,\n\u001b[1;32m     45\u001b[0m         verbose\u001b[38;5;241m=\u001b[39m\u001b[38;5;241m0\u001b[39m,\n\u001b[1;32m     46\u001b[0m         n_features_to_select\u001b[38;5;241m=\u001b[39m\u001b[38;5;241m1\u001b[39m,    \n\u001b[1;32m     47\u001b[0m     )\n\u001b[0;32m---> 49\u001b[0m     rfe\u001b[38;5;241m.\u001b[39mfit(X, y)\n\u001b[1;32m     51\u001b[0m     inverted_ranking \u001b[38;5;241m=\u001b[39m np\u001b[38;5;241m.\u001b[39mmax(rfe\u001b[38;5;241m.\u001b[39mranking_) \u001b[38;5;241m-\u001b[39m rfe\u001b[38;5;241m.\u001b[39mranking_ \u001b[38;5;241m+\u001b[39m \u001b[38;5;241m1\u001b[39m\n\u001b[1;32m     53\u001b[0m     normalized_importance \u001b[38;5;241m=\u001b[39m minmax_scale(inverted_ranking)\n",
      "File \u001b[0;32m~/anaconda3/lib/python3.11/site-packages/sklearn/base.py:1474\u001b[0m, in \u001b[0;36m_fit_context.<locals>.decorator.<locals>.wrapper\u001b[0;34m(estimator, *args, **kwargs)\u001b[0m\n\u001b[1;32m   1467\u001b[0m     estimator\u001b[38;5;241m.\u001b[39m_validate_params()\n\u001b[1;32m   1469\u001b[0m \u001b[38;5;28;01mwith\u001b[39;00m config_context(\n\u001b[1;32m   1470\u001b[0m     skip_parameter_validation\u001b[38;5;241m=\u001b[39m(\n\u001b[1;32m   1471\u001b[0m         prefer_skip_nested_validation \u001b[38;5;129;01mor\u001b[39;00m global_skip_validation\n\u001b[1;32m   1472\u001b[0m     )\n\u001b[1;32m   1473\u001b[0m ):\n\u001b[0;32m-> 1474\u001b[0m     \u001b[38;5;28;01mreturn\u001b[39;00m fit_method(estimator, \u001b[38;5;241m*\u001b[39margs, \u001b[38;5;241m*\u001b[39m\u001b[38;5;241m*\u001b[39mkwargs)\n",
      "File \u001b[0;32m~/anaconda3/lib/python3.11/site-packages/sklearn/feature_selection/_rfe.py:264\u001b[0m, in \u001b[0;36mRFE.fit\u001b[0;34m(self, X, y, **fit_params)\u001b[0m\n\u001b[1;32m    244\u001b[0m \u001b[38;5;250m\u001b[39m\u001b[38;5;124;03m\"\"\"Fit the RFE model and then the underlying estimator on the selected features.\u001b[39;00m\n\u001b[1;32m    245\u001b[0m \n\u001b[1;32m    246\u001b[0m \u001b[38;5;124;03mParameters\u001b[39;00m\n\u001b[0;32m   (...)\u001b[0m\n\u001b[1;32m    261\u001b[0m \u001b[38;5;124;03m    Fitted estimator.\u001b[39;00m\n\u001b[1;32m    262\u001b[0m \u001b[38;5;124;03m\"\"\"\u001b[39;00m\n\u001b[1;32m    263\u001b[0m _raise_for_unsupported_routing(\u001b[38;5;28mself\u001b[39m, \u001b[38;5;124m\"\u001b[39m\u001b[38;5;124mfit\u001b[39m\u001b[38;5;124m\"\u001b[39m, \u001b[38;5;241m*\u001b[39m\u001b[38;5;241m*\u001b[39mfit_params)\n\u001b[0;32m--> 264\u001b[0m \u001b[38;5;28;01mreturn\u001b[39;00m \u001b[38;5;28mself\u001b[39m\u001b[38;5;241m.\u001b[39m_fit(X, y, \u001b[38;5;241m*\u001b[39m\u001b[38;5;241m*\u001b[39mfit_params)\n",
      "File \u001b[0;32m~/anaconda3/lib/python3.11/site-packages/sklearn/feature_selection/_rfe.py:311\u001b[0m, in \u001b[0;36mRFE._fit\u001b[0;34m(self, X, y, step_score, **fit_params)\u001b[0m\n\u001b[1;32m    308\u001b[0m \u001b[38;5;28;01mif\u001b[39;00m \u001b[38;5;28mself\u001b[39m\u001b[38;5;241m.\u001b[39mverbose \u001b[38;5;241m>\u001b[39m \u001b[38;5;241m0\u001b[39m:\n\u001b[1;32m    309\u001b[0m     \u001b[38;5;28mprint\u001b[39m(\u001b[38;5;124m\"\u001b[39m\u001b[38;5;124mFitting estimator with \u001b[39m\u001b[38;5;132;01m%d\u001b[39;00m\u001b[38;5;124m features.\u001b[39m\u001b[38;5;124m\"\u001b[39m \u001b[38;5;241m%\u001b[39m np\u001b[38;5;241m.\u001b[39msum(support_))\n\u001b[0;32m--> 311\u001b[0m estimator\u001b[38;5;241m.\u001b[39mfit(X[:, features], y, \u001b[38;5;241m*\u001b[39m\u001b[38;5;241m*\u001b[39mfit_params)\n\u001b[1;32m    313\u001b[0m \u001b[38;5;66;03m# Get importance and rank them\u001b[39;00m\n\u001b[1;32m    314\u001b[0m importances \u001b[38;5;241m=\u001b[39m _get_feature_importances(\n\u001b[1;32m    315\u001b[0m     estimator,\n\u001b[1;32m    316\u001b[0m     \u001b[38;5;28mself\u001b[39m\u001b[38;5;241m.\u001b[39mimportance_getter,\n\u001b[1;32m    317\u001b[0m     transform_func\u001b[38;5;241m=\u001b[39m\u001b[38;5;124m\"\u001b[39m\u001b[38;5;124msquare\u001b[39m\u001b[38;5;124m\"\u001b[39m,\n\u001b[1;32m    318\u001b[0m )\n",
      "File \u001b[0;32m~/anaconda3/lib/python3.11/site-packages/sklearn/base.py:1474\u001b[0m, in \u001b[0;36m_fit_context.<locals>.decorator.<locals>.wrapper\u001b[0;34m(estimator, *args, **kwargs)\u001b[0m\n\u001b[1;32m   1467\u001b[0m     estimator\u001b[38;5;241m.\u001b[39m_validate_params()\n\u001b[1;32m   1469\u001b[0m \u001b[38;5;28;01mwith\u001b[39;00m config_context(\n\u001b[1;32m   1470\u001b[0m     skip_parameter_validation\u001b[38;5;241m=\u001b[39m(\n\u001b[1;32m   1471\u001b[0m         prefer_skip_nested_validation \u001b[38;5;129;01mor\u001b[39;00m global_skip_validation\n\u001b[1;32m   1472\u001b[0m     )\n\u001b[1;32m   1473\u001b[0m ):\n\u001b[0;32m-> 1474\u001b[0m     \u001b[38;5;28;01mreturn\u001b[39;00m fit_method(estimator, \u001b[38;5;241m*\u001b[39margs, \u001b[38;5;241m*\u001b[39m\u001b[38;5;241m*\u001b[39mkwargs)\n",
      "File \u001b[0;32m~/anaconda3/lib/python3.11/site-packages/sklearn/ensemble/_forest.py:489\u001b[0m, in \u001b[0;36mBaseForest.fit\u001b[0;34m(self, X, y, sample_weight)\u001b[0m\n\u001b[1;32m    478\u001b[0m trees \u001b[38;5;241m=\u001b[39m [\n\u001b[1;32m    479\u001b[0m     \u001b[38;5;28mself\u001b[39m\u001b[38;5;241m.\u001b[39m_make_estimator(append\u001b[38;5;241m=\u001b[39m\u001b[38;5;28;01mFalse\u001b[39;00m, random_state\u001b[38;5;241m=\u001b[39mrandom_state)\n\u001b[1;32m    480\u001b[0m     \u001b[38;5;28;01mfor\u001b[39;00m i \u001b[38;5;129;01min\u001b[39;00m \u001b[38;5;28mrange\u001b[39m(n_more_estimators)\n\u001b[1;32m    481\u001b[0m ]\n\u001b[1;32m    483\u001b[0m \u001b[38;5;66;03m# Parallel loop: we prefer the threading backend as the Cython code\u001b[39;00m\n\u001b[1;32m    484\u001b[0m \u001b[38;5;66;03m# for fitting the trees is internally releasing the Python GIL\u001b[39;00m\n\u001b[1;32m    485\u001b[0m \u001b[38;5;66;03m# making threading more efficient than multiprocessing in\u001b[39;00m\n\u001b[1;32m    486\u001b[0m \u001b[38;5;66;03m# that case. However, for joblib 0.12+ we respect any\u001b[39;00m\n\u001b[1;32m    487\u001b[0m \u001b[38;5;66;03m# parallel_backend contexts set at a higher level,\u001b[39;00m\n\u001b[1;32m    488\u001b[0m \u001b[38;5;66;03m# since correctness does not rely on using threads.\u001b[39;00m\n\u001b[0;32m--> 489\u001b[0m trees \u001b[38;5;241m=\u001b[39m Parallel(\n\u001b[1;32m    490\u001b[0m     n_jobs\u001b[38;5;241m=\u001b[39m\u001b[38;5;28mself\u001b[39m\u001b[38;5;241m.\u001b[39mn_jobs,\n\u001b[1;32m    491\u001b[0m     verbose\u001b[38;5;241m=\u001b[39m\u001b[38;5;28mself\u001b[39m\u001b[38;5;241m.\u001b[39mverbose,\n\u001b[1;32m    492\u001b[0m     prefer\u001b[38;5;241m=\u001b[39m\u001b[38;5;124m\"\u001b[39m\u001b[38;5;124mthreads\u001b[39m\u001b[38;5;124m\"\u001b[39m,\n\u001b[1;32m    493\u001b[0m )(\n\u001b[1;32m    494\u001b[0m     delayed(_parallel_build_trees)(\n\u001b[1;32m    495\u001b[0m         t,\n\u001b[1;32m    496\u001b[0m         \u001b[38;5;28mself\u001b[39m\u001b[38;5;241m.\u001b[39mbootstrap,\n\u001b[1;32m    497\u001b[0m         X,\n\u001b[1;32m    498\u001b[0m         y,\n\u001b[1;32m    499\u001b[0m         sample_weight,\n\u001b[1;32m    500\u001b[0m         i,\n\u001b[1;32m    501\u001b[0m         \u001b[38;5;28mlen\u001b[39m(trees),\n\u001b[1;32m    502\u001b[0m         verbose\u001b[38;5;241m=\u001b[39m\u001b[38;5;28mself\u001b[39m\u001b[38;5;241m.\u001b[39mverbose,\n\u001b[1;32m    503\u001b[0m         class_weight\u001b[38;5;241m=\u001b[39m\u001b[38;5;28mself\u001b[39m\u001b[38;5;241m.\u001b[39mclass_weight,\n\u001b[1;32m    504\u001b[0m         n_samples_bootstrap\u001b[38;5;241m=\u001b[39mn_samples_bootstrap,\n\u001b[1;32m    505\u001b[0m         missing_values_in_feature_mask\u001b[38;5;241m=\u001b[39mmissing_values_in_feature_mask,\n\u001b[1;32m    506\u001b[0m     )\n\u001b[1;32m    507\u001b[0m     \u001b[38;5;28;01mfor\u001b[39;00m i, t \u001b[38;5;129;01min\u001b[39;00m \u001b[38;5;28menumerate\u001b[39m(trees)\n\u001b[1;32m    508\u001b[0m )\n\u001b[1;32m    510\u001b[0m \u001b[38;5;66;03m# Collect newly grown trees\u001b[39;00m\n\u001b[1;32m    511\u001b[0m \u001b[38;5;28mself\u001b[39m\u001b[38;5;241m.\u001b[39mestimators_\u001b[38;5;241m.\u001b[39mextend(trees)\n",
      "File \u001b[0;32m~/anaconda3/lib/python3.11/site-packages/sklearn/utils/parallel.py:67\u001b[0m, in \u001b[0;36mParallel.__call__\u001b[0;34m(self, iterable)\u001b[0m\n\u001b[1;32m     62\u001b[0m config \u001b[38;5;241m=\u001b[39m get_config()\n\u001b[1;32m     63\u001b[0m iterable_with_config \u001b[38;5;241m=\u001b[39m (\n\u001b[1;32m     64\u001b[0m     (_with_config(delayed_func, config), args, kwargs)\n\u001b[1;32m     65\u001b[0m     \u001b[38;5;28;01mfor\u001b[39;00m delayed_func, args, kwargs \u001b[38;5;129;01min\u001b[39;00m iterable\n\u001b[1;32m     66\u001b[0m )\n\u001b[0;32m---> 67\u001b[0m \u001b[38;5;28;01mreturn\u001b[39;00m \u001b[38;5;28msuper\u001b[39m()\u001b[38;5;241m.\u001b[39m\u001b[38;5;21m__call__\u001b[39m(iterable_with_config)\n",
      "File \u001b[0;32m~/anaconda3/lib/python3.11/site-packages/joblib/parallel.py:1098\u001b[0m, in \u001b[0;36mParallel.__call__\u001b[0;34m(self, iterable)\u001b[0m\n\u001b[1;32m   1095\u001b[0m     \u001b[38;5;28mself\u001b[39m\u001b[38;5;241m.\u001b[39m_iterating \u001b[38;5;241m=\u001b[39m \u001b[38;5;28;01mFalse\u001b[39;00m\n\u001b[1;32m   1097\u001b[0m \u001b[38;5;28;01mwith\u001b[39;00m \u001b[38;5;28mself\u001b[39m\u001b[38;5;241m.\u001b[39m_backend\u001b[38;5;241m.\u001b[39mretrieval_context():\n\u001b[0;32m-> 1098\u001b[0m     \u001b[38;5;28mself\u001b[39m\u001b[38;5;241m.\u001b[39mretrieve()\n\u001b[1;32m   1099\u001b[0m \u001b[38;5;66;03m# Make sure that we get a last message telling us we are done\u001b[39;00m\n\u001b[1;32m   1100\u001b[0m elapsed_time \u001b[38;5;241m=\u001b[39m time\u001b[38;5;241m.\u001b[39mtime() \u001b[38;5;241m-\u001b[39m \u001b[38;5;28mself\u001b[39m\u001b[38;5;241m.\u001b[39m_start_time\n",
      "File \u001b[0;32m~/anaconda3/lib/python3.11/site-packages/joblib/parallel.py:975\u001b[0m, in \u001b[0;36mParallel.retrieve\u001b[0;34m(self)\u001b[0m\n\u001b[1;32m    973\u001b[0m \u001b[38;5;28;01mtry\u001b[39;00m:\n\u001b[1;32m    974\u001b[0m     \u001b[38;5;28;01mif\u001b[39;00m \u001b[38;5;28mgetattr\u001b[39m(\u001b[38;5;28mself\u001b[39m\u001b[38;5;241m.\u001b[39m_backend, \u001b[38;5;124m'\u001b[39m\u001b[38;5;124msupports_timeout\u001b[39m\u001b[38;5;124m'\u001b[39m, \u001b[38;5;28;01mFalse\u001b[39;00m):\n\u001b[0;32m--> 975\u001b[0m         \u001b[38;5;28mself\u001b[39m\u001b[38;5;241m.\u001b[39m_output\u001b[38;5;241m.\u001b[39mextend(job\u001b[38;5;241m.\u001b[39mget(timeout\u001b[38;5;241m=\u001b[39m\u001b[38;5;28mself\u001b[39m\u001b[38;5;241m.\u001b[39mtimeout))\n\u001b[1;32m    976\u001b[0m     \u001b[38;5;28;01melse\u001b[39;00m:\n\u001b[1;32m    977\u001b[0m         \u001b[38;5;28mself\u001b[39m\u001b[38;5;241m.\u001b[39m_output\u001b[38;5;241m.\u001b[39mextend(job\u001b[38;5;241m.\u001b[39mget())\n",
      "File \u001b[0;32m~/anaconda3/lib/python3.11/multiprocessing/pool.py:768\u001b[0m, in \u001b[0;36mApplyResult.get\u001b[0;34m(self, timeout)\u001b[0m\n\u001b[1;32m    767\u001b[0m \u001b[38;5;28;01mdef\u001b[39;00m \u001b[38;5;21mget\u001b[39m(\u001b[38;5;28mself\u001b[39m, timeout\u001b[38;5;241m=\u001b[39m\u001b[38;5;28;01mNone\u001b[39;00m):\n\u001b[0;32m--> 768\u001b[0m     \u001b[38;5;28mself\u001b[39m\u001b[38;5;241m.\u001b[39mwait(timeout)\n\u001b[1;32m    769\u001b[0m     \u001b[38;5;28;01mif\u001b[39;00m \u001b[38;5;129;01mnot\u001b[39;00m \u001b[38;5;28mself\u001b[39m\u001b[38;5;241m.\u001b[39mready():\n\u001b[1;32m    770\u001b[0m         \u001b[38;5;28;01mraise\u001b[39;00m \u001b[38;5;167;01mTimeoutError\u001b[39;00m\n",
      "File \u001b[0;32m~/anaconda3/lib/python3.11/multiprocessing/pool.py:765\u001b[0m, in \u001b[0;36mApplyResult.wait\u001b[0;34m(self, timeout)\u001b[0m\n\u001b[1;32m    764\u001b[0m \u001b[38;5;28;01mdef\u001b[39;00m \u001b[38;5;21mwait\u001b[39m(\u001b[38;5;28mself\u001b[39m, timeout\u001b[38;5;241m=\u001b[39m\u001b[38;5;28;01mNone\u001b[39;00m):\n\u001b[0;32m--> 765\u001b[0m     \u001b[38;5;28mself\u001b[39m\u001b[38;5;241m.\u001b[39m_event\u001b[38;5;241m.\u001b[39mwait(timeout)\n",
      "File \u001b[0;32m~/anaconda3/lib/python3.11/threading.py:622\u001b[0m, in \u001b[0;36mEvent.wait\u001b[0;34m(self, timeout)\u001b[0m\n\u001b[1;32m    620\u001b[0m signaled \u001b[38;5;241m=\u001b[39m \u001b[38;5;28mself\u001b[39m\u001b[38;5;241m.\u001b[39m_flag\n\u001b[1;32m    621\u001b[0m \u001b[38;5;28;01mif\u001b[39;00m \u001b[38;5;129;01mnot\u001b[39;00m signaled:\n\u001b[0;32m--> 622\u001b[0m     signaled \u001b[38;5;241m=\u001b[39m \u001b[38;5;28mself\u001b[39m\u001b[38;5;241m.\u001b[39m_cond\u001b[38;5;241m.\u001b[39mwait(timeout)\n\u001b[1;32m    623\u001b[0m \u001b[38;5;28;01mreturn\u001b[39;00m signaled\n",
      "File \u001b[0;32m~/anaconda3/lib/python3.11/threading.py:320\u001b[0m, in \u001b[0;36mCondition.wait\u001b[0;34m(self, timeout)\u001b[0m\n\u001b[1;32m    318\u001b[0m \u001b[38;5;28;01mtry\u001b[39;00m:    \u001b[38;5;66;03m# restore state no matter what (e.g., KeyboardInterrupt)\u001b[39;00m\n\u001b[1;32m    319\u001b[0m     \u001b[38;5;28;01mif\u001b[39;00m timeout \u001b[38;5;129;01mis\u001b[39;00m \u001b[38;5;28;01mNone\u001b[39;00m:\n\u001b[0;32m--> 320\u001b[0m         waiter\u001b[38;5;241m.\u001b[39macquire()\n\u001b[1;32m    321\u001b[0m         gotit \u001b[38;5;241m=\u001b[39m \u001b[38;5;28;01mTrue\u001b[39;00m\n\u001b[1;32m    322\u001b[0m     \u001b[38;5;28;01melse\u001b[39;00m:\n",
      "\u001b[0;31mKeyboardInterrupt\u001b[0m: "
     ]
    }
   ],
   "source": [
    "swefi.compute_feature_importance_data(bootstrap_method=bootstrap_method, n_iteration=n_iteration, n_repeats=10);"
   ]
  },
  {
   "cell_type": "code",
   "execution_count": null,
   "metadata": {},
   "outputs": [
    {
     "data": {
      "application/vnd.plotly.v1+json": {
       "config": {
        "plotlyServerURL": "https://plot.ly"
       },
       "data": [
        {
         "error_y": {
          "array": [
           0.000004996260772591373,
           0.000005682031958311496,
           0.000008809584622902013,
           0.00001478714818957474,
           0.00001804880784041911,
           0.000019903199408448584,
           0.000018470477728504526,
           0.00002129894542904328,
           0.00002313888107218226,
           0.000028113955523470484,
           0.00030177265490112455,
           0.0003528754004930333,
           0.0003409745756171752,
           0.0004127176379956558,
           0.00046630494855534046,
           0.00047923679460196096,
           0.0005500467746851053,
           0.0005280543572977916,
           0.0004985824762676977,
           0.0004358408039684708,
           0.0005508724019327721,
           0.0006089336987865529,
           0.0006472712531498164,
           0.0008897238822607507,
           0.000677191018335292,
           0.0009710708513694349,
           0.0008893012105622237,
           0.000913348228545793,
           0.0010139990448463719,
           0.0009782103269360125,
           0.0009403914219779744,
           0.0009484887030539923,
           0.0010541352213677118,
           0.0008502332378892617,
           0.000876723424925053,
           0.0011156288958892697,
           0.0010419973063761142,
           0.001017340444740948,
           0.0009228435465801079,
           0.000977683703766223,
           0.0010233414736212762,
           0.0009508029225084335,
           0.0011933938753726447,
           0.0010510911641031598,
           0.0010969491826151169,
           0.0010878049982313072,
           0.0010517014035802221,
           0.0011154252341148791,
           0.00110953232266516,
           0.00122792645987856,
           0.0010631412809844207,
           0.0010703923126784015,
           0.0011524701079277165,
           0.0013383431680362794,
           0.0012388581089126883,
           0.001434525717142608,
           0.0012513785048326534,
           0.0013684270467591226,
           0.0011932022752994252,
           0.001303388284227671
          ],
          "type": "data"
         },
         "type": "bar",
         "x": [
          "N4 lag1",
          "N4 lag0",
          "N3 lag1",
          "N0 lag1",
          "N2 lag1",
          "N0 lag0",
          "N1 lag1",
          "N1 lag0",
          "N3 lag0",
          "N2 lag0",
          "R6 from I3 lag0",
          "R1 from I3 lag0",
          "R5 from I1 lag0",
          "R12 from I3 lag1",
          "R11 from I3 lag1",
          "R17 from I3 lag0",
          "R17 from I3 lag1",
          "R11 from I3 lag0",
          "R12 from I3 lag0",
          "I1 lag0",
          "R6 from I3 lag1",
          "R16 from I1 lag0",
          "R7 from I1 lag0",
          "R2 from I4 lag1",
          "I3 lag1",
          "R10 from I0 lag1",
          "R9 from I4 lag0",
          "R13 from I2 lag0",
          "R14 from I0 lag1",
          "R0 from I0 lag0",
          "R5 from I1 lag1",
          "R18 from I4 lag1",
          "I4 lag1",
          "R16 from I1 lag1",
          "R1 from I3 lag1",
          "R4 from I0 lag0",
          "R19 from I0 lag1",
          "R15 from I4 lag0",
          "I3 lag0",
          "R7 from I1 lag1",
          "R4 from I0 lag1",
          "R3 from I2 lag0",
          "R15 from I4 lag1",
          "R10 from I0 lag0",
          "I0 lag1",
          "I1 lag1",
          "R3 from I2 lag1",
          "R0 from I0 lag1",
          "R13 from I2 lag1",
          "R14 from I0 lag0",
          "R8 from I2 lag1",
          "R9 from I4 lag1",
          "I2 lag0",
          "R18 from I4 lag0",
          "R2 from I4 lag0",
          "I4 lag0",
          "I2 lag1",
          "R19 from I0 lag0",
          "R8 from I2 lag0",
          "I0 lag0"
         ],
         "y": [
          0.00004548914105169207,
          0.000053597036911745154,
          0.0000780971799167194,
          0.00011267512797094871,
          0.00014706954326799556,
          0.0001607213831415601,
          0.00016697966066850367,
          0.00016710188910119033,
          0.00020503518483055275,
          0.00022605977593310471,
          0.004670429320382548,
          0.0065124069389131045,
          0.006821844624170719,
          0.007803343228865212,
          0.00848082894513828,
          0.008675134403072644,
          0.009393259877626466,
          0.009472889438785092,
          0.00979714494403934,
          0.010200482807584534,
          0.0108713690196787,
          0.012047292417992843,
          0.013636560768973502,
          0.01610684529719203,
          0.01646391013410805,
          0.016964718816185862,
          0.016991194115800887,
          0.017805621180469255,
          0.018557291592864202,
          0.0189270725411175,
          0.01910752150890267,
          0.019124196781958168,
          0.01921018579591111,
          0.019263511322649498,
          0.019974328981705713,
          0.02012396738994631,
          0.020567875349738432,
          0.021180366881166854,
          0.021384701970454372,
          0.021719868622692404,
          0.022169934934433738,
          0.02305939928355412,
          0.023292265567895105,
          0.023393822447926666,
          0.023788208624026173,
          0.024307907716789964,
          0.024436135613719018,
          0.02463471483166078,
          0.024707750303174347,
          0.02606241444723994,
          0.027210364411483567,
          0.0292523071445512,
          0.029647881491072347,
          0.0303763120083773,
          0.030451986951323187,
          0.031534593821463154,
          0.033231866900320296,
          0.03398919957719965,
          0.03530382229910146,
          0.035930120683807416
         ]
        }
       ],
       "layout": {
        "bargap": 0.1,
        "bargroupgap": 0.1,
        "height": 1500,
        "margin": {
         "b": 10,
         "l": 10,
         "r": 10,
         "t": 10
        },
        "paper_bgcolor": "white",
        "plot_bgcolor": "lightgrey",
        "template": {
         "data": {
          "bar": [
           {
            "error_x": {
             "color": "#2a3f5f"
            },
            "error_y": {
             "color": "#2a3f5f"
            },
            "marker": {
             "line": {
              "color": "#E5ECF6",
              "width": 0.5
             },
             "pattern": {
              "fillmode": "overlay",
              "size": 10,
              "solidity": 0.2
             }
            },
            "type": "bar"
           }
          ],
          "barpolar": [
           {
            "marker": {
             "line": {
              "color": "#E5ECF6",
              "width": 0.5
             },
             "pattern": {
              "fillmode": "overlay",
              "size": 10,
              "solidity": 0.2
             }
            },
            "type": "barpolar"
           }
          ],
          "carpet": [
           {
            "aaxis": {
             "endlinecolor": "#2a3f5f",
             "gridcolor": "white",
             "linecolor": "white",
             "minorgridcolor": "white",
             "startlinecolor": "#2a3f5f"
            },
            "baxis": {
             "endlinecolor": "#2a3f5f",
             "gridcolor": "white",
             "linecolor": "white",
             "minorgridcolor": "white",
             "startlinecolor": "#2a3f5f"
            },
            "type": "carpet"
           }
          ],
          "choropleth": [
           {
            "colorbar": {
             "outlinewidth": 0,
             "ticks": ""
            },
            "type": "choropleth"
           }
          ],
          "contour": [
           {
            "colorbar": {
             "outlinewidth": 0,
             "ticks": ""
            },
            "colorscale": [
             [
              0,
              "#0d0887"
             ],
             [
              0.1111111111111111,
              "#46039f"
             ],
             [
              0.2222222222222222,
              "#7201a8"
             ],
             [
              0.3333333333333333,
              "#9c179e"
             ],
             [
              0.4444444444444444,
              "#bd3786"
             ],
             [
              0.5555555555555556,
              "#d8576b"
             ],
             [
              0.6666666666666666,
              "#ed7953"
             ],
             [
              0.7777777777777778,
              "#fb9f3a"
             ],
             [
              0.8888888888888888,
              "#fdca26"
             ],
             [
              1,
              "#f0f921"
             ]
            ],
            "type": "contour"
           }
          ],
          "contourcarpet": [
           {
            "colorbar": {
             "outlinewidth": 0,
             "ticks": ""
            },
            "type": "contourcarpet"
           }
          ],
          "heatmap": [
           {
            "colorbar": {
             "outlinewidth": 0,
             "ticks": ""
            },
            "colorscale": [
             [
              0,
              "#0d0887"
             ],
             [
              0.1111111111111111,
              "#46039f"
             ],
             [
              0.2222222222222222,
              "#7201a8"
             ],
             [
              0.3333333333333333,
              "#9c179e"
             ],
             [
              0.4444444444444444,
              "#bd3786"
             ],
             [
              0.5555555555555556,
              "#d8576b"
             ],
             [
              0.6666666666666666,
              "#ed7953"
             ],
             [
              0.7777777777777778,
              "#fb9f3a"
             ],
             [
              0.8888888888888888,
              "#fdca26"
             ],
             [
              1,
              "#f0f921"
             ]
            ],
            "type": "heatmap"
           }
          ],
          "heatmapgl": [
           {
            "colorbar": {
             "outlinewidth": 0,
             "ticks": ""
            },
            "colorscale": [
             [
              0,
              "#0d0887"
             ],
             [
              0.1111111111111111,
              "#46039f"
             ],
             [
              0.2222222222222222,
              "#7201a8"
             ],
             [
              0.3333333333333333,
              "#9c179e"
             ],
             [
              0.4444444444444444,
              "#bd3786"
             ],
             [
              0.5555555555555556,
              "#d8576b"
             ],
             [
              0.6666666666666666,
              "#ed7953"
             ],
             [
              0.7777777777777778,
              "#fb9f3a"
             ],
             [
              0.8888888888888888,
              "#fdca26"
             ],
             [
              1,
              "#f0f921"
             ]
            ],
            "type": "heatmapgl"
           }
          ],
          "histogram": [
           {
            "marker": {
             "pattern": {
              "fillmode": "overlay",
              "size": 10,
              "solidity": 0.2
             }
            },
            "type": "histogram"
           }
          ],
          "histogram2d": [
           {
            "colorbar": {
             "outlinewidth": 0,
             "ticks": ""
            },
            "colorscale": [
             [
              0,
              "#0d0887"
             ],
             [
              0.1111111111111111,
              "#46039f"
             ],
             [
              0.2222222222222222,
              "#7201a8"
             ],
             [
              0.3333333333333333,
              "#9c179e"
             ],
             [
              0.4444444444444444,
              "#bd3786"
             ],
             [
              0.5555555555555556,
              "#d8576b"
             ],
             [
              0.6666666666666666,
              "#ed7953"
             ],
             [
              0.7777777777777778,
              "#fb9f3a"
             ],
             [
              0.8888888888888888,
              "#fdca26"
             ],
             [
              1,
              "#f0f921"
             ]
            ],
            "type": "histogram2d"
           }
          ],
          "histogram2dcontour": [
           {
            "colorbar": {
             "outlinewidth": 0,
             "ticks": ""
            },
            "colorscale": [
             [
              0,
              "#0d0887"
             ],
             [
              0.1111111111111111,
              "#46039f"
             ],
             [
              0.2222222222222222,
              "#7201a8"
             ],
             [
              0.3333333333333333,
              "#9c179e"
             ],
             [
              0.4444444444444444,
              "#bd3786"
             ],
             [
              0.5555555555555556,
              "#d8576b"
             ],
             [
              0.6666666666666666,
              "#ed7953"
             ],
             [
              0.7777777777777778,
              "#fb9f3a"
             ],
             [
              0.8888888888888888,
              "#fdca26"
             ],
             [
              1,
              "#f0f921"
             ]
            ],
            "type": "histogram2dcontour"
           }
          ],
          "mesh3d": [
           {
            "colorbar": {
             "outlinewidth": 0,
             "ticks": ""
            },
            "type": "mesh3d"
           }
          ],
          "parcoords": [
           {
            "line": {
             "colorbar": {
              "outlinewidth": 0,
              "ticks": ""
             }
            },
            "type": "parcoords"
           }
          ],
          "pie": [
           {
            "automargin": true,
            "type": "pie"
           }
          ],
          "scatter": [
           {
            "fillpattern": {
             "fillmode": "overlay",
             "size": 10,
             "solidity": 0.2
            },
            "type": "scatter"
           }
          ],
          "scatter3d": [
           {
            "line": {
             "colorbar": {
              "outlinewidth": 0,
              "ticks": ""
             }
            },
            "marker": {
             "colorbar": {
              "outlinewidth": 0,
              "ticks": ""
             }
            },
            "type": "scatter3d"
           }
          ],
          "scattercarpet": [
           {
            "marker": {
             "colorbar": {
              "outlinewidth": 0,
              "ticks": ""
             }
            },
            "type": "scattercarpet"
           }
          ],
          "scattergeo": [
           {
            "marker": {
             "colorbar": {
              "outlinewidth": 0,
              "ticks": ""
             }
            },
            "type": "scattergeo"
           }
          ],
          "scattergl": [
           {
            "marker": {
             "colorbar": {
              "outlinewidth": 0,
              "ticks": ""
             }
            },
            "type": "scattergl"
           }
          ],
          "scattermapbox": [
           {
            "marker": {
             "colorbar": {
              "outlinewidth": 0,
              "ticks": ""
             }
            },
            "type": "scattermapbox"
           }
          ],
          "scatterpolar": [
           {
            "marker": {
             "colorbar": {
              "outlinewidth": 0,
              "ticks": ""
             }
            },
            "type": "scatterpolar"
           }
          ],
          "scatterpolargl": [
           {
            "marker": {
             "colorbar": {
              "outlinewidth": 0,
              "ticks": ""
             }
            },
            "type": "scatterpolargl"
           }
          ],
          "scatterternary": [
           {
            "marker": {
             "colorbar": {
              "outlinewidth": 0,
              "ticks": ""
             }
            },
            "type": "scatterternary"
           }
          ],
          "surface": [
           {
            "colorbar": {
             "outlinewidth": 0,
             "ticks": ""
            },
            "colorscale": [
             [
              0,
              "#0d0887"
             ],
             [
              0.1111111111111111,
              "#46039f"
             ],
             [
              0.2222222222222222,
              "#7201a8"
             ],
             [
              0.3333333333333333,
              "#9c179e"
             ],
             [
              0.4444444444444444,
              "#bd3786"
             ],
             [
              0.5555555555555556,
              "#d8576b"
             ],
             [
              0.6666666666666666,
              "#ed7953"
             ],
             [
              0.7777777777777778,
              "#fb9f3a"
             ],
             [
              0.8888888888888888,
              "#fdca26"
             ],
             [
              1,
              "#f0f921"
             ]
            ],
            "type": "surface"
           }
          ],
          "table": [
           {
            "cells": {
             "fill": {
              "color": "#EBF0F8"
             },
             "line": {
              "color": "white"
             }
            },
            "header": {
             "fill": {
              "color": "#C8D4E3"
             },
             "line": {
              "color": "white"
             }
            },
            "type": "table"
           }
          ]
         },
         "layout": {
          "annotationdefaults": {
           "arrowcolor": "#2a3f5f",
           "arrowhead": 0,
           "arrowwidth": 1
          },
          "autotypenumbers": "strict",
          "coloraxis": {
           "colorbar": {
            "outlinewidth": 0,
            "ticks": ""
           }
          },
          "colorscale": {
           "diverging": [
            [
             0,
             "#8e0152"
            ],
            [
             0.1,
             "#c51b7d"
            ],
            [
             0.2,
             "#de77ae"
            ],
            [
             0.3,
             "#f1b6da"
            ],
            [
             0.4,
             "#fde0ef"
            ],
            [
             0.5,
             "#f7f7f7"
            ],
            [
             0.6,
             "#e6f5d0"
            ],
            [
             0.7,
             "#b8e186"
            ],
            [
             0.8,
             "#7fbc41"
            ],
            [
             0.9,
             "#4d9221"
            ],
            [
             1,
             "#276419"
            ]
           ],
           "sequential": [
            [
             0,
             "#0d0887"
            ],
            [
             0.1111111111111111,
             "#46039f"
            ],
            [
             0.2222222222222222,
             "#7201a8"
            ],
            [
             0.3333333333333333,
             "#9c179e"
            ],
            [
             0.4444444444444444,
             "#bd3786"
            ],
            [
             0.5555555555555556,
             "#d8576b"
            ],
            [
             0.6666666666666666,
             "#ed7953"
            ],
            [
             0.7777777777777778,
             "#fb9f3a"
            ],
            [
             0.8888888888888888,
             "#fdca26"
            ],
            [
             1,
             "#f0f921"
            ]
           ],
           "sequentialminus": [
            [
             0,
             "#0d0887"
            ],
            [
             0.1111111111111111,
             "#46039f"
            ],
            [
             0.2222222222222222,
             "#7201a8"
            ],
            [
             0.3333333333333333,
             "#9c179e"
            ],
            [
             0.4444444444444444,
             "#bd3786"
            ],
            [
             0.5555555555555556,
             "#d8576b"
            ],
            [
             0.6666666666666666,
             "#ed7953"
            ],
            [
             0.7777777777777778,
             "#fb9f3a"
            ],
            [
             0.8888888888888888,
             "#fdca26"
            ],
            [
             1,
             "#f0f921"
            ]
           ]
          },
          "colorway": [
           "#636efa",
           "#EF553B",
           "#00cc96",
           "#ab63fa",
           "#FFA15A",
           "#19d3f3",
           "#FF6692",
           "#B6E880",
           "#FF97FF",
           "#FECB52"
          ],
          "font": {
           "color": "#2a3f5f"
          },
          "geo": {
           "bgcolor": "white",
           "lakecolor": "white",
           "landcolor": "#E5ECF6",
           "showlakes": true,
           "showland": true,
           "subunitcolor": "white"
          },
          "hoverlabel": {
           "align": "left"
          },
          "hovermode": "closest",
          "mapbox": {
           "style": "light"
          },
          "paper_bgcolor": "white",
          "plot_bgcolor": "#E5ECF6",
          "polar": {
           "angularaxis": {
            "gridcolor": "white",
            "linecolor": "white",
            "ticks": ""
           },
           "bgcolor": "#E5ECF6",
           "radialaxis": {
            "gridcolor": "white",
            "linecolor": "white",
            "ticks": ""
           }
          },
          "scene": {
           "xaxis": {
            "backgroundcolor": "#E5ECF6",
            "gridcolor": "white",
            "gridwidth": 2,
            "linecolor": "white",
            "showbackground": true,
            "ticks": "",
            "zerolinecolor": "white"
           },
           "yaxis": {
            "backgroundcolor": "#E5ECF6",
            "gridcolor": "white",
            "gridwidth": 2,
            "linecolor": "white",
            "showbackground": true,
            "ticks": "",
            "zerolinecolor": "white"
           },
           "zaxis": {
            "backgroundcolor": "#E5ECF6",
            "gridcolor": "white",
            "gridwidth": 2,
            "linecolor": "white",
            "showbackground": true,
            "ticks": "",
            "zerolinecolor": "white"
           }
          },
          "shapedefaults": {
           "line": {
            "color": "#2a3f5f"
           }
          },
          "ternary": {
           "aaxis": {
            "gridcolor": "white",
            "linecolor": "white",
            "ticks": ""
           },
           "baxis": {
            "gridcolor": "white",
            "linecolor": "white",
            "ticks": ""
           },
           "bgcolor": "#E5ECF6",
           "caxis": {
            "gridcolor": "white",
            "linecolor": "white",
            "ticks": ""
           }
          },
          "title": {
           "x": 0.05
          },
          "xaxis": {
           "automargin": true,
           "gridcolor": "white",
           "linecolor": "white",
           "ticks": "",
           "title": {
            "standoff": 15
           },
           "zerolinecolor": "white",
           "zerolinewidth": 2
          },
          "yaxis": {
           "automargin": true,
           "gridcolor": "white",
           "linecolor": "white",
           "ticks": "",
           "title": {
            "standoff": 15
           },
           "zerolinecolor": "white",
           "zerolinewidth": 2
          }
         }
        },
        "width": 2000,
        "xaxis": {
         "linecolor": "black",
         "linewidth": 3,
         "mirror": true,
         "showline": true,
         "tickangle": 45,
         "tickfont": {
          "color": "black",
          "family": "Arial",
          "size": 18
         },
         "title": {
          "text": "Feature"
         },
         "zeroline": true,
         "zerolinecolor": "black",
         "zerolinewidth": 3
        },
        "yaxis": {
         "gridcolor": "black",
         "gridwidth": 1,
         "linecolor": "black",
         "linewidth": 3,
         "mirror": true,
         "showgrid": true,
         "showline": true,
         "tickfont": {
          "color": "black",
          "family": "Arial",
          "size": 18
         },
         "title": {
          "text": "Importance"
         },
         "zeroline": true,
         "zerolinecolor": "black",
         "zerolinewidth": 3
        }
       }
      }
     },
     "metadata": {},
     "output_type": "display_data"
    }
   ],
   "source": [
    "swefi.compute_swefi_scores(percentage=percentage)\n",
    "swefi_scores = swefi.get_swefi_scores()\n",
    "\n",
    "index = swefi_scores.index\n",
    "value = swefi_scores['mean(SWEFI)']\n",
    "error = swefi_scores['std(SWEFI)']\n",
    "\n",
    "# Create a bar chart\n",
    "fig = go.Figure(go.Bar(\n",
    "    y=value,  # Values go on the x-axis for a horizontal bar chart\n",
    "    x=index,  # Categories go on the y-axis\n",
    "    error_y=dict(type='data', array=error),\n",
    "))\n",
    "\n",
    "fig.update_layout(\n",
    "    xaxis=dict(\n",
    "        title='Feature',\n",
    "        # showgrid=True,\n",
    "        zeroline=True,\n",
    "        showline=True,\n",
    "        # gridcolor='lightgrey',\n",
    "        # gridwidth=0.5,\n",
    "        zerolinecolor='black',\n",
    "        zerolinewidth=3,\n",
    "        linecolor='black',\n",
    "        linewidth=3,\n",
    "        mirror=True,\n",
    "        tickangle=45,  # Rotate x-axis labels by 45 degrees\n",
    "\n",
    "        tickfont=dict(\n",
    "            family='Arial',\n",
    "            size=18,\n",
    "            color='black',\n",
    "        )\n",
    "    ),\n",
    "    yaxis=dict(\n",
    "        title='Importance',\n",
    "        showgrid=True,\n",
    "        zeroline=True,\n",
    "        showline=True,\n",
    "        gridcolor='black',\n",
    "        gridwidth=1,\n",
    "        zerolinecolor='black',\n",
    "        zerolinewidth=3,\n",
    "        linecolor='black',\n",
    "        linewidth=3,\n",
    "        mirror=True,\n",
    "\n",
    "        tickfont=dict(\n",
    "            family='Arial',\n",
    "            size=18,\n",
    "            color='black',\n",
    "        )\n",
    "    ),\n",
    "    margin=dict(l=10, r=10, b=10, t=10),\n",
    "    paper_bgcolor='white',\n",
    "    plot_bgcolor='lightgrey',\n",
    "    # showlegend=True,\n",
    "    # legend=dict(\n",
    "    #     x=0.9,\n",
    "    #     y=0.9,\n",
    "    #     traceorder='normal',\n",
    "    #     font=dict(\n",
    "    #         family='sans-serif',\n",
    "    #         size=12,\n",
    "    #         color='black'\n",
    "    #     ),\n",
    "    #     bgcolor='LightSteelBlue',\n",
    "    #     bordercolor='Black',\n",
    "    #     borderwidth=2\n",
    "    # ),\n",
    "    width=2000,\n",
    "    height=1500,\n",
    "    bargap=0.1,\n",
    "    bargroupgap=0.1,\n",
    ")\n",
    "\n",
    "\n",
    "fig.write_image('swefi_success_time_series_vertical.png')\n",
    "fig.show()\n"
   ]
  }
 ],
 "metadata": {
  "kernelspec": {
   "display_name": "base",
   "language": "python",
   "name": "python3"
  },
  "language_info": {
   "codemirror_mode": {
    "name": "ipython",
    "version": 3
   },
   "file_extension": ".py",
   "mimetype": "text/x-python",
   "name": "python",
   "nbconvert_exporter": "python",
   "pygments_lexer": "ipython3",
   "version": "3.11.5"
  }
 },
 "nbformat": 4,
 "nbformat_minor": 2
}
