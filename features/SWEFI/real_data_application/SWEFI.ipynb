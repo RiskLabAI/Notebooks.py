{
  "cells": [
    {
      "cell_type": "markdown",
      "metadata": {},
      "source": [
        "# Install Libraries"
      ]
    },
    {
      "cell_type": "code",
      "execution_count": 34,
      "metadata": {
        "colab": {
          "base_uri": "https://localhost:8080/"
        },
        "id": "YdVpCEaeKMb8",
        "outputId": "ebb6c789-dfcd-4ed1-bbac-d08ba4ce1005"
      },
      "outputs": [],
      "source": [
        "# !pip3 install scikit-optimize pycaret[tuners] RiskLabAI==0.0.87 joblib_progress memory_profiler pycaret arch \n",
        "# !pip3 install torch\n",
        "# !pip3 install yfinance"
      ]
    },
    {
      "cell_type": "markdown",
      "metadata": {},
      "source": [
        "# Import Libraries"
      ]
    },
    {
      "cell_type": "code",
      "execution_count": 51,
      "metadata": {
        "id": "XFUphGrW-HYZ"
      },
      "outputs": [],
      "source": [
        "from RiskLabAI.features.feature_importance.swefi import *\n",
        "import plotly.graph_objects as go\n",
        "import pandas as pd\n",
        "import numpy as np"
      ]
    },
    {
      "cell_type": "markdown",
      "metadata": {
        "id": "t4_iQVoR_uaJ"
      },
      "source": [
        "# Dataset"
      ]
    },
    {
      "cell_type": "code",
      "execution_count": 38,
      "metadata": {},
      "outputs": [],
      "source": [
        "data = pd.read_csv('real_data.csv', index_col=0)\n",
        "data = data.dropna()\n",
        "data = data.sort_values('Date')\n",
        "data = data.set_index('Date')\n",
        "data.index = pd.to_datetime(data.index)\n",
        "data = data.loc[data.index >= '2018-01-01']"
      ]
    },
    {
      "cell_type": "code",
      "execution_count": 39,
      "metadata": {},
      "outputs": [],
      "source": [
        "y = 'MXWO_Last Price'\n",
        "y = pd.Series(np.where(data[y].diff() > 0, 1, 0), name='Direction', index=data.index)\n",
        "X = data.drop(columns=['MXWO_Last Price', 'MXWO_Volume', 'MXWO_SMAVG (15)'])"
      ]
    },
    {
      "cell_type": "markdown",
      "metadata": {
        "id": "BITWmAUX_0Xv"
      },
      "source": [
        "# SWEFI Parameters"
      ]
    },
    {
      "cell_type": "code",
      "execution_count": 41,
      "metadata": {
        "id": "27r9eKzl-drq"
      },
      "outputs": [],
      "source": [
        "select_n_model = 5\n",
        "\n",
        "bootstrap_method = SWEFI.stationary_bootstrap\n",
        "\n",
        "hpo_n_fold=4\n",
        "hpo_n_iter=25\n",
        "hpo_metric = 'AUC'\n",
        "hpo_search_library = 'scikit-optimize'\n",
        "hpo_search_algorithm = 'bayesian'\n",
        "\n",
        "n_iteration = 5\n",
        "\n",
        "percentage = 0.6"
      ]
    },
    {
      "cell_type": "markdown",
      "metadata": {
        "id": "pa3eY5Ct_5tA"
      },
      "source": [
        "# Initialize SWEFI"
      ]
    },
    {
      "cell_type": "code",
      "execution_count": 42,
      "metadata": {
        "colab": {
          "base_uri": "https://localhost:8080/",
          "height": 700
        },
        "id": "IgYxP5wD_8C0",
        "outputId": "31200426-7476-46b0-9a5d-f255bbf7f1e3"
      },
      "outputs": [
        {
          "data": {
            "text/html": [
              "<style type=\"text/css\">\n",
              "#T_2021e_row8_col1, #T_2021e_row12_col1 {\n",
              "  background-color: lightgreen;\n",
              "}\n",
              "</style>\n",
              "<table id=\"T_2021e\">\n",
              "  <thead>\n",
              "    <tr>\n",
              "      <th class=\"blank level0\" >&nbsp;</th>\n",
              "      <th id=\"T_2021e_level0_col0\" class=\"col_heading level0 col0\" >Description</th>\n",
              "      <th id=\"T_2021e_level0_col1\" class=\"col_heading level0 col1\" >Value</th>\n",
              "    </tr>\n",
              "  </thead>\n",
              "  <tbody>\n",
              "    <tr>\n",
              "      <th id=\"T_2021e_level0_row0\" class=\"row_heading level0 row0\" >0</th>\n",
              "      <td id=\"T_2021e_row0_col0\" class=\"data row0 col0\" >Session id</td>\n",
              "      <td id=\"T_2021e_row0_col1\" class=\"data row0 col1\" >123</td>\n",
              "    </tr>\n",
              "    <tr>\n",
              "      <th id=\"T_2021e_level0_row1\" class=\"row_heading level0 row1\" >1</th>\n",
              "      <td id=\"T_2021e_row1_col0\" class=\"data row1 col0\" >Target</td>\n",
              "      <td id=\"T_2021e_row1_col1\" class=\"data row1 col1\" >Direction</td>\n",
              "    </tr>\n",
              "    <tr>\n",
              "      <th id=\"T_2021e_level0_row2\" class=\"row_heading level0 row2\" >2</th>\n",
              "      <td id=\"T_2021e_row2_col0\" class=\"data row2 col0\" >Target type</td>\n",
              "      <td id=\"T_2021e_row2_col1\" class=\"data row2 col1\" >Binary</td>\n",
              "    </tr>\n",
              "    <tr>\n",
              "      <th id=\"T_2021e_level0_row3\" class=\"row_heading level0 row3\" >3</th>\n",
              "      <td id=\"T_2021e_row3_col0\" class=\"data row3 col0\" >Original data shape</td>\n",
              "      <td id=\"T_2021e_row3_col1\" class=\"data row3 col1\" >(1565, 34)</td>\n",
              "    </tr>\n",
              "    <tr>\n",
              "      <th id=\"T_2021e_level0_row4\" class=\"row_heading level0 row4\" >4</th>\n",
              "      <td id=\"T_2021e_row4_col0\" class=\"data row4 col0\" >Transformed data shape</td>\n",
              "      <td id=\"T_2021e_row4_col1\" class=\"data row4 col1\" >(1565, 34)</td>\n",
              "    </tr>\n",
              "    <tr>\n",
              "      <th id=\"T_2021e_level0_row5\" class=\"row_heading level0 row5\" >5</th>\n",
              "      <td id=\"T_2021e_row5_col0\" class=\"data row5 col0\" >Transformed train set shape</td>\n",
              "      <td id=\"T_2021e_row5_col1\" class=\"data row5 col1\" >(1549, 34)</td>\n",
              "    </tr>\n",
              "    <tr>\n",
              "      <th id=\"T_2021e_level0_row6\" class=\"row_heading level0 row6\" >6</th>\n",
              "      <td id=\"T_2021e_row6_col0\" class=\"data row6 col0\" >Transformed test set shape</td>\n",
              "      <td id=\"T_2021e_row6_col1\" class=\"data row6 col1\" >(16, 34)</td>\n",
              "    </tr>\n",
              "    <tr>\n",
              "      <th id=\"T_2021e_level0_row7\" class=\"row_heading level0 row7\" >7</th>\n",
              "      <td id=\"T_2021e_row7_col0\" class=\"data row7 col0\" >Numeric features</td>\n",
              "      <td id=\"T_2021e_row7_col1\" class=\"data row7 col1\" >33</td>\n",
              "    </tr>\n",
              "    <tr>\n",
              "      <th id=\"T_2021e_level0_row8\" class=\"row_heading level0 row8\" >8</th>\n",
              "      <td id=\"T_2021e_row8_col0\" class=\"data row8 col0\" >Preprocess</td>\n",
              "      <td id=\"T_2021e_row8_col1\" class=\"data row8 col1\" >True</td>\n",
              "    </tr>\n",
              "    <tr>\n",
              "      <th id=\"T_2021e_level0_row9\" class=\"row_heading level0 row9\" >9</th>\n",
              "      <td id=\"T_2021e_row9_col0\" class=\"data row9 col0\" >Imputation type</td>\n",
              "      <td id=\"T_2021e_row9_col1\" class=\"data row9 col1\" >simple</td>\n",
              "    </tr>\n",
              "    <tr>\n",
              "      <th id=\"T_2021e_level0_row10\" class=\"row_heading level0 row10\" >10</th>\n",
              "      <td id=\"T_2021e_row10_col0\" class=\"data row10 col0\" >Numeric imputation</td>\n",
              "      <td id=\"T_2021e_row10_col1\" class=\"data row10 col1\" >mean</td>\n",
              "    </tr>\n",
              "    <tr>\n",
              "      <th id=\"T_2021e_level0_row11\" class=\"row_heading level0 row11\" >11</th>\n",
              "      <td id=\"T_2021e_row11_col0\" class=\"data row11 col0\" >Categorical imputation</td>\n",
              "      <td id=\"T_2021e_row11_col1\" class=\"data row11 col1\" >mode</td>\n",
              "    </tr>\n",
              "    <tr>\n",
              "      <th id=\"T_2021e_level0_row12\" class=\"row_heading level0 row12\" >12</th>\n",
              "      <td id=\"T_2021e_row12_col0\" class=\"data row12 col0\" >Normalize</td>\n",
              "      <td id=\"T_2021e_row12_col1\" class=\"data row12 col1\" >True</td>\n",
              "    </tr>\n",
              "    <tr>\n",
              "      <th id=\"T_2021e_level0_row13\" class=\"row_heading level0 row13\" >13</th>\n",
              "      <td id=\"T_2021e_row13_col0\" class=\"data row13 col0\" >Normalize method</td>\n",
              "      <td id=\"T_2021e_row13_col1\" class=\"data row13 col1\" >zscore</td>\n",
              "    </tr>\n",
              "    <tr>\n",
              "      <th id=\"T_2021e_level0_row14\" class=\"row_heading level0 row14\" >14</th>\n",
              "      <td id=\"T_2021e_row14_col0\" class=\"data row14 col0\" >Fold Generator</td>\n",
              "      <td id=\"T_2021e_row14_col1\" class=\"data row14 col1\" >StratifiedKFold</td>\n",
              "    </tr>\n",
              "    <tr>\n",
              "      <th id=\"T_2021e_level0_row15\" class=\"row_heading level0 row15\" >15</th>\n",
              "      <td id=\"T_2021e_row15_col0\" class=\"data row15 col0\" >Fold Number</td>\n",
              "      <td id=\"T_2021e_row15_col1\" class=\"data row15 col1\" >10</td>\n",
              "    </tr>\n",
              "    <tr>\n",
              "      <th id=\"T_2021e_level0_row16\" class=\"row_heading level0 row16\" >16</th>\n",
              "      <td id=\"T_2021e_row16_col0\" class=\"data row16 col0\" >CPU Jobs</td>\n",
              "      <td id=\"T_2021e_row16_col1\" class=\"data row16 col1\" >-1</td>\n",
              "    </tr>\n",
              "    <tr>\n",
              "      <th id=\"T_2021e_level0_row17\" class=\"row_heading level0 row17\" >17</th>\n",
              "      <td id=\"T_2021e_row17_col0\" class=\"data row17 col0\" >Use GPU</td>\n",
              "      <td id=\"T_2021e_row17_col1\" class=\"data row17 col1\" >False</td>\n",
              "    </tr>\n",
              "    <tr>\n",
              "      <th id=\"T_2021e_level0_row18\" class=\"row_heading level0 row18\" >18</th>\n",
              "      <td id=\"T_2021e_row18_col0\" class=\"data row18 col0\" >Log Experiment</td>\n",
              "      <td id=\"T_2021e_row18_col1\" class=\"data row18 col1\" >False</td>\n",
              "    </tr>\n",
              "    <tr>\n",
              "      <th id=\"T_2021e_level0_row19\" class=\"row_heading level0 row19\" >19</th>\n",
              "      <td id=\"T_2021e_row19_col0\" class=\"data row19 col0\" >Experiment Name</td>\n",
              "      <td id=\"T_2021e_row19_col1\" class=\"data row19 col1\" >clf-default-name</td>\n",
              "    </tr>\n",
              "    <tr>\n",
              "      <th id=\"T_2021e_level0_row20\" class=\"row_heading level0 row20\" >20</th>\n",
              "      <td id=\"T_2021e_row20_col0\" class=\"data row20 col0\" >USI</td>\n",
              "      <td id=\"T_2021e_row20_col1\" class=\"data row20 col1\" >f1fd</td>\n",
              "    </tr>\n",
              "  </tbody>\n",
              "</table>\n"
            ],
            "text/plain": [
              "<pandas.io.formats.style.Styler at 0x1b62b7fb220>"
            ]
          },
          "metadata": {},
          "output_type": "display_data"
        }
      ],
      "source": [
        "swefi = SWEFI(X, y, n_fold=10)"
      ]
    },
    {
      "cell_type": "markdown",
      "metadata": {
        "id": "oFtOWyCV_-dQ"
      },
      "source": [
        "# Select Models"
      ]
    },
    {
      "cell_type": "code",
      "execution_count": 43,
      "metadata": {
        "colab": {
          "base_uri": "https://localhost:8080/",
          "height": 407,
          "referenced_widgets": [
            "140e3325f1e5455896577ceb63bc0ee6",
            "4f7de12289ff40dc8f211f50d123c820",
            "439584ee8f74457c9e2bf33272174e13",
            "4f06e4304f40415285cee9d0346f1bf5",
            "526ffeccaa494b68b9902a46595f5c8b",
            "4836a40a89ba4724b6a51d3a5fc8977d",
            "4301bcb7ca294e7d9413ffff7dd08df4",
            "2a72ccbb9bf04876a5148925ac38c1d8",
            "55bd38ea637c412fa539511df03dd6d2",
            "4483bb3870a6411d9c39c988d5417921",
            "1a9de8ece48742839232241c72f1051e"
          ]
        },
        "id": "DCmBcqv9__fu",
        "outputId": "040f5eb9-f6ae-481c-ae93-4ae0583a65c2"
      },
      "outputs": [
        {
          "data": {
            "text/html": [],
            "text/plain": [
              "<IPython.core.display.HTML object>"
            ]
          },
          "metadata": {},
          "output_type": "display_data"
        },
        {
          "data": {
            "text/html": [
              "<style type=\"text/css\">\n",
              "#T_4c47a th {\n",
              "  text-align: left;\n",
              "}\n",
              "#T_4c47a_row0_col0, #T_4c47a_row0_col2, #T_4c47a_row0_col3, #T_4c47a_row0_col5, #T_4c47a_row1_col0, #T_4c47a_row1_col1, #T_4c47a_row1_col4, #T_4c47a_row1_col6, #T_4c47a_row1_col7, #T_4c47a_row2_col0, #T_4c47a_row2_col1, #T_4c47a_row2_col2, #T_4c47a_row2_col3, #T_4c47a_row2_col4, #T_4c47a_row2_col5, #T_4c47a_row2_col6, #T_4c47a_row2_col7, #T_4c47a_row3_col0, #T_4c47a_row3_col1, #T_4c47a_row3_col2, #T_4c47a_row3_col3, #T_4c47a_row3_col4, #T_4c47a_row3_col5, #T_4c47a_row3_col6, #T_4c47a_row3_col7, #T_4c47a_row4_col0, #T_4c47a_row4_col1, #T_4c47a_row4_col2, #T_4c47a_row4_col3, #T_4c47a_row4_col4, #T_4c47a_row4_col5, #T_4c47a_row4_col6, #T_4c47a_row4_col7, #T_4c47a_row5_col0, #T_4c47a_row5_col1, #T_4c47a_row5_col2, #T_4c47a_row5_col3, #T_4c47a_row5_col4, #T_4c47a_row5_col5, #T_4c47a_row5_col6, #T_4c47a_row5_col7, #T_4c47a_row6_col0, #T_4c47a_row6_col1, #T_4c47a_row6_col2, #T_4c47a_row6_col3, #T_4c47a_row6_col4, #T_4c47a_row6_col5, #T_4c47a_row6_col6, #T_4c47a_row6_col7, #T_4c47a_row7_col0, #T_4c47a_row7_col1, #T_4c47a_row7_col2, #T_4c47a_row7_col3, #T_4c47a_row7_col4, #T_4c47a_row7_col5, #T_4c47a_row7_col6, #T_4c47a_row7_col7, #T_4c47a_row8_col0, #T_4c47a_row8_col1, #T_4c47a_row8_col2, #T_4c47a_row8_col3, #T_4c47a_row8_col4, #T_4c47a_row8_col5, #T_4c47a_row8_col6, #T_4c47a_row8_col7, #T_4c47a_row9_col0, #T_4c47a_row9_col1, #T_4c47a_row9_col2, #T_4c47a_row9_col3, #T_4c47a_row9_col4, #T_4c47a_row9_col5, #T_4c47a_row9_col6, #T_4c47a_row9_col7 {\n",
              "  text-align: left;\n",
              "}\n",
              "#T_4c47a_row0_col1, #T_4c47a_row0_col4, #T_4c47a_row0_col6, #T_4c47a_row0_col7, #T_4c47a_row1_col2, #T_4c47a_row1_col3, #T_4c47a_row1_col5 {\n",
              "  text-align: left;\n",
              "  background-color: yellow;\n",
              "}\n",
              "#T_4c47a_row0_col8, #T_4c47a_row1_col8, #T_4c47a_row2_col8, #T_4c47a_row4_col8, #T_4c47a_row5_col8, #T_4c47a_row6_col8, #T_4c47a_row7_col8, #T_4c47a_row8_col8, #T_4c47a_row9_col8 {\n",
              "  text-align: left;\n",
              "  background-color: lightgrey;\n",
              "}\n",
              "#T_4c47a_row3_col8 {\n",
              "  text-align: left;\n",
              "  background-color: yellow;\n",
              "  background-color: lightgrey;\n",
              "}\n",
              "</style>\n",
              "<table id=\"T_4c47a\">\n",
              "  <thead>\n",
              "    <tr>\n",
              "      <th class=\"blank level0\" >&nbsp;</th>\n",
              "      <th id=\"T_4c47a_level0_col0\" class=\"col_heading level0 col0\" >Model</th>\n",
              "      <th id=\"T_4c47a_level0_col1\" class=\"col_heading level0 col1\" >Accuracy</th>\n",
              "      <th id=\"T_4c47a_level0_col2\" class=\"col_heading level0 col2\" >AUC</th>\n",
              "      <th id=\"T_4c47a_level0_col3\" class=\"col_heading level0 col3\" >Recall</th>\n",
              "      <th id=\"T_4c47a_level0_col4\" class=\"col_heading level0 col4\" >Prec.</th>\n",
              "      <th id=\"T_4c47a_level0_col5\" class=\"col_heading level0 col5\" >F1</th>\n",
              "      <th id=\"T_4c47a_level0_col6\" class=\"col_heading level0 col6\" >Kappa</th>\n",
              "      <th id=\"T_4c47a_level0_col7\" class=\"col_heading level0 col7\" >MCC</th>\n",
              "      <th id=\"T_4c47a_level0_col8\" class=\"col_heading level0 col8\" >TT (Sec)</th>\n",
              "    </tr>\n",
              "  </thead>\n",
              "  <tbody>\n",
              "    <tr>\n",
              "      <th id=\"T_4c47a_level0_row0\" class=\"row_heading level0 row0\" >0</th>\n",
              "      <td id=\"T_4c47a_row0_col0\" class=\"data row0 col0\" >MLP Classifier</td>\n",
              "      <td id=\"T_4c47a_row0_col1\" class=\"data row0 col1\" >0.6314</td>\n",
              "      <td id=\"T_4c47a_row0_col2\" class=\"data row0 col2\" >0.6672</td>\n",
              "      <td id=\"T_4c47a_row0_col3\" class=\"data row0 col3\" >0.6880</td>\n",
              "      <td id=\"T_4c47a_row0_col4\" class=\"data row0 col4\" >0.6531</td>\n",
              "      <td id=\"T_4c47a_row0_col5\" class=\"data row0 col5\" >0.6694</td>\n",
              "      <td id=\"T_4c47a_row0_col6\" class=\"data row0 col6\" >0.2533</td>\n",
              "      <td id=\"T_4c47a_row0_col7\" class=\"data row0 col7\" >0.2546</td>\n",
              "      <td id=\"T_4c47a_row0_col8\" class=\"data row0 col8\" >1.4760</td>\n",
              "    </tr>\n",
              "    <tr>\n",
              "      <th id=\"T_4c47a_level0_row1\" class=\"row_heading level0 row1\" >9</th>\n",
              "      <td id=\"T_4c47a_row1_col0\" class=\"data row1 col0\" >SVM - Radial Kernel</td>\n",
              "      <td id=\"T_4c47a_row1_col1\" class=\"data row1 col1\" >0.6275</td>\n",
              "      <td id=\"T_4c47a_row1_col2\" class=\"data row1 col2\" >0.6681</td>\n",
              "      <td id=\"T_4c47a_row1_col3\" class=\"data row1 col3\" >0.8351</td>\n",
              "      <td id=\"T_4c47a_row1_col4\" class=\"data row1 col4\" >0.6165</td>\n",
              "      <td id=\"T_4c47a_row1_col5\" class=\"data row1 col5\" >0.7092</td>\n",
              "      <td id=\"T_4c47a_row1_col6\" class=\"data row1 col6\" >0.2223</td>\n",
              "      <td id=\"T_4c47a_row1_col7\" class=\"data row1 col7\" >0.2432</td>\n",
              "      <td id=\"T_4c47a_row1_col8\" class=\"data row1 col8\" >0.1290</td>\n",
              "    </tr>\n",
              "    <tr>\n",
              "      <th id=\"T_4c47a_level0_row2\" class=\"row_heading level0 row2\" >3</th>\n",
              "      <td id=\"T_4c47a_row2_col0\" class=\"data row2 col0\" >Linear Discriminant Analysis</td>\n",
              "      <td id=\"T_4c47a_row2_col1\" class=\"data row2 col1\" >0.6249</td>\n",
              "      <td id=\"T_4c47a_row2_col2\" class=\"data row2 col2\" >0.6595</td>\n",
              "      <td id=\"T_4c47a_row2_col3\" class=\"data row2 col3\" >0.7818</td>\n",
              "      <td id=\"T_4c47a_row2_col4\" class=\"data row2 col4\" >0.6243</td>\n",
              "      <td id=\"T_4c47a_row2_col5\" class=\"data row2 col5\" >0.6941</td>\n",
              "      <td id=\"T_4c47a_row2_col6\" class=\"data row2 col6\" >0.2248</td>\n",
              "      <td id=\"T_4c47a_row2_col7\" class=\"data row2 col7\" >0.2346</td>\n",
              "      <td id=\"T_4c47a_row2_col8\" class=\"data row2 col8\" >0.0120</td>\n",
              "    </tr>\n",
              "    <tr>\n",
              "      <th id=\"T_4c47a_level0_row3\" class=\"row_heading level0 row3\" >5</th>\n",
              "      <td id=\"T_4c47a_row3_col0\" class=\"data row3 col0\" >Ridge Classifier</td>\n",
              "      <td id=\"T_4c47a_row3_col1\" class=\"data row3 col1\" >0.6236</td>\n",
              "      <td id=\"T_4c47a_row3_col2\" class=\"data row3 col2\" >0.6606</td>\n",
              "      <td id=\"T_4c47a_row3_col3\" class=\"data row3 col3\" >0.7853</td>\n",
              "      <td id=\"T_4c47a_row3_col4\" class=\"data row3 col4\" >0.6222</td>\n",
              "      <td id=\"T_4c47a_row3_col5\" class=\"data row3 col5\" >0.6942</td>\n",
              "      <td id=\"T_4c47a_row3_col6\" class=\"data row3 col6\" >0.2215</td>\n",
              "      <td id=\"T_4c47a_row3_col7\" class=\"data row3 col7\" >0.2321</td>\n",
              "      <td id=\"T_4c47a_row3_col8\" class=\"data row3 col8\" >0.0100</td>\n",
              "    </tr>\n",
              "    <tr>\n",
              "      <th id=\"T_4c47a_level0_row4\" class=\"row_heading level0 row4\" >4</th>\n",
              "      <td id=\"T_4c47a_row4_col0\" class=\"data row4 col0\" >Logistic Regression</td>\n",
              "      <td id=\"T_4c47a_row4_col1\" class=\"data row4 col1\" >0.6229</td>\n",
              "      <td id=\"T_4c47a_row4_col2\" class=\"data row4 col2\" >0.6605</td>\n",
              "      <td id=\"T_4c47a_row4_col3\" class=\"data row4 col3\" >0.7723</td>\n",
              "      <td id=\"T_4c47a_row4_col4\" class=\"data row4 col4\" >0.6241</td>\n",
              "      <td id=\"T_4c47a_row4_col5\" class=\"data row4 col5\" >0.6902</td>\n",
              "      <td id=\"T_4c47a_row4_col6\" class=\"data row4 col6\" >0.2221</td>\n",
              "      <td id=\"T_4c47a_row4_col7\" class=\"data row4 col7\" >0.2308</td>\n",
              "      <td id=\"T_4c47a_row4_col8\" class=\"data row4 col8\" >0.0120</td>\n",
              "    </tr>\n",
              "    <tr>\n",
              "      <th id=\"T_4c47a_level0_row5\" class=\"row_heading level0 row5\" >2</th>\n",
              "      <td id=\"T_4c47a_row5_col0\" class=\"data row5 col0\" >Gradient Boosting Classifier</td>\n",
              "      <td id=\"T_4c47a_row5_col1\" class=\"data row5 col1\" >0.6191</td>\n",
              "      <td id=\"T_4c47a_row5_col2\" class=\"data row5 col2\" >0.6397</td>\n",
              "      <td id=\"T_4c47a_row5_col3\" class=\"data row5 col3\" >0.7308</td>\n",
              "      <td id=\"T_4c47a_row5_col4\" class=\"data row5 col4\" >0.6282</td>\n",
              "      <td id=\"T_4c47a_row5_col5\" class=\"data row5 col5\" >0.6750</td>\n",
              "      <td id=\"T_4c47a_row5_col6\" class=\"data row5 col6\" >0.2204</td>\n",
              "      <td id=\"T_4c47a_row5_col7\" class=\"data row5 col7\" >0.2255</td>\n",
              "      <td id=\"T_4c47a_row5_col8\" class=\"data row5 col8\" >0.3240</td>\n",
              "    </tr>\n",
              "    <tr>\n",
              "      <th id=\"T_4c47a_level0_row6\" class=\"row_heading level0 row6\" >6</th>\n",
              "      <td id=\"T_4c47a_row6_col0\" class=\"data row6 col0\" >Random Forest Classifier</td>\n",
              "      <td id=\"T_4c47a_row6_col1\" class=\"data row6 col1\" >0.6152</td>\n",
              "      <td id=\"T_4c47a_row6_col2\" class=\"data row6 col2\" >0.6342</td>\n",
              "      <td id=\"T_4c47a_row6_col3\" class=\"data row6 col3\" >0.7094</td>\n",
              "      <td id=\"T_4c47a_row6_col4\" class=\"data row6 col4\" >0.6306</td>\n",
              "      <td id=\"T_4c47a_row6_col5\" class=\"data row6 col5\" >0.6674</td>\n",
              "      <td id=\"T_4c47a_row6_col6\" class=\"data row6 col6\" >0.2149</td>\n",
              "      <td id=\"T_4c47a_row6_col7\" class=\"data row6 col7\" >0.2173</td>\n",
              "      <td id=\"T_4c47a_row6_col8\" class=\"data row6 col8\" >0.1800</td>\n",
              "    </tr>\n",
              "    <tr>\n",
              "      <th id=\"T_4c47a_level0_row7\" class=\"row_heading level0 row7\" >8</th>\n",
              "      <td id=\"T_4c47a_row7_col0\" class=\"data row7 col0\" >Extra Trees Classifier</td>\n",
              "      <td id=\"T_4c47a_row7_col1\" class=\"data row7 col1\" >0.6146</td>\n",
              "      <td id=\"T_4c47a_row7_col2\" class=\"data row7 col2\" >0.6326</td>\n",
              "      <td id=\"T_4c47a_row7_col3\" class=\"data row7 col3\" >0.7059</td>\n",
              "      <td id=\"T_4c47a_row7_col4\" class=\"data row7 col4\" >0.6307</td>\n",
              "      <td id=\"T_4c47a_row7_col5\" class=\"data row7 col5\" >0.6657</td>\n",
              "      <td id=\"T_4c47a_row7_col6\" class=\"data row7 col6\" >0.2140</td>\n",
              "      <td id=\"T_4c47a_row7_col7\" class=\"data row7 col7\" >0.2166</td>\n",
              "      <td id=\"T_4c47a_row7_col8\" class=\"data row7 col8\" >0.0900</td>\n",
              "    </tr>\n",
              "    <tr>\n",
              "      <th id=\"T_4c47a_level0_row8\" class=\"row_heading level0 row8\" >7</th>\n",
              "      <td id=\"T_4c47a_row8_col0\" class=\"data row8 col0\" >Quadratic Discriminant Analysis</td>\n",
              "      <td id=\"T_4c47a_row8_col1\" class=\"data row8 col1\" >0.5894</td>\n",
              "      <td id=\"T_4c47a_row8_col2\" class=\"data row8 col2\" >0.5994</td>\n",
              "      <td id=\"T_4c47a_row8_col3\" class=\"data row8 col3\" >0.7639</td>\n",
              "      <td id=\"T_4c47a_row8_col4\" class=\"data row8 col4\" >0.5956</td>\n",
              "      <td id=\"T_4c47a_row8_col5\" class=\"data row8 col5\" >0.6692</td>\n",
              "      <td id=\"T_4c47a_row8_col6\" class=\"data row8 col6\" >0.1491</td>\n",
              "      <td id=\"T_4c47a_row8_col7\" class=\"data row8 col7\" >0.1579</td>\n",
              "      <td id=\"T_4c47a_row8_col8\" class=\"data row8 col8\" >0.0150</td>\n",
              "    </tr>\n",
              "    <tr>\n",
              "      <th id=\"T_4c47a_level0_row9\" class=\"row_heading level0 row9\" >1</th>\n",
              "      <td id=\"T_4c47a_row9_col0\" class=\"data row9 col0\" >Decision Tree Classifier</td>\n",
              "      <td id=\"T_4c47a_row9_col1\" class=\"data row9 col1\" >0.5546</td>\n",
              "      <td id=\"T_4c47a_row9_col2\" class=\"data row9 col2\" >0.5507</td>\n",
              "      <td id=\"T_4c47a_row9_col3\" class=\"data row9 col3\" >0.5957</td>\n",
              "      <td id=\"T_4c47a_row9_col4\" class=\"data row9 col4\" >0.5893</td>\n",
              "      <td id=\"T_4c47a_row9_col5\" class=\"data row9 col5\" >0.5915</td>\n",
              "      <td id=\"T_4c47a_row9_col6\" class=\"data row9 col6\" >0.1017</td>\n",
              "      <td id=\"T_4c47a_row9_col7\" class=\"data row9 col7\" >0.1021</td>\n",
              "      <td id=\"T_4c47a_row9_col8\" class=\"data row9 col8\" >0.2880</td>\n",
              "    </tr>\n",
              "  </tbody>\n",
              "</table>\n"
            ],
            "text/plain": [
              "<pandas.io.formats.style.Styler at 0x1b62dab3880>"
            ]
          },
          "metadata": {},
          "output_type": "display_data"
        },
        {
          "data": {
            "text/html": [],
            "text/plain": [
              "<IPython.core.display.HTML object>"
            ]
          },
          "metadata": {},
          "output_type": "display_data"
        },
        {
          "data": {
            "text/plain": [
              "<RiskLabAI.features.feature_importance.swefi.stability_weighted_ensemble_feature_importance.SWEFI at 0x1b62c6cad10>"
            ]
          },
          "execution_count": 43,
          "metadata": {},
          "output_type": "execute_result"
        }
      ],
      "source": [
        "swefi.select_models(select_n_model=select_n_model)"
      ]
    },
    {
      "cell_type": "markdown",
      "metadata": {
        "id": "8KuiQwkCABqN"
      },
      "source": [
        "# Fine-Tune Selected Models"
      ]
    },
    {
      "cell_type": "code",
      "execution_count": 44,
      "metadata": {
        "colab": {
          "base_uri": "https://localhost:8080/",
          "height": 1000,
          "referenced_widgets": [
            "cb86643d9ec84b7d8051d4b32726c785",
            "f698132dcf204291882c16d4707575ab",
            "2deea4dfc78441eab17026b1e79cd2c6",
            "33a5d2860cab41bf8c4e35671f4e028a",
            "273254f3183944e2bd2dff8e837ca794",
            "136eb9069b294307a1e1da3075e1247c",
            "bbb0e3c74867471fa661a170a17bee8f",
            "7cdf807d1c824fd8924f3c352e78fbf6",
            "39917f5b2de245aea74c1c85480ff003",
            "002be6c3b45b4e758dfe9e002602825d",
            "7a0824236cd84d598e068942e88fc691",
            "29af35b56d4a46408abc74fd084e393b",
            "73852379298b4645984b1e54f164597c",
            "ed03b412e14b496c9b13a52ca35e01c5",
            "fe9c663492ff4ea3a42280c13004889e",
            "bcc2cbcdc08e4e118adf874289807b13",
            "67205b73ab3c48e9ae3c2aec87829d46",
            "da3918826a3a4af5bb273838188029cf",
            "df8f665e5c9b46268e326f61f9a6b11b",
            "896ad6b564a14bd4aa7e0ca514b1f7c7",
            "3db6290b4c684b5db7a926c7f049c15d",
            "577ca442105843538eb1a92ae1e3e9cb",
            "1ca0cfb13dc1423da9c587285df6e765",
            "6e6367ac05714e99a78a2cc5ae2ac8a6",
            "df2d32cee0114421bb8c61b9a1eacc78",
            "363518ea372c4b38a76ea70eef05f7f1",
            "fc67b55c59f44e70b086ddedd99b50ff",
            "c1a088832100484281c6e413246dc4ea",
            "bb291f7366554cb385beffd5304208d9",
            "f926ca0ddfaa4292a8d6b3192eb02a55",
            "2ccc5c40be634e738860ee3730754344",
            "9649a67855af4853a2ca2aeb97e4651a",
            "8eef960e2a9c4357a9c4ee26cabd700d",
            "1fac93eaeeca4274913eea5d966974ef",
            "dd415aae1e424bef8645f504ef7ff94b",
            "0afe6a55318e41c8911d00f7599b6478",
            "776f51ded9864b868b0981e783cb6def",
            "e9c0869940124ba591287d1ff528fdc9",
            "7b840a44e9e04c5b908c2788cf12ffb3",
            "5fe1217f147c4dac974a2a13c25ca701",
            "6bb4bd185d7f401580f6dae4407a3361",
            "dc0531dba5f44bf5b27e0bd8f0996580",
            "7f3fd9bb55c7459f9f2a0d186497ac6e",
            "abd22d76faf0441d894607e8ac2de71d",
            "d21ba0f068ad4c7286730b32d49a3165",
            "2d9e9e716af245af9f9022b340385135",
            "bb6855b5d8904a408c027e22571cc1ad",
            "c175b22f4a824e1385d1e3343f911609",
            "2db0deca1f2449e0a28320e2c99ee077",
            "a9c89508c72a43d4a87641d9935d2a0b",
            "de2c5322c8ee49e8ac9148b0e2f46ce1",
            "e592687f9b31402c9d61b99d9510d83f",
            "b5cf5920ce7c4c4c80ce4d4468d9043c",
            "064cc33ab944471cb855b25c94e5e016",
            "b6ea13162d8a425486866ffcc09e1efb",
            "e02d5e0a85c3460199faad4150c828e1",
            "225e6f1093df4232991fb46f3395d5a5",
            "393f03aa3a05493da716f8147863995e",
            "f5b251e82cd742ed97ffa2c46a92b9f2",
            "3a72f7409bbc4ff792e643ccfce8e614",
            "4cdd0f0fb3c04977b367293b87f9188b",
            "20187e5c1c7c4fc3a0d24f234060d175",
            "2bb9e37767b9449eabd1a0fc3535f95b",
            "ee5df7a7946f407096963c3951bb9ecd",
            "27a891a5d11a40e786bba56280e6f23c",
            "10cea19de7884079912b6342e809a40f",
            "f5cf5f62b5a049de9e4d987eee293df3",
            "766eac26d5634e6bbfdb7a734f96b3f6",
            "f3957464e06e4481aab754128649c7f7",
            "7752df6105b04ada913345e5ea0f8774",
            "fc3ef26938064dc0bc2758f5e4ef00bf",
            "22e0e2bc583a4653b8b6b1c7c2eaa123",
            "a15be4b4e5c54c3ba87cb767d6d43cf2",
            "1d41c4e3984446be9c3298b7ab4c6cf8",
            "363aea8185d849a2bea1327f563ebcdd",
            "14798618ab904ee1b6faddb69e30ebe7",
            "7dc56d4f2e1c4c82a166a7a138d8bbf9",
            "5cdbfb2f0ff74ea1bf6847d1cb2d8ba4",
            "d1df5ab6e3ac4880a7ec33d080010a63",
            "4d380431d2584f2bb78cf35b75f22b82",
            "c8a5c38efef140b69f143bff8ba9095a",
            "2d06aecbcb854cd2832a3b1282e7170f",
            "ee18e84a5f084bb986f3ae0a4d70506e",
            "439ac6a44c2f4d4285d3a5be5b99e3d3",
            "0913c314cc3043f39c861fa8718a6545",
            "c1b862d1e3674409b1b2aa91245d7f47",
            "0ffcf2c56b074936a38948dc8c66e71e",
            "bc8e928e53c945d3835e7befcd53683b",
            "62b7a6111daf4d8f9f78bce842e1b5ab",
            "b2c4648440c34ec7ab55a3d6b2b823c9",
            "d62a771fe78544b7a3a2484c5557a08d",
            "25874127953d4080a135eb650e3bf8a4",
            "9ebd79ffdd074e3ca6b57a7c5b1075a0",
            "f2cd74b3939946ccbf33f7fe492edc70",
            "e2060745923a455d9bd995706ded7107",
            "149c342a656e4db2ab4da8f22171abbd",
            "28203a3a1984452599a43c3e4c149914",
            "a74be3b783fa4f0fac355d13d2b9dc38",
            "fe9c4b7b64f0456c8ff9b9b64417352e"
          ]
        },
        "id": "bklbcPmDADRF",
        "outputId": "b556763d-7b7f-4640-9914-a28c60a8b8f9"
      },
      "outputs": [
        {
          "name": "stdout",
          "output_type": "stream",
          "text": [
            "--------------------------------------------------------------------------------\n",
            "MLPClassifier\n"
          ]
        },
        {
          "data": {
            "text/html": [],
            "text/plain": [
              "<IPython.core.display.HTML object>"
            ]
          },
          "metadata": {},
          "output_type": "display_data"
        },
        {
          "data": {
            "text/html": [
              "<style type=\"text/css\">\n",
              "#T_7ff4e_row4_col0, #T_7ff4e_row4_col1, #T_7ff4e_row4_col2, #T_7ff4e_row4_col3, #T_7ff4e_row4_col4, #T_7ff4e_row4_col5, #T_7ff4e_row4_col6 {\n",
              "  background: yellow;\n",
              "}\n",
              "</style>\n",
              "<table id=\"T_7ff4e\">\n",
              "  <thead>\n",
              "    <tr>\n",
              "      <th class=\"blank level0\" >&nbsp;</th>\n",
              "      <th id=\"T_7ff4e_level0_col0\" class=\"col_heading level0 col0\" >Accuracy</th>\n",
              "      <th id=\"T_7ff4e_level0_col1\" class=\"col_heading level0 col1\" >AUC</th>\n",
              "      <th id=\"T_7ff4e_level0_col2\" class=\"col_heading level0 col2\" >Recall</th>\n",
              "      <th id=\"T_7ff4e_level0_col3\" class=\"col_heading level0 col3\" >Prec.</th>\n",
              "      <th id=\"T_7ff4e_level0_col4\" class=\"col_heading level0 col4\" >F1</th>\n",
              "      <th id=\"T_7ff4e_level0_col5\" class=\"col_heading level0 col5\" >Kappa</th>\n",
              "      <th id=\"T_7ff4e_level0_col6\" class=\"col_heading level0 col6\" >MCC</th>\n",
              "    </tr>\n",
              "    <tr>\n",
              "      <th class=\"index_name level0\" >Fold</th>\n",
              "      <th class=\"blank col0\" >&nbsp;</th>\n",
              "      <th class=\"blank col1\" >&nbsp;</th>\n",
              "      <th class=\"blank col2\" >&nbsp;</th>\n",
              "      <th class=\"blank col3\" >&nbsp;</th>\n",
              "      <th class=\"blank col4\" >&nbsp;</th>\n",
              "      <th class=\"blank col5\" >&nbsp;</th>\n",
              "      <th class=\"blank col6\" >&nbsp;</th>\n",
              "    </tr>\n",
              "  </thead>\n",
              "  <tbody>\n",
              "    <tr>\n",
              "      <th id=\"T_7ff4e_level0_row0\" class=\"row_heading level0 row0\" >0</th>\n",
              "      <td id=\"T_7ff4e_row0_col0\" class=\"data row0 col0\" >0.6521</td>\n",
              "      <td id=\"T_7ff4e_row0_col1\" class=\"data row0 col1\" >0.6917</td>\n",
              "      <td id=\"T_7ff4e_row0_col2\" class=\"data row0 col2\" >0.7630</td>\n",
              "      <td id=\"T_7ff4e_row0_col3\" class=\"data row0 col3\" >0.6545</td>\n",
              "      <td id=\"T_7ff4e_row0_col4\" class=\"data row0 col4\" >0.7046</td>\n",
              "      <td id=\"T_7ff4e_row0_col5\" class=\"data row0 col5\" >0.2874</td>\n",
              "      <td id=\"T_7ff4e_row0_col6\" class=\"data row0 col6\" >0.2924</td>\n",
              "    </tr>\n",
              "    <tr>\n",
              "      <th id=\"T_7ff4e_level0_row1\" class=\"row_heading level0 row1\" >1</th>\n",
              "      <td id=\"T_7ff4e_row1_col0\" class=\"data row1 col0\" >0.6408</td>\n",
              "      <td id=\"T_7ff4e_row1_col1\" class=\"data row1 col1\" >0.6862</td>\n",
              "      <td id=\"T_7ff4e_row1_col2\" class=\"data row1 col2\" >0.7476</td>\n",
              "      <td id=\"T_7ff4e_row1_col3\" class=\"data row1 col3\" >0.6461</td>\n",
              "      <td id=\"T_7ff4e_row1_col4\" class=\"data row1 col4\" >0.6932</td>\n",
              "      <td id=\"T_7ff4e_row1_col5\" class=\"data row1 col5\" >0.2656</td>\n",
              "      <td id=\"T_7ff4e_row1_col6\" class=\"data row1 col6\" >0.2698</td>\n",
              "    </tr>\n",
              "    <tr>\n",
              "      <th id=\"T_7ff4e_level0_row2\" class=\"row_heading level0 row2\" >2</th>\n",
              "      <td id=\"T_7ff4e_row2_col0\" class=\"data row2 col0\" >0.6382</td>\n",
              "      <td id=\"T_7ff4e_row2_col1\" class=\"data row2 col1\" >0.6780</td>\n",
              "      <td id=\"T_7ff4e_row2_col2\" class=\"data row2 col2\" >0.7299</td>\n",
              "      <td id=\"T_7ff4e_row2_col3\" class=\"data row2 col3\" >0.6498</td>\n",
              "      <td id=\"T_7ff4e_row2_col4\" class=\"data row2 col4\" >0.6875</td>\n",
              "      <td id=\"T_7ff4e_row2_col5\" class=\"data row2 col5\" >0.2615</td>\n",
              "      <td id=\"T_7ff4e_row2_col6\" class=\"data row2 col6\" >0.2640</td>\n",
              "    </tr>\n",
              "    <tr>\n",
              "      <th id=\"T_7ff4e_level0_row3\" class=\"row_heading level0 row3\" >3</th>\n",
              "      <td id=\"T_7ff4e_row3_col0\" class=\"data row3 col0\" >0.6176</td>\n",
              "      <td id=\"T_7ff4e_row3_col1\" class=\"data row3 col1\" >0.6723</td>\n",
              "      <td id=\"T_7ff4e_row3_col2\" class=\"data row3 col2\" >0.6445</td>\n",
              "      <td id=\"T_7ff4e_row3_col3\" class=\"data row3 col3\" >0.6507</td>\n",
              "      <td id=\"T_7ff4e_row3_col4\" class=\"data row3 col4\" >0.6476</td>\n",
              "      <td id=\"T_7ff4e_row3_col5\" class=\"data row3 col5\" >0.2296</td>\n",
              "      <td id=\"T_7ff4e_row3_col6\" class=\"data row3 col6\" >0.2296</td>\n",
              "    </tr>\n",
              "    <tr>\n",
              "      <th id=\"T_7ff4e_level0_row4\" class=\"row_heading level0 row4\" >Mean</th>\n",
              "      <td id=\"T_7ff4e_row4_col0\" class=\"data row4 col0\" >0.6372</td>\n",
              "      <td id=\"T_7ff4e_row4_col1\" class=\"data row4 col1\" >0.6820</td>\n",
              "      <td id=\"T_7ff4e_row4_col2\" class=\"data row4 col2\" >0.7213</td>\n",
              "      <td id=\"T_7ff4e_row4_col3\" class=\"data row4 col3\" >0.6503</td>\n",
              "      <td id=\"T_7ff4e_row4_col4\" class=\"data row4 col4\" >0.6832</td>\n",
              "      <td id=\"T_7ff4e_row4_col5\" class=\"data row4 col5\" >0.2610</td>\n",
              "      <td id=\"T_7ff4e_row4_col6\" class=\"data row4 col6\" >0.2639</td>\n",
              "    </tr>\n",
              "    <tr>\n",
              "      <th id=\"T_7ff4e_level0_row5\" class=\"row_heading level0 row5\" >Std</th>\n",
              "      <td id=\"T_7ff4e_row5_col0\" class=\"data row5 col0\" >0.0125</td>\n",
              "      <td id=\"T_7ff4e_row5_col1\" class=\"data row5 col1\" >0.0075</td>\n",
              "      <td id=\"T_7ff4e_row5_col2\" class=\"data row5 col2\" >0.0458</td>\n",
              "      <td id=\"T_7ff4e_row5_col3\" class=\"data row5 col3\" >0.0030</td>\n",
              "      <td id=\"T_7ff4e_row5_col4\" class=\"data row5 col4\" >0.0215</td>\n",
              "      <td id=\"T_7ff4e_row5_col5\" class=\"data row5 col5\" >0.0207</td>\n",
              "      <td id=\"T_7ff4e_row5_col6\" class=\"data row5 col6\" >0.0225</td>\n",
              "    </tr>\n",
              "  </tbody>\n",
              "</table>\n"
            ],
            "text/plain": [
              "<pandas.io.formats.style.Styler at 0x1b62b7fb670>"
            ]
          },
          "metadata": {},
          "output_type": "display_data"
        },
        {
          "data": {
            "text/html": [],
            "text/plain": [
              "<IPython.core.display.HTML object>"
            ]
          },
          "metadata": {},
          "output_type": "display_data"
        },
        {
          "name": "stdout",
          "output_type": "stream",
          "text": [
            "Fitting 4 folds for each of 1 candidates, totalling 4 fits\n",
            "Fitting 4 folds for each of 1 candidates, totalling 4 fits\n",
            "Fitting 4 folds for each of 1 candidates, totalling 4 fits\n",
            "Fitting 4 folds for each of 1 candidates, totalling 4 fits\n",
            "Fitting 4 folds for each of 1 candidates, totalling 4 fits\n",
            "Fitting 4 folds for each of 1 candidates, totalling 4 fits\n",
            "Fitting 4 folds for each of 1 candidates, totalling 4 fits\n",
            "Fitting 4 folds for each of 1 candidates, totalling 4 fits\n",
            "Fitting 4 folds for each of 1 candidates, totalling 4 fits\n",
            "Fitting 4 folds for each of 1 candidates, totalling 4 fits\n",
            "Fitting 4 folds for each of 1 candidates, totalling 4 fits\n",
            "Fitting 4 folds for each of 1 candidates, totalling 4 fits\n",
            "Fitting 4 folds for each of 1 candidates, totalling 4 fits\n",
            "Fitting 4 folds for each of 1 candidates, totalling 4 fits\n",
            "Fitting 4 folds for each of 1 candidates, totalling 4 fits\n",
            "Fitting 4 folds for each of 1 candidates, totalling 4 fits\n",
            "Fitting 4 folds for each of 1 candidates, totalling 4 fits\n",
            "Fitting 4 folds for each of 1 candidates, totalling 4 fits\n",
            "Fitting 4 folds for each of 1 candidates, totalling 4 fits\n",
            "Fitting 4 folds for each of 1 candidates, totalling 4 fits\n",
            "Fitting 4 folds for each of 1 candidates, totalling 4 fits\n",
            "Fitting 4 folds for each of 1 candidates, totalling 4 fits\n",
            "Fitting 4 folds for each of 1 candidates, totalling 4 fits\n",
            "Fitting 4 folds for each of 1 candidates, totalling 4 fits\n",
            "Fitting 4 folds for each of 1 candidates, totalling 4 fits\n",
            "--------------------------------------------------------------------------------\n",
            "SVC\n",
            "Custom config ...\n"
          ]
        },
        {
          "data": {
            "text/html": [],
            "text/plain": [
              "<IPython.core.display.HTML object>"
            ]
          },
          "metadata": {},
          "output_type": "display_data"
        },
        {
          "data": {
            "text/html": [
              "<style type=\"text/css\">\n",
              "#T_df702_row4_col0, #T_df702_row4_col1, #T_df702_row4_col2, #T_df702_row4_col3, #T_df702_row4_col4, #T_df702_row4_col5, #T_df702_row4_col6 {\n",
              "  background: yellow;\n",
              "}\n",
              "</style>\n",
              "<table id=\"T_df702\">\n",
              "  <thead>\n",
              "    <tr>\n",
              "      <th class=\"blank level0\" >&nbsp;</th>\n",
              "      <th id=\"T_df702_level0_col0\" class=\"col_heading level0 col0\" >Accuracy</th>\n",
              "      <th id=\"T_df702_level0_col1\" class=\"col_heading level0 col1\" >AUC</th>\n",
              "      <th id=\"T_df702_level0_col2\" class=\"col_heading level0 col2\" >Recall</th>\n",
              "      <th id=\"T_df702_level0_col3\" class=\"col_heading level0 col3\" >Prec.</th>\n",
              "      <th id=\"T_df702_level0_col4\" class=\"col_heading level0 col4\" >F1</th>\n",
              "      <th id=\"T_df702_level0_col5\" class=\"col_heading level0 col5\" >Kappa</th>\n",
              "      <th id=\"T_df702_level0_col6\" class=\"col_heading level0 col6\" >MCC</th>\n",
              "    </tr>\n",
              "    <tr>\n",
              "      <th class=\"index_name level0\" >Fold</th>\n",
              "      <th class=\"blank col0\" >&nbsp;</th>\n",
              "      <th class=\"blank col1\" >&nbsp;</th>\n",
              "      <th class=\"blank col2\" >&nbsp;</th>\n",
              "      <th class=\"blank col3\" >&nbsp;</th>\n",
              "      <th class=\"blank col4\" >&nbsp;</th>\n",
              "      <th class=\"blank col5\" >&nbsp;</th>\n",
              "      <th class=\"blank col6\" >&nbsp;</th>\n",
              "    </tr>\n",
              "  </thead>\n",
              "  <tbody>\n",
              "    <tr>\n",
              "      <th id=\"T_df702_level0_row0\" class=\"row_heading level0 row0\" >0</th>\n",
              "      <td id=\"T_df702_row0_col0\" class=\"data row0 col0\" >0.6314</td>\n",
              "      <td id=\"T_df702_row0_col1\" class=\"data row0 col1\" >0.6935</td>\n",
              "      <td id=\"T_df702_row0_col2\" class=\"data row0 col2\" >0.8673</td>\n",
              "      <td id=\"T_df702_row0_col3\" class=\"data row0 col3\" >0.6141</td>\n",
              "      <td id=\"T_df702_row0_col4\" class=\"data row0 col4\" >0.7191</td>\n",
              "      <td id=\"T_df702_row0_col5\" class=\"data row0 col5\" >0.2266</td>\n",
              "      <td id=\"T_df702_row0_col6\" class=\"data row0 col6\" >0.2568</td>\n",
              "    </tr>\n",
              "    <tr>\n",
              "      <th id=\"T_df702_level0_row1\" class=\"row_heading level0 row1\" >1</th>\n",
              "      <td id=\"T_df702_row1_col0\" class=\"data row1 col0\" >0.6460</td>\n",
              "      <td id=\"T_df702_row1_col1\" class=\"data row1 col1\" >0.6946</td>\n",
              "      <td id=\"T_df702_row1_col2\" class=\"data row1 col2\" >0.8381</td>\n",
              "      <td id=\"T_df702_row1_col3\" class=\"data row1 col3\" >0.6308</td>\n",
              "      <td id=\"T_df702_row1_col4\" class=\"data row1 col4\" >0.7198</td>\n",
              "      <td id=\"T_df702_row1_col5\" class=\"data row1 col5\" >0.2643</td>\n",
              "      <td id=\"T_df702_row1_col6\" class=\"data row1 col6\" >0.2845</td>\n",
              "    </tr>\n",
              "    <tr>\n",
              "      <th id=\"T_df702_level0_row2\" class=\"row_heading level0 row2\" >2</th>\n",
              "      <td id=\"T_df702_row2_col0\" class=\"data row2 col0\" >0.6021</td>\n",
              "      <td id=\"T_df702_row2_col1\" class=\"data row2 col1\" >0.6590</td>\n",
              "      <td id=\"T_df702_row2_col2\" class=\"data row2 col2\" >0.7962</td>\n",
              "      <td id=\"T_df702_row2_col3\" class=\"data row2 col3\" >0.6022</td>\n",
              "      <td id=\"T_df702_row2_col4\" class=\"data row2 col4\" >0.6857</td>\n",
              "      <td id=\"T_df702_row2_col5\" class=\"data row2 col5\" >0.1710</td>\n",
              "      <td id=\"T_df702_row2_col6\" class=\"data row2 col6\" >0.1838</td>\n",
              "    </tr>\n",
              "    <tr>\n",
              "      <th id=\"T_df702_level0_row3\" class=\"row_heading level0 row3\" >3</th>\n",
              "      <td id=\"T_df702_row3_col0\" class=\"data row3 col0\" >0.6176</td>\n",
              "      <td id=\"T_df702_row3_col1\" class=\"data row3 col1\" >0.6476</td>\n",
              "      <td id=\"T_df702_row3_col2\" class=\"data row3 col2\" >0.8152</td>\n",
              "      <td id=\"T_df702_row3_col3\" class=\"data row3 col3\" >0.6121</td>\n",
              "      <td id=\"T_df702_row3_col4\" class=\"data row3 col4\" >0.6992</td>\n",
              "      <td id=\"T_df702_row3_col5\" class=\"data row3 col5\" >0.2025</td>\n",
              "      <td id=\"T_df702_row3_col6\" class=\"data row3 col6\" >0.2187</td>\n",
              "    </tr>\n",
              "    <tr>\n",
              "      <th id=\"T_df702_level0_row4\" class=\"row_heading level0 row4\" >Mean</th>\n",
              "      <td id=\"T_df702_row4_col0\" class=\"data row4 col0\" >0.6243</td>\n",
              "      <td id=\"T_df702_row4_col1\" class=\"data row4 col1\" >0.6737</td>\n",
              "      <td id=\"T_df702_row4_col2\" class=\"data row4 col2\" >0.8292</td>\n",
              "      <td id=\"T_df702_row4_col3\" class=\"data row4 col3\" >0.6148</td>\n",
              "      <td id=\"T_df702_row4_col4\" class=\"data row4 col4\" >0.7059</td>\n",
              "      <td id=\"T_df702_row4_col5\" class=\"data row4 col5\" >0.2161</td>\n",
              "      <td id=\"T_df702_row4_col6\" class=\"data row4 col6\" >0.2359</td>\n",
              "    </tr>\n",
              "    <tr>\n",
              "      <th id=\"T_df702_level0_row5\" class=\"row_heading level0 row5\" >Std</th>\n",
              "      <td id=\"T_df702_row5_col0\" class=\"data row5 col0\" >0.0163</td>\n",
              "      <td id=\"T_df702_row5_col1\" class=\"data row5 col1\" >0.0208</td>\n",
              "      <td id=\"T_df702_row5_col2\" class=\"data row5 col2\" >0.0265</td>\n",
              "      <td id=\"T_df702_row5_col3\" class=\"data row5 col3\" >0.0103</td>\n",
              "      <td id=\"T_df702_row5_col4\" class=\"data row5 col4\" >0.0143</td>\n",
              "      <td id=\"T_df702_row5_col5\" class=\"data row5 col5\" >0.0341</td>\n",
              "      <td id=\"T_df702_row5_col6\" class=\"data row5 col6\" >0.0381</td>\n",
              "    </tr>\n",
              "  </tbody>\n",
              "</table>\n"
            ],
            "text/plain": [
              "<pandas.io.formats.style.Styler at 0x1b62dab1cc0>"
            ]
          },
          "metadata": {},
          "output_type": "display_data"
        },
        {
          "data": {
            "text/html": [],
            "text/plain": [
              "<IPython.core.display.HTML object>"
            ]
          },
          "metadata": {},
          "output_type": "display_data"
        },
        {
          "name": "stdout",
          "output_type": "stream",
          "text": [
            "Fitting 4 folds for each of 1 candidates, totalling 4 fits\n",
            "Original model was better than the tuned model, hence it will be returned. NOTE: The display metrics are for the tuned model (not the original one).\n",
            "--------------------------------------------------------------------------------\n",
            "LinearDiscriminantAnalysis\n",
            "Custom config ...\n"
          ]
        },
        {
          "data": {
            "text/html": [],
            "text/plain": [
              "<IPython.core.display.HTML object>"
            ]
          },
          "metadata": {},
          "output_type": "display_data"
        },
        {
          "data": {
            "text/html": [
              "<style type=\"text/css\">\n",
              "#T_e3eea_row4_col0, #T_e3eea_row4_col1, #T_e3eea_row4_col2, #T_e3eea_row4_col3, #T_e3eea_row4_col4, #T_e3eea_row4_col5, #T_e3eea_row4_col6 {\n",
              "  background: yellow;\n",
              "}\n",
              "</style>\n",
              "<table id=\"T_e3eea\">\n",
              "  <thead>\n",
              "    <tr>\n",
              "      <th class=\"blank level0\" >&nbsp;</th>\n",
              "      <th id=\"T_e3eea_level0_col0\" class=\"col_heading level0 col0\" >Accuracy</th>\n",
              "      <th id=\"T_e3eea_level0_col1\" class=\"col_heading level0 col1\" >AUC</th>\n",
              "      <th id=\"T_e3eea_level0_col2\" class=\"col_heading level0 col2\" >Recall</th>\n",
              "      <th id=\"T_e3eea_level0_col3\" class=\"col_heading level0 col3\" >Prec.</th>\n",
              "      <th id=\"T_e3eea_level0_col4\" class=\"col_heading level0 col4\" >F1</th>\n",
              "      <th id=\"T_e3eea_level0_col5\" class=\"col_heading level0 col5\" >Kappa</th>\n",
              "      <th id=\"T_e3eea_level0_col6\" class=\"col_heading level0 col6\" >MCC</th>\n",
              "    </tr>\n",
              "    <tr>\n",
              "      <th class=\"index_name level0\" >Fold</th>\n",
              "      <th class=\"blank col0\" >&nbsp;</th>\n",
              "      <th class=\"blank col1\" >&nbsp;</th>\n",
              "      <th class=\"blank col2\" >&nbsp;</th>\n",
              "      <th class=\"blank col3\" >&nbsp;</th>\n",
              "      <th class=\"blank col4\" >&nbsp;</th>\n",
              "      <th class=\"blank col5\" >&nbsp;</th>\n",
              "      <th class=\"blank col6\" >&nbsp;</th>\n",
              "    </tr>\n",
              "  </thead>\n",
              "  <tbody>\n",
              "    <tr>\n",
              "      <th id=\"T_e3eea_level0_row0\" class=\"row_heading level0 row0\" >0</th>\n",
              "      <td id=\"T_e3eea_row0_col0\" class=\"data row0 col0\" >0.6340</td>\n",
              "      <td id=\"T_e3eea_row0_col1\" class=\"data row0 col1\" >0.6820</td>\n",
              "      <td id=\"T_e3eea_row0_col2\" class=\"data row0 col2\" >0.8057</td>\n",
              "      <td id=\"T_e3eea_row0_col3\" class=\"data row0 col3\" >0.6273</td>\n",
              "      <td id=\"T_e3eea_row0_col4\" class=\"data row0 col4\" >0.7054</td>\n",
              "      <td id=\"T_e3eea_row0_col5\" class=\"data row0 col5\" >0.2417</td>\n",
              "      <td id=\"T_e3eea_row0_col6\" class=\"data row0 col6\" >0.2551</td>\n",
              "    </tr>\n",
              "    <tr>\n",
              "      <th id=\"T_e3eea_level0_row1\" class=\"row_heading level0 row1\" >1</th>\n",
              "      <td id=\"T_e3eea_row1_col0\" class=\"data row1 col0\" >0.6589</td>\n",
              "      <td id=\"T_e3eea_row1_col1\" class=\"data row1 col1\" >0.6941</td>\n",
              "      <td id=\"T_e3eea_row1_col2\" class=\"data row1 col2\" >0.8048</td>\n",
              "      <td id=\"T_e3eea_row1_col3\" class=\"data row1 col3\" >0.6500</td>\n",
              "      <td id=\"T_e3eea_row1_col4\" class=\"data row1 col4\" >0.7191</td>\n",
              "      <td id=\"T_e3eea_row1_col5\" class=\"data row1 col5\" >0.2972</td>\n",
              "      <td id=\"T_e3eea_row1_col6\" class=\"data row1 col6\" >0.3084</td>\n",
              "    </tr>\n",
              "    <tr>\n",
              "      <th id=\"T_e3eea_level0_row2\" class=\"row_heading level0 row2\" >2</th>\n",
              "      <td id=\"T_e3eea_row2_col0\" class=\"data row2 col0\" >0.6098</td>\n",
              "      <td id=\"T_e3eea_row2_col1\" class=\"data row2 col1\" >0.6514</td>\n",
              "      <td id=\"T_e3eea_row2_col2\" class=\"data row2 col2\" >0.7488</td>\n",
              "      <td id=\"T_e3eea_row2_col3\" class=\"data row2 col3\" >0.6172</td>\n",
              "      <td id=\"T_e3eea_row2_col4\" class=\"data row2 col4\" >0.6767</td>\n",
              "      <td id=\"T_e3eea_row2_col5\" class=\"data row2 col5\" >0.1962</td>\n",
              "      <td id=\"T_e3eea_row2_col6\" class=\"data row2 col6\" >0.2020</td>\n",
              "    </tr>\n",
              "    <tr>\n",
              "      <th id=\"T_e3eea_level0_row3\" class=\"row_heading level0 row3\" >3</th>\n",
              "      <td id=\"T_e3eea_row3_col0\" class=\"data row3 col0\" >0.6098</td>\n",
              "      <td id=\"T_e3eea_row3_col1\" class=\"data row3 col1\" >0.6353</td>\n",
              "      <td id=\"T_e3eea_row3_col2\" class=\"data row3 col2\" >0.7299</td>\n",
              "      <td id=\"T_e3eea_row3_col3\" class=\"data row3 col3\" >0.6210</td>\n",
              "      <td id=\"T_e3eea_row3_col4\" class=\"data row3 col4\" >0.6710</td>\n",
              "      <td id=\"T_e3eea_row3_col5\" class=\"data row3 col5\" >0.1992</td>\n",
              "      <td id=\"T_e3eea_row3_col6\" class=\"data row3 col6\" >0.2032</td>\n",
              "    </tr>\n",
              "    <tr>\n",
              "      <th id=\"T_e3eea_level0_row4\" class=\"row_heading level0 row4\" >Mean</th>\n",
              "      <td id=\"T_e3eea_row4_col0\" class=\"data row4 col0\" >0.6281</td>\n",
              "      <td id=\"T_e3eea_row4_col1\" class=\"data row4 col1\" >0.6657</td>\n",
              "      <td id=\"T_e3eea_row4_col2\" class=\"data row4 col2\" >0.7723</td>\n",
              "      <td id=\"T_e3eea_row4_col3\" class=\"data row4 col3\" >0.6289</td>\n",
              "      <td id=\"T_e3eea_row4_col4\" class=\"data row4 col4\" >0.6931</td>\n",
              "      <td id=\"T_e3eea_row4_col5\" class=\"data row4 col5\" >0.2336</td>\n",
              "      <td id=\"T_e3eea_row4_col6\" class=\"data row4 col6\" >0.2422</td>\n",
              "    </tr>\n",
              "    <tr>\n",
              "      <th id=\"T_e3eea_level0_row5\" class=\"row_heading level0 row5\" >Std</th>\n",
              "      <td id=\"T_e3eea_row5_col0\" class=\"data row5 col0\" >0.0203</td>\n",
              "      <td id=\"T_e3eea_row5_col1\" class=\"data row5 col1\" >0.0235</td>\n",
              "      <td id=\"T_e3eea_row5_col2\" class=\"data row5 col2\" >0.0336</td>\n",
              "      <td id=\"T_e3eea_row5_col3\" class=\"data row5 col3\" >0.0127</td>\n",
              "      <td id=\"T_e3eea_row5_col4\" class=\"data row5 col4\" >0.0199</td>\n",
              "      <td id=\"T_e3eea_row5_col5\" class=\"data row5 col5\" >0.0409</td>\n",
              "      <td id=\"T_e3eea_row5_col6\" class=\"data row5 col6\" >0.0438</td>\n",
              "    </tr>\n",
              "  </tbody>\n",
              "</table>\n"
            ],
            "text/plain": [
              "<pandas.io.formats.style.Styler at 0x1b62b7fbf70>"
            ]
          },
          "metadata": {},
          "output_type": "display_data"
        },
        {
          "data": {
            "text/html": [],
            "text/plain": [
              "<IPython.core.display.HTML object>"
            ]
          },
          "metadata": {},
          "output_type": "display_data"
        },
        {
          "name": "stdout",
          "output_type": "stream",
          "text": [
            "Fitting 4 folds for each of 1 candidates, totalling 4 fits\n",
            "Original model was better than the tuned model, hence it will be returned. NOTE: The display metrics are for the tuned model (not the original one).\n",
            "--------------------------------------------------------------------------------\n",
            "RidgeClassifier\n",
            "Custom config ...\n"
          ]
        },
        {
          "data": {
            "text/html": [],
            "text/plain": [
              "<IPython.core.display.HTML object>"
            ]
          },
          "metadata": {},
          "output_type": "display_data"
        },
        {
          "data": {
            "text/html": [
              "<style type=\"text/css\">\n",
              "#T_d3e2b_row4_col0, #T_d3e2b_row4_col1, #T_d3e2b_row4_col2, #T_d3e2b_row4_col3, #T_d3e2b_row4_col4, #T_d3e2b_row4_col5, #T_d3e2b_row4_col6 {\n",
              "  background: yellow;\n",
              "}\n",
              "</style>\n",
              "<table id=\"T_d3e2b\">\n",
              "  <thead>\n",
              "    <tr>\n",
              "      <th class=\"blank level0\" >&nbsp;</th>\n",
              "      <th id=\"T_d3e2b_level0_col0\" class=\"col_heading level0 col0\" >Accuracy</th>\n",
              "      <th id=\"T_d3e2b_level0_col1\" class=\"col_heading level0 col1\" >AUC</th>\n",
              "      <th id=\"T_d3e2b_level0_col2\" class=\"col_heading level0 col2\" >Recall</th>\n",
              "      <th id=\"T_d3e2b_level0_col3\" class=\"col_heading level0 col3\" >Prec.</th>\n",
              "      <th id=\"T_d3e2b_level0_col4\" class=\"col_heading level0 col4\" >F1</th>\n",
              "      <th id=\"T_d3e2b_level0_col5\" class=\"col_heading level0 col5\" >Kappa</th>\n",
              "      <th id=\"T_d3e2b_level0_col6\" class=\"col_heading level0 col6\" >MCC</th>\n",
              "    </tr>\n",
              "    <tr>\n",
              "      <th class=\"index_name level0\" >Fold</th>\n",
              "      <th class=\"blank col0\" >&nbsp;</th>\n",
              "      <th class=\"blank col1\" >&nbsp;</th>\n",
              "      <th class=\"blank col2\" >&nbsp;</th>\n",
              "      <th class=\"blank col3\" >&nbsp;</th>\n",
              "      <th class=\"blank col4\" >&nbsp;</th>\n",
              "      <th class=\"blank col5\" >&nbsp;</th>\n",
              "      <th class=\"blank col6\" >&nbsp;</th>\n",
              "    </tr>\n",
              "  </thead>\n",
              "  <tbody>\n",
              "    <tr>\n",
              "      <th id=\"T_d3e2b_level0_row0\" class=\"row_heading level0 row0\" >0</th>\n",
              "      <td id=\"T_d3e2b_row0_col0\" class=\"data row0 col0\" >0.6392</td>\n",
              "      <td id=\"T_d3e2b_row0_col1\" class=\"data row0 col1\" >0.6817</td>\n",
              "      <td id=\"T_d3e2b_row0_col2\" class=\"data row0 col2\" >0.8152</td>\n",
              "      <td id=\"T_d3e2b_row0_col3\" class=\"data row0 col3\" >0.6300</td>\n",
              "      <td id=\"T_d3e2b_row0_col4\" class=\"data row0 col4\" >0.7107</td>\n",
              "      <td id=\"T_d3e2b_row0_col5\" class=\"data row0 col5\" >0.2516</td>\n",
              "      <td id=\"T_d3e2b_row0_col6\" class=\"data row0 col6\" >0.2667</td>\n",
              "    </tr>\n",
              "    <tr>\n",
              "      <th id=\"T_d3e2b_level0_row1\" class=\"row_heading level0 row1\" >1</th>\n",
              "      <td id=\"T_d3e2b_row1_col0\" class=\"data row1 col0\" >0.6563</td>\n",
              "      <td id=\"T_d3e2b_row1_col1\" class=\"data row1 col1\" >0.6913</td>\n",
              "      <td id=\"T_d3e2b_row1_col2\" class=\"data row1 col2\" >0.8000</td>\n",
              "      <td id=\"T_d3e2b_row1_col3\" class=\"data row1 col3\" >0.6486</td>\n",
              "      <td id=\"T_d3e2b_row1_col4\" class=\"data row1 col4\" >0.7164</td>\n",
              "      <td id=\"T_d3e2b_row1_col5\" class=\"data row1 col5\" >0.2922</td>\n",
              "      <td id=\"T_d3e2b_row1_col6\" class=\"data row1 col6\" >0.3027</td>\n",
              "    </tr>\n",
              "    <tr>\n",
              "      <th id=\"T_d3e2b_level0_row2\" class=\"row_heading level0 row2\" >2</th>\n",
              "      <td id=\"T_d3e2b_row2_col0\" class=\"data row2 col0\" >0.6098</td>\n",
              "      <td id=\"T_d3e2b_row2_col1\" class=\"data row2 col1\" >0.6531</td>\n",
              "      <td id=\"T_d3e2b_row2_col2\" class=\"data row2 col2\" >0.7630</td>\n",
              "      <td id=\"T_d3e2b_row2_col3\" class=\"data row2 col3\" >0.6145</td>\n",
              "      <td id=\"T_d3e2b_row2_col4\" class=\"data row2 col4\" >0.6808</td>\n",
              "      <td id=\"T_d3e2b_row2_col5\" class=\"data row2 col5\" >0.1938</td>\n",
              "      <td id=\"T_d3e2b_row2_col6\" class=\"data row2 col6\" >0.2014</td>\n",
              "    </tr>\n",
              "    <tr>\n",
              "      <th id=\"T_d3e2b_level0_row3\" class=\"row_heading level0 row3\" >3</th>\n",
              "      <td id=\"T_d3e2b_row3_col0\" class=\"data row3 col0\" >0.6072</td>\n",
              "      <td id=\"T_d3e2b_row3_col1\" class=\"data row3 col1\" >0.6391</td>\n",
              "      <td id=\"T_d3e2b_row3_col2\" class=\"data row3 col2\" >0.7441</td>\n",
              "      <td id=\"T_d3e2b_row3_col3\" class=\"data row3 col3\" >0.6157</td>\n",
              "      <td id=\"T_d3e2b_row3_col4\" class=\"data row3 col4\" >0.6738</td>\n",
              "      <td id=\"T_d3e2b_row3_col5\" class=\"data row3 col5\" >0.1912</td>\n",
              "      <td id=\"T_d3e2b_row3_col6\" class=\"data row3 col6\" >0.1967</td>\n",
              "    </tr>\n",
              "    <tr>\n",
              "      <th id=\"T_d3e2b_level0_row4\" class=\"row_heading level0 row4\" >Mean</th>\n",
              "      <td id=\"T_d3e2b_row4_col0\" class=\"data row4 col0\" >0.6281</td>\n",
              "      <td id=\"T_d3e2b_row4_col1\" class=\"data row4 col1\" >0.6663</td>\n",
              "      <td id=\"T_d3e2b_row4_col2\" class=\"data row4 col2\" >0.7806</td>\n",
              "      <td id=\"T_d3e2b_row4_col3\" class=\"data row4 col3\" >0.6272</td>\n",
              "      <td id=\"T_d3e2b_row4_col4\" class=\"data row4 col4\" >0.6954</td>\n",
              "      <td id=\"T_d3e2b_row4_col5\" class=\"data row4 col5\" >0.2322</td>\n",
              "      <td id=\"T_d3e2b_row4_col6\" class=\"data row4 col6\" >0.2419</td>\n",
              "    </tr>\n",
              "    <tr>\n",
              "      <th id=\"T_d3e2b_level0_row5\" class=\"row_heading level0 row5\" >Std</th>\n",
              "      <td id=\"T_d3e2b_row5_col0\" class=\"data row5 col0\" >0.0205</td>\n",
              "      <td id=\"T_d3e2b_row5_col1\" class=\"data row5 col1\" >0.0211</td>\n",
              "      <td id=\"T_d3e2b_row5_col2\" class=\"data row5 col2\" >0.0283</td>\n",
              "      <td id=\"T_d3e2b_row5_col3\" class=\"data row5 col3\" >0.0138</td>\n",
              "      <td id=\"T_d3e2b_row5_col4\" class=\"data row5 col4\" >0.0184</td>\n",
              "      <td id=\"T_d3e2b_row5_col5\" class=\"data row5 col5\" >0.0422</td>\n",
              "      <td id=\"T_d3e2b_row5_col6\" class=\"data row5 col6\" >0.0447</td>\n",
              "    </tr>\n",
              "  </tbody>\n",
              "</table>\n"
            ],
            "text/plain": [
              "<pandas.io.formats.style.Styler at 0x1b62db58e80>"
            ]
          },
          "metadata": {},
          "output_type": "display_data"
        },
        {
          "data": {
            "text/html": [],
            "text/plain": [
              "<IPython.core.display.HTML object>"
            ]
          },
          "metadata": {},
          "output_type": "display_data"
        },
        {
          "name": "stdout",
          "output_type": "stream",
          "text": [
            "Fitting 4 folds for each of 1 candidates, totalling 4 fits\n",
            "Original model was better than the tuned model, hence it will be returned. NOTE: The display metrics are for the tuned model (not the original one).\n",
            "--------------------------------------------------------------------------------\n",
            "LogisticRegression\n",
            "Custom config ...\n"
          ]
        },
        {
          "data": {
            "text/html": [],
            "text/plain": [
              "<IPython.core.display.HTML object>"
            ]
          },
          "metadata": {},
          "output_type": "display_data"
        },
        {
          "data": {
            "text/html": [
              "<style type=\"text/css\">\n",
              "#T_b31b8_row4_col0, #T_b31b8_row4_col1, #T_b31b8_row4_col2, #T_b31b8_row4_col3, #T_b31b8_row4_col4, #T_b31b8_row4_col5, #T_b31b8_row4_col6 {\n",
              "  background: yellow;\n",
              "}\n",
              "</style>\n",
              "<table id=\"T_b31b8\">\n",
              "  <thead>\n",
              "    <tr>\n",
              "      <th class=\"blank level0\" >&nbsp;</th>\n",
              "      <th id=\"T_b31b8_level0_col0\" class=\"col_heading level0 col0\" >Accuracy</th>\n",
              "      <th id=\"T_b31b8_level0_col1\" class=\"col_heading level0 col1\" >AUC</th>\n",
              "      <th id=\"T_b31b8_level0_col2\" class=\"col_heading level0 col2\" >Recall</th>\n",
              "      <th id=\"T_b31b8_level0_col3\" class=\"col_heading level0 col3\" >Prec.</th>\n",
              "      <th id=\"T_b31b8_level0_col4\" class=\"col_heading level0 col4\" >F1</th>\n",
              "      <th id=\"T_b31b8_level0_col5\" class=\"col_heading level0 col5\" >Kappa</th>\n",
              "      <th id=\"T_b31b8_level0_col6\" class=\"col_heading level0 col6\" >MCC</th>\n",
              "    </tr>\n",
              "    <tr>\n",
              "      <th class=\"index_name level0\" >Fold</th>\n",
              "      <th class=\"blank col0\" >&nbsp;</th>\n",
              "      <th class=\"blank col1\" >&nbsp;</th>\n",
              "      <th class=\"blank col2\" >&nbsp;</th>\n",
              "      <th class=\"blank col3\" >&nbsp;</th>\n",
              "      <th class=\"blank col4\" >&nbsp;</th>\n",
              "      <th class=\"blank col5\" >&nbsp;</th>\n",
              "      <th class=\"blank col6\" >&nbsp;</th>\n",
              "    </tr>\n",
              "  </thead>\n",
              "  <tbody>\n",
              "    <tr>\n",
              "      <th id=\"T_b31b8_level0_row0\" class=\"row_heading level0 row0\" >0</th>\n",
              "      <td id=\"T_b31b8_row0_col0\" class=\"data row0 col0\" >0.6495</td>\n",
              "      <td id=\"T_b31b8_row0_col1\" class=\"data row0 col1\" >0.6816</td>\n",
              "      <td id=\"T_b31b8_row0_col2\" class=\"data row0 col2\" >0.8104</td>\n",
              "      <td id=\"T_b31b8_row0_col3\" class=\"data row0 col3\" >0.6404</td>\n",
              "      <td id=\"T_b31b8_row0_col4\" class=\"data row0 col4\" >0.7155</td>\n",
              "      <td id=\"T_b31b8_row0_col5\" class=\"data row0 col5\" >0.2751</td>\n",
              "      <td id=\"T_b31b8_row0_col6\" class=\"data row0 col6\" >0.2882</td>\n",
              "    </tr>\n",
              "    <tr>\n",
              "      <th id=\"T_b31b8_level0_row1\" class=\"row_heading level0 row1\" >1</th>\n",
              "      <td id=\"T_b31b8_row1_col0\" class=\"data row1 col0\" >0.6615</td>\n",
              "      <td id=\"T_b31b8_row1_col1\" class=\"data row1 col1\" >0.6854</td>\n",
              "      <td id=\"T_b31b8_row1_col2\" class=\"data row1 col2\" >0.7905</td>\n",
              "      <td id=\"T_b31b8_row1_col3\" class=\"data row1 col3\" >0.6561</td>\n",
              "      <td id=\"T_b31b8_row1_col4\" class=\"data row1 col4\" >0.7171</td>\n",
              "      <td id=\"T_b31b8_row1_col5\" class=\"data row1 col5\" >0.3048</td>\n",
              "      <td id=\"T_b31b8_row1_col6\" class=\"data row1 col6\" >0.3130</td>\n",
              "    </tr>\n",
              "    <tr>\n",
              "      <th id=\"T_b31b8_level0_row2\" class=\"row_heading level0 row2\" >2</th>\n",
              "      <td id=\"T_b31b8_row2_col0\" class=\"data row2 col0\" >0.6098</td>\n",
              "      <td id=\"T_b31b8_row2_col1\" class=\"data row2 col1\" >0.6578</td>\n",
              "      <td id=\"T_b31b8_row2_col2\" class=\"data row2 col2\" >0.7393</td>\n",
              "      <td id=\"T_b31b8_row2_col3\" class=\"data row2 col3\" >0.6190</td>\n",
              "      <td id=\"T_b31b8_row2_col4\" class=\"data row2 col4\" >0.6739</td>\n",
              "      <td id=\"T_b31b8_row2_col5\" class=\"data row2 col5\" >0.1977</td>\n",
              "      <td id=\"T_b31b8_row2_col6\" class=\"data row2 col6\" >0.2026</td>\n",
              "    </tr>\n",
              "    <tr>\n",
              "      <th id=\"T_b31b8_level0_row3\" class=\"row_heading level0 row3\" >3</th>\n",
              "      <td id=\"T_b31b8_row3_col0\" class=\"data row3 col0\" >0.6176</td>\n",
              "      <td id=\"T_b31b8_row3_col1\" class=\"data row3 col1\" >0.6450</td>\n",
              "      <td id=\"T_b31b8_row3_col2\" class=\"data row3 col2\" >0.7299</td>\n",
              "      <td id=\"T_b31b8_row3_col3\" class=\"data row3 col3\" >0.6286</td>\n",
              "      <td id=\"T_b31b8_row3_col4\" class=\"data row3 col4\" >0.6754</td>\n",
              "      <td id=\"T_b31b8_row3_col5\" class=\"data row3 col5\" >0.2163</td>\n",
              "      <td id=\"T_b31b8_row3_col6\" class=\"data row3 col6\" >0.2199</td>\n",
              "    </tr>\n",
              "    <tr>\n",
              "      <th id=\"T_b31b8_level0_row4\" class=\"row_heading level0 row4\" >Mean</th>\n",
              "      <td id=\"T_b31b8_row4_col0\" class=\"data row4 col0\" >0.6346</td>\n",
              "      <td id=\"T_b31b8_row4_col1\" class=\"data row4 col1\" >0.6674</td>\n",
              "      <td id=\"T_b31b8_row4_col2\" class=\"data row4 col2\" >0.7675</td>\n",
              "      <td id=\"T_b31b8_row4_col3\" class=\"data row4 col3\" >0.6360</td>\n",
              "      <td id=\"T_b31b8_row4_col4\" class=\"data row4 col4\" >0.6955</td>\n",
              "      <td id=\"T_b31b8_row4_col5\" class=\"data row4 col5\" >0.2485</td>\n",
              "      <td id=\"T_b31b8_row4_col6\" class=\"data row4 col6\" >0.2559</td>\n",
              "    </tr>\n",
              "    <tr>\n",
              "      <th id=\"T_b31b8_level0_row5\" class=\"row_heading level0 row5\" >Std</th>\n",
              "      <td id=\"T_b31b8_row5_col0\" class=\"data row5 col0\" >0.0215</td>\n",
              "      <td id=\"T_b31b8_row5_col1\" class=\"data row5 col1\" >0.0167</td>\n",
              "      <td id=\"T_b31b8_row5_col2\" class=\"data row5 col2\" >0.0338</td>\n",
              "      <td id=\"T_b31b8_row5_col3\" class=\"data row5 col3\" >0.0139</td>\n",
              "      <td id=\"T_b31b8_row5_col4\" class=\"data row5 col4\" >0.0208</td>\n",
              "      <td id=\"T_b31b8_row5_col5\" class=\"data row5 col5\" >0.0433</td>\n",
              "      <td id=\"T_b31b8_row5_col6\" class=\"data row5 col6\" >0.0460</td>\n",
              "    </tr>\n",
              "  </tbody>\n",
              "</table>\n"
            ],
            "text/plain": [
              "<pandas.io.formats.style.Styler at 0x1b62db595d0>"
            ]
          },
          "metadata": {},
          "output_type": "display_data"
        },
        {
          "data": {
            "text/html": [],
            "text/plain": [
              "<IPython.core.display.HTML object>"
            ]
          },
          "metadata": {},
          "output_type": "display_data"
        },
        {
          "name": "stdout",
          "output_type": "stream",
          "text": [
            "Fitting 4 folds for each of 1 candidates, totalling 4 fits\n",
            "Original model was better than the tuned model, hence it will be returned. NOTE: The display metrics are for the tuned model (not the original one).\n"
          ]
        }
      ],
      "source": [
        "swefi.fine_tune_selected_models(\n",
        "    hpo_n_fold=hpo_n_fold,\n",
        "    hpo_n_iter=hpo_n_iter,\n",
        "    hpo_metric=hpo_metric,\n",
        "    hpo_search_algorithm=hpo_search_algorithm,\n",
        "    hpo_search_library=hpo_search_library\n",
        ");"
      ]
    },
    {
      "cell_type": "markdown",
      "metadata": {
        "id": "YBSCzPRBAG8U"
      },
      "source": [
        "# Select Univariate-Analysis Methods"
      ]
    },
    {
      "cell_type": "code",
      "execution_count": 45,
      "metadata": {
        "colab": {
          "base_uri": "https://localhost:8080/"
        },
        "id": "ADue9V97AKmU",
        "outputId": "a38736fd-8077-4025-f1c5-576656f06bdd"
      },
      "outputs": [
        {
          "data": {
            "text/plain": [
              "<RiskLabAI.features.feature_importance.swefi.stability_weighted_ensemble_feature_importance.SWEFI at 0x1b62c6cad10>"
            ]
          },
          "execution_count": 45,
          "metadata": {},
          "output_type": "execute_result"
        }
      ],
      "source": [
        "swefi.select_univariate_analysis_measurements(measurements=[\n",
        "        # UAMeasure.SPEARMAN.value,\n",
        "        # UAMeasure.PEARSON.value,\n",
        "        # UAMeasure.KENDAL_TAU.value,\n",
        "        UAMeasure.MUTUAL_INFORMATION.value,\n",
        "        UAMeasure.ANOVA_F.value,\n",
        "    ]\n",
        ")"
      ]
    },
    {
      "cell_type": "markdown",
      "metadata": {
        "id": "Hy95UW-YANVh"
      },
      "source": [
        "# Feature Importance Computation of Models"
      ]
    },
    {
      "cell_type": "code",
      "execution_count": 46,
      "metadata": {
        "colab": {
          "base_uri": "https://localhost:8080/",
          "height": 49,
          "referenced_widgets": [
            "e9d97b60930f4335b3b37b2a449e73c8",
            "da549353aae847b28e9348eeb39c229a",
            "f823e843fe014affb5a18d2892c93d9f",
            "4afd9c192b4148e5a526e22c09709b7b",
            "43db40ff8bdc4e92977f83d828a2b819",
            "dc383b71a7f64d77ae26e6174c019088",
            "2ef6db5c84894d8a8c56628313bce289",
            "91b3801124494cedb70e4bfc0edee3c7",
            "319e173b44b74667becf8693fd493a2e",
            "3744908c7f814dd3b3c93a66023f2a56",
            "9b6b87e860d94d0d8c208a4f50419d0d"
          ]
        },
        "id": "ikMCEN6UAQq5",
        "outputId": "ed2b8291-3243-4b90-a6ce-a0c548191ab1"
      },
      "outputs": [
        {
          "data": {
            "application/vnd.jupyter.widget-view+json": {
              "model_id": "393564b8961e402293c7682354e7e31e",
              "version_major": 2,
              "version_minor": 0
            },
            "text/plain": [
              "  0%|          | 0/5 [00:00<?, ?it/s]"
            ]
          },
          "metadata": {},
          "output_type": "display_data"
        }
      ],
      "source": [
        "swefi.compute_feature_importance_data(bootstrap_method=bootstrap_method, n_iteration=n_iteration, n_repeats=10);"
      ]
    },
    {
      "cell_type": "markdown",
      "metadata": {
        "id": "1IkfdL2jAVj-"
      },
      "source": [
        "# SWEFI Scores Computation"
      ]
    },
    {
      "cell_type": "code",
      "execution_count": 47,
      "metadata": {
        "id": "3cw3vff8AYd0"
      },
      "outputs": [],
      "source": [
        "swefi.compute_swefi_scores(percentage=percentage)\n",
        "swefi_scores = swefi.get_swefi_scores()"
      ]
    },
    {
      "cell_type": "markdown",
      "metadata": {
        "id": "_SCFPHqXAimE"
      },
      "source": [
        "# Show Results"
      ]
    },
    {
      "cell_type": "code",
      "execution_count": 48,
      "metadata": {},
      "outputs": [],
      "source": [
        "swefi_scores.to_csv('result.csv')"
      ]
    },
    {
      "cell_type": "code",
      "execution_count": 49,
      "metadata": {},
      "outputs": [],
      "source": [
        "import pandas as pd\n",
        "swefi_scores = pd.read_csv('result.csv', index_col=0)"
      ]
    },
    {
      "cell_type": "code",
      "execution_count": 50,
      "metadata": {
        "colab": {
          "base_uri": "https://localhost:8080/",
          "height": 1000
        },
        "id": "roEsMfYVAjV5",
        "outputId": "462baa39-8b84-41a5-c6f8-d645a7713299"
      },
      "outputs": [
        {
          "data": {
            "application/vnd.plotly.v1+json": {
              "config": {
                "plotlyServerURL": "https://plot.ly"
              },
              "data": [
                {
                  "error_y": {
                    "array": [
                      0.0005675818763591,
                      0.0007316154213633,
                      0.0008088614992831,
                      0.00082816095788,
                      0.0009073889614951,
                      0.0008453437026152,
                      0.0012136234133841,
                      0.0010598226119608,
                      0.0015417861533676,
                      0.0017656022527704,
                      0.0017814047658005,
                      0.001980900373345,
                      0.00191817689144,
                      0.0020396743256141,
                      0.0020963045252208,
                      0.0024259658467412,
                      0.00247553070801,
                      0.0022249009860487,
                      0.0023897755990725,
                      0.0027710875955512,
                      0.0028505365636978,
                      0.0028080368152765,
                      0.0038249003553772,
                      0.0028475103410846,
                      0.0030469099811785,
                      0.0028420259285851,
                      0.0035134527468259,
                      0.0036695311049661,
                      0.0038570561709932,
                      0.0041765533671571,
                      0.0041229083776524,
                      0.0044982505371394,
                      0.0038331610432735
                    ],
                    "type": "data"
                  },
                  "type": "bar",
                  "x": [
                    "XLU US Equity_SMAVG (15)",
                    "SPG1200_SMAVG (15)",
                    "CO1 Comdty_Volume",
                    "MXEF_Volume",
                    "CO1 Comdty_SMAVG (15)",
                    "MXEF_SMAVG (15)",
                    "XLU US Equity_Volume",
                    "MXEU_SMAVG (15)",
                    "XAU BGN Curncy_Last Price",
                    "SPG1200_Volume",
                    "XLU US Equity_Last Price",
                    "MXEU_Last Price",
                    "XLY US Equity_SMAVG (15)",
                    "MXEU_Volume",
                    "SPX Index - PE_Adjusted Price/Earnings ratio",
                    "XLY US Equity_Last Price",
                    "XLK US Equity_SMAVG (15)",
                    "MXEF_Last Price",
                    "SPX Index - Divident_Dividend 12 Month Yld - Gross",
                    "XLK US Equity_Volume",
                    "XLE US Equity_Volume",
                    "XLE US Equity_SMAVG (15)",
                    "XLY US Equity_Volume",
                    "DXY Curncy_Last Price",
                    "XLE US Equity_Last Price",
                    "CO1 Comdty_Last Price",
                    "XLK US Equity_Last Price",
                    "SPG1200_Last Price",
                    "FTAW01_Last Price",
                    "SPX Index - PB_Adjusted Price/Book ratio",
                    "MOODCBAA Index_Last Price",
                    "USGG10YR Index_Last Price",
                    "VIX_Last Price"
                  ],
                  "y": [
                    0.0048635671949292,
                    0.0056462771190153,
                    0.0073122335757708,
                    0.0074171739017519,
                    0.0075095880399741,
                    0.0080563327408034,
                    0.0086716097106739,
                    0.009609059118967,
                    0.0139090330631655,
                    0.0175380374687606,
                    0.0185334095233661,
                    0.0198839497391553,
                    0.0200154421788782,
                    0.0211757528593839,
                    0.0215132194371241,
                    0.023302141363559,
                    0.0243476597521712,
                    0.0243816162257901,
                    0.024681827610035,
                    0.0247893426101113,
                    0.027283461331211,
                    0.0329984519500874,
                    0.0404425747173562,
                    0.04216034982184,
                    0.0424350788682047,
                    0.0425818445893636,
                    0.0452590431143583,
                    0.0492668246813694,
                    0.0582997851090967,
                    0.0615611230416322,
                    0.0687683465163191,
                    0.077214201468789,
                    0.0985716415569852
                  ]
                }
              ],
              "layout": {
                "bargap": 0.1,
                "bargroupgap": 0.1,
                "height": 1500,
                "margin": {
                  "b": 10,
                  "l": 10,
                  "r": 10,
                  "t": 10
                },
                "paper_bgcolor": "white",
                "plot_bgcolor": "lightgrey",
                "template": {
                  "data": {
                    "bar": [
                      {
                        "error_x": {
                          "color": "#2a3f5f"
                        },
                        "error_y": {
                          "color": "#2a3f5f"
                        },
                        "marker": {
                          "line": {
                            "color": "#E5ECF6",
                            "width": 0.5
                          },
                          "pattern": {
                            "fillmode": "overlay",
                            "size": 10,
                            "solidity": 0.2
                          }
                        },
                        "type": "bar"
                      }
                    ],
                    "barpolar": [
                      {
                        "marker": {
                          "line": {
                            "color": "#E5ECF6",
                            "width": 0.5
                          },
                          "pattern": {
                            "fillmode": "overlay",
                            "size": 10,
                            "solidity": 0.2
                          }
                        },
                        "type": "barpolar"
                      }
                    ],
                    "carpet": [
                      {
                        "aaxis": {
                          "endlinecolor": "#2a3f5f",
                          "gridcolor": "white",
                          "linecolor": "white",
                          "minorgridcolor": "white",
                          "startlinecolor": "#2a3f5f"
                        },
                        "baxis": {
                          "endlinecolor": "#2a3f5f",
                          "gridcolor": "white",
                          "linecolor": "white",
                          "minorgridcolor": "white",
                          "startlinecolor": "#2a3f5f"
                        },
                        "type": "carpet"
                      }
                    ],
                    "choropleth": [
                      {
                        "colorbar": {
                          "outlinewidth": 0,
                          "ticks": ""
                        },
                        "type": "choropleth"
                      }
                    ],
                    "contour": [
                      {
                        "colorbar": {
                          "outlinewidth": 0,
                          "ticks": ""
                        },
                        "colorscale": [
                          [
                            0,
                            "#0d0887"
                          ],
                          [
                            0.1111111111111111,
                            "#46039f"
                          ],
                          [
                            0.2222222222222222,
                            "#7201a8"
                          ],
                          [
                            0.3333333333333333,
                            "#9c179e"
                          ],
                          [
                            0.4444444444444444,
                            "#bd3786"
                          ],
                          [
                            0.5555555555555556,
                            "#d8576b"
                          ],
                          [
                            0.6666666666666666,
                            "#ed7953"
                          ],
                          [
                            0.7777777777777778,
                            "#fb9f3a"
                          ],
                          [
                            0.8888888888888888,
                            "#fdca26"
                          ],
                          [
                            1,
                            "#f0f921"
                          ]
                        ],
                        "type": "contour"
                      }
                    ],
                    "contourcarpet": [
                      {
                        "colorbar": {
                          "outlinewidth": 0,
                          "ticks": ""
                        },
                        "type": "contourcarpet"
                      }
                    ],
                    "heatmap": [
                      {
                        "colorbar": {
                          "outlinewidth": 0,
                          "ticks": ""
                        },
                        "colorscale": [
                          [
                            0,
                            "#0d0887"
                          ],
                          [
                            0.1111111111111111,
                            "#46039f"
                          ],
                          [
                            0.2222222222222222,
                            "#7201a8"
                          ],
                          [
                            0.3333333333333333,
                            "#9c179e"
                          ],
                          [
                            0.4444444444444444,
                            "#bd3786"
                          ],
                          [
                            0.5555555555555556,
                            "#d8576b"
                          ],
                          [
                            0.6666666666666666,
                            "#ed7953"
                          ],
                          [
                            0.7777777777777778,
                            "#fb9f3a"
                          ],
                          [
                            0.8888888888888888,
                            "#fdca26"
                          ],
                          [
                            1,
                            "#f0f921"
                          ]
                        ],
                        "type": "heatmap"
                      }
                    ],
                    "heatmapgl": [
                      {
                        "colorbar": {
                          "outlinewidth": 0,
                          "ticks": ""
                        },
                        "colorscale": [
                          [
                            0,
                            "#0d0887"
                          ],
                          [
                            0.1111111111111111,
                            "#46039f"
                          ],
                          [
                            0.2222222222222222,
                            "#7201a8"
                          ],
                          [
                            0.3333333333333333,
                            "#9c179e"
                          ],
                          [
                            0.4444444444444444,
                            "#bd3786"
                          ],
                          [
                            0.5555555555555556,
                            "#d8576b"
                          ],
                          [
                            0.6666666666666666,
                            "#ed7953"
                          ],
                          [
                            0.7777777777777778,
                            "#fb9f3a"
                          ],
                          [
                            0.8888888888888888,
                            "#fdca26"
                          ],
                          [
                            1,
                            "#f0f921"
                          ]
                        ],
                        "type": "heatmapgl"
                      }
                    ],
                    "histogram": [
                      {
                        "marker": {
                          "pattern": {
                            "fillmode": "overlay",
                            "size": 10,
                            "solidity": 0.2
                          }
                        },
                        "type": "histogram"
                      }
                    ],
                    "histogram2d": [
                      {
                        "colorbar": {
                          "outlinewidth": 0,
                          "ticks": ""
                        },
                        "colorscale": [
                          [
                            0,
                            "#0d0887"
                          ],
                          [
                            0.1111111111111111,
                            "#46039f"
                          ],
                          [
                            0.2222222222222222,
                            "#7201a8"
                          ],
                          [
                            0.3333333333333333,
                            "#9c179e"
                          ],
                          [
                            0.4444444444444444,
                            "#bd3786"
                          ],
                          [
                            0.5555555555555556,
                            "#d8576b"
                          ],
                          [
                            0.6666666666666666,
                            "#ed7953"
                          ],
                          [
                            0.7777777777777778,
                            "#fb9f3a"
                          ],
                          [
                            0.8888888888888888,
                            "#fdca26"
                          ],
                          [
                            1,
                            "#f0f921"
                          ]
                        ],
                        "type": "histogram2d"
                      }
                    ],
                    "histogram2dcontour": [
                      {
                        "colorbar": {
                          "outlinewidth": 0,
                          "ticks": ""
                        },
                        "colorscale": [
                          [
                            0,
                            "#0d0887"
                          ],
                          [
                            0.1111111111111111,
                            "#46039f"
                          ],
                          [
                            0.2222222222222222,
                            "#7201a8"
                          ],
                          [
                            0.3333333333333333,
                            "#9c179e"
                          ],
                          [
                            0.4444444444444444,
                            "#bd3786"
                          ],
                          [
                            0.5555555555555556,
                            "#d8576b"
                          ],
                          [
                            0.6666666666666666,
                            "#ed7953"
                          ],
                          [
                            0.7777777777777778,
                            "#fb9f3a"
                          ],
                          [
                            0.8888888888888888,
                            "#fdca26"
                          ],
                          [
                            1,
                            "#f0f921"
                          ]
                        ],
                        "type": "histogram2dcontour"
                      }
                    ],
                    "mesh3d": [
                      {
                        "colorbar": {
                          "outlinewidth": 0,
                          "ticks": ""
                        },
                        "type": "mesh3d"
                      }
                    ],
                    "parcoords": [
                      {
                        "line": {
                          "colorbar": {
                            "outlinewidth": 0,
                            "ticks": ""
                          }
                        },
                        "type": "parcoords"
                      }
                    ],
                    "pie": [
                      {
                        "automargin": true,
                        "type": "pie"
                      }
                    ],
                    "scatter": [
                      {
                        "fillpattern": {
                          "fillmode": "overlay",
                          "size": 10,
                          "solidity": 0.2
                        },
                        "type": "scatter"
                      }
                    ],
                    "scatter3d": [
                      {
                        "line": {
                          "colorbar": {
                            "outlinewidth": 0,
                            "ticks": ""
                          }
                        },
                        "marker": {
                          "colorbar": {
                            "outlinewidth": 0,
                            "ticks": ""
                          }
                        },
                        "type": "scatter3d"
                      }
                    ],
                    "scattercarpet": [
                      {
                        "marker": {
                          "colorbar": {
                            "outlinewidth": 0,
                            "ticks": ""
                          }
                        },
                        "type": "scattercarpet"
                      }
                    ],
                    "scattergeo": [
                      {
                        "marker": {
                          "colorbar": {
                            "outlinewidth": 0,
                            "ticks": ""
                          }
                        },
                        "type": "scattergeo"
                      }
                    ],
                    "scattergl": [
                      {
                        "marker": {
                          "colorbar": {
                            "outlinewidth": 0,
                            "ticks": ""
                          }
                        },
                        "type": "scattergl"
                      }
                    ],
                    "scattermapbox": [
                      {
                        "marker": {
                          "colorbar": {
                            "outlinewidth": 0,
                            "ticks": ""
                          }
                        },
                        "type": "scattermapbox"
                      }
                    ],
                    "scatterpolar": [
                      {
                        "marker": {
                          "colorbar": {
                            "outlinewidth": 0,
                            "ticks": ""
                          }
                        },
                        "type": "scatterpolar"
                      }
                    ],
                    "scatterpolargl": [
                      {
                        "marker": {
                          "colorbar": {
                            "outlinewidth": 0,
                            "ticks": ""
                          }
                        },
                        "type": "scatterpolargl"
                      }
                    ],
                    "scatterternary": [
                      {
                        "marker": {
                          "colorbar": {
                            "outlinewidth": 0,
                            "ticks": ""
                          }
                        },
                        "type": "scatterternary"
                      }
                    ],
                    "surface": [
                      {
                        "colorbar": {
                          "outlinewidth": 0,
                          "ticks": ""
                        },
                        "colorscale": [
                          [
                            0,
                            "#0d0887"
                          ],
                          [
                            0.1111111111111111,
                            "#46039f"
                          ],
                          [
                            0.2222222222222222,
                            "#7201a8"
                          ],
                          [
                            0.3333333333333333,
                            "#9c179e"
                          ],
                          [
                            0.4444444444444444,
                            "#bd3786"
                          ],
                          [
                            0.5555555555555556,
                            "#d8576b"
                          ],
                          [
                            0.6666666666666666,
                            "#ed7953"
                          ],
                          [
                            0.7777777777777778,
                            "#fb9f3a"
                          ],
                          [
                            0.8888888888888888,
                            "#fdca26"
                          ],
                          [
                            1,
                            "#f0f921"
                          ]
                        ],
                        "type": "surface"
                      }
                    ],
                    "table": [
                      {
                        "cells": {
                          "fill": {
                            "color": "#EBF0F8"
                          },
                          "line": {
                            "color": "white"
                          }
                        },
                        "header": {
                          "fill": {
                            "color": "#C8D4E3"
                          },
                          "line": {
                            "color": "white"
                          }
                        },
                        "type": "table"
                      }
                    ]
                  },
                  "layout": {
                    "annotationdefaults": {
                      "arrowcolor": "#2a3f5f",
                      "arrowhead": 0,
                      "arrowwidth": 1
                    },
                    "autotypenumbers": "strict",
                    "coloraxis": {
                      "colorbar": {
                        "outlinewidth": 0,
                        "ticks": ""
                      }
                    },
                    "colorscale": {
                      "diverging": [
                        [
                          0,
                          "#8e0152"
                        ],
                        [
                          0.1,
                          "#c51b7d"
                        ],
                        [
                          0.2,
                          "#de77ae"
                        ],
                        [
                          0.3,
                          "#f1b6da"
                        ],
                        [
                          0.4,
                          "#fde0ef"
                        ],
                        [
                          0.5,
                          "#f7f7f7"
                        ],
                        [
                          0.6,
                          "#e6f5d0"
                        ],
                        [
                          0.7,
                          "#b8e186"
                        ],
                        [
                          0.8,
                          "#7fbc41"
                        ],
                        [
                          0.9,
                          "#4d9221"
                        ],
                        [
                          1,
                          "#276419"
                        ]
                      ],
                      "sequential": [
                        [
                          0,
                          "#0d0887"
                        ],
                        [
                          0.1111111111111111,
                          "#46039f"
                        ],
                        [
                          0.2222222222222222,
                          "#7201a8"
                        ],
                        [
                          0.3333333333333333,
                          "#9c179e"
                        ],
                        [
                          0.4444444444444444,
                          "#bd3786"
                        ],
                        [
                          0.5555555555555556,
                          "#d8576b"
                        ],
                        [
                          0.6666666666666666,
                          "#ed7953"
                        ],
                        [
                          0.7777777777777778,
                          "#fb9f3a"
                        ],
                        [
                          0.8888888888888888,
                          "#fdca26"
                        ],
                        [
                          1,
                          "#f0f921"
                        ]
                      ],
                      "sequentialminus": [
                        [
                          0,
                          "#0d0887"
                        ],
                        [
                          0.1111111111111111,
                          "#46039f"
                        ],
                        [
                          0.2222222222222222,
                          "#7201a8"
                        ],
                        [
                          0.3333333333333333,
                          "#9c179e"
                        ],
                        [
                          0.4444444444444444,
                          "#bd3786"
                        ],
                        [
                          0.5555555555555556,
                          "#d8576b"
                        ],
                        [
                          0.6666666666666666,
                          "#ed7953"
                        ],
                        [
                          0.7777777777777778,
                          "#fb9f3a"
                        ],
                        [
                          0.8888888888888888,
                          "#fdca26"
                        ],
                        [
                          1,
                          "#f0f921"
                        ]
                      ]
                    },
                    "colorway": [
                      "#636efa",
                      "#EF553B",
                      "#00cc96",
                      "#ab63fa",
                      "#FFA15A",
                      "#19d3f3",
                      "#FF6692",
                      "#B6E880",
                      "#FF97FF",
                      "#FECB52"
                    ],
                    "font": {
                      "color": "#2a3f5f"
                    },
                    "geo": {
                      "bgcolor": "white",
                      "lakecolor": "white",
                      "landcolor": "#E5ECF6",
                      "showlakes": true,
                      "showland": true,
                      "subunitcolor": "white"
                    },
                    "hoverlabel": {
                      "align": "left"
                    },
                    "hovermode": "closest",
                    "mapbox": {
                      "style": "light"
                    },
                    "paper_bgcolor": "white",
                    "plot_bgcolor": "#E5ECF6",
                    "polar": {
                      "angularaxis": {
                        "gridcolor": "white",
                        "linecolor": "white",
                        "ticks": ""
                      },
                      "bgcolor": "#E5ECF6",
                      "radialaxis": {
                        "gridcolor": "white",
                        "linecolor": "white",
                        "ticks": ""
                      }
                    },
                    "scene": {
                      "xaxis": {
                        "backgroundcolor": "#E5ECF6",
                        "gridcolor": "white",
                        "gridwidth": 2,
                        "linecolor": "white",
                        "showbackground": true,
                        "ticks": "",
                        "zerolinecolor": "white"
                      },
                      "yaxis": {
                        "backgroundcolor": "#E5ECF6",
                        "gridcolor": "white",
                        "gridwidth": 2,
                        "linecolor": "white",
                        "showbackground": true,
                        "ticks": "",
                        "zerolinecolor": "white"
                      },
                      "zaxis": {
                        "backgroundcolor": "#E5ECF6",
                        "gridcolor": "white",
                        "gridwidth": 2,
                        "linecolor": "white",
                        "showbackground": true,
                        "ticks": "",
                        "zerolinecolor": "white"
                      }
                    },
                    "shapedefaults": {
                      "line": {
                        "color": "#2a3f5f"
                      }
                    },
                    "ternary": {
                      "aaxis": {
                        "gridcolor": "white",
                        "linecolor": "white",
                        "ticks": ""
                      },
                      "baxis": {
                        "gridcolor": "white",
                        "linecolor": "white",
                        "ticks": ""
                      },
                      "bgcolor": "#E5ECF6",
                      "caxis": {
                        "gridcolor": "white",
                        "linecolor": "white",
                        "ticks": ""
                      }
                    },
                    "title": {
                      "x": 0.05
                    },
                    "xaxis": {
                      "automargin": true,
                      "gridcolor": "white",
                      "linecolor": "white",
                      "ticks": "",
                      "title": {
                        "standoff": 15
                      },
                      "zerolinecolor": "white",
                      "zerolinewidth": 2
                    },
                    "yaxis": {
                      "automargin": true,
                      "gridcolor": "white",
                      "linecolor": "white",
                      "ticks": "",
                      "title": {
                        "standoff": 15
                      },
                      "zerolinecolor": "white",
                      "zerolinewidth": 2
                    }
                  }
                },
                "width": 2000,
                "xaxis": {
                  "linecolor": "black",
                  "linewidth": 3,
                  "mirror": true,
                  "showline": true,
                  "tickangle": 45,
                  "tickfont": {
                    "color": "black",
                    "family": "Arial",
                    "size": 18
                  },
                  "title": {
                    "text": "Feature"
                  },
                  "zeroline": true,
                  "zerolinecolor": "black",
                  "zerolinewidth": 3
                },
                "yaxis": {
                  "gridcolor": "black",
                  "gridwidth": 1,
                  "linecolor": "black",
                  "linewidth": 3,
                  "mirror": true,
                  "showgrid": true,
                  "showline": true,
                  "tickfont": {
                    "color": "black",
                    "family": "Arial",
                    "size": 18
                  },
                  "title": {
                    "text": "Importance"
                  },
                  "zeroline": true,
                  "zerolinecolor": "black",
                  "zerolinewidth": 3
                }
              }
            }
          },
          "metadata": {},
          "output_type": "display_data"
        }
      ],
      "source": [
        "index = swefi_scores.index\n",
        "value = swefi_scores['mean(SWEFI)']\n",
        "error = swefi_scores['std(SWEFI)']\n",
        "\n",
        "fig = go.Figure(go.Bar(\n",
        "    y=value,\n",
        "    x=index,\n",
        "    error_y=dict(type='data', array=error),\n",
        "))\n",
        "\n",
        "fig.update_layout(\n",
        "    xaxis=dict(\n",
        "        title='Feature',\n",
        "        zeroline=True,\n",
        "        showline=True,\n",
        "        zerolinecolor='black',\n",
        "        zerolinewidth=3,\n",
        "        linecolor='black',\n",
        "        linewidth=3,\n",
        "        mirror=True,\n",
        "        tickangle=45,\n",
        "        tickfont=dict(\n",
        "            family='Arial',\n",
        "            size=18,\n",
        "            color='black',\n",
        "        )\n",
        "    ),\n",
        "    yaxis=dict(\n",
        "        title='Importance',\n",
        "        showgrid=True,\n",
        "        zeroline=True,\n",
        "        showline=True,\n",
        "        gridcolor='black',\n",
        "        gridwidth=1,\n",
        "        zerolinecolor='black',\n",
        "        zerolinewidth=3,\n",
        "        linecolor='black',\n",
        "        linewidth=3,\n",
        "        mirror=True,\n",
        "\n",
        "        tickfont=dict(\n",
        "            family='Arial',\n",
        "            size=18,\n",
        "            color='black',\n",
        "        )\n",
        "    ),\n",
        "    margin=dict(l=10, r=10, b=10, t=10),\n",
        "    paper_bgcolor='white',\n",
        "    plot_bgcolor='lightgrey',\n",
        "    width=2000,\n",
        "    height=1500,\n",
        "    bargap=0.1,\n",
        "    bargroupgap=0.1,\n",
        ")\n",
        "\n",
        "\n",
        "# fig.write_image('swefi_success_time_series_vertical.png')\n",
        "fig.show()\n"
      ]
    }
  ],
  "metadata": {
    "colab": {
      "provenance": []
    },
    "kernelspec": {
      "display_name": "risklabai",
      "language": "python",
      "name": "python3"
    },
    "language_info": {
      "codemirror_mode": {
        "name": "ipython",
        "version": 3
      },
      "file_extension": ".py",
      "mimetype": "text/x-python",
      "name": "python",
      "nbconvert_exporter": "python",
      "pygments_lexer": "ipython3",
      "version": "3.10.16"
    },
    "widgets": {
      "application/vnd.jupyter.widget-state+json": {
        "002be6c3b45b4e758dfe9e002602825d": {
          "model_module": "@jupyter-widgets/base",
          "model_module_version": "1.2.0",
          "model_name": "LayoutModel",
          "state": {
            "_model_module": "@jupyter-widgets/base",
            "_model_module_version": "1.2.0",
            "_model_name": "LayoutModel",
            "_view_count": null,
            "_view_module": "@jupyter-widgets/base",
            "_view_module_version": "1.2.0",
            "_view_name": "LayoutView",
            "align_content": null,
            "align_items": null,
            "align_self": null,
            "border": null,
            "bottom": null,
            "display": null,
            "flex": null,
            "flex_flow": null,
            "grid_area": null,
            "grid_auto_columns": null,
            "grid_auto_flow": null,
            "grid_auto_rows": null,
            "grid_column": null,
            "grid_gap": null,
            "grid_row": null,
            "grid_template_areas": null,
            "grid_template_columns": null,
            "grid_template_rows": null,
            "height": null,
            "justify_content": null,
            "justify_items": null,
            "left": null,
            "margin": null,
            "max_height": null,
            "max_width": null,
            "min_height": null,
            "min_width": null,
            "object_fit": null,
            "object_position": null,
            "order": null,
            "overflow": null,
            "overflow_x": null,
            "overflow_y": null,
            "padding": null,
            "right": null,
            "top": null,
            "visibility": null,
            "width": null
          }
        },
        "064cc33ab944471cb855b25c94e5e016": {
          "model_module": "@jupyter-widgets/base",
          "model_module_version": "1.2.0",
          "model_name": "LayoutModel",
          "state": {
            "_model_module": "@jupyter-widgets/base",
            "_model_module_version": "1.2.0",
            "_model_name": "LayoutModel",
            "_view_count": null,
            "_view_module": "@jupyter-widgets/base",
            "_view_module_version": "1.2.0",
            "_view_name": "LayoutView",
            "align_content": null,
            "align_items": null,
            "align_self": null,
            "border": null,
            "bottom": null,
            "display": null,
            "flex": null,
            "flex_flow": null,
            "grid_area": null,
            "grid_auto_columns": null,
            "grid_auto_flow": null,
            "grid_auto_rows": null,
            "grid_column": null,
            "grid_gap": null,
            "grid_row": null,
            "grid_template_areas": null,
            "grid_template_columns": null,
            "grid_template_rows": null,
            "height": null,
            "justify_content": null,
            "justify_items": null,
            "left": null,
            "margin": null,
            "max_height": null,
            "max_width": null,
            "min_height": null,
            "min_width": null,
            "object_fit": null,
            "object_position": null,
            "order": null,
            "overflow": null,
            "overflow_x": null,
            "overflow_y": null,
            "padding": null,
            "right": null,
            "top": null,
            "visibility": "hidden",
            "width": null
          }
        },
        "0913c314cc3043f39c861fa8718a6545": {
          "model_module": "@jupyter-widgets/controls",
          "model_module_version": "1.5.0",
          "model_name": "FloatProgressModel",
          "state": {
            "_dom_classes": [],
            "_model_module": "@jupyter-widgets/controls",
            "_model_module_version": "1.5.0",
            "_model_name": "FloatProgressModel",
            "_view_count": null,
            "_view_module": "@jupyter-widgets/controls",
            "_view_module_version": "1.5.0",
            "_view_name": "ProgressView",
            "bar_style": "",
            "description": "",
            "description_tooltip": null,
            "layout": "IPY_MODEL_5cdbfb2f0ff74ea1bf6847d1cb2d8ba4",
            "max": 7,
            "min": 0,
            "orientation": "horizontal",
            "style": "IPY_MODEL_d1df5ab6e3ac4880a7ec33d080010a63",
            "value": 7
          }
        },
        "0afe6a55318e41c8911d00f7599b6478": {
          "model_module": "@jupyter-widgets/base",
          "model_module_version": "1.2.0",
          "model_name": "LayoutModel",
          "state": {
            "_model_module": "@jupyter-widgets/base",
            "_model_module_version": "1.2.0",
            "_model_name": "LayoutModel",
            "_view_count": null,
            "_view_module": "@jupyter-widgets/base",
            "_view_module_version": "1.2.0",
            "_view_name": "LayoutView",
            "align_content": null,
            "align_items": null,
            "align_self": null,
            "border": null,
            "bottom": null,
            "display": null,
            "flex": null,
            "flex_flow": null,
            "grid_area": null,
            "grid_auto_columns": null,
            "grid_auto_flow": null,
            "grid_auto_rows": null,
            "grid_column": null,
            "grid_gap": null,
            "grid_row": null,
            "grid_template_areas": null,
            "grid_template_columns": null,
            "grid_template_rows": null,
            "height": null,
            "justify_content": null,
            "justify_items": null,
            "left": null,
            "margin": null,
            "max_height": null,
            "max_width": null,
            "min_height": null,
            "min_width": null,
            "object_fit": null,
            "object_position": null,
            "order": null,
            "overflow": null,
            "overflow_x": null,
            "overflow_y": null,
            "padding": null,
            "right": null,
            "top": null,
            "visibility": null,
            "width": null
          }
        },
        "0ffcf2c56b074936a38948dc8c66e71e": {
          "model_module": "@jupyter-widgets/base",
          "model_module_version": "1.2.0",
          "model_name": "LayoutModel",
          "state": {
            "_model_module": "@jupyter-widgets/base",
            "_model_module_version": "1.2.0",
            "_model_name": "LayoutModel",
            "_view_count": null,
            "_view_module": "@jupyter-widgets/base",
            "_view_module_version": "1.2.0",
            "_view_name": "LayoutView",
            "align_content": null,
            "align_items": null,
            "align_self": null,
            "border": null,
            "bottom": null,
            "display": null,
            "flex": null,
            "flex_flow": null,
            "grid_area": null,
            "grid_auto_columns": null,
            "grid_auto_flow": null,
            "grid_auto_rows": null,
            "grid_column": null,
            "grid_gap": null,
            "grid_row": null,
            "grid_template_areas": null,
            "grid_template_columns": null,
            "grid_template_rows": null,
            "height": null,
            "justify_content": null,
            "justify_items": null,
            "left": null,
            "margin": null,
            "max_height": null,
            "max_width": null,
            "min_height": null,
            "min_width": null,
            "object_fit": null,
            "object_position": null,
            "order": null,
            "overflow": null,
            "overflow_x": null,
            "overflow_y": null,
            "padding": null,
            "right": null,
            "top": null,
            "visibility": "hidden",
            "width": null
          }
        },
        "10cea19de7884079912b6342e809a40f": {
          "model_module": "@jupyter-widgets/controls",
          "model_module_version": "1.5.0",
          "model_name": "HBoxModel",
          "state": {
            "_dom_classes": [],
            "_model_module": "@jupyter-widgets/controls",
            "_model_module_version": "1.5.0",
            "_model_name": "HBoxModel",
            "_view_count": null,
            "_view_module": "@jupyter-widgets/controls",
            "_view_module_version": "1.5.0",
            "_view_name": "HBoxView",
            "box_style": "",
            "children": [
              "IPY_MODEL_20187e5c1c7c4fc3a0d24f234060d175",
              "IPY_MODEL_2bb9e37767b9449eabd1a0fc3535f95b",
              "IPY_MODEL_ee5df7a7946f407096963c3951bb9ecd"
            ],
            "layout": "IPY_MODEL_27a891a5d11a40e786bba56280e6f23c"
          }
        },
        "136eb9069b294307a1e1da3075e1247c": {
          "model_module": "@jupyter-widgets/base",
          "model_module_version": "1.2.0",
          "model_name": "LayoutModel",
          "state": {
            "_model_module": "@jupyter-widgets/base",
            "_model_module_version": "1.2.0",
            "_model_name": "LayoutModel",
            "_view_count": null,
            "_view_module": "@jupyter-widgets/base",
            "_view_module_version": "1.2.0",
            "_view_name": "LayoutView",
            "align_content": null,
            "align_items": null,
            "align_self": null,
            "border": null,
            "bottom": null,
            "display": null,
            "flex": null,
            "flex_flow": null,
            "grid_area": null,
            "grid_auto_columns": null,
            "grid_auto_flow": null,
            "grid_auto_rows": null,
            "grid_column": null,
            "grid_gap": null,
            "grid_row": null,
            "grid_template_areas": null,
            "grid_template_columns": null,
            "grid_template_rows": null,
            "height": null,
            "justify_content": null,
            "justify_items": null,
            "left": null,
            "margin": null,
            "max_height": null,
            "max_width": null,
            "min_height": null,
            "min_width": null,
            "object_fit": null,
            "object_position": null,
            "order": null,
            "overflow": null,
            "overflow_x": null,
            "overflow_y": null,
            "padding": null,
            "right": null,
            "top": null,
            "visibility": null,
            "width": null
          }
        },
        "140e3325f1e5455896577ceb63bc0ee6": {
          "model_module": "@jupyter-widgets/controls",
          "model_module_version": "1.5.0",
          "model_name": "HBoxModel",
          "state": {
            "_dom_classes": [],
            "_model_module": "@jupyter-widgets/controls",
            "_model_module_version": "1.5.0",
            "_model_name": "HBoxModel",
            "_view_count": null,
            "_view_module": "@jupyter-widgets/controls",
            "_view_module_version": "1.5.0",
            "_view_name": "HBoxView",
            "box_style": "",
            "children": [
              "IPY_MODEL_4f7de12289ff40dc8f211f50d123c820",
              "IPY_MODEL_439584ee8f74457c9e2bf33272174e13",
              "IPY_MODEL_4f06e4304f40415285cee9d0346f1bf5"
            ],
            "layout": "IPY_MODEL_526ffeccaa494b68b9902a46595f5c8b"
          }
        },
        "14798618ab904ee1b6faddb69e30ebe7": {
          "model_module": "@jupyter-widgets/base",
          "model_module_version": "1.2.0",
          "model_name": "LayoutModel",
          "state": {
            "_model_module": "@jupyter-widgets/base",
            "_model_module_version": "1.2.0",
            "_model_name": "LayoutModel",
            "_view_count": null,
            "_view_module": "@jupyter-widgets/base",
            "_view_module_version": "1.2.0",
            "_view_name": "LayoutView",
            "align_content": null,
            "align_items": null,
            "align_self": null,
            "border": null,
            "bottom": null,
            "display": null,
            "flex": null,
            "flex_flow": null,
            "grid_area": null,
            "grid_auto_columns": null,
            "grid_auto_flow": null,
            "grid_auto_rows": null,
            "grid_column": null,
            "grid_gap": null,
            "grid_row": null,
            "grid_template_areas": null,
            "grid_template_columns": null,
            "grid_template_rows": null,
            "height": null,
            "justify_content": null,
            "justify_items": null,
            "left": null,
            "margin": null,
            "max_height": null,
            "max_width": null,
            "min_height": null,
            "min_width": null,
            "object_fit": null,
            "object_position": null,
            "order": null,
            "overflow": null,
            "overflow_x": null,
            "overflow_y": null,
            "padding": null,
            "right": null,
            "top": null,
            "visibility": "hidden",
            "width": null
          }
        },
        "149c342a656e4db2ab4da8f22171abbd": {
          "model_module": "@jupyter-widgets/controls",
          "model_module_version": "1.5.0",
          "model_name": "FloatProgressModel",
          "state": {
            "_dom_classes": [],
            "_model_module": "@jupyter-widgets/controls",
            "_model_module_version": "1.5.0",
            "_model_name": "FloatProgressModel",
            "_view_count": null,
            "_view_module": "@jupyter-widgets/controls",
            "_view_module_version": "1.5.0",
            "_view_name": "ProgressView",
            "bar_style": "",
            "description": "",
            "description_tooltip": null,
            "layout": "IPY_MODEL_62b7a6111daf4d8f9f78bce842e1b5ab",
            "max": 7,
            "min": 0,
            "orientation": "horizontal",
            "style": "IPY_MODEL_b2c4648440c34ec7ab55a3d6b2b823c9",
            "value": 7
          }
        },
        "1a9de8ece48742839232241c72f1051e": {
          "model_module": "@jupyter-widgets/controls",
          "model_module_version": "1.5.0",
          "model_name": "DescriptionStyleModel",
          "state": {
            "_model_module": "@jupyter-widgets/controls",
            "_model_module_version": "1.5.0",
            "_model_name": "DescriptionStyleModel",
            "_view_count": null,
            "_view_module": "@jupyter-widgets/base",
            "_view_module_version": "1.2.0",
            "_view_name": "StyleView",
            "description_width": ""
          }
        },
        "1ca0cfb13dc1423da9c587285df6e765": {
          "model_module": "@jupyter-widgets/base",
          "model_module_version": "1.2.0",
          "model_name": "LayoutModel",
          "state": {
            "_model_module": "@jupyter-widgets/base",
            "_model_module_version": "1.2.0",
            "_model_name": "LayoutModel",
            "_view_count": null,
            "_view_module": "@jupyter-widgets/base",
            "_view_module_version": "1.2.0",
            "_view_name": "LayoutView",
            "align_content": null,
            "align_items": null,
            "align_self": null,
            "border": null,
            "bottom": null,
            "display": null,
            "flex": null,
            "flex_flow": null,
            "grid_area": null,
            "grid_auto_columns": null,
            "grid_auto_flow": null,
            "grid_auto_rows": null,
            "grid_column": null,
            "grid_gap": null,
            "grid_row": null,
            "grid_template_areas": null,
            "grid_template_columns": null,
            "grid_template_rows": null,
            "height": null,
            "justify_content": null,
            "justify_items": null,
            "left": null,
            "margin": null,
            "max_height": null,
            "max_width": null,
            "min_height": null,
            "min_width": null,
            "object_fit": null,
            "object_position": null,
            "order": null,
            "overflow": null,
            "overflow_x": null,
            "overflow_y": null,
            "padding": null,
            "right": null,
            "top": null,
            "visibility": null,
            "width": null
          }
        },
        "1d41c4e3984446be9c3298b7ab4c6cf8": {
          "model_module": "@jupyter-widgets/controls",
          "model_module_version": "1.5.0",
          "model_name": "FloatProgressModel",
          "state": {
            "_dom_classes": [],
            "_model_module": "@jupyter-widgets/controls",
            "_model_module_version": "1.5.0",
            "_model_name": "FloatProgressModel",
            "_view_count": null,
            "_view_module": "@jupyter-widgets/controls",
            "_view_module_version": "1.5.0",
            "_view_name": "ProgressView",
            "bar_style": "",
            "description": "",
            "description_tooltip": null,
            "layout": "IPY_MODEL_f5cf5f62b5a049de9e4d987eee293df3",
            "max": 7,
            "min": 0,
            "orientation": "horizontal",
            "style": "IPY_MODEL_766eac26d5634e6bbfdb7a734f96b3f6",
            "value": 7
          }
        },
        "1fac93eaeeca4274913eea5d966974ef": {
          "model_module": "@jupyter-widgets/base",
          "model_module_version": "1.2.0",
          "model_name": "LayoutModel",
          "state": {
            "_model_module": "@jupyter-widgets/base",
            "_model_module_version": "1.2.0",
            "_model_name": "LayoutModel",
            "_view_count": null,
            "_view_module": "@jupyter-widgets/base",
            "_view_module_version": "1.2.0",
            "_view_name": "LayoutView",
            "align_content": null,
            "align_items": null,
            "align_self": null,
            "border": null,
            "bottom": null,
            "display": null,
            "flex": null,
            "flex_flow": null,
            "grid_area": null,
            "grid_auto_columns": null,
            "grid_auto_flow": null,
            "grid_auto_rows": null,
            "grid_column": null,
            "grid_gap": null,
            "grid_row": null,
            "grid_template_areas": null,
            "grid_template_columns": null,
            "grid_template_rows": null,
            "height": null,
            "justify_content": null,
            "justify_items": null,
            "left": null,
            "margin": null,
            "max_height": null,
            "max_width": null,
            "min_height": null,
            "min_width": null,
            "object_fit": null,
            "object_position": null,
            "order": null,
            "overflow": null,
            "overflow_x": null,
            "overflow_y": null,
            "padding": null,
            "right": null,
            "top": null,
            "visibility": null,
            "width": null
          }
        },
        "20187e5c1c7c4fc3a0d24f234060d175": {
          "model_module": "@jupyter-widgets/controls",
          "model_module_version": "1.5.0",
          "model_name": "HTMLModel",
          "state": {
            "_dom_classes": [],
            "_model_module": "@jupyter-widgets/controls",
            "_model_module_version": "1.5.0",
            "_model_name": "HTMLModel",
            "_view_count": null,
            "_view_module": "@jupyter-widgets/controls",
            "_view_module_version": "1.5.0",
            "_view_name": "HTMLView",
            "description": "",
            "description_tooltip": null,
            "layout": "IPY_MODEL_393f03aa3a05493da716f8147863995e",
            "placeholder": "​",
            "style": "IPY_MODEL_f5b251e82cd742ed97ffa2c46a92b9f2",
            "value": "Processing: 100%"
          }
        },
        "225e6f1093df4232991fb46f3395d5a5": {
          "model_module": "@jupyter-widgets/controls",
          "model_module_version": "1.5.0",
          "model_name": "ProgressStyleModel",
          "state": {
            "_model_module": "@jupyter-widgets/controls",
            "_model_module_version": "1.5.0",
            "_model_name": "ProgressStyleModel",
            "_view_count": null,
            "_view_module": "@jupyter-widgets/base",
            "_view_module_version": "1.2.0",
            "_view_name": "StyleView",
            "bar_color": null,
            "description_width": ""
          }
        },
        "22e0e2bc583a4653b8b6b1c7c2eaa123": {
          "model_module": "@jupyter-widgets/controls",
          "model_module_version": "1.5.0",
          "model_name": "DescriptionStyleModel",
          "state": {
            "_model_module": "@jupyter-widgets/controls",
            "_model_module_version": "1.5.0",
            "_model_name": "DescriptionStyleModel",
            "_view_count": null,
            "_view_module": "@jupyter-widgets/base",
            "_view_module_version": "1.2.0",
            "_view_name": "StyleView",
            "description_width": ""
          }
        },
        "25874127953d4080a135eb650e3bf8a4": {
          "model_module": "@jupyter-widgets/controls",
          "model_module_version": "1.5.0",
          "model_name": "DescriptionStyleModel",
          "state": {
            "_model_module": "@jupyter-widgets/controls",
            "_model_module_version": "1.5.0",
            "_model_name": "DescriptionStyleModel",
            "_view_count": null,
            "_view_module": "@jupyter-widgets/base",
            "_view_module_version": "1.2.0",
            "_view_name": "StyleView",
            "description_width": ""
          }
        },
        "273254f3183944e2bd2dff8e837ca794": {
          "model_module": "@jupyter-widgets/base",
          "model_module_version": "1.2.0",
          "model_name": "LayoutModel",
          "state": {
            "_model_module": "@jupyter-widgets/base",
            "_model_module_version": "1.2.0",
            "_model_name": "LayoutModel",
            "_view_count": null,
            "_view_module": "@jupyter-widgets/base",
            "_view_module_version": "1.2.0",
            "_view_name": "LayoutView",
            "align_content": null,
            "align_items": null,
            "align_self": null,
            "border": null,
            "bottom": null,
            "display": null,
            "flex": null,
            "flex_flow": null,
            "grid_area": null,
            "grid_auto_columns": null,
            "grid_auto_flow": null,
            "grid_auto_rows": null,
            "grid_column": null,
            "grid_gap": null,
            "grid_row": null,
            "grid_template_areas": null,
            "grid_template_columns": null,
            "grid_template_rows": null,
            "height": null,
            "justify_content": null,
            "justify_items": null,
            "left": null,
            "margin": null,
            "max_height": null,
            "max_width": null,
            "min_height": null,
            "min_width": null,
            "object_fit": null,
            "object_position": null,
            "order": null,
            "overflow": null,
            "overflow_x": null,
            "overflow_y": null,
            "padding": null,
            "right": null,
            "top": null,
            "visibility": "hidden",
            "width": null
          }
        },
        "27a891a5d11a40e786bba56280e6f23c": {
          "model_module": "@jupyter-widgets/base",
          "model_module_version": "1.2.0",
          "model_name": "LayoutModel",
          "state": {
            "_model_module": "@jupyter-widgets/base",
            "_model_module_version": "1.2.0",
            "_model_name": "LayoutModel",
            "_view_count": null,
            "_view_module": "@jupyter-widgets/base",
            "_view_module_version": "1.2.0",
            "_view_name": "LayoutView",
            "align_content": null,
            "align_items": null,
            "align_self": null,
            "border": null,
            "bottom": null,
            "display": null,
            "flex": null,
            "flex_flow": null,
            "grid_area": null,
            "grid_auto_columns": null,
            "grid_auto_flow": null,
            "grid_auto_rows": null,
            "grid_column": null,
            "grid_gap": null,
            "grid_row": null,
            "grid_template_areas": null,
            "grid_template_columns": null,
            "grid_template_rows": null,
            "height": null,
            "justify_content": null,
            "justify_items": null,
            "left": null,
            "margin": null,
            "max_height": null,
            "max_width": null,
            "min_height": null,
            "min_width": null,
            "object_fit": null,
            "object_position": null,
            "order": null,
            "overflow": null,
            "overflow_x": null,
            "overflow_y": null,
            "padding": null,
            "right": null,
            "top": null,
            "visibility": "hidden",
            "width": null
          }
        },
        "28203a3a1984452599a43c3e4c149914": {
          "model_module": "@jupyter-widgets/controls",
          "model_module_version": "1.5.0",
          "model_name": "HTMLModel",
          "state": {
            "_dom_classes": [],
            "_model_module": "@jupyter-widgets/controls",
            "_model_module_version": "1.5.0",
            "_model_name": "HTMLModel",
            "_view_count": null,
            "_view_module": "@jupyter-widgets/controls",
            "_view_module_version": "1.5.0",
            "_view_name": "HTMLView",
            "description": "",
            "description_tooltip": null,
            "layout": "IPY_MODEL_9ebd79ffdd074e3ca6b57a7c5b1075a0",
            "placeholder": "​",
            "style": "IPY_MODEL_f2cd74b3939946ccbf33f7fe492edc70",
            "value": " 7/7 [00:44&lt;00:00,  4.78s/it]"
          }
        },
        "29af35b56d4a46408abc74fd084e393b": {
          "model_module": "@jupyter-widgets/base",
          "model_module_version": "1.2.0",
          "model_name": "LayoutModel",
          "state": {
            "_model_module": "@jupyter-widgets/base",
            "_model_module_version": "1.2.0",
            "_model_name": "LayoutModel",
            "_view_count": null,
            "_view_module": "@jupyter-widgets/base",
            "_view_module_version": "1.2.0",
            "_view_name": "LayoutView",
            "align_content": null,
            "align_items": null,
            "align_self": null,
            "border": null,
            "bottom": null,
            "display": null,
            "flex": null,
            "flex_flow": null,
            "grid_area": null,
            "grid_auto_columns": null,
            "grid_auto_flow": null,
            "grid_auto_rows": null,
            "grid_column": null,
            "grid_gap": null,
            "grid_row": null,
            "grid_template_areas": null,
            "grid_template_columns": null,
            "grid_template_rows": null,
            "height": null,
            "justify_content": null,
            "justify_items": null,
            "left": null,
            "margin": null,
            "max_height": null,
            "max_width": null,
            "min_height": null,
            "min_width": null,
            "object_fit": null,
            "object_position": null,
            "order": null,
            "overflow": null,
            "overflow_x": null,
            "overflow_y": null,
            "padding": null,
            "right": null,
            "top": null,
            "visibility": null,
            "width": null
          }
        },
        "2a72ccbb9bf04876a5148925ac38c1d8": {
          "model_module": "@jupyter-widgets/base",
          "model_module_version": "1.2.0",
          "model_name": "LayoutModel",
          "state": {
            "_model_module": "@jupyter-widgets/base",
            "_model_module_version": "1.2.0",
            "_model_name": "LayoutModel",
            "_view_count": null,
            "_view_module": "@jupyter-widgets/base",
            "_view_module_version": "1.2.0",
            "_view_name": "LayoutView",
            "align_content": null,
            "align_items": null,
            "align_self": null,
            "border": null,
            "bottom": null,
            "display": null,
            "flex": null,
            "flex_flow": null,
            "grid_area": null,
            "grid_auto_columns": null,
            "grid_auto_flow": null,
            "grid_auto_rows": null,
            "grid_column": null,
            "grid_gap": null,
            "grid_row": null,
            "grid_template_areas": null,
            "grid_template_columns": null,
            "grid_template_rows": null,
            "height": null,
            "justify_content": null,
            "justify_items": null,
            "left": null,
            "margin": null,
            "max_height": null,
            "max_width": null,
            "min_height": null,
            "min_width": null,
            "object_fit": null,
            "object_position": null,
            "order": null,
            "overflow": null,
            "overflow_x": null,
            "overflow_y": null,
            "padding": null,
            "right": null,
            "top": null,
            "visibility": null,
            "width": null
          }
        },
        "2bb9e37767b9449eabd1a0fc3535f95b": {
          "model_module": "@jupyter-widgets/controls",
          "model_module_version": "1.5.0",
          "model_name": "FloatProgressModel",
          "state": {
            "_dom_classes": [],
            "_model_module": "@jupyter-widgets/controls",
            "_model_module_version": "1.5.0",
            "_model_name": "FloatProgressModel",
            "_view_count": null,
            "_view_module": "@jupyter-widgets/controls",
            "_view_module_version": "1.5.0",
            "_view_name": "ProgressView",
            "bar_style": "",
            "description": "",
            "description_tooltip": null,
            "layout": "IPY_MODEL_e02d5e0a85c3460199faad4150c828e1",
            "max": 7,
            "min": 0,
            "orientation": "horizontal",
            "style": "IPY_MODEL_225e6f1093df4232991fb46f3395d5a5",
            "value": 7
          }
        },
        "2ccc5c40be634e738860ee3730754344": {
          "model_module": "@jupyter-widgets/controls",
          "model_module_version": "1.5.0",
          "model_name": "HTMLModel",
          "state": {
            "_dom_classes": [],
            "_model_module": "@jupyter-widgets/controls",
            "_model_module_version": "1.5.0",
            "_model_name": "HTMLModel",
            "_view_count": null,
            "_view_module": "@jupyter-widgets/controls",
            "_view_module_version": "1.5.0",
            "_view_name": "HTMLView",
            "description": "",
            "description_tooltip": null,
            "layout": "IPY_MODEL_fc67b55c59f44e70b086ddedd99b50ff",
            "placeholder": "​",
            "style": "IPY_MODEL_c1a088832100484281c6e413246dc4ea",
            "value": " 7/7 [01:52&lt;00:00, 12.53s/it]"
          }
        },
        "2d06aecbcb854cd2832a3b1282e7170f": {
          "model_module": "@jupyter-widgets/base",
          "model_module_version": "1.2.0",
          "model_name": "LayoutModel",
          "state": {
            "_model_module": "@jupyter-widgets/base",
            "_model_module_version": "1.2.0",
            "_model_name": "LayoutModel",
            "_view_count": null,
            "_view_module": "@jupyter-widgets/base",
            "_view_module_version": "1.2.0",
            "_view_name": "LayoutView",
            "align_content": null,
            "align_items": null,
            "align_self": null,
            "border": null,
            "bottom": null,
            "display": null,
            "flex": null,
            "flex_flow": null,
            "grid_area": null,
            "grid_auto_columns": null,
            "grid_auto_flow": null,
            "grid_auto_rows": null,
            "grid_column": null,
            "grid_gap": null,
            "grid_row": null,
            "grid_template_areas": null,
            "grid_template_columns": null,
            "grid_template_rows": null,
            "height": null,
            "justify_content": null,
            "justify_items": null,
            "left": null,
            "margin": null,
            "max_height": null,
            "max_width": null,
            "min_height": null,
            "min_width": null,
            "object_fit": null,
            "object_position": null,
            "order": null,
            "overflow": null,
            "overflow_x": null,
            "overflow_y": null,
            "padding": null,
            "right": null,
            "top": null,
            "visibility": null,
            "width": null
          }
        },
        "2d9e9e716af245af9f9022b340385135": {
          "model_module": "@jupyter-widgets/controls",
          "model_module_version": "1.5.0",
          "model_name": "ProgressStyleModel",
          "state": {
            "_model_module": "@jupyter-widgets/controls",
            "_model_module_version": "1.5.0",
            "_model_name": "ProgressStyleModel",
            "_view_count": null,
            "_view_module": "@jupyter-widgets/base",
            "_view_module_version": "1.2.0",
            "_view_name": "StyleView",
            "bar_color": null,
            "description_width": ""
          }
        },
        "2db0deca1f2449e0a28320e2c99ee077": {
          "model_module": "@jupyter-widgets/base",
          "model_module_version": "1.2.0",
          "model_name": "LayoutModel",
          "state": {
            "_model_module": "@jupyter-widgets/base",
            "_model_module_version": "1.2.0",
            "_model_name": "LayoutModel",
            "_view_count": null,
            "_view_module": "@jupyter-widgets/base",
            "_view_module_version": "1.2.0",
            "_view_name": "LayoutView",
            "align_content": null,
            "align_items": null,
            "align_self": null,
            "border": null,
            "bottom": null,
            "display": null,
            "flex": null,
            "flex_flow": null,
            "grid_area": null,
            "grid_auto_columns": null,
            "grid_auto_flow": null,
            "grid_auto_rows": null,
            "grid_column": null,
            "grid_gap": null,
            "grid_row": null,
            "grid_template_areas": null,
            "grid_template_columns": null,
            "grid_template_rows": null,
            "height": null,
            "justify_content": null,
            "justify_items": null,
            "left": null,
            "margin": null,
            "max_height": null,
            "max_width": null,
            "min_height": null,
            "min_width": null,
            "object_fit": null,
            "object_position": null,
            "order": null,
            "overflow": null,
            "overflow_x": null,
            "overflow_y": null,
            "padding": null,
            "right": null,
            "top": null,
            "visibility": null,
            "width": null
          }
        },
        "2deea4dfc78441eab17026b1e79cd2c6": {
          "model_module": "@jupyter-widgets/controls",
          "model_module_version": "1.5.0",
          "model_name": "FloatProgressModel",
          "state": {
            "_dom_classes": [],
            "_model_module": "@jupyter-widgets/controls",
            "_model_module_version": "1.5.0",
            "_model_name": "FloatProgressModel",
            "_view_count": null,
            "_view_module": "@jupyter-widgets/controls",
            "_view_module_version": "1.5.0",
            "_view_name": "ProgressView",
            "bar_style": "",
            "description": "",
            "description_tooltip": null,
            "layout": "IPY_MODEL_7cdf807d1c824fd8924f3c352e78fbf6",
            "max": 7,
            "min": 0,
            "orientation": "horizontal",
            "style": "IPY_MODEL_39917f5b2de245aea74c1c85480ff003",
            "value": 7
          }
        },
        "2ef6db5c84894d8a8c56628313bce289": {
          "model_module": "@jupyter-widgets/controls",
          "model_module_version": "1.5.0",
          "model_name": "DescriptionStyleModel",
          "state": {
            "_model_module": "@jupyter-widgets/controls",
            "_model_module_version": "1.5.0",
            "_model_name": "DescriptionStyleModel",
            "_view_count": null,
            "_view_module": "@jupyter-widgets/base",
            "_view_module_version": "1.2.0",
            "_view_name": "StyleView",
            "description_width": ""
          }
        },
        "319e173b44b74667becf8693fd493a2e": {
          "model_module": "@jupyter-widgets/controls",
          "model_module_version": "1.5.0",
          "model_name": "ProgressStyleModel",
          "state": {
            "_model_module": "@jupyter-widgets/controls",
            "_model_module_version": "1.5.0",
            "_model_name": "ProgressStyleModel",
            "_view_count": null,
            "_view_module": "@jupyter-widgets/base",
            "_view_module_version": "1.2.0",
            "_view_name": "StyleView",
            "bar_color": null,
            "description_width": ""
          }
        },
        "33a5d2860cab41bf8c4e35671f4e028a": {
          "model_module": "@jupyter-widgets/controls",
          "model_module_version": "1.5.0",
          "model_name": "HTMLModel",
          "state": {
            "_dom_classes": [],
            "_model_module": "@jupyter-widgets/controls",
            "_model_module_version": "1.5.0",
            "_model_name": "HTMLModel",
            "_view_count": null,
            "_view_module": "@jupyter-widgets/controls",
            "_view_module_version": "1.5.0",
            "_view_name": "HTMLView",
            "description": "",
            "description_tooltip": null,
            "layout": "IPY_MODEL_002be6c3b45b4e758dfe9e002602825d",
            "placeholder": "​",
            "style": "IPY_MODEL_7a0824236cd84d598e068942e88fc691",
            "value": " 0/7 [00:00&lt;?, ?it/s]"
          }
        },
        "363518ea372c4b38a76ea70eef05f7f1": {
          "model_module": "@jupyter-widgets/controls",
          "model_module_version": "1.5.0",
          "model_name": "DescriptionStyleModel",
          "state": {
            "_model_module": "@jupyter-widgets/controls",
            "_model_module_version": "1.5.0",
            "_model_name": "DescriptionStyleModel",
            "_view_count": null,
            "_view_module": "@jupyter-widgets/base",
            "_view_module_version": "1.2.0",
            "_view_name": "StyleView",
            "description_width": ""
          }
        },
        "363aea8185d849a2bea1327f563ebcdd": {
          "model_module": "@jupyter-widgets/controls",
          "model_module_version": "1.5.0",
          "model_name": "HTMLModel",
          "state": {
            "_dom_classes": [],
            "_model_module": "@jupyter-widgets/controls",
            "_model_module_version": "1.5.0",
            "_model_name": "HTMLModel",
            "_view_count": null,
            "_view_module": "@jupyter-widgets/controls",
            "_view_module_version": "1.5.0",
            "_view_name": "HTMLView",
            "description": "",
            "description_tooltip": null,
            "layout": "IPY_MODEL_fc3ef26938064dc0bc2758f5e4ef00bf",
            "placeholder": "​",
            "style": "IPY_MODEL_22e0e2bc583a4653b8b6b1c7c2eaa123",
            "value": " 7/7 [02:31&lt;00:00, 16.54s/it]"
          }
        },
        "3744908c7f814dd3b3c93a66023f2a56": {
          "model_module": "@jupyter-widgets/base",
          "model_module_version": "1.2.0",
          "model_name": "LayoutModel",
          "state": {
            "_model_module": "@jupyter-widgets/base",
            "_model_module_version": "1.2.0",
            "_model_name": "LayoutModel",
            "_view_count": null,
            "_view_module": "@jupyter-widgets/base",
            "_view_module_version": "1.2.0",
            "_view_name": "LayoutView",
            "align_content": null,
            "align_items": null,
            "align_self": null,
            "border": null,
            "bottom": null,
            "display": null,
            "flex": null,
            "flex_flow": null,
            "grid_area": null,
            "grid_auto_columns": null,
            "grid_auto_flow": null,
            "grid_auto_rows": null,
            "grid_column": null,
            "grid_gap": null,
            "grid_row": null,
            "grid_template_areas": null,
            "grid_template_columns": null,
            "grid_template_rows": null,
            "height": null,
            "justify_content": null,
            "justify_items": null,
            "left": null,
            "margin": null,
            "max_height": null,
            "max_width": null,
            "min_height": null,
            "min_width": null,
            "object_fit": null,
            "object_position": null,
            "order": null,
            "overflow": null,
            "overflow_x": null,
            "overflow_y": null,
            "padding": null,
            "right": null,
            "top": null,
            "visibility": null,
            "width": null
          }
        },
        "393f03aa3a05493da716f8147863995e": {
          "model_module": "@jupyter-widgets/base",
          "model_module_version": "1.2.0",
          "model_name": "LayoutModel",
          "state": {
            "_model_module": "@jupyter-widgets/base",
            "_model_module_version": "1.2.0",
            "_model_name": "LayoutModel",
            "_view_count": null,
            "_view_module": "@jupyter-widgets/base",
            "_view_module_version": "1.2.0",
            "_view_name": "LayoutView",
            "align_content": null,
            "align_items": null,
            "align_self": null,
            "border": null,
            "bottom": null,
            "display": null,
            "flex": null,
            "flex_flow": null,
            "grid_area": null,
            "grid_auto_columns": null,
            "grid_auto_flow": null,
            "grid_auto_rows": null,
            "grid_column": null,
            "grid_gap": null,
            "grid_row": null,
            "grid_template_areas": null,
            "grid_template_columns": null,
            "grid_template_rows": null,
            "height": null,
            "justify_content": null,
            "justify_items": null,
            "left": null,
            "margin": null,
            "max_height": null,
            "max_width": null,
            "min_height": null,
            "min_width": null,
            "object_fit": null,
            "object_position": null,
            "order": null,
            "overflow": null,
            "overflow_x": null,
            "overflow_y": null,
            "padding": null,
            "right": null,
            "top": null,
            "visibility": null,
            "width": null
          }
        },
        "39917f5b2de245aea74c1c85480ff003": {
          "model_module": "@jupyter-widgets/controls",
          "model_module_version": "1.5.0",
          "model_name": "ProgressStyleModel",
          "state": {
            "_model_module": "@jupyter-widgets/controls",
            "_model_module_version": "1.5.0",
            "_model_name": "ProgressStyleModel",
            "_view_count": null,
            "_view_module": "@jupyter-widgets/base",
            "_view_module_version": "1.2.0",
            "_view_name": "StyleView",
            "bar_color": null,
            "description_width": ""
          }
        },
        "3a72f7409bbc4ff792e643ccfce8e614": {
          "model_module": "@jupyter-widgets/base",
          "model_module_version": "1.2.0",
          "model_name": "LayoutModel",
          "state": {
            "_model_module": "@jupyter-widgets/base",
            "_model_module_version": "1.2.0",
            "_model_name": "LayoutModel",
            "_view_count": null,
            "_view_module": "@jupyter-widgets/base",
            "_view_module_version": "1.2.0",
            "_view_name": "LayoutView",
            "align_content": null,
            "align_items": null,
            "align_self": null,
            "border": null,
            "bottom": null,
            "display": null,
            "flex": null,
            "flex_flow": null,
            "grid_area": null,
            "grid_auto_columns": null,
            "grid_auto_flow": null,
            "grid_auto_rows": null,
            "grid_column": null,
            "grid_gap": null,
            "grid_row": null,
            "grid_template_areas": null,
            "grid_template_columns": null,
            "grid_template_rows": null,
            "height": null,
            "justify_content": null,
            "justify_items": null,
            "left": null,
            "margin": null,
            "max_height": null,
            "max_width": null,
            "min_height": null,
            "min_width": null,
            "object_fit": null,
            "object_position": null,
            "order": null,
            "overflow": null,
            "overflow_x": null,
            "overflow_y": null,
            "padding": null,
            "right": null,
            "top": null,
            "visibility": null,
            "width": null
          }
        },
        "3db6290b4c684b5db7a926c7f049c15d": {
          "model_module": "@jupyter-widgets/base",
          "model_module_version": "1.2.0",
          "model_name": "LayoutModel",
          "state": {
            "_model_module": "@jupyter-widgets/base",
            "_model_module_version": "1.2.0",
            "_model_name": "LayoutModel",
            "_view_count": null,
            "_view_module": "@jupyter-widgets/base",
            "_view_module_version": "1.2.0",
            "_view_name": "LayoutView",
            "align_content": null,
            "align_items": null,
            "align_self": null,
            "border": null,
            "bottom": null,
            "display": null,
            "flex": null,
            "flex_flow": null,
            "grid_area": null,
            "grid_auto_columns": null,
            "grid_auto_flow": null,
            "grid_auto_rows": null,
            "grid_column": null,
            "grid_gap": null,
            "grid_row": null,
            "grid_template_areas": null,
            "grid_template_columns": null,
            "grid_template_rows": null,
            "height": null,
            "justify_content": null,
            "justify_items": null,
            "left": null,
            "margin": null,
            "max_height": null,
            "max_width": null,
            "min_height": null,
            "min_width": null,
            "object_fit": null,
            "object_position": null,
            "order": null,
            "overflow": null,
            "overflow_x": null,
            "overflow_y": null,
            "padding": null,
            "right": null,
            "top": null,
            "visibility": "hidden",
            "width": null
          }
        },
        "4301bcb7ca294e7d9413ffff7dd08df4": {
          "model_module": "@jupyter-widgets/controls",
          "model_module_version": "1.5.0",
          "model_name": "DescriptionStyleModel",
          "state": {
            "_model_module": "@jupyter-widgets/controls",
            "_model_module_version": "1.5.0",
            "_model_name": "DescriptionStyleModel",
            "_view_count": null,
            "_view_module": "@jupyter-widgets/base",
            "_view_module_version": "1.2.0",
            "_view_name": "StyleView",
            "description_width": ""
          }
        },
        "439584ee8f74457c9e2bf33272174e13": {
          "model_module": "@jupyter-widgets/controls",
          "model_module_version": "1.5.0",
          "model_name": "FloatProgressModel",
          "state": {
            "_dom_classes": [],
            "_model_module": "@jupyter-widgets/controls",
            "_model_module_version": "1.5.0",
            "_model_name": "FloatProgressModel",
            "_view_count": null,
            "_view_module": "@jupyter-widgets/controls",
            "_view_module_version": "1.5.0",
            "_view_name": "ProgressView",
            "bar_style": "",
            "description": "",
            "description_tooltip": null,
            "layout": "IPY_MODEL_2a72ccbb9bf04876a5148925ac38c1d8",
            "max": 59,
            "min": 0,
            "orientation": "horizontal",
            "style": "IPY_MODEL_55bd38ea637c412fa539511df03dd6d2",
            "value": 59
          }
        },
        "439ac6a44c2f4d4285d3a5be5b99e3d3": {
          "model_module": "@jupyter-widgets/controls",
          "model_module_version": "1.5.0",
          "model_name": "HTMLModel",
          "state": {
            "_dom_classes": [],
            "_model_module": "@jupyter-widgets/controls",
            "_model_module_version": "1.5.0",
            "_model_name": "HTMLModel",
            "_view_count": null,
            "_view_module": "@jupyter-widgets/controls",
            "_view_module_version": "1.5.0",
            "_view_name": "HTMLView",
            "description": "",
            "description_tooltip": null,
            "layout": "IPY_MODEL_4d380431d2584f2bb78cf35b75f22b82",
            "placeholder": "​",
            "style": "IPY_MODEL_c8a5c38efef140b69f143bff8ba9095a",
            "value": "Processing: 100%"
          }
        },
        "43db40ff8bdc4e92977f83d828a2b819": {
          "model_module": "@jupyter-widgets/base",
          "model_module_version": "1.2.0",
          "model_name": "LayoutModel",
          "state": {
            "_model_module": "@jupyter-widgets/base",
            "_model_module_version": "1.2.0",
            "_model_name": "LayoutModel",
            "_view_count": null,
            "_view_module": "@jupyter-widgets/base",
            "_view_module_version": "1.2.0",
            "_view_name": "LayoutView",
            "align_content": null,
            "align_items": null,
            "align_self": null,
            "border": null,
            "bottom": null,
            "display": null,
            "flex": null,
            "flex_flow": null,
            "grid_area": null,
            "grid_auto_columns": null,
            "grid_auto_flow": null,
            "grid_auto_rows": null,
            "grid_column": null,
            "grid_gap": null,
            "grid_row": null,
            "grid_template_areas": null,
            "grid_template_columns": null,
            "grid_template_rows": null,
            "height": null,
            "justify_content": null,
            "justify_items": null,
            "left": null,
            "margin": null,
            "max_height": null,
            "max_width": null,
            "min_height": null,
            "min_width": null,
            "object_fit": null,
            "object_position": null,
            "order": null,
            "overflow": null,
            "overflow_x": null,
            "overflow_y": null,
            "padding": null,
            "right": null,
            "top": null,
            "visibility": null,
            "width": null
          }
        },
        "4483bb3870a6411d9c39c988d5417921": {
          "model_module": "@jupyter-widgets/base",
          "model_module_version": "1.2.0",
          "model_name": "LayoutModel",
          "state": {
            "_model_module": "@jupyter-widgets/base",
            "_model_module_version": "1.2.0",
            "_model_name": "LayoutModel",
            "_view_count": null,
            "_view_module": "@jupyter-widgets/base",
            "_view_module_version": "1.2.0",
            "_view_name": "LayoutView",
            "align_content": null,
            "align_items": null,
            "align_self": null,
            "border": null,
            "bottom": null,
            "display": null,
            "flex": null,
            "flex_flow": null,
            "grid_area": null,
            "grid_auto_columns": null,
            "grid_auto_flow": null,
            "grid_auto_rows": null,
            "grid_column": null,
            "grid_gap": null,
            "grid_row": null,
            "grid_template_areas": null,
            "grid_template_columns": null,
            "grid_template_rows": null,
            "height": null,
            "justify_content": null,
            "justify_items": null,
            "left": null,
            "margin": null,
            "max_height": null,
            "max_width": null,
            "min_height": null,
            "min_width": null,
            "object_fit": null,
            "object_position": null,
            "order": null,
            "overflow": null,
            "overflow_x": null,
            "overflow_y": null,
            "padding": null,
            "right": null,
            "top": null,
            "visibility": null,
            "width": null
          }
        },
        "4836a40a89ba4724b6a51d3a5fc8977d": {
          "model_module": "@jupyter-widgets/base",
          "model_module_version": "1.2.0",
          "model_name": "LayoutModel",
          "state": {
            "_model_module": "@jupyter-widgets/base",
            "_model_module_version": "1.2.0",
            "_model_name": "LayoutModel",
            "_view_count": null,
            "_view_module": "@jupyter-widgets/base",
            "_view_module_version": "1.2.0",
            "_view_name": "LayoutView",
            "align_content": null,
            "align_items": null,
            "align_self": null,
            "border": null,
            "bottom": null,
            "display": null,
            "flex": null,
            "flex_flow": null,
            "grid_area": null,
            "grid_auto_columns": null,
            "grid_auto_flow": null,
            "grid_auto_rows": null,
            "grid_column": null,
            "grid_gap": null,
            "grid_row": null,
            "grid_template_areas": null,
            "grid_template_columns": null,
            "grid_template_rows": null,
            "height": null,
            "justify_content": null,
            "justify_items": null,
            "left": null,
            "margin": null,
            "max_height": null,
            "max_width": null,
            "min_height": null,
            "min_width": null,
            "object_fit": null,
            "object_position": null,
            "order": null,
            "overflow": null,
            "overflow_x": null,
            "overflow_y": null,
            "padding": null,
            "right": null,
            "top": null,
            "visibility": null,
            "width": null
          }
        },
        "4afd9c192b4148e5a526e22c09709b7b": {
          "model_module": "@jupyter-widgets/controls",
          "model_module_version": "1.5.0",
          "model_name": "HTMLModel",
          "state": {
            "_dom_classes": [],
            "_model_module": "@jupyter-widgets/controls",
            "_model_module_version": "1.5.0",
            "_model_name": "HTMLModel",
            "_view_count": null,
            "_view_module": "@jupyter-widgets/controls",
            "_view_module_version": "1.5.0",
            "_view_name": "HTMLView",
            "description": "",
            "description_tooltip": null,
            "layout": "IPY_MODEL_3744908c7f814dd3b3c93a66023f2a56",
            "placeholder": "​",
            "style": "IPY_MODEL_9b6b87e860d94d0d8c208a4f50419d0d",
            "value": " 5/5 [10:21&lt;00:00, 123.17s/it]"
          }
        },
        "4cdd0f0fb3c04977b367293b87f9188b": {
          "model_module": "@jupyter-widgets/controls",
          "model_module_version": "1.5.0",
          "model_name": "DescriptionStyleModel",
          "state": {
            "_model_module": "@jupyter-widgets/controls",
            "_model_module_version": "1.5.0",
            "_model_name": "DescriptionStyleModel",
            "_view_count": null,
            "_view_module": "@jupyter-widgets/base",
            "_view_module_version": "1.2.0",
            "_view_name": "StyleView",
            "description_width": ""
          }
        },
        "4d380431d2584f2bb78cf35b75f22b82": {
          "model_module": "@jupyter-widgets/base",
          "model_module_version": "1.2.0",
          "model_name": "LayoutModel",
          "state": {
            "_model_module": "@jupyter-widgets/base",
            "_model_module_version": "1.2.0",
            "_model_name": "LayoutModel",
            "_view_count": null,
            "_view_module": "@jupyter-widgets/base",
            "_view_module_version": "1.2.0",
            "_view_name": "LayoutView",
            "align_content": null,
            "align_items": null,
            "align_self": null,
            "border": null,
            "bottom": null,
            "display": null,
            "flex": null,
            "flex_flow": null,
            "grid_area": null,
            "grid_auto_columns": null,
            "grid_auto_flow": null,
            "grid_auto_rows": null,
            "grid_column": null,
            "grid_gap": null,
            "grid_row": null,
            "grid_template_areas": null,
            "grid_template_columns": null,
            "grid_template_rows": null,
            "height": null,
            "justify_content": null,
            "justify_items": null,
            "left": null,
            "margin": null,
            "max_height": null,
            "max_width": null,
            "min_height": null,
            "min_width": null,
            "object_fit": null,
            "object_position": null,
            "order": null,
            "overflow": null,
            "overflow_x": null,
            "overflow_y": null,
            "padding": null,
            "right": null,
            "top": null,
            "visibility": null,
            "width": null
          }
        },
        "4f06e4304f40415285cee9d0346f1bf5": {
          "model_module": "@jupyter-widgets/controls",
          "model_module_version": "1.5.0",
          "model_name": "HTMLModel",
          "state": {
            "_dom_classes": [],
            "_model_module": "@jupyter-widgets/controls",
            "_model_module_version": "1.5.0",
            "_model_name": "HTMLModel",
            "_view_count": null,
            "_view_module": "@jupyter-widgets/controls",
            "_view_module_version": "1.5.0",
            "_view_name": "HTMLView",
            "description": "",
            "description_tooltip": null,
            "layout": "IPY_MODEL_4483bb3870a6411d9c39c988d5417921",
            "placeholder": "​",
            "style": "IPY_MODEL_1a9de8ece48742839232241c72f1051e",
            "value": " 59/59 [01:18&lt;00:00,  1.42it/s]"
          }
        },
        "4f7de12289ff40dc8f211f50d123c820": {
          "model_module": "@jupyter-widgets/controls",
          "model_module_version": "1.5.0",
          "model_name": "HTMLModel",
          "state": {
            "_dom_classes": [],
            "_model_module": "@jupyter-widgets/controls",
            "_model_module_version": "1.5.0",
            "_model_name": "HTMLModel",
            "_view_count": null,
            "_view_module": "@jupyter-widgets/controls",
            "_view_module_version": "1.5.0",
            "_view_name": "HTMLView",
            "description": "",
            "description_tooltip": null,
            "layout": "IPY_MODEL_4836a40a89ba4724b6a51d3a5fc8977d",
            "placeholder": "​",
            "style": "IPY_MODEL_4301bcb7ca294e7d9413ffff7dd08df4",
            "value": "Processing: 100%"
          }
        },
        "526ffeccaa494b68b9902a46595f5c8b": {
          "model_module": "@jupyter-widgets/base",
          "model_module_version": "1.2.0",
          "model_name": "LayoutModel",
          "state": {
            "_model_module": "@jupyter-widgets/base",
            "_model_module_version": "1.2.0",
            "_model_name": "LayoutModel",
            "_view_count": null,
            "_view_module": "@jupyter-widgets/base",
            "_view_module_version": "1.2.0",
            "_view_name": "LayoutView",
            "align_content": null,
            "align_items": null,
            "align_self": null,
            "border": null,
            "bottom": null,
            "display": null,
            "flex": null,
            "flex_flow": null,
            "grid_area": null,
            "grid_auto_columns": null,
            "grid_auto_flow": null,
            "grid_auto_rows": null,
            "grid_column": null,
            "grid_gap": null,
            "grid_row": null,
            "grid_template_areas": null,
            "grid_template_columns": null,
            "grid_template_rows": null,
            "height": null,
            "justify_content": null,
            "justify_items": null,
            "left": null,
            "margin": null,
            "max_height": null,
            "max_width": null,
            "min_height": null,
            "min_width": null,
            "object_fit": null,
            "object_position": null,
            "order": null,
            "overflow": null,
            "overflow_x": null,
            "overflow_y": null,
            "padding": null,
            "right": null,
            "top": null,
            "visibility": "hidden",
            "width": null
          }
        },
        "55bd38ea637c412fa539511df03dd6d2": {
          "model_module": "@jupyter-widgets/controls",
          "model_module_version": "1.5.0",
          "model_name": "ProgressStyleModel",
          "state": {
            "_model_module": "@jupyter-widgets/controls",
            "_model_module_version": "1.5.0",
            "_model_name": "ProgressStyleModel",
            "_view_count": null,
            "_view_module": "@jupyter-widgets/base",
            "_view_module_version": "1.2.0",
            "_view_name": "StyleView",
            "bar_color": null,
            "description_width": ""
          }
        },
        "577ca442105843538eb1a92ae1e3e9cb": {
          "model_module": "@jupyter-widgets/controls",
          "model_module_version": "1.5.0",
          "model_name": "HBoxModel",
          "state": {
            "_dom_classes": [],
            "_model_module": "@jupyter-widgets/controls",
            "_model_module_version": "1.5.0",
            "_model_name": "HBoxModel",
            "_view_count": null,
            "_view_module": "@jupyter-widgets/controls",
            "_view_module_version": "1.5.0",
            "_view_name": "HBoxView",
            "box_style": "",
            "children": [
              "IPY_MODEL_da3918826a3a4af5bb273838188029cf",
              "IPY_MODEL_df8f665e5c9b46268e326f61f9a6b11b",
              "IPY_MODEL_896ad6b564a14bd4aa7e0ca514b1f7c7"
            ],
            "layout": "IPY_MODEL_3db6290b4c684b5db7a926c7f049c15d"
          }
        },
        "5cdbfb2f0ff74ea1bf6847d1cb2d8ba4": {
          "model_module": "@jupyter-widgets/base",
          "model_module_version": "1.2.0",
          "model_name": "LayoutModel",
          "state": {
            "_model_module": "@jupyter-widgets/base",
            "_model_module_version": "1.2.0",
            "_model_name": "LayoutModel",
            "_view_count": null,
            "_view_module": "@jupyter-widgets/base",
            "_view_module_version": "1.2.0",
            "_view_name": "LayoutView",
            "align_content": null,
            "align_items": null,
            "align_self": null,
            "border": null,
            "bottom": null,
            "display": null,
            "flex": null,
            "flex_flow": null,
            "grid_area": null,
            "grid_auto_columns": null,
            "grid_auto_flow": null,
            "grid_auto_rows": null,
            "grid_column": null,
            "grid_gap": null,
            "grid_row": null,
            "grid_template_areas": null,
            "grid_template_columns": null,
            "grid_template_rows": null,
            "height": null,
            "justify_content": null,
            "justify_items": null,
            "left": null,
            "margin": null,
            "max_height": null,
            "max_width": null,
            "min_height": null,
            "min_width": null,
            "object_fit": null,
            "object_position": null,
            "order": null,
            "overflow": null,
            "overflow_x": null,
            "overflow_y": null,
            "padding": null,
            "right": null,
            "top": null,
            "visibility": null,
            "width": null
          }
        },
        "5fe1217f147c4dac974a2a13c25ca701": {
          "model_module": "@jupyter-widgets/controls",
          "model_module_version": "1.5.0",
          "model_name": "HTMLModel",
          "state": {
            "_dom_classes": [],
            "_model_module": "@jupyter-widgets/controls",
            "_model_module_version": "1.5.0",
            "_model_name": "HTMLModel",
            "_view_count": null,
            "_view_module": "@jupyter-widgets/controls",
            "_view_module_version": "1.5.0",
            "_view_name": "HTMLView",
            "description": "",
            "description_tooltip": null,
            "layout": "IPY_MODEL_0afe6a55318e41c8911d00f7599b6478",
            "placeholder": "​",
            "style": "IPY_MODEL_776f51ded9864b868b0981e783cb6def",
            "value": "Processing:   0%"
          }
        },
        "62b7a6111daf4d8f9f78bce842e1b5ab": {
          "model_module": "@jupyter-widgets/base",
          "model_module_version": "1.2.0",
          "model_name": "LayoutModel",
          "state": {
            "_model_module": "@jupyter-widgets/base",
            "_model_module_version": "1.2.0",
            "_model_name": "LayoutModel",
            "_view_count": null,
            "_view_module": "@jupyter-widgets/base",
            "_view_module_version": "1.2.0",
            "_view_name": "LayoutView",
            "align_content": null,
            "align_items": null,
            "align_self": null,
            "border": null,
            "bottom": null,
            "display": null,
            "flex": null,
            "flex_flow": null,
            "grid_area": null,
            "grid_auto_columns": null,
            "grid_auto_flow": null,
            "grid_auto_rows": null,
            "grid_column": null,
            "grid_gap": null,
            "grid_row": null,
            "grid_template_areas": null,
            "grid_template_columns": null,
            "grid_template_rows": null,
            "height": null,
            "justify_content": null,
            "justify_items": null,
            "left": null,
            "margin": null,
            "max_height": null,
            "max_width": null,
            "min_height": null,
            "min_width": null,
            "object_fit": null,
            "object_position": null,
            "order": null,
            "overflow": null,
            "overflow_x": null,
            "overflow_y": null,
            "padding": null,
            "right": null,
            "top": null,
            "visibility": null,
            "width": null
          }
        },
        "67205b73ab3c48e9ae3c2aec87829d46": {
          "model_module": "@jupyter-widgets/controls",
          "model_module_version": "1.5.0",
          "model_name": "DescriptionStyleModel",
          "state": {
            "_model_module": "@jupyter-widgets/controls",
            "_model_module_version": "1.5.0",
            "_model_name": "DescriptionStyleModel",
            "_view_count": null,
            "_view_module": "@jupyter-widgets/base",
            "_view_module_version": "1.2.0",
            "_view_name": "StyleView",
            "description_width": ""
          }
        },
        "6bb4bd185d7f401580f6dae4407a3361": {
          "model_module": "@jupyter-widgets/controls",
          "model_module_version": "1.5.0",
          "model_name": "FloatProgressModel",
          "state": {
            "_dom_classes": [],
            "_model_module": "@jupyter-widgets/controls",
            "_model_module_version": "1.5.0",
            "_model_name": "FloatProgressModel",
            "_view_count": null,
            "_view_module": "@jupyter-widgets/controls",
            "_view_module_version": "1.5.0",
            "_view_name": "ProgressView",
            "bar_style": "",
            "description": "",
            "description_tooltip": null,
            "layout": "IPY_MODEL_1fac93eaeeca4274913eea5d966974ef",
            "max": 7,
            "min": 0,
            "orientation": "horizontal",
            "style": "IPY_MODEL_dd415aae1e424bef8645f504ef7ff94b",
            "value": 7
          }
        },
        "6e6367ac05714e99a78a2cc5ae2ac8a6": {
          "model_module": "@jupyter-widgets/controls",
          "model_module_version": "1.5.0",
          "model_name": "ProgressStyleModel",
          "state": {
            "_model_module": "@jupyter-widgets/controls",
            "_model_module_version": "1.5.0",
            "_model_name": "ProgressStyleModel",
            "_view_count": null,
            "_view_module": "@jupyter-widgets/base",
            "_view_module_version": "1.2.0",
            "_view_name": "StyleView",
            "bar_color": null,
            "description_width": ""
          }
        },
        "73852379298b4645984b1e54f164597c": {
          "model_module": "@jupyter-widgets/controls",
          "model_module_version": "1.5.0",
          "model_name": "ProgressStyleModel",
          "state": {
            "_model_module": "@jupyter-widgets/controls",
            "_model_module_version": "1.5.0",
            "_model_name": "ProgressStyleModel",
            "_view_count": null,
            "_view_module": "@jupyter-widgets/base",
            "_view_module_version": "1.2.0",
            "_view_name": "StyleView",
            "bar_color": null,
            "description_width": ""
          }
        },
        "766eac26d5634e6bbfdb7a734f96b3f6": {
          "model_module": "@jupyter-widgets/controls",
          "model_module_version": "1.5.0",
          "model_name": "ProgressStyleModel",
          "state": {
            "_model_module": "@jupyter-widgets/controls",
            "_model_module_version": "1.5.0",
            "_model_name": "ProgressStyleModel",
            "_view_count": null,
            "_view_module": "@jupyter-widgets/base",
            "_view_module_version": "1.2.0",
            "_view_name": "StyleView",
            "bar_color": null,
            "description_width": ""
          }
        },
        "7752df6105b04ada913345e5ea0f8774": {
          "model_module": "@jupyter-widgets/controls",
          "model_module_version": "1.5.0",
          "model_name": "DescriptionStyleModel",
          "state": {
            "_model_module": "@jupyter-widgets/controls",
            "_model_module_version": "1.5.0",
            "_model_name": "DescriptionStyleModel",
            "_view_count": null,
            "_view_module": "@jupyter-widgets/base",
            "_view_module_version": "1.2.0",
            "_view_name": "StyleView",
            "description_width": ""
          }
        },
        "776f51ded9864b868b0981e783cb6def": {
          "model_module": "@jupyter-widgets/controls",
          "model_module_version": "1.5.0",
          "model_name": "DescriptionStyleModel",
          "state": {
            "_model_module": "@jupyter-widgets/controls",
            "_model_module_version": "1.5.0",
            "_model_name": "DescriptionStyleModel",
            "_view_count": null,
            "_view_module": "@jupyter-widgets/base",
            "_view_module_version": "1.2.0",
            "_view_name": "StyleView",
            "description_width": ""
          }
        },
        "7a0824236cd84d598e068942e88fc691": {
          "model_module": "@jupyter-widgets/controls",
          "model_module_version": "1.5.0",
          "model_name": "DescriptionStyleModel",
          "state": {
            "_model_module": "@jupyter-widgets/controls",
            "_model_module_version": "1.5.0",
            "_model_name": "DescriptionStyleModel",
            "_view_count": null,
            "_view_module": "@jupyter-widgets/base",
            "_view_module_version": "1.2.0",
            "_view_name": "StyleView",
            "description_width": ""
          }
        },
        "7b840a44e9e04c5b908c2788cf12ffb3": {
          "model_module": "@jupyter-widgets/controls",
          "model_module_version": "1.5.0",
          "model_name": "DescriptionStyleModel",
          "state": {
            "_model_module": "@jupyter-widgets/controls",
            "_model_module_version": "1.5.0",
            "_model_name": "DescriptionStyleModel",
            "_view_count": null,
            "_view_module": "@jupyter-widgets/base",
            "_view_module_version": "1.2.0",
            "_view_name": "StyleView",
            "description_width": ""
          }
        },
        "7cdf807d1c824fd8924f3c352e78fbf6": {
          "model_module": "@jupyter-widgets/base",
          "model_module_version": "1.2.0",
          "model_name": "LayoutModel",
          "state": {
            "_model_module": "@jupyter-widgets/base",
            "_model_module_version": "1.2.0",
            "_model_name": "LayoutModel",
            "_view_count": null,
            "_view_module": "@jupyter-widgets/base",
            "_view_module_version": "1.2.0",
            "_view_name": "LayoutView",
            "align_content": null,
            "align_items": null,
            "align_self": null,
            "border": null,
            "bottom": null,
            "display": null,
            "flex": null,
            "flex_flow": null,
            "grid_area": null,
            "grid_auto_columns": null,
            "grid_auto_flow": null,
            "grid_auto_rows": null,
            "grid_column": null,
            "grid_gap": null,
            "grid_row": null,
            "grid_template_areas": null,
            "grid_template_columns": null,
            "grid_template_rows": null,
            "height": null,
            "justify_content": null,
            "justify_items": null,
            "left": null,
            "margin": null,
            "max_height": null,
            "max_width": null,
            "min_height": null,
            "min_width": null,
            "object_fit": null,
            "object_position": null,
            "order": null,
            "overflow": null,
            "overflow_x": null,
            "overflow_y": null,
            "padding": null,
            "right": null,
            "top": null,
            "visibility": null,
            "width": null
          }
        },
        "7dc56d4f2e1c4c82a166a7a138d8bbf9": {
          "model_module": "@jupyter-widgets/controls",
          "model_module_version": "1.5.0",
          "model_name": "HBoxModel",
          "state": {
            "_dom_classes": [],
            "_model_module": "@jupyter-widgets/controls",
            "_model_module_version": "1.5.0",
            "_model_name": "HBoxModel",
            "_view_count": null,
            "_view_module": "@jupyter-widgets/controls",
            "_view_module_version": "1.5.0",
            "_view_name": "HBoxView",
            "box_style": "",
            "children": [
              "IPY_MODEL_a15be4b4e5c54c3ba87cb767d6d43cf2",
              "IPY_MODEL_1d41c4e3984446be9c3298b7ab4c6cf8",
              "IPY_MODEL_363aea8185d849a2bea1327f563ebcdd"
            ],
            "layout": "IPY_MODEL_14798618ab904ee1b6faddb69e30ebe7"
          }
        },
        "7f3fd9bb55c7459f9f2a0d186497ac6e": {
          "model_module": "@jupyter-widgets/base",
          "model_module_version": "1.2.0",
          "model_name": "LayoutModel",
          "state": {
            "_model_module": "@jupyter-widgets/base",
            "_model_module_version": "1.2.0",
            "_model_name": "LayoutModel",
            "_view_count": null,
            "_view_module": "@jupyter-widgets/base",
            "_view_module_version": "1.2.0",
            "_view_name": "LayoutView",
            "align_content": null,
            "align_items": null,
            "align_self": null,
            "border": null,
            "bottom": null,
            "display": null,
            "flex": null,
            "flex_flow": null,
            "grid_area": null,
            "grid_auto_columns": null,
            "grid_auto_flow": null,
            "grid_auto_rows": null,
            "grid_column": null,
            "grid_gap": null,
            "grid_row": null,
            "grid_template_areas": null,
            "grid_template_columns": null,
            "grid_template_rows": null,
            "height": null,
            "justify_content": null,
            "justify_items": null,
            "left": null,
            "margin": null,
            "max_height": null,
            "max_width": null,
            "min_height": null,
            "min_width": null,
            "object_fit": null,
            "object_position": null,
            "order": null,
            "overflow": null,
            "overflow_x": null,
            "overflow_y": null,
            "padding": null,
            "right": null,
            "top": null,
            "visibility": "hidden",
            "width": null
          }
        },
        "896ad6b564a14bd4aa7e0ca514b1f7c7": {
          "model_module": "@jupyter-widgets/controls",
          "model_module_version": "1.5.0",
          "model_name": "HTMLModel",
          "state": {
            "_dom_classes": [],
            "_model_module": "@jupyter-widgets/controls",
            "_model_module_version": "1.5.0",
            "_model_name": "HTMLModel",
            "_view_count": null,
            "_view_module": "@jupyter-widgets/controls",
            "_view_module_version": "1.5.0",
            "_view_name": "HTMLView",
            "description": "",
            "description_tooltip": null,
            "layout": "IPY_MODEL_bcc2cbcdc08e4e118adf874289807b13",
            "placeholder": "​",
            "style": "IPY_MODEL_67205b73ab3c48e9ae3c2aec87829d46",
            "value": " 7/7 [00:01&lt;00:00,  5.63it/s]"
          }
        },
        "8eef960e2a9c4357a9c4ee26cabd700d": {
          "model_module": "@jupyter-widgets/controls",
          "model_module_version": "1.5.0",
          "model_name": "HBoxModel",
          "state": {
            "_dom_classes": [],
            "_model_module": "@jupyter-widgets/controls",
            "_model_module_version": "1.5.0",
            "_model_name": "HBoxModel",
            "_view_count": null,
            "_view_module": "@jupyter-widgets/controls",
            "_view_module_version": "1.5.0",
            "_view_name": "HBoxView",
            "box_style": "",
            "children": [
              "IPY_MODEL_bb291f7366554cb385beffd5304208d9",
              "IPY_MODEL_f926ca0ddfaa4292a8d6b3192eb02a55",
              "IPY_MODEL_2ccc5c40be634e738860ee3730754344"
            ],
            "layout": "IPY_MODEL_9649a67855af4853a2ca2aeb97e4651a"
          }
        },
        "91b3801124494cedb70e4bfc0edee3c7": {
          "model_module": "@jupyter-widgets/base",
          "model_module_version": "1.2.0",
          "model_name": "LayoutModel",
          "state": {
            "_model_module": "@jupyter-widgets/base",
            "_model_module_version": "1.2.0",
            "_model_name": "LayoutModel",
            "_view_count": null,
            "_view_module": "@jupyter-widgets/base",
            "_view_module_version": "1.2.0",
            "_view_name": "LayoutView",
            "align_content": null,
            "align_items": null,
            "align_self": null,
            "border": null,
            "bottom": null,
            "display": null,
            "flex": null,
            "flex_flow": null,
            "grid_area": null,
            "grid_auto_columns": null,
            "grid_auto_flow": null,
            "grid_auto_rows": null,
            "grid_column": null,
            "grid_gap": null,
            "grid_row": null,
            "grid_template_areas": null,
            "grid_template_columns": null,
            "grid_template_rows": null,
            "height": null,
            "justify_content": null,
            "justify_items": null,
            "left": null,
            "margin": null,
            "max_height": null,
            "max_width": null,
            "min_height": null,
            "min_width": null,
            "object_fit": null,
            "object_position": null,
            "order": null,
            "overflow": null,
            "overflow_x": null,
            "overflow_y": null,
            "padding": null,
            "right": null,
            "top": null,
            "visibility": null,
            "width": null
          }
        },
        "9649a67855af4853a2ca2aeb97e4651a": {
          "model_module": "@jupyter-widgets/base",
          "model_module_version": "1.2.0",
          "model_name": "LayoutModel",
          "state": {
            "_model_module": "@jupyter-widgets/base",
            "_model_module_version": "1.2.0",
            "_model_name": "LayoutModel",
            "_view_count": null,
            "_view_module": "@jupyter-widgets/base",
            "_view_module_version": "1.2.0",
            "_view_name": "LayoutView",
            "align_content": null,
            "align_items": null,
            "align_self": null,
            "border": null,
            "bottom": null,
            "display": null,
            "flex": null,
            "flex_flow": null,
            "grid_area": null,
            "grid_auto_columns": null,
            "grid_auto_flow": null,
            "grid_auto_rows": null,
            "grid_column": null,
            "grid_gap": null,
            "grid_row": null,
            "grid_template_areas": null,
            "grid_template_columns": null,
            "grid_template_rows": null,
            "height": null,
            "justify_content": null,
            "justify_items": null,
            "left": null,
            "margin": null,
            "max_height": null,
            "max_width": null,
            "min_height": null,
            "min_width": null,
            "object_fit": null,
            "object_position": null,
            "order": null,
            "overflow": null,
            "overflow_x": null,
            "overflow_y": null,
            "padding": null,
            "right": null,
            "top": null,
            "visibility": "hidden",
            "width": null
          }
        },
        "9b6b87e860d94d0d8c208a4f50419d0d": {
          "model_module": "@jupyter-widgets/controls",
          "model_module_version": "1.5.0",
          "model_name": "DescriptionStyleModel",
          "state": {
            "_model_module": "@jupyter-widgets/controls",
            "_model_module_version": "1.5.0",
            "_model_name": "DescriptionStyleModel",
            "_view_count": null,
            "_view_module": "@jupyter-widgets/base",
            "_view_module_version": "1.2.0",
            "_view_name": "StyleView",
            "description_width": ""
          }
        },
        "9ebd79ffdd074e3ca6b57a7c5b1075a0": {
          "model_module": "@jupyter-widgets/base",
          "model_module_version": "1.2.0",
          "model_name": "LayoutModel",
          "state": {
            "_model_module": "@jupyter-widgets/base",
            "_model_module_version": "1.2.0",
            "_model_name": "LayoutModel",
            "_view_count": null,
            "_view_module": "@jupyter-widgets/base",
            "_view_module_version": "1.2.0",
            "_view_name": "LayoutView",
            "align_content": null,
            "align_items": null,
            "align_self": null,
            "border": null,
            "bottom": null,
            "display": null,
            "flex": null,
            "flex_flow": null,
            "grid_area": null,
            "grid_auto_columns": null,
            "grid_auto_flow": null,
            "grid_auto_rows": null,
            "grid_column": null,
            "grid_gap": null,
            "grid_row": null,
            "grid_template_areas": null,
            "grid_template_columns": null,
            "grid_template_rows": null,
            "height": null,
            "justify_content": null,
            "justify_items": null,
            "left": null,
            "margin": null,
            "max_height": null,
            "max_width": null,
            "min_height": null,
            "min_width": null,
            "object_fit": null,
            "object_position": null,
            "order": null,
            "overflow": null,
            "overflow_x": null,
            "overflow_y": null,
            "padding": null,
            "right": null,
            "top": null,
            "visibility": null,
            "width": null
          }
        },
        "a15be4b4e5c54c3ba87cb767d6d43cf2": {
          "model_module": "@jupyter-widgets/controls",
          "model_module_version": "1.5.0",
          "model_name": "HTMLModel",
          "state": {
            "_dom_classes": [],
            "_model_module": "@jupyter-widgets/controls",
            "_model_module_version": "1.5.0",
            "_model_name": "HTMLModel",
            "_view_count": null,
            "_view_module": "@jupyter-widgets/controls",
            "_view_module_version": "1.5.0",
            "_view_name": "HTMLView",
            "description": "",
            "description_tooltip": null,
            "layout": "IPY_MODEL_f3957464e06e4481aab754128649c7f7",
            "placeholder": "​",
            "style": "IPY_MODEL_7752df6105b04ada913345e5ea0f8774",
            "value": "Processing: 100%"
          }
        },
        "a74be3b783fa4f0fac355d13d2b9dc38": {
          "model_module": "@jupyter-widgets/base",
          "model_module_version": "1.2.0",
          "model_name": "LayoutModel",
          "state": {
            "_model_module": "@jupyter-widgets/base",
            "_model_module_version": "1.2.0",
            "_model_name": "LayoutModel",
            "_view_count": null,
            "_view_module": "@jupyter-widgets/base",
            "_view_module_version": "1.2.0",
            "_view_name": "LayoutView",
            "align_content": null,
            "align_items": null,
            "align_self": null,
            "border": null,
            "bottom": null,
            "display": null,
            "flex": null,
            "flex_flow": null,
            "grid_area": null,
            "grid_auto_columns": null,
            "grid_auto_flow": null,
            "grid_auto_rows": null,
            "grid_column": null,
            "grid_gap": null,
            "grid_row": null,
            "grid_template_areas": null,
            "grid_template_columns": null,
            "grid_template_rows": null,
            "height": null,
            "justify_content": null,
            "justify_items": null,
            "left": null,
            "margin": null,
            "max_height": null,
            "max_width": null,
            "min_height": null,
            "min_width": null,
            "object_fit": null,
            "object_position": null,
            "order": null,
            "overflow": null,
            "overflow_x": null,
            "overflow_y": null,
            "padding": null,
            "right": null,
            "top": null,
            "visibility": "hidden",
            "width": null
          }
        },
        "a9c89508c72a43d4a87641d9935d2a0b": {
          "model_module": "@jupyter-widgets/controls",
          "model_module_version": "1.5.0",
          "model_name": "DescriptionStyleModel",
          "state": {
            "_model_module": "@jupyter-widgets/controls",
            "_model_module_version": "1.5.0",
            "_model_name": "DescriptionStyleModel",
            "_view_count": null,
            "_view_module": "@jupyter-widgets/base",
            "_view_module_version": "1.2.0",
            "_view_name": "StyleView",
            "description_width": ""
          }
        },
        "abd22d76faf0441d894607e8ac2de71d": {
          "model_module": "@jupyter-widgets/controls",
          "model_module_version": "1.5.0",
          "model_name": "HBoxModel",
          "state": {
            "_dom_classes": [],
            "_model_module": "@jupyter-widgets/controls",
            "_model_module_version": "1.5.0",
            "_model_name": "HBoxModel",
            "_view_count": null,
            "_view_module": "@jupyter-widgets/controls",
            "_view_module_version": "1.5.0",
            "_view_name": "HBoxView",
            "box_style": "",
            "children": [
              "IPY_MODEL_5fe1217f147c4dac974a2a13c25ca701",
              "IPY_MODEL_6bb4bd185d7f401580f6dae4407a3361",
              "IPY_MODEL_dc0531dba5f44bf5b27e0bd8f0996580"
            ],
            "layout": "IPY_MODEL_7f3fd9bb55c7459f9f2a0d186497ac6e"
          }
        },
        "b2c4648440c34ec7ab55a3d6b2b823c9": {
          "model_module": "@jupyter-widgets/controls",
          "model_module_version": "1.5.0",
          "model_name": "ProgressStyleModel",
          "state": {
            "_model_module": "@jupyter-widgets/controls",
            "_model_module_version": "1.5.0",
            "_model_name": "ProgressStyleModel",
            "_view_count": null,
            "_view_module": "@jupyter-widgets/base",
            "_view_module_version": "1.2.0",
            "_view_name": "StyleView",
            "bar_color": null,
            "description_width": ""
          }
        },
        "b5cf5920ce7c4c4c80ce4d4468d9043c": {
          "model_module": "@jupyter-widgets/controls",
          "model_module_version": "1.5.0",
          "model_name": "HTMLModel",
          "state": {
            "_dom_classes": [],
            "_model_module": "@jupyter-widgets/controls",
            "_model_module_version": "1.5.0",
            "_model_name": "HTMLModel",
            "_view_count": null,
            "_view_module": "@jupyter-widgets/controls",
            "_view_module_version": "1.5.0",
            "_view_name": "HTMLView",
            "description": "",
            "description_tooltip": null,
            "layout": "IPY_MODEL_2db0deca1f2449e0a28320e2c99ee077",
            "placeholder": "​",
            "style": "IPY_MODEL_a9c89508c72a43d4a87641d9935d2a0b",
            "value": " 0/7 [00:00&lt;?, ?it/s]"
          }
        },
        "b6ea13162d8a425486866ffcc09e1efb": {
          "model_module": "@jupyter-widgets/controls",
          "model_module_version": "1.5.0",
          "model_name": "HBoxModel",
          "state": {
            "_dom_classes": [],
            "_model_module": "@jupyter-widgets/controls",
            "_model_module_version": "1.5.0",
            "_model_name": "HBoxModel",
            "_view_count": null,
            "_view_module": "@jupyter-widgets/controls",
            "_view_module_version": "1.5.0",
            "_view_name": "HBoxView",
            "box_style": "",
            "children": [
              "IPY_MODEL_de2c5322c8ee49e8ac9148b0e2f46ce1",
              "IPY_MODEL_e592687f9b31402c9d61b99d9510d83f",
              "IPY_MODEL_b5cf5920ce7c4c4c80ce4d4468d9043c"
            ],
            "layout": "IPY_MODEL_064cc33ab944471cb855b25c94e5e016"
          }
        },
        "bb291f7366554cb385beffd5304208d9": {
          "model_module": "@jupyter-widgets/controls",
          "model_module_version": "1.5.0",
          "model_name": "HTMLModel",
          "state": {
            "_dom_classes": [],
            "_model_module": "@jupyter-widgets/controls",
            "_model_module_version": "1.5.0",
            "_model_name": "HTMLModel",
            "_view_count": null,
            "_view_module": "@jupyter-widgets/controls",
            "_view_module_version": "1.5.0",
            "_view_name": "HTMLView",
            "description": "",
            "description_tooltip": null,
            "layout": "IPY_MODEL_df2d32cee0114421bb8c61b9a1eacc78",
            "placeholder": "​",
            "style": "IPY_MODEL_363518ea372c4b38a76ea70eef05f7f1",
            "value": "Processing: 100%"
          }
        },
        "bb6855b5d8904a408c027e22571cc1ad": {
          "model_module": "@jupyter-widgets/base",
          "model_module_version": "1.2.0",
          "model_name": "LayoutModel",
          "state": {
            "_model_module": "@jupyter-widgets/base",
            "_model_module_version": "1.2.0",
            "_model_name": "LayoutModel",
            "_view_count": null,
            "_view_module": "@jupyter-widgets/base",
            "_view_module_version": "1.2.0",
            "_view_name": "LayoutView",
            "align_content": null,
            "align_items": null,
            "align_self": null,
            "border": null,
            "bottom": null,
            "display": null,
            "flex": null,
            "flex_flow": null,
            "grid_area": null,
            "grid_auto_columns": null,
            "grid_auto_flow": null,
            "grid_auto_rows": null,
            "grid_column": null,
            "grid_gap": null,
            "grid_row": null,
            "grid_template_areas": null,
            "grid_template_columns": null,
            "grid_template_rows": null,
            "height": null,
            "justify_content": null,
            "justify_items": null,
            "left": null,
            "margin": null,
            "max_height": null,
            "max_width": null,
            "min_height": null,
            "min_width": null,
            "object_fit": null,
            "object_position": null,
            "order": null,
            "overflow": null,
            "overflow_x": null,
            "overflow_y": null,
            "padding": null,
            "right": null,
            "top": null,
            "visibility": null,
            "width": null
          }
        },
        "bbb0e3c74867471fa661a170a17bee8f": {
          "model_module": "@jupyter-widgets/controls",
          "model_module_version": "1.5.0",
          "model_name": "DescriptionStyleModel",
          "state": {
            "_model_module": "@jupyter-widgets/controls",
            "_model_module_version": "1.5.0",
            "_model_name": "DescriptionStyleModel",
            "_view_count": null,
            "_view_module": "@jupyter-widgets/base",
            "_view_module_version": "1.2.0",
            "_view_name": "StyleView",
            "description_width": ""
          }
        },
        "bc8e928e53c945d3835e7befcd53683b": {
          "model_module": "@jupyter-widgets/controls",
          "model_module_version": "1.5.0",
          "model_name": "HBoxModel",
          "state": {
            "_dom_classes": [],
            "_model_module": "@jupyter-widgets/controls",
            "_model_module_version": "1.5.0",
            "_model_name": "HBoxModel",
            "_view_count": null,
            "_view_module": "@jupyter-widgets/controls",
            "_view_module_version": "1.5.0",
            "_view_name": "HBoxView",
            "box_style": "",
            "children": [
              "IPY_MODEL_439ac6a44c2f4d4285d3a5be5b99e3d3",
              "IPY_MODEL_0913c314cc3043f39c861fa8718a6545",
              "IPY_MODEL_c1b862d1e3674409b1b2aa91245d7f47"
            ],
            "layout": "IPY_MODEL_0ffcf2c56b074936a38948dc8c66e71e"
          }
        },
        "bcc2cbcdc08e4e118adf874289807b13": {
          "model_module": "@jupyter-widgets/base",
          "model_module_version": "1.2.0",
          "model_name": "LayoutModel",
          "state": {
            "_model_module": "@jupyter-widgets/base",
            "_model_module_version": "1.2.0",
            "_model_name": "LayoutModel",
            "_view_count": null,
            "_view_module": "@jupyter-widgets/base",
            "_view_module_version": "1.2.0",
            "_view_name": "LayoutView",
            "align_content": null,
            "align_items": null,
            "align_self": null,
            "border": null,
            "bottom": null,
            "display": null,
            "flex": null,
            "flex_flow": null,
            "grid_area": null,
            "grid_auto_columns": null,
            "grid_auto_flow": null,
            "grid_auto_rows": null,
            "grid_column": null,
            "grid_gap": null,
            "grid_row": null,
            "grid_template_areas": null,
            "grid_template_columns": null,
            "grid_template_rows": null,
            "height": null,
            "justify_content": null,
            "justify_items": null,
            "left": null,
            "margin": null,
            "max_height": null,
            "max_width": null,
            "min_height": null,
            "min_width": null,
            "object_fit": null,
            "object_position": null,
            "order": null,
            "overflow": null,
            "overflow_x": null,
            "overflow_y": null,
            "padding": null,
            "right": null,
            "top": null,
            "visibility": null,
            "width": null
          }
        },
        "c175b22f4a824e1385d1e3343f911609": {
          "model_module": "@jupyter-widgets/controls",
          "model_module_version": "1.5.0",
          "model_name": "DescriptionStyleModel",
          "state": {
            "_model_module": "@jupyter-widgets/controls",
            "_model_module_version": "1.5.0",
            "_model_name": "DescriptionStyleModel",
            "_view_count": null,
            "_view_module": "@jupyter-widgets/base",
            "_view_module_version": "1.2.0",
            "_view_name": "StyleView",
            "description_width": ""
          }
        },
        "c1a088832100484281c6e413246dc4ea": {
          "model_module": "@jupyter-widgets/controls",
          "model_module_version": "1.5.0",
          "model_name": "DescriptionStyleModel",
          "state": {
            "_model_module": "@jupyter-widgets/controls",
            "_model_module_version": "1.5.0",
            "_model_name": "DescriptionStyleModel",
            "_view_count": null,
            "_view_module": "@jupyter-widgets/base",
            "_view_module_version": "1.2.0",
            "_view_name": "StyleView",
            "description_width": ""
          }
        },
        "c1b862d1e3674409b1b2aa91245d7f47": {
          "model_module": "@jupyter-widgets/controls",
          "model_module_version": "1.5.0",
          "model_name": "HTMLModel",
          "state": {
            "_dom_classes": [],
            "_model_module": "@jupyter-widgets/controls",
            "_model_module_version": "1.5.0",
            "_model_name": "HTMLModel",
            "_view_count": null,
            "_view_module": "@jupyter-widgets/controls",
            "_view_module_version": "1.5.0",
            "_view_name": "HTMLView",
            "description": "",
            "description_tooltip": null,
            "layout": "IPY_MODEL_2d06aecbcb854cd2832a3b1282e7170f",
            "placeholder": "​",
            "style": "IPY_MODEL_ee18e84a5f084bb986f3ae0a4d70506e",
            "value": " 7/7 [06:24&lt;00:00, 43.81s/it]"
          }
        },
        "c8a5c38efef140b69f143bff8ba9095a": {
          "model_module": "@jupyter-widgets/controls",
          "model_module_version": "1.5.0",
          "model_name": "DescriptionStyleModel",
          "state": {
            "_model_module": "@jupyter-widgets/controls",
            "_model_module_version": "1.5.0",
            "_model_name": "DescriptionStyleModel",
            "_view_count": null,
            "_view_module": "@jupyter-widgets/base",
            "_view_module_version": "1.2.0",
            "_view_name": "StyleView",
            "description_width": ""
          }
        },
        "cb86643d9ec84b7d8051d4b32726c785": {
          "model_module": "@jupyter-widgets/controls",
          "model_module_version": "1.5.0",
          "model_name": "HBoxModel",
          "state": {
            "_dom_classes": [],
            "_model_module": "@jupyter-widgets/controls",
            "_model_module_version": "1.5.0",
            "_model_name": "HBoxModel",
            "_view_count": null,
            "_view_module": "@jupyter-widgets/controls",
            "_view_module_version": "1.5.0",
            "_view_name": "HBoxView",
            "box_style": "",
            "children": [
              "IPY_MODEL_f698132dcf204291882c16d4707575ab",
              "IPY_MODEL_2deea4dfc78441eab17026b1e79cd2c6",
              "IPY_MODEL_33a5d2860cab41bf8c4e35671f4e028a"
            ],
            "layout": "IPY_MODEL_273254f3183944e2bd2dff8e837ca794"
          }
        },
        "d1df5ab6e3ac4880a7ec33d080010a63": {
          "model_module": "@jupyter-widgets/controls",
          "model_module_version": "1.5.0",
          "model_name": "ProgressStyleModel",
          "state": {
            "_model_module": "@jupyter-widgets/controls",
            "_model_module_version": "1.5.0",
            "_model_name": "ProgressStyleModel",
            "_view_count": null,
            "_view_module": "@jupyter-widgets/base",
            "_view_module_version": "1.2.0",
            "_view_name": "StyleView",
            "bar_color": null,
            "description_width": ""
          }
        },
        "d21ba0f068ad4c7286730b32d49a3165": {
          "model_module": "@jupyter-widgets/base",
          "model_module_version": "1.2.0",
          "model_name": "LayoutModel",
          "state": {
            "_model_module": "@jupyter-widgets/base",
            "_model_module_version": "1.2.0",
            "_model_name": "LayoutModel",
            "_view_count": null,
            "_view_module": "@jupyter-widgets/base",
            "_view_module_version": "1.2.0",
            "_view_name": "LayoutView",
            "align_content": null,
            "align_items": null,
            "align_self": null,
            "border": null,
            "bottom": null,
            "display": null,
            "flex": null,
            "flex_flow": null,
            "grid_area": null,
            "grid_auto_columns": null,
            "grid_auto_flow": null,
            "grid_auto_rows": null,
            "grid_column": null,
            "grid_gap": null,
            "grid_row": null,
            "grid_template_areas": null,
            "grid_template_columns": null,
            "grid_template_rows": null,
            "height": null,
            "justify_content": null,
            "justify_items": null,
            "left": null,
            "margin": null,
            "max_height": null,
            "max_width": null,
            "min_height": null,
            "min_width": null,
            "object_fit": null,
            "object_position": null,
            "order": null,
            "overflow": null,
            "overflow_x": null,
            "overflow_y": null,
            "padding": null,
            "right": null,
            "top": null,
            "visibility": null,
            "width": null
          }
        },
        "d62a771fe78544b7a3a2484c5557a08d": {
          "model_module": "@jupyter-widgets/base",
          "model_module_version": "1.2.0",
          "model_name": "LayoutModel",
          "state": {
            "_model_module": "@jupyter-widgets/base",
            "_model_module_version": "1.2.0",
            "_model_name": "LayoutModel",
            "_view_count": null,
            "_view_module": "@jupyter-widgets/base",
            "_view_module_version": "1.2.0",
            "_view_name": "LayoutView",
            "align_content": null,
            "align_items": null,
            "align_self": null,
            "border": null,
            "bottom": null,
            "display": null,
            "flex": null,
            "flex_flow": null,
            "grid_area": null,
            "grid_auto_columns": null,
            "grid_auto_flow": null,
            "grid_auto_rows": null,
            "grid_column": null,
            "grid_gap": null,
            "grid_row": null,
            "grid_template_areas": null,
            "grid_template_columns": null,
            "grid_template_rows": null,
            "height": null,
            "justify_content": null,
            "justify_items": null,
            "left": null,
            "margin": null,
            "max_height": null,
            "max_width": null,
            "min_height": null,
            "min_width": null,
            "object_fit": null,
            "object_position": null,
            "order": null,
            "overflow": null,
            "overflow_x": null,
            "overflow_y": null,
            "padding": null,
            "right": null,
            "top": null,
            "visibility": null,
            "width": null
          }
        },
        "da3918826a3a4af5bb273838188029cf": {
          "model_module": "@jupyter-widgets/controls",
          "model_module_version": "1.5.0",
          "model_name": "HTMLModel",
          "state": {
            "_dom_classes": [],
            "_model_module": "@jupyter-widgets/controls",
            "_model_module_version": "1.5.0",
            "_model_name": "HTMLModel",
            "_view_count": null,
            "_view_module": "@jupyter-widgets/controls",
            "_view_module_version": "1.5.0",
            "_view_name": "HTMLView",
            "description": "",
            "description_tooltip": null,
            "layout": "IPY_MODEL_ed03b412e14b496c9b13a52ca35e01c5",
            "placeholder": "​",
            "style": "IPY_MODEL_fe9c663492ff4ea3a42280c13004889e",
            "value": "Processing: 100%"
          }
        },
        "da549353aae847b28e9348eeb39c229a": {
          "model_module": "@jupyter-widgets/controls",
          "model_module_version": "1.5.0",
          "model_name": "HTMLModel",
          "state": {
            "_dom_classes": [],
            "_model_module": "@jupyter-widgets/controls",
            "_model_module_version": "1.5.0",
            "_model_name": "HTMLModel",
            "_view_count": null,
            "_view_module": "@jupyter-widgets/controls",
            "_view_module_version": "1.5.0",
            "_view_name": "HTMLView",
            "description": "",
            "description_tooltip": null,
            "layout": "IPY_MODEL_dc383b71a7f64d77ae26e6174c019088",
            "placeholder": "​",
            "style": "IPY_MODEL_2ef6db5c84894d8a8c56628313bce289",
            "value": "100%"
          }
        },
        "dc0531dba5f44bf5b27e0bd8f0996580": {
          "model_module": "@jupyter-widgets/controls",
          "model_module_version": "1.5.0",
          "model_name": "HTMLModel",
          "state": {
            "_dom_classes": [],
            "_model_module": "@jupyter-widgets/controls",
            "_model_module_version": "1.5.0",
            "_model_name": "HTMLModel",
            "_view_count": null,
            "_view_module": "@jupyter-widgets/controls",
            "_view_module_version": "1.5.0",
            "_view_name": "HTMLView",
            "description": "",
            "description_tooltip": null,
            "layout": "IPY_MODEL_e9c0869940124ba591287d1ff528fdc9",
            "placeholder": "​",
            "style": "IPY_MODEL_7b840a44e9e04c5b908c2788cf12ffb3",
            "value": " 0/7 [00:00&lt;?, ?it/s]"
          }
        },
        "dc383b71a7f64d77ae26e6174c019088": {
          "model_module": "@jupyter-widgets/base",
          "model_module_version": "1.2.0",
          "model_name": "LayoutModel",
          "state": {
            "_model_module": "@jupyter-widgets/base",
            "_model_module_version": "1.2.0",
            "_model_name": "LayoutModel",
            "_view_count": null,
            "_view_module": "@jupyter-widgets/base",
            "_view_module_version": "1.2.0",
            "_view_name": "LayoutView",
            "align_content": null,
            "align_items": null,
            "align_self": null,
            "border": null,
            "bottom": null,
            "display": null,
            "flex": null,
            "flex_flow": null,
            "grid_area": null,
            "grid_auto_columns": null,
            "grid_auto_flow": null,
            "grid_auto_rows": null,
            "grid_column": null,
            "grid_gap": null,
            "grid_row": null,
            "grid_template_areas": null,
            "grid_template_columns": null,
            "grid_template_rows": null,
            "height": null,
            "justify_content": null,
            "justify_items": null,
            "left": null,
            "margin": null,
            "max_height": null,
            "max_width": null,
            "min_height": null,
            "min_width": null,
            "object_fit": null,
            "object_position": null,
            "order": null,
            "overflow": null,
            "overflow_x": null,
            "overflow_y": null,
            "padding": null,
            "right": null,
            "top": null,
            "visibility": null,
            "width": null
          }
        },
        "dd415aae1e424bef8645f504ef7ff94b": {
          "model_module": "@jupyter-widgets/controls",
          "model_module_version": "1.5.0",
          "model_name": "ProgressStyleModel",
          "state": {
            "_model_module": "@jupyter-widgets/controls",
            "_model_module_version": "1.5.0",
            "_model_name": "ProgressStyleModel",
            "_view_count": null,
            "_view_module": "@jupyter-widgets/base",
            "_view_module_version": "1.2.0",
            "_view_name": "StyleView",
            "bar_color": null,
            "description_width": ""
          }
        },
        "de2c5322c8ee49e8ac9148b0e2f46ce1": {
          "model_module": "@jupyter-widgets/controls",
          "model_module_version": "1.5.0",
          "model_name": "HTMLModel",
          "state": {
            "_dom_classes": [],
            "_model_module": "@jupyter-widgets/controls",
            "_model_module_version": "1.5.0",
            "_model_name": "HTMLModel",
            "_view_count": null,
            "_view_module": "@jupyter-widgets/controls",
            "_view_module_version": "1.5.0",
            "_view_name": "HTMLView",
            "description": "",
            "description_tooltip": null,
            "layout": "IPY_MODEL_bb6855b5d8904a408c027e22571cc1ad",
            "placeholder": "​",
            "style": "IPY_MODEL_c175b22f4a824e1385d1e3343f911609",
            "value": "Processing:   0%"
          }
        },
        "df2d32cee0114421bb8c61b9a1eacc78": {
          "model_module": "@jupyter-widgets/base",
          "model_module_version": "1.2.0",
          "model_name": "LayoutModel",
          "state": {
            "_model_module": "@jupyter-widgets/base",
            "_model_module_version": "1.2.0",
            "_model_name": "LayoutModel",
            "_view_count": null,
            "_view_module": "@jupyter-widgets/base",
            "_view_module_version": "1.2.0",
            "_view_name": "LayoutView",
            "align_content": null,
            "align_items": null,
            "align_self": null,
            "border": null,
            "bottom": null,
            "display": null,
            "flex": null,
            "flex_flow": null,
            "grid_area": null,
            "grid_auto_columns": null,
            "grid_auto_flow": null,
            "grid_auto_rows": null,
            "grid_column": null,
            "grid_gap": null,
            "grid_row": null,
            "grid_template_areas": null,
            "grid_template_columns": null,
            "grid_template_rows": null,
            "height": null,
            "justify_content": null,
            "justify_items": null,
            "left": null,
            "margin": null,
            "max_height": null,
            "max_width": null,
            "min_height": null,
            "min_width": null,
            "object_fit": null,
            "object_position": null,
            "order": null,
            "overflow": null,
            "overflow_x": null,
            "overflow_y": null,
            "padding": null,
            "right": null,
            "top": null,
            "visibility": null,
            "width": null
          }
        },
        "df8f665e5c9b46268e326f61f9a6b11b": {
          "model_module": "@jupyter-widgets/controls",
          "model_module_version": "1.5.0",
          "model_name": "FloatProgressModel",
          "state": {
            "_dom_classes": [],
            "_model_module": "@jupyter-widgets/controls",
            "_model_module_version": "1.5.0",
            "_model_name": "FloatProgressModel",
            "_view_count": null,
            "_view_module": "@jupyter-widgets/controls",
            "_view_module_version": "1.5.0",
            "_view_name": "ProgressView",
            "bar_style": "",
            "description": "",
            "description_tooltip": null,
            "layout": "IPY_MODEL_29af35b56d4a46408abc74fd084e393b",
            "max": 7,
            "min": 0,
            "orientation": "horizontal",
            "style": "IPY_MODEL_73852379298b4645984b1e54f164597c",
            "value": 7
          }
        },
        "e02d5e0a85c3460199faad4150c828e1": {
          "model_module": "@jupyter-widgets/base",
          "model_module_version": "1.2.0",
          "model_name": "LayoutModel",
          "state": {
            "_model_module": "@jupyter-widgets/base",
            "_model_module_version": "1.2.0",
            "_model_name": "LayoutModel",
            "_view_count": null,
            "_view_module": "@jupyter-widgets/base",
            "_view_module_version": "1.2.0",
            "_view_name": "LayoutView",
            "align_content": null,
            "align_items": null,
            "align_self": null,
            "border": null,
            "bottom": null,
            "display": null,
            "flex": null,
            "flex_flow": null,
            "grid_area": null,
            "grid_auto_columns": null,
            "grid_auto_flow": null,
            "grid_auto_rows": null,
            "grid_column": null,
            "grid_gap": null,
            "grid_row": null,
            "grid_template_areas": null,
            "grid_template_columns": null,
            "grid_template_rows": null,
            "height": null,
            "justify_content": null,
            "justify_items": null,
            "left": null,
            "margin": null,
            "max_height": null,
            "max_width": null,
            "min_height": null,
            "min_width": null,
            "object_fit": null,
            "object_position": null,
            "order": null,
            "overflow": null,
            "overflow_x": null,
            "overflow_y": null,
            "padding": null,
            "right": null,
            "top": null,
            "visibility": null,
            "width": null
          }
        },
        "e2060745923a455d9bd995706ded7107": {
          "model_module": "@jupyter-widgets/controls",
          "model_module_version": "1.5.0",
          "model_name": "HTMLModel",
          "state": {
            "_dom_classes": [],
            "_model_module": "@jupyter-widgets/controls",
            "_model_module_version": "1.5.0",
            "_model_name": "HTMLModel",
            "_view_count": null,
            "_view_module": "@jupyter-widgets/controls",
            "_view_module_version": "1.5.0",
            "_view_name": "HTMLView",
            "description": "",
            "description_tooltip": null,
            "layout": "IPY_MODEL_d62a771fe78544b7a3a2484c5557a08d",
            "placeholder": "​",
            "style": "IPY_MODEL_25874127953d4080a135eb650e3bf8a4",
            "value": "Processing: 100%"
          }
        },
        "e592687f9b31402c9d61b99d9510d83f": {
          "model_module": "@jupyter-widgets/controls",
          "model_module_version": "1.5.0",
          "model_name": "FloatProgressModel",
          "state": {
            "_dom_classes": [],
            "_model_module": "@jupyter-widgets/controls",
            "_model_module_version": "1.5.0",
            "_model_name": "FloatProgressModel",
            "_view_count": null,
            "_view_module": "@jupyter-widgets/controls",
            "_view_module_version": "1.5.0",
            "_view_name": "ProgressView",
            "bar_style": "",
            "description": "",
            "description_tooltip": null,
            "layout": "IPY_MODEL_d21ba0f068ad4c7286730b32d49a3165",
            "max": 7,
            "min": 0,
            "orientation": "horizontal",
            "style": "IPY_MODEL_2d9e9e716af245af9f9022b340385135",
            "value": 7
          }
        },
        "e9c0869940124ba591287d1ff528fdc9": {
          "model_module": "@jupyter-widgets/base",
          "model_module_version": "1.2.0",
          "model_name": "LayoutModel",
          "state": {
            "_model_module": "@jupyter-widgets/base",
            "_model_module_version": "1.2.0",
            "_model_name": "LayoutModel",
            "_view_count": null,
            "_view_module": "@jupyter-widgets/base",
            "_view_module_version": "1.2.0",
            "_view_name": "LayoutView",
            "align_content": null,
            "align_items": null,
            "align_self": null,
            "border": null,
            "bottom": null,
            "display": null,
            "flex": null,
            "flex_flow": null,
            "grid_area": null,
            "grid_auto_columns": null,
            "grid_auto_flow": null,
            "grid_auto_rows": null,
            "grid_column": null,
            "grid_gap": null,
            "grid_row": null,
            "grid_template_areas": null,
            "grid_template_columns": null,
            "grid_template_rows": null,
            "height": null,
            "justify_content": null,
            "justify_items": null,
            "left": null,
            "margin": null,
            "max_height": null,
            "max_width": null,
            "min_height": null,
            "min_width": null,
            "object_fit": null,
            "object_position": null,
            "order": null,
            "overflow": null,
            "overflow_x": null,
            "overflow_y": null,
            "padding": null,
            "right": null,
            "top": null,
            "visibility": null,
            "width": null
          }
        },
        "e9d97b60930f4335b3b37b2a449e73c8": {
          "model_module": "@jupyter-widgets/controls",
          "model_module_version": "1.5.0",
          "model_name": "HBoxModel",
          "state": {
            "_dom_classes": [],
            "_model_module": "@jupyter-widgets/controls",
            "_model_module_version": "1.5.0",
            "_model_name": "HBoxModel",
            "_view_count": null,
            "_view_module": "@jupyter-widgets/controls",
            "_view_module_version": "1.5.0",
            "_view_name": "HBoxView",
            "box_style": "",
            "children": [
              "IPY_MODEL_da549353aae847b28e9348eeb39c229a",
              "IPY_MODEL_f823e843fe014affb5a18d2892c93d9f",
              "IPY_MODEL_4afd9c192b4148e5a526e22c09709b7b"
            ],
            "layout": "IPY_MODEL_43db40ff8bdc4e92977f83d828a2b819"
          }
        },
        "ed03b412e14b496c9b13a52ca35e01c5": {
          "model_module": "@jupyter-widgets/base",
          "model_module_version": "1.2.0",
          "model_name": "LayoutModel",
          "state": {
            "_model_module": "@jupyter-widgets/base",
            "_model_module_version": "1.2.0",
            "_model_name": "LayoutModel",
            "_view_count": null,
            "_view_module": "@jupyter-widgets/base",
            "_view_module_version": "1.2.0",
            "_view_name": "LayoutView",
            "align_content": null,
            "align_items": null,
            "align_self": null,
            "border": null,
            "bottom": null,
            "display": null,
            "flex": null,
            "flex_flow": null,
            "grid_area": null,
            "grid_auto_columns": null,
            "grid_auto_flow": null,
            "grid_auto_rows": null,
            "grid_column": null,
            "grid_gap": null,
            "grid_row": null,
            "grid_template_areas": null,
            "grid_template_columns": null,
            "grid_template_rows": null,
            "height": null,
            "justify_content": null,
            "justify_items": null,
            "left": null,
            "margin": null,
            "max_height": null,
            "max_width": null,
            "min_height": null,
            "min_width": null,
            "object_fit": null,
            "object_position": null,
            "order": null,
            "overflow": null,
            "overflow_x": null,
            "overflow_y": null,
            "padding": null,
            "right": null,
            "top": null,
            "visibility": null,
            "width": null
          }
        },
        "ee18e84a5f084bb986f3ae0a4d70506e": {
          "model_module": "@jupyter-widgets/controls",
          "model_module_version": "1.5.0",
          "model_name": "DescriptionStyleModel",
          "state": {
            "_model_module": "@jupyter-widgets/controls",
            "_model_module_version": "1.5.0",
            "_model_name": "DescriptionStyleModel",
            "_view_count": null,
            "_view_module": "@jupyter-widgets/base",
            "_view_module_version": "1.2.0",
            "_view_name": "StyleView",
            "description_width": ""
          }
        },
        "ee5df7a7946f407096963c3951bb9ecd": {
          "model_module": "@jupyter-widgets/controls",
          "model_module_version": "1.5.0",
          "model_name": "HTMLModel",
          "state": {
            "_dom_classes": [],
            "_model_module": "@jupyter-widgets/controls",
            "_model_module_version": "1.5.0",
            "_model_name": "HTMLModel",
            "_view_count": null,
            "_view_module": "@jupyter-widgets/controls",
            "_view_module_version": "1.5.0",
            "_view_name": "HTMLView",
            "description": "",
            "description_tooltip": null,
            "layout": "IPY_MODEL_3a72f7409bbc4ff792e643ccfce8e614",
            "placeholder": "​",
            "style": "IPY_MODEL_4cdd0f0fb3c04977b367293b87f9188b",
            "value": " 7/7 [01:34&lt;00:00, 10.40s/it]"
          }
        },
        "f2cd74b3939946ccbf33f7fe492edc70": {
          "model_module": "@jupyter-widgets/controls",
          "model_module_version": "1.5.0",
          "model_name": "DescriptionStyleModel",
          "state": {
            "_model_module": "@jupyter-widgets/controls",
            "_model_module_version": "1.5.0",
            "_model_name": "DescriptionStyleModel",
            "_view_count": null,
            "_view_module": "@jupyter-widgets/base",
            "_view_module_version": "1.2.0",
            "_view_name": "StyleView",
            "description_width": ""
          }
        },
        "f3957464e06e4481aab754128649c7f7": {
          "model_module": "@jupyter-widgets/base",
          "model_module_version": "1.2.0",
          "model_name": "LayoutModel",
          "state": {
            "_model_module": "@jupyter-widgets/base",
            "_model_module_version": "1.2.0",
            "_model_name": "LayoutModel",
            "_view_count": null,
            "_view_module": "@jupyter-widgets/base",
            "_view_module_version": "1.2.0",
            "_view_name": "LayoutView",
            "align_content": null,
            "align_items": null,
            "align_self": null,
            "border": null,
            "bottom": null,
            "display": null,
            "flex": null,
            "flex_flow": null,
            "grid_area": null,
            "grid_auto_columns": null,
            "grid_auto_flow": null,
            "grid_auto_rows": null,
            "grid_column": null,
            "grid_gap": null,
            "grid_row": null,
            "grid_template_areas": null,
            "grid_template_columns": null,
            "grid_template_rows": null,
            "height": null,
            "justify_content": null,
            "justify_items": null,
            "left": null,
            "margin": null,
            "max_height": null,
            "max_width": null,
            "min_height": null,
            "min_width": null,
            "object_fit": null,
            "object_position": null,
            "order": null,
            "overflow": null,
            "overflow_x": null,
            "overflow_y": null,
            "padding": null,
            "right": null,
            "top": null,
            "visibility": null,
            "width": null
          }
        },
        "f5b251e82cd742ed97ffa2c46a92b9f2": {
          "model_module": "@jupyter-widgets/controls",
          "model_module_version": "1.5.0",
          "model_name": "DescriptionStyleModel",
          "state": {
            "_model_module": "@jupyter-widgets/controls",
            "_model_module_version": "1.5.0",
            "_model_name": "DescriptionStyleModel",
            "_view_count": null,
            "_view_module": "@jupyter-widgets/base",
            "_view_module_version": "1.2.0",
            "_view_name": "StyleView",
            "description_width": ""
          }
        },
        "f5cf5f62b5a049de9e4d987eee293df3": {
          "model_module": "@jupyter-widgets/base",
          "model_module_version": "1.2.0",
          "model_name": "LayoutModel",
          "state": {
            "_model_module": "@jupyter-widgets/base",
            "_model_module_version": "1.2.0",
            "_model_name": "LayoutModel",
            "_view_count": null,
            "_view_module": "@jupyter-widgets/base",
            "_view_module_version": "1.2.0",
            "_view_name": "LayoutView",
            "align_content": null,
            "align_items": null,
            "align_self": null,
            "border": null,
            "bottom": null,
            "display": null,
            "flex": null,
            "flex_flow": null,
            "grid_area": null,
            "grid_auto_columns": null,
            "grid_auto_flow": null,
            "grid_auto_rows": null,
            "grid_column": null,
            "grid_gap": null,
            "grid_row": null,
            "grid_template_areas": null,
            "grid_template_columns": null,
            "grid_template_rows": null,
            "height": null,
            "justify_content": null,
            "justify_items": null,
            "left": null,
            "margin": null,
            "max_height": null,
            "max_width": null,
            "min_height": null,
            "min_width": null,
            "object_fit": null,
            "object_position": null,
            "order": null,
            "overflow": null,
            "overflow_x": null,
            "overflow_y": null,
            "padding": null,
            "right": null,
            "top": null,
            "visibility": null,
            "width": null
          }
        },
        "f698132dcf204291882c16d4707575ab": {
          "model_module": "@jupyter-widgets/controls",
          "model_module_version": "1.5.0",
          "model_name": "HTMLModel",
          "state": {
            "_dom_classes": [],
            "_model_module": "@jupyter-widgets/controls",
            "_model_module_version": "1.5.0",
            "_model_name": "HTMLModel",
            "_view_count": null,
            "_view_module": "@jupyter-widgets/controls",
            "_view_module_version": "1.5.0",
            "_view_name": "HTMLView",
            "description": "",
            "description_tooltip": null,
            "layout": "IPY_MODEL_136eb9069b294307a1e1da3075e1247c",
            "placeholder": "​",
            "style": "IPY_MODEL_bbb0e3c74867471fa661a170a17bee8f",
            "value": "Processing:   0%"
          }
        },
        "f823e843fe014affb5a18d2892c93d9f": {
          "model_module": "@jupyter-widgets/controls",
          "model_module_version": "1.5.0",
          "model_name": "FloatProgressModel",
          "state": {
            "_dom_classes": [],
            "_model_module": "@jupyter-widgets/controls",
            "_model_module_version": "1.5.0",
            "_model_name": "FloatProgressModel",
            "_view_count": null,
            "_view_module": "@jupyter-widgets/controls",
            "_view_module_version": "1.5.0",
            "_view_name": "ProgressView",
            "bar_style": "success",
            "description": "",
            "description_tooltip": null,
            "layout": "IPY_MODEL_91b3801124494cedb70e4bfc0edee3c7",
            "max": 5,
            "min": 0,
            "orientation": "horizontal",
            "style": "IPY_MODEL_319e173b44b74667becf8693fd493a2e",
            "value": 5
          }
        },
        "f926ca0ddfaa4292a8d6b3192eb02a55": {
          "model_module": "@jupyter-widgets/controls",
          "model_module_version": "1.5.0",
          "model_name": "FloatProgressModel",
          "state": {
            "_dom_classes": [],
            "_model_module": "@jupyter-widgets/controls",
            "_model_module_version": "1.5.0",
            "_model_name": "FloatProgressModel",
            "_view_count": null,
            "_view_module": "@jupyter-widgets/controls",
            "_view_module_version": "1.5.0",
            "_view_name": "ProgressView",
            "bar_style": "",
            "description": "",
            "description_tooltip": null,
            "layout": "IPY_MODEL_1ca0cfb13dc1423da9c587285df6e765",
            "max": 7,
            "min": 0,
            "orientation": "horizontal",
            "style": "IPY_MODEL_6e6367ac05714e99a78a2cc5ae2ac8a6",
            "value": 7
          }
        },
        "fc3ef26938064dc0bc2758f5e4ef00bf": {
          "model_module": "@jupyter-widgets/base",
          "model_module_version": "1.2.0",
          "model_name": "LayoutModel",
          "state": {
            "_model_module": "@jupyter-widgets/base",
            "_model_module_version": "1.2.0",
            "_model_name": "LayoutModel",
            "_view_count": null,
            "_view_module": "@jupyter-widgets/base",
            "_view_module_version": "1.2.0",
            "_view_name": "LayoutView",
            "align_content": null,
            "align_items": null,
            "align_self": null,
            "border": null,
            "bottom": null,
            "display": null,
            "flex": null,
            "flex_flow": null,
            "grid_area": null,
            "grid_auto_columns": null,
            "grid_auto_flow": null,
            "grid_auto_rows": null,
            "grid_column": null,
            "grid_gap": null,
            "grid_row": null,
            "grid_template_areas": null,
            "grid_template_columns": null,
            "grid_template_rows": null,
            "height": null,
            "justify_content": null,
            "justify_items": null,
            "left": null,
            "margin": null,
            "max_height": null,
            "max_width": null,
            "min_height": null,
            "min_width": null,
            "object_fit": null,
            "object_position": null,
            "order": null,
            "overflow": null,
            "overflow_x": null,
            "overflow_y": null,
            "padding": null,
            "right": null,
            "top": null,
            "visibility": null,
            "width": null
          }
        },
        "fc67b55c59f44e70b086ddedd99b50ff": {
          "model_module": "@jupyter-widgets/base",
          "model_module_version": "1.2.0",
          "model_name": "LayoutModel",
          "state": {
            "_model_module": "@jupyter-widgets/base",
            "_model_module_version": "1.2.0",
            "_model_name": "LayoutModel",
            "_view_count": null,
            "_view_module": "@jupyter-widgets/base",
            "_view_module_version": "1.2.0",
            "_view_name": "LayoutView",
            "align_content": null,
            "align_items": null,
            "align_self": null,
            "border": null,
            "bottom": null,
            "display": null,
            "flex": null,
            "flex_flow": null,
            "grid_area": null,
            "grid_auto_columns": null,
            "grid_auto_flow": null,
            "grid_auto_rows": null,
            "grid_column": null,
            "grid_gap": null,
            "grid_row": null,
            "grid_template_areas": null,
            "grid_template_columns": null,
            "grid_template_rows": null,
            "height": null,
            "justify_content": null,
            "justify_items": null,
            "left": null,
            "margin": null,
            "max_height": null,
            "max_width": null,
            "min_height": null,
            "min_width": null,
            "object_fit": null,
            "object_position": null,
            "order": null,
            "overflow": null,
            "overflow_x": null,
            "overflow_y": null,
            "padding": null,
            "right": null,
            "top": null,
            "visibility": null,
            "width": null
          }
        },
        "fe9c4b7b64f0456c8ff9b9b64417352e": {
          "model_module": "@jupyter-widgets/controls",
          "model_module_version": "1.5.0",
          "model_name": "HBoxModel",
          "state": {
            "_dom_classes": [],
            "_model_module": "@jupyter-widgets/controls",
            "_model_module_version": "1.5.0",
            "_model_name": "HBoxModel",
            "_view_count": null,
            "_view_module": "@jupyter-widgets/controls",
            "_view_module_version": "1.5.0",
            "_view_name": "HBoxView",
            "box_style": "",
            "children": [
              "IPY_MODEL_e2060745923a455d9bd995706ded7107",
              "IPY_MODEL_149c342a656e4db2ab4da8f22171abbd",
              "IPY_MODEL_28203a3a1984452599a43c3e4c149914"
            ],
            "layout": "IPY_MODEL_a74be3b783fa4f0fac355d13d2b9dc38"
          }
        },
        "fe9c663492ff4ea3a42280c13004889e": {
          "model_module": "@jupyter-widgets/controls",
          "model_module_version": "1.5.0",
          "model_name": "DescriptionStyleModel",
          "state": {
            "_model_module": "@jupyter-widgets/controls",
            "_model_module_version": "1.5.0",
            "_model_name": "DescriptionStyleModel",
            "_view_count": null,
            "_view_module": "@jupyter-widgets/base",
            "_view_module_version": "1.2.0",
            "_view_name": "StyleView",
            "description_width": ""
          }
        }
      }
    }
  },
  "nbformat": 4,
  "nbformat_minor": 0
}
