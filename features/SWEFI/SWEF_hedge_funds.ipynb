{
  "cells": [
    {
      "cell_type": "markdown",
      "metadata": {},
      "source": [
        "---\n",
        "# **SWEFI: Applications to Macroeconomics**\n",
        "\n",
        "---"
      ]
    },
    {
      "cell_type": "code",
      "execution_count": 3,
      "metadata": {},
      "outputs": [],
      "source": [
        "from stability_weighted_ensemble_feature_importance import *\n",
        "from synthetic_dataset_generation import *"
      ]
    },
    {
      "cell_type": "code",
      "execution_count": null,
      "metadata": {},
      "outputs": [
        {
          "name": "stderr",
          "output_type": "stream",
          "text": [
            "[*********************100%***********************]  1 of 1 completed\n",
            "[*********************100%***********************]  1 of 1 completed\n"
          ]
        },
        {
          "data": {
            "text/html": [
              "<style type=\"text/css\">\n",
              "#T_abcf9_row8_col1, #T_abcf9_row12_col1 {\n",
              "  background-color: lightgreen;\n",
              "}\n",
              "</style>\n",
              "<table id=\"T_abcf9\">\n",
              "  <thead>\n",
              "    <tr>\n",
              "      <th class=\"blank level0\" >&nbsp;</th>\n",
              "      <th id=\"T_abcf9_level0_col0\" class=\"col_heading level0 col0\" >Description</th>\n",
              "      <th id=\"T_abcf9_level0_col1\" class=\"col_heading level0 col1\" >Value</th>\n",
              "    </tr>\n",
              "  </thead>\n",
              "  <tbody>\n",
              "    <tr>\n",
              "      <th id=\"T_abcf9_level0_row0\" class=\"row_heading level0 row0\" >0</th>\n",
              "      <td id=\"T_abcf9_row0_col0\" class=\"data row0 col0\" >Session id</td>\n",
              "      <td id=\"T_abcf9_row0_col1\" class=\"data row0 col1\" >123</td>\n",
              "    </tr>\n",
              "    <tr>\n",
              "      <th id=\"T_abcf9_level0_row1\" class=\"row_heading level0 row1\" >1</th>\n",
              "      <td id=\"T_abcf9_row1_col0\" class=\"data row1 col0\" >Target</td>\n",
              "      <td id=\"T_abcf9_row1_col1\" class=\"data row1 col1\" >Direction</td>\n",
              "    </tr>\n",
              "    <tr>\n",
              "      <th id=\"T_abcf9_level0_row2\" class=\"row_heading level0 row2\" >2</th>\n",
              "      <td id=\"T_abcf9_row2_col0\" class=\"data row2 col0\" >Target type</td>\n",
              "      <td id=\"T_abcf9_row2_col1\" class=\"data row2 col1\" >Binary</td>\n",
              "    </tr>\n",
              "    <tr>\n",
              "      <th id=\"T_abcf9_level0_row3\" class=\"row_heading level0 row3\" >3</th>\n",
              "      <td id=\"T_abcf9_row3_col0\" class=\"data row3 col0\" >Original data shape</td>\n",
              "      <td id=\"T_abcf9_row3_col1\" class=\"data row3 col1\" >(358, 5)</td>\n",
              "    </tr>\n",
              "    <tr>\n",
              "      <th id=\"T_abcf9_level0_row4\" class=\"row_heading level0 row4\" >4</th>\n",
              "      <td id=\"T_abcf9_row4_col0\" class=\"data row4 col0\" >Transformed data shape</td>\n",
              "      <td id=\"T_abcf9_row4_col1\" class=\"data row4 col1\" >(358, 5)</td>\n",
              "    </tr>\n",
              "    <tr>\n",
              "      <th id=\"T_abcf9_level0_row5\" class=\"row_heading level0 row5\" >5</th>\n",
              "      <td id=\"T_abcf9_row5_col0\" class=\"data row5 col0\" >Transformed train set shape</td>\n",
              "      <td id=\"T_abcf9_row5_col1\" class=\"data row5 col1\" >(354, 5)</td>\n",
              "    </tr>\n",
              "    <tr>\n",
              "      <th id=\"T_abcf9_level0_row6\" class=\"row_heading level0 row6\" >6</th>\n",
              "      <td id=\"T_abcf9_row6_col0\" class=\"data row6 col0\" >Transformed test set shape</td>\n",
              "      <td id=\"T_abcf9_row6_col1\" class=\"data row6 col1\" >(4, 5)</td>\n",
              "    </tr>\n",
              "    <tr>\n",
              "      <th id=\"T_abcf9_level0_row7\" class=\"row_heading level0 row7\" >7</th>\n",
              "      <td id=\"T_abcf9_row7_col0\" class=\"data row7 col0\" >Numeric features</td>\n",
              "      <td id=\"T_abcf9_row7_col1\" class=\"data row7 col1\" >4</td>\n",
              "    </tr>\n",
              "    <tr>\n",
              "      <th id=\"T_abcf9_level0_row8\" class=\"row_heading level0 row8\" >8</th>\n",
              "      <td id=\"T_abcf9_row8_col0\" class=\"data row8 col0\" >Preprocess</td>\n",
              "      <td id=\"T_abcf9_row8_col1\" class=\"data row8 col1\" >True</td>\n",
              "    </tr>\n",
              "    <tr>\n",
              "      <th id=\"T_abcf9_level0_row9\" class=\"row_heading level0 row9\" >9</th>\n",
              "      <td id=\"T_abcf9_row9_col0\" class=\"data row9 col0\" >Imputation type</td>\n",
              "      <td id=\"T_abcf9_row9_col1\" class=\"data row9 col1\" >simple</td>\n",
              "    </tr>\n",
              "    <tr>\n",
              "      <th id=\"T_abcf9_level0_row10\" class=\"row_heading level0 row10\" >10</th>\n",
              "      <td id=\"T_abcf9_row10_col0\" class=\"data row10 col0\" >Numeric imputation</td>\n",
              "      <td id=\"T_abcf9_row10_col1\" class=\"data row10 col1\" >mean</td>\n",
              "    </tr>\n",
              "    <tr>\n",
              "      <th id=\"T_abcf9_level0_row11\" class=\"row_heading level0 row11\" >11</th>\n",
              "      <td id=\"T_abcf9_row11_col0\" class=\"data row11 col0\" >Categorical imputation</td>\n",
              "      <td id=\"T_abcf9_row11_col1\" class=\"data row11 col1\" >mode</td>\n",
              "    </tr>\n",
              "    <tr>\n",
              "      <th id=\"T_abcf9_level0_row12\" class=\"row_heading level0 row12\" >12</th>\n",
              "      <td id=\"T_abcf9_row12_col0\" class=\"data row12 col0\" >Normalize</td>\n",
              "      <td id=\"T_abcf9_row12_col1\" class=\"data row12 col1\" >True</td>\n",
              "    </tr>\n",
              "    <tr>\n",
              "      <th id=\"T_abcf9_level0_row13\" class=\"row_heading level0 row13\" >13</th>\n",
              "      <td id=\"T_abcf9_row13_col0\" class=\"data row13 col0\" >Normalize method</td>\n",
              "      <td id=\"T_abcf9_row13_col1\" class=\"data row13 col1\" >zscore</td>\n",
              "    </tr>\n",
              "    <tr>\n",
              "      <th id=\"T_abcf9_level0_row14\" class=\"row_heading level0 row14\" >14</th>\n",
              "      <td id=\"T_abcf9_row14_col0\" class=\"data row14 col0\" >Fold Generator</td>\n",
              "      <td id=\"T_abcf9_row14_col1\" class=\"data row14 col1\" >StratifiedKFold</td>\n",
              "    </tr>\n",
              "    <tr>\n",
              "      <th id=\"T_abcf9_level0_row15\" class=\"row_heading level0 row15\" >15</th>\n",
              "      <td id=\"T_abcf9_row15_col0\" class=\"data row15 col0\" >Fold Number</td>\n",
              "      <td id=\"T_abcf9_row15_col1\" class=\"data row15 col1\" >10</td>\n",
              "    </tr>\n",
              "    <tr>\n",
              "      <th id=\"T_abcf9_level0_row16\" class=\"row_heading level0 row16\" >16</th>\n",
              "      <td id=\"T_abcf9_row16_col0\" class=\"data row16 col0\" >CPU Jobs</td>\n",
              "      <td id=\"T_abcf9_row16_col1\" class=\"data row16 col1\" >-1</td>\n",
              "    </tr>\n",
              "    <tr>\n",
              "      <th id=\"T_abcf9_level0_row17\" class=\"row_heading level0 row17\" >17</th>\n",
              "      <td id=\"T_abcf9_row17_col0\" class=\"data row17 col0\" >Use GPU</td>\n",
              "      <td id=\"T_abcf9_row17_col1\" class=\"data row17 col1\" >False</td>\n",
              "    </tr>\n",
              "    <tr>\n",
              "      <th id=\"T_abcf9_level0_row18\" class=\"row_heading level0 row18\" >18</th>\n",
              "      <td id=\"T_abcf9_row18_col0\" class=\"data row18 col0\" >Log Experiment</td>\n",
              "      <td id=\"T_abcf9_row18_col1\" class=\"data row18 col1\" >False</td>\n",
              "    </tr>\n",
              "    <tr>\n",
              "      <th id=\"T_abcf9_level0_row19\" class=\"row_heading level0 row19\" >19</th>\n",
              "      <td id=\"T_abcf9_row19_col0\" class=\"data row19 col0\" >Experiment Name</td>\n",
              "      <td id=\"T_abcf9_row19_col1\" class=\"data row19 col1\" >clf-default-name</td>\n",
              "    </tr>\n",
              "    <tr>\n",
              "      <th id=\"T_abcf9_level0_row20\" class=\"row_heading level0 row20\" >20</th>\n",
              "      <td id=\"T_abcf9_row20_col0\" class=\"data row20 col0\" >USI</td>\n",
              "      <td id=\"T_abcf9_row20_col1\" class=\"data row20 col1\" >05fa</td>\n",
              "    </tr>\n",
              "  </tbody>\n",
              "</table>\n"
            ],
            "text/plain": [
              "<pandas.io.formats.style.Styler at 0x1cff720dbb0>"
            ]
          },
          "metadata": {},
          "output_type": "display_data"
        },
        {
          "data": {
            "text/html": [],
            "text/plain": [
              "<IPython.core.display.HTML object>"
            ]
          },
          "metadata": {},
          "output_type": "display_data"
        },
        {
          "data": {
            "text/html": [
              "<style type=\"text/css\">\n",
              "#T_20e8b th {\n",
              "  text-align: left;\n",
              "}\n",
              "#T_20e8b_row0_col0, #T_20e8b_row0_col2, #T_20e8b_row0_col4, #T_20e8b_row0_col6, #T_20e8b_row0_col7, #T_20e8b_row1_col0, #T_20e8b_row1_col2, #T_20e8b_row1_col4, #T_20e8b_row1_col6, #T_20e8b_row1_col7, #T_20e8b_row2_col0, #T_20e8b_row2_col2, #T_20e8b_row2_col4, #T_20e8b_row2_col6, #T_20e8b_row2_col7, #T_20e8b_row3_col0, #T_20e8b_row3_col2, #T_20e8b_row3_col4, #T_20e8b_row3_col6, #T_20e8b_row3_col7, #T_20e8b_row4_col0, #T_20e8b_row4_col1, #T_20e8b_row4_col3, #T_20e8b_row4_col5, #T_20e8b_row5_col0, #T_20e8b_row5_col1, #T_20e8b_row5_col2, #T_20e8b_row5_col3, #T_20e8b_row5_col4, #T_20e8b_row5_col5, #T_20e8b_row5_col6, #T_20e8b_row5_col7, #T_20e8b_row6_col0, #T_20e8b_row6_col1, #T_20e8b_row6_col2, #T_20e8b_row6_col3, #T_20e8b_row6_col4, #T_20e8b_row6_col5, #T_20e8b_row6_col6, #T_20e8b_row6_col7, #T_20e8b_row7_col0, #T_20e8b_row7_col1, #T_20e8b_row7_col2, #T_20e8b_row7_col3, #T_20e8b_row7_col4, #T_20e8b_row7_col5, #T_20e8b_row7_col6, #T_20e8b_row7_col7, #T_20e8b_row8_col0, #T_20e8b_row8_col1, #T_20e8b_row8_col2, #T_20e8b_row8_col3, #T_20e8b_row8_col4, #T_20e8b_row8_col5, #T_20e8b_row8_col6, #T_20e8b_row8_col7, #T_20e8b_row9_col0, #T_20e8b_row9_col1, #T_20e8b_row9_col2, #T_20e8b_row9_col3, #T_20e8b_row9_col4, #T_20e8b_row9_col5, #T_20e8b_row9_col6, #T_20e8b_row9_col7 {\n",
              "  text-align: left;\n",
              "}\n",
              "#T_20e8b_row0_col1, #T_20e8b_row0_col3, #T_20e8b_row0_col5, #T_20e8b_row1_col1, #T_20e8b_row1_col3, #T_20e8b_row1_col5, #T_20e8b_row2_col1, #T_20e8b_row2_col3, #T_20e8b_row2_col5, #T_20e8b_row3_col1, #T_20e8b_row3_col3, #T_20e8b_row3_col5, #T_20e8b_row4_col2, #T_20e8b_row4_col4, #T_20e8b_row4_col6, #T_20e8b_row4_col7 {\n",
              "  text-align: left;\n",
              "  background-color: yellow;\n",
              "}\n",
              "#T_20e8b_row0_col8, #T_20e8b_row1_col8 {\n",
              "  text-align: left;\n",
              "  background-color: yellow;\n",
              "  background-color: lightgrey;\n",
              "}\n",
              "#T_20e8b_row2_col8, #T_20e8b_row3_col8, #T_20e8b_row4_col8, #T_20e8b_row5_col8, #T_20e8b_row6_col8, #T_20e8b_row7_col8, #T_20e8b_row8_col8, #T_20e8b_row9_col8 {\n",
              "  text-align: left;\n",
              "  background-color: lightgrey;\n",
              "}\n",
              "</style>\n",
              "<table id=\"T_20e8b\">\n",
              "  <thead>\n",
              "    <tr>\n",
              "      <th class=\"blank level0\" >&nbsp;</th>\n",
              "      <th id=\"T_20e8b_level0_col0\" class=\"col_heading level0 col0\" >Model</th>\n",
              "      <th id=\"T_20e8b_level0_col1\" class=\"col_heading level0 col1\" >Accuracy</th>\n",
              "      <th id=\"T_20e8b_level0_col2\" class=\"col_heading level0 col2\" >AUC</th>\n",
              "      <th id=\"T_20e8b_level0_col3\" class=\"col_heading level0 col3\" >Recall</th>\n",
              "      <th id=\"T_20e8b_level0_col4\" class=\"col_heading level0 col4\" >Prec.</th>\n",
              "      <th id=\"T_20e8b_level0_col5\" class=\"col_heading level0 col5\" >F1</th>\n",
              "      <th id=\"T_20e8b_level0_col6\" class=\"col_heading level0 col6\" >Kappa</th>\n",
              "      <th id=\"T_20e8b_level0_col7\" class=\"col_heading level0 col7\" >MCC</th>\n",
              "      <th id=\"T_20e8b_level0_col8\" class=\"col_heading level0 col8\" >TT (Sec)</th>\n",
              "    </tr>\n",
              "  </thead>\n",
              "  <tbody>\n",
              "    <tr>\n",
              "      <th id=\"T_20e8b_level0_row0\" class=\"row_heading level0 row0\" >1</th>\n",
              "      <td id=\"T_20e8b_row0_col0\" class=\"data row0 col0\" >Logistic Regression</td>\n",
              "      <td id=\"T_20e8b_row0_col1\" class=\"data row0 col1\" >0.6441</td>\n",
              "      <td id=\"T_20e8b_row0_col2\" class=\"data row0 col2\" >0.4595</td>\n",
              "      <td id=\"T_20e8b_row0_col3\" class=\"data row0 col3\" >1.0000</td>\n",
              "      <td id=\"T_20e8b_row0_col4\" class=\"data row0 col4\" >0.6441</td>\n",
              "      <td id=\"T_20e8b_row0_col5\" class=\"data row0 col5\" >0.7835</td>\n",
              "      <td id=\"T_20e8b_row0_col6\" class=\"data row0 col6\" >0.0000</td>\n",
              "      <td id=\"T_20e8b_row0_col7\" class=\"data row0 col7\" >0.0000</td>\n",
              "      <td id=\"T_20e8b_row0_col8\" class=\"data row0 col8\" >0.0030</td>\n",
              "    </tr>\n",
              "    <tr>\n",
              "      <th id=\"T_20e8b_level0_row1\" class=\"row_heading level0 row1\" >3</th>\n",
              "      <td id=\"T_20e8b_row1_col0\" class=\"data row1 col0\" >Ridge Classifier</td>\n",
              "      <td id=\"T_20e8b_row1_col1\" class=\"data row1 col1\" >0.6441</td>\n",
              "      <td id=\"T_20e8b_row1_col2\" class=\"data row1 col2\" >0.4600</td>\n",
              "      <td id=\"T_20e8b_row1_col3\" class=\"data row1 col3\" >1.0000</td>\n",
              "      <td id=\"T_20e8b_row1_col4\" class=\"data row1 col4\" >0.6441</td>\n",
              "      <td id=\"T_20e8b_row1_col5\" class=\"data row1 col5\" >0.7835</td>\n",
              "      <td id=\"T_20e8b_row1_col6\" class=\"data row1 col6\" >0.0000</td>\n",
              "      <td id=\"T_20e8b_row1_col7\" class=\"data row1 col7\" >0.0000</td>\n",
              "      <td id=\"T_20e8b_row1_col8\" class=\"data row1 col8\" >0.0030</td>\n",
              "    </tr>\n",
              "    <tr>\n",
              "      <th id=\"T_20e8b_level0_row2\" class=\"row_heading level0 row2\" >5</th>\n",
              "      <td id=\"T_20e8b_row2_col0\" class=\"data row2 col0\" >Linear Discriminant Analysis</td>\n",
              "      <td id=\"T_20e8b_row2_col1\" class=\"data row2 col1\" >0.6441</td>\n",
              "      <td id=\"T_20e8b_row2_col2\" class=\"data row2 col2\" >0.4618</td>\n",
              "      <td id=\"T_20e8b_row2_col3\" class=\"data row2 col3\" >1.0000</td>\n",
              "      <td id=\"T_20e8b_row2_col4\" class=\"data row2 col4\" >0.6441</td>\n",
              "      <td id=\"T_20e8b_row2_col5\" class=\"data row2 col5\" >0.7835</td>\n",
              "      <td id=\"T_20e8b_row2_col6\" class=\"data row2 col6\" >0.0000</td>\n",
              "      <td id=\"T_20e8b_row2_col7\" class=\"data row2 col7\" >0.0000</td>\n",
              "      <td id=\"T_20e8b_row2_col8\" class=\"data row2 col8\" >0.0040</td>\n",
              "    </tr>\n",
              "    <tr>\n",
              "      <th id=\"T_20e8b_level0_row3\" class=\"row_heading level0 row3\" >9</th>\n",
              "      <td id=\"T_20e8b_row3_col0\" class=\"data row3 col0\" >SVM - Radial Kernel</td>\n",
              "      <td id=\"T_20e8b_row3_col1\" class=\"data row3 col1\" >0.6441</td>\n",
              "      <td id=\"T_20e8b_row3_col2\" class=\"data row3 col2\" >0.5224</td>\n",
              "      <td id=\"T_20e8b_row3_col3\" class=\"data row3 col3\" >1.0000</td>\n",
              "      <td id=\"T_20e8b_row3_col4\" class=\"data row3 col4\" >0.6441</td>\n",
              "      <td id=\"T_20e8b_row3_col5\" class=\"data row3 col5\" >0.7835</td>\n",
              "      <td id=\"T_20e8b_row3_col6\" class=\"data row3 col6\" >0.0000</td>\n",
              "      <td id=\"T_20e8b_row3_col7\" class=\"data row3 col7\" >0.0000</td>\n",
              "      <td id=\"T_20e8b_row3_col8\" class=\"data row3 col8\" >0.0050</td>\n",
              "    </tr>\n",
              "    <tr>\n",
              "      <th id=\"T_20e8b_level0_row4\" class=\"row_heading level0 row4\" >8</th>\n",
              "      <td id=\"T_20e8b_row4_col0\" class=\"data row4 col0\" >Random Forest Classifier</td>\n",
              "      <td id=\"T_20e8b_row4_col1\" class=\"data row4 col1\" >0.6329</td>\n",
              "      <td id=\"T_20e8b_row4_col2\" class=\"data row4 col2\" >0.5684</td>\n",
              "      <td id=\"T_20e8b_row4_col3\" class=\"data row4 col3\" >0.7970</td>\n",
              "      <td id=\"T_20e8b_row4_col4\" class=\"data row4 col4\" >0.6849</td>\n",
              "      <td id=\"T_20e8b_row4_col5\" class=\"data row4 col5\" >0.7346</td>\n",
              "      <td id=\"T_20e8b_row4_col6\" class=\"data row4 col6\" >0.1390</td>\n",
              "      <td id=\"T_20e8b_row4_col7\" class=\"data row4 col7\" >0.1436</td>\n",
              "      <td id=\"T_20e8b_row4_col8\" class=\"data row4 col8\" >0.0240</td>\n",
              "    </tr>\n",
              "    <tr>\n",
              "      <th id=\"T_20e8b_level0_row5\" class=\"row_heading level0 row5\" >6</th>\n",
              "      <td id=\"T_20e8b_row5_col0\" class=\"data row5 col0\" >MLP Classifier</td>\n",
              "      <td id=\"T_20e8b_row5_col1\" class=\"data row5 col1\" >0.6272</td>\n",
              "      <td id=\"T_20e8b_row5_col2\" class=\"data row5 col2\" >0.5458</td>\n",
              "      <td id=\"T_20e8b_row5_col3\" class=\"data row5 col3\" >0.8988</td>\n",
              "      <td id=\"T_20e8b_row5_col4\" class=\"data row5 col4\" >0.6528</td>\n",
              "      <td id=\"T_20e8b_row5_col5\" class=\"data row5 col5\" >0.7554</td>\n",
              "      <td id=\"T_20e8b_row5_col6\" class=\"data row5 col6\" >0.0381</td>\n",
              "      <td id=\"T_20e8b_row5_col7\" class=\"data row5 col7\" >0.0477</td>\n",
              "      <td id=\"T_20e8b_row5_col8\" class=\"data row5 col8\" >0.0350</td>\n",
              "    </tr>\n",
              "    <tr>\n",
              "      <th id=\"T_20e8b_level0_row6\" class=\"row_heading level0 row6\" >4</th>\n",
              "      <td id=\"T_20e8b_row6_col0\" class=\"data row6 col0\" >Quadratic Discriminant Analysis</td>\n",
              "      <td id=\"T_20e8b_row6_col1\" class=\"data row6 col1\" >0.6271</td>\n",
              "      <td id=\"T_20e8b_row6_col2\" class=\"data row6 col2\" >0.5008</td>\n",
              "      <td id=\"T_20e8b_row6_col3\" class=\"data row6 col3\" >0.9298</td>\n",
              "      <td id=\"T_20e8b_row6_col4\" class=\"data row6 col4\" >0.6465</td>\n",
              "      <td id=\"T_20e8b_row6_col5\" class=\"data row6 col5\" >0.7621</td>\n",
              "      <td id=\"T_20e8b_row6_col6\" class=\"data row6 col6\" >0.0126</td>\n",
              "      <td id=\"T_20e8b_row6_col7\" class=\"data row6 col7\" >0.0276</td>\n",
              "      <td id=\"T_20e8b_row6_col8\" class=\"data row6 col8\" >0.0040</td>\n",
              "    </tr>\n",
              "    <tr>\n",
              "      <th id=\"T_20e8b_level0_row7\" class=\"row_heading level0 row7\" >0</th>\n",
              "      <td id=\"T_20e8b_row7_col0\" class=\"data row7 col0\" >Gradient Boosting Classifier</td>\n",
              "      <td id=\"T_20e8b_row7_col1\" class=\"data row7 col1\" >0.6160</td>\n",
              "      <td id=\"T_20e8b_row7_col2\" class=\"data row7 col2\" >0.5319</td>\n",
              "      <td id=\"T_20e8b_row7_col3\" class=\"data row7 col3\" >0.8067</td>\n",
              "      <td id=\"T_20e8b_row7_col4\" class=\"data row7 col4\" >0.6695</td>\n",
              "      <td id=\"T_20e8b_row7_col5\" class=\"data row7 col5\" >0.7301</td>\n",
              "      <td id=\"T_20e8b_row7_col6\" class=\"data row7 col6\" >0.0777</td>\n",
              "      <td id=\"T_20e8b_row7_col7\" class=\"data row7 col7\" >0.0792</td>\n",
              "      <td id=\"T_20e8b_row7_col8\" class=\"data row7 col8\" >0.0130</td>\n",
              "    </tr>\n",
              "    <tr>\n",
              "      <th id=\"T_20e8b_level0_row8\" class=\"row_heading level0 row8\" >2</th>\n",
              "      <td id=\"T_20e8b_row8_col0\" class=\"data row8 col0\" >Extra Trees Classifier</td>\n",
              "      <td id=\"T_20e8b_row8_col1\" class=\"data row8 col1\" >0.5902</td>\n",
              "      <td id=\"T_20e8b_row8_col2\" class=\"data row8 col2\" >0.5485</td>\n",
              "      <td id=\"T_20e8b_row8_col3\" class=\"data row8 col3\" >0.7399</td>\n",
              "      <td id=\"T_20e8b_row8_col4\" class=\"data row8 col4\" >0.6610</td>\n",
              "      <td id=\"T_20e8b_row8_col5\" class=\"data row8 col5\" >0.6970</td>\n",
              "      <td id=\"T_20e8b_row8_col6\" class=\"data row8 col6\" >0.0604</td>\n",
              "      <td id=\"T_20e8b_row8_col7\" class=\"data row8 col7\" >0.0622</td>\n",
              "      <td id=\"T_20e8b_row8_col8\" class=\"data row8 col8\" >0.0190</td>\n",
              "    </tr>\n",
              "    <tr>\n",
              "      <th id=\"T_20e8b_level0_row9\" class=\"row_heading level0 row9\" >7</th>\n",
              "      <td id=\"T_20e8b_row9_col0\" class=\"data row9 col0\" >Decision Tree Classifier</td>\n",
              "      <td id=\"T_20e8b_row9_col1\" class=\"data row9 col1\" >0.5422</td>\n",
              "      <td id=\"T_20e8b_row9_col2\" class=\"data row9 col2\" >0.5063</td>\n",
              "      <td id=\"T_20e8b_row9_col3\" class=\"data row9 col3\" >0.6267</td>\n",
              "      <td id=\"T_20e8b_row9_col4\" class=\"data row9 col4\" >0.6473</td>\n",
              "      <td id=\"T_20e8b_row9_col5\" class=\"data row9 col5\" >0.6348</td>\n",
              "      <td id=\"T_20e8b_row9_col6\" class=\"data row9 col6\" >0.0152</td>\n",
              "      <td id=\"T_20e8b_row9_col7\" class=\"data row9 col7\" >0.0155</td>\n",
              "      <td id=\"T_20e8b_row9_col8\" class=\"data row9 col8\" >0.0050</td>\n",
              "    </tr>\n",
              "  </tbody>\n",
              "</table>\n"
            ],
            "text/plain": [
              "<pandas.io.formats.style.Styler at 0x1cff6b766d0>"
            ]
          },
          "metadata": {},
          "output_type": "display_data"
        },
        {
          "data": {
            "text/html": [],
            "text/plain": [
              "<IPython.core.display.HTML object>"
            ]
          },
          "metadata": {},
          "output_type": "display_data"
        },
        {
          "name": "stdout",
          "output_type": "stream",
          "text": [
            "--------------------------------------------------------------------------------\n",
            "LogisticRegression\n",
            "Custom config ...\n"
          ]
        },
        {
          "data": {
            "text/html": [],
            "text/plain": [
              "<IPython.core.display.HTML object>"
            ]
          },
          "metadata": {},
          "output_type": "display_data"
        },
        {
          "data": {
            "text/html": [
              "<style type=\"text/css\">\n",
              "#T_c6da1_row4_col0, #T_c6da1_row4_col1, #T_c6da1_row4_col2, #T_c6da1_row4_col3, #T_c6da1_row4_col4, #T_c6da1_row4_col5, #T_c6da1_row4_col6 {\n",
              "  background: yellow;\n",
              "}\n",
              "</style>\n",
              "<table id=\"T_c6da1\">\n",
              "  <thead>\n",
              "    <tr>\n",
              "      <th class=\"blank level0\" >&nbsp;</th>\n",
              "      <th id=\"T_c6da1_level0_col0\" class=\"col_heading level0 col0\" >Accuracy</th>\n",
              "      <th id=\"T_c6da1_level0_col1\" class=\"col_heading level0 col1\" >AUC</th>\n",
              "      <th id=\"T_c6da1_level0_col2\" class=\"col_heading level0 col2\" >Recall</th>\n",
              "      <th id=\"T_c6da1_level0_col3\" class=\"col_heading level0 col3\" >Prec.</th>\n",
              "      <th id=\"T_c6da1_level0_col4\" class=\"col_heading level0 col4\" >F1</th>\n",
              "      <th id=\"T_c6da1_level0_col5\" class=\"col_heading level0 col5\" >Kappa</th>\n",
              "      <th id=\"T_c6da1_level0_col6\" class=\"col_heading level0 col6\" >MCC</th>\n",
              "    </tr>\n",
              "    <tr>\n",
              "      <th class=\"index_name level0\" >Fold</th>\n",
              "      <th class=\"blank col0\" >&nbsp;</th>\n",
              "      <th class=\"blank col1\" >&nbsp;</th>\n",
              "      <th class=\"blank col2\" >&nbsp;</th>\n",
              "      <th class=\"blank col3\" >&nbsp;</th>\n",
              "      <th class=\"blank col4\" >&nbsp;</th>\n",
              "      <th class=\"blank col5\" >&nbsp;</th>\n",
              "      <th class=\"blank col6\" >&nbsp;</th>\n",
              "    </tr>\n",
              "  </thead>\n",
              "  <tbody>\n",
              "    <tr>\n",
              "      <th id=\"T_c6da1_level0_row0\" class=\"row_heading level0 row0\" >0</th>\n",
              "      <td id=\"T_c6da1_row0_col0\" class=\"data row0 col0\" >0.6404</td>\n",
              "      <td id=\"T_c6da1_row0_col1\" class=\"data row0 col1\" >0.4068</td>\n",
              "      <td id=\"T_c6da1_row0_col2\" class=\"data row0 col2\" >1.0000</td>\n",
              "      <td id=\"T_c6da1_row0_col3\" class=\"data row0 col3\" >0.6404</td>\n",
              "      <td id=\"T_c6da1_row0_col4\" class=\"data row0 col4\" >0.7808</td>\n",
              "      <td id=\"T_c6da1_row0_col5\" class=\"data row0 col5\" >0.0000</td>\n",
              "      <td id=\"T_c6da1_row0_col6\" class=\"data row0 col6\" >0.0000</td>\n",
              "    </tr>\n",
              "    <tr>\n",
              "      <th id=\"T_c6da1_level0_row1\" class=\"row_heading level0 row1\" >1</th>\n",
              "      <td id=\"T_c6da1_row1_col0\" class=\"data row1 col0\" >0.6517</td>\n",
              "      <td id=\"T_c6da1_row1_col1\" class=\"data row1 col1\" >0.4583</td>\n",
              "      <td id=\"T_c6da1_row1_col2\" class=\"data row1 col2\" >1.0000</td>\n",
              "      <td id=\"T_c6da1_row1_col3\" class=\"data row1 col3\" >0.6477</td>\n",
              "      <td id=\"T_c6da1_row1_col4\" class=\"data row1 col4\" >0.7862</td>\n",
              "      <td id=\"T_c6da1_row1_col5\" class=\"data row1 col5\" >0.0397</td>\n",
              "      <td id=\"T_c6da1_row1_col6\" class=\"data row1 col6\" >0.1423</td>\n",
              "    </tr>\n",
              "    <tr>\n",
              "      <th id=\"T_c6da1_level0_row2\" class=\"row_heading level0 row2\" >2</th>\n",
              "      <td id=\"T_c6da1_row2_col0\" class=\"data row2 col0\" >0.6477</td>\n",
              "      <td id=\"T_c6da1_row2_col1\" class=\"data row2 col1\" >0.5025</td>\n",
              "      <td id=\"T_c6da1_row2_col2\" class=\"data row2 col2\" >1.0000</td>\n",
              "      <td id=\"T_c6da1_row2_col3\" class=\"data row2 col3\" >0.6477</td>\n",
              "      <td id=\"T_c6da1_row2_col4\" class=\"data row2 col4\" >0.7862</td>\n",
              "      <td id=\"T_c6da1_row2_col5\" class=\"data row2 col5\" >0.0000</td>\n",
              "      <td id=\"T_c6da1_row2_col6\" class=\"data row2 col6\" >0.0000</td>\n",
              "    </tr>\n",
              "    <tr>\n",
              "      <th id=\"T_c6da1_level0_row3\" class=\"row_heading level0 row3\" >3</th>\n",
              "      <td id=\"T_c6da1_row3_col0\" class=\"data row3 col0\" >0.6477</td>\n",
              "      <td id=\"T_c6da1_row3_col1\" class=\"data row3 col1\" >0.4867</td>\n",
              "      <td id=\"T_c6da1_row3_col2\" class=\"data row3 col2\" >1.0000</td>\n",
              "      <td id=\"T_c6da1_row3_col3\" class=\"data row3 col3\" >0.6477</td>\n",
              "      <td id=\"T_c6da1_row3_col4\" class=\"data row3 col4\" >0.7862</td>\n",
              "      <td id=\"T_c6da1_row3_col5\" class=\"data row3 col5\" >0.0000</td>\n",
              "      <td id=\"T_c6da1_row3_col6\" class=\"data row3 col6\" >0.0000</td>\n",
              "    </tr>\n",
              "    <tr>\n",
              "      <th id=\"T_c6da1_level0_row4\" class=\"row_heading level0 row4\" >Mean</th>\n",
              "      <td id=\"T_c6da1_row4_col0\" class=\"data row4 col0\" >0.6469</td>\n",
              "      <td id=\"T_c6da1_row4_col1\" class=\"data row4 col1\" >0.4636</td>\n",
              "      <td id=\"T_c6da1_row4_col2\" class=\"data row4 col2\" >1.0000</td>\n",
              "      <td id=\"T_c6da1_row4_col3\" class=\"data row4 col3\" >0.6459</td>\n",
              "      <td id=\"T_c6da1_row4_col4\" class=\"data row4 col4\" >0.7849</td>\n",
              "      <td id=\"T_c6da1_row4_col5\" class=\"data row4 col5\" >0.0099</td>\n",
              "      <td id=\"T_c6da1_row4_col6\" class=\"data row4 col6\" >0.0356</td>\n",
              "    </tr>\n",
              "    <tr>\n",
              "      <th id=\"T_c6da1_level0_row5\" class=\"row_heading level0 row5\" >Std</th>\n",
              "      <td id=\"T_c6da1_row5_col0\" class=\"data row5 col0\" >0.0041</td>\n",
              "      <td id=\"T_c6da1_row5_col1\" class=\"data row5 col1\" >0.0364</td>\n",
              "      <td id=\"T_c6da1_row5_col2\" class=\"data row5 col2\" >0.0000</td>\n",
              "      <td id=\"T_c6da1_row5_col3\" class=\"data row5 col3\" >0.0032</td>\n",
              "      <td id=\"T_c6da1_row5_col4\" class=\"data row5 col4\" >0.0023</td>\n",
              "      <td id=\"T_c6da1_row5_col5\" class=\"data row5 col5\" >0.0172</td>\n",
              "      <td id=\"T_c6da1_row5_col6\" class=\"data row5 col6\" >0.0616</td>\n",
              "    </tr>\n",
              "  </tbody>\n",
              "</table>\n"
            ],
            "text/plain": [
              "<pandas.io.formats.style.Styler at 0x1cff1016b50>"
            ]
          },
          "metadata": {},
          "output_type": "display_data"
        },
        {
          "data": {
            "text/html": [],
            "text/plain": [
              "<IPython.core.display.HTML object>"
            ]
          },
          "metadata": {},
          "output_type": "display_data"
        },
        {
          "name": "stdout",
          "output_type": "stream",
          "text": [
            "Fitting 4 folds for each of 1 candidates, totalling 4 fits\n",
            "--------------------------------------------------------------------------------\n",
            "RidgeClassifier\n",
            "Custom config ...\n"
          ]
        },
        {
          "data": {
            "text/html": [],
            "text/plain": [
              "<IPython.core.display.HTML object>"
            ]
          },
          "metadata": {},
          "output_type": "display_data"
        },
        {
          "data": {
            "text/html": [
              "<style type=\"text/css\">\n",
              "#T_68f77_row4_col0, #T_68f77_row4_col1, #T_68f77_row4_col2, #T_68f77_row4_col3, #T_68f77_row4_col4, #T_68f77_row4_col5, #T_68f77_row4_col6 {\n",
              "  background: yellow;\n",
              "}\n",
              "</style>\n",
              "<table id=\"T_68f77\">\n",
              "  <thead>\n",
              "    <tr>\n",
              "      <th class=\"blank level0\" >&nbsp;</th>\n",
              "      <th id=\"T_68f77_level0_col0\" class=\"col_heading level0 col0\" >Accuracy</th>\n",
              "      <th id=\"T_68f77_level0_col1\" class=\"col_heading level0 col1\" >AUC</th>\n",
              "      <th id=\"T_68f77_level0_col2\" class=\"col_heading level0 col2\" >Recall</th>\n",
              "      <th id=\"T_68f77_level0_col3\" class=\"col_heading level0 col3\" >Prec.</th>\n",
              "      <th id=\"T_68f77_level0_col4\" class=\"col_heading level0 col4\" >F1</th>\n",
              "      <th id=\"T_68f77_level0_col5\" class=\"col_heading level0 col5\" >Kappa</th>\n",
              "      <th id=\"T_68f77_level0_col6\" class=\"col_heading level0 col6\" >MCC</th>\n",
              "    </tr>\n",
              "    <tr>\n",
              "      <th class=\"index_name level0\" >Fold</th>\n",
              "      <th class=\"blank col0\" >&nbsp;</th>\n",
              "      <th class=\"blank col1\" >&nbsp;</th>\n",
              "      <th class=\"blank col2\" >&nbsp;</th>\n",
              "      <th class=\"blank col3\" >&nbsp;</th>\n",
              "      <th class=\"blank col4\" >&nbsp;</th>\n",
              "      <th class=\"blank col5\" >&nbsp;</th>\n",
              "      <th class=\"blank col6\" >&nbsp;</th>\n",
              "    </tr>\n",
              "  </thead>\n",
              "  <tbody>\n",
              "    <tr>\n",
              "      <th id=\"T_68f77_level0_row0\" class=\"row_heading level0 row0\" >0</th>\n",
              "      <td id=\"T_68f77_row0_col0\" class=\"data row0 col0\" >0.6404</td>\n",
              "      <td id=\"T_68f77_row0_col1\" class=\"data row0 col1\" >0.4052</td>\n",
              "      <td id=\"T_68f77_row0_col2\" class=\"data row0 col2\" >1.0000</td>\n",
              "      <td id=\"T_68f77_row0_col3\" class=\"data row0 col3\" >0.6404</td>\n",
              "      <td id=\"T_68f77_row0_col4\" class=\"data row0 col4\" >0.7808</td>\n",
              "      <td id=\"T_68f77_row0_col5\" class=\"data row0 col5\" >0.0000</td>\n",
              "      <td id=\"T_68f77_row0_col6\" class=\"data row0 col6\" >0.0000</td>\n",
              "    </tr>\n",
              "    <tr>\n",
              "      <th id=\"T_68f77_level0_row1\" class=\"row_heading level0 row1\" >1</th>\n",
              "      <td id=\"T_68f77_row1_col0\" class=\"data row1 col0\" >0.6517</td>\n",
              "      <td id=\"T_68f77_row1_col1\" class=\"data row1 col1\" >0.4589</td>\n",
              "      <td id=\"T_68f77_row1_col2\" class=\"data row1 col2\" >1.0000</td>\n",
              "      <td id=\"T_68f77_row1_col3\" class=\"data row1 col3\" >0.6477</td>\n",
              "      <td id=\"T_68f77_row1_col4\" class=\"data row1 col4\" >0.7862</td>\n",
              "      <td id=\"T_68f77_row1_col5\" class=\"data row1 col5\" >0.0397</td>\n",
              "      <td id=\"T_68f77_row1_col6\" class=\"data row1 col6\" >0.1423</td>\n",
              "    </tr>\n",
              "    <tr>\n",
              "      <th id=\"T_68f77_level0_row2\" class=\"row_heading level0 row2\" >2</th>\n",
              "      <td id=\"T_68f77_row2_col0\" class=\"data row2 col0\" >0.6477</td>\n",
              "      <td id=\"T_68f77_row2_col1\" class=\"data row2 col1\" >0.5031</td>\n",
              "      <td id=\"T_68f77_row2_col2\" class=\"data row2 col2\" >1.0000</td>\n",
              "      <td id=\"T_68f77_row2_col3\" class=\"data row2 col3\" >0.6477</td>\n",
              "      <td id=\"T_68f77_row2_col4\" class=\"data row2 col4\" >0.7862</td>\n",
              "      <td id=\"T_68f77_row2_col5\" class=\"data row2 col5\" >0.0000</td>\n",
              "      <td id=\"T_68f77_row2_col6\" class=\"data row2 col6\" >0.0000</td>\n",
              "    </tr>\n",
              "    <tr>\n",
              "      <th id=\"T_68f77_level0_row3\" class=\"row_heading level0 row3\" >3</th>\n",
              "      <td id=\"T_68f77_row3_col0\" class=\"data row3 col0\" >0.6477</td>\n",
              "      <td id=\"T_68f77_row3_col1\" class=\"data row3 col1\" >0.4839</td>\n",
              "      <td id=\"T_68f77_row3_col2\" class=\"data row3 col2\" >1.0000</td>\n",
              "      <td id=\"T_68f77_row3_col3\" class=\"data row3 col3\" >0.6477</td>\n",
              "      <td id=\"T_68f77_row3_col4\" class=\"data row3 col4\" >0.7862</td>\n",
              "      <td id=\"T_68f77_row3_col5\" class=\"data row3 col5\" >0.0000</td>\n",
              "      <td id=\"T_68f77_row3_col6\" class=\"data row3 col6\" >0.0000</td>\n",
              "    </tr>\n",
              "    <tr>\n",
              "      <th id=\"T_68f77_level0_row4\" class=\"row_heading level0 row4\" >Mean</th>\n",
              "      <td id=\"T_68f77_row4_col0\" class=\"data row4 col0\" >0.6469</td>\n",
              "      <td id=\"T_68f77_row4_col1\" class=\"data row4 col1\" >0.4628</td>\n",
              "      <td id=\"T_68f77_row4_col2\" class=\"data row4 col2\" >1.0000</td>\n",
              "      <td id=\"T_68f77_row4_col3\" class=\"data row4 col3\" >0.6459</td>\n",
              "      <td id=\"T_68f77_row4_col4\" class=\"data row4 col4\" >0.7849</td>\n",
              "      <td id=\"T_68f77_row4_col5\" class=\"data row4 col5\" >0.0099</td>\n",
              "      <td id=\"T_68f77_row4_col6\" class=\"data row4 col6\" >0.0356</td>\n",
              "    </tr>\n",
              "    <tr>\n",
              "      <th id=\"T_68f77_level0_row5\" class=\"row_heading level0 row5\" >Std</th>\n",
              "      <td id=\"T_68f77_row5_col0\" class=\"data row5 col0\" >0.0041</td>\n",
              "      <td id=\"T_68f77_row5_col1\" class=\"data row5 col1\" >0.0368</td>\n",
              "      <td id=\"T_68f77_row5_col2\" class=\"data row5 col2\" >0.0000</td>\n",
              "      <td id=\"T_68f77_row5_col3\" class=\"data row5 col3\" >0.0032</td>\n",
              "      <td id=\"T_68f77_row5_col4\" class=\"data row5 col4\" >0.0023</td>\n",
              "      <td id=\"T_68f77_row5_col5\" class=\"data row5 col5\" >0.0172</td>\n",
              "      <td id=\"T_68f77_row5_col6\" class=\"data row5 col6\" >0.0616</td>\n",
              "    </tr>\n",
              "  </tbody>\n",
              "</table>\n"
            ],
            "text/plain": [
              "<pandas.io.formats.style.Styler at 0x1cfeef0b2b0>"
            ]
          },
          "metadata": {},
          "output_type": "display_data"
        },
        {
          "data": {
            "text/html": [],
            "text/plain": [
              "<IPython.core.display.HTML object>"
            ]
          },
          "metadata": {},
          "output_type": "display_data"
        },
        {
          "name": "stdout",
          "output_type": "stream",
          "text": [
            "Fitting 4 folds for each of 1 candidates, totalling 4 fits\n",
            "Original model was better than the tuned model, hence it will be returned. NOTE: The display metrics are for the tuned model (not the original one).\n",
            "--------------------------------------------------------------------------------\n",
            "LinearDiscriminantAnalysis\n",
            "Custom config ...\n"
          ]
        },
        {
          "data": {
            "text/html": [],
            "text/plain": [
              "<IPython.core.display.HTML object>"
            ]
          },
          "metadata": {},
          "output_type": "display_data"
        },
        {
          "data": {
            "text/html": [
              "<style type=\"text/css\">\n",
              "#T_ad8ed_row4_col0, #T_ad8ed_row4_col1, #T_ad8ed_row4_col2, #T_ad8ed_row4_col3, #T_ad8ed_row4_col4, #T_ad8ed_row4_col5, #T_ad8ed_row4_col6 {\n",
              "  background: yellow;\n",
              "}\n",
              "</style>\n",
              "<table id=\"T_ad8ed\">\n",
              "  <thead>\n",
              "    <tr>\n",
              "      <th class=\"blank level0\" >&nbsp;</th>\n",
              "      <th id=\"T_ad8ed_level0_col0\" class=\"col_heading level0 col0\" >Accuracy</th>\n",
              "      <th id=\"T_ad8ed_level0_col1\" class=\"col_heading level0 col1\" >AUC</th>\n",
              "      <th id=\"T_ad8ed_level0_col2\" class=\"col_heading level0 col2\" >Recall</th>\n",
              "      <th id=\"T_ad8ed_level0_col3\" class=\"col_heading level0 col3\" >Prec.</th>\n",
              "      <th id=\"T_ad8ed_level0_col4\" class=\"col_heading level0 col4\" >F1</th>\n",
              "      <th id=\"T_ad8ed_level0_col5\" class=\"col_heading level0 col5\" >Kappa</th>\n",
              "      <th id=\"T_ad8ed_level0_col6\" class=\"col_heading level0 col6\" >MCC</th>\n",
              "    </tr>\n",
              "    <tr>\n",
              "      <th class=\"index_name level0\" >Fold</th>\n",
              "      <th class=\"blank col0\" >&nbsp;</th>\n",
              "      <th class=\"blank col1\" >&nbsp;</th>\n",
              "      <th class=\"blank col2\" >&nbsp;</th>\n",
              "      <th class=\"blank col3\" >&nbsp;</th>\n",
              "      <th class=\"blank col4\" >&nbsp;</th>\n",
              "      <th class=\"blank col5\" >&nbsp;</th>\n",
              "      <th class=\"blank col6\" >&nbsp;</th>\n",
              "    </tr>\n",
              "  </thead>\n",
              "  <tbody>\n",
              "    <tr>\n",
              "      <th id=\"T_ad8ed_level0_row0\" class=\"row_heading level0 row0\" >0</th>\n",
              "      <td id=\"T_ad8ed_row0_col0\" class=\"data row0 col0\" >0.6404</td>\n",
              "      <td id=\"T_ad8ed_row0_col1\" class=\"data row0 col1\" >0.4052</td>\n",
              "      <td id=\"T_ad8ed_row0_col2\" class=\"data row0 col2\" >1.0000</td>\n",
              "      <td id=\"T_ad8ed_row0_col3\" class=\"data row0 col3\" >0.6404</td>\n",
              "      <td id=\"T_ad8ed_row0_col4\" class=\"data row0 col4\" >0.7808</td>\n",
              "      <td id=\"T_ad8ed_row0_col5\" class=\"data row0 col5\" >0.0000</td>\n",
              "      <td id=\"T_ad8ed_row0_col6\" class=\"data row0 col6\" >0.0000</td>\n",
              "    </tr>\n",
              "    <tr>\n",
              "      <th id=\"T_ad8ed_level0_row1\" class=\"row_heading level0 row1\" >1</th>\n",
              "      <td id=\"T_ad8ed_row1_col0\" class=\"data row1 col0\" >0.6517</td>\n",
              "      <td id=\"T_ad8ed_row1_col1\" class=\"data row1 col1\" >0.4622</td>\n",
              "      <td id=\"T_ad8ed_row1_col2\" class=\"data row1 col2\" >1.0000</td>\n",
              "      <td id=\"T_ad8ed_row1_col3\" class=\"data row1 col3\" >0.6477</td>\n",
              "      <td id=\"T_ad8ed_row1_col4\" class=\"data row1 col4\" >0.7862</td>\n",
              "      <td id=\"T_ad8ed_row1_col5\" class=\"data row1 col5\" >0.0397</td>\n",
              "      <td id=\"T_ad8ed_row1_col6\" class=\"data row1 col6\" >0.1423</td>\n",
              "    </tr>\n",
              "    <tr>\n",
              "      <th id=\"T_ad8ed_level0_row2\" class=\"row_heading level0 row2\" >2</th>\n",
              "      <td id=\"T_ad8ed_row2_col0\" class=\"data row2 col0\" >0.6477</td>\n",
              "      <td id=\"T_ad8ed_row2_col1\" class=\"data row2 col1\" >0.5014</td>\n",
              "      <td id=\"T_ad8ed_row2_col2\" class=\"data row2 col2\" >1.0000</td>\n",
              "      <td id=\"T_ad8ed_row2_col3\" class=\"data row2 col3\" >0.6477</td>\n",
              "      <td id=\"T_ad8ed_row2_col4\" class=\"data row2 col4\" >0.7862</td>\n",
              "      <td id=\"T_ad8ed_row2_col5\" class=\"data row2 col5\" >0.0000</td>\n",
              "      <td id=\"T_ad8ed_row2_col6\" class=\"data row2 col6\" >0.0000</td>\n",
              "    </tr>\n",
              "    <tr>\n",
              "      <th id=\"T_ad8ed_level0_row3\" class=\"row_heading level0 row3\" >3</th>\n",
              "      <td id=\"T_ad8ed_row3_col0\" class=\"data row3 col0\" >0.6477</td>\n",
              "      <td id=\"T_ad8ed_row3_col1\" class=\"data row3 col1\" >0.4844</td>\n",
              "      <td id=\"T_ad8ed_row3_col2\" class=\"data row3 col2\" >1.0000</td>\n",
              "      <td id=\"T_ad8ed_row3_col3\" class=\"data row3 col3\" >0.6477</td>\n",
              "      <td id=\"T_ad8ed_row3_col4\" class=\"data row3 col4\" >0.7862</td>\n",
              "      <td id=\"T_ad8ed_row3_col5\" class=\"data row3 col5\" >0.0000</td>\n",
              "      <td id=\"T_ad8ed_row3_col6\" class=\"data row3 col6\" >0.0000</td>\n",
              "    </tr>\n",
              "    <tr>\n",
              "      <th id=\"T_ad8ed_level0_row4\" class=\"row_heading level0 row4\" >Mean</th>\n",
              "      <td id=\"T_ad8ed_row4_col0\" class=\"data row4 col0\" >0.6469</td>\n",
              "      <td id=\"T_ad8ed_row4_col1\" class=\"data row4 col1\" >0.4633</td>\n",
              "      <td id=\"T_ad8ed_row4_col2\" class=\"data row4 col2\" >1.0000</td>\n",
              "      <td id=\"T_ad8ed_row4_col3\" class=\"data row4 col3\" >0.6459</td>\n",
              "      <td id=\"T_ad8ed_row4_col4\" class=\"data row4 col4\" >0.7849</td>\n",
              "      <td id=\"T_ad8ed_row4_col5\" class=\"data row4 col5\" >0.0099</td>\n",
              "      <td id=\"T_ad8ed_row4_col6\" class=\"data row4 col6\" >0.0356</td>\n",
              "    </tr>\n",
              "    <tr>\n",
              "      <th id=\"T_ad8ed_level0_row5\" class=\"row_heading level0 row5\" >Std</th>\n",
              "      <td id=\"T_ad8ed_row5_col0\" class=\"data row5 col0\" >0.0041</td>\n",
              "      <td id=\"T_ad8ed_row5_col1\" class=\"data row5 col1\" >0.0363</td>\n",
              "      <td id=\"T_ad8ed_row5_col2\" class=\"data row5 col2\" >0.0000</td>\n",
              "      <td id=\"T_ad8ed_row5_col3\" class=\"data row5 col3\" >0.0032</td>\n",
              "      <td id=\"T_ad8ed_row5_col4\" class=\"data row5 col4\" >0.0023</td>\n",
              "      <td id=\"T_ad8ed_row5_col5\" class=\"data row5 col5\" >0.0172</td>\n",
              "      <td id=\"T_ad8ed_row5_col6\" class=\"data row5 col6\" >0.0616</td>\n",
              "    </tr>\n",
              "  </tbody>\n",
              "</table>\n"
            ],
            "text/plain": [
              "<pandas.io.formats.style.Styler at 0x1cfebab48e0>"
            ]
          },
          "metadata": {},
          "output_type": "display_data"
        },
        {
          "data": {
            "text/html": [],
            "text/plain": [
              "<IPython.core.display.HTML object>"
            ]
          },
          "metadata": {},
          "output_type": "display_data"
        },
        {
          "name": "stdout",
          "output_type": "stream",
          "text": [
            "Fitting 4 folds for each of 1 candidates, totalling 4 fits\n",
            "Original model was better than the tuned model, hence it will be returned. NOTE: The display metrics are for the tuned model (not the original one).\n",
            "--------------------------------------------------------------------------------\n",
            "SVC\n",
            "Custom config ...\n"
          ]
        },
        {
          "data": {
            "text/html": [],
            "text/plain": [
              "<IPython.core.display.HTML object>"
            ]
          },
          "metadata": {},
          "output_type": "display_data"
        },
        {
          "data": {
            "text/html": [
              "<style type=\"text/css\">\n",
              "#T_7ef8e_row4_col0, #T_7ef8e_row4_col1, #T_7ef8e_row4_col2, #T_7ef8e_row4_col3, #T_7ef8e_row4_col4, #T_7ef8e_row4_col5, #T_7ef8e_row4_col6 {\n",
              "  background: yellow;\n",
              "}\n",
              "</style>\n",
              "<table id=\"T_7ef8e\">\n",
              "  <thead>\n",
              "    <tr>\n",
              "      <th class=\"blank level0\" >&nbsp;</th>\n",
              "      <th id=\"T_7ef8e_level0_col0\" class=\"col_heading level0 col0\" >Accuracy</th>\n",
              "      <th id=\"T_7ef8e_level0_col1\" class=\"col_heading level0 col1\" >AUC</th>\n",
              "      <th id=\"T_7ef8e_level0_col2\" class=\"col_heading level0 col2\" >Recall</th>\n",
              "      <th id=\"T_7ef8e_level0_col3\" class=\"col_heading level0 col3\" >Prec.</th>\n",
              "      <th id=\"T_7ef8e_level0_col4\" class=\"col_heading level0 col4\" >F1</th>\n",
              "      <th id=\"T_7ef8e_level0_col5\" class=\"col_heading level0 col5\" >Kappa</th>\n",
              "      <th id=\"T_7ef8e_level0_col6\" class=\"col_heading level0 col6\" >MCC</th>\n",
              "    </tr>\n",
              "    <tr>\n",
              "      <th class=\"index_name level0\" >Fold</th>\n",
              "      <th class=\"blank col0\" >&nbsp;</th>\n",
              "      <th class=\"blank col1\" >&nbsp;</th>\n",
              "      <th class=\"blank col2\" >&nbsp;</th>\n",
              "      <th class=\"blank col3\" >&nbsp;</th>\n",
              "      <th class=\"blank col4\" >&nbsp;</th>\n",
              "      <th class=\"blank col5\" >&nbsp;</th>\n",
              "      <th class=\"blank col6\" >&nbsp;</th>\n",
              "    </tr>\n",
              "  </thead>\n",
              "  <tbody>\n",
              "    <tr>\n",
              "      <th id=\"T_7ef8e_level0_row0\" class=\"row_heading level0 row0\" >0</th>\n",
              "      <td id=\"T_7ef8e_row0_col0\" class=\"data row0 col0\" >0.6404</td>\n",
              "      <td id=\"T_7ef8e_row0_col1\" class=\"data row0 col1\" >0.3558</td>\n",
              "      <td id=\"T_7ef8e_row0_col2\" class=\"data row0 col2\" >1.0000</td>\n",
              "      <td id=\"T_7ef8e_row0_col3\" class=\"data row0 col3\" >0.6404</td>\n",
              "      <td id=\"T_7ef8e_row0_col4\" class=\"data row0 col4\" >0.7808</td>\n",
              "      <td id=\"T_7ef8e_row0_col5\" class=\"data row0 col5\" >0.0000</td>\n",
              "      <td id=\"T_7ef8e_row0_col6\" class=\"data row0 col6\" >0.0000</td>\n",
              "    </tr>\n",
              "    <tr>\n",
              "      <th id=\"T_7ef8e_level0_row1\" class=\"row_heading level0 row1\" >1</th>\n",
              "      <td id=\"T_7ef8e_row1_col0\" class=\"data row1 col0\" >0.6404</td>\n",
              "      <td id=\"T_7ef8e_row1_col1\" class=\"data row1 col1\" >0.4479</td>\n",
              "      <td id=\"T_7ef8e_row1_col2\" class=\"data row1 col2\" >1.0000</td>\n",
              "      <td id=\"T_7ef8e_row1_col3\" class=\"data row1 col3\" >0.6404</td>\n",
              "      <td id=\"T_7ef8e_row1_col4\" class=\"data row1 col4\" >0.7808</td>\n",
              "      <td id=\"T_7ef8e_row1_col5\" class=\"data row1 col5\" >0.0000</td>\n",
              "      <td id=\"T_7ef8e_row1_col6\" class=\"data row1 col6\" >0.0000</td>\n",
              "    </tr>\n",
              "    <tr>\n",
              "      <th id=\"T_7ef8e_level0_row2\" class=\"row_heading level0 row2\" >2</th>\n",
              "      <td id=\"T_7ef8e_row2_col0\" class=\"data row2 col0\" >0.6477</td>\n",
              "      <td id=\"T_7ef8e_row2_col1\" class=\"data row2 col1\" >0.5110</td>\n",
              "      <td id=\"T_7ef8e_row2_col2\" class=\"data row2 col2\" >1.0000</td>\n",
              "      <td id=\"T_7ef8e_row2_col3\" class=\"data row2 col3\" >0.6477</td>\n",
              "      <td id=\"T_7ef8e_row2_col4\" class=\"data row2 col4\" >0.7862</td>\n",
              "      <td id=\"T_7ef8e_row2_col5\" class=\"data row2 col5\" >0.0000</td>\n",
              "      <td id=\"T_7ef8e_row2_col6\" class=\"data row2 col6\" >0.0000</td>\n",
              "    </tr>\n",
              "    <tr>\n",
              "      <th id=\"T_7ef8e_level0_row3\" class=\"row_heading level0 row3\" >3</th>\n",
              "      <td id=\"T_7ef8e_row3_col0\" class=\"data row3 col0\" >0.6477</td>\n",
              "      <td id=\"T_7ef8e_row3_col1\" class=\"data row3 col1\" >0.5597</td>\n",
              "      <td id=\"T_7ef8e_row3_col2\" class=\"data row3 col2\" >1.0000</td>\n",
              "      <td id=\"T_7ef8e_row3_col3\" class=\"data row3 col3\" >0.6477</td>\n",
              "      <td id=\"T_7ef8e_row3_col4\" class=\"data row3 col4\" >0.7862</td>\n",
              "      <td id=\"T_7ef8e_row3_col5\" class=\"data row3 col5\" >0.0000</td>\n",
              "      <td id=\"T_7ef8e_row3_col6\" class=\"data row3 col6\" >0.0000</td>\n",
              "    </tr>\n",
              "    <tr>\n",
              "      <th id=\"T_7ef8e_level0_row4\" class=\"row_heading level0 row4\" >Mean</th>\n",
              "      <td id=\"T_7ef8e_row4_col0\" class=\"data row4 col0\" >0.6441</td>\n",
              "      <td id=\"T_7ef8e_row4_col1\" class=\"data row4 col1\" >0.4686</td>\n",
              "      <td id=\"T_7ef8e_row4_col2\" class=\"data row4 col2\" >1.0000</td>\n",
              "      <td id=\"T_7ef8e_row4_col3\" class=\"data row4 col3\" >0.6441</td>\n",
              "      <td id=\"T_7ef8e_row4_col4\" class=\"data row4 col4\" >0.7835</td>\n",
              "      <td id=\"T_7ef8e_row4_col5\" class=\"data row4 col5\" >0.0000</td>\n",
              "      <td id=\"T_7ef8e_row4_col6\" class=\"data row4 col6\" >0.0000</td>\n",
              "    </tr>\n",
              "    <tr>\n",
              "      <th id=\"T_7ef8e_level0_row5\" class=\"row_heading level0 row5\" >Std</th>\n",
              "      <td id=\"T_7ef8e_row5_col0\" class=\"data row5 col0\" >0.0036</td>\n",
              "      <td id=\"T_7ef8e_row5_col1\" class=\"data row5 col1\" >0.0762</td>\n",
              "      <td id=\"T_7ef8e_row5_col2\" class=\"data row5 col2\" >0.0000</td>\n",
              "      <td id=\"T_7ef8e_row5_col3\" class=\"data row5 col3\" >0.0036</td>\n",
              "      <td id=\"T_7ef8e_row5_col4\" class=\"data row5 col4\" >0.0027</td>\n",
              "      <td id=\"T_7ef8e_row5_col5\" class=\"data row5 col5\" >0.0000</td>\n",
              "      <td id=\"T_7ef8e_row5_col6\" class=\"data row5 col6\" >0.0000</td>\n",
              "    </tr>\n",
              "  </tbody>\n",
              "</table>\n"
            ],
            "text/plain": [
              "<pandas.io.formats.style.Styler at 0x1cff6b76be0>"
            ]
          },
          "metadata": {},
          "output_type": "display_data"
        },
        {
          "data": {
            "text/html": [],
            "text/plain": [
              "<IPython.core.display.HTML object>"
            ]
          },
          "metadata": {},
          "output_type": "display_data"
        },
        {
          "name": "stdout",
          "output_type": "stream",
          "text": [
            "Fitting 4 folds for each of 1 candidates, totalling 4 fits\n",
            "Original model was better than the tuned model, hence it will be returned. NOTE: The display metrics are for the tuned model (not the original one).\n",
            "--------------------------------------------------------------------------------\n",
            "RandomForestClassifier\n"
          ]
        },
        {
          "data": {
            "text/html": [
              "<div>\n",
              "<style scoped>\n",
              "    .dataframe tbody tr th:only-of-type {\n",
              "        vertical-align: middle;\n",
              "    }\n",
              "\n",
              "    .dataframe tbody tr th {\n",
              "        vertical-align: top;\n",
              "    }\n",
              "\n",
              "    .dataframe thead th {\n",
              "        text-align: right;\n",
              "    }\n",
              "</style>\n",
              "<table border=\"1\" class=\"dataframe\">\n",
              "  <thead>\n",
              "    <tr style=\"text-align: right;\">\n",
              "      <th></th>\n",
              "      <th></th>\n",
              "      <th></th>\n",
              "    </tr>\n",
              "    <tr>\n",
              "      <th></th>\n",
              "      <th></th>\n",
              "      <th></th>\n",
              "    </tr>\n",
              "  </thead>\n",
              "  <tbody>\n",
              "    <tr>\n",
              "      <th>Initiated</th>\n",
              "      <td>. . . . . . . . . . . . . . . . . .</td>\n",
              "      <td>17:35:46</td>\n",
              "    </tr>\n",
              "    <tr>\n",
              "      <th>Status</th>\n",
              "      <td>. . . . . . . . . . . . . . . . . .</td>\n",
              "      <td>Searching Hyperparameters</td>\n",
              "    </tr>\n",
              "    <tr>\n",
              "      <th>Estimator</th>\n",
              "      <td>. . . . . . . . . . . . . . . . . .</td>\n",
              "      <td>Random Forest Classifier</td>\n",
              "    </tr>\n",
              "  </tbody>\n",
              "</table>\n",
              "</div>"
            ],
            "text/plain": [
              "                                                                         \n",
              "                                                                         \n",
              "Initiated  . . . . . . . . . . . . . . . . . .                   17:35:46\n",
              "Status     . . . . . . . . . . . . . . . . . .  Searching Hyperparameters\n",
              "Estimator  . . . . . . . . . . . . . . . . . .   Random Forest Classifier"
            ]
          },
          "metadata": {},
          "output_type": "display_data"
        },
        {
          "data": {
            "text/html": [],
            "text/plain": [
              "<IPython.core.display.HTML object>"
            ]
          },
          "metadata": {},
          "output_type": "display_data"
        },
        {
          "data": {
            "application/vnd.jupyter.widget-view+json": {
              "model_id": "b0233c69059b48e98ab47d2a94d67f50",
              "version_major": 2,
              "version_minor": 0
            },
            "text/plain": [
              "Processing:   0%|          | 0/7 [00:00<?, ?it/s]"
            ]
          },
          "metadata": {},
          "output_type": "display_data"
        },
        {
          "name": "stdout",
          "output_type": "stream",
          "text": [
            "Fitting 4 folds for each of 1 candidates, totalling 4 fits\n",
            "Fitting 4 folds for each of 1 candidates, totalling 4 fits\n",
            "Fitting 4 folds for each of 1 candidates, totalling 4 fits\n",
            "Fitting 4 folds for each of 1 candidates, totalling 4 fits\n",
            "Fitting 4 folds for each of 1 candidates, totalling 4 fits\n",
            "Fitting 4 folds for each of 1 candidates, totalling 4 fits\n",
            "Fitting 4 folds for each of 1 candidates, totalling 4 fits\n",
            "Fitting 4 folds for each of 1 candidates, totalling 4 fits\n",
            "Fitting 4 folds for each of 1 candidates, totalling 4 fits\n",
            "Fitting 4 folds for each of 1 candidates, totalling 4 fits\n",
            "Fitting 4 folds for each of 1 candidates, totalling 4 fits\n",
            "Fitting 4 folds for each of 1 candidates, totalling 4 fits\n",
            "Fitting 4 folds for each of 1 candidates, totalling 4 fits\n",
            "Fitting 4 folds for each of 1 candidates, totalling 4 fits\n"
          ]
        }
      ],
      "source": [
        "import numpy as np\n",
        "import pandas as pd\n",
        "import yfinance as yf\n",
        "import pandas_datareader.data as web\n",
        "import plotly.express as px\n",
        "import plotly.graph_objects as go\n",
        "from datetime import datetime\n",
        "\n",
        "# Define two time periods: pre-inflation spike (1991-2020) and elevated inflation (2021-2023)\n",
        "start1 = '1991-01-01'\n",
        "end1   = '2020-12-31'\n",
        "start2 = '2021-01-01'\n",
        "end2   = '2023-12-31'  # adjust as needed\n",
        "\n",
        "# ------------------ Data Acquisition ------------------\n",
        "# Download CPI data to compute inflation.\n",
        "cpi1 = web.DataReader(\"CPIAUCSL\", \"fred\", start1, end1)\n",
        "cpi2 = web.DataReader(\"CPIAUCSL\", \"fred\", start2, end2)\n",
        "inflation1 = cpi1.pct_change() * 100\n",
        "inflation1 = inflation1.rename(columns={'CPIAUCSL': 'Inflation'})\n",
        "inflation2 = cpi2.pct_change() * 100\n",
        "inflation2 = inflation2.rename(columns={'CPIAUCSL': 'Inflation'})\n",
        "\n",
        "# Federal Funds Rate.\n",
        "fedfunds1 = web.DataReader(\"FEDFUNDS\", \"fred\", start1, end1)\n",
        "fedfunds2 = web.DataReader(\"FEDFUNDS\", \"fred\", start2, end2)\n",
        "# 10-Year Treasury Constant Maturity Rate.\n",
        "gs10_1 = web.DataReader(\"GS10\", \"fred\", start1, end1)\n",
        "gs10_2 = web.DataReader(\"GS10\", \"fred\", start2, end2)\n",
        "# Unemployment Rate.\n",
        "unrate1 = web.DataReader(\"UNRATE\", \"fred\", start1, end1)\n",
        "unrate2 = web.DataReader(\"UNRATE\", \"fred\", start2, end2)\n",
        "\n",
        "# Download S&P500 data from yfinance (monthly frequency).\n",
        "sp500_data1 = yf.download(\"^GSPC\", start=start1, end=end1, interval=\"1mo\")\n",
        "if 'Adj Close' in sp500_data1.columns:\n",
        "    sp500_1 = sp500_data1['Adj Close']\n",
        "else:\n",
        "    sp500_1 = sp500_data1['Close']\n",
        "\n",
        "sp500_data2 = yf.download(\"^GSPC\", start=start2, end=end2, interval=\"1mo\")\n",
        "if 'Adj Close' in sp500_data2.columns:\n",
        "    sp500_2 = sp500_data2['Adj Close']\n",
        "else:\n",
        "    sp500_2 = sp500_data2['Close']\n",
        "\n",
        "# ------------------ Data Preparation ------------------\n",
        "# For period 1: 1991-2020.\n",
        "df1 = inflation1.join([fedfunds1, gs10_1, unrate1])\n",
        "df1 = df1.dropna()\n",
        "df1['SP500'] = sp500_1.reindex(df1.index)\n",
        "df1 = df1.dropna()\n",
        "df1['SP500_Return'] = df1['SP500'].pct_change()\n",
        "df1 = df1.dropna()\n",
        "y1 = pd.Series(np.where(df1['SP500_Return'] > 0, 1, 0), name='Direction', index=df1.index)\n",
        "X1 = df1.drop(columns=['SP500', 'SP500_Return'])\n",
        "\n",
        "# For period 2: 2021-2023.\n",
        "df2 = inflation2.join([fedfunds2, gs10_2, unrate2])\n",
        "df2 = df2.dropna()\n",
        "df2['SP500'] = sp500_2.reindex(df2.index)\n",
        "df2 = df2.dropna()\n",
        "df2['SP500_Return'] = df2['SP500'].pct_change()\n",
        "df2 = df2.dropna()\n",
        "y2 = pd.Series(np.where(df2['SP500_Return'] > 0, 1, 0), name='Direction', index=df2.index)\n",
        "X2 = df2.drop(columns=['SP500', 'SP500_Return'])\n",
        "\n",
        "# ------------------ SWEFI Setup and Execution ------------------\n",
        "# Define common SWEFI parameters.\n",
        "select_n_model = 5\n",
        "bootstrap_method = SWEFI.stationary_bootstrap\n",
        "hpo_n_fold = 4\n",
        "hpo_n_iter = 25\n",
        "hpo_metric = 'AUC'\n",
        "hpo_search_library = 'scikit-optimize'\n",
        "hpo_search_algorithm = 'bayesian'\n",
        "n_iteration = 5\n",
        "percentage = 0.6\n",
        "\n",
        "# For period 1, use the standard setup.\n",
        "swefi1 = SWEFI(X1, y1, n_fold=10)\n",
        "swefi1.select_models(select_n_model=select_n_model)\n",
        "swefi1.fine_tune_selected_models(\n",
        "    hpo_n_fold=hpo_n_fold,\n",
        "    hpo_n_iter=hpo_n_iter,\n",
        "    hpo_metric=hpo_metric,\n",
        "    hpo_search_algorithm=hpo_search_algorithm,\n",
        "    hpo_search_library=hpo_search_library\n",
        ")\n",
        "swefi1.select_univariate_analysis_measurements(measurements=[\n",
        "    UAMeasure.MUTUAL_INFORMATION.value,\n",
        "    UAMeasure.ANOVA_F.value,\n",
        "])\n",
        "swefi1.compute_feature_importance_data(bootstrap_method=bootstrap_method, n_iteration=n_iteration, n_repeats=10)\n",
        "swefi1.compute_swefi_scores(percentage=percentage)\n",
        "swefi_scores1 = swefi1.get_swefi_scores()\n",
        "\n",
        "# For period 2, if the number of samples is too small, duplicate the rows until we have at least 101 samples.\n",
        "if X2.shape[0] < 101:\n",
        "    repeat_factor = int(np.ceil(101 / X2.shape[0]))\n",
        "    X2_mod = pd.concat([X2]*repeat_factor, ignore_index=True)\n",
        "    y2_mod = pd.concat([y2]*repeat_factor, ignore_index=True)\n",
        "else:\n",
        "    X2_mod, y2_mod = X2.copy(), y2.copy()\n",
        "\n",
        "# Initialize SWEFI for period 2 using the expanded data.\n",
        "swefi2 = SWEFI(X2_mod, y2_mod, n_fold=10)\n",
        "# (The above call uses the default train_size=0.99, which now results in a test set of at least 2 samples.)\n",
        "swefi2.select_models(select_n_model=select_n_model)\n",
        "swefi2.fine_tune_selected_models(\n",
        "    hpo_n_fold=hpo_n_fold,\n",
        "    hpo_n_iter=hpo_n_iter,\n",
        "    hpo_metric=hpo_metric,\n",
        "    hpo_search_algorithm=hpo_search_algorithm,\n",
        "    hpo_search_library=hpo_search_library\n",
        ")\n",
        "swefi2.select_univariate_analysis_measurements(measurements=[\n",
        "    UAMeasure.MUTUAL_INFORMATION.value,\n",
        "    UAMeasure.ANOVA_F.value,\n",
        "])\n",
        "swefi2.compute_feature_importance_data(bootstrap_method=bootstrap_method, n_iteration=n_iteration, n_repeats=10)\n",
        "swefi2.compute_swefi_scores(percentage=percentage)\n",
        "swefi_scores2 = swefi2.get_swefi_scores()\n",
        "\n",
        "# Save the SWEFI results to CSV files.\n",
        "swefi_scores1.to_csv('swefi_results_1991_2020.csv')\n",
        "swefi_scores2.to_csv('swefi_results_2021_2023.csv')\n",
        "\n"
      ]
    },
    {
      "cell_type": "code",
      "execution_count": null,
      "metadata": {},
      "outputs": [
        {
          "data": {
            "application/vnd.plotly.v1+json": {
              "config": {
                "plotlyServerURL": "https://plot.ly"
              },
              "data": [
                {
                  "mode": "lines",
                  "name": "S&P500 (1991-2020)",
                  "type": "scatter",
                  "x": [
                    "1991-03-01T00:00:00",
                    "1991-04-01T00:00:00",
                    "1991-05-01T00:00:00",
                    "1991-06-01T00:00:00",
                    "1991-07-01T00:00:00",
                    "1991-08-01T00:00:00",
                    "1991-09-01T00:00:00",
                    "1991-10-01T00:00:00",
                    "1991-11-01T00:00:00",
                    "1991-12-01T00:00:00",
                    "1992-01-01T00:00:00",
                    "1992-02-01T00:00:00",
                    "1992-03-01T00:00:00",
                    "1992-04-01T00:00:00",
                    "1992-05-01T00:00:00",
                    "1992-06-01T00:00:00",
                    "1992-07-01T00:00:00",
                    "1992-08-01T00:00:00",
                    "1992-09-01T00:00:00",
                    "1992-10-01T00:00:00",
                    "1992-11-01T00:00:00",
                    "1992-12-01T00:00:00",
                    "1993-01-01T00:00:00",
                    "1993-02-01T00:00:00",
                    "1993-03-01T00:00:00",
                    "1993-04-01T00:00:00",
                    "1993-05-01T00:00:00",
                    "1993-06-01T00:00:00",
                    "1993-07-01T00:00:00",
                    "1993-08-01T00:00:00",
                    "1993-09-01T00:00:00",
                    "1993-10-01T00:00:00",
                    "1993-11-01T00:00:00",
                    "1993-12-01T00:00:00",
                    "1994-01-01T00:00:00",
                    "1994-02-01T00:00:00",
                    "1994-03-01T00:00:00",
                    "1994-04-01T00:00:00",
                    "1994-05-01T00:00:00",
                    "1994-06-01T00:00:00",
                    "1994-07-01T00:00:00",
                    "1994-08-01T00:00:00",
                    "1994-09-01T00:00:00",
                    "1994-10-01T00:00:00",
                    "1994-11-01T00:00:00",
                    "1994-12-01T00:00:00",
                    "1995-01-01T00:00:00",
                    "1995-02-01T00:00:00",
                    "1995-03-01T00:00:00",
                    "1995-04-01T00:00:00",
                    "1995-05-01T00:00:00",
                    "1995-06-01T00:00:00",
                    "1995-07-01T00:00:00",
                    "1995-08-01T00:00:00",
                    "1995-09-01T00:00:00",
                    "1995-10-01T00:00:00",
                    "1995-11-01T00:00:00",
                    "1995-12-01T00:00:00",
                    "1996-01-01T00:00:00",
                    "1996-02-01T00:00:00",
                    "1996-03-01T00:00:00",
                    "1996-04-01T00:00:00",
                    "1996-05-01T00:00:00",
                    "1996-06-01T00:00:00",
                    "1996-07-01T00:00:00",
                    "1996-08-01T00:00:00",
                    "1996-09-01T00:00:00",
                    "1996-10-01T00:00:00",
                    "1996-11-01T00:00:00",
                    "1996-12-01T00:00:00",
                    "1997-01-01T00:00:00",
                    "1997-02-01T00:00:00",
                    "1997-03-01T00:00:00",
                    "1997-04-01T00:00:00",
                    "1997-05-01T00:00:00",
                    "1997-06-01T00:00:00",
                    "1997-07-01T00:00:00",
                    "1997-08-01T00:00:00",
                    "1997-09-01T00:00:00",
                    "1997-10-01T00:00:00",
                    "1997-11-01T00:00:00",
                    "1997-12-01T00:00:00",
                    "1998-01-01T00:00:00",
                    "1998-02-01T00:00:00",
                    "1998-03-01T00:00:00",
                    "1998-04-01T00:00:00",
                    "1998-05-01T00:00:00",
                    "1998-06-01T00:00:00",
                    "1998-07-01T00:00:00",
                    "1998-08-01T00:00:00",
                    "1998-09-01T00:00:00",
                    "1998-10-01T00:00:00",
                    "1998-11-01T00:00:00",
                    "1998-12-01T00:00:00",
                    "1999-01-01T00:00:00",
                    "1999-02-01T00:00:00",
                    "1999-03-01T00:00:00",
                    "1999-04-01T00:00:00",
                    "1999-05-01T00:00:00",
                    "1999-06-01T00:00:00",
                    "1999-07-01T00:00:00",
                    "1999-08-01T00:00:00",
                    "1999-09-01T00:00:00",
                    "1999-10-01T00:00:00",
                    "1999-11-01T00:00:00",
                    "1999-12-01T00:00:00",
                    "2000-01-01T00:00:00",
                    "2000-02-01T00:00:00",
                    "2000-03-01T00:00:00",
                    "2000-04-01T00:00:00",
                    "2000-05-01T00:00:00",
                    "2000-06-01T00:00:00",
                    "2000-07-01T00:00:00",
                    "2000-08-01T00:00:00",
                    "2000-09-01T00:00:00",
                    "2000-10-01T00:00:00",
                    "2000-11-01T00:00:00",
                    "2000-12-01T00:00:00",
                    "2001-01-01T00:00:00",
                    "2001-02-01T00:00:00",
                    "2001-03-01T00:00:00",
                    "2001-04-01T00:00:00",
                    "2001-05-01T00:00:00",
                    "2001-06-01T00:00:00",
                    "2001-07-01T00:00:00",
                    "2001-08-01T00:00:00",
                    "2001-09-01T00:00:00",
                    "2001-10-01T00:00:00",
                    "2001-11-01T00:00:00",
                    "2001-12-01T00:00:00",
                    "2002-01-01T00:00:00",
                    "2002-02-01T00:00:00",
                    "2002-03-01T00:00:00",
                    "2002-04-01T00:00:00",
                    "2002-05-01T00:00:00",
                    "2002-06-01T00:00:00",
                    "2002-07-01T00:00:00",
                    "2002-08-01T00:00:00",
                    "2002-09-01T00:00:00",
                    "2002-10-01T00:00:00",
                    "2002-11-01T00:00:00",
                    "2002-12-01T00:00:00",
                    "2003-01-01T00:00:00",
                    "2003-02-01T00:00:00",
                    "2003-03-01T00:00:00",
                    "2003-04-01T00:00:00",
                    "2003-05-01T00:00:00",
                    "2003-06-01T00:00:00",
                    "2003-07-01T00:00:00",
                    "2003-08-01T00:00:00",
                    "2003-09-01T00:00:00",
                    "2003-10-01T00:00:00",
                    "2003-11-01T00:00:00",
                    "2003-12-01T00:00:00",
                    "2004-01-01T00:00:00",
                    "2004-02-01T00:00:00",
                    "2004-03-01T00:00:00",
                    "2004-04-01T00:00:00",
                    "2004-05-01T00:00:00",
                    "2004-06-01T00:00:00",
                    "2004-07-01T00:00:00",
                    "2004-08-01T00:00:00",
                    "2004-09-01T00:00:00",
                    "2004-10-01T00:00:00",
                    "2004-11-01T00:00:00",
                    "2004-12-01T00:00:00",
                    "2005-01-01T00:00:00",
                    "2005-02-01T00:00:00",
                    "2005-03-01T00:00:00",
                    "2005-04-01T00:00:00",
                    "2005-05-01T00:00:00",
                    "2005-06-01T00:00:00",
                    "2005-07-01T00:00:00",
                    "2005-08-01T00:00:00",
                    "2005-09-01T00:00:00",
                    "2005-10-01T00:00:00",
                    "2005-11-01T00:00:00",
                    "2005-12-01T00:00:00",
                    "2006-01-01T00:00:00",
                    "2006-02-01T00:00:00",
                    "2006-03-01T00:00:00",
                    "2006-04-01T00:00:00",
                    "2006-05-01T00:00:00",
                    "2006-06-01T00:00:00",
                    "2006-07-01T00:00:00",
                    "2006-08-01T00:00:00",
                    "2006-09-01T00:00:00",
                    "2006-10-01T00:00:00",
                    "2006-11-01T00:00:00",
                    "2006-12-01T00:00:00",
                    "2007-01-01T00:00:00",
                    "2007-02-01T00:00:00",
                    "2007-03-01T00:00:00",
                    "2007-04-01T00:00:00",
                    "2007-05-01T00:00:00",
                    "2007-06-01T00:00:00",
                    "2007-07-01T00:00:00",
                    "2007-08-01T00:00:00",
                    "2007-09-01T00:00:00",
                    "2007-10-01T00:00:00",
                    "2007-11-01T00:00:00",
                    "2007-12-01T00:00:00",
                    "2008-01-01T00:00:00",
                    "2008-02-01T00:00:00",
                    "2008-03-01T00:00:00",
                    "2008-04-01T00:00:00",
                    "2008-05-01T00:00:00",
                    "2008-06-01T00:00:00",
                    "2008-07-01T00:00:00",
                    "2008-08-01T00:00:00",
                    "2008-09-01T00:00:00",
                    "2008-10-01T00:00:00",
                    "2008-11-01T00:00:00",
                    "2008-12-01T00:00:00",
                    "2009-01-01T00:00:00",
                    "2009-02-01T00:00:00",
                    "2009-03-01T00:00:00",
                    "2009-04-01T00:00:00",
                    "2009-05-01T00:00:00",
                    "2009-06-01T00:00:00",
                    "2009-07-01T00:00:00",
                    "2009-08-01T00:00:00",
                    "2009-09-01T00:00:00",
                    "2009-10-01T00:00:00",
                    "2009-11-01T00:00:00",
                    "2009-12-01T00:00:00",
                    "2010-01-01T00:00:00",
                    "2010-02-01T00:00:00",
                    "2010-03-01T00:00:00",
                    "2010-04-01T00:00:00",
                    "2010-05-01T00:00:00",
                    "2010-06-01T00:00:00",
                    "2010-07-01T00:00:00",
                    "2010-08-01T00:00:00",
                    "2010-09-01T00:00:00",
                    "2010-10-01T00:00:00",
                    "2010-11-01T00:00:00",
                    "2010-12-01T00:00:00",
                    "2011-01-01T00:00:00",
                    "2011-02-01T00:00:00",
                    "2011-03-01T00:00:00",
                    "2011-04-01T00:00:00",
                    "2011-05-01T00:00:00",
                    "2011-06-01T00:00:00",
                    "2011-07-01T00:00:00",
                    "2011-08-01T00:00:00",
                    "2011-09-01T00:00:00",
                    "2011-10-01T00:00:00",
                    "2011-11-01T00:00:00",
                    "2011-12-01T00:00:00",
                    "2012-01-01T00:00:00",
                    "2012-02-01T00:00:00",
                    "2012-03-01T00:00:00",
                    "2012-04-01T00:00:00",
                    "2012-05-01T00:00:00",
                    "2012-06-01T00:00:00",
                    "2012-07-01T00:00:00",
                    "2012-08-01T00:00:00",
                    "2012-09-01T00:00:00",
                    "2012-10-01T00:00:00",
                    "2012-11-01T00:00:00",
                    "2012-12-01T00:00:00",
                    "2013-01-01T00:00:00",
                    "2013-02-01T00:00:00",
                    "2013-03-01T00:00:00",
                    "2013-04-01T00:00:00",
                    "2013-05-01T00:00:00",
                    "2013-06-01T00:00:00",
                    "2013-07-01T00:00:00",
                    "2013-08-01T00:00:00",
                    "2013-09-01T00:00:00",
                    "2013-10-01T00:00:00",
                    "2013-11-01T00:00:00",
                    "2013-12-01T00:00:00",
                    "2014-01-01T00:00:00",
                    "2014-02-01T00:00:00",
                    "2014-03-01T00:00:00",
                    "2014-04-01T00:00:00",
                    "2014-05-01T00:00:00",
                    "2014-06-01T00:00:00",
                    "2014-07-01T00:00:00",
                    "2014-08-01T00:00:00",
                    "2014-09-01T00:00:00",
                    "2014-10-01T00:00:00",
                    "2014-11-01T00:00:00",
                    "2014-12-01T00:00:00",
                    "2015-01-01T00:00:00",
                    "2015-02-01T00:00:00",
                    "2015-03-01T00:00:00",
                    "2015-04-01T00:00:00",
                    "2015-05-01T00:00:00",
                    "2015-06-01T00:00:00",
                    "2015-07-01T00:00:00",
                    "2015-08-01T00:00:00",
                    "2015-09-01T00:00:00",
                    "2015-10-01T00:00:00",
                    "2015-11-01T00:00:00",
                    "2015-12-01T00:00:00",
                    "2016-01-01T00:00:00",
                    "2016-02-01T00:00:00",
                    "2016-03-01T00:00:00",
                    "2016-04-01T00:00:00",
                    "2016-05-01T00:00:00",
                    "2016-06-01T00:00:00",
                    "2016-07-01T00:00:00",
                    "2016-08-01T00:00:00",
                    "2016-09-01T00:00:00",
                    "2016-10-01T00:00:00",
                    "2016-11-01T00:00:00",
                    "2016-12-01T00:00:00",
                    "2017-01-01T00:00:00",
                    "2017-02-01T00:00:00",
                    "2017-03-01T00:00:00",
                    "2017-04-01T00:00:00",
                    "2017-05-01T00:00:00",
                    "2017-06-01T00:00:00",
                    "2017-07-01T00:00:00",
                    "2017-08-01T00:00:00",
                    "2017-09-01T00:00:00",
                    "2017-10-01T00:00:00",
                    "2017-11-01T00:00:00",
                    "2017-12-01T00:00:00",
                    "2018-01-01T00:00:00",
                    "2018-02-01T00:00:00",
                    "2018-03-01T00:00:00",
                    "2018-04-01T00:00:00",
                    "2018-05-01T00:00:00",
                    "2018-06-01T00:00:00",
                    "2018-07-01T00:00:00",
                    "2018-08-01T00:00:00",
                    "2018-09-01T00:00:00",
                    "2018-10-01T00:00:00",
                    "2018-11-01T00:00:00",
                    "2018-12-01T00:00:00",
                    "2019-01-01T00:00:00",
                    "2019-02-01T00:00:00",
                    "2019-03-01T00:00:00",
                    "2019-04-01T00:00:00",
                    "2019-05-01T00:00:00",
                    "2019-06-01T00:00:00",
                    "2019-07-01T00:00:00",
                    "2019-08-01T00:00:00",
                    "2019-09-01T00:00:00",
                    "2019-10-01T00:00:00",
                    "2019-11-01T00:00:00",
                    "2019-12-01T00:00:00",
                    "2020-01-01T00:00:00",
                    "2020-02-01T00:00:00",
                    "2020-03-01T00:00:00",
                    "2020-04-01T00:00:00",
                    "2020-05-01T00:00:00",
                    "2020-06-01T00:00:00",
                    "2020-07-01T00:00:00",
                    "2020-08-01T00:00:00",
                    "2020-09-01T00:00:00",
                    "2020-10-01T00:00:00",
                    "2020-11-01T00:00:00",
                    "2020-12-01T00:00:00"
                  ],
                  "y": [
                    375.2200012207031,
                    375.3399963378906,
                    389.8299865722656,
                    371.1600036621094,
                    387.80999755859375,
                    395.42999267578125,
                    387.8599853515625,
                    392.45001220703125,
                    375.2200012207031,
                    417.0899963378906,
                    408.7799987792969,
                    412.70001220703125,
                    403.69000244140625,
                    414.95001220703125,
                    415.3500061035156,
                    408.1400146484375,
                    424.2099914550781,
                    414.0299987792969,
                    417.79998779296875,
                    418.67999267578125,
                    431.3500061035156,
                    435.7099914550781,
                    438.7799987792969,
                    443.3800048828125,
                    451.6700134277344,
                    440.19000244140625,
                    450.19000244140625,
                    450.5299987792969,
                    448.1300048828125,
                    463.55999755859375,
                    458.92999267578125,
                    467.8299865722656,
                    461.7900085449219,
                    466.45001220703125,
                    481.6099853515625,
                    467.1400146484375,
                    445.7699890136719,
                    450.9100036621094,
                    456.5,
                    444.2699890136719,
                    458.260009765625,
                    475.489990234375,
                    462.7099914550781,
                    472.3500061035156,
                    453.69000244140625,
                    459.2699890136719,
                    470.4200134277344,
                    487.3900146484375,
                    500.7099914550781,
                    514.7100219726562,
                    533.4000244140625,
                    544.75,
                    562.0599975585938,
                    561.8800048828125,
                    584.4099731445312,
                    581.5,
                    605.3699951171875,
                    615.9299926757812,
                    636.02001953125,
                    640.4299926757812,
                    645.5,
                    654.1699829101562,
                    669.1199951171875,
                    670.6300048828125,
                    639.9500122070312,
                    651.989990234375,
                    687.3300170898438,
                    705.27001953125,
                    757.02001953125,
                    740.739990234375,
                    786.1599731445312,
                    790.8200073242188,
                    757.1199951171875,
                    801.3400268554688,
                    848.280029296875,
                    885.1400146484375,
                    954.3099975585938,
                    899.469970703125,
                    947.280029296875,
                    914.6199951171875,
                    955.4000244140625,
                    970.4299926757812,
                    980.280029296875,
                    1049.3399658203125,
                    1101.75,
                    1111.75,
                    1090.8199462890625,
                    1133.8399658203125,
                    1120.6700439453125,
                    957.280029296875,
                    1017.010009765625,
                    1098.6700439453125,
                    1163.6300048828125,
                    1229.22998046875,
                    1279.6400146484375,
                    1238.3299560546875,
                    1286.3699951171875,
                    1335.1800537109375,
                    1301.8399658203125,
                    1372.7099609375,
                    1328.719970703125,
                    1320.4100341796875,
                    1282.7099609375,
                    1362.9300537109375,
                    1388.9100341796875,
                    1469.25,
                    1394.4599609375,
                    1366.4200439453125,
                    1498.5799560546875,
                    1452.4300537109375,
                    1420.5999755859375,
                    1454.5999755859375,
                    1430.8299560546875,
                    1517.6800537109375,
                    1436.510009765625,
                    1429.4000244140625,
                    1314.949951171875,
                    1320.280029296875,
                    1366.010009765625,
                    1239.93994140625,
                    1160.3299560546875,
                    1249.4599609375,
                    1255.8199462890625,
                    1224.3800048828125,
                    1211.22998046875,
                    1133.5799560546875,
                    1040.93994140625,
                    1059.780029296875,
                    1139.449951171875,
                    1148.0799560546875,
                    1130.199951171875,
                    1106.72998046875,
                    1147.3900146484375,
                    1076.9200439453125,
                    1067.1400146484375,
                    989.8200073242188,
                    911.6199951171875,
                    916.0700073242188,
                    815.280029296875,
                    885.760009765625,
                    936.3099975585938,
                    879.8200073242188,
                    855.7000122070312,
                    841.1500244140625,
                    848.1799926757812,
                    916.9199829101562,
                    963.5900268554688,
                    974.5,
                    990.3099975585938,
                    1008.010009765625,
                    995.969970703125,
                    1050.7099609375,
                    1058.199951171875,
                    1111.9200439453125,
                    1131.1300048828125,
                    1144.93994140625,
                    1126.2099609375,
                    1107.300048828125,
                    1120.6800537109375,
                    1140.8399658203125,
                    1101.719970703125,
                    1104.239990234375,
                    1114.5799560546875,
                    1130.199951171875,
                    1173.8199462890625,
                    1211.9200439453125,
                    1181.27001953125,
                    1203.5999755859375,
                    1180.5899658203125,
                    1156.8499755859375,
                    1191.5,
                    1191.3299560546875,
                    1234.1800537109375,
                    1220.3299560546875,
                    1228.81005859375,
                    1207.010009765625,
                    1249.47998046875,
                    1248.2900390625,
                    1280.0799560546875,
                    1280.6600341796875,
                    1294.8699951171875,
                    1310.6099853515625,
                    1270.0899658203125,
                    1270.199951171875,
                    1276.6600341796875,
                    1303.8199462890625,
                    1335.8499755859375,
                    1377.93994140625,
                    1400.6300048828125,
                    1418.300048828125,
                    1438.239990234375,
                    1406.8199462890625,
                    1420.8599853515625,
                    1482.3699951171875,
                    1530.6199951171875,
                    1503.3499755859375,
                    1455.27001953125,
                    1473.989990234375,
                    1526.75,
                    1549.3800048828125,
                    1481.1400146484375,
                    1468.3599853515625,
                    1378.550048828125,
                    1330.6300048828125,
                    1322.699951171875,
                    1385.5899658203125,
                    1400.3800048828125,
                    1280,
                    1267.3800048828125,
                    1282.8299560546875,
                    1166.3599853515625,
                    968.75,
                    896.239990234375,
                    903.25,
                    825.8800048828125,
                    735.0900268554688,
                    797.8699951171875,
                    872.8099975585938,
                    919.1400146484375,
                    919.3200073242188,
                    987.47998046875,
                    1020.6199951171875,
                    1057.0799560546875,
                    1036.18994140625,
                    1095.6300048828125,
                    1115.0999755859375,
                    1073.8699951171875,
                    1104.489990234375,
                    1169.4300537109375,
                    1186.68994140625,
                    1089.4100341796875,
                    1030.7099609375,
                    1101.5999755859375,
                    1049.3299560546875,
                    1141.199951171875,
                    1183.260009765625,
                    1180.550048828125,
                    1257.6400146484375,
                    1286.1199951171875,
                    1327.219970703125,
                    1325.8299560546875,
                    1363.6099853515625,
                    1345.199951171875,
                    1320.6400146484375,
                    1292.280029296875,
                    1218.8900146484375,
                    1131.4200439453125,
                    1253.300048828125,
                    1246.9599609375,
                    1257.5999755859375,
                    1312.4100341796875,
                    1365.6800537109375,
                    1408.469970703125,
                    1397.9100341796875,
                    1310.3299560546875,
                    1362.1600341796875,
                    1379.3199462890625,
                    1406.5799560546875,
                    1440.6700439453125,
                    1412.1600341796875,
                    1416.1800537109375,
                    1426.18994140625,
                    1498.1099853515625,
                    1514.6800537109375,
                    1569.18994140625,
                    1597.5699462890625,
                    1630.739990234375,
                    1606.280029296875,
                    1685.72998046875,
                    1632.969970703125,
                    1681.550048828125,
                    1756.5400390625,
                    1805.81005859375,
                    1848.3599853515625,
                    1782.5899658203125,
                    1859.449951171875,
                    1872.3399658203125,
                    1883.949951171875,
                    1923.5699462890625,
                    1960.22998046875,
                    1930.6700439453125,
                    2003.3699951171875,
                    1972.2900390625,
                    2018.050048828125,
                    2067.56005859375,
                    2058.89990234375,
                    1994.989990234375,
                    2104.5,
                    2067.889892578125,
                    2085.510009765625,
                    2107.389892578125,
                    2063.110107421875,
                    2103.840087890625,
                    1972.1800537109375,
                    1920.030029296875,
                    2079.360107421875,
                    2080.409912109375,
                    2043.93994140625,
                    1940.239990234375,
                    1932.22998046875,
                    2059.739990234375,
                    2065.300048828125,
                    2096.949951171875,
                    2098.860107421875,
                    2173.60009765625,
                    2170.949951171875,
                    2168.27001953125,
                    2126.14990234375,
                    2198.81005859375,
                    2238.830078125,
                    2278.8701171875,
                    2363.639892578125,
                    2362.719970703125,
                    2384.199951171875,
                    2411.800048828125,
                    2423.409912109375,
                    2470.300048828125,
                    2471.64990234375,
                    2519.360107421875,
                    2575.260009765625,
                    2647.580078125,
                    2673.610107421875,
                    2823.81005859375,
                    2713.830078125,
                    2640.8701171875,
                    2648.050048828125,
                    2705.27001953125,
                    2718.3701171875,
                    2816.2900390625,
                    2901.52001953125,
                    2913.97998046875,
                    2711.739990234375,
                    2760.169921875,
                    2506.85009765625,
                    2704.10009765625,
                    2784.489990234375,
                    2834.39990234375,
                    2945.830078125,
                    2752.06005859375,
                    2941.760009765625,
                    2980.3798828125,
                    2926.4599609375,
                    2976.739990234375,
                    3037.56005859375,
                    3140.97998046875,
                    3230.780029296875,
                    3225.52001953125,
                    2954.219970703125,
                    2584.590087890625,
                    2912.429931640625,
                    3044.31005859375,
                    3100.2900390625,
                    3271.1201171875,
                    3500.31005859375,
                    3363,
                    3269.9599609375,
                    3621.6298828125,
                    3756.070068359375
                  ]
                },
                {
                  "mode": "lines",
                  "name": "Inflation (1991-2020)",
                  "type": "scatter",
                  "x": [
                    "1991-03-01T00:00:00",
                    "1991-04-01T00:00:00",
                    "1991-05-01T00:00:00",
                    "1991-06-01T00:00:00",
                    "1991-07-01T00:00:00",
                    "1991-08-01T00:00:00",
                    "1991-09-01T00:00:00",
                    "1991-10-01T00:00:00",
                    "1991-11-01T00:00:00",
                    "1991-12-01T00:00:00",
                    "1992-01-01T00:00:00",
                    "1992-02-01T00:00:00",
                    "1992-03-01T00:00:00",
                    "1992-04-01T00:00:00",
                    "1992-05-01T00:00:00",
                    "1992-06-01T00:00:00",
                    "1992-07-01T00:00:00",
                    "1992-08-01T00:00:00",
                    "1992-09-01T00:00:00",
                    "1992-10-01T00:00:00",
                    "1992-11-01T00:00:00",
                    "1992-12-01T00:00:00",
                    "1993-01-01T00:00:00",
                    "1993-02-01T00:00:00",
                    "1993-03-01T00:00:00",
                    "1993-04-01T00:00:00",
                    "1993-05-01T00:00:00",
                    "1993-06-01T00:00:00",
                    "1993-07-01T00:00:00",
                    "1993-08-01T00:00:00",
                    "1993-09-01T00:00:00",
                    "1993-10-01T00:00:00",
                    "1993-11-01T00:00:00",
                    "1993-12-01T00:00:00",
                    "1994-01-01T00:00:00",
                    "1994-02-01T00:00:00",
                    "1994-03-01T00:00:00",
                    "1994-04-01T00:00:00",
                    "1994-05-01T00:00:00",
                    "1994-06-01T00:00:00",
                    "1994-07-01T00:00:00",
                    "1994-08-01T00:00:00",
                    "1994-09-01T00:00:00",
                    "1994-10-01T00:00:00",
                    "1994-11-01T00:00:00",
                    "1994-12-01T00:00:00",
                    "1995-01-01T00:00:00",
                    "1995-02-01T00:00:00",
                    "1995-03-01T00:00:00",
                    "1995-04-01T00:00:00",
                    "1995-05-01T00:00:00",
                    "1995-06-01T00:00:00",
                    "1995-07-01T00:00:00",
                    "1995-08-01T00:00:00",
                    "1995-09-01T00:00:00",
                    "1995-10-01T00:00:00",
                    "1995-11-01T00:00:00",
                    "1995-12-01T00:00:00",
                    "1996-01-01T00:00:00",
                    "1996-02-01T00:00:00",
                    "1996-03-01T00:00:00",
                    "1996-04-01T00:00:00",
                    "1996-05-01T00:00:00",
                    "1996-06-01T00:00:00",
                    "1996-07-01T00:00:00",
                    "1996-08-01T00:00:00",
                    "1996-09-01T00:00:00",
                    "1996-10-01T00:00:00",
                    "1996-11-01T00:00:00",
                    "1996-12-01T00:00:00",
                    "1997-01-01T00:00:00",
                    "1997-02-01T00:00:00",
                    "1997-03-01T00:00:00",
                    "1997-04-01T00:00:00",
                    "1997-05-01T00:00:00",
                    "1997-06-01T00:00:00",
                    "1997-07-01T00:00:00",
                    "1997-08-01T00:00:00",
                    "1997-09-01T00:00:00",
                    "1997-10-01T00:00:00",
                    "1997-11-01T00:00:00",
                    "1997-12-01T00:00:00",
                    "1998-01-01T00:00:00",
                    "1998-02-01T00:00:00",
                    "1998-03-01T00:00:00",
                    "1998-04-01T00:00:00",
                    "1998-05-01T00:00:00",
                    "1998-06-01T00:00:00",
                    "1998-07-01T00:00:00",
                    "1998-08-01T00:00:00",
                    "1998-09-01T00:00:00",
                    "1998-10-01T00:00:00",
                    "1998-11-01T00:00:00",
                    "1998-12-01T00:00:00",
                    "1999-01-01T00:00:00",
                    "1999-02-01T00:00:00",
                    "1999-03-01T00:00:00",
                    "1999-04-01T00:00:00",
                    "1999-05-01T00:00:00",
                    "1999-06-01T00:00:00",
                    "1999-07-01T00:00:00",
                    "1999-08-01T00:00:00",
                    "1999-09-01T00:00:00",
                    "1999-10-01T00:00:00",
                    "1999-11-01T00:00:00",
                    "1999-12-01T00:00:00",
                    "2000-01-01T00:00:00",
                    "2000-02-01T00:00:00",
                    "2000-03-01T00:00:00",
                    "2000-04-01T00:00:00",
                    "2000-05-01T00:00:00",
                    "2000-06-01T00:00:00",
                    "2000-07-01T00:00:00",
                    "2000-08-01T00:00:00",
                    "2000-09-01T00:00:00",
                    "2000-10-01T00:00:00",
                    "2000-11-01T00:00:00",
                    "2000-12-01T00:00:00",
                    "2001-01-01T00:00:00",
                    "2001-02-01T00:00:00",
                    "2001-03-01T00:00:00",
                    "2001-04-01T00:00:00",
                    "2001-05-01T00:00:00",
                    "2001-06-01T00:00:00",
                    "2001-07-01T00:00:00",
                    "2001-08-01T00:00:00",
                    "2001-09-01T00:00:00",
                    "2001-10-01T00:00:00",
                    "2001-11-01T00:00:00",
                    "2001-12-01T00:00:00",
                    "2002-01-01T00:00:00",
                    "2002-02-01T00:00:00",
                    "2002-03-01T00:00:00",
                    "2002-04-01T00:00:00",
                    "2002-05-01T00:00:00",
                    "2002-06-01T00:00:00",
                    "2002-07-01T00:00:00",
                    "2002-08-01T00:00:00",
                    "2002-09-01T00:00:00",
                    "2002-10-01T00:00:00",
                    "2002-11-01T00:00:00",
                    "2002-12-01T00:00:00",
                    "2003-01-01T00:00:00",
                    "2003-02-01T00:00:00",
                    "2003-03-01T00:00:00",
                    "2003-04-01T00:00:00",
                    "2003-05-01T00:00:00",
                    "2003-06-01T00:00:00",
                    "2003-07-01T00:00:00",
                    "2003-08-01T00:00:00",
                    "2003-09-01T00:00:00",
                    "2003-10-01T00:00:00",
                    "2003-11-01T00:00:00",
                    "2003-12-01T00:00:00",
                    "2004-01-01T00:00:00",
                    "2004-02-01T00:00:00",
                    "2004-03-01T00:00:00",
                    "2004-04-01T00:00:00",
                    "2004-05-01T00:00:00",
                    "2004-06-01T00:00:00",
                    "2004-07-01T00:00:00",
                    "2004-08-01T00:00:00",
                    "2004-09-01T00:00:00",
                    "2004-10-01T00:00:00",
                    "2004-11-01T00:00:00",
                    "2004-12-01T00:00:00",
                    "2005-01-01T00:00:00",
                    "2005-02-01T00:00:00",
                    "2005-03-01T00:00:00",
                    "2005-04-01T00:00:00",
                    "2005-05-01T00:00:00",
                    "2005-06-01T00:00:00",
                    "2005-07-01T00:00:00",
                    "2005-08-01T00:00:00",
                    "2005-09-01T00:00:00",
                    "2005-10-01T00:00:00",
                    "2005-11-01T00:00:00",
                    "2005-12-01T00:00:00",
                    "2006-01-01T00:00:00",
                    "2006-02-01T00:00:00",
                    "2006-03-01T00:00:00",
                    "2006-04-01T00:00:00",
                    "2006-05-01T00:00:00",
                    "2006-06-01T00:00:00",
                    "2006-07-01T00:00:00",
                    "2006-08-01T00:00:00",
                    "2006-09-01T00:00:00",
                    "2006-10-01T00:00:00",
                    "2006-11-01T00:00:00",
                    "2006-12-01T00:00:00",
                    "2007-01-01T00:00:00",
                    "2007-02-01T00:00:00",
                    "2007-03-01T00:00:00",
                    "2007-04-01T00:00:00",
                    "2007-05-01T00:00:00",
                    "2007-06-01T00:00:00",
                    "2007-07-01T00:00:00",
                    "2007-08-01T00:00:00",
                    "2007-09-01T00:00:00",
                    "2007-10-01T00:00:00",
                    "2007-11-01T00:00:00",
                    "2007-12-01T00:00:00",
                    "2008-01-01T00:00:00",
                    "2008-02-01T00:00:00",
                    "2008-03-01T00:00:00",
                    "2008-04-01T00:00:00",
                    "2008-05-01T00:00:00",
                    "2008-06-01T00:00:00",
                    "2008-07-01T00:00:00",
                    "2008-08-01T00:00:00",
                    "2008-09-01T00:00:00",
                    "2008-10-01T00:00:00",
                    "2008-11-01T00:00:00",
                    "2008-12-01T00:00:00",
                    "2009-01-01T00:00:00",
                    "2009-02-01T00:00:00",
                    "2009-03-01T00:00:00",
                    "2009-04-01T00:00:00",
                    "2009-05-01T00:00:00",
                    "2009-06-01T00:00:00",
                    "2009-07-01T00:00:00",
                    "2009-08-01T00:00:00",
                    "2009-09-01T00:00:00",
                    "2009-10-01T00:00:00",
                    "2009-11-01T00:00:00",
                    "2009-12-01T00:00:00",
                    "2010-01-01T00:00:00",
                    "2010-02-01T00:00:00",
                    "2010-03-01T00:00:00",
                    "2010-04-01T00:00:00",
                    "2010-05-01T00:00:00",
                    "2010-06-01T00:00:00",
                    "2010-07-01T00:00:00",
                    "2010-08-01T00:00:00",
                    "2010-09-01T00:00:00",
                    "2010-10-01T00:00:00",
                    "2010-11-01T00:00:00",
                    "2010-12-01T00:00:00",
                    "2011-01-01T00:00:00",
                    "2011-02-01T00:00:00",
                    "2011-03-01T00:00:00",
                    "2011-04-01T00:00:00",
                    "2011-05-01T00:00:00",
                    "2011-06-01T00:00:00",
                    "2011-07-01T00:00:00",
                    "2011-08-01T00:00:00",
                    "2011-09-01T00:00:00",
                    "2011-10-01T00:00:00",
                    "2011-11-01T00:00:00",
                    "2011-12-01T00:00:00",
                    "2012-01-01T00:00:00",
                    "2012-02-01T00:00:00",
                    "2012-03-01T00:00:00",
                    "2012-04-01T00:00:00",
                    "2012-05-01T00:00:00",
                    "2012-06-01T00:00:00",
                    "2012-07-01T00:00:00",
                    "2012-08-01T00:00:00",
                    "2012-09-01T00:00:00",
                    "2012-10-01T00:00:00",
                    "2012-11-01T00:00:00",
                    "2012-12-01T00:00:00",
                    "2013-01-01T00:00:00",
                    "2013-02-01T00:00:00",
                    "2013-03-01T00:00:00",
                    "2013-04-01T00:00:00",
                    "2013-05-01T00:00:00",
                    "2013-06-01T00:00:00",
                    "2013-07-01T00:00:00",
                    "2013-08-01T00:00:00",
                    "2013-09-01T00:00:00",
                    "2013-10-01T00:00:00",
                    "2013-11-01T00:00:00",
                    "2013-12-01T00:00:00",
                    "2014-01-01T00:00:00",
                    "2014-02-01T00:00:00",
                    "2014-03-01T00:00:00",
                    "2014-04-01T00:00:00",
                    "2014-05-01T00:00:00",
                    "2014-06-01T00:00:00",
                    "2014-07-01T00:00:00",
                    "2014-08-01T00:00:00",
                    "2014-09-01T00:00:00",
                    "2014-10-01T00:00:00",
                    "2014-11-01T00:00:00",
                    "2014-12-01T00:00:00",
                    "2015-01-01T00:00:00",
                    "2015-02-01T00:00:00",
                    "2015-03-01T00:00:00",
                    "2015-04-01T00:00:00",
                    "2015-05-01T00:00:00",
                    "2015-06-01T00:00:00",
                    "2015-07-01T00:00:00",
                    "2015-08-01T00:00:00",
                    "2015-09-01T00:00:00",
                    "2015-10-01T00:00:00",
                    "2015-11-01T00:00:00",
                    "2015-12-01T00:00:00",
                    "2016-01-01T00:00:00",
                    "2016-02-01T00:00:00",
                    "2016-03-01T00:00:00",
                    "2016-04-01T00:00:00",
                    "2016-05-01T00:00:00",
                    "2016-06-01T00:00:00",
                    "2016-07-01T00:00:00",
                    "2016-08-01T00:00:00",
                    "2016-09-01T00:00:00",
                    "2016-10-01T00:00:00",
                    "2016-11-01T00:00:00",
                    "2016-12-01T00:00:00",
                    "2017-01-01T00:00:00",
                    "2017-02-01T00:00:00",
                    "2017-03-01T00:00:00",
                    "2017-04-01T00:00:00",
                    "2017-05-01T00:00:00",
                    "2017-06-01T00:00:00",
                    "2017-07-01T00:00:00",
                    "2017-08-01T00:00:00",
                    "2017-09-01T00:00:00",
                    "2017-10-01T00:00:00",
                    "2017-11-01T00:00:00",
                    "2017-12-01T00:00:00",
                    "2018-01-01T00:00:00",
                    "2018-02-01T00:00:00",
                    "2018-03-01T00:00:00",
                    "2018-04-01T00:00:00",
                    "2018-05-01T00:00:00",
                    "2018-06-01T00:00:00",
                    "2018-07-01T00:00:00",
                    "2018-08-01T00:00:00",
                    "2018-09-01T00:00:00",
                    "2018-10-01T00:00:00",
                    "2018-11-01T00:00:00",
                    "2018-12-01T00:00:00",
                    "2019-01-01T00:00:00",
                    "2019-02-01T00:00:00",
                    "2019-03-01T00:00:00",
                    "2019-04-01T00:00:00",
                    "2019-05-01T00:00:00",
                    "2019-06-01T00:00:00",
                    "2019-07-01T00:00:00",
                    "2019-08-01T00:00:00",
                    "2019-09-01T00:00:00",
                    "2019-10-01T00:00:00",
                    "2019-11-01T00:00:00",
                    "2019-12-01T00:00:00",
                    "2020-01-01T00:00:00",
                    "2020-02-01T00:00:00",
                    "2020-03-01T00:00:00",
                    "2020-04-01T00:00:00",
                    "2020-05-01T00:00:00",
                    "2020-06-01T00:00:00",
                    "2020-07-01T00:00:00",
                    "2020-08-01T00:00:00",
                    "2020-09-01T00:00:00",
                    "2020-10-01T00:00:00",
                    "2020-11-01T00:00:00",
                    "2020-12-01T00:00:00"
                  ],
                  "y": [
                    0,
                    0.2225519287833766,
                    0.37009622501851247,
                    0.2949852507374784,
                    0.14705882352941124,
                    0.2936857562408246,
                    0.2928257686676483,
                    0.14598540145984717,
                    0.4373177842565745,
                    0.2902757619738683,
                    0.07235890014474222,
                    0.2169197396963085,
                    0.3607503607503615,
                    0.21567217828901697,
                    0.21520803443326741,
                    0.28632784538296097,
                    0.2855103497501732,
                    0.2135231316725994,
                    0.21306818181816567,
                    0.425230333097093,
                    0.2822865208186309,
                    0.14074595355384467,
                    0.35137034434293835,
                    0.21008403361342243,
                    0.13976240391335715,
                    0.34891835310537633,
                    0.2781641168289051,
                    0.06934812760057696,
                    0.1386001386001201,
                    0.20761245674740803,
                    0.13812154696131174,
                    0.4137931034482678,
                    0.27472527472527375,
                    0.205479452054802,
                    0,
                    0.2734107997265811,
                    0.27266530334015826,
                    0.06798096532969478,
                    0.20380434782609758,
                    0.2711864406779618,
                    0.33806626098715764,
                    0.40431266846361336,
                    0.2013422818792021,
                    0.06697923643670389,
                    0.2677376171352108,
                    0.20026702269690944,
                    0.26648900732844094,
                    0.2657807308970028,
                    0.1988071570576455,
                    0.3968253968254176,
                    0.19762845849802257,
                    0.19723865877712132,
                    0.1312335958005173,
                    0.1965923984272644,
                    0.1308044473512071,
                    0.2612671456564408,
                    0.13029315960910726,
                    0.13012361743658385,
                    0.5198180636777128,
                    0.19392372333548735,
                    0.3225806451612856,
                    0.38585209003214604,
                    0.19218449711724261,
                    0.19181585677747748,
                    0.19144862795150708,
                    0.1273885350318471,
                    0.31806615776082126,
                    0.3170577045022105,
                    0.3160556257901348,
                    0.2520478890989386,
                    0.18856065367693908,
                    0.18820577164364583,
                    0.06261740763933155,
                    0.06257822277846437,
                    0,
                    0.18761726078797558,
                    0.12484394506866447,
                    0.24937655860348684,
                    0.24875621890545485,
                    0.18610421836229296,
                    0.12383900928791824,
                    0.06184291898578831,
                    0.12360939431395046,
                    0,
                    0,
                    0.12345679012344402,
                    0.2466091245376223,
                    0.12300123001232066,
                    0.24570024570023108,
                    0.1225490196078427,
                    0.0611995104039087,
                    0.24464831804280607,
                    0.12202562538132788,
                    0.1828153564899626,
                    0.18248175182480342,
                    0,
                    0.06071645415908211,
                    0.6674757281553312,
                    0.06027727546713546,
                    0,
                    0.42168674698794817,
                    0.23995200959807672,
                    0.418910831837227,
                    0.17878426698449967,
                    0.17846519928614857,
                    0.23752969121140222,
                    0.2962085308056972,
                    0.41346721795627595,
                    0.588235294117645,
                    -0.05847953216373547,
                    0.17554125219425565,
                    0.5841121495327117,
                    0.29036004645761615,
                    0,
                    0.5211349160393786,
                    0.1728110599078514,
                    0.17251293847038163,
                    0.22962112514350874,
                    0.572737686139746,
                    0.2277904328018332,
                    0.05681818181817455,
                    0.17035775127769437,
                    0.5102040816326481,
                    0.2256063169768563,
                    -0.16882386043892694,
                    0,
                    0.3945885005636862,
                    -0.28074115665356336,
                    -0.05630630630630851,
                    -0.05633802816901179,
                    0.16910935738443378,
                    0.16882386043894915,
                    0.2808988764045006,
                    0.4481792717086819,
                    0.1115448968209698,
                    0.055710306406675514,
                    0.22271714922048602,
                    0.2777777777777768,
                    0.16620498614958734,
                    0.22123893805308104,
                    0.16556291390728006,
                    0.16528925619836432,
                    0.44004400440043057,
                    0.5476451259583737,
                    0.16339869281045694,
                    -0.38064165307233333,
                    -0.16375545851528006,
                    0.10934937124111865,
                    0.3276897870016393,
                    0.4354926510615087,
                    0.3252032520325132,
                    -0.10804970286331095,
                    0.05408328826392861,
                    0.2702702702702675,
                    0.43126684636118906,
                    0.21470746108425143,
                    0.2142474558114671,
                    0.16034206306787535,
                    0.4268943436499306,
                    0.37194473963868546,
                    0.10587612493382359,
                    0.052882072977267214,
                    0.3171247357294016,
                    0.5268703898840821,
                    0.4716981132075304,
                    0,
                    -0.052164840897228615,
                    0.41753653444676075,
                    0.36382536382535413,
                    0.31071983428274663,
                    -0.05162622612286949,
                    0.05165289256197081,
                    0.6195147134744561,
                    0.6157003591585442,
                    1.37684854665987,
                    0.15090543259557165,
                    -0.5022601707684538,
                    0,
                    0.6057546693589266,
                    0.050175614651282174,
                    0.15045135406217547,
                    0.5007511266900355,
                    0.2989536621823774,
                    0.24838549428713996,
                    0.5450941526263575,
                    0.44356826022671214,
                    -0.4906771344455385,
                    -0.4437869822485285,
                    0.04952947003467045,
                    0.544554455445545,
                    0.1659281142294633,
                    0.3878350545869269,
                    0.5200121434097538,
                    0.3000662483924943,
                    0.41329940166290324,
                    0.23167517109623503,
                    0.17805958481715844,
                    0.030828070885302594,
                    0.42375533907650365,
                    0.3083237831280172,
                    0.7858884267890387,
                    0.2898014551732553,
                    0.3447705076970342,
                    0.24178268779397882,
                    0.3578027806118822,
                    0.2314381020201539,
                    0.5917491656617146,
                    1.04782350098509,
                    0.7141444751521009,
                    -0.14884757278006422,
                    0.08550916822900323,
                    -0.8598436564828615,
                    -1.7705477084725474,
                    -0.8233522399403226,
                    0.2530771341261451,
                    0.3642660652187324,
                    -0.0987282856538485,
                    0.10070825195886979,
                    0.14714939189219844,
                    0.8299612246622345,
                    -0.029796545463012247,
                    0.33484533777929926,
                    0.19308872334005134,
                    0.3001931798703783,
                    0.3348590589767664,
                    0.052017639964274665,
                    0.06487322116246474,
                    -0.09517766497462166,
                    0.03313681361922782,
                    0.023004053314190642,
                    -0.05197720362644098,
                    -0.041879515854381655,
                    0.18692535416828804,
                    0.14613634796996067,
                    0.1615249422961318,
                    0.348184629481163,
                    0.25338416234848005,
                    0.4016576346828282,
                    0.3243042200370194,
                    0.321447463006419,
                    0.51735482068338,
                    0.46940989750992035,
                    0.3181714734507679,
                    0,
                    0.26200368317570444,
                    0.3154462166418792,
                    0.21715478580843772,
                    0.0675207527019328,
                    0.18478500551268873,
                    0.023770849015480877,
                    0.27241960540966836,
                    0.21374461249461518,
                    0.20934703870292282,
                    0.16607883500068255,
                    -0.2068180132381081,
                    -0.08263631713106845,
                    0.02888099280600187,
                    0.580952797585188,
                    0.47712662775423187,
                    0.26967945804385884,
                    -0.16793444944266378,
                    -0.012108160467716456,
                    0.1980788942180789,
                    0.5429926752100966,
                    -0.28119191025899326,
                    -0.2087979266581219,
                    0.041415548950163306,
                    0.23804082055085551,
                    0.19574523005443378,
                    0.23872906826962748,
                    0.037694469193350066,
                    0.053523104853914205,
                    0.18444894273523804,
                    0.2644169158479315,
                    0.24241752904536895,
                    0.11007786202441583,
                    0.204205530106516,
                    0.18641856050976013,
                    0.19030059035471947,
                    0.1321132206079767,
                    0.11254852864928111,
                    -0.01600013473797013,
                    0.007159100480080838,
                    -0.019791390324119806,
                    -0.18826601524659647,
                    -0.30846094445592387,
                    -0.6370316441765556,
                    0.25346436802173855,
                    0.26939517808124425,
                    0.10424788961589382,
                    0.3297745341246827,
                    0.27679208104607333,
                    0.15863197801873063,
                    -0.000420108051790713,
                    -0.22475875193775918,
                    0.09894820166906904,
                    0.11946174910508756,
                    -0.10755534268560574,
                    -0.04584435630738959,
                    -0.13296753235823022,
                    0.31347962382444194,
                    0.38306451612901693,
                    0.23640958693178504,
                    0.2775957287827202,
                    -0.05037007434789409,
                    0.18492217858316895,
                    0.26232097944252075,
                    0.23426874979268764,
                    0.11789477167711837,
                    0.2524522158776188,
                    0.4043076694815628,
                    0.15926573570097524,
                    -0.04672016261895173,
                    0.12341528217407749,
                    -0.07739779600562935,
                    0.0651628661825221,
                    0.03276499715354486,
                    0.38486261632881824,
                    0.5106389920997767,
                    0.07750522450138408,
                    0.2668007428251684,
                    0.21068892447551058,
                    0.42533443635115464,
                    0.26922876006090224,
                    0.0192362410782021,
                    0.2604406656061986,
                    0.2257949781598212,
                    0.09011451720948305,
                    0.07808204989283585,
                    0.17873207703393845,
                    0.2062281702117419,
                    0.2339580144498754,
                    -0.07041919199911595,
                    0.06848935445813442,
                    -0.08149798035343991,
                    0.3001255142321968,
                    0.37817929172307974,
                    0.3759679404743643,
                    0.02468332856644384,
                    -0.03251128102280676,
                    0.23078761661827762,
                    0.09147700174354512,
                    0.1538846099767177,
                    0.2827282299262768,
                    0.281542260504386,
                    0.29122185210892493,
                    0.19216641534238743,
                    0.04746707213065804,
                    -0.4528447444551498,
                    -0.7920147553434065,
                    -0.08983252093487382,
                    0.4847499237691677,
                    0.5096443382793581,
                    0.3731343283582156,
                    0.2626139536318739,
                    0.1238475828567287,
                    0.2274132890799363,
                    0.4346309661148906
                  ],
                  "yaxis": "y2"
                }
              ],
              "layout": {
                "template": {
                  "data": {
                    "bar": [
                      {
                        "error_x": {
                          "color": "#2a3f5f"
                        },
                        "error_y": {
                          "color": "#2a3f5f"
                        },
                        "marker": {
                          "line": {
                            "color": "#E5ECF6",
                            "width": 0.5
                          },
                          "pattern": {
                            "fillmode": "overlay",
                            "size": 10,
                            "solidity": 0.2
                          }
                        },
                        "type": "bar"
                      }
                    ],
                    "barpolar": [
                      {
                        "marker": {
                          "line": {
                            "color": "#E5ECF6",
                            "width": 0.5
                          },
                          "pattern": {
                            "fillmode": "overlay",
                            "size": 10,
                            "solidity": 0.2
                          }
                        },
                        "type": "barpolar"
                      }
                    ],
                    "carpet": [
                      {
                        "aaxis": {
                          "endlinecolor": "#2a3f5f",
                          "gridcolor": "white",
                          "linecolor": "white",
                          "minorgridcolor": "white",
                          "startlinecolor": "#2a3f5f"
                        },
                        "baxis": {
                          "endlinecolor": "#2a3f5f",
                          "gridcolor": "white",
                          "linecolor": "white",
                          "minorgridcolor": "white",
                          "startlinecolor": "#2a3f5f"
                        },
                        "type": "carpet"
                      }
                    ],
                    "choropleth": [
                      {
                        "colorbar": {
                          "outlinewidth": 0,
                          "ticks": ""
                        },
                        "type": "choropleth"
                      }
                    ],
                    "contour": [
                      {
                        "colorbar": {
                          "outlinewidth": 0,
                          "ticks": ""
                        },
                        "colorscale": [
                          [
                            0,
                            "#0d0887"
                          ],
                          [
                            0.1111111111111111,
                            "#46039f"
                          ],
                          [
                            0.2222222222222222,
                            "#7201a8"
                          ],
                          [
                            0.3333333333333333,
                            "#9c179e"
                          ],
                          [
                            0.4444444444444444,
                            "#bd3786"
                          ],
                          [
                            0.5555555555555556,
                            "#d8576b"
                          ],
                          [
                            0.6666666666666666,
                            "#ed7953"
                          ],
                          [
                            0.7777777777777778,
                            "#fb9f3a"
                          ],
                          [
                            0.8888888888888888,
                            "#fdca26"
                          ],
                          [
                            1,
                            "#f0f921"
                          ]
                        ],
                        "type": "contour"
                      }
                    ],
                    "contourcarpet": [
                      {
                        "colorbar": {
                          "outlinewidth": 0,
                          "ticks": ""
                        },
                        "type": "contourcarpet"
                      }
                    ],
                    "heatmap": [
                      {
                        "colorbar": {
                          "outlinewidth": 0,
                          "ticks": ""
                        },
                        "colorscale": [
                          [
                            0,
                            "#0d0887"
                          ],
                          [
                            0.1111111111111111,
                            "#46039f"
                          ],
                          [
                            0.2222222222222222,
                            "#7201a8"
                          ],
                          [
                            0.3333333333333333,
                            "#9c179e"
                          ],
                          [
                            0.4444444444444444,
                            "#bd3786"
                          ],
                          [
                            0.5555555555555556,
                            "#d8576b"
                          ],
                          [
                            0.6666666666666666,
                            "#ed7953"
                          ],
                          [
                            0.7777777777777778,
                            "#fb9f3a"
                          ],
                          [
                            0.8888888888888888,
                            "#fdca26"
                          ],
                          [
                            1,
                            "#f0f921"
                          ]
                        ],
                        "type": "heatmap"
                      }
                    ],
                    "heatmapgl": [
                      {
                        "colorbar": {
                          "outlinewidth": 0,
                          "ticks": ""
                        },
                        "colorscale": [
                          [
                            0,
                            "#0d0887"
                          ],
                          [
                            0.1111111111111111,
                            "#46039f"
                          ],
                          [
                            0.2222222222222222,
                            "#7201a8"
                          ],
                          [
                            0.3333333333333333,
                            "#9c179e"
                          ],
                          [
                            0.4444444444444444,
                            "#bd3786"
                          ],
                          [
                            0.5555555555555556,
                            "#d8576b"
                          ],
                          [
                            0.6666666666666666,
                            "#ed7953"
                          ],
                          [
                            0.7777777777777778,
                            "#fb9f3a"
                          ],
                          [
                            0.8888888888888888,
                            "#fdca26"
                          ],
                          [
                            1,
                            "#f0f921"
                          ]
                        ],
                        "type": "heatmapgl"
                      }
                    ],
                    "histogram": [
                      {
                        "marker": {
                          "pattern": {
                            "fillmode": "overlay",
                            "size": 10,
                            "solidity": 0.2
                          }
                        },
                        "type": "histogram"
                      }
                    ],
                    "histogram2d": [
                      {
                        "colorbar": {
                          "outlinewidth": 0,
                          "ticks": ""
                        },
                        "colorscale": [
                          [
                            0,
                            "#0d0887"
                          ],
                          [
                            0.1111111111111111,
                            "#46039f"
                          ],
                          [
                            0.2222222222222222,
                            "#7201a8"
                          ],
                          [
                            0.3333333333333333,
                            "#9c179e"
                          ],
                          [
                            0.4444444444444444,
                            "#bd3786"
                          ],
                          [
                            0.5555555555555556,
                            "#d8576b"
                          ],
                          [
                            0.6666666666666666,
                            "#ed7953"
                          ],
                          [
                            0.7777777777777778,
                            "#fb9f3a"
                          ],
                          [
                            0.8888888888888888,
                            "#fdca26"
                          ],
                          [
                            1,
                            "#f0f921"
                          ]
                        ],
                        "type": "histogram2d"
                      }
                    ],
                    "histogram2dcontour": [
                      {
                        "colorbar": {
                          "outlinewidth": 0,
                          "ticks": ""
                        },
                        "colorscale": [
                          [
                            0,
                            "#0d0887"
                          ],
                          [
                            0.1111111111111111,
                            "#46039f"
                          ],
                          [
                            0.2222222222222222,
                            "#7201a8"
                          ],
                          [
                            0.3333333333333333,
                            "#9c179e"
                          ],
                          [
                            0.4444444444444444,
                            "#bd3786"
                          ],
                          [
                            0.5555555555555556,
                            "#d8576b"
                          ],
                          [
                            0.6666666666666666,
                            "#ed7953"
                          ],
                          [
                            0.7777777777777778,
                            "#fb9f3a"
                          ],
                          [
                            0.8888888888888888,
                            "#fdca26"
                          ],
                          [
                            1,
                            "#f0f921"
                          ]
                        ],
                        "type": "histogram2dcontour"
                      }
                    ],
                    "mesh3d": [
                      {
                        "colorbar": {
                          "outlinewidth": 0,
                          "ticks": ""
                        },
                        "type": "mesh3d"
                      }
                    ],
                    "parcoords": [
                      {
                        "line": {
                          "colorbar": {
                            "outlinewidth": 0,
                            "ticks": ""
                          }
                        },
                        "type": "parcoords"
                      }
                    ],
                    "pie": [
                      {
                        "automargin": true,
                        "type": "pie"
                      }
                    ],
                    "scatter": [
                      {
                        "fillpattern": {
                          "fillmode": "overlay",
                          "size": 10,
                          "solidity": 0.2
                        },
                        "type": "scatter"
                      }
                    ],
                    "scatter3d": [
                      {
                        "line": {
                          "colorbar": {
                            "outlinewidth": 0,
                            "ticks": ""
                          }
                        },
                        "marker": {
                          "colorbar": {
                            "outlinewidth": 0,
                            "ticks": ""
                          }
                        },
                        "type": "scatter3d"
                      }
                    ],
                    "scattercarpet": [
                      {
                        "marker": {
                          "colorbar": {
                            "outlinewidth": 0,
                            "ticks": ""
                          }
                        },
                        "type": "scattercarpet"
                      }
                    ],
                    "scattergeo": [
                      {
                        "marker": {
                          "colorbar": {
                            "outlinewidth": 0,
                            "ticks": ""
                          }
                        },
                        "type": "scattergeo"
                      }
                    ],
                    "scattergl": [
                      {
                        "marker": {
                          "colorbar": {
                            "outlinewidth": 0,
                            "ticks": ""
                          }
                        },
                        "type": "scattergl"
                      }
                    ],
                    "scattermapbox": [
                      {
                        "marker": {
                          "colorbar": {
                            "outlinewidth": 0,
                            "ticks": ""
                          }
                        },
                        "type": "scattermapbox"
                      }
                    ],
                    "scatterpolar": [
                      {
                        "marker": {
                          "colorbar": {
                            "outlinewidth": 0,
                            "ticks": ""
                          }
                        },
                        "type": "scatterpolar"
                      }
                    ],
                    "scatterpolargl": [
                      {
                        "marker": {
                          "colorbar": {
                            "outlinewidth": 0,
                            "ticks": ""
                          }
                        },
                        "type": "scatterpolargl"
                      }
                    ],
                    "scatterternary": [
                      {
                        "marker": {
                          "colorbar": {
                            "outlinewidth": 0,
                            "ticks": ""
                          }
                        },
                        "type": "scatterternary"
                      }
                    ],
                    "surface": [
                      {
                        "colorbar": {
                          "outlinewidth": 0,
                          "ticks": ""
                        },
                        "colorscale": [
                          [
                            0,
                            "#0d0887"
                          ],
                          [
                            0.1111111111111111,
                            "#46039f"
                          ],
                          [
                            0.2222222222222222,
                            "#7201a8"
                          ],
                          [
                            0.3333333333333333,
                            "#9c179e"
                          ],
                          [
                            0.4444444444444444,
                            "#bd3786"
                          ],
                          [
                            0.5555555555555556,
                            "#d8576b"
                          ],
                          [
                            0.6666666666666666,
                            "#ed7953"
                          ],
                          [
                            0.7777777777777778,
                            "#fb9f3a"
                          ],
                          [
                            0.8888888888888888,
                            "#fdca26"
                          ],
                          [
                            1,
                            "#f0f921"
                          ]
                        ],
                        "type": "surface"
                      }
                    ],
                    "table": [
                      {
                        "cells": {
                          "fill": {
                            "color": "#EBF0F8"
                          },
                          "line": {
                            "color": "white"
                          }
                        },
                        "header": {
                          "fill": {
                            "color": "#C8D4E3"
                          },
                          "line": {
                            "color": "white"
                          }
                        },
                        "type": "table"
                      }
                    ]
                  },
                  "layout": {
                    "annotationdefaults": {
                      "arrowcolor": "#2a3f5f",
                      "arrowhead": 0,
                      "arrowwidth": 1
                    },
                    "autotypenumbers": "strict",
                    "coloraxis": {
                      "colorbar": {
                        "outlinewidth": 0,
                        "ticks": ""
                      }
                    },
                    "colorscale": {
                      "diverging": [
                        [
                          0,
                          "#8e0152"
                        ],
                        [
                          0.1,
                          "#c51b7d"
                        ],
                        [
                          0.2,
                          "#de77ae"
                        ],
                        [
                          0.3,
                          "#f1b6da"
                        ],
                        [
                          0.4,
                          "#fde0ef"
                        ],
                        [
                          0.5,
                          "#f7f7f7"
                        ],
                        [
                          0.6,
                          "#e6f5d0"
                        ],
                        [
                          0.7,
                          "#b8e186"
                        ],
                        [
                          0.8,
                          "#7fbc41"
                        ],
                        [
                          0.9,
                          "#4d9221"
                        ],
                        [
                          1,
                          "#276419"
                        ]
                      ],
                      "sequential": [
                        [
                          0,
                          "#0d0887"
                        ],
                        [
                          0.1111111111111111,
                          "#46039f"
                        ],
                        [
                          0.2222222222222222,
                          "#7201a8"
                        ],
                        [
                          0.3333333333333333,
                          "#9c179e"
                        ],
                        [
                          0.4444444444444444,
                          "#bd3786"
                        ],
                        [
                          0.5555555555555556,
                          "#d8576b"
                        ],
                        [
                          0.6666666666666666,
                          "#ed7953"
                        ],
                        [
                          0.7777777777777778,
                          "#fb9f3a"
                        ],
                        [
                          0.8888888888888888,
                          "#fdca26"
                        ],
                        [
                          1,
                          "#f0f921"
                        ]
                      ],
                      "sequentialminus": [
                        [
                          0,
                          "#0d0887"
                        ],
                        [
                          0.1111111111111111,
                          "#46039f"
                        ],
                        [
                          0.2222222222222222,
                          "#7201a8"
                        ],
                        [
                          0.3333333333333333,
                          "#9c179e"
                        ],
                        [
                          0.4444444444444444,
                          "#bd3786"
                        ],
                        [
                          0.5555555555555556,
                          "#d8576b"
                        ],
                        [
                          0.6666666666666666,
                          "#ed7953"
                        ],
                        [
                          0.7777777777777778,
                          "#fb9f3a"
                        ],
                        [
                          0.8888888888888888,
                          "#fdca26"
                        ],
                        [
                          1,
                          "#f0f921"
                        ]
                      ]
                    },
                    "colorway": [
                      "#636efa",
                      "#EF553B",
                      "#00cc96",
                      "#ab63fa",
                      "#FFA15A",
                      "#19d3f3",
                      "#FF6692",
                      "#B6E880",
                      "#FF97FF",
                      "#FECB52"
                    ],
                    "font": {
                      "color": "#2a3f5f"
                    },
                    "geo": {
                      "bgcolor": "white",
                      "lakecolor": "white",
                      "landcolor": "#E5ECF6",
                      "showlakes": true,
                      "showland": true,
                      "subunitcolor": "white"
                    },
                    "hoverlabel": {
                      "align": "left"
                    },
                    "hovermode": "closest",
                    "mapbox": {
                      "style": "light"
                    },
                    "paper_bgcolor": "white",
                    "plot_bgcolor": "#E5ECF6",
                    "polar": {
                      "angularaxis": {
                        "gridcolor": "white",
                        "linecolor": "white",
                        "ticks": ""
                      },
                      "bgcolor": "#E5ECF6",
                      "radialaxis": {
                        "gridcolor": "white",
                        "linecolor": "white",
                        "ticks": ""
                      }
                    },
                    "scene": {
                      "xaxis": {
                        "backgroundcolor": "#E5ECF6",
                        "gridcolor": "white",
                        "gridwidth": 2,
                        "linecolor": "white",
                        "showbackground": true,
                        "ticks": "",
                        "zerolinecolor": "white"
                      },
                      "yaxis": {
                        "backgroundcolor": "#E5ECF6",
                        "gridcolor": "white",
                        "gridwidth": 2,
                        "linecolor": "white",
                        "showbackground": true,
                        "ticks": "",
                        "zerolinecolor": "white"
                      },
                      "zaxis": {
                        "backgroundcolor": "#E5ECF6",
                        "gridcolor": "white",
                        "gridwidth": 2,
                        "linecolor": "white",
                        "showbackground": true,
                        "ticks": "",
                        "zerolinecolor": "white"
                      }
                    },
                    "shapedefaults": {
                      "line": {
                        "color": "#2a3f5f"
                      }
                    },
                    "ternary": {
                      "aaxis": {
                        "gridcolor": "white",
                        "linecolor": "white",
                        "ticks": ""
                      },
                      "baxis": {
                        "gridcolor": "white",
                        "linecolor": "white",
                        "ticks": ""
                      },
                      "bgcolor": "#E5ECF6",
                      "caxis": {
                        "gridcolor": "white",
                        "linecolor": "white",
                        "ticks": ""
                      }
                    },
                    "title": {
                      "x": 0.05
                    },
                    "xaxis": {
                      "automargin": true,
                      "gridcolor": "white",
                      "linecolor": "white",
                      "ticks": "",
                      "title": {
                        "standoff": 15
                      },
                      "zerolinecolor": "white",
                      "zerolinewidth": 2
                    },
                    "yaxis": {
                      "automargin": true,
                      "gridcolor": "white",
                      "linecolor": "white",
                      "ticks": "",
                      "title": {
                        "standoff": 15
                      },
                      "zerolinecolor": "white",
                      "zerolinewidth": 2
                    }
                  }
                },
                "title": {
                  "text": "S&P500 Price and Inflation (1991-2020)"
                },
                "xaxis": {
                  "title": {
                    "text": "Date"
                  }
                },
                "yaxis": {
                  "title": {
                    "text": "S&P500 Price"
                  }
                },
                "yaxis2": {
                  "overlaying": "y",
                  "side": "right",
                  "title": {
                    "text": "Inflation (\\%)"
                  }
                }
              }
            }
          },
          "metadata": {},
          "output_type": "display_data"
        },
        {
          "data": {
            "application/vnd.plotly.v1+json": {
              "config": {
                "plotlyServerURL": "https://plot.ly"
              },
              "data": [
                {
                  "mode": "lines",
                  "name": "S&P500 (2021-2023)",
                  "type": "scatter",
                  "x": [
                    "2021-03-01T00:00:00",
                    "2021-04-01T00:00:00",
                    "2021-05-01T00:00:00",
                    "2021-06-01T00:00:00",
                    "2021-07-01T00:00:00",
                    "2021-08-01T00:00:00",
                    "2021-09-01T00:00:00",
                    "2021-10-01T00:00:00",
                    "2021-11-01T00:00:00",
                    "2021-12-01T00:00:00",
                    "2022-01-01T00:00:00",
                    "2022-02-01T00:00:00",
                    "2022-03-01T00:00:00",
                    "2022-04-01T00:00:00",
                    "2022-05-01T00:00:00",
                    "2022-06-01T00:00:00",
                    "2022-07-01T00:00:00",
                    "2022-08-01T00:00:00",
                    "2022-09-01T00:00:00",
                    "2022-10-01T00:00:00",
                    "2022-11-01T00:00:00",
                    "2022-12-01T00:00:00",
                    "2023-01-01T00:00:00",
                    "2023-02-01T00:00:00",
                    "2023-03-01T00:00:00",
                    "2023-04-01T00:00:00",
                    "2023-05-01T00:00:00",
                    "2023-06-01T00:00:00",
                    "2023-07-01T00:00:00",
                    "2023-08-01T00:00:00",
                    "2023-09-01T00:00:00",
                    "2023-10-01T00:00:00",
                    "2023-11-01T00:00:00",
                    "2023-12-01T00:00:00"
                  ],
                  "y": [
                    3972.889892578125,
                    4181.169921875,
                    4204.10986328125,
                    4297.5,
                    4395.259765625,
                    4522.68017578125,
                    4307.5400390625,
                    4605.3798828125,
                    4567,
                    4766.18017578125,
                    4515.5498046875,
                    4373.93994140625,
                    4530.41015625,
                    4131.93017578125,
                    4132.14990234375,
                    3785.3798828125,
                    4130.2900390625,
                    3955,
                    3585.6201171875,
                    3871.97998046875,
                    4080.110107421875,
                    3839.5,
                    4076.60009765625,
                    3970.14990234375,
                    4109.31005859375,
                    4169.47998046875,
                    4179.830078125,
                    4450.3798828125,
                    4588.9599609375,
                    4507.66015625,
                    4288.0498046875,
                    4193.7998046875,
                    4567.7998046875,
                    4769.830078125
                  ]
                },
                {
                  "mode": "lines",
                  "name": "Inflation (2021-2023)",
                  "type": "scatter",
                  "x": [
                    "2021-03-01T00:00:00",
                    "2021-04-01T00:00:00",
                    "2021-05-01T00:00:00",
                    "2021-06-01T00:00:00",
                    "2021-07-01T00:00:00",
                    "2021-08-01T00:00:00",
                    "2021-09-01T00:00:00",
                    "2021-10-01T00:00:00",
                    "2021-11-01T00:00:00",
                    "2021-12-01T00:00:00",
                    "2022-01-01T00:00:00",
                    "2022-02-01T00:00:00",
                    "2022-03-01T00:00:00",
                    "2022-04-01T00:00:00",
                    "2022-05-01T00:00:00",
                    "2022-06-01T00:00:00",
                    "2022-07-01T00:00:00",
                    "2022-08-01T00:00:00",
                    "2022-09-01T00:00:00",
                    "2022-10-01T00:00:00",
                    "2022-11-01T00:00:00",
                    "2022-12-01T00:00:00",
                    "2023-01-01T00:00:00",
                    "2023-02-01T00:00:00",
                    "2023-03-01T00:00:00",
                    "2023-04-01T00:00:00",
                    "2023-05-01T00:00:00",
                    "2023-06-01T00:00:00",
                    "2023-07-01T00:00:00",
                    "2023-08-01T00:00:00",
                    "2023-09-01T00:00:00",
                    "2023-10-01T00:00:00",
                    "2023-11-01T00:00:00",
                    "2023-12-01T00:00:00"
                  ],
                  "y": [
                    0.4833575517978028,
                    0.6713309948762847,
                    0.6672292545710334,
                    0.8591526206762845,
                    0.46359572974770114,
                    0.28937547110843287,
                    0.4362937760309826,
                    0.9439954442911347,
                    0.830295666261649,
                    0.7108426821220482,
                    0.6182204083958309,
                    0.7018425579205845,
                    1.0340040418240992,
                    0.3878706077567129,
                    0.9415001628653163,
                    1.2952327333770608,
                    -0.04473484437697017,
                    0.07526954634839989,
                    0.4265454225137466,
                    0.5256037865063456,
                    0.24464811278648302,
                    0.03347750980888797,
                    0.5515247249069821,
                    0.33948398434380245,
                    0.05539412755906081,
                    0.4027940313549472,
                    0.15122598709624846,
                    0.2581466193672721,
                    0.16968158395787025,
                    0.49997537875678955,
                    0.4037394900339164,
                    0.09076890042749586,
                    0.14106802143973862,
                    0.21033019893732519
                  ],
                  "yaxis": "y2"
                }
              ],
              "layout": {
                "template": {
                  "data": {
                    "bar": [
                      {
                        "error_x": {
                          "color": "#2a3f5f"
                        },
                        "error_y": {
                          "color": "#2a3f5f"
                        },
                        "marker": {
                          "line": {
                            "color": "#E5ECF6",
                            "width": 0.5
                          },
                          "pattern": {
                            "fillmode": "overlay",
                            "size": 10,
                            "solidity": 0.2
                          }
                        },
                        "type": "bar"
                      }
                    ],
                    "barpolar": [
                      {
                        "marker": {
                          "line": {
                            "color": "#E5ECF6",
                            "width": 0.5
                          },
                          "pattern": {
                            "fillmode": "overlay",
                            "size": 10,
                            "solidity": 0.2
                          }
                        },
                        "type": "barpolar"
                      }
                    ],
                    "carpet": [
                      {
                        "aaxis": {
                          "endlinecolor": "#2a3f5f",
                          "gridcolor": "white",
                          "linecolor": "white",
                          "minorgridcolor": "white",
                          "startlinecolor": "#2a3f5f"
                        },
                        "baxis": {
                          "endlinecolor": "#2a3f5f",
                          "gridcolor": "white",
                          "linecolor": "white",
                          "minorgridcolor": "white",
                          "startlinecolor": "#2a3f5f"
                        },
                        "type": "carpet"
                      }
                    ],
                    "choropleth": [
                      {
                        "colorbar": {
                          "outlinewidth": 0,
                          "ticks": ""
                        },
                        "type": "choropleth"
                      }
                    ],
                    "contour": [
                      {
                        "colorbar": {
                          "outlinewidth": 0,
                          "ticks": ""
                        },
                        "colorscale": [
                          [
                            0,
                            "#0d0887"
                          ],
                          [
                            0.1111111111111111,
                            "#46039f"
                          ],
                          [
                            0.2222222222222222,
                            "#7201a8"
                          ],
                          [
                            0.3333333333333333,
                            "#9c179e"
                          ],
                          [
                            0.4444444444444444,
                            "#bd3786"
                          ],
                          [
                            0.5555555555555556,
                            "#d8576b"
                          ],
                          [
                            0.6666666666666666,
                            "#ed7953"
                          ],
                          [
                            0.7777777777777778,
                            "#fb9f3a"
                          ],
                          [
                            0.8888888888888888,
                            "#fdca26"
                          ],
                          [
                            1,
                            "#f0f921"
                          ]
                        ],
                        "type": "contour"
                      }
                    ],
                    "contourcarpet": [
                      {
                        "colorbar": {
                          "outlinewidth": 0,
                          "ticks": ""
                        },
                        "type": "contourcarpet"
                      }
                    ],
                    "heatmap": [
                      {
                        "colorbar": {
                          "outlinewidth": 0,
                          "ticks": ""
                        },
                        "colorscale": [
                          [
                            0,
                            "#0d0887"
                          ],
                          [
                            0.1111111111111111,
                            "#46039f"
                          ],
                          [
                            0.2222222222222222,
                            "#7201a8"
                          ],
                          [
                            0.3333333333333333,
                            "#9c179e"
                          ],
                          [
                            0.4444444444444444,
                            "#bd3786"
                          ],
                          [
                            0.5555555555555556,
                            "#d8576b"
                          ],
                          [
                            0.6666666666666666,
                            "#ed7953"
                          ],
                          [
                            0.7777777777777778,
                            "#fb9f3a"
                          ],
                          [
                            0.8888888888888888,
                            "#fdca26"
                          ],
                          [
                            1,
                            "#f0f921"
                          ]
                        ],
                        "type": "heatmap"
                      }
                    ],
                    "heatmapgl": [
                      {
                        "colorbar": {
                          "outlinewidth": 0,
                          "ticks": ""
                        },
                        "colorscale": [
                          [
                            0,
                            "#0d0887"
                          ],
                          [
                            0.1111111111111111,
                            "#46039f"
                          ],
                          [
                            0.2222222222222222,
                            "#7201a8"
                          ],
                          [
                            0.3333333333333333,
                            "#9c179e"
                          ],
                          [
                            0.4444444444444444,
                            "#bd3786"
                          ],
                          [
                            0.5555555555555556,
                            "#d8576b"
                          ],
                          [
                            0.6666666666666666,
                            "#ed7953"
                          ],
                          [
                            0.7777777777777778,
                            "#fb9f3a"
                          ],
                          [
                            0.8888888888888888,
                            "#fdca26"
                          ],
                          [
                            1,
                            "#f0f921"
                          ]
                        ],
                        "type": "heatmapgl"
                      }
                    ],
                    "histogram": [
                      {
                        "marker": {
                          "pattern": {
                            "fillmode": "overlay",
                            "size": 10,
                            "solidity": 0.2
                          }
                        },
                        "type": "histogram"
                      }
                    ],
                    "histogram2d": [
                      {
                        "colorbar": {
                          "outlinewidth": 0,
                          "ticks": ""
                        },
                        "colorscale": [
                          [
                            0,
                            "#0d0887"
                          ],
                          [
                            0.1111111111111111,
                            "#46039f"
                          ],
                          [
                            0.2222222222222222,
                            "#7201a8"
                          ],
                          [
                            0.3333333333333333,
                            "#9c179e"
                          ],
                          [
                            0.4444444444444444,
                            "#bd3786"
                          ],
                          [
                            0.5555555555555556,
                            "#d8576b"
                          ],
                          [
                            0.6666666666666666,
                            "#ed7953"
                          ],
                          [
                            0.7777777777777778,
                            "#fb9f3a"
                          ],
                          [
                            0.8888888888888888,
                            "#fdca26"
                          ],
                          [
                            1,
                            "#f0f921"
                          ]
                        ],
                        "type": "histogram2d"
                      }
                    ],
                    "histogram2dcontour": [
                      {
                        "colorbar": {
                          "outlinewidth": 0,
                          "ticks": ""
                        },
                        "colorscale": [
                          [
                            0,
                            "#0d0887"
                          ],
                          [
                            0.1111111111111111,
                            "#46039f"
                          ],
                          [
                            0.2222222222222222,
                            "#7201a8"
                          ],
                          [
                            0.3333333333333333,
                            "#9c179e"
                          ],
                          [
                            0.4444444444444444,
                            "#bd3786"
                          ],
                          [
                            0.5555555555555556,
                            "#d8576b"
                          ],
                          [
                            0.6666666666666666,
                            "#ed7953"
                          ],
                          [
                            0.7777777777777778,
                            "#fb9f3a"
                          ],
                          [
                            0.8888888888888888,
                            "#fdca26"
                          ],
                          [
                            1,
                            "#f0f921"
                          ]
                        ],
                        "type": "histogram2dcontour"
                      }
                    ],
                    "mesh3d": [
                      {
                        "colorbar": {
                          "outlinewidth": 0,
                          "ticks": ""
                        },
                        "type": "mesh3d"
                      }
                    ],
                    "parcoords": [
                      {
                        "line": {
                          "colorbar": {
                            "outlinewidth": 0,
                            "ticks": ""
                          }
                        },
                        "type": "parcoords"
                      }
                    ],
                    "pie": [
                      {
                        "automargin": true,
                        "type": "pie"
                      }
                    ],
                    "scatter": [
                      {
                        "fillpattern": {
                          "fillmode": "overlay",
                          "size": 10,
                          "solidity": 0.2
                        },
                        "type": "scatter"
                      }
                    ],
                    "scatter3d": [
                      {
                        "line": {
                          "colorbar": {
                            "outlinewidth": 0,
                            "ticks": ""
                          }
                        },
                        "marker": {
                          "colorbar": {
                            "outlinewidth": 0,
                            "ticks": ""
                          }
                        },
                        "type": "scatter3d"
                      }
                    ],
                    "scattercarpet": [
                      {
                        "marker": {
                          "colorbar": {
                            "outlinewidth": 0,
                            "ticks": ""
                          }
                        },
                        "type": "scattercarpet"
                      }
                    ],
                    "scattergeo": [
                      {
                        "marker": {
                          "colorbar": {
                            "outlinewidth": 0,
                            "ticks": ""
                          }
                        },
                        "type": "scattergeo"
                      }
                    ],
                    "scattergl": [
                      {
                        "marker": {
                          "colorbar": {
                            "outlinewidth": 0,
                            "ticks": ""
                          }
                        },
                        "type": "scattergl"
                      }
                    ],
                    "scattermapbox": [
                      {
                        "marker": {
                          "colorbar": {
                            "outlinewidth": 0,
                            "ticks": ""
                          }
                        },
                        "type": "scattermapbox"
                      }
                    ],
                    "scatterpolar": [
                      {
                        "marker": {
                          "colorbar": {
                            "outlinewidth": 0,
                            "ticks": ""
                          }
                        },
                        "type": "scatterpolar"
                      }
                    ],
                    "scatterpolargl": [
                      {
                        "marker": {
                          "colorbar": {
                            "outlinewidth": 0,
                            "ticks": ""
                          }
                        },
                        "type": "scatterpolargl"
                      }
                    ],
                    "scatterternary": [
                      {
                        "marker": {
                          "colorbar": {
                            "outlinewidth": 0,
                            "ticks": ""
                          }
                        },
                        "type": "scatterternary"
                      }
                    ],
                    "surface": [
                      {
                        "colorbar": {
                          "outlinewidth": 0,
                          "ticks": ""
                        },
                        "colorscale": [
                          [
                            0,
                            "#0d0887"
                          ],
                          [
                            0.1111111111111111,
                            "#46039f"
                          ],
                          [
                            0.2222222222222222,
                            "#7201a8"
                          ],
                          [
                            0.3333333333333333,
                            "#9c179e"
                          ],
                          [
                            0.4444444444444444,
                            "#bd3786"
                          ],
                          [
                            0.5555555555555556,
                            "#d8576b"
                          ],
                          [
                            0.6666666666666666,
                            "#ed7953"
                          ],
                          [
                            0.7777777777777778,
                            "#fb9f3a"
                          ],
                          [
                            0.8888888888888888,
                            "#fdca26"
                          ],
                          [
                            1,
                            "#f0f921"
                          ]
                        ],
                        "type": "surface"
                      }
                    ],
                    "table": [
                      {
                        "cells": {
                          "fill": {
                            "color": "#EBF0F8"
                          },
                          "line": {
                            "color": "white"
                          }
                        },
                        "header": {
                          "fill": {
                            "color": "#C8D4E3"
                          },
                          "line": {
                            "color": "white"
                          }
                        },
                        "type": "table"
                      }
                    ]
                  },
                  "layout": {
                    "annotationdefaults": {
                      "arrowcolor": "#2a3f5f",
                      "arrowhead": 0,
                      "arrowwidth": 1
                    },
                    "autotypenumbers": "strict",
                    "coloraxis": {
                      "colorbar": {
                        "outlinewidth": 0,
                        "ticks": ""
                      }
                    },
                    "colorscale": {
                      "diverging": [
                        [
                          0,
                          "#8e0152"
                        ],
                        [
                          0.1,
                          "#c51b7d"
                        ],
                        [
                          0.2,
                          "#de77ae"
                        ],
                        [
                          0.3,
                          "#f1b6da"
                        ],
                        [
                          0.4,
                          "#fde0ef"
                        ],
                        [
                          0.5,
                          "#f7f7f7"
                        ],
                        [
                          0.6,
                          "#e6f5d0"
                        ],
                        [
                          0.7,
                          "#b8e186"
                        ],
                        [
                          0.8,
                          "#7fbc41"
                        ],
                        [
                          0.9,
                          "#4d9221"
                        ],
                        [
                          1,
                          "#276419"
                        ]
                      ],
                      "sequential": [
                        [
                          0,
                          "#0d0887"
                        ],
                        [
                          0.1111111111111111,
                          "#46039f"
                        ],
                        [
                          0.2222222222222222,
                          "#7201a8"
                        ],
                        [
                          0.3333333333333333,
                          "#9c179e"
                        ],
                        [
                          0.4444444444444444,
                          "#bd3786"
                        ],
                        [
                          0.5555555555555556,
                          "#d8576b"
                        ],
                        [
                          0.6666666666666666,
                          "#ed7953"
                        ],
                        [
                          0.7777777777777778,
                          "#fb9f3a"
                        ],
                        [
                          0.8888888888888888,
                          "#fdca26"
                        ],
                        [
                          1,
                          "#f0f921"
                        ]
                      ],
                      "sequentialminus": [
                        [
                          0,
                          "#0d0887"
                        ],
                        [
                          0.1111111111111111,
                          "#46039f"
                        ],
                        [
                          0.2222222222222222,
                          "#7201a8"
                        ],
                        [
                          0.3333333333333333,
                          "#9c179e"
                        ],
                        [
                          0.4444444444444444,
                          "#bd3786"
                        ],
                        [
                          0.5555555555555556,
                          "#d8576b"
                        ],
                        [
                          0.6666666666666666,
                          "#ed7953"
                        ],
                        [
                          0.7777777777777778,
                          "#fb9f3a"
                        ],
                        [
                          0.8888888888888888,
                          "#fdca26"
                        ],
                        [
                          1,
                          "#f0f921"
                        ]
                      ]
                    },
                    "colorway": [
                      "#636efa",
                      "#EF553B",
                      "#00cc96",
                      "#ab63fa",
                      "#FFA15A",
                      "#19d3f3",
                      "#FF6692",
                      "#B6E880",
                      "#FF97FF",
                      "#FECB52"
                    ],
                    "font": {
                      "color": "#2a3f5f"
                    },
                    "geo": {
                      "bgcolor": "white",
                      "lakecolor": "white",
                      "landcolor": "#E5ECF6",
                      "showlakes": true,
                      "showland": true,
                      "subunitcolor": "white"
                    },
                    "hoverlabel": {
                      "align": "left"
                    },
                    "hovermode": "closest",
                    "mapbox": {
                      "style": "light"
                    },
                    "paper_bgcolor": "white",
                    "plot_bgcolor": "#E5ECF6",
                    "polar": {
                      "angularaxis": {
                        "gridcolor": "white",
                        "linecolor": "white",
                        "ticks": ""
                      },
                      "bgcolor": "#E5ECF6",
                      "radialaxis": {
                        "gridcolor": "white",
                        "linecolor": "white",
                        "ticks": ""
                      }
                    },
                    "scene": {
                      "xaxis": {
                        "backgroundcolor": "#E5ECF6",
                        "gridcolor": "white",
                        "gridwidth": 2,
                        "linecolor": "white",
                        "showbackground": true,
                        "ticks": "",
                        "zerolinecolor": "white"
                      },
                      "yaxis": {
                        "backgroundcolor": "#E5ECF6",
                        "gridcolor": "white",
                        "gridwidth": 2,
                        "linecolor": "white",
                        "showbackground": true,
                        "ticks": "",
                        "zerolinecolor": "white"
                      },
                      "zaxis": {
                        "backgroundcolor": "#E5ECF6",
                        "gridcolor": "white",
                        "gridwidth": 2,
                        "linecolor": "white",
                        "showbackground": true,
                        "ticks": "",
                        "zerolinecolor": "white"
                      }
                    },
                    "shapedefaults": {
                      "line": {
                        "color": "#2a3f5f"
                      }
                    },
                    "ternary": {
                      "aaxis": {
                        "gridcolor": "white",
                        "linecolor": "white",
                        "ticks": ""
                      },
                      "baxis": {
                        "gridcolor": "white",
                        "linecolor": "white",
                        "ticks": ""
                      },
                      "bgcolor": "#E5ECF6",
                      "caxis": {
                        "gridcolor": "white",
                        "linecolor": "white",
                        "ticks": ""
                      }
                    },
                    "title": {
                      "x": 0.05
                    },
                    "xaxis": {
                      "automargin": true,
                      "gridcolor": "white",
                      "linecolor": "white",
                      "ticks": "",
                      "title": {
                        "standoff": 15
                      },
                      "zerolinecolor": "white",
                      "zerolinewidth": 2
                    },
                    "yaxis": {
                      "automargin": true,
                      "gridcolor": "white",
                      "linecolor": "white",
                      "ticks": "",
                      "title": {
                        "standoff": 15
                      },
                      "zerolinecolor": "white",
                      "zerolinewidth": 2
                    }
                  }
                },
                "title": {
                  "text": "S&P500 Price and Inflation (2021-2023)"
                },
                "xaxis": {
                  "title": {
                    "text": "Date"
                  }
                },
                "yaxis": {
                  "title": {
                    "text": "S&P500 Price"
                  }
                },
                "yaxis2": {
                  "overlaying": "y",
                  "side": "right",
                  "title": {
                    "text": "Inflation (\\%)"
                  }
                }
              }
            }
          },
          "metadata": {},
          "output_type": "display_data"
        },
        {
          "ename": "NameError",
          "evalue": "name 'swefi_scores2' is not defined",
          "output_type": "error",
          "traceback": [
            "\u001b[1;31m---------------------------------------------------------------------------\u001b[0m",
            "\u001b[1;31mNameError\u001b[0m                                 Traceback (most recent call last)",
            "Cell \u001b[1;32mIn[8], line 37\u001b[0m\n\u001b[0;32m     25\u001b[0m fig2\u001b[38;5;241m.\u001b[39mshow()\n\u001b[0;32m     27\u001b[0m \u001b[38;5;66;03m# Compare feature importance from SWEFI across the two periods.\u001b[39;00m\n\u001b[0;32m     28\u001b[0m fig3 \u001b[38;5;241m=\u001b[39m go\u001b[38;5;241m.\u001b[39mFigure(data\u001b[38;5;241m=\u001b[39m[\n\u001b[0;32m     29\u001b[0m     go\u001b[38;5;241m.\u001b[39mBar(\n\u001b[0;32m     30\u001b[0m         name\u001b[38;5;241m=\u001b[39m\u001b[38;5;124m\"\u001b[39m\u001b[38;5;124m1991-2020\u001b[39m\u001b[38;5;124m\"\u001b[39m,\n\u001b[0;32m     31\u001b[0m         x\u001b[38;5;241m=\u001b[39mswefi_scores1\u001b[38;5;241m.\u001b[39mindex,\n\u001b[0;32m     32\u001b[0m         y\u001b[38;5;241m=\u001b[39mswefi_scores1[\u001b[38;5;124m'\u001b[39m\u001b[38;5;124mmean(SWEFI)\u001b[39m\u001b[38;5;124m'\u001b[39m],\n\u001b[0;32m     33\u001b[0m         error_y\u001b[38;5;241m=\u001b[39m\u001b[38;5;28mdict\u001b[39m(\u001b[38;5;28mtype\u001b[39m\u001b[38;5;241m=\u001b[39m\u001b[38;5;124m'\u001b[39m\u001b[38;5;124mdata\u001b[39m\u001b[38;5;124m'\u001b[39m, array\u001b[38;5;241m=\u001b[39mswefi_scores1[\u001b[38;5;124m'\u001b[39m\u001b[38;5;124mstd(SWEFI)\u001b[39m\u001b[38;5;124m'\u001b[39m])\n\u001b[0;32m     34\u001b[0m     ),\n\u001b[0;32m     35\u001b[0m     go\u001b[38;5;241m.\u001b[39mBar(\n\u001b[0;32m     36\u001b[0m         name\u001b[38;5;241m=\u001b[39m\u001b[38;5;124m\"\u001b[39m\u001b[38;5;124m2021-2023\u001b[39m\u001b[38;5;124m\"\u001b[39m,\n\u001b[1;32m---> 37\u001b[0m         x\u001b[38;5;241m=\u001b[39m\u001b[43mswefi_scores2\u001b[49m\u001b[38;5;241m.\u001b[39mindex,\n\u001b[0;32m     38\u001b[0m         y\u001b[38;5;241m=\u001b[39mswefi_scores2[\u001b[38;5;124m'\u001b[39m\u001b[38;5;124mmean(SWEFI)\u001b[39m\u001b[38;5;124m'\u001b[39m],\n\u001b[0;32m     39\u001b[0m         error_y\u001b[38;5;241m=\u001b[39m\u001b[38;5;28mdict\u001b[39m(\u001b[38;5;28mtype\u001b[39m\u001b[38;5;241m=\u001b[39m\u001b[38;5;124m'\u001b[39m\u001b[38;5;124mdata\u001b[39m\u001b[38;5;124m'\u001b[39m, array\u001b[38;5;241m=\u001b[39mswefi_scores2[\u001b[38;5;124m'\u001b[39m\u001b[38;5;124mstd(SWEFI)\u001b[39m\u001b[38;5;124m'\u001b[39m])\n\u001b[0;32m     40\u001b[0m     )\n\u001b[0;32m     41\u001b[0m ])\n\u001b[0;32m     42\u001b[0m fig3\u001b[38;5;241m.\u001b[39mupdate_layout(\n\u001b[0;32m     43\u001b[0m     title\u001b[38;5;241m=\u001b[39m\u001b[38;5;124m\"\u001b[39m\u001b[38;5;124mComparison of SWEFI Feature Importance Across Periods\u001b[39m\u001b[38;5;124m\"\u001b[39m,\n\u001b[0;32m     44\u001b[0m     xaxis_title\u001b[38;5;241m=\u001b[39m\u001b[38;5;124m\"\u001b[39m\u001b[38;5;124mFeature\u001b[39m\u001b[38;5;124m\"\u001b[39m,\n\u001b[0;32m     45\u001b[0m     yaxis_title\u001b[38;5;241m=\u001b[39m\u001b[38;5;124m\"\u001b[39m\u001b[38;5;124mMean SWEFI Score\u001b[39m\u001b[38;5;124m\"\u001b[39m,\n\u001b[0;32m     46\u001b[0m     barmode\u001b[38;5;241m=\u001b[39m\u001b[38;5;124m'\u001b[39m\u001b[38;5;124mgroup\u001b[39m\u001b[38;5;124m'\u001b[39m\n\u001b[0;32m     47\u001b[0m )\n\u001b[0;32m     48\u001b[0m fig3\u001b[38;5;241m.\u001b[39mshow()\n",
            "\u001b[1;31mNameError\u001b[0m: name 'swefi_scores2' is not defined"
          ]
        }
      ],
      "source": [
        "# ------------------ Data Visualization ------------------\n",
        "\n",
        "# Figure 1: S&P500 Price and Inflation (1991-2020)\n",
        "fig1 = go.Figure()\n",
        "fig1.add_trace(go.Scatter(x=df1.index, y=df1['SP500'], mode='lines', name='S&P500 (1991-2020)'))\n",
        "fig1.add_trace(go.Scatter(x=df1.index, y=df1['Inflation'], mode='lines', name='Inflation (1991-2020)', yaxis=\"y2\"))\n",
        "fig1.update_layout(\n",
        "    title=\"S&P500 Price and Inflation (1991-2020)\",\n",
        "    xaxis_title=\"Date\",\n",
        "    yaxis=dict(title=\"S&P500 Price\"),\n",
        "    yaxis2=dict(title=\"Inflation (\\%)\", overlaying=\"y\", side=\"right\")\n",
        ")\n",
        "fig1.show()\n",
        "\n",
        "# Figure 2: S&P500 Price and Inflation (2021-2023)\n",
        "fig2 = go.Figure()\n",
        "fig2.add_trace(go.Scatter(x=df2.index, y=df2['SP500'], mode='lines', name='S&P500 (2021-2023)'))\n",
        "fig2.add_trace(go.Scatter(x=df2.index, y=df2['Inflation'], mode='lines', name='Inflation (2021-2023)', yaxis=\"y2\"))\n",
        "fig2.update_layout(\n",
        "    title=\"S&P500 Price and Inflation (2021-2023)\",\n",
        "    xaxis_title=\"Date\",\n",
        "    yaxis=dict(title=\"S&P500 Price\"),\n",
        "    yaxis2=dict(title=\"Inflation (\\%)\", overlaying=\"y\", side=\"right\")\n",
        ")\n",
        "fig2.show()\n",
        "\n",
        "# Figure 3: Comparison of Feature Importance Scores Across Periods.\n",
        "fig3 = go.Figure(data=[\n",
        "    go.Bar(\n",
        "        name=\"1991-2020\",\n",
        "        x=swefi_scores1.index,\n",
        "        y=swefi_scores1['mean(SWEFI)'],\n",
        "        error_y=dict(type='data', array=swefi_scores1['std(SWEFI)'])\n",
        "    ),\n",
        "    go.Bar(\n",
        "        name=\"2021-2023\",\n",
        "        x=swefi_scores2.index,\n",
        "        y=swefi_scores2['mean(SWEFI)'],\n",
        "        error_y=dict(type='data', array=swefi_scores2['std(SWEFI)'])\n",
        "    )\n",
        "])\n",
        "fig3.update_layout(\n",
        "    title=\"Comparison of SWEFI Feature Importance Across Periods\",\n",
        "    xaxis_title=\"Feature\",\n",
        "    yaxis_title=\"Mean SWEFI Score\",\n",
        "    barmode='group'\n",
        ")\n",
        "fig3.show()\n"
      ]
    }
  ],
  "metadata": {
    "colab": {
      "provenance": []
    },
    "kernelspec": {
      "display_name": "risklab",
      "language": "python",
      "name": "python3"
    },
    "language_info": {
      "codemirror_mode": {
        "name": "ipython",
        "version": 3
      },
      "file_extension": ".py",
      "mimetype": "text/x-python",
      "name": "python",
      "nbconvert_exporter": "python",
      "pygments_lexer": "ipython3",
      "version": "3.9.21"
    },
    "widgets": {
      "application/vnd.jupyter.widget-state+json": {
        "002be6c3b45b4e758dfe9e002602825d": {
          "model_module": "@jupyter-widgets/base",
          "model_module_version": "1.2.0",
          "model_name": "LayoutModel",
          "state": {
            "_model_module": "@jupyter-widgets/base",
            "_model_module_version": "1.2.0",
            "_model_name": "LayoutModel",
            "_view_count": null,
            "_view_module": "@jupyter-widgets/base",
            "_view_module_version": "1.2.0",
            "_view_name": "LayoutView",
            "align_content": null,
            "align_items": null,
            "align_self": null,
            "border": null,
            "bottom": null,
            "display": null,
            "flex": null,
            "flex_flow": null,
            "grid_area": null,
            "grid_auto_columns": null,
            "grid_auto_flow": null,
            "grid_auto_rows": null,
            "grid_column": null,
            "grid_gap": null,
            "grid_row": null,
            "grid_template_areas": null,
            "grid_template_columns": null,
            "grid_template_rows": null,
            "height": null,
            "justify_content": null,
            "justify_items": null,
            "left": null,
            "margin": null,
            "max_height": null,
            "max_width": null,
            "min_height": null,
            "min_width": null,
            "object_fit": null,
            "object_position": null,
            "order": null,
            "overflow": null,
            "overflow_x": null,
            "overflow_y": null,
            "padding": null,
            "right": null,
            "top": null,
            "visibility": null,
            "width": null
          }
        },
        "064cc33ab944471cb855b25c94e5e016": {
          "model_module": "@jupyter-widgets/base",
          "model_module_version": "1.2.0",
          "model_name": "LayoutModel",
          "state": {
            "_model_module": "@jupyter-widgets/base",
            "_model_module_version": "1.2.0",
            "_model_name": "LayoutModel",
            "_view_count": null,
            "_view_module": "@jupyter-widgets/base",
            "_view_module_version": "1.2.0",
            "_view_name": "LayoutView",
            "align_content": null,
            "align_items": null,
            "align_self": null,
            "border": null,
            "bottom": null,
            "display": null,
            "flex": null,
            "flex_flow": null,
            "grid_area": null,
            "grid_auto_columns": null,
            "grid_auto_flow": null,
            "grid_auto_rows": null,
            "grid_column": null,
            "grid_gap": null,
            "grid_row": null,
            "grid_template_areas": null,
            "grid_template_columns": null,
            "grid_template_rows": null,
            "height": null,
            "justify_content": null,
            "justify_items": null,
            "left": null,
            "margin": null,
            "max_height": null,
            "max_width": null,
            "min_height": null,
            "min_width": null,
            "object_fit": null,
            "object_position": null,
            "order": null,
            "overflow": null,
            "overflow_x": null,
            "overflow_y": null,
            "padding": null,
            "right": null,
            "top": null,
            "visibility": "hidden",
            "width": null
          }
        },
        "0913c314cc3043f39c861fa8718a6545": {
          "model_module": "@jupyter-widgets/controls",
          "model_module_version": "1.5.0",
          "model_name": "FloatProgressModel",
          "state": {
            "_dom_classes": [],
            "_model_module": "@jupyter-widgets/controls",
            "_model_module_version": "1.5.0",
            "_model_name": "FloatProgressModel",
            "_view_count": null,
            "_view_module": "@jupyter-widgets/controls",
            "_view_module_version": "1.5.0",
            "_view_name": "ProgressView",
            "bar_style": "",
            "description": "",
            "description_tooltip": null,
            "layout": "IPY_MODEL_5cdbfb2f0ff74ea1bf6847d1cb2d8ba4",
            "max": 7,
            "min": 0,
            "orientation": "horizontal",
            "style": "IPY_MODEL_d1df5ab6e3ac4880a7ec33d080010a63",
            "value": 7
          }
        },
        "0afe6a55318e41c8911d00f7599b6478": {
          "model_module": "@jupyter-widgets/base",
          "model_module_version": "1.2.0",
          "model_name": "LayoutModel",
          "state": {
            "_model_module": "@jupyter-widgets/base",
            "_model_module_version": "1.2.0",
            "_model_name": "LayoutModel",
            "_view_count": null,
            "_view_module": "@jupyter-widgets/base",
            "_view_module_version": "1.2.0",
            "_view_name": "LayoutView",
            "align_content": null,
            "align_items": null,
            "align_self": null,
            "border": null,
            "bottom": null,
            "display": null,
            "flex": null,
            "flex_flow": null,
            "grid_area": null,
            "grid_auto_columns": null,
            "grid_auto_flow": null,
            "grid_auto_rows": null,
            "grid_column": null,
            "grid_gap": null,
            "grid_row": null,
            "grid_template_areas": null,
            "grid_template_columns": null,
            "grid_template_rows": null,
            "height": null,
            "justify_content": null,
            "justify_items": null,
            "left": null,
            "margin": null,
            "max_height": null,
            "max_width": null,
            "min_height": null,
            "min_width": null,
            "object_fit": null,
            "object_position": null,
            "order": null,
            "overflow": null,
            "overflow_x": null,
            "overflow_y": null,
            "padding": null,
            "right": null,
            "top": null,
            "visibility": null,
            "width": null
          }
        },
        "0ffcf2c56b074936a38948dc8c66e71e": {
          "model_module": "@jupyter-widgets/base",
          "model_module_version": "1.2.0",
          "model_name": "LayoutModel",
          "state": {
            "_model_module": "@jupyter-widgets/base",
            "_model_module_version": "1.2.0",
            "_model_name": "LayoutModel",
            "_view_count": null,
            "_view_module": "@jupyter-widgets/base",
            "_view_module_version": "1.2.0",
            "_view_name": "LayoutView",
            "align_content": null,
            "align_items": null,
            "align_self": null,
            "border": null,
            "bottom": null,
            "display": null,
            "flex": null,
            "flex_flow": null,
            "grid_area": null,
            "grid_auto_columns": null,
            "grid_auto_flow": null,
            "grid_auto_rows": null,
            "grid_column": null,
            "grid_gap": null,
            "grid_row": null,
            "grid_template_areas": null,
            "grid_template_columns": null,
            "grid_template_rows": null,
            "height": null,
            "justify_content": null,
            "justify_items": null,
            "left": null,
            "margin": null,
            "max_height": null,
            "max_width": null,
            "min_height": null,
            "min_width": null,
            "object_fit": null,
            "object_position": null,
            "order": null,
            "overflow": null,
            "overflow_x": null,
            "overflow_y": null,
            "padding": null,
            "right": null,
            "top": null,
            "visibility": "hidden",
            "width": null
          }
        },
        "10cea19de7884079912b6342e809a40f": {
          "model_module": "@jupyter-widgets/controls",
          "model_module_version": "1.5.0",
          "model_name": "HBoxModel",
          "state": {
            "_dom_classes": [],
            "_model_module": "@jupyter-widgets/controls",
            "_model_module_version": "1.5.0",
            "_model_name": "HBoxModel",
            "_view_count": null,
            "_view_module": "@jupyter-widgets/controls",
            "_view_module_version": "1.5.0",
            "_view_name": "HBoxView",
            "box_style": "",
            "children": [
              "IPY_MODEL_20187e5c1c7c4fc3a0d24f234060d175",
              "IPY_MODEL_2bb9e37767b9449eabd1a0fc3535f95b",
              "IPY_MODEL_ee5df7a7946f407096963c3951bb9ecd"
            ],
            "layout": "IPY_MODEL_27a891a5d11a40e786bba56280e6f23c"
          }
        },
        "136eb9069b294307a1e1da3075e1247c": {
          "model_module": "@jupyter-widgets/base",
          "model_module_version": "1.2.0",
          "model_name": "LayoutModel",
          "state": {
            "_model_module": "@jupyter-widgets/base",
            "_model_module_version": "1.2.0",
            "_model_name": "LayoutModel",
            "_view_count": null,
            "_view_module": "@jupyter-widgets/base",
            "_view_module_version": "1.2.0",
            "_view_name": "LayoutView",
            "align_content": null,
            "align_items": null,
            "align_self": null,
            "border": null,
            "bottom": null,
            "display": null,
            "flex": null,
            "flex_flow": null,
            "grid_area": null,
            "grid_auto_columns": null,
            "grid_auto_flow": null,
            "grid_auto_rows": null,
            "grid_column": null,
            "grid_gap": null,
            "grid_row": null,
            "grid_template_areas": null,
            "grid_template_columns": null,
            "grid_template_rows": null,
            "height": null,
            "justify_content": null,
            "justify_items": null,
            "left": null,
            "margin": null,
            "max_height": null,
            "max_width": null,
            "min_height": null,
            "min_width": null,
            "object_fit": null,
            "object_position": null,
            "order": null,
            "overflow": null,
            "overflow_x": null,
            "overflow_y": null,
            "padding": null,
            "right": null,
            "top": null,
            "visibility": null,
            "width": null
          }
        },
        "140e3325f1e5455896577ceb63bc0ee6": {
          "model_module": "@jupyter-widgets/controls",
          "model_module_version": "1.5.0",
          "model_name": "HBoxModel",
          "state": {
            "_dom_classes": [],
            "_model_module": "@jupyter-widgets/controls",
            "_model_module_version": "1.5.0",
            "_model_name": "HBoxModel",
            "_view_count": null,
            "_view_module": "@jupyter-widgets/controls",
            "_view_module_version": "1.5.0",
            "_view_name": "HBoxView",
            "box_style": "",
            "children": [
              "IPY_MODEL_4f7de12289ff40dc8f211f50d123c820",
              "IPY_MODEL_439584ee8f74457c9e2bf33272174e13",
              "IPY_MODEL_4f06e4304f40415285cee9d0346f1bf5"
            ],
            "layout": "IPY_MODEL_526ffeccaa494b68b9902a46595f5c8b"
          }
        },
        "14798618ab904ee1b6faddb69e30ebe7": {
          "model_module": "@jupyter-widgets/base",
          "model_module_version": "1.2.0",
          "model_name": "LayoutModel",
          "state": {
            "_model_module": "@jupyter-widgets/base",
            "_model_module_version": "1.2.0",
            "_model_name": "LayoutModel",
            "_view_count": null,
            "_view_module": "@jupyter-widgets/base",
            "_view_module_version": "1.2.0",
            "_view_name": "LayoutView",
            "align_content": null,
            "align_items": null,
            "align_self": null,
            "border": null,
            "bottom": null,
            "display": null,
            "flex": null,
            "flex_flow": null,
            "grid_area": null,
            "grid_auto_columns": null,
            "grid_auto_flow": null,
            "grid_auto_rows": null,
            "grid_column": null,
            "grid_gap": null,
            "grid_row": null,
            "grid_template_areas": null,
            "grid_template_columns": null,
            "grid_template_rows": null,
            "height": null,
            "justify_content": null,
            "justify_items": null,
            "left": null,
            "margin": null,
            "max_height": null,
            "max_width": null,
            "min_height": null,
            "min_width": null,
            "object_fit": null,
            "object_position": null,
            "order": null,
            "overflow": null,
            "overflow_x": null,
            "overflow_y": null,
            "padding": null,
            "right": null,
            "top": null,
            "visibility": "hidden",
            "width": null
          }
        },
        "149c342a656e4db2ab4da8f22171abbd": {
          "model_module": "@jupyter-widgets/controls",
          "model_module_version": "1.5.0",
          "model_name": "FloatProgressModel",
          "state": {
            "_dom_classes": [],
            "_model_module": "@jupyter-widgets/controls",
            "_model_module_version": "1.5.0",
            "_model_name": "FloatProgressModel",
            "_view_count": null,
            "_view_module": "@jupyter-widgets/controls",
            "_view_module_version": "1.5.0",
            "_view_name": "ProgressView",
            "bar_style": "",
            "description": "",
            "description_tooltip": null,
            "layout": "IPY_MODEL_62b7a6111daf4d8f9f78bce842e1b5ab",
            "max": 7,
            "min": 0,
            "orientation": "horizontal",
            "style": "IPY_MODEL_b2c4648440c34ec7ab55a3d6b2b823c9",
            "value": 7
          }
        },
        "1a9de8ece48742839232241c72f1051e": {
          "model_module": "@jupyter-widgets/controls",
          "model_module_version": "1.5.0",
          "model_name": "DescriptionStyleModel",
          "state": {
            "_model_module": "@jupyter-widgets/controls",
            "_model_module_version": "1.5.0",
            "_model_name": "DescriptionStyleModel",
            "_view_count": null,
            "_view_module": "@jupyter-widgets/base",
            "_view_module_version": "1.2.0",
            "_view_name": "StyleView",
            "description_width": ""
          }
        },
        "1ca0cfb13dc1423da9c587285df6e765": {
          "model_module": "@jupyter-widgets/base",
          "model_module_version": "1.2.0",
          "model_name": "LayoutModel",
          "state": {
            "_model_module": "@jupyter-widgets/base",
            "_model_module_version": "1.2.0",
            "_model_name": "LayoutModel",
            "_view_count": null,
            "_view_module": "@jupyter-widgets/base",
            "_view_module_version": "1.2.0",
            "_view_name": "LayoutView",
            "align_content": null,
            "align_items": null,
            "align_self": null,
            "border": null,
            "bottom": null,
            "display": null,
            "flex": null,
            "flex_flow": null,
            "grid_area": null,
            "grid_auto_columns": null,
            "grid_auto_flow": null,
            "grid_auto_rows": null,
            "grid_column": null,
            "grid_gap": null,
            "grid_row": null,
            "grid_template_areas": null,
            "grid_template_columns": null,
            "grid_template_rows": null,
            "height": null,
            "justify_content": null,
            "justify_items": null,
            "left": null,
            "margin": null,
            "max_height": null,
            "max_width": null,
            "min_height": null,
            "min_width": null,
            "object_fit": null,
            "object_position": null,
            "order": null,
            "overflow": null,
            "overflow_x": null,
            "overflow_y": null,
            "padding": null,
            "right": null,
            "top": null,
            "visibility": null,
            "width": null
          }
        },
        "1d41c4e3984446be9c3298b7ab4c6cf8": {
          "model_module": "@jupyter-widgets/controls",
          "model_module_version": "1.5.0",
          "model_name": "FloatProgressModel",
          "state": {
            "_dom_classes": [],
            "_model_module": "@jupyter-widgets/controls",
            "_model_module_version": "1.5.0",
            "_model_name": "FloatProgressModel",
            "_view_count": null,
            "_view_module": "@jupyter-widgets/controls",
            "_view_module_version": "1.5.0",
            "_view_name": "ProgressView",
            "bar_style": "",
            "description": "",
            "description_tooltip": null,
            "layout": "IPY_MODEL_f5cf5f62b5a049de9e4d987eee293df3",
            "max": 7,
            "min": 0,
            "orientation": "horizontal",
            "style": "IPY_MODEL_766eac26d5634e6bbfdb7a734f96b3f6",
            "value": 7
          }
        },
        "1fac93eaeeca4274913eea5d966974ef": {
          "model_module": "@jupyter-widgets/base",
          "model_module_version": "1.2.0",
          "model_name": "LayoutModel",
          "state": {
            "_model_module": "@jupyter-widgets/base",
            "_model_module_version": "1.2.0",
            "_model_name": "LayoutModel",
            "_view_count": null,
            "_view_module": "@jupyter-widgets/base",
            "_view_module_version": "1.2.0",
            "_view_name": "LayoutView",
            "align_content": null,
            "align_items": null,
            "align_self": null,
            "border": null,
            "bottom": null,
            "display": null,
            "flex": null,
            "flex_flow": null,
            "grid_area": null,
            "grid_auto_columns": null,
            "grid_auto_flow": null,
            "grid_auto_rows": null,
            "grid_column": null,
            "grid_gap": null,
            "grid_row": null,
            "grid_template_areas": null,
            "grid_template_columns": null,
            "grid_template_rows": null,
            "height": null,
            "justify_content": null,
            "justify_items": null,
            "left": null,
            "margin": null,
            "max_height": null,
            "max_width": null,
            "min_height": null,
            "min_width": null,
            "object_fit": null,
            "object_position": null,
            "order": null,
            "overflow": null,
            "overflow_x": null,
            "overflow_y": null,
            "padding": null,
            "right": null,
            "top": null,
            "visibility": null,
            "width": null
          }
        },
        "20187e5c1c7c4fc3a0d24f234060d175": {
          "model_module": "@jupyter-widgets/controls",
          "model_module_version": "1.5.0",
          "model_name": "HTMLModel",
          "state": {
            "_dom_classes": [],
            "_model_module": "@jupyter-widgets/controls",
            "_model_module_version": "1.5.0",
            "_model_name": "HTMLModel",
            "_view_count": null,
            "_view_module": "@jupyter-widgets/controls",
            "_view_module_version": "1.5.0",
            "_view_name": "HTMLView",
            "description": "",
            "description_tooltip": null,
            "layout": "IPY_MODEL_393f03aa3a05493da716f8147863995e",
            "placeholder": "​",
            "style": "IPY_MODEL_f5b251e82cd742ed97ffa2c46a92b9f2",
            "value": "Processing: 100%"
          }
        },
        "225e6f1093df4232991fb46f3395d5a5": {
          "model_module": "@jupyter-widgets/controls",
          "model_module_version": "1.5.0",
          "model_name": "ProgressStyleModel",
          "state": {
            "_model_module": "@jupyter-widgets/controls",
            "_model_module_version": "1.5.0",
            "_model_name": "ProgressStyleModel",
            "_view_count": null,
            "_view_module": "@jupyter-widgets/base",
            "_view_module_version": "1.2.0",
            "_view_name": "StyleView",
            "bar_color": null,
            "description_width": ""
          }
        },
        "22e0e2bc583a4653b8b6b1c7c2eaa123": {
          "model_module": "@jupyter-widgets/controls",
          "model_module_version": "1.5.0",
          "model_name": "DescriptionStyleModel",
          "state": {
            "_model_module": "@jupyter-widgets/controls",
            "_model_module_version": "1.5.0",
            "_model_name": "DescriptionStyleModel",
            "_view_count": null,
            "_view_module": "@jupyter-widgets/base",
            "_view_module_version": "1.2.0",
            "_view_name": "StyleView",
            "description_width": ""
          }
        },
        "25874127953d4080a135eb650e3bf8a4": {
          "model_module": "@jupyter-widgets/controls",
          "model_module_version": "1.5.0",
          "model_name": "DescriptionStyleModel",
          "state": {
            "_model_module": "@jupyter-widgets/controls",
            "_model_module_version": "1.5.0",
            "_model_name": "DescriptionStyleModel",
            "_view_count": null,
            "_view_module": "@jupyter-widgets/base",
            "_view_module_version": "1.2.0",
            "_view_name": "StyleView",
            "description_width": ""
          }
        },
        "273254f3183944e2bd2dff8e837ca794": {
          "model_module": "@jupyter-widgets/base",
          "model_module_version": "1.2.0",
          "model_name": "LayoutModel",
          "state": {
            "_model_module": "@jupyter-widgets/base",
            "_model_module_version": "1.2.0",
            "_model_name": "LayoutModel",
            "_view_count": null,
            "_view_module": "@jupyter-widgets/base",
            "_view_module_version": "1.2.0",
            "_view_name": "LayoutView",
            "align_content": null,
            "align_items": null,
            "align_self": null,
            "border": null,
            "bottom": null,
            "display": null,
            "flex": null,
            "flex_flow": null,
            "grid_area": null,
            "grid_auto_columns": null,
            "grid_auto_flow": null,
            "grid_auto_rows": null,
            "grid_column": null,
            "grid_gap": null,
            "grid_row": null,
            "grid_template_areas": null,
            "grid_template_columns": null,
            "grid_template_rows": null,
            "height": null,
            "justify_content": null,
            "justify_items": null,
            "left": null,
            "margin": null,
            "max_height": null,
            "max_width": null,
            "min_height": null,
            "min_width": null,
            "object_fit": null,
            "object_position": null,
            "order": null,
            "overflow": null,
            "overflow_x": null,
            "overflow_y": null,
            "padding": null,
            "right": null,
            "top": null,
            "visibility": "hidden",
            "width": null
          }
        },
        "27a891a5d11a40e786bba56280e6f23c": {
          "model_module": "@jupyter-widgets/base",
          "model_module_version": "1.2.0",
          "model_name": "LayoutModel",
          "state": {
            "_model_module": "@jupyter-widgets/base",
            "_model_module_version": "1.2.0",
            "_model_name": "LayoutModel",
            "_view_count": null,
            "_view_module": "@jupyter-widgets/base",
            "_view_module_version": "1.2.0",
            "_view_name": "LayoutView",
            "align_content": null,
            "align_items": null,
            "align_self": null,
            "border": null,
            "bottom": null,
            "display": null,
            "flex": null,
            "flex_flow": null,
            "grid_area": null,
            "grid_auto_columns": null,
            "grid_auto_flow": null,
            "grid_auto_rows": null,
            "grid_column": null,
            "grid_gap": null,
            "grid_row": null,
            "grid_template_areas": null,
            "grid_template_columns": null,
            "grid_template_rows": null,
            "height": null,
            "justify_content": null,
            "justify_items": null,
            "left": null,
            "margin": null,
            "max_height": null,
            "max_width": null,
            "min_height": null,
            "min_width": null,
            "object_fit": null,
            "object_position": null,
            "order": null,
            "overflow": null,
            "overflow_x": null,
            "overflow_y": null,
            "padding": null,
            "right": null,
            "top": null,
            "visibility": "hidden",
            "width": null
          }
        },
        "28203a3a1984452599a43c3e4c149914": {
          "model_module": "@jupyter-widgets/controls",
          "model_module_version": "1.5.0",
          "model_name": "HTMLModel",
          "state": {
            "_dom_classes": [],
            "_model_module": "@jupyter-widgets/controls",
            "_model_module_version": "1.5.0",
            "_model_name": "HTMLModel",
            "_view_count": null,
            "_view_module": "@jupyter-widgets/controls",
            "_view_module_version": "1.5.0",
            "_view_name": "HTMLView",
            "description": "",
            "description_tooltip": null,
            "layout": "IPY_MODEL_9ebd79ffdd074e3ca6b57a7c5b1075a0",
            "placeholder": "​",
            "style": "IPY_MODEL_f2cd74b3939946ccbf33f7fe492edc70",
            "value": " 7/7 [00:44&lt;00:00,  4.78s/it]"
          }
        },
        "29af35b56d4a46408abc74fd084e393b": {
          "model_module": "@jupyter-widgets/base",
          "model_module_version": "1.2.0",
          "model_name": "LayoutModel",
          "state": {
            "_model_module": "@jupyter-widgets/base",
            "_model_module_version": "1.2.0",
            "_model_name": "LayoutModel",
            "_view_count": null,
            "_view_module": "@jupyter-widgets/base",
            "_view_module_version": "1.2.0",
            "_view_name": "LayoutView",
            "align_content": null,
            "align_items": null,
            "align_self": null,
            "border": null,
            "bottom": null,
            "display": null,
            "flex": null,
            "flex_flow": null,
            "grid_area": null,
            "grid_auto_columns": null,
            "grid_auto_flow": null,
            "grid_auto_rows": null,
            "grid_column": null,
            "grid_gap": null,
            "grid_row": null,
            "grid_template_areas": null,
            "grid_template_columns": null,
            "grid_template_rows": null,
            "height": null,
            "justify_content": null,
            "justify_items": null,
            "left": null,
            "margin": null,
            "max_height": null,
            "max_width": null,
            "min_height": null,
            "min_width": null,
            "object_fit": null,
            "object_position": null,
            "order": null,
            "overflow": null,
            "overflow_x": null,
            "overflow_y": null,
            "padding": null,
            "right": null,
            "top": null,
            "visibility": null,
            "width": null
          }
        },
        "2a72ccbb9bf04876a5148925ac38c1d8": {
          "model_module": "@jupyter-widgets/base",
          "model_module_version": "1.2.0",
          "model_name": "LayoutModel",
          "state": {
            "_model_module": "@jupyter-widgets/base",
            "_model_module_version": "1.2.0",
            "_model_name": "LayoutModel",
            "_view_count": null,
            "_view_module": "@jupyter-widgets/base",
            "_view_module_version": "1.2.0",
            "_view_name": "LayoutView",
            "align_content": null,
            "align_items": null,
            "align_self": null,
            "border": null,
            "bottom": null,
            "display": null,
            "flex": null,
            "flex_flow": null,
            "grid_area": null,
            "grid_auto_columns": null,
            "grid_auto_flow": null,
            "grid_auto_rows": null,
            "grid_column": null,
            "grid_gap": null,
            "grid_row": null,
            "grid_template_areas": null,
            "grid_template_columns": null,
            "grid_template_rows": null,
            "height": null,
            "justify_content": null,
            "justify_items": null,
            "left": null,
            "margin": null,
            "max_height": null,
            "max_width": null,
            "min_height": null,
            "min_width": null,
            "object_fit": null,
            "object_position": null,
            "order": null,
            "overflow": null,
            "overflow_x": null,
            "overflow_y": null,
            "padding": null,
            "right": null,
            "top": null,
            "visibility": null,
            "width": null
          }
        },
        "2bb9e37767b9449eabd1a0fc3535f95b": {
          "model_module": "@jupyter-widgets/controls",
          "model_module_version": "1.5.0",
          "model_name": "FloatProgressModel",
          "state": {
            "_dom_classes": [],
            "_model_module": "@jupyter-widgets/controls",
            "_model_module_version": "1.5.0",
            "_model_name": "FloatProgressModel",
            "_view_count": null,
            "_view_module": "@jupyter-widgets/controls",
            "_view_module_version": "1.5.0",
            "_view_name": "ProgressView",
            "bar_style": "",
            "description": "",
            "description_tooltip": null,
            "layout": "IPY_MODEL_e02d5e0a85c3460199faad4150c828e1",
            "max": 7,
            "min": 0,
            "orientation": "horizontal",
            "style": "IPY_MODEL_225e6f1093df4232991fb46f3395d5a5",
            "value": 7
          }
        },
        "2ccc5c40be634e738860ee3730754344": {
          "model_module": "@jupyter-widgets/controls",
          "model_module_version": "1.5.0",
          "model_name": "HTMLModel",
          "state": {
            "_dom_classes": [],
            "_model_module": "@jupyter-widgets/controls",
            "_model_module_version": "1.5.0",
            "_model_name": "HTMLModel",
            "_view_count": null,
            "_view_module": "@jupyter-widgets/controls",
            "_view_module_version": "1.5.0",
            "_view_name": "HTMLView",
            "description": "",
            "description_tooltip": null,
            "layout": "IPY_MODEL_fc67b55c59f44e70b086ddedd99b50ff",
            "placeholder": "​",
            "style": "IPY_MODEL_c1a088832100484281c6e413246dc4ea",
            "value": " 7/7 [01:52&lt;00:00, 12.53s/it]"
          }
        },
        "2d06aecbcb854cd2832a3b1282e7170f": {
          "model_module": "@jupyter-widgets/base",
          "model_module_version": "1.2.0",
          "model_name": "LayoutModel",
          "state": {
            "_model_module": "@jupyter-widgets/base",
            "_model_module_version": "1.2.0",
            "_model_name": "LayoutModel",
            "_view_count": null,
            "_view_module": "@jupyter-widgets/base",
            "_view_module_version": "1.2.0",
            "_view_name": "LayoutView",
            "align_content": null,
            "align_items": null,
            "align_self": null,
            "border": null,
            "bottom": null,
            "display": null,
            "flex": null,
            "flex_flow": null,
            "grid_area": null,
            "grid_auto_columns": null,
            "grid_auto_flow": null,
            "grid_auto_rows": null,
            "grid_column": null,
            "grid_gap": null,
            "grid_row": null,
            "grid_template_areas": null,
            "grid_template_columns": null,
            "grid_template_rows": null,
            "height": null,
            "justify_content": null,
            "justify_items": null,
            "left": null,
            "margin": null,
            "max_height": null,
            "max_width": null,
            "min_height": null,
            "min_width": null,
            "object_fit": null,
            "object_position": null,
            "order": null,
            "overflow": null,
            "overflow_x": null,
            "overflow_y": null,
            "padding": null,
            "right": null,
            "top": null,
            "visibility": null,
            "width": null
          }
        },
        "2d9e9e716af245af9f9022b340385135": {
          "model_module": "@jupyter-widgets/controls",
          "model_module_version": "1.5.0",
          "model_name": "ProgressStyleModel",
          "state": {
            "_model_module": "@jupyter-widgets/controls",
            "_model_module_version": "1.5.0",
            "_model_name": "ProgressStyleModel",
            "_view_count": null,
            "_view_module": "@jupyter-widgets/base",
            "_view_module_version": "1.2.0",
            "_view_name": "StyleView",
            "bar_color": null,
            "description_width": ""
          }
        },
        "2db0deca1f2449e0a28320e2c99ee077": {
          "model_module": "@jupyter-widgets/base",
          "model_module_version": "1.2.0",
          "model_name": "LayoutModel",
          "state": {
            "_model_module": "@jupyter-widgets/base",
            "_model_module_version": "1.2.0",
            "_model_name": "LayoutModel",
            "_view_count": null,
            "_view_module": "@jupyter-widgets/base",
            "_view_module_version": "1.2.0",
            "_view_name": "LayoutView",
            "align_content": null,
            "align_items": null,
            "align_self": null,
            "border": null,
            "bottom": null,
            "display": null,
            "flex": null,
            "flex_flow": null,
            "grid_area": null,
            "grid_auto_columns": null,
            "grid_auto_flow": null,
            "grid_auto_rows": null,
            "grid_column": null,
            "grid_gap": null,
            "grid_row": null,
            "grid_template_areas": null,
            "grid_template_columns": null,
            "grid_template_rows": null,
            "height": null,
            "justify_content": null,
            "justify_items": null,
            "left": null,
            "margin": null,
            "max_height": null,
            "max_width": null,
            "min_height": null,
            "min_width": null,
            "object_fit": null,
            "object_position": null,
            "order": null,
            "overflow": null,
            "overflow_x": null,
            "overflow_y": null,
            "padding": null,
            "right": null,
            "top": null,
            "visibility": null,
            "width": null
          }
        },
        "2deea4dfc78441eab17026b1e79cd2c6": {
          "model_module": "@jupyter-widgets/controls",
          "model_module_version": "1.5.0",
          "model_name": "FloatProgressModel",
          "state": {
            "_dom_classes": [],
            "_model_module": "@jupyter-widgets/controls",
            "_model_module_version": "1.5.0",
            "_model_name": "FloatProgressModel",
            "_view_count": null,
            "_view_module": "@jupyter-widgets/controls",
            "_view_module_version": "1.5.0",
            "_view_name": "ProgressView",
            "bar_style": "",
            "description": "",
            "description_tooltip": null,
            "layout": "IPY_MODEL_7cdf807d1c824fd8924f3c352e78fbf6",
            "max": 7,
            "min": 0,
            "orientation": "horizontal",
            "style": "IPY_MODEL_39917f5b2de245aea74c1c85480ff003",
            "value": 7
          }
        },
        "2ef6db5c84894d8a8c56628313bce289": {
          "model_module": "@jupyter-widgets/controls",
          "model_module_version": "1.5.0",
          "model_name": "DescriptionStyleModel",
          "state": {
            "_model_module": "@jupyter-widgets/controls",
            "_model_module_version": "1.5.0",
            "_model_name": "DescriptionStyleModel",
            "_view_count": null,
            "_view_module": "@jupyter-widgets/base",
            "_view_module_version": "1.2.0",
            "_view_name": "StyleView",
            "description_width": ""
          }
        },
        "319e173b44b74667becf8693fd493a2e": {
          "model_module": "@jupyter-widgets/controls",
          "model_module_version": "1.5.0",
          "model_name": "ProgressStyleModel",
          "state": {
            "_model_module": "@jupyter-widgets/controls",
            "_model_module_version": "1.5.0",
            "_model_name": "ProgressStyleModel",
            "_view_count": null,
            "_view_module": "@jupyter-widgets/base",
            "_view_module_version": "1.2.0",
            "_view_name": "StyleView",
            "bar_color": null,
            "description_width": ""
          }
        },
        "33a5d2860cab41bf8c4e35671f4e028a": {
          "model_module": "@jupyter-widgets/controls",
          "model_module_version": "1.5.0",
          "model_name": "HTMLModel",
          "state": {
            "_dom_classes": [],
            "_model_module": "@jupyter-widgets/controls",
            "_model_module_version": "1.5.0",
            "_model_name": "HTMLModel",
            "_view_count": null,
            "_view_module": "@jupyter-widgets/controls",
            "_view_module_version": "1.5.0",
            "_view_name": "HTMLView",
            "description": "",
            "description_tooltip": null,
            "layout": "IPY_MODEL_002be6c3b45b4e758dfe9e002602825d",
            "placeholder": "​",
            "style": "IPY_MODEL_7a0824236cd84d598e068942e88fc691",
            "value": " 0/7 [00:00&lt;?, ?it/s]"
          }
        },
        "363518ea372c4b38a76ea70eef05f7f1": {
          "model_module": "@jupyter-widgets/controls",
          "model_module_version": "1.5.0",
          "model_name": "DescriptionStyleModel",
          "state": {
            "_model_module": "@jupyter-widgets/controls",
            "_model_module_version": "1.5.0",
            "_model_name": "DescriptionStyleModel",
            "_view_count": null,
            "_view_module": "@jupyter-widgets/base",
            "_view_module_version": "1.2.0",
            "_view_name": "StyleView",
            "description_width": ""
          }
        },
        "363aea8185d849a2bea1327f563ebcdd": {
          "model_module": "@jupyter-widgets/controls",
          "model_module_version": "1.5.0",
          "model_name": "HTMLModel",
          "state": {
            "_dom_classes": [],
            "_model_module": "@jupyter-widgets/controls",
            "_model_module_version": "1.5.0",
            "_model_name": "HTMLModel",
            "_view_count": null,
            "_view_module": "@jupyter-widgets/controls",
            "_view_module_version": "1.5.0",
            "_view_name": "HTMLView",
            "description": "",
            "description_tooltip": null,
            "layout": "IPY_MODEL_fc3ef26938064dc0bc2758f5e4ef00bf",
            "placeholder": "​",
            "style": "IPY_MODEL_22e0e2bc583a4653b8b6b1c7c2eaa123",
            "value": " 7/7 [02:31&lt;00:00, 16.54s/it]"
          }
        },
        "3744908c7f814dd3b3c93a66023f2a56": {
          "model_module": "@jupyter-widgets/base",
          "model_module_version": "1.2.0",
          "model_name": "LayoutModel",
          "state": {
            "_model_module": "@jupyter-widgets/base",
            "_model_module_version": "1.2.0",
            "_model_name": "LayoutModel",
            "_view_count": null,
            "_view_module": "@jupyter-widgets/base",
            "_view_module_version": "1.2.0",
            "_view_name": "LayoutView",
            "align_content": null,
            "align_items": null,
            "align_self": null,
            "border": null,
            "bottom": null,
            "display": null,
            "flex": null,
            "flex_flow": null,
            "grid_area": null,
            "grid_auto_columns": null,
            "grid_auto_flow": null,
            "grid_auto_rows": null,
            "grid_column": null,
            "grid_gap": null,
            "grid_row": null,
            "grid_template_areas": null,
            "grid_template_columns": null,
            "grid_template_rows": null,
            "height": null,
            "justify_content": null,
            "justify_items": null,
            "left": null,
            "margin": null,
            "max_height": null,
            "max_width": null,
            "min_height": null,
            "min_width": null,
            "object_fit": null,
            "object_position": null,
            "order": null,
            "overflow": null,
            "overflow_x": null,
            "overflow_y": null,
            "padding": null,
            "right": null,
            "top": null,
            "visibility": null,
            "width": null
          }
        },
        "393f03aa3a05493da716f8147863995e": {
          "model_module": "@jupyter-widgets/base",
          "model_module_version": "1.2.0",
          "model_name": "LayoutModel",
          "state": {
            "_model_module": "@jupyter-widgets/base",
            "_model_module_version": "1.2.0",
            "_model_name": "LayoutModel",
            "_view_count": null,
            "_view_module": "@jupyter-widgets/base",
            "_view_module_version": "1.2.0",
            "_view_name": "LayoutView",
            "align_content": null,
            "align_items": null,
            "align_self": null,
            "border": null,
            "bottom": null,
            "display": null,
            "flex": null,
            "flex_flow": null,
            "grid_area": null,
            "grid_auto_columns": null,
            "grid_auto_flow": null,
            "grid_auto_rows": null,
            "grid_column": null,
            "grid_gap": null,
            "grid_row": null,
            "grid_template_areas": null,
            "grid_template_columns": null,
            "grid_template_rows": null,
            "height": null,
            "justify_content": null,
            "justify_items": null,
            "left": null,
            "margin": null,
            "max_height": null,
            "max_width": null,
            "min_height": null,
            "min_width": null,
            "object_fit": null,
            "object_position": null,
            "order": null,
            "overflow": null,
            "overflow_x": null,
            "overflow_y": null,
            "padding": null,
            "right": null,
            "top": null,
            "visibility": null,
            "width": null
          }
        },
        "39917f5b2de245aea74c1c85480ff003": {
          "model_module": "@jupyter-widgets/controls",
          "model_module_version": "1.5.0",
          "model_name": "ProgressStyleModel",
          "state": {
            "_model_module": "@jupyter-widgets/controls",
            "_model_module_version": "1.5.0",
            "_model_name": "ProgressStyleModel",
            "_view_count": null,
            "_view_module": "@jupyter-widgets/base",
            "_view_module_version": "1.2.0",
            "_view_name": "StyleView",
            "bar_color": null,
            "description_width": ""
          }
        },
        "3a72f7409bbc4ff792e643ccfce8e614": {
          "model_module": "@jupyter-widgets/base",
          "model_module_version": "1.2.0",
          "model_name": "LayoutModel",
          "state": {
            "_model_module": "@jupyter-widgets/base",
            "_model_module_version": "1.2.0",
            "_model_name": "LayoutModel",
            "_view_count": null,
            "_view_module": "@jupyter-widgets/base",
            "_view_module_version": "1.2.0",
            "_view_name": "LayoutView",
            "align_content": null,
            "align_items": null,
            "align_self": null,
            "border": null,
            "bottom": null,
            "display": null,
            "flex": null,
            "flex_flow": null,
            "grid_area": null,
            "grid_auto_columns": null,
            "grid_auto_flow": null,
            "grid_auto_rows": null,
            "grid_column": null,
            "grid_gap": null,
            "grid_row": null,
            "grid_template_areas": null,
            "grid_template_columns": null,
            "grid_template_rows": null,
            "height": null,
            "justify_content": null,
            "justify_items": null,
            "left": null,
            "margin": null,
            "max_height": null,
            "max_width": null,
            "min_height": null,
            "min_width": null,
            "object_fit": null,
            "object_position": null,
            "order": null,
            "overflow": null,
            "overflow_x": null,
            "overflow_y": null,
            "padding": null,
            "right": null,
            "top": null,
            "visibility": null,
            "width": null
          }
        },
        "3db6290b4c684b5db7a926c7f049c15d": {
          "model_module": "@jupyter-widgets/base",
          "model_module_version": "1.2.0",
          "model_name": "LayoutModel",
          "state": {
            "_model_module": "@jupyter-widgets/base",
            "_model_module_version": "1.2.0",
            "_model_name": "LayoutModel",
            "_view_count": null,
            "_view_module": "@jupyter-widgets/base",
            "_view_module_version": "1.2.0",
            "_view_name": "LayoutView",
            "align_content": null,
            "align_items": null,
            "align_self": null,
            "border": null,
            "bottom": null,
            "display": null,
            "flex": null,
            "flex_flow": null,
            "grid_area": null,
            "grid_auto_columns": null,
            "grid_auto_flow": null,
            "grid_auto_rows": null,
            "grid_column": null,
            "grid_gap": null,
            "grid_row": null,
            "grid_template_areas": null,
            "grid_template_columns": null,
            "grid_template_rows": null,
            "height": null,
            "justify_content": null,
            "justify_items": null,
            "left": null,
            "margin": null,
            "max_height": null,
            "max_width": null,
            "min_height": null,
            "min_width": null,
            "object_fit": null,
            "object_position": null,
            "order": null,
            "overflow": null,
            "overflow_x": null,
            "overflow_y": null,
            "padding": null,
            "right": null,
            "top": null,
            "visibility": "hidden",
            "width": null
          }
        },
        "4301bcb7ca294e7d9413ffff7dd08df4": {
          "model_module": "@jupyter-widgets/controls",
          "model_module_version": "1.5.0",
          "model_name": "DescriptionStyleModel",
          "state": {
            "_model_module": "@jupyter-widgets/controls",
            "_model_module_version": "1.5.0",
            "_model_name": "DescriptionStyleModel",
            "_view_count": null,
            "_view_module": "@jupyter-widgets/base",
            "_view_module_version": "1.2.0",
            "_view_name": "StyleView",
            "description_width": ""
          }
        },
        "439584ee8f74457c9e2bf33272174e13": {
          "model_module": "@jupyter-widgets/controls",
          "model_module_version": "1.5.0",
          "model_name": "FloatProgressModel",
          "state": {
            "_dom_classes": [],
            "_model_module": "@jupyter-widgets/controls",
            "_model_module_version": "1.5.0",
            "_model_name": "FloatProgressModel",
            "_view_count": null,
            "_view_module": "@jupyter-widgets/controls",
            "_view_module_version": "1.5.0",
            "_view_name": "ProgressView",
            "bar_style": "",
            "description": "",
            "description_tooltip": null,
            "layout": "IPY_MODEL_2a72ccbb9bf04876a5148925ac38c1d8",
            "max": 59,
            "min": 0,
            "orientation": "horizontal",
            "style": "IPY_MODEL_55bd38ea637c412fa539511df03dd6d2",
            "value": 59
          }
        },
        "439ac6a44c2f4d4285d3a5be5b99e3d3": {
          "model_module": "@jupyter-widgets/controls",
          "model_module_version": "1.5.0",
          "model_name": "HTMLModel",
          "state": {
            "_dom_classes": [],
            "_model_module": "@jupyter-widgets/controls",
            "_model_module_version": "1.5.0",
            "_model_name": "HTMLModel",
            "_view_count": null,
            "_view_module": "@jupyter-widgets/controls",
            "_view_module_version": "1.5.0",
            "_view_name": "HTMLView",
            "description": "",
            "description_tooltip": null,
            "layout": "IPY_MODEL_4d380431d2584f2bb78cf35b75f22b82",
            "placeholder": "​",
            "style": "IPY_MODEL_c8a5c38efef140b69f143bff8ba9095a",
            "value": "Processing: 100%"
          }
        },
        "43db40ff8bdc4e92977f83d828a2b819": {
          "model_module": "@jupyter-widgets/base",
          "model_module_version": "1.2.0",
          "model_name": "LayoutModel",
          "state": {
            "_model_module": "@jupyter-widgets/base",
            "_model_module_version": "1.2.0",
            "_model_name": "LayoutModel",
            "_view_count": null,
            "_view_module": "@jupyter-widgets/base",
            "_view_module_version": "1.2.0",
            "_view_name": "LayoutView",
            "align_content": null,
            "align_items": null,
            "align_self": null,
            "border": null,
            "bottom": null,
            "display": null,
            "flex": null,
            "flex_flow": null,
            "grid_area": null,
            "grid_auto_columns": null,
            "grid_auto_flow": null,
            "grid_auto_rows": null,
            "grid_column": null,
            "grid_gap": null,
            "grid_row": null,
            "grid_template_areas": null,
            "grid_template_columns": null,
            "grid_template_rows": null,
            "height": null,
            "justify_content": null,
            "justify_items": null,
            "left": null,
            "margin": null,
            "max_height": null,
            "max_width": null,
            "min_height": null,
            "min_width": null,
            "object_fit": null,
            "object_position": null,
            "order": null,
            "overflow": null,
            "overflow_x": null,
            "overflow_y": null,
            "padding": null,
            "right": null,
            "top": null,
            "visibility": null,
            "width": null
          }
        },
        "4483bb3870a6411d9c39c988d5417921": {
          "model_module": "@jupyter-widgets/base",
          "model_module_version": "1.2.0",
          "model_name": "LayoutModel",
          "state": {
            "_model_module": "@jupyter-widgets/base",
            "_model_module_version": "1.2.0",
            "_model_name": "LayoutModel",
            "_view_count": null,
            "_view_module": "@jupyter-widgets/base",
            "_view_module_version": "1.2.0",
            "_view_name": "LayoutView",
            "align_content": null,
            "align_items": null,
            "align_self": null,
            "border": null,
            "bottom": null,
            "display": null,
            "flex": null,
            "flex_flow": null,
            "grid_area": null,
            "grid_auto_columns": null,
            "grid_auto_flow": null,
            "grid_auto_rows": null,
            "grid_column": null,
            "grid_gap": null,
            "grid_row": null,
            "grid_template_areas": null,
            "grid_template_columns": null,
            "grid_template_rows": null,
            "height": null,
            "justify_content": null,
            "justify_items": null,
            "left": null,
            "margin": null,
            "max_height": null,
            "max_width": null,
            "min_height": null,
            "min_width": null,
            "object_fit": null,
            "object_position": null,
            "order": null,
            "overflow": null,
            "overflow_x": null,
            "overflow_y": null,
            "padding": null,
            "right": null,
            "top": null,
            "visibility": null,
            "width": null
          }
        },
        "4836a40a89ba4724b6a51d3a5fc8977d": {
          "model_module": "@jupyter-widgets/base",
          "model_module_version": "1.2.0",
          "model_name": "LayoutModel",
          "state": {
            "_model_module": "@jupyter-widgets/base",
            "_model_module_version": "1.2.0",
            "_model_name": "LayoutModel",
            "_view_count": null,
            "_view_module": "@jupyter-widgets/base",
            "_view_module_version": "1.2.0",
            "_view_name": "LayoutView",
            "align_content": null,
            "align_items": null,
            "align_self": null,
            "border": null,
            "bottom": null,
            "display": null,
            "flex": null,
            "flex_flow": null,
            "grid_area": null,
            "grid_auto_columns": null,
            "grid_auto_flow": null,
            "grid_auto_rows": null,
            "grid_column": null,
            "grid_gap": null,
            "grid_row": null,
            "grid_template_areas": null,
            "grid_template_columns": null,
            "grid_template_rows": null,
            "height": null,
            "justify_content": null,
            "justify_items": null,
            "left": null,
            "margin": null,
            "max_height": null,
            "max_width": null,
            "min_height": null,
            "min_width": null,
            "object_fit": null,
            "object_position": null,
            "order": null,
            "overflow": null,
            "overflow_x": null,
            "overflow_y": null,
            "padding": null,
            "right": null,
            "top": null,
            "visibility": null,
            "width": null
          }
        },
        "4afd9c192b4148e5a526e22c09709b7b": {
          "model_module": "@jupyter-widgets/controls",
          "model_module_version": "1.5.0",
          "model_name": "HTMLModel",
          "state": {
            "_dom_classes": [],
            "_model_module": "@jupyter-widgets/controls",
            "_model_module_version": "1.5.0",
            "_model_name": "HTMLModel",
            "_view_count": null,
            "_view_module": "@jupyter-widgets/controls",
            "_view_module_version": "1.5.0",
            "_view_name": "HTMLView",
            "description": "",
            "description_tooltip": null,
            "layout": "IPY_MODEL_3744908c7f814dd3b3c93a66023f2a56",
            "placeholder": "​",
            "style": "IPY_MODEL_9b6b87e860d94d0d8c208a4f50419d0d",
            "value": " 5/5 [10:21&lt;00:00, 123.17s/it]"
          }
        },
        "4cdd0f0fb3c04977b367293b87f9188b": {
          "model_module": "@jupyter-widgets/controls",
          "model_module_version": "1.5.0",
          "model_name": "DescriptionStyleModel",
          "state": {
            "_model_module": "@jupyter-widgets/controls",
            "_model_module_version": "1.5.0",
            "_model_name": "DescriptionStyleModel",
            "_view_count": null,
            "_view_module": "@jupyter-widgets/base",
            "_view_module_version": "1.2.0",
            "_view_name": "StyleView",
            "description_width": ""
          }
        },
        "4d380431d2584f2bb78cf35b75f22b82": {
          "model_module": "@jupyter-widgets/base",
          "model_module_version": "1.2.0",
          "model_name": "LayoutModel",
          "state": {
            "_model_module": "@jupyter-widgets/base",
            "_model_module_version": "1.2.0",
            "_model_name": "LayoutModel",
            "_view_count": null,
            "_view_module": "@jupyter-widgets/base",
            "_view_module_version": "1.2.0",
            "_view_name": "LayoutView",
            "align_content": null,
            "align_items": null,
            "align_self": null,
            "border": null,
            "bottom": null,
            "display": null,
            "flex": null,
            "flex_flow": null,
            "grid_area": null,
            "grid_auto_columns": null,
            "grid_auto_flow": null,
            "grid_auto_rows": null,
            "grid_column": null,
            "grid_gap": null,
            "grid_row": null,
            "grid_template_areas": null,
            "grid_template_columns": null,
            "grid_template_rows": null,
            "height": null,
            "justify_content": null,
            "justify_items": null,
            "left": null,
            "margin": null,
            "max_height": null,
            "max_width": null,
            "min_height": null,
            "min_width": null,
            "object_fit": null,
            "object_position": null,
            "order": null,
            "overflow": null,
            "overflow_x": null,
            "overflow_y": null,
            "padding": null,
            "right": null,
            "top": null,
            "visibility": null,
            "width": null
          }
        },
        "4f06e4304f40415285cee9d0346f1bf5": {
          "model_module": "@jupyter-widgets/controls",
          "model_module_version": "1.5.0",
          "model_name": "HTMLModel",
          "state": {
            "_dom_classes": [],
            "_model_module": "@jupyter-widgets/controls",
            "_model_module_version": "1.5.0",
            "_model_name": "HTMLModel",
            "_view_count": null,
            "_view_module": "@jupyter-widgets/controls",
            "_view_module_version": "1.5.0",
            "_view_name": "HTMLView",
            "description": "",
            "description_tooltip": null,
            "layout": "IPY_MODEL_4483bb3870a6411d9c39c988d5417921",
            "placeholder": "​",
            "style": "IPY_MODEL_1a9de8ece48742839232241c72f1051e",
            "value": " 59/59 [01:18&lt;00:00,  1.42it/s]"
          }
        },
        "4f7de12289ff40dc8f211f50d123c820": {
          "model_module": "@jupyter-widgets/controls",
          "model_module_version": "1.5.0",
          "model_name": "HTMLModel",
          "state": {
            "_dom_classes": [],
            "_model_module": "@jupyter-widgets/controls",
            "_model_module_version": "1.5.0",
            "_model_name": "HTMLModel",
            "_view_count": null,
            "_view_module": "@jupyter-widgets/controls",
            "_view_module_version": "1.5.0",
            "_view_name": "HTMLView",
            "description": "",
            "description_tooltip": null,
            "layout": "IPY_MODEL_4836a40a89ba4724b6a51d3a5fc8977d",
            "placeholder": "​",
            "style": "IPY_MODEL_4301bcb7ca294e7d9413ffff7dd08df4",
            "value": "Processing: 100%"
          }
        },
        "526ffeccaa494b68b9902a46595f5c8b": {
          "model_module": "@jupyter-widgets/base",
          "model_module_version": "1.2.0",
          "model_name": "LayoutModel",
          "state": {
            "_model_module": "@jupyter-widgets/base",
            "_model_module_version": "1.2.0",
            "_model_name": "LayoutModel",
            "_view_count": null,
            "_view_module": "@jupyter-widgets/base",
            "_view_module_version": "1.2.0",
            "_view_name": "LayoutView",
            "align_content": null,
            "align_items": null,
            "align_self": null,
            "border": null,
            "bottom": null,
            "display": null,
            "flex": null,
            "flex_flow": null,
            "grid_area": null,
            "grid_auto_columns": null,
            "grid_auto_flow": null,
            "grid_auto_rows": null,
            "grid_column": null,
            "grid_gap": null,
            "grid_row": null,
            "grid_template_areas": null,
            "grid_template_columns": null,
            "grid_template_rows": null,
            "height": null,
            "justify_content": null,
            "justify_items": null,
            "left": null,
            "margin": null,
            "max_height": null,
            "max_width": null,
            "min_height": null,
            "min_width": null,
            "object_fit": null,
            "object_position": null,
            "order": null,
            "overflow": null,
            "overflow_x": null,
            "overflow_y": null,
            "padding": null,
            "right": null,
            "top": null,
            "visibility": "hidden",
            "width": null
          }
        },
        "55bd38ea637c412fa539511df03dd6d2": {
          "model_module": "@jupyter-widgets/controls",
          "model_module_version": "1.5.0",
          "model_name": "ProgressStyleModel",
          "state": {
            "_model_module": "@jupyter-widgets/controls",
            "_model_module_version": "1.5.0",
            "_model_name": "ProgressStyleModel",
            "_view_count": null,
            "_view_module": "@jupyter-widgets/base",
            "_view_module_version": "1.2.0",
            "_view_name": "StyleView",
            "bar_color": null,
            "description_width": ""
          }
        },
        "577ca442105843538eb1a92ae1e3e9cb": {
          "model_module": "@jupyter-widgets/controls",
          "model_module_version": "1.5.0",
          "model_name": "HBoxModel",
          "state": {
            "_dom_classes": [],
            "_model_module": "@jupyter-widgets/controls",
            "_model_module_version": "1.5.0",
            "_model_name": "HBoxModel",
            "_view_count": null,
            "_view_module": "@jupyter-widgets/controls",
            "_view_module_version": "1.5.0",
            "_view_name": "HBoxView",
            "box_style": "",
            "children": [
              "IPY_MODEL_da3918826a3a4af5bb273838188029cf",
              "IPY_MODEL_df8f665e5c9b46268e326f61f9a6b11b",
              "IPY_MODEL_896ad6b564a14bd4aa7e0ca514b1f7c7"
            ],
            "layout": "IPY_MODEL_3db6290b4c684b5db7a926c7f049c15d"
          }
        },
        "5cdbfb2f0ff74ea1bf6847d1cb2d8ba4": {
          "model_module": "@jupyter-widgets/base",
          "model_module_version": "1.2.0",
          "model_name": "LayoutModel",
          "state": {
            "_model_module": "@jupyter-widgets/base",
            "_model_module_version": "1.2.0",
            "_model_name": "LayoutModel",
            "_view_count": null,
            "_view_module": "@jupyter-widgets/base",
            "_view_module_version": "1.2.0",
            "_view_name": "LayoutView",
            "align_content": null,
            "align_items": null,
            "align_self": null,
            "border": null,
            "bottom": null,
            "display": null,
            "flex": null,
            "flex_flow": null,
            "grid_area": null,
            "grid_auto_columns": null,
            "grid_auto_flow": null,
            "grid_auto_rows": null,
            "grid_column": null,
            "grid_gap": null,
            "grid_row": null,
            "grid_template_areas": null,
            "grid_template_columns": null,
            "grid_template_rows": null,
            "height": null,
            "justify_content": null,
            "justify_items": null,
            "left": null,
            "margin": null,
            "max_height": null,
            "max_width": null,
            "min_height": null,
            "min_width": null,
            "object_fit": null,
            "object_position": null,
            "order": null,
            "overflow": null,
            "overflow_x": null,
            "overflow_y": null,
            "padding": null,
            "right": null,
            "top": null,
            "visibility": null,
            "width": null
          }
        },
        "5fe1217f147c4dac974a2a13c25ca701": {
          "model_module": "@jupyter-widgets/controls",
          "model_module_version": "1.5.0",
          "model_name": "HTMLModel",
          "state": {
            "_dom_classes": [],
            "_model_module": "@jupyter-widgets/controls",
            "_model_module_version": "1.5.0",
            "_model_name": "HTMLModel",
            "_view_count": null,
            "_view_module": "@jupyter-widgets/controls",
            "_view_module_version": "1.5.0",
            "_view_name": "HTMLView",
            "description": "",
            "description_tooltip": null,
            "layout": "IPY_MODEL_0afe6a55318e41c8911d00f7599b6478",
            "placeholder": "​",
            "style": "IPY_MODEL_776f51ded9864b868b0981e783cb6def",
            "value": "Processing:   0%"
          }
        },
        "62b7a6111daf4d8f9f78bce842e1b5ab": {
          "model_module": "@jupyter-widgets/base",
          "model_module_version": "1.2.0",
          "model_name": "LayoutModel",
          "state": {
            "_model_module": "@jupyter-widgets/base",
            "_model_module_version": "1.2.0",
            "_model_name": "LayoutModel",
            "_view_count": null,
            "_view_module": "@jupyter-widgets/base",
            "_view_module_version": "1.2.0",
            "_view_name": "LayoutView",
            "align_content": null,
            "align_items": null,
            "align_self": null,
            "border": null,
            "bottom": null,
            "display": null,
            "flex": null,
            "flex_flow": null,
            "grid_area": null,
            "grid_auto_columns": null,
            "grid_auto_flow": null,
            "grid_auto_rows": null,
            "grid_column": null,
            "grid_gap": null,
            "grid_row": null,
            "grid_template_areas": null,
            "grid_template_columns": null,
            "grid_template_rows": null,
            "height": null,
            "justify_content": null,
            "justify_items": null,
            "left": null,
            "margin": null,
            "max_height": null,
            "max_width": null,
            "min_height": null,
            "min_width": null,
            "object_fit": null,
            "object_position": null,
            "order": null,
            "overflow": null,
            "overflow_x": null,
            "overflow_y": null,
            "padding": null,
            "right": null,
            "top": null,
            "visibility": null,
            "width": null
          }
        },
        "67205b73ab3c48e9ae3c2aec87829d46": {
          "model_module": "@jupyter-widgets/controls",
          "model_module_version": "1.5.0",
          "model_name": "DescriptionStyleModel",
          "state": {
            "_model_module": "@jupyter-widgets/controls",
            "_model_module_version": "1.5.0",
            "_model_name": "DescriptionStyleModel",
            "_view_count": null,
            "_view_module": "@jupyter-widgets/base",
            "_view_module_version": "1.2.0",
            "_view_name": "StyleView",
            "description_width": ""
          }
        },
        "6bb4bd185d7f401580f6dae4407a3361": {
          "model_module": "@jupyter-widgets/controls",
          "model_module_version": "1.5.0",
          "model_name": "FloatProgressModel",
          "state": {
            "_dom_classes": [],
            "_model_module": "@jupyter-widgets/controls",
            "_model_module_version": "1.5.0",
            "_model_name": "FloatProgressModel",
            "_view_count": null,
            "_view_module": "@jupyter-widgets/controls",
            "_view_module_version": "1.5.0",
            "_view_name": "ProgressView",
            "bar_style": "",
            "description": "",
            "description_tooltip": null,
            "layout": "IPY_MODEL_1fac93eaeeca4274913eea5d966974ef",
            "max": 7,
            "min": 0,
            "orientation": "horizontal",
            "style": "IPY_MODEL_dd415aae1e424bef8645f504ef7ff94b",
            "value": 7
          }
        },
        "6e6367ac05714e99a78a2cc5ae2ac8a6": {
          "model_module": "@jupyter-widgets/controls",
          "model_module_version": "1.5.0",
          "model_name": "ProgressStyleModel",
          "state": {
            "_model_module": "@jupyter-widgets/controls",
            "_model_module_version": "1.5.0",
            "_model_name": "ProgressStyleModel",
            "_view_count": null,
            "_view_module": "@jupyter-widgets/base",
            "_view_module_version": "1.2.0",
            "_view_name": "StyleView",
            "bar_color": null,
            "description_width": ""
          }
        },
        "73852379298b4645984b1e54f164597c": {
          "model_module": "@jupyter-widgets/controls",
          "model_module_version": "1.5.0",
          "model_name": "ProgressStyleModel",
          "state": {
            "_model_module": "@jupyter-widgets/controls",
            "_model_module_version": "1.5.0",
            "_model_name": "ProgressStyleModel",
            "_view_count": null,
            "_view_module": "@jupyter-widgets/base",
            "_view_module_version": "1.2.0",
            "_view_name": "StyleView",
            "bar_color": null,
            "description_width": ""
          }
        },
        "766eac26d5634e6bbfdb7a734f96b3f6": {
          "model_module": "@jupyter-widgets/controls",
          "model_module_version": "1.5.0",
          "model_name": "ProgressStyleModel",
          "state": {
            "_model_module": "@jupyter-widgets/controls",
            "_model_module_version": "1.5.0",
            "_model_name": "ProgressStyleModel",
            "_view_count": null,
            "_view_module": "@jupyter-widgets/base",
            "_view_module_version": "1.2.0",
            "_view_name": "StyleView",
            "bar_color": null,
            "description_width": ""
          }
        },
        "7752df6105b04ada913345e5ea0f8774": {
          "model_module": "@jupyter-widgets/controls",
          "model_module_version": "1.5.0",
          "model_name": "DescriptionStyleModel",
          "state": {
            "_model_module": "@jupyter-widgets/controls",
            "_model_module_version": "1.5.0",
            "_model_name": "DescriptionStyleModel",
            "_view_count": null,
            "_view_module": "@jupyter-widgets/base",
            "_view_module_version": "1.2.0",
            "_view_name": "StyleView",
            "description_width": ""
          }
        },
        "776f51ded9864b868b0981e783cb6def": {
          "model_module": "@jupyter-widgets/controls",
          "model_module_version": "1.5.0",
          "model_name": "DescriptionStyleModel",
          "state": {
            "_model_module": "@jupyter-widgets/controls",
            "_model_module_version": "1.5.0",
            "_model_name": "DescriptionStyleModel",
            "_view_count": null,
            "_view_module": "@jupyter-widgets/base",
            "_view_module_version": "1.2.0",
            "_view_name": "StyleView",
            "description_width": ""
          }
        },
        "7a0824236cd84d598e068942e88fc691": {
          "model_module": "@jupyter-widgets/controls",
          "model_module_version": "1.5.0",
          "model_name": "DescriptionStyleModel",
          "state": {
            "_model_module": "@jupyter-widgets/controls",
            "_model_module_version": "1.5.0",
            "_model_name": "DescriptionStyleModel",
            "_view_count": null,
            "_view_module": "@jupyter-widgets/base",
            "_view_module_version": "1.2.0",
            "_view_name": "StyleView",
            "description_width": ""
          }
        },
        "7b840a44e9e04c5b908c2788cf12ffb3": {
          "model_module": "@jupyter-widgets/controls",
          "model_module_version": "1.5.0",
          "model_name": "DescriptionStyleModel",
          "state": {
            "_model_module": "@jupyter-widgets/controls",
            "_model_module_version": "1.5.0",
            "_model_name": "DescriptionStyleModel",
            "_view_count": null,
            "_view_module": "@jupyter-widgets/base",
            "_view_module_version": "1.2.0",
            "_view_name": "StyleView",
            "description_width": ""
          }
        },
        "7cdf807d1c824fd8924f3c352e78fbf6": {
          "model_module": "@jupyter-widgets/base",
          "model_module_version": "1.2.0",
          "model_name": "LayoutModel",
          "state": {
            "_model_module": "@jupyter-widgets/base",
            "_model_module_version": "1.2.0",
            "_model_name": "LayoutModel",
            "_view_count": null,
            "_view_module": "@jupyter-widgets/base",
            "_view_module_version": "1.2.0",
            "_view_name": "LayoutView",
            "align_content": null,
            "align_items": null,
            "align_self": null,
            "border": null,
            "bottom": null,
            "display": null,
            "flex": null,
            "flex_flow": null,
            "grid_area": null,
            "grid_auto_columns": null,
            "grid_auto_flow": null,
            "grid_auto_rows": null,
            "grid_column": null,
            "grid_gap": null,
            "grid_row": null,
            "grid_template_areas": null,
            "grid_template_columns": null,
            "grid_template_rows": null,
            "height": null,
            "justify_content": null,
            "justify_items": null,
            "left": null,
            "margin": null,
            "max_height": null,
            "max_width": null,
            "min_height": null,
            "min_width": null,
            "object_fit": null,
            "object_position": null,
            "order": null,
            "overflow": null,
            "overflow_x": null,
            "overflow_y": null,
            "padding": null,
            "right": null,
            "top": null,
            "visibility": null,
            "width": null
          }
        },
        "7dc56d4f2e1c4c82a166a7a138d8bbf9": {
          "model_module": "@jupyter-widgets/controls",
          "model_module_version": "1.5.0",
          "model_name": "HBoxModel",
          "state": {
            "_dom_classes": [],
            "_model_module": "@jupyter-widgets/controls",
            "_model_module_version": "1.5.0",
            "_model_name": "HBoxModel",
            "_view_count": null,
            "_view_module": "@jupyter-widgets/controls",
            "_view_module_version": "1.5.0",
            "_view_name": "HBoxView",
            "box_style": "",
            "children": [
              "IPY_MODEL_a15be4b4e5c54c3ba87cb767d6d43cf2",
              "IPY_MODEL_1d41c4e3984446be9c3298b7ab4c6cf8",
              "IPY_MODEL_363aea8185d849a2bea1327f563ebcdd"
            ],
            "layout": "IPY_MODEL_14798618ab904ee1b6faddb69e30ebe7"
          }
        },
        "7f3fd9bb55c7459f9f2a0d186497ac6e": {
          "model_module": "@jupyter-widgets/base",
          "model_module_version": "1.2.0",
          "model_name": "LayoutModel",
          "state": {
            "_model_module": "@jupyter-widgets/base",
            "_model_module_version": "1.2.0",
            "_model_name": "LayoutModel",
            "_view_count": null,
            "_view_module": "@jupyter-widgets/base",
            "_view_module_version": "1.2.0",
            "_view_name": "LayoutView",
            "align_content": null,
            "align_items": null,
            "align_self": null,
            "border": null,
            "bottom": null,
            "display": null,
            "flex": null,
            "flex_flow": null,
            "grid_area": null,
            "grid_auto_columns": null,
            "grid_auto_flow": null,
            "grid_auto_rows": null,
            "grid_column": null,
            "grid_gap": null,
            "grid_row": null,
            "grid_template_areas": null,
            "grid_template_columns": null,
            "grid_template_rows": null,
            "height": null,
            "justify_content": null,
            "justify_items": null,
            "left": null,
            "margin": null,
            "max_height": null,
            "max_width": null,
            "min_height": null,
            "min_width": null,
            "object_fit": null,
            "object_position": null,
            "order": null,
            "overflow": null,
            "overflow_x": null,
            "overflow_y": null,
            "padding": null,
            "right": null,
            "top": null,
            "visibility": "hidden",
            "width": null
          }
        },
        "896ad6b564a14bd4aa7e0ca514b1f7c7": {
          "model_module": "@jupyter-widgets/controls",
          "model_module_version": "1.5.0",
          "model_name": "HTMLModel",
          "state": {
            "_dom_classes": [],
            "_model_module": "@jupyter-widgets/controls",
            "_model_module_version": "1.5.0",
            "_model_name": "HTMLModel",
            "_view_count": null,
            "_view_module": "@jupyter-widgets/controls",
            "_view_module_version": "1.5.0",
            "_view_name": "HTMLView",
            "description": "",
            "description_tooltip": null,
            "layout": "IPY_MODEL_bcc2cbcdc08e4e118adf874289807b13",
            "placeholder": "​",
            "style": "IPY_MODEL_67205b73ab3c48e9ae3c2aec87829d46",
            "value": " 7/7 [00:01&lt;00:00,  5.63it/s]"
          }
        },
        "8eef960e2a9c4357a9c4ee26cabd700d": {
          "model_module": "@jupyter-widgets/controls",
          "model_module_version": "1.5.0",
          "model_name": "HBoxModel",
          "state": {
            "_dom_classes": [],
            "_model_module": "@jupyter-widgets/controls",
            "_model_module_version": "1.5.0",
            "_model_name": "HBoxModel",
            "_view_count": null,
            "_view_module": "@jupyter-widgets/controls",
            "_view_module_version": "1.5.0",
            "_view_name": "HBoxView",
            "box_style": "",
            "children": [
              "IPY_MODEL_bb291f7366554cb385beffd5304208d9",
              "IPY_MODEL_f926ca0ddfaa4292a8d6b3192eb02a55",
              "IPY_MODEL_2ccc5c40be634e738860ee3730754344"
            ],
            "layout": "IPY_MODEL_9649a67855af4853a2ca2aeb97e4651a"
          }
        },
        "91b3801124494cedb70e4bfc0edee3c7": {
          "model_module": "@jupyter-widgets/base",
          "model_module_version": "1.2.0",
          "model_name": "LayoutModel",
          "state": {
            "_model_module": "@jupyter-widgets/base",
            "_model_module_version": "1.2.0",
            "_model_name": "LayoutModel",
            "_view_count": null,
            "_view_module": "@jupyter-widgets/base",
            "_view_module_version": "1.2.0",
            "_view_name": "LayoutView",
            "align_content": null,
            "align_items": null,
            "align_self": null,
            "border": null,
            "bottom": null,
            "display": null,
            "flex": null,
            "flex_flow": null,
            "grid_area": null,
            "grid_auto_columns": null,
            "grid_auto_flow": null,
            "grid_auto_rows": null,
            "grid_column": null,
            "grid_gap": null,
            "grid_row": null,
            "grid_template_areas": null,
            "grid_template_columns": null,
            "grid_template_rows": null,
            "height": null,
            "justify_content": null,
            "justify_items": null,
            "left": null,
            "margin": null,
            "max_height": null,
            "max_width": null,
            "min_height": null,
            "min_width": null,
            "object_fit": null,
            "object_position": null,
            "order": null,
            "overflow": null,
            "overflow_x": null,
            "overflow_y": null,
            "padding": null,
            "right": null,
            "top": null,
            "visibility": null,
            "width": null
          }
        },
        "9649a67855af4853a2ca2aeb97e4651a": {
          "model_module": "@jupyter-widgets/base",
          "model_module_version": "1.2.0",
          "model_name": "LayoutModel",
          "state": {
            "_model_module": "@jupyter-widgets/base",
            "_model_module_version": "1.2.0",
            "_model_name": "LayoutModel",
            "_view_count": null,
            "_view_module": "@jupyter-widgets/base",
            "_view_module_version": "1.2.0",
            "_view_name": "LayoutView",
            "align_content": null,
            "align_items": null,
            "align_self": null,
            "border": null,
            "bottom": null,
            "display": null,
            "flex": null,
            "flex_flow": null,
            "grid_area": null,
            "grid_auto_columns": null,
            "grid_auto_flow": null,
            "grid_auto_rows": null,
            "grid_column": null,
            "grid_gap": null,
            "grid_row": null,
            "grid_template_areas": null,
            "grid_template_columns": null,
            "grid_template_rows": null,
            "height": null,
            "justify_content": null,
            "justify_items": null,
            "left": null,
            "margin": null,
            "max_height": null,
            "max_width": null,
            "min_height": null,
            "min_width": null,
            "object_fit": null,
            "object_position": null,
            "order": null,
            "overflow": null,
            "overflow_x": null,
            "overflow_y": null,
            "padding": null,
            "right": null,
            "top": null,
            "visibility": "hidden",
            "width": null
          }
        },
        "9b6b87e860d94d0d8c208a4f50419d0d": {
          "model_module": "@jupyter-widgets/controls",
          "model_module_version": "1.5.0",
          "model_name": "DescriptionStyleModel",
          "state": {
            "_model_module": "@jupyter-widgets/controls",
            "_model_module_version": "1.5.0",
            "_model_name": "DescriptionStyleModel",
            "_view_count": null,
            "_view_module": "@jupyter-widgets/base",
            "_view_module_version": "1.2.0",
            "_view_name": "StyleView",
            "description_width": ""
          }
        },
        "9ebd79ffdd074e3ca6b57a7c5b1075a0": {
          "model_module": "@jupyter-widgets/base",
          "model_module_version": "1.2.0",
          "model_name": "LayoutModel",
          "state": {
            "_model_module": "@jupyter-widgets/base",
            "_model_module_version": "1.2.0",
            "_model_name": "LayoutModel",
            "_view_count": null,
            "_view_module": "@jupyter-widgets/base",
            "_view_module_version": "1.2.0",
            "_view_name": "LayoutView",
            "align_content": null,
            "align_items": null,
            "align_self": null,
            "border": null,
            "bottom": null,
            "display": null,
            "flex": null,
            "flex_flow": null,
            "grid_area": null,
            "grid_auto_columns": null,
            "grid_auto_flow": null,
            "grid_auto_rows": null,
            "grid_column": null,
            "grid_gap": null,
            "grid_row": null,
            "grid_template_areas": null,
            "grid_template_columns": null,
            "grid_template_rows": null,
            "height": null,
            "justify_content": null,
            "justify_items": null,
            "left": null,
            "margin": null,
            "max_height": null,
            "max_width": null,
            "min_height": null,
            "min_width": null,
            "object_fit": null,
            "object_position": null,
            "order": null,
            "overflow": null,
            "overflow_x": null,
            "overflow_y": null,
            "padding": null,
            "right": null,
            "top": null,
            "visibility": null,
            "width": null
          }
        },
        "a15be4b4e5c54c3ba87cb767d6d43cf2": {
          "model_module": "@jupyter-widgets/controls",
          "model_module_version": "1.5.0",
          "model_name": "HTMLModel",
          "state": {
            "_dom_classes": [],
            "_model_module": "@jupyter-widgets/controls",
            "_model_module_version": "1.5.0",
            "_model_name": "HTMLModel",
            "_view_count": null,
            "_view_module": "@jupyter-widgets/controls",
            "_view_module_version": "1.5.0",
            "_view_name": "HTMLView",
            "description": "",
            "description_tooltip": null,
            "layout": "IPY_MODEL_f3957464e06e4481aab754128649c7f7",
            "placeholder": "​",
            "style": "IPY_MODEL_7752df6105b04ada913345e5ea0f8774",
            "value": "Processing: 100%"
          }
        },
        "a74be3b783fa4f0fac355d13d2b9dc38": {
          "model_module": "@jupyter-widgets/base",
          "model_module_version": "1.2.0",
          "model_name": "LayoutModel",
          "state": {
            "_model_module": "@jupyter-widgets/base",
            "_model_module_version": "1.2.0",
            "_model_name": "LayoutModel",
            "_view_count": null,
            "_view_module": "@jupyter-widgets/base",
            "_view_module_version": "1.2.0",
            "_view_name": "LayoutView",
            "align_content": null,
            "align_items": null,
            "align_self": null,
            "border": null,
            "bottom": null,
            "display": null,
            "flex": null,
            "flex_flow": null,
            "grid_area": null,
            "grid_auto_columns": null,
            "grid_auto_flow": null,
            "grid_auto_rows": null,
            "grid_column": null,
            "grid_gap": null,
            "grid_row": null,
            "grid_template_areas": null,
            "grid_template_columns": null,
            "grid_template_rows": null,
            "height": null,
            "justify_content": null,
            "justify_items": null,
            "left": null,
            "margin": null,
            "max_height": null,
            "max_width": null,
            "min_height": null,
            "min_width": null,
            "object_fit": null,
            "object_position": null,
            "order": null,
            "overflow": null,
            "overflow_x": null,
            "overflow_y": null,
            "padding": null,
            "right": null,
            "top": null,
            "visibility": "hidden",
            "width": null
          }
        },
        "a9c89508c72a43d4a87641d9935d2a0b": {
          "model_module": "@jupyter-widgets/controls",
          "model_module_version": "1.5.0",
          "model_name": "DescriptionStyleModel",
          "state": {
            "_model_module": "@jupyter-widgets/controls",
            "_model_module_version": "1.5.0",
            "_model_name": "DescriptionStyleModel",
            "_view_count": null,
            "_view_module": "@jupyter-widgets/base",
            "_view_module_version": "1.2.0",
            "_view_name": "StyleView",
            "description_width": ""
          }
        },
        "abd22d76faf0441d894607e8ac2de71d": {
          "model_module": "@jupyter-widgets/controls",
          "model_module_version": "1.5.0",
          "model_name": "HBoxModel",
          "state": {
            "_dom_classes": [],
            "_model_module": "@jupyter-widgets/controls",
            "_model_module_version": "1.5.0",
            "_model_name": "HBoxModel",
            "_view_count": null,
            "_view_module": "@jupyter-widgets/controls",
            "_view_module_version": "1.5.0",
            "_view_name": "HBoxView",
            "box_style": "",
            "children": [
              "IPY_MODEL_5fe1217f147c4dac974a2a13c25ca701",
              "IPY_MODEL_6bb4bd185d7f401580f6dae4407a3361",
              "IPY_MODEL_dc0531dba5f44bf5b27e0bd8f0996580"
            ],
            "layout": "IPY_MODEL_7f3fd9bb55c7459f9f2a0d186497ac6e"
          }
        },
        "b2c4648440c34ec7ab55a3d6b2b823c9": {
          "model_module": "@jupyter-widgets/controls",
          "model_module_version": "1.5.0",
          "model_name": "ProgressStyleModel",
          "state": {
            "_model_module": "@jupyter-widgets/controls",
            "_model_module_version": "1.5.0",
            "_model_name": "ProgressStyleModel",
            "_view_count": null,
            "_view_module": "@jupyter-widgets/base",
            "_view_module_version": "1.2.0",
            "_view_name": "StyleView",
            "bar_color": null,
            "description_width": ""
          }
        },
        "b5cf5920ce7c4c4c80ce4d4468d9043c": {
          "model_module": "@jupyter-widgets/controls",
          "model_module_version": "1.5.0",
          "model_name": "HTMLModel",
          "state": {
            "_dom_classes": [],
            "_model_module": "@jupyter-widgets/controls",
            "_model_module_version": "1.5.0",
            "_model_name": "HTMLModel",
            "_view_count": null,
            "_view_module": "@jupyter-widgets/controls",
            "_view_module_version": "1.5.0",
            "_view_name": "HTMLView",
            "description": "",
            "description_tooltip": null,
            "layout": "IPY_MODEL_2db0deca1f2449e0a28320e2c99ee077",
            "placeholder": "​",
            "style": "IPY_MODEL_a9c89508c72a43d4a87641d9935d2a0b",
            "value": " 0/7 [00:00&lt;?, ?it/s]"
          }
        },
        "b6ea13162d8a425486866ffcc09e1efb": {
          "model_module": "@jupyter-widgets/controls",
          "model_module_version": "1.5.0",
          "model_name": "HBoxModel",
          "state": {
            "_dom_classes": [],
            "_model_module": "@jupyter-widgets/controls",
            "_model_module_version": "1.5.0",
            "_model_name": "HBoxModel",
            "_view_count": null,
            "_view_module": "@jupyter-widgets/controls",
            "_view_module_version": "1.5.0",
            "_view_name": "HBoxView",
            "box_style": "",
            "children": [
              "IPY_MODEL_de2c5322c8ee49e8ac9148b0e2f46ce1",
              "IPY_MODEL_e592687f9b31402c9d61b99d9510d83f",
              "IPY_MODEL_b5cf5920ce7c4c4c80ce4d4468d9043c"
            ],
            "layout": "IPY_MODEL_064cc33ab944471cb855b25c94e5e016"
          }
        },
        "bb291f7366554cb385beffd5304208d9": {
          "model_module": "@jupyter-widgets/controls",
          "model_module_version": "1.5.0",
          "model_name": "HTMLModel",
          "state": {
            "_dom_classes": [],
            "_model_module": "@jupyter-widgets/controls",
            "_model_module_version": "1.5.0",
            "_model_name": "HTMLModel",
            "_view_count": null,
            "_view_module": "@jupyter-widgets/controls",
            "_view_module_version": "1.5.0",
            "_view_name": "HTMLView",
            "description": "",
            "description_tooltip": null,
            "layout": "IPY_MODEL_df2d32cee0114421bb8c61b9a1eacc78",
            "placeholder": "​",
            "style": "IPY_MODEL_363518ea372c4b38a76ea70eef05f7f1",
            "value": "Processing: 100%"
          }
        },
        "bb6855b5d8904a408c027e22571cc1ad": {
          "model_module": "@jupyter-widgets/base",
          "model_module_version": "1.2.0",
          "model_name": "LayoutModel",
          "state": {
            "_model_module": "@jupyter-widgets/base",
            "_model_module_version": "1.2.0",
            "_model_name": "LayoutModel",
            "_view_count": null,
            "_view_module": "@jupyter-widgets/base",
            "_view_module_version": "1.2.0",
            "_view_name": "LayoutView",
            "align_content": null,
            "align_items": null,
            "align_self": null,
            "border": null,
            "bottom": null,
            "display": null,
            "flex": null,
            "flex_flow": null,
            "grid_area": null,
            "grid_auto_columns": null,
            "grid_auto_flow": null,
            "grid_auto_rows": null,
            "grid_column": null,
            "grid_gap": null,
            "grid_row": null,
            "grid_template_areas": null,
            "grid_template_columns": null,
            "grid_template_rows": null,
            "height": null,
            "justify_content": null,
            "justify_items": null,
            "left": null,
            "margin": null,
            "max_height": null,
            "max_width": null,
            "min_height": null,
            "min_width": null,
            "object_fit": null,
            "object_position": null,
            "order": null,
            "overflow": null,
            "overflow_x": null,
            "overflow_y": null,
            "padding": null,
            "right": null,
            "top": null,
            "visibility": null,
            "width": null
          }
        },
        "bbb0e3c74867471fa661a170a17bee8f": {
          "model_module": "@jupyter-widgets/controls",
          "model_module_version": "1.5.0",
          "model_name": "DescriptionStyleModel",
          "state": {
            "_model_module": "@jupyter-widgets/controls",
            "_model_module_version": "1.5.0",
            "_model_name": "DescriptionStyleModel",
            "_view_count": null,
            "_view_module": "@jupyter-widgets/base",
            "_view_module_version": "1.2.0",
            "_view_name": "StyleView",
            "description_width": ""
          }
        },
        "bc8e928e53c945d3835e7befcd53683b": {
          "model_module": "@jupyter-widgets/controls",
          "model_module_version": "1.5.0",
          "model_name": "HBoxModel",
          "state": {
            "_dom_classes": [],
            "_model_module": "@jupyter-widgets/controls",
            "_model_module_version": "1.5.0",
            "_model_name": "HBoxModel",
            "_view_count": null,
            "_view_module": "@jupyter-widgets/controls",
            "_view_module_version": "1.5.0",
            "_view_name": "HBoxView",
            "box_style": "",
            "children": [
              "IPY_MODEL_439ac6a44c2f4d4285d3a5be5b99e3d3",
              "IPY_MODEL_0913c314cc3043f39c861fa8718a6545",
              "IPY_MODEL_c1b862d1e3674409b1b2aa91245d7f47"
            ],
            "layout": "IPY_MODEL_0ffcf2c56b074936a38948dc8c66e71e"
          }
        },
        "bcc2cbcdc08e4e118adf874289807b13": {
          "model_module": "@jupyter-widgets/base",
          "model_module_version": "1.2.0",
          "model_name": "LayoutModel",
          "state": {
            "_model_module": "@jupyter-widgets/base",
            "_model_module_version": "1.2.0",
            "_model_name": "LayoutModel",
            "_view_count": null,
            "_view_module": "@jupyter-widgets/base",
            "_view_module_version": "1.2.0",
            "_view_name": "LayoutView",
            "align_content": null,
            "align_items": null,
            "align_self": null,
            "border": null,
            "bottom": null,
            "display": null,
            "flex": null,
            "flex_flow": null,
            "grid_area": null,
            "grid_auto_columns": null,
            "grid_auto_flow": null,
            "grid_auto_rows": null,
            "grid_column": null,
            "grid_gap": null,
            "grid_row": null,
            "grid_template_areas": null,
            "grid_template_columns": null,
            "grid_template_rows": null,
            "height": null,
            "justify_content": null,
            "justify_items": null,
            "left": null,
            "margin": null,
            "max_height": null,
            "max_width": null,
            "min_height": null,
            "min_width": null,
            "object_fit": null,
            "object_position": null,
            "order": null,
            "overflow": null,
            "overflow_x": null,
            "overflow_y": null,
            "padding": null,
            "right": null,
            "top": null,
            "visibility": null,
            "width": null
          }
        },
        "c175b22f4a824e1385d1e3343f911609": {
          "model_module": "@jupyter-widgets/controls",
          "model_module_version": "1.5.0",
          "model_name": "DescriptionStyleModel",
          "state": {
            "_model_module": "@jupyter-widgets/controls",
            "_model_module_version": "1.5.0",
            "_model_name": "DescriptionStyleModel",
            "_view_count": null,
            "_view_module": "@jupyter-widgets/base",
            "_view_module_version": "1.2.0",
            "_view_name": "StyleView",
            "description_width": ""
          }
        },
        "c1a088832100484281c6e413246dc4ea": {
          "model_module": "@jupyter-widgets/controls",
          "model_module_version": "1.5.0",
          "model_name": "DescriptionStyleModel",
          "state": {
            "_model_module": "@jupyter-widgets/controls",
            "_model_module_version": "1.5.0",
            "_model_name": "DescriptionStyleModel",
            "_view_count": null,
            "_view_module": "@jupyter-widgets/base",
            "_view_module_version": "1.2.0",
            "_view_name": "StyleView",
            "description_width": ""
          }
        },
        "c1b862d1e3674409b1b2aa91245d7f47": {
          "model_module": "@jupyter-widgets/controls",
          "model_module_version": "1.5.0",
          "model_name": "HTMLModel",
          "state": {
            "_dom_classes": [],
            "_model_module": "@jupyter-widgets/controls",
            "_model_module_version": "1.5.0",
            "_model_name": "HTMLModel",
            "_view_count": null,
            "_view_module": "@jupyter-widgets/controls",
            "_view_module_version": "1.5.0",
            "_view_name": "HTMLView",
            "description": "",
            "description_tooltip": null,
            "layout": "IPY_MODEL_2d06aecbcb854cd2832a3b1282e7170f",
            "placeholder": "​",
            "style": "IPY_MODEL_ee18e84a5f084bb986f3ae0a4d70506e",
            "value": " 7/7 [06:24&lt;00:00, 43.81s/it]"
          }
        },
        "c8a5c38efef140b69f143bff8ba9095a": {
          "model_module": "@jupyter-widgets/controls",
          "model_module_version": "1.5.0",
          "model_name": "DescriptionStyleModel",
          "state": {
            "_model_module": "@jupyter-widgets/controls",
            "_model_module_version": "1.5.0",
            "_model_name": "DescriptionStyleModel",
            "_view_count": null,
            "_view_module": "@jupyter-widgets/base",
            "_view_module_version": "1.2.0",
            "_view_name": "StyleView",
            "description_width": ""
          }
        },
        "cb86643d9ec84b7d8051d4b32726c785": {
          "model_module": "@jupyter-widgets/controls",
          "model_module_version": "1.5.0",
          "model_name": "HBoxModel",
          "state": {
            "_dom_classes": [],
            "_model_module": "@jupyter-widgets/controls",
            "_model_module_version": "1.5.0",
            "_model_name": "HBoxModel",
            "_view_count": null,
            "_view_module": "@jupyter-widgets/controls",
            "_view_module_version": "1.5.0",
            "_view_name": "HBoxView",
            "box_style": "",
            "children": [
              "IPY_MODEL_f698132dcf204291882c16d4707575ab",
              "IPY_MODEL_2deea4dfc78441eab17026b1e79cd2c6",
              "IPY_MODEL_33a5d2860cab41bf8c4e35671f4e028a"
            ],
            "layout": "IPY_MODEL_273254f3183944e2bd2dff8e837ca794"
          }
        },
        "d1df5ab6e3ac4880a7ec33d080010a63": {
          "model_module": "@jupyter-widgets/controls",
          "model_module_version": "1.5.0",
          "model_name": "ProgressStyleModel",
          "state": {
            "_model_module": "@jupyter-widgets/controls",
            "_model_module_version": "1.5.0",
            "_model_name": "ProgressStyleModel",
            "_view_count": null,
            "_view_module": "@jupyter-widgets/base",
            "_view_module_version": "1.2.0",
            "_view_name": "StyleView",
            "bar_color": null,
            "description_width": ""
          }
        },
        "d21ba0f068ad4c7286730b32d49a3165": {
          "model_module": "@jupyter-widgets/base",
          "model_module_version": "1.2.0",
          "model_name": "LayoutModel",
          "state": {
            "_model_module": "@jupyter-widgets/base",
            "_model_module_version": "1.2.0",
            "_model_name": "LayoutModel",
            "_view_count": null,
            "_view_module": "@jupyter-widgets/base",
            "_view_module_version": "1.2.0",
            "_view_name": "LayoutView",
            "align_content": null,
            "align_items": null,
            "align_self": null,
            "border": null,
            "bottom": null,
            "display": null,
            "flex": null,
            "flex_flow": null,
            "grid_area": null,
            "grid_auto_columns": null,
            "grid_auto_flow": null,
            "grid_auto_rows": null,
            "grid_column": null,
            "grid_gap": null,
            "grid_row": null,
            "grid_template_areas": null,
            "grid_template_columns": null,
            "grid_template_rows": null,
            "height": null,
            "justify_content": null,
            "justify_items": null,
            "left": null,
            "margin": null,
            "max_height": null,
            "max_width": null,
            "min_height": null,
            "min_width": null,
            "object_fit": null,
            "object_position": null,
            "order": null,
            "overflow": null,
            "overflow_x": null,
            "overflow_y": null,
            "padding": null,
            "right": null,
            "top": null,
            "visibility": null,
            "width": null
          }
        },
        "d62a771fe78544b7a3a2484c5557a08d": {
          "model_module": "@jupyter-widgets/base",
          "model_module_version": "1.2.0",
          "model_name": "LayoutModel",
          "state": {
            "_model_module": "@jupyter-widgets/base",
            "_model_module_version": "1.2.0",
            "_model_name": "LayoutModel",
            "_view_count": null,
            "_view_module": "@jupyter-widgets/base",
            "_view_module_version": "1.2.0",
            "_view_name": "LayoutView",
            "align_content": null,
            "align_items": null,
            "align_self": null,
            "border": null,
            "bottom": null,
            "display": null,
            "flex": null,
            "flex_flow": null,
            "grid_area": null,
            "grid_auto_columns": null,
            "grid_auto_flow": null,
            "grid_auto_rows": null,
            "grid_column": null,
            "grid_gap": null,
            "grid_row": null,
            "grid_template_areas": null,
            "grid_template_columns": null,
            "grid_template_rows": null,
            "height": null,
            "justify_content": null,
            "justify_items": null,
            "left": null,
            "margin": null,
            "max_height": null,
            "max_width": null,
            "min_height": null,
            "min_width": null,
            "object_fit": null,
            "object_position": null,
            "order": null,
            "overflow": null,
            "overflow_x": null,
            "overflow_y": null,
            "padding": null,
            "right": null,
            "top": null,
            "visibility": null,
            "width": null
          }
        },
        "da3918826a3a4af5bb273838188029cf": {
          "model_module": "@jupyter-widgets/controls",
          "model_module_version": "1.5.0",
          "model_name": "HTMLModel",
          "state": {
            "_dom_classes": [],
            "_model_module": "@jupyter-widgets/controls",
            "_model_module_version": "1.5.0",
            "_model_name": "HTMLModel",
            "_view_count": null,
            "_view_module": "@jupyter-widgets/controls",
            "_view_module_version": "1.5.0",
            "_view_name": "HTMLView",
            "description": "",
            "description_tooltip": null,
            "layout": "IPY_MODEL_ed03b412e14b496c9b13a52ca35e01c5",
            "placeholder": "​",
            "style": "IPY_MODEL_fe9c663492ff4ea3a42280c13004889e",
            "value": "Processing: 100%"
          }
        },
        "da549353aae847b28e9348eeb39c229a": {
          "model_module": "@jupyter-widgets/controls",
          "model_module_version": "1.5.0",
          "model_name": "HTMLModel",
          "state": {
            "_dom_classes": [],
            "_model_module": "@jupyter-widgets/controls",
            "_model_module_version": "1.5.0",
            "_model_name": "HTMLModel",
            "_view_count": null,
            "_view_module": "@jupyter-widgets/controls",
            "_view_module_version": "1.5.0",
            "_view_name": "HTMLView",
            "description": "",
            "description_tooltip": null,
            "layout": "IPY_MODEL_dc383b71a7f64d77ae26e6174c019088",
            "placeholder": "​",
            "style": "IPY_MODEL_2ef6db5c84894d8a8c56628313bce289",
            "value": "100%"
          }
        },
        "dc0531dba5f44bf5b27e0bd8f0996580": {
          "model_module": "@jupyter-widgets/controls",
          "model_module_version": "1.5.0",
          "model_name": "HTMLModel",
          "state": {
            "_dom_classes": [],
            "_model_module": "@jupyter-widgets/controls",
            "_model_module_version": "1.5.0",
            "_model_name": "HTMLModel",
            "_view_count": null,
            "_view_module": "@jupyter-widgets/controls",
            "_view_module_version": "1.5.0",
            "_view_name": "HTMLView",
            "description": "",
            "description_tooltip": null,
            "layout": "IPY_MODEL_e9c0869940124ba591287d1ff528fdc9",
            "placeholder": "​",
            "style": "IPY_MODEL_7b840a44e9e04c5b908c2788cf12ffb3",
            "value": " 0/7 [00:00&lt;?, ?it/s]"
          }
        },
        "dc383b71a7f64d77ae26e6174c019088": {
          "model_module": "@jupyter-widgets/base",
          "model_module_version": "1.2.0",
          "model_name": "LayoutModel",
          "state": {
            "_model_module": "@jupyter-widgets/base",
            "_model_module_version": "1.2.0",
            "_model_name": "LayoutModel",
            "_view_count": null,
            "_view_module": "@jupyter-widgets/base",
            "_view_module_version": "1.2.0",
            "_view_name": "LayoutView",
            "align_content": null,
            "align_items": null,
            "align_self": null,
            "border": null,
            "bottom": null,
            "display": null,
            "flex": null,
            "flex_flow": null,
            "grid_area": null,
            "grid_auto_columns": null,
            "grid_auto_flow": null,
            "grid_auto_rows": null,
            "grid_column": null,
            "grid_gap": null,
            "grid_row": null,
            "grid_template_areas": null,
            "grid_template_columns": null,
            "grid_template_rows": null,
            "height": null,
            "justify_content": null,
            "justify_items": null,
            "left": null,
            "margin": null,
            "max_height": null,
            "max_width": null,
            "min_height": null,
            "min_width": null,
            "object_fit": null,
            "object_position": null,
            "order": null,
            "overflow": null,
            "overflow_x": null,
            "overflow_y": null,
            "padding": null,
            "right": null,
            "top": null,
            "visibility": null,
            "width": null
          }
        },
        "dd415aae1e424bef8645f504ef7ff94b": {
          "model_module": "@jupyter-widgets/controls",
          "model_module_version": "1.5.0",
          "model_name": "ProgressStyleModel",
          "state": {
            "_model_module": "@jupyter-widgets/controls",
            "_model_module_version": "1.5.0",
            "_model_name": "ProgressStyleModel",
            "_view_count": null,
            "_view_module": "@jupyter-widgets/base",
            "_view_module_version": "1.2.0",
            "_view_name": "StyleView",
            "bar_color": null,
            "description_width": ""
          }
        },
        "de2c5322c8ee49e8ac9148b0e2f46ce1": {
          "model_module": "@jupyter-widgets/controls",
          "model_module_version": "1.5.0",
          "model_name": "HTMLModel",
          "state": {
            "_dom_classes": [],
            "_model_module": "@jupyter-widgets/controls",
            "_model_module_version": "1.5.0",
            "_model_name": "HTMLModel",
            "_view_count": null,
            "_view_module": "@jupyter-widgets/controls",
            "_view_module_version": "1.5.0",
            "_view_name": "HTMLView",
            "description": "",
            "description_tooltip": null,
            "layout": "IPY_MODEL_bb6855b5d8904a408c027e22571cc1ad",
            "placeholder": "​",
            "style": "IPY_MODEL_c175b22f4a824e1385d1e3343f911609",
            "value": "Processing:   0%"
          }
        },
        "df2d32cee0114421bb8c61b9a1eacc78": {
          "model_module": "@jupyter-widgets/base",
          "model_module_version": "1.2.0",
          "model_name": "LayoutModel",
          "state": {
            "_model_module": "@jupyter-widgets/base",
            "_model_module_version": "1.2.0",
            "_model_name": "LayoutModel",
            "_view_count": null,
            "_view_module": "@jupyter-widgets/base",
            "_view_module_version": "1.2.0",
            "_view_name": "LayoutView",
            "align_content": null,
            "align_items": null,
            "align_self": null,
            "border": null,
            "bottom": null,
            "display": null,
            "flex": null,
            "flex_flow": null,
            "grid_area": null,
            "grid_auto_columns": null,
            "grid_auto_flow": null,
            "grid_auto_rows": null,
            "grid_column": null,
            "grid_gap": null,
            "grid_row": null,
            "grid_template_areas": null,
            "grid_template_columns": null,
            "grid_template_rows": null,
            "height": null,
            "justify_content": null,
            "justify_items": null,
            "left": null,
            "margin": null,
            "max_height": null,
            "max_width": null,
            "min_height": null,
            "min_width": null,
            "object_fit": null,
            "object_position": null,
            "order": null,
            "overflow": null,
            "overflow_x": null,
            "overflow_y": null,
            "padding": null,
            "right": null,
            "top": null,
            "visibility": null,
            "width": null
          }
        },
        "df8f665e5c9b46268e326f61f9a6b11b": {
          "model_module": "@jupyter-widgets/controls",
          "model_module_version": "1.5.0",
          "model_name": "FloatProgressModel",
          "state": {
            "_dom_classes": [],
            "_model_module": "@jupyter-widgets/controls",
            "_model_module_version": "1.5.0",
            "_model_name": "FloatProgressModel",
            "_view_count": null,
            "_view_module": "@jupyter-widgets/controls",
            "_view_module_version": "1.5.0",
            "_view_name": "ProgressView",
            "bar_style": "",
            "description": "",
            "description_tooltip": null,
            "layout": "IPY_MODEL_29af35b56d4a46408abc74fd084e393b",
            "max": 7,
            "min": 0,
            "orientation": "horizontal",
            "style": "IPY_MODEL_73852379298b4645984b1e54f164597c",
            "value": 7
          }
        },
        "e02d5e0a85c3460199faad4150c828e1": {
          "model_module": "@jupyter-widgets/base",
          "model_module_version": "1.2.0",
          "model_name": "LayoutModel",
          "state": {
            "_model_module": "@jupyter-widgets/base",
            "_model_module_version": "1.2.0",
            "_model_name": "LayoutModel",
            "_view_count": null,
            "_view_module": "@jupyter-widgets/base",
            "_view_module_version": "1.2.0",
            "_view_name": "LayoutView",
            "align_content": null,
            "align_items": null,
            "align_self": null,
            "border": null,
            "bottom": null,
            "display": null,
            "flex": null,
            "flex_flow": null,
            "grid_area": null,
            "grid_auto_columns": null,
            "grid_auto_flow": null,
            "grid_auto_rows": null,
            "grid_column": null,
            "grid_gap": null,
            "grid_row": null,
            "grid_template_areas": null,
            "grid_template_columns": null,
            "grid_template_rows": null,
            "height": null,
            "justify_content": null,
            "justify_items": null,
            "left": null,
            "margin": null,
            "max_height": null,
            "max_width": null,
            "min_height": null,
            "min_width": null,
            "object_fit": null,
            "object_position": null,
            "order": null,
            "overflow": null,
            "overflow_x": null,
            "overflow_y": null,
            "padding": null,
            "right": null,
            "top": null,
            "visibility": null,
            "width": null
          }
        },
        "e2060745923a455d9bd995706ded7107": {
          "model_module": "@jupyter-widgets/controls",
          "model_module_version": "1.5.0",
          "model_name": "HTMLModel",
          "state": {
            "_dom_classes": [],
            "_model_module": "@jupyter-widgets/controls",
            "_model_module_version": "1.5.0",
            "_model_name": "HTMLModel",
            "_view_count": null,
            "_view_module": "@jupyter-widgets/controls",
            "_view_module_version": "1.5.0",
            "_view_name": "HTMLView",
            "description": "",
            "description_tooltip": null,
            "layout": "IPY_MODEL_d62a771fe78544b7a3a2484c5557a08d",
            "placeholder": "​",
            "style": "IPY_MODEL_25874127953d4080a135eb650e3bf8a4",
            "value": "Processing: 100%"
          }
        },
        "e592687f9b31402c9d61b99d9510d83f": {
          "model_module": "@jupyter-widgets/controls",
          "model_module_version": "1.5.0",
          "model_name": "FloatProgressModel",
          "state": {
            "_dom_classes": [],
            "_model_module": "@jupyter-widgets/controls",
            "_model_module_version": "1.5.0",
            "_model_name": "FloatProgressModel",
            "_view_count": null,
            "_view_module": "@jupyter-widgets/controls",
            "_view_module_version": "1.5.0",
            "_view_name": "ProgressView",
            "bar_style": "",
            "description": "",
            "description_tooltip": null,
            "layout": "IPY_MODEL_d21ba0f068ad4c7286730b32d49a3165",
            "max": 7,
            "min": 0,
            "orientation": "horizontal",
            "style": "IPY_MODEL_2d9e9e716af245af9f9022b340385135",
            "value": 7
          }
        },
        "e9c0869940124ba591287d1ff528fdc9": {
          "model_module": "@jupyter-widgets/base",
          "model_module_version": "1.2.0",
          "model_name": "LayoutModel",
          "state": {
            "_model_module": "@jupyter-widgets/base",
            "_model_module_version": "1.2.0",
            "_model_name": "LayoutModel",
            "_view_count": null,
            "_view_module": "@jupyter-widgets/base",
            "_view_module_version": "1.2.0",
            "_view_name": "LayoutView",
            "align_content": null,
            "align_items": null,
            "align_self": null,
            "border": null,
            "bottom": null,
            "display": null,
            "flex": null,
            "flex_flow": null,
            "grid_area": null,
            "grid_auto_columns": null,
            "grid_auto_flow": null,
            "grid_auto_rows": null,
            "grid_column": null,
            "grid_gap": null,
            "grid_row": null,
            "grid_template_areas": null,
            "grid_template_columns": null,
            "grid_template_rows": null,
            "height": null,
            "justify_content": null,
            "justify_items": null,
            "left": null,
            "margin": null,
            "max_height": null,
            "max_width": null,
            "min_height": null,
            "min_width": null,
            "object_fit": null,
            "object_position": null,
            "order": null,
            "overflow": null,
            "overflow_x": null,
            "overflow_y": null,
            "padding": null,
            "right": null,
            "top": null,
            "visibility": null,
            "width": null
          }
        },
        "e9d97b60930f4335b3b37b2a449e73c8": {
          "model_module": "@jupyter-widgets/controls",
          "model_module_version": "1.5.0",
          "model_name": "HBoxModel",
          "state": {
            "_dom_classes": [],
            "_model_module": "@jupyter-widgets/controls",
            "_model_module_version": "1.5.0",
            "_model_name": "HBoxModel",
            "_view_count": null,
            "_view_module": "@jupyter-widgets/controls",
            "_view_module_version": "1.5.0",
            "_view_name": "HBoxView",
            "box_style": "",
            "children": [
              "IPY_MODEL_da549353aae847b28e9348eeb39c229a",
              "IPY_MODEL_f823e843fe014affb5a18d2892c93d9f",
              "IPY_MODEL_4afd9c192b4148e5a526e22c09709b7b"
            ],
            "layout": "IPY_MODEL_43db40ff8bdc4e92977f83d828a2b819"
          }
        },
        "ed03b412e14b496c9b13a52ca35e01c5": {
          "model_module": "@jupyter-widgets/base",
          "model_module_version": "1.2.0",
          "model_name": "LayoutModel",
          "state": {
            "_model_module": "@jupyter-widgets/base",
            "_model_module_version": "1.2.0",
            "_model_name": "LayoutModel",
            "_view_count": null,
            "_view_module": "@jupyter-widgets/base",
            "_view_module_version": "1.2.0",
            "_view_name": "LayoutView",
            "align_content": null,
            "align_items": null,
            "align_self": null,
            "border": null,
            "bottom": null,
            "display": null,
            "flex": null,
            "flex_flow": null,
            "grid_area": null,
            "grid_auto_columns": null,
            "grid_auto_flow": null,
            "grid_auto_rows": null,
            "grid_column": null,
            "grid_gap": null,
            "grid_row": null,
            "grid_template_areas": null,
            "grid_template_columns": null,
            "grid_template_rows": null,
            "height": null,
            "justify_content": null,
            "justify_items": null,
            "left": null,
            "margin": null,
            "max_height": null,
            "max_width": null,
            "min_height": null,
            "min_width": null,
            "object_fit": null,
            "object_position": null,
            "order": null,
            "overflow": null,
            "overflow_x": null,
            "overflow_y": null,
            "padding": null,
            "right": null,
            "top": null,
            "visibility": null,
            "width": null
          }
        },
        "ee18e84a5f084bb986f3ae0a4d70506e": {
          "model_module": "@jupyter-widgets/controls",
          "model_module_version": "1.5.0",
          "model_name": "DescriptionStyleModel",
          "state": {
            "_model_module": "@jupyter-widgets/controls",
            "_model_module_version": "1.5.0",
            "_model_name": "DescriptionStyleModel",
            "_view_count": null,
            "_view_module": "@jupyter-widgets/base",
            "_view_module_version": "1.2.0",
            "_view_name": "StyleView",
            "description_width": ""
          }
        },
        "ee5df7a7946f407096963c3951bb9ecd": {
          "model_module": "@jupyter-widgets/controls",
          "model_module_version": "1.5.0",
          "model_name": "HTMLModel",
          "state": {
            "_dom_classes": [],
            "_model_module": "@jupyter-widgets/controls",
            "_model_module_version": "1.5.0",
            "_model_name": "HTMLModel",
            "_view_count": null,
            "_view_module": "@jupyter-widgets/controls",
            "_view_module_version": "1.5.0",
            "_view_name": "HTMLView",
            "description": "",
            "description_tooltip": null,
            "layout": "IPY_MODEL_3a72f7409bbc4ff792e643ccfce8e614",
            "placeholder": "​",
            "style": "IPY_MODEL_4cdd0f0fb3c04977b367293b87f9188b",
            "value": " 7/7 [01:34&lt;00:00, 10.40s/it]"
          }
        },
        "f2cd74b3939946ccbf33f7fe492edc70": {
          "model_module": "@jupyter-widgets/controls",
          "model_module_version": "1.5.0",
          "model_name": "DescriptionStyleModel",
          "state": {
            "_model_module": "@jupyter-widgets/controls",
            "_model_module_version": "1.5.0",
            "_model_name": "DescriptionStyleModel",
            "_view_count": null,
            "_view_module": "@jupyter-widgets/base",
            "_view_module_version": "1.2.0",
            "_view_name": "StyleView",
            "description_width": ""
          }
        },
        "f3957464e06e4481aab754128649c7f7": {
          "model_module": "@jupyter-widgets/base",
          "model_module_version": "1.2.0",
          "model_name": "LayoutModel",
          "state": {
            "_model_module": "@jupyter-widgets/base",
            "_model_module_version": "1.2.0",
            "_model_name": "LayoutModel",
            "_view_count": null,
            "_view_module": "@jupyter-widgets/base",
            "_view_module_version": "1.2.0",
            "_view_name": "LayoutView",
            "align_content": null,
            "align_items": null,
            "align_self": null,
            "border": null,
            "bottom": null,
            "display": null,
            "flex": null,
            "flex_flow": null,
            "grid_area": null,
            "grid_auto_columns": null,
            "grid_auto_flow": null,
            "grid_auto_rows": null,
            "grid_column": null,
            "grid_gap": null,
            "grid_row": null,
            "grid_template_areas": null,
            "grid_template_columns": null,
            "grid_template_rows": null,
            "height": null,
            "justify_content": null,
            "justify_items": null,
            "left": null,
            "margin": null,
            "max_height": null,
            "max_width": null,
            "min_height": null,
            "min_width": null,
            "object_fit": null,
            "object_position": null,
            "order": null,
            "overflow": null,
            "overflow_x": null,
            "overflow_y": null,
            "padding": null,
            "right": null,
            "top": null,
            "visibility": null,
            "width": null
          }
        },
        "f5b251e82cd742ed97ffa2c46a92b9f2": {
          "model_module": "@jupyter-widgets/controls",
          "model_module_version": "1.5.0",
          "model_name": "DescriptionStyleModel",
          "state": {
            "_model_module": "@jupyter-widgets/controls",
            "_model_module_version": "1.5.0",
            "_model_name": "DescriptionStyleModel",
            "_view_count": null,
            "_view_module": "@jupyter-widgets/base",
            "_view_module_version": "1.2.0",
            "_view_name": "StyleView",
            "description_width": ""
          }
        },
        "f5cf5f62b5a049de9e4d987eee293df3": {
          "model_module": "@jupyter-widgets/base",
          "model_module_version": "1.2.0",
          "model_name": "LayoutModel",
          "state": {
            "_model_module": "@jupyter-widgets/base",
            "_model_module_version": "1.2.0",
            "_model_name": "LayoutModel",
            "_view_count": null,
            "_view_module": "@jupyter-widgets/base",
            "_view_module_version": "1.2.0",
            "_view_name": "LayoutView",
            "align_content": null,
            "align_items": null,
            "align_self": null,
            "border": null,
            "bottom": null,
            "display": null,
            "flex": null,
            "flex_flow": null,
            "grid_area": null,
            "grid_auto_columns": null,
            "grid_auto_flow": null,
            "grid_auto_rows": null,
            "grid_column": null,
            "grid_gap": null,
            "grid_row": null,
            "grid_template_areas": null,
            "grid_template_columns": null,
            "grid_template_rows": null,
            "height": null,
            "justify_content": null,
            "justify_items": null,
            "left": null,
            "margin": null,
            "max_height": null,
            "max_width": null,
            "min_height": null,
            "min_width": null,
            "object_fit": null,
            "object_position": null,
            "order": null,
            "overflow": null,
            "overflow_x": null,
            "overflow_y": null,
            "padding": null,
            "right": null,
            "top": null,
            "visibility": null,
            "width": null
          }
        },
        "f698132dcf204291882c16d4707575ab": {
          "model_module": "@jupyter-widgets/controls",
          "model_module_version": "1.5.0",
          "model_name": "HTMLModel",
          "state": {
            "_dom_classes": [],
            "_model_module": "@jupyter-widgets/controls",
            "_model_module_version": "1.5.0",
            "_model_name": "HTMLModel",
            "_view_count": null,
            "_view_module": "@jupyter-widgets/controls",
            "_view_module_version": "1.5.0",
            "_view_name": "HTMLView",
            "description": "",
            "description_tooltip": null,
            "layout": "IPY_MODEL_136eb9069b294307a1e1da3075e1247c",
            "placeholder": "​",
            "style": "IPY_MODEL_bbb0e3c74867471fa661a170a17bee8f",
            "value": "Processing:   0%"
          }
        },
        "f823e843fe014affb5a18d2892c93d9f": {
          "model_module": "@jupyter-widgets/controls",
          "model_module_version": "1.5.0",
          "model_name": "FloatProgressModel",
          "state": {
            "_dom_classes": [],
            "_model_module": "@jupyter-widgets/controls",
            "_model_module_version": "1.5.0",
            "_model_name": "FloatProgressModel",
            "_view_count": null,
            "_view_module": "@jupyter-widgets/controls",
            "_view_module_version": "1.5.0",
            "_view_name": "ProgressView",
            "bar_style": "success",
            "description": "",
            "description_tooltip": null,
            "layout": "IPY_MODEL_91b3801124494cedb70e4bfc0edee3c7",
            "max": 5,
            "min": 0,
            "orientation": "horizontal",
            "style": "IPY_MODEL_319e173b44b74667becf8693fd493a2e",
            "value": 5
          }
        },
        "f926ca0ddfaa4292a8d6b3192eb02a55": {
          "model_module": "@jupyter-widgets/controls",
          "model_module_version": "1.5.0",
          "model_name": "FloatProgressModel",
          "state": {
            "_dom_classes": [],
            "_model_module": "@jupyter-widgets/controls",
            "_model_module_version": "1.5.0",
            "_model_name": "FloatProgressModel",
            "_view_count": null,
            "_view_module": "@jupyter-widgets/controls",
            "_view_module_version": "1.5.0",
            "_view_name": "ProgressView",
            "bar_style": "",
            "description": "",
            "description_tooltip": null,
            "layout": "IPY_MODEL_1ca0cfb13dc1423da9c587285df6e765",
            "max": 7,
            "min": 0,
            "orientation": "horizontal",
            "style": "IPY_MODEL_6e6367ac05714e99a78a2cc5ae2ac8a6",
            "value": 7
          }
        },
        "fc3ef26938064dc0bc2758f5e4ef00bf": {
          "model_module": "@jupyter-widgets/base",
          "model_module_version": "1.2.0",
          "model_name": "LayoutModel",
          "state": {
            "_model_module": "@jupyter-widgets/base",
            "_model_module_version": "1.2.0",
            "_model_name": "LayoutModel",
            "_view_count": null,
            "_view_module": "@jupyter-widgets/base",
            "_view_module_version": "1.2.0",
            "_view_name": "LayoutView",
            "align_content": null,
            "align_items": null,
            "align_self": null,
            "border": null,
            "bottom": null,
            "display": null,
            "flex": null,
            "flex_flow": null,
            "grid_area": null,
            "grid_auto_columns": null,
            "grid_auto_flow": null,
            "grid_auto_rows": null,
            "grid_column": null,
            "grid_gap": null,
            "grid_row": null,
            "grid_template_areas": null,
            "grid_template_columns": null,
            "grid_template_rows": null,
            "height": null,
            "justify_content": null,
            "justify_items": null,
            "left": null,
            "margin": null,
            "max_height": null,
            "max_width": null,
            "min_height": null,
            "min_width": null,
            "object_fit": null,
            "object_position": null,
            "order": null,
            "overflow": null,
            "overflow_x": null,
            "overflow_y": null,
            "padding": null,
            "right": null,
            "top": null,
            "visibility": null,
            "width": null
          }
        },
        "fc67b55c59f44e70b086ddedd99b50ff": {
          "model_module": "@jupyter-widgets/base",
          "model_module_version": "1.2.0",
          "model_name": "LayoutModel",
          "state": {
            "_model_module": "@jupyter-widgets/base",
            "_model_module_version": "1.2.0",
            "_model_name": "LayoutModel",
            "_view_count": null,
            "_view_module": "@jupyter-widgets/base",
            "_view_module_version": "1.2.0",
            "_view_name": "LayoutView",
            "align_content": null,
            "align_items": null,
            "align_self": null,
            "border": null,
            "bottom": null,
            "display": null,
            "flex": null,
            "flex_flow": null,
            "grid_area": null,
            "grid_auto_columns": null,
            "grid_auto_flow": null,
            "grid_auto_rows": null,
            "grid_column": null,
            "grid_gap": null,
            "grid_row": null,
            "grid_template_areas": null,
            "grid_template_columns": null,
            "grid_template_rows": null,
            "height": null,
            "justify_content": null,
            "justify_items": null,
            "left": null,
            "margin": null,
            "max_height": null,
            "max_width": null,
            "min_height": null,
            "min_width": null,
            "object_fit": null,
            "object_position": null,
            "order": null,
            "overflow": null,
            "overflow_x": null,
            "overflow_y": null,
            "padding": null,
            "right": null,
            "top": null,
            "visibility": null,
            "width": null
          }
        },
        "fe9c4b7b64f0456c8ff9b9b64417352e": {
          "model_module": "@jupyter-widgets/controls",
          "model_module_version": "1.5.0",
          "model_name": "HBoxModel",
          "state": {
            "_dom_classes": [],
            "_model_module": "@jupyter-widgets/controls",
            "_model_module_version": "1.5.0",
            "_model_name": "HBoxModel",
            "_view_count": null,
            "_view_module": "@jupyter-widgets/controls",
            "_view_module_version": "1.5.0",
            "_view_name": "HBoxView",
            "box_style": "",
            "children": [
              "IPY_MODEL_e2060745923a455d9bd995706ded7107",
              "IPY_MODEL_149c342a656e4db2ab4da8f22171abbd",
              "IPY_MODEL_28203a3a1984452599a43c3e4c149914"
            ],
            "layout": "IPY_MODEL_a74be3b783fa4f0fac355d13d2b9dc38"
          }
        },
        "fe9c663492ff4ea3a42280c13004889e": {
          "model_module": "@jupyter-widgets/controls",
          "model_module_version": "1.5.0",
          "model_name": "DescriptionStyleModel",
          "state": {
            "_model_module": "@jupyter-widgets/controls",
            "_model_module_version": "1.5.0",
            "_model_name": "DescriptionStyleModel",
            "_view_count": null,
            "_view_module": "@jupyter-widgets/base",
            "_view_module_version": "1.2.0",
            "_view_name": "StyleView",
            "description_width": ""
          }
        }
      }
    }
  },
  "nbformat": 4,
  "nbformat_minor": 0
}
