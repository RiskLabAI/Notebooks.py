{
 "cells": [
  {
   "cell_type": "markdown",
   "metadata": {},
   "source": [
    "# Estimate Entropy\n",
    "\n",
    "The following entropy estimators are implemented in this section:\n",
    "\n",
    "1. Shannon\n",
    "2. Lempel-Ziv\n",
    "3. Plug-In\n",
    "4. Kontoyiannis"
   ]
  },
  {
   "cell_type": "code",
   "execution_count": 1,
   "metadata": {},
   "outputs": [],
   "source": [
    "from Entropy import shannon_entropy, lemple_ziv_entropy, plug_in_entropy_estimator, kontoyiannis_entorpy"
   ]
  },
  {
   "cell_type": "code",
   "execution_count": 2,
   "metadata": {},
   "outputs": [
    {
     "data": {
      "text/plain": [
       "'abbkaacmmndeannasncb'"
      ]
     },
     "execution_count": 2,
     "metadata": {},
     "output_type": "execute_result"
    }
   ],
   "source": [
    "message = \"abbkaacmmndeannasncb\"\n",
    "message"
   ]
  },
  {
   "cell_type": "code",
   "execution_count": 3,
   "metadata": {},
   "outputs": [
    {
     "data": {
      "text/plain": [
       "2.9037016960573485"
      ]
     },
     "execution_count": 3,
     "metadata": {},
     "output_type": "execute_result"
    }
   ],
   "source": [
    "shannon = shannon_entropy(message)\n",
    "shannon"
   ]
  },
  {
   "cell_type": "code",
   "execution_count": 4,
   "metadata": {},
   "outputs": [
    {
     "data": {
      "text/plain": [
       "0.65"
      ]
     },
     "execution_count": 4,
     "metadata": {},
     "output_type": "execute_result"
    }
   ],
   "source": [
    "def lemple_ziv_entropy(\n",
    "    message:str # input encoded message\n",
    ") -> float:\n",
    "\n",
    "    i, library = 0, set([str(message[1])])\n",
    "    message_length = len(message)\n",
    "    while i < message_length:\n",
    "        last_j_value = message_length - 1\n",
    "        for j in range(i, message_length):\n",
    "            message_ = message[i+1:j+2]\n",
    "            if message_ not in library:\n",
    "                library.add(message_)\n",
    "                last_j_value = j\n",
    "                break\n",
    "\n",
    "        i = last_j_value + 1\n",
    "\n",
    "\n",
    "    return len(library) / len(message)\n",
    "\n",
    "\n",
    "lempel_ziv = lemple_ziv_entropy(message)\n",
    "lempel_ziv"
   ]
  },
  {
   "cell_type": "code",
   "execution_count": 5,
   "metadata": {},
   "outputs": [
    {
     "data": {
      "text/plain": [
       "2.900051698999542"
      ]
     },
     "execution_count": 5,
     "metadata": {},
     "output_type": "execute_result"
    }
   ],
   "source": [
    "plug_in = plug_in_entropy_estimator(message, approximate_word_length=1)\n",
    "plug_in"
   ]
  }
 ],
 "metadata": {
  "kernelspec": {
   "display_name": "Python 3.10.7 ('data_env')",
   "language": "python",
   "name": "python3"
  },
  "language_info": {
   "codemirror_mode": {
    "name": "ipython",
    "version": 3
   },
   "file_extension": ".py",
   "mimetype": "text/x-python",
   "name": "python",
   "nbconvert_exporter": "python",
   "pygments_lexer": "ipython3",
   "version": "3.10.7"
  },
  "orig_nbformat": 4,
  "vscode": {
   "interpreter": {
    "hash": "b8fb9d1f403244eb1d8985de9eba125cdc054776ee3ac17bd9ecc183ad605f87"
   }
  }
 },
 "nbformat": 4,
 "nbformat_minor": 2
}
