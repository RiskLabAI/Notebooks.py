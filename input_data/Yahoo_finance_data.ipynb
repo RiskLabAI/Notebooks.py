{
 "cells": [
  {
   "cell_type": "code",
   "execution_count": 1,
   "metadata": {},
   "outputs": [],
   "source": [
    "import numpy as np\n",
    "import pandas as pd\n",
    "#from pandas_datareader import data as wb\n",
    "import matplotlib.pyplot as plt\n",
    "from datetime import datetime"
   ]
  },
  {
   "cell_type": "code",
   "execution_count": 2,
   "metadata": {},
   "outputs": [],
   "source": [
    "import yfinance as yf\n",
    "ohlcv_data = yf.Ticker(\"AAPL\").history(\n",
    "    interval=\"1m\",\n",
    "    period=\"5d\"\n",
    ")"
   ]
  },
  {
   "cell_type": "code",
   "execution_count": 3,
   "metadata": {},
   "outputs": [],
   "source": [
    "ohlcv_data = ohlcv_data[[\"Open\", \"High\", \"Low\", \"Close\", \"Volume\"]]"
   ]
  },
  {
   "cell_type": "code",
   "execution_count": 4,
   "metadata": {},
   "outputs": [],
   "source": [
    "ohlcv_data.index = ohlcv_data.index.strftime('%Y-%m-%d %H:%M:%S')"
   ]
  },
  {
   "cell_type": "code",
   "execution_count": 5,
   "metadata": {},
   "outputs": [
    {
     "data": {
      "text/html": [
       "<div>\n",
       "<style scoped>\n",
       "    .dataframe tbody tr th:only-of-type {\n",
       "        vertical-align: middle;\n",
       "    }\n",
       "\n",
       "    .dataframe tbody tr th {\n",
       "        vertical-align: top;\n",
       "    }\n",
       "\n",
       "    .dataframe thead th {\n",
       "        text-align: right;\n",
       "    }\n",
       "</style>\n",
       "<table border=\"1\" class=\"dataframe\">\n",
       "  <thead>\n",
       "    <tr style=\"text-align: right;\">\n",
       "      <th></th>\n",
       "      <th>Open</th>\n",
       "      <th>High</th>\n",
       "      <th>Low</th>\n",
       "      <th>Close</th>\n",
       "      <th>Volume</th>\n",
       "    </tr>\n",
       "    <tr>\n",
       "      <th>Datetime</th>\n",
       "      <th></th>\n",
       "      <th></th>\n",
       "      <th></th>\n",
       "      <th></th>\n",
       "      <th></th>\n",
       "    </tr>\n",
       "  </thead>\n",
       "  <tbody>\n",
       "    <tr>\n",
       "      <th>2022-08-22 09:30:00</th>\n",
       "      <td>169.690002</td>\n",
       "      <td>169.710007</td>\n",
       "      <td>168.929993</td>\n",
       "      <td>169.520004</td>\n",
       "      <td>3685094</td>\n",
       "    </tr>\n",
       "    <tr>\n",
       "      <th>2022-08-22 09:31:00</th>\n",
       "      <td>169.520004</td>\n",
       "      <td>169.740005</td>\n",
       "      <td>169.520004</td>\n",
       "      <td>169.699997</td>\n",
       "      <td>471038</td>\n",
       "    </tr>\n",
       "    <tr>\n",
       "      <th>2022-08-22 09:32:00</th>\n",
       "      <td>169.710007</td>\n",
       "      <td>169.736801</td>\n",
       "      <td>169.259995</td>\n",
       "      <td>169.309998</td>\n",
       "      <td>352459</td>\n",
       "    </tr>\n",
       "    <tr>\n",
       "      <th>2022-08-22 09:33:00</th>\n",
       "      <td>169.250000</td>\n",
       "      <td>169.250000</td>\n",
       "      <td>169.210007</td>\n",
       "      <td>169.220001</td>\n",
       "      <td>291817</td>\n",
       "    </tr>\n",
       "    <tr>\n",
       "      <th>2022-08-22 09:34:00</th>\n",
       "      <td>169.250000</td>\n",
       "      <td>169.250000</td>\n",
       "      <td>168.940994</td>\n",
       "      <td>169.039993</td>\n",
       "      <td>357077</td>\n",
       "    </tr>\n",
       "  </tbody>\n",
       "</table>\n",
       "</div>"
      ],
      "text/plain": [
       "                           Open        High         Low       Close   Volume\n",
       "Datetime                                                                    \n",
       "2022-08-22 09:30:00  169.690002  169.710007  168.929993  169.520004  3685094\n",
       "2022-08-22 09:31:00  169.520004  169.740005  169.520004  169.699997   471038\n",
       "2022-08-22 09:32:00  169.710007  169.736801  169.259995  169.309998   352459\n",
       "2022-08-22 09:33:00  169.250000  169.250000  169.210007  169.220001   291817\n",
       "2022-08-22 09:34:00  169.250000  169.250000  168.940994  169.039993   357077"
      ]
     },
     "execution_count": 5,
     "metadata": {},
     "output_type": "execute_result"
    }
   ],
   "source": [
    "ohlcv_data.head()"
   ]
  },
  {
   "cell_type": "code",
   "execution_count": 6,
   "metadata": {},
   "outputs": [],
   "source": [
    "ohlcv_data.save_batch_run(\"AAPL_OHLCV_1m_Data.csv\")"
   ]
  }
 ],
 "metadata": {
  "kernelspec": {
   "display_name": "Python 3.10.4 ('data_env')",
   "language": "python",
   "name": "python3"
  },
  "language_info": {
   "codemirror_mode": {
    "name": "ipython",
    "version": 3
   },
   "file_extension": ".py",
   "mimetype": "text/x-python",
   "name": "python",
   "nbconvert_exporter": "python",
   "pygments_lexer": "ipython3",
   "version": "3.10.4"
  },
  "orig_nbformat": 4,
  "vscode": {
   "interpreter": {
    "hash": "34daa296ffe99e8a66e159d01b1dfeb9a87967b5cca691fda43c054f03617153"
   }
  }
 },
 "nbformat": 4,
 "nbformat_minor": 2
}
