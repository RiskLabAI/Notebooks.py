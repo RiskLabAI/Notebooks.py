{
 "cells": [
  {
   "cell_type": "markdown",
   "metadata": {},
   "source": [
    "# NCO Algorithm\n",
    "## Imports"
   ]
  },
  {
   "cell_type": "code",
   "metadata": {
    "ExecuteTime": {
     "end_time": "2024-05-11T14:51:27.445503Z",
     "start_time": "2024-05-11T14:51:27.271991Z"
    }
   },
   "source": [
    "import yfinance as yf"
   ],
   "outputs": [],
   "execution_count": 1
  },
  {
   "cell_type": "code",
   "metadata": {
    "ExecuteTime": {
     "end_time": "2024-05-11T14:51:27.448710Z",
     "start_time": "2024-05-11T14:51:27.445503Z"
    }
   },
   "source": [
    "import pandas as pd\n",
    "import seaborn as sns\n",
    "import numpy as np\n",
    "from scipy.linalg import block_diag\n",
    "\n",
    "import warnings\n",
    "warnings.filterwarnings(\"ignore\")"
   ],
   "outputs": [],
   "execution_count": 2
  },
  {
   "cell_type": "markdown",
   "metadata": {},
   "source": "## Import py file"
  },
  {
   "cell_type": "code",
   "metadata": {
    "ExecuteTime": {
     "end_time": "2024-05-11T14:51:29.662142Z",
     "start_time": "2024-05-11T14:51:27.448710Z"
    }
   },
   "source": [
    "import RiskLabAI.optimization.nco as nco\n",
    "import RiskLabAI.data.denoise.denoising as denoising"
   ],
   "outputs": [],
   "execution_count": 3
  },
  {
   "cell_type": "markdown",
   "metadata": {},
   "source": [
    "## Composition of the diagonal correlation matrix\n",
    "\n",
    "This cell shows how to form a block-diagonal correlation matrix of different numbers of blocks, block sizes, and intrablock correlations."
   ]
  },
  {
   "cell_type": "code",
   "metadata": {
    "ExecuteTime": {
     "end_time": "2024-05-11T14:51:29.770879Z",
     "start_time": "2024-05-11T14:51:29.662142Z"
    }
   },
   "source": [
    "corr0 = denoising.form_block_matrix(2, 2, .5)\n",
    "eigen_values, eigen_vectors = np.linalg.eigh(corr0)\n",
    "print(max(eigen_values) / min(eigen_values))\n",
    "sns.heatmap(corr0, cmap=\"viridis\")"
   ],
   "outputs": [
    {
     "name": "stdout",
     "output_type": "stream",
     "text": [
      "3.0\n"
     ]
    },
    {
     "data": {
      "text/plain": [
       "<Axes: >"
      ]
     },
     "execution_count": 4,
     "metadata": {},
     "output_type": "execute_result"
    },
    {
     "data": {
      "text/plain": [
       "<Figure size 640x480 with 2 Axes>"
      ],
      "image/png": "[encoded data removed]"
     },
     "metadata": {},
     "output_type": "display_data"
    }
   ],
   "execution_count": 4
  },
  {
   "cell_type": "markdown",
   "metadata": {},
   "source": [
    "## Block-Diagonal Correlation Matrix with a Dominant Block\n",
    "\n",
    "This cell demonstrates that reducing the intrablock correlation in only one of the two blocks does not decrease the condition number."
   ]
  },
  {
   "cell_type": "code",
   "metadata": {
    "ExecuteTime": {
     "end_time": "2024-05-11T14:51:29.774609Z",
     "start_time": "2024-05-11T14:51:29.770879Z"
    }
   },
   "source": [
    "corr0 = block_diag(denoising.form_block_matrix(1, 2, .5))\n",
    "corr1 = denoising.form_block_matrix(1, 2, .0)\n",
    "corr0 = block_diag(corr0, corr1)\n",
    "eigen_values, eigen_vectors = np.linalg.eigh(corr0)\n",
    "print(max(eigen_values) / min(eigen_values))"
   ],
   "outputs": [
    {
     "name": "stdout",
     "output_type": "stream",
     "text": [
      "3.0\n"
     ]
    }
   ],
   "execution_count": 5
  },
  {
   "cell_type": "markdown",
   "metadata": {},
   "source": [
    "## Running NCO Algorithm\n",
    "In following cells, we will demonstrate the NCO algorithm.\n",
    "### 1. Correlation Clustering\n",
    "First step is to cluster the correlation matrix and that means to group the assets that have high correlation with each other."
   ]
  },
  {
   "cell_type": "code",
   "metadata": {
    "ExecuteTime": {
     "end_time": "2024-05-11T14:51:38.422227Z",
     "start_time": "2024-05-11T14:51:29.774609Z"
    }
   },
   "source": [
    "all_stocks = pd.DataFrame()\n",
    "stocks = [\"AAPL\", \"MSFT\", \"GOOG\", \"AMZN\", \"TSLA\", \"JPM\", \"UNH\",\n",
    "          \"V\", \"JNJ\", \"HD\", \"WMT\", \"PG\", \"BAC\", \"MA\", \"PFE\", \"DIS\", \"AVGO\",\n",
    "          \"XOM\", \"ACM\", \"CSCO\", \"NFLX\", \"NKE\", \"LLY\", \"KO\", \"TMO\", \"CRM\", \"COST\", \"AAL\"]\n",
    "for symb in stocks:\n",
    "    data = pd.DataFrame(yf.Ticker(symb).history(start=\"2019-01-01\", end=\"2021-08-08\")['Close']).transpose()\n",
    "    if symb == 'BTC-USD':\n",
    "        all_stocks = data.copy()\n",
    "    else:\n",
    "        all_stocks = pd.concat([all_stocks, data], axis=0)\n",
    "all_stocks.index = [stocks]\n",
    "all_stocks = all_stocks.transpose()\n",
    "all_stocks = all_stocks.pct_change(1)"
   ],
   "outputs": [],
   "execution_count": 6
  },
  {
   "cell_type": "code",
   "metadata": {
    "ExecuteTime": {
     "end_time": "2024-05-11T14:51:39.398602Z",
     "start_time": "2024-05-11T14:51:38.422227Z"
    }
   },
   "source": [
    "cov0 = all_stocks.cov()\n",
    "cols = cov0.columns\n",
    "cov1 = denoising.denoise_cov(cov0, all_stocks.shape[0] / all_stocks.shape[1], bandwidth=.01)  # de-noise cov\n",
    "cov1 = pd.DataFrame(cov1, index=cols, columns=cols)\n",
    "corr1 = denoising.cov_to_corr(cov1)\n",
    "corr1, clusters, silh = nco.cluster_k_means_base(corr1, number_clusters=int(corr1.shape[0] / 2), iterations=10)"
   ],
   "outputs": [],
   "execution_count": 7
  },
  {
   "cell_type": "markdown",
   "metadata": {},
   "source": [
    "### 2. Intracluster Weights\n",
    "\n",
    "The next step is to calculate the optimal intracluster weights."
   ]
  },
  {
   "cell_type": "code",
   "metadata": {
    "ExecuteTime": {
     "end_time": "2024-05-11T14:51:39.418309Z",
     "start_time": "2024-05-11T14:51:39.398602Z"
    }
   },
   "source": [
    "w_intra = pd.DataFrame(0, index=cov1.index, columns=clusters.keys())\n",
    "for i in clusters:\n",
    "    w_intra.loc[clusters[i], i] = nco.get_optimal_portfolio_weights(cov1.loc[clusters[i], clusters[i]]).flatten()\n",
    "w_intra"
   ],
   "outputs": [
    {
     "data": {
      "text/plain": [
       "             0         1\n",
       "AAPL  0.000000  0.038483\n",
       "MSFT  0.000000  0.048928\n",
       "GOOG  0.000000  0.052074\n",
       "AMZN  0.000000  0.052952\n",
       "TSLA  0.000000  0.010168\n",
       "JPM   0.000000  0.035032\n",
       "UNH   0.108051  0.000000\n",
       "V     0.000000  0.051802\n",
       "JNJ   0.258808  0.000000\n",
       "HD    0.138392  0.000000\n",
       "WMT   0.000000  0.091575\n",
       "PG    0.000000  0.086168\n",
       "BAC   0.077353  0.000000\n",
       "MA    0.000000  0.038689\n",
       "PFE   0.000000  0.069842\n",
       "DIS   0.000000  0.038386\n",
       "AVGO  0.000000  0.031124\n",
       "XOM   0.091144  0.000000\n",
       "ACM   0.000000  0.031344\n",
       "CSCO  0.000000  0.049561\n",
       "NFLX  0.083301  0.000000\n",
       "NKE   0.126090  0.000000\n",
       "LLY   0.116862  0.000000\n",
       "KO    0.000000  0.077520\n",
       "TMO   0.000000  0.055588\n",
       "CRM   0.000000  0.032903\n",
       "COST  0.000000  0.098533\n",
       "AAL   0.000000  0.009326"
      ],
      "text/html": [
       "<div>\n",
       "<style scoped>\n",
       "    .dataframe tbody tr th:only-of-type {\n",
       "        vertical-align: middle;\n",
       "    }\n",
       "\n",
       "    .dataframe tbody tr th {\n",
       "        vertical-align: top;\n",
       "    }\n",
       "\n",
       "    .dataframe thead th {\n",
       "        text-align: right;\n",
       "    }\n",
       "</style>\n",
       "<table border=\"1\" class=\"dataframe\">\n",
       "  <thead>\n",
       "    <tr style=\"text-align: right;\">\n",
       "      <th></th>\n",
       "      <th>0</th>\n",
       "      <th>1</th>\n",
       "    </tr>\n",
       "  </thead>\n",
       "  <tbody>\n",
       "    <tr>\n",
       "      <th>AAPL</th>\n",
       "      <td>0.000000</td>\n",
       "      <td>0.038483</td>\n",
       "    </tr>\n",
       "    <tr>\n",
       "      <th>MSFT</th>\n",
       "      <td>0.000000</td>\n",
       "      <td>0.048928</td>\n",
       "    </tr>\n",
       "    <tr>\n",
       "      <th>GOOG</th>\n",
       "      <td>0.000000</td>\n",
       "      <td>0.052074</td>\n",
       "    </tr>\n",
       "    <tr>\n",
       "      <th>AMZN</th>\n",
       "      <td>0.000000</td>\n",
       "      <td>0.052952</td>\n",
       "    </tr>\n",
       "    <tr>\n",
       "      <th>TSLA</th>\n",
       "      <td>0.000000</td>\n",
       "      <td>0.010168</td>\n",
       "    </tr>\n",
       "    <tr>\n",
       "      <th>JPM</th>\n",
       "      <td>0.000000</td>\n",
       "      <td>0.035032</td>\n",
       "    </tr>\n",
       "    <tr>\n",
       "      <th>UNH</th>\n",
       "      <td>0.108051</td>\n",
       "      <td>0.000000</td>\n",
       "    </tr>\n",
       "    <tr>\n",
       "      <th>V</th>\n",
       "      <td>0.000000</td>\n",
       "      <td>0.051802</td>\n",
       "    </tr>\n",
       "    <tr>\n",
       "      <th>JNJ</th>\n",
       "      <td>0.258808</td>\n",
       "      <td>0.000000</td>\n",
       "    </tr>\n",
       "    <tr>\n",
       "      <th>HD</th>\n",
       "      <td>0.138392</td>\n",
       "      <td>0.000000</td>\n",
       "    </tr>\n",
       "    <tr>\n",
       "      <th>WMT</th>\n",
       "      <td>0.000000</td>\n",
       "      <td>0.091575</td>\n",
       "    </tr>\n",
       "    <tr>\n",
       "      <th>PG</th>\n",
       "      <td>0.000000</td>\n",
       "      <td>0.086168</td>\n",
       "    </tr>\n",
       "    <tr>\n",
       "      <th>BAC</th>\n",
       "      <td>0.077353</td>\n",
       "      <td>0.000000</td>\n",
       "    </tr>\n",
       "    <tr>\n",
       "      <th>MA</th>\n",
       "      <td>0.000000</td>\n",
       "      <td>0.038689</td>\n",
       "    </tr>\n",
       "    <tr>\n",
       "      <th>PFE</th>\n",
       "      <td>0.000000</td>\n",
       "      <td>0.069842</td>\n",
       "    </tr>\n",
       "    <tr>\n",
       "      <th>DIS</th>\n",
       "      <td>0.000000</td>\n",
       "      <td>0.038386</td>\n",
       "    </tr>\n",
       "    <tr>\n",
       "      <th>AVGO</th>\n",
       "      <td>0.000000</td>\n",
       "      <td>0.031124</td>\n",
       "    </tr>\n",
       "    <tr>\n",
       "      <th>XOM</th>\n",
       "      <td>0.091144</td>\n",
       "      <td>0.000000</td>\n",
       "    </tr>\n",
       "    <tr>\n",
       "      <th>ACM</th>\n",
       "      <td>0.000000</td>\n",
       "      <td>0.031344</td>\n",
       "    </tr>\n",
       "    <tr>\n",
       "      <th>CSCO</th>\n",
       "      <td>0.000000</td>\n",
       "      <td>0.049561</td>\n",
       "    </tr>\n",
       "    <tr>\n",
       "      <th>NFLX</th>\n",
       "      <td>0.083301</td>\n",
       "      <td>0.000000</td>\n",
       "    </tr>\n",
       "    <tr>\n",
       "      <th>NKE</th>\n",
       "      <td>0.126090</td>\n",
       "      <td>0.000000</td>\n",
       "    </tr>\n",
       "    <tr>\n",
       "      <th>LLY</th>\n",
       "      <td>0.116862</td>\n",
       "      <td>0.000000</td>\n",
       "    </tr>\n",
       "    <tr>\n",
       "      <th>KO</th>\n",
       "      <td>0.000000</td>\n",
       "      <td>0.077520</td>\n",
       "    </tr>\n",
       "    <tr>\n",
       "      <th>TMO</th>\n",
       "      <td>0.000000</td>\n",
       "      <td>0.055588</td>\n",
       "    </tr>\n",
       "    <tr>\n",
       "      <th>CRM</th>\n",
       "      <td>0.000000</td>\n",
       "      <td>0.032903</td>\n",
       "    </tr>\n",
       "    <tr>\n",
       "      <th>COST</th>\n",
       "      <td>0.000000</td>\n",
       "      <td>0.098533</td>\n",
       "    </tr>\n",
       "    <tr>\n",
       "      <th>AAL</th>\n",
       "      <td>0.000000</td>\n",
       "      <td>0.009326</td>\n",
       "    </tr>\n",
       "  </tbody>\n",
       "</table>\n",
       "</div>"
      ]
     },
     "execution_count": 8,
     "metadata": {},
     "output_type": "execute_result"
    }
   ],
   "execution_count": 8
  },
  {
   "cell_type": "code",
   "metadata": {
    "ExecuteTime": {
     "end_time": "2024-05-11T14:51:39.424537Z",
     "start_time": "2024-05-11T14:51:39.418309Z"
    }
   },
   "source": [
    "cov2 = w_intra.T.dot(np.dot(cov1, w_intra))  # reduced covariance matrix\n",
    "cov2"
   ],
   "outputs": [
    {
     "data": {
      "text/plain": [
       "              0             1\n",
       "0  5.202742e-05 -2.840252e-20\n",
       "1 -2.913226e-20  1.931459e-05"
      ],
      "text/html": [
       "<div>\n",
       "<style scoped>\n",
       "    .dataframe tbody tr th:only-of-type {\n",
       "        vertical-align: middle;\n",
       "    }\n",
       "\n",
       "    .dataframe tbody tr th {\n",
       "        vertical-align: top;\n",
       "    }\n",
       "\n",
       "    .dataframe thead th {\n",
       "        text-align: right;\n",
       "    }\n",
       "</style>\n",
       "<table border=\"1\" class=\"dataframe\">\n",
       "  <thead>\n",
       "    <tr style=\"text-align: right;\">\n",
       "      <th></th>\n",
       "      <th>0</th>\n",
       "      <th>1</th>\n",
       "    </tr>\n",
       "  </thead>\n",
       "  <tbody>\n",
       "    <tr>\n",
       "      <th>0</th>\n",
       "      <td>5.202742e-05</td>\n",
       "      <td>-2.840252e-20</td>\n",
       "    </tr>\n",
       "    <tr>\n",
       "      <th>1</th>\n",
       "      <td>-2.913226e-20</td>\n",
       "      <td>1.931459e-05</td>\n",
       "    </tr>\n",
       "  </tbody>\n",
       "</table>\n",
       "</div>"
      ]
     },
     "execution_count": 9,
     "metadata": {},
     "output_type": "execute_result"
    }
   ],
   "execution_count": 9
  },
  {
   "cell_type": "markdown",
   "metadata": {},
   "source": [
    "### 3. Intercluster Weights\n",
    "Finally, we calculate the optimal intercluster allocations using reduced covariance matrix."
   ]
  },
  {
   "cell_type": "code",
   "metadata": {
    "ExecuteTime": {
     "end_time": "2024-05-11T14:51:39.430279Z",
     "start_time": "2024-05-11T14:51:39.424537Z"
    }
   },
   "source": [
    "w_inter = pd.Series(nco.get_optimal_portfolio_weights(cov2).flatten(), index=cov2.index)\n",
    "w_inter"
   ],
   "outputs": [
    {
     "data": {
      "text/plain": [
       "0    0.270732\n",
       "1    0.729268\n",
       "dtype: float64"
      ]
     },
     "execution_count": 10,
     "metadata": {},
     "output_type": "execute_result"
    }
   ],
   "execution_count": 10
  },
  {
   "cell_type": "code",
   "metadata": {
    "ExecuteTime": {
     "end_time": "2024-05-11T14:51:39.437055Z",
     "start_time": "2024-05-11T14:51:39.430279Z"
    }
   },
   "source": [
    "w_all0 = w_intra.mul(w_inter, axis=1).sum(axis=1).sort_index()\n",
    "w_all0"
   ],
   "outputs": [
    {
     "data": {
      "text/plain": [
       "AAL     0.006801\n",
       "AAPL    0.028064\n",
       "ACM     0.022858\n",
       "AMZN    0.038617\n",
       "AVGO    0.022698\n",
       "BAC     0.020942\n",
       "COST    0.071857\n",
       "CRM     0.023995\n",
       "CSCO    0.036143\n",
       "DIS     0.027994\n",
       "GOOG    0.037976\n",
       "HD      0.037467\n",
       "JNJ     0.070068\n",
       "JPM     0.025548\n",
       "KO      0.056533\n",
       "LLY     0.031638\n",
       "MA      0.028215\n",
       "MSFT    0.035681\n",
       "NFLX    0.022552\n",
       "NKE     0.034137\n",
       "PFE     0.050933\n",
       "PG      0.062840\n",
       "TMO     0.040539\n",
       "TSLA    0.007415\n",
       "UNH     0.029253\n",
       "V       0.037777\n",
       "WMT     0.066783\n",
       "XOM     0.024676\n",
       "dtype: float64"
      ]
     },
     "execution_count": 11,
     "metadata": {},
     "output_type": "execute_result"
    }
   ],
   "execution_count": 11
  },
  {
   "cell_type": "markdown",
   "metadata": {},
   "source": [
    "##  Wrapper implementation \n",
    "The method get_optimal_portfolio_weights_nco is a wrapper around the three steps above. "
   ]
  },
  {
   "cell_type": "code",
   "metadata": {
    "ExecuteTime": {
     "end_time": "2024-05-11T14:51:40.296892Z",
     "start_time": "2024-05-11T14:51:39.437055Z"
    }
   },
   "source": [
    "nco.get_optimal_portfolio_weights_nco(cov1)"
   ],
   "outputs": [
    {
     "data": {
      "text/plain": [
       "array([[0.02806418],\n",
       "       [0.03568139],\n",
       "       [0.03797622],\n",
       "       [0.03861652],\n",
       "       [0.00741528],\n",
       "       [0.02554794],\n",
       "       [0.02925279],\n",
       "       [0.03777716],\n",
       "       [0.07006783],\n",
       "       [0.03746706],\n",
       "       [0.06678253],\n",
       "       [0.06283955],\n",
       "       [0.02094187],\n",
       "       [0.0282149 ],\n",
       "       [0.05093319],\n",
       "       [0.027994  ],\n",
       "       [0.02269779],\n",
       "       [0.02467568],\n",
       "       [0.02285841],\n",
       "       [0.03614341],\n",
       "       [0.02255228],\n",
       "       [0.03413655],\n",
       "       [0.0316383 ],\n",
       "       [0.05653312],\n",
       "       [0.04053874],\n",
       "       [0.02399475],\n",
       "       [0.07185722],\n",
       "       [0.00680136]])"
      ]
     },
     "execution_count": 12,
     "metadata": {},
     "output_type": "execute_result"
    }
   ],
   "execution_count": 12
  },
  {
   "cell_type": "markdown",
   "metadata": {},
   "source": [
    "## Minimum Variance Portfolio\n",
    "In the following cells, we will demonstrate the minimum variance portfolio using the NCO algorithm and then compare the results with Markowitz's solution. Here are the steps:\n",
    "\n",
    "### 1. Form a true matrix\n",
    "In this step, we will form a true matrix with 5 blocks, each of size 6, and an intrablock correlation of 0.5."
   ]
  },
  {
   "cell_type": "code",
   "metadata": {
    "ExecuteTime": {
     "end_time": "2024-05-11T14:51:40.301418Z",
     "start_time": "2024-05-11T14:51:40.296892Z"
    }
   },
   "source": [
    "n_blocks, b_size, b_corr = 5, 6, .5\n",
    "np.random.seed(0)\n",
    "mu0, cov0 = denoising.form_true_matrix(n_blocks, b_size, b_corr)"
   ],
   "outputs": [],
   "execution_count": 13
  },
  {
   "cell_type": "markdown",
   "metadata": {},
   "source": [
    "### 2. Simulate the covariance matrix\n",
    "In this step, we will simulate the covariance matrix using the true matrix. Then we will calculate the optimal portfolio weights using the NCO algorithm."
   ]
  },
  {
   "cell_type": "code",
   "metadata": {
    "ExecuteTime": {
     "end_time": "2024-05-11T14:51:50.541863Z",
     "start_time": "2024-05-11T14:51:40.301418Z"
    }
   },
   "source": [
    "n_obs, n_sims, shrink, min_var_portf = 1000, 10, False, True\n",
    "w1 = pd.DataFrame(columns=range(cov0.shape[0]), index=range(n_sims), dtype=float)\n",
    "w1_d = w1.copy(deep=True)\n",
    "np.random.seed(0)\n",
    "for i in range(n_sims):\n",
    "    mu1, cov1 = denoising.simulates_cov_mu(mu0, cov0, n_obs, shrink=shrink)\n",
    "    mu1 = None if min_var_portf else mu1\n",
    "    w1.loc[i] = nco.get_optimal_portfolio_weights(cov1, mu1).flatten()\n",
    "    w1_d.loc[i] = nco.get_optimal_portfolio_weights_nco(cov1, mu1, int(cov1.shape[0] / 2)).flatten()"
   ],
   "outputs": [],
   "execution_count": 14
  },
  {
   "cell_type": "markdown",
   "metadata": {},
   "source": [
    "### 3. Compare the results\n",
    "In this step, we will compute the true minimum variance portfolio from the true covariance matrix and then compute the root-mean-square errors `RMSE` across all weights."
   ]
  },
  {
   "cell_type": "code",
   "metadata": {
    "ExecuteTime": {
     "end_time": "2024-05-11T14:51:50.547645Z",
     "start_time": "2024-05-11T14:51:50.541863Z"
    }
   },
   "source": [
    "w0 = nco.get_optimal_portfolio_weights(cov0, None if min_var_portf else mu0)\n",
    "w0 = np.repeat(w0.T, w1.shape[0], axis=0)\n",
    "rmsd = np.mean((w1 - w0).values.flatten() ** 2) ** .5  # RMSE\n",
    "rmsd_d = np.mean((w1_d - w0).values.flatten() ** 2) ** .5  # RMSE\n",
    "print(rmsd, rmsd_d)"
   ],
   "outputs": [
    {
     "name": "stdout",
     "output_type": "stream",
     "text": [
      "0.01054344414490388 0.006339661481606049\n"
     ]
    }
   ],
   "execution_count": 15
  },
  {
   "cell_type": "markdown",
   "metadata": {},
   "source": [
    "## Maximum Sharpe Ratio Portfolio\n",
    "Here by setting the `min_var_portf` to `False`, we will calculate the maximum Sharpe ratio portfolio."
   ]
  },
  {
   "cell_type": "code",
   "metadata": {
    "ExecuteTime": {
     "end_time": "2024-05-11T14:52:00.260756Z",
     "start_time": "2024-05-11T14:51:50.547645Z"
    }
   },
   "source": [
    "n_obs, n_sims, shrink, min_var_portf = 1000, 10, False, False\n",
    "w1 = pd.DataFrame(columns=range(cov0.shape[0]), index=range(n_sims), dtype=float)\n",
    "w1_d = w1.copy(deep=True)\n",
    "np.random.seed(0)\n",
    "for i in range(n_sims):\n",
    "    mu1, cov1 = denoising.simulates_cov_mu(mu0, cov0, n_obs, shrink=shrink)\n",
    "    mu1 = None if min_var_portf else mu1\n",
    "    w1.loc[i] = nco.get_optimal_portfolio_weights(cov1, mu1).flatten()\n",
    "    w1_d.loc[i] = nco.get_optimal_portfolio_weights_nco(cov1, mu1, int(cov1.shape[0] / 2)).flatten()"
   ],
   "outputs": [],
   "execution_count": 16
  },
  {
   "cell_type": "code",
   "metadata": {
    "ExecuteTime": {
     "end_time": "2024-05-11T14:52:00.271801Z",
     "start_time": "2024-05-11T14:52:00.260756Z"
    }
   },
   "source": [
    "w0 = nco.get_optimal_portfolio_weights(cov0, None if min_var_portf else mu0)\n",
    "w0 = np.repeat(w0.T, w1.shape[0], axis=0)\n",
    "rmsd = np.mean((w1 - w0).values.flatten() ** 2) ** .5  # RMSE\n",
    "rmsd_d = np.mean((w1_d - w0).values.flatten() ** 2) ** .5  # RMSE\n",
    "print(rmsd, rmsd_d)"
   ],
   "outputs": [
    {
     "name": "stdout",
     "output_type": "stream",
     "text": [
      "0.030521313303819072 0.016857356248061773\n"
     ]
    }
   ],
   "execution_count": 17
  },
  {
   "cell_type": "code",
   "execution_count": null,
   "outputs": [],
   "source": [],
   "metadata": {
    "collapsed": false
   }
  }
 ],
 "metadata": {
  "colab": {
   "collapsed_sections": [],
   "name": "HRP.ipynb",
   "provenance": []
  },
  "kernelspec": {
   "display_name": "Python 3",
   "language": "python",
   "name": "python3"
  },
  "language_info": {
   "codemirror_mode": {
    "name": "ipython",
    "version": 3
   },
   "file_extension": ".py",
   "mimetype": "text/x-python",
   "name": "python",
   "nbconvert_exporter": "python",
   "pygments_lexer": "ipython3",
   "version": "3.10.2 (tags/v3.10.2:a58ebcc, Jan 17 2022, 14:12:15) [MSC v.1929 64 bit (AMD64)]"
  },
  "vscode": {
   "interpreter": {
    "hash": "11ea4d73d55668014694d489153919fd5b5b39b93d6401e332d9cf3968a6222f"
   }
  }
 },
 "nbformat": 4,
 "nbformat_minor": 0
}
