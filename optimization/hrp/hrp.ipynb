{
 "cells": [
  {
   "cell_type": "markdown",
   "metadata": {},
   "source": [
    "# Hierarchical Risk Parity\n",
    "## Import"
   ]
  },
  {
   "cell_type": "code",
   "metadata": {
    "ExecuteTime": {
     "end_time": "2024-05-11T14:38:35.934237Z",
     "start_time": "2024-05-11T14:38:35.658175Z"
    }
   },
   "source": [
    "import matplotlib.pyplot as mpl\n",
    "import warnings\n",
    "\n",
    "warnings.filterwarnings(\"ignore\")"
   ],
   "outputs": [],
   "execution_count": 1
  },
  {
   "cell_type": "markdown",
   "metadata": {},
   "source": "## Import py file"
  },
  {
   "cell_type": "code",
   "metadata": {
    "ExecuteTime": {
     "end_time": "2024-05-11T14:38:38.745470Z",
     "start_time": "2024-05-11T14:38:35.935459Z"
    }
   },
   "source": [
    "from RiskLabAI.optimization.hrp import *"
   ],
   "outputs": [],
   "execution_count": 2
  },
  {
   "cell_type": "markdown",
   "metadata": {},
   "source": "## Data"
  },
  {
   "metadata": {},
   "cell_type": "code",
   "outputs": [],
   "execution_count": 3,
   "source": [
    "allCrypto = pd.DataFrame()\n",
    "listCrypto = ['BTC-USD', 'ETH-USD', 'LTC-USD', 'BNB-USD', 'ADA-USD', 'XRP-USD', 'DOGE-USD']\n",
    "for symb in listCrypto:\n",
    "    data = pd.DataFrame(yf.Ticker(symb).history(start=\"2019-01-01\", end=\"2021-08-08\")['Close']).transpose()\n",
    "    # data.save_batch_run(symb + '.csv')\n",
    "    if symb == 'BTC-USD':\n",
    "        allCrypto = data.copy()\n",
    "    else:\n",
    "        #  Add data to allCrypto\n",
    "        allCrypto = pd.concat([allCrypto, data])\n",
    "allCrypto.index = [listCrypto]\n",
    "allCrypto = allCrypto.transpose()\n",
    "allCrypto = allCrypto.pct_change(1)"
   ]
  },
  {
   "metadata": {},
   "cell_type": "markdown",
   "source": "## Hierarchical Risk Parity on Real Data"
  },
  {
   "metadata": {},
   "cell_type": "code",
   "outputs": [],
   "execution_count": 4,
   "source": [
    "cov, corr = allCrypto.cov(), allCrypto.corr()\n",
    "#2) compute and plot correl matrix\n",
    "plot_corr_matrix('HRP3_corr0.png', corr, labels=corr.columns)"
   ]
  },
  {
   "cell_type": "code",
   "metadata": {
    "ExecuteTime": {
     "end_time": "2024-05-11T14:38:43.737215Z",
     "start_time": "2024-05-11T14:38:43.579033Z"
    }
   },
   "source": [
    "#3) cluster\n",
    "distance = distance_corr(corr)\n",
    "link = sch.linkage(distance, 'single')\n",
    "sortIx = quasi_diagonal(link)\n",
    "sortIx_index = sortIx.copy()\n",
    "sortIx = corr.index[sortIx].tolist()  # recover labels\n",
    "dataframe = corr.loc[sortIx, sortIx]  # reorder\n",
    "plot_corr_matrix('HRP3_corr1.png', dataframe, labels=dataframe.columns)\n",
    "#4) Capital allocation \n",
    "hrp = recursive_bisection(cov, sortIx)\n",
    "print(hrp * 100)\n",
    "\n",
    "\n",
    "def llf(id):\n",
    "    for i in range(10):\n",
    "        if i == id:\n",
    "            return listCrypto[i]\n",
    "\n",
    "\n",
    "sch.dendrogram(link, leaf_label_func=llf, leaf_rotation=90)\n",
    "mpl.show()"
   ],
   "outputs": [
    {
     "name": "stdout",
     "output_type": "stream",
     "text": [
      "(DOGE-USD,)     5.075329\n",
      "(XRP-USD,)     17.012221\n",
      "(BNB-USD,)     18.776970\n",
      "(ADA-USD,)     10.690741\n",
      "(BTC-USD,)     24.349103\n",
      "(ETH-USD,)     12.952388\n",
      "(LTC-USD,)     11.143249\n",
      "dtype: float64\n"
     ]
    },
    {
     "data": {
      "text/plain": [
       "<Figure size 640x480 with 1 Axes>"
      ],
      "image/png": "[encoded data removed]"
     },
     "metadata": {},
     "output_type": "display_data"
    }
   ],
   "execution_count": 5
  },
  {
   "cell_type": "markdown",
   "metadata": {},
   "source": "## Hierarchical Risk Parity on Simulated Data"
  },
  {
   "cell_type": "code",
   "metadata": {
    "ExecuteTime": {
     "end_time": "2024-05-11T14:38:43.978493Z",
     "start_time": "2024-05-11T14:38:43.737215Z"
    }
   },
   "source": [
    "#1) Generate correlated data\n",
    "numberObs, size0, size1, sigma1 = 10000, 5, 5, .25\n",
    "data, cols = random_data(numberObs, size0, size1, sigma1)\n",
    "#print [(j+1,size0+i) for i,j in enumerate(cols,1)]\n",
    "cov, corr = data.cov(), data.corr()\n",
    "#2) compute and plot correl matrix\n",
    "plot_corr_matrix('HRP3_corr0.png', corr, labels=corr.columns)\n",
    "#3) cluster\n",
    "dist = distance_corr(corr)\n",
    "link = sch.linkage(dist, 'single')\n",
    "sortIx = quasi_diagonal(link)\n",
    "sortIx = corr.index[sortIx].tolist()  # recover labels\n",
    "dataframe = corr.loc[sortIx, sortIx]  # reorder\n",
    "plot_corr_matrix('HRP3_corr1.png', dataframe, labels=dataframe.columns)\n",
    "#4) Capital allocation\n",
    "hrp = recursive_bisection(cov, sortIx)\n",
    "print(hrp)"
   ],
   "outputs": [
    {
     "name": "stdout",
     "output_type": "stream",
     "text": [
      "8     0.071408\n",
      "3     0.075961\n",
      "9     0.125317\n",
      "2     0.067596\n",
      "10    0.063236\n",
      "1     0.109945\n",
      "7     0.103968\n",
      "5     0.193357\n",
      "4     0.097549\n",
      "6     0.091662\n",
      "dtype: float64\n"
     ]
    }
   ],
   "execution_count": 6
  },
  {
   "cell_type": "markdown",
   "metadata": {},
   "source": "## Hierarchical Risk Parity on Simulated Data"
  },
  {
   "cell_type": "code",
   "metadata": {
    "ExecuteTime": {
     "end_time": "2024-05-11T14:38:45.919345Z",
     "start_time": "2024-05-11T14:38:43.978493Z"
    }
   },
   "source": [
    "hrp_mc(number_iterations=10, number_observations=520, size_correlated=5, size_uncorrelated=5, mu_uncorrelated=0,\n",
    "       sigma_correlated=1e-2, sigma_uncorrelated=.25, length_sample=260, test_size=20)"
   ],
   "outputs": [
    {
     "name": "stdout",
     "output_type": "stream",
     "text": [
      "            0         1    2\n",
      "hrp  5.165883  26.68635  0.0\n"
     ]
    }
   ],
   "execution_count": 7
  },
  {
   "cell_type": "code",
   "execution_count": null,
   "metadata": {},
   "outputs": [],
   "source": []
  }
 ],
 "metadata": {
  "colab": {
   "collapsed_sections": [],
   "name": "HRP.ipynb",
   "provenance": []
  },
  "kernelspec": {
   "display_name": "Python 3.9.7 ('base')",
   "language": "python",
   "name": "python3"
  },
  "language_info": {
   "codemirror_mode": {
    "name": "ipython",
    "version": 3
   },
   "file_extension": ".py",
   "mimetype": "text/x-python",
   "name": "python",
   "nbconvert_exporter": "python",
   "pygments_lexer": "ipython3",
   "version": "3.9.7"
  },
  "vscode": {
   "interpreter": {
    "hash": "c21a52766aa10df27869f3b88192d900d8e6970e79b7c5a99ed61723a79be36c"
   }
  }
 },
 "nbformat": 4,
 "nbformat_minor": 0
}
