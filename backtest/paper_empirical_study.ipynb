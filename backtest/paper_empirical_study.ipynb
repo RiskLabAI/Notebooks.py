{
  "cells": [
    {
      "cell_type": "code",
      "execution_count": 1,
      "metadata": {},
      "outputs": [],
      "source": [
        "import numpy as np\n",
        "import pandas as pd\n",
        "from numba import jit\n",
        "import quantecon as qe\n",
        "from statsmodels.tsa.stattools import adfuller\n",
        "from joblib import Parallel, delayed\n",
        "from typing import Dict, List, Tuple, Union, Callable, Generator, Any, Optional, Set\n",
        "from abc import ABC, abstractmethod\n",
        "from concurrent.futures import ProcessPoolExecutor\n",
        "from scipy.stats import norm\n",
        "from itertools import combinations\n",
        "from copy import deepcopy\n",
        "from joblib import Parallel, delayed\n",
        "import ta\n",
        "import warnings\n",
        "warnings.filterwarnings(\"ignore\")\n",
        "from sklearn.exceptions import ConvergenceWarning\n",
        "from math import comb\n",
        "from collections import ChainMap, defaultdict\n",
        "import itertools\n",
        "from sklearn.neighbors import KNeighborsClassifier\n",
        "from sklearn.tree import DecisionTreeClassifier\n",
        "from sklearn.pipeline import Pipeline\n",
        "from sklearn.preprocessing import StandardScaler\n",
        "from sklearn.pipeline import make_pipeline\n",
        "from tqdm import tqdm\n",
        "from xgboost import XGBClassifier\n",
        "from scipy import stats as ss\n",
        "from joblib_progress import joblib_progress\n",
        "\n",
        "@jit(nopython=True)\n",
        "def compute_log_returns(\n",
        "    N: int,\n",
        "    mu_vector: np.ndarray,\n",
        "    kappa_vector: np.ndarray,\n",
        "    theta_vector: np.ndarray,\n",
        "    xi_vector: np.ndarray,\n",
        "    dwS: np.ndarray,\n",
        "    dwV: np.ndarray,\n",
        "    Y: np.ndarray,\n",
        "    n: np.ndarray,\n",
        "    dt: float,\n",
        "    sqrt_dt: float,\n",
        "    lambda_vector: np.ndarray,\n",
        "    m_vector: np.ndarray,\n",
        "    v_vector: np.ndarray,\n",
        "    regime_change: np.ndarray,\n",
        ") -> np.ndarray:\n",
        "    r\"\"\"\n",
        "    Computes the log returns based on the Heston-Merton model.\n",
        "\n",
        "    :param N: Number of steps\n",
        "    :param mu_vector: Drift vector of length N\n",
        "    :param kappa_vector: Mean-reversion speed vector of length N\n",
        "    :param theta_vector: Long-term mean vector of length N\n",
        "    :param xi_vector: Volatility of volatility vector of length N\n",
        "    :param dwS: Wiener process for stock\n",
        "    :param dwV: Wiener process for volatility\n",
        "    :param Y: Jump component\n",
        "    :param n: Poisson random variable vector\n",
        "    :param dt: Time step\n",
        "    :param sqrt_dt: Square root of the time step\n",
        "    :param lambda_vector: Intensity of the jump vector\n",
        "    :param m_vector: Mean of jump size vector\n",
        "    :param v_vector: Variance of jump size vector\n",
        "    :param regime_change: Regime change booleans\n",
        "    :return: Log returns based on the Heston-Merton model\n",
        "\n",
        "    The Heston Merton model formulae for log returns are:\n",
        "    .. math::\n",
        "       v_{i+1} = v_i + \\kappa_i (\\theta_i - \\max(v_i, 0)) dt + \\xi_i \\sqrt{\\max(v_i, 0)} dwV_i \\sqrt{dt}\n",
        "       log\\_returns_i = (\\mu_i - 0.5 v_i - \\lambda_i (m_i + \\frac{v^2_i}{2})) dt + \\sqrt{v_i} dwS_i \\sqrt{dt} + dJ_i\n",
        "    \"\"\"\n",
        "\n",
        "    v = np.empty(N + 1)\n",
        "    dJ = np.multiply(n, Y)\n",
        "    v[0] = theta_vector[0]\n",
        "    log_returns = np.empty(N)\n",
        "    for i in range(N):\n",
        "        if regime_change[i]:\n",
        "            v[i] = theta_vector[i]\n",
        "\n",
        "        v[i + 1] = v[i] + kappa_vector[i] * (theta_vector[i] - max(v[i], 0)) * dt + \\\n",
        "                   xi_vector[i] * np.sqrt(max(v[i], 0)) * dwV[i] * sqrt_dt\n",
        "        \n",
        "        log_returns[i] = (mu_vector[i] - 0.5 * v[i] - lambda_vector[i] * \n",
        "                          (m_vector[i] + (v_vector[i] ** 2) / 2)) * dt + \\\n",
        "                         np.sqrt(v[i]) * dwS[i] * sqrt_dt + dJ[i]\n",
        "\n",
        "    return log_returns\n",
        "\n",
        "def heston_merton_log_returns(\n",
        "    T: float,\n",
        "    N: int,\n",
        "    mu_vector: np.ndarray,\n",
        "    kappa_vector: np.ndarray,\n",
        "    theta_vector: np.ndarray,\n",
        "    xi_vector: np.ndarray,\n",
        "    rho_vector: np.ndarray,\n",
        "    lambda_vector: np.ndarray,\n",
        "    m_vector: np.ndarray,\n",
        "    v_vector: np.ndarray,\n",
        "    regime_change: np.ndarray,\n",
        "    random_state=None\n",
        ") -> np.ndarray:\n",
        "    \"\"\"\n",
        "    Computes the log returns based on the Heston-Merton model using Gaussian random numbers.\n",
        "\n",
        "    :param T: Total time\n",
        "    :param N: Number of steps\n",
        "    :param mu_vector: Drift vector of length N\n",
        "    :param kappa_vector: Mean-reversion speed vector of length N\n",
        "    :param theta_vector: Long-term mean vector of length N\n",
        "    :param xi_vector: Volatility of volatility vector of length N\n",
        "    :param rho_vector: Correlation coefficient vector of length N\n",
        "    :param lambda_vector: Intensity of the jump vector\n",
        "    :param m_vector: Mean of jump size vector\n",
        "    :param v_vector: Variance of jump size vector\n",
        "    :param random_state: Random state for reproducibility\n",
        "    :param regime_change: Regime change booleans\n",
        "    :return: Log returns based on the Heston-Merton model\n",
        "\n",
        "    \"\"\"\n",
        "\n",
        "    # Ensure the length of parameter vectors is N\n",
        "    assert len(mu_vector) == len(kappa_vector) == len(theta_vector) == len(xi_vector) == len(rho_vector) == N\n",
        "\n",
        "    rng = np.random.default_rng(random_state)\n",
        "    dt = T / N\n",
        "    sqrt_dt = np.sqrt(dt)\n",
        "\n",
        "    # Generate Gaussian random numbers\n",
        "    z = np.zeros((N, 3))\n",
        "    n = np.zeros(N)\n",
        "    for i in range(N):\n",
        "        z[i] = rng.multivariate_normal(\n",
        "            [0, 0, m_vector[i]],\n",
        "            [\n",
        "                [1.0,           rho_vector[i],    0.0],\n",
        "                [rho_vector[i], 1.0,              0.0],\n",
        "                [0.0,           0.0, v_vector[i] ** 2]\n",
        "            ]\n",
        "        )\n",
        "        n[i] = rng.poisson(lambda_vector[i] * dt)\n",
        "\n",
        "    dwS = z[:, 0]\n",
        "    dwV = z[:, 1]\n",
        "    Y = z[:, 2]\n",
        "\n",
        "    return compute_log_returns(N, mu_vector, kappa_vector, theta_vector, xi_vector, dwS, dwV, Y, n, dt, sqrt_dt,\n",
        "                               lambda_vector, m_vector, v_vector, regime_change)\n",
        "\n",
        "def align_params_length(\n",
        "    regime_params: Dict[str, Union[float, List[float]]]\n",
        ") -> Tuple[Dict[str, List[float]], int]:\n",
        "    \"\"\"\n",
        "    Align the parameters' length within the provided regime parameters.\n",
        "\n",
        "    :param regime_params: Dictionary of regime parameters. Values can be floats or lists.\n",
        "    :return: A tuple containing the regime parameters with aligned lengths and the max length.\n",
        "    \"\"\"\n",
        "    max_len = max([len(value) if isinstance(value, list) else 1 for value in regime_params.values()])\n",
        "\n",
        "    for key, value in regime_params.items():\n",
        "        if isinstance(value, list):\n",
        "            if len(value) < max_len:\n",
        "                regime_params[key].extend([value[-1]] * (max_len - len(value)))\n",
        "        else:\n",
        "            regime_params[key] = [value] * max_len\n",
        "\n",
        "    return regime_params, max_len\n",
        "\n",
        "def generate_prices_from_regimes(\n",
        "    regimes: Dict[str, Dict[str, Union[float, List[float]]]],\n",
        "    transition_matrix: np.ndarray,\n",
        "    total_time: float,\n",
        "    n_steps: int,\n",
        "    random_state: int = None\n",
        ") -> Tuple[pd.Series, np.ndarray]:\n",
        "    \"\"\"\n",
        "    Generate prices based on provided regimes and a Markov Chain.\n",
        "\n",
        "    :param regimes: Dictionary containing regime names and their respective parameters.\n",
        "    :param transition_matrix: Markov Chain transition matrix.\n",
        "    :param total_time: Total time for the simulation.\n",
        "    :param n_steps: Number of discrete steps in the simulation.\n",
        "    :param random_state: Seed for random number generation.\n",
        "    :return: A tuple containing the generated prices as a pandas Series and the simulated regimes.\n",
        "    \"\"\"\n",
        "    markov_chain = qe.MarkovChain(transition_matrix, state_values=list(regimes.keys()))\n",
        "    simulated_regimes = markov_chain.simulate(ts_length=n_steps, random_state=np.random.default_rng(random_state))\n",
        "\n",
        "    parameter_lists = {\n",
        "        'mu': [],\n",
        "        'kappa': [],\n",
        "        'theta': [],\n",
        "        'xi': [],\n",
        "        'rho': [],\n",
        "        'lam': [],\n",
        "        'm': [],\n",
        "        'v': []\n",
        "    }\n",
        "\n",
        "    extension = 0\n",
        "    for i, regime in enumerate(np.copy(simulated_regimes)):\n",
        "        params, max_len = align_params_length(regimes[regime].copy())\n",
        "        for key in parameter_lists:\n",
        "            parameter_lists[key].extend(params[key])\n",
        "\n",
        "        if max_len > 1:\n",
        "            simulated_regimes = np.insert(simulated_regimes, i + extension, [regime] * (max_len - 1))\n",
        "            extension += max_len - 1\n",
        "\n",
        "    # Truncate parameter vectors if they exceed n_steps\n",
        "    for key in parameter_lists:\n",
        "        parameter_lists[key] = np.array(parameter_lists[key][:n_steps])\n",
        "    simulated_regimes = simulated_regimes[:n_steps]\n",
        "\n",
        "    regime_change = simulated_regimes[1:] != simulated_regimes[:-1]\n",
        "    regime_change = np.pad(regime_change, (1, 0), mode='constant', constant_values=False)\n",
        "\n",
        "    log_returns = heston_merton_log_returns(\n",
        "        total_time,\n",
        "        n_steps,\n",
        "        parameter_lists['mu'],\n",
        "        parameter_lists['kappa'],\n",
        "        parameter_lists['theta'],\n",
        "        parameter_lists['xi'],\n",
        "        parameter_lists['rho'],\n",
        "        parameter_lists['lam'],\n",
        "        parameter_lists['m'],\n",
        "        parameter_lists['v'],\n",
        "        regime_change,\n",
        "        random_state=random_state\n",
        "    )\n",
        "    # Define the starting day and N\n",
        "    start_day = '2023-10-20'  # Example starting day\n",
        "    # Create DatetimeIndex of the next N business days\n",
        "    business_days = pd.date_range(start=start_day, periods=n_steps + 1, freq='B')[1:]  # Skip the start day\n",
        "\n",
        "    prices = np.exp(np.cumsum(pd.Series(log_returns, business_days).ffill()))\n",
        "\n",
        "    return prices, simulated_regimes\n",
        "\n",
        "def parallel_generate_prices(\n",
        "        number_of_paths: int,\n",
        "        regimes: Dict[str, Dict[str, Union[float, List[float]]]],\n",
        "        transition_matrix: np.ndarray,\n",
        "        total_time: float,\n",
        "        number_of_steps: int,\n",
        "        random_state: Union[int, None] = None,\n",
        "        n_jobs: int = 1\n",
        ") -> Tuple[pd.DataFrame, pd.DataFrame]:\n",
        "    \"\"\"\n",
        "    Parallel generation of prices using the provided regimes.\n",
        "\n",
        "    :param number_of_paths: The number of paths to generate.\n",
        "    :param regimes: Dictionary containing regime names and their respective parameters.\n",
        "    :param transition_matrix: Markov Chain transition matrix.\n",
        "    :param total_time: Total time for the simulation.\n",
        "    :param number_of_steps: Number of discrete steps in the simulation.\n",
        "    :param random_state: Seed for random number generation.\n",
        "    :param n_jobs: Number of parallel jobs to run.\n",
        "    :return: A tuple containing the generated prices and simulated regimes as pandas DataFrames.\n",
        "    \"\"\"\n",
        "    random_generator = np.random.default_rng(random_state)\n",
        "    random_states = random_generator.choice(10 * number_of_paths, size=number_of_paths, replace=False)\n",
        "    results = Parallel(n_jobs=n_jobs)(\n",
        "        delayed(generate_prices_from_regimes)(regimes, transition_matrix, total_time, number_of_steps, random_state_value)\n",
        "        for random_state_value in random_states\n",
        "    )\n",
        "\n",
        "    prices, simulated_regimes = zip(*results)\n",
        "\n",
        "    prices_df = pd.DataFrame(prices)\n",
        "    simulated_regimes_df = pd.DataFrame(simulated_regimes)\n",
        "\n",
        "    return prices_df.T, simulated_regimes_df.T\n",
        "\n",
        "def drift_volatility_burst(\n",
        "    bubble_length: int,\n",
        "    a_before: float,\n",
        "    a_after: float,\n",
        "    b_before: float,\n",
        "    b_after: float,\n",
        "    alpha: float,\n",
        "    beta: float, \n",
        "    explosion_filter_width: float = 0.1,\n",
        ") -> Tuple[np.ndarray, np.ndarray]:\n",
        "    \"\"\"\n",
        "    Compute the drift and volatility for a burst scenario.\n",
        "\n",
        "    The drift and volatility are calculated based on:\n",
        "    .. math::\n",
        "        drift = \\frac{a_{value}}{denominator^\\alpha}\n",
        "        volatility = \\frac{b_{value}}{denominator^\\beta}\n",
        "\n",
        "    where:\n",
        "    .. math::\n",
        "        denominator = |step - 0.5|\n",
        "\n",
        "    :param bubble_length: The length of the bubble.\n",
        "    :param a_before: 'a' value before the mid-point.\n",
        "    :param a_after: 'a' value after the mid-point.\n",
        "    :param b_before: 'b' value before the mid-point.\n",
        "    :param b_after: 'b' value after the mid-point.\n",
        "    :param alpha: Exponent for the drift calculation.\n",
        "    :param beta: Exponent for the volatility calculation.\n",
        "    :param explosion_filter_width: Width of the area around the explosion that denominators won't exceed. \n",
        "    :return: A tuple containing the drift and volatility arrays.\n",
        "    \"\"\"\n",
        "    steps = np.linspace(0, 1, bubble_length)\n",
        "\n",
        "    # Create two boolean masks identifying the indices where the values are within the specified range\n",
        "    before_mask = (steps >= (0.5 - explosion_filter_width)) & (steps < 0.5)\n",
        "    after_mask = (steps > 0.5) & (steps <= (0.5 + explosion_filter_width))\n",
        "\n",
        "    # Replace the values at these indices with 0.5 - explosion_filter_width\n",
        "    steps[before_mask] = 0.5 - explosion_filter_width\n",
        "    steps[after_mask] = 0.5 + explosion_filter_width\n",
        "\n",
        "    a_values = np.where(steps <= 0.5, a_before, a_after)\n",
        "    b_values = np.where(steps <= 0.5, b_before, b_after)\n",
        "\n",
        "    denominators = np.abs(steps - 0.5)\n",
        "    denominators[steps == 0.5] = np.nan  # Set the denominator to NaN for step == 0.5\n",
        "\n",
        "    drifts = a_values / denominators ** alpha\n",
        "    volatilities = b_values / denominators ** beta\n",
        "\n",
        "    # Fill NaN values with preceding values\n",
        "    nan_mask = np.isnan(denominators)\n",
        "    if np.sum(nan_mask) > 0:\n",
        "        drifts[nan_mask] = 0\n",
        "        volatilities[nan_mask] = volatilities[np.where(nan_mask)[0][0] - 1]\n",
        "\n",
        "    return drifts, volatilities\n",
        "    \n",
        "def calculate_weights_ffd(\n",
        "        degree: float,\n",
        "        threshold: float\n",
        ") -> np.ndarray:\n",
        "    \"\"\"\n",
        "    Compute the weights for fixed-width window fractionally differentiated method.\n",
        "\n",
        "    :param degree: Degree of the binomial series.\n",
        "    :param threshold: Threshold for weight-loss.\n",
        "    :return: Array of weights.\n",
        "\n",
        "    Methodology reference:\n",
        "        De Prado, M. (2018) Advances in financial machine learning. John Wiley & Sons, p. 83.\n",
        "    \"\"\"\n",
        "    weights = [1.]\n",
        "    k = 1\n",
        "    while abs(weights[-1]) >= threshold:\n",
        "        weight = -weights[-1] / k * (degree - k + 1)\n",
        "        weights.append(weight)\n",
        "        k += 1\n",
        "    return np.array(weights[::-1]).reshape(-1, 1)[1:]\n",
        "\n",
        "def fractional_difference_fixed(\n",
        "        series: pd.Series,\n",
        "        degree: float,\n",
        "        threshold: float = 1e-5\n",
        ") -> pd.DataFrame:\n",
        "    \"\"\"\n",
        "    Compute the fixed-width window fractionally differentiated series.\n",
        "\n",
        "    :param series: Series of dates and prices.\n",
        "    :param degree: Degree of the binomial series.\n",
        "    :param threshold: Threshold for weight-loss.\n",
        "    :return: Dataframe of fractionally differentiated series.\n",
        "\n",
        "    Methodology reference:\n",
        "        De Prado, M. (2018) Advances in financial machine learning. John Wiley & Sons, p. 83.\n",
        "    \"\"\"\n",
        "    weights = calculate_weights_ffd(degree, threshold)\n",
        "    width = len(weights) - 1\n",
        "    series_filtered = series.fillna(method='ffill').dropna()\n",
        "    result_series = pd.Series(dtype=\"float64\", index=series.index)\n",
        "    for iloc in range(width, series_filtered.shape[0]):\n",
        "        day1 = series_filtered.index[iloc - width]\n",
        "        day2 = series_filtered.index[iloc]\n",
        "        if not np.isfinite(series.loc[day2]):\n",
        "            continue\n",
        "        result_series[day2] = np.dot(weights.T, series_filtered.loc[day1:day2])[0]\n",
        "\n",
        "    return result_series\n",
        "\n",
        "def fractionally_differentiated_log_price(\n",
        "    input_series: pd.Series,\n",
        "    threshold=0.01,\n",
        "    step=0.1,\n",
        "    base_p_value=0.05\n",
        ") -> float:\n",
        "    \"\"\"\n",
        "    Find the minimum degree value that passes the ADF test.\n",
        "\n",
        "    :param input_series: Dataframe of input data.\n",
        "    :return: Dataframe of ADF test results.\n",
        "\n",
        "    Methodology reference:\n",
        "        De Prado, M. (2018) Advances in financial machine learning. John Wiley & Sons, p. 85.\n",
        "    \"\"\"\n",
        "    log_price = np.log(input_series)\n",
        "    degree = -step\n",
        "    p_value = 1\n",
        "\n",
        "    while p_value > base_p_value:\n",
        "        degree += step\n",
        "        differentiated = fractional_difference_fixed(log_price, degree, threshold=threshold)\n",
        "        adf_test = adfuller(differentiated.dropna(), maxlag=1, regression='c', autolag=None)\n",
        "        p_value = adf_test[1]\n",
        "\n",
        "    return differentiated\n",
        "\n",
        "def daily_volatility(\n",
        "        close: pd.Series,\n",
        "        span: int = 63) -> pd.DataFrame:\n",
        "    \"\"\"\n",
        "    Computes the daily volatility at intraday estimation points.\n",
        "\n",
        "    :param close: A pandas Series of close prices.\n",
        "    :param span: The span parameter for the EWMA.\n",
        "    :return: A pandas DataFrame with returns and volatilities.\n",
        "\n",
        "    References:\n",
        "    - De Prado, M. (2018) Advances in financial machine learning. John Wiley & Sons. (Methodology: Page 44)\n",
        "    \"\"\"\n",
        "    df = close.index.searchsorted(close.index - pd.Timedelta(days=1))\n",
        "    df = df[df > 0]\n",
        "    df = pd.Series(close.index[df - 1], index=close.index[close.shape[0] - df.shape[0]:])\n",
        "    returns = np.log(close.loc[df.index] / close.loc[df.values].values)\n",
        "    stds = returns.ewm(span=span).std().rename(\"std\")\n",
        "\n",
        "    return stds\n",
        "\n",
        "def cusum_filter_events(\n",
        "        prices: pd.Series,\n",
        "        threshold: pd.Series\n",
        ") -> pd.DatetimeIndex:\n",
        "    \"\"\"\n",
        "    Implements the symmetric CUSUM filter.\n",
        "\n",
        "    The symmetric CUSUM filter is a change-point detection algorithm used to identify events where the price difference exceeds a predefined threshold.\n",
        "\n",
        "    :param prices: A pandas Series of prices.\n",
        "    :param threshold: The predefined threshold series for detecting events.\n",
        "    :return: A pandas DatetimeIndex of event timestamps.\n",
        "\n",
        "    References:\n",
        "    - De Prado, M. (2018) Advances in financial machine learning. John Wiley & Sons. (Methodology: 39)\n",
        "    \"\"\"\n",
        "    time_events, shift_positive, shift_negative = [], 0, 0\n",
        "    price_delta = prices.diff().dropna()\n",
        "    thresholds = threshold.copy()\n",
        "    price_delta, thresholds = price_delta.align(thresholds, join=\"inner\", copy=False)\n",
        "\n",
        "    for (index, value), threshold_ in zip(price_delta.to_dict().items(), thresholds.to_dict().values()):\n",
        "        shift_positive = max(0, shift_positive + value)\n",
        "        shift_negative = min(0, shift_negative + value)\n",
        "\n",
        "        if shift_negative < -threshold_:\n",
        "            shift_negative = 0\n",
        "            time_events.append(index)\n",
        "\n",
        "        elif shift_positive > threshold_:\n",
        "            shift_positive = 0\n",
        "            time_events.append(index)\n",
        "\n",
        "    return pd.DatetimeIndex(time_events)\n",
        "\n",
        "def triple_barrier(\n",
        "    close: pd.Series,\n",
        "    events: pd.DataFrame,\n",
        "    profit_taking_stop_loss: list[float, float],\n",
        "    molecule: list\n",
        ") -> pd.DataFrame:\n",
        "    \"\"\"\n",
        "    Implements the triple-barrier method.\n",
        "\n",
        "    :param close: A pandas Series of close prices.\n",
        "    :param events: A pandas DataFrame with the timestamp of the vertical barrier and the unit width of the horizontal barriers.\n",
        "    :param profit_taking_stop_loss: A list of two non-negative float values to set the width of the upper and lower barrier.\n",
        "    :param molecule: A list with the subset of event indices.\n",
        "    :return: A pandas DataFrame with the vertical barrier and two horizontal barriers.\n",
        "\n",
        "    References:\n",
        "    - De Prado, M. (2018) Advances in financial machine learning. John Wiley & Sons. (Methodology: Page 45)\n",
        "    \"\"\"\n",
        "    events_filtered = events.loc[molecule]\n",
        "    output = events_filtered[['End Time']].copy(deep=True)\n",
        "\n",
        "    if profit_taking_stop_loss[0] > 0:\n",
        "        profit_taking = profit_taking_stop_loss[0] * events_filtered['Base Width']\n",
        "    else:\n",
        "        profit_taking = pd.Series(index=events.index)\n",
        "\n",
        "    if profit_taking_stop_loss[1] > 0:\n",
        "        stop_loss = -profit_taking_stop_loss[1] * events_filtered['Base Width']\n",
        "    else:\n",
        "        stop_loss = pd.Series(index=events.index)\n",
        "\n",
        "    for location, timestamp in events_filtered['End Time'].fillna(close.index[-1]).items():\n",
        "        df = close[location:timestamp]\n",
        "        df = np.log(df / close[location]) * events_filtered.at[location, 'Side']\n",
        "        output.loc[location, 'stop_loss'] = df[df < stop_loss[location]].index.min()\n",
        "        output.loc[location, 'profit_taking'] = df[df > profit_taking[location]].index.min()\n",
        "\n",
        "    return output\n",
        "\n",
        "def get_vertical_barrier(\n",
        "    close: pd.Series,\n",
        "    time_events: pd.DatetimeIndex,\n",
        "    number_days: int\n",
        ") -> pd.Series:\n",
        "    \"\"\"\n",
        "    Shows one way to define a vertical barrier.\n",
        "\n",
        "    :param close: A dataframe of prices and dates.\n",
        "    :param time_events: A vector of timestamps.\n",
        "    :param number_days: A number of days for the vertical barrier.\n",
        "    :return: A pandas series with the timestamps of the vertical barriers.\n",
        "    \"\"\"\n",
        "    timestamp_array = close.index.searchsorted(time_events + pd.Timedelta(days=number_days))\n",
        "    timestamp_array = timestamp_array[timestamp_array < close.shape[0]]\n",
        "    timestamp_array = pd.Series(close.index[timestamp_array], index=time_events[:timestamp_array.shape[0]])\n",
        "    return timestamp_array\n",
        "\n",
        "def get_meta_events(\n",
        "    close: pd.Series,\n",
        "    time_events: pd.DatetimeIndex,\n",
        "    ptsl: list,\n",
        "    target: pd.Series,\n",
        "    return_min: float,\n",
        "    num_threads: int,\n",
        "    timestamp: pd.Series = False,\n",
        "    side: pd.Series = None\n",
        ") -> pd.DataFrame:\n",
        "    \"\"\"\n",
        "    Expand events to incorporate meta-labeling.\n",
        "\n",
        "    :param close: A dataframe of prices and dates.\n",
        "    :param time_events: A vector of timestamps.\n",
        "    :param ptsl: A list of two non-negative float values that multiply the target.\n",
        "    :param target: A dataframe of targets, expressed in terms of absolute returns.\n",
        "    :param return_min: The minimum target return required for running a triple barrier search.\n",
        "    :param num_threads: The number of threads.\n",
        "    :param timestamp: A vector containing the timestamps of the vertical barriers (False when disabled).\n",
        "    :param side: If not None, the function understands that meta-labeling is in play.\n",
        "    :return: A dataframe with timestamp of the vertical barrier and unit width of the horizontal barriers.\n",
        "    \"\"\"\n",
        "    target = target.loc[time_events]\n",
        "    target = target[target > return_min]\n",
        "\n",
        "    if timestamp is False:\n",
        "        timestamp = pd.Series(pd.NaT, index=time_events)\n",
        "\n",
        "    if side is None:\n",
        "        side_position, profit_loss = pd.Series(1., index=target.index), [ptsl[0], ptsl[0]]\n",
        "    else:\n",
        "        side_position, profit_loss = side.loc[target.index], ptsl[:2]\n",
        "\n",
        "    events = pd.concat({'End Time': timestamp, 'Base Width': target, 'Side': side_position}, axis=1).dropna(subset=['Base Width'])\n",
        "    if num_threads > 1:\n",
        "        with ProcessPoolExecutor(num_threads) as executor:\n",
        "            df0 = list(executor.map(\n",
        "                triple_barrier,\n",
        "                [close] * num_threads,\n",
        "                [events] * num_threads,\n",
        "                [profit_loss] * num_threads,\n",
        "                list(np.array_split(time_events, num_threads))\n",
        "            ))\n",
        "    else:\n",
        "        df0 = list(map(\n",
        "            triple_barrier,\n",
        "            [close] * num_threads,\n",
        "            [events] * num_threads,\n",
        "            [profit_loss] * num_threads,\n",
        "            list(np.array_split(time_events, num_threads))\n",
        "        ))        \n",
        "    df0 = pd.concat(df0, axis=0)\n",
        "\n",
        "    events['End Time'] = df0.dropna(how='all').min(axis=1)\n",
        "\n",
        "    if side is None:\n",
        "        events = events.drop('Side', axis=1)\n",
        "    return events\n",
        "\n",
        "def meta_labeling(\n",
        "    events: pd.DataFrame,\n",
        "    close: pd.Series\n",
        ") -> pd.DataFrame:\n",
        "    \"\"\"\n",
        "    Expands label to incorporate meta-labeling.\n",
        "\n",
        "    :param events: DataFrame with timestamp of vertical barrier and unit width of the horizontal barriers.\n",
        "    :param close: Series of close prices with date indices.\n",
        "    :return: DataFrame containing the return and binary labels for each event.\n",
        "\n",
        "    Reference:\n",
        "    De Prado, M. (2018) Advances in financial machine learning. John Wiley & Sons.\n",
        "    Methodology: 51\n",
        "    \"\"\"\n",
        "    events_filtered = events.dropna(subset=['End Time'])\n",
        "    all_dates = events_filtered.index.union(events_filtered['End Time'].values).drop_duplicates()\n",
        "    close_filtered = close.reindex(all_dates, method='bfill')\n",
        "    out = pd.DataFrame(index=events_filtered.index)\n",
        "    out['End Time'] = events['End Time']\n",
        "    out['Return'] = close_filtered.loc[events_filtered['End Time'].values].values / close_filtered.loc[events_filtered.index] - 1\n",
        "    if 'Side' in events_filtered:\n",
        "        out['Return'] *= events_filtered['Side']\n",
        "    out['Label'] = np.sign(out['Return'])\n",
        "    if 'Side' in events_filtered:\n",
        "        out.loc[out['Return'] <= 0, 'Label'] = 0\n",
        "        out['Side'] = events_filtered['Side']\n",
        "    return out\n",
        "\n",
        "def expand_label_for_meta_labeling(\n",
        "    close_index: pd.DataFrame,\n",
        "    timestamp: pd.DataFrame,\n",
        "    molecule: pd.Index\n",
        ") -> pd.Series:\n",
        "    \"\"\"\n",
        "    Expand label to incorporate meta-labeling.\n",
        "\n",
        "    This function expands the label to incorporate meta-labeling by taking\n",
        "    a DataFrame with events, another DataFrame with the return and label of each period,\n",
        "    and an Index to apply the function on. It then returns a Series with the count\n",
        "    of events spanning a bar for each molecule.\n",
        "\n",
        "    :param close_index: DataFrame that has events.\n",
        "    :param timestamp: DataFrame that has return and label of each period.\n",
        "    :param molecule: Index that function must apply on it.\n",
        "    :return: Series with the count of events spanning a bar for each molecule.\n",
        "    \"\"\"\n",
        "    timestamp = timestamp.fillna(close_index[-1])\n",
        "    timestamp = timestamp[timestamp >= molecule[0]]\n",
        "    timestamp = timestamp.loc[:timestamp[molecule].max()]\n",
        "    iloc = close_index.searchsorted(np.array([timestamp.index[0], timestamp.max()]))\n",
        "    count = pd.Series(0, index=close_index[iloc[0]:iloc[1] + 1])\n",
        "\n",
        "    for t_in, t_out in timestamp.items():\n",
        "        count.loc[t_in:t_out] += 1\n",
        "\n",
        "    return count.loc[molecule[0]:timestamp[molecule].max()]\n",
        "\n",
        "def sample_weight_absolute_return(\n",
        "    timestamp: pd.DataFrame,\n",
        "    price: pd.DataFrame,\n",
        "    molecule: pd.Index\n",
        ") -> pd.Series:\n",
        "    \"\"\"\n",
        "    Calculate sample weight using absolute returns.\n",
        "\n",
        "    :param timestamp: DataFrame for events.\n",
        "    :param price: DataFrame that contains prices.\n",
        "    :param molecule: Index for the calculation.\n",
        "    :return: Series of sample weights.\n",
        "    \"\"\"\n",
        "    concurrency_events = expand_label_for_meta_labeling(price.index, timestamp, molecule)\n",
        "\n",
        "    return_ = np.log(price).diff()\n",
        "    weight = pd.Series(index=molecule, dtype=float)\n",
        "\n",
        "    for t_in, t_out in timestamp.loc[weight.index].items():\n",
        "        weight.loc[t_in] = (return_.loc[t_in:t_out] / concurrency_events.loc[t_in:t_out]).sum()\n",
        "\n",
        "    weight = weight.abs()\n",
        "\n",
        "    return weight * len(weight) / weight.sum()\n",
        "\n",
        "def probability_bet_size(\n",
        "    probabilities: np.ndarray,\n",
        "    sides: np.ndarray\n",
        ") -> np.ndarray:\n",
        "    \"\"\"\n",
        "    Calculate the bet size based on probabilities and side.\n",
        "\n",
        "    :param probabilities: array of probabilities\n",
        "    :param sides: array indicating the side of the bet (e.g., long/short or buy/sell)\n",
        "    :return: array of bet sizes\n",
        "\n",
        "    .. math::\n",
        "\n",
        "       \\text{bet size} = \\text{side} \\times (2 \\times \\text{CDF}(\\text{probabilities}) - 1)\n",
        "    \"\"\"\n",
        "    return sides * (2 * norm.cdf(probabilities) - 1)\n",
        "\n",
        "@jit(nopython=True)\n",
        "def average_bet_sizes(\n",
        "    price_dates: np.ndarray,\n",
        "    start_dates: np.ndarray,\n",
        "    end_dates: np.ndarray,\n",
        "    bet_sizes: np.ndarray\n",
        ") -> np.ndarray:\n",
        "    \"\"\"\n",
        "    Compute average bet sizes for each date.\n",
        "\n",
        "    :param price_dates: array of price dates\n",
        "    :param start_dates: array of start dates for bets\n",
        "    :param end_dates: array of end dates for bets\n",
        "    :param bet_sizes: array of bet sizes for each date range\n",
        "    :return: array of average bet sizes for each price date\n",
        "    \"\"\"\n",
        "    num_dates = len(price_dates)\n",
        "    avg_bet_sizes = np.zeros(num_dates)\n",
        "    \n",
        "    for i in range(num_dates):\n",
        "        total = 0\n",
        "        count = 0\n",
        "        for j in range(len(start_dates)):\n",
        "            if start_dates[j] <= price_dates[i] <= end_dates[j]:\n",
        "                total += bet_sizes[j]\n",
        "                count += 1\n",
        "        if count > 0:\n",
        "            avg_bet_sizes[i] = total / count\n",
        "            \n",
        "    return avg_bet_sizes\n",
        "\n",
        "def strategy_bet_sizing(\n",
        "    price_timestamps: pd.Series,\n",
        "    times: pd.Series,\n",
        "    sides: pd.Series,\n",
        "    probabilities: pd.Series\n",
        ") -> pd.Series:\n",
        "    \"\"\"\n",
        "    Calculate the average bet size for a trading strategy given price timestamps.\n",
        "\n",
        "    :param price_timestamps: series of price timestamps\n",
        "    :param times: series with start times as indices and end times as values\n",
        "    :param sides: series indicating the side of the position (e.g., long/short)\n",
        "    :param probabilities: series of probabilities associated with each position\n",
        "    :return: series of average bet sizes for each price timestamp\n",
        "    \"\"\"\n",
        "    \n",
        "    bet_sizes = probability_bet_size(probabilities.to_numpy(), sides.to_numpy())\n",
        "    \n",
        "    avg_bet_sizes = average_bet_sizes(price_timestamps.to_numpy(), times.index.to_numpy(), times.values, bet_sizes)\n",
        "\n",
        "    return pd.Series(avg_bet_sizes, index=price_timestamps)\n",
        "\n",
        "@jit(nopython=True)\n",
        "def sharpe_ratio(\n",
        "    returns: np.ndarray, \n",
        "    risk_free_rate: float = 0.0\n",
        ") -> float:\n",
        "    \"\"\"\n",
        "    Calculate the Sharpe Ratio for a given set of returns.\n",
        "\n",
        "    :param returns: An array of returns for a portfolio.\n",
        "    :param risk_free_rate: The risk-free rate.\n",
        "    :return: The calculated Sharpe Ratio.\n",
        "\n",
        "    .. math::\n",
        "\n",
        "        \\text{Sharpe Ratio} = \\frac{\\text{Mean Portfolio Return} - \\text{Risk-Free Rate}}\n",
        "                                  {\\text{Standard Deviation of Portfolio Returns}}\n",
        "    \"\"\"\n",
        "    excess_returns = returns - risk_free_rate\n",
        "    std = np.std(excess_returns)\n",
        "    if std != 0:\n",
        "        \n",
        "        return np.mean(excess_returns) / std\n",
        "    \n",
        "    else:\n",
        "        return 0\n",
        "\n",
        "def performance_evaluation(\n",
        "    train_partition: np.ndarray,\n",
        "    test_partition: np.ndarray,\n",
        "    n_strategies: int,\n",
        "    metric: Callable,\n",
        "    risk_free_return: float\n",
        ") -> Tuple[bool, float]:\n",
        "    \"\"\"\n",
        "    Evaluate the performance of various strategies on given train and test partitions and \n",
        "    compute the logit value to determine if the best in-sample strategy is overfitting.\n",
        "\n",
        "    :param train_partition: Training data partition used for evaluating in-sample performance.\n",
        "    :type train_partition: np.ndarray\n",
        "    :param test_partition: Testing data partition used for evaluating out-of-sample performance.\n",
        "    :type test_partition: np.ndarray\n",
        "    :param n_strategies: Number of strategies to evaluate.\n",
        "    :type n_strategies: int\n",
        "    :param metric: Metric function for evaluating strategy performance. \n",
        "                   The function should accept a data array and risk_free_return as arguments.\n",
        "    :type metric: Callable\n",
        "    :param risk_free_return: Risk-free return used in the metric function, often used for Sharpe ratio.\n",
        "    :type risk_free_return: float\n",
        "\n",
        "    :return: Tuple where the first value indicates if the best in-sample strategy is overfitting \n",
        "             (True if overfitting, False otherwise) and the second value is the logit value computed.\n",
        "    :rtype: Tuple[bool, float]\n",
        "    \"\"\"\n",
        "\n",
        "    evaluate_train = list(map(lambda i: metric(train_partition[:, i], risk_free_return), range(n_strategies)))\n",
        "    best_strategy = np.argmax(evaluate_train)\n",
        "    \n",
        "    evaluate_test = list(map(lambda i: metric(test_partition[:, i], risk_free_return), range(n_strategies)))\n",
        "    \n",
        "    rank_of_best_is_strategy = np.argsort(evaluate_test).tolist().index(best_strategy) + 1\n",
        "    \n",
        "    w_bar = rank_of_best_is_strategy / (n_strategies + 1)\n",
        "    logit_value = np.log(w_bar / (1 - w_bar))\n",
        "    \n",
        "    return logit_value <= 0.0, logit_value\n",
        "\n",
        "def probability_of_backtest_overfitting(\n",
        "    performances: np.ndarray, \n",
        "    n_partitions: int = 16, \n",
        "    risk_free_return: float = 0.0,\n",
        "    metric: Callable = None, \n",
        "    n_jobs: int = 1\n",
        ") -> Tuple[float, np.ndarray]:\n",
        "    \"\"\"\n",
        "    Computes the Probability Of Backtest Overfitting.\n",
        "\n",
        "    For instance, if \\(S=16\\), we will form 12,780 combinations.\n",
        "\n",
        "    .. math::\n",
        "        \\left(\\begin{array}{c}\n",
        "        S \\\\\n",
        "        S / 2\n",
        "        \\end{array}\\right) = \\prod_{i=0}^{S / 2^{-1}} \\frac{S-i}{S / 2-i}\n",
        "\n",
        "    :param performances: Matrix of T×N for T observations on N strategies.\n",
        "    :type performances: np.ndarray\n",
        "    :param n_partitions: Number of partitions (must be even).\n",
        "    :type n_partitions: int\n",
        "    :param metric: Metric function for evaluating strategy.\n",
        "    :type metric: Callable\n",
        "    :param risk_free_return: Risk-free return for calculating Sharpe ratio.\n",
        "    :type risk_free_return: float\n",
        "    :param n_jobs: Number of parallel jobs.\n",
        "    :type n_jobs: int\n",
        "\n",
        "    :return: Tuple containing Probability Of Backtest Overfitting and an array of logit values.\n",
        "    :rtype: Tuple[float, List[float]]\n",
        "    \"\"\"\n",
        "\n",
        "    if n_partitions % 2 == 1:\n",
        "        raise ValueError(\"Number of partitions must be even.\")\n",
        "    \n",
        "    if metric is None:\n",
        "        metric = sharpe_ratio\n",
        "    \n",
        "    _, n_strategies = performances.shape\n",
        "    partitions = np.array_split(performances, n_partitions)\n",
        "    partition_indices = range(n_partitions)\n",
        "    partition_combinations_indices = list(combinations(partition_indices, n_partitions // 2))\n",
        "\n",
        "    results = Parallel(n_jobs=n_jobs)(\n",
        "        delayed(performance_evaluation)(\n",
        "            np.concatenate([partitions[i] for i in train_indices], axis=0),\n",
        "            np.concatenate([partitions[i] for i in partition_indices \n",
        "                            if i not in train_indices], axis=0),\n",
        "            n_strategies, \n",
        "            metric, \n",
        "            risk_free_return\n",
        "        ) \n",
        "        for train_indices in partition_combinations_indices\n",
        "    )\n",
        "\n",
        "    results = np.array(results)  \n",
        "\n",
        "    pbo = results[:, 0].mean(axis=0)\n",
        "    logit_values = results[:, 1]\n",
        "    \n",
        "    return pbo, logit_values\n",
        "\n",
        "def determine_strategy_side(\n",
        "    prices: pd.Series,\n",
        "    fast_window: int = 20,\n",
        "    slow_window: int = 50,\n",
        "    exponential : bool = False,\n",
        "    mean_reversion: bool = False\n",
        ") -> pd.Series:\n",
        "    \"\"\"\n",
        "    Determines the trading side (long or short) based on moving average crossovers and \n",
        "    the nature of the strategy (momentum or mean reversion).\n",
        "\n",
        "    This function computes the fast and slow moving averages of the provided price series. \n",
        "    The trading side is decided based on the relationship between these averages and \n",
        "    the chosen strategy type (momentum or mean reversion).\n",
        "\n",
        "    .. math::\n",
        "        \\text{Momentum:}\n",
        "        \\begin{cases}\n",
        "        1 & \\text{if } \\text{fast\\_moving\\_average} \\geq \\text{slow\\_moving\\_average} \\\\\n",
        "        -1 & \\text{otherwise}\n",
        "        \\end{cases}\n",
        "\n",
        "        \\text{Mean Reversion:}\n",
        "        \\begin{cases}\n",
        "        1 & \\text{if } \\text{fast\\_moving\\_average} < \\text{slow\\_moving\\_average} \\\\\n",
        "        -1 & \\text{otherwise}\n",
        "        \\end{cases}\n",
        "\n",
        "    :param prices: Series containing the prices.\n",
        "    :param fast_window: Window size for the fast moving average.\n",
        "    :param slow_window: Window size for the slow moving average.\n",
        "    :param exponential: If True, compute exponential moving averages. Otherwise, compute simple moving averages.\n",
        "    :param mean_reversion: If True, strategy is mean reverting. If False, strategy is momentum-based.\n",
        "    :return: Series containing strategy sides.\n",
        "    \"\"\"\n",
        "    # Check for invalid window sizes\n",
        "    if fast_window >= slow_window:\n",
        "        raise ValueError(\"The fast window should be smaller than the slow window.\")\n",
        "\n",
        "    if exponential:\n",
        "        fast_moving_average = prices.ewm(span=fast_window, adjust=False, min_periods=1).mean()\n",
        "        slow_moving_average = prices.ewm(span=slow_window, adjust=False, min_periods=1).mean()\n",
        "    else:\n",
        "        fast_moving_average = prices.rolling(window=fast_window, min_periods=1).mean()\n",
        "        slow_moving_average = prices.rolling(window=slow_window, min_periods=1).mean()\n",
        "\n",
        "    if mean_reversion:\n",
        "        return (fast_moving_average < slow_moving_average).astype(int) * 2 - 1\n",
        "    else:\n",
        "        return (fast_moving_average >= slow_moving_average).astype(int) * 2 - 1"
      ]
    },
    {
      "cell_type": "code",
      "execution_count": 1,
      "metadata": {},
      "outputs": [],
      "source": [
        "import quantecon as qe"
      ]
    },
    {
      "cell_type": "code",
      "execution_count": 2,
      "metadata": {},
      "outputs": [],
      "source": [
        "def probabilistic_sharpe_ratio(\n",
        "        observed_sharpe_ratio: float, \n",
        "        benchmark_sharpe_ratio: float, \n",
        "        number_of_returns: int,                       \n",
        "        skewness_of_returns: float = 0, \n",
        "        kurtosis_of_returns: float = 3,\n",
        "        return_test_statistic: bool = False,\n",
        ") -> float:\n",
        "    \"\"\"\n",
        "    Calculates the Probabilistic Sharpe Ratio (PSR) based on observed and benchmark Sharpe ratios.\n",
        "\n",
        "    The PSR provides a means to test whether a track record would have achieved an observed \n",
        "    level of outperformance due to skill or luck. It is calculated using:\n",
        "    \n",
        "    .. math::\n",
        "        \\frac{(\\hat{SR} - SR^*) \\sqrt{T-1}}{\\sqrt{1 - S \\hat{SR} + \\frac{K-1}{4} \\hat{SR}^2}}\n",
        "    \n",
        "    Where:\n",
        "    - \\(\\hat{SR}\\) is the observed Sharpe ratio\n",
        "    - \\(SR^*\\) is the benchmark Sharpe ratio\n",
        "    - \\(T\\) is the number of returns\n",
        "    - \\(S\\) is the skewness of returns\n",
        "    - \\(K\\) is the kurtosis of returns\n",
        "\n",
        "    :param observed_sharpe_ratio: The observed Sharpe ratio.\n",
        "    :param benchmark_sharpe_ratio: The benchmark Sharpe ratio.\n",
        "    :param number_of_returns: The number of return observations.\n",
        "    :param skewness_of_returns: The skewness of the returns (default = 0).\n",
        "    :param kurtosis_of_returns: The kurtosis of the returns (default = 3).\n",
        "    :param return_test_statistic: Return the test statistic instead of the CDF value.\n",
        "    :return: The Probabilistic Sharpe Ratio.\n",
        "    \"\"\"\n",
        "    test_value = (\n",
        "        (observed_sharpe_ratio - benchmark_sharpe_ratio) * np.sqrt(number_of_returns - 1)\n",
        "    ) / (\n",
        "        (1 - skewness_of_returns * observed_sharpe_ratio \n",
        "        + (kurtosis_of_returns - 1) / 4 * observed_sharpe_ratio ** 2) ** (1 / 2)\n",
        "    )\n",
        "\n",
        "    if return_test_statistic:\n",
        "        return test_value\n",
        "    \n",
        "    else:\n",
        "        return ss.norm.cdf(test_value)\n",
        "\n",
        "def benchmark_sharpe_ratio(\n",
        "        sharpe_ratio_estimates: list\n",
        ") -> float:\n",
        "    \"\"\"\n",
        "    Calculates the Benchmark Sharpe Ratio based on Sharpe ratio estimates.\n",
        "\n",
        "    The benchmark Sharpe ratio is computed using:\n",
        "    \n",
        "    .. math::\n",
        "        \\sigma_{SR} \\left[ (1 - \\gamma) \\Phi^{-1}(1 - \\frac{1}{N}) + \\gamma \\Phi^{-1}(1 - \\frac{1}{N} e^{-1}) \\right]\n",
        "    \n",
        "    Where:\n",
        "    - \\(\\sigma_{SR}\\) is the standard deviation of Sharpe ratio estimates\n",
        "    - \\(\\gamma\\) is the Euler's constant\n",
        "    - \\(\\Phi^{-1}\\) is the inverse of the cumulative distribution function (CDF) of a standard normal distribution\n",
        "    - \\(N\\) is the number of Sharpe ratio estimates\n",
        "\n",
        "    :param sharpe_ratio_estimates: List of Sharpe ratio estimates.\n",
        "    :return: The Benchmark Sharpe Ratio.\n",
        "    \"\"\"\n",
        "    standard_deviation = np.array(sharpe_ratio_estimates).std()\n",
        "    benchmark_value = (\n",
        "        standard_deviation * (\n",
        "            (1 - np.euler_gamma) * ss.norm.ppf(1 - 1 / len(sharpe_ratio_estimates))\n",
        "            + np.euler_gamma * ss.norm.ppf(1 - 1 / len(sharpe_ratio_estimates) * np.e ** (-1))\n",
        "        )\n",
        "    )\n",
        "    \n",
        "    return benchmark_value"
      ]
    },
    {
      "cell_type": "code",
      "execution_count": 3,
      "metadata": {},
      "outputs": [],
      "source": [
        "class CrossValidator(ABC):\n",
        "    \"\"\"\n",
        "    Abstract Base Class (ABC) for cross-validation strategies.\n",
        "    Handles both single data inputs and dictionary inputs.\n",
        "\n",
        "    :param data: The input data, either as a single DataFrame or a dictionary of DataFrames.\n",
        "    :type data: Union[pd.DataFrame, Dict[str, pd.DataFrame]]\n",
        "\n",
        "    :param labels: The labels corresponding to the data, either as a single Series or a dictionary of Series.\n",
        "    :type labels: Optional[Union[pd.Series, Dict[str, pd.Series]]]\n",
        "\n",
        "    :param groups: Optional group labels for stratified splitting.\n",
        "    :type groups: Optional[np.ndarray]\n",
        "    \"\"\"\n",
        "\n",
        "\n",
        "    @abstractmethod\n",
        "    def get_n_splits(\n",
        "        self,\n",
        "        data: Optional[Union[pd.DataFrame, Dict[str, pd.DataFrame]]] = None,\n",
        "        labels: Optional[Union[pd.Series, Dict[str, pd.Series]]] = None,\n",
        "        groups: Optional[np.ndarray] = None\n",
        "    ) -> int:\n",
        "        \"\"\"\n",
        "        Return number of splits.\n",
        "\n",
        "        :param data: Dataset or dictionary of datasets.\n",
        "        :type data: Optional[Union[pd.DataFrame, Dict[str, pd.DataFrame]]]\n",
        "\n",
        "        :param labels: Labels or dictionary of labels.\n",
        "        :type labels: Optional[Union[pd.Series, Dict[str, pd.Series]]]\n",
        "\n",
        "        :param groups: Group labels for the samples.\n",
        "        :type groups: Optional[np.ndarray]\n",
        "\n",
        "        :return: Number of splits.\n",
        "        :rtype: int\n",
        "        \"\"\"\n",
        "\n",
        "\n",
        "    @abstractmethod\n",
        "    def _single_split(\n",
        "        self,\n",
        "        single_data: pd.DataFrame,\n",
        "    ) -> Generator[Tuple[np.ndarray, np.ndarray], None, None]:\n",
        "        \"\"\"\n",
        "        Splits a single data set into train-test indices.\n",
        "\n",
        "        This function provides train-test indices to split the data into train/test sets\n",
        "        by respecting the time order (if applicable) and the specified number of splits.\n",
        "\n",
        "        :param single_data: Input dataset.\n",
        "        :type single_data: pd.DataFrame\n",
        "\n",
        "        :return: Generator yielding train-test indices.\n",
        "        :rtype: Generator[Tuple[np.ndarray, np.ndarray], None, None]\n",
        "        \"\"\"\n",
        "\n",
        "\n",
        "    @abstractmethod\n",
        "    def split(\n",
        "        self,\n",
        "        data: Union[pd.DataFrame, Dict[str, pd.DataFrame]],\n",
        "        labels: Optional[Union[pd.Series, Dict[str, pd.Series]]] = None,\n",
        "        groups: Optional[np.ndarray] = None\n",
        "    ) -> Union[\n",
        "        Generator[Tuple[np.ndarray, np.ndarray], None, None],\n",
        "        Generator[Tuple[str, Tuple[np.ndarray, np.ndarray]], None, None]\n",
        "    ]:\n",
        "        \"\"\"\n",
        "        Splits data or a dictionary of data into train-test indices.\n",
        "\n",
        "        This function returns a generator that yields train-test indices. If a dictionary\n",
        "        of data is provided, the generator yields a key followed by the train-test indices.\n",
        "\n",
        "        :param data: Dataset or dictionary of datasets.\n",
        "        :type data: Union[pd.DataFrame, Dict[str, pd.DataFrame]]\n",
        "        :param labels: Labels or dictionary of labels.\n",
        "        :type labels: Optional[Union[pd.Series, Dict[str, pd.Series]]]\n",
        "        :param groups: Group labels for the samples.\n",
        "        :type groups: Optional[np.ndarray]\n",
        "\n",
        "        :return: Generator yielding either train-test indices directly or a key\n",
        "                followed by train-test indices.\n",
        "        :rtype: Union[\n",
        "            Generator[Tuple[np.ndarray, np.ndarray], None, None],\n",
        "            Generator[Tuple[str, Tuple[np.ndarray, np.ndarray]], None, None]\n",
        "        ]\n",
        "        \"\"\"\n",
        "\n",
        "\n",
        "    @abstractmethod\n",
        "    def _single_backtest_paths(\n",
        "        self,\n",
        "        single_data: pd.DataFrame\n",
        "    ) -> Dict[str, List[Dict[str, List[np.ndarray]]]]:\n",
        "        \"\"\"\n",
        "        Generates backtest paths for a single dataset.\n",
        "\n",
        "        This function creates and returns backtest paths (i.e., combinations of training and test sets)\n",
        "        for a single dataset by applying k-fold splitting or any other splitting strategy defined\n",
        "        by the `_single_split` function.\n",
        "\n",
        "        :param single_data: Input dataset.\n",
        "        :type single_data: pd.DataFrame\n",
        "\n",
        "        :return: Dictionary of backtest paths.\n",
        "        :rtype: Dict[str, List[Dict[str, List[np.ndarray]]]]\n",
        "        \"\"\"\n",
        "\n",
        "\n",
        "    @abstractmethod\n",
        "    def backtest_paths(\n",
        "        self,\n",
        "        data: Union[pd.DataFrame, Dict[str, pd.DataFrame]],\n",
        "    ) -> Union[\n",
        "        Dict[str, List[Dict[str, np.ndarray]]],\n",
        "        Dict[str, Dict[str, List[Dict[str, List[np.ndarray]]]]]\n",
        "    ]:\n",
        "        \"\"\"\n",
        "        Generates backtest paths for data.\n",
        "\n",
        "        This function returns backtest paths for either a single dataset or a dictionary\n",
        "        of datasets. Each backtest path consists of combinations of training and test sets.\n",
        "\n",
        "        :param data: Dataset or dictionary of datasets.\n",
        "        :type data: Union[pd.DataFrame, Dict[str, pd.DataFrame]]\n",
        "        :param labels: Labels or dictionary of labels.\n",
        "        :type labels: Union[pd.Series, Dict[str, pd.Series]]\n",
        "\n",
        "        :return: Dictionary of backtest paths or dictionary of dictionaries for multiple datasets.\n",
        "        :rtype: Union[\n",
        "            Dict[str, List[Dict[str, np.ndarray]]],\n",
        "            Dict[str, Dict[str, List[Dict[str, List[np.ndarray]]]]]\n",
        "        ]\n",
        "        \"\"\"\n",
        "\n",
        "\n",
        "    @abstractmethod\n",
        "    def _single_backtest_predictions(\n",
        "        self,\n",
        "        single_estimator: Any,\n",
        "        single_data: pd.DataFrame,\n",
        "        single_labels: pd.Series,\n",
        "        single_weights: Optional[np.ndarray] = None,\n",
        "        n_jobs: int = 1\n",
        "    ) -> Dict[str, np.ndarray]:\n",
        "        \"\"\"\n",
        "        Obtain predictions for a single dataset during backtesting.\n",
        "\n",
        "        This function leverages parallel computation to train and predict on different train-test splits\n",
        "        of a single dataset using a given estimator. It utilizes the `_single_split` method to generate\n",
        "        the train-test splits.\n",
        "\n",
        "        :param single_estimator: Estimator or model to be trained and used for predictions.\n",
        "        :type single_estimator: Any\n",
        "        :param single_data: Data of the single dataset.\n",
        "        :type single_data: pd.DataFrame\n",
        "        :param single_labels: Labels corresponding to the single dataset.\n",
        "        :type single_labels: pd.Series\n",
        "        :param single_weights: Weights for the observations in the single dataset.\n",
        "                            Defaults to equally weighted if not provided.\n",
        "        :type single_weights: np.ndarray, optional\n",
        "        :param n_jobs: The number of jobs to run in parallel. Default is 1.\n",
        "        :type n_jobs: int, optional\n",
        "        :return: Predictions structured in a dictionary for the backtest paths.\n",
        "        :rtype: Dict[str, np.ndarray]\n",
        "        \"\"\"\n",
        "\n",
        "    @abstractmethod\n",
        "    def backtest_predictions(\n",
        "        self,\n",
        "        estimator: Union[Any, Dict[str, Any]],\n",
        "        data: Union[pd.DataFrame, Dict[str, pd.DataFrame]],\n",
        "        labels: Union[pd.Series, Dict[str, pd.Series]],\n",
        "        sample_weights: Optional[Union[np.ndarray, Dict[str, np.ndarray]]] = None,\n",
        "        predict_probability: bool = False,\n",
        "        n_jobs: int = 1\n",
        "    ) -> Union[Dict[str, np.ndarray], Dict[str, Dict[str, np.ndarray]]]:\n",
        "        \"\"\"\n",
        "        Generate backtest predictions for single or multiple datasets.\n",
        "\n",
        "        For each dataset, this function leverages the `_single_backtest_predictions` method to obtain\n",
        "        predictions for different train-test splits using the given estimator.\n",
        "\n",
        "        :param estimator: Model or estimator to be trained and used for predictions.\n",
        "                        Can be a single estimator or a dictionary of estimators for multiple datasets.\n",
        "        :type estimator: Union[Any, Dict[str, Any]]\n",
        "        :param data: Input data for training and testing. Can be a single dataset or\n",
        "                    a dictionary of datasets for multiple datasets.\n",
        "        :type data: Union[pd.DataFrame, Dict[str, pd.DataFrame]]\n",
        "        :param labels: Target labels for training and testing. Can be a single series or\n",
        "                    a dictionary of series for multiple datasets.\n",
        "        :type labels: Union[pd.Series, Dict[str, pd.Series]]\n",
        "        :param sample_weights: Weights for the observations in the dataset(s).\n",
        "                            Can be a single array or a dictionary of arrays for multiple datasets.\n",
        "                            Defaults to None, which means equal weights for all observations.\n",
        "        :type sample_weights: Optional[Union[np.ndarray, Dict[str, np.ndarray]]]\n",
        "        :param n_jobs: The number of jobs to run in parallel. Default is 1.\n",
        "        :type n_jobs: int, optional\n",
        "        :return: Backtest predictions structured in a dictionary (or nested dictionaries for multiple datasets).\n",
        "        :rtype: Union[Dict[str, np.ndarray], Dict[str, Dict[str, np.ndarray]]]\n",
        "        \"\"\""
      ]
    },
    {
      "cell_type": "code",
      "execution_count": 4,
      "metadata": {},
      "outputs": [],
      "source": [
        "class KFold(CrossValidator):\n",
        "    \"\"\"\n",
        "    K-Fold cross-validator.\n",
        "\n",
        "    This class implements the K-Fold cross-validation strategy, where the dataset is\n",
        "    divided into `k` consecutive folds. Each fold is then used once as a validation set\n",
        "    while the `k - 1` remaining folds form the training set.\n",
        "    \"\"\"\n",
        "\n",
        "    def __init__(\n",
        "        self,\n",
        "        n_splits: int,\n",
        "        shuffle: bool = False,\n",
        "        random_seed: int = None\n",
        "    ) -> None:\n",
        "        \"\"\"\n",
        "        Initialize the K-Fold cross-validator.\n",
        "\n",
        "        :param n_splits: Number of splits or folds for the cross-validation.\n",
        "                         The dataset will be divided into `n_splits` consecutive parts.\n",
        "        :type n_splits: int\n",
        "        :param shuffle: Whether to shuffle the data before splitting it into folds.\n",
        "                        If `shuffle` is set to True, the data will be shuffled before splitting.\n",
        "        :type shuffle: bool, optional\n",
        "        :param random_seed: Seed used for random shuffling. Set this seed for reproducibility.\n",
        "                            Only used when `shuffle` is True.\n",
        "        :type random_seed: int, optional\n",
        "        \"\"\"\n",
        "        self.n_splits = n_splits\n",
        "        self.shuffle = shuffle\n",
        "        self.random_seed = random_seed\n",
        "\n",
        "    def get_n_splits(\n",
        "        self,\n",
        "        data: Optional[Union[pd.DataFrame, Dict[str, pd.DataFrame]]] = None,\n",
        "        labels: Optional[Union[pd.Series, Dict[str, pd.Series]]] = None,\n",
        "        groups: Optional[np.ndarray] = None\n",
        "    ) -> int:\n",
        "        \"\"\"\n",
        "        Return number of splits.\n",
        "\n",
        "        :param data: Dataset or dictionary of datasets.\n",
        "        :type data: Union[pd.DataFrame, Dict[str, pd.DataFrame]]\n",
        "\n",
        "        :param labels: Labels or dictionary of labels.\n",
        "        :type labels: Optional[Union[pd.Series, Dict[str, pd.Series]]]\n",
        "\n",
        "        :param groups: Group labels for the samples.\n",
        "        :type groups: Optional[np.ndarray]\n",
        "\n",
        "        :return: Number of splits.\n",
        "        :rtype: int\n",
        "        \"\"\"\n",
        "        return self.n_splits\n",
        "\n",
        "    def _single_split(\n",
        "        self,\n",
        "        single_data: pd.DataFrame,\n",
        "    ) -> Generator[Tuple[np.ndarray, np.ndarray], None, None]:\n",
        "        \"\"\"\n",
        "        Splits a single data set into train-test indices.\n",
        "\n",
        "        This function provides train-test indices to split the data into train/test sets\n",
        "        by respecting the time order (if applicable) and the specified number of splits.\n",
        "\n",
        "        :param single_data: Input dataset.\n",
        "        :type single_data: pd.DataFrame\n",
        "\n",
        "        :return: Generator yielding train-test indices.\n",
        "        :rtype: Generator[Tuple[np.ndarray, np.ndarray], None, None]\n",
        "        \"\"\"\n",
        "\n",
        "        indices = np.arange(single_data.shape[0])\n",
        "        if self.shuffle:\n",
        "            np.random.default_rng(self.random_seed).shuffle(indices)\n",
        "\n",
        "        for test_indices in np.array_split(indices, self.n_splits):\n",
        "            train_indices = np.setdiff1d(indices, test_indices)\n",
        "\n",
        "            yield train_indices, test_indices\n",
        "\n",
        "\n",
        "    def split(\n",
        "        self,\n",
        "        data: Union[pd.DataFrame, Dict[str, pd.DataFrame]],\n",
        "        labels: Optional[Union[pd.Series, Dict[str, pd.Series]]] = None,\n",
        "        groups: Optional[np.ndarray] = None\n",
        "    ) -> Union[\n",
        "        Generator[Tuple[np.ndarray, np.ndarray], None, None],\n",
        "        Generator[Tuple[str, Tuple[np.ndarray, np.ndarray]], None, None]\n",
        "    ]:\n",
        "        \"\"\"\n",
        "        Splits data or a dictionary of data into train-test indices.\n",
        "\n",
        "        This function returns a generator that yields train-test indices. If a dictionary\n",
        "        of data is provided, the generator yields a key followed by the train-test indices.\n",
        "\n",
        "        :param data: Dataset or dictionary of datasets.\n",
        "        :type data: Union[pd.DataFrame, Dict[str, pd.DataFrame]]\n",
        "        :param labels: Labels or dictionary of labels.\n",
        "        :type labels: Optional[Union[pd.Series, Dict[str, pd.Series]]]\n",
        "        :param groups: Group labels for the samples.\n",
        "        :type groups: Optional[np.ndarray]\n",
        "\n",
        "        :return: Generator yielding either train-test indices directly or a key\n",
        "                followed by train-test indices.\n",
        "        :rtype: Union[\n",
        "            Generator[Tuple[np.ndarray, np.ndarray], None, None],\n",
        "            Generator[Tuple[str, Tuple[np.ndarray, np.ndarray]], None, None]\n",
        "        ]\n",
        "        \"\"\"\n",
        "\n",
        "        if isinstance(data, dict):\n",
        "            for key in data:\n",
        "                for train_indices, test_indices in self._single_split(data[key]):\n",
        "                    yield key, (train_indices, test_indices)\n",
        "        else:\n",
        "            for train_indices, test_indices in self._single_split(data):\n",
        "                yield train_indices, test_indices\n",
        "\n",
        "    def _single_backtest_paths(\n",
        "        self,\n",
        "        single_data: pd.DataFrame\n",
        "    ) -> Dict[str, List[Dict[str, List[np.ndarray]]]]:\n",
        "        \"\"\"\n",
        "        Generates backtest paths for a single dataset.\n",
        "\n",
        "        This function creates and returns backtest paths (i.e., combinations of training and test sets)\n",
        "        for a single dataset by applying k-fold splitting or any other splitting strategy defined\n",
        "        by the `_single_split` function.\n",
        "\n",
        "        :param single_data: Input dataset.\n",
        "        :type single_data: pd.DataFrame\n",
        "\n",
        "        :return: Dictionary of backtest paths.\n",
        "        :rtype: Dict[str, List[Dict[str, List[np.ndarray]]]]\n",
        "        \"\"\"\n",
        "\n",
        "        path_data = []\n",
        "        paths = {}\n",
        "\n",
        "        for train_indices, test_indices in self._single_split(single_data):\n",
        "            path_data.append({\n",
        "                \"Train\": np.array(train_indices),\n",
        "                \"Test\": test_indices,\n",
        "            })\n",
        "\n",
        "        paths['Path 1'] = path_data\n",
        "\n",
        "        return paths\n",
        "\n",
        "    def backtest_paths(\n",
        "        self,\n",
        "        data: Union[pd.DataFrame, Dict[str, pd.DataFrame]],\n",
        "    ) -> Union[\n",
        "        Dict[str, List[Dict[str, np.ndarray]]],\n",
        "        Dict[str, Dict[str, List[Dict[str, List[np.ndarray]]]]]\n",
        "    ]:\n",
        "        \"\"\"\n",
        "        Generates backtest paths for data.\n",
        "\n",
        "        This function returns backtest paths for either a single dataset or a dictionary\n",
        "        of datasets. Each backtest path consists of combinations of training and test sets.\n",
        "\n",
        "        :param data: Dataset or dictionary of datasets.\n",
        "        :type data: Union[pd.DataFrame, Dict[str, pd.DataFrame]]\n",
        "\n",
        "        :return: Dictionary of backtest paths or dictionary of dictionaries for multiple datasets.\n",
        "        :rtype: Union[\n",
        "            Dict[str, List[Dict[str, np.ndarray]]],\n",
        "            Dict[str, Dict[str, List[Dict[str, List[np.ndarray]]]]]\n",
        "        ]\n",
        "        \"\"\"\n",
        "\n",
        "        if isinstance(data, dict):\n",
        "            multiple_paths = {}\n",
        "            for key in data:\n",
        "                multiple_paths[key] = self._single_backtest_paths(data[key])\n",
        "\n",
        "            return multiple_paths\n",
        "        else:\n",
        "\n",
        "            return self._single_backtest_paths(data)\n",
        "\n",
        "    def _single_backtest_predictions(\n",
        "        self,\n",
        "        single_estimator: Any,\n",
        "        single_data: pd.DataFrame,\n",
        "        single_labels: pd.Series,\n",
        "        single_weights: Optional[np.ndarray] = None,\n",
        "        predict_probability: bool = False,\n",
        "        n_jobs: int = 1\n",
        "    ) -> Dict[str, np.ndarray]:\n",
        "        \"\"\"\n",
        "        Obtain predictions for a single dataset during backtesting.\n",
        "\n",
        "        This function leverages parallel computation to train and predict on different train-test splits\n",
        "        of a single dataset using a given estimator. It utilizes the `_single_split` method to generate\n",
        "        the train-test splits.\n",
        "\n",
        "        :param single_estimator: Estimator or model to be trained and used for predictions.\n",
        "        :type single_estimator: Any\n",
        "        :param single_data: Data of the single dataset.\n",
        "        :type single_data: pd.DataFrame\n",
        "        :param single_labels: Labels corresponding to the single dataset.\n",
        "        :type single_labels: pd.Series\n",
        "        :param single_weights: Weights for the observations in the single dataset.\n",
        "                            Defaults to equally weighted if not provided.\n",
        "        :type single_weights: np.ndarray, optional\n",
        "        :param predict_probability: If True, predict the probability of forecasts.\n",
        "        :type predict_probability: bool\n",
        "        :param n_jobs: The number of jobs to run in parallel. Default is 1.\n",
        "        :type n_jobs: int, optional\n",
        "        :return: Predictions structured in a dictionary for the backtest paths.\n",
        "        :rtype: Dict[str, np.ndarray]\n",
        "        \"\"\"\n",
        "\n",
        "        if single_weights is None:\n",
        "            single_weights = np.ones(len(single_data))\n",
        "\n",
        "        def train_test_single_estimator(\n",
        "            single_estimator_: Any,\n",
        "            train_indices: np.ndarray,\n",
        "            test_indices: np.ndarray\n",
        "        ) -> np.ndarray:\n",
        "            X_train = single_data.iloc[train_indices]\n",
        "            y_train = single_labels.iloc[train_indices]\n",
        "            weights_train = single_weights[train_indices]\n",
        "\n",
        "            with warnings.catch_warnings():\n",
        "                warnings.filterwarnings('ignore', category=ConvergenceWarning)\n",
        "                try:\n",
        "                    single_estimator_.fit(X_train, y_train, sample_weight=weights_train)\n",
        "\n",
        "                except TypeError:\n",
        "                    single_estimator_.fit(X_train, y_train)\n",
        "\n",
        "            X_test = single_data.iloc[test_indices]\n",
        "\n",
        "            if predict_probability:\n",
        "                return single_estimator_.predict_proba(X_test)\n",
        "\n",
        "            else:\n",
        "                return single_estimator_.predict(X_test)\n",
        "\n",
        "        path_data = Parallel(n_jobs=n_jobs)(\n",
        "            delayed(train_test_single_estimator)(\n",
        "                deepcopy(single_estimator), train_indices, test_indices\n",
        "            ) for train_indices, test_indices in self._single_split(single_data)\n",
        "        )\n",
        "        path_data = np.concatenate(path_data)\n",
        "\n",
        "        if self.shuffle:\n",
        "            shuffled_indices = np.arange(single_data.shape[0])\n",
        "            np.random.default_rng(self.random_seed).shuffle(shuffled_indices)\n",
        "            # To reorder shuffled_array back to original_array\n",
        "            reorder_indices = np.argsort(shuffled_indices)\n",
        "            path_data = path_data[reorder_indices]\n",
        "\n",
        "        paths_predictions = {'Path 1': path_data}\n",
        "\n",
        "        return paths_predictions\n",
        "\n",
        "\n",
        "    def backtest_predictions(\n",
        "        self,\n",
        "        estimator: Union[Any, Dict[str, Any]],\n",
        "        data: Union[pd.DataFrame, Dict[str, pd.DataFrame]],\n",
        "        labels: Union[pd.Series, Dict[str, pd.Series]],\n",
        "        sample_weights: Optional[Union[np.ndarray, Dict[str, np.ndarray]]] = None,\n",
        "        predict_probability: bool = False,\n",
        "        n_jobs: int = 1\n",
        "    ) -> Union[Dict[str, np.ndarray], Dict[str, Dict[str, np.ndarray]]]:\n",
        "        \"\"\"\n",
        "        Generate backtest predictions for single or multiple datasets.\n",
        "\n",
        "        For each dataset, this function leverages the `_single_backtest_predictions` method to obtain\n",
        "        predictions for different train-test splits using the given estimator.\n",
        "\n",
        "        :param estimator: Model or estimator to be trained and used for predictions.\n",
        "                        Can be a single estimator or a dictionary of estimators for multiple datasets.\n",
        "        :type estimator: Union[Any, Dict[str, Any]]\n",
        "        :param data: Input data for training and testing. Can be a single dataset or\n",
        "                    a dictionary of datasets for multiple datasets.\n",
        "        :type data: Union[pd.DataFrame, Dict[str, pd.DataFrame]]\n",
        "        :param labels: Target labels for training and testing. Can be a single series or\n",
        "                    a dictionary of series for multiple datasets.\n",
        "        :type labels: Union[pd.Series, Dict[str, pd.Series]]\n",
        "        :param sample_weights: Weights for the observations in the dataset(s).\n",
        "                            Can be a single array or a dictionary of arrays for multiple datasets.\n",
        "                            Defaults to None, which means equal weights for all observations.\n",
        "        :type sample_weights: Optional[Union[np.ndarray, Dict[str, np.ndarray]]]\n",
        "        :param predict_probability: If True, predict the probability of forecasts.\n",
        "        :type predict_probability: bool\n",
        "        :param n_jobs: The number of jobs to run in parallel. Default is 1.\n",
        "        :type n_jobs: int, optional\n",
        "\n",
        "        :return: Backtest predictions structured in a dictionary (or nested dictionaries for multiple datasets).\n",
        "        :rtype: Union[Dict[str, np.ndarray], Dict[str, Dict[str, np.ndarray]]]\n",
        "        \"\"\"\n",
        "\n",
        "        if isinstance(data, dict):\n",
        "            multiple_paths_predictions = {}\n",
        "            for key in data:\n",
        "                multiple_paths_predictions[key] = self._single_backtest_predictions(\n",
        "                    estimator[key], data[key], labels[key],\n",
        "                    sample_weights[key] if sample_weights else None, predict_probability, n_jobs\n",
        "                )\n",
        "            return multiple_paths_predictions\n",
        "\n",
        "        return self._single_backtest_predictions(\n",
        "            estimator, data, labels, sample_weights, predict_probability, n_jobs\n",
        "        )"
      ]
    },
    {
      "cell_type": "code",
      "execution_count": 5,
      "metadata": {},
      "outputs": [],
      "source": [
        "class WalkForward(KFold):\n",
        "    \"\"\"\n",
        "    WalkForward Cross-Validator for Time Series Data.\n",
        "\n",
        "    This cross-validator provides train/test indices meant to split time series data \n",
        "    in a \"walk-forward\" manner, which is suitable for time series forecasting tasks. \n",
        "    In each split, the training set progressively grows in size (subject to the optional\n",
        "    maximum size constraint) while the test set remains roughly constant in size. \n",
        "    A gap can be optionally introduced between the training and test set to simulate \n",
        "    forecasting on unseen future data after a certain interval.\n",
        "\n",
        "    The WalkForward cross-validator is inherently different from traditional K-Fold\n",
        "    cross-validation which shuffles and splits the dataset into train/test without \n",
        "    considering the time order. In time series tasks, ensuring that the model is \n",
        "    trained on past data and validated on future data is crucial. This cross-validator \n",
        "    achieves that by progressively walking forward in time through the dataset.\n",
        "    \"\"\"\n",
        "\n",
        "    def __init__(\n",
        "        self,\n",
        "        n_splits: int = 5,\n",
        "        max_train_size: int = None,\n",
        "        gap: int = 0\n",
        "    ) -> None:\n",
        "        \"\"\"\n",
        "        Initialize the TimeSeriesWalkForward cross-validator.\n",
        "\n",
        "        Parameters:\n",
        "        -----------\n",
        "        n_splits : int, default=5\n",
        "            Number of splits/folds. Must be at least 2.\n",
        "        \n",
        "        max_train_size : int, optional\n",
        "            Maximum number of observations allowed in the training dataset.\n",
        "            If provided, the most recent `max_train_size` observations are used \n",
        "            for training.\n",
        "\n",
        "        gap : int, default=0\n",
        "            Number of observations to skip between the end of the training data \n",
        "            and the start of the test data. Useful for simulating forecasting \n",
        "            scenarios where the test data is not immediately after the training data.\n",
        "        \"\"\"\n",
        "        super().__init__(n_splits=n_splits)  # Initializing the parent class with n_splits\n",
        "        self.max_train_size = max_train_size\n",
        "        self.gap = gap\n",
        "\n",
        "\n",
        "    def _single_split(\n",
        "        self,\n",
        "        single_data: pd.DataFrame,\n",
        "    ) -> Generator[Tuple[np.ndarray, np.ndarray], None, None]:\n",
        "        \"\"\"\n",
        "        Splits a single data set into train-test indices.\n",
        "\n",
        "        This function provides train-test indices to split the data into train/test sets\n",
        "        by respecting the time order (if applicable) and the specified number of splits.\n",
        "\n",
        "        :param single_data: Input dataset.\n",
        "        :type single_data: pd.DataFrame\n",
        "\n",
        "        :return: Generator yielding train-test indices.\n",
        "        :rtype: Generator[Tuple[np.ndarray, np.ndarray], None, None]\n",
        "        \"\"\"\n",
        "\n",
        "        indices = np.arange(single_data.shape[0])\n",
        "        gap = self.gap\n",
        "        max_train_size = self.max_train_size\n",
        "\n",
        "        for test_indices in np.array_split(indices, self.n_splits):\n",
        "            # Ensure that train indices come before test indices\n",
        "            last_test_index = test_indices[-1]\n",
        "            train_indices = np.setdiff1d(indices, test_indices)\n",
        "            train_indices = train_indices[train_indices < last_test_index]\n",
        "            \n",
        "            # Exclude gap from the end of train set\n",
        "            if self.gap:\n",
        "                train_indices = train_indices[:-gap]\n",
        "            \n",
        "            # Ensuring the training set does not exceed max_train_size\n",
        "            if self.max_train_size and len(train_indices) > max_train_size:\n",
        "                train_indices = train_indices[-max_train_size:]\n",
        "            \n",
        "            yield train_indices, test_indices    \n",
        "\n",
        "\n",
        "    def _single_backtest_predictions(\n",
        "        self,\n",
        "        single_estimator: Any,\n",
        "        single_data: pd.DataFrame,\n",
        "        single_labels: pd.Series,\n",
        "        single_weights: Optional[np.ndarray] = None,\n",
        "        predict_probability: bool = False,\n",
        "        n_jobs: int = 1\n",
        "    ) -> Dict[str, np.ndarray]:\n",
        "        \"\"\"\n",
        "        Obtain predictions for a single dataset during backtesting.\n",
        "\n",
        "        This function leverages parallel computation to train and predict on different train-test splits\n",
        "        of a single dataset using a given estimator. It utilizes the `_single_split` method to generate\n",
        "        the train-test splits.\n",
        "\n",
        "        :param single_estimator: Estimator or model to be trained and used for predictions.\n",
        "        :type single_estimator: Any\n",
        "        :param single_data: Data of the single dataset.\n",
        "        :type single_data: pd.DataFrame\n",
        "        :param single_labels: Labels corresponding to the single dataset.\n",
        "        :type single_labels: pd.Series\n",
        "        :param single_weights: Weights for the observations in the single dataset.\n",
        "                            Defaults to equally weighted if not provided.\n",
        "        :type single_weights: np.ndarray, optional\n",
        "        :param predict_probability: If True, predict the probability of forecasts.\n",
        "        :type predict_probability: bool\n",
        "        :param n_jobs: The number of jobs to run in parallel. Default is 1.\n",
        "        :type n_jobs: int, optional\n",
        "        :return: Predictions structured in a dictionary for the backtest paths.\n",
        "        :rtype: Dict[str, np.ndarray]\n",
        "        \"\"\"\n",
        "\n",
        "        if single_weights is None:\n",
        "            single_weights = np.ones(len(single_data))\n",
        "\n",
        "        def train_test_single_estimator(\n",
        "            single_estimator_: Any,\n",
        "            train_indices: np.ndarray,\n",
        "            test_indices: np.ndarray\n",
        "        ) -> np.ndarray:\n",
        "            \n",
        "            if len(train_indices) == 0:\n",
        "                if predict_probability:\n",
        "                    n_columns = len(np.unique(single_labels)) if predict_probability else 1\n",
        "                    return np.full((len(test_indices), n_columns), np.nan)\n",
        "        \n",
        "                else:\n",
        "                    return np.full(len(test_indices), np.nan)\n",
        "            \n",
        "            X_train = single_data.iloc[train_indices]\n",
        "            y_train = single_labels.iloc[train_indices]\n",
        "            weights_train = single_weights[train_indices]\n",
        "\n",
        "            with warnings.catch_warnings():\n",
        "                warnings.filterwarnings('ignore', category=ConvergenceWarning)\n",
        "                try:\n",
        "                    single_estimator_.fit(X_train, y_train, sample_weight=weights_train)\n",
        "\n",
        "                except TypeError:\n",
        "                    single_estimator_.fit(X_train, y_train)\n",
        "\n",
        "            X_test = single_data.iloc[test_indices]\n",
        "\n",
        "            if predict_probability:\n",
        "                return single_estimator_.predict_proba(X_test)\n",
        "\n",
        "            else:\n",
        "                return single_estimator_.predict(X_test)\n",
        "\n",
        "        path_data = Parallel(n_jobs=n_jobs)(\n",
        "            delayed(train_test_single_estimator)(\n",
        "                deepcopy(single_estimator), train_indices, test_indices\n",
        "            ) for train_indices, test_indices in self._single_split(single_data)\n",
        "        )\n",
        "\n",
        "        paths_predictions = {'Path 1': np.concatenate(path_data)}\n",
        "\n",
        "        return paths_predictions        "
      ]
    },
    {
      "cell_type": "code",
      "execution_count": 6,
      "metadata": {},
      "outputs": [],
      "source": [
        "class PurgedKFold(CrossValidator):\n",
        "\n",
        "    @staticmethod\n",
        "    def filtered_training_indices_with_embargo(\n",
        "        data_info_range: pd.Series,\n",
        "        test_time_range: pd.Series,\n",
        "        embargo_fraction: float = 0,\n",
        "        continous_test_times: bool = False,\n",
        "    ) -> pd.Series:\n",
        "        \"\"\"\n",
        "        Purge observations in the training set with embargo.\n",
        "\n",
        "        Finds the training set indices based on the information on each record\n",
        "        and the test set range. It purges the training set of observations that\n",
        "        overlap with the test set in the time dimension and adds an embargo period\n",
        "        to further prevent potential information leakage.\n",
        "\n",
        "        .. math::\n",
        "            \\text{embargo\\_length} = \\text{len(data\\_info\\_range)} \\times \\text{embargo\\_fraction}\n",
        "\n",
        "        :param data_info_range: Series detailing the information range for each record.\n",
        "            - *data_info_range.index*: Time when the information extraction started.\n",
        "            - *data_info_range.value*: Time when the information extraction ended.\n",
        "        :type data_info_range: pd.Series\n",
        "        :param test_time_range: Series containing times for the test dataset.\n",
        "        :type test_time_range: pd.Series\n",
        "        :param embargo_fraction: Fraction of the dataset trailing the test observations to exclude from training.\n",
        "        :type embargo_fraction: float\n",
        "        :param continuous_test_times: If set to True, considers the test time range as continuous.\n",
        "        :type continuous_test_times: bool\n",
        "\n",
        "        :return: Series of filtered training data after applying embargo.\n",
        "        :rtype: pd.Series\n",
        "        \"\"\"\n",
        "\n",
        "        indices_to_drop: Set[int] = set()\n",
        "        embargo_length = int(len(data_info_range) * embargo_fraction)\n",
        "\n",
        "        effective_test_time_range = test_time_range if not continous_test_times else pd.Series(test_time_range.iloc[-1], index=[test_time_range.index[0]])\n",
        "\n",
        "        if embargo_length == 0:\n",
        "            embargoed_data_info_range = pd.Series(test_time_range.values, index=test_time_range.values)\n",
        "\n",
        "        else:\n",
        "            effective_sample = data_info_range.loc[test_time_range.index.min():].copy().drop_duplicates()\n",
        "            embargoed_data_info_range = pd.Series(effective_sample.values, index=effective_sample.values)\n",
        "            embargoed_data_info_range = embargoed_data_info_range.shift(-embargo_length).fillna(embargoed_data_info_range.values[-1]) \n",
        "\n",
        "        for start_ix, end_ix in effective_test_time_range.items():\n",
        "            # Adding the embargo period\n",
        "            end_ix_embargoed = embargoed_data_info_range.loc[end_ix]\n",
        "\n",
        "            overlapping_start = data_info_range[\n",
        "                (start_ix <= data_info_range.index) & (data_info_range.index <= end_ix_embargoed)\n",
        "            ].index\n",
        "\n",
        "            overlapping_end = data_info_range[\n",
        "                (start_ix <= data_info_range) & (data_info_range <= end_ix_embargoed)\n",
        "            ].index\n",
        "\n",
        "            enveloping = data_info_range[\n",
        "                (data_info_range.index <= start_ix) & (end_ix_embargoed <= data_info_range)\n",
        "            ].index\n",
        "\n",
        "            indices_to_drop.update(overlapping_start)\n",
        "            indices_to_drop.update(overlapping_end)\n",
        "            indices_to_drop.update(enveloping)\n",
        "\n",
        "        return data_info_range.drop(indices_to_drop)\n",
        "\n",
        "\n",
        "    def __init__(\n",
        "            self,\n",
        "            n_splits: int,\n",
        "            times: Union[pd.Series, Dict[str, pd.Series]],\n",
        "            embargo: float = 0,\n",
        "    ) -> None:\n",
        "        \"\"\"\n",
        "        Purged k-fold cross-validation to prevent information leakage.\n",
        "\n",
        "        Implements a cross-validation strategy where each fold is purged\n",
        "        of observations overlapping with the training set in the time dimension.\n",
        "        An embargo period is also introduced to further prevent potential\n",
        "        information leakage.\n",
        "\n",
        "        Attributes:\n",
        "            n_splits (int): Number of splits/folds.\n",
        "            times (Union[pd.Series, Dict[str, pd.Series]]): Series or dict containing time data.\n",
        "            embargo (float): The embargo period.\n",
        "            is_multiple_datasets (bool): True if `times` is a dict, else False.\n",
        "\n",
        "        :param n_splits: Number of splits or folds.\n",
        "        :type n_splits: int\n",
        "\n",
        "        :param times: Series detailing the information range for each record.\n",
        "            - *times.index*: Time when the information extraction started.\n",
        "            - *times.value*: Time when the information extraction ended.\n",
        "        :type times: pd.Series\n",
        "\n",
        "        :param embargo: The embargo period to further prevent potential\n",
        "                        information leakage.\n",
        "        :type embargo: float\n",
        "        \"\"\"\n",
        "        self.n_splits = n_splits\n",
        "        self.times = times\n",
        "        self.embargo = embargo\n",
        "        self.is_multiple_datasets = isinstance(times, dict)\n",
        "\n",
        "\n",
        "    def get_n_splits(\n",
        "        self,\n",
        "        data: Optional[Union[pd.DataFrame, Dict[str, pd.DataFrame]]] = None,\n",
        "        labels: Optional[Union[pd.Series, Dict[str, pd.Series]]] = None,\n",
        "        groups: Optional[np.ndarray] = None\n",
        "    ) -> int:\n",
        "        \"\"\"\n",
        "        Return number of splits.\n",
        "\n",
        "        :param data: Dataset or dictionary of datasets.\n",
        "        :type data: Optional[Union[pd.DataFrame, Dict[str, pd.DataFrame]]]\n",
        "\n",
        "        :param labels: Labels or dictionary of labels.\n",
        "        :type labels: Optional[Union[pd.Series, Dict[str, pd.Series]]]\n",
        "\n",
        "        :param groups: Group labels for the samples.\n",
        "        :type groups: Optional[np.ndarray]\n",
        "\n",
        "        :return: Number of splits.\n",
        "        :rtype: int\n",
        "        \"\"\"\n",
        "        return self.n_splits\n",
        "\n",
        "\n",
        "    def _validate_input(\n",
        "        self,\n",
        "        single_times: pd.Series,\n",
        "        single_data: pd.DataFrame\n",
        "    ) -> None:\n",
        "        \"\"\"\n",
        "        Validate that the input data and times share the same index.\n",
        "\n",
        "        This function checks if the provided data and its corresponding times\n",
        "        have the same index. If they do not match, it raises a `ValueError`.\n",
        "\n",
        "        :param single_times: Time series data to be validated.\n",
        "        :type single_times: pd.Series\n",
        "        :param single_data: Dataset with which the times should align.\n",
        "        :type single_data: pd.DataFrame\n",
        "        :raises ValueError: If the indices of the data and times do not match.\n",
        "        :return: None\n",
        "        \"\"\"\n",
        "        if not single_data.index.equals(single_times.index):\n",
        "            raise ValueError('Data and through date values must have the same index')\n",
        "\n",
        "\n",
        "    def _get_train_indices(\n",
        "        self,\n",
        "        test_indices: np.ndarray,\n",
        "        single_times: pd.Series,\n",
        "        continous_test_times: bool = False,\n",
        "    ) -> np.ndarray:\n",
        "        \"\"\"\n",
        "        Obtain the training indices considering purging and embargo.\n",
        "\n",
        "        This function retrieves the training set indices based on the given test indices\n",
        "        while considering the purging and embargo strategy.\n",
        "\n",
        "        :param test_indices: Indices used for the test set.\n",
        "        :type test_indices: np.ndarray\n",
        "        :param single_times: Time series data used for purging and embargo.\n",
        "        :type single_times: pd.Series\n",
        "        :return: Training indices after applying purging and embargo.\n",
        "        :rtype: np.ndarray\n",
        "        \"\"\"\n",
        "        test_time_range = single_times.iloc[test_indices]\n",
        "        train_times = self.filtered_training_indices_with_embargo(\n",
        "            single_times, test_time_range, self.embargo, continous_test_times\n",
        "        )\n",
        "        return pd.Series(train_times.index).map(single_times.index.get_loc).tolist()\n",
        "\n",
        "\n",
        "    def _single_split(\n",
        "        self,\n",
        "        single_times: pd.Series,\n",
        "        single_data: pd.DataFrame,\n",
        "    ) -> Generator[Tuple[np.ndarray, np.ndarray], None, None]:\n",
        "        \"\"\"\n",
        "        Split the data into train and test sets.\n",
        "\n",
        "        This function splits the data for a single dataset considering purging and embargo.\n",
        "\n",
        "        :param single_times: Time series data used for purging and embargo.\n",
        "        :type single_times: pd.Series\n",
        "        :param single_data: Dataset to split.\n",
        "        :type single_data: pd.DataFrame\n",
        "        :return: Train and test indices.\n",
        "        :rtype: Generator[Tuple[np.ndarray, np.ndarray], None, None]\n",
        "        \"\"\"\n",
        "        self._validate_input(single_times, single_data)\n",
        "\n",
        "        indices = np.arange(len(single_data))\n",
        "\n",
        "        for test_indices in np.array_split(indices, self.n_splits):\n",
        "            train_indices = self._get_train_indices(test_indices, single_times, True)\n",
        "            yield train_indices, test_indices\n",
        "\n",
        "\n",
        "    def split(\n",
        "        self,\n",
        "        data: Union[pd.DataFrame, Dict[str, pd.DataFrame]],\n",
        "        labels: Optional[Union[pd.Series, Dict[str, pd.Series]]] = None,\n",
        "        groups: Optional[np.ndarray] = None\n",
        "    ) -> Union[\n",
        "        Generator[Tuple[np.ndarray, np.ndarray], None, None],\n",
        "        Generator[Tuple[str, Tuple[np.ndarray, np.ndarray]], None, None]\n",
        "    ]:\n",
        "        \"\"\"\n",
        "        Split multiple datasets into train and test sets.\n",
        "\n",
        "        This function either splits a single dataset or multiple datasets considering\n",
        "        purging and embargo.\n",
        "\n",
        "        :param data: Dataset or dictionary of datasets.\n",
        "        :type data: Union[pd.DataFrame, Dict[str, pd.DataFrame]]\n",
        "        :param labels: Labels corresponding to the datasets, if available.\n",
        "        :type labels: Optional[Union[pd.Series, Dict[str, pd.Series]]]\n",
        "        :param groups: Group information, if available.\n",
        "        :type groups: Optional[np.ndarray]\n",
        "        :return: Train and test indices or key with train and test indices for multiple datasets.\n",
        "        :rtype: Union[Generator[Tuple[np.ndarray, np.ndarray], None, None],\n",
        "                    Generator[Tuple[str, Tuple[np.ndarray, np.ndarray]], None, None]]\n",
        "        \"\"\"\n",
        "        if self.is_multiple_datasets:\n",
        "            for key in self.times:\n",
        "                for train_indices, test_indices in self._single_split(\n",
        "                    self.times[key], data[key]\n",
        "                ):\n",
        "                    yield key, (train_indices, test_indices)\n",
        "        else:\n",
        "            for train_indices, test_indices in self._single_split(\n",
        "                self.times, data\n",
        "            ):\n",
        "                yield train_indices, test_indices\n",
        "\n",
        "\n",
        "    def _single_backtest_paths(\n",
        "        self,\n",
        "        single_times: pd.Series,\n",
        "        single_data: pd.DataFrame,\n",
        "    ) -> Dict[str, List[Dict[str, np.ndarray]]]:\n",
        "        \"\"\"\n",
        "        Generate backtest paths based on training and testing indices.\n",
        "\n",
        "        This function first validates the input data and times. Then, it generates\n",
        "        the training and testing indices for backtesting. These paths are organized\n",
        "        into a dictionary with a designated name for each backtest path.\n",
        "\n",
        "        :param single_times: Time series data for validation.\n",
        "        :type single_times: pd.Series\n",
        "        :param single_data: Dataset with which the times should align.\n",
        "        :type single_data: pd.DataFrame\n",
        "        :return: Dictionary containing the backtest paths with training and testing indices.\n",
        "        :rtype: Dict[str, List[Dict[str, np.ndarray]]]\n",
        "        \"\"\"\n",
        "        self._validate_input(single_times, single_data)\n",
        "\n",
        "        path_data = []\n",
        "        paths = {}\n",
        "\n",
        "        for train_indices, test_indices in self._single_split(single_times, single_data):\n",
        "            path_data.append({\n",
        "                \"Train\": np.array(train_indices),\n",
        "                \"Test\": test_indices,\n",
        "            })\n",
        "\n",
        "        paths['Path 1'] = path_data\n",
        "\n",
        "        return paths\n",
        "\n",
        "\n",
        "    def backtest_paths(\n",
        "        self,\n",
        "        data: Union[pd.DataFrame, Dict[str, pd.DataFrame]],\n",
        "    ) -> Union[\n",
        "        Dict[str, List[Dict[str, np.ndarray]]],\n",
        "        Dict[str, Dict[str, List[Dict[str, List[np.ndarray]]]]]\n",
        "    ]:\n",
        "        \"\"\"\n",
        "        Generate backtest paths for single or multiple datasets.\n",
        "\n",
        "        This function checks whether multiple datasets are being used. If so, it iterates through each\n",
        "        dataset, generating backtest paths using the `_single_backtest_paths` method. Otherwise, it directly\n",
        "        returns the backtest paths for the single dataset.\n",
        "\n",
        "        :param data: Input data on which the backtest paths are based.\n",
        "                    Can be either a single DataFrame or a dictionary of DataFrames for multiple datasets.\n",
        "        :type data: Union[pd.DataFrame, Dict[str, pd.DataFrame]]\n",
        "\n",
        "        :return: A dictionary where each key is a backtest path name, and the value is\n",
        "                a list of dictionaries with train and test index arrays. For multiple datasets,\n",
        "                a nested dictionary structure is returned.\n",
        "        :rtype: Union[\n",
        "            Dict[str, List[Dict[str, np.ndarray]]],\n",
        "            Dict[str, Dict[str, List[Dict[str, List[np.ndarray]]]]]\n",
        "        ]\n",
        "\n",
        "        \"\"\"\n",
        "        if self.is_multiple_datasets:\n",
        "            multiple_paths = {}\n",
        "            for key in self.times:\n",
        "                multiple_paths[key] = self._single_backtest_paths(self.times[key], data[key])\n",
        "\n",
        "            return multiple_paths\n",
        "        else:\n",
        "\n",
        "            return self._single_backtest_paths(self.times, data)\n",
        "\n",
        "\n",
        "    def _single_backtest_predictions(\n",
        "        self,\n",
        "        single_estimator: Any,\n",
        "        single_times: pd.Series,\n",
        "        single_data: pd.DataFrame,\n",
        "        single_labels: pd.Series,\n",
        "        single_weights: Optional[np.ndarray] = None,\n",
        "        predict_probability: bool = False,\n",
        "        n_jobs: int = 1\n",
        "    ) -> Dict[str, np.ndarray]:\n",
        "        \"\"\"\n",
        "        Obtain predictions for a single dataset during backtesting.\n",
        "\n",
        "        This function leverages parallel computation to train and predict on different train-test splits\n",
        "        of a single dataset using a given estimator. It utilizes the `_single_split` method to generate\n",
        "        the train-test splits.\n",
        "\n",
        "        :param single_estimator: Estimator or model to be trained and used for predictions.\n",
        "        :type single_estimator: Any\n",
        "        :param single_times: Timestamps for the single dataset.\n",
        "        :type single_times: pd.Series\n",
        "        :param single_data: Data of the single dataset.\n",
        "        :type single_data: pd.DataFrame\n",
        "        :param single_labels: Labels corresponding to the single dataset.\n",
        "        :type single_labels: pd.Series\n",
        "        :param single_weights: Weights for the observations in the single dataset.\n",
        "                            Defaults to equally weighted if not provided.\n",
        "        :type single_weights: np.ndarray, optional\n",
        "        :param predict_probability: If True, predict the probability of forecasts.\n",
        "        :type predict_probability: bool\n",
        "        :param n_jobs: The number of jobs to run in parallel. Default is 1.\n",
        "        :type n_jobs: int, optional\n",
        "        :return: Predictions structured in a dictionary for the backtest paths.\n",
        "        :rtype: Dict[str, np.ndarray]\n",
        "        \"\"\"\n",
        "        self._validate_input(single_times, single_data)\n",
        "\n",
        "        if single_weights is None:\n",
        "            single_weights = np.ones(len(single_data))\n",
        "\n",
        "        def train_test_single_estimator(\n",
        "            single_estimator_: Any,\n",
        "            train_indices: np.ndarray,\n",
        "            test_indices: np.ndarray\n",
        "        ) -> np.ndarray:\n",
        "            X_train = single_data.iloc[train_indices]\n",
        "            y_train = single_labels.iloc[train_indices]\n",
        "            weights_train = single_weights[train_indices]\n",
        "\n",
        "            with warnings.catch_warnings():\n",
        "                warnings.filterwarnings('ignore', category=ConvergenceWarning)\n",
        "                try:\n",
        "                    single_estimator_.fit(X_train, y_train, sample_weight=weights_train)\n",
        "\n",
        "                except TypeError:\n",
        "                    single_estimator_.fit(X_train, y_train)\n",
        "\n",
        "            X_test = single_data.iloc[test_indices]\n",
        "\n",
        "            if predict_probability:\n",
        "                return single_estimator_.predict_proba(X_test)\n",
        "\n",
        "            else:\n",
        "                return single_estimator_.predict(X_test)\n",
        "\n",
        "        path_data = Parallel(n_jobs=n_jobs)(\n",
        "            delayed(train_test_single_estimator)(\n",
        "                deepcopy(single_estimator), train_indices, test_indices\n",
        "            ) for train_indices, test_indices in self._single_split(single_times, single_data)\n",
        "        )\n",
        "\n",
        "        paths_predictions = {'Path 1': np.concatenate(path_data)}\n",
        "\n",
        "        return paths_predictions\n",
        "\n",
        "\n",
        "    def backtest_predictions(\n",
        "        self,\n",
        "        estimator: Union[Any, Dict[str, Any]],\n",
        "        data: Union[pd.DataFrame, Dict[str, pd.DataFrame]],\n",
        "        labels: Union[pd.Series, Dict[str, pd.Series]],\n",
        "        sample_weights: Optional[Union[np.ndarray, Dict[str, np.ndarray]]] = None,\n",
        "        predict_probability: bool = False,\n",
        "        n_jobs: int = 1\n",
        "    ) -> Union[Dict[str, np.ndarray], Dict[str, Dict[str, np.ndarray]]]:\n",
        "        \"\"\"\n",
        "        Generate backtest predictions for single or multiple datasets.\n",
        "\n",
        "        For each dataset, this function leverages the `_single_backtest_predictions` method to obtain\n",
        "        predictions for different train-test splits using the given estimator.\n",
        "\n",
        "        :param estimator: Model or estimator to be trained and used for predictions.\n",
        "                        Can be a single estimator or a dictionary of estimators for multiple datasets.\n",
        "        :type estimator: Union[Any, Dict[str, Any]]\n",
        "        :param data: Input data for training and testing. Can be a single dataset or\n",
        "                    a dictionary of datasets for multiple datasets.\n",
        "        :type data: Union[pd.DataFrame, Dict[str, pd.DataFrame]]\n",
        "        :param labels: Target labels for training and testing. Can be a single series or\n",
        "                    a dictionary of series for multiple datasets.\n",
        "        :type labels: Union[pd.Series, Dict[str, pd.Series]]\n",
        "        :param sample_weights: Weights for the observations in the dataset(s).\n",
        "                            Can be a single array or a dictionary of arrays for multiple datasets.\n",
        "                            Defaults to None, which means equal weights for all observations.\n",
        "        :type sample_weights: Optional[Union[np.ndarray, Dict[str, np.ndarray]]]\n",
        "        :param predict_probability: If True, predict the probability of forecasts.\n",
        "        :type predict_probability: bool\n",
        "        :param n_jobs: The number of jobs to run in parallel. Default is 1.\n",
        "        :type n_jobs: int, optional\n",
        "        :return: Backtest predictions structured in a dictionary (or nested dictionaries for multiple datasets).\n",
        "        :rtype: Union[Dict[str, np.ndarray], Dict[str, Dict[str, np.ndarray]]]\n",
        "        \"\"\"\n",
        "\n",
        "        if self.is_multiple_datasets:\n",
        "            multiple_paths_predictions = {}\n",
        "            for key in self.times:\n",
        "                multiple_paths_predictions[key] = self._single_backtest_predictions(\n",
        "                    estimator[key], self.times[key], data[key], labels[key],\n",
        "                    sample_weights[key] if sample_weights else None, predict_probability, n_jobs\n",
        "                )\n",
        "            return multiple_paths_predictions\n",
        "\n",
        "        return self._single_backtest_predictions(\n",
        "            estimator, self.times, data, labels, sample_weights, predict_probability, n_jobs\n",
        "        )"
      ]
    },
    {
      "cell_type": "code",
      "execution_count": 7,
      "metadata": {},
      "outputs": [],
      "source": [
        "class CombinatorialPurged(PurgedKFold):\n",
        "    \"\"\"\n",
        "    Combinatorial Purged Cross-Validation (CPCV) implementation based on Marcos Lopez de Prado's method.\n",
        "\n",
        "    This class provides a cross-validation scheme that aims to address the main drawback of the Walk Forward\n",
        "    and traditional Cross-Validation methods by testing multiple paths. Given a number of backtest paths,\n",
        "    CPCV generates the precise number of combinations of training/testing sets needed to generate those paths,\n",
        "    while purging training observations that might contain leaked information.\n",
        "\n",
        "    Parameters\n",
        "    ----------\n",
        "    n_splits : int\n",
        "        Number of splits/groups to partition the data into.\n",
        "    n_test_groups : int\n",
        "        Size of the testing set in terms of groups.\n",
        "    times : Union[pd.Series, Dict[str, pd.Series]]\n",
        "        The timestamp series associated with the labels.\n",
        "    embargo : float\n",
        "        The embargo rate for purging.\n",
        "    \"\"\"\n",
        "\n",
        "\n",
        "    @staticmethod\n",
        "    def _path_locations(\n",
        "        n_splits: int,\n",
        "        combinations_: List[Tuple[int]]\n",
        "    ) -> Dict[int, List[Tuple[int, int]]]:\n",
        "        \"\"\"\n",
        "        Generate a labeled path matrix and return path locations for N choose K.\n",
        "\n",
        "        This method generates a matrix where each entry corresponds to a specific combination of\n",
        "        training/testing sets, and helps in mapping these combinations to specific backtest paths.\n",
        "\n",
        "        Parameters\n",
        "        ----------\n",
        "        n_splits : int\n",
        "            Number of splits/groups to partition the data into.\n",
        "        combinations_ : list\n",
        "            List of combinations for training/testing sets.\n",
        "\n",
        "        Returns\n",
        "        -------\n",
        "        dict\n",
        "            A dictionary mapping each backtest path to its corresponding train/test combination.\n",
        "        \"\"\"\n",
        "\n",
        "        # Initialize a zero matrix\n",
        "        matrix = np.zeros((n_splits, len(combinations_)), dtype=int)\n",
        "\n",
        "        # Set appropriate entries to 1 and label path numbers in the same loop\n",
        "        for col, indices in enumerate(combinations_):\n",
        "            matrix[indices, col] = 1\n",
        "\n",
        "        # Label path numbers\n",
        "        def label_path(row):\n",
        "            counter = iter(range(1, row.sum() + 1))\n",
        "            return [next(counter) if x == 1 else 0 for x in row]\n",
        "\n",
        "        path_numbers = np.array(list(map(label_path, matrix)))\n",
        "\n",
        "        # Extract path locations using loops\n",
        "        def map_to_location(coord):\n",
        "            i, j = coord\n",
        "            value = path_numbers[i, j]\n",
        "            locations[value].append((i, j))\n",
        "\n",
        "        rows, cols = path_numbers.shape\n",
        "        locations = defaultdict(list)\n",
        "        list(map(map_to_location, [(x, y) for x in range(rows) for y in range(cols) if path_numbers[x, y] != 0]))\n",
        "\n",
        "        return dict(locations)\n",
        "\n",
        "\n",
        "    @staticmethod\n",
        "    def _combinatorial_splits(\n",
        "        combinations_: List[Tuple[int]],\n",
        "        split_segments: np.ndarray\n",
        "    ) -> Generator[np.ndarray, None, None]:\n",
        "        \"\"\"\n",
        "        Generate combinatorial test sets based on the number of test groups (n_test_groups).\n",
        "\n",
        "        This method creates test sets by considering all possible combinations of group splits, allowing\n",
        "        for the creation of multiple test paths, as described in the CPCV methodology.\n",
        "\n",
        "        Parameters\n",
        "        ----------\n",
        "        combinations_ : list\n",
        "            List of combinations for training/testing sets.\n",
        "        split_segments : np.ndarray\n",
        "            Array of data split segments.\n",
        "\n",
        "        Returns\n",
        "        -------\n",
        "        Generator[np.ndarray]\n",
        "            A generator yielding the combinatorial test sets.\n",
        "        \"\"\"\n",
        "\n",
        "        for test_groups in combinations_:\n",
        "            test_sets = [split for i, split in enumerate(split_segments) if i in test_groups]\n",
        "            yield np.concatenate(test_sets)\n",
        "\n",
        "\n",
        "    def __init__(\n",
        "        self,\n",
        "        n_splits: int,\n",
        "        n_test_groups: int,\n",
        "        times: Union[pd.Series, Dict[str, pd.Series]],\n",
        "        embargo: float = 0\n",
        "    ):\n",
        "        \"\"\"\n",
        "        Initialize the CombinatorialPurged class.\n",
        "\n",
        "        Parameters\n",
        "        ----------\n",
        "        n_splits : int\n",
        "            Number of splits/groups to partition the data into.\n",
        "        n_test_groups : int\n",
        "            Size of the testing set in terms of groups.\n",
        "        times : Union[pd.Series, Dict[str, pd.Series]]\n",
        "            The timestamp series associated with the labels.\n",
        "        embargo : float\n",
        "            The embargo rate for purging.\n",
        "        \"\"\"\n",
        "\n",
        "        super().__init__(n_splits, times, embargo)\n",
        "        self.n_test_groups = n_test_groups\n",
        "\n",
        "    def get_n_splits(\n",
        "        self,\n",
        "        data: Optional[Union[pd.DataFrame, Dict[str, pd.DataFrame]]] = None,\n",
        "        labels: Optional[Union[pd.Series, Dict[str, pd.Series]]] = None,\n",
        "        groups: Optional[np.ndarray] = None\n",
        "    ) -> int:\n",
        "        \"\"\"\n",
        "        Return number of splits.\n",
        "\n",
        "        :param data: Dataset or dictionary of datasets.\n",
        "        :type data: Optional[Union[pd.DataFrame, Dict[str, pd.DataFrame]]]\n",
        "\n",
        "        :param labels: Labels or dictionary of labels.\n",
        "        :type labels: Optional[Union[pd.Series, Dict[str, pd.Series]]]\n",
        "\n",
        "        :param groups: Group labels for the samples.\n",
        "        :type groups: Optional[np.ndarray]\n",
        "\n",
        "        :return: Number of splits.\n",
        "        :rtype: int\n",
        "        \"\"\"\n",
        "        return comb(self.n_splits, self.n_test_groups)\n",
        "\n",
        "    def _single_split(\n",
        "        self,\n",
        "        single_times: np.ndarray,\n",
        "        single_data: np.ndarray,\n",
        "    ) -> Generator[Tuple[np.ndarray, np.ndarray], None, None]:\n",
        "        \"\"\"\n",
        "        Splits data into train and test indices based on the defined combinatorial splits.\n",
        "\n",
        "        This function is used to generate multiple train-test splits based on the combinatorial\n",
        "        cross-validation method. It ensures that each train-test split is properly purged and\n",
        "        embargoed to prevent data leakage.\n",
        "\n",
        "        :param single_times: Timestamp series associated with the labels.\n",
        "        :param single_data: The input data to be split.\n",
        "\n",
        "        :return: Generator that yields tuples of (train indices, test indices).\n",
        "\n",
        "        .. note:: The function validates the input, and uses combinatorial cross-validation method to\n",
        "                produce the train-test splits.\n",
        "        \"\"\"\n",
        "\n",
        "        self._validate_input(single_times, single_data)\n",
        "\n",
        "        indices = np.arange(single_data.shape[0])\n",
        "        split_segments = np.array_split(indices, self.n_splits)\n",
        "        combinations_ = list(combinations(range(self.n_splits), self.n_test_groups))\n",
        "\n",
        "        all_combinatorial_splits = list(\n",
        "            CombinatorialPurged._combinatorial_splits(combinations_, split_segments)\n",
        "        )\n",
        "\n",
        "        for test_indices in all_combinatorial_splits:\n",
        "            train_indices = self._get_train_indices(test_indices, single_times)\n",
        "            yield train_indices, test_indices\n",
        "\n",
        "\n",
        "    def _combinations_and_path_locations_and_split_segments(\n",
        "        self,\n",
        "        data: pd.DataFrame\n",
        "    ) -> Tuple[List[Tuple[int, ...]], Dict[str, np.ndarray], List[np.ndarray]]:\n",
        "        \"\"\"\n",
        "        Generate combinations, path locations, and split segments for the data.\n",
        "\n",
        "        This function is a helper that computes necessary components for combinatorial cross-validation.\n",
        "\n",
        "        :param data: The input dataframe to generate combinations, path locations, and split segments.\n",
        "\n",
        "        :return: Tuple containing combinations, path locations, and split segments.\n",
        "\n",
        "        .. math::\n",
        "        \\\\text{combinations} = \\\\binom{n}{k}\n",
        "        \"\"\"\n",
        "\n",
        "        combinations_ = list(combinations(range(self.n_splits), self.n_test_groups))\n",
        "        locations = CombinatorialPurged._path_locations(self.n_splits, combinations_)\n",
        "\n",
        "        indices = np.arange(data.shape[0])\n",
        "        split_segments = np.array_split(indices, self.n_splits)\n",
        "\n",
        "        return combinations_, locations, split_segments\n",
        "\n",
        "\n",
        "    def _single_backtest_paths(\n",
        "            self,\n",
        "            single_times: pd.Series,\n",
        "            single_data: pd.DataFrame,\n",
        "    ) -> Dict[str, List[Dict[str, List[np.ndarray]]]]:\n",
        "        \"\"\"\n",
        "        Generate the backtest paths for given input data.\n",
        "\n",
        "        This function creates multiple backtest paths based on combinatorial splits, where\n",
        "        each path represents a sequence of train-test splits. It ensures that data leakage\n",
        "        is prevented by purging and applying embargo to the train-test splits.\n",
        "\n",
        "        :param single_times: Timestamp series associated with the data.\n",
        "        :param single_data: Input data on which the backtest paths are based.\n",
        "\n",
        "        :return: A dictionary where each key is a backtest path name, and the value is\n",
        "                a list of dictionaries with train and test index arrays.\n",
        "\n",
        "        .. note:: This function relies on combinatorial cross-validation for backtesting to\n",
        "                generate multiple paths of train-test splits.\n",
        "        \"\"\"\n",
        "\n",
        "        self._validate_input(single_times, single_data)\n",
        "\n",
        "        paths = {}\n",
        "        combinations_, locations, split_segments = self._combinations_and_path_locations_and_split_segments(single_data)\n",
        "        all_combinatorial_splits = list(\n",
        "            CombinatorialPurged._combinatorial_splits(combinations_, split_segments)\n",
        "        )\n",
        "\n",
        "        for path_num, locs in locations.items():\n",
        "            path_data = []\n",
        "\n",
        "            for (G, S) in locs:\n",
        "                # Use all_combinatorial_splits[S] to determine potential training indices\n",
        "                # Now, we derive the actual training set after purge and embargo\n",
        "                train_indices = self._get_train_indices(all_combinatorial_splits[S], single_times)\n",
        "\n",
        "                path_data.append({\n",
        "                    \"Train\": np.array(train_indices),\n",
        "                    \"Test\": split_segments[G],\n",
        "                })\n",
        "\n",
        "            paths[f\"Path {path_num}\"] = np.array(path_data)\n",
        "\n",
        "        return paths\n",
        "\n",
        "\n",
        "    def _single_backtest_predictions(\n",
        "        self,\n",
        "        single_estimator: Any,\n",
        "        single_times: pd.Series,\n",
        "        single_data: pd.DataFrame,\n",
        "        single_labels: pd.Series,\n",
        "        single_weights: np.ndarray,\n",
        "        predict_probability: bool = False,\n",
        "        n_jobs: int = 1\n",
        "    ) -> Dict[str, np.ndarray]:\n",
        "        \"\"\"\n",
        "        Generate predictions for a single backtest using combinatorial splits.\n",
        "\n",
        "        This method calculates predictions across various paths created by combinatorial splits\n",
        "        of the data. For each combinatorial split, a separate estimator is trained and then used\n",
        "        to predict on the corresponding test set.\n",
        "\n",
        "        :param single_estimator: The machine learning model or estimator to be trained.\n",
        "        :param single_times: Timestamps corresponding to the data points.\n",
        "        :param single_data: Input data on which the model is trained and predictions are made.\n",
        "        :param single_labels: Labels corresponding to the input data.\n",
        "        :param single_weights: Weights for each data point.\n",
        "        :param predict_probability: If True, predict the probability of forecasts.\n",
        "        :type predict_probability: bool\n",
        "        :param n_jobs: Number of CPU cores to use for parallelization. Default is 1.\n",
        "\n",
        "        :return: A dictionary where keys are path names and values are arrays of predictions.\n",
        "\n",
        "        .. note:: This function relies on internal methods (e.g., `_get_train_indices`)\n",
        "                to manage data splits and training.\n",
        "\n",
        "        .. note:: Parallelization is used to speed up the training of models for different splits.\n",
        "        \"\"\"\n",
        "\n",
        "        self._validate_input(single_times, single_data)\n",
        "\n",
        "        if single_weights is None:\n",
        "            single_weights = np.ones((len(single_data),))\n",
        "\n",
        "        paths_predictions = {}\n",
        "        combinations_, locations, split_segments = self._combinations_and_path_locations_and_split_segments(single_data)\n",
        "\n",
        "        def train_single_estimator(\n",
        "            single_estimator_,\n",
        "            combinatorial_test_indices\n",
        "        ):\n",
        "            combinatorial_train_indices = self._get_train_indices(combinatorial_test_indices, single_times)\n",
        "\n",
        "            X_train = single_data.iloc[combinatorial_train_indices]\n",
        "            y_train = single_labels.iloc[combinatorial_train_indices]\n",
        "            weights_train = single_weights[combinatorial_train_indices]\n",
        "\n",
        "            with warnings.catch_warnings():\n",
        "                warnings.filterwarnings('ignore', category=ConvergenceWarning)\n",
        "                try:\n",
        "                    single_estimator_.fit(X_train, y_train, sample_weight=weights_train)\n",
        "\n",
        "                except TypeError:\n",
        "                    single_estimator_.fit(X_train, y_train)\n",
        "\n",
        "            return single_estimator_\n",
        "\n",
        "        combinatorial_trained_estimators = Parallel(n_jobs=n_jobs)(\n",
        "            delayed(train_single_estimator)(deepcopy(single_estimator), combinatorial_test_indices)\n",
        "            for combinatorial_test_indices in CombinatorialPurged._combinatorial_splits(combinations_, split_segments))\n",
        "\n",
        "\n",
        "        def get_path_data(\n",
        "            path_num,\n",
        "            locs\n",
        "        ):\n",
        "            path_data = []\n",
        "\n",
        "            for (G, S) in locs:\n",
        "                test_indices = split_segments[G]\n",
        "                X_test = single_data.iloc[test_indices]\n",
        "\n",
        "                if predict_probability:\n",
        "                    predictions = combinatorial_trained_estimators[S].predict_proba(X_test)\n",
        "\n",
        "                else:\n",
        "                    predictions = combinatorial_trained_estimators[S].predict(X_test)\n",
        "\n",
        "                path_data.extend(predictions)\n",
        "\n",
        "            path_data = {f\"Path {path_num}\" : np.array(path_data)}\n",
        "\n",
        "            return path_data\n",
        "\n",
        "        paths_predictions = Parallel(n_jobs=n_jobs)(delayed(get_path_data)(path_num, locs) for path_num, locs in locations.items())\n",
        "        paths_predictions = dict(ChainMap(*reversed(paths_predictions)))\n",
        "\n",
        "        return paths_predictions"
      ]
    },
    {
      "cell_type": "code",
      "execution_count": 8,
      "metadata": {},
      "outputs": [],
      "source": [
        "class CrossValidatorFactory:\n",
        "    \"\"\"\n",
        "    Factory class for creating cross-validator objects.\n",
        "    \"\"\"\n",
        "\n",
        "    @staticmethod\n",
        "    def create_cross_validator(\n",
        "            validator_type: str,\n",
        "            **kwargs\n",
        "    ) -> CrossValidator:\n",
        "        \"\"\"\n",
        "        Factory method to create and return an instance of a cross-validator\n",
        "        based on the provided type.\n",
        "\n",
        "        :param validator_type: Type of cross-validator to create. Options include\n",
        "            'kfold', 'purgedkfold', and 'combinatorial_purged'.\n",
        "        :type validator_type: str\n",
        "\n",
        "        :param kwargs: Additional keyword arguments to be passed to the cross-validator's constructor.\n",
        "        :type kwargs: Type\n",
        "\n",
        "        :return: An instance of the specified cross-validator.\n",
        "        :rtype: CrossValidator\n",
        "\n",
        "        :raises ValueError: If an invalid validator type is provided.\n",
        "        \"\"\"\n",
        "        if validator_type == 'kfold':\n",
        "            return KFold(**kwargs)\n",
        "        # Add other cross-validators here\n",
        "        elif validator_type == 'walkforward':\n",
        "            return WalkForward(**kwargs)\n",
        "\n",
        "        elif validator_type == 'purgedkfold':\n",
        "            return PurgedKFold(**kwargs)\n",
        "\n",
        "        elif validator_type == 'combinatorialpurged':\n",
        "            return CombinatorialPurged(**kwargs)\n",
        "\n",
        "        else:\n",
        "            raise ValueError(f\"Invalid validator_type: {validator_type}\")"
      ]
    },
    {
      "cell_type": "code",
      "execution_count": 9,
      "metadata": {},
      "outputs": [],
      "source": [
        "class CrossValidatorController:\n",
        "    \"\"\"\n",
        "    Controller class to handle the cross-validation process.\n",
        "    \"\"\"\n",
        "\n",
        "    def __init__(\n",
        "        self,\n",
        "        validator_type: str,\n",
        "        **kwargs\n",
        "    ):\n",
        "        \"\"\"\n",
        "        Initializes the CrossValidatorController.\n",
        "\n",
        "        :param validator_type: Type of cross-validator to create and use.\n",
        "            This is passed to the factory to instantiate the appropriate cross-validator.\n",
        "        :type validator_type: str\n",
        "\n",
        "        :param kwargs: Additional keyword arguments to be passed to the cross-validator's constructor.\n",
        "        :type kwargs: Type\n",
        "        \"\"\"\n",
        "        self.cross_validator = CrossValidatorFactory.create_cross_validator(\n",
        "            validator_type,\n",
        "            **kwargs\n",
        "        )"
      ]
    },
    {
      "cell_type": "code",
      "execution_count": 10,
      "metadata": {},
      "outputs": [],
      "source": [
        "class CustomPipeline(Pipeline):\n",
        "    @classmethod\n",
        "    def from_existing_pipeline(cls, existing_pipeline, memory=None, verbose=False):\n",
        "        return cls(steps=existing_pipeline.steps, memory=memory, verbose=verbose)\n",
        "        \n",
        "    def fit(self, X, y=None, **fit_params):\n",
        "        if 'sample_weight' in fit_params:\n",
        "            sample_weight = fit_params.pop('sample_weight')\n",
        "            for step_name, _ in self.steps:\n",
        "                fit_params[f\"{step_name}__sample_weight\"] = sample_weight\n",
        "        return super().fit(X, y, **fit_params)"
      ]
    },
    {
      "cell_type": "code",
      "execution_count": 11,
      "metadata": {},
      "outputs": [],
      "source": [
        "N_JOBS = 24\n",
        "N_PATHS = 1000\n",
        "TOTAL_TIME = 40\n",
        "N_STEPS = int(252 * TOTAL_TIME)\n",
        "RISK_FREE_RATE = 0.05\n",
        "STEP_RISK_FREE_RATE = np.log(1 + RISK_FREE_RATE) / N_STEPS * TOTAL_TIME\n",
        "RANDOM_STATE = 0"
      ]
    },
    {
      "cell_type": "code",
      "execution_count": 12,
      "metadata": {},
      "outputs": [],
      "source": [
        "N_JOBS = 8\n",
        "N_PATHS = 30\n",
        "TOTAL_TIME = 40\n",
        "N_STEPS = int(252 * TOTAL_TIME)\n",
        "RISK_FREE_RATE = 0.05\n",
        "STEP_RISK_FREE_RATE = np.log(1 + RISK_FREE_RATE) / N_STEPS * TOTAL_TIME\n",
        "RANDOM_STATE = 0"
      ]
    },
    {
      "cell_type": "code",
      "execution_count": 13,
      "metadata": {},
      "outputs": [
        {
          "name": "stdout",
          "output_type": "stream",
          "text": [
            "Synthesizing Prices...\n"
          ]
        }
      ],
      "source": [
        "x = 0.35\n",
        "\n",
        "bubble_drifts, bubble_volatilities = drift_volatility_burst(\n",
        "    bubble_length=5 * 252, \n",
        "    a_before=x, \n",
        "    a_after=-x, \n",
        "    b_before=0.6 * x, \n",
        "    b_after=0.6 * x, \n",
        "    alpha=0.75, \n",
        "    beta=0.45,\n",
        "    explosion_filter_width=0.1\n",
        ")\n",
        "# Dictionary of Heston parameters for different market regimes\n",
        "regimes = {\n",
        "    'calm': {\n",
        "        'mu': 0.1,\n",
        "        'kappa': 3.98,\n",
        "        'theta': 0.029,\n",
        "        'xi': 0.389645311,\n",
        "        'rho': -0.7,\n",
        "        'lam': 121,\n",
        "        'm': -0.000709,\n",
        "        'v': 0.0119\n",
        "    },\n",
        "    'volatile': {\n",
        "        'mu': 0.1,\n",
        "        'kappa': 3.81,\n",
        "        'theta': 0.25056,\n",
        "        'xi': 0.59176974,\n",
        "        'rho': -0.7,\n",
        "        'lam': 121,\n",
        "        'm': -0.000709,\n",
        "        'v': 0.0119\n",
        "    },\n",
        "    'speculative_bubble': {\n",
        "        'mu': list(bubble_drifts),\n",
        "        'kappa': 1,\n",
        "        'theta': list(bubble_volatilities),\n",
        "        'xi': 0,\n",
        "        'rho': 0,\n",
        "        'lam': 0,\n",
        "        'm': 0,\n",
        "        'v': 0.00000001\n",
        "    },\n",
        "}\n",
        "\n",
        "# Example transition matrix for two regimes (calm and volatile)\n",
        "# Probabilities will depend on your expectations\n",
        "# P = [[0.95, 0.05],  # transition probabilities from calm\n",
        "#      [0.1, 0.9]]  # transition probabilities from volatile\n",
        "\n",
        "dt = TOTAL_TIME / N_STEPS\n",
        "\n",
        "transition_matrix = np.array([\n",
        "    [1 - 1 * dt,   1 * dt - 0.00001,        0.00001],  # State 0 transitions\n",
        "    [20 * dt,      1 - 20 * dt - 0.00001,   0.00001],  # State 1 transitions\n",
        "    [1 - 1 * dt,   1 * dt,                      0.0],  # State 2 transitions\n",
        "])\n",
        "\n",
        "strategy_parameters = {\n",
        "    'fast_window' : [5, 20, 50, 70],\n",
        "    'slow_window' : [10, 50, 100, 140],\n",
        "    'exponential' : [False],\n",
        "    'mean_reversion' : [False]\n",
        "}\n",
        "\n",
        "# Define models and parameter grids\n",
        "\n",
        "models = {\n",
        "    'k-NN' : {\n",
        "        'Model': CustomPipeline.from_existing_pipeline(existing_pipeline=make_pipeline(StandardScaler(), KNeighborsClassifier())),\n",
        "        'Parameters': {\n",
        "            'kneighborsclassifier__n_neighbors': [1, 2, 3],\n",
        "        }\n",
        "    },\n",
        "    'Decision Tree' : {\n",
        "        'Model': DecisionTreeClassifier(random_state=RANDOM_STATE),\n",
        "        'Parameters': {\n",
        "            'max_depth': [None],\n",
        "            'min_samples_split': [2],\n",
        "            'min_samples_leaf': [1],\n",
        "        }\n",
        "    },\n",
        "    'XGBoost': {\n",
        "        'Model': XGBClassifier(use_label_encoder=False, eval_metric='mlogloss', seed=RANDOM_STATE),\n",
        "        'Parameters': {\n",
        "            'n_estimators': [1000],\n",
        "            'max_depth': [1000000000],\n",
        "            'learning_rate': [1, 10, 100],\n",
        "            'subsample': [1.0],\n",
        "            'colsample_bytree': [1.0],\n",
        "        }\n",
        "    },\n",
        "}\n",
        "\n",
        "print('Synthesizing Prices...')\n",
        "all_prices, all_regimes = parallel_generate_prices(\n",
        "    N_PATHS,\n",
        "    regimes,\n",
        "    transition_matrix,\n",
        "    TOTAL_TIME,\n",
        "    N_STEPS,\n",
        "    RANDOM_STATE,\n",
        "    N_JOBS\n",
        ")"
      ]
    },
    {
      "cell_type": "code",
      "execution_count": 26,
      "metadata": {},
      "outputs": [],
      "source": [
        "def pbo_simulation(prices):\n",
        "    fd_log_price = fractionally_differentiated_log_price(prices)\n",
        "    volatility = daily_volatility(prices, 100)\n",
        "    filter_threshold = 1.8\n",
        "    moelcules = cusum_filter_events(np.log(prices), filter_threshold * volatility)\n",
        "    vertical_barriers = get_vertical_barrier(prices, moelcules, 20)\n",
        "\n",
        "    with warnings.catch_warnings():\n",
        "        warnings.simplefilter(\"ignore\", category=RuntimeWarning)\n",
        "        # Features\n",
        "        features = pd.DataFrame()\n",
        "        features['FracDiff'] = fd_log_price\n",
        "        features['Volatility'] = volatility\n",
        "        features['Z-Score'] = (prices - prices.rolling(20).mean()) / prices.rolling(20).std()\n",
        "        macd_line = np.log(prices.ewm(span=12).mean() / prices.ewm(span=26).mean())\n",
        "        signal_line = macd_line.ewm(span=9).mean()\n",
        "        features[\"Log MACD Histogram\"] = macd_line - signal_line\n",
        "        features[\"ADX\"] = ta.trend.ADXIndicator(prices, prices, prices, fillna=True).adx()\n",
        "        features[\"RSI\"] = ta.momentum.RSIIndicator(prices, fillna=True).rsi()\n",
        "        features[\"CCI\"] = ta.trend.CCIIndicator(prices, prices, prices, fillna=True).cci()\n",
        "        stochastic = ta.momentum.StochasticOscillator(prices, prices, prices, fillna=True)\n",
        "        features[\"Stochastic\"] = stochastic.stoch()\n",
        "        features[\"ROC\"] = ta.momentum.ROCIndicator(prices, fillna=True).roc()\n",
        "        features[\"ATR\"] = ta.volatility.AverageTrueRange(prices, prices, prices, fillna=True).average_true_range()\n",
        "        features[\"Log DPO\"] = np.log(prices.rolling(11).mean() / prices.rolling(20).mean())\n",
        "        \n",
        "        # 1. MACD Crossovers:\n",
        "        features[\"MACD Position\"] = 0  # default to no crossover\n",
        "        features.loc[features[\"Log MACD Histogram\"] >= 0, \"MACD Position\"] = 1\n",
        "        features.loc[features[\"Log MACD Histogram\"] < 0, \"MACD Position\"] = -1\n",
        "\n",
        "        # 2. ADX Trend Strength:\n",
        "        features[\"ADX Strength\"] = 0\n",
        "        features.loc[features[\"ADX\"] > 25, \"ADX Strength\"] = 1\n",
        "        features.loc[features[\"ADX\"] < 25, \"ADX Strength\"] = -1\n",
        "\n",
        "        # 3. RSI Overbought/Oversold:\n",
        "        features[\"RSI Signal\"] = 0\n",
        "        features.loc[features[\"RSI\"] > 70, \"RSI Signal\"] = 1\n",
        "        features.loc[features[\"RSI\"] < 30, \"RSI Signal\"] = -1\n",
        "\n",
        "        # 4. CCI Overbought/Oversold:\n",
        "        features[\"CCI Signal\"] = 0\n",
        "        features.loc[features[\"CCI\"] > 100, \"CCI Signal\"] = 1\n",
        "        features.loc[features[\"CCI\"] < -100, \"CCI Signal\"] = -1\n",
        "\n",
        "        # 5. Stochastic Oscillator Overbought/Oversold:\n",
        "        stochastic_signal = stochastic.stoch_signal()\n",
        "        features[\"Stochastic Signal\"] = 0\n",
        "        features.loc[stochastic_signal > 80, \"Stochastic Signal\"] = 1\n",
        "        features.loc[stochastic_signal < 20, \"Stochastic Signal\"] = -1\n",
        "\n",
        "        # 6. ROC Momentum Shifts:\n",
        "        features[\"ROC Momentum\"] = 0\n",
        "        features.loc[features[\"ROC\"] > 0, \"ROC Momentum\"] = 1  # Positive momentum\n",
        "        features.loc[features[\"ROC\"] < 0, \"ROC Momentum\"] = -1  # Negative momentum\n",
        "        ichimoku = ta.trend.IchimokuIndicator(prices, prices, visual=False, fillna=True)\n",
        "\n",
        "        # 1. Kumo Breakouts\n",
        "        features[\"Kumo Breakout\"] = 0\n",
        "        senkou_span_a = ichimoku.ichimoku_a()\n",
        "        senkou_span_b = ichimoku.ichimoku_b()\n",
        "        features.loc[(prices > senkou_span_a) & (prices > senkou_span_b), \"Kumo Breakout\"] = 1\n",
        "        features.loc[(prices < senkou_span_a) & (prices < senkou_span_b), \"Kumo Breakout\"] = -1\n",
        "\n",
        "        # 2. TK Crosses\n",
        "        features[\"TK Position\"] = 0\n",
        "        tenkan_sen = ichimoku.ichimoku_conversion_line()\n",
        "        kijun_sen = ichimoku.ichimoku_base_line()\n",
        "        features.loc[tenkan_sen >= kijun_sen, \"TK Position\"] = 1\n",
        "        features.loc[tenkan_sen < kijun_sen, \"TK Position\"] = -1\n",
        "\n",
        "        # 4. Price Relative to Kumo\n",
        "        features[\"Price Kumo Position\"] = 0\n",
        "        features.loc[(prices > senkou_span_a) & (prices > senkou_span_b), \"Price Kumo Position\"] = 1\n",
        "        features.loc[(prices < senkou_span_a) & (prices < senkou_span_b), \"Price Kumo Position\"] = -1\n",
        "\n",
        "        # 5. Cloud Thickness\n",
        "        features[\"Cloud Thickness\"] = np.log(senkou_span_a / senkou_span_b)\n",
        "\n",
        "        # 6. Momentum Confirmation\n",
        "        features[\"Momentum Confirmation\"] = 0\n",
        "        features.loc[(tenkan_sen > senkou_span_a) & (prices > senkou_span_a), \"Momentum Confirmation\"] = 1\n",
        "        features.loc[(tenkan_sen < senkou_span_a) & (prices < senkou_span_a), \"Momentum Confirmation\"] = -1\n",
        "\n",
        "    results = {\n",
        "        'Walk-Forward' : [],\n",
        "        'K-Fold' : [],\n",
        "        'Purged K-Fold' : [],\n",
        "        'Combinatorial Purged' : [],\n",
        "    }\n",
        "\n",
        "    # Iterate over each strategy parameter combination\n",
        "    strategy_parameters_keys, strategy_parameters_values = zip(*strategy_parameters.items())\n",
        "    for strategy_parameters_value in itertools.product(*strategy_parameters_values):\n",
        "        strategy_params = dict(zip(strategy_parameters_keys, strategy_parameters_value))\n",
        "        if (strategy_params['fast_window'] == strategy_parameters['fast_window'][0] and strategy_params['slow_window'] == strategy_parameters['slow_window'][0]) or \\\n",
        "        (strategy_params['fast_window'] == strategy_parameters['fast_window'][1] and strategy_params['slow_window'] == strategy_parameters['slow_window'][1]) or \\\n",
        "        (strategy_params['fast_window'] == strategy_parameters['fast_window'][2] and strategy_params['slow_window'] == strategy_parameters['slow_window'][2]) or \\\n",
        "        (strategy_params['fast_window'] == strategy_parameters['fast_window'][3] and strategy_params['slow_window'] == strategy_parameters['slow_window'][3]):\n",
        "            \n",
        "            strategy_sides = determine_strategy_side(prices, **strategy_params)\n",
        "        else:\n",
        "            continue    \n",
        "\n",
        "        triple_barrier_events = get_meta_events(prices, moelcules, [0.5, 1.5], volatility, 0, 1, vertical_barriers, strategy_sides)\n",
        "        # triple_barrier_events = get_meta_events(prices, moelcules, [1.5, 0.5], volatility, 0, 1, vertical_barriers, strategy_sides)\n",
        "        labels = meta_labeling(triple_barrier_events, prices)\n",
        "        sample_weights = sample_weight_absolute_return(triple_barrier_events['End Time'], prices, moelcules)\n",
        "\n",
        "        index = features.loc[moelcules].dropna().index.intersection(labels.dropna().index).intersection(sample_weights.dropna().index)\n",
        "        data = features.loc[index]\n",
        "        target = labels.loc[index]['Label']\n",
        "        weights = sample_weights.loc[index]\n",
        "        times = labels.loc[index]['End Time']\n",
        "\n",
        "        cross_validators = {\n",
        "            'Walk-Forward' : CrossValidatorController(\n",
        "                'walkforward',\n",
        "                n_splits=4,\n",
        "            ).cross_validator,\n",
        "            'K-Fold' : CrossValidatorController(\n",
        "                'kfold',\n",
        "                n_splits=4,\n",
        "            ).cross_validator,\n",
        "            'Purged K-Fold' : CrossValidatorController(\n",
        "                'purgedkfold',\n",
        "                n_splits=4,\n",
        "                times=times,\n",
        "                embargo=0.02\n",
        "            ).cross_validator,\n",
        "            'Combinatorial Purged' : CrossValidatorController(\n",
        "                'combinatorialpurged',\n",
        "                n_splits=8,\n",
        "                n_test_groups=2,\n",
        "                times=times,\n",
        "                embargo=0.02\n",
        "            ).cross_validator,\n",
        "        }\n",
        "\n",
        "        # Iterate over each model and hyperparameter configuration\n",
        "        for model_name, model_details in models.items():\n",
        "            model = model_details['Model']\n",
        "            param_grid = model_details['Parameters']\n",
        "\n",
        "            # Generate all combinations of hyperparameters\n",
        "            model_keys, model_values = zip(*param_grid.items())\n",
        "            for model_value in itertools.product(*model_values):\n",
        "                params = dict(zip(model_keys, model_value))\n",
        "                model.set_params(**params)\n",
        "\n",
        "                for cross_validator_type, cross_validator in cross_validators.items():\n",
        "                    predictions = cross_validator.backtest_predictions(model, data, target, weights, predict_probability=True, n_jobs=1)\n",
        "                    probabilities = pd.Series(np.vstack(list(map(lambda x: x[:, 1], predictions.values()))).mean(axis=0), times.index).dropna()\n",
        "                    positions = strategy_bet_sizing(prices.index, times.loc[probabilities.index], strategy_sides[probabilities.index], probabilities)\n",
        "                    strategy_log_returns = (np.log(prices).diff() * positions.shift()).dropna()\n",
        "                    results[cross_validator_type].append({\n",
        "                        'Trial Info.' : {\n",
        "                            'Strategy Parameters' : strategy_params,\n",
        "                            'Model Name': model_name,\n",
        "                            'Model Parameters': params,\n",
        "                        },\n",
        "                        'Returns': strategy_log_returns\n",
        "                    })\n",
        "\n",
        "    cv_deflated_sr = {}\n",
        "    cv_pbo = {}\n",
        "\n",
        "    for cv, trials in results.items():\n",
        "        performances = pd.concat([trial['Returns'] for trial in trials], axis=1)   \n",
        "\n",
        "        sharpe_ratios = performances.apply(lambda y: sharpe_ratio(y.values))    \n",
        "        benchmark_sr = benchmark_sharpe_ratio(sharpe_ratios)\n",
        "        best_strategy_index = sharpe_ratios.idxmax()\n",
        "        cv_deflated_sr[cv] = probabilistic_sharpe_ratio(\n",
        "            sharpe_ratios.loc[best_strategy_index], \n",
        "            benchmark_sr, len(performances), \n",
        "            ss.skew(performances[best_strategy_index]), \n",
        "            ss.kurtosis(performances[best_strategy_index]),\n",
        "            return_test_statistic=True\n",
        "        )\n",
        "\n",
        "        pbo, logit_values = probability_of_backtest_overfitting(performances.values, risk_free_return=STEP_RISK_FREE_RATE)    \n",
        "        cv_pbo[cv] = pbo\n",
        "\n",
        "    return cv_pbo, cv_deflated_sr    "
      ]
    },
    {
      "cell_type": "code",
      "execution_count": 27,
      "metadata": {},
      "outputs": [
        {
          "data": {
            "application/vnd.jupyter.widget-view+json": {
              "model_id": "57777050dd16476da126957fe5d977af",
              "version_major": 2,
              "version_minor": 0
            },
            "text/plain": [
              "Output()"
            ]
          },
          "metadata": {},
          "output_type": "display_data"
        },
        {
          "data": {
            "text/html": [
              "<pre style=\"white-space:pre;overflow-x:auto;line-height:normal;font-family:Menlo,'DejaVu Sans Mono',consolas,'Courier New',monospace\"></pre>\n"
            ],
            "text/plain": []
          },
          "metadata": {},
          "output_type": "display_data"
        },
        {
          "data": {
            "text/html": [
              "<pre style=\"white-space:pre;overflow-x:auto;line-height:normal;font-family:Menlo,'DejaVu Sans Mono',consolas,'Courier New',monospace\">\n",
              "</pre>\n"
            ],
            "text/plain": [
              "\n"
            ]
          },
          "metadata": {},
          "output_type": "display_data"
        }
      ],
      "source": [
        "with joblib_progress(\"Overfitting...\", total=all_prices.shape[1]):    \n",
        "    results = Parallel(n_jobs=N_JOBS)(delayed(pbo_simulation)(all_prices[column]) for column in all_prices.columns)\n",
        "\n",
        "dicts1, dicts2 = zip(*results)\n",
        "pbo = pd.DataFrame.from_records(dicts1)\n",
        "deflated_sr = pd.DataFrame.from_records(dicts2)"
      ]
    },
    {
      "cell_type": "code",
      "execution_count": 28,
      "metadata": {},
      "outputs": [
        {
          "data": {
            "application/vnd.plotly.v1+json": {
              "config": {
                "plotlyServerURL": "https://plot.ly"
              },
              "data": [
                {
                  "alignmentgroup": "True",
                  "hovertemplate": "CV=%{x}<br>Data=%{y}<extra></extra>",
                  "legendgroup": "Walk-Forward",
                  "marker": {
                    "color": "#636efa"
                  },
                  "name": "Walk-Forward",
                  "notched": true,
                  "offsetgroup": "Walk-Forward",
                  "orientation": "v",
                  "showlegend": true,
                  "type": "box",
                  "x": [
                    "Walk-Forward",
                    "Walk-Forward",
                    "Walk-Forward",
                    "Walk-Forward",
                    "Walk-Forward",
                    "Walk-Forward",
                    "Walk-Forward",
                    "Walk-Forward",
                    "Walk-Forward",
                    "Walk-Forward",
                    "Walk-Forward",
                    "Walk-Forward",
                    "Walk-Forward",
                    "Walk-Forward",
                    "Walk-Forward",
                    "Walk-Forward",
                    "Walk-Forward",
                    "Walk-Forward",
                    "Walk-Forward",
                    "Walk-Forward",
                    "Walk-Forward",
                    "Walk-Forward",
                    "Walk-Forward",
                    "Walk-Forward",
                    "Walk-Forward",
                    "Walk-Forward",
                    "Walk-Forward",
                    "Walk-Forward",
                    "Walk-Forward",
                    "Walk-Forward"
                  ],
                  "x0": " ",
                  "xaxis": "x",
                  "y": [
                    0.6136752136752137,
                    0.7536907536907537,
                    0.1961149961149961,
                    0.5247086247086247,
                    0.3181818181818182,
                    0.15112665112665113,
                    0.7835275835275836,
                    0.8357420357420358,
                    0.6595182595182595,
                    0.7376845376845377,
                    0.5076146076146076,
                    0.30473970473970474,
                    0.6844599844599845,
                    0.6958818958818959,
                    0.9030303030303031,
                    0.631002331002331,
                    0.468997668997669,
                    0.24607614607614609,
                    0.5060606060606061,
                    0.797979797979798,
                    0.6264957264957265,
                    0.3077700077700078,
                    0.8923076923076924,
                    0.21763791763791765,
                    0.32494172494172496,
                    0.4019425019425019,
                    0.2588966588966589,
                    0.13535353535353536,
                    0.5891996891996892,
                    0.4613830613830614
                  ],
                  "y0": " ",
                  "yaxis": "y"
                },
                {
                  "alignmentgroup": "True",
                  "hovertemplate": "CV=%{x}<br>Data=%{y}<extra></extra>",
                  "legendgroup": "K-Fold",
                  "marker": {
                    "color": "#EF553B"
                  },
                  "name": "K-Fold",
                  "notched": true,
                  "offsetgroup": "K-Fold",
                  "orientation": "v",
                  "showlegend": true,
                  "type": "box",
                  "x": [
                    "K-Fold",
                    "K-Fold",
                    "K-Fold",
                    "K-Fold",
                    "K-Fold",
                    "K-Fold",
                    "K-Fold",
                    "K-Fold",
                    "K-Fold",
                    "K-Fold",
                    "K-Fold",
                    "K-Fold",
                    "K-Fold",
                    "K-Fold",
                    "K-Fold",
                    "K-Fold",
                    "K-Fold",
                    "K-Fold",
                    "K-Fold",
                    "K-Fold",
                    "K-Fold",
                    "K-Fold",
                    "K-Fold",
                    "K-Fold",
                    "K-Fold",
                    "K-Fold",
                    "K-Fold",
                    "K-Fold",
                    "K-Fold",
                    "K-Fold"
                  ],
                  "x0": " ",
                  "xaxis": "x",
                  "y": [
                    0.6966588966588967,
                    0.5714840714840714,
                    0.03108003108003108,
                    0.7268065268065268,
                    0.517948717948718,
                    0.4722610722610723,
                    0.6141414141414141,
                    0.29184149184149183,
                    0.7413364413364414,
                    0.6121989121989122,
                    0.3502719502719503,
                    0.304972804972805,
                    0.3940947940947941,
                    0.23644133644133644,
                    0.533022533022533,
                    0.3710955710955711,
                    0.6584304584304584,
                    0.33115773115773117,
                    0.44926184926184926,
                    0.402020202020202,
                    0.29347319347319345,
                    0.1292152292152292,
                    0.3605283605283605,
                    0.10683760683760683,
                    0.24654234654234655,
                    0.39044289044289043,
                    0.6501165501165501,
                    0.2365967365967366,
                    0.06604506604506605,
                    0.4986013986013986
                  ],
                  "y0": " ",
                  "yaxis": "y"
                },
                {
                  "alignmentgroup": "True",
                  "hovertemplate": "CV=%{x}<br>Data=%{y}<extra></extra>",
                  "legendgroup": "Purged K-Fold",
                  "marker": {
                    "color": "#00cc96"
                  },
                  "name": "Purged K-Fold",
                  "notched": true,
                  "offsetgroup": "Purged K-Fold",
                  "orientation": "v",
                  "showlegend": true,
                  "type": "box",
                  "x": [
                    "Purged K-Fold",
                    "Purged K-Fold",
                    "Purged K-Fold",
                    "Purged K-Fold",
                    "Purged K-Fold",
                    "Purged K-Fold",
                    "Purged K-Fold",
                    "Purged K-Fold",
                    "Purged K-Fold",
                    "Purged K-Fold",
                    "Purged K-Fold",
                    "Purged K-Fold",
                    "Purged K-Fold",
                    "Purged K-Fold",
                    "Purged K-Fold",
                    "Purged K-Fold",
                    "Purged K-Fold",
                    "Purged K-Fold",
                    "Purged K-Fold",
                    "Purged K-Fold",
                    "Purged K-Fold",
                    "Purged K-Fold",
                    "Purged K-Fold",
                    "Purged K-Fold",
                    "Purged K-Fold",
                    "Purged K-Fold",
                    "Purged K-Fold",
                    "Purged K-Fold",
                    "Purged K-Fold",
                    "Purged K-Fold"
                  ],
                  "x0": " ",
                  "xaxis": "x",
                  "y": [
                    0.2261849261849262,
                    0.9616938616938617,
                    0.1400932400932401,
                    0.6516705516705517,
                    0.2818958818958819,
                    0.517016317016317,
                    0.7142191142191142,
                    0.326029526029526,
                    0.7284382284382285,
                    0.23605283605283606,
                    0.32867132867132864,
                    0.32463092463092463,
                    0.42766122766122766,
                    0.3595959595959596,
                    0.4908313908313908,
                    0.38073038073038074,
                    0.32059052059052057,
                    0.30808080808080807,
                    0.5046620046620046,
                    0.45275835275835274,
                    0.602020202020202,
                    0.3257964257964258,
                    0.20644910644910644,
                    0.28026418026418026,
                    0.143978243978244,
                    0.4931623931623932,
                    0.712975912975913,
                    0.3261072261072261,
                    0.05135975135975136,
                    0.6986790986790987
                  ],
                  "y0": " ",
                  "yaxis": "y"
                },
                {
                  "alignmentgroup": "True",
                  "hovertemplate": "CV=%{x}<br>Data=%{y}<extra></extra>",
                  "legendgroup": "Combinatorial Purged",
                  "marker": {
                    "color": "#ab63fa"
                  },
                  "name": "Combinatorial Purged",
                  "notched": true,
                  "offsetgroup": "Combinatorial Purged",
                  "orientation": "v",
                  "showlegend": true,
                  "type": "box",
                  "x": [
                    "Combinatorial Purged",
                    "Combinatorial Purged",
                    "Combinatorial Purged",
                    "Combinatorial Purged",
                    "Combinatorial Purged",
                    "Combinatorial Purged",
                    "Combinatorial Purged",
                    "Combinatorial Purged",
                    "Combinatorial Purged",
                    "Combinatorial Purged",
                    "Combinatorial Purged",
                    "Combinatorial Purged",
                    "Combinatorial Purged",
                    "Combinatorial Purged",
                    "Combinatorial Purged",
                    "Combinatorial Purged",
                    "Combinatorial Purged",
                    "Combinatorial Purged",
                    "Combinatorial Purged",
                    "Combinatorial Purged",
                    "Combinatorial Purged",
                    "Combinatorial Purged",
                    "Combinatorial Purged",
                    "Combinatorial Purged",
                    "Combinatorial Purged",
                    "Combinatorial Purged",
                    "Combinatorial Purged",
                    "Combinatorial Purged",
                    "Combinatorial Purged",
                    "Combinatorial Purged"
                  ],
                  "x0": " ",
                  "xaxis": "x",
                  "y": [
                    0.6505827505827506,
                    0.5728826728826729,
                    0.061227661227661226,
                    0.6580419580419581,
                    0.16627816627816627,
                    0.21662781662781663,
                    0.6549339549339549,
                    0.8452991452991453,
                    0.7442890442890443,
                    0.4195804195804196,
                    0.3804972804972805,
                    0.18127428127428127,
                    0.3101787101787102,
                    0.28212898212898213,
                    0.19968919968919968,
                    0.31484071484071485,
                    0.10357420357420358,
                    0.3045843045843046,
                    0.6916860916860916,
                    0.5592851592851593,
                    0.5256410256410257,
                    0.23675213675213674,
                    0.15291375291375292,
                    0.3917637917637918,
                    0.19829059829059828,
                    0.10707070707070707,
                    0.7547008547008547,
                    0.13706293706293707,
                    0.017948717948717947,
                    0.32913752913752914
                  ],
                  "y0": " ",
                  "yaxis": "y"
                }
              ],
              "layout": {
                "boxmode": "overlay",
                "legend": {
                  "title": {
                    "text": "CV"
                  },
                  "tracegroupgap": 0
                },
                "showlegend": false,
                "template": {
                  "data": {
                    "bar": [
                      {
                        "error_x": {
                          "color": "#2a3f5f"
                        },
                        "error_y": {
                          "color": "#2a3f5f"
                        },
                        "marker": {
                          "line": {
                            "color": "#E5ECF6",
                            "width": 0.5
                          },
                          "pattern": {
                            "fillmode": "overlay",
                            "size": 10,
                            "solidity": 0.2
                          }
                        },
                        "type": "bar"
                      }
                    ],
                    "barpolar": [
                      {
                        "marker": {
                          "line": {
                            "color": "#E5ECF6",
                            "width": 0.5
                          },
                          "pattern": {
                            "fillmode": "overlay",
                            "size": 10,
                            "solidity": 0.2
                          }
                        },
                        "type": "barpolar"
                      }
                    ],
                    "carpet": [
                      {
                        "aaxis": {
                          "endlinecolor": "#2a3f5f",
                          "gridcolor": "white",
                          "linecolor": "white",
                          "minorgridcolor": "white",
                          "startlinecolor": "#2a3f5f"
                        },
                        "baxis": {
                          "endlinecolor": "#2a3f5f",
                          "gridcolor": "white",
                          "linecolor": "white",
                          "minorgridcolor": "white",
                          "startlinecolor": "#2a3f5f"
                        },
                        "type": "carpet"
                      }
                    ],
                    "choropleth": [
                      {
                        "colorbar": {
                          "outlinewidth": 0,
                          "ticks": ""
                        },
                        "type": "choropleth"
                      }
                    ],
                    "contour": [
                      {
                        "colorbar": {
                          "outlinewidth": 0,
                          "ticks": ""
                        },
                        "colorscale": [
                          [
                            0,
                            "#0d0887"
                          ],
                          [
                            0.1111111111111111,
                            "#46039f"
                          ],
                          [
                            0.2222222222222222,
                            "#7201a8"
                          ],
                          [
                            0.3333333333333333,
                            "#9c179e"
                          ],
                          [
                            0.4444444444444444,
                            "#bd3786"
                          ],
                          [
                            0.5555555555555556,
                            "#d8576b"
                          ],
                          [
                            0.6666666666666666,
                            "#ed7953"
                          ],
                          [
                            0.7777777777777778,
                            "#fb9f3a"
                          ],
                          [
                            0.8888888888888888,
                            "#fdca26"
                          ],
                          [
                            1,
                            "#f0f921"
                          ]
                        ],
                        "type": "contour"
                      }
                    ],
                    "contourcarpet": [
                      {
                        "colorbar": {
                          "outlinewidth": 0,
                          "ticks": ""
                        },
                        "type": "contourcarpet"
                      }
                    ],
                    "heatmap": [
                      {
                        "colorbar": {
                          "outlinewidth": 0,
                          "ticks": ""
                        },
                        "colorscale": [
                          [
                            0,
                            "#0d0887"
                          ],
                          [
                            0.1111111111111111,
                            "#46039f"
                          ],
                          [
                            0.2222222222222222,
                            "#7201a8"
                          ],
                          [
                            0.3333333333333333,
                            "#9c179e"
                          ],
                          [
                            0.4444444444444444,
                            "#bd3786"
                          ],
                          [
                            0.5555555555555556,
                            "#d8576b"
                          ],
                          [
                            0.6666666666666666,
                            "#ed7953"
                          ],
                          [
                            0.7777777777777778,
                            "#fb9f3a"
                          ],
                          [
                            0.8888888888888888,
                            "#fdca26"
                          ],
                          [
                            1,
                            "#f0f921"
                          ]
                        ],
                        "type": "heatmap"
                      }
                    ],
                    "heatmapgl": [
                      {
                        "colorbar": {
                          "outlinewidth": 0,
                          "ticks": ""
                        },
                        "colorscale": [
                          [
                            0,
                            "#0d0887"
                          ],
                          [
                            0.1111111111111111,
                            "#46039f"
                          ],
                          [
                            0.2222222222222222,
                            "#7201a8"
                          ],
                          [
                            0.3333333333333333,
                            "#9c179e"
                          ],
                          [
                            0.4444444444444444,
                            "#bd3786"
                          ],
                          [
                            0.5555555555555556,
                            "#d8576b"
                          ],
                          [
                            0.6666666666666666,
                            "#ed7953"
                          ],
                          [
                            0.7777777777777778,
                            "#fb9f3a"
                          ],
                          [
                            0.8888888888888888,
                            "#fdca26"
                          ],
                          [
                            1,
                            "#f0f921"
                          ]
                        ],
                        "type": "heatmapgl"
                      }
                    ],
                    "histogram": [
                      {
                        "marker": {
                          "pattern": {
                            "fillmode": "overlay",
                            "size": 10,
                            "solidity": 0.2
                          }
                        },
                        "type": "histogram"
                      }
                    ],
                    "histogram2d": [
                      {
                        "colorbar": {
                          "outlinewidth": 0,
                          "ticks": ""
                        },
                        "colorscale": [
                          [
                            0,
                            "#0d0887"
                          ],
                          [
                            0.1111111111111111,
                            "#46039f"
                          ],
                          [
                            0.2222222222222222,
                            "#7201a8"
                          ],
                          [
                            0.3333333333333333,
                            "#9c179e"
                          ],
                          [
                            0.4444444444444444,
                            "#bd3786"
                          ],
                          [
                            0.5555555555555556,
                            "#d8576b"
                          ],
                          [
                            0.6666666666666666,
                            "#ed7953"
                          ],
                          [
                            0.7777777777777778,
                            "#fb9f3a"
                          ],
                          [
                            0.8888888888888888,
                            "#fdca26"
                          ],
                          [
                            1,
                            "#f0f921"
                          ]
                        ],
                        "type": "histogram2d"
                      }
                    ],
                    "histogram2dcontour": [
                      {
                        "colorbar": {
                          "outlinewidth": 0,
                          "ticks": ""
                        },
                        "colorscale": [
                          [
                            0,
                            "#0d0887"
                          ],
                          [
                            0.1111111111111111,
                            "#46039f"
                          ],
                          [
                            0.2222222222222222,
                            "#7201a8"
                          ],
                          [
                            0.3333333333333333,
                            "#9c179e"
                          ],
                          [
                            0.4444444444444444,
                            "#bd3786"
                          ],
                          [
                            0.5555555555555556,
                            "#d8576b"
                          ],
                          [
                            0.6666666666666666,
                            "#ed7953"
                          ],
                          [
                            0.7777777777777778,
                            "#fb9f3a"
                          ],
                          [
                            0.8888888888888888,
                            "#fdca26"
                          ],
                          [
                            1,
                            "#f0f921"
                          ]
                        ],
                        "type": "histogram2dcontour"
                      }
                    ],
                    "mesh3d": [
                      {
                        "colorbar": {
                          "outlinewidth": 0,
                          "ticks": ""
                        },
                        "type": "mesh3d"
                      }
                    ],
                    "parcoords": [
                      {
                        "line": {
                          "colorbar": {
                            "outlinewidth": 0,
                            "ticks": ""
                          }
                        },
                        "type": "parcoords"
                      }
                    ],
                    "pie": [
                      {
                        "automargin": true,
                        "type": "pie"
                      }
                    ],
                    "scatter": [
                      {
                        "fillpattern": {
                          "fillmode": "overlay",
                          "size": 10,
                          "solidity": 0.2
                        },
                        "type": "scatter"
                      }
                    ],
                    "scatter3d": [
                      {
                        "line": {
                          "colorbar": {
                            "outlinewidth": 0,
                            "ticks": ""
                          }
                        },
                        "marker": {
                          "colorbar": {
                            "outlinewidth": 0,
                            "ticks": ""
                          }
                        },
                        "type": "scatter3d"
                      }
                    ],
                    "scattercarpet": [
                      {
                        "marker": {
                          "colorbar": {
                            "outlinewidth": 0,
                            "ticks": ""
                          }
                        },
                        "type": "scattercarpet"
                      }
                    ],
                    "scattergeo": [
                      {
                        "marker": {
                          "colorbar": {
                            "outlinewidth": 0,
                            "ticks": ""
                          }
                        },
                        "type": "scattergeo"
                      }
                    ],
                    "scattergl": [
                      {
                        "marker": {
                          "colorbar": {
                            "outlinewidth": 0,
                            "ticks": ""
                          }
                        },
                        "type": "scattergl"
                      }
                    ],
                    "scattermapbox": [
                      {
                        "marker": {
                          "colorbar": {
                            "outlinewidth": 0,
                            "ticks": ""
                          }
                        },
                        "type": "scattermapbox"
                      }
                    ],
                    "scatterpolar": [
                      {
                        "marker": {
                          "colorbar": {
                            "outlinewidth": 0,
                            "ticks": ""
                          }
                        },
                        "type": "scatterpolar"
                      }
                    ],
                    "scatterpolargl": [
                      {
                        "marker": {
                          "colorbar": {
                            "outlinewidth": 0,
                            "ticks": ""
                          }
                        },
                        "type": "scatterpolargl"
                      }
                    ],
                    "scatterternary": [
                      {
                        "marker": {
                          "colorbar": {
                            "outlinewidth": 0,
                            "ticks": ""
                          }
                        },
                        "type": "scatterternary"
                      }
                    ],
                    "surface": [
                      {
                        "colorbar": {
                          "outlinewidth": 0,
                          "ticks": ""
                        },
                        "colorscale": [
                          [
                            0,
                            "#0d0887"
                          ],
                          [
                            0.1111111111111111,
                            "#46039f"
                          ],
                          [
                            0.2222222222222222,
                            "#7201a8"
                          ],
                          [
                            0.3333333333333333,
                            "#9c179e"
                          ],
                          [
                            0.4444444444444444,
                            "#bd3786"
                          ],
                          [
                            0.5555555555555556,
                            "#d8576b"
                          ],
                          [
                            0.6666666666666666,
                            "#ed7953"
                          ],
                          [
                            0.7777777777777778,
                            "#fb9f3a"
                          ],
                          [
                            0.8888888888888888,
                            "#fdca26"
                          ],
                          [
                            1,
                            "#f0f921"
                          ]
                        ],
                        "type": "surface"
                      }
                    ],
                    "table": [
                      {
                        "cells": {
                          "fill": {
                            "color": "#EBF0F8"
                          },
                          "line": {
                            "color": "white"
                          }
                        },
                        "header": {
                          "fill": {
                            "color": "#C8D4E3"
                          },
                          "line": {
                            "color": "white"
                          }
                        },
                        "type": "table"
                      }
                    ]
                  },
                  "layout": {
                    "annotationdefaults": {
                      "arrowcolor": "#2a3f5f",
                      "arrowhead": 0,
                      "arrowwidth": 1
                    },
                    "autotypenumbers": "strict",
                    "coloraxis": {
                      "colorbar": {
                        "outlinewidth": 0,
                        "ticks": ""
                      }
                    },
                    "colorscale": {
                      "diverging": [
                        [
                          0,
                          "#8e0152"
                        ],
                        [
                          0.1,
                          "#c51b7d"
                        ],
                        [
                          0.2,
                          "#de77ae"
                        ],
                        [
                          0.3,
                          "#f1b6da"
                        ],
                        [
                          0.4,
                          "#fde0ef"
                        ],
                        [
                          0.5,
                          "#f7f7f7"
                        ],
                        [
                          0.6,
                          "#e6f5d0"
                        ],
                        [
                          0.7,
                          "#b8e186"
                        ],
                        [
                          0.8,
                          "#7fbc41"
                        ],
                        [
                          0.9,
                          "#4d9221"
                        ],
                        [
                          1,
                          "#276419"
                        ]
                      ],
                      "sequential": [
                        [
                          0,
                          "#0d0887"
                        ],
                        [
                          0.1111111111111111,
                          "#46039f"
                        ],
                        [
                          0.2222222222222222,
                          "#7201a8"
                        ],
                        [
                          0.3333333333333333,
                          "#9c179e"
                        ],
                        [
                          0.4444444444444444,
                          "#bd3786"
                        ],
                        [
                          0.5555555555555556,
                          "#d8576b"
                        ],
                        [
                          0.6666666666666666,
                          "#ed7953"
                        ],
                        [
                          0.7777777777777778,
                          "#fb9f3a"
                        ],
                        [
                          0.8888888888888888,
                          "#fdca26"
                        ],
                        [
                          1,
                          "#f0f921"
                        ]
                      ],
                      "sequentialminus": [
                        [
                          0,
                          "#0d0887"
                        ],
                        [
                          0.1111111111111111,
                          "#46039f"
                        ],
                        [
                          0.2222222222222222,
                          "#7201a8"
                        ],
                        [
                          0.3333333333333333,
                          "#9c179e"
                        ],
                        [
                          0.4444444444444444,
                          "#bd3786"
                        ],
                        [
                          0.5555555555555556,
                          "#d8576b"
                        ],
                        [
                          0.6666666666666666,
                          "#ed7953"
                        ],
                        [
                          0.7777777777777778,
                          "#fb9f3a"
                        ],
                        [
                          0.8888888888888888,
                          "#fdca26"
                        ],
                        [
                          1,
                          "#f0f921"
                        ]
                      ]
                    },
                    "colorway": [
                      "#636efa",
                      "#EF553B",
                      "#00cc96",
                      "#ab63fa",
                      "#FFA15A",
                      "#19d3f3",
                      "#FF6692",
                      "#B6E880",
                      "#FF97FF",
                      "#FECB52"
                    ],
                    "font": {
                      "color": "#2a3f5f"
                    },
                    "geo": {
                      "bgcolor": "white",
                      "lakecolor": "white",
                      "landcolor": "#E5ECF6",
                      "showlakes": true,
                      "showland": true,
                      "subunitcolor": "white"
                    },
                    "hoverlabel": {
                      "align": "left"
                    },
                    "hovermode": "closest",
                    "mapbox": {
                      "style": "light"
                    },
                    "paper_bgcolor": "white",
                    "plot_bgcolor": "#E5ECF6",
                    "polar": {
                      "angularaxis": {
                        "gridcolor": "white",
                        "linecolor": "white",
                        "ticks": ""
                      },
                      "bgcolor": "#E5ECF6",
                      "radialaxis": {
                        "gridcolor": "white",
                        "linecolor": "white",
                        "ticks": ""
                      }
                    },
                    "scene": {
                      "xaxis": {
                        "backgroundcolor": "#E5ECF6",
                        "gridcolor": "white",
                        "gridwidth": 2,
                        "linecolor": "white",
                        "showbackground": true,
                        "ticks": "",
                        "zerolinecolor": "white"
                      },
                      "yaxis": {
                        "backgroundcolor": "#E5ECF6",
                        "gridcolor": "white",
                        "gridwidth": 2,
                        "linecolor": "white",
                        "showbackground": true,
                        "ticks": "",
                        "zerolinecolor": "white"
                      },
                      "zaxis": {
                        "backgroundcolor": "#E5ECF6",
                        "gridcolor": "white",
                        "gridwidth": 2,
                        "linecolor": "white",
                        "showbackground": true,
                        "ticks": "",
                        "zerolinecolor": "white"
                      }
                    },
                    "shapedefaults": {
                      "line": {
                        "color": "#2a3f5f"
                      }
                    },
                    "ternary": {
                      "aaxis": {
                        "gridcolor": "white",
                        "linecolor": "white",
                        "ticks": ""
                      },
                      "baxis": {
                        "gridcolor": "white",
                        "linecolor": "white",
                        "ticks": ""
                      },
                      "bgcolor": "#E5ECF6",
                      "caxis": {
                        "gridcolor": "white",
                        "linecolor": "white",
                        "ticks": ""
                      }
                    },
                    "title": {
                      "x": 0.05
                    },
                    "xaxis": {
                      "automargin": true,
                      "gridcolor": "white",
                      "linecolor": "white",
                      "ticks": "",
                      "title": {
                        "standoff": 15
                      },
                      "zerolinecolor": "white",
                      "zerolinewidth": 2
                    },
                    "yaxis": {
                      "automargin": true,
                      "gridcolor": "white",
                      "linecolor": "white",
                      "ticks": "",
                      "title": {
                        "standoff": 15
                      },
                      "zerolinecolor": "white",
                      "zerolinewidth": 2
                    }
                  }
                },
                "title": {
                  "text": "PBO"
                },
                "xaxis": {
                  "anchor": "y",
                  "categoryarray": [
                    "Walk-Forward",
                    "K-Fold",
                    "Purged K-Fold",
                    "Combinatorial Purged"
                  ],
                  "categoryorder": "array",
                  "domain": [
                    0,
                    1
                  ],
                  "title": {
                    "text": "CV"
                  }
                },
                "yaxis": {
                  "anchor": "x",
                  "domain": [
                    0,
                    1
                  ],
                  "title": {
                    "text": "Data"
                  }
                }
              }
            }
          },
          "metadata": {},
          "output_type": "display_data"
        },
        {
          "data": {
            "application/vnd.plotly.v1+json": {
              "config": {
                "plotlyServerURL": "https://plot.ly"
              },
              "data": [
                {
                  "alignmentgroup": "True",
                  "hovertemplate": "CV=%{x}<br>Data=%{y}<extra></extra>",
                  "legendgroup": "Walk-Forward",
                  "marker": {
                    "color": "#636efa"
                  },
                  "name": "Walk-Forward",
                  "notched": true,
                  "offsetgroup": "Walk-Forward",
                  "orientation": "v",
                  "showlegend": true,
                  "type": "box",
                  "x": [
                    "Walk-Forward",
                    "Walk-Forward",
                    "Walk-Forward",
                    "Walk-Forward",
                    "Walk-Forward",
                    "Walk-Forward",
                    "Walk-Forward",
                    "Walk-Forward",
                    "Walk-Forward",
                    "Walk-Forward",
                    "Walk-Forward",
                    "Walk-Forward",
                    "Walk-Forward",
                    "Walk-Forward",
                    "Walk-Forward",
                    "Walk-Forward",
                    "Walk-Forward",
                    "Walk-Forward",
                    "Walk-Forward",
                    "Walk-Forward",
                    "Walk-Forward",
                    "Walk-Forward",
                    "Walk-Forward",
                    "Walk-Forward",
                    "Walk-Forward",
                    "Walk-Forward",
                    "Walk-Forward",
                    "Walk-Forward",
                    "Walk-Forward",
                    "Walk-Forward"
                  ],
                  "x0": " ",
                  "xaxis": "x",
                  "y": [
                    -1.528927598641696,
                    0.9701351209465774,
                    0.7765146804136647,
                    -0.5288943276130242,
                    -1.1605389448970176,
                    0.5980060502023515,
                    0.35305885719385766,
                    1.1625607107702751,
                    1.0396688093649538,
                    0.30442056562857134,
                    -0.7570875430775204,
                    0.10314379102176933,
                    1.470731865499721,
                    -0.6374885471589784,
                    0.1846192426040526,
                    0.38577959129069855,
                    0.908885183142626,
                    0.21545470876210995,
                    0.5894810080378624,
                    -0.37481238016167917,
                    0.08706282434764477,
                    -0.2986765458016334,
                    0.22048532779066238,
                    -0.2414697035521333,
                    -0.05237694804280961,
                    0.6883464107242651,
                    1.4101351976963497,
                    1.142976994685369,
                    -0.9602379564329739,
                    0.30140459792594143
                  ],
                  "y0": " ",
                  "yaxis": "y"
                },
                {
                  "alignmentgroup": "True",
                  "hovertemplate": "CV=%{x}<br>Data=%{y}<extra></extra>",
                  "legendgroup": "K-Fold",
                  "marker": {
                    "color": "#EF553B"
                  },
                  "name": "K-Fold",
                  "notched": true,
                  "offsetgroup": "K-Fold",
                  "orientation": "v",
                  "showlegend": true,
                  "type": "box",
                  "x": [
                    "K-Fold",
                    "K-Fold",
                    "K-Fold",
                    "K-Fold",
                    "K-Fold",
                    "K-Fold",
                    "K-Fold",
                    "K-Fold",
                    "K-Fold",
                    "K-Fold",
                    "K-Fold",
                    "K-Fold",
                    "K-Fold",
                    "K-Fold",
                    "K-Fold",
                    "K-Fold",
                    "K-Fold",
                    "K-Fold",
                    "K-Fold",
                    "K-Fold",
                    "K-Fold",
                    "K-Fold",
                    "K-Fold",
                    "K-Fold",
                    "K-Fold",
                    "K-Fold",
                    "K-Fold",
                    "K-Fold",
                    "K-Fold",
                    "K-Fold"
                  ],
                  "x0": " ",
                  "xaxis": "x",
                  "y": [
                    -0.6723715783150874,
                    1.2547474562910221,
                    2.3669247957781656,
                    -0.27165956108756284,
                    -0.8008721870740326,
                    0.9036686204394664,
                    0.33040085512756984,
                    1.0977572980713373,
                    0.5311794438278968,
                    1.4073963880439437,
                    -0.09025589170533253,
                    0.5211792793372679,
                    1.764160883525385,
                    0.15941177965661207,
                    0.5437068745535591,
                    0.6321650095408788,
                    0.5831611644464462,
                    0.4118924288551862,
                    0.34853510596685583,
                    0.49817906520161404,
                    -0.4380483709986545,
                    -0.4828271880412612,
                    0.3721273930969234,
                    1.0281775392035521,
                    0.264698677571049,
                    1.2053186004870524,
                    2.620980343180227,
                    1.0032615911173592,
                    -0.7066502620378378,
                    0.3444969882842084
                  ],
                  "y0": " ",
                  "yaxis": "y"
                },
                {
                  "alignmentgroup": "True",
                  "hovertemplate": "CV=%{x}<br>Data=%{y}<extra></extra>",
                  "legendgroup": "Purged K-Fold",
                  "marker": {
                    "color": "#00cc96"
                  },
                  "name": "Purged K-Fold",
                  "notched": true,
                  "offsetgroup": "Purged K-Fold",
                  "orientation": "v",
                  "showlegend": true,
                  "type": "box",
                  "x": [
                    "Purged K-Fold",
                    "Purged K-Fold",
                    "Purged K-Fold",
                    "Purged K-Fold",
                    "Purged K-Fold",
                    "Purged K-Fold",
                    "Purged K-Fold",
                    "Purged K-Fold",
                    "Purged K-Fold",
                    "Purged K-Fold",
                    "Purged K-Fold",
                    "Purged K-Fold",
                    "Purged K-Fold",
                    "Purged K-Fold",
                    "Purged K-Fold",
                    "Purged K-Fold",
                    "Purged K-Fold",
                    "Purged K-Fold",
                    "Purged K-Fold",
                    "Purged K-Fold",
                    "Purged K-Fold",
                    "Purged K-Fold",
                    "Purged K-Fold",
                    "Purged K-Fold",
                    "Purged K-Fold",
                    "Purged K-Fold",
                    "Purged K-Fold",
                    "Purged K-Fold",
                    "Purged K-Fold",
                    "Purged K-Fold"
                  ],
                  "x0": " ",
                  "xaxis": "x",
                  "y": [
                    0.5119773024050313,
                    0.5732672864459908,
                    1.9368099557432001,
                    -0.21228187129009135,
                    -0.8259072955065365,
                    0.6213435442080689,
                    0.19812518298244147,
                    0.9195388682437841,
                    0.5433802166826097,
                    1.2606600176043277,
                    -0.28217529318319207,
                    0.28488144985665725,
                    1.7270426067107438,
                    0.18820779453202952,
                    0.6847281761514054,
                    0.5231358911664352,
                    0.9914550889678815,
                    0.5886033398040804,
                    0.5295092107285866,
                    0.4421247245822345,
                    0.010650609892280363,
                    -0.17717736556776686,
                    0.5884431025825699,
                    -0.0005248365961772049,
                    0.27587447868869763,
                    0.6732235497120426,
                    2.5349384083660973,
                    1.0751940026739466,
                    -0.5430887388448832,
                    0.3237204706679355
                  ],
                  "y0": " ",
                  "yaxis": "y"
                },
                {
                  "alignmentgroup": "True",
                  "hovertemplate": "CV=%{x}<br>Data=%{y}<extra></extra>",
                  "legendgroup": "Combinatorial Purged",
                  "marker": {
                    "color": "#ab63fa"
                  },
                  "name": "Combinatorial Purged",
                  "notched": true,
                  "offsetgroup": "Combinatorial Purged",
                  "orientation": "v",
                  "showlegend": true,
                  "type": "box",
                  "x": [
                    "Combinatorial Purged",
                    "Combinatorial Purged",
                    "Combinatorial Purged",
                    "Combinatorial Purged",
                    "Combinatorial Purged",
                    "Combinatorial Purged",
                    "Combinatorial Purged",
                    "Combinatorial Purged",
                    "Combinatorial Purged",
                    "Combinatorial Purged",
                    "Combinatorial Purged",
                    "Combinatorial Purged",
                    "Combinatorial Purged",
                    "Combinatorial Purged",
                    "Combinatorial Purged",
                    "Combinatorial Purged",
                    "Combinatorial Purged",
                    "Combinatorial Purged",
                    "Combinatorial Purged",
                    "Combinatorial Purged",
                    "Combinatorial Purged",
                    "Combinatorial Purged",
                    "Combinatorial Purged",
                    "Combinatorial Purged",
                    "Combinatorial Purged",
                    "Combinatorial Purged",
                    "Combinatorial Purged",
                    "Combinatorial Purged",
                    "Combinatorial Purged",
                    "Combinatorial Purged"
                  ],
                  "x0": " ",
                  "xaxis": "x",
                  "y": [
                    -0.5472006896645226,
                    1.2094675014239573,
                    2.0443983111486395,
                    -0.06983204754242729,
                    -1.2124384684187108,
                    1.3158278719179608,
                    0.7454264143853543,
                    1.017536772116016,
                    0.9400281485323456,
                    1.0274543547149773,
                    -0.09786634363447944,
                    0.01655513392176579,
                    2.177965690258829,
                    0.23595000740099153,
                    0.365886805477193,
                    0.3186006746498029,
                    0.8140992906833117,
                    -0.20027469989119442,
                    0.14235480948057533,
                    0.8889702776637308,
                    -0.21132884604506544,
                    -0.16204244547613555,
                    0.26860175871289055,
                    -0.049603921781680695,
                    0.08750640473988558,
                    1.0662725797188417,
                    3.422053260671867,
                    0.8948193815785249,
                    -0.6210631139925855,
                    0.4736151868896462
                  ],
                  "y0": " ",
                  "yaxis": "y"
                }
              ],
              "layout": {
                "boxmode": "overlay",
                "legend": {
                  "title": {
                    "text": "CV"
                  },
                  "tracegroupgap": 0
                },
                "showlegend": false,
                "template": {
                  "data": {
                    "bar": [
                      {
                        "error_x": {
                          "color": "#2a3f5f"
                        },
                        "error_y": {
                          "color": "#2a3f5f"
                        },
                        "marker": {
                          "line": {
                            "color": "#E5ECF6",
                            "width": 0.5
                          },
                          "pattern": {
                            "fillmode": "overlay",
                            "size": 10,
                            "solidity": 0.2
                          }
                        },
                        "type": "bar"
                      }
                    ],
                    "barpolar": [
                      {
                        "marker": {
                          "line": {
                            "color": "#E5ECF6",
                            "width": 0.5
                          },
                          "pattern": {
                            "fillmode": "overlay",
                            "size": 10,
                            "solidity": 0.2
                          }
                        },
                        "type": "barpolar"
                      }
                    ],
                    "carpet": [
                      {
                        "aaxis": {
                          "endlinecolor": "#2a3f5f",
                          "gridcolor": "white",
                          "linecolor": "white",
                          "minorgridcolor": "white",
                          "startlinecolor": "#2a3f5f"
                        },
                        "baxis": {
                          "endlinecolor": "#2a3f5f",
                          "gridcolor": "white",
                          "linecolor": "white",
                          "minorgridcolor": "white",
                          "startlinecolor": "#2a3f5f"
                        },
                        "type": "carpet"
                      }
                    ],
                    "choropleth": [
                      {
                        "colorbar": {
                          "outlinewidth": 0,
                          "ticks": ""
                        },
                        "type": "choropleth"
                      }
                    ],
                    "contour": [
                      {
                        "colorbar": {
                          "outlinewidth": 0,
                          "ticks": ""
                        },
                        "colorscale": [
                          [
                            0,
                            "#0d0887"
                          ],
                          [
                            0.1111111111111111,
                            "#46039f"
                          ],
                          [
                            0.2222222222222222,
                            "#7201a8"
                          ],
                          [
                            0.3333333333333333,
                            "#9c179e"
                          ],
                          [
                            0.4444444444444444,
                            "#bd3786"
                          ],
                          [
                            0.5555555555555556,
                            "#d8576b"
                          ],
                          [
                            0.6666666666666666,
                            "#ed7953"
                          ],
                          [
                            0.7777777777777778,
                            "#fb9f3a"
                          ],
                          [
                            0.8888888888888888,
                            "#fdca26"
                          ],
                          [
                            1,
                            "#f0f921"
                          ]
                        ],
                        "type": "contour"
                      }
                    ],
                    "contourcarpet": [
                      {
                        "colorbar": {
                          "outlinewidth": 0,
                          "ticks": ""
                        },
                        "type": "contourcarpet"
                      }
                    ],
                    "heatmap": [
                      {
                        "colorbar": {
                          "outlinewidth": 0,
                          "ticks": ""
                        },
                        "colorscale": [
                          [
                            0,
                            "#0d0887"
                          ],
                          [
                            0.1111111111111111,
                            "#46039f"
                          ],
                          [
                            0.2222222222222222,
                            "#7201a8"
                          ],
                          [
                            0.3333333333333333,
                            "#9c179e"
                          ],
                          [
                            0.4444444444444444,
                            "#bd3786"
                          ],
                          [
                            0.5555555555555556,
                            "#d8576b"
                          ],
                          [
                            0.6666666666666666,
                            "#ed7953"
                          ],
                          [
                            0.7777777777777778,
                            "#fb9f3a"
                          ],
                          [
                            0.8888888888888888,
                            "#fdca26"
                          ],
                          [
                            1,
                            "#f0f921"
                          ]
                        ],
                        "type": "heatmap"
                      }
                    ],
                    "heatmapgl": [
                      {
                        "colorbar": {
                          "outlinewidth": 0,
                          "ticks": ""
                        },
                        "colorscale": [
                          [
                            0,
                            "#0d0887"
                          ],
                          [
                            0.1111111111111111,
                            "#46039f"
                          ],
                          [
                            0.2222222222222222,
                            "#7201a8"
                          ],
                          [
                            0.3333333333333333,
                            "#9c179e"
                          ],
                          [
                            0.4444444444444444,
                            "#bd3786"
                          ],
                          [
                            0.5555555555555556,
                            "#d8576b"
                          ],
                          [
                            0.6666666666666666,
                            "#ed7953"
                          ],
                          [
                            0.7777777777777778,
                            "#fb9f3a"
                          ],
                          [
                            0.8888888888888888,
                            "#fdca26"
                          ],
                          [
                            1,
                            "#f0f921"
                          ]
                        ],
                        "type": "heatmapgl"
                      }
                    ],
                    "histogram": [
                      {
                        "marker": {
                          "pattern": {
                            "fillmode": "overlay",
                            "size": 10,
                            "solidity": 0.2
                          }
                        },
                        "type": "histogram"
                      }
                    ],
                    "histogram2d": [
                      {
                        "colorbar": {
                          "outlinewidth": 0,
                          "ticks": ""
                        },
                        "colorscale": [
                          [
                            0,
                            "#0d0887"
                          ],
                          [
                            0.1111111111111111,
                            "#46039f"
                          ],
                          [
                            0.2222222222222222,
                            "#7201a8"
                          ],
                          [
                            0.3333333333333333,
                            "#9c179e"
                          ],
                          [
                            0.4444444444444444,
                            "#bd3786"
                          ],
                          [
                            0.5555555555555556,
                            "#d8576b"
                          ],
                          [
                            0.6666666666666666,
                            "#ed7953"
                          ],
                          [
                            0.7777777777777778,
                            "#fb9f3a"
                          ],
                          [
                            0.8888888888888888,
                            "#fdca26"
                          ],
                          [
                            1,
                            "#f0f921"
                          ]
                        ],
                        "type": "histogram2d"
                      }
                    ],
                    "histogram2dcontour": [
                      {
                        "colorbar": {
                          "outlinewidth": 0,
                          "ticks": ""
                        },
                        "colorscale": [
                          [
                            0,
                            "#0d0887"
                          ],
                          [
                            0.1111111111111111,
                            "#46039f"
                          ],
                          [
                            0.2222222222222222,
                            "#7201a8"
                          ],
                          [
                            0.3333333333333333,
                            "#9c179e"
                          ],
                          [
                            0.4444444444444444,
                            "#bd3786"
                          ],
                          [
                            0.5555555555555556,
                            "#d8576b"
                          ],
                          [
                            0.6666666666666666,
                            "#ed7953"
                          ],
                          [
                            0.7777777777777778,
                            "#fb9f3a"
                          ],
                          [
                            0.8888888888888888,
                            "#fdca26"
                          ],
                          [
                            1,
                            "#f0f921"
                          ]
                        ],
                        "type": "histogram2dcontour"
                      }
                    ],
                    "mesh3d": [
                      {
                        "colorbar": {
                          "outlinewidth": 0,
                          "ticks": ""
                        },
                        "type": "mesh3d"
                      }
                    ],
                    "parcoords": [
                      {
                        "line": {
                          "colorbar": {
                            "outlinewidth": 0,
                            "ticks": ""
                          }
                        },
                        "type": "parcoords"
                      }
                    ],
                    "pie": [
                      {
                        "automargin": true,
                        "type": "pie"
                      }
                    ],
                    "scatter": [
                      {
                        "fillpattern": {
                          "fillmode": "overlay",
                          "size": 10,
                          "solidity": 0.2
                        },
                        "type": "scatter"
                      }
                    ],
                    "scatter3d": [
                      {
                        "line": {
                          "colorbar": {
                            "outlinewidth": 0,
                            "ticks": ""
                          }
                        },
                        "marker": {
                          "colorbar": {
                            "outlinewidth": 0,
                            "ticks": ""
                          }
                        },
                        "type": "scatter3d"
                      }
                    ],
                    "scattercarpet": [
                      {
                        "marker": {
                          "colorbar": {
                            "outlinewidth": 0,
                            "ticks": ""
                          }
                        },
                        "type": "scattercarpet"
                      }
                    ],
                    "scattergeo": [
                      {
                        "marker": {
                          "colorbar": {
                            "outlinewidth": 0,
                            "ticks": ""
                          }
                        },
                        "type": "scattergeo"
                      }
                    ],
                    "scattergl": [
                      {
                        "marker": {
                          "colorbar": {
                            "outlinewidth": 0,
                            "ticks": ""
                          }
                        },
                        "type": "scattergl"
                      }
                    ],
                    "scattermapbox": [
                      {
                        "marker": {
                          "colorbar": {
                            "outlinewidth": 0,
                            "ticks": ""
                          }
                        },
                        "type": "scattermapbox"
                      }
                    ],
                    "scatterpolar": [
                      {
                        "marker": {
                          "colorbar": {
                            "outlinewidth": 0,
                            "ticks": ""
                          }
                        },
                        "type": "scatterpolar"
                      }
                    ],
                    "scatterpolargl": [
                      {
                        "marker": {
                          "colorbar": {
                            "outlinewidth": 0,
                            "ticks": ""
                          }
                        },
                        "type": "scatterpolargl"
                      }
                    ],
                    "scatterternary": [
                      {
                        "marker": {
                          "colorbar": {
                            "outlinewidth": 0,
                            "ticks": ""
                          }
                        },
                        "type": "scatterternary"
                      }
                    ],
                    "surface": [
                      {
                        "colorbar": {
                          "outlinewidth": 0,
                          "ticks": ""
                        },
                        "colorscale": [
                          [
                            0,
                            "#0d0887"
                          ],
                          [
                            0.1111111111111111,
                            "#46039f"
                          ],
                          [
                            0.2222222222222222,
                            "#7201a8"
                          ],
                          [
                            0.3333333333333333,
                            "#9c179e"
                          ],
                          [
                            0.4444444444444444,
                            "#bd3786"
                          ],
                          [
                            0.5555555555555556,
                            "#d8576b"
                          ],
                          [
                            0.6666666666666666,
                            "#ed7953"
                          ],
                          [
                            0.7777777777777778,
                            "#fb9f3a"
                          ],
                          [
                            0.8888888888888888,
                            "#fdca26"
                          ],
                          [
                            1,
                            "#f0f921"
                          ]
                        ],
                        "type": "surface"
                      }
                    ],
                    "table": [
                      {
                        "cells": {
                          "fill": {
                            "color": "#EBF0F8"
                          },
                          "line": {
                            "color": "white"
                          }
                        },
                        "header": {
                          "fill": {
                            "color": "#C8D4E3"
                          },
                          "line": {
                            "color": "white"
                          }
                        },
                        "type": "table"
                      }
                    ]
                  },
                  "layout": {
                    "annotationdefaults": {
                      "arrowcolor": "#2a3f5f",
                      "arrowhead": 0,
                      "arrowwidth": 1
                    },
                    "autotypenumbers": "strict",
                    "coloraxis": {
                      "colorbar": {
                        "outlinewidth": 0,
                        "ticks": ""
                      }
                    },
                    "colorscale": {
                      "diverging": [
                        [
                          0,
                          "#8e0152"
                        ],
                        [
                          0.1,
                          "#c51b7d"
                        ],
                        [
                          0.2,
                          "#de77ae"
                        ],
                        [
                          0.3,
                          "#f1b6da"
                        ],
                        [
                          0.4,
                          "#fde0ef"
                        ],
                        [
                          0.5,
                          "#f7f7f7"
                        ],
                        [
                          0.6,
                          "#e6f5d0"
                        ],
                        [
                          0.7,
                          "#b8e186"
                        ],
                        [
                          0.8,
                          "#7fbc41"
                        ],
                        [
                          0.9,
                          "#4d9221"
                        ],
                        [
                          1,
                          "#276419"
                        ]
                      ],
                      "sequential": [
                        [
                          0,
                          "#0d0887"
                        ],
                        [
                          0.1111111111111111,
                          "#46039f"
                        ],
                        [
                          0.2222222222222222,
                          "#7201a8"
                        ],
                        [
                          0.3333333333333333,
                          "#9c179e"
                        ],
                        [
                          0.4444444444444444,
                          "#bd3786"
                        ],
                        [
                          0.5555555555555556,
                          "#d8576b"
                        ],
                        [
                          0.6666666666666666,
                          "#ed7953"
                        ],
                        [
                          0.7777777777777778,
                          "#fb9f3a"
                        ],
                        [
                          0.8888888888888888,
                          "#fdca26"
                        ],
                        [
                          1,
                          "#f0f921"
                        ]
                      ],
                      "sequentialminus": [
                        [
                          0,
                          "#0d0887"
                        ],
                        [
                          0.1111111111111111,
                          "#46039f"
                        ],
                        [
                          0.2222222222222222,
                          "#7201a8"
                        ],
                        [
                          0.3333333333333333,
                          "#9c179e"
                        ],
                        [
                          0.4444444444444444,
                          "#bd3786"
                        ],
                        [
                          0.5555555555555556,
                          "#d8576b"
                        ],
                        [
                          0.6666666666666666,
                          "#ed7953"
                        ],
                        [
                          0.7777777777777778,
                          "#fb9f3a"
                        ],
                        [
                          0.8888888888888888,
                          "#fdca26"
                        ],
                        [
                          1,
                          "#f0f921"
                        ]
                      ]
                    },
                    "colorway": [
                      "#636efa",
                      "#EF553B",
                      "#00cc96",
                      "#ab63fa",
                      "#FFA15A",
                      "#19d3f3",
                      "#FF6692",
                      "#B6E880",
                      "#FF97FF",
                      "#FECB52"
                    ],
                    "font": {
                      "color": "#2a3f5f"
                    },
                    "geo": {
                      "bgcolor": "white",
                      "lakecolor": "white",
                      "landcolor": "#E5ECF6",
                      "showlakes": true,
                      "showland": true,
                      "subunitcolor": "white"
                    },
                    "hoverlabel": {
                      "align": "left"
                    },
                    "hovermode": "closest",
                    "mapbox": {
                      "style": "light"
                    },
                    "paper_bgcolor": "white",
                    "plot_bgcolor": "#E5ECF6",
                    "polar": {
                      "angularaxis": {
                        "gridcolor": "white",
                        "linecolor": "white",
                        "ticks": ""
                      },
                      "bgcolor": "#E5ECF6",
                      "radialaxis": {
                        "gridcolor": "white",
                        "linecolor": "white",
                        "ticks": ""
                      }
                    },
                    "scene": {
                      "xaxis": {
                        "backgroundcolor": "#E5ECF6",
                        "gridcolor": "white",
                        "gridwidth": 2,
                        "linecolor": "white",
                        "showbackground": true,
                        "ticks": "",
                        "zerolinecolor": "white"
                      },
                      "yaxis": {
                        "backgroundcolor": "#E5ECF6",
                        "gridcolor": "white",
                        "gridwidth": 2,
                        "linecolor": "white",
                        "showbackground": true,
                        "ticks": "",
                        "zerolinecolor": "white"
                      },
                      "zaxis": {
                        "backgroundcolor": "#E5ECF6",
                        "gridcolor": "white",
                        "gridwidth": 2,
                        "linecolor": "white",
                        "showbackground": true,
                        "ticks": "",
                        "zerolinecolor": "white"
                      }
                    },
                    "shapedefaults": {
                      "line": {
                        "color": "#2a3f5f"
                      }
                    },
                    "ternary": {
                      "aaxis": {
                        "gridcolor": "white",
                        "linecolor": "white",
                        "ticks": ""
                      },
                      "baxis": {
                        "gridcolor": "white",
                        "linecolor": "white",
                        "ticks": ""
                      },
                      "bgcolor": "#E5ECF6",
                      "caxis": {
                        "gridcolor": "white",
                        "linecolor": "white",
                        "ticks": ""
                      }
                    },
                    "title": {
                      "x": 0.05
                    },
                    "xaxis": {
                      "automargin": true,
                      "gridcolor": "white",
                      "linecolor": "white",
                      "ticks": "",
                      "title": {
                        "standoff": 15
                      },
                      "zerolinecolor": "white",
                      "zerolinewidth": 2
                    },
                    "yaxis": {
                      "automargin": true,
                      "gridcolor": "white",
                      "linecolor": "white",
                      "ticks": "",
                      "title": {
                        "standoff": 15
                      },
                      "zerolinecolor": "white",
                      "zerolinewidth": 2
                    }
                  }
                },
                "title": {
                  "text": "DSR"
                },
                "xaxis": {
                  "anchor": "y",
                  "categoryarray": [
                    "Walk-Forward",
                    "K-Fold",
                    "Purged K-Fold",
                    "Combinatorial Purged"
                  ],
                  "categoryorder": "array",
                  "domain": [
                    0,
                    1
                  ],
                  "title": {
                    "text": "CV"
                  }
                },
                "yaxis": {
                  "anchor": "x",
                  "domain": [
                    0,
                    1
                  ],
                  "title": {
                    "text": "Data"
                  }
                }
              }
            }
          },
          "metadata": {},
          "output_type": "display_data"
        }
      ],
      "source": [
        "import plotly.express as px\n",
        "pbo_ = []\n",
        "for cv in pbo.columns:\n",
        "    data = pbo[cv].to_frame('Data')\n",
        "    data['CV'] = cv\n",
        "    data['Color'] = data['Data'].median()\n",
        "    pbo_.append(data)\n",
        "\n",
        "pbo_ = pd.concat(pbo_)    \n",
        "px.box(pbo_, x='CV', y='Data', color='CV', notched=True, \\\n",
        "       title='PBO').update_layout(showlegend=False).show()\n",
        "\n",
        "deflated_sr_ = []\n",
        "for cv in deflated_sr.columns:\n",
        "    data = deflated_sr[cv].to_frame('Data')\n",
        "    data['CV'] = cv\n",
        "    data['Color'] = data['Data'].median()\n",
        "    deflated_sr_.append(data)\n",
        "\n",
        "deflated_sr_ = pd.concat(deflated_sr_)    \n",
        "px.box(deflated_sr_, x='CV', y='Data', color='CV', notched=True, \\\n",
        "       title='DSR').update_layout(showlegend=False).show()"
      ]
    },
    {
      "cell_type": "code",
      "execution_count": 112,
      "metadata": {},
      "outputs": [
        {
          "data": {
            "application/vnd.plotly.v1+json": {
              "config": {
                "plotlyServerURL": "https://plot.ly"
              },
              "data": [
                {
                  "alignmentgroup": "True",
                  "hovertemplate": "CV=%{x}<br>Data=%{y}<extra></extra>",
                  "legendgroup": "Walk-Forward",
                  "marker": {
                    "color": "#636efa"
                  },
                  "name": "Walk-Forward",
                  "notched": true,
                  "offsetgroup": "Walk-Forward",
                  "orientation": "v",
                  "showlegend": true,
                  "type": "box",
                  "x": [
                    "Walk-Forward",
                    "Walk-Forward",
                    "Walk-Forward",
                    "Walk-Forward",
                    "Walk-Forward",
                    "Walk-Forward",
                    "Walk-Forward",
                    "Walk-Forward",
                    "Walk-Forward",
                    "Walk-Forward",
                    "Walk-Forward",
                    "Walk-Forward",
                    "Walk-Forward",
                    "Walk-Forward",
                    "Walk-Forward",
                    "Walk-Forward",
                    "Walk-Forward",
                    "Walk-Forward",
                    "Walk-Forward",
                    "Walk-Forward",
                    "Walk-Forward",
                    "Walk-Forward",
                    "Walk-Forward",
                    "Walk-Forward",
                    "Walk-Forward",
                    "Walk-Forward",
                    "Walk-Forward",
                    "Walk-Forward",
                    "Walk-Forward",
                    "Walk-Forward"
                  ],
                  "x0": " ",
                  "xaxis": "x",
                  "y": [
                    0.6136752136752137,
                    0.7536907536907537,
                    0.1961149961149961,
                    0.5247086247086247,
                    0.3181818181818182,
                    0.15112665112665113,
                    0.7835275835275836,
                    0.8357420357420358,
                    0.6595182595182595,
                    0.7376845376845377,
                    0.5076146076146076,
                    0.30473970473970474,
                    0.6844599844599845,
                    0.6958818958818959,
                    0.9030303030303031,
                    0.631002331002331,
                    0.468997668997669,
                    0.24607614607614609,
                    0.5060606060606061,
                    0.797979797979798,
                    0.6264957264957265,
                    0.3077700077700078,
                    0.8923076923076924,
                    0.21763791763791765,
                    0.32494172494172496,
                    0.4019425019425019,
                    0.2588966588966589,
                    0.13535353535353536,
                    0.5891996891996892,
                    0.4613830613830614
                  ],
                  "y0": " ",
                  "yaxis": "y"
                },
                {
                  "alignmentgroup": "True",
                  "hovertemplate": "CV=%{x}<br>Data=%{y}<extra></extra>",
                  "legendgroup": "K-Fold",
                  "marker": {
                    "color": "#EF553B"
                  },
                  "name": "K-Fold",
                  "notched": true,
                  "offsetgroup": "K-Fold",
                  "orientation": "v",
                  "showlegend": true,
                  "type": "box",
                  "x": [
                    "K-Fold",
                    "K-Fold",
                    "K-Fold",
                    "K-Fold",
                    "K-Fold",
                    "K-Fold",
                    "K-Fold",
                    "K-Fold",
                    "K-Fold",
                    "K-Fold",
                    "K-Fold",
                    "K-Fold",
                    "K-Fold",
                    "K-Fold",
                    "K-Fold",
                    "K-Fold",
                    "K-Fold",
                    "K-Fold",
                    "K-Fold",
                    "K-Fold",
                    "K-Fold",
                    "K-Fold",
                    "K-Fold",
                    "K-Fold",
                    "K-Fold",
                    "K-Fold",
                    "K-Fold",
                    "K-Fold",
                    "K-Fold",
                    "K-Fold"
                  ],
                  "x0": " ",
                  "xaxis": "x",
                  "y": [
                    0.6966588966588967,
                    0.5714840714840714,
                    0.03108003108003108,
                    0.7268065268065268,
                    0.517948717948718,
                    0.4722610722610723,
                    0.6141414141414141,
                    0.29184149184149183,
                    0.7413364413364414,
                    0.6121989121989122,
                    0.3502719502719503,
                    0.304972804972805,
                    0.3940947940947941,
                    0.23644133644133644,
                    0.533022533022533,
                    0.3710955710955711,
                    0.6584304584304584,
                    0.33115773115773117,
                    0.44926184926184926,
                    0.402020202020202,
                    0.29347319347319345,
                    0.1292152292152292,
                    0.3605283605283605,
                    0.10683760683760683,
                    0.24654234654234655,
                    0.39044289044289043,
                    0.6501165501165501,
                    0.2365967365967366,
                    0.06604506604506605,
                    0.4986013986013986
                  ],
                  "y0": " ",
                  "yaxis": "y"
                },
                {
                  "alignmentgroup": "True",
                  "hovertemplate": "CV=%{x}<br>Data=%{y}<extra></extra>",
                  "legendgroup": "Purged K-Fold",
                  "marker": {
                    "color": "#00cc96"
                  },
                  "name": "Purged K-Fold",
                  "notched": true,
                  "offsetgroup": "Purged K-Fold",
                  "orientation": "v",
                  "showlegend": true,
                  "type": "box",
                  "x": [
                    "Purged K-Fold",
                    "Purged K-Fold",
                    "Purged K-Fold",
                    "Purged K-Fold",
                    "Purged K-Fold",
                    "Purged K-Fold",
                    "Purged K-Fold",
                    "Purged K-Fold",
                    "Purged K-Fold",
                    "Purged K-Fold",
                    "Purged K-Fold",
                    "Purged K-Fold",
                    "Purged K-Fold",
                    "Purged K-Fold",
                    "Purged K-Fold",
                    "Purged K-Fold",
                    "Purged K-Fold",
                    "Purged K-Fold",
                    "Purged K-Fold",
                    "Purged K-Fold",
                    "Purged K-Fold",
                    "Purged K-Fold",
                    "Purged K-Fold",
                    "Purged K-Fold",
                    "Purged K-Fold",
                    "Purged K-Fold",
                    "Purged K-Fold",
                    "Purged K-Fold",
                    "Purged K-Fold",
                    "Purged K-Fold"
                  ],
                  "x0": " ",
                  "xaxis": "x",
                  "y": [
                    0.27397047397047397,
                    0.7626262626262627,
                    0.1156954156954157,
                    0.5122766122766123,
                    0.2664335664335664,
                    0.4309246309246309,
                    0.5742812742812743,
                    0.3508935508935509,
                    0.6780885780885781,
                    0.30637140637140636,
                    0.2759129759129759,
                    0.22952602952602952,
                    0.4825174825174825,
                    0.39634809634809637,
                    0.5274281274281274,
                    0.34094794094794095,
                    0.38585858585858585,
                    0.44529914529914527,
                    0.4291375291375291,
                    0.42556332556332555,
                    0.7480963480963481,
                    0.12672882672882674,
                    0.5047397047397048,
                    0.29292929292929293,
                    0.3304584304584305,
                    0.4608391608391608,
                    0.43954933954933956,
                    0.37505827505827505,
                    0.11841491841491841,
                    0.322999222999223
                  ],
                  "y0": " ",
                  "yaxis": "y"
                },
                {
                  "alignmentgroup": "True",
                  "hovertemplate": "CV=%{x}<br>Data=%{y}<extra></extra>",
                  "legendgroup": "Combinatorial Purged",
                  "marker": {
                    "color": "#ab63fa"
                  },
                  "name": "Combinatorial Purged",
                  "notched": true,
                  "offsetgroup": "Combinatorial Purged",
                  "orientation": "v",
                  "showlegend": true,
                  "type": "box",
                  "x": [
                    "Combinatorial Purged",
                    "Combinatorial Purged",
                    "Combinatorial Purged",
                    "Combinatorial Purged",
                    "Combinatorial Purged",
                    "Combinatorial Purged",
                    "Combinatorial Purged",
                    "Combinatorial Purged",
                    "Combinatorial Purged",
                    "Combinatorial Purged",
                    "Combinatorial Purged",
                    "Combinatorial Purged",
                    "Combinatorial Purged",
                    "Combinatorial Purged",
                    "Combinatorial Purged",
                    "Combinatorial Purged",
                    "Combinatorial Purged",
                    "Combinatorial Purged",
                    "Combinatorial Purged",
                    "Combinatorial Purged",
                    "Combinatorial Purged",
                    "Combinatorial Purged",
                    "Combinatorial Purged",
                    "Combinatorial Purged",
                    "Combinatorial Purged",
                    "Combinatorial Purged",
                    "Combinatorial Purged",
                    "Combinatorial Purged",
                    "Combinatorial Purged",
                    "Combinatorial Purged"
                  ],
                  "x0": " ",
                  "xaxis": "x",
                  "y": [
                    0.5425019425019425,
                    0.575058275058275,
                    0.08585858585858586,
                    0.6445998445998447,
                    0.17047397047397048,
                    0.37948717948717947,
                    0.6483294483294483,
                    0.7778554778554778,
                    0.6515928515928516,
                    0.3867132867132867,
                    0.3878787878787879,
                    0.21468531468531468,
                    0.29324009324009326,
                    0.34226884226884224,
                    0.23822843822843823,
                    0.37163947163947164,
                    0.16464646464646465,
                    0.23815073815073814,
                    0.7642579642579642,
                    0.41996891996892,
                    0.5493395493395493,
                    0.19518259518259518,
                    0.22564102564102564,
                    0.3151515151515151,
                    0.20007770007770007,
                    0.049883449883449886,
                    0.6358974358974359,
                    0.18873348873348875,
                    0.04553224553224553,
                    0.5417249417249417
                  ],
                  "y0": " ",
                  "yaxis": "y"
                }
              ],
              "layout": {
                "boxmode": "overlay",
                "legend": {
                  "title": {
                    "text": "CV"
                  },
                  "tracegroupgap": 0
                },
                "showlegend": false,
                "template": {
                  "data": {
                    "bar": [
                      {
                        "error_x": {
                          "color": "#2a3f5f"
                        },
                        "error_y": {
                          "color": "#2a3f5f"
                        },
                        "marker": {
                          "line": {
                            "color": "#E5ECF6",
                            "width": 0.5
                          },
                          "pattern": {
                            "fillmode": "overlay",
                            "size": 10,
                            "solidity": 0.2
                          }
                        },
                        "type": "bar"
                      }
                    ],
                    "barpolar": [
                      {
                        "marker": {
                          "line": {
                            "color": "#E5ECF6",
                            "width": 0.5
                          },
                          "pattern": {
                            "fillmode": "overlay",
                            "size": 10,
                            "solidity": 0.2
                          }
                        },
                        "type": "barpolar"
                      }
                    ],
                    "carpet": [
                      {
                        "aaxis": {
                          "endlinecolor": "#2a3f5f",
                          "gridcolor": "white",
                          "linecolor": "white",
                          "minorgridcolor": "white",
                          "startlinecolor": "#2a3f5f"
                        },
                        "baxis": {
                          "endlinecolor": "#2a3f5f",
                          "gridcolor": "white",
                          "linecolor": "white",
                          "minorgridcolor": "white",
                          "startlinecolor": "#2a3f5f"
                        },
                        "type": "carpet"
                      }
                    ],
                    "choropleth": [
                      {
                        "colorbar": {
                          "outlinewidth": 0,
                          "ticks": ""
                        },
                        "type": "choropleth"
                      }
                    ],
                    "contour": [
                      {
                        "colorbar": {
                          "outlinewidth": 0,
                          "ticks": ""
                        },
                        "colorscale": [
                          [
                            0,
                            "#0d0887"
                          ],
                          [
                            0.1111111111111111,
                            "#46039f"
                          ],
                          [
                            0.2222222222222222,
                            "#7201a8"
                          ],
                          [
                            0.3333333333333333,
                            "#9c179e"
                          ],
                          [
                            0.4444444444444444,
                            "#bd3786"
                          ],
                          [
                            0.5555555555555556,
                            "#d8576b"
                          ],
                          [
                            0.6666666666666666,
                            "#ed7953"
                          ],
                          [
                            0.7777777777777778,
                            "#fb9f3a"
                          ],
                          [
                            0.8888888888888888,
                            "#fdca26"
                          ],
                          [
                            1,
                            "#f0f921"
                          ]
                        ],
                        "type": "contour"
                      }
                    ],
                    "contourcarpet": [
                      {
                        "colorbar": {
                          "outlinewidth": 0,
                          "ticks": ""
                        },
                        "type": "contourcarpet"
                      }
                    ],
                    "heatmap": [
                      {
                        "colorbar": {
                          "outlinewidth": 0,
                          "ticks": ""
                        },
                        "colorscale": [
                          [
                            0,
                            "#0d0887"
                          ],
                          [
                            0.1111111111111111,
                            "#46039f"
                          ],
                          [
                            0.2222222222222222,
                            "#7201a8"
                          ],
                          [
                            0.3333333333333333,
                            "#9c179e"
                          ],
                          [
                            0.4444444444444444,
                            "#bd3786"
                          ],
                          [
                            0.5555555555555556,
                            "#d8576b"
                          ],
                          [
                            0.6666666666666666,
                            "#ed7953"
                          ],
                          [
                            0.7777777777777778,
                            "#fb9f3a"
                          ],
                          [
                            0.8888888888888888,
                            "#fdca26"
                          ],
                          [
                            1,
                            "#f0f921"
                          ]
                        ],
                        "type": "heatmap"
                      }
                    ],
                    "heatmapgl": [
                      {
                        "colorbar": {
                          "outlinewidth": 0,
                          "ticks": ""
                        },
                        "colorscale": [
                          [
                            0,
                            "#0d0887"
                          ],
                          [
                            0.1111111111111111,
                            "#46039f"
                          ],
                          [
                            0.2222222222222222,
                            "#7201a8"
                          ],
                          [
                            0.3333333333333333,
                            "#9c179e"
                          ],
                          [
                            0.4444444444444444,
                            "#bd3786"
                          ],
                          [
                            0.5555555555555556,
                            "#d8576b"
                          ],
                          [
                            0.6666666666666666,
                            "#ed7953"
                          ],
                          [
                            0.7777777777777778,
                            "#fb9f3a"
                          ],
                          [
                            0.8888888888888888,
                            "#fdca26"
                          ],
                          [
                            1,
                            "#f0f921"
                          ]
                        ],
                        "type": "heatmapgl"
                      }
                    ],
                    "histogram": [
                      {
                        "marker": {
                          "pattern": {
                            "fillmode": "overlay",
                            "size": 10,
                            "solidity": 0.2
                          }
                        },
                        "type": "histogram"
                      }
                    ],
                    "histogram2d": [
                      {
                        "colorbar": {
                          "outlinewidth": 0,
                          "ticks": ""
                        },
                        "colorscale": [
                          [
                            0,
                            "#0d0887"
                          ],
                          [
                            0.1111111111111111,
                            "#46039f"
                          ],
                          [
                            0.2222222222222222,
                            "#7201a8"
                          ],
                          [
                            0.3333333333333333,
                            "#9c179e"
                          ],
                          [
                            0.4444444444444444,
                            "#bd3786"
                          ],
                          [
                            0.5555555555555556,
                            "#d8576b"
                          ],
                          [
                            0.6666666666666666,
                            "#ed7953"
                          ],
                          [
                            0.7777777777777778,
                            "#fb9f3a"
                          ],
                          [
                            0.8888888888888888,
                            "#fdca26"
                          ],
                          [
                            1,
                            "#f0f921"
                          ]
                        ],
                        "type": "histogram2d"
                      }
                    ],
                    "histogram2dcontour": [
                      {
                        "colorbar": {
                          "outlinewidth": 0,
                          "ticks": ""
                        },
                        "colorscale": [
                          [
                            0,
                            "#0d0887"
                          ],
                          [
                            0.1111111111111111,
                            "#46039f"
                          ],
                          [
                            0.2222222222222222,
                            "#7201a8"
                          ],
                          [
                            0.3333333333333333,
                            "#9c179e"
                          ],
                          [
                            0.4444444444444444,
                            "#bd3786"
                          ],
                          [
                            0.5555555555555556,
                            "#d8576b"
                          ],
                          [
                            0.6666666666666666,
                            "#ed7953"
                          ],
                          [
                            0.7777777777777778,
                            "#fb9f3a"
                          ],
                          [
                            0.8888888888888888,
                            "#fdca26"
                          ],
                          [
                            1,
                            "#f0f921"
                          ]
                        ],
                        "type": "histogram2dcontour"
                      }
                    ],
                    "mesh3d": [
                      {
                        "colorbar": {
                          "outlinewidth": 0,
                          "ticks": ""
                        },
                        "type": "mesh3d"
                      }
                    ],
                    "parcoords": [
                      {
                        "line": {
                          "colorbar": {
                            "outlinewidth": 0,
                            "ticks": ""
                          }
                        },
                        "type": "parcoords"
                      }
                    ],
                    "pie": [
                      {
                        "automargin": true,
                        "type": "pie"
                      }
                    ],
                    "scatter": [
                      {
                        "fillpattern": {
                          "fillmode": "overlay",
                          "size": 10,
                          "solidity": 0.2
                        },
                        "type": "scatter"
                      }
                    ],
                    "scatter3d": [
                      {
                        "line": {
                          "colorbar": {
                            "outlinewidth": 0,
                            "ticks": ""
                          }
                        },
                        "marker": {
                          "colorbar": {
                            "outlinewidth": 0,
                            "ticks": ""
                          }
                        },
                        "type": "scatter3d"
                      }
                    ],
                    "scattercarpet": [
                      {
                        "marker": {
                          "colorbar": {
                            "outlinewidth": 0,
                            "ticks": ""
                          }
                        },
                        "type": "scattercarpet"
                      }
                    ],
                    "scattergeo": [
                      {
                        "marker": {
                          "colorbar": {
                            "outlinewidth": 0,
                            "ticks": ""
                          }
                        },
                        "type": "scattergeo"
                      }
                    ],
                    "scattergl": [
                      {
                        "marker": {
                          "colorbar": {
                            "outlinewidth": 0,
                            "ticks": ""
                          }
                        },
                        "type": "scattergl"
                      }
                    ],
                    "scattermapbox": [
                      {
                        "marker": {
                          "colorbar": {
                            "outlinewidth": 0,
                            "ticks": ""
                          }
                        },
                        "type": "scattermapbox"
                      }
                    ],
                    "scatterpolar": [
                      {
                        "marker": {
                          "colorbar": {
                            "outlinewidth": 0,
                            "ticks": ""
                          }
                        },
                        "type": "scatterpolar"
                      }
                    ],
                    "scatterpolargl": [
                      {
                        "marker": {
                          "colorbar": {
                            "outlinewidth": 0,
                            "ticks": ""
                          }
                        },
                        "type": "scatterpolargl"
                      }
                    ],
                    "scatterternary": [
                      {
                        "marker": {
                          "colorbar": {
                            "outlinewidth": 0,
                            "ticks": ""
                          }
                        },
                        "type": "scatterternary"
                      }
                    ],
                    "surface": [
                      {
                        "colorbar": {
                          "outlinewidth": 0,
                          "ticks": ""
                        },
                        "colorscale": [
                          [
                            0,
                            "#0d0887"
                          ],
                          [
                            0.1111111111111111,
                            "#46039f"
                          ],
                          [
                            0.2222222222222222,
                            "#7201a8"
                          ],
                          [
                            0.3333333333333333,
                            "#9c179e"
                          ],
                          [
                            0.4444444444444444,
                            "#bd3786"
                          ],
                          [
                            0.5555555555555556,
                            "#d8576b"
                          ],
                          [
                            0.6666666666666666,
                            "#ed7953"
                          ],
                          [
                            0.7777777777777778,
                            "#fb9f3a"
                          ],
                          [
                            0.8888888888888888,
                            "#fdca26"
                          ],
                          [
                            1,
                            "#f0f921"
                          ]
                        ],
                        "type": "surface"
                      }
                    ],
                    "table": [
                      {
                        "cells": {
                          "fill": {
                            "color": "#EBF0F8"
                          },
                          "line": {
                            "color": "white"
                          }
                        },
                        "header": {
                          "fill": {
                            "color": "#C8D4E3"
                          },
                          "line": {
                            "color": "white"
                          }
                        },
                        "type": "table"
                      }
                    ]
                  },
                  "layout": {
                    "annotationdefaults": {
                      "arrowcolor": "#2a3f5f",
                      "arrowhead": 0,
                      "arrowwidth": 1
                    },
                    "autotypenumbers": "strict",
                    "coloraxis": {
                      "colorbar": {
                        "outlinewidth": 0,
                        "ticks": ""
                      }
                    },
                    "colorscale": {
                      "diverging": [
                        [
                          0,
                          "#8e0152"
                        ],
                        [
                          0.1,
                          "#c51b7d"
                        ],
                        [
                          0.2,
                          "#de77ae"
                        ],
                        [
                          0.3,
                          "#f1b6da"
                        ],
                        [
                          0.4,
                          "#fde0ef"
                        ],
                        [
                          0.5,
                          "#f7f7f7"
                        ],
                        [
                          0.6,
                          "#e6f5d0"
                        ],
                        [
                          0.7,
                          "#b8e186"
                        ],
                        [
                          0.8,
                          "#7fbc41"
                        ],
                        [
                          0.9,
                          "#4d9221"
                        ],
                        [
                          1,
                          "#276419"
                        ]
                      ],
                      "sequential": [
                        [
                          0,
                          "#0d0887"
                        ],
                        [
                          0.1111111111111111,
                          "#46039f"
                        ],
                        [
                          0.2222222222222222,
                          "#7201a8"
                        ],
                        [
                          0.3333333333333333,
                          "#9c179e"
                        ],
                        [
                          0.4444444444444444,
                          "#bd3786"
                        ],
                        [
                          0.5555555555555556,
                          "#d8576b"
                        ],
                        [
                          0.6666666666666666,
                          "#ed7953"
                        ],
                        [
                          0.7777777777777778,
                          "#fb9f3a"
                        ],
                        [
                          0.8888888888888888,
                          "#fdca26"
                        ],
                        [
                          1,
                          "#f0f921"
                        ]
                      ],
                      "sequentialminus": [
                        [
                          0,
                          "#0d0887"
                        ],
                        [
                          0.1111111111111111,
                          "#46039f"
                        ],
                        [
                          0.2222222222222222,
                          "#7201a8"
                        ],
                        [
                          0.3333333333333333,
                          "#9c179e"
                        ],
                        [
                          0.4444444444444444,
                          "#bd3786"
                        ],
                        [
                          0.5555555555555556,
                          "#d8576b"
                        ],
                        [
                          0.6666666666666666,
                          "#ed7953"
                        ],
                        [
                          0.7777777777777778,
                          "#fb9f3a"
                        ],
                        [
                          0.8888888888888888,
                          "#fdca26"
                        ],
                        [
                          1,
                          "#f0f921"
                        ]
                      ]
                    },
                    "colorway": [
                      "#636efa",
                      "#EF553B",
                      "#00cc96",
                      "#ab63fa",
                      "#FFA15A",
                      "#19d3f3",
                      "#FF6692",
                      "#B6E880",
                      "#FF97FF",
                      "#FECB52"
                    ],
                    "font": {
                      "color": "#2a3f5f"
                    },
                    "geo": {
                      "bgcolor": "white",
                      "lakecolor": "white",
                      "landcolor": "#E5ECF6",
                      "showlakes": true,
                      "showland": true,
                      "subunitcolor": "white"
                    },
                    "hoverlabel": {
                      "align": "left"
                    },
                    "hovermode": "closest",
                    "mapbox": {
                      "style": "light"
                    },
                    "paper_bgcolor": "white",
                    "plot_bgcolor": "#E5ECF6",
                    "polar": {
                      "angularaxis": {
                        "gridcolor": "white",
                        "linecolor": "white",
                        "ticks": ""
                      },
                      "bgcolor": "#E5ECF6",
                      "radialaxis": {
                        "gridcolor": "white",
                        "linecolor": "white",
                        "ticks": ""
                      }
                    },
                    "scene": {
                      "xaxis": {
                        "backgroundcolor": "#E5ECF6",
                        "gridcolor": "white",
                        "gridwidth": 2,
                        "linecolor": "white",
                        "showbackground": true,
                        "ticks": "",
                        "zerolinecolor": "white"
                      },
                      "yaxis": {
                        "backgroundcolor": "#E5ECF6",
                        "gridcolor": "white",
                        "gridwidth": 2,
                        "linecolor": "white",
                        "showbackground": true,
                        "ticks": "",
                        "zerolinecolor": "white"
                      },
                      "zaxis": {
                        "backgroundcolor": "#E5ECF6",
                        "gridcolor": "white",
                        "gridwidth": 2,
                        "linecolor": "white",
                        "showbackground": true,
                        "ticks": "",
                        "zerolinecolor": "white"
                      }
                    },
                    "shapedefaults": {
                      "line": {
                        "color": "#2a3f5f"
                      }
                    },
                    "ternary": {
                      "aaxis": {
                        "gridcolor": "white",
                        "linecolor": "white",
                        "ticks": ""
                      },
                      "baxis": {
                        "gridcolor": "white",
                        "linecolor": "white",
                        "ticks": ""
                      },
                      "bgcolor": "#E5ECF6",
                      "caxis": {
                        "gridcolor": "white",
                        "linecolor": "white",
                        "ticks": ""
                      }
                    },
                    "title": {
                      "x": 0.05
                    },
                    "xaxis": {
                      "automargin": true,
                      "gridcolor": "white",
                      "linecolor": "white",
                      "ticks": "",
                      "title": {
                        "standoff": 15
                      },
                      "zerolinecolor": "white",
                      "zerolinewidth": 2
                    },
                    "yaxis": {
                      "automargin": true,
                      "gridcolor": "white",
                      "linecolor": "white",
                      "ticks": "",
                      "title": {
                        "standoff": 15
                      },
                      "zerolinecolor": "white",
                      "zerolinewidth": 2
                    }
                  }
                },
                "title": {
                  "text": "PBO"
                },
                "xaxis": {
                  "anchor": "y",
                  "categoryarray": [
                    "Walk-Forward",
                    "K-Fold",
                    "Purged K-Fold",
                    "Combinatorial Purged"
                  ],
                  "categoryorder": "array",
                  "domain": [
                    0,
                    1
                  ],
                  "title": {
                    "text": "CV"
                  }
                },
                "yaxis": {
                  "anchor": "x",
                  "domain": [
                    0,
                    1
                  ],
                  "title": {
                    "text": "Data"
                  }
                }
              }
            }
          },
          "metadata": {},
          "output_type": "display_data"
        },
        {
          "data": {
            "application/vnd.plotly.v1+json": {
              "config": {
                "plotlyServerURL": "https://plot.ly"
              },
              "data": [
                {
                  "alignmentgroup": "True",
                  "hovertemplate": "CV=%{x}<br>Data=%{y}<extra></extra>",
                  "legendgroup": "Walk-Forward",
                  "marker": {
                    "color": "#636efa"
                  },
                  "name": "Walk-Forward",
                  "notched": true,
                  "offsetgroup": "Walk-Forward",
                  "orientation": "v",
                  "showlegend": true,
                  "type": "box",
                  "x": [
                    "Walk-Forward",
                    "Walk-Forward",
                    "Walk-Forward",
                    "Walk-Forward",
                    "Walk-Forward",
                    "Walk-Forward",
                    "Walk-Forward",
                    "Walk-Forward",
                    "Walk-Forward",
                    "Walk-Forward",
                    "Walk-Forward",
                    "Walk-Forward",
                    "Walk-Forward",
                    "Walk-Forward",
                    "Walk-Forward",
                    "Walk-Forward",
                    "Walk-Forward",
                    "Walk-Forward",
                    "Walk-Forward",
                    "Walk-Forward",
                    "Walk-Forward",
                    "Walk-Forward",
                    "Walk-Forward",
                    "Walk-Forward",
                    "Walk-Forward",
                    "Walk-Forward",
                    "Walk-Forward",
                    "Walk-Forward",
                    "Walk-Forward",
                    "Walk-Forward"
                  ],
                  "x0": " ",
                  "xaxis": "x",
                  "y": [
                    -1.528927598641696,
                    0.9701351209465774,
                    0.7765146804136647,
                    -0.5288943276130242,
                    -1.1605389448970176,
                    0.5980060502023515,
                    0.35305885719385766,
                    1.1625607107702751,
                    1.0396688093649538,
                    0.30442056562857134,
                    -0.7570875430775204,
                    0.10314379102176933,
                    1.470731865499721,
                    -0.6374885471589784,
                    0.1846192426040526,
                    0.38577959129069855,
                    0.908885183142626,
                    0.21545470876210995,
                    0.5894810080378624,
                    -0.37481238016167917,
                    0.08706282434764477,
                    -0.2986765458016334,
                    0.22048532779066238,
                    -0.2414697035521333,
                    -0.05237694804280961,
                    0.6883464107242651,
                    1.4101351976963497,
                    1.142976994685369,
                    -0.9602379564329739,
                    0.30140459792594143
                  ],
                  "y0": " ",
                  "yaxis": "y"
                },
                {
                  "alignmentgroup": "True",
                  "hovertemplate": "CV=%{x}<br>Data=%{y}<extra></extra>",
                  "legendgroup": "K-Fold",
                  "marker": {
                    "color": "#EF553B"
                  },
                  "name": "K-Fold",
                  "notched": true,
                  "offsetgroup": "K-Fold",
                  "orientation": "v",
                  "showlegend": true,
                  "type": "box",
                  "x": [
                    "K-Fold",
                    "K-Fold",
                    "K-Fold",
                    "K-Fold",
                    "K-Fold",
                    "K-Fold",
                    "K-Fold",
                    "K-Fold",
                    "K-Fold",
                    "K-Fold",
                    "K-Fold",
                    "K-Fold",
                    "K-Fold",
                    "K-Fold",
                    "K-Fold",
                    "K-Fold",
                    "K-Fold",
                    "K-Fold",
                    "K-Fold",
                    "K-Fold",
                    "K-Fold",
                    "K-Fold",
                    "K-Fold",
                    "K-Fold",
                    "K-Fold",
                    "K-Fold",
                    "K-Fold",
                    "K-Fold",
                    "K-Fold",
                    "K-Fold"
                  ],
                  "x0": " ",
                  "xaxis": "x",
                  "y": [
                    -0.6723715783150874,
                    1.2547474562910221,
                    2.3669247957781656,
                    -0.27165956108756284,
                    -0.8008721870740326,
                    0.9036686204394664,
                    0.33040085512756984,
                    1.0977572980713373,
                    0.5311794438278968,
                    1.4073963880439437,
                    -0.09025589170533253,
                    0.5211792793372679,
                    1.764160883525385,
                    0.15941177965661207,
                    0.5437068745535591,
                    0.6321650095408788,
                    0.5831611644464462,
                    0.4118924288551862,
                    0.34853510596685583,
                    0.49817906520161404,
                    -0.4380483709986545,
                    -0.4828271880412612,
                    0.3721273930969234,
                    1.0281775392035521,
                    0.264698677571049,
                    1.2053186004870524,
                    2.620980343180227,
                    1.0032615911173592,
                    -0.7066502620378378,
                    0.3444969882842084
                  ],
                  "y0": " ",
                  "yaxis": "y"
                },
                {
                  "alignmentgroup": "True",
                  "hovertemplate": "CV=%{x}<br>Data=%{y}<extra></extra>",
                  "legendgroup": "Purged K-Fold",
                  "marker": {
                    "color": "#00cc96"
                  },
                  "name": "Purged K-Fold",
                  "notched": true,
                  "offsetgroup": "Purged K-Fold",
                  "orientation": "v",
                  "showlegend": true,
                  "type": "box",
                  "x": [
                    "Purged K-Fold",
                    "Purged K-Fold",
                    "Purged K-Fold",
                    "Purged K-Fold",
                    "Purged K-Fold",
                    "Purged K-Fold",
                    "Purged K-Fold",
                    "Purged K-Fold",
                    "Purged K-Fold",
                    "Purged K-Fold",
                    "Purged K-Fold",
                    "Purged K-Fold",
                    "Purged K-Fold",
                    "Purged K-Fold",
                    "Purged K-Fold",
                    "Purged K-Fold",
                    "Purged K-Fold",
                    "Purged K-Fold",
                    "Purged K-Fold",
                    "Purged K-Fold",
                    "Purged K-Fold",
                    "Purged K-Fold",
                    "Purged K-Fold",
                    "Purged K-Fold",
                    "Purged K-Fold",
                    "Purged K-Fold",
                    "Purged K-Fold",
                    "Purged K-Fold",
                    "Purged K-Fold",
                    "Purged K-Fold"
                  ],
                  "x0": " ",
                  "xaxis": "x",
                  "y": [
                    0.04493079986641018,
                    0.9246728024048163,
                    2.2397187871551427,
                    -0.019185749693299285,
                    -0.9422145796530437,
                    0.7348432911689219,
                    0.5028010229046048,
                    1.0852142164590202,
                    0.8069501103783493,
                    0.6435116257487702,
                    -0.06270122365761158,
                    0.32644315115574507,
                    1.8377422992538872,
                    0.5908391550110026,
                    0.35567331573728633,
                    0.41069099119302394,
                    0.8934039004748928,
                    0.6384181008377185,
                    0.9350397531195783,
                    1.1246963157794359,
                    -0.1390111236904903,
                    -0.08962948122612148,
                    0.023419918416039156,
                    0.14227954702707965,
                    0.4678855306813537,
                    0.7147210290627336,
                    2.620067052659556,
                    1.1598203774739122,
                    -0.5561484679988358,
                    0.7358824020425553
                  ],
                  "y0": " ",
                  "yaxis": "y"
                },
                {
                  "alignmentgroup": "True",
                  "hovertemplate": "CV=%{x}<br>Data=%{y}<extra></extra>",
                  "legendgroup": "Combinatorial Purged",
                  "marker": {
                    "color": "#ab63fa"
                  },
                  "name": "Combinatorial Purged",
                  "notched": true,
                  "offsetgroup": "Combinatorial Purged",
                  "orientation": "v",
                  "showlegend": true,
                  "type": "box",
                  "x": [
                    "Combinatorial Purged",
                    "Combinatorial Purged",
                    "Combinatorial Purged",
                    "Combinatorial Purged",
                    "Combinatorial Purged",
                    "Combinatorial Purged",
                    "Combinatorial Purged",
                    "Combinatorial Purged",
                    "Combinatorial Purged",
                    "Combinatorial Purged",
                    "Combinatorial Purged",
                    "Combinatorial Purged",
                    "Combinatorial Purged",
                    "Combinatorial Purged",
                    "Combinatorial Purged",
                    "Combinatorial Purged",
                    "Combinatorial Purged",
                    "Combinatorial Purged",
                    "Combinatorial Purged",
                    "Combinatorial Purged",
                    "Combinatorial Purged",
                    "Combinatorial Purged",
                    "Combinatorial Purged",
                    "Combinatorial Purged",
                    "Combinatorial Purged",
                    "Combinatorial Purged",
                    "Combinatorial Purged",
                    "Combinatorial Purged",
                    "Combinatorial Purged",
                    "Combinatorial Purged"
                  ],
                  "x0": " ",
                  "xaxis": "x",
                  "y": [
                    -0.8159355453735784,
                    1.231421128989011,
                    2.1267969567971714,
                    -0.34829257337986486,
                    -1.3541954559777778,
                    1.2013406283880026,
                    0.687833312110434,
                    0.7864974131376323,
                    1.144149339906365,
                    0.9630662942180607,
                    0.09395942955630887,
                    -0.05884396486950352,
                    2.024931478908411,
                    0.39256378196826136,
                    0.23992511589305446,
                    0.21176023574980493,
                    0.9059129618923474,
                    0.07810760420596978,
                    0.4038095410861785,
                    0.9104884976535048,
                    0.06630078242027651,
                    -0.183216716280859,
                    -0.040064406779305325,
                    -0.027936130244397506,
                    0.6364697417123614,
                    1.1554956829803127,
                    3.3909145415605946,
                    0.9835491847913028,
                    -0.9965931674579751,
                    0.7767710570591584
                  ],
                  "y0": " ",
                  "yaxis": "y"
                }
              ],
              "layout": {
                "boxmode": "overlay",
                "legend": {
                  "title": {
                    "text": "CV"
                  },
                  "tracegroupgap": 0
                },
                "showlegend": false,
                "template": {
                  "data": {
                    "bar": [
                      {
                        "error_x": {
                          "color": "#2a3f5f"
                        },
                        "error_y": {
                          "color": "#2a3f5f"
                        },
                        "marker": {
                          "line": {
                            "color": "#E5ECF6",
                            "width": 0.5
                          },
                          "pattern": {
                            "fillmode": "overlay",
                            "size": 10,
                            "solidity": 0.2
                          }
                        },
                        "type": "bar"
                      }
                    ],
                    "barpolar": [
                      {
                        "marker": {
                          "line": {
                            "color": "#E5ECF6",
                            "width": 0.5
                          },
                          "pattern": {
                            "fillmode": "overlay",
                            "size": 10,
                            "solidity": 0.2
                          }
                        },
                        "type": "barpolar"
                      }
                    ],
                    "carpet": [
                      {
                        "aaxis": {
                          "endlinecolor": "#2a3f5f",
                          "gridcolor": "white",
                          "linecolor": "white",
                          "minorgridcolor": "white",
                          "startlinecolor": "#2a3f5f"
                        },
                        "baxis": {
                          "endlinecolor": "#2a3f5f",
                          "gridcolor": "white",
                          "linecolor": "white",
                          "minorgridcolor": "white",
                          "startlinecolor": "#2a3f5f"
                        },
                        "type": "carpet"
                      }
                    ],
                    "choropleth": [
                      {
                        "colorbar": {
                          "outlinewidth": 0,
                          "ticks": ""
                        },
                        "type": "choropleth"
                      }
                    ],
                    "contour": [
                      {
                        "colorbar": {
                          "outlinewidth": 0,
                          "ticks": ""
                        },
                        "colorscale": [
                          [
                            0,
                            "#0d0887"
                          ],
                          [
                            0.1111111111111111,
                            "#46039f"
                          ],
                          [
                            0.2222222222222222,
                            "#7201a8"
                          ],
                          [
                            0.3333333333333333,
                            "#9c179e"
                          ],
                          [
                            0.4444444444444444,
                            "#bd3786"
                          ],
                          [
                            0.5555555555555556,
                            "#d8576b"
                          ],
                          [
                            0.6666666666666666,
                            "#ed7953"
                          ],
                          [
                            0.7777777777777778,
                            "#fb9f3a"
                          ],
                          [
                            0.8888888888888888,
                            "#fdca26"
                          ],
                          [
                            1,
                            "#f0f921"
                          ]
                        ],
                        "type": "contour"
                      }
                    ],
                    "contourcarpet": [
                      {
                        "colorbar": {
                          "outlinewidth": 0,
                          "ticks": ""
                        },
                        "type": "contourcarpet"
                      }
                    ],
                    "heatmap": [
                      {
                        "colorbar": {
                          "outlinewidth": 0,
                          "ticks": ""
                        },
                        "colorscale": [
                          [
                            0,
                            "#0d0887"
                          ],
                          [
                            0.1111111111111111,
                            "#46039f"
                          ],
                          [
                            0.2222222222222222,
                            "#7201a8"
                          ],
                          [
                            0.3333333333333333,
                            "#9c179e"
                          ],
                          [
                            0.4444444444444444,
                            "#bd3786"
                          ],
                          [
                            0.5555555555555556,
                            "#d8576b"
                          ],
                          [
                            0.6666666666666666,
                            "#ed7953"
                          ],
                          [
                            0.7777777777777778,
                            "#fb9f3a"
                          ],
                          [
                            0.8888888888888888,
                            "#fdca26"
                          ],
                          [
                            1,
                            "#f0f921"
                          ]
                        ],
                        "type": "heatmap"
                      }
                    ],
                    "heatmapgl": [
                      {
                        "colorbar": {
                          "outlinewidth": 0,
                          "ticks": ""
                        },
                        "colorscale": [
                          [
                            0,
                            "#0d0887"
                          ],
                          [
                            0.1111111111111111,
                            "#46039f"
                          ],
                          [
                            0.2222222222222222,
                            "#7201a8"
                          ],
                          [
                            0.3333333333333333,
                            "#9c179e"
                          ],
                          [
                            0.4444444444444444,
                            "#bd3786"
                          ],
                          [
                            0.5555555555555556,
                            "#d8576b"
                          ],
                          [
                            0.6666666666666666,
                            "#ed7953"
                          ],
                          [
                            0.7777777777777778,
                            "#fb9f3a"
                          ],
                          [
                            0.8888888888888888,
                            "#fdca26"
                          ],
                          [
                            1,
                            "#f0f921"
                          ]
                        ],
                        "type": "heatmapgl"
                      }
                    ],
                    "histogram": [
                      {
                        "marker": {
                          "pattern": {
                            "fillmode": "overlay",
                            "size": 10,
                            "solidity": 0.2
                          }
                        },
                        "type": "histogram"
                      }
                    ],
                    "histogram2d": [
                      {
                        "colorbar": {
                          "outlinewidth": 0,
                          "ticks": ""
                        },
                        "colorscale": [
                          [
                            0,
                            "#0d0887"
                          ],
                          [
                            0.1111111111111111,
                            "#46039f"
                          ],
                          [
                            0.2222222222222222,
                            "#7201a8"
                          ],
                          [
                            0.3333333333333333,
                            "#9c179e"
                          ],
                          [
                            0.4444444444444444,
                            "#bd3786"
                          ],
                          [
                            0.5555555555555556,
                            "#d8576b"
                          ],
                          [
                            0.6666666666666666,
                            "#ed7953"
                          ],
                          [
                            0.7777777777777778,
                            "#fb9f3a"
                          ],
                          [
                            0.8888888888888888,
                            "#fdca26"
                          ],
                          [
                            1,
                            "#f0f921"
                          ]
                        ],
                        "type": "histogram2d"
                      }
                    ],
                    "histogram2dcontour": [
                      {
                        "colorbar": {
                          "outlinewidth": 0,
                          "ticks": ""
                        },
                        "colorscale": [
                          [
                            0,
                            "#0d0887"
                          ],
                          [
                            0.1111111111111111,
                            "#46039f"
                          ],
                          [
                            0.2222222222222222,
                            "#7201a8"
                          ],
                          [
                            0.3333333333333333,
                            "#9c179e"
                          ],
                          [
                            0.4444444444444444,
                            "#bd3786"
                          ],
                          [
                            0.5555555555555556,
                            "#d8576b"
                          ],
                          [
                            0.6666666666666666,
                            "#ed7953"
                          ],
                          [
                            0.7777777777777778,
                            "#fb9f3a"
                          ],
                          [
                            0.8888888888888888,
                            "#fdca26"
                          ],
                          [
                            1,
                            "#f0f921"
                          ]
                        ],
                        "type": "histogram2dcontour"
                      }
                    ],
                    "mesh3d": [
                      {
                        "colorbar": {
                          "outlinewidth": 0,
                          "ticks": ""
                        },
                        "type": "mesh3d"
                      }
                    ],
                    "parcoords": [
                      {
                        "line": {
                          "colorbar": {
                            "outlinewidth": 0,
                            "ticks": ""
                          }
                        },
                        "type": "parcoords"
                      }
                    ],
                    "pie": [
                      {
                        "automargin": true,
                        "type": "pie"
                      }
                    ],
                    "scatter": [
                      {
                        "fillpattern": {
                          "fillmode": "overlay",
                          "size": 10,
                          "solidity": 0.2
                        },
                        "type": "scatter"
                      }
                    ],
                    "scatter3d": [
                      {
                        "line": {
                          "colorbar": {
                            "outlinewidth": 0,
                            "ticks": ""
                          }
                        },
                        "marker": {
                          "colorbar": {
                            "outlinewidth": 0,
                            "ticks": ""
                          }
                        },
                        "type": "scatter3d"
                      }
                    ],
                    "scattercarpet": [
                      {
                        "marker": {
                          "colorbar": {
                            "outlinewidth": 0,
                            "ticks": ""
                          }
                        },
                        "type": "scattercarpet"
                      }
                    ],
                    "scattergeo": [
                      {
                        "marker": {
                          "colorbar": {
                            "outlinewidth": 0,
                            "ticks": ""
                          }
                        },
                        "type": "scattergeo"
                      }
                    ],
                    "scattergl": [
                      {
                        "marker": {
                          "colorbar": {
                            "outlinewidth": 0,
                            "ticks": ""
                          }
                        },
                        "type": "scattergl"
                      }
                    ],
                    "scattermapbox": [
                      {
                        "marker": {
                          "colorbar": {
                            "outlinewidth": 0,
                            "ticks": ""
                          }
                        },
                        "type": "scattermapbox"
                      }
                    ],
                    "scatterpolar": [
                      {
                        "marker": {
                          "colorbar": {
                            "outlinewidth": 0,
                            "ticks": ""
                          }
                        },
                        "type": "scatterpolar"
                      }
                    ],
                    "scatterpolargl": [
                      {
                        "marker": {
                          "colorbar": {
                            "outlinewidth": 0,
                            "ticks": ""
                          }
                        },
                        "type": "scatterpolargl"
                      }
                    ],
                    "scatterternary": [
                      {
                        "marker": {
                          "colorbar": {
                            "outlinewidth": 0,
                            "ticks": ""
                          }
                        },
                        "type": "scatterternary"
                      }
                    ],
                    "surface": [
                      {
                        "colorbar": {
                          "outlinewidth": 0,
                          "ticks": ""
                        },
                        "colorscale": [
                          [
                            0,
                            "#0d0887"
                          ],
                          [
                            0.1111111111111111,
                            "#46039f"
                          ],
                          [
                            0.2222222222222222,
                            "#7201a8"
                          ],
                          [
                            0.3333333333333333,
                            "#9c179e"
                          ],
                          [
                            0.4444444444444444,
                            "#bd3786"
                          ],
                          [
                            0.5555555555555556,
                            "#d8576b"
                          ],
                          [
                            0.6666666666666666,
                            "#ed7953"
                          ],
                          [
                            0.7777777777777778,
                            "#fb9f3a"
                          ],
                          [
                            0.8888888888888888,
                            "#fdca26"
                          ],
                          [
                            1,
                            "#f0f921"
                          ]
                        ],
                        "type": "surface"
                      }
                    ],
                    "table": [
                      {
                        "cells": {
                          "fill": {
                            "color": "#EBF0F8"
                          },
                          "line": {
                            "color": "white"
                          }
                        },
                        "header": {
                          "fill": {
                            "color": "#C8D4E3"
                          },
                          "line": {
                            "color": "white"
                          }
                        },
                        "type": "table"
                      }
                    ]
                  },
                  "layout": {
                    "annotationdefaults": {
                      "arrowcolor": "#2a3f5f",
                      "arrowhead": 0,
                      "arrowwidth": 1
                    },
                    "autotypenumbers": "strict",
                    "coloraxis": {
                      "colorbar": {
                        "outlinewidth": 0,
                        "ticks": ""
                      }
                    },
                    "colorscale": {
                      "diverging": [
                        [
                          0,
                          "#8e0152"
                        ],
                        [
                          0.1,
                          "#c51b7d"
                        ],
                        [
                          0.2,
                          "#de77ae"
                        ],
                        [
                          0.3,
                          "#f1b6da"
                        ],
                        [
                          0.4,
                          "#fde0ef"
                        ],
                        [
                          0.5,
                          "#f7f7f7"
                        ],
                        [
                          0.6,
                          "#e6f5d0"
                        ],
                        [
                          0.7,
                          "#b8e186"
                        ],
                        [
                          0.8,
                          "#7fbc41"
                        ],
                        [
                          0.9,
                          "#4d9221"
                        ],
                        [
                          1,
                          "#276419"
                        ]
                      ],
                      "sequential": [
                        [
                          0,
                          "#0d0887"
                        ],
                        [
                          0.1111111111111111,
                          "#46039f"
                        ],
                        [
                          0.2222222222222222,
                          "#7201a8"
                        ],
                        [
                          0.3333333333333333,
                          "#9c179e"
                        ],
                        [
                          0.4444444444444444,
                          "#bd3786"
                        ],
                        [
                          0.5555555555555556,
                          "#d8576b"
                        ],
                        [
                          0.6666666666666666,
                          "#ed7953"
                        ],
                        [
                          0.7777777777777778,
                          "#fb9f3a"
                        ],
                        [
                          0.8888888888888888,
                          "#fdca26"
                        ],
                        [
                          1,
                          "#f0f921"
                        ]
                      ],
                      "sequentialminus": [
                        [
                          0,
                          "#0d0887"
                        ],
                        [
                          0.1111111111111111,
                          "#46039f"
                        ],
                        [
                          0.2222222222222222,
                          "#7201a8"
                        ],
                        [
                          0.3333333333333333,
                          "#9c179e"
                        ],
                        [
                          0.4444444444444444,
                          "#bd3786"
                        ],
                        [
                          0.5555555555555556,
                          "#d8576b"
                        ],
                        [
                          0.6666666666666666,
                          "#ed7953"
                        ],
                        [
                          0.7777777777777778,
                          "#fb9f3a"
                        ],
                        [
                          0.8888888888888888,
                          "#fdca26"
                        ],
                        [
                          1,
                          "#f0f921"
                        ]
                      ]
                    },
                    "colorway": [
                      "#636efa",
                      "#EF553B",
                      "#00cc96",
                      "#ab63fa",
                      "#FFA15A",
                      "#19d3f3",
                      "#FF6692",
                      "#B6E880",
                      "#FF97FF",
                      "#FECB52"
                    ],
                    "font": {
                      "color": "#2a3f5f"
                    },
                    "geo": {
                      "bgcolor": "white",
                      "lakecolor": "white",
                      "landcolor": "#E5ECF6",
                      "showlakes": true,
                      "showland": true,
                      "subunitcolor": "white"
                    },
                    "hoverlabel": {
                      "align": "left"
                    },
                    "hovermode": "closest",
                    "mapbox": {
                      "style": "light"
                    },
                    "paper_bgcolor": "white",
                    "plot_bgcolor": "#E5ECF6",
                    "polar": {
                      "angularaxis": {
                        "gridcolor": "white",
                        "linecolor": "white",
                        "ticks": ""
                      },
                      "bgcolor": "#E5ECF6",
                      "radialaxis": {
                        "gridcolor": "white",
                        "linecolor": "white",
                        "ticks": ""
                      }
                    },
                    "scene": {
                      "xaxis": {
                        "backgroundcolor": "#E5ECF6",
                        "gridcolor": "white",
                        "gridwidth": 2,
                        "linecolor": "white",
                        "showbackground": true,
                        "ticks": "",
                        "zerolinecolor": "white"
                      },
                      "yaxis": {
                        "backgroundcolor": "#E5ECF6",
                        "gridcolor": "white",
                        "gridwidth": 2,
                        "linecolor": "white",
                        "showbackground": true,
                        "ticks": "",
                        "zerolinecolor": "white"
                      },
                      "zaxis": {
                        "backgroundcolor": "#E5ECF6",
                        "gridcolor": "white",
                        "gridwidth": 2,
                        "linecolor": "white",
                        "showbackground": true,
                        "ticks": "",
                        "zerolinecolor": "white"
                      }
                    },
                    "shapedefaults": {
                      "line": {
                        "color": "#2a3f5f"
                      }
                    },
                    "ternary": {
                      "aaxis": {
                        "gridcolor": "white",
                        "linecolor": "white",
                        "ticks": ""
                      },
                      "baxis": {
                        "gridcolor": "white",
                        "linecolor": "white",
                        "ticks": ""
                      },
                      "bgcolor": "#E5ECF6",
                      "caxis": {
                        "gridcolor": "white",
                        "linecolor": "white",
                        "ticks": ""
                      }
                    },
                    "title": {
                      "x": 0.05
                    },
                    "xaxis": {
                      "automargin": true,
                      "gridcolor": "white",
                      "linecolor": "white",
                      "ticks": "",
                      "title": {
                        "standoff": 15
                      },
                      "zerolinecolor": "white",
                      "zerolinewidth": 2
                    },
                    "yaxis": {
                      "automargin": true,
                      "gridcolor": "white",
                      "linecolor": "white",
                      "ticks": "",
                      "title": {
                        "standoff": 15
                      },
                      "zerolinecolor": "white",
                      "zerolinewidth": 2
                    }
                  }
                },
                "title": {
                  "text": "DSR"
                },
                "xaxis": {
                  "anchor": "y",
                  "categoryarray": [
                    "Walk-Forward",
                    "K-Fold",
                    "Purged K-Fold",
                    "Combinatorial Purged"
                  ],
                  "categoryorder": "array",
                  "domain": [
                    0,
                    1
                  ],
                  "title": {
                    "text": "CV"
                  }
                },
                "yaxis": {
                  "anchor": "x",
                  "domain": [
                    0,
                    1
                  ],
                  "title": {
                    "text": "Data"
                  }
                }
              }
            }
          },
          "metadata": {},
          "output_type": "display_data"
        }
      ],
      "source": [
        "import plotly.express as px\n",
        "pbo_ = []\n",
        "for cv in pbo.columns:\n",
        "    data = pbo[cv].to_frame('Data')\n",
        "    data['CV'] = cv\n",
        "    data['Color'] = data['Data'].median()\n",
        "    pbo_.append(data)\n",
        "\n",
        "pbo_ = pd.concat(pbo_)    \n",
        "px.box(pbo_, x='CV', y='Data', color='CV', notched=True, \\\n",
        "       title='PBO').update_layout(showlegend=False).show()\n",
        "\n",
        "deflated_sr_ = []\n",
        "for cv in deflated_sr.columns:\n",
        "    data = deflated_sr[cv].to_frame('Data')\n",
        "    data['CV'] = cv\n",
        "    data['Color'] = data['Data'].median()\n",
        "    deflated_sr_.append(data)\n",
        "\n",
        "deflated_sr_ = pd.concat(deflated_sr_)    \n",
        "px.box(deflated_sr_, x='CV', y='Data', color='CV', notched=True, \\\n",
        "       title='DSR').update_layout(showlegend=False).show()"
      ]
    },
    {
      "cell_type": "code",
      "execution_count": 110,
      "metadata": {},
      "outputs": [
        {
          "data": {
            "application/vnd.plotly.v1+json": {
              "config": {
                "plotlyServerURL": "https://plot.ly"
              },
              "data": [
                {
                  "alignmentgroup": "True",
                  "hovertemplate": "variable=%{x}<br>value=%{y}<extra></extra>",
                  "legendgroup": "",
                  "marker": {
                    "color": "#636efa"
                  },
                  "name": "",
                  "notched": false,
                  "offsetgroup": "",
                  "orientation": "v",
                  "showlegend": false,
                  "type": "box",
                  "x": [
                    "Walk-Forward",
                    "Walk-Forward",
                    "Walk-Forward",
                    "Walk-Forward",
                    "Walk-Forward",
                    "Walk-Forward",
                    "Walk-Forward",
                    "Walk-Forward",
                    "Walk-Forward",
                    "Walk-Forward",
                    "Walk-Forward",
                    "Walk-Forward",
                    "Walk-Forward",
                    "Walk-Forward",
                    "Walk-Forward",
                    "Walk-Forward",
                    "Walk-Forward",
                    "Walk-Forward",
                    "Walk-Forward",
                    "Walk-Forward",
                    "Walk-Forward",
                    "Walk-Forward",
                    "Walk-Forward",
                    "Walk-Forward",
                    "Walk-Forward",
                    "Walk-Forward",
                    "Walk-Forward",
                    "Walk-Forward",
                    "Walk-Forward",
                    "Walk-Forward",
                    "K-Fold",
                    "K-Fold",
                    "K-Fold",
                    "K-Fold",
                    "K-Fold",
                    "K-Fold",
                    "K-Fold",
                    "K-Fold",
                    "K-Fold",
                    "K-Fold",
                    "K-Fold",
                    "K-Fold",
                    "K-Fold",
                    "K-Fold",
                    "K-Fold",
                    "K-Fold",
                    "K-Fold",
                    "K-Fold",
                    "K-Fold",
                    "K-Fold",
                    "K-Fold",
                    "K-Fold",
                    "K-Fold",
                    "K-Fold",
                    "K-Fold",
                    "K-Fold",
                    "K-Fold",
                    "K-Fold",
                    "K-Fold",
                    "K-Fold",
                    "Purged K-Fold",
                    "Purged K-Fold",
                    "Purged K-Fold",
                    "Purged K-Fold",
                    "Purged K-Fold",
                    "Purged K-Fold",
                    "Purged K-Fold",
                    "Purged K-Fold",
                    "Purged K-Fold",
                    "Purged K-Fold",
                    "Purged K-Fold",
                    "Purged K-Fold",
                    "Purged K-Fold",
                    "Purged K-Fold",
                    "Purged K-Fold",
                    "Purged K-Fold",
                    "Purged K-Fold",
                    "Purged K-Fold",
                    "Purged K-Fold",
                    "Purged K-Fold",
                    "Purged K-Fold",
                    "Purged K-Fold",
                    "Purged K-Fold",
                    "Purged K-Fold",
                    "Purged K-Fold",
                    "Purged K-Fold",
                    "Purged K-Fold",
                    "Purged K-Fold",
                    "Purged K-Fold",
                    "Purged K-Fold",
                    "Combinatorial Purged",
                    "Combinatorial Purged",
                    "Combinatorial Purged",
                    "Combinatorial Purged",
                    "Combinatorial Purged",
                    "Combinatorial Purged",
                    "Combinatorial Purged",
                    "Combinatorial Purged",
                    "Combinatorial Purged",
                    "Combinatorial Purged",
                    "Combinatorial Purged",
                    "Combinatorial Purged",
                    "Combinatorial Purged",
                    "Combinatorial Purged",
                    "Combinatorial Purged",
                    "Combinatorial Purged",
                    "Combinatorial Purged",
                    "Combinatorial Purged",
                    "Combinatorial Purged",
                    "Combinatorial Purged",
                    "Combinatorial Purged",
                    "Combinatorial Purged",
                    "Combinatorial Purged",
                    "Combinatorial Purged",
                    "Combinatorial Purged",
                    "Combinatorial Purged",
                    "Combinatorial Purged",
                    "Combinatorial Purged",
                    "Combinatorial Purged",
                    "Combinatorial Purged"
                  ],
                  "x0": " ",
                  "xaxis": "x",
                  "y": [
                    0.6136752136752137,
                    0.7536907536907537,
                    0.1961149961149961,
                    0.5247086247086247,
                    0.3181818181818182,
                    0.15112665112665113,
                    0.7835275835275836,
                    0.8357420357420358,
                    0.6595182595182595,
                    0.7376845376845377,
                    0.5076146076146076,
                    0.30473970473970474,
                    0.6844599844599845,
                    0.6958818958818959,
                    0.9030303030303031,
                    0.631002331002331,
                    0.468997668997669,
                    0.24607614607614609,
                    0.5060606060606061,
                    0.797979797979798,
                    0.6264957264957265,
                    0.3077700077700078,
                    0.8923076923076924,
                    0.21763791763791765,
                    0.32494172494172496,
                    0.4019425019425019,
                    0.2588966588966589,
                    0.13535353535353536,
                    0.5891996891996892,
                    0.4613830613830614,
                    0.6966588966588967,
                    0.5714840714840714,
                    0.03108003108003108,
                    0.7268065268065268,
                    0.517948717948718,
                    0.4722610722610723,
                    0.6141414141414141,
                    0.29184149184149183,
                    0.7413364413364414,
                    0.6121989121989122,
                    0.3502719502719503,
                    0.304972804972805,
                    0.3940947940947941,
                    0.23644133644133644,
                    0.533022533022533,
                    0.3710955710955711,
                    0.6584304584304584,
                    0.33115773115773117,
                    0.44926184926184926,
                    0.402020202020202,
                    0.29347319347319345,
                    0.1292152292152292,
                    0.3605283605283605,
                    0.10683760683760683,
                    0.24654234654234655,
                    0.39044289044289043,
                    0.6501165501165501,
                    0.2365967365967366,
                    0.06604506604506605,
                    0.4986013986013986,
                    0.27397047397047397,
                    0.7626262626262627,
                    0.1156954156954157,
                    0.5122766122766123,
                    0.2664335664335664,
                    0.4309246309246309,
                    0.5742812742812743,
                    0.3508935508935509,
                    0.6780885780885781,
                    0.30637140637140636,
                    0.2759129759129759,
                    0.22952602952602952,
                    0.4825174825174825,
                    0.39634809634809637,
                    0.5274281274281274,
                    0.34094794094794095,
                    0.38585858585858585,
                    0.44529914529914527,
                    0.4291375291375291,
                    0.42556332556332555,
                    0.7480963480963481,
                    0.12672882672882674,
                    0.5047397047397048,
                    0.29292929292929293,
                    0.3304584304584305,
                    0.4608391608391608,
                    0.43954933954933956,
                    0.37505827505827505,
                    0.11841491841491841,
                    0.322999222999223,
                    0.5425019425019425,
                    0.575058275058275,
                    0.08585858585858586,
                    0.6445998445998447,
                    0.17047397047397048,
                    0.37948717948717947,
                    0.6483294483294483,
                    0.7778554778554778,
                    0.6515928515928516,
                    0.3867132867132867,
                    0.3878787878787879,
                    0.21468531468531468,
                    0.29324009324009326,
                    0.34226884226884224,
                    0.23822843822843823,
                    0.37163947163947164,
                    0.16464646464646465,
                    0.23815073815073814,
                    0.7642579642579642,
                    0.41996891996892,
                    0.5493395493395493,
                    0.19518259518259518,
                    0.22564102564102564,
                    0.3151515151515151,
                    0.20007770007770007,
                    0.049883449883449886,
                    0.6358974358974359,
                    0.18873348873348875,
                    0.04553224553224553,
                    0.5417249417249417
                  ],
                  "y0": " ",
                  "yaxis": "y"
                }
              ],
              "layout": {
                "boxmode": "group",
                "legend": {
                  "tracegroupgap": 0
                },
                "margin": {
                  "t": 60
                },
                "template": {
                  "data": {
                    "bar": [
                      {
                        "error_x": {
                          "color": "#2a3f5f"
                        },
                        "error_y": {
                          "color": "#2a3f5f"
                        },
                        "marker": {
                          "line": {
                            "color": "#E5ECF6",
                            "width": 0.5
                          },
                          "pattern": {
                            "fillmode": "overlay",
                            "size": 10,
                            "solidity": 0.2
                          }
                        },
                        "type": "bar"
                      }
                    ],
                    "barpolar": [
                      {
                        "marker": {
                          "line": {
                            "color": "#E5ECF6",
                            "width": 0.5
                          },
                          "pattern": {
                            "fillmode": "overlay",
                            "size": 10,
                            "solidity": 0.2
                          }
                        },
                        "type": "barpolar"
                      }
                    ],
                    "carpet": [
                      {
                        "aaxis": {
                          "endlinecolor": "#2a3f5f",
                          "gridcolor": "white",
                          "linecolor": "white",
                          "minorgridcolor": "white",
                          "startlinecolor": "#2a3f5f"
                        },
                        "baxis": {
                          "endlinecolor": "#2a3f5f",
                          "gridcolor": "white",
                          "linecolor": "white",
                          "minorgridcolor": "white",
                          "startlinecolor": "#2a3f5f"
                        },
                        "type": "carpet"
                      }
                    ],
                    "choropleth": [
                      {
                        "colorbar": {
                          "outlinewidth": 0,
                          "ticks": ""
                        },
                        "type": "choropleth"
                      }
                    ],
                    "contour": [
                      {
                        "colorbar": {
                          "outlinewidth": 0,
                          "ticks": ""
                        },
                        "colorscale": [
                          [
                            0,
                            "#0d0887"
                          ],
                          [
                            0.1111111111111111,
                            "#46039f"
                          ],
                          [
                            0.2222222222222222,
                            "#7201a8"
                          ],
                          [
                            0.3333333333333333,
                            "#9c179e"
                          ],
                          [
                            0.4444444444444444,
                            "#bd3786"
                          ],
                          [
                            0.5555555555555556,
                            "#d8576b"
                          ],
                          [
                            0.6666666666666666,
                            "#ed7953"
                          ],
                          [
                            0.7777777777777778,
                            "#fb9f3a"
                          ],
                          [
                            0.8888888888888888,
                            "#fdca26"
                          ],
                          [
                            1,
                            "#f0f921"
                          ]
                        ],
                        "type": "contour"
                      }
                    ],
                    "contourcarpet": [
                      {
                        "colorbar": {
                          "outlinewidth": 0,
                          "ticks": ""
                        },
                        "type": "contourcarpet"
                      }
                    ],
                    "heatmap": [
                      {
                        "colorbar": {
                          "outlinewidth": 0,
                          "ticks": ""
                        },
                        "colorscale": [
                          [
                            0,
                            "#0d0887"
                          ],
                          [
                            0.1111111111111111,
                            "#46039f"
                          ],
                          [
                            0.2222222222222222,
                            "#7201a8"
                          ],
                          [
                            0.3333333333333333,
                            "#9c179e"
                          ],
                          [
                            0.4444444444444444,
                            "#bd3786"
                          ],
                          [
                            0.5555555555555556,
                            "#d8576b"
                          ],
                          [
                            0.6666666666666666,
                            "#ed7953"
                          ],
                          [
                            0.7777777777777778,
                            "#fb9f3a"
                          ],
                          [
                            0.8888888888888888,
                            "#fdca26"
                          ],
                          [
                            1,
                            "#f0f921"
                          ]
                        ],
                        "type": "heatmap"
                      }
                    ],
                    "heatmapgl": [
                      {
                        "colorbar": {
                          "outlinewidth": 0,
                          "ticks": ""
                        },
                        "colorscale": [
                          [
                            0,
                            "#0d0887"
                          ],
                          [
                            0.1111111111111111,
                            "#46039f"
                          ],
                          [
                            0.2222222222222222,
                            "#7201a8"
                          ],
                          [
                            0.3333333333333333,
                            "#9c179e"
                          ],
                          [
                            0.4444444444444444,
                            "#bd3786"
                          ],
                          [
                            0.5555555555555556,
                            "#d8576b"
                          ],
                          [
                            0.6666666666666666,
                            "#ed7953"
                          ],
                          [
                            0.7777777777777778,
                            "#fb9f3a"
                          ],
                          [
                            0.8888888888888888,
                            "#fdca26"
                          ],
                          [
                            1,
                            "#f0f921"
                          ]
                        ],
                        "type": "heatmapgl"
                      }
                    ],
                    "histogram": [
                      {
                        "marker": {
                          "pattern": {
                            "fillmode": "overlay",
                            "size": 10,
                            "solidity": 0.2
                          }
                        },
                        "type": "histogram"
                      }
                    ],
                    "histogram2d": [
                      {
                        "colorbar": {
                          "outlinewidth": 0,
                          "ticks": ""
                        },
                        "colorscale": [
                          [
                            0,
                            "#0d0887"
                          ],
                          [
                            0.1111111111111111,
                            "#46039f"
                          ],
                          [
                            0.2222222222222222,
                            "#7201a8"
                          ],
                          [
                            0.3333333333333333,
                            "#9c179e"
                          ],
                          [
                            0.4444444444444444,
                            "#bd3786"
                          ],
                          [
                            0.5555555555555556,
                            "#d8576b"
                          ],
                          [
                            0.6666666666666666,
                            "#ed7953"
                          ],
                          [
                            0.7777777777777778,
                            "#fb9f3a"
                          ],
                          [
                            0.8888888888888888,
                            "#fdca26"
                          ],
                          [
                            1,
                            "#f0f921"
                          ]
                        ],
                        "type": "histogram2d"
                      }
                    ],
                    "histogram2dcontour": [
                      {
                        "colorbar": {
                          "outlinewidth": 0,
                          "ticks": ""
                        },
                        "colorscale": [
                          [
                            0,
                            "#0d0887"
                          ],
                          [
                            0.1111111111111111,
                            "#46039f"
                          ],
                          [
                            0.2222222222222222,
                            "#7201a8"
                          ],
                          [
                            0.3333333333333333,
                            "#9c179e"
                          ],
                          [
                            0.4444444444444444,
                            "#bd3786"
                          ],
                          [
                            0.5555555555555556,
                            "#d8576b"
                          ],
                          [
                            0.6666666666666666,
                            "#ed7953"
                          ],
                          [
                            0.7777777777777778,
                            "#fb9f3a"
                          ],
                          [
                            0.8888888888888888,
                            "#fdca26"
                          ],
                          [
                            1,
                            "#f0f921"
                          ]
                        ],
                        "type": "histogram2dcontour"
                      }
                    ],
                    "mesh3d": [
                      {
                        "colorbar": {
                          "outlinewidth": 0,
                          "ticks": ""
                        },
                        "type": "mesh3d"
                      }
                    ],
                    "parcoords": [
                      {
                        "line": {
                          "colorbar": {
                            "outlinewidth": 0,
                            "ticks": ""
                          }
                        },
                        "type": "parcoords"
                      }
                    ],
                    "pie": [
                      {
                        "automargin": true,
                        "type": "pie"
                      }
                    ],
                    "scatter": [
                      {
                        "fillpattern": {
                          "fillmode": "overlay",
                          "size": 10,
                          "solidity": 0.2
                        },
                        "type": "scatter"
                      }
                    ],
                    "scatter3d": [
                      {
                        "line": {
                          "colorbar": {
                            "outlinewidth": 0,
                            "ticks": ""
                          }
                        },
                        "marker": {
                          "colorbar": {
                            "outlinewidth": 0,
                            "ticks": ""
                          }
                        },
                        "type": "scatter3d"
                      }
                    ],
                    "scattercarpet": [
                      {
                        "marker": {
                          "colorbar": {
                            "outlinewidth": 0,
                            "ticks": ""
                          }
                        },
                        "type": "scattercarpet"
                      }
                    ],
                    "scattergeo": [
                      {
                        "marker": {
                          "colorbar": {
                            "outlinewidth": 0,
                            "ticks": ""
                          }
                        },
                        "type": "scattergeo"
                      }
                    ],
                    "scattergl": [
                      {
                        "marker": {
                          "colorbar": {
                            "outlinewidth": 0,
                            "ticks": ""
                          }
                        },
                        "type": "scattergl"
                      }
                    ],
                    "scattermapbox": [
                      {
                        "marker": {
                          "colorbar": {
                            "outlinewidth": 0,
                            "ticks": ""
                          }
                        },
                        "type": "scattermapbox"
                      }
                    ],
                    "scatterpolar": [
                      {
                        "marker": {
                          "colorbar": {
                            "outlinewidth": 0,
                            "ticks": ""
                          }
                        },
                        "type": "scatterpolar"
                      }
                    ],
                    "scatterpolargl": [
                      {
                        "marker": {
                          "colorbar": {
                            "outlinewidth": 0,
                            "ticks": ""
                          }
                        },
                        "type": "scatterpolargl"
                      }
                    ],
                    "scatterternary": [
                      {
                        "marker": {
                          "colorbar": {
                            "outlinewidth": 0,
                            "ticks": ""
                          }
                        },
                        "type": "scatterternary"
                      }
                    ],
                    "surface": [
                      {
                        "colorbar": {
                          "outlinewidth": 0,
                          "ticks": ""
                        },
                        "colorscale": [
                          [
                            0,
                            "#0d0887"
                          ],
                          [
                            0.1111111111111111,
                            "#46039f"
                          ],
                          [
                            0.2222222222222222,
                            "#7201a8"
                          ],
                          [
                            0.3333333333333333,
                            "#9c179e"
                          ],
                          [
                            0.4444444444444444,
                            "#bd3786"
                          ],
                          [
                            0.5555555555555556,
                            "#d8576b"
                          ],
                          [
                            0.6666666666666666,
                            "#ed7953"
                          ],
                          [
                            0.7777777777777778,
                            "#fb9f3a"
                          ],
                          [
                            0.8888888888888888,
                            "#fdca26"
                          ],
                          [
                            1,
                            "#f0f921"
                          ]
                        ],
                        "type": "surface"
                      }
                    ],
                    "table": [
                      {
                        "cells": {
                          "fill": {
                            "color": "#EBF0F8"
                          },
                          "line": {
                            "color": "white"
                          }
                        },
                        "header": {
                          "fill": {
                            "color": "#C8D4E3"
                          },
                          "line": {
                            "color": "white"
                          }
                        },
                        "type": "table"
                      }
                    ]
                  },
                  "layout": {
                    "annotationdefaults": {
                      "arrowcolor": "#2a3f5f",
                      "arrowhead": 0,
                      "arrowwidth": 1
                    },
                    "autotypenumbers": "strict",
                    "coloraxis": {
                      "colorbar": {
                        "outlinewidth": 0,
                        "ticks": ""
                      }
                    },
                    "colorscale": {
                      "diverging": [
                        [
                          0,
                          "#8e0152"
                        ],
                        [
                          0.1,
                          "#c51b7d"
                        ],
                        [
                          0.2,
                          "#de77ae"
                        ],
                        [
                          0.3,
                          "#f1b6da"
                        ],
                        [
                          0.4,
                          "#fde0ef"
                        ],
                        [
                          0.5,
                          "#f7f7f7"
                        ],
                        [
                          0.6,
                          "#e6f5d0"
                        ],
                        [
                          0.7,
                          "#b8e186"
                        ],
                        [
                          0.8,
                          "#7fbc41"
                        ],
                        [
                          0.9,
                          "#4d9221"
                        ],
                        [
                          1,
                          "#276419"
                        ]
                      ],
                      "sequential": [
                        [
                          0,
                          "#0d0887"
                        ],
                        [
                          0.1111111111111111,
                          "#46039f"
                        ],
                        [
                          0.2222222222222222,
                          "#7201a8"
                        ],
                        [
                          0.3333333333333333,
                          "#9c179e"
                        ],
                        [
                          0.4444444444444444,
                          "#bd3786"
                        ],
                        [
                          0.5555555555555556,
                          "#d8576b"
                        ],
                        [
                          0.6666666666666666,
                          "#ed7953"
                        ],
                        [
                          0.7777777777777778,
                          "#fb9f3a"
                        ],
                        [
                          0.8888888888888888,
                          "#fdca26"
                        ],
                        [
                          1,
                          "#f0f921"
                        ]
                      ],
                      "sequentialminus": [
                        [
                          0,
                          "#0d0887"
                        ],
                        [
                          0.1111111111111111,
                          "#46039f"
                        ],
                        [
                          0.2222222222222222,
                          "#7201a8"
                        ],
                        [
                          0.3333333333333333,
                          "#9c179e"
                        ],
                        [
                          0.4444444444444444,
                          "#bd3786"
                        ],
                        [
                          0.5555555555555556,
                          "#d8576b"
                        ],
                        [
                          0.6666666666666666,
                          "#ed7953"
                        ],
                        [
                          0.7777777777777778,
                          "#fb9f3a"
                        ],
                        [
                          0.8888888888888888,
                          "#fdca26"
                        ],
                        [
                          1,
                          "#f0f921"
                        ]
                      ]
                    },
                    "colorway": [
                      "#636efa",
                      "#EF553B",
                      "#00cc96",
                      "#ab63fa",
                      "#FFA15A",
                      "#19d3f3",
                      "#FF6692",
                      "#B6E880",
                      "#FF97FF",
                      "#FECB52"
                    ],
                    "font": {
                      "color": "#2a3f5f"
                    },
                    "geo": {
                      "bgcolor": "white",
                      "lakecolor": "white",
                      "landcolor": "#E5ECF6",
                      "showlakes": true,
                      "showland": true,
                      "subunitcolor": "white"
                    },
                    "hoverlabel": {
                      "align": "left"
                    },
                    "hovermode": "closest",
                    "mapbox": {
                      "style": "light"
                    },
                    "paper_bgcolor": "white",
                    "plot_bgcolor": "#E5ECF6",
                    "polar": {
                      "angularaxis": {
                        "gridcolor": "white",
                        "linecolor": "white",
                        "ticks": ""
                      },
                      "bgcolor": "#E5ECF6",
                      "radialaxis": {
                        "gridcolor": "white",
                        "linecolor": "white",
                        "ticks": ""
                      }
                    },
                    "scene": {
                      "xaxis": {
                        "backgroundcolor": "#E5ECF6",
                        "gridcolor": "white",
                        "gridwidth": 2,
                        "linecolor": "white",
                        "showbackground": true,
                        "ticks": "",
                        "zerolinecolor": "white"
                      },
                      "yaxis": {
                        "backgroundcolor": "#E5ECF6",
                        "gridcolor": "white",
                        "gridwidth": 2,
                        "linecolor": "white",
                        "showbackground": true,
                        "ticks": "",
                        "zerolinecolor": "white"
                      },
                      "zaxis": {
                        "backgroundcolor": "#E5ECF6",
                        "gridcolor": "white",
                        "gridwidth": 2,
                        "linecolor": "white",
                        "showbackground": true,
                        "ticks": "",
                        "zerolinecolor": "white"
                      }
                    },
                    "shapedefaults": {
                      "line": {
                        "color": "#2a3f5f"
                      }
                    },
                    "ternary": {
                      "aaxis": {
                        "gridcolor": "white",
                        "linecolor": "white",
                        "ticks": ""
                      },
                      "baxis": {
                        "gridcolor": "white",
                        "linecolor": "white",
                        "ticks": ""
                      },
                      "bgcolor": "#E5ECF6",
                      "caxis": {
                        "gridcolor": "white",
                        "linecolor": "white",
                        "ticks": ""
                      }
                    },
                    "title": {
                      "x": 0.05
                    },
                    "xaxis": {
                      "automargin": true,
                      "gridcolor": "white",
                      "linecolor": "white",
                      "ticks": "",
                      "title": {
                        "standoff": 15
                      },
                      "zerolinecolor": "white",
                      "zerolinewidth": 2
                    },
                    "yaxis": {
                      "automargin": true,
                      "gridcolor": "white",
                      "linecolor": "white",
                      "ticks": "",
                      "title": {
                        "standoff": 15
                      },
                      "zerolinecolor": "white",
                      "zerolinewidth": 2
                    }
                  }
                },
                "xaxis": {
                  "anchor": "y",
                  "domain": [
                    0,
                    1
                  ],
                  "title": {
                    "text": "variable"
                  }
                },
                "yaxis": {
                  "anchor": "x",
                  "domain": [
                    0,
                    1
                  ],
                  "title": {
                    "text": "value"
                  }
                }
              }
            }
          },
          "metadata": {},
          "output_type": "display_data"
        },
        {
          "data": {
            "application/vnd.plotly.v1+json": {
              "config": {
                "plotlyServerURL": "https://plot.ly"
              },
              "data": [
                {
                  "alignmentgroup": "True",
                  "hovertemplate": "variable=%{x}<br>value=%{y}<extra></extra>",
                  "legendgroup": "",
                  "marker": {
                    "color": "#636efa"
                  },
                  "name": "",
                  "notched": false,
                  "offsetgroup": "",
                  "orientation": "v",
                  "showlegend": false,
                  "type": "box",
                  "x": [
                    "Walk-Forward",
                    "Walk-Forward",
                    "Walk-Forward",
                    "Walk-Forward",
                    "Walk-Forward",
                    "Walk-Forward",
                    "Walk-Forward",
                    "Walk-Forward",
                    "Walk-Forward",
                    "Walk-Forward",
                    "Walk-Forward",
                    "Walk-Forward",
                    "Walk-Forward",
                    "Walk-Forward",
                    "Walk-Forward",
                    "Walk-Forward",
                    "Walk-Forward",
                    "Walk-Forward",
                    "Walk-Forward",
                    "Walk-Forward",
                    "Walk-Forward",
                    "Walk-Forward",
                    "Walk-Forward",
                    "Walk-Forward",
                    "Walk-Forward",
                    "Walk-Forward",
                    "Walk-Forward",
                    "Walk-Forward",
                    "Walk-Forward",
                    "Walk-Forward",
                    "K-Fold",
                    "K-Fold",
                    "K-Fold",
                    "K-Fold",
                    "K-Fold",
                    "K-Fold",
                    "K-Fold",
                    "K-Fold",
                    "K-Fold",
                    "K-Fold",
                    "K-Fold",
                    "K-Fold",
                    "K-Fold",
                    "K-Fold",
                    "K-Fold",
                    "K-Fold",
                    "K-Fold",
                    "K-Fold",
                    "K-Fold",
                    "K-Fold",
                    "K-Fold",
                    "K-Fold",
                    "K-Fold",
                    "K-Fold",
                    "K-Fold",
                    "K-Fold",
                    "K-Fold",
                    "K-Fold",
                    "K-Fold",
                    "K-Fold",
                    "Purged K-Fold",
                    "Purged K-Fold",
                    "Purged K-Fold",
                    "Purged K-Fold",
                    "Purged K-Fold",
                    "Purged K-Fold",
                    "Purged K-Fold",
                    "Purged K-Fold",
                    "Purged K-Fold",
                    "Purged K-Fold",
                    "Purged K-Fold",
                    "Purged K-Fold",
                    "Purged K-Fold",
                    "Purged K-Fold",
                    "Purged K-Fold",
                    "Purged K-Fold",
                    "Purged K-Fold",
                    "Purged K-Fold",
                    "Purged K-Fold",
                    "Purged K-Fold",
                    "Purged K-Fold",
                    "Purged K-Fold",
                    "Purged K-Fold",
                    "Purged K-Fold",
                    "Purged K-Fold",
                    "Purged K-Fold",
                    "Purged K-Fold",
                    "Purged K-Fold",
                    "Purged K-Fold",
                    "Purged K-Fold",
                    "Combinatorial Purged",
                    "Combinatorial Purged",
                    "Combinatorial Purged",
                    "Combinatorial Purged",
                    "Combinatorial Purged",
                    "Combinatorial Purged",
                    "Combinatorial Purged",
                    "Combinatorial Purged",
                    "Combinatorial Purged",
                    "Combinatorial Purged",
                    "Combinatorial Purged",
                    "Combinatorial Purged",
                    "Combinatorial Purged",
                    "Combinatorial Purged",
                    "Combinatorial Purged",
                    "Combinatorial Purged",
                    "Combinatorial Purged",
                    "Combinatorial Purged",
                    "Combinatorial Purged",
                    "Combinatorial Purged",
                    "Combinatorial Purged",
                    "Combinatorial Purged",
                    "Combinatorial Purged",
                    "Combinatorial Purged",
                    "Combinatorial Purged",
                    "Combinatorial Purged",
                    "Combinatorial Purged",
                    "Combinatorial Purged",
                    "Combinatorial Purged",
                    "Combinatorial Purged"
                  ],
                  "x0": " ",
                  "xaxis": "x",
                  "y": [
                    -1.528927598641696,
                    0.9701351209465774,
                    0.7765146804136647,
                    -0.5288943276130242,
                    -1.1605389448970176,
                    0.5980060502023515,
                    0.35305885719385766,
                    1.1625607107702751,
                    1.0396688093649538,
                    0.30442056562857134,
                    -0.7570875430775204,
                    0.10314379102176933,
                    1.470731865499721,
                    -0.6374885471589784,
                    0.1846192426040526,
                    0.38577959129069855,
                    0.908885183142626,
                    0.21545470876210995,
                    0.5894810080378624,
                    -0.37481238016167917,
                    0.08706282434764477,
                    -0.2986765458016334,
                    0.22048532779066238,
                    -0.2414697035521333,
                    -0.05237694804280961,
                    0.6883464107242651,
                    1.4101351976963497,
                    1.142976994685369,
                    -0.9602379564329739,
                    0.30140459792594143,
                    -0.6723715783150874,
                    1.2547474562910221,
                    2.3669247957781656,
                    -0.27165956108756284,
                    -0.8008721870740326,
                    0.9036686204394664,
                    0.33040085512756984,
                    1.0977572980713373,
                    0.5311794438278968,
                    1.4073963880439437,
                    -0.09025589170533253,
                    0.5211792793372679,
                    1.764160883525385,
                    0.15941177965661207,
                    0.5437068745535591,
                    0.6321650095408788,
                    0.5831611644464462,
                    0.4118924288551862,
                    0.34853510596685583,
                    0.49817906520161404,
                    -0.4380483709986545,
                    -0.4828271880412612,
                    0.3721273930969234,
                    1.0281775392035521,
                    0.264698677571049,
                    1.2053186004870524,
                    2.620980343180227,
                    1.0032615911173592,
                    -0.7066502620378378,
                    0.3444969882842084,
                    0.04493079986641018,
                    0.9246728024048163,
                    2.2397187871551427,
                    -0.019185749693299285,
                    -0.9422145796530437,
                    0.7348432911689219,
                    0.5028010229046048,
                    1.0852142164590202,
                    0.8069501103783493,
                    0.6435116257487702,
                    -0.06270122365761158,
                    0.32644315115574507,
                    1.8377422992538872,
                    0.5908391550110026,
                    0.35567331573728633,
                    0.41069099119302394,
                    0.8934039004748928,
                    0.6384181008377185,
                    0.9350397531195783,
                    1.1246963157794359,
                    -0.1390111236904903,
                    -0.08962948122612148,
                    0.023419918416039156,
                    0.14227954702707965,
                    0.4678855306813537,
                    0.7147210290627336,
                    2.620067052659556,
                    1.1598203774739122,
                    -0.5561484679988358,
                    0.7358824020425553,
                    -0.8159355453735784,
                    1.231421128989011,
                    2.1267969567971714,
                    -0.34829257337986486,
                    -1.3541954559777778,
                    1.2013406283880026,
                    0.687833312110434,
                    0.7864974131376323,
                    1.144149339906365,
                    0.9630662942180607,
                    0.09395942955630887,
                    -0.05884396486950352,
                    2.024931478908411,
                    0.39256378196826136,
                    0.23992511589305446,
                    0.21176023574980493,
                    0.9059129618923474,
                    0.07810760420596978,
                    0.4038095410861785,
                    0.9104884976535048,
                    0.06630078242027651,
                    -0.183216716280859,
                    -0.040064406779305325,
                    -0.027936130244397506,
                    0.6364697417123614,
                    1.1554956829803127,
                    3.3909145415605946,
                    0.9835491847913028,
                    -0.9965931674579751,
                    0.7767710570591584
                  ],
                  "y0": " ",
                  "yaxis": "y"
                }
              ],
              "layout": {
                "boxmode": "group",
                "legend": {
                  "tracegroupgap": 0
                },
                "margin": {
                  "t": 60
                },
                "template": {
                  "data": {
                    "bar": [
                      {
                        "error_x": {
                          "color": "#2a3f5f"
                        },
                        "error_y": {
                          "color": "#2a3f5f"
                        },
                        "marker": {
                          "line": {
                            "color": "#E5ECF6",
                            "width": 0.5
                          },
                          "pattern": {
                            "fillmode": "overlay",
                            "size": 10,
                            "solidity": 0.2
                          }
                        },
                        "type": "bar"
                      }
                    ],
                    "barpolar": [
                      {
                        "marker": {
                          "line": {
                            "color": "#E5ECF6",
                            "width": 0.5
                          },
                          "pattern": {
                            "fillmode": "overlay",
                            "size": 10,
                            "solidity": 0.2
                          }
                        },
                        "type": "barpolar"
                      }
                    ],
                    "carpet": [
                      {
                        "aaxis": {
                          "endlinecolor": "#2a3f5f",
                          "gridcolor": "white",
                          "linecolor": "white",
                          "minorgridcolor": "white",
                          "startlinecolor": "#2a3f5f"
                        },
                        "baxis": {
                          "endlinecolor": "#2a3f5f",
                          "gridcolor": "white",
                          "linecolor": "white",
                          "minorgridcolor": "white",
                          "startlinecolor": "#2a3f5f"
                        },
                        "type": "carpet"
                      }
                    ],
                    "choropleth": [
                      {
                        "colorbar": {
                          "outlinewidth": 0,
                          "ticks": ""
                        },
                        "type": "choropleth"
                      }
                    ],
                    "contour": [
                      {
                        "colorbar": {
                          "outlinewidth": 0,
                          "ticks": ""
                        },
                        "colorscale": [
                          [
                            0,
                            "#0d0887"
                          ],
                          [
                            0.1111111111111111,
                            "#46039f"
                          ],
                          [
                            0.2222222222222222,
                            "#7201a8"
                          ],
                          [
                            0.3333333333333333,
                            "#9c179e"
                          ],
                          [
                            0.4444444444444444,
                            "#bd3786"
                          ],
                          [
                            0.5555555555555556,
                            "#d8576b"
                          ],
                          [
                            0.6666666666666666,
                            "#ed7953"
                          ],
                          [
                            0.7777777777777778,
                            "#fb9f3a"
                          ],
                          [
                            0.8888888888888888,
                            "#fdca26"
                          ],
                          [
                            1,
                            "#f0f921"
                          ]
                        ],
                        "type": "contour"
                      }
                    ],
                    "contourcarpet": [
                      {
                        "colorbar": {
                          "outlinewidth": 0,
                          "ticks": ""
                        },
                        "type": "contourcarpet"
                      }
                    ],
                    "heatmap": [
                      {
                        "colorbar": {
                          "outlinewidth": 0,
                          "ticks": ""
                        },
                        "colorscale": [
                          [
                            0,
                            "#0d0887"
                          ],
                          [
                            0.1111111111111111,
                            "#46039f"
                          ],
                          [
                            0.2222222222222222,
                            "#7201a8"
                          ],
                          [
                            0.3333333333333333,
                            "#9c179e"
                          ],
                          [
                            0.4444444444444444,
                            "#bd3786"
                          ],
                          [
                            0.5555555555555556,
                            "#d8576b"
                          ],
                          [
                            0.6666666666666666,
                            "#ed7953"
                          ],
                          [
                            0.7777777777777778,
                            "#fb9f3a"
                          ],
                          [
                            0.8888888888888888,
                            "#fdca26"
                          ],
                          [
                            1,
                            "#f0f921"
                          ]
                        ],
                        "type": "heatmap"
                      }
                    ],
                    "heatmapgl": [
                      {
                        "colorbar": {
                          "outlinewidth": 0,
                          "ticks": ""
                        },
                        "colorscale": [
                          [
                            0,
                            "#0d0887"
                          ],
                          [
                            0.1111111111111111,
                            "#46039f"
                          ],
                          [
                            0.2222222222222222,
                            "#7201a8"
                          ],
                          [
                            0.3333333333333333,
                            "#9c179e"
                          ],
                          [
                            0.4444444444444444,
                            "#bd3786"
                          ],
                          [
                            0.5555555555555556,
                            "#d8576b"
                          ],
                          [
                            0.6666666666666666,
                            "#ed7953"
                          ],
                          [
                            0.7777777777777778,
                            "#fb9f3a"
                          ],
                          [
                            0.8888888888888888,
                            "#fdca26"
                          ],
                          [
                            1,
                            "#f0f921"
                          ]
                        ],
                        "type": "heatmapgl"
                      }
                    ],
                    "histogram": [
                      {
                        "marker": {
                          "pattern": {
                            "fillmode": "overlay",
                            "size": 10,
                            "solidity": 0.2
                          }
                        },
                        "type": "histogram"
                      }
                    ],
                    "histogram2d": [
                      {
                        "colorbar": {
                          "outlinewidth": 0,
                          "ticks": ""
                        },
                        "colorscale": [
                          [
                            0,
                            "#0d0887"
                          ],
                          [
                            0.1111111111111111,
                            "#46039f"
                          ],
                          [
                            0.2222222222222222,
                            "#7201a8"
                          ],
                          [
                            0.3333333333333333,
                            "#9c179e"
                          ],
                          [
                            0.4444444444444444,
                            "#bd3786"
                          ],
                          [
                            0.5555555555555556,
                            "#d8576b"
                          ],
                          [
                            0.6666666666666666,
                            "#ed7953"
                          ],
                          [
                            0.7777777777777778,
                            "#fb9f3a"
                          ],
                          [
                            0.8888888888888888,
                            "#fdca26"
                          ],
                          [
                            1,
                            "#f0f921"
                          ]
                        ],
                        "type": "histogram2d"
                      }
                    ],
                    "histogram2dcontour": [
                      {
                        "colorbar": {
                          "outlinewidth": 0,
                          "ticks": ""
                        },
                        "colorscale": [
                          [
                            0,
                            "#0d0887"
                          ],
                          [
                            0.1111111111111111,
                            "#46039f"
                          ],
                          [
                            0.2222222222222222,
                            "#7201a8"
                          ],
                          [
                            0.3333333333333333,
                            "#9c179e"
                          ],
                          [
                            0.4444444444444444,
                            "#bd3786"
                          ],
                          [
                            0.5555555555555556,
                            "#d8576b"
                          ],
                          [
                            0.6666666666666666,
                            "#ed7953"
                          ],
                          [
                            0.7777777777777778,
                            "#fb9f3a"
                          ],
                          [
                            0.8888888888888888,
                            "#fdca26"
                          ],
                          [
                            1,
                            "#f0f921"
                          ]
                        ],
                        "type": "histogram2dcontour"
                      }
                    ],
                    "mesh3d": [
                      {
                        "colorbar": {
                          "outlinewidth": 0,
                          "ticks": ""
                        },
                        "type": "mesh3d"
                      }
                    ],
                    "parcoords": [
                      {
                        "line": {
                          "colorbar": {
                            "outlinewidth": 0,
                            "ticks": ""
                          }
                        },
                        "type": "parcoords"
                      }
                    ],
                    "pie": [
                      {
                        "automargin": true,
                        "type": "pie"
                      }
                    ],
                    "scatter": [
                      {
                        "fillpattern": {
                          "fillmode": "overlay",
                          "size": 10,
                          "solidity": 0.2
                        },
                        "type": "scatter"
                      }
                    ],
                    "scatter3d": [
                      {
                        "line": {
                          "colorbar": {
                            "outlinewidth": 0,
                            "ticks": ""
                          }
                        },
                        "marker": {
                          "colorbar": {
                            "outlinewidth": 0,
                            "ticks": ""
                          }
                        },
                        "type": "scatter3d"
                      }
                    ],
                    "scattercarpet": [
                      {
                        "marker": {
                          "colorbar": {
                            "outlinewidth": 0,
                            "ticks": ""
                          }
                        },
                        "type": "scattercarpet"
                      }
                    ],
                    "scattergeo": [
                      {
                        "marker": {
                          "colorbar": {
                            "outlinewidth": 0,
                            "ticks": ""
                          }
                        },
                        "type": "scattergeo"
                      }
                    ],
                    "scattergl": [
                      {
                        "marker": {
                          "colorbar": {
                            "outlinewidth": 0,
                            "ticks": ""
                          }
                        },
                        "type": "scattergl"
                      }
                    ],
                    "scattermapbox": [
                      {
                        "marker": {
                          "colorbar": {
                            "outlinewidth": 0,
                            "ticks": ""
                          }
                        },
                        "type": "scattermapbox"
                      }
                    ],
                    "scatterpolar": [
                      {
                        "marker": {
                          "colorbar": {
                            "outlinewidth": 0,
                            "ticks": ""
                          }
                        },
                        "type": "scatterpolar"
                      }
                    ],
                    "scatterpolargl": [
                      {
                        "marker": {
                          "colorbar": {
                            "outlinewidth": 0,
                            "ticks": ""
                          }
                        },
                        "type": "scatterpolargl"
                      }
                    ],
                    "scatterternary": [
                      {
                        "marker": {
                          "colorbar": {
                            "outlinewidth": 0,
                            "ticks": ""
                          }
                        },
                        "type": "scatterternary"
                      }
                    ],
                    "surface": [
                      {
                        "colorbar": {
                          "outlinewidth": 0,
                          "ticks": ""
                        },
                        "colorscale": [
                          [
                            0,
                            "#0d0887"
                          ],
                          [
                            0.1111111111111111,
                            "#46039f"
                          ],
                          [
                            0.2222222222222222,
                            "#7201a8"
                          ],
                          [
                            0.3333333333333333,
                            "#9c179e"
                          ],
                          [
                            0.4444444444444444,
                            "#bd3786"
                          ],
                          [
                            0.5555555555555556,
                            "#d8576b"
                          ],
                          [
                            0.6666666666666666,
                            "#ed7953"
                          ],
                          [
                            0.7777777777777778,
                            "#fb9f3a"
                          ],
                          [
                            0.8888888888888888,
                            "#fdca26"
                          ],
                          [
                            1,
                            "#f0f921"
                          ]
                        ],
                        "type": "surface"
                      }
                    ],
                    "table": [
                      {
                        "cells": {
                          "fill": {
                            "color": "#EBF0F8"
                          },
                          "line": {
                            "color": "white"
                          }
                        },
                        "header": {
                          "fill": {
                            "color": "#C8D4E3"
                          },
                          "line": {
                            "color": "white"
                          }
                        },
                        "type": "table"
                      }
                    ]
                  },
                  "layout": {
                    "annotationdefaults": {
                      "arrowcolor": "#2a3f5f",
                      "arrowhead": 0,
                      "arrowwidth": 1
                    },
                    "autotypenumbers": "strict",
                    "coloraxis": {
                      "colorbar": {
                        "outlinewidth": 0,
                        "ticks": ""
                      }
                    },
                    "colorscale": {
                      "diverging": [
                        [
                          0,
                          "#8e0152"
                        ],
                        [
                          0.1,
                          "#c51b7d"
                        ],
                        [
                          0.2,
                          "#de77ae"
                        ],
                        [
                          0.3,
                          "#f1b6da"
                        ],
                        [
                          0.4,
                          "#fde0ef"
                        ],
                        [
                          0.5,
                          "#f7f7f7"
                        ],
                        [
                          0.6,
                          "#e6f5d0"
                        ],
                        [
                          0.7,
                          "#b8e186"
                        ],
                        [
                          0.8,
                          "#7fbc41"
                        ],
                        [
                          0.9,
                          "#4d9221"
                        ],
                        [
                          1,
                          "#276419"
                        ]
                      ],
                      "sequential": [
                        [
                          0,
                          "#0d0887"
                        ],
                        [
                          0.1111111111111111,
                          "#46039f"
                        ],
                        [
                          0.2222222222222222,
                          "#7201a8"
                        ],
                        [
                          0.3333333333333333,
                          "#9c179e"
                        ],
                        [
                          0.4444444444444444,
                          "#bd3786"
                        ],
                        [
                          0.5555555555555556,
                          "#d8576b"
                        ],
                        [
                          0.6666666666666666,
                          "#ed7953"
                        ],
                        [
                          0.7777777777777778,
                          "#fb9f3a"
                        ],
                        [
                          0.8888888888888888,
                          "#fdca26"
                        ],
                        [
                          1,
                          "#f0f921"
                        ]
                      ],
                      "sequentialminus": [
                        [
                          0,
                          "#0d0887"
                        ],
                        [
                          0.1111111111111111,
                          "#46039f"
                        ],
                        [
                          0.2222222222222222,
                          "#7201a8"
                        ],
                        [
                          0.3333333333333333,
                          "#9c179e"
                        ],
                        [
                          0.4444444444444444,
                          "#bd3786"
                        ],
                        [
                          0.5555555555555556,
                          "#d8576b"
                        ],
                        [
                          0.6666666666666666,
                          "#ed7953"
                        ],
                        [
                          0.7777777777777778,
                          "#fb9f3a"
                        ],
                        [
                          0.8888888888888888,
                          "#fdca26"
                        ],
                        [
                          1,
                          "#f0f921"
                        ]
                      ]
                    },
                    "colorway": [
                      "#636efa",
                      "#EF553B",
                      "#00cc96",
                      "#ab63fa",
                      "#FFA15A",
                      "#19d3f3",
                      "#FF6692",
                      "#B6E880",
                      "#FF97FF",
                      "#FECB52"
                    ],
                    "font": {
                      "color": "#2a3f5f"
                    },
                    "geo": {
                      "bgcolor": "white",
                      "lakecolor": "white",
                      "landcolor": "#E5ECF6",
                      "showlakes": true,
                      "showland": true,
                      "subunitcolor": "white"
                    },
                    "hoverlabel": {
                      "align": "left"
                    },
                    "hovermode": "closest",
                    "mapbox": {
                      "style": "light"
                    },
                    "paper_bgcolor": "white",
                    "plot_bgcolor": "#E5ECF6",
                    "polar": {
                      "angularaxis": {
                        "gridcolor": "white",
                        "linecolor": "white",
                        "ticks": ""
                      },
                      "bgcolor": "#E5ECF6",
                      "radialaxis": {
                        "gridcolor": "white",
                        "linecolor": "white",
                        "ticks": ""
                      }
                    },
                    "scene": {
                      "xaxis": {
                        "backgroundcolor": "#E5ECF6",
                        "gridcolor": "white",
                        "gridwidth": 2,
                        "linecolor": "white",
                        "showbackground": true,
                        "ticks": "",
                        "zerolinecolor": "white"
                      },
                      "yaxis": {
                        "backgroundcolor": "#E5ECF6",
                        "gridcolor": "white",
                        "gridwidth": 2,
                        "linecolor": "white",
                        "showbackground": true,
                        "ticks": "",
                        "zerolinecolor": "white"
                      },
                      "zaxis": {
                        "backgroundcolor": "#E5ECF6",
                        "gridcolor": "white",
                        "gridwidth": 2,
                        "linecolor": "white",
                        "showbackground": true,
                        "ticks": "",
                        "zerolinecolor": "white"
                      }
                    },
                    "shapedefaults": {
                      "line": {
                        "color": "#2a3f5f"
                      }
                    },
                    "ternary": {
                      "aaxis": {
                        "gridcolor": "white",
                        "linecolor": "white",
                        "ticks": ""
                      },
                      "baxis": {
                        "gridcolor": "white",
                        "linecolor": "white",
                        "ticks": ""
                      },
                      "bgcolor": "#E5ECF6",
                      "caxis": {
                        "gridcolor": "white",
                        "linecolor": "white",
                        "ticks": ""
                      }
                    },
                    "title": {
                      "x": 0.05
                    },
                    "xaxis": {
                      "automargin": true,
                      "gridcolor": "white",
                      "linecolor": "white",
                      "ticks": "",
                      "title": {
                        "standoff": 15
                      },
                      "zerolinecolor": "white",
                      "zerolinewidth": 2
                    },
                    "yaxis": {
                      "automargin": true,
                      "gridcolor": "white",
                      "linecolor": "white",
                      "ticks": "",
                      "title": {
                        "standoff": 15
                      },
                      "zerolinecolor": "white",
                      "zerolinewidth": 2
                    }
                  }
                },
                "xaxis": {
                  "anchor": "y",
                  "domain": [
                    0,
                    1
                  ],
                  "title": {
                    "text": "variable"
                  }
                },
                "yaxis": {
                  "anchor": "x",
                  "domain": [
                    0,
                    1
                  ],
                  "title": {
                    "text": "value"
                  }
                }
              }
            }
          },
          "metadata": {},
          "output_type": "display_data"
        }
      ],
      "source": [
        "import plotly.express as px\n",
        "px.box(pbo).show()\n",
        "px.box(deflated_sr)"
      ]
    },
    {
      "cell_type": "code",
      "execution_count": 90,
      "metadata": {},
      "outputs": [
        {
          "data": {
            "application/vnd.plotly.v1+json": {
              "config": {
                "plotlyServerURL": "https://plot.ly"
              },
              "data": [
                {
                  "alignmentgroup": "True",
                  "hovertemplate": "variable=%{x}<br>value=%{y}<extra></extra>",
                  "legendgroup": "",
                  "marker": {
                    "color": "#636efa"
                  },
                  "name": "",
                  "notched": false,
                  "offsetgroup": "",
                  "orientation": "v",
                  "showlegend": false,
                  "type": "box",
                  "x": [
                    "Walk-Forward",
                    "Walk-Forward",
                    "Walk-Forward",
                    "Walk-Forward",
                    "Walk-Forward",
                    "Walk-Forward",
                    "Walk-Forward",
                    "Walk-Forward",
                    "Walk-Forward",
                    "Walk-Forward",
                    "Walk-Forward",
                    "Walk-Forward",
                    "Walk-Forward",
                    "Walk-Forward",
                    "Walk-Forward",
                    "Walk-Forward",
                    "Walk-Forward",
                    "Walk-Forward",
                    "Walk-Forward",
                    "Walk-Forward",
                    "Walk-Forward",
                    "Walk-Forward",
                    "Walk-Forward",
                    "Walk-Forward",
                    "Walk-Forward",
                    "Walk-Forward",
                    "Walk-Forward",
                    "Walk-Forward",
                    "Walk-Forward",
                    "Walk-Forward",
                    "K-Fold",
                    "K-Fold",
                    "K-Fold",
                    "K-Fold",
                    "K-Fold",
                    "K-Fold",
                    "K-Fold",
                    "K-Fold",
                    "K-Fold",
                    "K-Fold",
                    "K-Fold",
                    "K-Fold",
                    "K-Fold",
                    "K-Fold",
                    "K-Fold",
                    "K-Fold",
                    "K-Fold",
                    "K-Fold",
                    "K-Fold",
                    "K-Fold",
                    "K-Fold",
                    "K-Fold",
                    "K-Fold",
                    "K-Fold",
                    "K-Fold",
                    "K-Fold",
                    "K-Fold",
                    "K-Fold",
                    "K-Fold",
                    "K-Fold",
                    "Purged K-Fold",
                    "Purged K-Fold",
                    "Purged K-Fold",
                    "Purged K-Fold",
                    "Purged K-Fold",
                    "Purged K-Fold",
                    "Purged K-Fold",
                    "Purged K-Fold",
                    "Purged K-Fold",
                    "Purged K-Fold",
                    "Purged K-Fold",
                    "Purged K-Fold",
                    "Purged K-Fold",
                    "Purged K-Fold",
                    "Purged K-Fold",
                    "Purged K-Fold",
                    "Purged K-Fold",
                    "Purged K-Fold",
                    "Purged K-Fold",
                    "Purged K-Fold",
                    "Purged K-Fold",
                    "Purged K-Fold",
                    "Purged K-Fold",
                    "Purged K-Fold",
                    "Purged K-Fold",
                    "Purged K-Fold",
                    "Purged K-Fold",
                    "Purged K-Fold",
                    "Purged K-Fold",
                    "Purged K-Fold",
                    "Combinatorial Purged",
                    "Combinatorial Purged",
                    "Combinatorial Purged",
                    "Combinatorial Purged",
                    "Combinatorial Purged",
                    "Combinatorial Purged",
                    "Combinatorial Purged",
                    "Combinatorial Purged",
                    "Combinatorial Purged",
                    "Combinatorial Purged",
                    "Combinatorial Purged",
                    "Combinatorial Purged",
                    "Combinatorial Purged",
                    "Combinatorial Purged",
                    "Combinatorial Purged",
                    "Combinatorial Purged",
                    "Combinatorial Purged",
                    "Combinatorial Purged",
                    "Combinatorial Purged",
                    "Combinatorial Purged",
                    "Combinatorial Purged",
                    "Combinatorial Purged",
                    "Combinatorial Purged",
                    "Combinatorial Purged",
                    "Combinatorial Purged",
                    "Combinatorial Purged",
                    "Combinatorial Purged",
                    "Combinatorial Purged",
                    "Combinatorial Purged",
                    "Combinatorial Purged"
                  ],
                  "x0": " ",
                  "xaxis": "x",
                  "y": [
                    0.5188811188811189,
                    0.6242424242424243,
                    0.031235431235431235,
                    0.5662004662004662,
                    0.27016317016317015,
                    0.18174048174048174,
                    0.6038850038850039,
                    0.7643356643356644,
                    0.7417249417249417,
                    0.6711732711732712,
                    0.7263403263403263,
                    0.1564879564879565,
                    0.4132867132867133,
                    0.6,
                    0.6545454545454545,
                    0.2742035742035742,
                    0.46355866355866354,
                    0.6307692307692307,
                    0.6819735819735819,
                    0.26262626262626265,
                    0.4233100233100233,
                    0.2930846930846931,
                    0.26107226107226106,
                    0.3087024087024087,
                    0.22354312354312356,
                    0.4234654234654235,
                    0.4897435897435897,
                    0.13675213675213677,
                    0.36254856254856255,
                    0.17902097902097902,
                    0.40326340326340326,
                    0.6581196581196581,
                    0.0937062937062937,
                    0.6663558663558664,
                    0.3305361305361305,
                    0.31305361305361307,
                    0.9702408702408702,
                    0.4679098679098679,
                    0.8429681429681429,
                    0.6071484071484071,
                    0.18166278166278166,
                    0.3164724164724165,
                    0.40155400155400156,
                    0.5717948717948718,
                    0.6451437451437452,
                    0.14156954156954157,
                    0.5447552447552447,
                    0.6933177933177933,
                    0.17078477078477078,
                    0.3261072261072261,
                    0.27614607614607617,
                    0.2696969696969697,
                    0.40574980574980574,
                    0.09417249417249417,
                    0.15407925407925407,
                    0.06418026418026418,
                    0.3957264957264957,
                    0.22035742035742037,
                    0.25524475524475526,
                    0.3118881118881119,
                    0.5362082362082362,
                    0.6902097902097902,
                    0.028749028749028748,
                    0.49642579642579643,
                    0.3278166278166278,
                    0.19316239316239317,
                    0.7524475524475525,
                    0.5671328671328671,
                    0.8126651126651127,
                    0.668919968919969,
                    0.18197358197358196,
                    0.47482517482517483,
                    0.6337218337218338,
                    0.46456876456876456,
                    0.5598290598290598,
                    0.10901320901320902,
                    0.5290598290598291,
                    0.4937062937062937,
                    0.28834498834498834,
                    0.43916083916083914,
                    0.30023310023310024,
                    0.10038850038850039,
                    0.07241647241647242,
                    0.34965034965034963,
                    0.3791763791763792,
                    0.07218337218337219,
                    0.7802641802641803,
                    0.18041958041958042,
                    0.19502719502719504,
                    0.28702408702408705,
                    0.5253302253302253,
                    0.33916083916083917,
                    0.04040404040404041,
                    0.7163947163947164,
                    0.08717948717948718,
                    0.2355866355866356,
                    0.8721056721056721,
                    0.6868686868686869,
                    0.8185703185703186,
                    0.6075369075369076,
                    0.4083139083139083,
                    0.20279720279720279,
                    0.2606837606837607,
                    0.451981351981352,
                    0.3226107226107226,
                    0.25353535353535356,
                    0.18352758352758353,
                    0.5387723387723388,
                    0.4369075369075369,
                    0.3776223776223776,
                    0.23846153846153847,
                    0.1034965034965035,
                    0.15027195027195028,
                    0.15213675213675212,
                    0.15516705516705517,
                    0.018648018648018648,
                    0.5485625485625486,
                    0.14918414918414918,
                    0.09471639471639472,
                    0.12105672105672105
                  ],
                  "y0": " ",
                  "yaxis": "y"
                }
              ],
              "layout": {
                "boxmode": "group",
                "legend": {
                  "tracegroupgap": 0
                },
                "margin": {
                  "t": 60
                },
                "template": {
                  "data": {
                    "bar": [
                      {
                        "error_x": {
                          "color": "#2a3f5f"
                        },
                        "error_y": {
                          "color": "#2a3f5f"
                        },
                        "marker": {
                          "line": {
                            "color": "#E5ECF6",
                            "width": 0.5
                          },
                          "pattern": {
                            "fillmode": "overlay",
                            "size": 10,
                            "solidity": 0.2
                          }
                        },
                        "type": "bar"
                      }
                    ],
                    "barpolar": [
                      {
                        "marker": {
                          "line": {
                            "color": "#E5ECF6",
                            "width": 0.5
                          },
                          "pattern": {
                            "fillmode": "overlay",
                            "size": 10,
                            "solidity": 0.2
                          }
                        },
                        "type": "barpolar"
                      }
                    ],
                    "carpet": [
                      {
                        "aaxis": {
                          "endlinecolor": "#2a3f5f",
                          "gridcolor": "white",
                          "linecolor": "white",
                          "minorgridcolor": "white",
                          "startlinecolor": "#2a3f5f"
                        },
                        "baxis": {
                          "endlinecolor": "#2a3f5f",
                          "gridcolor": "white",
                          "linecolor": "white",
                          "minorgridcolor": "white",
                          "startlinecolor": "#2a3f5f"
                        },
                        "type": "carpet"
                      }
                    ],
                    "choropleth": [
                      {
                        "colorbar": {
                          "outlinewidth": 0,
                          "ticks": ""
                        },
                        "type": "choropleth"
                      }
                    ],
                    "contour": [
                      {
                        "colorbar": {
                          "outlinewidth": 0,
                          "ticks": ""
                        },
                        "colorscale": [
                          [
                            0,
                            "#0d0887"
                          ],
                          [
                            0.1111111111111111,
                            "#46039f"
                          ],
                          [
                            0.2222222222222222,
                            "#7201a8"
                          ],
                          [
                            0.3333333333333333,
                            "#9c179e"
                          ],
                          [
                            0.4444444444444444,
                            "#bd3786"
                          ],
                          [
                            0.5555555555555556,
                            "#d8576b"
                          ],
                          [
                            0.6666666666666666,
                            "#ed7953"
                          ],
                          [
                            0.7777777777777778,
                            "#fb9f3a"
                          ],
                          [
                            0.8888888888888888,
                            "#fdca26"
                          ],
                          [
                            1,
                            "#f0f921"
                          ]
                        ],
                        "type": "contour"
                      }
                    ],
                    "contourcarpet": [
                      {
                        "colorbar": {
                          "outlinewidth": 0,
                          "ticks": ""
                        },
                        "type": "contourcarpet"
                      }
                    ],
                    "heatmap": [
                      {
                        "colorbar": {
                          "outlinewidth": 0,
                          "ticks": ""
                        },
                        "colorscale": [
                          [
                            0,
                            "#0d0887"
                          ],
                          [
                            0.1111111111111111,
                            "#46039f"
                          ],
                          [
                            0.2222222222222222,
                            "#7201a8"
                          ],
                          [
                            0.3333333333333333,
                            "#9c179e"
                          ],
                          [
                            0.4444444444444444,
                            "#bd3786"
                          ],
                          [
                            0.5555555555555556,
                            "#d8576b"
                          ],
                          [
                            0.6666666666666666,
                            "#ed7953"
                          ],
                          [
                            0.7777777777777778,
                            "#fb9f3a"
                          ],
                          [
                            0.8888888888888888,
                            "#fdca26"
                          ],
                          [
                            1,
                            "#f0f921"
                          ]
                        ],
                        "type": "heatmap"
                      }
                    ],
                    "heatmapgl": [
                      {
                        "colorbar": {
                          "outlinewidth": 0,
                          "ticks": ""
                        },
                        "colorscale": [
                          [
                            0,
                            "#0d0887"
                          ],
                          [
                            0.1111111111111111,
                            "#46039f"
                          ],
                          [
                            0.2222222222222222,
                            "#7201a8"
                          ],
                          [
                            0.3333333333333333,
                            "#9c179e"
                          ],
                          [
                            0.4444444444444444,
                            "#bd3786"
                          ],
                          [
                            0.5555555555555556,
                            "#d8576b"
                          ],
                          [
                            0.6666666666666666,
                            "#ed7953"
                          ],
                          [
                            0.7777777777777778,
                            "#fb9f3a"
                          ],
                          [
                            0.8888888888888888,
                            "#fdca26"
                          ],
                          [
                            1,
                            "#f0f921"
                          ]
                        ],
                        "type": "heatmapgl"
                      }
                    ],
                    "histogram": [
                      {
                        "marker": {
                          "pattern": {
                            "fillmode": "overlay",
                            "size": 10,
                            "solidity": 0.2
                          }
                        },
                        "type": "histogram"
                      }
                    ],
                    "histogram2d": [
                      {
                        "colorbar": {
                          "outlinewidth": 0,
                          "ticks": ""
                        },
                        "colorscale": [
                          [
                            0,
                            "#0d0887"
                          ],
                          [
                            0.1111111111111111,
                            "#46039f"
                          ],
                          [
                            0.2222222222222222,
                            "#7201a8"
                          ],
                          [
                            0.3333333333333333,
                            "#9c179e"
                          ],
                          [
                            0.4444444444444444,
                            "#bd3786"
                          ],
                          [
                            0.5555555555555556,
                            "#d8576b"
                          ],
                          [
                            0.6666666666666666,
                            "#ed7953"
                          ],
                          [
                            0.7777777777777778,
                            "#fb9f3a"
                          ],
                          [
                            0.8888888888888888,
                            "#fdca26"
                          ],
                          [
                            1,
                            "#f0f921"
                          ]
                        ],
                        "type": "histogram2d"
                      }
                    ],
                    "histogram2dcontour": [
                      {
                        "colorbar": {
                          "outlinewidth": 0,
                          "ticks": ""
                        },
                        "colorscale": [
                          [
                            0,
                            "#0d0887"
                          ],
                          [
                            0.1111111111111111,
                            "#46039f"
                          ],
                          [
                            0.2222222222222222,
                            "#7201a8"
                          ],
                          [
                            0.3333333333333333,
                            "#9c179e"
                          ],
                          [
                            0.4444444444444444,
                            "#bd3786"
                          ],
                          [
                            0.5555555555555556,
                            "#d8576b"
                          ],
                          [
                            0.6666666666666666,
                            "#ed7953"
                          ],
                          [
                            0.7777777777777778,
                            "#fb9f3a"
                          ],
                          [
                            0.8888888888888888,
                            "#fdca26"
                          ],
                          [
                            1,
                            "#f0f921"
                          ]
                        ],
                        "type": "histogram2dcontour"
                      }
                    ],
                    "mesh3d": [
                      {
                        "colorbar": {
                          "outlinewidth": 0,
                          "ticks": ""
                        },
                        "type": "mesh3d"
                      }
                    ],
                    "parcoords": [
                      {
                        "line": {
                          "colorbar": {
                            "outlinewidth": 0,
                            "ticks": ""
                          }
                        },
                        "type": "parcoords"
                      }
                    ],
                    "pie": [
                      {
                        "automargin": true,
                        "type": "pie"
                      }
                    ],
                    "scatter": [
                      {
                        "fillpattern": {
                          "fillmode": "overlay",
                          "size": 10,
                          "solidity": 0.2
                        },
                        "type": "scatter"
                      }
                    ],
                    "scatter3d": [
                      {
                        "line": {
                          "colorbar": {
                            "outlinewidth": 0,
                            "ticks": ""
                          }
                        },
                        "marker": {
                          "colorbar": {
                            "outlinewidth": 0,
                            "ticks": ""
                          }
                        },
                        "type": "scatter3d"
                      }
                    ],
                    "scattercarpet": [
                      {
                        "marker": {
                          "colorbar": {
                            "outlinewidth": 0,
                            "ticks": ""
                          }
                        },
                        "type": "scattercarpet"
                      }
                    ],
                    "scattergeo": [
                      {
                        "marker": {
                          "colorbar": {
                            "outlinewidth": 0,
                            "ticks": ""
                          }
                        },
                        "type": "scattergeo"
                      }
                    ],
                    "scattergl": [
                      {
                        "marker": {
                          "colorbar": {
                            "outlinewidth": 0,
                            "ticks": ""
                          }
                        },
                        "type": "scattergl"
                      }
                    ],
                    "scattermapbox": [
                      {
                        "marker": {
                          "colorbar": {
                            "outlinewidth": 0,
                            "ticks": ""
                          }
                        },
                        "type": "scattermapbox"
                      }
                    ],
                    "scatterpolar": [
                      {
                        "marker": {
                          "colorbar": {
                            "outlinewidth": 0,
                            "ticks": ""
                          }
                        },
                        "type": "scatterpolar"
                      }
                    ],
                    "scatterpolargl": [
                      {
                        "marker": {
                          "colorbar": {
                            "outlinewidth": 0,
                            "ticks": ""
                          }
                        },
                        "type": "scatterpolargl"
                      }
                    ],
                    "scatterternary": [
                      {
                        "marker": {
                          "colorbar": {
                            "outlinewidth": 0,
                            "ticks": ""
                          }
                        },
                        "type": "scatterternary"
                      }
                    ],
                    "surface": [
                      {
                        "colorbar": {
                          "outlinewidth": 0,
                          "ticks": ""
                        },
                        "colorscale": [
                          [
                            0,
                            "#0d0887"
                          ],
                          [
                            0.1111111111111111,
                            "#46039f"
                          ],
                          [
                            0.2222222222222222,
                            "#7201a8"
                          ],
                          [
                            0.3333333333333333,
                            "#9c179e"
                          ],
                          [
                            0.4444444444444444,
                            "#bd3786"
                          ],
                          [
                            0.5555555555555556,
                            "#d8576b"
                          ],
                          [
                            0.6666666666666666,
                            "#ed7953"
                          ],
                          [
                            0.7777777777777778,
                            "#fb9f3a"
                          ],
                          [
                            0.8888888888888888,
                            "#fdca26"
                          ],
                          [
                            1,
                            "#f0f921"
                          ]
                        ],
                        "type": "surface"
                      }
                    ],
                    "table": [
                      {
                        "cells": {
                          "fill": {
                            "color": "#EBF0F8"
                          },
                          "line": {
                            "color": "white"
                          }
                        },
                        "header": {
                          "fill": {
                            "color": "#C8D4E3"
                          },
                          "line": {
                            "color": "white"
                          }
                        },
                        "type": "table"
                      }
                    ]
                  },
                  "layout": {
                    "annotationdefaults": {
                      "arrowcolor": "#2a3f5f",
                      "arrowhead": 0,
                      "arrowwidth": 1
                    },
                    "autotypenumbers": "strict",
                    "coloraxis": {
                      "colorbar": {
                        "outlinewidth": 0,
                        "ticks": ""
                      }
                    },
                    "colorscale": {
                      "diverging": [
                        [
                          0,
                          "#8e0152"
                        ],
                        [
                          0.1,
                          "#c51b7d"
                        ],
                        [
                          0.2,
                          "#de77ae"
                        ],
                        [
                          0.3,
                          "#f1b6da"
                        ],
                        [
                          0.4,
                          "#fde0ef"
                        ],
                        [
                          0.5,
                          "#f7f7f7"
                        ],
                        [
                          0.6,
                          "#e6f5d0"
                        ],
                        [
                          0.7,
                          "#b8e186"
                        ],
                        [
                          0.8,
                          "#7fbc41"
                        ],
                        [
                          0.9,
                          "#4d9221"
                        ],
                        [
                          1,
                          "#276419"
                        ]
                      ],
                      "sequential": [
                        [
                          0,
                          "#0d0887"
                        ],
                        [
                          0.1111111111111111,
                          "#46039f"
                        ],
                        [
                          0.2222222222222222,
                          "#7201a8"
                        ],
                        [
                          0.3333333333333333,
                          "#9c179e"
                        ],
                        [
                          0.4444444444444444,
                          "#bd3786"
                        ],
                        [
                          0.5555555555555556,
                          "#d8576b"
                        ],
                        [
                          0.6666666666666666,
                          "#ed7953"
                        ],
                        [
                          0.7777777777777778,
                          "#fb9f3a"
                        ],
                        [
                          0.8888888888888888,
                          "#fdca26"
                        ],
                        [
                          1,
                          "#f0f921"
                        ]
                      ],
                      "sequentialminus": [
                        [
                          0,
                          "#0d0887"
                        ],
                        [
                          0.1111111111111111,
                          "#46039f"
                        ],
                        [
                          0.2222222222222222,
                          "#7201a8"
                        ],
                        [
                          0.3333333333333333,
                          "#9c179e"
                        ],
                        [
                          0.4444444444444444,
                          "#bd3786"
                        ],
                        [
                          0.5555555555555556,
                          "#d8576b"
                        ],
                        [
                          0.6666666666666666,
                          "#ed7953"
                        ],
                        [
                          0.7777777777777778,
                          "#fb9f3a"
                        ],
                        [
                          0.8888888888888888,
                          "#fdca26"
                        ],
                        [
                          1,
                          "#f0f921"
                        ]
                      ]
                    },
                    "colorway": [
                      "#636efa",
                      "#EF553B",
                      "#00cc96",
                      "#ab63fa",
                      "#FFA15A",
                      "#19d3f3",
                      "#FF6692",
                      "#B6E880",
                      "#FF97FF",
                      "#FECB52"
                    ],
                    "font": {
                      "color": "#2a3f5f"
                    },
                    "geo": {
                      "bgcolor": "white",
                      "lakecolor": "white",
                      "landcolor": "#E5ECF6",
                      "showlakes": true,
                      "showland": true,
                      "subunitcolor": "white"
                    },
                    "hoverlabel": {
                      "align": "left"
                    },
                    "hovermode": "closest",
                    "mapbox": {
                      "style": "light"
                    },
                    "paper_bgcolor": "white",
                    "plot_bgcolor": "#E5ECF6",
                    "polar": {
                      "angularaxis": {
                        "gridcolor": "white",
                        "linecolor": "white",
                        "ticks": ""
                      },
                      "bgcolor": "#E5ECF6",
                      "radialaxis": {
                        "gridcolor": "white",
                        "linecolor": "white",
                        "ticks": ""
                      }
                    },
                    "scene": {
                      "xaxis": {
                        "backgroundcolor": "#E5ECF6",
                        "gridcolor": "white",
                        "gridwidth": 2,
                        "linecolor": "white",
                        "showbackground": true,
                        "ticks": "",
                        "zerolinecolor": "white"
                      },
                      "yaxis": {
                        "backgroundcolor": "#E5ECF6",
                        "gridcolor": "white",
                        "gridwidth": 2,
                        "linecolor": "white",
                        "showbackground": true,
                        "ticks": "",
                        "zerolinecolor": "white"
                      },
                      "zaxis": {
                        "backgroundcolor": "#E5ECF6",
                        "gridcolor": "white",
                        "gridwidth": 2,
                        "linecolor": "white",
                        "showbackground": true,
                        "ticks": "",
                        "zerolinecolor": "white"
                      }
                    },
                    "shapedefaults": {
                      "line": {
                        "color": "#2a3f5f"
                      }
                    },
                    "ternary": {
                      "aaxis": {
                        "gridcolor": "white",
                        "linecolor": "white",
                        "ticks": ""
                      },
                      "baxis": {
                        "gridcolor": "white",
                        "linecolor": "white",
                        "ticks": ""
                      },
                      "bgcolor": "#E5ECF6",
                      "caxis": {
                        "gridcolor": "white",
                        "linecolor": "white",
                        "ticks": ""
                      }
                    },
                    "title": {
                      "x": 0.05
                    },
                    "xaxis": {
                      "automargin": true,
                      "gridcolor": "white",
                      "linecolor": "white",
                      "ticks": "",
                      "title": {
                        "standoff": 15
                      },
                      "zerolinecolor": "white",
                      "zerolinewidth": 2
                    },
                    "yaxis": {
                      "automargin": true,
                      "gridcolor": "white",
                      "linecolor": "white",
                      "ticks": "",
                      "title": {
                        "standoff": 15
                      },
                      "zerolinecolor": "white",
                      "zerolinewidth": 2
                    }
                  }
                },
                "xaxis": {
                  "anchor": "y",
                  "domain": [
                    0,
                    1
                  ],
                  "title": {
                    "text": "variable"
                  }
                },
                "yaxis": {
                  "anchor": "x",
                  "domain": [
                    0,
                    1
                  ],
                  "title": {
                    "text": "value"
                  }
                }
              }
            }
          },
          "metadata": {},
          "output_type": "display_data"
        },
        {
          "data": {
            "application/vnd.plotly.v1+json": {
              "config": {
                "plotlyServerURL": "https://plot.ly"
              },
              "data": [
                {
                  "alignmentgroup": "True",
                  "hovertemplate": "variable=%{x}<br>value=%{y}<extra></extra>",
                  "legendgroup": "",
                  "marker": {
                    "color": "#636efa"
                  },
                  "name": "",
                  "notched": false,
                  "offsetgroup": "",
                  "orientation": "v",
                  "showlegend": false,
                  "type": "box",
                  "x": [
                    "Walk-Forward",
                    "Walk-Forward",
                    "Walk-Forward",
                    "Walk-Forward",
                    "Walk-Forward",
                    "Walk-Forward",
                    "Walk-Forward",
                    "Walk-Forward",
                    "Walk-Forward",
                    "Walk-Forward",
                    "Walk-Forward",
                    "Walk-Forward",
                    "Walk-Forward",
                    "Walk-Forward",
                    "Walk-Forward",
                    "Walk-Forward",
                    "Walk-Forward",
                    "Walk-Forward",
                    "Walk-Forward",
                    "Walk-Forward",
                    "Walk-Forward",
                    "Walk-Forward",
                    "Walk-Forward",
                    "Walk-Forward",
                    "Walk-Forward",
                    "Walk-Forward",
                    "Walk-Forward",
                    "Walk-Forward",
                    "Walk-Forward",
                    "Walk-Forward",
                    "K-Fold",
                    "K-Fold",
                    "K-Fold",
                    "K-Fold",
                    "K-Fold",
                    "K-Fold",
                    "K-Fold",
                    "K-Fold",
                    "K-Fold",
                    "K-Fold",
                    "K-Fold",
                    "K-Fold",
                    "K-Fold",
                    "K-Fold",
                    "K-Fold",
                    "K-Fold",
                    "K-Fold",
                    "K-Fold",
                    "K-Fold",
                    "K-Fold",
                    "K-Fold",
                    "K-Fold",
                    "K-Fold",
                    "K-Fold",
                    "K-Fold",
                    "K-Fold",
                    "K-Fold",
                    "K-Fold",
                    "K-Fold",
                    "K-Fold",
                    "Purged K-Fold",
                    "Purged K-Fold",
                    "Purged K-Fold",
                    "Purged K-Fold",
                    "Purged K-Fold",
                    "Purged K-Fold",
                    "Purged K-Fold",
                    "Purged K-Fold",
                    "Purged K-Fold",
                    "Purged K-Fold",
                    "Purged K-Fold",
                    "Purged K-Fold",
                    "Purged K-Fold",
                    "Purged K-Fold",
                    "Purged K-Fold",
                    "Purged K-Fold",
                    "Purged K-Fold",
                    "Purged K-Fold",
                    "Purged K-Fold",
                    "Purged K-Fold",
                    "Purged K-Fold",
                    "Purged K-Fold",
                    "Purged K-Fold",
                    "Purged K-Fold",
                    "Purged K-Fold",
                    "Purged K-Fold",
                    "Purged K-Fold",
                    "Purged K-Fold",
                    "Purged K-Fold",
                    "Purged K-Fold",
                    "Combinatorial Purged",
                    "Combinatorial Purged",
                    "Combinatorial Purged",
                    "Combinatorial Purged",
                    "Combinatorial Purged",
                    "Combinatorial Purged",
                    "Combinatorial Purged",
                    "Combinatorial Purged",
                    "Combinatorial Purged",
                    "Combinatorial Purged",
                    "Combinatorial Purged",
                    "Combinatorial Purged",
                    "Combinatorial Purged",
                    "Combinatorial Purged",
                    "Combinatorial Purged",
                    "Combinatorial Purged",
                    "Combinatorial Purged",
                    "Combinatorial Purged",
                    "Combinatorial Purged",
                    "Combinatorial Purged",
                    "Combinatorial Purged",
                    "Combinatorial Purged",
                    "Combinatorial Purged",
                    "Combinatorial Purged",
                    "Combinatorial Purged",
                    "Combinatorial Purged",
                    "Combinatorial Purged",
                    "Combinatorial Purged",
                    "Combinatorial Purged",
                    "Combinatorial Purged"
                  ],
                  "x0": " ",
                  "xaxis": "x",
                  "y": [
                    -1.1056457652226634,
                    0.5701397347671927,
                    1.836223910374401,
                    0.1589414835797608,
                    -1.2696619785111967,
                    1.2724283328395125,
                    -0.1192516879204904,
                    1.7392644158826251,
                    0.9078243609655825,
                    0.43008324346683885,
                    -0.8421240755515595,
                    0.28514326605021323,
                    2.0980037073530546,
                    0.03457262420607632,
                    0.3441086304897947,
                    1.2391208978190125,
                    0.2050363707563724,
                    0.14888305985251885,
                    0.35897834057091965,
                    0.31216701784114537,
                    0.34904744750107525,
                    -0.259949326819975,
                    0.11480319415819029,
                    -0.2300720942987094,
                    0.43774009609328346,
                    0.4535568059186312,
                    1.5270547495506748,
                    0.7486441678818494,
                    -1.1884719570153837,
                    -0.08659740312496585,
                    -1.1690087922250119,
                    0.41028176161142593,
                    2.127965791414406,
                    -0.2608465505466678,
                    -1.216144941985151,
                    0.8206786827735052,
                    0.5450645352778654,
                    0.6426065782617536,
                    0.9930367084732591,
                    0.8768859151068092,
                    -0.0030504482857939817,
                    0.8230716545740463,
                    2.0554479317123313,
                    0.5019757668037291,
                    -0.2716227690434296,
                    1.3137118489731026,
                    0.7177676967413243,
                    -0.05827607376275119,
                    0.8830200979949913,
                    0.41313505381722443,
                    0.8630336707193001,
                    0.385093668868078,
                    -0.18611716324088456,
                    0.3188144837730216,
                    0.20276687275090055,
                    0.8480133987430003,
                    2.4384800909727264,
                    0.3463911965888417,
                    -0.6717140761631003,
                    -0.12781497579906567,
                    -1.3596398982044708,
                    1.032506919450714,
                    1.8179867707017563,
                    0.3097600471362807,
                    -1.1010186096648538,
                    0.520628714219765,
                    0.3917724595775698,
                    0.874212731884223,
                    0.6723307944322382,
                    0.9194208970116869,
                    -0.0084483262154884,
                    0.49548203655217604,
                    2.246078158793811,
                    0.42259303452541797,
                    0.05930969730786076,
                    1.5805319325173806,
                    0.7950684738099064,
                    -0.16694683867643154,
                    0.7563859248663922,
                    0.3017200663374162,
                    0.6430453704564012,
                    0.06454915383604923,
                    0.24271821645902422,
                    -0.12627768205134032,
                    -0.055990418245697254,
                    0.5383125027713365,
                    2.0314332471818153,
                    0.35640894344516205,
                    -0.6003676036402165,
                    0.111741133789488,
                    -1.2351490896311954,
                    1.1835751853998489,
                    2.1524311942829066,
                    -0.27304384542914695,
                    -1.21966375329573,
                    1.1903725546098136,
                    0.5118507399748594,
                    0.7070449854365336,
                    1.4008282024342897,
                    0.7816256278265264,
                    -0.39865797581318485,
                    0.5136585141235935,
                    2.379642569044888,
                    0.569428596082904,
                    -0.20551811366383171,
                    0.7628329596182714,
                    0.7051568613350662,
                    -0.4417677475154328,
                    0.7977440399248197,
                    0.6513113039391172,
                    0.10275601107475199,
                    0.13336431770219725,
                    -0.1662334683234227,
                    -0.570524005043232,
                    0.2726383510887061,
                    0.5590211098673187,
                    3.3052178273722888,
                    0.40514212878368533,
                    -0.8944782124892257,
                    -0.01696124771195447
                  ],
                  "y0": " ",
                  "yaxis": "y"
                }
              ],
              "layout": {
                "boxmode": "group",
                "legend": {
                  "tracegroupgap": 0
                },
                "margin": {
                  "t": 60
                },
                "template": {
                  "data": {
                    "bar": [
                      {
                        "error_x": {
                          "color": "#2a3f5f"
                        },
                        "error_y": {
                          "color": "#2a3f5f"
                        },
                        "marker": {
                          "line": {
                            "color": "#E5ECF6",
                            "width": 0.5
                          },
                          "pattern": {
                            "fillmode": "overlay",
                            "size": 10,
                            "solidity": 0.2
                          }
                        },
                        "type": "bar"
                      }
                    ],
                    "barpolar": [
                      {
                        "marker": {
                          "line": {
                            "color": "#E5ECF6",
                            "width": 0.5
                          },
                          "pattern": {
                            "fillmode": "overlay",
                            "size": 10,
                            "solidity": 0.2
                          }
                        },
                        "type": "barpolar"
                      }
                    ],
                    "carpet": [
                      {
                        "aaxis": {
                          "endlinecolor": "#2a3f5f",
                          "gridcolor": "white",
                          "linecolor": "white",
                          "minorgridcolor": "white",
                          "startlinecolor": "#2a3f5f"
                        },
                        "baxis": {
                          "endlinecolor": "#2a3f5f",
                          "gridcolor": "white",
                          "linecolor": "white",
                          "minorgridcolor": "white",
                          "startlinecolor": "#2a3f5f"
                        },
                        "type": "carpet"
                      }
                    ],
                    "choropleth": [
                      {
                        "colorbar": {
                          "outlinewidth": 0,
                          "ticks": ""
                        },
                        "type": "choropleth"
                      }
                    ],
                    "contour": [
                      {
                        "colorbar": {
                          "outlinewidth": 0,
                          "ticks": ""
                        },
                        "colorscale": [
                          [
                            0,
                            "#0d0887"
                          ],
                          [
                            0.1111111111111111,
                            "#46039f"
                          ],
                          [
                            0.2222222222222222,
                            "#7201a8"
                          ],
                          [
                            0.3333333333333333,
                            "#9c179e"
                          ],
                          [
                            0.4444444444444444,
                            "#bd3786"
                          ],
                          [
                            0.5555555555555556,
                            "#d8576b"
                          ],
                          [
                            0.6666666666666666,
                            "#ed7953"
                          ],
                          [
                            0.7777777777777778,
                            "#fb9f3a"
                          ],
                          [
                            0.8888888888888888,
                            "#fdca26"
                          ],
                          [
                            1,
                            "#f0f921"
                          ]
                        ],
                        "type": "contour"
                      }
                    ],
                    "contourcarpet": [
                      {
                        "colorbar": {
                          "outlinewidth": 0,
                          "ticks": ""
                        },
                        "type": "contourcarpet"
                      }
                    ],
                    "heatmap": [
                      {
                        "colorbar": {
                          "outlinewidth": 0,
                          "ticks": ""
                        },
                        "colorscale": [
                          [
                            0,
                            "#0d0887"
                          ],
                          [
                            0.1111111111111111,
                            "#46039f"
                          ],
                          [
                            0.2222222222222222,
                            "#7201a8"
                          ],
                          [
                            0.3333333333333333,
                            "#9c179e"
                          ],
                          [
                            0.4444444444444444,
                            "#bd3786"
                          ],
                          [
                            0.5555555555555556,
                            "#d8576b"
                          ],
                          [
                            0.6666666666666666,
                            "#ed7953"
                          ],
                          [
                            0.7777777777777778,
                            "#fb9f3a"
                          ],
                          [
                            0.8888888888888888,
                            "#fdca26"
                          ],
                          [
                            1,
                            "#f0f921"
                          ]
                        ],
                        "type": "heatmap"
                      }
                    ],
                    "heatmapgl": [
                      {
                        "colorbar": {
                          "outlinewidth": 0,
                          "ticks": ""
                        },
                        "colorscale": [
                          [
                            0,
                            "#0d0887"
                          ],
                          [
                            0.1111111111111111,
                            "#46039f"
                          ],
                          [
                            0.2222222222222222,
                            "#7201a8"
                          ],
                          [
                            0.3333333333333333,
                            "#9c179e"
                          ],
                          [
                            0.4444444444444444,
                            "#bd3786"
                          ],
                          [
                            0.5555555555555556,
                            "#d8576b"
                          ],
                          [
                            0.6666666666666666,
                            "#ed7953"
                          ],
                          [
                            0.7777777777777778,
                            "#fb9f3a"
                          ],
                          [
                            0.8888888888888888,
                            "#fdca26"
                          ],
                          [
                            1,
                            "#f0f921"
                          ]
                        ],
                        "type": "heatmapgl"
                      }
                    ],
                    "histogram": [
                      {
                        "marker": {
                          "pattern": {
                            "fillmode": "overlay",
                            "size": 10,
                            "solidity": 0.2
                          }
                        },
                        "type": "histogram"
                      }
                    ],
                    "histogram2d": [
                      {
                        "colorbar": {
                          "outlinewidth": 0,
                          "ticks": ""
                        },
                        "colorscale": [
                          [
                            0,
                            "#0d0887"
                          ],
                          [
                            0.1111111111111111,
                            "#46039f"
                          ],
                          [
                            0.2222222222222222,
                            "#7201a8"
                          ],
                          [
                            0.3333333333333333,
                            "#9c179e"
                          ],
                          [
                            0.4444444444444444,
                            "#bd3786"
                          ],
                          [
                            0.5555555555555556,
                            "#d8576b"
                          ],
                          [
                            0.6666666666666666,
                            "#ed7953"
                          ],
                          [
                            0.7777777777777778,
                            "#fb9f3a"
                          ],
                          [
                            0.8888888888888888,
                            "#fdca26"
                          ],
                          [
                            1,
                            "#f0f921"
                          ]
                        ],
                        "type": "histogram2d"
                      }
                    ],
                    "histogram2dcontour": [
                      {
                        "colorbar": {
                          "outlinewidth": 0,
                          "ticks": ""
                        },
                        "colorscale": [
                          [
                            0,
                            "#0d0887"
                          ],
                          [
                            0.1111111111111111,
                            "#46039f"
                          ],
                          [
                            0.2222222222222222,
                            "#7201a8"
                          ],
                          [
                            0.3333333333333333,
                            "#9c179e"
                          ],
                          [
                            0.4444444444444444,
                            "#bd3786"
                          ],
                          [
                            0.5555555555555556,
                            "#d8576b"
                          ],
                          [
                            0.6666666666666666,
                            "#ed7953"
                          ],
                          [
                            0.7777777777777778,
                            "#fb9f3a"
                          ],
                          [
                            0.8888888888888888,
                            "#fdca26"
                          ],
                          [
                            1,
                            "#f0f921"
                          ]
                        ],
                        "type": "histogram2dcontour"
                      }
                    ],
                    "mesh3d": [
                      {
                        "colorbar": {
                          "outlinewidth": 0,
                          "ticks": ""
                        },
                        "type": "mesh3d"
                      }
                    ],
                    "parcoords": [
                      {
                        "line": {
                          "colorbar": {
                            "outlinewidth": 0,
                            "ticks": ""
                          }
                        },
                        "type": "parcoords"
                      }
                    ],
                    "pie": [
                      {
                        "automargin": true,
                        "type": "pie"
                      }
                    ],
                    "scatter": [
                      {
                        "fillpattern": {
                          "fillmode": "overlay",
                          "size": 10,
                          "solidity": 0.2
                        },
                        "type": "scatter"
                      }
                    ],
                    "scatter3d": [
                      {
                        "line": {
                          "colorbar": {
                            "outlinewidth": 0,
                            "ticks": ""
                          }
                        },
                        "marker": {
                          "colorbar": {
                            "outlinewidth": 0,
                            "ticks": ""
                          }
                        },
                        "type": "scatter3d"
                      }
                    ],
                    "scattercarpet": [
                      {
                        "marker": {
                          "colorbar": {
                            "outlinewidth": 0,
                            "ticks": ""
                          }
                        },
                        "type": "scattercarpet"
                      }
                    ],
                    "scattergeo": [
                      {
                        "marker": {
                          "colorbar": {
                            "outlinewidth": 0,
                            "ticks": ""
                          }
                        },
                        "type": "scattergeo"
                      }
                    ],
                    "scattergl": [
                      {
                        "marker": {
                          "colorbar": {
                            "outlinewidth": 0,
                            "ticks": ""
                          }
                        },
                        "type": "scattergl"
                      }
                    ],
                    "scattermapbox": [
                      {
                        "marker": {
                          "colorbar": {
                            "outlinewidth": 0,
                            "ticks": ""
                          }
                        },
                        "type": "scattermapbox"
                      }
                    ],
                    "scatterpolar": [
                      {
                        "marker": {
                          "colorbar": {
                            "outlinewidth": 0,
                            "ticks": ""
                          }
                        },
                        "type": "scatterpolar"
                      }
                    ],
                    "scatterpolargl": [
                      {
                        "marker": {
                          "colorbar": {
                            "outlinewidth": 0,
                            "ticks": ""
                          }
                        },
                        "type": "scatterpolargl"
                      }
                    ],
                    "scatterternary": [
                      {
                        "marker": {
                          "colorbar": {
                            "outlinewidth": 0,
                            "ticks": ""
                          }
                        },
                        "type": "scatterternary"
                      }
                    ],
                    "surface": [
                      {
                        "colorbar": {
                          "outlinewidth": 0,
                          "ticks": ""
                        },
                        "colorscale": [
                          [
                            0,
                            "#0d0887"
                          ],
                          [
                            0.1111111111111111,
                            "#46039f"
                          ],
                          [
                            0.2222222222222222,
                            "#7201a8"
                          ],
                          [
                            0.3333333333333333,
                            "#9c179e"
                          ],
                          [
                            0.4444444444444444,
                            "#bd3786"
                          ],
                          [
                            0.5555555555555556,
                            "#d8576b"
                          ],
                          [
                            0.6666666666666666,
                            "#ed7953"
                          ],
                          [
                            0.7777777777777778,
                            "#fb9f3a"
                          ],
                          [
                            0.8888888888888888,
                            "#fdca26"
                          ],
                          [
                            1,
                            "#f0f921"
                          ]
                        ],
                        "type": "surface"
                      }
                    ],
                    "table": [
                      {
                        "cells": {
                          "fill": {
                            "color": "#EBF0F8"
                          },
                          "line": {
                            "color": "white"
                          }
                        },
                        "header": {
                          "fill": {
                            "color": "#C8D4E3"
                          },
                          "line": {
                            "color": "white"
                          }
                        },
                        "type": "table"
                      }
                    ]
                  },
                  "layout": {
                    "annotationdefaults": {
                      "arrowcolor": "#2a3f5f",
                      "arrowhead": 0,
                      "arrowwidth": 1
                    },
                    "autotypenumbers": "strict",
                    "coloraxis": {
                      "colorbar": {
                        "outlinewidth": 0,
                        "ticks": ""
                      }
                    },
                    "colorscale": {
                      "diverging": [
                        [
                          0,
                          "#8e0152"
                        ],
                        [
                          0.1,
                          "#c51b7d"
                        ],
                        [
                          0.2,
                          "#de77ae"
                        ],
                        [
                          0.3,
                          "#f1b6da"
                        ],
                        [
                          0.4,
                          "#fde0ef"
                        ],
                        [
                          0.5,
                          "#f7f7f7"
                        ],
                        [
                          0.6,
                          "#e6f5d0"
                        ],
                        [
                          0.7,
                          "#b8e186"
                        ],
                        [
                          0.8,
                          "#7fbc41"
                        ],
                        [
                          0.9,
                          "#4d9221"
                        ],
                        [
                          1,
                          "#276419"
                        ]
                      ],
                      "sequential": [
                        [
                          0,
                          "#0d0887"
                        ],
                        [
                          0.1111111111111111,
                          "#46039f"
                        ],
                        [
                          0.2222222222222222,
                          "#7201a8"
                        ],
                        [
                          0.3333333333333333,
                          "#9c179e"
                        ],
                        [
                          0.4444444444444444,
                          "#bd3786"
                        ],
                        [
                          0.5555555555555556,
                          "#d8576b"
                        ],
                        [
                          0.6666666666666666,
                          "#ed7953"
                        ],
                        [
                          0.7777777777777778,
                          "#fb9f3a"
                        ],
                        [
                          0.8888888888888888,
                          "#fdca26"
                        ],
                        [
                          1,
                          "#f0f921"
                        ]
                      ],
                      "sequentialminus": [
                        [
                          0,
                          "#0d0887"
                        ],
                        [
                          0.1111111111111111,
                          "#46039f"
                        ],
                        [
                          0.2222222222222222,
                          "#7201a8"
                        ],
                        [
                          0.3333333333333333,
                          "#9c179e"
                        ],
                        [
                          0.4444444444444444,
                          "#bd3786"
                        ],
                        [
                          0.5555555555555556,
                          "#d8576b"
                        ],
                        [
                          0.6666666666666666,
                          "#ed7953"
                        ],
                        [
                          0.7777777777777778,
                          "#fb9f3a"
                        ],
                        [
                          0.8888888888888888,
                          "#fdca26"
                        ],
                        [
                          1,
                          "#f0f921"
                        ]
                      ]
                    },
                    "colorway": [
                      "#636efa",
                      "#EF553B",
                      "#00cc96",
                      "#ab63fa",
                      "#FFA15A",
                      "#19d3f3",
                      "#FF6692",
                      "#B6E880",
                      "#FF97FF",
                      "#FECB52"
                    ],
                    "font": {
                      "color": "#2a3f5f"
                    },
                    "geo": {
                      "bgcolor": "white",
                      "lakecolor": "white",
                      "landcolor": "#E5ECF6",
                      "showlakes": true,
                      "showland": true,
                      "subunitcolor": "white"
                    },
                    "hoverlabel": {
                      "align": "left"
                    },
                    "hovermode": "closest",
                    "mapbox": {
                      "style": "light"
                    },
                    "paper_bgcolor": "white",
                    "plot_bgcolor": "#E5ECF6",
                    "polar": {
                      "angularaxis": {
                        "gridcolor": "white",
                        "linecolor": "white",
                        "ticks": ""
                      },
                      "bgcolor": "#E5ECF6",
                      "radialaxis": {
                        "gridcolor": "white",
                        "linecolor": "white",
                        "ticks": ""
                      }
                    },
                    "scene": {
                      "xaxis": {
                        "backgroundcolor": "#E5ECF6",
                        "gridcolor": "white",
                        "gridwidth": 2,
                        "linecolor": "white",
                        "showbackground": true,
                        "ticks": "",
                        "zerolinecolor": "white"
                      },
                      "yaxis": {
                        "backgroundcolor": "#E5ECF6",
                        "gridcolor": "white",
                        "gridwidth": 2,
                        "linecolor": "white",
                        "showbackground": true,
                        "ticks": "",
                        "zerolinecolor": "white"
                      },
                      "zaxis": {
                        "backgroundcolor": "#E5ECF6",
                        "gridcolor": "white",
                        "gridwidth": 2,
                        "linecolor": "white",
                        "showbackground": true,
                        "ticks": "",
                        "zerolinecolor": "white"
                      }
                    },
                    "shapedefaults": {
                      "line": {
                        "color": "#2a3f5f"
                      }
                    },
                    "ternary": {
                      "aaxis": {
                        "gridcolor": "white",
                        "linecolor": "white",
                        "ticks": ""
                      },
                      "baxis": {
                        "gridcolor": "white",
                        "linecolor": "white",
                        "ticks": ""
                      },
                      "bgcolor": "#E5ECF6",
                      "caxis": {
                        "gridcolor": "white",
                        "linecolor": "white",
                        "ticks": ""
                      }
                    },
                    "title": {
                      "x": 0.05
                    },
                    "xaxis": {
                      "automargin": true,
                      "gridcolor": "white",
                      "linecolor": "white",
                      "ticks": "",
                      "title": {
                        "standoff": 15
                      },
                      "zerolinecolor": "white",
                      "zerolinewidth": 2
                    },
                    "yaxis": {
                      "automargin": true,
                      "gridcolor": "white",
                      "linecolor": "white",
                      "ticks": "",
                      "title": {
                        "standoff": 15
                      },
                      "zerolinecolor": "white",
                      "zerolinewidth": 2
                    }
                  }
                },
                "xaxis": {
                  "anchor": "y",
                  "domain": [
                    0,
                    1
                  ],
                  "title": {
                    "text": "variable"
                  }
                },
                "yaxis": {
                  "anchor": "x",
                  "domain": [
                    0,
                    1
                  ],
                  "title": {
                    "text": "value"
                  }
                }
              }
            }
          },
          "metadata": {},
          "output_type": "display_data"
        }
      ],
      "source": [
        "import plotly.express as px\n",
        "px.box(pbo).show()\n",
        "px.box(deflated_sr)"
      ]
    },
    {
      "cell_type": "code",
      "execution_count": 78,
      "metadata": {},
      "outputs": [
        {
          "data": {
            "application/vnd.plotly.v1+json": {
              "config": {
                "plotlyServerURL": "https://plot.ly"
              },
              "data": [
                {
                  "alignmentgroup": "True",
                  "hovertemplate": "variable=%{x}<br>value=%{y}<extra></extra>",
                  "legendgroup": "",
                  "marker": {
                    "color": "#636efa"
                  },
                  "name": "",
                  "notched": false,
                  "offsetgroup": "",
                  "orientation": "v",
                  "showlegend": false,
                  "type": "box",
                  "x": [
                    "Walk-Forward",
                    "Walk-Forward",
                    "Walk-Forward",
                    "Walk-Forward",
                    "Walk-Forward",
                    "Walk-Forward",
                    "Walk-Forward",
                    "Walk-Forward",
                    "Walk-Forward",
                    "Walk-Forward",
                    "Walk-Forward",
                    "Walk-Forward",
                    "Walk-Forward",
                    "Walk-Forward",
                    "Walk-Forward",
                    "Walk-Forward",
                    "Walk-Forward",
                    "Walk-Forward",
                    "Walk-Forward",
                    "Walk-Forward",
                    "Walk-Forward",
                    "Walk-Forward",
                    "Walk-Forward",
                    "Walk-Forward",
                    "Walk-Forward",
                    "Walk-Forward",
                    "Walk-Forward",
                    "Walk-Forward",
                    "Walk-Forward",
                    "Walk-Forward",
                    "K-Fold",
                    "K-Fold",
                    "K-Fold",
                    "K-Fold",
                    "K-Fold",
                    "K-Fold",
                    "K-Fold",
                    "K-Fold",
                    "K-Fold",
                    "K-Fold",
                    "K-Fold",
                    "K-Fold",
                    "K-Fold",
                    "K-Fold",
                    "K-Fold",
                    "K-Fold",
                    "K-Fold",
                    "K-Fold",
                    "K-Fold",
                    "K-Fold",
                    "K-Fold",
                    "K-Fold",
                    "K-Fold",
                    "K-Fold",
                    "K-Fold",
                    "K-Fold",
                    "K-Fold",
                    "K-Fold",
                    "K-Fold",
                    "K-Fold",
                    "Purged K-Fold",
                    "Purged K-Fold",
                    "Purged K-Fold",
                    "Purged K-Fold",
                    "Purged K-Fold",
                    "Purged K-Fold",
                    "Purged K-Fold",
                    "Purged K-Fold",
                    "Purged K-Fold",
                    "Purged K-Fold",
                    "Purged K-Fold",
                    "Purged K-Fold",
                    "Purged K-Fold",
                    "Purged K-Fold",
                    "Purged K-Fold",
                    "Purged K-Fold",
                    "Purged K-Fold",
                    "Purged K-Fold",
                    "Purged K-Fold",
                    "Purged K-Fold",
                    "Purged K-Fold",
                    "Purged K-Fold",
                    "Purged K-Fold",
                    "Purged K-Fold",
                    "Purged K-Fold",
                    "Purged K-Fold",
                    "Purged K-Fold",
                    "Purged K-Fold",
                    "Purged K-Fold",
                    "Purged K-Fold",
                    "Combinatorial Purged",
                    "Combinatorial Purged",
                    "Combinatorial Purged",
                    "Combinatorial Purged",
                    "Combinatorial Purged",
                    "Combinatorial Purged",
                    "Combinatorial Purged",
                    "Combinatorial Purged",
                    "Combinatorial Purged",
                    "Combinatorial Purged",
                    "Combinatorial Purged",
                    "Combinatorial Purged",
                    "Combinatorial Purged",
                    "Combinatorial Purged",
                    "Combinatorial Purged",
                    "Combinatorial Purged",
                    "Combinatorial Purged",
                    "Combinatorial Purged",
                    "Combinatorial Purged",
                    "Combinatorial Purged",
                    "Combinatorial Purged",
                    "Combinatorial Purged",
                    "Combinatorial Purged",
                    "Combinatorial Purged",
                    "Combinatorial Purged",
                    "Combinatorial Purged",
                    "Combinatorial Purged",
                    "Combinatorial Purged",
                    "Combinatorial Purged",
                    "Combinatorial Purged"
                  ],
                  "x0": " ",
                  "xaxis": "x",
                  "y": [
                    0.6136752136752137,
                    0.7536907536907537,
                    0.1961149961149961,
                    0.5247086247086247,
                    0.3181818181818182,
                    0.15112665112665113,
                    0.7835275835275836,
                    0.8357420357420358,
                    0.6595182595182595,
                    0.7376845376845377,
                    0.5076146076146076,
                    0.30473970473970474,
                    0.6844599844599845,
                    0.6958818958818959,
                    0.9030303030303031,
                    0.631002331002331,
                    0.468997668997669,
                    0.24607614607614609,
                    0.5060606060606061,
                    0.797979797979798,
                    0.6264957264957265,
                    0.3077700077700078,
                    0.8923076923076924,
                    0.21763791763791765,
                    0.32494172494172496,
                    0.4019425019425019,
                    0.2588966588966589,
                    0.13535353535353536,
                    0.5891996891996892,
                    0.4613830613830614,
                    0.6966588966588967,
                    0.5714840714840714,
                    0.03108003108003108,
                    0.7268065268065268,
                    0.517948717948718,
                    0.4722610722610723,
                    0.6141414141414141,
                    0.29184149184149183,
                    0.7413364413364414,
                    0.6121989121989122,
                    0.3502719502719503,
                    0.304972804972805,
                    0.3940947940947941,
                    0.23644133644133644,
                    0.533022533022533,
                    0.3710955710955711,
                    0.6584304584304584,
                    0.33115773115773117,
                    0.44926184926184926,
                    0.402020202020202,
                    0.29347319347319345,
                    0.1292152292152292,
                    0.3605283605283605,
                    0.10683760683760683,
                    0.24654234654234655,
                    0.39044289044289043,
                    0.6501165501165501,
                    0.2365967365967366,
                    0.06604506604506605,
                    0.4986013986013986,
                    0.27397047397047397,
                    0.7626262626262627,
                    0.1156954156954157,
                    0.5122766122766123,
                    0.2664335664335664,
                    0.4309246309246309,
                    0.5742812742812743,
                    0.3508935508935509,
                    0.6780885780885781,
                    0.30637140637140636,
                    0.2759129759129759,
                    0.22952602952602952,
                    0.4825174825174825,
                    0.39634809634809637,
                    0.5274281274281274,
                    0.34094794094794095,
                    0.38585858585858585,
                    0.44529914529914527,
                    0.4291375291375291,
                    0.42556332556332555,
                    0.7480963480963481,
                    0.12672882672882674,
                    0.5047397047397048,
                    0.29292929292929293,
                    0.3304584304584305,
                    0.4608391608391608,
                    0.43954933954933956,
                    0.37505827505827505,
                    0.11841491841491841,
                    0.322999222999223,
                    0.5425019425019425,
                    0.575058275058275,
                    0.08585858585858586,
                    0.6445998445998447,
                    0.17047397047397048,
                    0.37948717948717947,
                    0.6483294483294483,
                    0.7778554778554778,
                    0.6515928515928516,
                    0.3867132867132867,
                    0.3878787878787879,
                    0.21468531468531468,
                    0.29324009324009326,
                    0.34226884226884224,
                    0.23822843822843823,
                    0.37163947163947164,
                    0.16464646464646465,
                    0.23815073815073814,
                    0.7642579642579642,
                    0.41996891996892,
                    0.5493395493395493,
                    0.19518259518259518,
                    0.22564102564102564,
                    0.3151515151515151,
                    0.20007770007770007,
                    0.049883449883449886,
                    0.6358974358974359,
                    0.18873348873348875,
                    0.04553224553224553,
                    0.5417249417249417
                  ],
                  "y0": " ",
                  "yaxis": "y"
                }
              ],
              "layout": {
                "boxmode": "group",
                "legend": {
                  "tracegroupgap": 0
                },
                "margin": {
                  "t": 60
                },
                "template": {
                  "data": {
                    "bar": [
                      {
                        "error_x": {
                          "color": "#2a3f5f"
                        },
                        "error_y": {
                          "color": "#2a3f5f"
                        },
                        "marker": {
                          "line": {
                            "color": "#E5ECF6",
                            "width": 0.5
                          },
                          "pattern": {
                            "fillmode": "overlay",
                            "size": 10,
                            "solidity": 0.2
                          }
                        },
                        "type": "bar"
                      }
                    ],
                    "barpolar": [
                      {
                        "marker": {
                          "line": {
                            "color": "#E5ECF6",
                            "width": 0.5
                          },
                          "pattern": {
                            "fillmode": "overlay",
                            "size": 10,
                            "solidity": 0.2
                          }
                        },
                        "type": "barpolar"
                      }
                    ],
                    "carpet": [
                      {
                        "aaxis": {
                          "endlinecolor": "#2a3f5f",
                          "gridcolor": "white",
                          "linecolor": "white",
                          "minorgridcolor": "white",
                          "startlinecolor": "#2a3f5f"
                        },
                        "baxis": {
                          "endlinecolor": "#2a3f5f",
                          "gridcolor": "white",
                          "linecolor": "white",
                          "minorgridcolor": "white",
                          "startlinecolor": "#2a3f5f"
                        },
                        "type": "carpet"
                      }
                    ],
                    "choropleth": [
                      {
                        "colorbar": {
                          "outlinewidth": 0,
                          "ticks": ""
                        },
                        "type": "choropleth"
                      }
                    ],
                    "contour": [
                      {
                        "colorbar": {
                          "outlinewidth": 0,
                          "ticks": ""
                        },
                        "colorscale": [
                          [
                            0,
                            "#0d0887"
                          ],
                          [
                            0.1111111111111111,
                            "#46039f"
                          ],
                          [
                            0.2222222222222222,
                            "#7201a8"
                          ],
                          [
                            0.3333333333333333,
                            "#9c179e"
                          ],
                          [
                            0.4444444444444444,
                            "#bd3786"
                          ],
                          [
                            0.5555555555555556,
                            "#d8576b"
                          ],
                          [
                            0.6666666666666666,
                            "#ed7953"
                          ],
                          [
                            0.7777777777777778,
                            "#fb9f3a"
                          ],
                          [
                            0.8888888888888888,
                            "#fdca26"
                          ],
                          [
                            1,
                            "#f0f921"
                          ]
                        ],
                        "type": "contour"
                      }
                    ],
                    "contourcarpet": [
                      {
                        "colorbar": {
                          "outlinewidth": 0,
                          "ticks": ""
                        },
                        "type": "contourcarpet"
                      }
                    ],
                    "heatmap": [
                      {
                        "colorbar": {
                          "outlinewidth": 0,
                          "ticks": ""
                        },
                        "colorscale": [
                          [
                            0,
                            "#0d0887"
                          ],
                          [
                            0.1111111111111111,
                            "#46039f"
                          ],
                          [
                            0.2222222222222222,
                            "#7201a8"
                          ],
                          [
                            0.3333333333333333,
                            "#9c179e"
                          ],
                          [
                            0.4444444444444444,
                            "#bd3786"
                          ],
                          [
                            0.5555555555555556,
                            "#d8576b"
                          ],
                          [
                            0.6666666666666666,
                            "#ed7953"
                          ],
                          [
                            0.7777777777777778,
                            "#fb9f3a"
                          ],
                          [
                            0.8888888888888888,
                            "#fdca26"
                          ],
                          [
                            1,
                            "#f0f921"
                          ]
                        ],
                        "type": "heatmap"
                      }
                    ],
                    "heatmapgl": [
                      {
                        "colorbar": {
                          "outlinewidth": 0,
                          "ticks": ""
                        },
                        "colorscale": [
                          [
                            0,
                            "#0d0887"
                          ],
                          [
                            0.1111111111111111,
                            "#46039f"
                          ],
                          [
                            0.2222222222222222,
                            "#7201a8"
                          ],
                          [
                            0.3333333333333333,
                            "#9c179e"
                          ],
                          [
                            0.4444444444444444,
                            "#bd3786"
                          ],
                          [
                            0.5555555555555556,
                            "#d8576b"
                          ],
                          [
                            0.6666666666666666,
                            "#ed7953"
                          ],
                          [
                            0.7777777777777778,
                            "#fb9f3a"
                          ],
                          [
                            0.8888888888888888,
                            "#fdca26"
                          ],
                          [
                            1,
                            "#f0f921"
                          ]
                        ],
                        "type": "heatmapgl"
                      }
                    ],
                    "histogram": [
                      {
                        "marker": {
                          "pattern": {
                            "fillmode": "overlay",
                            "size": 10,
                            "solidity": 0.2
                          }
                        },
                        "type": "histogram"
                      }
                    ],
                    "histogram2d": [
                      {
                        "colorbar": {
                          "outlinewidth": 0,
                          "ticks": ""
                        },
                        "colorscale": [
                          [
                            0,
                            "#0d0887"
                          ],
                          [
                            0.1111111111111111,
                            "#46039f"
                          ],
                          [
                            0.2222222222222222,
                            "#7201a8"
                          ],
                          [
                            0.3333333333333333,
                            "#9c179e"
                          ],
                          [
                            0.4444444444444444,
                            "#bd3786"
                          ],
                          [
                            0.5555555555555556,
                            "#d8576b"
                          ],
                          [
                            0.6666666666666666,
                            "#ed7953"
                          ],
                          [
                            0.7777777777777778,
                            "#fb9f3a"
                          ],
                          [
                            0.8888888888888888,
                            "#fdca26"
                          ],
                          [
                            1,
                            "#f0f921"
                          ]
                        ],
                        "type": "histogram2d"
                      }
                    ],
                    "histogram2dcontour": [
                      {
                        "colorbar": {
                          "outlinewidth": 0,
                          "ticks": ""
                        },
                        "colorscale": [
                          [
                            0,
                            "#0d0887"
                          ],
                          [
                            0.1111111111111111,
                            "#46039f"
                          ],
                          [
                            0.2222222222222222,
                            "#7201a8"
                          ],
                          [
                            0.3333333333333333,
                            "#9c179e"
                          ],
                          [
                            0.4444444444444444,
                            "#bd3786"
                          ],
                          [
                            0.5555555555555556,
                            "#d8576b"
                          ],
                          [
                            0.6666666666666666,
                            "#ed7953"
                          ],
                          [
                            0.7777777777777778,
                            "#fb9f3a"
                          ],
                          [
                            0.8888888888888888,
                            "#fdca26"
                          ],
                          [
                            1,
                            "#f0f921"
                          ]
                        ],
                        "type": "histogram2dcontour"
                      }
                    ],
                    "mesh3d": [
                      {
                        "colorbar": {
                          "outlinewidth": 0,
                          "ticks": ""
                        },
                        "type": "mesh3d"
                      }
                    ],
                    "parcoords": [
                      {
                        "line": {
                          "colorbar": {
                            "outlinewidth": 0,
                            "ticks": ""
                          }
                        },
                        "type": "parcoords"
                      }
                    ],
                    "pie": [
                      {
                        "automargin": true,
                        "type": "pie"
                      }
                    ],
                    "scatter": [
                      {
                        "fillpattern": {
                          "fillmode": "overlay",
                          "size": 10,
                          "solidity": 0.2
                        },
                        "type": "scatter"
                      }
                    ],
                    "scatter3d": [
                      {
                        "line": {
                          "colorbar": {
                            "outlinewidth": 0,
                            "ticks": ""
                          }
                        },
                        "marker": {
                          "colorbar": {
                            "outlinewidth": 0,
                            "ticks": ""
                          }
                        },
                        "type": "scatter3d"
                      }
                    ],
                    "scattercarpet": [
                      {
                        "marker": {
                          "colorbar": {
                            "outlinewidth": 0,
                            "ticks": ""
                          }
                        },
                        "type": "scattercarpet"
                      }
                    ],
                    "scattergeo": [
                      {
                        "marker": {
                          "colorbar": {
                            "outlinewidth": 0,
                            "ticks": ""
                          }
                        },
                        "type": "scattergeo"
                      }
                    ],
                    "scattergl": [
                      {
                        "marker": {
                          "colorbar": {
                            "outlinewidth": 0,
                            "ticks": ""
                          }
                        },
                        "type": "scattergl"
                      }
                    ],
                    "scattermapbox": [
                      {
                        "marker": {
                          "colorbar": {
                            "outlinewidth": 0,
                            "ticks": ""
                          }
                        },
                        "type": "scattermapbox"
                      }
                    ],
                    "scatterpolar": [
                      {
                        "marker": {
                          "colorbar": {
                            "outlinewidth": 0,
                            "ticks": ""
                          }
                        },
                        "type": "scatterpolar"
                      }
                    ],
                    "scatterpolargl": [
                      {
                        "marker": {
                          "colorbar": {
                            "outlinewidth": 0,
                            "ticks": ""
                          }
                        },
                        "type": "scatterpolargl"
                      }
                    ],
                    "scatterternary": [
                      {
                        "marker": {
                          "colorbar": {
                            "outlinewidth": 0,
                            "ticks": ""
                          }
                        },
                        "type": "scatterternary"
                      }
                    ],
                    "surface": [
                      {
                        "colorbar": {
                          "outlinewidth": 0,
                          "ticks": ""
                        },
                        "colorscale": [
                          [
                            0,
                            "#0d0887"
                          ],
                          [
                            0.1111111111111111,
                            "#46039f"
                          ],
                          [
                            0.2222222222222222,
                            "#7201a8"
                          ],
                          [
                            0.3333333333333333,
                            "#9c179e"
                          ],
                          [
                            0.4444444444444444,
                            "#bd3786"
                          ],
                          [
                            0.5555555555555556,
                            "#d8576b"
                          ],
                          [
                            0.6666666666666666,
                            "#ed7953"
                          ],
                          [
                            0.7777777777777778,
                            "#fb9f3a"
                          ],
                          [
                            0.8888888888888888,
                            "#fdca26"
                          ],
                          [
                            1,
                            "#f0f921"
                          ]
                        ],
                        "type": "surface"
                      }
                    ],
                    "table": [
                      {
                        "cells": {
                          "fill": {
                            "color": "#EBF0F8"
                          },
                          "line": {
                            "color": "white"
                          }
                        },
                        "header": {
                          "fill": {
                            "color": "#C8D4E3"
                          },
                          "line": {
                            "color": "white"
                          }
                        },
                        "type": "table"
                      }
                    ]
                  },
                  "layout": {
                    "annotationdefaults": {
                      "arrowcolor": "#2a3f5f",
                      "arrowhead": 0,
                      "arrowwidth": 1
                    },
                    "autotypenumbers": "strict",
                    "coloraxis": {
                      "colorbar": {
                        "outlinewidth": 0,
                        "ticks": ""
                      }
                    },
                    "colorscale": {
                      "diverging": [
                        [
                          0,
                          "#8e0152"
                        ],
                        [
                          0.1,
                          "#c51b7d"
                        ],
                        [
                          0.2,
                          "#de77ae"
                        ],
                        [
                          0.3,
                          "#f1b6da"
                        ],
                        [
                          0.4,
                          "#fde0ef"
                        ],
                        [
                          0.5,
                          "#f7f7f7"
                        ],
                        [
                          0.6,
                          "#e6f5d0"
                        ],
                        [
                          0.7,
                          "#b8e186"
                        ],
                        [
                          0.8,
                          "#7fbc41"
                        ],
                        [
                          0.9,
                          "#4d9221"
                        ],
                        [
                          1,
                          "#276419"
                        ]
                      ],
                      "sequential": [
                        [
                          0,
                          "#0d0887"
                        ],
                        [
                          0.1111111111111111,
                          "#46039f"
                        ],
                        [
                          0.2222222222222222,
                          "#7201a8"
                        ],
                        [
                          0.3333333333333333,
                          "#9c179e"
                        ],
                        [
                          0.4444444444444444,
                          "#bd3786"
                        ],
                        [
                          0.5555555555555556,
                          "#d8576b"
                        ],
                        [
                          0.6666666666666666,
                          "#ed7953"
                        ],
                        [
                          0.7777777777777778,
                          "#fb9f3a"
                        ],
                        [
                          0.8888888888888888,
                          "#fdca26"
                        ],
                        [
                          1,
                          "#f0f921"
                        ]
                      ],
                      "sequentialminus": [
                        [
                          0,
                          "#0d0887"
                        ],
                        [
                          0.1111111111111111,
                          "#46039f"
                        ],
                        [
                          0.2222222222222222,
                          "#7201a8"
                        ],
                        [
                          0.3333333333333333,
                          "#9c179e"
                        ],
                        [
                          0.4444444444444444,
                          "#bd3786"
                        ],
                        [
                          0.5555555555555556,
                          "#d8576b"
                        ],
                        [
                          0.6666666666666666,
                          "#ed7953"
                        ],
                        [
                          0.7777777777777778,
                          "#fb9f3a"
                        ],
                        [
                          0.8888888888888888,
                          "#fdca26"
                        ],
                        [
                          1,
                          "#f0f921"
                        ]
                      ]
                    },
                    "colorway": [
                      "#636efa",
                      "#EF553B",
                      "#00cc96",
                      "#ab63fa",
                      "#FFA15A",
                      "#19d3f3",
                      "#FF6692",
                      "#B6E880",
                      "#FF97FF",
                      "#FECB52"
                    ],
                    "font": {
                      "color": "#2a3f5f"
                    },
                    "geo": {
                      "bgcolor": "white",
                      "lakecolor": "white",
                      "landcolor": "#E5ECF6",
                      "showlakes": true,
                      "showland": true,
                      "subunitcolor": "white"
                    },
                    "hoverlabel": {
                      "align": "left"
                    },
                    "hovermode": "closest",
                    "mapbox": {
                      "style": "light"
                    },
                    "paper_bgcolor": "white",
                    "plot_bgcolor": "#E5ECF6",
                    "polar": {
                      "angularaxis": {
                        "gridcolor": "white",
                        "linecolor": "white",
                        "ticks": ""
                      },
                      "bgcolor": "#E5ECF6",
                      "radialaxis": {
                        "gridcolor": "white",
                        "linecolor": "white",
                        "ticks": ""
                      }
                    },
                    "scene": {
                      "xaxis": {
                        "backgroundcolor": "#E5ECF6",
                        "gridcolor": "white",
                        "gridwidth": 2,
                        "linecolor": "white",
                        "showbackground": true,
                        "ticks": "",
                        "zerolinecolor": "white"
                      },
                      "yaxis": {
                        "backgroundcolor": "#E5ECF6",
                        "gridcolor": "white",
                        "gridwidth": 2,
                        "linecolor": "white",
                        "showbackground": true,
                        "ticks": "",
                        "zerolinecolor": "white"
                      },
                      "zaxis": {
                        "backgroundcolor": "#E5ECF6",
                        "gridcolor": "white",
                        "gridwidth": 2,
                        "linecolor": "white",
                        "showbackground": true,
                        "ticks": "",
                        "zerolinecolor": "white"
                      }
                    },
                    "shapedefaults": {
                      "line": {
                        "color": "#2a3f5f"
                      }
                    },
                    "ternary": {
                      "aaxis": {
                        "gridcolor": "white",
                        "linecolor": "white",
                        "ticks": ""
                      },
                      "baxis": {
                        "gridcolor": "white",
                        "linecolor": "white",
                        "ticks": ""
                      },
                      "bgcolor": "#E5ECF6",
                      "caxis": {
                        "gridcolor": "white",
                        "linecolor": "white",
                        "ticks": ""
                      }
                    },
                    "title": {
                      "x": 0.05
                    },
                    "xaxis": {
                      "automargin": true,
                      "gridcolor": "white",
                      "linecolor": "white",
                      "ticks": "",
                      "title": {
                        "standoff": 15
                      },
                      "zerolinecolor": "white",
                      "zerolinewidth": 2
                    },
                    "yaxis": {
                      "automargin": true,
                      "gridcolor": "white",
                      "linecolor": "white",
                      "ticks": "",
                      "title": {
                        "standoff": 15
                      },
                      "zerolinecolor": "white",
                      "zerolinewidth": 2
                    }
                  }
                },
                "xaxis": {
                  "anchor": "y",
                  "domain": [
                    0,
                    1
                  ],
                  "title": {
                    "text": "variable"
                  }
                },
                "yaxis": {
                  "anchor": "x",
                  "domain": [
                    0,
                    1
                  ],
                  "title": {
                    "text": "value"
                  }
                }
              }
            }
          },
          "metadata": {},
          "output_type": "display_data"
        },
        {
          "data": {
            "application/vnd.plotly.v1+json": {
              "config": {
                "plotlyServerURL": "https://plot.ly"
              },
              "data": [
                {
                  "alignmentgroup": "True",
                  "hovertemplate": "variable=%{x}<br>value=%{y}<extra></extra>",
                  "legendgroup": "",
                  "marker": {
                    "color": "#636efa"
                  },
                  "name": "",
                  "notched": false,
                  "offsetgroup": "",
                  "orientation": "v",
                  "showlegend": false,
                  "type": "box",
                  "x": [
                    "Walk-Forward",
                    "Walk-Forward",
                    "Walk-Forward",
                    "Walk-Forward",
                    "Walk-Forward",
                    "Walk-Forward",
                    "Walk-Forward",
                    "Walk-Forward",
                    "Walk-Forward",
                    "Walk-Forward",
                    "Walk-Forward",
                    "Walk-Forward",
                    "Walk-Forward",
                    "Walk-Forward",
                    "Walk-Forward",
                    "Walk-Forward",
                    "Walk-Forward",
                    "Walk-Forward",
                    "Walk-Forward",
                    "Walk-Forward",
                    "Walk-Forward",
                    "Walk-Forward",
                    "Walk-Forward",
                    "Walk-Forward",
                    "Walk-Forward",
                    "Walk-Forward",
                    "Walk-Forward",
                    "Walk-Forward",
                    "Walk-Forward",
                    "Walk-Forward",
                    "K-Fold",
                    "K-Fold",
                    "K-Fold",
                    "K-Fold",
                    "K-Fold",
                    "K-Fold",
                    "K-Fold",
                    "K-Fold",
                    "K-Fold",
                    "K-Fold",
                    "K-Fold",
                    "K-Fold",
                    "K-Fold",
                    "K-Fold",
                    "K-Fold",
                    "K-Fold",
                    "K-Fold",
                    "K-Fold",
                    "K-Fold",
                    "K-Fold",
                    "K-Fold",
                    "K-Fold",
                    "K-Fold",
                    "K-Fold",
                    "K-Fold",
                    "K-Fold",
                    "K-Fold",
                    "K-Fold",
                    "K-Fold",
                    "K-Fold",
                    "Purged K-Fold",
                    "Purged K-Fold",
                    "Purged K-Fold",
                    "Purged K-Fold",
                    "Purged K-Fold",
                    "Purged K-Fold",
                    "Purged K-Fold",
                    "Purged K-Fold",
                    "Purged K-Fold",
                    "Purged K-Fold",
                    "Purged K-Fold",
                    "Purged K-Fold",
                    "Purged K-Fold",
                    "Purged K-Fold",
                    "Purged K-Fold",
                    "Purged K-Fold",
                    "Purged K-Fold",
                    "Purged K-Fold",
                    "Purged K-Fold",
                    "Purged K-Fold",
                    "Purged K-Fold",
                    "Purged K-Fold",
                    "Purged K-Fold",
                    "Purged K-Fold",
                    "Purged K-Fold",
                    "Purged K-Fold",
                    "Purged K-Fold",
                    "Purged K-Fold",
                    "Purged K-Fold",
                    "Purged K-Fold",
                    "Combinatorial Purged",
                    "Combinatorial Purged",
                    "Combinatorial Purged",
                    "Combinatorial Purged",
                    "Combinatorial Purged",
                    "Combinatorial Purged",
                    "Combinatorial Purged",
                    "Combinatorial Purged",
                    "Combinatorial Purged",
                    "Combinatorial Purged",
                    "Combinatorial Purged",
                    "Combinatorial Purged",
                    "Combinatorial Purged",
                    "Combinatorial Purged",
                    "Combinatorial Purged",
                    "Combinatorial Purged",
                    "Combinatorial Purged",
                    "Combinatorial Purged",
                    "Combinatorial Purged",
                    "Combinatorial Purged",
                    "Combinatorial Purged",
                    "Combinatorial Purged",
                    "Combinatorial Purged",
                    "Combinatorial Purged",
                    "Combinatorial Purged",
                    "Combinatorial Purged",
                    "Combinatorial Purged",
                    "Combinatorial Purged",
                    "Combinatorial Purged",
                    "Combinatorial Purged"
                  ],
                  "x0": " ",
                  "xaxis": "x",
                  "y": [
                    -1.528927598641696,
                    0.9701351209465774,
                    0.7765146804136647,
                    -0.5288943276130242,
                    -1.1605389448970176,
                    0.5980060502023515,
                    0.35305885719385766,
                    1.1625607107702751,
                    1.0396688093649538,
                    0.30442056562857134,
                    -0.7570875430775204,
                    0.10314379102176933,
                    1.470731865499721,
                    -0.6374885471589784,
                    0.1846192426040526,
                    0.38577959129069855,
                    0.908885183142626,
                    0.21545470876210995,
                    0.5894810080378624,
                    -0.37481238016167917,
                    0.08706282434764477,
                    -0.2986765458016334,
                    0.22048532779066238,
                    -0.2414697035521333,
                    -0.05237694804280961,
                    0.6883464107242651,
                    1.4101351976963497,
                    1.142976994685369,
                    -0.9602379564329739,
                    0.30140459792594143,
                    -0.6723715783150874,
                    1.2547474562910221,
                    2.3669247957781656,
                    -0.27165956108756284,
                    -0.8008721870740326,
                    0.9036686204394664,
                    0.33040085512756984,
                    1.0977572980713373,
                    0.5311794438278968,
                    1.4073963880439437,
                    -0.09025589170533253,
                    0.5211792793372679,
                    1.764160883525385,
                    0.15941177965661207,
                    0.5437068745535591,
                    0.6321650095408788,
                    0.5831611644464462,
                    0.4118924288551862,
                    0.34853510596685583,
                    0.49817906520161404,
                    -0.4380483709986545,
                    -0.4828271880412612,
                    0.3721273930969234,
                    1.0281775392035521,
                    0.264698677571049,
                    1.2053186004870524,
                    2.620980343180227,
                    1.0032615911173592,
                    -0.7066502620378378,
                    0.3444969882842084,
                    0.04493079986641018,
                    0.9246728024048163,
                    2.2397187871551427,
                    -0.019185749693299285,
                    -0.9422145796530437,
                    0.7348432911689219,
                    0.5028010229046048,
                    1.0852142164590202,
                    0.8069501103783493,
                    0.6435116257487702,
                    -0.06270122365761158,
                    0.32644315115574507,
                    1.8377422992538872,
                    0.5908391550110026,
                    0.35567331573728633,
                    0.41069099119302394,
                    0.8934039004748928,
                    0.6384181008377185,
                    0.9350397531195783,
                    1.1246963157794359,
                    -0.1390111236904903,
                    -0.08962948122612148,
                    0.023419918416039156,
                    0.14227954702707965,
                    0.4678855306813537,
                    0.7147210290627336,
                    2.620067052659556,
                    1.1598203774739122,
                    -0.5561484679988358,
                    0.7358824020425553,
                    -0.8159355453735784,
                    1.231421128989011,
                    2.1267969567971714,
                    -0.34829257337986486,
                    -1.3541954559777778,
                    1.2013406283880026,
                    0.687833312110434,
                    0.7864974131376323,
                    1.144149339906365,
                    0.9630662942180607,
                    0.09395942955630887,
                    -0.05884396486950352,
                    2.024931478908411,
                    0.39256378196826136,
                    0.23992511589305446,
                    0.21176023574980493,
                    0.9059129618923474,
                    0.07810760420596978,
                    0.4038095410861785,
                    0.9104884976535048,
                    0.06630078242027651,
                    -0.183216716280859,
                    -0.040064406779305325,
                    -0.027936130244397506,
                    0.6364697417123614,
                    1.1554956829803127,
                    3.3909145415605946,
                    0.9835491847913028,
                    -0.9965931674579751,
                    0.7767710570591584
                  ],
                  "y0": " ",
                  "yaxis": "y"
                }
              ],
              "layout": {
                "boxmode": "group",
                "legend": {
                  "tracegroupgap": 0
                },
                "margin": {
                  "t": 60
                },
                "template": {
                  "data": {
                    "bar": [
                      {
                        "error_x": {
                          "color": "#2a3f5f"
                        },
                        "error_y": {
                          "color": "#2a3f5f"
                        },
                        "marker": {
                          "line": {
                            "color": "#E5ECF6",
                            "width": 0.5
                          },
                          "pattern": {
                            "fillmode": "overlay",
                            "size": 10,
                            "solidity": 0.2
                          }
                        },
                        "type": "bar"
                      }
                    ],
                    "barpolar": [
                      {
                        "marker": {
                          "line": {
                            "color": "#E5ECF6",
                            "width": 0.5
                          },
                          "pattern": {
                            "fillmode": "overlay",
                            "size": 10,
                            "solidity": 0.2
                          }
                        },
                        "type": "barpolar"
                      }
                    ],
                    "carpet": [
                      {
                        "aaxis": {
                          "endlinecolor": "#2a3f5f",
                          "gridcolor": "white",
                          "linecolor": "white",
                          "minorgridcolor": "white",
                          "startlinecolor": "#2a3f5f"
                        },
                        "baxis": {
                          "endlinecolor": "#2a3f5f",
                          "gridcolor": "white",
                          "linecolor": "white",
                          "minorgridcolor": "white",
                          "startlinecolor": "#2a3f5f"
                        },
                        "type": "carpet"
                      }
                    ],
                    "choropleth": [
                      {
                        "colorbar": {
                          "outlinewidth": 0,
                          "ticks": ""
                        },
                        "type": "choropleth"
                      }
                    ],
                    "contour": [
                      {
                        "colorbar": {
                          "outlinewidth": 0,
                          "ticks": ""
                        },
                        "colorscale": [
                          [
                            0,
                            "#0d0887"
                          ],
                          [
                            0.1111111111111111,
                            "#46039f"
                          ],
                          [
                            0.2222222222222222,
                            "#7201a8"
                          ],
                          [
                            0.3333333333333333,
                            "#9c179e"
                          ],
                          [
                            0.4444444444444444,
                            "#bd3786"
                          ],
                          [
                            0.5555555555555556,
                            "#d8576b"
                          ],
                          [
                            0.6666666666666666,
                            "#ed7953"
                          ],
                          [
                            0.7777777777777778,
                            "#fb9f3a"
                          ],
                          [
                            0.8888888888888888,
                            "#fdca26"
                          ],
                          [
                            1,
                            "#f0f921"
                          ]
                        ],
                        "type": "contour"
                      }
                    ],
                    "contourcarpet": [
                      {
                        "colorbar": {
                          "outlinewidth": 0,
                          "ticks": ""
                        },
                        "type": "contourcarpet"
                      }
                    ],
                    "heatmap": [
                      {
                        "colorbar": {
                          "outlinewidth": 0,
                          "ticks": ""
                        },
                        "colorscale": [
                          [
                            0,
                            "#0d0887"
                          ],
                          [
                            0.1111111111111111,
                            "#46039f"
                          ],
                          [
                            0.2222222222222222,
                            "#7201a8"
                          ],
                          [
                            0.3333333333333333,
                            "#9c179e"
                          ],
                          [
                            0.4444444444444444,
                            "#bd3786"
                          ],
                          [
                            0.5555555555555556,
                            "#d8576b"
                          ],
                          [
                            0.6666666666666666,
                            "#ed7953"
                          ],
                          [
                            0.7777777777777778,
                            "#fb9f3a"
                          ],
                          [
                            0.8888888888888888,
                            "#fdca26"
                          ],
                          [
                            1,
                            "#f0f921"
                          ]
                        ],
                        "type": "heatmap"
                      }
                    ],
                    "heatmapgl": [
                      {
                        "colorbar": {
                          "outlinewidth": 0,
                          "ticks": ""
                        },
                        "colorscale": [
                          [
                            0,
                            "#0d0887"
                          ],
                          [
                            0.1111111111111111,
                            "#46039f"
                          ],
                          [
                            0.2222222222222222,
                            "#7201a8"
                          ],
                          [
                            0.3333333333333333,
                            "#9c179e"
                          ],
                          [
                            0.4444444444444444,
                            "#bd3786"
                          ],
                          [
                            0.5555555555555556,
                            "#d8576b"
                          ],
                          [
                            0.6666666666666666,
                            "#ed7953"
                          ],
                          [
                            0.7777777777777778,
                            "#fb9f3a"
                          ],
                          [
                            0.8888888888888888,
                            "#fdca26"
                          ],
                          [
                            1,
                            "#f0f921"
                          ]
                        ],
                        "type": "heatmapgl"
                      }
                    ],
                    "histogram": [
                      {
                        "marker": {
                          "pattern": {
                            "fillmode": "overlay",
                            "size": 10,
                            "solidity": 0.2
                          }
                        },
                        "type": "histogram"
                      }
                    ],
                    "histogram2d": [
                      {
                        "colorbar": {
                          "outlinewidth": 0,
                          "ticks": ""
                        },
                        "colorscale": [
                          [
                            0,
                            "#0d0887"
                          ],
                          [
                            0.1111111111111111,
                            "#46039f"
                          ],
                          [
                            0.2222222222222222,
                            "#7201a8"
                          ],
                          [
                            0.3333333333333333,
                            "#9c179e"
                          ],
                          [
                            0.4444444444444444,
                            "#bd3786"
                          ],
                          [
                            0.5555555555555556,
                            "#d8576b"
                          ],
                          [
                            0.6666666666666666,
                            "#ed7953"
                          ],
                          [
                            0.7777777777777778,
                            "#fb9f3a"
                          ],
                          [
                            0.8888888888888888,
                            "#fdca26"
                          ],
                          [
                            1,
                            "#f0f921"
                          ]
                        ],
                        "type": "histogram2d"
                      }
                    ],
                    "histogram2dcontour": [
                      {
                        "colorbar": {
                          "outlinewidth": 0,
                          "ticks": ""
                        },
                        "colorscale": [
                          [
                            0,
                            "#0d0887"
                          ],
                          [
                            0.1111111111111111,
                            "#46039f"
                          ],
                          [
                            0.2222222222222222,
                            "#7201a8"
                          ],
                          [
                            0.3333333333333333,
                            "#9c179e"
                          ],
                          [
                            0.4444444444444444,
                            "#bd3786"
                          ],
                          [
                            0.5555555555555556,
                            "#d8576b"
                          ],
                          [
                            0.6666666666666666,
                            "#ed7953"
                          ],
                          [
                            0.7777777777777778,
                            "#fb9f3a"
                          ],
                          [
                            0.8888888888888888,
                            "#fdca26"
                          ],
                          [
                            1,
                            "#f0f921"
                          ]
                        ],
                        "type": "histogram2dcontour"
                      }
                    ],
                    "mesh3d": [
                      {
                        "colorbar": {
                          "outlinewidth": 0,
                          "ticks": ""
                        },
                        "type": "mesh3d"
                      }
                    ],
                    "parcoords": [
                      {
                        "line": {
                          "colorbar": {
                            "outlinewidth": 0,
                            "ticks": ""
                          }
                        },
                        "type": "parcoords"
                      }
                    ],
                    "pie": [
                      {
                        "automargin": true,
                        "type": "pie"
                      }
                    ],
                    "scatter": [
                      {
                        "fillpattern": {
                          "fillmode": "overlay",
                          "size": 10,
                          "solidity": 0.2
                        },
                        "type": "scatter"
                      }
                    ],
                    "scatter3d": [
                      {
                        "line": {
                          "colorbar": {
                            "outlinewidth": 0,
                            "ticks": ""
                          }
                        },
                        "marker": {
                          "colorbar": {
                            "outlinewidth": 0,
                            "ticks": ""
                          }
                        },
                        "type": "scatter3d"
                      }
                    ],
                    "scattercarpet": [
                      {
                        "marker": {
                          "colorbar": {
                            "outlinewidth": 0,
                            "ticks": ""
                          }
                        },
                        "type": "scattercarpet"
                      }
                    ],
                    "scattergeo": [
                      {
                        "marker": {
                          "colorbar": {
                            "outlinewidth": 0,
                            "ticks": ""
                          }
                        },
                        "type": "scattergeo"
                      }
                    ],
                    "scattergl": [
                      {
                        "marker": {
                          "colorbar": {
                            "outlinewidth": 0,
                            "ticks": ""
                          }
                        },
                        "type": "scattergl"
                      }
                    ],
                    "scattermapbox": [
                      {
                        "marker": {
                          "colorbar": {
                            "outlinewidth": 0,
                            "ticks": ""
                          }
                        },
                        "type": "scattermapbox"
                      }
                    ],
                    "scatterpolar": [
                      {
                        "marker": {
                          "colorbar": {
                            "outlinewidth": 0,
                            "ticks": ""
                          }
                        },
                        "type": "scatterpolar"
                      }
                    ],
                    "scatterpolargl": [
                      {
                        "marker": {
                          "colorbar": {
                            "outlinewidth": 0,
                            "ticks": ""
                          }
                        },
                        "type": "scatterpolargl"
                      }
                    ],
                    "scatterternary": [
                      {
                        "marker": {
                          "colorbar": {
                            "outlinewidth": 0,
                            "ticks": ""
                          }
                        },
                        "type": "scatterternary"
                      }
                    ],
                    "surface": [
                      {
                        "colorbar": {
                          "outlinewidth": 0,
                          "ticks": ""
                        },
                        "colorscale": [
                          [
                            0,
                            "#0d0887"
                          ],
                          [
                            0.1111111111111111,
                            "#46039f"
                          ],
                          [
                            0.2222222222222222,
                            "#7201a8"
                          ],
                          [
                            0.3333333333333333,
                            "#9c179e"
                          ],
                          [
                            0.4444444444444444,
                            "#bd3786"
                          ],
                          [
                            0.5555555555555556,
                            "#d8576b"
                          ],
                          [
                            0.6666666666666666,
                            "#ed7953"
                          ],
                          [
                            0.7777777777777778,
                            "#fb9f3a"
                          ],
                          [
                            0.8888888888888888,
                            "#fdca26"
                          ],
                          [
                            1,
                            "#f0f921"
                          ]
                        ],
                        "type": "surface"
                      }
                    ],
                    "table": [
                      {
                        "cells": {
                          "fill": {
                            "color": "#EBF0F8"
                          },
                          "line": {
                            "color": "white"
                          }
                        },
                        "header": {
                          "fill": {
                            "color": "#C8D4E3"
                          },
                          "line": {
                            "color": "white"
                          }
                        },
                        "type": "table"
                      }
                    ]
                  },
                  "layout": {
                    "annotationdefaults": {
                      "arrowcolor": "#2a3f5f",
                      "arrowhead": 0,
                      "arrowwidth": 1
                    },
                    "autotypenumbers": "strict",
                    "coloraxis": {
                      "colorbar": {
                        "outlinewidth": 0,
                        "ticks": ""
                      }
                    },
                    "colorscale": {
                      "diverging": [
                        [
                          0,
                          "#8e0152"
                        ],
                        [
                          0.1,
                          "#c51b7d"
                        ],
                        [
                          0.2,
                          "#de77ae"
                        ],
                        [
                          0.3,
                          "#f1b6da"
                        ],
                        [
                          0.4,
                          "#fde0ef"
                        ],
                        [
                          0.5,
                          "#f7f7f7"
                        ],
                        [
                          0.6,
                          "#e6f5d0"
                        ],
                        [
                          0.7,
                          "#b8e186"
                        ],
                        [
                          0.8,
                          "#7fbc41"
                        ],
                        [
                          0.9,
                          "#4d9221"
                        ],
                        [
                          1,
                          "#276419"
                        ]
                      ],
                      "sequential": [
                        [
                          0,
                          "#0d0887"
                        ],
                        [
                          0.1111111111111111,
                          "#46039f"
                        ],
                        [
                          0.2222222222222222,
                          "#7201a8"
                        ],
                        [
                          0.3333333333333333,
                          "#9c179e"
                        ],
                        [
                          0.4444444444444444,
                          "#bd3786"
                        ],
                        [
                          0.5555555555555556,
                          "#d8576b"
                        ],
                        [
                          0.6666666666666666,
                          "#ed7953"
                        ],
                        [
                          0.7777777777777778,
                          "#fb9f3a"
                        ],
                        [
                          0.8888888888888888,
                          "#fdca26"
                        ],
                        [
                          1,
                          "#f0f921"
                        ]
                      ],
                      "sequentialminus": [
                        [
                          0,
                          "#0d0887"
                        ],
                        [
                          0.1111111111111111,
                          "#46039f"
                        ],
                        [
                          0.2222222222222222,
                          "#7201a8"
                        ],
                        [
                          0.3333333333333333,
                          "#9c179e"
                        ],
                        [
                          0.4444444444444444,
                          "#bd3786"
                        ],
                        [
                          0.5555555555555556,
                          "#d8576b"
                        ],
                        [
                          0.6666666666666666,
                          "#ed7953"
                        ],
                        [
                          0.7777777777777778,
                          "#fb9f3a"
                        ],
                        [
                          0.8888888888888888,
                          "#fdca26"
                        ],
                        [
                          1,
                          "#f0f921"
                        ]
                      ]
                    },
                    "colorway": [
                      "#636efa",
                      "#EF553B",
                      "#00cc96",
                      "#ab63fa",
                      "#FFA15A",
                      "#19d3f3",
                      "#FF6692",
                      "#B6E880",
                      "#FF97FF",
                      "#FECB52"
                    ],
                    "font": {
                      "color": "#2a3f5f"
                    },
                    "geo": {
                      "bgcolor": "white",
                      "lakecolor": "white",
                      "landcolor": "#E5ECF6",
                      "showlakes": true,
                      "showland": true,
                      "subunitcolor": "white"
                    },
                    "hoverlabel": {
                      "align": "left"
                    },
                    "hovermode": "closest",
                    "mapbox": {
                      "style": "light"
                    },
                    "paper_bgcolor": "white",
                    "plot_bgcolor": "#E5ECF6",
                    "polar": {
                      "angularaxis": {
                        "gridcolor": "white",
                        "linecolor": "white",
                        "ticks": ""
                      },
                      "bgcolor": "#E5ECF6",
                      "radialaxis": {
                        "gridcolor": "white",
                        "linecolor": "white",
                        "ticks": ""
                      }
                    },
                    "scene": {
                      "xaxis": {
                        "backgroundcolor": "#E5ECF6",
                        "gridcolor": "white",
                        "gridwidth": 2,
                        "linecolor": "white",
                        "showbackground": true,
                        "ticks": "",
                        "zerolinecolor": "white"
                      },
                      "yaxis": {
                        "backgroundcolor": "#E5ECF6",
                        "gridcolor": "white",
                        "gridwidth": 2,
                        "linecolor": "white",
                        "showbackground": true,
                        "ticks": "",
                        "zerolinecolor": "white"
                      },
                      "zaxis": {
                        "backgroundcolor": "#E5ECF6",
                        "gridcolor": "white",
                        "gridwidth": 2,
                        "linecolor": "white",
                        "showbackground": true,
                        "ticks": "",
                        "zerolinecolor": "white"
                      }
                    },
                    "shapedefaults": {
                      "line": {
                        "color": "#2a3f5f"
                      }
                    },
                    "ternary": {
                      "aaxis": {
                        "gridcolor": "white",
                        "linecolor": "white",
                        "ticks": ""
                      },
                      "baxis": {
                        "gridcolor": "white",
                        "linecolor": "white",
                        "ticks": ""
                      },
                      "bgcolor": "#E5ECF6",
                      "caxis": {
                        "gridcolor": "white",
                        "linecolor": "white",
                        "ticks": ""
                      }
                    },
                    "title": {
                      "x": 0.05
                    },
                    "xaxis": {
                      "automargin": true,
                      "gridcolor": "white",
                      "linecolor": "white",
                      "ticks": "",
                      "title": {
                        "standoff": 15
                      },
                      "zerolinecolor": "white",
                      "zerolinewidth": 2
                    },
                    "yaxis": {
                      "automargin": true,
                      "gridcolor": "white",
                      "linecolor": "white",
                      "ticks": "",
                      "title": {
                        "standoff": 15
                      },
                      "zerolinecolor": "white",
                      "zerolinewidth": 2
                    }
                  }
                },
                "xaxis": {
                  "anchor": "y",
                  "domain": [
                    0,
                    1
                  ],
                  "title": {
                    "text": "variable"
                  }
                },
                "yaxis": {
                  "anchor": "x",
                  "domain": [
                    0,
                    1
                  ],
                  "title": {
                    "text": "value"
                  }
                }
              }
            }
          },
          "metadata": {},
          "output_type": "display_data"
        }
      ],
      "source": [
        "import plotly.express as px\n",
        "px.box(pbo).show()\n",
        "px.box(deflated_sr)"
      ]
    },
    {
      "cell_type": "code",
      "execution_count": 69,
      "metadata": {},
      "outputs": [
        {
          "data": {
            "application/vnd.plotly.v1+json": {
              "config": {
                "plotlyServerURL": "https://plot.ly"
              },
              "data": [
                {
                  "alignmentgroup": "True",
                  "hovertemplate": "variable=%{x}<br>value=%{y}<extra></extra>",
                  "legendgroup": "",
                  "marker": {
                    "color": "#636efa"
                  },
                  "name": "",
                  "notched": false,
                  "offsetgroup": "",
                  "orientation": "v",
                  "showlegend": false,
                  "type": "box",
                  "x": [
                    "Walk-Forward",
                    "Walk-Forward",
                    "Walk-Forward",
                    "Walk-Forward",
                    "Walk-Forward",
                    "Walk-Forward",
                    "Walk-Forward",
                    "Walk-Forward",
                    "Walk-Forward",
                    "Walk-Forward",
                    "Walk-Forward",
                    "Walk-Forward",
                    "Walk-Forward",
                    "Walk-Forward",
                    "Walk-Forward",
                    "Walk-Forward",
                    "Walk-Forward",
                    "Walk-Forward",
                    "Walk-Forward",
                    "Walk-Forward",
                    "Walk-Forward",
                    "Walk-Forward",
                    "Walk-Forward",
                    "Walk-Forward",
                    "Walk-Forward",
                    "Walk-Forward",
                    "Walk-Forward",
                    "Walk-Forward",
                    "Walk-Forward",
                    "Walk-Forward",
                    "K-Fold",
                    "K-Fold",
                    "K-Fold",
                    "K-Fold",
                    "K-Fold",
                    "K-Fold",
                    "K-Fold",
                    "K-Fold",
                    "K-Fold",
                    "K-Fold",
                    "K-Fold",
                    "K-Fold",
                    "K-Fold",
                    "K-Fold",
                    "K-Fold",
                    "K-Fold",
                    "K-Fold",
                    "K-Fold",
                    "K-Fold",
                    "K-Fold",
                    "K-Fold",
                    "K-Fold",
                    "K-Fold",
                    "K-Fold",
                    "K-Fold",
                    "K-Fold",
                    "K-Fold",
                    "K-Fold",
                    "K-Fold",
                    "K-Fold",
                    "Purged K-Fold",
                    "Purged K-Fold",
                    "Purged K-Fold",
                    "Purged K-Fold",
                    "Purged K-Fold",
                    "Purged K-Fold",
                    "Purged K-Fold",
                    "Purged K-Fold",
                    "Purged K-Fold",
                    "Purged K-Fold",
                    "Purged K-Fold",
                    "Purged K-Fold",
                    "Purged K-Fold",
                    "Purged K-Fold",
                    "Purged K-Fold",
                    "Purged K-Fold",
                    "Purged K-Fold",
                    "Purged K-Fold",
                    "Purged K-Fold",
                    "Purged K-Fold",
                    "Purged K-Fold",
                    "Purged K-Fold",
                    "Purged K-Fold",
                    "Purged K-Fold",
                    "Purged K-Fold",
                    "Purged K-Fold",
                    "Purged K-Fold",
                    "Purged K-Fold",
                    "Purged K-Fold",
                    "Purged K-Fold",
                    "Combinatorial Purged",
                    "Combinatorial Purged",
                    "Combinatorial Purged",
                    "Combinatorial Purged",
                    "Combinatorial Purged",
                    "Combinatorial Purged",
                    "Combinatorial Purged",
                    "Combinatorial Purged",
                    "Combinatorial Purged",
                    "Combinatorial Purged",
                    "Combinatorial Purged",
                    "Combinatorial Purged",
                    "Combinatorial Purged",
                    "Combinatorial Purged",
                    "Combinatorial Purged",
                    "Combinatorial Purged",
                    "Combinatorial Purged",
                    "Combinatorial Purged",
                    "Combinatorial Purged",
                    "Combinatorial Purged",
                    "Combinatorial Purged",
                    "Combinatorial Purged",
                    "Combinatorial Purged",
                    "Combinatorial Purged",
                    "Combinatorial Purged",
                    "Combinatorial Purged",
                    "Combinatorial Purged",
                    "Combinatorial Purged",
                    "Combinatorial Purged",
                    "Combinatorial Purged"
                  ],
                  "x0": " ",
                  "xaxis": "x",
                  "y": [
                    0.7088578088578089,
                    0.2066822066822067,
                    0.31033411033411035,
                    0.5068376068376068,
                    0.25827505827505826,
                    0.1439005439005439,
                    0.6226107226107226,
                    0.5278166278166279,
                    0.3883449883449883,
                    0.6756021756021756,
                    0.45563325563325563,
                    0.154001554001554,
                    0.777933177933178,
                    0.7419580419580419,
                    0.540947940947941,
                    0.526029526029526,
                    0.09681429681429682,
                    0.6114996114996115,
                    0.7455322455322455,
                    0.15703185703185704,
                    0.526961926961927,
                    0.3598290598290598,
                    0.4528360528360528,
                    0.24731934731934732,
                    0.30862470862470864,
                    0.20186480186480185,
                    0.7353535353535353,
                    0.18904428904428905,
                    0.6714063714063714,
                    0.20202020202020202,
                    0.20505050505050504,
                    0.4710955710955711,
                    0.15547785547785548,
                    0.6041958041958042,
                    0.788966588966589,
                    0.42735042735042733,
                    0.8163947163947164,
                    0.8206682206682206,
                    0.6794094794094794,
                    0.7864801864801865,
                    0.6390831390831391,
                    0.35586635586635584,
                    0.663014763014763,
                    0.5251748251748252,
                    0.26114996114996114,
                    0.39557109557109554,
                    0.18593628593628594,
                    0.527039627039627,
                    0.8186480186480186,
                    0.5484848484848485,
                    0.27062937062937065,
                    0.5072261072261073,
                    0.5295260295260296,
                    0.23682983682983683,
                    0.5835275835275835,
                    0.6114996114996115,
                    0.7072261072261072,
                    0.5789432789432789,
                    0.3101787101787102,
                    0.18593628593628594,
                    0.5317793317793318,
                    0.5483294483294483,
                    0.16907536907536908,
                    0.7087801087801088,
                    0.3588189588189588,
                    0.48321678321678324,
                    0.5766122766122767,
                    0.45734265734265733,
                    0.5944832944832945,
                    0.5731934731934732,
                    0.7346542346542346,
                    0.2682983682983683,
                    0.36534576534576535,
                    0.265967365967366,
                    0.3672882672882673,
                    0.32571872571872573,
                    0.1372183372183372,
                    0.6216006216006216,
                    0.5646464646464646,
                    0.6764568764568765,
                    0.2334887334887335,
                    0.45345765345765343,
                    0.31142191142191145,
                    0.16324786324786325,
                    0.3815073815073815,
                    0.552059052059052,
                    0.5955710955710956,
                    0.591996891996892,
                    0.3191919191919192,
                    0.3345765345765346,
                    0.2767676767676768,
                    0.38127428127428126,
                    0.2358974358974359,
                    0.632944832944833,
                    0.4353535353535353,
                    0.35998445998446,
                    0.6491064491064491,
                    0.45602175602175604,
                    0.8849261849261849,
                    0.768997668997669,
                    0.4205128205128205,
                    0.3997668997668998,
                    0.3682983682983683,
                    0.6054390054390054,
                    0.14405594405594405,
                    0.2686091686091686,
                    0.04895104895104895,
                    0.6627039627039627,
                    0.6664335664335664,
                    0.2898212898212898,
                    0.30357420357420356,
                    0.04219114219114219,
                    0.5226884226884226,
                    0.13278943278943278,
                    0.12680652680652682,
                    0.30233100233100235,
                    0.8323232323232324,
                    0.6254856254856255,
                    0.09052059052059053,
                    0.1404040404040404
                  ],
                  "y0": " ",
                  "yaxis": "y"
                }
              ],
              "layout": {
                "boxmode": "group",
                "legend": {
                  "tracegroupgap": 0
                },
                "margin": {
                  "t": 60
                },
                "template": {
                  "data": {
                    "bar": [
                      {
                        "error_x": {
                          "color": "#2a3f5f"
                        },
                        "error_y": {
                          "color": "#2a3f5f"
                        },
                        "marker": {
                          "line": {
                            "color": "#E5ECF6",
                            "width": 0.5
                          },
                          "pattern": {
                            "fillmode": "overlay",
                            "size": 10,
                            "solidity": 0.2
                          }
                        },
                        "type": "bar"
                      }
                    ],
                    "barpolar": [
                      {
                        "marker": {
                          "line": {
                            "color": "#E5ECF6",
                            "width": 0.5
                          },
                          "pattern": {
                            "fillmode": "overlay",
                            "size": 10,
                            "solidity": 0.2
                          }
                        },
                        "type": "barpolar"
                      }
                    ],
                    "carpet": [
                      {
                        "aaxis": {
                          "endlinecolor": "#2a3f5f",
                          "gridcolor": "white",
                          "linecolor": "white",
                          "minorgridcolor": "white",
                          "startlinecolor": "#2a3f5f"
                        },
                        "baxis": {
                          "endlinecolor": "#2a3f5f",
                          "gridcolor": "white",
                          "linecolor": "white",
                          "minorgridcolor": "white",
                          "startlinecolor": "#2a3f5f"
                        },
                        "type": "carpet"
                      }
                    ],
                    "choropleth": [
                      {
                        "colorbar": {
                          "outlinewidth": 0,
                          "ticks": ""
                        },
                        "type": "choropleth"
                      }
                    ],
                    "contour": [
                      {
                        "colorbar": {
                          "outlinewidth": 0,
                          "ticks": ""
                        },
                        "colorscale": [
                          [
                            0,
                            "#0d0887"
                          ],
                          [
                            0.1111111111111111,
                            "#46039f"
                          ],
                          [
                            0.2222222222222222,
                            "#7201a8"
                          ],
                          [
                            0.3333333333333333,
                            "#9c179e"
                          ],
                          [
                            0.4444444444444444,
                            "#bd3786"
                          ],
                          [
                            0.5555555555555556,
                            "#d8576b"
                          ],
                          [
                            0.6666666666666666,
                            "#ed7953"
                          ],
                          [
                            0.7777777777777778,
                            "#fb9f3a"
                          ],
                          [
                            0.8888888888888888,
                            "#fdca26"
                          ],
                          [
                            1,
                            "#f0f921"
                          ]
                        ],
                        "type": "contour"
                      }
                    ],
                    "contourcarpet": [
                      {
                        "colorbar": {
                          "outlinewidth": 0,
                          "ticks": ""
                        },
                        "type": "contourcarpet"
                      }
                    ],
                    "heatmap": [
                      {
                        "colorbar": {
                          "outlinewidth": 0,
                          "ticks": ""
                        },
                        "colorscale": [
                          [
                            0,
                            "#0d0887"
                          ],
                          [
                            0.1111111111111111,
                            "#46039f"
                          ],
                          [
                            0.2222222222222222,
                            "#7201a8"
                          ],
                          [
                            0.3333333333333333,
                            "#9c179e"
                          ],
                          [
                            0.4444444444444444,
                            "#bd3786"
                          ],
                          [
                            0.5555555555555556,
                            "#d8576b"
                          ],
                          [
                            0.6666666666666666,
                            "#ed7953"
                          ],
                          [
                            0.7777777777777778,
                            "#fb9f3a"
                          ],
                          [
                            0.8888888888888888,
                            "#fdca26"
                          ],
                          [
                            1,
                            "#f0f921"
                          ]
                        ],
                        "type": "heatmap"
                      }
                    ],
                    "heatmapgl": [
                      {
                        "colorbar": {
                          "outlinewidth": 0,
                          "ticks": ""
                        },
                        "colorscale": [
                          [
                            0,
                            "#0d0887"
                          ],
                          [
                            0.1111111111111111,
                            "#46039f"
                          ],
                          [
                            0.2222222222222222,
                            "#7201a8"
                          ],
                          [
                            0.3333333333333333,
                            "#9c179e"
                          ],
                          [
                            0.4444444444444444,
                            "#bd3786"
                          ],
                          [
                            0.5555555555555556,
                            "#d8576b"
                          ],
                          [
                            0.6666666666666666,
                            "#ed7953"
                          ],
                          [
                            0.7777777777777778,
                            "#fb9f3a"
                          ],
                          [
                            0.8888888888888888,
                            "#fdca26"
                          ],
                          [
                            1,
                            "#f0f921"
                          ]
                        ],
                        "type": "heatmapgl"
                      }
                    ],
                    "histogram": [
                      {
                        "marker": {
                          "pattern": {
                            "fillmode": "overlay",
                            "size": 10,
                            "solidity": 0.2
                          }
                        },
                        "type": "histogram"
                      }
                    ],
                    "histogram2d": [
                      {
                        "colorbar": {
                          "outlinewidth": 0,
                          "ticks": ""
                        },
                        "colorscale": [
                          [
                            0,
                            "#0d0887"
                          ],
                          [
                            0.1111111111111111,
                            "#46039f"
                          ],
                          [
                            0.2222222222222222,
                            "#7201a8"
                          ],
                          [
                            0.3333333333333333,
                            "#9c179e"
                          ],
                          [
                            0.4444444444444444,
                            "#bd3786"
                          ],
                          [
                            0.5555555555555556,
                            "#d8576b"
                          ],
                          [
                            0.6666666666666666,
                            "#ed7953"
                          ],
                          [
                            0.7777777777777778,
                            "#fb9f3a"
                          ],
                          [
                            0.8888888888888888,
                            "#fdca26"
                          ],
                          [
                            1,
                            "#f0f921"
                          ]
                        ],
                        "type": "histogram2d"
                      }
                    ],
                    "histogram2dcontour": [
                      {
                        "colorbar": {
                          "outlinewidth": 0,
                          "ticks": ""
                        },
                        "colorscale": [
                          [
                            0,
                            "#0d0887"
                          ],
                          [
                            0.1111111111111111,
                            "#46039f"
                          ],
                          [
                            0.2222222222222222,
                            "#7201a8"
                          ],
                          [
                            0.3333333333333333,
                            "#9c179e"
                          ],
                          [
                            0.4444444444444444,
                            "#bd3786"
                          ],
                          [
                            0.5555555555555556,
                            "#d8576b"
                          ],
                          [
                            0.6666666666666666,
                            "#ed7953"
                          ],
                          [
                            0.7777777777777778,
                            "#fb9f3a"
                          ],
                          [
                            0.8888888888888888,
                            "#fdca26"
                          ],
                          [
                            1,
                            "#f0f921"
                          ]
                        ],
                        "type": "histogram2dcontour"
                      }
                    ],
                    "mesh3d": [
                      {
                        "colorbar": {
                          "outlinewidth": 0,
                          "ticks": ""
                        },
                        "type": "mesh3d"
                      }
                    ],
                    "parcoords": [
                      {
                        "line": {
                          "colorbar": {
                            "outlinewidth": 0,
                            "ticks": ""
                          }
                        },
                        "type": "parcoords"
                      }
                    ],
                    "pie": [
                      {
                        "automargin": true,
                        "type": "pie"
                      }
                    ],
                    "scatter": [
                      {
                        "fillpattern": {
                          "fillmode": "overlay",
                          "size": 10,
                          "solidity": 0.2
                        },
                        "type": "scatter"
                      }
                    ],
                    "scatter3d": [
                      {
                        "line": {
                          "colorbar": {
                            "outlinewidth": 0,
                            "ticks": ""
                          }
                        },
                        "marker": {
                          "colorbar": {
                            "outlinewidth": 0,
                            "ticks": ""
                          }
                        },
                        "type": "scatter3d"
                      }
                    ],
                    "scattercarpet": [
                      {
                        "marker": {
                          "colorbar": {
                            "outlinewidth": 0,
                            "ticks": ""
                          }
                        },
                        "type": "scattercarpet"
                      }
                    ],
                    "scattergeo": [
                      {
                        "marker": {
                          "colorbar": {
                            "outlinewidth": 0,
                            "ticks": ""
                          }
                        },
                        "type": "scattergeo"
                      }
                    ],
                    "scattergl": [
                      {
                        "marker": {
                          "colorbar": {
                            "outlinewidth": 0,
                            "ticks": ""
                          }
                        },
                        "type": "scattergl"
                      }
                    ],
                    "scattermapbox": [
                      {
                        "marker": {
                          "colorbar": {
                            "outlinewidth": 0,
                            "ticks": ""
                          }
                        },
                        "type": "scattermapbox"
                      }
                    ],
                    "scatterpolar": [
                      {
                        "marker": {
                          "colorbar": {
                            "outlinewidth": 0,
                            "ticks": ""
                          }
                        },
                        "type": "scatterpolar"
                      }
                    ],
                    "scatterpolargl": [
                      {
                        "marker": {
                          "colorbar": {
                            "outlinewidth": 0,
                            "ticks": ""
                          }
                        },
                        "type": "scatterpolargl"
                      }
                    ],
                    "scatterternary": [
                      {
                        "marker": {
                          "colorbar": {
                            "outlinewidth": 0,
                            "ticks": ""
                          }
                        },
                        "type": "scatterternary"
                      }
                    ],
                    "surface": [
                      {
                        "colorbar": {
                          "outlinewidth": 0,
                          "ticks": ""
                        },
                        "colorscale": [
                          [
                            0,
                            "#0d0887"
                          ],
                          [
                            0.1111111111111111,
                            "#46039f"
                          ],
                          [
                            0.2222222222222222,
                            "#7201a8"
                          ],
                          [
                            0.3333333333333333,
                            "#9c179e"
                          ],
                          [
                            0.4444444444444444,
                            "#bd3786"
                          ],
                          [
                            0.5555555555555556,
                            "#d8576b"
                          ],
                          [
                            0.6666666666666666,
                            "#ed7953"
                          ],
                          [
                            0.7777777777777778,
                            "#fb9f3a"
                          ],
                          [
                            0.8888888888888888,
                            "#fdca26"
                          ],
                          [
                            1,
                            "#f0f921"
                          ]
                        ],
                        "type": "surface"
                      }
                    ],
                    "table": [
                      {
                        "cells": {
                          "fill": {
                            "color": "#EBF0F8"
                          },
                          "line": {
                            "color": "white"
                          }
                        },
                        "header": {
                          "fill": {
                            "color": "#C8D4E3"
                          },
                          "line": {
                            "color": "white"
                          }
                        },
                        "type": "table"
                      }
                    ]
                  },
                  "layout": {
                    "annotationdefaults": {
                      "arrowcolor": "#2a3f5f",
                      "arrowhead": 0,
                      "arrowwidth": 1
                    },
                    "autotypenumbers": "strict",
                    "coloraxis": {
                      "colorbar": {
                        "outlinewidth": 0,
                        "ticks": ""
                      }
                    },
                    "colorscale": {
                      "diverging": [
                        [
                          0,
                          "#8e0152"
                        ],
                        [
                          0.1,
                          "#c51b7d"
                        ],
                        [
                          0.2,
                          "#de77ae"
                        ],
                        [
                          0.3,
                          "#f1b6da"
                        ],
                        [
                          0.4,
                          "#fde0ef"
                        ],
                        [
                          0.5,
                          "#f7f7f7"
                        ],
                        [
                          0.6,
                          "#e6f5d0"
                        ],
                        [
                          0.7,
                          "#b8e186"
                        ],
                        [
                          0.8,
                          "#7fbc41"
                        ],
                        [
                          0.9,
                          "#4d9221"
                        ],
                        [
                          1,
                          "#276419"
                        ]
                      ],
                      "sequential": [
                        [
                          0,
                          "#0d0887"
                        ],
                        [
                          0.1111111111111111,
                          "#46039f"
                        ],
                        [
                          0.2222222222222222,
                          "#7201a8"
                        ],
                        [
                          0.3333333333333333,
                          "#9c179e"
                        ],
                        [
                          0.4444444444444444,
                          "#bd3786"
                        ],
                        [
                          0.5555555555555556,
                          "#d8576b"
                        ],
                        [
                          0.6666666666666666,
                          "#ed7953"
                        ],
                        [
                          0.7777777777777778,
                          "#fb9f3a"
                        ],
                        [
                          0.8888888888888888,
                          "#fdca26"
                        ],
                        [
                          1,
                          "#f0f921"
                        ]
                      ],
                      "sequentialminus": [
                        [
                          0,
                          "#0d0887"
                        ],
                        [
                          0.1111111111111111,
                          "#46039f"
                        ],
                        [
                          0.2222222222222222,
                          "#7201a8"
                        ],
                        [
                          0.3333333333333333,
                          "#9c179e"
                        ],
                        [
                          0.4444444444444444,
                          "#bd3786"
                        ],
                        [
                          0.5555555555555556,
                          "#d8576b"
                        ],
                        [
                          0.6666666666666666,
                          "#ed7953"
                        ],
                        [
                          0.7777777777777778,
                          "#fb9f3a"
                        ],
                        [
                          0.8888888888888888,
                          "#fdca26"
                        ],
                        [
                          1,
                          "#f0f921"
                        ]
                      ]
                    },
                    "colorway": [
                      "#636efa",
                      "#EF553B",
                      "#00cc96",
                      "#ab63fa",
                      "#FFA15A",
                      "#19d3f3",
                      "#FF6692",
                      "#B6E880",
                      "#FF97FF",
                      "#FECB52"
                    ],
                    "font": {
                      "color": "#2a3f5f"
                    },
                    "geo": {
                      "bgcolor": "white",
                      "lakecolor": "white",
                      "landcolor": "#E5ECF6",
                      "showlakes": true,
                      "showland": true,
                      "subunitcolor": "white"
                    },
                    "hoverlabel": {
                      "align": "left"
                    },
                    "hovermode": "closest",
                    "mapbox": {
                      "style": "light"
                    },
                    "paper_bgcolor": "white",
                    "plot_bgcolor": "#E5ECF6",
                    "polar": {
                      "angularaxis": {
                        "gridcolor": "white",
                        "linecolor": "white",
                        "ticks": ""
                      },
                      "bgcolor": "#E5ECF6",
                      "radialaxis": {
                        "gridcolor": "white",
                        "linecolor": "white",
                        "ticks": ""
                      }
                    },
                    "scene": {
                      "xaxis": {
                        "backgroundcolor": "#E5ECF6",
                        "gridcolor": "white",
                        "gridwidth": 2,
                        "linecolor": "white",
                        "showbackground": true,
                        "ticks": "",
                        "zerolinecolor": "white"
                      },
                      "yaxis": {
                        "backgroundcolor": "#E5ECF6",
                        "gridcolor": "white",
                        "gridwidth": 2,
                        "linecolor": "white",
                        "showbackground": true,
                        "ticks": "",
                        "zerolinecolor": "white"
                      },
                      "zaxis": {
                        "backgroundcolor": "#E5ECF6",
                        "gridcolor": "white",
                        "gridwidth": 2,
                        "linecolor": "white",
                        "showbackground": true,
                        "ticks": "",
                        "zerolinecolor": "white"
                      }
                    },
                    "shapedefaults": {
                      "line": {
                        "color": "#2a3f5f"
                      }
                    },
                    "ternary": {
                      "aaxis": {
                        "gridcolor": "white",
                        "linecolor": "white",
                        "ticks": ""
                      },
                      "baxis": {
                        "gridcolor": "white",
                        "linecolor": "white",
                        "ticks": ""
                      },
                      "bgcolor": "#E5ECF6",
                      "caxis": {
                        "gridcolor": "white",
                        "linecolor": "white",
                        "ticks": ""
                      }
                    },
                    "title": {
                      "x": 0.05
                    },
                    "xaxis": {
                      "automargin": true,
                      "gridcolor": "white",
                      "linecolor": "white",
                      "ticks": "",
                      "title": {
                        "standoff": 15
                      },
                      "zerolinecolor": "white",
                      "zerolinewidth": 2
                    },
                    "yaxis": {
                      "automargin": true,
                      "gridcolor": "white",
                      "linecolor": "white",
                      "ticks": "",
                      "title": {
                        "standoff": 15
                      },
                      "zerolinecolor": "white",
                      "zerolinewidth": 2
                    }
                  }
                },
                "xaxis": {
                  "anchor": "y",
                  "domain": [
                    0,
                    1
                  ],
                  "title": {
                    "text": "variable"
                  }
                },
                "yaxis": {
                  "anchor": "x",
                  "domain": [
                    0,
                    1
                  ],
                  "title": {
                    "text": "value"
                  }
                }
              }
            }
          },
          "metadata": {},
          "output_type": "display_data"
        },
        {
          "data": {
            "application/vnd.plotly.v1+json": {
              "config": {
                "plotlyServerURL": "https://plot.ly"
              },
              "data": [
                {
                  "alignmentgroup": "True",
                  "hovertemplate": "variable=%{x}<br>value=%{y}<extra></extra>",
                  "legendgroup": "",
                  "marker": {
                    "color": "#636efa"
                  },
                  "name": "",
                  "notched": false,
                  "offsetgroup": "",
                  "orientation": "v",
                  "showlegend": false,
                  "type": "box",
                  "x": [
                    "Walk-Forward",
                    "Walk-Forward",
                    "Walk-Forward",
                    "Walk-Forward",
                    "Walk-Forward",
                    "Walk-Forward",
                    "Walk-Forward",
                    "Walk-Forward",
                    "Walk-Forward",
                    "Walk-Forward",
                    "Walk-Forward",
                    "Walk-Forward",
                    "Walk-Forward",
                    "Walk-Forward",
                    "Walk-Forward",
                    "Walk-Forward",
                    "Walk-Forward",
                    "Walk-Forward",
                    "Walk-Forward",
                    "Walk-Forward",
                    "Walk-Forward",
                    "Walk-Forward",
                    "Walk-Forward",
                    "Walk-Forward",
                    "Walk-Forward",
                    "Walk-Forward",
                    "Walk-Forward",
                    "Walk-Forward",
                    "Walk-Forward",
                    "Walk-Forward",
                    "K-Fold",
                    "K-Fold",
                    "K-Fold",
                    "K-Fold",
                    "K-Fold",
                    "K-Fold",
                    "K-Fold",
                    "K-Fold",
                    "K-Fold",
                    "K-Fold",
                    "K-Fold",
                    "K-Fold",
                    "K-Fold",
                    "K-Fold",
                    "K-Fold",
                    "K-Fold",
                    "K-Fold",
                    "K-Fold",
                    "K-Fold",
                    "K-Fold",
                    "K-Fold",
                    "K-Fold",
                    "K-Fold",
                    "K-Fold",
                    "K-Fold",
                    "K-Fold",
                    "K-Fold",
                    "K-Fold",
                    "K-Fold",
                    "K-Fold",
                    "Purged K-Fold",
                    "Purged K-Fold",
                    "Purged K-Fold",
                    "Purged K-Fold",
                    "Purged K-Fold",
                    "Purged K-Fold",
                    "Purged K-Fold",
                    "Purged K-Fold",
                    "Purged K-Fold",
                    "Purged K-Fold",
                    "Purged K-Fold",
                    "Purged K-Fold",
                    "Purged K-Fold",
                    "Purged K-Fold",
                    "Purged K-Fold",
                    "Purged K-Fold",
                    "Purged K-Fold",
                    "Purged K-Fold",
                    "Purged K-Fold",
                    "Purged K-Fold",
                    "Purged K-Fold",
                    "Purged K-Fold",
                    "Purged K-Fold",
                    "Purged K-Fold",
                    "Purged K-Fold",
                    "Purged K-Fold",
                    "Purged K-Fold",
                    "Purged K-Fold",
                    "Purged K-Fold",
                    "Purged K-Fold",
                    "Combinatorial Purged",
                    "Combinatorial Purged",
                    "Combinatorial Purged",
                    "Combinatorial Purged",
                    "Combinatorial Purged",
                    "Combinatorial Purged",
                    "Combinatorial Purged",
                    "Combinatorial Purged",
                    "Combinatorial Purged",
                    "Combinatorial Purged",
                    "Combinatorial Purged",
                    "Combinatorial Purged",
                    "Combinatorial Purged",
                    "Combinatorial Purged",
                    "Combinatorial Purged",
                    "Combinatorial Purged",
                    "Combinatorial Purged",
                    "Combinatorial Purged",
                    "Combinatorial Purged",
                    "Combinatorial Purged",
                    "Combinatorial Purged",
                    "Combinatorial Purged",
                    "Combinatorial Purged",
                    "Combinatorial Purged",
                    "Combinatorial Purged",
                    "Combinatorial Purged",
                    "Combinatorial Purged",
                    "Combinatorial Purged",
                    "Combinatorial Purged",
                    "Combinatorial Purged"
                  ],
                  "x0": " ",
                  "xaxis": "x",
                  "y": [
                    -1.1544211921883873,
                    1.644794846430194,
                    2.052469316199433,
                    0.1360456267812849,
                    -1.6875251506280464,
                    1.34000855593583,
                    -0.7004476362953871,
                    1.358928528333389,
                    1.0100801275733011,
                    0.3494317933518532,
                    -0.3147069669134292,
                    -0.7081982193644333,
                    1.9274853724426813,
                    -1.4360391058988067,
                    0.48488667708622923,
                    1.2236819727663328,
                    0.3332444791981538,
                    1.0229002317939901,
                    0.6465388455080034,
                    0.42683324354639635,
                    0.37597639117449055,
                    -0.2654572990587146,
                    0.09850334108331114,
                    -0.052081402574130437,
                    0.8421830875601573,
                    0.3518911766699308,
                    1.3407162960964532,
                    -0.12188384179778552,
                    0.07633725955889305,
                    -1.1792139098430434,
                    0.3736262844918892,
                    0.6747198996617747,
                    2.7563950427216226,
                    1.0250196723242258,
                    -1.4291026285822357,
                    1.4755627138419198,
                    -0.44581067881195136,
                    0.5565153531699123,
                    1.3183974080492515,
                    0.5481463810991066,
                    -0.20487110903289976,
                    0.14227852904044413,
                    1.6910207246669333,
                    -0.32833176228001065,
                    -0.257341913023304,
                    0.9761519508077657,
                    0.5519281231499751,
                    0.7635248953773537,
                    0.6637909489528578,
                    0.5612454605971372,
                    0.6631751214279077,
                    0.8168943671602138,
                    0.16559460769505946,
                    0.38447142850386024,
                    0.4844738827019373,
                    -0.12768424927490588,
                    3.0059511655548774,
                    -0.009609758261492834,
                    -0.21161972949503619,
                    -0.9034136589261209,
                    -0.07997669062270124,
                    0.22155522807433647,
                    3.20516355979521,
                    0.45046116041655027,
                    -0.8687178885659217,
                    0.3390628147457586,
                    0.1281195005063185,
                    1.0932875202476626,
                    1.7941426853842222,
                    1.0425400116823191,
                    -0.12247119377341703,
                    0.14467801794243285,
                    2.029386117835499,
                    0.17388997416895977,
                    0.14210662992263598,
                    1.0099618599180833,
                    0.768898390529407,
                    0.7689798963798541,
                    1.1788271455595882,
                    0.8352183240051458,
                    0.49289241116057125,
                    0.8532050912621063,
                    0.3070451137214988,
                    0.8810327678275677,
                    0.7633013121087978,
                    0.03050585709670884,
                    2.5588279805130587,
                    0.027576891175118808,
                    0.2998390765603609,
                    -0.7194738363783613,
                    -0.8921504752702671,
                    0.7691421704660689,
                    3.594586604847506,
                    0.252606842027395,
                    -1.3893095307267609,
                    1.3109187795269386,
                    -0.14437562058252237,
                    0.8594833957523573,
                    1.6819972823513443,
                    0.7646488286628742,
                    0.5146040472239297,
                    -0.2907117838599882,
                    2.494961078884443,
                    -0.13672786206243545,
                    -0.035684385721910364,
                    0.645347867203229,
                    0.8391813401221904,
                    0.6660967301145984,
                    0.7868110029998812,
                    0.9287394661291398,
                    0.10287065317360507,
                    0.6467983700152657,
                    0.9452722547162131,
                    0.18698576589522686,
                    0.7920649093531776,
                    0.038062138404748244,
                    2.7345308147510643,
                    -0.09474790837963716,
                    0.3220643286648076,
                    -0.8722646002963883
                  ],
                  "y0": " ",
                  "yaxis": "y"
                }
              ],
              "layout": {
                "boxmode": "group",
                "legend": {
                  "tracegroupgap": 0
                },
                "margin": {
                  "t": 60
                },
                "template": {
                  "data": {
                    "bar": [
                      {
                        "error_x": {
                          "color": "#2a3f5f"
                        },
                        "error_y": {
                          "color": "#2a3f5f"
                        },
                        "marker": {
                          "line": {
                            "color": "#E5ECF6",
                            "width": 0.5
                          },
                          "pattern": {
                            "fillmode": "overlay",
                            "size": 10,
                            "solidity": 0.2
                          }
                        },
                        "type": "bar"
                      }
                    ],
                    "barpolar": [
                      {
                        "marker": {
                          "line": {
                            "color": "#E5ECF6",
                            "width": 0.5
                          },
                          "pattern": {
                            "fillmode": "overlay",
                            "size": 10,
                            "solidity": 0.2
                          }
                        },
                        "type": "barpolar"
                      }
                    ],
                    "carpet": [
                      {
                        "aaxis": {
                          "endlinecolor": "#2a3f5f",
                          "gridcolor": "white",
                          "linecolor": "white",
                          "minorgridcolor": "white",
                          "startlinecolor": "#2a3f5f"
                        },
                        "baxis": {
                          "endlinecolor": "#2a3f5f",
                          "gridcolor": "white",
                          "linecolor": "white",
                          "minorgridcolor": "white",
                          "startlinecolor": "#2a3f5f"
                        },
                        "type": "carpet"
                      }
                    ],
                    "choropleth": [
                      {
                        "colorbar": {
                          "outlinewidth": 0,
                          "ticks": ""
                        },
                        "type": "choropleth"
                      }
                    ],
                    "contour": [
                      {
                        "colorbar": {
                          "outlinewidth": 0,
                          "ticks": ""
                        },
                        "colorscale": [
                          [
                            0,
                            "#0d0887"
                          ],
                          [
                            0.1111111111111111,
                            "#46039f"
                          ],
                          [
                            0.2222222222222222,
                            "#7201a8"
                          ],
                          [
                            0.3333333333333333,
                            "#9c179e"
                          ],
                          [
                            0.4444444444444444,
                            "#bd3786"
                          ],
                          [
                            0.5555555555555556,
                            "#d8576b"
                          ],
                          [
                            0.6666666666666666,
                            "#ed7953"
                          ],
                          [
                            0.7777777777777778,
                            "#fb9f3a"
                          ],
                          [
                            0.8888888888888888,
                            "#fdca26"
                          ],
                          [
                            1,
                            "#f0f921"
                          ]
                        ],
                        "type": "contour"
                      }
                    ],
                    "contourcarpet": [
                      {
                        "colorbar": {
                          "outlinewidth": 0,
                          "ticks": ""
                        },
                        "type": "contourcarpet"
                      }
                    ],
                    "heatmap": [
                      {
                        "colorbar": {
                          "outlinewidth": 0,
                          "ticks": ""
                        },
                        "colorscale": [
                          [
                            0,
                            "#0d0887"
                          ],
                          [
                            0.1111111111111111,
                            "#46039f"
                          ],
                          [
                            0.2222222222222222,
                            "#7201a8"
                          ],
                          [
                            0.3333333333333333,
                            "#9c179e"
                          ],
                          [
                            0.4444444444444444,
                            "#bd3786"
                          ],
                          [
                            0.5555555555555556,
                            "#d8576b"
                          ],
                          [
                            0.6666666666666666,
                            "#ed7953"
                          ],
                          [
                            0.7777777777777778,
                            "#fb9f3a"
                          ],
                          [
                            0.8888888888888888,
                            "#fdca26"
                          ],
                          [
                            1,
                            "#f0f921"
                          ]
                        ],
                        "type": "heatmap"
                      }
                    ],
                    "heatmapgl": [
                      {
                        "colorbar": {
                          "outlinewidth": 0,
                          "ticks": ""
                        },
                        "colorscale": [
                          [
                            0,
                            "#0d0887"
                          ],
                          [
                            0.1111111111111111,
                            "#46039f"
                          ],
                          [
                            0.2222222222222222,
                            "#7201a8"
                          ],
                          [
                            0.3333333333333333,
                            "#9c179e"
                          ],
                          [
                            0.4444444444444444,
                            "#bd3786"
                          ],
                          [
                            0.5555555555555556,
                            "#d8576b"
                          ],
                          [
                            0.6666666666666666,
                            "#ed7953"
                          ],
                          [
                            0.7777777777777778,
                            "#fb9f3a"
                          ],
                          [
                            0.8888888888888888,
                            "#fdca26"
                          ],
                          [
                            1,
                            "#f0f921"
                          ]
                        ],
                        "type": "heatmapgl"
                      }
                    ],
                    "histogram": [
                      {
                        "marker": {
                          "pattern": {
                            "fillmode": "overlay",
                            "size": 10,
                            "solidity": 0.2
                          }
                        },
                        "type": "histogram"
                      }
                    ],
                    "histogram2d": [
                      {
                        "colorbar": {
                          "outlinewidth": 0,
                          "ticks": ""
                        },
                        "colorscale": [
                          [
                            0,
                            "#0d0887"
                          ],
                          [
                            0.1111111111111111,
                            "#46039f"
                          ],
                          [
                            0.2222222222222222,
                            "#7201a8"
                          ],
                          [
                            0.3333333333333333,
                            "#9c179e"
                          ],
                          [
                            0.4444444444444444,
                            "#bd3786"
                          ],
                          [
                            0.5555555555555556,
                            "#d8576b"
                          ],
                          [
                            0.6666666666666666,
                            "#ed7953"
                          ],
                          [
                            0.7777777777777778,
                            "#fb9f3a"
                          ],
                          [
                            0.8888888888888888,
                            "#fdca26"
                          ],
                          [
                            1,
                            "#f0f921"
                          ]
                        ],
                        "type": "histogram2d"
                      }
                    ],
                    "histogram2dcontour": [
                      {
                        "colorbar": {
                          "outlinewidth": 0,
                          "ticks": ""
                        },
                        "colorscale": [
                          [
                            0,
                            "#0d0887"
                          ],
                          [
                            0.1111111111111111,
                            "#46039f"
                          ],
                          [
                            0.2222222222222222,
                            "#7201a8"
                          ],
                          [
                            0.3333333333333333,
                            "#9c179e"
                          ],
                          [
                            0.4444444444444444,
                            "#bd3786"
                          ],
                          [
                            0.5555555555555556,
                            "#d8576b"
                          ],
                          [
                            0.6666666666666666,
                            "#ed7953"
                          ],
                          [
                            0.7777777777777778,
                            "#fb9f3a"
                          ],
                          [
                            0.8888888888888888,
                            "#fdca26"
                          ],
                          [
                            1,
                            "#f0f921"
                          ]
                        ],
                        "type": "histogram2dcontour"
                      }
                    ],
                    "mesh3d": [
                      {
                        "colorbar": {
                          "outlinewidth": 0,
                          "ticks": ""
                        },
                        "type": "mesh3d"
                      }
                    ],
                    "parcoords": [
                      {
                        "line": {
                          "colorbar": {
                            "outlinewidth": 0,
                            "ticks": ""
                          }
                        },
                        "type": "parcoords"
                      }
                    ],
                    "pie": [
                      {
                        "automargin": true,
                        "type": "pie"
                      }
                    ],
                    "scatter": [
                      {
                        "fillpattern": {
                          "fillmode": "overlay",
                          "size": 10,
                          "solidity": 0.2
                        },
                        "type": "scatter"
                      }
                    ],
                    "scatter3d": [
                      {
                        "line": {
                          "colorbar": {
                            "outlinewidth": 0,
                            "ticks": ""
                          }
                        },
                        "marker": {
                          "colorbar": {
                            "outlinewidth": 0,
                            "ticks": ""
                          }
                        },
                        "type": "scatter3d"
                      }
                    ],
                    "scattercarpet": [
                      {
                        "marker": {
                          "colorbar": {
                            "outlinewidth": 0,
                            "ticks": ""
                          }
                        },
                        "type": "scattercarpet"
                      }
                    ],
                    "scattergeo": [
                      {
                        "marker": {
                          "colorbar": {
                            "outlinewidth": 0,
                            "ticks": ""
                          }
                        },
                        "type": "scattergeo"
                      }
                    ],
                    "scattergl": [
                      {
                        "marker": {
                          "colorbar": {
                            "outlinewidth": 0,
                            "ticks": ""
                          }
                        },
                        "type": "scattergl"
                      }
                    ],
                    "scattermapbox": [
                      {
                        "marker": {
                          "colorbar": {
                            "outlinewidth": 0,
                            "ticks": ""
                          }
                        },
                        "type": "scattermapbox"
                      }
                    ],
                    "scatterpolar": [
                      {
                        "marker": {
                          "colorbar": {
                            "outlinewidth": 0,
                            "ticks": ""
                          }
                        },
                        "type": "scatterpolar"
                      }
                    ],
                    "scatterpolargl": [
                      {
                        "marker": {
                          "colorbar": {
                            "outlinewidth": 0,
                            "ticks": ""
                          }
                        },
                        "type": "scatterpolargl"
                      }
                    ],
                    "scatterternary": [
                      {
                        "marker": {
                          "colorbar": {
                            "outlinewidth": 0,
                            "ticks": ""
                          }
                        },
                        "type": "scatterternary"
                      }
                    ],
                    "surface": [
                      {
                        "colorbar": {
                          "outlinewidth": 0,
                          "ticks": ""
                        },
                        "colorscale": [
                          [
                            0,
                            "#0d0887"
                          ],
                          [
                            0.1111111111111111,
                            "#46039f"
                          ],
                          [
                            0.2222222222222222,
                            "#7201a8"
                          ],
                          [
                            0.3333333333333333,
                            "#9c179e"
                          ],
                          [
                            0.4444444444444444,
                            "#bd3786"
                          ],
                          [
                            0.5555555555555556,
                            "#d8576b"
                          ],
                          [
                            0.6666666666666666,
                            "#ed7953"
                          ],
                          [
                            0.7777777777777778,
                            "#fb9f3a"
                          ],
                          [
                            0.8888888888888888,
                            "#fdca26"
                          ],
                          [
                            1,
                            "#f0f921"
                          ]
                        ],
                        "type": "surface"
                      }
                    ],
                    "table": [
                      {
                        "cells": {
                          "fill": {
                            "color": "#EBF0F8"
                          },
                          "line": {
                            "color": "white"
                          }
                        },
                        "header": {
                          "fill": {
                            "color": "#C8D4E3"
                          },
                          "line": {
                            "color": "white"
                          }
                        },
                        "type": "table"
                      }
                    ]
                  },
                  "layout": {
                    "annotationdefaults": {
                      "arrowcolor": "#2a3f5f",
                      "arrowhead": 0,
                      "arrowwidth": 1
                    },
                    "autotypenumbers": "strict",
                    "coloraxis": {
                      "colorbar": {
                        "outlinewidth": 0,
                        "ticks": ""
                      }
                    },
                    "colorscale": {
                      "diverging": [
                        [
                          0,
                          "#8e0152"
                        ],
                        [
                          0.1,
                          "#c51b7d"
                        ],
                        [
                          0.2,
                          "#de77ae"
                        ],
                        [
                          0.3,
                          "#f1b6da"
                        ],
                        [
                          0.4,
                          "#fde0ef"
                        ],
                        [
                          0.5,
                          "#f7f7f7"
                        ],
                        [
                          0.6,
                          "#e6f5d0"
                        ],
                        [
                          0.7,
                          "#b8e186"
                        ],
                        [
                          0.8,
                          "#7fbc41"
                        ],
                        [
                          0.9,
                          "#4d9221"
                        ],
                        [
                          1,
                          "#276419"
                        ]
                      ],
                      "sequential": [
                        [
                          0,
                          "#0d0887"
                        ],
                        [
                          0.1111111111111111,
                          "#46039f"
                        ],
                        [
                          0.2222222222222222,
                          "#7201a8"
                        ],
                        [
                          0.3333333333333333,
                          "#9c179e"
                        ],
                        [
                          0.4444444444444444,
                          "#bd3786"
                        ],
                        [
                          0.5555555555555556,
                          "#d8576b"
                        ],
                        [
                          0.6666666666666666,
                          "#ed7953"
                        ],
                        [
                          0.7777777777777778,
                          "#fb9f3a"
                        ],
                        [
                          0.8888888888888888,
                          "#fdca26"
                        ],
                        [
                          1,
                          "#f0f921"
                        ]
                      ],
                      "sequentialminus": [
                        [
                          0,
                          "#0d0887"
                        ],
                        [
                          0.1111111111111111,
                          "#46039f"
                        ],
                        [
                          0.2222222222222222,
                          "#7201a8"
                        ],
                        [
                          0.3333333333333333,
                          "#9c179e"
                        ],
                        [
                          0.4444444444444444,
                          "#bd3786"
                        ],
                        [
                          0.5555555555555556,
                          "#d8576b"
                        ],
                        [
                          0.6666666666666666,
                          "#ed7953"
                        ],
                        [
                          0.7777777777777778,
                          "#fb9f3a"
                        ],
                        [
                          0.8888888888888888,
                          "#fdca26"
                        ],
                        [
                          1,
                          "#f0f921"
                        ]
                      ]
                    },
                    "colorway": [
                      "#636efa",
                      "#EF553B",
                      "#00cc96",
                      "#ab63fa",
                      "#FFA15A",
                      "#19d3f3",
                      "#FF6692",
                      "#B6E880",
                      "#FF97FF",
                      "#FECB52"
                    ],
                    "font": {
                      "color": "#2a3f5f"
                    },
                    "geo": {
                      "bgcolor": "white",
                      "lakecolor": "white",
                      "landcolor": "#E5ECF6",
                      "showlakes": true,
                      "showland": true,
                      "subunitcolor": "white"
                    },
                    "hoverlabel": {
                      "align": "left"
                    },
                    "hovermode": "closest",
                    "mapbox": {
                      "style": "light"
                    },
                    "paper_bgcolor": "white",
                    "plot_bgcolor": "#E5ECF6",
                    "polar": {
                      "angularaxis": {
                        "gridcolor": "white",
                        "linecolor": "white",
                        "ticks": ""
                      },
                      "bgcolor": "#E5ECF6",
                      "radialaxis": {
                        "gridcolor": "white",
                        "linecolor": "white",
                        "ticks": ""
                      }
                    },
                    "scene": {
                      "xaxis": {
                        "backgroundcolor": "#E5ECF6",
                        "gridcolor": "white",
                        "gridwidth": 2,
                        "linecolor": "white",
                        "showbackground": true,
                        "ticks": "",
                        "zerolinecolor": "white"
                      },
                      "yaxis": {
                        "backgroundcolor": "#E5ECF6",
                        "gridcolor": "white",
                        "gridwidth": 2,
                        "linecolor": "white",
                        "showbackground": true,
                        "ticks": "",
                        "zerolinecolor": "white"
                      },
                      "zaxis": {
                        "backgroundcolor": "#E5ECF6",
                        "gridcolor": "white",
                        "gridwidth": 2,
                        "linecolor": "white",
                        "showbackground": true,
                        "ticks": "",
                        "zerolinecolor": "white"
                      }
                    },
                    "shapedefaults": {
                      "line": {
                        "color": "#2a3f5f"
                      }
                    },
                    "ternary": {
                      "aaxis": {
                        "gridcolor": "white",
                        "linecolor": "white",
                        "ticks": ""
                      },
                      "baxis": {
                        "gridcolor": "white",
                        "linecolor": "white",
                        "ticks": ""
                      },
                      "bgcolor": "#E5ECF6",
                      "caxis": {
                        "gridcolor": "white",
                        "linecolor": "white",
                        "ticks": ""
                      }
                    },
                    "title": {
                      "x": 0.05
                    },
                    "xaxis": {
                      "automargin": true,
                      "gridcolor": "white",
                      "linecolor": "white",
                      "ticks": "",
                      "title": {
                        "standoff": 15
                      },
                      "zerolinecolor": "white",
                      "zerolinewidth": 2
                    },
                    "yaxis": {
                      "automargin": true,
                      "gridcolor": "white",
                      "linecolor": "white",
                      "ticks": "",
                      "title": {
                        "standoff": 15
                      },
                      "zerolinecolor": "white",
                      "zerolinewidth": 2
                    }
                  }
                },
                "xaxis": {
                  "anchor": "y",
                  "domain": [
                    0,
                    1
                  ],
                  "title": {
                    "text": "variable"
                  }
                },
                "yaxis": {
                  "anchor": "x",
                  "domain": [
                    0,
                    1
                  ],
                  "title": {
                    "text": "value"
                  }
                }
              }
            }
          },
          "metadata": {},
          "output_type": "display_data"
        }
      ],
      "source": [
        "import plotly.express as px\n",
        "px.box(pbo).show()\n",
        "px.box(deflated_sr)"
      ]
    },
    {
      "cell_type": "code",
      "execution_count": 53,
      "metadata": {},
      "outputs": [
        {
          "data": {
            "application/vnd.plotly.v1+json": {
              "config": {
                "plotlyServerURL": "https://plot.ly"
              },
              "data": [
                {
                  "alignmentgroup": "True",
                  "hovertemplate": "variable=%{x}<br>value=%{y}<extra></extra>",
                  "legendgroup": "",
                  "marker": {
                    "color": "#636efa"
                  },
                  "name": "",
                  "notched": false,
                  "offsetgroup": "",
                  "orientation": "v",
                  "showlegend": false,
                  "type": "box",
                  "x": [
                    "Walk-Forward",
                    "Walk-Forward",
                    "Walk-Forward",
                    "Walk-Forward",
                    "Walk-Forward",
                    "K-Fold",
                    "K-Fold",
                    "K-Fold",
                    "K-Fold",
                    "K-Fold",
                    "Purged K-Fold",
                    "Purged K-Fold",
                    "Purged K-Fold",
                    "Purged K-Fold",
                    "Purged K-Fold",
                    "Combinatorial Purged",
                    "Combinatorial Purged",
                    "Combinatorial Purged",
                    "Combinatorial Purged",
                    "Combinatorial Purged"
                  ],
                  "x0": " ",
                  "xaxis": "x",
                  "y": [
                    0.7902874902874902,
                    0.23480963480963482,
                    0.06767676767676768,
                    0.5693861693861694,
                    0.39417249417249417,
                    0.5453768453768454,
                    0.6714063714063714,
                    0.5095571095571095,
                    0.6982128982128982,
                    0.48717948717948717,
                    0.6990675990675991,
                    0.5728049728049728,
                    0.3396270396270396,
                    0.6267288267288267,
                    0.488034188034188,
                    0.5663558663558663,
                    0.3916860916860917,
                    0.2738927738927739,
                    0.4507381507381507,
                    0.4427350427350427
                  ],
                  "y0": " ",
                  "yaxis": "y"
                }
              ],
              "layout": {
                "boxmode": "group",
                "legend": {
                  "tracegroupgap": 0
                },
                "margin": {
                  "t": 60
                },
                "template": {
                  "data": {
                    "bar": [
                      {
                        "error_x": {
                          "color": "#2a3f5f"
                        },
                        "error_y": {
                          "color": "#2a3f5f"
                        },
                        "marker": {
                          "line": {
                            "color": "#E5ECF6",
                            "width": 0.5
                          },
                          "pattern": {
                            "fillmode": "overlay",
                            "size": 10,
                            "solidity": 0.2
                          }
                        },
                        "type": "bar"
                      }
                    ],
                    "barpolar": [
                      {
                        "marker": {
                          "line": {
                            "color": "#E5ECF6",
                            "width": 0.5
                          },
                          "pattern": {
                            "fillmode": "overlay",
                            "size": 10,
                            "solidity": 0.2
                          }
                        },
                        "type": "barpolar"
                      }
                    ],
                    "carpet": [
                      {
                        "aaxis": {
                          "endlinecolor": "#2a3f5f",
                          "gridcolor": "white",
                          "linecolor": "white",
                          "minorgridcolor": "white",
                          "startlinecolor": "#2a3f5f"
                        },
                        "baxis": {
                          "endlinecolor": "#2a3f5f",
                          "gridcolor": "white",
                          "linecolor": "white",
                          "minorgridcolor": "white",
                          "startlinecolor": "#2a3f5f"
                        },
                        "type": "carpet"
                      }
                    ],
                    "choropleth": [
                      {
                        "colorbar": {
                          "outlinewidth": 0,
                          "ticks": ""
                        },
                        "type": "choropleth"
                      }
                    ],
                    "contour": [
                      {
                        "colorbar": {
                          "outlinewidth": 0,
                          "ticks": ""
                        },
                        "colorscale": [
                          [
                            0,
                            "#0d0887"
                          ],
                          [
                            0.1111111111111111,
                            "#46039f"
                          ],
                          [
                            0.2222222222222222,
                            "#7201a8"
                          ],
                          [
                            0.3333333333333333,
                            "#9c179e"
                          ],
                          [
                            0.4444444444444444,
                            "#bd3786"
                          ],
                          [
                            0.5555555555555556,
                            "#d8576b"
                          ],
                          [
                            0.6666666666666666,
                            "#ed7953"
                          ],
                          [
                            0.7777777777777778,
                            "#fb9f3a"
                          ],
                          [
                            0.8888888888888888,
                            "#fdca26"
                          ],
                          [
                            1,
                            "#f0f921"
                          ]
                        ],
                        "type": "contour"
                      }
                    ],
                    "contourcarpet": [
                      {
                        "colorbar": {
                          "outlinewidth": 0,
                          "ticks": ""
                        },
                        "type": "contourcarpet"
                      }
                    ],
                    "heatmap": [
                      {
                        "colorbar": {
                          "outlinewidth": 0,
                          "ticks": ""
                        },
                        "colorscale": [
                          [
                            0,
                            "#0d0887"
                          ],
                          [
                            0.1111111111111111,
                            "#46039f"
                          ],
                          [
                            0.2222222222222222,
                            "#7201a8"
                          ],
                          [
                            0.3333333333333333,
                            "#9c179e"
                          ],
                          [
                            0.4444444444444444,
                            "#bd3786"
                          ],
                          [
                            0.5555555555555556,
                            "#d8576b"
                          ],
                          [
                            0.6666666666666666,
                            "#ed7953"
                          ],
                          [
                            0.7777777777777778,
                            "#fb9f3a"
                          ],
                          [
                            0.8888888888888888,
                            "#fdca26"
                          ],
                          [
                            1,
                            "#f0f921"
                          ]
                        ],
                        "type": "heatmap"
                      }
                    ],
                    "heatmapgl": [
                      {
                        "colorbar": {
                          "outlinewidth": 0,
                          "ticks": ""
                        },
                        "colorscale": [
                          [
                            0,
                            "#0d0887"
                          ],
                          [
                            0.1111111111111111,
                            "#46039f"
                          ],
                          [
                            0.2222222222222222,
                            "#7201a8"
                          ],
                          [
                            0.3333333333333333,
                            "#9c179e"
                          ],
                          [
                            0.4444444444444444,
                            "#bd3786"
                          ],
                          [
                            0.5555555555555556,
                            "#d8576b"
                          ],
                          [
                            0.6666666666666666,
                            "#ed7953"
                          ],
                          [
                            0.7777777777777778,
                            "#fb9f3a"
                          ],
                          [
                            0.8888888888888888,
                            "#fdca26"
                          ],
                          [
                            1,
                            "#f0f921"
                          ]
                        ],
                        "type": "heatmapgl"
                      }
                    ],
                    "histogram": [
                      {
                        "marker": {
                          "pattern": {
                            "fillmode": "overlay",
                            "size": 10,
                            "solidity": 0.2
                          }
                        },
                        "type": "histogram"
                      }
                    ],
                    "histogram2d": [
                      {
                        "colorbar": {
                          "outlinewidth": 0,
                          "ticks": ""
                        },
                        "colorscale": [
                          [
                            0,
                            "#0d0887"
                          ],
                          [
                            0.1111111111111111,
                            "#46039f"
                          ],
                          [
                            0.2222222222222222,
                            "#7201a8"
                          ],
                          [
                            0.3333333333333333,
                            "#9c179e"
                          ],
                          [
                            0.4444444444444444,
                            "#bd3786"
                          ],
                          [
                            0.5555555555555556,
                            "#d8576b"
                          ],
                          [
                            0.6666666666666666,
                            "#ed7953"
                          ],
                          [
                            0.7777777777777778,
                            "#fb9f3a"
                          ],
                          [
                            0.8888888888888888,
                            "#fdca26"
                          ],
                          [
                            1,
                            "#f0f921"
                          ]
                        ],
                        "type": "histogram2d"
                      }
                    ],
                    "histogram2dcontour": [
                      {
                        "colorbar": {
                          "outlinewidth": 0,
                          "ticks": ""
                        },
                        "colorscale": [
                          [
                            0,
                            "#0d0887"
                          ],
                          [
                            0.1111111111111111,
                            "#46039f"
                          ],
                          [
                            0.2222222222222222,
                            "#7201a8"
                          ],
                          [
                            0.3333333333333333,
                            "#9c179e"
                          ],
                          [
                            0.4444444444444444,
                            "#bd3786"
                          ],
                          [
                            0.5555555555555556,
                            "#d8576b"
                          ],
                          [
                            0.6666666666666666,
                            "#ed7953"
                          ],
                          [
                            0.7777777777777778,
                            "#fb9f3a"
                          ],
                          [
                            0.8888888888888888,
                            "#fdca26"
                          ],
                          [
                            1,
                            "#f0f921"
                          ]
                        ],
                        "type": "histogram2dcontour"
                      }
                    ],
                    "mesh3d": [
                      {
                        "colorbar": {
                          "outlinewidth": 0,
                          "ticks": ""
                        },
                        "type": "mesh3d"
                      }
                    ],
                    "parcoords": [
                      {
                        "line": {
                          "colorbar": {
                            "outlinewidth": 0,
                            "ticks": ""
                          }
                        },
                        "type": "parcoords"
                      }
                    ],
                    "pie": [
                      {
                        "automargin": true,
                        "type": "pie"
                      }
                    ],
                    "scatter": [
                      {
                        "fillpattern": {
                          "fillmode": "overlay",
                          "size": 10,
                          "solidity": 0.2
                        },
                        "type": "scatter"
                      }
                    ],
                    "scatter3d": [
                      {
                        "line": {
                          "colorbar": {
                            "outlinewidth": 0,
                            "ticks": ""
                          }
                        },
                        "marker": {
                          "colorbar": {
                            "outlinewidth": 0,
                            "ticks": ""
                          }
                        },
                        "type": "scatter3d"
                      }
                    ],
                    "scattercarpet": [
                      {
                        "marker": {
                          "colorbar": {
                            "outlinewidth": 0,
                            "ticks": ""
                          }
                        },
                        "type": "scattercarpet"
                      }
                    ],
                    "scattergeo": [
                      {
                        "marker": {
                          "colorbar": {
                            "outlinewidth": 0,
                            "ticks": ""
                          }
                        },
                        "type": "scattergeo"
                      }
                    ],
                    "scattergl": [
                      {
                        "marker": {
                          "colorbar": {
                            "outlinewidth": 0,
                            "ticks": ""
                          }
                        },
                        "type": "scattergl"
                      }
                    ],
                    "scattermapbox": [
                      {
                        "marker": {
                          "colorbar": {
                            "outlinewidth": 0,
                            "ticks": ""
                          }
                        },
                        "type": "scattermapbox"
                      }
                    ],
                    "scatterpolar": [
                      {
                        "marker": {
                          "colorbar": {
                            "outlinewidth": 0,
                            "ticks": ""
                          }
                        },
                        "type": "scatterpolar"
                      }
                    ],
                    "scatterpolargl": [
                      {
                        "marker": {
                          "colorbar": {
                            "outlinewidth": 0,
                            "ticks": ""
                          }
                        },
                        "type": "scatterpolargl"
                      }
                    ],
                    "scatterternary": [
                      {
                        "marker": {
                          "colorbar": {
                            "outlinewidth": 0,
                            "ticks": ""
                          }
                        },
                        "type": "scatterternary"
                      }
                    ],
                    "surface": [
                      {
                        "colorbar": {
                          "outlinewidth": 0,
                          "ticks": ""
                        },
                        "colorscale": [
                          [
                            0,
                            "#0d0887"
                          ],
                          [
                            0.1111111111111111,
                            "#46039f"
                          ],
                          [
                            0.2222222222222222,
                            "#7201a8"
                          ],
                          [
                            0.3333333333333333,
                            "#9c179e"
                          ],
                          [
                            0.4444444444444444,
                            "#bd3786"
                          ],
                          [
                            0.5555555555555556,
                            "#d8576b"
                          ],
                          [
                            0.6666666666666666,
                            "#ed7953"
                          ],
                          [
                            0.7777777777777778,
                            "#fb9f3a"
                          ],
                          [
                            0.8888888888888888,
                            "#fdca26"
                          ],
                          [
                            1,
                            "#f0f921"
                          ]
                        ],
                        "type": "surface"
                      }
                    ],
                    "table": [
                      {
                        "cells": {
                          "fill": {
                            "color": "#EBF0F8"
                          },
                          "line": {
                            "color": "white"
                          }
                        },
                        "header": {
                          "fill": {
                            "color": "#C8D4E3"
                          },
                          "line": {
                            "color": "white"
                          }
                        },
                        "type": "table"
                      }
                    ]
                  },
                  "layout": {
                    "annotationdefaults": {
                      "arrowcolor": "#2a3f5f",
                      "arrowhead": 0,
                      "arrowwidth": 1
                    },
                    "autotypenumbers": "strict",
                    "coloraxis": {
                      "colorbar": {
                        "outlinewidth": 0,
                        "ticks": ""
                      }
                    },
                    "colorscale": {
                      "diverging": [
                        [
                          0,
                          "#8e0152"
                        ],
                        [
                          0.1,
                          "#c51b7d"
                        ],
                        [
                          0.2,
                          "#de77ae"
                        ],
                        [
                          0.3,
                          "#f1b6da"
                        ],
                        [
                          0.4,
                          "#fde0ef"
                        ],
                        [
                          0.5,
                          "#f7f7f7"
                        ],
                        [
                          0.6,
                          "#e6f5d0"
                        ],
                        [
                          0.7,
                          "#b8e186"
                        ],
                        [
                          0.8,
                          "#7fbc41"
                        ],
                        [
                          0.9,
                          "#4d9221"
                        ],
                        [
                          1,
                          "#276419"
                        ]
                      ],
                      "sequential": [
                        [
                          0,
                          "#0d0887"
                        ],
                        [
                          0.1111111111111111,
                          "#46039f"
                        ],
                        [
                          0.2222222222222222,
                          "#7201a8"
                        ],
                        [
                          0.3333333333333333,
                          "#9c179e"
                        ],
                        [
                          0.4444444444444444,
                          "#bd3786"
                        ],
                        [
                          0.5555555555555556,
                          "#d8576b"
                        ],
                        [
                          0.6666666666666666,
                          "#ed7953"
                        ],
                        [
                          0.7777777777777778,
                          "#fb9f3a"
                        ],
                        [
                          0.8888888888888888,
                          "#fdca26"
                        ],
                        [
                          1,
                          "#f0f921"
                        ]
                      ],
                      "sequentialminus": [
                        [
                          0,
                          "#0d0887"
                        ],
                        [
                          0.1111111111111111,
                          "#46039f"
                        ],
                        [
                          0.2222222222222222,
                          "#7201a8"
                        ],
                        [
                          0.3333333333333333,
                          "#9c179e"
                        ],
                        [
                          0.4444444444444444,
                          "#bd3786"
                        ],
                        [
                          0.5555555555555556,
                          "#d8576b"
                        ],
                        [
                          0.6666666666666666,
                          "#ed7953"
                        ],
                        [
                          0.7777777777777778,
                          "#fb9f3a"
                        ],
                        [
                          0.8888888888888888,
                          "#fdca26"
                        ],
                        [
                          1,
                          "#f0f921"
                        ]
                      ]
                    },
                    "colorway": [
                      "#636efa",
                      "#EF553B",
                      "#00cc96",
                      "#ab63fa",
                      "#FFA15A",
                      "#19d3f3",
                      "#FF6692",
                      "#B6E880",
                      "#FF97FF",
                      "#FECB52"
                    ],
                    "font": {
                      "color": "#2a3f5f"
                    },
                    "geo": {
                      "bgcolor": "white",
                      "lakecolor": "white",
                      "landcolor": "#E5ECF6",
                      "showlakes": true,
                      "showland": true,
                      "subunitcolor": "white"
                    },
                    "hoverlabel": {
                      "align": "left"
                    },
                    "hovermode": "closest",
                    "mapbox": {
                      "style": "light"
                    },
                    "paper_bgcolor": "white",
                    "plot_bgcolor": "#E5ECF6",
                    "polar": {
                      "angularaxis": {
                        "gridcolor": "white",
                        "linecolor": "white",
                        "ticks": ""
                      },
                      "bgcolor": "#E5ECF6",
                      "radialaxis": {
                        "gridcolor": "white",
                        "linecolor": "white",
                        "ticks": ""
                      }
                    },
                    "scene": {
                      "xaxis": {
                        "backgroundcolor": "#E5ECF6",
                        "gridcolor": "white",
                        "gridwidth": 2,
                        "linecolor": "white",
                        "showbackground": true,
                        "ticks": "",
                        "zerolinecolor": "white"
                      },
                      "yaxis": {
                        "backgroundcolor": "#E5ECF6",
                        "gridcolor": "white",
                        "gridwidth": 2,
                        "linecolor": "white",
                        "showbackground": true,
                        "ticks": "",
                        "zerolinecolor": "white"
                      },
                      "zaxis": {
                        "backgroundcolor": "#E5ECF6",
                        "gridcolor": "white",
                        "gridwidth": 2,
                        "linecolor": "white",
                        "showbackground": true,
                        "ticks": "",
                        "zerolinecolor": "white"
                      }
                    },
                    "shapedefaults": {
                      "line": {
                        "color": "#2a3f5f"
                      }
                    },
                    "ternary": {
                      "aaxis": {
                        "gridcolor": "white",
                        "linecolor": "white",
                        "ticks": ""
                      },
                      "baxis": {
                        "gridcolor": "white",
                        "linecolor": "white",
                        "ticks": ""
                      },
                      "bgcolor": "#E5ECF6",
                      "caxis": {
                        "gridcolor": "white",
                        "linecolor": "white",
                        "ticks": ""
                      }
                    },
                    "title": {
                      "x": 0.05
                    },
                    "xaxis": {
                      "automargin": true,
                      "gridcolor": "white",
                      "linecolor": "white",
                      "ticks": "",
                      "title": {
                        "standoff": 15
                      },
                      "zerolinecolor": "white",
                      "zerolinewidth": 2
                    },
                    "yaxis": {
                      "automargin": true,
                      "gridcolor": "white",
                      "linecolor": "white",
                      "ticks": "",
                      "title": {
                        "standoff": 15
                      },
                      "zerolinecolor": "white",
                      "zerolinewidth": 2
                    }
                  }
                },
                "xaxis": {
                  "anchor": "y",
                  "domain": [
                    0,
                    1
                  ],
                  "title": {
                    "text": "variable"
                  }
                },
                "yaxis": {
                  "anchor": "x",
                  "domain": [
                    0,
                    1
                  ],
                  "title": {
                    "text": "value"
                  }
                }
              }
            }
          },
          "metadata": {},
          "output_type": "display_data"
        },
        {
          "data": {
            "application/vnd.plotly.v1+json": {
              "config": {
                "plotlyServerURL": "https://plot.ly"
              },
              "data": [
                {
                  "alignmentgroup": "True",
                  "hovertemplate": "variable=%{x}<br>value=%{y}<extra></extra>",
                  "legendgroup": "",
                  "marker": {
                    "color": "#636efa"
                  },
                  "name": "",
                  "notched": false,
                  "offsetgroup": "",
                  "orientation": "v",
                  "showlegend": false,
                  "type": "box",
                  "x": [
                    "Walk-Forward",
                    "Walk-Forward",
                    "Walk-Forward",
                    "Walk-Forward",
                    "Walk-Forward",
                    "K-Fold",
                    "K-Fold",
                    "K-Fold",
                    "K-Fold",
                    "K-Fold",
                    "Purged K-Fold",
                    "Purged K-Fold",
                    "Purged K-Fold",
                    "Purged K-Fold",
                    "Purged K-Fold",
                    "Combinatorial Purged",
                    "Combinatorial Purged",
                    "Combinatorial Purged",
                    "Combinatorial Purged",
                    "Combinatorial Purged"
                  ],
                  "x0": " ",
                  "xaxis": "x",
                  "y": [
                    -0.8872116740268103,
                    -0.34492292901369903,
                    1.000627735820176,
                    0.26242637751357784,
                    0.7409932179695914,
                    0.10038304843485686,
                    -0.23117265610930832,
                    1.0698480143627884,
                    0.716776298055574,
                    0.601213957411814,
                    0.47165139829276287,
                    -0.14136972123899924,
                    1.0210177908722782,
                    0.45479351181143607,
                    0.969716879134986,
                    0.273466691586677,
                    0.07652994070501845,
                    0.9816320608960828,
                    1.3030315893886366,
                    1.2609589658763123
                  ],
                  "y0": " ",
                  "yaxis": "y"
                }
              ],
              "layout": {
                "boxmode": "group",
                "legend": {
                  "tracegroupgap": 0
                },
                "margin": {
                  "t": 60
                },
                "template": {
                  "data": {
                    "bar": [
                      {
                        "error_x": {
                          "color": "#2a3f5f"
                        },
                        "error_y": {
                          "color": "#2a3f5f"
                        },
                        "marker": {
                          "line": {
                            "color": "#E5ECF6",
                            "width": 0.5
                          },
                          "pattern": {
                            "fillmode": "overlay",
                            "size": 10,
                            "solidity": 0.2
                          }
                        },
                        "type": "bar"
                      }
                    ],
                    "barpolar": [
                      {
                        "marker": {
                          "line": {
                            "color": "#E5ECF6",
                            "width": 0.5
                          },
                          "pattern": {
                            "fillmode": "overlay",
                            "size": 10,
                            "solidity": 0.2
                          }
                        },
                        "type": "barpolar"
                      }
                    ],
                    "carpet": [
                      {
                        "aaxis": {
                          "endlinecolor": "#2a3f5f",
                          "gridcolor": "white",
                          "linecolor": "white",
                          "minorgridcolor": "white",
                          "startlinecolor": "#2a3f5f"
                        },
                        "baxis": {
                          "endlinecolor": "#2a3f5f",
                          "gridcolor": "white",
                          "linecolor": "white",
                          "minorgridcolor": "white",
                          "startlinecolor": "#2a3f5f"
                        },
                        "type": "carpet"
                      }
                    ],
                    "choropleth": [
                      {
                        "colorbar": {
                          "outlinewidth": 0,
                          "ticks": ""
                        },
                        "type": "choropleth"
                      }
                    ],
                    "contour": [
                      {
                        "colorbar": {
                          "outlinewidth": 0,
                          "ticks": ""
                        },
                        "colorscale": [
                          [
                            0,
                            "#0d0887"
                          ],
                          [
                            0.1111111111111111,
                            "#46039f"
                          ],
                          [
                            0.2222222222222222,
                            "#7201a8"
                          ],
                          [
                            0.3333333333333333,
                            "#9c179e"
                          ],
                          [
                            0.4444444444444444,
                            "#bd3786"
                          ],
                          [
                            0.5555555555555556,
                            "#d8576b"
                          ],
                          [
                            0.6666666666666666,
                            "#ed7953"
                          ],
                          [
                            0.7777777777777778,
                            "#fb9f3a"
                          ],
                          [
                            0.8888888888888888,
                            "#fdca26"
                          ],
                          [
                            1,
                            "#f0f921"
                          ]
                        ],
                        "type": "contour"
                      }
                    ],
                    "contourcarpet": [
                      {
                        "colorbar": {
                          "outlinewidth": 0,
                          "ticks": ""
                        },
                        "type": "contourcarpet"
                      }
                    ],
                    "heatmap": [
                      {
                        "colorbar": {
                          "outlinewidth": 0,
                          "ticks": ""
                        },
                        "colorscale": [
                          [
                            0,
                            "#0d0887"
                          ],
                          [
                            0.1111111111111111,
                            "#46039f"
                          ],
                          [
                            0.2222222222222222,
                            "#7201a8"
                          ],
                          [
                            0.3333333333333333,
                            "#9c179e"
                          ],
                          [
                            0.4444444444444444,
                            "#bd3786"
                          ],
                          [
                            0.5555555555555556,
                            "#d8576b"
                          ],
                          [
                            0.6666666666666666,
                            "#ed7953"
                          ],
                          [
                            0.7777777777777778,
                            "#fb9f3a"
                          ],
                          [
                            0.8888888888888888,
                            "#fdca26"
                          ],
                          [
                            1,
                            "#f0f921"
                          ]
                        ],
                        "type": "heatmap"
                      }
                    ],
                    "heatmapgl": [
                      {
                        "colorbar": {
                          "outlinewidth": 0,
                          "ticks": ""
                        },
                        "colorscale": [
                          [
                            0,
                            "#0d0887"
                          ],
                          [
                            0.1111111111111111,
                            "#46039f"
                          ],
                          [
                            0.2222222222222222,
                            "#7201a8"
                          ],
                          [
                            0.3333333333333333,
                            "#9c179e"
                          ],
                          [
                            0.4444444444444444,
                            "#bd3786"
                          ],
                          [
                            0.5555555555555556,
                            "#d8576b"
                          ],
                          [
                            0.6666666666666666,
                            "#ed7953"
                          ],
                          [
                            0.7777777777777778,
                            "#fb9f3a"
                          ],
                          [
                            0.8888888888888888,
                            "#fdca26"
                          ],
                          [
                            1,
                            "#f0f921"
                          ]
                        ],
                        "type": "heatmapgl"
                      }
                    ],
                    "histogram": [
                      {
                        "marker": {
                          "pattern": {
                            "fillmode": "overlay",
                            "size": 10,
                            "solidity": 0.2
                          }
                        },
                        "type": "histogram"
                      }
                    ],
                    "histogram2d": [
                      {
                        "colorbar": {
                          "outlinewidth": 0,
                          "ticks": ""
                        },
                        "colorscale": [
                          [
                            0,
                            "#0d0887"
                          ],
                          [
                            0.1111111111111111,
                            "#46039f"
                          ],
                          [
                            0.2222222222222222,
                            "#7201a8"
                          ],
                          [
                            0.3333333333333333,
                            "#9c179e"
                          ],
                          [
                            0.4444444444444444,
                            "#bd3786"
                          ],
                          [
                            0.5555555555555556,
                            "#d8576b"
                          ],
                          [
                            0.6666666666666666,
                            "#ed7953"
                          ],
                          [
                            0.7777777777777778,
                            "#fb9f3a"
                          ],
                          [
                            0.8888888888888888,
                            "#fdca26"
                          ],
                          [
                            1,
                            "#f0f921"
                          ]
                        ],
                        "type": "histogram2d"
                      }
                    ],
                    "histogram2dcontour": [
                      {
                        "colorbar": {
                          "outlinewidth": 0,
                          "ticks": ""
                        },
                        "colorscale": [
                          [
                            0,
                            "#0d0887"
                          ],
                          [
                            0.1111111111111111,
                            "#46039f"
                          ],
                          [
                            0.2222222222222222,
                            "#7201a8"
                          ],
                          [
                            0.3333333333333333,
                            "#9c179e"
                          ],
                          [
                            0.4444444444444444,
                            "#bd3786"
                          ],
                          [
                            0.5555555555555556,
                            "#d8576b"
                          ],
                          [
                            0.6666666666666666,
                            "#ed7953"
                          ],
                          [
                            0.7777777777777778,
                            "#fb9f3a"
                          ],
                          [
                            0.8888888888888888,
                            "#fdca26"
                          ],
                          [
                            1,
                            "#f0f921"
                          ]
                        ],
                        "type": "histogram2dcontour"
                      }
                    ],
                    "mesh3d": [
                      {
                        "colorbar": {
                          "outlinewidth": 0,
                          "ticks": ""
                        },
                        "type": "mesh3d"
                      }
                    ],
                    "parcoords": [
                      {
                        "line": {
                          "colorbar": {
                            "outlinewidth": 0,
                            "ticks": ""
                          }
                        },
                        "type": "parcoords"
                      }
                    ],
                    "pie": [
                      {
                        "automargin": true,
                        "type": "pie"
                      }
                    ],
                    "scatter": [
                      {
                        "fillpattern": {
                          "fillmode": "overlay",
                          "size": 10,
                          "solidity": 0.2
                        },
                        "type": "scatter"
                      }
                    ],
                    "scatter3d": [
                      {
                        "line": {
                          "colorbar": {
                            "outlinewidth": 0,
                            "ticks": ""
                          }
                        },
                        "marker": {
                          "colorbar": {
                            "outlinewidth": 0,
                            "ticks": ""
                          }
                        },
                        "type": "scatter3d"
                      }
                    ],
                    "scattercarpet": [
                      {
                        "marker": {
                          "colorbar": {
                            "outlinewidth": 0,
                            "ticks": ""
                          }
                        },
                        "type": "scattercarpet"
                      }
                    ],
                    "scattergeo": [
                      {
                        "marker": {
                          "colorbar": {
                            "outlinewidth": 0,
                            "ticks": ""
                          }
                        },
                        "type": "scattergeo"
                      }
                    ],
                    "scattergl": [
                      {
                        "marker": {
                          "colorbar": {
                            "outlinewidth": 0,
                            "ticks": ""
                          }
                        },
                        "type": "scattergl"
                      }
                    ],
                    "scattermapbox": [
                      {
                        "marker": {
                          "colorbar": {
                            "outlinewidth": 0,
                            "ticks": ""
                          }
                        },
                        "type": "scattermapbox"
                      }
                    ],
                    "scatterpolar": [
                      {
                        "marker": {
                          "colorbar": {
                            "outlinewidth": 0,
                            "ticks": ""
                          }
                        },
                        "type": "scatterpolar"
                      }
                    ],
                    "scatterpolargl": [
                      {
                        "marker": {
                          "colorbar": {
                            "outlinewidth": 0,
                            "ticks": ""
                          }
                        },
                        "type": "scatterpolargl"
                      }
                    ],
                    "scatterternary": [
                      {
                        "marker": {
                          "colorbar": {
                            "outlinewidth": 0,
                            "ticks": ""
                          }
                        },
                        "type": "scatterternary"
                      }
                    ],
                    "surface": [
                      {
                        "colorbar": {
                          "outlinewidth": 0,
                          "ticks": ""
                        },
                        "colorscale": [
                          [
                            0,
                            "#0d0887"
                          ],
                          [
                            0.1111111111111111,
                            "#46039f"
                          ],
                          [
                            0.2222222222222222,
                            "#7201a8"
                          ],
                          [
                            0.3333333333333333,
                            "#9c179e"
                          ],
                          [
                            0.4444444444444444,
                            "#bd3786"
                          ],
                          [
                            0.5555555555555556,
                            "#d8576b"
                          ],
                          [
                            0.6666666666666666,
                            "#ed7953"
                          ],
                          [
                            0.7777777777777778,
                            "#fb9f3a"
                          ],
                          [
                            0.8888888888888888,
                            "#fdca26"
                          ],
                          [
                            1,
                            "#f0f921"
                          ]
                        ],
                        "type": "surface"
                      }
                    ],
                    "table": [
                      {
                        "cells": {
                          "fill": {
                            "color": "#EBF0F8"
                          },
                          "line": {
                            "color": "white"
                          }
                        },
                        "header": {
                          "fill": {
                            "color": "#C8D4E3"
                          },
                          "line": {
                            "color": "white"
                          }
                        },
                        "type": "table"
                      }
                    ]
                  },
                  "layout": {
                    "annotationdefaults": {
                      "arrowcolor": "#2a3f5f",
                      "arrowhead": 0,
                      "arrowwidth": 1
                    },
                    "autotypenumbers": "strict",
                    "coloraxis": {
                      "colorbar": {
                        "outlinewidth": 0,
                        "ticks": ""
                      }
                    },
                    "colorscale": {
                      "diverging": [
                        [
                          0,
                          "#8e0152"
                        ],
                        [
                          0.1,
                          "#c51b7d"
                        ],
                        [
                          0.2,
                          "#de77ae"
                        ],
                        [
                          0.3,
                          "#f1b6da"
                        ],
                        [
                          0.4,
                          "#fde0ef"
                        ],
                        [
                          0.5,
                          "#f7f7f7"
                        ],
                        [
                          0.6,
                          "#e6f5d0"
                        ],
                        [
                          0.7,
                          "#b8e186"
                        ],
                        [
                          0.8,
                          "#7fbc41"
                        ],
                        [
                          0.9,
                          "#4d9221"
                        ],
                        [
                          1,
                          "#276419"
                        ]
                      ],
                      "sequential": [
                        [
                          0,
                          "#0d0887"
                        ],
                        [
                          0.1111111111111111,
                          "#46039f"
                        ],
                        [
                          0.2222222222222222,
                          "#7201a8"
                        ],
                        [
                          0.3333333333333333,
                          "#9c179e"
                        ],
                        [
                          0.4444444444444444,
                          "#bd3786"
                        ],
                        [
                          0.5555555555555556,
                          "#d8576b"
                        ],
                        [
                          0.6666666666666666,
                          "#ed7953"
                        ],
                        [
                          0.7777777777777778,
                          "#fb9f3a"
                        ],
                        [
                          0.8888888888888888,
                          "#fdca26"
                        ],
                        [
                          1,
                          "#f0f921"
                        ]
                      ],
                      "sequentialminus": [
                        [
                          0,
                          "#0d0887"
                        ],
                        [
                          0.1111111111111111,
                          "#46039f"
                        ],
                        [
                          0.2222222222222222,
                          "#7201a8"
                        ],
                        [
                          0.3333333333333333,
                          "#9c179e"
                        ],
                        [
                          0.4444444444444444,
                          "#bd3786"
                        ],
                        [
                          0.5555555555555556,
                          "#d8576b"
                        ],
                        [
                          0.6666666666666666,
                          "#ed7953"
                        ],
                        [
                          0.7777777777777778,
                          "#fb9f3a"
                        ],
                        [
                          0.8888888888888888,
                          "#fdca26"
                        ],
                        [
                          1,
                          "#f0f921"
                        ]
                      ]
                    },
                    "colorway": [
                      "#636efa",
                      "#EF553B",
                      "#00cc96",
                      "#ab63fa",
                      "#FFA15A",
                      "#19d3f3",
                      "#FF6692",
                      "#B6E880",
                      "#FF97FF",
                      "#FECB52"
                    ],
                    "font": {
                      "color": "#2a3f5f"
                    },
                    "geo": {
                      "bgcolor": "white",
                      "lakecolor": "white",
                      "landcolor": "#E5ECF6",
                      "showlakes": true,
                      "showland": true,
                      "subunitcolor": "white"
                    },
                    "hoverlabel": {
                      "align": "left"
                    },
                    "hovermode": "closest",
                    "mapbox": {
                      "style": "light"
                    },
                    "paper_bgcolor": "white",
                    "plot_bgcolor": "#E5ECF6",
                    "polar": {
                      "angularaxis": {
                        "gridcolor": "white",
                        "linecolor": "white",
                        "ticks": ""
                      },
                      "bgcolor": "#E5ECF6",
                      "radialaxis": {
                        "gridcolor": "white",
                        "linecolor": "white",
                        "ticks": ""
                      }
                    },
                    "scene": {
                      "xaxis": {
                        "backgroundcolor": "#E5ECF6",
                        "gridcolor": "white",
                        "gridwidth": 2,
                        "linecolor": "white",
                        "showbackground": true,
                        "ticks": "",
                        "zerolinecolor": "white"
                      },
                      "yaxis": {
                        "backgroundcolor": "#E5ECF6",
                        "gridcolor": "white",
                        "gridwidth": 2,
                        "linecolor": "white",
                        "showbackground": true,
                        "ticks": "",
                        "zerolinecolor": "white"
                      },
                      "zaxis": {
                        "backgroundcolor": "#E5ECF6",
                        "gridcolor": "white",
                        "gridwidth": 2,
                        "linecolor": "white",
                        "showbackground": true,
                        "ticks": "",
                        "zerolinecolor": "white"
                      }
                    },
                    "shapedefaults": {
                      "line": {
                        "color": "#2a3f5f"
                      }
                    },
                    "ternary": {
                      "aaxis": {
                        "gridcolor": "white",
                        "linecolor": "white",
                        "ticks": ""
                      },
                      "baxis": {
                        "gridcolor": "white",
                        "linecolor": "white",
                        "ticks": ""
                      },
                      "bgcolor": "#E5ECF6",
                      "caxis": {
                        "gridcolor": "white",
                        "linecolor": "white",
                        "ticks": ""
                      }
                    },
                    "title": {
                      "x": 0.05
                    },
                    "xaxis": {
                      "automargin": true,
                      "gridcolor": "white",
                      "linecolor": "white",
                      "ticks": "",
                      "title": {
                        "standoff": 15
                      },
                      "zerolinecolor": "white",
                      "zerolinewidth": 2
                    },
                    "yaxis": {
                      "automargin": true,
                      "gridcolor": "white",
                      "linecolor": "white",
                      "ticks": "",
                      "title": {
                        "standoff": 15
                      },
                      "zerolinecolor": "white",
                      "zerolinewidth": 2
                    }
                  }
                },
                "xaxis": {
                  "anchor": "y",
                  "domain": [
                    0,
                    1
                  ],
                  "title": {
                    "text": "variable"
                  }
                },
                "yaxis": {
                  "anchor": "x",
                  "domain": [
                    0,
                    1
                  ],
                  "title": {
                    "text": "value"
                  }
                }
              }
            }
          },
          "metadata": {},
          "output_type": "display_data"
        }
      ],
      "source": [
        "import plotly.express as px\n",
        "px.box(pbo).show()\n",
        "px.box(deflated_sr)"
      ]
    },
    {
      "cell_type": "code",
      "execution_count": 50,
      "metadata": {},
      "outputs": [
        {
          "data": {
            "application/vnd.plotly.v1+json": {
              "config": {
                "plotlyServerURL": "https://plot.ly"
              },
              "data": [
                {
                  "alignmentgroup": "True",
                  "hovertemplate": "variable=%{x}<br>value=%{y}<extra></extra>",
                  "legendgroup": "",
                  "marker": {
                    "color": "#636efa"
                  },
                  "name": "",
                  "notched": false,
                  "offsetgroup": "",
                  "orientation": "v",
                  "showlegend": false,
                  "type": "box",
                  "x": [
                    "Walk-Forward",
                    "Walk-Forward",
                    "Walk-Forward",
                    "Walk-Forward",
                    "Walk-Forward",
                    "K-Fold",
                    "K-Fold",
                    "K-Fold",
                    "K-Fold",
                    "K-Fold",
                    "Purged K-Fold",
                    "Purged K-Fold",
                    "Purged K-Fold",
                    "Purged K-Fold",
                    "Purged K-Fold",
                    "Combinatorial Purged",
                    "Combinatorial Purged",
                    "Combinatorial Purged",
                    "Combinatorial Purged",
                    "Combinatorial Purged"
                  ],
                  "x0": " ",
                  "xaxis": "x",
                  "y": [
                    0.7698523698523698,
                    0.43846153846153846,
                    0.06433566433566433,
                    0.6516705516705517,
                    0.7336441336441336,
                    0.7670551670551671,
                    0.6393162393162393,
                    0.2177156177156177,
                    0.8134421134421135,
                    0.7260295260295261,
                    0.5806526806526806,
                    0.26915306915306914,
                    0.25827505827505826,
                    0.6184926184926185,
                    0.5427350427350427,
                    0.49456099456099456,
                    0.356021756021756,
                    0.2805749805749806,
                    0.3321678321678322,
                    0.47575757575757577
                  ],
                  "y0": " ",
                  "yaxis": "y"
                }
              ],
              "layout": {
                "boxmode": "group",
                "legend": {
                  "tracegroupgap": 0
                },
                "margin": {
                  "t": 60
                },
                "template": {
                  "data": {
                    "bar": [
                      {
                        "error_x": {
                          "color": "#2a3f5f"
                        },
                        "error_y": {
                          "color": "#2a3f5f"
                        },
                        "marker": {
                          "line": {
                            "color": "#E5ECF6",
                            "width": 0.5
                          },
                          "pattern": {
                            "fillmode": "overlay",
                            "size": 10,
                            "solidity": 0.2
                          }
                        },
                        "type": "bar"
                      }
                    ],
                    "barpolar": [
                      {
                        "marker": {
                          "line": {
                            "color": "#E5ECF6",
                            "width": 0.5
                          },
                          "pattern": {
                            "fillmode": "overlay",
                            "size": 10,
                            "solidity": 0.2
                          }
                        },
                        "type": "barpolar"
                      }
                    ],
                    "carpet": [
                      {
                        "aaxis": {
                          "endlinecolor": "#2a3f5f",
                          "gridcolor": "white",
                          "linecolor": "white",
                          "minorgridcolor": "white",
                          "startlinecolor": "#2a3f5f"
                        },
                        "baxis": {
                          "endlinecolor": "#2a3f5f",
                          "gridcolor": "white",
                          "linecolor": "white",
                          "minorgridcolor": "white",
                          "startlinecolor": "#2a3f5f"
                        },
                        "type": "carpet"
                      }
                    ],
                    "choropleth": [
                      {
                        "colorbar": {
                          "outlinewidth": 0,
                          "ticks": ""
                        },
                        "type": "choropleth"
                      }
                    ],
                    "contour": [
                      {
                        "colorbar": {
                          "outlinewidth": 0,
                          "ticks": ""
                        },
                        "colorscale": [
                          [
                            0,
                            "#0d0887"
                          ],
                          [
                            0.1111111111111111,
                            "#46039f"
                          ],
                          [
                            0.2222222222222222,
                            "#7201a8"
                          ],
                          [
                            0.3333333333333333,
                            "#9c179e"
                          ],
                          [
                            0.4444444444444444,
                            "#bd3786"
                          ],
                          [
                            0.5555555555555556,
                            "#d8576b"
                          ],
                          [
                            0.6666666666666666,
                            "#ed7953"
                          ],
                          [
                            0.7777777777777778,
                            "#fb9f3a"
                          ],
                          [
                            0.8888888888888888,
                            "#fdca26"
                          ],
                          [
                            1,
                            "#f0f921"
                          ]
                        ],
                        "type": "contour"
                      }
                    ],
                    "contourcarpet": [
                      {
                        "colorbar": {
                          "outlinewidth": 0,
                          "ticks": ""
                        },
                        "type": "contourcarpet"
                      }
                    ],
                    "heatmap": [
                      {
                        "colorbar": {
                          "outlinewidth": 0,
                          "ticks": ""
                        },
                        "colorscale": [
                          [
                            0,
                            "#0d0887"
                          ],
                          [
                            0.1111111111111111,
                            "#46039f"
                          ],
                          [
                            0.2222222222222222,
                            "#7201a8"
                          ],
                          [
                            0.3333333333333333,
                            "#9c179e"
                          ],
                          [
                            0.4444444444444444,
                            "#bd3786"
                          ],
                          [
                            0.5555555555555556,
                            "#d8576b"
                          ],
                          [
                            0.6666666666666666,
                            "#ed7953"
                          ],
                          [
                            0.7777777777777778,
                            "#fb9f3a"
                          ],
                          [
                            0.8888888888888888,
                            "#fdca26"
                          ],
                          [
                            1,
                            "#f0f921"
                          ]
                        ],
                        "type": "heatmap"
                      }
                    ],
                    "heatmapgl": [
                      {
                        "colorbar": {
                          "outlinewidth": 0,
                          "ticks": ""
                        },
                        "colorscale": [
                          [
                            0,
                            "#0d0887"
                          ],
                          [
                            0.1111111111111111,
                            "#46039f"
                          ],
                          [
                            0.2222222222222222,
                            "#7201a8"
                          ],
                          [
                            0.3333333333333333,
                            "#9c179e"
                          ],
                          [
                            0.4444444444444444,
                            "#bd3786"
                          ],
                          [
                            0.5555555555555556,
                            "#d8576b"
                          ],
                          [
                            0.6666666666666666,
                            "#ed7953"
                          ],
                          [
                            0.7777777777777778,
                            "#fb9f3a"
                          ],
                          [
                            0.8888888888888888,
                            "#fdca26"
                          ],
                          [
                            1,
                            "#f0f921"
                          ]
                        ],
                        "type": "heatmapgl"
                      }
                    ],
                    "histogram": [
                      {
                        "marker": {
                          "pattern": {
                            "fillmode": "overlay",
                            "size": 10,
                            "solidity": 0.2
                          }
                        },
                        "type": "histogram"
                      }
                    ],
                    "histogram2d": [
                      {
                        "colorbar": {
                          "outlinewidth": 0,
                          "ticks": ""
                        },
                        "colorscale": [
                          [
                            0,
                            "#0d0887"
                          ],
                          [
                            0.1111111111111111,
                            "#46039f"
                          ],
                          [
                            0.2222222222222222,
                            "#7201a8"
                          ],
                          [
                            0.3333333333333333,
                            "#9c179e"
                          ],
                          [
                            0.4444444444444444,
                            "#bd3786"
                          ],
                          [
                            0.5555555555555556,
                            "#d8576b"
                          ],
                          [
                            0.6666666666666666,
                            "#ed7953"
                          ],
                          [
                            0.7777777777777778,
                            "#fb9f3a"
                          ],
                          [
                            0.8888888888888888,
                            "#fdca26"
                          ],
                          [
                            1,
                            "#f0f921"
                          ]
                        ],
                        "type": "histogram2d"
                      }
                    ],
                    "histogram2dcontour": [
                      {
                        "colorbar": {
                          "outlinewidth": 0,
                          "ticks": ""
                        },
                        "colorscale": [
                          [
                            0,
                            "#0d0887"
                          ],
                          [
                            0.1111111111111111,
                            "#46039f"
                          ],
                          [
                            0.2222222222222222,
                            "#7201a8"
                          ],
                          [
                            0.3333333333333333,
                            "#9c179e"
                          ],
                          [
                            0.4444444444444444,
                            "#bd3786"
                          ],
                          [
                            0.5555555555555556,
                            "#d8576b"
                          ],
                          [
                            0.6666666666666666,
                            "#ed7953"
                          ],
                          [
                            0.7777777777777778,
                            "#fb9f3a"
                          ],
                          [
                            0.8888888888888888,
                            "#fdca26"
                          ],
                          [
                            1,
                            "#f0f921"
                          ]
                        ],
                        "type": "histogram2dcontour"
                      }
                    ],
                    "mesh3d": [
                      {
                        "colorbar": {
                          "outlinewidth": 0,
                          "ticks": ""
                        },
                        "type": "mesh3d"
                      }
                    ],
                    "parcoords": [
                      {
                        "line": {
                          "colorbar": {
                            "outlinewidth": 0,
                            "ticks": ""
                          }
                        },
                        "type": "parcoords"
                      }
                    ],
                    "pie": [
                      {
                        "automargin": true,
                        "type": "pie"
                      }
                    ],
                    "scatter": [
                      {
                        "fillpattern": {
                          "fillmode": "overlay",
                          "size": 10,
                          "solidity": 0.2
                        },
                        "type": "scatter"
                      }
                    ],
                    "scatter3d": [
                      {
                        "line": {
                          "colorbar": {
                            "outlinewidth": 0,
                            "ticks": ""
                          }
                        },
                        "marker": {
                          "colorbar": {
                            "outlinewidth": 0,
                            "ticks": ""
                          }
                        },
                        "type": "scatter3d"
                      }
                    ],
                    "scattercarpet": [
                      {
                        "marker": {
                          "colorbar": {
                            "outlinewidth": 0,
                            "ticks": ""
                          }
                        },
                        "type": "scattercarpet"
                      }
                    ],
                    "scattergeo": [
                      {
                        "marker": {
                          "colorbar": {
                            "outlinewidth": 0,
                            "ticks": ""
                          }
                        },
                        "type": "scattergeo"
                      }
                    ],
                    "scattergl": [
                      {
                        "marker": {
                          "colorbar": {
                            "outlinewidth": 0,
                            "ticks": ""
                          }
                        },
                        "type": "scattergl"
                      }
                    ],
                    "scattermapbox": [
                      {
                        "marker": {
                          "colorbar": {
                            "outlinewidth": 0,
                            "ticks": ""
                          }
                        },
                        "type": "scattermapbox"
                      }
                    ],
                    "scatterpolar": [
                      {
                        "marker": {
                          "colorbar": {
                            "outlinewidth": 0,
                            "ticks": ""
                          }
                        },
                        "type": "scatterpolar"
                      }
                    ],
                    "scatterpolargl": [
                      {
                        "marker": {
                          "colorbar": {
                            "outlinewidth": 0,
                            "ticks": ""
                          }
                        },
                        "type": "scatterpolargl"
                      }
                    ],
                    "scatterternary": [
                      {
                        "marker": {
                          "colorbar": {
                            "outlinewidth": 0,
                            "ticks": ""
                          }
                        },
                        "type": "scatterternary"
                      }
                    ],
                    "surface": [
                      {
                        "colorbar": {
                          "outlinewidth": 0,
                          "ticks": ""
                        },
                        "colorscale": [
                          [
                            0,
                            "#0d0887"
                          ],
                          [
                            0.1111111111111111,
                            "#46039f"
                          ],
                          [
                            0.2222222222222222,
                            "#7201a8"
                          ],
                          [
                            0.3333333333333333,
                            "#9c179e"
                          ],
                          [
                            0.4444444444444444,
                            "#bd3786"
                          ],
                          [
                            0.5555555555555556,
                            "#d8576b"
                          ],
                          [
                            0.6666666666666666,
                            "#ed7953"
                          ],
                          [
                            0.7777777777777778,
                            "#fb9f3a"
                          ],
                          [
                            0.8888888888888888,
                            "#fdca26"
                          ],
                          [
                            1,
                            "#f0f921"
                          ]
                        ],
                        "type": "surface"
                      }
                    ],
                    "table": [
                      {
                        "cells": {
                          "fill": {
                            "color": "#EBF0F8"
                          },
                          "line": {
                            "color": "white"
                          }
                        },
                        "header": {
                          "fill": {
                            "color": "#C8D4E3"
                          },
                          "line": {
                            "color": "white"
                          }
                        },
                        "type": "table"
                      }
                    ]
                  },
                  "layout": {
                    "annotationdefaults": {
                      "arrowcolor": "#2a3f5f",
                      "arrowhead": 0,
                      "arrowwidth": 1
                    },
                    "autotypenumbers": "strict",
                    "coloraxis": {
                      "colorbar": {
                        "outlinewidth": 0,
                        "ticks": ""
                      }
                    },
                    "colorscale": {
                      "diverging": [
                        [
                          0,
                          "#8e0152"
                        ],
                        [
                          0.1,
                          "#c51b7d"
                        ],
                        [
                          0.2,
                          "#de77ae"
                        ],
                        [
                          0.3,
                          "#f1b6da"
                        ],
                        [
                          0.4,
                          "#fde0ef"
                        ],
                        [
                          0.5,
                          "#f7f7f7"
                        ],
                        [
                          0.6,
                          "#e6f5d0"
                        ],
                        [
                          0.7,
                          "#b8e186"
                        ],
                        [
                          0.8,
                          "#7fbc41"
                        ],
                        [
                          0.9,
                          "#4d9221"
                        ],
                        [
                          1,
                          "#276419"
                        ]
                      ],
                      "sequential": [
                        [
                          0,
                          "#0d0887"
                        ],
                        [
                          0.1111111111111111,
                          "#46039f"
                        ],
                        [
                          0.2222222222222222,
                          "#7201a8"
                        ],
                        [
                          0.3333333333333333,
                          "#9c179e"
                        ],
                        [
                          0.4444444444444444,
                          "#bd3786"
                        ],
                        [
                          0.5555555555555556,
                          "#d8576b"
                        ],
                        [
                          0.6666666666666666,
                          "#ed7953"
                        ],
                        [
                          0.7777777777777778,
                          "#fb9f3a"
                        ],
                        [
                          0.8888888888888888,
                          "#fdca26"
                        ],
                        [
                          1,
                          "#f0f921"
                        ]
                      ],
                      "sequentialminus": [
                        [
                          0,
                          "#0d0887"
                        ],
                        [
                          0.1111111111111111,
                          "#46039f"
                        ],
                        [
                          0.2222222222222222,
                          "#7201a8"
                        ],
                        [
                          0.3333333333333333,
                          "#9c179e"
                        ],
                        [
                          0.4444444444444444,
                          "#bd3786"
                        ],
                        [
                          0.5555555555555556,
                          "#d8576b"
                        ],
                        [
                          0.6666666666666666,
                          "#ed7953"
                        ],
                        [
                          0.7777777777777778,
                          "#fb9f3a"
                        ],
                        [
                          0.8888888888888888,
                          "#fdca26"
                        ],
                        [
                          1,
                          "#f0f921"
                        ]
                      ]
                    },
                    "colorway": [
                      "#636efa",
                      "#EF553B",
                      "#00cc96",
                      "#ab63fa",
                      "#FFA15A",
                      "#19d3f3",
                      "#FF6692",
                      "#B6E880",
                      "#FF97FF",
                      "#FECB52"
                    ],
                    "font": {
                      "color": "#2a3f5f"
                    },
                    "geo": {
                      "bgcolor": "white",
                      "lakecolor": "white",
                      "landcolor": "#E5ECF6",
                      "showlakes": true,
                      "showland": true,
                      "subunitcolor": "white"
                    },
                    "hoverlabel": {
                      "align": "left"
                    },
                    "hovermode": "closest",
                    "mapbox": {
                      "style": "light"
                    },
                    "paper_bgcolor": "white",
                    "plot_bgcolor": "#E5ECF6",
                    "polar": {
                      "angularaxis": {
                        "gridcolor": "white",
                        "linecolor": "white",
                        "ticks": ""
                      },
                      "bgcolor": "#E5ECF6",
                      "radialaxis": {
                        "gridcolor": "white",
                        "linecolor": "white",
                        "ticks": ""
                      }
                    },
                    "scene": {
                      "xaxis": {
                        "backgroundcolor": "#E5ECF6",
                        "gridcolor": "white",
                        "gridwidth": 2,
                        "linecolor": "white",
                        "showbackground": true,
                        "ticks": "",
                        "zerolinecolor": "white"
                      },
                      "yaxis": {
                        "backgroundcolor": "#E5ECF6",
                        "gridcolor": "white",
                        "gridwidth": 2,
                        "linecolor": "white",
                        "showbackground": true,
                        "ticks": "",
                        "zerolinecolor": "white"
                      },
                      "zaxis": {
                        "backgroundcolor": "#E5ECF6",
                        "gridcolor": "white",
                        "gridwidth": 2,
                        "linecolor": "white",
                        "showbackground": true,
                        "ticks": "",
                        "zerolinecolor": "white"
                      }
                    },
                    "shapedefaults": {
                      "line": {
                        "color": "#2a3f5f"
                      }
                    },
                    "ternary": {
                      "aaxis": {
                        "gridcolor": "white",
                        "linecolor": "white",
                        "ticks": ""
                      },
                      "baxis": {
                        "gridcolor": "white",
                        "linecolor": "white",
                        "ticks": ""
                      },
                      "bgcolor": "#E5ECF6",
                      "caxis": {
                        "gridcolor": "white",
                        "linecolor": "white",
                        "ticks": ""
                      }
                    },
                    "title": {
                      "x": 0.05
                    },
                    "xaxis": {
                      "automargin": true,
                      "gridcolor": "white",
                      "linecolor": "white",
                      "ticks": "",
                      "title": {
                        "standoff": 15
                      },
                      "zerolinecolor": "white",
                      "zerolinewidth": 2
                    },
                    "yaxis": {
                      "automargin": true,
                      "gridcolor": "white",
                      "linecolor": "white",
                      "ticks": "",
                      "title": {
                        "standoff": 15
                      },
                      "zerolinecolor": "white",
                      "zerolinewidth": 2
                    }
                  }
                },
                "xaxis": {
                  "anchor": "y",
                  "domain": [
                    0,
                    1
                  ],
                  "title": {
                    "text": "variable"
                  }
                },
                "yaxis": {
                  "anchor": "x",
                  "domain": [
                    0,
                    1
                  ],
                  "title": {
                    "text": "value"
                  }
                }
              }
            }
          },
          "metadata": {},
          "output_type": "display_data"
        },
        {
          "data": {
            "application/vnd.plotly.v1+json": {
              "config": {
                "plotlyServerURL": "https://plot.ly"
              },
              "data": [
                {
                  "alignmentgroup": "True",
                  "hovertemplate": "variable=%{x}<br>value=%{y}<extra></extra>",
                  "legendgroup": "",
                  "marker": {
                    "color": "#636efa"
                  },
                  "name": "",
                  "notched": false,
                  "offsetgroup": "",
                  "orientation": "v",
                  "showlegend": false,
                  "type": "box",
                  "x": [
                    "Walk-Forward",
                    "Walk-Forward",
                    "Walk-Forward",
                    "Walk-Forward",
                    "Walk-Forward",
                    "K-Fold",
                    "K-Fold",
                    "K-Fold",
                    "K-Fold",
                    "K-Fold",
                    "Purged K-Fold",
                    "Purged K-Fold",
                    "Purged K-Fold",
                    "Purged K-Fold",
                    "Purged K-Fold",
                    "Combinatorial Purged",
                    "Combinatorial Purged",
                    "Combinatorial Purged",
                    "Combinatorial Purged",
                    "Combinatorial Purged"
                  ],
                  "x0": " ",
                  "xaxis": "x",
                  "y": [
                    -0.3253022877073641,
                    -0.7360999151887123,
                    0.830514857775007,
                    0.22641615320549285,
                    -0.3099605786121281,
                    -0.0763420145148372,
                    0.1693175746088961,
                    1.0484209285256936,
                    0.4872259543419684,
                    0.6211012704673989,
                    0.2877843549300874,
                    0.35670964372953845,
                    0.9662051972136914,
                    0.4432473503151298,
                    1.0757087991336367,
                    0.6601049111470827,
                    -0.05184285231802588,
                    0.8081533401551719,
                    1.0383381652997161,
                    0.678380753760284
                  ],
                  "y0": " ",
                  "yaxis": "y"
                }
              ],
              "layout": {
                "boxmode": "group",
                "legend": {
                  "tracegroupgap": 0
                },
                "margin": {
                  "t": 60
                },
                "template": {
                  "data": {
                    "bar": [
                      {
                        "error_x": {
                          "color": "#2a3f5f"
                        },
                        "error_y": {
                          "color": "#2a3f5f"
                        },
                        "marker": {
                          "line": {
                            "color": "#E5ECF6",
                            "width": 0.5
                          },
                          "pattern": {
                            "fillmode": "overlay",
                            "size": 10,
                            "solidity": 0.2
                          }
                        },
                        "type": "bar"
                      }
                    ],
                    "barpolar": [
                      {
                        "marker": {
                          "line": {
                            "color": "#E5ECF6",
                            "width": 0.5
                          },
                          "pattern": {
                            "fillmode": "overlay",
                            "size": 10,
                            "solidity": 0.2
                          }
                        },
                        "type": "barpolar"
                      }
                    ],
                    "carpet": [
                      {
                        "aaxis": {
                          "endlinecolor": "#2a3f5f",
                          "gridcolor": "white",
                          "linecolor": "white",
                          "minorgridcolor": "white",
                          "startlinecolor": "#2a3f5f"
                        },
                        "baxis": {
                          "endlinecolor": "#2a3f5f",
                          "gridcolor": "white",
                          "linecolor": "white",
                          "minorgridcolor": "white",
                          "startlinecolor": "#2a3f5f"
                        },
                        "type": "carpet"
                      }
                    ],
                    "choropleth": [
                      {
                        "colorbar": {
                          "outlinewidth": 0,
                          "ticks": ""
                        },
                        "type": "choropleth"
                      }
                    ],
                    "contour": [
                      {
                        "colorbar": {
                          "outlinewidth": 0,
                          "ticks": ""
                        },
                        "colorscale": [
                          [
                            0,
                            "#0d0887"
                          ],
                          [
                            0.1111111111111111,
                            "#46039f"
                          ],
                          [
                            0.2222222222222222,
                            "#7201a8"
                          ],
                          [
                            0.3333333333333333,
                            "#9c179e"
                          ],
                          [
                            0.4444444444444444,
                            "#bd3786"
                          ],
                          [
                            0.5555555555555556,
                            "#d8576b"
                          ],
                          [
                            0.6666666666666666,
                            "#ed7953"
                          ],
                          [
                            0.7777777777777778,
                            "#fb9f3a"
                          ],
                          [
                            0.8888888888888888,
                            "#fdca26"
                          ],
                          [
                            1,
                            "#f0f921"
                          ]
                        ],
                        "type": "contour"
                      }
                    ],
                    "contourcarpet": [
                      {
                        "colorbar": {
                          "outlinewidth": 0,
                          "ticks": ""
                        },
                        "type": "contourcarpet"
                      }
                    ],
                    "heatmap": [
                      {
                        "colorbar": {
                          "outlinewidth": 0,
                          "ticks": ""
                        },
                        "colorscale": [
                          [
                            0,
                            "#0d0887"
                          ],
                          [
                            0.1111111111111111,
                            "#46039f"
                          ],
                          [
                            0.2222222222222222,
                            "#7201a8"
                          ],
                          [
                            0.3333333333333333,
                            "#9c179e"
                          ],
                          [
                            0.4444444444444444,
                            "#bd3786"
                          ],
                          [
                            0.5555555555555556,
                            "#d8576b"
                          ],
                          [
                            0.6666666666666666,
                            "#ed7953"
                          ],
                          [
                            0.7777777777777778,
                            "#fb9f3a"
                          ],
                          [
                            0.8888888888888888,
                            "#fdca26"
                          ],
                          [
                            1,
                            "#f0f921"
                          ]
                        ],
                        "type": "heatmap"
                      }
                    ],
                    "heatmapgl": [
                      {
                        "colorbar": {
                          "outlinewidth": 0,
                          "ticks": ""
                        },
                        "colorscale": [
                          [
                            0,
                            "#0d0887"
                          ],
                          [
                            0.1111111111111111,
                            "#46039f"
                          ],
                          [
                            0.2222222222222222,
                            "#7201a8"
                          ],
                          [
                            0.3333333333333333,
                            "#9c179e"
                          ],
                          [
                            0.4444444444444444,
                            "#bd3786"
                          ],
                          [
                            0.5555555555555556,
                            "#d8576b"
                          ],
                          [
                            0.6666666666666666,
                            "#ed7953"
                          ],
                          [
                            0.7777777777777778,
                            "#fb9f3a"
                          ],
                          [
                            0.8888888888888888,
                            "#fdca26"
                          ],
                          [
                            1,
                            "#f0f921"
                          ]
                        ],
                        "type": "heatmapgl"
                      }
                    ],
                    "histogram": [
                      {
                        "marker": {
                          "pattern": {
                            "fillmode": "overlay",
                            "size": 10,
                            "solidity": 0.2
                          }
                        },
                        "type": "histogram"
                      }
                    ],
                    "histogram2d": [
                      {
                        "colorbar": {
                          "outlinewidth": 0,
                          "ticks": ""
                        },
                        "colorscale": [
                          [
                            0,
                            "#0d0887"
                          ],
                          [
                            0.1111111111111111,
                            "#46039f"
                          ],
                          [
                            0.2222222222222222,
                            "#7201a8"
                          ],
                          [
                            0.3333333333333333,
                            "#9c179e"
                          ],
                          [
                            0.4444444444444444,
                            "#bd3786"
                          ],
                          [
                            0.5555555555555556,
                            "#d8576b"
                          ],
                          [
                            0.6666666666666666,
                            "#ed7953"
                          ],
                          [
                            0.7777777777777778,
                            "#fb9f3a"
                          ],
                          [
                            0.8888888888888888,
                            "#fdca26"
                          ],
                          [
                            1,
                            "#f0f921"
                          ]
                        ],
                        "type": "histogram2d"
                      }
                    ],
                    "histogram2dcontour": [
                      {
                        "colorbar": {
                          "outlinewidth": 0,
                          "ticks": ""
                        },
                        "colorscale": [
                          [
                            0,
                            "#0d0887"
                          ],
                          [
                            0.1111111111111111,
                            "#46039f"
                          ],
                          [
                            0.2222222222222222,
                            "#7201a8"
                          ],
                          [
                            0.3333333333333333,
                            "#9c179e"
                          ],
                          [
                            0.4444444444444444,
                            "#bd3786"
                          ],
                          [
                            0.5555555555555556,
                            "#d8576b"
                          ],
                          [
                            0.6666666666666666,
                            "#ed7953"
                          ],
                          [
                            0.7777777777777778,
                            "#fb9f3a"
                          ],
                          [
                            0.8888888888888888,
                            "#fdca26"
                          ],
                          [
                            1,
                            "#f0f921"
                          ]
                        ],
                        "type": "histogram2dcontour"
                      }
                    ],
                    "mesh3d": [
                      {
                        "colorbar": {
                          "outlinewidth": 0,
                          "ticks": ""
                        },
                        "type": "mesh3d"
                      }
                    ],
                    "parcoords": [
                      {
                        "line": {
                          "colorbar": {
                            "outlinewidth": 0,
                            "ticks": ""
                          }
                        },
                        "type": "parcoords"
                      }
                    ],
                    "pie": [
                      {
                        "automargin": true,
                        "type": "pie"
                      }
                    ],
                    "scatter": [
                      {
                        "fillpattern": {
                          "fillmode": "overlay",
                          "size": 10,
                          "solidity": 0.2
                        },
                        "type": "scatter"
                      }
                    ],
                    "scatter3d": [
                      {
                        "line": {
                          "colorbar": {
                            "outlinewidth": 0,
                            "ticks": ""
                          }
                        },
                        "marker": {
                          "colorbar": {
                            "outlinewidth": 0,
                            "ticks": ""
                          }
                        },
                        "type": "scatter3d"
                      }
                    ],
                    "scattercarpet": [
                      {
                        "marker": {
                          "colorbar": {
                            "outlinewidth": 0,
                            "ticks": ""
                          }
                        },
                        "type": "scattercarpet"
                      }
                    ],
                    "scattergeo": [
                      {
                        "marker": {
                          "colorbar": {
                            "outlinewidth": 0,
                            "ticks": ""
                          }
                        },
                        "type": "scattergeo"
                      }
                    ],
                    "scattergl": [
                      {
                        "marker": {
                          "colorbar": {
                            "outlinewidth": 0,
                            "ticks": ""
                          }
                        },
                        "type": "scattergl"
                      }
                    ],
                    "scattermapbox": [
                      {
                        "marker": {
                          "colorbar": {
                            "outlinewidth": 0,
                            "ticks": ""
                          }
                        },
                        "type": "scattermapbox"
                      }
                    ],
                    "scatterpolar": [
                      {
                        "marker": {
                          "colorbar": {
                            "outlinewidth": 0,
                            "ticks": ""
                          }
                        },
                        "type": "scatterpolar"
                      }
                    ],
                    "scatterpolargl": [
                      {
                        "marker": {
                          "colorbar": {
                            "outlinewidth": 0,
                            "ticks": ""
                          }
                        },
                        "type": "scatterpolargl"
                      }
                    ],
                    "scatterternary": [
                      {
                        "marker": {
                          "colorbar": {
                            "outlinewidth": 0,
                            "ticks": ""
                          }
                        },
                        "type": "scatterternary"
                      }
                    ],
                    "surface": [
                      {
                        "colorbar": {
                          "outlinewidth": 0,
                          "ticks": ""
                        },
                        "colorscale": [
                          [
                            0,
                            "#0d0887"
                          ],
                          [
                            0.1111111111111111,
                            "#46039f"
                          ],
                          [
                            0.2222222222222222,
                            "#7201a8"
                          ],
                          [
                            0.3333333333333333,
                            "#9c179e"
                          ],
                          [
                            0.4444444444444444,
                            "#bd3786"
                          ],
                          [
                            0.5555555555555556,
                            "#d8576b"
                          ],
                          [
                            0.6666666666666666,
                            "#ed7953"
                          ],
                          [
                            0.7777777777777778,
                            "#fb9f3a"
                          ],
                          [
                            0.8888888888888888,
                            "#fdca26"
                          ],
                          [
                            1,
                            "#f0f921"
                          ]
                        ],
                        "type": "surface"
                      }
                    ],
                    "table": [
                      {
                        "cells": {
                          "fill": {
                            "color": "#EBF0F8"
                          },
                          "line": {
                            "color": "white"
                          }
                        },
                        "header": {
                          "fill": {
                            "color": "#C8D4E3"
                          },
                          "line": {
                            "color": "white"
                          }
                        },
                        "type": "table"
                      }
                    ]
                  },
                  "layout": {
                    "annotationdefaults": {
                      "arrowcolor": "#2a3f5f",
                      "arrowhead": 0,
                      "arrowwidth": 1
                    },
                    "autotypenumbers": "strict",
                    "coloraxis": {
                      "colorbar": {
                        "outlinewidth": 0,
                        "ticks": ""
                      }
                    },
                    "colorscale": {
                      "diverging": [
                        [
                          0,
                          "#8e0152"
                        ],
                        [
                          0.1,
                          "#c51b7d"
                        ],
                        [
                          0.2,
                          "#de77ae"
                        ],
                        [
                          0.3,
                          "#f1b6da"
                        ],
                        [
                          0.4,
                          "#fde0ef"
                        ],
                        [
                          0.5,
                          "#f7f7f7"
                        ],
                        [
                          0.6,
                          "#e6f5d0"
                        ],
                        [
                          0.7,
                          "#b8e186"
                        ],
                        [
                          0.8,
                          "#7fbc41"
                        ],
                        [
                          0.9,
                          "#4d9221"
                        ],
                        [
                          1,
                          "#276419"
                        ]
                      ],
                      "sequential": [
                        [
                          0,
                          "#0d0887"
                        ],
                        [
                          0.1111111111111111,
                          "#46039f"
                        ],
                        [
                          0.2222222222222222,
                          "#7201a8"
                        ],
                        [
                          0.3333333333333333,
                          "#9c179e"
                        ],
                        [
                          0.4444444444444444,
                          "#bd3786"
                        ],
                        [
                          0.5555555555555556,
                          "#d8576b"
                        ],
                        [
                          0.6666666666666666,
                          "#ed7953"
                        ],
                        [
                          0.7777777777777778,
                          "#fb9f3a"
                        ],
                        [
                          0.8888888888888888,
                          "#fdca26"
                        ],
                        [
                          1,
                          "#f0f921"
                        ]
                      ],
                      "sequentialminus": [
                        [
                          0,
                          "#0d0887"
                        ],
                        [
                          0.1111111111111111,
                          "#46039f"
                        ],
                        [
                          0.2222222222222222,
                          "#7201a8"
                        ],
                        [
                          0.3333333333333333,
                          "#9c179e"
                        ],
                        [
                          0.4444444444444444,
                          "#bd3786"
                        ],
                        [
                          0.5555555555555556,
                          "#d8576b"
                        ],
                        [
                          0.6666666666666666,
                          "#ed7953"
                        ],
                        [
                          0.7777777777777778,
                          "#fb9f3a"
                        ],
                        [
                          0.8888888888888888,
                          "#fdca26"
                        ],
                        [
                          1,
                          "#f0f921"
                        ]
                      ]
                    },
                    "colorway": [
                      "#636efa",
                      "#EF553B",
                      "#00cc96",
                      "#ab63fa",
                      "#FFA15A",
                      "#19d3f3",
                      "#FF6692",
                      "#B6E880",
                      "#FF97FF",
                      "#FECB52"
                    ],
                    "font": {
                      "color": "#2a3f5f"
                    },
                    "geo": {
                      "bgcolor": "white",
                      "lakecolor": "white",
                      "landcolor": "#E5ECF6",
                      "showlakes": true,
                      "showland": true,
                      "subunitcolor": "white"
                    },
                    "hoverlabel": {
                      "align": "left"
                    },
                    "hovermode": "closest",
                    "mapbox": {
                      "style": "light"
                    },
                    "paper_bgcolor": "white",
                    "plot_bgcolor": "#E5ECF6",
                    "polar": {
                      "angularaxis": {
                        "gridcolor": "white",
                        "linecolor": "white",
                        "ticks": ""
                      },
                      "bgcolor": "#E5ECF6",
                      "radialaxis": {
                        "gridcolor": "white",
                        "linecolor": "white",
                        "ticks": ""
                      }
                    },
                    "scene": {
                      "xaxis": {
                        "backgroundcolor": "#E5ECF6",
                        "gridcolor": "white",
                        "gridwidth": 2,
                        "linecolor": "white",
                        "showbackground": true,
                        "ticks": "",
                        "zerolinecolor": "white"
                      },
                      "yaxis": {
                        "backgroundcolor": "#E5ECF6",
                        "gridcolor": "white",
                        "gridwidth": 2,
                        "linecolor": "white",
                        "showbackground": true,
                        "ticks": "",
                        "zerolinecolor": "white"
                      },
                      "zaxis": {
                        "backgroundcolor": "#E5ECF6",
                        "gridcolor": "white",
                        "gridwidth": 2,
                        "linecolor": "white",
                        "showbackground": true,
                        "ticks": "",
                        "zerolinecolor": "white"
                      }
                    },
                    "shapedefaults": {
                      "line": {
                        "color": "#2a3f5f"
                      }
                    },
                    "ternary": {
                      "aaxis": {
                        "gridcolor": "white",
                        "linecolor": "white",
                        "ticks": ""
                      },
                      "baxis": {
                        "gridcolor": "white",
                        "linecolor": "white",
                        "ticks": ""
                      },
                      "bgcolor": "#E5ECF6",
                      "caxis": {
                        "gridcolor": "white",
                        "linecolor": "white",
                        "ticks": ""
                      }
                    },
                    "title": {
                      "x": 0.05
                    },
                    "xaxis": {
                      "automargin": true,
                      "gridcolor": "white",
                      "linecolor": "white",
                      "ticks": "",
                      "title": {
                        "standoff": 15
                      },
                      "zerolinecolor": "white",
                      "zerolinewidth": 2
                    },
                    "yaxis": {
                      "automargin": true,
                      "gridcolor": "white",
                      "linecolor": "white",
                      "ticks": "",
                      "title": {
                        "standoff": 15
                      },
                      "zerolinecolor": "white",
                      "zerolinewidth": 2
                    }
                  }
                },
                "xaxis": {
                  "anchor": "y",
                  "domain": [
                    0,
                    1
                  ],
                  "title": {
                    "text": "variable"
                  }
                },
                "yaxis": {
                  "anchor": "x",
                  "domain": [
                    0,
                    1
                  ],
                  "title": {
                    "text": "value"
                  }
                }
              }
            }
          },
          "metadata": {},
          "output_type": "display_data"
        }
      ],
      "source": [
        "import plotly.express as px\n",
        "px.box(pbo).show()\n",
        "px.box(deflated_sr)"
      ]
    },
    {
      "cell_type": "code",
      "execution_count": 47,
      "metadata": {},
      "outputs": [
        {
          "data": {
            "application/vnd.plotly.v1+json": {
              "config": {
                "plotlyServerURL": "https://plot.ly"
              },
              "data": [
                {
                  "alignmentgroup": "True",
                  "hovertemplate": "variable=%{x}<br>value=%{y}<extra></extra>",
                  "legendgroup": "",
                  "marker": {
                    "color": "#636efa"
                  },
                  "name": "",
                  "notched": false,
                  "offsetgroup": "",
                  "orientation": "v",
                  "showlegend": false,
                  "type": "box",
                  "x": [
                    "Walk-Forward",
                    "Walk-Forward",
                    "Walk-Forward",
                    "Walk-Forward",
                    "Walk-Forward",
                    "K-Fold",
                    "K-Fold",
                    "K-Fold",
                    "K-Fold",
                    "K-Fold",
                    "Purged K-Fold",
                    "Purged K-Fold",
                    "Purged K-Fold",
                    "Purged K-Fold",
                    "Purged K-Fold",
                    "Combinatorial Purged",
                    "Combinatorial Purged",
                    "Combinatorial Purged",
                    "Combinatorial Purged",
                    "Combinatorial Purged"
                  ],
                  "x0": " ",
                  "xaxis": "x",
                  "y": [
                    0.6365190365190365,
                    0.04242424242424243,
                    0.2981351981351981,
                    0.4682983682983683,
                    0.6647241647241647,
                    0.40287490287490285,
                    0.11367521367521367,
                    0.23986013986013985,
                    0.185003885003885,
                    0.7117327117327117,
                    0.4414918414918415,
                    0.3261072261072261,
                    0.23255633255633257,
                    0.19153069153069152,
                    0.7432012432012433,
                    0.6145299145299146,
                    0.5913752913752913,
                    0.2665889665889666,
                    0.07762237762237763,
                    0.3441336441336441
                  ],
                  "y0": " ",
                  "yaxis": "y"
                }
              ],
              "layout": {
                "boxmode": "group",
                "legend": {
                  "tracegroupgap": 0
                },
                "margin": {
                  "t": 60
                },
                "template": {
                  "data": {
                    "bar": [
                      {
                        "error_x": {
                          "color": "#2a3f5f"
                        },
                        "error_y": {
                          "color": "#2a3f5f"
                        },
                        "marker": {
                          "line": {
                            "color": "#E5ECF6",
                            "width": 0.5
                          },
                          "pattern": {
                            "fillmode": "overlay",
                            "size": 10,
                            "solidity": 0.2
                          }
                        },
                        "type": "bar"
                      }
                    ],
                    "barpolar": [
                      {
                        "marker": {
                          "line": {
                            "color": "#E5ECF6",
                            "width": 0.5
                          },
                          "pattern": {
                            "fillmode": "overlay",
                            "size": 10,
                            "solidity": 0.2
                          }
                        },
                        "type": "barpolar"
                      }
                    ],
                    "carpet": [
                      {
                        "aaxis": {
                          "endlinecolor": "#2a3f5f",
                          "gridcolor": "white",
                          "linecolor": "white",
                          "minorgridcolor": "white",
                          "startlinecolor": "#2a3f5f"
                        },
                        "baxis": {
                          "endlinecolor": "#2a3f5f",
                          "gridcolor": "white",
                          "linecolor": "white",
                          "minorgridcolor": "white",
                          "startlinecolor": "#2a3f5f"
                        },
                        "type": "carpet"
                      }
                    ],
                    "choropleth": [
                      {
                        "colorbar": {
                          "outlinewidth": 0,
                          "ticks": ""
                        },
                        "type": "choropleth"
                      }
                    ],
                    "contour": [
                      {
                        "colorbar": {
                          "outlinewidth": 0,
                          "ticks": ""
                        },
                        "colorscale": [
                          [
                            0,
                            "#0d0887"
                          ],
                          [
                            0.1111111111111111,
                            "#46039f"
                          ],
                          [
                            0.2222222222222222,
                            "#7201a8"
                          ],
                          [
                            0.3333333333333333,
                            "#9c179e"
                          ],
                          [
                            0.4444444444444444,
                            "#bd3786"
                          ],
                          [
                            0.5555555555555556,
                            "#d8576b"
                          ],
                          [
                            0.6666666666666666,
                            "#ed7953"
                          ],
                          [
                            0.7777777777777778,
                            "#fb9f3a"
                          ],
                          [
                            0.8888888888888888,
                            "#fdca26"
                          ],
                          [
                            1,
                            "#f0f921"
                          ]
                        ],
                        "type": "contour"
                      }
                    ],
                    "contourcarpet": [
                      {
                        "colorbar": {
                          "outlinewidth": 0,
                          "ticks": ""
                        },
                        "type": "contourcarpet"
                      }
                    ],
                    "heatmap": [
                      {
                        "colorbar": {
                          "outlinewidth": 0,
                          "ticks": ""
                        },
                        "colorscale": [
                          [
                            0,
                            "#0d0887"
                          ],
                          [
                            0.1111111111111111,
                            "#46039f"
                          ],
                          [
                            0.2222222222222222,
                            "#7201a8"
                          ],
                          [
                            0.3333333333333333,
                            "#9c179e"
                          ],
                          [
                            0.4444444444444444,
                            "#bd3786"
                          ],
                          [
                            0.5555555555555556,
                            "#d8576b"
                          ],
                          [
                            0.6666666666666666,
                            "#ed7953"
                          ],
                          [
                            0.7777777777777778,
                            "#fb9f3a"
                          ],
                          [
                            0.8888888888888888,
                            "#fdca26"
                          ],
                          [
                            1,
                            "#f0f921"
                          ]
                        ],
                        "type": "heatmap"
                      }
                    ],
                    "heatmapgl": [
                      {
                        "colorbar": {
                          "outlinewidth": 0,
                          "ticks": ""
                        },
                        "colorscale": [
                          [
                            0,
                            "#0d0887"
                          ],
                          [
                            0.1111111111111111,
                            "#46039f"
                          ],
                          [
                            0.2222222222222222,
                            "#7201a8"
                          ],
                          [
                            0.3333333333333333,
                            "#9c179e"
                          ],
                          [
                            0.4444444444444444,
                            "#bd3786"
                          ],
                          [
                            0.5555555555555556,
                            "#d8576b"
                          ],
                          [
                            0.6666666666666666,
                            "#ed7953"
                          ],
                          [
                            0.7777777777777778,
                            "#fb9f3a"
                          ],
                          [
                            0.8888888888888888,
                            "#fdca26"
                          ],
                          [
                            1,
                            "#f0f921"
                          ]
                        ],
                        "type": "heatmapgl"
                      }
                    ],
                    "histogram": [
                      {
                        "marker": {
                          "pattern": {
                            "fillmode": "overlay",
                            "size": 10,
                            "solidity": 0.2
                          }
                        },
                        "type": "histogram"
                      }
                    ],
                    "histogram2d": [
                      {
                        "colorbar": {
                          "outlinewidth": 0,
                          "ticks": ""
                        },
                        "colorscale": [
                          [
                            0,
                            "#0d0887"
                          ],
                          [
                            0.1111111111111111,
                            "#46039f"
                          ],
                          [
                            0.2222222222222222,
                            "#7201a8"
                          ],
                          [
                            0.3333333333333333,
                            "#9c179e"
                          ],
                          [
                            0.4444444444444444,
                            "#bd3786"
                          ],
                          [
                            0.5555555555555556,
                            "#d8576b"
                          ],
                          [
                            0.6666666666666666,
                            "#ed7953"
                          ],
                          [
                            0.7777777777777778,
                            "#fb9f3a"
                          ],
                          [
                            0.8888888888888888,
                            "#fdca26"
                          ],
                          [
                            1,
                            "#f0f921"
                          ]
                        ],
                        "type": "histogram2d"
                      }
                    ],
                    "histogram2dcontour": [
                      {
                        "colorbar": {
                          "outlinewidth": 0,
                          "ticks": ""
                        },
                        "colorscale": [
                          [
                            0,
                            "#0d0887"
                          ],
                          [
                            0.1111111111111111,
                            "#46039f"
                          ],
                          [
                            0.2222222222222222,
                            "#7201a8"
                          ],
                          [
                            0.3333333333333333,
                            "#9c179e"
                          ],
                          [
                            0.4444444444444444,
                            "#bd3786"
                          ],
                          [
                            0.5555555555555556,
                            "#d8576b"
                          ],
                          [
                            0.6666666666666666,
                            "#ed7953"
                          ],
                          [
                            0.7777777777777778,
                            "#fb9f3a"
                          ],
                          [
                            0.8888888888888888,
                            "#fdca26"
                          ],
                          [
                            1,
                            "#f0f921"
                          ]
                        ],
                        "type": "histogram2dcontour"
                      }
                    ],
                    "mesh3d": [
                      {
                        "colorbar": {
                          "outlinewidth": 0,
                          "ticks": ""
                        },
                        "type": "mesh3d"
                      }
                    ],
                    "parcoords": [
                      {
                        "line": {
                          "colorbar": {
                            "outlinewidth": 0,
                            "ticks": ""
                          }
                        },
                        "type": "parcoords"
                      }
                    ],
                    "pie": [
                      {
                        "automargin": true,
                        "type": "pie"
                      }
                    ],
                    "scatter": [
                      {
                        "fillpattern": {
                          "fillmode": "overlay",
                          "size": 10,
                          "solidity": 0.2
                        },
                        "type": "scatter"
                      }
                    ],
                    "scatter3d": [
                      {
                        "line": {
                          "colorbar": {
                            "outlinewidth": 0,
                            "ticks": ""
                          }
                        },
                        "marker": {
                          "colorbar": {
                            "outlinewidth": 0,
                            "ticks": ""
                          }
                        },
                        "type": "scatter3d"
                      }
                    ],
                    "scattercarpet": [
                      {
                        "marker": {
                          "colorbar": {
                            "outlinewidth": 0,
                            "ticks": ""
                          }
                        },
                        "type": "scattercarpet"
                      }
                    ],
                    "scattergeo": [
                      {
                        "marker": {
                          "colorbar": {
                            "outlinewidth": 0,
                            "ticks": ""
                          }
                        },
                        "type": "scattergeo"
                      }
                    ],
                    "scattergl": [
                      {
                        "marker": {
                          "colorbar": {
                            "outlinewidth": 0,
                            "ticks": ""
                          }
                        },
                        "type": "scattergl"
                      }
                    ],
                    "scattermapbox": [
                      {
                        "marker": {
                          "colorbar": {
                            "outlinewidth": 0,
                            "ticks": ""
                          }
                        },
                        "type": "scattermapbox"
                      }
                    ],
                    "scatterpolar": [
                      {
                        "marker": {
                          "colorbar": {
                            "outlinewidth": 0,
                            "ticks": ""
                          }
                        },
                        "type": "scatterpolar"
                      }
                    ],
                    "scatterpolargl": [
                      {
                        "marker": {
                          "colorbar": {
                            "outlinewidth": 0,
                            "ticks": ""
                          }
                        },
                        "type": "scatterpolargl"
                      }
                    ],
                    "scatterternary": [
                      {
                        "marker": {
                          "colorbar": {
                            "outlinewidth": 0,
                            "ticks": ""
                          }
                        },
                        "type": "scatterternary"
                      }
                    ],
                    "surface": [
                      {
                        "colorbar": {
                          "outlinewidth": 0,
                          "ticks": ""
                        },
                        "colorscale": [
                          [
                            0,
                            "#0d0887"
                          ],
                          [
                            0.1111111111111111,
                            "#46039f"
                          ],
                          [
                            0.2222222222222222,
                            "#7201a8"
                          ],
                          [
                            0.3333333333333333,
                            "#9c179e"
                          ],
                          [
                            0.4444444444444444,
                            "#bd3786"
                          ],
                          [
                            0.5555555555555556,
                            "#d8576b"
                          ],
                          [
                            0.6666666666666666,
                            "#ed7953"
                          ],
                          [
                            0.7777777777777778,
                            "#fb9f3a"
                          ],
                          [
                            0.8888888888888888,
                            "#fdca26"
                          ],
                          [
                            1,
                            "#f0f921"
                          ]
                        ],
                        "type": "surface"
                      }
                    ],
                    "table": [
                      {
                        "cells": {
                          "fill": {
                            "color": "#EBF0F8"
                          },
                          "line": {
                            "color": "white"
                          }
                        },
                        "header": {
                          "fill": {
                            "color": "#C8D4E3"
                          },
                          "line": {
                            "color": "white"
                          }
                        },
                        "type": "table"
                      }
                    ]
                  },
                  "layout": {
                    "annotationdefaults": {
                      "arrowcolor": "#2a3f5f",
                      "arrowhead": 0,
                      "arrowwidth": 1
                    },
                    "autotypenumbers": "strict",
                    "coloraxis": {
                      "colorbar": {
                        "outlinewidth": 0,
                        "ticks": ""
                      }
                    },
                    "colorscale": {
                      "diverging": [
                        [
                          0,
                          "#8e0152"
                        ],
                        [
                          0.1,
                          "#c51b7d"
                        ],
                        [
                          0.2,
                          "#de77ae"
                        ],
                        [
                          0.3,
                          "#f1b6da"
                        ],
                        [
                          0.4,
                          "#fde0ef"
                        ],
                        [
                          0.5,
                          "#f7f7f7"
                        ],
                        [
                          0.6,
                          "#e6f5d0"
                        ],
                        [
                          0.7,
                          "#b8e186"
                        ],
                        [
                          0.8,
                          "#7fbc41"
                        ],
                        [
                          0.9,
                          "#4d9221"
                        ],
                        [
                          1,
                          "#276419"
                        ]
                      ],
                      "sequential": [
                        [
                          0,
                          "#0d0887"
                        ],
                        [
                          0.1111111111111111,
                          "#46039f"
                        ],
                        [
                          0.2222222222222222,
                          "#7201a8"
                        ],
                        [
                          0.3333333333333333,
                          "#9c179e"
                        ],
                        [
                          0.4444444444444444,
                          "#bd3786"
                        ],
                        [
                          0.5555555555555556,
                          "#d8576b"
                        ],
                        [
                          0.6666666666666666,
                          "#ed7953"
                        ],
                        [
                          0.7777777777777778,
                          "#fb9f3a"
                        ],
                        [
                          0.8888888888888888,
                          "#fdca26"
                        ],
                        [
                          1,
                          "#f0f921"
                        ]
                      ],
                      "sequentialminus": [
                        [
                          0,
                          "#0d0887"
                        ],
                        [
                          0.1111111111111111,
                          "#46039f"
                        ],
                        [
                          0.2222222222222222,
                          "#7201a8"
                        ],
                        [
                          0.3333333333333333,
                          "#9c179e"
                        ],
                        [
                          0.4444444444444444,
                          "#bd3786"
                        ],
                        [
                          0.5555555555555556,
                          "#d8576b"
                        ],
                        [
                          0.6666666666666666,
                          "#ed7953"
                        ],
                        [
                          0.7777777777777778,
                          "#fb9f3a"
                        ],
                        [
                          0.8888888888888888,
                          "#fdca26"
                        ],
                        [
                          1,
                          "#f0f921"
                        ]
                      ]
                    },
                    "colorway": [
                      "#636efa",
                      "#EF553B",
                      "#00cc96",
                      "#ab63fa",
                      "#FFA15A",
                      "#19d3f3",
                      "#FF6692",
                      "#B6E880",
                      "#FF97FF",
                      "#FECB52"
                    ],
                    "font": {
                      "color": "#2a3f5f"
                    },
                    "geo": {
                      "bgcolor": "white",
                      "lakecolor": "white",
                      "landcolor": "#E5ECF6",
                      "showlakes": true,
                      "showland": true,
                      "subunitcolor": "white"
                    },
                    "hoverlabel": {
                      "align": "left"
                    },
                    "hovermode": "closest",
                    "mapbox": {
                      "style": "light"
                    },
                    "paper_bgcolor": "white",
                    "plot_bgcolor": "#E5ECF6",
                    "polar": {
                      "angularaxis": {
                        "gridcolor": "white",
                        "linecolor": "white",
                        "ticks": ""
                      },
                      "bgcolor": "#E5ECF6",
                      "radialaxis": {
                        "gridcolor": "white",
                        "linecolor": "white",
                        "ticks": ""
                      }
                    },
                    "scene": {
                      "xaxis": {
                        "backgroundcolor": "#E5ECF6",
                        "gridcolor": "white",
                        "gridwidth": 2,
                        "linecolor": "white",
                        "showbackground": true,
                        "ticks": "",
                        "zerolinecolor": "white"
                      },
                      "yaxis": {
                        "backgroundcolor": "#E5ECF6",
                        "gridcolor": "white",
                        "gridwidth": 2,
                        "linecolor": "white",
                        "showbackground": true,
                        "ticks": "",
                        "zerolinecolor": "white"
                      },
                      "zaxis": {
                        "backgroundcolor": "#E5ECF6",
                        "gridcolor": "white",
                        "gridwidth": 2,
                        "linecolor": "white",
                        "showbackground": true,
                        "ticks": "",
                        "zerolinecolor": "white"
                      }
                    },
                    "shapedefaults": {
                      "line": {
                        "color": "#2a3f5f"
                      }
                    },
                    "ternary": {
                      "aaxis": {
                        "gridcolor": "white",
                        "linecolor": "white",
                        "ticks": ""
                      },
                      "baxis": {
                        "gridcolor": "white",
                        "linecolor": "white",
                        "ticks": ""
                      },
                      "bgcolor": "#E5ECF6",
                      "caxis": {
                        "gridcolor": "white",
                        "linecolor": "white",
                        "ticks": ""
                      }
                    },
                    "title": {
                      "x": 0.05
                    },
                    "xaxis": {
                      "automargin": true,
                      "gridcolor": "white",
                      "linecolor": "white",
                      "ticks": "",
                      "title": {
                        "standoff": 15
                      },
                      "zerolinecolor": "white",
                      "zerolinewidth": 2
                    },
                    "yaxis": {
                      "automargin": true,
                      "gridcolor": "white",
                      "linecolor": "white",
                      "ticks": "",
                      "title": {
                        "standoff": 15
                      },
                      "zerolinecolor": "white",
                      "zerolinewidth": 2
                    }
                  }
                },
                "xaxis": {
                  "anchor": "y",
                  "domain": [
                    0,
                    1
                  ],
                  "title": {
                    "text": "variable"
                  }
                },
                "yaxis": {
                  "anchor": "x",
                  "domain": [
                    0,
                    1
                  ],
                  "title": {
                    "text": "value"
                  }
                }
              }
            }
          },
          "metadata": {},
          "output_type": "display_data"
        },
        {
          "data": {
            "application/vnd.plotly.v1+json": {
              "config": {
                "plotlyServerURL": "https://plot.ly"
              },
              "data": [
                {
                  "alignmentgroup": "True",
                  "hovertemplate": "variable=%{x}<br>value=%{y}<extra></extra>",
                  "legendgroup": "",
                  "marker": {
                    "color": "#636efa"
                  },
                  "name": "",
                  "notched": false,
                  "offsetgroup": "",
                  "orientation": "v",
                  "showlegend": false,
                  "type": "box",
                  "x": [
                    "Walk-Forward",
                    "Walk-Forward",
                    "Walk-Forward",
                    "Walk-Forward",
                    "Walk-Forward",
                    "K-Fold",
                    "K-Fold",
                    "K-Fold",
                    "K-Fold",
                    "K-Fold",
                    "Purged K-Fold",
                    "Purged K-Fold",
                    "Purged K-Fold",
                    "Purged K-Fold",
                    "Purged K-Fold",
                    "Combinatorial Purged",
                    "Combinatorial Purged",
                    "Combinatorial Purged",
                    "Combinatorial Purged",
                    "Combinatorial Purged"
                  ],
                  "x0": " ",
                  "xaxis": "x",
                  "y": [
                    -0.5789003707982002,
                    0.1604226992750181,
                    0.3096710762688615,
                    0.10265376455243462,
                    0.41383009331827714,
                    0.49603756841837116,
                    0.505772071957355,
                    0.8889724085751212,
                    1.412627716871006,
                    0.9439738447156166,
                    0.4452118894407902,
                    1.0786497986422061,
                    0.9120433405839792,
                    1.6350801776043016,
                    0.8524678238353599,
                    -0.09455501440611029,
                    0.5314576023083475,
                    0.9011077504105861,
                    2.3382902363458204,
                    0.9085170255556986
                  ],
                  "y0": " ",
                  "yaxis": "y"
                }
              ],
              "layout": {
                "boxmode": "group",
                "legend": {
                  "tracegroupgap": 0
                },
                "margin": {
                  "t": 60
                },
                "template": {
                  "data": {
                    "bar": [
                      {
                        "error_x": {
                          "color": "#2a3f5f"
                        },
                        "error_y": {
                          "color": "#2a3f5f"
                        },
                        "marker": {
                          "line": {
                            "color": "#E5ECF6",
                            "width": 0.5
                          },
                          "pattern": {
                            "fillmode": "overlay",
                            "size": 10,
                            "solidity": 0.2
                          }
                        },
                        "type": "bar"
                      }
                    ],
                    "barpolar": [
                      {
                        "marker": {
                          "line": {
                            "color": "#E5ECF6",
                            "width": 0.5
                          },
                          "pattern": {
                            "fillmode": "overlay",
                            "size": 10,
                            "solidity": 0.2
                          }
                        },
                        "type": "barpolar"
                      }
                    ],
                    "carpet": [
                      {
                        "aaxis": {
                          "endlinecolor": "#2a3f5f",
                          "gridcolor": "white",
                          "linecolor": "white",
                          "minorgridcolor": "white",
                          "startlinecolor": "#2a3f5f"
                        },
                        "baxis": {
                          "endlinecolor": "#2a3f5f",
                          "gridcolor": "white",
                          "linecolor": "white",
                          "minorgridcolor": "white",
                          "startlinecolor": "#2a3f5f"
                        },
                        "type": "carpet"
                      }
                    ],
                    "choropleth": [
                      {
                        "colorbar": {
                          "outlinewidth": 0,
                          "ticks": ""
                        },
                        "type": "choropleth"
                      }
                    ],
                    "contour": [
                      {
                        "colorbar": {
                          "outlinewidth": 0,
                          "ticks": ""
                        },
                        "colorscale": [
                          [
                            0,
                            "#0d0887"
                          ],
                          [
                            0.1111111111111111,
                            "#46039f"
                          ],
                          [
                            0.2222222222222222,
                            "#7201a8"
                          ],
                          [
                            0.3333333333333333,
                            "#9c179e"
                          ],
                          [
                            0.4444444444444444,
                            "#bd3786"
                          ],
                          [
                            0.5555555555555556,
                            "#d8576b"
                          ],
                          [
                            0.6666666666666666,
                            "#ed7953"
                          ],
                          [
                            0.7777777777777778,
                            "#fb9f3a"
                          ],
                          [
                            0.8888888888888888,
                            "#fdca26"
                          ],
                          [
                            1,
                            "#f0f921"
                          ]
                        ],
                        "type": "contour"
                      }
                    ],
                    "contourcarpet": [
                      {
                        "colorbar": {
                          "outlinewidth": 0,
                          "ticks": ""
                        },
                        "type": "contourcarpet"
                      }
                    ],
                    "heatmap": [
                      {
                        "colorbar": {
                          "outlinewidth": 0,
                          "ticks": ""
                        },
                        "colorscale": [
                          [
                            0,
                            "#0d0887"
                          ],
                          [
                            0.1111111111111111,
                            "#46039f"
                          ],
                          [
                            0.2222222222222222,
                            "#7201a8"
                          ],
                          [
                            0.3333333333333333,
                            "#9c179e"
                          ],
                          [
                            0.4444444444444444,
                            "#bd3786"
                          ],
                          [
                            0.5555555555555556,
                            "#d8576b"
                          ],
                          [
                            0.6666666666666666,
                            "#ed7953"
                          ],
                          [
                            0.7777777777777778,
                            "#fb9f3a"
                          ],
                          [
                            0.8888888888888888,
                            "#fdca26"
                          ],
                          [
                            1,
                            "#f0f921"
                          ]
                        ],
                        "type": "heatmap"
                      }
                    ],
                    "heatmapgl": [
                      {
                        "colorbar": {
                          "outlinewidth": 0,
                          "ticks": ""
                        },
                        "colorscale": [
                          [
                            0,
                            "#0d0887"
                          ],
                          [
                            0.1111111111111111,
                            "#46039f"
                          ],
                          [
                            0.2222222222222222,
                            "#7201a8"
                          ],
                          [
                            0.3333333333333333,
                            "#9c179e"
                          ],
                          [
                            0.4444444444444444,
                            "#bd3786"
                          ],
                          [
                            0.5555555555555556,
                            "#d8576b"
                          ],
                          [
                            0.6666666666666666,
                            "#ed7953"
                          ],
                          [
                            0.7777777777777778,
                            "#fb9f3a"
                          ],
                          [
                            0.8888888888888888,
                            "#fdca26"
                          ],
                          [
                            1,
                            "#f0f921"
                          ]
                        ],
                        "type": "heatmapgl"
                      }
                    ],
                    "histogram": [
                      {
                        "marker": {
                          "pattern": {
                            "fillmode": "overlay",
                            "size": 10,
                            "solidity": 0.2
                          }
                        },
                        "type": "histogram"
                      }
                    ],
                    "histogram2d": [
                      {
                        "colorbar": {
                          "outlinewidth": 0,
                          "ticks": ""
                        },
                        "colorscale": [
                          [
                            0,
                            "#0d0887"
                          ],
                          [
                            0.1111111111111111,
                            "#46039f"
                          ],
                          [
                            0.2222222222222222,
                            "#7201a8"
                          ],
                          [
                            0.3333333333333333,
                            "#9c179e"
                          ],
                          [
                            0.4444444444444444,
                            "#bd3786"
                          ],
                          [
                            0.5555555555555556,
                            "#d8576b"
                          ],
                          [
                            0.6666666666666666,
                            "#ed7953"
                          ],
                          [
                            0.7777777777777778,
                            "#fb9f3a"
                          ],
                          [
                            0.8888888888888888,
                            "#fdca26"
                          ],
                          [
                            1,
                            "#f0f921"
                          ]
                        ],
                        "type": "histogram2d"
                      }
                    ],
                    "histogram2dcontour": [
                      {
                        "colorbar": {
                          "outlinewidth": 0,
                          "ticks": ""
                        },
                        "colorscale": [
                          [
                            0,
                            "#0d0887"
                          ],
                          [
                            0.1111111111111111,
                            "#46039f"
                          ],
                          [
                            0.2222222222222222,
                            "#7201a8"
                          ],
                          [
                            0.3333333333333333,
                            "#9c179e"
                          ],
                          [
                            0.4444444444444444,
                            "#bd3786"
                          ],
                          [
                            0.5555555555555556,
                            "#d8576b"
                          ],
                          [
                            0.6666666666666666,
                            "#ed7953"
                          ],
                          [
                            0.7777777777777778,
                            "#fb9f3a"
                          ],
                          [
                            0.8888888888888888,
                            "#fdca26"
                          ],
                          [
                            1,
                            "#f0f921"
                          ]
                        ],
                        "type": "histogram2dcontour"
                      }
                    ],
                    "mesh3d": [
                      {
                        "colorbar": {
                          "outlinewidth": 0,
                          "ticks": ""
                        },
                        "type": "mesh3d"
                      }
                    ],
                    "parcoords": [
                      {
                        "line": {
                          "colorbar": {
                            "outlinewidth": 0,
                            "ticks": ""
                          }
                        },
                        "type": "parcoords"
                      }
                    ],
                    "pie": [
                      {
                        "automargin": true,
                        "type": "pie"
                      }
                    ],
                    "scatter": [
                      {
                        "fillpattern": {
                          "fillmode": "overlay",
                          "size": 10,
                          "solidity": 0.2
                        },
                        "type": "scatter"
                      }
                    ],
                    "scatter3d": [
                      {
                        "line": {
                          "colorbar": {
                            "outlinewidth": 0,
                            "ticks": ""
                          }
                        },
                        "marker": {
                          "colorbar": {
                            "outlinewidth": 0,
                            "ticks": ""
                          }
                        },
                        "type": "scatter3d"
                      }
                    ],
                    "scattercarpet": [
                      {
                        "marker": {
                          "colorbar": {
                            "outlinewidth": 0,
                            "ticks": ""
                          }
                        },
                        "type": "scattercarpet"
                      }
                    ],
                    "scattergeo": [
                      {
                        "marker": {
                          "colorbar": {
                            "outlinewidth": 0,
                            "ticks": ""
                          }
                        },
                        "type": "scattergeo"
                      }
                    ],
                    "scattergl": [
                      {
                        "marker": {
                          "colorbar": {
                            "outlinewidth": 0,
                            "ticks": ""
                          }
                        },
                        "type": "scattergl"
                      }
                    ],
                    "scattermapbox": [
                      {
                        "marker": {
                          "colorbar": {
                            "outlinewidth": 0,
                            "ticks": ""
                          }
                        },
                        "type": "scattermapbox"
                      }
                    ],
                    "scatterpolar": [
                      {
                        "marker": {
                          "colorbar": {
                            "outlinewidth": 0,
                            "ticks": ""
                          }
                        },
                        "type": "scatterpolar"
                      }
                    ],
                    "scatterpolargl": [
                      {
                        "marker": {
                          "colorbar": {
                            "outlinewidth": 0,
                            "ticks": ""
                          }
                        },
                        "type": "scatterpolargl"
                      }
                    ],
                    "scatterternary": [
                      {
                        "marker": {
                          "colorbar": {
                            "outlinewidth": 0,
                            "ticks": ""
                          }
                        },
                        "type": "scatterternary"
                      }
                    ],
                    "surface": [
                      {
                        "colorbar": {
                          "outlinewidth": 0,
                          "ticks": ""
                        },
                        "colorscale": [
                          [
                            0,
                            "#0d0887"
                          ],
                          [
                            0.1111111111111111,
                            "#46039f"
                          ],
                          [
                            0.2222222222222222,
                            "#7201a8"
                          ],
                          [
                            0.3333333333333333,
                            "#9c179e"
                          ],
                          [
                            0.4444444444444444,
                            "#bd3786"
                          ],
                          [
                            0.5555555555555556,
                            "#d8576b"
                          ],
                          [
                            0.6666666666666666,
                            "#ed7953"
                          ],
                          [
                            0.7777777777777778,
                            "#fb9f3a"
                          ],
                          [
                            0.8888888888888888,
                            "#fdca26"
                          ],
                          [
                            1,
                            "#f0f921"
                          ]
                        ],
                        "type": "surface"
                      }
                    ],
                    "table": [
                      {
                        "cells": {
                          "fill": {
                            "color": "#EBF0F8"
                          },
                          "line": {
                            "color": "white"
                          }
                        },
                        "header": {
                          "fill": {
                            "color": "#C8D4E3"
                          },
                          "line": {
                            "color": "white"
                          }
                        },
                        "type": "table"
                      }
                    ]
                  },
                  "layout": {
                    "annotationdefaults": {
                      "arrowcolor": "#2a3f5f",
                      "arrowhead": 0,
                      "arrowwidth": 1
                    },
                    "autotypenumbers": "strict",
                    "coloraxis": {
                      "colorbar": {
                        "outlinewidth": 0,
                        "ticks": ""
                      }
                    },
                    "colorscale": {
                      "diverging": [
                        [
                          0,
                          "#8e0152"
                        ],
                        [
                          0.1,
                          "#c51b7d"
                        ],
                        [
                          0.2,
                          "#de77ae"
                        ],
                        [
                          0.3,
                          "#f1b6da"
                        ],
                        [
                          0.4,
                          "#fde0ef"
                        ],
                        [
                          0.5,
                          "#f7f7f7"
                        ],
                        [
                          0.6,
                          "#e6f5d0"
                        ],
                        [
                          0.7,
                          "#b8e186"
                        ],
                        [
                          0.8,
                          "#7fbc41"
                        ],
                        [
                          0.9,
                          "#4d9221"
                        ],
                        [
                          1,
                          "#276419"
                        ]
                      ],
                      "sequential": [
                        [
                          0,
                          "#0d0887"
                        ],
                        [
                          0.1111111111111111,
                          "#46039f"
                        ],
                        [
                          0.2222222222222222,
                          "#7201a8"
                        ],
                        [
                          0.3333333333333333,
                          "#9c179e"
                        ],
                        [
                          0.4444444444444444,
                          "#bd3786"
                        ],
                        [
                          0.5555555555555556,
                          "#d8576b"
                        ],
                        [
                          0.6666666666666666,
                          "#ed7953"
                        ],
                        [
                          0.7777777777777778,
                          "#fb9f3a"
                        ],
                        [
                          0.8888888888888888,
                          "#fdca26"
                        ],
                        [
                          1,
                          "#f0f921"
                        ]
                      ],
                      "sequentialminus": [
                        [
                          0,
                          "#0d0887"
                        ],
                        [
                          0.1111111111111111,
                          "#46039f"
                        ],
                        [
                          0.2222222222222222,
                          "#7201a8"
                        ],
                        [
                          0.3333333333333333,
                          "#9c179e"
                        ],
                        [
                          0.4444444444444444,
                          "#bd3786"
                        ],
                        [
                          0.5555555555555556,
                          "#d8576b"
                        ],
                        [
                          0.6666666666666666,
                          "#ed7953"
                        ],
                        [
                          0.7777777777777778,
                          "#fb9f3a"
                        ],
                        [
                          0.8888888888888888,
                          "#fdca26"
                        ],
                        [
                          1,
                          "#f0f921"
                        ]
                      ]
                    },
                    "colorway": [
                      "#636efa",
                      "#EF553B",
                      "#00cc96",
                      "#ab63fa",
                      "#FFA15A",
                      "#19d3f3",
                      "#FF6692",
                      "#B6E880",
                      "#FF97FF",
                      "#FECB52"
                    ],
                    "font": {
                      "color": "#2a3f5f"
                    },
                    "geo": {
                      "bgcolor": "white",
                      "lakecolor": "white",
                      "landcolor": "#E5ECF6",
                      "showlakes": true,
                      "showland": true,
                      "subunitcolor": "white"
                    },
                    "hoverlabel": {
                      "align": "left"
                    },
                    "hovermode": "closest",
                    "mapbox": {
                      "style": "light"
                    },
                    "paper_bgcolor": "white",
                    "plot_bgcolor": "#E5ECF6",
                    "polar": {
                      "angularaxis": {
                        "gridcolor": "white",
                        "linecolor": "white",
                        "ticks": ""
                      },
                      "bgcolor": "#E5ECF6",
                      "radialaxis": {
                        "gridcolor": "white",
                        "linecolor": "white",
                        "ticks": ""
                      }
                    },
                    "scene": {
                      "xaxis": {
                        "backgroundcolor": "#E5ECF6",
                        "gridcolor": "white",
                        "gridwidth": 2,
                        "linecolor": "white",
                        "showbackground": true,
                        "ticks": "",
                        "zerolinecolor": "white"
                      },
                      "yaxis": {
                        "backgroundcolor": "#E5ECF6",
                        "gridcolor": "white",
                        "gridwidth": 2,
                        "linecolor": "white",
                        "showbackground": true,
                        "ticks": "",
                        "zerolinecolor": "white"
                      },
                      "zaxis": {
                        "backgroundcolor": "#E5ECF6",
                        "gridcolor": "white",
                        "gridwidth": 2,
                        "linecolor": "white",
                        "showbackground": true,
                        "ticks": "",
                        "zerolinecolor": "white"
                      }
                    },
                    "shapedefaults": {
                      "line": {
                        "color": "#2a3f5f"
                      }
                    },
                    "ternary": {
                      "aaxis": {
                        "gridcolor": "white",
                        "linecolor": "white",
                        "ticks": ""
                      },
                      "baxis": {
                        "gridcolor": "white",
                        "linecolor": "white",
                        "ticks": ""
                      },
                      "bgcolor": "#E5ECF6",
                      "caxis": {
                        "gridcolor": "white",
                        "linecolor": "white",
                        "ticks": ""
                      }
                    },
                    "title": {
                      "x": 0.05
                    },
                    "xaxis": {
                      "automargin": true,
                      "gridcolor": "white",
                      "linecolor": "white",
                      "ticks": "",
                      "title": {
                        "standoff": 15
                      },
                      "zerolinecolor": "white",
                      "zerolinewidth": 2
                    },
                    "yaxis": {
                      "automargin": true,
                      "gridcolor": "white",
                      "linecolor": "white",
                      "ticks": "",
                      "title": {
                        "standoff": 15
                      },
                      "zerolinecolor": "white",
                      "zerolinewidth": 2
                    }
                  }
                },
                "xaxis": {
                  "anchor": "y",
                  "domain": [
                    0,
                    1
                  ],
                  "title": {
                    "text": "variable"
                  }
                },
                "yaxis": {
                  "anchor": "x",
                  "domain": [
                    0,
                    1
                  ],
                  "title": {
                    "text": "value"
                  }
                }
              }
            }
          },
          "metadata": {},
          "output_type": "display_data"
        }
      ],
      "source": [
        "import plotly.express as px\n",
        "px.box(pbo).show()\n",
        "px.box(deflated_sr)"
      ]
    },
    {
      "cell_type": "code",
      "execution_count": 44,
      "metadata": {},
      "outputs": [
        {
          "data": {
            "application/vnd.plotly.v1+json": {
              "config": {
                "plotlyServerURL": "https://plot.ly"
              },
              "data": [
                {
                  "alignmentgroup": "True",
                  "hovertemplate": "variable=%{x}<br>value=%{y}<extra></extra>",
                  "legendgroup": "",
                  "marker": {
                    "color": "#636efa"
                  },
                  "name": "",
                  "notched": false,
                  "offsetgroup": "",
                  "orientation": "v",
                  "showlegend": false,
                  "type": "box",
                  "x": [
                    "Walk-Forward",
                    "Walk-Forward",
                    "Walk-Forward",
                    "Walk-Forward",
                    "Walk-Forward",
                    "K-Fold",
                    "K-Fold",
                    "K-Fold",
                    "K-Fold",
                    "K-Fold",
                    "Purged K-Fold",
                    "Purged K-Fold",
                    "Purged K-Fold",
                    "Purged K-Fold",
                    "Purged K-Fold",
                    "Combinatorial Purged",
                    "Combinatorial Purged",
                    "Combinatorial Purged",
                    "Combinatorial Purged",
                    "Combinatorial Purged"
                  ],
                  "x0": " ",
                  "xaxis": "x",
                  "y": [
                    0.8937839937839938,
                    0.4035742035742036,
                    0.26736596736596735,
                    0.8877233877233878,
                    0.23574203574203575,
                    0.413986013986014,
                    0.5542346542346542,
                    0.31942501942501944,
                    0.5682206682206682,
                    0.5646464646464646,
                    0.23426573426573427,
                    0.20621600621600622,
                    0.4783993783993784,
                    0.5936285936285937,
                    0.24871794871794872,
                    0.5626262626262626,
                    0.30505050505050507,
                    0.2595182595182595,
                    0.2715617715617716,
                    0.443978243978244
                  ],
                  "y0": " ",
                  "yaxis": "y"
                }
              ],
              "layout": {
                "boxmode": "group",
                "legend": {
                  "tracegroupgap": 0
                },
                "margin": {
                  "t": 60
                },
                "template": {
                  "data": {
                    "bar": [
                      {
                        "error_x": {
                          "color": "#2a3f5f"
                        },
                        "error_y": {
                          "color": "#2a3f5f"
                        },
                        "marker": {
                          "line": {
                            "color": "#E5ECF6",
                            "width": 0.5
                          },
                          "pattern": {
                            "fillmode": "overlay",
                            "size": 10,
                            "solidity": 0.2
                          }
                        },
                        "type": "bar"
                      }
                    ],
                    "barpolar": [
                      {
                        "marker": {
                          "line": {
                            "color": "#E5ECF6",
                            "width": 0.5
                          },
                          "pattern": {
                            "fillmode": "overlay",
                            "size": 10,
                            "solidity": 0.2
                          }
                        },
                        "type": "barpolar"
                      }
                    ],
                    "carpet": [
                      {
                        "aaxis": {
                          "endlinecolor": "#2a3f5f",
                          "gridcolor": "white",
                          "linecolor": "white",
                          "minorgridcolor": "white",
                          "startlinecolor": "#2a3f5f"
                        },
                        "baxis": {
                          "endlinecolor": "#2a3f5f",
                          "gridcolor": "white",
                          "linecolor": "white",
                          "minorgridcolor": "white",
                          "startlinecolor": "#2a3f5f"
                        },
                        "type": "carpet"
                      }
                    ],
                    "choropleth": [
                      {
                        "colorbar": {
                          "outlinewidth": 0,
                          "ticks": ""
                        },
                        "type": "choropleth"
                      }
                    ],
                    "contour": [
                      {
                        "colorbar": {
                          "outlinewidth": 0,
                          "ticks": ""
                        },
                        "colorscale": [
                          [
                            0,
                            "#0d0887"
                          ],
                          [
                            0.1111111111111111,
                            "#46039f"
                          ],
                          [
                            0.2222222222222222,
                            "#7201a8"
                          ],
                          [
                            0.3333333333333333,
                            "#9c179e"
                          ],
                          [
                            0.4444444444444444,
                            "#bd3786"
                          ],
                          [
                            0.5555555555555556,
                            "#d8576b"
                          ],
                          [
                            0.6666666666666666,
                            "#ed7953"
                          ],
                          [
                            0.7777777777777778,
                            "#fb9f3a"
                          ],
                          [
                            0.8888888888888888,
                            "#fdca26"
                          ],
                          [
                            1,
                            "#f0f921"
                          ]
                        ],
                        "type": "contour"
                      }
                    ],
                    "contourcarpet": [
                      {
                        "colorbar": {
                          "outlinewidth": 0,
                          "ticks": ""
                        },
                        "type": "contourcarpet"
                      }
                    ],
                    "heatmap": [
                      {
                        "colorbar": {
                          "outlinewidth": 0,
                          "ticks": ""
                        },
                        "colorscale": [
                          [
                            0,
                            "#0d0887"
                          ],
                          [
                            0.1111111111111111,
                            "#46039f"
                          ],
                          [
                            0.2222222222222222,
                            "#7201a8"
                          ],
                          [
                            0.3333333333333333,
                            "#9c179e"
                          ],
                          [
                            0.4444444444444444,
                            "#bd3786"
                          ],
                          [
                            0.5555555555555556,
                            "#d8576b"
                          ],
                          [
                            0.6666666666666666,
                            "#ed7953"
                          ],
                          [
                            0.7777777777777778,
                            "#fb9f3a"
                          ],
                          [
                            0.8888888888888888,
                            "#fdca26"
                          ],
                          [
                            1,
                            "#f0f921"
                          ]
                        ],
                        "type": "heatmap"
                      }
                    ],
                    "heatmapgl": [
                      {
                        "colorbar": {
                          "outlinewidth": 0,
                          "ticks": ""
                        },
                        "colorscale": [
                          [
                            0,
                            "#0d0887"
                          ],
                          [
                            0.1111111111111111,
                            "#46039f"
                          ],
                          [
                            0.2222222222222222,
                            "#7201a8"
                          ],
                          [
                            0.3333333333333333,
                            "#9c179e"
                          ],
                          [
                            0.4444444444444444,
                            "#bd3786"
                          ],
                          [
                            0.5555555555555556,
                            "#d8576b"
                          ],
                          [
                            0.6666666666666666,
                            "#ed7953"
                          ],
                          [
                            0.7777777777777778,
                            "#fb9f3a"
                          ],
                          [
                            0.8888888888888888,
                            "#fdca26"
                          ],
                          [
                            1,
                            "#f0f921"
                          ]
                        ],
                        "type": "heatmapgl"
                      }
                    ],
                    "histogram": [
                      {
                        "marker": {
                          "pattern": {
                            "fillmode": "overlay",
                            "size": 10,
                            "solidity": 0.2
                          }
                        },
                        "type": "histogram"
                      }
                    ],
                    "histogram2d": [
                      {
                        "colorbar": {
                          "outlinewidth": 0,
                          "ticks": ""
                        },
                        "colorscale": [
                          [
                            0,
                            "#0d0887"
                          ],
                          [
                            0.1111111111111111,
                            "#46039f"
                          ],
                          [
                            0.2222222222222222,
                            "#7201a8"
                          ],
                          [
                            0.3333333333333333,
                            "#9c179e"
                          ],
                          [
                            0.4444444444444444,
                            "#bd3786"
                          ],
                          [
                            0.5555555555555556,
                            "#d8576b"
                          ],
                          [
                            0.6666666666666666,
                            "#ed7953"
                          ],
                          [
                            0.7777777777777778,
                            "#fb9f3a"
                          ],
                          [
                            0.8888888888888888,
                            "#fdca26"
                          ],
                          [
                            1,
                            "#f0f921"
                          ]
                        ],
                        "type": "histogram2d"
                      }
                    ],
                    "histogram2dcontour": [
                      {
                        "colorbar": {
                          "outlinewidth": 0,
                          "ticks": ""
                        },
                        "colorscale": [
                          [
                            0,
                            "#0d0887"
                          ],
                          [
                            0.1111111111111111,
                            "#46039f"
                          ],
                          [
                            0.2222222222222222,
                            "#7201a8"
                          ],
                          [
                            0.3333333333333333,
                            "#9c179e"
                          ],
                          [
                            0.4444444444444444,
                            "#bd3786"
                          ],
                          [
                            0.5555555555555556,
                            "#d8576b"
                          ],
                          [
                            0.6666666666666666,
                            "#ed7953"
                          ],
                          [
                            0.7777777777777778,
                            "#fb9f3a"
                          ],
                          [
                            0.8888888888888888,
                            "#fdca26"
                          ],
                          [
                            1,
                            "#f0f921"
                          ]
                        ],
                        "type": "histogram2dcontour"
                      }
                    ],
                    "mesh3d": [
                      {
                        "colorbar": {
                          "outlinewidth": 0,
                          "ticks": ""
                        },
                        "type": "mesh3d"
                      }
                    ],
                    "parcoords": [
                      {
                        "line": {
                          "colorbar": {
                            "outlinewidth": 0,
                            "ticks": ""
                          }
                        },
                        "type": "parcoords"
                      }
                    ],
                    "pie": [
                      {
                        "automargin": true,
                        "type": "pie"
                      }
                    ],
                    "scatter": [
                      {
                        "fillpattern": {
                          "fillmode": "overlay",
                          "size": 10,
                          "solidity": 0.2
                        },
                        "type": "scatter"
                      }
                    ],
                    "scatter3d": [
                      {
                        "line": {
                          "colorbar": {
                            "outlinewidth": 0,
                            "ticks": ""
                          }
                        },
                        "marker": {
                          "colorbar": {
                            "outlinewidth": 0,
                            "ticks": ""
                          }
                        },
                        "type": "scatter3d"
                      }
                    ],
                    "scattercarpet": [
                      {
                        "marker": {
                          "colorbar": {
                            "outlinewidth": 0,
                            "ticks": ""
                          }
                        },
                        "type": "scattercarpet"
                      }
                    ],
                    "scattergeo": [
                      {
                        "marker": {
                          "colorbar": {
                            "outlinewidth": 0,
                            "ticks": ""
                          }
                        },
                        "type": "scattergeo"
                      }
                    ],
                    "scattergl": [
                      {
                        "marker": {
                          "colorbar": {
                            "outlinewidth": 0,
                            "ticks": ""
                          }
                        },
                        "type": "scattergl"
                      }
                    ],
                    "scattermapbox": [
                      {
                        "marker": {
                          "colorbar": {
                            "outlinewidth": 0,
                            "ticks": ""
                          }
                        },
                        "type": "scattermapbox"
                      }
                    ],
                    "scatterpolar": [
                      {
                        "marker": {
                          "colorbar": {
                            "outlinewidth": 0,
                            "ticks": ""
                          }
                        },
                        "type": "scatterpolar"
                      }
                    ],
                    "scatterpolargl": [
                      {
                        "marker": {
                          "colorbar": {
                            "outlinewidth": 0,
                            "ticks": ""
                          }
                        },
                        "type": "scatterpolargl"
                      }
                    ],
                    "scatterternary": [
                      {
                        "marker": {
                          "colorbar": {
                            "outlinewidth": 0,
                            "ticks": ""
                          }
                        },
                        "type": "scatterternary"
                      }
                    ],
                    "surface": [
                      {
                        "colorbar": {
                          "outlinewidth": 0,
                          "ticks": ""
                        },
                        "colorscale": [
                          [
                            0,
                            "#0d0887"
                          ],
                          [
                            0.1111111111111111,
                            "#46039f"
                          ],
                          [
                            0.2222222222222222,
                            "#7201a8"
                          ],
                          [
                            0.3333333333333333,
                            "#9c179e"
                          ],
                          [
                            0.4444444444444444,
                            "#bd3786"
                          ],
                          [
                            0.5555555555555556,
                            "#d8576b"
                          ],
                          [
                            0.6666666666666666,
                            "#ed7953"
                          ],
                          [
                            0.7777777777777778,
                            "#fb9f3a"
                          ],
                          [
                            0.8888888888888888,
                            "#fdca26"
                          ],
                          [
                            1,
                            "#f0f921"
                          ]
                        ],
                        "type": "surface"
                      }
                    ],
                    "table": [
                      {
                        "cells": {
                          "fill": {
                            "color": "#EBF0F8"
                          },
                          "line": {
                            "color": "white"
                          }
                        },
                        "header": {
                          "fill": {
                            "color": "#C8D4E3"
                          },
                          "line": {
                            "color": "white"
                          }
                        },
                        "type": "table"
                      }
                    ]
                  },
                  "layout": {
                    "annotationdefaults": {
                      "arrowcolor": "#2a3f5f",
                      "arrowhead": 0,
                      "arrowwidth": 1
                    },
                    "autotypenumbers": "strict",
                    "coloraxis": {
                      "colorbar": {
                        "outlinewidth": 0,
                        "ticks": ""
                      }
                    },
                    "colorscale": {
                      "diverging": [
                        [
                          0,
                          "#8e0152"
                        ],
                        [
                          0.1,
                          "#c51b7d"
                        ],
                        [
                          0.2,
                          "#de77ae"
                        ],
                        [
                          0.3,
                          "#f1b6da"
                        ],
                        [
                          0.4,
                          "#fde0ef"
                        ],
                        [
                          0.5,
                          "#f7f7f7"
                        ],
                        [
                          0.6,
                          "#e6f5d0"
                        ],
                        [
                          0.7,
                          "#b8e186"
                        ],
                        [
                          0.8,
                          "#7fbc41"
                        ],
                        [
                          0.9,
                          "#4d9221"
                        ],
                        [
                          1,
                          "#276419"
                        ]
                      ],
                      "sequential": [
                        [
                          0,
                          "#0d0887"
                        ],
                        [
                          0.1111111111111111,
                          "#46039f"
                        ],
                        [
                          0.2222222222222222,
                          "#7201a8"
                        ],
                        [
                          0.3333333333333333,
                          "#9c179e"
                        ],
                        [
                          0.4444444444444444,
                          "#bd3786"
                        ],
                        [
                          0.5555555555555556,
                          "#d8576b"
                        ],
                        [
                          0.6666666666666666,
                          "#ed7953"
                        ],
                        [
                          0.7777777777777778,
                          "#fb9f3a"
                        ],
                        [
                          0.8888888888888888,
                          "#fdca26"
                        ],
                        [
                          1,
                          "#f0f921"
                        ]
                      ],
                      "sequentialminus": [
                        [
                          0,
                          "#0d0887"
                        ],
                        [
                          0.1111111111111111,
                          "#46039f"
                        ],
                        [
                          0.2222222222222222,
                          "#7201a8"
                        ],
                        [
                          0.3333333333333333,
                          "#9c179e"
                        ],
                        [
                          0.4444444444444444,
                          "#bd3786"
                        ],
                        [
                          0.5555555555555556,
                          "#d8576b"
                        ],
                        [
                          0.6666666666666666,
                          "#ed7953"
                        ],
                        [
                          0.7777777777777778,
                          "#fb9f3a"
                        ],
                        [
                          0.8888888888888888,
                          "#fdca26"
                        ],
                        [
                          1,
                          "#f0f921"
                        ]
                      ]
                    },
                    "colorway": [
                      "#636efa",
                      "#EF553B",
                      "#00cc96",
                      "#ab63fa",
                      "#FFA15A",
                      "#19d3f3",
                      "#FF6692",
                      "#B6E880",
                      "#FF97FF",
                      "#FECB52"
                    ],
                    "font": {
                      "color": "#2a3f5f"
                    },
                    "geo": {
                      "bgcolor": "white",
                      "lakecolor": "white",
                      "landcolor": "#E5ECF6",
                      "showlakes": true,
                      "showland": true,
                      "subunitcolor": "white"
                    },
                    "hoverlabel": {
                      "align": "left"
                    },
                    "hovermode": "closest",
                    "mapbox": {
                      "style": "light"
                    },
                    "paper_bgcolor": "white",
                    "plot_bgcolor": "#E5ECF6",
                    "polar": {
                      "angularaxis": {
                        "gridcolor": "white",
                        "linecolor": "white",
                        "ticks": ""
                      },
                      "bgcolor": "#E5ECF6",
                      "radialaxis": {
                        "gridcolor": "white",
                        "linecolor": "white",
                        "ticks": ""
                      }
                    },
                    "scene": {
                      "xaxis": {
                        "backgroundcolor": "#E5ECF6",
                        "gridcolor": "white",
                        "gridwidth": 2,
                        "linecolor": "white",
                        "showbackground": true,
                        "ticks": "",
                        "zerolinecolor": "white"
                      },
                      "yaxis": {
                        "backgroundcolor": "#E5ECF6",
                        "gridcolor": "white",
                        "gridwidth": 2,
                        "linecolor": "white",
                        "showbackground": true,
                        "ticks": "",
                        "zerolinecolor": "white"
                      },
                      "zaxis": {
                        "backgroundcolor": "#E5ECF6",
                        "gridcolor": "white",
                        "gridwidth": 2,
                        "linecolor": "white",
                        "showbackground": true,
                        "ticks": "",
                        "zerolinecolor": "white"
                      }
                    },
                    "shapedefaults": {
                      "line": {
                        "color": "#2a3f5f"
                      }
                    },
                    "ternary": {
                      "aaxis": {
                        "gridcolor": "white",
                        "linecolor": "white",
                        "ticks": ""
                      },
                      "baxis": {
                        "gridcolor": "white",
                        "linecolor": "white",
                        "ticks": ""
                      },
                      "bgcolor": "#E5ECF6",
                      "caxis": {
                        "gridcolor": "white",
                        "linecolor": "white",
                        "ticks": ""
                      }
                    },
                    "title": {
                      "x": 0.05
                    },
                    "xaxis": {
                      "automargin": true,
                      "gridcolor": "white",
                      "linecolor": "white",
                      "ticks": "",
                      "title": {
                        "standoff": 15
                      },
                      "zerolinecolor": "white",
                      "zerolinewidth": 2
                    },
                    "yaxis": {
                      "automargin": true,
                      "gridcolor": "white",
                      "linecolor": "white",
                      "ticks": "",
                      "title": {
                        "standoff": 15
                      },
                      "zerolinecolor": "white",
                      "zerolinewidth": 2
                    }
                  }
                },
                "xaxis": {
                  "anchor": "y",
                  "domain": [
                    0,
                    1
                  ],
                  "title": {
                    "text": "variable"
                  }
                },
                "yaxis": {
                  "anchor": "x",
                  "domain": [
                    0,
                    1
                  ],
                  "title": {
                    "text": "value"
                  }
                }
              }
            }
          },
          "metadata": {},
          "output_type": "display_data"
        },
        {
          "data": {
            "application/vnd.plotly.v1+json": {
              "config": {
                "plotlyServerURL": "https://plot.ly"
              },
              "data": [
                {
                  "alignmentgroup": "True",
                  "hovertemplate": "variable=%{x}<br>value=%{y}<extra></extra>",
                  "legendgroup": "",
                  "marker": {
                    "color": "#636efa"
                  },
                  "name": "",
                  "notched": false,
                  "offsetgroup": "",
                  "orientation": "v",
                  "showlegend": false,
                  "type": "box",
                  "x": [
                    "Walk-Forward",
                    "Walk-Forward",
                    "Walk-Forward",
                    "Walk-Forward",
                    "Walk-Forward",
                    "K-Fold",
                    "K-Fold",
                    "K-Fold",
                    "K-Fold",
                    "K-Fold",
                    "Purged K-Fold",
                    "Purged K-Fold",
                    "Purged K-Fold",
                    "Purged K-Fold",
                    "Purged K-Fold",
                    "Combinatorial Purged",
                    "Combinatorial Purged",
                    "Combinatorial Purged",
                    "Combinatorial Purged",
                    "Combinatorial Purged"
                  ],
                  "x0": " ",
                  "xaxis": "x",
                  "y": [
                    -0.47800040360747664,
                    -0.49901093264752544,
                    0.7759143739236778,
                    0.6534775498259594,
                    0.49823969723963046,
                    0.8389737531118563,
                    -0.449310375908278,
                    0.9744711337574142,
                    0.9317579747138001,
                    1.2921530951654787,
                    0.838691876397317,
                    0.1645850281882745,
                    0.8504352602121866,
                    0.7038146850304295,
                    1.2682638199101195,
                    0.18508639789727677,
                    -0.06341613819920762,
                    0.7490557140512252,
                    1.3555982335985859,
                    1.320617261655147
                  ],
                  "y0": " ",
                  "yaxis": "y"
                }
              ],
              "layout": {
                "boxmode": "group",
                "legend": {
                  "tracegroupgap": 0
                },
                "margin": {
                  "t": 60
                },
                "template": {
                  "data": {
                    "bar": [
                      {
                        "error_x": {
                          "color": "#2a3f5f"
                        },
                        "error_y": {
                          "color": "#2a3f5f"
                        },
                        "marker": {
                          "line": {
                            "color": "#E5ECF6",
                            "width": 0.5
                          },
                          "pattern": {
                            "fillmode": "overlay",
                            "size": 10,
                            "solidity": 0.2
                          }
                        },
                        "type": "bar"
                      }
                    ],
                    "barpolar": [
                      {
                        "marker": {
                          "line": {
                            "color": "#E5ECF6",
                            "width": 0.5
                          },
                          "pattern": {
                            "fillmode": "overlay",
                            "size": 10,
                            "solidity": 0.2
                          }
                        },
                        "type": "barpolar"
                      }
                    ],
                    "carpet": [
                      {
                        "aaxis": {
                          "endlinecolor": "#2a3f5f",
                          "gridcolor": "white",
                          "linecolor": "white",
                          "minorgridcolor": "white",
                          "startlinecolor": "#2a3f5f"
                        },
                        "baxis": {
                          "endlinecolor": "#2a3f5f",
                          "gridcolor": "white",
                          "linecolor": "white",
                          "minorgridcolor": "white",
                          "startlinecolor": "#2a3f5f"
                        },
                        "type": "carpet"
                      }
                    ],
                    "choropleth": [
                      {
                        "colorbar": {
                          "outlinewidth": 0,
                          "ticks": ""
                        },
                        "type": "choropleth"
                      }
                    ],
                    "contour": [
                      {
                        "colorbar": {
                          "outlinewidth": 0,
                          "ticks": ""
                        },
                        "colorscale": [
                          [
                            0,
                            "#0d0887"
                          ],
                          [
                            0.1111111111111111,
                            "#46039f"
                          ],
                          [
                            0.2222222222222222,
                            "#7201a8"
                          ],
                          [
                            0.3333333333333333,
                            "#9c179e"
                          ],
                          [
                            0.4444444444444444,
                            "#bd3786"
                          ],
                          [
                            0.5555555555555556,
                            "#d8576b"
                          ],
                          [
                            0.6666666666666666,
                            "#ed7953"
                          ],
                          [
                            0.7777777777777778,
                            "#fb9f3a"
                          ],
                          [
                            0.8888888888888888,
                            "#fdca26"
                          ],
                          [
                            1,
                            "#f0f921"
                          ]
                        ],
                        "type": "contour"
                      }
                    ],
                    "contourcarpet": [
                      {
                        "colorbar": {
                          "outlinewidth": 0,
                          "ticks": ""
                        },
                        "type": "contourcarpet"
                      }
                    ],
                    "heatmap": [
                      {
                        "colorbar": {
                          "outlinewidth": 0,
                          "ticks": ""
                        },
                        "colorscale": [
                          [
                            0,
                            "#0d0887"
                          ],
                          [
                            0.1111111111111111,
                            "#46039f"
                          ],
                          [
                            0.2222222222222222,
                            "#7201a8"
                          ],
                          [
                            0.3333333333333333,
                            "#9c179e"
                          ],
                          [
                            0.4444444444444444,
                            "#bd3786"
                          ],
                          [
                            0.5555555555555556,
                            "#d8576b"
                          ],
                          [
                            0.6666666666666666,
                            "#ed7953"
                          ],
                          [
                            0.7777777777777778,
                            "#fb9f3a"
                          ],
                          [
                            0.8888888888888888,
                            "#fdca26"
                          ],
                          [
                            1,
                            "#f0f921"
                          ]
                        ],
                        "type": "heatmap"
                      }
                    ],
                    "heatmapgl": [
                      {
                        "colorbar": {
                          "outlinewidth": 0,
                          "ticks": ""
                        },
                        "colorscale": [
                          [
                            0,
                            "#0d0887"
                          ],
                          [
                            0.1111111111111111,
                            "#46039f"
                          ],
                          [
                            0.2222222222222222,
                            "#7201a8"
                          ],
                          [
                            0.3333333333333333,
                            "#9c179e"
                          ],
                          [
                            0.4444444444444444,
                            "#bd3786"
                          ],
                          [
                            0.5555555555555556,
                            "#d8576b"
                          ],
                          [
                            0.6666666666666666,
                            "#ed7953"
                          ],
                          [
                            0.7777777777777778,
                            "#fb9f3a"
                          ],
                          [
                            0.8888888888888888,
                            "#fdca26"
                          ],
                          [
                            1,
                            "#f0f921"
                          ]
                        ],
                        "type": "heatmapgl"
                      }
                    ],
                    "histogram": [
                      {
                        "marker": {
                          "pattern": {
                            "fillmode": "overlay",
                            "size": 10,
                            "solidity": 0.2
                          }
                        },
                        "type": "histogram"
                      }
                    ],
                    "histogram2d": [
                      {
                        "colorbar": {
                          "outlinewidth": 0,
                          "ticks": ""
                        },
                        "colorscale": [
                          [
                            0,
                            "#0d0887"
                          ],
                          [
                            0.1111111111111111,
                            "#46039f"
                          ],
                          [
                            0.2222222222222222,
                            "#7201a8"
                          ],
                          [
                            0.3333333333333333,
                            "#9c179e"
                          ],
                          [
                            0.4444444444444444,
                            "#bd3786"
                          ],
                          [
                            0.5555555555555556,
                            "#d8576b"
                          ],
                          [
                            0.6666666666666666,
                            "#ed7953"
                          ],
                          [
                            0.7777777777777778,
                            "#fb9f3a"
                          ],
                          [
                            0.8888888888888888,
                            "#fdca26"
                          ],
                          [
                            1,
                            "#f0f921"
                          ]
                        ],
                        "type": "histogram2d"
                      }
                    ],
                    "histogram2dcontour": [
                      {
                        "colorbar": {
                          "outlinewidth": 0,
                          "ticks": ""
                        },
                        "colorscale": [
                          [
                            0,
                            "#0d0887"
                          ],
                          [
                            0.1111111111111111,
                            "#46039f"
                          ],
                          [
                            0.2222222222222222,
                            "#7201a8"
                          ],
                          [
                            0.3333333333333333,
                            "#9c179e"
                          ],
                          [
                            0.4444444444444444,
                            "#bd3786"
                          ],
                          [
                            0.5555555555555556,
                            "#d8576b"
                          ],
                          [
                            0.6666666666666666,
                            "#ed7953"
                          ],
                          [
                            0.7777777777777778,
                            "#fb9f3a"
                          ],
                          [
                            0.8888888888888888,
                            "#fdca26"
                          ],
                          [
                            1,
                            "#f0f921"
                          ]
                        ],
                        "type": "histogram2dcontour"
                      }
                    ],
                    "mesh3d": [
                      {
                        "colorbar": {
                          "outlinewidth": 0,
                          "ticks": ""
                        },
                        "type": "mesh3d"
                      }
                    ],
                    "parcoords": [
                      {
                        "line": {
                          "colorbar": {
                            "outlinewidth": 0,
                            "ticks": ""
                          }
                        },
                        "type": "parcoords"
                      }
                    ],
                    "pie": [
                      {
                        "automargin": true,
                        "type": "pie"
                      }
                    ],
                    "scatter": [
                      {
                        "fillpattern": {
                          "fillmode": "overlay",
                          "size": 10,
                          "solidity": 0.2
                        },
                        "type": "scatter"
                      }
                    ],
                    "scatter3d": [
                      {
                        "line": {
                          "colorbar": {
                            "outlinewidth": 0,
                            "ticks": ""
                          }
                        },
                        "marker": {
                          "colorbar": {
                            "outlinewidth": 0,
                            "ticks": ""
                          }
                        },
                        "type": "scatter3d"
                      }
                    ],
                    "scattercarpet": [
                      {
                        "marker": {
                          "colorbar": {
                            "outlinewidth": 0,
                            "ticks": ""
                          }
                        },
                        "type": "scattercarpet"
                      }
                    ],
                    "scattergeo": [
                      {
                        "marker": {
                          "colorbar": {
                            "outlinewidth": 0,
                            "ticks": ""
                          }
                        },
                        "type": "scattergeo"
                      }
                    ],
                    "scattergl": [
                      {
                        "marker": {
                          "colorbar": {
                            "outlinewidth": 0,
                            "ticks": ""
                          }
                        },
                        "type": "scattergl"
                      }
                    ],
                    "scattermapbox": [
                      {
                        "marker": {
                          "colorbar": {
                            "outlinewidth": 0,
                            "ticks": ""
                          }
                        },
                        "type": "scattermapbox"
                      }
                    ],
                    "scatterpolar": [
                      {
                        "marker": {
                          "colorbar": {
                            "outlinewidth": 0,
                            "ticks": ""
                          }
                        },
                        "type": "scatterpolar"
                      }
                    ],
                    "scatterpolargl": [
                      {
                        "marker": {
                          "colorbar": {
                            "outlinewidth": 0,
                            "ticks": ""
                          }
                        },
                        "type": "scatterpolargl"
                      }
                    ],
                    "scatterternary": [
                      {
                        "marker": {
                          "colorbar": {
                            "outlinewidth": 0,
                            "ticks": ""
                          }
                        },
                        "type": "scatterternary"
                      }
                    ],
                    "surface": [
                      {
                        "colorbar": {
                          "outlinewidth": 0,
                          "ticks": ""
                        },
                        "colorscale": [
                          [
                            0,
                            "#0d0887"
                          ],
                          [
                            0.1111111111111111,
                            "#46039f"
                          ],
                          [
                            0.2222222222222222,
                            "#7201a8"
                          ],
                          [
                            0.3333333333333333,
                            "#9c179e"
                          ],
                          [
                            0.4444444444444444,
                            "#bd3786"
                          ],
                          [
                            0.5555555555555556,
                            "#d8576b"
                          ],
                          [
                            0.6666666666666666,
                            "#ed7953"
                          ],
                          [
                            0.7777777777777778,
                            "#fb9f3a"
                          ],
                          [
                            0.8888888888888888,
                            "#fdca26"
                          ],
                          [
                            1,
                            "#f0f921"
                          ]
                        ],
                        "type": "surface"
                      }
                    ],
                    "table": [
                      {
                        "cells": {
                          "fill": {
                            "color": "#EBF0F8"
                          },
                          "line": {
                            "color": "white"
                          }
                        },
                        "header": {
                          "fill": {
                            "color": "#C8D4E3"
                          },
                          "line": {
                            "color": "white"
                          }
                        },
                        "type": "table"
                      }
                    ]
                  },
                  "layout": {
                    "annotationdefaults": {
                      "arrowcolor": "#2a3f5f",
                      "arrowhead": 0,
                      "arrowwidth": 1
                    },
                    "autotypenumbers": "strict",
                    "coloraxis": {
                      "colorbar": {
                        "outlinewidth": 0,
                        "ticks": ""
                      }
                    },
                    "colorscale": {
                      "diverging": [
                        [
                          0,
                          "#8e0152"
                        ],
                        [
                          0.1,
                          "#c51b7d"
                        ],
                        [
                          0.2,
                          "#de77ae"
                        ],
                        [
                          0.3,
                          "#f1b6da"
                        ],
                        [
                          0.4,
                          "#fde0ef"
                        ],
                        [
                          0.5,
                          "#f7f7f7"
                        ],
                        [
                          0.6,
                          "#e6f5d0"
                        ],
                        [
                          0.7,
                          "#b8e186"
                        ],
                        [
                          0.8,
                          "#7fbc41"
                        ],
                        [
                          0.9,
                          "#4d9221"
                        ],
                        [
                          1,
                          "#276419"
                        ]
                      ],
                      "sequential": [
                        [
                          0,
                          "#0d0887"
                        ],
                        [
                          0.1111111111111111,
                          "#46039f"
                        ],
                        [
                          0.2222222222222222,
                          "#7201a8"
                        ],
                        [
                          0.3333333333333333,
                          "#9c179e"
                        ],
                        [
                          0.4444444444444444,
                          "#bd3786"
                        ],
                        [
                          0.5555555555555556,
                          "#d8576b"
                        ],
                        [
                          0.6666666666666666,
                          "#ed7953"
                        ],
                        [
                          0.7777777777777778,
                          "#fb9f3a"
                        ],
                        [
                          0.8888888888888888,
                          "#fdca26"
                        ],
                        [
                          1,
                          "#f0f921"
                        ]
                      ],
                      "sequentialminus": [
                        [
                          0,
                          "#0d0887"
                        ],
                        [
                          0.1111111111111111,
                          "#46039f"
                        ],
                        [
                          0.2222222222222222,
                          "#7201a8"
                        ],
                        [
                          0.3333333333333333,
                          "#9c179e"
                        ],
                        [
                          0.4444444444444444,
                          "#bd3786"
                        ],
                        [
                          0.5555555555555556,
                          "#d8576b"
                        ],
                        [
                          0.6666666666666666,
                          "#ed7953"
                        ],
                        [
                          0.7777777777777778,
                          "#fb9f3a"
                        ],
                        [
                          0.8888888888888888,
                          "#fdca26"
                        ],
                        [
                          1,
                          "#f0f921"
                        ]
                      ]
                    },
                    "colorway": [
                      "#636efa",
                      "#EF553B",
                      "#00cc96",
                      "#ab63fa",
                      "#FFA15A",
                      "#19d3f3",
                      "#FF6692",
                      "#B6E880",
                      "#FF97FF",
                      "#FECB52"
                    ],
                    "font": {
                      "color": "#2a3f5f"
                    },
                    "geo": {
                      "bgcolor": "white",
                      "lakecolor": "white",
                      "landcolor": "#E5ECF6",
                      "showlakes": true,
                      "showland": true,
                      "subunitcolor": "white"
                    },
                    "hoverlabel": {
                      "align": "left"
                    },
                    "hovermode": "closest",
                    "mapbox": {
                      "style": "light"
                    },
                    "paper_bgcolor": "white",
                    "plot_bgcolor": "#E5ECF6",
                    "polar": {
                      "angularaxis": {
                        "gridcolor": "white",
                        "linecolor": "white",
                        "ticks": ""
                      },
                      "bgcolor": "#E5ECF6",
                      "radialaxis": {
                        "gridcolor": "white",
                        "linecolor": "white",
                        "ticks": ""
                      }
                    },
                    "scene": {
                      "xaxis": {
                        "backgroundcolor": "#E5ECF6",
                        "gridcolor": "white",
                        "gridwidth": 2,
                        "linecolor": "white",
                        "showbackground": true,
                        "ticks": "",
                        "zerolinecolor": "white"
                      },
                      "yaxis": {
                        "backgroundcolor": "#E5ECF6",
                        "gridcolor": "white",
                        "gridwidth": 2,
                        "linecolor": "white",
                        "showbackground": true,
                        "ticks": "",
                        "zerolinecolor": "white"
                      },
                      "zaxis": {
                        "backgroundcolor": "#E5ECF6",
                        "gridcolor": "white",
                        "gridwidth": 2,
                        "linecolor": "white",
                        "showbackground": true,
                        "ticks": "",
                        "zerolinecolor": "white"
                      }
                    },
                    "shapedefaults": {
                      "line": {
                        "color": "#2a3f5f"
                      }
                    },
                    "ternary": {
                      "aaxis": {
                        "gridcolor": "white",
                        "linecolor": "white",
                        "ticks": ""
                      },
                      "baxis": {
                        "gridcolor": "white",
                        "linecolor": "white",
                        "ticks": ""
                      },
                      "bgcolor": "#E5ECF6",
                      "caxis": {
                        "gridcolor": "white",
                        "linecolor": "white",
                        "ticks": ""
                      }
                    },
                    "title": {
                      "x": 0.05
                    },
                    "xaxis": {
                      "automargin": true,
                      "gridcolor": "white",
                      "linecolor": "white",
                      "ticks": "",
                      "title": {
                        "standoff": 15
                      },
                      "zerolinecolor": "white",
                      "zerolinewidth": 2
                    },
                    "yaxis": {
                      "automargin": true,
                      "gridcolor": "white",
                      "linecolor": "white",
                      "ticks": "",
                      "title": {
                        "standoff": 15
                      },
                      "zerolinecolor": "white",
                      "zerolinewidth": 2
                    }
                  }
                },
                "xaxis": {
                  "anchor": "y",
                  "domain": [
                    0,
                    1
                  ],
                  "title": {
                    "text": "variable"
                  }
                },
                "yaxis": {
                  "anchor": "x",
                  "domain": [
                    0,
                    1
                  ],
                  "title": {
                    "text": "value"
                  }
                }
              }
            }
          },
          "metadata": {},
          "output_type": "display_data"
        }
      ],
      "source": [
        "import plotly.express as px\n",
        "px.box(pbo).show()\n",
        "px.box(deflated_sr)"
      ]
    },
    {
      "cell_type": "code",
      "execution_count": 41,
      "metadata": {},
      "outputs": [
        {
          "data": {
            "text/html": [
              "<div>\n",
              "<style scoped>\n",
              "    .dataframe tbody tr th:only-of-type {\n",
              "        vertical-align: middle;\n",
              "    }\n",
              "\n",
              "    .dataframe tbody tr th {\n",
              "        vertical-align: top;\n",
              "    }\n",
              "\n",
              "    .dataframe thead th {\n",
              "        text-align: right;\n",
              "    }\n",
              "</style>\n",
              "<table border=\"1\" class=\"dataframe\">\n",
              "  <thead>\n",
              "    <tr style=\"text-align: right;\">\n",
              "      <th></th>\n",
              "      <th>Walk-Forward</th>\n",
              "      <th>K-Fold</th>\n",
              "      <th>Purged K-Fold</th>\n",
              "      <th>Combinatorial Purged</th>\n",
              "    </tr>\n",
              "  </thead>\n",
              "  <tbody>\n",
              "    <tr>\n",
              "      <th>0</th>\n",
              "      <td>0.893784</td>\n",
              "      <td>0.413986</td>\n",
              "      <td>0.234266</td>\n",
              "      <td>0.562626</td>\n",
              "    </tr>\n",
              "    <tr>\n",
              "      <th>1</th>\n",
              "      <td>0.403574</td>\n",
              "      <td>0.554235</td>\n",
              "      <td>0.206216</td>\n",
              "      <td>0.305051</td>\n",
              "    </tr>\n",
              "    <tr>\n",
              "      <th>2</th>\n",
              "      <td>0.267366</td>\n",
              "      <td>0.319425</td>\n",
              "      <td>0.478399</td>\n",
              "      <td>0.259518</td>\n",
              "    </tr>\n",
              "    <tr>\n",
              "      <th>3</th>\n",
              "      <td>0.887723</td>\n",
              "      <td>0.568221</td>\n",
              "      <td>0.593629</td>\n",
              "      <td>0.271562</td>\n",
              "    </tr>\n",
              "    <tr>\n",
              "      <th>4</th>\n",
              "      <td>0.235742</td>\n",
              "      <td>0.564646</td>\n",
              "      <td>0.248718</td>\n",
              "      <td>0.443978</td>\n",
              "    </tr>\n",
              "  </tbody>\n",
              "</table>\n",
              "</div>"
            ],
            "text/plain": [
              "   Walk-Forward    K-Fold  Purged K-Fold  Combinatorial Purged\n",
              "0      0.893784  0.413986       0.234266              0.562626\n",
              "1      0.403574  0.554235       0.206216              0.305051\n",
              "2      0.267366  0.319425       0.478399              0.259518\n",
              "3      0.887723  0.568221       0.593629              0.271562\n",
              "4      0.235742  0.564646       0.248718              0.443978"
            ]
          },
          "execution_count": 41,
          "metadata": {},
          "output_type": "execute_result"
        }
      ],
      "source": [
        "pbo"
      ]
    },
    {
      "cell_type": "code",
      "execution_count": null,
      "metadata": {},
      "outputs": [],
      "source": [
        "all_prices.to_csv('simulated_prices.csv')\n",
        "all_regimes.to_csv('simulated_regimes.csv')\n",
        "pbo.to_csv('simulated_probabilities_of_backtest_overfitting.csv')\n",
        "deflated_sr.to_csv('simulated_deflated_sharpe_ratios.csv')"
      ]
    }
  ],
  "metadata": {
    "colab": {
      "provenance": []
    },
    "kernelspec": {
      "display_name": "Cobra",
      "language": "python",
      "name": "python3"
    },
    "language_info": {
      "codemirror_mode": {
        "name": "ipython",
        "version": 3
      },
      "file_extension": ".py",
      "mimetype": "text/x-python",
      "name": "python",
      "nbconvert_exporter": "python",
      "pygments_lexer": "ipython3",
      "version": "3.11.4"
    },
    "orig_nbformat": 4
  },
  "nbformat": 4,
  "nbformat_minor": 0
}
