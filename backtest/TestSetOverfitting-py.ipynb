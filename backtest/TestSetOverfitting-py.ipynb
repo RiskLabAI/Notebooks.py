{
 "cells": [
  {
   "cell_type": "code",
   "execution_count": 2,
   "metadata": {},
   "outputs": [],
   "source": [
    "from TestSetOverfitting import *\n",
    "import pandas as pd\n",
    "import warnings\n",
    "import seaborn\n",
    "\n",
    "import matplotlib.pyplot as plt\n",
    "import numpy as np\n",
    "\n",
    "\n",
    "warnings.filterwarnings(\"ignore\")"
   ]
  },
  {
   "cell_type": "markdown",
   "metadata": {},
   "source": [
    "# Max Sharpe Ratio Experiment\n",
    "Validates the False Strategy Theorem experimentally"
   ]
  },
  {
   "cell_type": "code",
   "execution_count": 3,
   "metadata": {},
   "outputs": [],
   "source": [
    "nTrials = list(set(np.logspace(1, 6, 40).astype(int)));nTrials.sort()\n",
    "sr0 = pd.Series({i:expected_max_sharpe_ratio(i, mean_sharpe_ratio=0, std_sharpe_ratio=1) for i in nTrials})\n",
    "sr1 = generated_max_sharpe_ratio(nSims=100, nTrials=nTrials, mean_sharpe_ratio=0, std_sharpe_ratio=1)"
   ]
  },
  {
   "cell_type": "code",
   "execution_count": 15,
   "metadata": {},
   "outputs": [
    {
     "data": {
      "image/png": "[encoded data removed]",
      "text/plain": [
       "<Figure size 432x288 with 1 Axes>"
      ]
     },
     "metadata": {},
     "output_type": "display_data"
    }
   ],
   "source": [
    "seaborn.set(style='dark')\n",
    "plt.xlim(3, 13)\n",
    "plt.ylim(0, 6)\n",
    "\n",
    "res=seaborn.kdeplot(x = np.log(sr1['nTrials']), \n",
    "    y = sr1['max{SR}'], fill=True, thresh=0, \n",
    "    levels=100, cmap=\"rocket\", )\n",
    "\n",
    "plt.show()"
   ]
  },
  {
   "cell_type": "code",
   "execution_count": null,
   "metadata": {},
   "outputs": [],
   "source": [
    "fig = go.Figure()\n",
    "trace2 = go.Scatter(\n",
    "    x=sr1.nTrials,\n",
    "    y=sr1['max{SR}'],\n",
    "    mode='markers',\n",
    "    name='Expected Max SR'\n",
    ")\n",
    "fig.add_trace(trace2)\n",
    "trace = go.Scatter(\n",
    "    x=sr0.index,\n",
    "    y=sr0,\n",
    "    mode='markers',\n",
    "    marker_size=10,\n",
    "    name='Experiment'\n",
    ")\n",
    "fig.add_trace(trace)\n",
    "fig.update_layout({\n",
    "    'plot_bgcolor': 'rgba(0, 0, 0, 0)',\n",
    "    'paper_bgcolor': 'rgba(0, 0, 0, 0)',\n",
    "}, xaxis_title=\"Number of Trials\")\n",
    "fig.show()"
   ]
  },
  {
   "cell_type": "markdown",
   "metadata": {},
   "source": [
    "# Mean and standard deviation of the predicted errors\n",
    "Calculates mean and standard deviation of the predicted errors"
   ]
  },
  {
   "cell_type": "code",
   "execution_count": null,
   "metadata": {},
   "outputs": [],
   "source": [
    "nTrials = list(set(np.logspace(1, 4, 40).astype(int)));nTrials.sort()\n",
    "stats = mean_std_error(nSims0=1000, nSims1=100, nTrials=nTrials, std_sharpe_ratio=1)"
   ]
  },
  {
   "cell_type": "code",
   "execution_count": null,
   "metadata": {},
   "outputs": [],
   "source": [
    "stats"
   ]
  },
  {
   "cell_type": "code",
   "execution_count": null,
   "metadata": {},
   "outputs": [],
   "source": [
    "fig = make_subplots(specs=[[{\"secondary_y\": True}]])\n",
    "trace2 = go.Scatter(\n",
    "    x=stats.index,\n",
    "    y=stats.meanErr,\n",
    "    mode='markers',\n",
    "    name='Mean Error',\n",
    "    marker_size=10\n",
    ")\n",
    "fig.add_trace(trace2)\n",
    "trace = go.Scatter(\n",
    "    x=stats.index,\n",
    "    y=stats.stdErr,\n",
    "    mode='markers',\n",
    "    name='Std',\n",
    "    marker_size=10\n",
    ")\n",
    "fig.add_trace(trace, secondary_y=True)\n",
    "fig.update_layout({\n",
    "    'plot_bgcolor': 'rgba(0, 0, 0, 0)',\n",
    "    'paper_bgcolor': 'rgba(0, 0, 0, 0)',\n",
    "})\n",
    "fig.show()"
   ]
  },
  {
   "cell_type": "markdown",
   "metadata": {},
   "source": [
    "# Type I error probability\n",
    "Calculates type I error probability of stratgies"
   ]
  },
  {
   "cell_type": "code",
   "execution_count": null,
   "metadata": {},
   "outputs": [],
   "source": [
    "t, skew, kurt, k, freq=1250, -3, 10, 10, 250\n",
    "sr = 1.25 / freq ** 0.5\n",
    "sr_ = 1 / freq ** 0.5\n",
    "z = estimated_sharpe_ratio_z_statistics(sr, t, 0, skew, kurt)\n",
    "α_k = strategy_type1_error_probability(z, k)\n",
    "print(α_k)"
   ]
  },
  {
   "cell_type": "markdown",
   "metadata": {},
   "source": [
    "# Type II error probability\n",
    "Calculates type II error probability of stratgies"
   ]
  },
  {
   "cell_type": "code",
   "execution_count": null,
   "metadata": {},
   "outputs": [],
   "source": [
    "t, skew, kurt, k, freq = 1250, -3, 10, 10, 250\n",
    "sr = 1.25 / freq ** 0.5\n",
    "sr_ = 1 / freq ** 0.5\n",
    "z = estimated_sharpe_ratio_z_statistics(sr, t, 0, skew, kurt)\n",
    "α_k = strategy_type1_error_probability(z, k)\n",
    "θ = theta_for_type2_error(sr, t, sr_, skew, kurt)\n",
    "β = strategy_type2_error_probability(α_k, k, θ)\n",
    "β_k = β**k\n",
    "print(β_k)"
   ]
  },
  {
   "cell_type": "code",
   "execution_count": null,
   "metadata": {},
   "outputs": [],
   "source": [
    "def calculate_beta(α, k):\n",
    "    t, skew, kurt, freq = 1250, -3, 10, 250\n",
    "    sr = 1.25 / freq ** 0.5\n",
    "    sr_ = 1 / freq ** 0.5\n",
    "    θ = theta_for_type2_error(sr, t, sr_, skew, kurt)\n",
    "    β = strategy_type2_error_probability(α, k, θ)\n",
    "    β_k = β**k\n",
    "\n",
    "    return β_k\n",
    "\n",
    "\n",
    "β1 = [calculate_beta(0.01, i) for i in np.linspace(1, 25, 50)]\n",
    "β2 = [calculate_beta(0.025, i) for i in np.linspace(1, 25, 50)]\n",
    "β3 = [calculate_beta(0.005, i) for i in np.linspace(1, 25, 50)]"
   ]
  },
  {
   "cell_type": "code",
   "execution_count": null,
   "metadata": {},
   "outputs": [],
   "source": [
    "fig = go.Figure()\n",
    "trace = go.Scatter(\n",
    "    x=np.linspace(1, 25, 50),\n",
    "    y=β1,\n",
    "    mode='markers',\n",
    "    name='β1',\n",
    "    marker_size=10\n",
    ")\n",
    "fig.add_trace(trace)\n",
    "trace = go.Scatter(\n",
    "    x=np.linspace(1, 25, 50),\n",
    "    y=β2,\n",
    "    mode='markers',\n",
    "    name='β2',\n",
    "    marker_size=10\n",
    ")\n",
    "fig.add_trace(trace)\n",
    "trace = go.Scatter(\n",
    "    x=np.linspace(1, 25, 50),\n",
    "    y=β3,\n",
    "    mode='markers',\n",
    "    name='β3',\n",
    "    marker_size=10\n",
    ")\n",
    "fig.add_trace(trace)\n",
    "fig.update_layout({\n",
    "    'plot_bgcolor': 'rgba(0, 0, 0, 0)',\n",
    "    'paper_bgcolor': 'rgba(0, 0, 0, 0)',\n",
    "}, xaxis_title=\"Number of Trials\")\n",
    "fig.show()"
   ]
  }
 ],
 "metadata": {
  "kernelspec": {
   "display_name": "Python 3.10.2 64-bit",
   "language": "python",
   "name": "python3"
  },
  "language_info": {
   "codemirror_mode": {
    "name": "ipython",
    "version": 3
   },
   "file_extension": ".py",
   "mimetype": "text/x-python",
   "name": "python",
   "nbconvert_exporter": "python",
   "pygments_lexer": "ipython3",
   "version": "3.10.2 (tags/v3.10.2:a58ebcc, Jan 17 2022, 14:12:15) [MSC v.1929 64 bit (AMD64)]"
  },
  "orig_nbformat": 4,
  "vscode": {
   "interpreter": {
    "hash": "11ea4d73d55668014694d489153919fd5b5b39b93d6401e332d9cf3968a6222f"
   }
  }
 },
 "nbformat": 4,
 "nbformat_minor": 2
}
