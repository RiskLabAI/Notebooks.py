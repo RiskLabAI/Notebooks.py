{
 "cells": [
  {
   "cell_type": "code",
   "execution_count": 1,
   "metadata": {},
   "outputs": [
    {
     "ename": "ModuleNotFoundError",
     "evalue": "No module named 'Python_Chapter_7'",
     "output_type": "error",
     "traceback": [
      "\u001b[1;31m---------------------------------------------------------------------------\u001b[0m",
      "\u001b[1;31mModuleNotFoundError\u001b[0m                       Traceback (most recent call last)",
      "\u001b[1;32mc:\\Users\\hamid\\OneDrive\\Coding\\RiskLabAI\\RiskLab Code\\2018-07CV12BacktestingCV\\PY\\PurgedKFoldCV-py.ipynb Cell 1\u001b[0m in \u001b[0;36m<module>\u001b[1;34m\u001b[0m\n\u001b[0;32m      <a href='vscode-notebook-cell:/c%3A/Users/hamid/OneDrive/Coding/RiskLabAI/RiskLab%20Code/2018-07CV12BacktestingCV/PY/PurgedKFoldCV-py.ipynb#W0sZmlsZQ%3D%3D?line=1'>2</a>\u001b[0m \u001b[39mimport\u001b[39;00m \u001b[39mpandas\u001b[39;00m \u001b[39mas\u001b[39;00m \u001b[39mpd\u001b[39;00m\n\u001b[0;32m      <a href='vscode-notebook-cell:/c%3A/Users/hamid/OneDrive/Coding/RiskLabAI/RiskLab%20Code/2018-07CV12BacktestingCV/PY/PurgedKFoldCV-py.ipynb#W0sZmlsZQ%3D%3D?line=2'>3</a>\u001b[0m \u001b[39mimport\u001b[39;00m \u001b[39myfinance\u001b[39;00m \u001b[39mas\u001b[39;00m \u001b[39myf\u001b[39;00m\n\u001b[1;32m----> <a href='vscode-notebook-cell:/c%3A/Users/hamid/OneDrive/Coding/RiskLabAI/RiskLab%20Code/2018-07CV12BacktestingCV/PY/PurgedKFoldCV-py.ipynb#W0sZmlsZQ%3D%3D?line=3'>4</a>\u001b[0m \u001b[39mimport\u001b[39;00m \u001b[39mPython_Chapter_7\u001b[39;00m\n\u001b[0;32m      <a href='vscode-notebook-cell:/c%3A/Users/hamid/OneDrive/Coding/RiskLabAI/RiskLab%20Code/2018-07CV12BacktestingCV/PY/PurgedKFoldCV-py.ipynb#W0sZmlsZQ%3D%3D?line=4'>5</a>\u001b[0m \u001b[39mimport\u001b[39;00m \u001b[39mplotly\u001b[39;00m\u001b[39m.\u001b[39;00m\u001b[39mexpress\u001b[39;00m \u001b[39mas\u001b[39;00m \u001b[39mpx\u001b[39;00m\n\u001b[0;32m      <a href='vscode-notebook-cell:/c%3A/Users/hamid/OneDrive/Coding/RiskLabAI/RiskLab%20Code/2018-07CV12BacktestingCV/PY/PurgedKFoldCV-py.ipynb#W0sZmlsZQ%3D%3D?line=5'>6</a>\u001b[0m \u001b[39mfrom\u001b[39;00m \u001b[39msklearn\u001b[39;00m\u001b[39m.\u001b[39;00m\u001b[39mmodel_selection\u001b[39;00m \u001b[39mimport\u001b[39;00m train_test_split\n",
      "\u001b[1;31mModuleNotFoundError\u001b[0m: No module named 'Python_Chapter_7'"
     ]
    }
   ],
   "source": [
    "import numpy as np\n",
    "import pandas as pd\n",
    "import yfinance as yf\n",
    "import Python_Chapter_7\n",
    "import plotly.express as px\n",
    "from sklearn.model_selection import train_test_split\n",
    "from sklearn.ensemble import RandomForestClassifier\n",
    "import warnings\n",
    "warnings.filterwarnings(\"ignore\")"
   ]
  },
  {
   "cell_type": "markdown",
   "metadata": {},
   "source": [
    "# Data\n",
    "We import bitcoin data from Yahoo finance from 2021."
   ]
  },
  {
   "cell_type": "code",
   "execution_count": 2,
   "metadata": {},
   "outputs": [],
   "source": [
    "btc = yf.Ticker('BTC-USD').history(start='2021-02-03', end='2021-04-01')['Close']"
   ]
  },
  {
   "cell_type": "code",
   "execution_count": 3,
   "metadata": {},
   "outputs": [],
   "source": [
    "btc_df = pd.DataFrame(btc)\n",
    "btc_df['Expected 55'] = btc.ewm(span=55, adjust=False).mean()\n",
    "btc_df['Expected 15'] = btc.ewm(span=15, adjust=False).mean()\n",
    "btc_df['Target'] = -btc.diff(-1).apply(np.sign).replace(0, -1)\n",
    "btc_df = btc_df.dropna()\n",
    "btc= btc_df['Close']"
   ]
  },
  {
   "cell_type": "code",
   "execution_count": 4,
   "metadata": {},
   "outputs": [],
   "source": [
    "target_positions = btc_df['Target']\n",
    "data = btc_df[['Close', 'Expected 55', 'Expected 15']]\n",
    "X_train, X_test, y_train, y_test = train_test_split(data, target_positions, test_size=0.33, shuffle=False)\n",
    "times = pd.Series(btc.index[1:].union([btc.index[-1] + (btc.index[1] - btc.index[0])]), index=btc.index)"
   ]
  },
  {
   "cell_type": "markdown",
   "metadata": {},
   "source": [
    "# Purged Training Times\n",
    "Purges test observations in the training set"
   ]
  },
  {
   "cell_type": "code",
   "execution_count": 5,
   "metadata": {},
   "outputs": [
    {
     "data": {
      "text/plain": [
       "Date\n",
       "2021-02-02   2021-02-03\n",
       "2021-02-03   2021-02-04\n",
       "2021-02-04   2021-02-05\n",
       "2021-02-05   2021-02-06\n",
       "2021-02-06   2021-02-07\n",
       "2021-02-07   2021-02-08\n",
       "2021-02-08   2021-02-09\n",
       "2021-02-09   2021-02-10\n",
       "2021-02-10   2021-02-11\n",
       "2021-02-11   2021-02-12\n",
       "2021-02-12   2021-02-13\n",
       "2021-02-13   2021-02-14\n",
       "2021-02-14   2021-02-15\n",
       "2021-02-15   2021-02-16\n",
       "2021-02-16   2021-02-17\n",
       "2021-02-17   2021-02-18\n",
       "2021-02-18   2021-02-19\n",
       "2021-02-19   2021-02-20\n",
       "2021-02-20   2021-02-21\n",
       "2021-02-21   2021-02-22\n",
       "2021-02-22   2021-02-23\n",
       "2021-02-23   2021-02-24\n",
       "2021-02-24   2021-02-25\n",
       "2021-02-25   2021-02-26\n",
       "2021-02-26   2021-02-27\n",
       "2021-02-27   2021-02-28\n",
       "2021-02-28   2021-03-01\n",
       "2021-03-01   2021-03-02\n",
       "2021-03-02   2021-03-03\n",
       "2021-03-03   2021-03-04\n",
       "2021-03-04   2021-03-05\n",
       "2021-03-05   2021-03-06\n",
       "2021-03-06   2021-03-07\n",
       "2021-03-07   2021-03-08\n",
       "2021-03-08   2021-03-09\n",
       "2021-03-09   2021-03-10\n",
       "2021-03-10   2021-03-11\n",
       "Name: Date, dtype: datetime64[ns]"
      ]
     },
     "execution_count": 5,
     "metadata": {},
     "output_type": "execute_result"
    }
   ],
   "source": [
    "Python_Chapter_7.purged_train_times(times, times[X_test.index])"
   ]
  },
  {
   "cell_type": "markdown",
   "metadata": {},
   "source": [
    "# Embargo Times\n",
    "Gets embargo time for each bar"
   ]
  },
  {
   "cell_type": "code",
   "execution_count": 6,
   "metadata": {},
   "outputs": [
    {
     "data": {
      "text/plain": [
       "Date\n",
       "2021-02-02   2021-02-04\n",
       "2021-02-03   2021-02-05\n",
       "2021-02-04   2021-02-06\n",
       "2021-02-05   2021-02-07\n",
       "2021-02-06   2021-02-08\n",
       "2021-02-07   2021-02-09\n",
       "2021-02-08   2021-02-10\n",
       "2021-02-09   2021-02-11\n",
       "2021-02-10   2021-02-12\n",
       "2021-02-11   2021-02-13\n",
       "2021-02-12   2021-02-14\n",
       "2021-02-13   2021-02-15\n",
       "2021-02-14   2021-02-16\n",
       "2021-02-15   2021-02-17\n",
       "2021-02-16   2021-02-18\n",
       "2021-02-17   2021-02-19\n",
       "2021-02-18   2021-02-20\n",
       "2021-02-19   2021-02-21\n",
       "2021-02-20   2021-02-22\n",
       "2021-02-21   2021-02-23\n",
       "2021-02-22   2021-02-24\n",
       "2021-02-23   2021-02-25\n",
       "2021-02-24   2021-02-26\n",
       "2021-02-25   2021-02-27\n",
       "2021-02-26   2021-02-28\n",
       "2021-02-27   2021-03-01\n",
       "2021-02-28   2021-03-02\n",
       "2021-03-01   2021-03-03\n",
       "2021-03-02   2021-03-04\n",
       "2021-03-03   2021-03-05\n",
       "2021-03-04   2021-03-06\n",
       "2021-03-05   2021-03-07\n",
       "2021-03-06   2021-03-08\n",
       "2021-03-07   2021-03-09\n",
       "2021-03-08   2021-03-10\n",
       "2021-03-09   2021-03-11\n",
       "2021-03-10   2021-03-12\n",
       "2021-03-11   2021-03-13\n",
       "2021-03-12   2021-03-14\n",
       "2021-03-13   2021-03-15\n",
       "2021-03-14   2021-03-16\n",
       "2021-03-15   2021-03-17\n",
       "2021-03-16   2021-03-18\n",
       "2021-03-17   2021-03-19\n",
       "2021-03-18   2021-03-20\n",
       "2021-03-19   2021-03-21\n",
       "2021-03-20   2021-03-22\n",
       "2021-03-21   2021-03-23\n",
       "2021-03-22   2021-03-24\n",
       "2021-03-23   2021-03-25\n",
       "2021-03-24   2021-03-26\n",
       "2021-03-25   2021-03-27\n",
       "2021-03-26   2021-03-28\n",
       "2021-03-27   2021-03-29\n",
       "2021-03-28   2021-03-30\n",
       "2021-03-29   2021-03-30\n",
       "2021-03-30   2021-03-30\n",
       "dtype: datetime64[ns]"
      ]
     },
     "execution_count": 6,
     "metadata": {},
     "output_type": "execute_result"
    }
   ],
   "source": [
    "Python_Chapter_7.embargo_times(data.index, 0.05)"
   ]
  },
  {
   "cell_type": "markdown",
   "metadata": {},
   "source": [
    "# Purged KFold and Cross Validation Score\n",
    "Uses the PurgedKFold struct and functions to achieve CV score"
   ]
  },
  {
   "cell_type": "code",
   "execution_count": 7,
   "metadata": {},
   "outputs": [],
   "source": [
    "purged_kfold = Python_Chapter_7.PurgedKFold(5, times, 0.05)"
   ]
  },
  {
   "cell_type": "code",
   "execution_count": 8,
   "metadata": {},
   "outputs": [],
   "source": [
    "classifier = RandomForestClassifier(max_depth=2, random_state=0)"
   ]
  },
  {
   "cell_type": "code",
   "execution_count": 9,
   "metadata": {},
   "outputs": [
    {
     "data": {
      "text/plain": [
       "array([-0.68823623, -0.73479345, -0.69952012, -0.73968756, -0.71422815])"
      ]
     },
     "execution_count": 9,
     "metadata": {},
     "output_type": "execute_result"
    }
   ],
   "source": [
    "Python_Chapter_7.cross_validation_score(classifier, data=data, labels=target_positions, scoring='neg_log_loss', times=times, cross_validation_generator=purged_kfold, percent_embargo=0.05)"
   ]
  }
 ],
 "metadata": {
  "kernelspec": {
   "display_name": "Cobra",
   "language": "python",
   "name": "python3"
  },
  "language_info": {
   "codemirror_mode": {
    "name": "ipython",
    "version": 3
   },
   "file_extension": ".py",
   "mimetype": "text/x-python",
   "name": "python",
   "nbconvert_exporter": "python",
   "pygments_lexer": "ipython3",
   "version": "3.10.9 (main, Mar  8 2023, 10:47:38) [GCC 11.2.0]"
  },
  "orig_nbformat": 4,
  "vscode": {
   "interpreter": {
    "hash": "b6f6a60647d5c9ecf92c571d4c9269f5188e8e74f1bb9cf7fc76c42ff6a62e47"
   }
  }
 },
 "nbformat": 4,
 "nbformat_minor": 2
}
