{
  "cells": [
    {
      "cell_type": "markdown",
      "metadata": {},
      "source": [
        "# Import Modules\n",
        "\n",
        "In this notebook, we aim to introduce clustering modules from RiskLabAI."
      ]
    },
    {
      "cell_type": "code",
      "execution_count": 1,
      "metadata": {},
      "outputs": [],
      "source": [
        "import seaborn as sns\n",
        "import pandas as pd\n",
        "import yfinance as yf\n",
        "from RiskLabAI.cluster.clustering import (\n",
        "    covariance_to_correlation,\n",
        "    cluster_k_means_base,\n",
        "    cluster_k_means_top,\n",
        "    random_block_covariance,\n",
        "    random_block_correlation\n",
        ")"
      ]
    },
    {
      "cell_type": "markdown",
      "metadata": {},
      "source": [
        "# Data\n",
        "\n",
        "Generates a dataframe of popular symbols with datatime indices and symbols as columns.\n",
        "\n",
        "Each value is the difference between the price of the symbol at the time of the index and the price of the symbol at the previous index.\n",
        "By considering that the first row doesn't have a previous index, the first row will have NaN values.\n",
        "\n",
        "The source of the data is Yahoo Finance."
      ]
    },
    {
      "cell_type": "code",
      "execution_count": 2,
      "metadata": {},
      "outputs": [
        {
          "data": {
            "text/html": [
              "<div>\n",
              "<style scoped>\n",
              "    .dataframe tbody tr th:only-of-type {\n",
              "        vertical-align: middle;\n",
              "    }\n",
              "\n",
              "    .dataframe tbody tr th {\n",
              "        vertical-align: top;\n",
              "    }\n",
              "\n",
              "    .dataframe thead th {\n",
              "        text-align: right;\n",
              "    }\n",
              "</style>\n",
              "<table border=\"1\" class=\"dataframe\">\n",
              "  <thead>\n",
              "    <tr style=\"text-align: right;\">\n",
              "      <th></th>\n",
              "      <th>AAPL</th>\n",
              "      <th>MSFT</th>\n",
              "      <th>GOOG</th>\n",
              "      <th>AMZN</th>\n",
              "      <th>TSLA</th>\n",
              "      <th>META</th>\n",
              "      <th>JPM</th>\n",
              "      <th>UNH</th>\n",
              "      <th>V</th>\n",
              "      <th>JNJ</th>\n",
              "      <th>...</th>\n",
              "      <th>CSCO</th>\n",
              "      <th>NFLX</th>\n",
              "      <th>NKE</th>\n",
              "      <th>LLY</th>\n",
              "      <th>KO</th>\n",
              "      <th>TMO</th>\n",
              "      <th>CRM</th>\n",
              "      <th>COST</th>\n",
              "      <th>AAL</th>\n",
              "      <th>X</th>\n",
              "    </tr>\n",
              "    <tr>\n",
              "      <th>Date</th>\n",
              "      <th></th>\n",
              "      <th></th>\n",
              "      <th></th>\n",
              "      <th></th>\n",
              "      <th></th>\n",
              "      <th></th>\n",
              "      <th></th>\n",
              "      <th></th>\n",
              "      <th></th>\n",
              "      <th></th>\n",
              "      <th></th>\n",
              "      <th></th>\n",
              "      <th></th>\n",
              "      <th></th>\n",
              "      <th></th>\n",
              "      <th></th>\n",
              "      <th></th>\n",
              "      <th></th>\n",
              "      <th></th>\n",
              "      <th></th>\n",
              "      <th></th>\n",
              "    </tr>\n",
              "  </thead>\n",
              "  <tbody>\n",
              "    <tr>\n",
              "      <th>2019-01-02 00:00:00-05:00</th>\n",
              "      <td>NaN</td>\n",
              "      <td>NaN</td>\n",
              "      <td>NaN</td>\n",
              "      <td>NaN</td>\n",
              "      <td>NaN</td>\n",
              "      <td>NaN</td>\n",
              "      <td>NaN</td>\n",
              "      <td>NaN</td>\n",
              "      <td>NaN</td>\n",
              "      <td>NaN</td>\n",
              "      <td>...</td>\n",
              "      <td>NaN</td>\n",
              "      <td>NaN</td>\n",
              "      <td>NaN</td>\n",
              "      <td>NaN</td>\n",
              "      <td>NaN</td>\n",
              "      <td>NaN</td>\n",
              "      <td>NaN</td>\n",
              "      <td>NaN</td>\n",
              "      <td>NaN</td>\n",
              "      <td>NaN</td>\n",
              "    </tr>\n",
              "    <tr>\n",
              "      <th>2019-01-03 00:00:00-05:00</th>\n",
              "      <td>-0.099607</td>\n",
              "      <td>-0.036788</td>\n",
              "      <td>-0.028484</td>\n",
              "      <td>-0.025241</td>\n",
              "      <td>-0.031472</td>\n",
              "      <td>-0.029039</td>\n",
              "      <td>-0.014212</td>\n",
              "      <td>-0.027270</td>\n",
              "      <td>-0.036037</td>\n",
              "      <td>-0.015890</td>\n",
              "      <td>...</td>\n",
              "      <td>-0.036368</td>\n",
              "      <td>0.013226</td>\n",
              "      <td>-0.017689</td>\n",
              "      <td>-0.031076</td>\n",
              "      <td>-0.006179</td>\n",
              "      <td>-0.033041</td>\n",
              "      <td>-0.037993</td>\n",
              "      <td>-0.021196</td>\n",
              "      <td>-0.074507</td>\n",
              "      <td>-0.001621</td>\n",
              "    </tr>\n",
              "    <tr>\n",
              "      <th>2019-01-04 00:00:00-05:00</th>\n",
              "      <td>0.042689</td>\n",
              "      <td>0.046509</td>\n",
              "      <td>0.053786</td>\n",
              "      <td>0.050064</td>\n",
              "      <td>0.057697</td>\n",
              "      <td>0.047138</td>\n",
              "      <td>0.036866</td>\n",
              "      <td>0.011695</td>\n",
              "      <td>0.043081</td>\n",
              "      <td>0.016783</td>\n",
              "      <td>...</td>\n",
              "      <td>0.045045</td>\n",
              "      <td>0.097234</td>\n",
              "      <td>0.026117</td>\n",
              "      <td>0.030096</td>\n",
              "      <td>0.019940</td>\n",
              "      <td>0.045199</td>\n",
              "      <td>0.057976</td>\n",
              "      <td>0.029039</td>\n",
              "      <td>0.065868</td>\n",
              "      <td>0.100649</td>\n",
              "    </tr>\n",
              "    <tr>\n",
              "      <th>2019-01-07 00:00:00-05:00</th>\n",
              "      <td>-0.002226</td>\n",
              "      <td>0.001275</td>\n",
              "      <td>-0.002167</td>\n",
              "      <td>0.034353</td>\n",
              "      <td>0.054361</td>\n",
              "      <td>0.000725</td>\n",
              "      <td>0.000695</td>\n",
              "      <td>0.001920</td>\n",
              "      <td>0.018032</td>\n",
              "      <td>-0.006415</td>\n",
              "      <td>...</td>\n",
              "      <td>0.006757</td>\n",
              "      <td>0.059717</td>\n",
              "      <td>0.014334</td>\n",
              "      <td>0.005407</td>\n",
              "      <td>-0.013034</td>\n",
              "      <td>0.013483</td>\n",
              "      <td>0.030878</td>\n",
              "      <td>0.003685</td>\n",
              "      <td>0.028402</td>\n",
              "      <td>0.005408</td>\n",
              "    </tr>\n",
              "  </tbody>\n",
              "</table>\n",
              "<p>4 rows × 30 columns</p>\n",
              "</div>"
            ],
            "text/plain": [
              "                               AAPL      MSFT      GOOG      AMZN      TSLA  \\\n",
              "Date                                                                          \n",
              "2019-01-02 00:00:00-05:00       NaN       NaN       NaN       NaN       NaN   \n",
              "2019-01-03 00:00:00-05:00 -0.099607 -0.036788 -0.028484 -0.025241 -0.031472   \n",
              "2019-01-04 00:00:00-05:00  0.042689  0.046509  0.053786  0.050064  0.057697   \n",
              "2019-01-07 00:00:00-05:00 -0.002226  0.001275 -0.002167  0.034353  0.054361   \n",
              "\n",
              "                               META       JPM       UNH         V       JNJ  \\\n",
              "Date                                                                          \n",
              "2019-01-02 00:00:00-05:00       NaN       NaN       NaN       NaN       NaN   \n",
              "2019-01-03 00:00:00-05:00 -0.029039 -0.014212 -0.027270 -0.036037 -0.015890   \n",
              "2019-01-04 00:00:00-05:00  0.047138  0.036866  0.011695  0.043081  0.016783   \n",
              "2019-01-07 00:00:00-05:00  0.000725  0.000695  0.001920  0.018032 -0.006415   \n",
              "\n",
              "                           ...      CSCO      NFLX       NKE       LLY  \\\n",
              "Date                       ...                                           \n",
              "2019-01-02 00:00:00-05:00  ...       NaN       NaN       NaN       NaN   \n",
              "2019-01-03 00:00:00-05:00  ... -0.036368  0.013226 -0.017689 -0.031076   \n",
              "2019-01-04 00:00:00-05:00  ...  0.045045  0.097234  0.026117  0.030096   \n",
              "2019-01-07 00:00:00-05:00  ...  0.006757  0.059717  0.014334  0.005407   \n",
              "\n",
              "                                 KO       TMO       CRM      COST       AAL  \\\n",
              "Date                                                                          \n",
              "2019-01-02 00:00:00-05:00       NaN       NaN       NaN       NaN       NaN   \n",
              "2019-01-03 00:00:00-05:00 -0.006179 -0.033041 -0.037993 -0.021196 -0.074507   \n",
              "2019-01-04 00:00:00-05:00  0.019940  0.045199  0.057976  0.029039  0.065868   \n",
              "2019-01-07 00:00:00-05:00 -0.013034  0.013483  0.030878  0.003685  0.028402   \n",
              "\n",
              "                                  X  \n",
              "Date                                 \n",
              "2019-01-02 00:00:00-05:00       NaN  \n",
              "2019-01-03 00:00:00-05:00 -0.001621  \n",
              "2019-01-04 00:00:00-05:00  0.100649  \n",
              "2019-01-07 00:00:00-05:00  0.005408  \n",
              "\n",
              "[4 rows x 30 columns]"
            ]
          },
          "execution_count": 2,
          "metadata": {},
          "output_type": "execute_result"
        }
      ],
      "source": [
        "all_stocks = pd.DataFrame()\n",
        "symbols = [\n",
        "    \"AAPL\",\n",
        "    \"MSFT\",\n",
        "    \"GOOG\",\n",
        "    \"AMZN\",\n",
        "    \"TSLA\",\n",
        "    \"META\",\n",
        "    \"JPM\",\n",
        "    \"UNH\",\n",
        "    \"V\",\n",
        "    \"JNJ\",\n",
        "    \"HD\",\n",
        "    \"WMT\",\n",
        "    \"PG\",\n",
        "    \"BAC\",\n",
        "    \"MA\",\n",
        "    \"PFE\",\n",
        "    \"DIS\",\n",
        "    \"AVGO\",\n",
        "    \"XOM\",\n",
        "    \"ACM\",\n",
        "    \"CSCO\",\n",
        "    \"NFLX\",\n",
        "    \"NKE\",\n",
        "    \"LLY\",\n",
        "    \"KO\",\n",
        "    \"TMO\",\n",
        "    \"CRM\",\n",
        "    \"COST\",\n",
        "    \"AAL\",\n",
        "    \"X\",\n",
        "]\n",
        "for symbol in symbols:\n",
        "    data = pd.Series(\n",
        "        yf.Ticker(symbol).history(start=\"2019-01-01\", end=\"2021-08-08\")[\"Close\"],\n",
        "        name=symbol,\n",
        "    )\n",
        "    if symbol == symbols[0]:\n",
        "        all_stocks = pd.DataFrame(data)\n",
        "    else:\n",
        "        all_stocks[symbol] = data\n",
        "all_stocks = all_stocks.pct_change(1)\n",
        "all_stocks.head(4)"
      ]
    },
    {
      "cell_type": "markdown",
      "metadata": {},
      "source": [
        "# Snippet 4-1\n",
        "\n",
        "The first cell is calculating the correlation matrix for the symbols in the dataframe.\n",
        "What the first cell does is equivalent to computing correlation with the following code:\n",
        "```python\n",
        "correlation = all_stocks.corr()\n",
        "```\n",
        "The second cell is using the cluster_k_means_base function to cluster the symbols based on their rows in the correlation matrix."
      ]
    },
    {
      "cell_type": "code",
      "execution_count": 3,
      "metadata": {},
      "outputs": [],
      "source": [
        "covariance = all_stocks.cov()\n",
        "correlation = covariance_to_correlation(covariance)"
      ]
    },
    {
      "cell_type": "code",
      "execution_count": 4,
      "metadata": {},
      "outputs": [
        {
          "data": {
            "text/plain": [
              "{0: ['AAPL',\n",
              "  'MSFT',\n",
              "  'GOOG',\n",
              "  'META',\n",
              "  'JPM',\n",
              "  'UNH',\n",
              "  'V',\n",
              "  'JNJ',\n",
              "  'HD',\n",
              "  'WMT',\n",
              "  'PG',\n",
              "  'BAC',\n",
              "  'MA',\n",
              "  'PFE',\n",
              "  'DIS',\n",
              "  'AVGO',\n",
              "  'XOM',\n",
              "  'ACM',\n",
              "  'CSCO',\n",
              "  'NKE',\n",
              "  'LLY',\n",
              "  'KO',\n",
              "  'TMO',\n",
              "  'CRM',\n",
              "  'COST'],\n",
              " 1: ['AMZN', 'TSLA', 'NFLX', 'AAL', 'X']}"
            ]
          },
          "execution_count": 4,
          "metadata": {},
          "output_type": "execute_result"
        }
      ],
      "source": [
        "correlationNew, clusters, silhouette = cluster_k_means_base(correlation)\n",
        "clusters"
      ]
    },
    {
      "cell_type": "markdown",
      "metadata": {},
      "source": [
        "# Snippet 4-2\n",
        "\n",
        "The following function computes clustering using the cluster_k_means_base function and tries to recompute the clustering of clusters with an average silhouette score less than the overall average using the make_new_outputs function, which merges two disjoint clusters.\n",
        "\n",
        "If the result has a better overall silhouette score, it will be used as the new clustering; otherwise, the original clustering will be returned."
      ]
    },
    {
      "cell_type": "code",
      "execution_count": 5,
      "metadata": {},
      "outputs": [
        {
          "data": {
            "text/plain": [
              "{0: ['AAPL',\n",
              "  'MSFT',\n",
              "  'GOOG',\n",
              "  'AMZN',\n",
              "  'META',\n",
              "  'UNH',\n",
              "  'V',\n",
              "  'JNJ',\n",
              "  'HD',\n",
              "  'WMT',\n",
              "  'PG',\n",
              "  'MA',\n",
              "  'PFE',\n",
              "  'AVGO',\n",
              "  'CSCO',\n",
              "  'NFLX',\n",
              "  'NKE',\n",
              "  'LLY',\n",
              "  'KO',\n",
              "  'TMO',\n",
              "  'CRM',\n",
              "  'COST'],\n",
              " 1: ['TSLA', 'JPM', 'BAC', 'DIS', 'XOM', 'ACM', 'AAL', 'X']}"
            ]
          },
          "execution_count": 5,
          "metadata": {},
          "output_type": "execute_result"
        }
      ],
      "source": [
        "corr, clusters, silhouette = cluster_k_means_top(correlation, max_clusters=None, iterations=10)\n",
        "clusters"
      ]
    },
    {
      "cell_type": "markdown",
      "metadata": {},
      "source": [
        "# Snippet 4-3\n",
        "\n",
        "The first code block shows a heatmap of the random_block_covariance function's output, which is a covariance matrix.\n",
        "\n",
        "As you can see, it tries to partition the columns and generates the same random normal variables for each partition based on its size. Finally, it adds a random normal noise with the sigma scale to them.\n",
        "\n",
        "Finally, it combines these blocks diagonally and returns them as a covariance matrix.\n",
        "\n",
        "The second code block is showing a heatmap of the correlation matrix generated by random_block_correlation, which is combining two different covariance matrices generated by random_block_covariance and computing the correlation matrix."
      ]
    },
    {
      "cell_type": "code",
      "execution_count": 6,
      "metadata": {},
      "outputs": [
        {
          "data": {
            "text/plain": [
              "<Axes: >"
            ]
          },
          "execution_count": 6,
          "metadata": {},
          "output_type": "execute_result"
        },
        {
          "data": {
            "image/png": "[encoded data removed]",
            "text/plain": [
              "<Figure size 640x480 with 2 Axes>"
            ]
          },
          "metadata": {},
          "output_type": "display_data"
        }
      ],
      "source": [
        "random_block_covariance_matrix  = random_block_covariance(n_columns=10, n_blocks=3, block_size_min=2, sigma=0.5, random_state=None)\n",
        "\n",
        "sns.heatmap(random_block_covariance_matrix, cmap=\"viridis\")"
      ]
    },
    {
      "cell_type": "code",
      "execution_count": 7,
      "metadata": {},
      "outputs": [
        {
          "data": {
            "text/plain": [
              "<Axes: >"
            ]
          },
          "execution_count": 7,
          "metadata": {},
          "output_type": "execute_result"
        },
        {
          "data": {
            "image/png": "[encoded data removed]",
            "text/plain": [
              "<Figure size 640x480 with 2 Axes>"
            ]
          },
          "metadata": {},
          "output_type": "display_data"
        }
      ],
      "source": [
        "random_block_correlation_matrix = random_block_correlation(10, 4, random_state=None, block_size_min=2)\n",
        "\n",
        "sns.heatmap(random_block_correlation_matrix, cmap=\"viridis\")"
      ]
    }
  ],
  "metadata": {
    "colab": {
      "collapsed_sections": [],
      "name": "HRP.ipynb",
      "provenance": []
    },
    "kernelspec": {
      "display_name": "Python 3.9.7 ('base')",
      "language": "python",
      "name": "python3"
    },
    "language_info": {
      "codemirror_mode": {
        "name": "ipython",
        "version": 3
      },
      "file_extension": ".py",
      "mimetype": "text/x-python",
      "name": "python",
      "nbconvert_exporter": "python",
      "pygments_lexer": "ipython3",
      "version": "3.11.8"
    },
    "vscode": {
      "interpreter": {
        "hash": "c21a52766aa10df27869f3b88192d900d8e6970e79b7c5a99ed61723a79be36c"
      }
    }
  },
  "nbformat": 4,
  "nbformat_minor": 0
}
