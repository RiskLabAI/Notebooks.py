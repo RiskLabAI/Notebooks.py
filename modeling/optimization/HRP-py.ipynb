{
  "cells": [
    {
      "cell_type": "markdown",
      "metadata": {},
      "source": [
        "# Import"
      ]
    },
    {
      "cell_type": "code",
      "execution_count": 1,
      "metadata": {},
      "outputs": [],
      "source": [
        "import matplotlib.pyplot as mpl\n",
        "import scipy.cluster.hierarchy as sch,random,numpy as np,pandas as pd\n",
        "\n",
        "import yfinance as yf\n",
        "import pandas as pd\n",
        "import numpy as np"
      ]
    },
    {
      "cell_type": "markdown",
      "metadata": {},
      "source": [
        "# Import py file"
      ]
    },
    {
      "cell_type": "code",
      "execution_count": 2,
      "metadata": {},
      "outputs": [],
      "source": [
        "from HRP import*"
      ]
    },
    {
      "cell_type": "markdown",
      "metadata": {},
      "source": [
        "# Data"
      ]
    },
    {
      "cell_type": "code",
      "execution_count": 3,
      "metadata": {},
      "outputs": [],
      "source": [
        "allCrypto = pd.DataFrame()\n",
        "listCrypto= ['BTC-USD', 'ETH-USD', 'LTC-USD', 'BNB-USD', 'ADA-USD', 'XRP-USD', 'DOGE-USD']\n",
        "for symb in listCrypto:\n",
        "    data = pd.DataFrame(yf.Ticker(symb).history(start = \"2019-01-01\", end = \"2021-08-08\")['Close']).transpose()\n",
        "    # data.save_batch_run(symb + '.csv')\n",
        "    if symb == 'BTC-USD':\n",
        "      allCrypto = data.copy()\n",
        "    else:\n",
        "      allCrypto=allCrypto.append(data)\n",
        "allCrypto.index = [listCrypto]\n",
        "allCrypto = allCrypto.transpose()\n",
        "allCrypto = allCrypto.pct_change(1)"
      ]
    },
    {
      "cell_type": "code",
      "execution_count": 4,
      "metadata": {},
      "outputs": [],
      "source": [
        "cov, corr = allCrypto.cov(), allCrypto.corr()\n",
        "#2) compute and plot correl matrix\n",
        "plotCorrMatrix('HRP3_corr0.png', corr, labels = corr.columns)"
      ]
    },
    {
      "cell_type": "code",
      "execution_count": 5,
      "metadata": {},
      "outputs": [
        {
          "name": "stderr",
          "output_type": "stream",
          "text": [
            "C:\\Users\\RR\\AppData\\Local\\Temp/ipykernel_11548/1181927211.py:3: ClusterWarning: scipy.cluster: The symmetric non-negative hollow observation matrix looks suspiciously like an uncondensed distance matrix\n",
            "  link = sch.linkage(distance, 'single')\n"
          ]
        },
        {
          "name": "stdout",
          "output_type": "stream",
          "text": [
            "(DOGE-USD,)     5.077327\n",
            "(XRP-USD,)     17.017705\n",
            "(BNB-USD,)     18.785604\n",
            "(ADA-USD,)     10.691216\n",
            "(BTC-USD,)     24.347801\n",
            "(ETH-USD,)     12.942240\n",
            "(LTC-USD,)     11.138106\n",
            "dtype: float64\n"
          ]
        },
        {
          "data": {
            "image/png": "[encoded data removed]",
            "text/plain": [
              "<Figure size 432x288 with 1 Axes>"
            ]
          },
          "metadata": {
            "needs_background": "light"
          },
          "output_type": "display_data"
        }
      ],
      "source": [
        "#3) cluster\n",
        "distance = distanceCorr(corr)\n",
        "link = sch.linkage(distance, 'single')\n",
        "sortIx = quasiDiagonal(link)\n",
        "sortIx = corr.index[sortIx].tolist() # recover labels\n",
        "dataframe = corr.loc[sortIx, sortIx] # reorder\n",
        "plotCorrMatrix('HRP3_corr1.png', dataframe, labels = dataframe.columns)\n",
        "#4) Capital allocation\n",
        "hrp = recursiveBisection(cov, sortIx)\n",
        "print(hrp*100)\n",
        "def llf(id):\n",
        "    for i in range(10):\n",
        "      if i == id:\n",
        "        return listCrypto[i]\n",
        "sch.dendrogram(link,leaf_label_func=llf, leaf_rotation=90 )\n",
        "mpl.show()"
      ]
    },
    {
      "cell_type": "markdown",
      "metadata": {},
      "source": [
        "# Next part"
      ]
    },
    {
      "cell_type": "code",
      "execution_count": 7,
      "metadata": {},
      "outputs": [
        {
          "name": "stderr",
          "output_type": "stream",
          "text": [
            "C:\\Users\\RR\\AppData\\Local\\Temp/ipykernel_11548/463294610.py:10: ClusterWarning: scipy.cluster: The symmetric non-negative hollow observation matrix looks suspiciously like an uncondensed distance matrix\n",
            "  link = sch.linkage(dist, 'single')\n"
          ]
        },
        {
          "name": "stdout",
          "output_type": "stream",
          "text": [
            "8     0.071408\n",
            "3     0.075961\n",
            "9     0.125317\n",
            "2     0.067596\n",
            "10    0.063236\n",
            "1     0.109945\n",
            "7     0.103968\n",
            "5     0.193357\n",
            "4     0.097549\n",
            "6     0.091662\n",
            "dtype: float64\n"
          ]
        }
      ],
      "source": [
        "#1) Generate correlated data\n",
        "numberObs, size0, size1, sigma1 = 10000, 5, 5, .25\n",
        "data, cols = randomData(numberObs, size0, size1, sigma1)\n",
        "#print [(j+1,size0+i) for i,j in enumerate(cols,1)]\n",
        "cov, corr = data.cov(), data.corr()\n",
        "#2) compute and plot correl matrix\n",
        "plotCorrMatrix('HRP3_corr0.png', corr, labels = corr.columns)\n",
        "#3) cluster\n",
        "dist = distanceCorr(corr)\n",
        "link = sch.linkage(dist, 'single')\n",
        "sortIx = quasiDiagonal(link)\n",
        "sortIx = corr.index[sortIx].tolist() # recover labels\n",
        "dataframe = corr.loc[sortIx, sortIx] # reorder\n",
        "plotCorrMatrix('HRP3_corr1.png', dataframe, labels = dataframe.columns)\n",
        "#4) Capital allocation\n",
        "hrp = recursiveBisection(cov,sortIx)\n",
        "print(hrp)"
      ]
    },
    {
      "cell_type": "markdown",
      "metadata": {},
      "source": [
        "# MC simulation"
      ]
    },
    {
      "cell_type": "code",
      "execution_count": 12,
      "metadata": {},
      "outputs": [
        {
          "name": "stdout",
          "output_type": "stream",
          "text": [
            "            0         1         2\n",
            "IVP  0.334678  0.112009  0.590959\n",
            "HRP  0.265337  0.070404  0.000000\n"
          ]
        }
      ],
      "source": [
        "hrpMC(numberIters = 10, numberObservations = 520, size0 = 5, size1 = 5, mu0 = 0, sigma0 = 1e-2, sigma1 = .25, lengthSample = 260,testSize = 20)"
      ]
    },
    {
      "cell_type": "code",
      "execution_count": null,
      "metadata": {},
      "outputs": [],
      "source": []
    }
  ],
  "metadata": {
    "colab": {
      "collapsed_sections": [],
      "name": "HRP.ipynb",
      "provenance": []
    },
    "kernelspec": {
      "display_name": "Python 3.9.7 ('base')",
      "language": "python",
      "name": "python3"
    },
    "language_info": {
      "codemirror_mode": {
        "name": "ipython",
        "version": 3
      },
      "file_extension": ".py",
      "mimetype": "text/x-python",
      "name": "python",
      "nbconvert_exporter": "python",
      "pygments_lexer": "ipython3",
      "version": "3.9.7"
    },
    "vscode": {
      "interpreter": {
        "hash": "c21a52766aa10df27869f3b88192d900d8e6970e79b7c5a99ed61723a79be36c"
      }
    }
  },
  "nbformat": 4,
  "nbformat_minor": 0
}
