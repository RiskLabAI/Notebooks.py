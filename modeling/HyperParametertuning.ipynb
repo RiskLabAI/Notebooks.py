{
 "cells": [
  {
   "cell_type": "markdown",
   "source": [
    "# Hyperparameter Tuning\n",
    "## Imports"
   ],
   "metadata": {
    "collapsed": false
   }
  },
  {
   "cell_type": "code",
   "source": [
    "import yfinance as yf\n",
    "from sklearn import svm\n",
    "import warnings\n",
    "\n",
    "warnings.filterwarnings(\"ignore\")"
   ],
   "metadata": {
    "collapsed": false,
    "ExecuteTime": {
     "end_time": "2024-05-12T13:19:53.449196Z",
     "start_time": "2024-05-12T13:19:52.523854Z"
    }
   },
   "outputs": [],
   "execution_count": 1
  },
  {
   "cell_type": "code",
   "metadata": {
    "ExecuteTime": {
     "end_time": "2024-05-12T13:19:56.220345Z",
     "start_time": "2024-05-12T13:19:53.449196Z"
    }
   },
   "source": [
    "from RiskLabAI.optimization.hyper_parameter_tuning import *"
   ],
   "outputs": [],
   "execution_count": 2
  },
  {
   "metadata": {},
   "cell_type": "markdown",
   "source": "## Data"
  },
  {
   "cell_type": "code",
   "metadata": {
    "ExecuteTime": {
     "end_time": "2024-05-12T13:19:59.498910Z",
     "start_time": "2024-05-12T13:19:56.222944Z"
    }
   },
   "source": [
    "btc = yf.Ticker('BTC-USD').history(start='2021-02-01', end='2021-04-01')['Close']\n",
    "btc_df = pd.DataFrame(btc)\n",
    "btc_df['Expected 55'] = btc.ewm(span=55, adjust=False).mean()\n",
    "btc_df['Expected 15'] = btc.ewm(span=15, adjust=False).mean()\n",
    "btc_df['Target'] = -btc.diff(-1).apply(np.sign).replace(0, -1)\n",
    "btc_df = btc_df.dropna()\n",
    "\n",
    "btc_df.index = btc_df.index.tz_convert(None)\n",
    "btc_df = btc_df.tz_localize(None)\n",
    "btc= btc_df['Close']"
   ],
   "outputs": [],
   "execution_count": 3
  },
  {
   "cell_type": "code",
   "metadata": {
    "ExecuteTime": {
     "end_time": "2024-05-12T13:19:59.503843Z",
     "start_time": "2024-05-12T13:19:59.498910Z"
    }
   },
   "source": [
    "target_positions = btc_df['Target']\n",
    "data = btc_df[['Close', 'Expected 55', 'Expected 15']]\n",
    "times = pd.Series(btc.index.to_series().shift(-1).ffill(), index=btc.index)"
   ],
   "outputs": [],
   "execution_count": 4
  },
  {
   "metadata": {},
   "cell_type": "markdown",
   "source": "## Setting up the tuning parameters"
  },
  {
   "cell_type": "code",
   "metadata": {
    "ExecuteTime": {
     "end_time": "2024-05-12T13:19:59.512365Z",
     "start_time": "2024-05-12T13:19:59.503843Z"
    }
   },
   "source": [
    "parameters = {'kernel':('linear', 'rbf'), 'C':[1, 10]}\n",
    "svc = svm.SVC()"
   ],
   "outputs": [],
   "execution_count": 5
  },
  {
   "metadata": {},
   "cell_type": "markdown",
   "source": [
    "## Running the hyperparameter tuning\n",
    "In this step, using Purged K-Fold as CV, we will run the hyperparameter tuning on the data and print the best parameters."
   ]
  },
  {
   "cell_type": "code",
   "metadata": {
    "ExecuteTime": {
     "end_time": "2024-05-12T13:20:01.928954Z",
     "start_time": "2024-05-12T13:19:59.513403Z"
    }
   },
   "source": [
    "data = pd.DataFrame(data, index=times.index)\n",
    "target_positions = pd.Series(target_positions, index=times.index)\n",
    "print(clf_hyper_fit(data, target_positions, times, svc, parameters))"
   ],
   "outputs": [
    {
     "name": "stdout",
     "output_type": "stream",
     "text": [
      "SVC(C=1, kernel='linear')\n"
     ]
    }
   ],
   "execution_count": 6
  },
  {
   "cell_type": "code",
   "source": "",
   "metadata": {
    "collapsed": false
   },
   "outputs": [],
   "execution_count": null
  }
 ],
 "metadata": {
  "kernelspec": {
   "display_name": "Python 3.10.2 64-bit",
   "language": "python",
   "name": "python3"
  },
  "language_info": {
   "codemirror_mode": {
    "name": "ipython",
    "version": 3
   },
   "file_extension": ".py",
   "mimetype": "text/x-python",
   "name": "python",
   "nbconvert_exporter": "python",
   "pygments_lexer": "ipython3",
   "version": "3.10.2"
  },
  "orig_nbformat": 4,
  "vscode": {
   "interpreter": {
    "hash": "2d817fdef73540654b52e1392c7a5527d46da4eac411b9251d28efbe4d454d6d"
   }
  }
 },
 "nbformat": 4,
 "nbformat_minor": 2
}
